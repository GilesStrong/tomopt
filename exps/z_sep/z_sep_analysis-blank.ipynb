{
 "cells": [
  {
   "cell_type": "code",
   "execution_count": null,
   "id": "d1a9b74b",
   "metadata": {},
   "outputs": [],
   "source": [
    "%matplotlib inline\n",
    "%reload_ext autoreload\n",
    "%autoreload 2"
   ]
  },
  {
   "cell_type": "code",
   "execution_count": null,
   "id": "6700aa97",
   "metadata": {},
   "outputs": [],
   "source": [
    "from typing import *\n",
    "import numpy as np\n",
    "from functools import partial\n",
    "from fastprogress import progress_bar\n",
    "import pandas as pd\n",
    "import h5py\n",
    "\n",
    "from lumin.plotting.results import plot_roc\n",
    "\n",
    "import torch\n",
    "from torch import Tensor, nn\n",
    "import torch.nn.functional as F\n",
    "from torch._vmap_internals import _vmap as vmap\n",
    "\n",
    "from tomopt.volume import *\n",
    "from tomopt.muon import *\n",
    "from tomopt.inference import *\n",
    "from tomopt.optimisation import *\n",
    "from tomopt.core import *\n",
    "from tomopt.utils import *\n",
    "from tomopt.plotting import *\n",
    "\n",
    "import seaborn as sns\n",
    "import matplotlib.pyplot as plt"
   ]
  },
  {
   "cell_type": "code",
   "execution_count": null,
   "id": "d2bbcb5f",
   "metadata": {},
   "outputs": [],
   "source": [
    "df = pd.read_csv('z_sep_data.csv')"
   ]
  },
  {
   "cell_type": "code",
   "execution_count": null,
   "id": "e46959e3",
   "metadata": {},
   "outputs": [],
   "source": [
    "df"
   ]
  },
  {
   "cell_type": "code",
   "execution_count": null,
   "id": "82f9b120",
   "metadata": {},
   "outputs": [],
   "source": [
    "from skopt.space import Real, Integer, Categorical\n",
    "from skopt.utils import use_named_args\n",
    "from skopt import gp_minimize, Optimizer\n",
    "from skopt.plots import plot_evaluations, plot_objective"
   ]
  },
  {
   "cell_type": "code",
   "execution_count": null,
   "id": "31a6bd1b",
   "metadata": {},
   "outputs": [],
   "source": [
    "det_pars = [f for f in df.columns if 'z' in f]"
   ]
  },
  {
   "cell_type": "code",
   "execution_count": null,
   "id": "35f095d9",
   "metadata": {},
   "outputs": [],
   "source": [
    "space  = [Real(df[f].min(), df[f].max(), name=f) for f in det_pars]"
   ]
  },
  {
   "cell_type": "code",
   "execution_count": null,
   "id": "76f4e27c",
   "metadata": {},
   "outputs": [],
   "source": [
    "opt = gp_minimize(lambda x: 0, space, n_random_starts=0, x0=df[det_pars].values.tolist(), y0=-df.auc, n_calls=0, verbose=1, random_state=0);"
   ]
  },
  {
   "cell_type": "code",
   "execution_count": null,
   "id": "2d09f907",
   "metadata": {},
   "outputs": [],
   "source": [
    "_ = plot_evaluations(opt, dimensions=det_pars)"
   ]
  },
  {
   "cell_type": "code",
   "execution_count": null,
   "id": "1eab7f8c",
   "metadata": {},
   "outputs": [],
   "source": [
    "_ = plot_objective(opt, dimensions=det_pars)"
   ]
  },
  {
   "cell_type": "markdown",
   "id": "a19c9b60",
   "metadata": {},
   "source": [
    "## Extra feats"
   ]
  },
  {
   "cell_type": "code",
   "execution_count": null,
   "id": "15f1a807",
   "metadata": {},
   "outputs": [],
   "source": [
    "above_z = [f for f in det_pars if 'az' in f]\n",
    "below_z = [f for f in det_pars if 'bz' in f]"
   ]
  },
  {
   "cell_type": "code",
   "execution_count": null,
   "id": "c63fb06f",
   "metadata": {},
   "outputs": [],
   "source": [
    "df['mean_z_above'] = np.mean(df[above_z].values, axis=-1)\n",
    "df['mean_z_below'] = np.mean(df[below_z].values, axis=-1)"
   ]
  },
  {
   "cell_type": "code",
   "execution_count": null,
   "id": "bf6778e9",
   "metadata": {},
   "outputs": [],
   "source": [
    "df['std_z_above'] = np.std(df[above_z].values, axis=-1)\n",
    "df['std_z_below'] = np.std(df[below_z].values, axis=-1)"
   ]
  },
  {
   "cell_type": "code",
   "execution_count": null,
   "id": "566efb91",
   "metadata": {},
   "outputs": [],
   "source": [
    "df['central_seperation'] = df.mean_z_above-df.mean_z_below\n",
    "df['max_seperation'] = df.az0-df.bz3"
   ]
  },
  {
   "cell_type": "code",
   "execution_count": null,
   "id": "c3d8d894",
   "metadata": {},
   "outputs": [],
   "source": [
    "df['z_width_above'] = df.az0-df.az3\n",
    "df['z_width_below'] = df.bz0-df.bz3"
   ]
  },
  {
   "cell_type": "code",
   "execution_count": null,
   "id": "9fb52013",
   "metadata": {},
   "outputs": [],
   "source": [
    "df['az01_sep'] = df.az0-df.az1\n",
    "df['az12_sep'] = df.az1-df.az2\n",
    "df['az23_sep'] = df.az2-df.az3"
   ]
  },
  {
   "cell_type": "code",
   "execution_count": null,
   "id": "579f0aa6",
   "metadata": {},
   "outputs": [],
   "source": [
    "df['bz01_sep'] = df.bz0-df.bz1\n",
    "df['bz12_sep'] = df.bz1-df.bz2\n",
    "df['bz23_sep'] = df.bz2-df.bz3"
   ]
  },
  {
   "cell_type": "code",
   "execution_count": null,
   "id": "27544c1c",
   "metadata": {},
   "outputs": [],
   "source": [
    "df['az01_az23_centre_sep'] = np.mean(df[['az0', 'az1']].values, axis=-1)-np.mean(df[['az2', 'az3']].values, axis=-1)\n",
    "df['bz01_bz23_centre_sep'] = np.mean(df[['bz0', 'bz1']].values, axis=-1)-np.mean(df[['bz2', 'bz3']].values, axis=-1)"
   ]
  },
  {
   "cell_type": "code",
   "execution_count": null,
   "id": "4fe6164f",
   "metadata": {},
   "outputs": [],
   "source": [
    "df"
   ]
  },
  {
   "cell_type": "code",
   "execution_count": null,
   "id": "a98bb294",
   "metadata": {},
   "outputs": [],
   "source": [
    "extra_feats = [f for f in df.columns if f not in ['auc', 'unc']+det_pars]"
   ]
  },
  {
   "cell_type": "code",
   "execution_count": null,
   "id": "f92341f5",
   "metadata": {
    "scrolled": false
   },
   "outputs": [],
   "source": [
    "for f in extra_feats:\n",
    "    plt.scatter(df[f], df.auc, alpha=0.5)\n",
    "    plt.xlabel(f)\n",
    "    plt.ylabel('ROC AUC')\n",
    "    plt.show()"
   ]
  },
  {
   "cell_type": "code",
   "execution_count": null,
   "id": "19df5a49",
   "metadata": {},
   "outputs": [],
   "source": [
    "check_feats = ['az01_az23_centre_sep', 'z_width_above', 'std_z_above']"
   ]
  },
  {
   "cell_type": "code",
   "execution_count": null,
   "id": "1efb84ee",
   "metadata": {},
   "outputs": [],
   "source": [
    "check_opt = gp_minimize(lambda x: 0, [Real(df[f].min(), df[f].max(), name=f) for f in extra_feats], n_random_starts=0, x0=df[extra_feats].values.tolist(), y0=-df.auc, n_calls=0, verbose=1, random_state=0);"
   ]
  },
  {
   "cell_type": "code",
   "execution_count": null,
   "id": "4f5f23fd",
   "metadata": {
    "scrolled": false
   },
   "outputs": [],
   "source": [
    "_ = plot_evaluations(check_opt, dimensions=extra_feats)"
   ]
  },
  {
   "cell_type": "code",
   "execution_count": null,
   "id": "9fa1cf45",
   "metadata": {
    "scrolled": false
   },
   "outputs": [],
   "source": [
    "_ = plot_objective(check_opt, dimensions=extra_feats)"
   ]
  },
  {
   "cell_type": "markdown",
   "id": "ccbcf094",
   "metadata": {},
   "source": [
    "## RF on det pars"
   ]
  },
  {
   "cell_type": "code",
   "execution_count": null,
   "id": "2b36d68a",
   "metadata": {},
   "outputs": [],
   "source": [
    "from sklearn.model_selection import train_test_split\n",
    "\n",
    "trn_idxs, val_idxs = train_test_split(df.index, test_size=0.2, random_state=1111)\n",
    "len(df.loc[trn_idxs]), len(df.loc[val_idxs])"
   ]
  },
  {
   "cell_type": "code",
   "execution_count": null,
   "id": "f5e5e605",
   "metadata": {},
   "outputs": [],
   "source": [
    "from lumin.optimisation.hyper_param import get_opt_rf_params\n",
    "from collections import OrderedDict\n",
    "\n",
    "rf_params, rf = get_opt_rf_params(x_trn=df[det_pars], y_trn=df['auc'],\n",
    "                                 x_val=df[det_pars], y_val=df['auc'],\n",
    "                                 objective='regression',\n",
    "                                 n_estimators=100, verbose=False,\n",
    "                                 params=OrderedDict({'min_samples_leaf': [2,4,8,16,32],\n",
    "                                                     'max_features': [0.3,0.5,0.7,0.9]}))"
   ]
  },
  {
   "cell_type": "code",
   "execution_count": null,
   "id": "121f675e",
   "metadata": {},
   "outputs": [],
   "source": [
    "rf"
   ]
  },
  {
   "cell_type": "code",
   "execution_count": null,
   "id": "73c53048",
   "metadata": {},
   "outputs": [],
   "source": [
    "from lumin.plotting.interpretation import plot_1d_partial_dependence, plot_2d_partial_dependence"
   ]
  },
  {
   "cell_type": "code",
   "execution_count": null,
   "id": "5752247a",
   "metadata": {
    "scrolled": false
   },
   "outputs": [],
   "source": [
    "for f in det_pars:\n",
    "    plot_1d_partial_dependence(rf, df=df, feat=f, train_feats=det_pars, pdp_isolate_kargs={'percentile_range':(1,99)}, y_lim=(df.auc.min(), df.auc.max()))"
   ]
  },
  {
   "cell_type": "markdown",
   "id": "147a0bdb",
   "metadata": {},
   "source": [
    "## RF on extra feats"
   ]
  },
  {
   "cell_type": "code",
   "execution_count": null,
   "id": "d759c6f8",
   "metadata": {},
   "outputs": [],
   "source": [
    "from lumin.optimisation.hyper_param import get_opt_rf_params\n",
    "from collections import OrderedDict\n",
    "\n",
    "rf_params, rf = get_opt_rf_params(x_trn=df[extra_feats], y_trn=df['auc'],\n",
    "                                 x_val=df[extra_feats], y_val=df['auc'],\n",
    "                                 objective='regression',\n",
    "                                 n_estimators=100, verbose=False,\n",
    "                                 params=OrderedDict({'min_samples_leaf': [2,4,8,16,32],\n",
    "                                                     'max_features': [0.3,0.5,0.7,0.9]}))"
   ]
  },
  {
   "cell_type": "code",
   "execution_count": null,
   "id": "aa22133c",
   "metadata": {},
   "outputs": [],
   "source": [
    "rf"
   ]
  },
  {
   "cell_type": "code",
   "execution_count": null,
   "id": "1d66c9a0",
   "metadata": {},
   "outputs": [],
   "source": [
    "from lumin.plotting.interpretation import plot_1d_partial_dependence, plot_2d_partial_dependence"
   ]
  },
  {
   "cell_type": "code",
   "execution_count": null,
   "id": "5fd5cf26",
   "metadata": {
    "scrolled": false
   },
   "outputs": [],
   "source": [
    "for f in extra_feats:\n",
    "    plot_1d_partial_dependence(rf, df=df, feat=f, train_feats=extra_feats, pdp_isolate_kargs={'percentile_range':(1,99)}, y_lim=(df.auc.min(), df.auc.max()))"
   ]
  },
  {
   "cell_type": "markdown",
   "id": "b4f24c8b",
   "metadata": {},
   "source": [
    "## RF on selected feats"
   ]
  },
  {
   "cell_type": "code",
   "execution_count": null,
   "id": "c11bc4d2",
   "metadata": {},
   "outputs": [],
   "source": [
    "all_feats = det_pars+extra_feats"
   ]
  },
  {
   "cell_type": "code",
   "execution_count": null,
   "id": "8cfa4a8d",
   "metadata": {},
   "outputs": [],
   "source": [
    "from lumin.optimisation.hyper_param import get_opt_rf_params\n",
    "from collections import OrderedDict\n",
    "\n",
    "rf_params, rf = get_opt_rf_params(x_trn=df[all_feats], y_trn=df['auc'],\n",
    "                                 x_val=df[all_feats], y_val=df['auc'],\n",
    "                                 objective='regression',\n",
    "                                 n_estimators=100, verbose=False,\n",
    "                                 params=OrderedDict({'min_samples_leaf': [2,4,8,16,32],\n",
    "                                                     'max_features': [0.3,0.5,0.7,0.9]}))"
   ]
  },
  {
   "cell_type": "code",
   "execution_count": null,
   "id": "11a2dae9",
   "metadata": {},
   "outputs": [],
   "source": [
    "rf"
   ]
  },
  {
   "cell_type": "code",
   "execution_count": null,
   "id": "a0d81ea4",
   "metadata": {
    "scrolled": false
   },
   "outputs": [],
   "source": [
    "from lumin.optimisation.features import auto_filter_on_linear_correlation\n",
    "\n",
    "filtered_feats = auto_filter_on_linear_correlation(train_df=df, val_df=df,\n",
    "                                                   check_feats=all_feats, n_rfs=5,\n",
    "                                                   corr_threshold=0.8, rf_params=rf_params, optimise_rf=False,\n",
    "                                                   objective='regression', targ_name='auc')"
   ]
  },
  {
   "cell_type": "code",
   "execution_count": null,
   "id": "633d0b53",
   "metadata": {},
   "outputs": [],
   "source": [
    "from lumin.optimisation.features import rf_rank_features\n",
    "\n",
    "_ = rf_rank_features(train_df=df, val_df=df, objective='regression',\n",
    "                     train_feats=filtered_feats, targ_name='auc',\n",
    "                     importance_cut=0.001,\n",
    "                     rf_params=OrderedDict({'min_samples_leaf': [2,4,8,16,32],\n",
    "                                            'max_features': [0.3,0.5,0.7,0.9]}), n_rfs=5, optimise_rf=True)"
   ]
  },
  {
   "cell_type": "code",
   "execution_count": null,
   "id": "fecebaf3",
   "metadata": {
    "scrolled": false
   },
   "outputs": [],
   "source": [
    "from lumin.optimisation.features import repeated_rf_rank_features\n",
    "\n",
    "import_feats, fi = repeated_rf_rank_features(train_df=df, val_df=df, targ_name='auc',\n",
    "                                             n_reps=10, min_frac_import=0.3,\n",
    "                                             rf_params=OrderedDict({'min_samples_leaf': [2,4,8,16,32],\n",
    "                                                                    'max_features': [0.3,0.5,0.7,0.9]}),\n",
    "                                             objective='regression', resample_val=True,\n",
    "                                             train_feats=filtered_feats, importance_cut=0.001,\n",
    "                                             n_rfs=5, n_threads=5)"
   ]
  },
  {
   "cell_type": "code",
   "execution_count": null,
   "id": "3efd438c",
   "metadata": {},
   "outputs": [],
   "source": [
    "rf_params, rf = get_opt_rf_params(x_trn=df[import_feats], y_trn=df['auc'],\n",
    "                                 x_val=df[import_feats], y_val=df['auc'],\n",
    "                                 objective='regression',\n",
    "                                 n_estimators=100, verbose=False,\n",
    "                                 params=OrderedDict({'min_samples_leaf': [2,4,8,16,32],\n",
    "                                                     'max_features': [0.3,0.5,0.7,0.9]}))"
   ]
  },
  {
   "cell_type": "code",
   "execution_count": null,
   "id": "ac093f6a",
   "metadata": {
    "scrolled": false
   },
   "outputs": [],
   "source": [
    "from lumin.optimisation.features import auto_filter_on_mutual_dependence\n",
    "\n",
    "filtered_feats = auto_filter_on_mutual_dependence(train_df=df, val_df=df,\n",
    "                                                  check_feats=import_feats,\n",
    "                                                  objective='regression', targ_name='auc',\n",
    "                                                  rf_params=rf_params,\n",
    "                                                  optimise_rf=False)"
   ]
  },
  {
   "cell_type": "code",
   "execution_count": null,
   "id": "dd051e3d",
   "metadata": {},
   "outputs": [],
   "source": [
    "rf_params, rf = get_opt_rf_params(x_trn=df[filtered_feats], y_trn=df['auc'],\n",
    "                                 x_val=df[filtered_feats], y_val=df['auc'],\n",
    "                                 objective='regression',\n",
    "                                 n_estimators=100, verbose=False,\n",
    "                                 params=OrderedDict({'min_samples_leaf': [2,4,8,16,32],\n",
    "                                                     'max_features': [0.3,0.5,0.7,0.9]}))"
   ]
  },
  {
   "cell_type": "code",
   "execution_count": null,
   "id": "60ebd92f",
   "metadata": {},
   "outputs": [],
   "source": [
    "from lumin.plotting.interpretation import plot_1d_partial_dependence, plot_2d_partial_dependence"
   ]
  },
  {
   "cell_type": "code",
   "execution_count": null,
   "id": "dd858dae",
   "metadata": {
    "scrolled": false
   },
   "outputs": [],
   "source": [
    "for f in filtered_feats:\n",
    "    plot_1d_partial_dependence(rf, df=df, feat=f, train_feats=filtered_feats, pdp_isolate_kargs={'percentile_range':(1,99)}, y_lim=(df.auc.min(), df.auc.max()))"
   ]
  },
  {
   "cell_type": "code",
   "execution_count": null,
   "id": "eaf7f31d",
   "metadata": {},
   "outputs": [],
   "source": []
  }
 ],
 "metadata": {
  "kernelspec": {
   "display_name": "Python [conda env:tomopt]",
   "language": "python",
   "name": "conda-env-tomopt-py"
  },
  "language_info": {
   "codemirror_mode": {
    "name": "ipython",
    "version": 3
   },
   "file_extension": ".py",
   "mimetype": "text/x-python",
   "name": "python",
   "nbconvert_exporter": "python",
   "pygments_lexer": "ipython3",
   "version": "3.8.0"
  },
  "toc": {
   "base_numbering": 1,
   "nav_menu": {},
   "number_sections": true,
   "sideBar": true,
   "skip_h1_title": false,
   "title_cell": "Table of Contents",
   "title_sidebar": "Contents",
   "toc_cell": false,
   "toc_position": {},
   "toc_section_display": true,
   "toc_window_display": false
  }
 },
 "nbformat": 4,
 "nbformat_minor": 5
}
