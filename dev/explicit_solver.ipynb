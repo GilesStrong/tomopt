{
 "cells": [
  {
   "cell_type": "code",
   "execution_count": 34,
   "metadata": {},
   "outputs": [],
   "source": [
    "import torch\n",
    "from torch import Tensor"
   ]
  },
  {
   "cell_type": "code",
   "execution_count": 35,
   "metadata": {},
   "outputs": [],
   "source": [
    "from tomopt.utils import jacobian"
   ]
  },
  {
   "cell_type": "markdown",
   "metadata": {},
   "source": [
    "# 1"
   ]
  },
  {
   "cell_type": "code",
   "execution_count": null,
   "metadata": {},
   "outputs": [],
   "source": [
    "20 = 10*x + 3*y\n",
    "3  = -2*x + 7*y\n",
    "\n",
    "c = a*x + b*y\n",
    "f = d*x + e*y\n",
    "\n",
    "x = (c - b*y)/a\n",
    "y = (a*f - d*c)/(a*e-d*b)"
   ]
  },
  {
   "cell_type": "code",
   "execution_count": 36,
   "metadata": {},
   "outputs": [],
   "source": [
    "v1 = torch.tensor([[ 0.3000]], requires_grad=True).expand(100,-1).clone()\n",
    "p1 = torch.tensor([[-9.5367e-07]], requires_grad=True).expand(100,-1).clone()\n",
    "p2 = torch.tensor([[0.1000]], requires_grad=True).expand(100,-1).clone()\n",
    "rhs = p2-p1"
   ]
  },
  {
   "cell_type": "code",
   "execution_count": 37,
   "metadata": {},
   "outputs": [
    {
     "name": "stdout",
     "output_type": "stream",
     "text": [
      "30.2 µs ± 454 ns per loop (mean ± std. dev. of 7 runs, 10000 loops each)\n"
     ]
    }
   ],
   "source": [
    "%%timeit\n",
    "lhs = torch.stack([v1], dim=1).transpose(2, 1)\n",
    "coefs = torch.linalg.solve(lhs, rhs)"
   ]
  },
  {
   "cell_type": "code",
   "execution_count": 38,
   "metadata": {},
   "outputs": [
    {
     "name": "stdout",
     "output_type": "stream",
     "text": [
      "285 ms ± 7.21 ms per loop (mean ± std. dev. of 7 runs, 10 loops each)\n"
     ]
    }
   ],
   "source": [
    "%%timeit\n",
    "lhs = torch.stack([v1], dim=1).transpose(2, 1)\n",
    "coefs = torch.linalg.solve(lhs, rhs)\n",
    "grad = jacobian(coefs, p1)"
   ]
  },
  {
   "cell_type": "code",
   "execution_count": 44,
   "metadata": {},
   "outputs": [
    {
     "name": "stdout",
     "output_type": "stream",
     "text": [
      "12.7 µs ± 23.6 ns per loop (mean ± std. dev. of 7 runs, 100000 loops each)\n"
     ]
    }
   ],
   "source": [
    "%%timeit\n",
    "dpx = rhs[:,0]\n",
    "v1x = v1[:,0]\n",
    "t1 = dpx/v1x"
   ]
  },
  {
   "cell_type": "code",
   "execution_count": 39,
   "metadata": {},
   "outputs": [
    {
     "name": "stdout",
     "output_type": "stream",
     "text": [
      "273 µs ± 1.12 µs per loop (mean ± std. dev. of 7 runs, 1000 loops each)\n"
     ]
    }
   ],
   "source": [
    "%%timeit\n",
    "dpx = rhs[:,0]\n",
    "v1x = v1[:,0]\n",
    "t1 = dpx/v1x\n",
    "grad = jacobian(t1, p1)"
   ]
  },
  {
   "cell_type": "code",
   "execution_count": 47,
   "metadata": {},
   "outputs": [
    {
     "name": "stdout",
     "output_type": "stream",
     "text": [
      "2.61 ms ± 447 µs per loop (mean ± std. dev. of 7 runs, 1000 loops each)\n"
     ]
    }
   ],
   "source": [
    "%%timeit\n",
    "lhs = torch.stack([v1], dim=1).transpose(2, 1)\n",
    "coefs = (lhs.inverse()@rhs[:,:,None]).squeeze(-1)"
   ]
  },
  {
   "cell_type": "code",
   "execution_count": 42,
   "metadata": {},
   "outputs": [
    {
     "name": "stdout",
     "output_type": "stream",
     "text": [
      "8.33 ms ± 952 µs per loop (mean ± std. dev. of 7 runs, 100 loops each)\n"
     ]
    }
   ],
   "source": [
    "%%timeit\n",
    "lhs = torch.stack([v1], dim=1).transpose(2, 1)\n",
    "coefs = (lhs.inverse()@rhs[:,:,None]).squeeze(-1)\n",
    "grad = jacobian(coefs, p1)"
   ]
  },
  {
   "cell_type": "markdown",
   "metadata": {},
   "source": [
    "## 2"
   ]
  },
  {
   "cell_type": "code",
   "execution_count": 48,
   "metadata": {},
   "outputs": [],
   "source": [
    "v1 = torch.tensor([[ 0.0000,  0.1000]], requires_grad=True).expand(100,-1).clone()\n",
    "v2 = torch.tensor([[-0.5000, -0.1000]], requires_grad=True).expand(100,-1).clone()\n",
    "p1 = torch.tensor([[-9.5367e-07, -9.5367e-07]], requires_grad=True).expand(100,-1).clone()\n",
    "p2 = torch.tensor([[0.1000, 0.1000]], requires_grad=True).expand(100,-1).clone()\n",
    "rhs = p2-p1"
   ]
  },
  {
   "cell_type": "code",
   "execution_count": 49,
   "metadata": {},
   "outputs": [
    {
     "name": "stdout",
     "output_type": "stream",
     "text": [
      "33.4 µs ± 106 ns per loop (mean ± std. dev. of 7 runs, 10000 loops each)\n"
     ]
    }
   ],
   "source": [
    "%%timeit\n",
    "lhs = torch.stack([v1,v2], dim=1).transpose(2, 1)\n",
    "coefs = torch.linalg.solve(lhs, rhs)"
   ]
  },
  {
   "cell_type": "code",
   "execution_count": 50,
   "metadata": {},
   "outputs": [
    {
     "name": "stdout",
     "output_type": "stream",
     "text": [
      "15.9 ms ± 786 µs per loop (mean ± std. dev. of 7 runs, 100 loops each)\n"
     ]
    }
   ],
   "source": [
    "%%timeit\n",
    "lhs = torch.stack([v1, v2], dim=1).transpose(2, 1)\n",
    "coefs = torch.linalg.solve(lhs, rhs)\n",
    "grad = jacobian(coefs[:,0], p1)\n",
    "grad = jacobian(coefs[:,1], p1)"
   ]
  },
  {
   "cell_type": "code",
   "execution_count": 51,
   "metadata": {},
   "outputs": [
    {
     "name": "stdout",
     "output_type": "stream",
     "text": [
      "71.6 µs ± 375 ns per loop (mean ± std. dev. of 7 runs, 10000 loops each)\n"
     ]
    }
   ],
   "source": [
    "%%timeit\n",
    "dpx = rhs[:,0]\n",
    "dpy = rhs[:,1]\n",
    "v1x = v1[:,0]\n",
    "v1y = v1[:,1]\n",
    "v2x = v2[:,0]\n",
    "v2y = v2[:,1]\n",
    "t2 = ((dpy*v1x)-(dpx*v1y))/((v2y*v1x)-(v2x*v1y))\n",
    "t1 = (dpx-dpy-(t2*(v2x-v2y)))/(v1x-v1y)"
   ]
  },
  {
   "cell_type": "code",
   "execution_count": 52,
   "metadata": {},
   "outputs": [
    {
     "name": "stdout",
     "output_type": "stream",
     "text": [
      "952 µs ± 3.58 µs per loop (mean ± std. dev. of 7 runs, 1000 loops each)\n"
     ]
    }
   ],
   "source": [
    "%%timeit\n",
    "dpx = rhs[:,0]\n",
    "dpy = rhs[:,1]\n",
    "v1x = v1[:,0]\n",
    "v1y = v1[:,1]\n",
    "v2x = v2[:,0]\n",
    "v2y = v2[:,1]\n",
    "t2 = ((dpy*v1x)-(dpx*v1y))/((v2y*v1x)-(v2x*v1y))\n",
    "t1 = (dpx-dpy-(t2*(v2x-v2y)))/(v1x-v1y)\n",
    "grad = jacobian(t1, p1)\n",
    "grad = jacobian(t2, p1)"
   ]
  },
  {
   "cell_type": "code",
   "execution_count": 53,
   "metadata": {},
   "outputs": [
    {
     "name": "stdout",
     "output_type": "stream",
     "text": [
      "121 µs ± 3.08 µs per loop (mean ± std. dev. of 7 runs, 10000 loops each)\n"
     ]
    }
   ],
   "source": [
    "%%timeit\n",
    "lhs = torch.stack([v1,v2], dim=1).transpose(2, 1)\n",
    "coefs = (lhs.inverse()@rhs[:,:,None]).squeeze(-1)"
   ]
  },
  {
   "cell_type": "code",
   "execution_count": 55,
   "metadata": {},
   "outputs": [
    {
     "name": "stdout",
     "output_type": "stream",
     "text": [
      "2.03 ms ± 153 µs per loop (mean ± std. dev. of 7 runs, 100 loops each)\n"
     ]
    }
   ],
   "source": [
    "%%timeit\n",
    "lhs = torch.stack([v1,v2], dim=1).transpose(2, 1)\n",
    "coefs = (lhs.inverse()@rhs[:,:,None]).squeeze(-1)\n",
    "grad = jacobian(coefs[:,0], p1)\n",
    "grad = jacobian(coefs[:,1], p1)"
   ]
  },
  {
   "cell_type": "markdown",
   "metadata": {},
   "source": [
    "# 3"
   ]
  },
  {
   "cell_type": "code",
   "execution_count": 56,
   "metadata": {},
   "outputs": [],
   "source": [
    "v1 = torch.tensor([[ 0.1000,  0.1000, -0.1500]], requires_grad=True).expand(100,-1).clone()\n",
    "v2 = torch.tensor([[-0.1000, -0.1300, -0.1000]], requires_grad=True).expand(100,-1).clone()\n",
    "v3 = torch.cross(v1, v2, dim=1)\n",
    "p1 = torch.tensor([[-9.5367e-07, -9.5367e-07,  1.0000e+00]], requires_grad=True).expand(100,-1).clone()\n",
    "p2 = torch.tensor([[0.1000, 0.1000, 0.1000]], requires_grad=True).expand(100,-1).clone()\n",
    "rhs = p2-p1"
   ]
  },
  {
   "cell_type": "code",
   "execution_count": 57,
   "metadata": {},
   "outputs": [
    {
     "name": "stdout",
     "output_type": "stream",
     "text": [
      "37.4 µs ± 639 ns per loop (mean ± std. dev. of 7 runs, 10000 loops each)\n"
     ]
    }
   ],
   "source": [
    "%%timeit\n",
    "lhs = torch.stack([v1, v2, v3], dim=1).transpose(2, 1)\n",
    "coefs = torch.linalg.solve(lhs, rhs)"
   ]
  },
  {
   "cell_type": "code",
   "execution_count": 58,
   "metadata": {},
   "outputs": [
    {
     "name": "stdout",
     "output_type": "stream",
     "text": [
      "24.6 ms ± 135 µs per loop (mean ± std. dev. of 7 runs, 10 loops each)\n"
     ]
    }
   ],
   "source": [
    "%%timeit\n",
    "lhs = torch.stack([v1, v2, v3], dim=1).transpose(2, 1)\n",
    "coefs = torch.linalg.solve(lhs, rhs)\n",
    "grad = jacobian(coefs[:,0], p1)\n",
    "grad = jacobian(coefs[:,1], p1)\n",
    "grad = jacobian(coefs[:,2], p1)"
   ]
  },
  {
   "cell_type": "code",
   "execution_count": 59,
   "metadata": {},
   "outputs": [
    {
     "name": "stdout",
     "output_type": "stream",
     "text": [
      "290 µs ± 2.34 µs per loop (mean ± std. dev. of 7 runs, 1000 loops each)\n"
     ]
    }
   ],
   "source": [
    "%%timeit \n",
    "dpx = rhs[:,0]\n",
    "dpy = rhs[:,1]\n",
    "dpz = rhs[:,2]\n",
    "v1x = v1[:,0]\n",
    "v1y = v1[:,1]\n",
    "v1z = v1[:,2]\n",
    "v2x = v2[:,0]\n",
    "v2y = v2[:,1]\n",
    "v2z = v2[:,2]\n",
    "v3x = v3[:,0]\n",
    "v3y = v3[:,1]\n",
    "v3z = v3[:,2]\n",
    "\n",
    "a = (v1x*v2y)-(v1y*v2x)\n",
    "\n",
    "t3 = ((dpz*a*v1x)+(dpy*((v1x*v1z*v2x)-(v1x.square()*v2z)))+(dpx*((v1y*v1z*v2x)+(v1x*v1y*v2z)-(v1z*a))))/((v1y*v1z*v2x*v3x)-(v1x*v1z*v2x*v3y)-(v1z*v3x*a)+(v1x*v1y*v2z*v3x)-(v1x.square()*v2z*v3y)+(v1x*v3z*a))\n",
    "t2 = ((dpy*v1x)-(dpx*v1y)+(t3*((v1y*v3x)-v1x*v3y)))/a\n",
    "t1 = (dpx-(t2*v2x)-(t3*v3x))/v1x"
   ]
  },
  {
   "cell_type": "code",
   "execution_count": 60,
   "metadata": {},
   "outputs": [
    {
     "name": "stdout",
     "output_type": "stream",
     "text": [
      "2.58 ms ± 8.81 µs per loop (mean ± std. dev. of 7 runs, 100 loops each)\n"
     ]
    }
   ],
   "source": [
    "%%timeit \n",
    "dpx = rhs[:,0]\n",
    "dpy = rhs[:,1]\n",
    "dpz = rhs[:,2]\n",
    "v1x = v1[:,0]\n",
    "v1y = v1[:,1]\n",
    "v1z = v1[:,2]\n",
    "v2x = v2[:,0]\n",
    "v2y = v2[:,1]\n",
    "v2z = v2[:,2]\n",
    "v3x = v3[:,0]\n",
    "v3y = v3[:,1]\n",
    "v3z = v3[:,2]\n",
    "\n",
    "a = (v1x*v2y)-(v1y*v2x)\n",
    "\n",
    "t3 = ((dpz*a*v1x)+(dpy*((v1x*v1z*v2x)-(v1x.square()*v2z)))+(dpx*((v1y*v1z*v2x)+(v1x*v1y*v2z)-(v1z*a))))/((v1y*v1z*v2x*v3x)-(v1x*v1z*v2x*v3y)-(v1z*v3x*a)+(v1x*v1y*v2z*v3x)-(v1x.square()*v2z*v3y)+(v1x*v3z*a))\n",
    "t2 = ((dpy*v1x)-(dpx*v1y)+(t3*((v1y*v3x)-v1x*v3y)))/a\n",
    "t1 = (dpx-(t2*v2x)-(t3*v3x))/v1x\n",
    "\n",
    "grad = jacobian(t1, p1)\n",
    "grad = jacobian(t2, p1)\n",
    "grad = jacobian(t3, p1)"
   ]
  },
  {
   "cell_type": "code",
   "execution_count": 61,
   "metadata": {},
   "outputs": [
    {
     "name": "stdout",
     "output_type": "stream",
     "text": [
      "90.6 µs ± 5.09 µs per loop (mean ± std. dev. of 7 runs, 10000 loops each)\n"
     ]
    }
   ],
   "source": [
    "%%timeit\n",
    "lhs = torch.stack([v1, v2, v3], dim=1).transpose(2, 1)\n",
    "coefs = (lhs.inverse()@rhs[:,:,None]).squeeze(-1)"
   ]
  },
  {
   "cell_type": "code",
   "execution_count": 62,
   "metadata": {},
   "outputs": [
    {
     "name": "stdout",
     "output_type": "stream",
     "text": [
      "2.69 ms ± 135 µs per loop (mean ± std. dev. of 7 runs, 100 loops each)\n"
     ]
    }
   ],
   "source": [
    "%%timeit\n",
    "lhs = torch.stack([v1, v2, v3], dim=1).transpose(2, 1)\n",
    "coefs = (lhs.inverse()@rhs[:,:,None]).squeeze(-1)\n",
    "grad = jacobian(coefs[:,0], p1)\n",
    "grad = jacobian(coefs[:,1], p1)\n",
    "grad = jacobian(coefs[:,2], p1)"
   ]
  },
  {
   "cell_type": "markdown",
   "metadata": {},
   "source": [
    "## 2"
   ]
  },
  {
   "cell_type": "code",
   "execution_count": 65,
   "metadata": {},
   "outputs": [],
   "source": [
    "import numpy as np"
   ]
  },
  {
   "cell_type": "code",
   "execution_count": 128,
   "metadata": {},
   "outputs": [],
   "source": [
    "v1 = np.array([[ 0.0000,  0.1000]]).repeat(100, 0)\n",
    "v2 = np.array([[-0.5000, -0.1000]]).repeat(100, 0)\n",
    "p1 = np.array([[-9.5367e-07, -9.5367e-07]]).repeat(100, 0)\n",
    "p2 = np.array([[0.1000, 0.1000]]).repeat(100, 0)\n",
    "rhs = p2-p1"
   ]
  },
  {
   "cell_type": "code",
   "execution_count": 118,
   "metadata": {},
   "outputs": [
    {
     "name": "stdout",
     "output_type": "stream",
     "text": [
      "31 µs ± 219 ns per loop (mean ± std. dev. of 7 runs, 10000 loops each)\n"
     ]
    }
   ],
   "source": [
    "%%timeit\n",
    "lhs = np.stack([v1,v2], axis=1).transpose(0, 2, 1)\n",
    "coefs = np.linalg.solve(lhs, rhs)"
   ]
  },
  {
   "cell_type": "code",
   "execution_count": 119,
   "metadata": {},
   "outputs": [
    {
     "name": "stdout",
     "output_type": "stream",
     "text": [
      "8.84 µs ± 152 ns per loop (mean ± std. dev. of 7 runs, 100000 loops each)\n"
     ]
    }
   ],
   "source": [
    "%%timeit\n",
    "dpx = rhs[:,0]\n",
    "dpy = rhs[:,1]\n",
    "v1x = v1[:,0]\n",
    "v1y = v1[:,1]\n",
    "v2x = v2[:,0]\n",
    "v2y = v2[:,1]\n",
    "t2 = ((dpy*v1x)-(dpx*v1y))/((v2y*v1x)-(v2x*v1y))\n",
    "t1 = (dpx-dpy-(t2*(v2x-v2y)))/(v1x-v1y)"
   ]
  },
  {
   "cell_type": "markdown",
   "metadata": {},
   "source": [
    "# 3"
   ]
  },
  {
   "cell_type": "code",
   "execution_count": 148,
   "metadata": {},
   "outputs": [],
   "source": [
    "v1 = np.array([[ 0.1000,  0.1000, -0.1500]]).repeat(100, 0)\n",
    "v2 = np.array([[-0.1000, -0.1300, -0.1000]]).repeat(100, 0)\n",
    "v3 = np.cross(v1, v2, axis=1)\n",
    "p1 = np.array([[-9.5367e-07, -9.5367e-07,  1.0000e+00]]).repeat(100, 0)\n",
    "p2 = np.array([[0.1000, 0.1000, 0.1000]]).repeat(100, 0)\n",
    "rhs = p2-p1"
   ]
  },
  {
   "cell_type": "code",
   "execution_count": 149,
   "metadata": {},
   "outputs": [
    {
     "name": "stdout",
     "output_type": "stream",
     "text": [
      "38.4 µs ± 120 ns per loop (mean ± std. dev. of 7 runs, 10000 loops each)\n"
     ]
    }
   ],
   "source": [
    "%%timeit\n",
    "lhs = np.stack([v1,v2,v3], axis=1).transpose(0, 2, 1)\n",
    "coefs = np.linalg.solve(lhs, rhs)"
   ]
  },
  {
   "cell_type": "code",
   "execution_count": 143,
   "metadata": {},
   "outputs": [
    {
     "name": "stdout",
     "output_type": "stream",
     "text": [
      "36.6 µs ± 258 ns per loop (mean ± std. dev. of 7 runs, 10000 loops each)\n"
     ]
    }
   ],
   "source": [
    "%%timeit \n",
    "dpx = rhs[:,0]\n",
    "dpy = rhs[:,1]\n",
    "dpz = rhs[:,2]\n",
    "v1x = v1[:,0]\n",
    "v1y = v1[:,1]\n",
    "v1z = v1[:,2]\n",
    "v2x = v2[:,0]\n",
    "v2y = v2[:,1]\n",
    "v2z = v2[:,2]\n",
    "v3x = v3[:,0]\n",
    "v3y = v3[:,1]\n",
    "v3z = v3[:,2]\n",
    "\n",
    "a = (v1x*v2y)-(v1y*v2x)\n",
    "\n",
    "t3 = ((dpz*a*v1x)+(dpy*((v1x*v1z*v2x)-(np.square(v1x)*v2z)))+(dpx*((v1y*v1z*v2x)+(v1x*v1y*v2z)-(v1z*a))))/((v1y*v1z*v2x*v3x)-(v1x*v1z*v2x*v3y)-(v1z*v3x*a)+(v1x*v1y*v2z*v3x)-(np.square(v1x)*v2z*v3y)+(v1x*v3z*a))\n",
    "t2 = ((dpy*v1x)-(dpx*v1y)+(t3*((v1y*v3x)-v1x*v3y)))/a\n",
    "t1 = (dpx-(t2*v2x)-(t3*v3x))/v1x"
   ]
  },
  {
   "cell_type": "code",
   "execution_count": 146,
   "metadata": {},
   "outputs": [],
   "source": [
    "v1 = torch.tensor([[ 0.1000,  0.1000, -0.1500]]).expand(100,-1).clone()\n",
    "v2 = torch.tensor([[-0.1000, -0.1300, -0.1000]]).expand(100,-1).clone()\n",
    "v3 = torch.cross(v1, v2, dim=1)\n",
    "p1 = torch.tensor([[-9.5367e-07, -9.5367e-07,  1.0000e+00]]).expand(100,-1).clone()\n",
    "p2 = torch.tensor([[0.1000, 0.1000, 0.1000]]).expand(100,-1).clone()\n",
    "rhs = p2-p1"
   ]
  },
  {
   "cell_type": "code",
   "execution_count": 147,
   "metadata": {},
   "outputs": [
    {
     "name": "stdout",
     "output_type": "stream",
     "text": [
      "27.3 µs ± 816 ns per loop (mean ± std. dev. of 7 runs, 10000 loops each)\n"
     ]
    }
   ],
   "source": [
    "%%timeit\n",
    "lhs = torch.stack([v1, v2, v3], dim=1).transpose(2, 1)\n",
    "coefs = torch.linalg.solve(lhs, rhs)"
   ]
  },
  {
   "cell_type": "code",
   "execution_count": null,
   "metadata": {},
   "outputs": [],
   "source": []
  }
 ],
 "metadata": {
  "kernelspec": {
   "display_name": "Python [conda env:tomopt]",
   "language": "python",
   "name": "conda-env-tomopt-py"
  },
  "language_info": {
   "codemirror_mode": {
    "name": "ipython",
    "version": 3
   },
   "file_extension": ".py",
   "mimetype": "text/x-python",
   "name": "python",
   "nbconvert_exporter": "python",
   "pygments_lexer": "ipython3",
   "version": "3.8.11"
  }
 },
 "nbformat": 4,
 "nbformat_minor": 4
}
