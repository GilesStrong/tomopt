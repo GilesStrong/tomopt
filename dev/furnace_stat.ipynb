{
 "cells": [
  {
   "cell_type": "code",
   "execution_count": 1,
   "id": "0410d432",
   "metadata": {},
   "outputs": [],
   "source": [
    "%matplotlib inline\n",
    "%reload_ext autoreload\n",
    "%autoreload 2"
   ]
  },
  {
   "cell_type": "code",
   "execution_count": 2,
   "id": "dbb16dc4",
   "metadata": {},
   "outputs": [],
   "source": [
    "from typing import *\n",
    "import numpy as np\n",
    "from functools import partial\n",
    "from fastprogress import progress_bar\n",
    "import pandas as pd\n",
    "import h5py\n",
    "\n",
    "from lumin.plotting.results import plot_roc\n",
    "\n",
    "import torch\n",
    "from torch import Tensor, nn\n",
    "import torch.nn.functional as F\n",
    "from torch._vmap_internals import _vmap as vmap\n",
    "\n",
    "from tomopt.volume import *\n",
    "from tomopt.muon import *\n",
    "from tomopt.inference import *\n",
    "from tomopt.optimisation import *\n",
    "from tomopt.core import *\n",
    "from tomopt.utils import *\n",
    "from tomopt.plotting import *\n",
    "\n",
    "import seaborn as sns\n",
    "import matplotlib.pyplot as plt"
   ]
  },
  {
   "cell_type": "code",
   "execution_count": 3,
   "id": "22100841",
   "metadata": {},
   "outputs": [],
   "source": [
    "DEVICE = torch.device(\"cpu\")"
   ]
  },
  {
   "cell_type": "code",
   "execution_count": 4,
   "id": "296a8daf",
   "metadata": {},
   "outputs": [],
   "source": [
    "def area_cost(x:Tensor) -> Tensor:\n",
    "    return F.relu(x)"
   ]
  },
  {
   "cell_type": "code",
   "execution_count": 5,
   "id": "f31a105a",
   "metadata": {},
   "outputs": [],
   "source": [
    "def get_volume(size: float = 0.1, lwh: Tensor = Tensor([1.0, 1.0, 1.4]), device: torch.device = torch.device(\"cpu\")) -> Volume:\n",
    "    def area_cost(x: Tensor) -> Tensor:\n",
    "        return F.relu(x)\n",
    "\n",
    "    layers: List[Layer] = []\n",
    "    n_panels = 4\n",
    "    layers.append(\n",
    "        PanelDetectorLayer(\n",
    "            pos=\"above\",\n",
    "            lw=lwh[:2],\n",
    "            z=lwh[2].item(),\n",
    "            size=0.2,\n",
    "            panels=[\n",
    "                DetectorPanel(\n",
    "                    res=1e4,\n",
    "                    eff=1,\n",
    "                    init_xyz=(lwh[0].item() / 2, lwh[1].item() / 2, lwh[2].item() - (i * (0.2) / n_panels)),\n",
    "                    init_xy_span=(4., 4.),\n",
    "                    area_cost_func=area_cost,\n",
    "                    device=device,\n",
    "                )\n",
    "                for i in range(n_panels)\n",
    "            ],\n",
    "        )\n",
    "    )\n",
    "    for z in np.round(np.arange(lwh[2] - 0.2, 0.2, -size), decimals=2):\n",
    "        layers.append(PassiveLayer(lw=lwh[:2], z=z, size=size, device=device))\n",
    "    layers.append(\n",
    "        PanelDetectorLayer(\n",
    "            pos=\"below\",\n",
    "            lw=lwh[:2],\n",
    "            z=size,\n",
    "            size=0.2,\n",
    "            panels=[\n",
    "                DetectorPanel(\n",
    "                    res=1e4,\n",
    "                    eff=1,\n",
    "                    init_xyz=(lwh[0].item() / 2, lwh[1].item() / 2, 0.2 - (i * (0.2) / n_panels)),\n",
    "                    init_xy_span=(4., 4.),\n",
    "                    area_cost_func=area_cost,\n",
    "                    device=device,\n",
    "                )\n",
    "                for i in range(n_panels)\n",
    "            ],\n",
    "        )\n",
    "    )\n",
    "\n",
    "    return Volume(nn.ModuleList(layers))"
   ]
  },
  {
   "cell_type": "code",
   "execution_count": 6,
   "id": "54e9cf70",
   "metadata": {},
   "outputs": [],
   "source": [
    "volume = get_volume()"
   ]
  },
  {
   "cell_type": "code",
   "execution_count": 7,
   "id": "d4b4e8df",
   "metadata": {
    "scrolled": false
   },
   "outputs": [
    {
     "data": {
      "text/plain": [
       "Volume(\n",
       "  (layers): ModuleList(\n",
       "    (0): PanelDetectorLayer(\n",
       "      (panels): ModuleList(\n",
       "        (0): <class 'tomopt.volume.panel.DetectorPanel'> located at xy=tensor([0.5000, 0.5000]), z=tensor([1.4000]), and xy span tensor([4., 4.])\n",
       "        (1): <class 'tomopt.volume.panel.DetectorPanel'> located at xy=tensor([0.5000, 0.5000]), z=tensor([1.3500]), and xy span tensor([4., 4.])\n",
       "        (2): <class 'tomopt.volume.panel.DetectorPanel'> located at xy=tensor([0.5000, 0.5000]), z=tensor([1.3000]), and xy span tensor([4., 4.])\n",
       "        (3): <class 'tomopt.volume.panel.DetectorPanel'> located at xy=tensor([0.5000, 0.5000]), z=tensor([1.2500]), and xy span tensor([4., 4.])\n",
       "      )\n",
       "    )\n",
       "    (1): PassiveLayer located at z=tensor([1.2000])\n",
       "    (2): PassiveLayer located at z=tensor([1.1000])\n",
       "    (3): PassiveLayer located at z=tensor([1.])\n",
       "    (4): PassiveLayer located at z=tensor([0.9000])\n",
       "    (5): PassiveLayer located at z=tensor([0.8000])\n",
       "    (6): PassiveLayer located at z=tensor([0.7000])\n",
       "    (7): PassiveLayer located at z=tensor([0.6000])\n",
       "    (8): PassiveLayer located at z=tensor([0.5000])\n",
       "    (9): PassiveLayer located at z=tensor([0.4000])\n",
       "    (10): PassiveLayer located at z=tensor([0.3000])\n",
       "    (11): PanelDetectorLayer(\n",
       "      (panels): ModuleList(\n",
       "        (0): <class 'tomopt.volume.panel.DetectorPanel'> located at xy=tensor([0.5000, 0.5000]), z=tensor([0.2000]), and xy span tensor([4., 4.])\n",
       "        (1): <class 'tomopt.volume.panel.DetectorPanel'> located at xy=tensor([0.5000, 0.5000]), z=tensor([0.1500]), and xy span tensor([4., 4.])\n",
       "        (2): <class 'tomopt.volume.panel.DetectorPanel'> located at xy=tensor([0.5000, 0.5000]), z=tensor([0.1000]), and xy span tensor([4., 4.])\n",
       "        (3): <class 'tomopt.volume.panel.DetectorPanel'> located at xy=tensor([0.5000, 0.5000]), z=tensor([0.0500]), and xy span tensor([4., 4.])\n",
       "      )\n",
       "    )\n",
       "  )\n",
       ")"
      ]
     },
     "execution_count": 7,
     "metadata": {},
     "output_type": "execute_result"
    }
   ],
   "source": [
    "volume"
   ]
  },
  {
   "cell_type": "markdown",
   "id": "ca5b7523",
   "metadata": {},
   "source": [
    "# Build dataset"
   ]
  },
  {
   "cell_type": "code",
   "execution_count": 8,
   "id": "9fd737f7",
   "metadata": {},
   "outputs": [],
   "source": [
    "def get_preds(volume:Volume) -> Tensor:\n",
    "    gen = MuonGenerator2016.from_volume(volume)\n",
    "    inf = PanelX0Inferer(volume)\n",
    "    for _ in range(1000//250):\n",
    "        mus = MuonResampler.resample(gen(250), volume=volume, gen=gen)\n",
    "        mu = MuonBatch(mus, init_z=volume.h)\n",
    "        volume(mu)\n",
    "        sb = PanelScatterBatch(mu, volume)\n",
    "        inf.add_scatters(sb)\n",
    "    vox_preds, weights = inf.get_prediction()\n",
    "    return vox_preds"
   ]
  },
  {
   "cell_type": "code",
   "execution_count": 9,
   "id": "86d3edeb",
   "metadata": {},
   "outputs": [],
   "source": [
    "from tomopt.benchmarks.ladle_furnace import LadleFurnacePassiveGenerator"
   ]
  },
  {
   "cell_type": "code",
   "execution_count": 10,
   "id": "ba9e729a",
   "metadata": {},
   "outputs": [],
   "source": [
    "pgen = LadleFurnacePassiveGenerator(volume)"
   ]
  },
  {
   "cell_type": "code",
   "execution_count": 11,
   "id": "2b1ed7b5",
   "metadata": {},
   "outputs": [
    {
     "data": {
      "text/html": [
       "\n",
       "    <div>\n",
       "        <style>\n",
       "            /* Turns off some styling */\n",
       "            progress {\n",
       "                /* gets rid of default border in Firefox and Opera. */\n",
       "                border: none;\n",
       "                /* Needs to be in here for Safari polyfill so background images work as expected. */\n",
       "                background-size: auto;\n",
       "            }\n",
       "            .progress-bar-interrupted, .progress-bar-interrupted::-webkit-progress-bar {\n",
       "                background: #F44336;\n",
       "            }\n",
       "        </style>\n",
       "      <progress value='200' class='' max='200' style='width:300px; height:20px; vertical-align: middle;'></progress>\n",
       "      100.00% [200/200 25:08<00:00]\n",
       "    </div>\n",
       "    "
      ],
      "text/plain": [
       "<IPython.core.display.HTML object>"
      ]
     },
     "metadata": {},
     "output_type": "display_data"
    },
    {
     "name": "stderr",
     "output_type": "stream",
     "text": [
      "/Users/giles/cernbox/mode_muon_tomography/tomopt/inference/scattering.py:329: UserWarning: torch.meshgrid: in an upcoming release, it will be required to pass the indexing argument. (Triggered internally at  ../aten/src/ATen/native/TensorShape.cpp:2157.)\n",
      "  idxs = torch.combinations(torch.arange(0, unc.shape[-1]), with_replacement=True)\n"
     ]
    }
   ],
   "source": [
    "preds,targs = [],[]\n",
    "for i in progress_bar(range(200)):\n",
    "    f,t = pgen.get_data()\n",
    "    volume.load_rad_length(f)\n",
    "    preds.append(get_preds(volume).detach())\n",
    "    targs.append(t)"
   ]
  },
  {
   "cell_type": "code",
   "execution_count": 12,
   "id": "f96b64c7",
   "metadata": {},
   "outputs": [],
   "source": [
    "preds = torch.stack(preds)\n",
    "targs = torch.stack(targs)"
   ]
  },
  {
   "cell_type": "code",
   "execution_count": 13,
   "id": "fa38d8b6",
   "metadata": {},
   "outputs": [
    {
     "data": {
      "text/plain": [
       "torch.Size([200, 10, 10, 10])"
      ]
     },
     "execution_count": 13,
     "metadata": {},
     "output_type": "execute_result"
    }
   ],
   "source": [
    "preds.shape"
   ]
  },
  {
   "cell_type": "code",
   "execution_count": 14,
   "id": "fe79162a",
   "metadata": {},
   "outputs": [],
   "source": [
    "with h5py.File('furnace_data_1kmu_1e4_nozero.hdf5', \"w\") as outfile:\n",
    "    outfile.create_dataset('preds', data=preds, compression='lzf')\n",
    "    outfile.create_dataset('targs', data=targs, compression='lzf')"
   ]
  },
  {
   "cell_type": "code",
   "execution_count": 11,
   "id": "0a37b443",
   "metadata": {},
   "outputs": [],
   "source": [
    "with h5py.File('furnace_data_1kmu_1e4.hdf5', \"r\") as infile:\n",
    "    preds = Tensor(infile['preds'][()])\n",
    "    targs = Tensor(infile['targs'][()])"
   ]
  },
  {
   "cell_type": "markdown",
   "id": "564d4ead",
   "metadata": {},
   "source": [
    "# Vars"
   ]
  },
  {
   "cell_type": "code",
   "execution_count": 12,
   "id": "b4963a3b",
   "metadata": {},
   "outputs": [],
   "source": [
    "df = pd.DataFrame(targs.numpy(), columns=['gen_target'])"
   ]
  },
  {
   "cell_type": "code",
   "execution_count": 13,
   "id": "83873877",
   "metadata": {},
   "outputs": [
    {
     "data": {
      "text/html": [
       "<div>\n",
       "<style scoped>\n",
       "    .dataframe tbody tr th:only-of-type {\n",
       "        vertical-align: middle;\n",
       "    }\n",
       "\n",
       "    .dataframe tbody tr th {\n",
       "        vertical-align: top;\n",
       "    }\n",
       "\n",
       "    .dataframe thead th {\n",
       "        text-align: right;\n",
       "    }\n",
       "</style>\n",
       "<table border=\"1\" class=\"dataframe\">\n",
       "  <thead>\n",
       "    <tr style=\"text-align: right;\">\n",
       "      <th></th>\n",
       "      <th>gen_target</th>\n",
       "    </tr>\n",
       "  </thead>\n",
       "  <tbody>\n",
       "    <tr>\n",
       "      <th>0</th>\n",
       "      <td>1.002918</td>\n",
       "    </tr>\n",
       "    <tr>\n",
       "      <th>1</th>\n",
       "      <td>1.197800</td>\n",
       "    </tr>\n",
       "    <tr>\n",
       "      <th>2</th>\n",
       "      <td>1.161135</td>\n",
       "    </tr>\n",
       "    <tr>\n",
       "      <th>3</th>\n",
       "      <td>0.534056</td>\n",
       "    </tr>\n",
       "    <tr>\n",
       "      <th>4</th>\n",
       "      <td>1.117202</td>\n",
       "    </tr>\n",
       "    <tr>\n",
       "      <th>...</th>\n",
       "      <td>...</td>\n",
       "    </tr>\n",
       "    <tr>\n",
       "      <th>195</th>\n",
       "      <td>0.682796</td>\n",
       "    </tr>\n",
       "    <tr>\n",
       "      <th>196</th>\n",
       "      <td>1.134742</td>\n",
       "    </tr>\n",
       "    <tr>\n",
       "      <th>197</th>\n",
       "      <td>0.394750</td>\n",
       "    </tr>\n",
       "    <tr>\n",
       "      <th>198</th>\n",
       "      <td>1.141804</td>\n",
       "    </tr>\n",
       "    <tr>\n",
       "      <th>199</th>\n",
       "      <td>0.698419</td>\n",
       "    </tr>\n",
       "  </tbody>\n",
       "</table>\n",
       "<p>200 rows × 1 columns</p>\n",
       "</div>"
      ],
      "text/plain": [
       "     gen_target\n",
       "0      1.002918\n",
       "1      1.197800\n",
       "2      1.161135\n",
       "3      0.534056\n",
       "4      1.117202\n",
       "..          ...\n",
       "195    0.682796\n",
       "196    1.134742\n",
       "197    0.394750\n",
       "198    1.141804\n",
       "199    0.698419\n",
       "\n",
       "[200 rows x 1 columns]"
      ]
     },
     "execution_count": 13,
     "metadata": {},
     "output_type": "execute_result"
    }
   ],
   "source": [
    "df"
   ]
  },
  {
   "cell_type": "code",
   "execution_count": 155,
   "id": "026e0346",
   "metadata": {},
   "outputs": [],
   "source": [
    "from tomopt.plotting.appearance import *\n",
    "\n",
    "def plot_pred(pred, targ):\n",
    "    with sns.axes_style(style=\"whitegrid\", rc={\"patch.edgecolor\": \"none\"}):\n",
    "        fig, axs = plt.subplots(1, len(pred), figsize=(W_MID, H_MID))\n",
    "\n",
    "        for i in range(len(pred)):\n",
    "            sns.heatmap(\n",
    "                pred[i],\n",
    "                ax=axs[i],\n",
    "                cmap=\"viridis\",\n",
    "                square=True,\n",
    "                cbar=False,\n",
    "                vmin=np.nanmin(pred),\n",
    "                vmax=np.nanmax(pred),\n",
    "            )\n",
    "        print(\"Zero-ordered target layer ID (including ladel bottom layer):\", np.floor((targ-volume.get_passive_z_range()[0]-volume.passive_size)/volume.passive_size))\n",
    "        plt.show()"
   ]
  },
  {
   "cell_type": "code",
   "execution_count": 156,
   "id": "3c75c4f5",
   "metadata": {},
   "outputs": [
    {
     "name": "stdout",
     "output_type": "stream",
     "text": [
      "Zero-ordered target layer ID (including ladel bottom layer): tensor([7.])\n"
     ]
    },
    {
     "data": {
      "image/png": "[encoded data removed]",
      "text/plain": [
       "<Figure size 1024x576 with 10 Axes>"
      ]
     },
     "metadata": {},
     "output_type": "display_data"
    }
   ],
   "source": [
    "i = 0\n",
    "plot_pred(preds[i], targs[i])"
   ]
  },
  {
   "cell_type": "code",
   "execution_count": 157,
   "id": "14cbabfb",
   "metadata": {},
   "outputs": [
    {
     "data": {
      "text/plain": [
       "torch.Size([200, 10, 10, 10])"
      ]
     },
     "execution_count": 157,
     "metadata": {},
     "output_type": "execute_result"
    }
   ],
   "source": [
    "preds.shape"
   ]
  },
  {
   "cell_type": "code",
   "execution_count": 158,
   "id": "dbcafd74",
   "metadata": {},
   "outputs": [],
   "source": [
    "ladel_removed = preds[:,1:,1:-1,1:-1]"
   ]
  },
  {
   "cell_type": "code",
   "execution_count": 159,
   "id": "757fd918",
   "metadata": {},
   "outputs": [
    {
     "name": "stdout",
     "output_type": "stream",
     "text": [
      "Zero-ordered target layer ID (including ladel bottom layer): tensor([7.])\n"
     ]
    },
    {
     "data": {
      "image/png": "[encoded data removed]",
      "text/plain": [
       "<Figure size 1024x576 with 9 Axes>"
      ]
     },
     "metadata": {},
     "output_type": "display_data"
    }
   ],
   "source": [
    "i = 0\n",
    "plot_pred(ladel_removed[i], targs[i])"
   ]
  },
  {
   "cell_type": "markdown",
   "id": "03b6f8c6",
   "metadata": {},
   "source": [
    "# Stat testing"
   ]
  },
  {
   "cell_type": "code",
   "execution_count": 18,
   "id": "a2fa9463",
   "metadata": {},
   "outputs": [
    {
     "data": {
      "text/plain": [
       "torch.Size([200, 9])"
      ]
     },
     "execution_count": 18,
     "metadata": {},
     "output_type": "execute_result"
    }
   ],
   "source": [
    "averaged = ladel_removed.mean((-1,-2)); averaged.shape"
   ]
  },
  {
   "cell_type": "code",
   "execution_count": 19,
   "id": "a6653b52",
   "metadata": {},
   "outputs": [],
   "source": [
    "def get_mse(preds, targs):\n",
    "    return ((preds-targs)**2).mean()"
   ]
  },
  {
   "cell_type": "code",
   "execution_count": 20,
   "id": "36de38a3",
   "metadata": {},
   "outputs": [
    {
     "data": {
      "text/plain": [
       "tensor(0.1313)"
      ]
     },
     "execution_count": 20,
     "metadata": {},
     "output_type": "execute_result"
    }
   ],
   "source": [
    "get_mse((3*volume.passive_size)+volume.get_passive_z_range()[0], targs)"
   ]
  },
  {
   "cell_type": "code",
   "execution_count": 21,
   "id": "26c18c60",
   "metadata": {},
   "outputs": [],
   "source": [
    "p = ((averaged.median(1).indices+1)*volume.passive_size)+volume.get_passive_z_range()[0]"
   ]
  },
  {
   "cell_type": "code",
   "execution_count": 22,
   "id": "c218be3c",
   "metadata": {},
   "outputs": [
    {
     "data": {
      "text/plain": [
       "tensor([0.7000, 0.8000, 0.7000, 1.1000, 0.4000, 0.7000, 0.7000, 0.7000, 0.6000,\n",
       "        0.7000, 0.7000, 0.7000, 0.7000, 0.5000, 0.7000, 0.7000, 0.8000, 0.7000,\n",
       "        0.7000, 0.7000, 1.0000, 0.7000, 0.6000, 0.8000, 0.8000, 0.3000, 0.9000,\n",
       "        0.3000, 0.7000, 0.7000, 0.7000, 0.7000, 0.7000, 0.7000, 0.7000, 0.7000,\n",
       "        0.5000, 0.3000, 0.7000, 0.8000, 0.7000, 0.5000, 0.7000, 0.3000, 0.7000,\n",
       "        0.7000, 0.7000, 0.7000, 0.7000, 0.3000, 0.7000, 0.7000, 0.7000, 0.7000,\n",
       "        0.9000, 0.7000, 0.7000, 0.7000, 0.7000, 0.7000, 0.7000, 0.8000, 0.4000,\n",
       "        0.7000, 0.7000, 0.7000, 0.7000, 0.7000, 0.7000, 0.8000, 0.3000, 0.7000,\n",
       "        0.7000, 0.7000, 0.7000, 0.7000, 0.7000, 0.5000, 0.7000, 0.8000, 0.7000,\n",
       "        0.7000, 0.7000, 0.6000, 0.6000, 0.7000, 0.7000, 0.7000, 0.8000, 0.7000,\n",
       "        0.7000, 0.7000, 0.9000, 1.0000, 0.7000, 1.0000, 0.7000, 1.1000, 0.7000,\n",
       "        0.9000, 0.3000, 0.7000, 0.8000, 0.8000, 0.7000, 1.0000, 0.8000, 0.7000,\n",
       "        0.7000, 0.3000, 0.7000, 0.3000, 0.7000, 0.7000, 0.7000, 0.7000, 0.7000,\n",
       "        0.7000, 0.7000, 0.3000, 0.6000, 0.7000, 1.0000, 0.7000, 0.9000, 0.5000,\n",
       "        0.7000, 0.7000, 0.3000, 0.5000, 0.7000, 0.3000, 0.7000, 0.6000, 0.7000,\n",
       "        0.7000, 0.3000, 0.6000, 0.7000, 0.7000, 0.7000, 0.7000, 0.6000, 0.3000,\n",
       "        0.7000, 0.7000, 0.3000, 0.7000, 0.7000, 0.7000, 0.7000, 0.7000, 0.3000,\n",
       "        1.0000, 0.7000, 0.7000, 0.7000, 0.9000, 0.7000, 0.7000, 0.7000, 0.7000,\n",
       "        0.8000, 0.5000, 0.5000, 0.7000, 0.8000, 1.1000, 1.0000, 0.5000, 0.4000,\n",
       "        0.8000, 0.7000, 0.7000, 0.6000, 0.8000, 0.3000, 0.7000, 0.7000, 1.0000,\n",
       "        0.7000, 0.7000, 0.6000, 0.7000, 0.7000, 0.7000, 0.7000, 0.5000, 0.3000,\n",
       "        0.7000, 0.9000, 0.7000, 0.8000, 0.7000, 0.8000, 0.7000, 0.8000, 0.8000,\n",
       "        0.8000, 0.7000])"
      ]
     },
     "execution_count": 22,
     "metadata": {},
     "output_type": "execute_result"
    }
   ],
   "source": [
    "p"
   ]
  },
  {
   "cell_type": "code",
   "execution_count": 23,
   "id": "07ff5b1e",
   "metadata": {},
   "outputs": [
    {
     "data": {
      "text/plain": [
       "tensor(0.0994)"
      ]
     },
     "execution_count": 23,
     "metadata": {},
     "output_type": "execute_result"
    }
   ],
   "source": [
    "get_mse(p,targs)"
   ]
  },
  {
   "cell_type": "code",
   "execution_count": 24,
   "id": "aeb02832",
   "metadata": {},
   "outputs": [
    {
     "data": {
      "text/plain": [
       "tensor(0.4172)"
      ]
     },
     "execution_count": 24,
     "metadata": {},
     "output_type": "execute_result"
    }
   ],
   "source": [
    "fs_ratio = pgen.fill_x0s.mean()/pgen.slag_x0s.mean(); fs_ratio"
   ]
  },
  {
   "cell_type": "code",
   "execution_count": 25,
   "id": "24fbfa14",
   "metadata": {},
   "outputs": [
    {
     "data": {
      "text/plain": [
       "torch.Size([200, 9])"
      ]
     },
     "execution_count": 25,
     "metadata": {},
     "output_type": "execute_result"
    }
   ],
   "source": [
    "averaged.shape"
   ]
  },
  {
   "cell_type": "code",
   "execution_count": 26,
   "id": "1563a1ca",
   "metadata": {},
   "outputs": [],
   "source": [
    "maxp = averaged[:,-1]"
   ]
  },
  {
   "cell_type": "code",
   "execution_count": 27,
   "id": "28c876d5",
   "metadata": {},
   "outputs": [
    {
     "data": {
      "text/plain": [
       "tensor([0.0252, 0.0190, 0.0202, 0.0153, 0.0257, 0.0263, 0.0203, 0.0199, 0.0209,\n",
       "        0.0251, 0.0334, 0.0259, 0.0308, 0.0295, 0.0276, 0.0210, 0.0172, 0.0250,\n",
       "        0.0301, 0.0181, 0.0197, 0.0241, 0.0301, 0.0314, 0.0216, 0.0241, 0.0236,\n",
       "        0.0301, 0.0185, 0.0348, 0.0269, 0.0225, 0.0245, 0.0274, 0.0277, 0.0236,\n",
       "        0.0208, 0.0242, 0.0262, 0.0204, 0.0224, 0.0201, 0.0313, 0.0235, 0.0279,\n",
       "        0.0264, 0.0210, 0.0199, 0.0207, 0.0317, 0.0302, 0.0276, 0.0266, 0.0272,\n",
       "        0.0199, 0.0246, 0.0323, 0.0205, 0.0189, 0.0380, 0.0226, 0.0213, 0.0230,\n",
       "        0.0229, 0.0254, 0.0192, 0.0287, 0.0270, 0.0192, 0.0223, 0.0319, 0.0255,\n",
       "        0.0222, 0.0167, 0.0260, 0.0241, 0.0260, 0.0230, 0.0325, 0.0234, 0.0336,\n",
       "        0.0266, 0.0264, 0.0334, 0.0240, 0.0191, 0.0369, 0.0246, 0.0243, 0.0196,\n",
       "        0.0238, 0.0261, 0.0291, 0.0168, 0.0174, 0.0209, 0.0240, 0.0147, 0.0291,\n",
       "        0.0195, 0.0270, 0.0221, 0.0236, 0.0221, 0.0279, 0.0211, 0.0225, 0.0204,\n",
       "        0.0362, 0.0191, 0.0181, 0.0277, 0.0278, 0.0180, 0.0212, 0.0379, 0.0268,\n",
       "        0.0251, 0.0235, 0.0208, 0.0225, 0.0336, 0.0211, 0.0289, 0.0289, 0.0183,\n",
       "        0.0184, 0.0241, 0.0259, 0.0252, 0.0293, 0.0207, 0.0211, 0.0286, 0.0229,\n",
       "        0.0218, 0.0251, 0.0283, 0.0264, 0.0264, 0.0158, 0.0282, 0.0330, 0.0246,\n",
       "        0.0218, 0.0225, 0.0323, 0.0273, 0.0283, 0.0304, 0.0292, 0.0306, 0.0252,\n",
       "        0.0143, 0.0212, 0.0263, 0.0234, 0.0276, 0.0188, 0.0197, 0.0322, 0.0201,\n",
       "        0.0336, 0.0183, 0.0138, 0.0306, 0.0246, 0.0158, 0.0178, 0.0244, 0.0206,\n",
       "        0.0192, 0.0227, 0.0212, 0.0289, 0.0301, 0.0303, 0.0202, 0.0331, 0.0228,\n",
       "        0.0219, 0.0258, 0.0291, 0.0287, 0.0250, 0.0249, 0.0316, 0.0172, 0.0285,\n",
       "        0.0183, 0.0235, 0.0248, 0.0172, 0.0229, 0.0213, 0.0351, 0.0247, 0.0315,\n",
       "        0.0268, 0.0195])"
      ]
     },
     "execution_count": 27,
     "metadata": {},
     "output_type": "execute_result"
    }
   ],
   "source": [
    "maxp"
   ]
  },
  {
   "cell_type": "code",
   "execution_count": 28,
   "id": "9e76dfc7",
   "metadata": {},
   "outputs": [
    {
     "data": {
      "text/plain": [
       "tensor([0.0105, 0.0079, 0.0084, 0.0064, 0.0107, 0.0110, 0.0085, 0.0083, 0.0087,\n",
       "        0.0105, 0.0139, 0.0108, 0.0129, 0.0123, 0.0115, 0.0087, 0.0072, 0.0104,\n",
       "        0.0126, 0.0076, 0.0082, 0.0100, 0.0125, 0.0131, 0.0090, 0.0101, 0.0098,\n",
       "        0.0125, 0.0077, 0.0145, 0.0112, 0.0094, 0.0102, 0.0114, 0.0116, 0.0098,\n",
       "        0.0087, 0.0101, 0.0109, 0.0085, 0.0093, 0.0084, 0.0131, 0.0098, 0.0116,\n",
       "        0.0110, 0.0088, 0.0083, 0.0086, 0.0132, 0.0126, 0.0115, 0.0111, 0.0113,\n",
       "        0.0083, 0.0103, 0.0135, 0.0085, 0.0079, 0.0159, 0.0094, 0.0089, 0.0096,\n",
       "        0.0096, 0.0106, 0.0080, 0.0120, 0.0113, 0.0080, 0.0093, 0.0133, 0.0106,\n",
       "        0.0093, 0.0070, 0.0109, 0.0101, 0.0108, 0.0096, 0.0136, 0.0098, 0.0140,\n",
       "        0.0111, 0.0110, 0.0139, 0.0100, 0.0080, 0.0154, 0.0103, 0.0101, 0.0082,\n",
       "        0.0099, 0.0109, 0.0122, 0.0070, 0.0073, 0.0087, 0.0100, 0.0061, 0.0121,\n",
       "        0.0081, 0.0113, 0.0092, 0.0099, 0.0092, 0.0116, 0.0088, 0.0094, 0.0085,\n",
       "        0.0151, 0.0080, 0.0075, 0.0115, 0.0116, 0.0075, 0.0088, 0.0158, 0.0112,\n",
       "        0.0105, 0.0098, 0.0087, 0.0094, 0.0140, 0.0088, 0.0121, 0.0120, 0.0077,\n",
       "        0.0077, 0.0101, 0.0108, 0.0105, 0.0122, 0.0086, 0.0088, 0.0120, 0.0095,\n",
       "        0.0091, 0.0105, 0.0118, 0.0110, 0.0110, 0.0066, 0.0118, 0.0138, 0.0103,\n",
       "        0.0091, 0.0094, 0.0135, 0.0114, 0.0118, 0.0127, 0.0122, 0.0128, 0.0105,\n",
       "        0.0060, 0.0088, 0.0110, 0.0098, 0.0115, 0.0079, 0.0082, 0.0135, 0.0084,\n",
       "        0.0140, 0.0076, 0.0058, 0.0128, 0.0103, 0.0066, 0.0074, 0.0102, 0.0086,\n",
       "        0.0080, 0.0095, 0.0088, 0.0120, 0.0126, 0.0126, 0.0084, 0.0138, 0.0095,\n",
       "        0.0091, 0.0108, 0.0121, 0.0120, 0.0104, 0.0104, 0.0132, 0.0072, 0.0119,\n",
       "        0.0076, 0.0098, 0.0103, 0.0072, 0.0096, 0.0089, 0.0146, 0.0103, 0.0131,\n",
       "        0.0112, 0.0082])"
      ]
     },
     "execution_count": 28,
     "metadata": {},
     "output_type": "execute_result"
    }
   ],
   "source": [
    "maxp*fs_ratio"
   ]
  },
  {
   "cell_type": "code",
   "execution_count": 29,
   "id": "644fc15d",
   "metadata": {},
   "outputs": [
    {
     "data": {
      "text/plain": [
       "tensor([0.0112, 0.0087, 0.0082, 0.0089, 0.0086, 0.0089, 0.0133, 0.0162, 0.0190])"
      ]
     },
     "execution_count": 29,
     "metadata": {},
     "output_type": "execute_result"
    }
   ],
   "source": [
    "averaged[1]"
   ]
  },
  {
   "cell_type": "code",
   "execution_count": 30,
   "id": "da471f93",
   "metadata": {},
   "outputs": [
    {
     "data": {
      "text/plain": [
       "[<matplotlib.lines.Line2D at 0x7fbde39f76d0>]"
      ]
     },
     "execution_count": 30,
     "metadata": {},
     "output_type": "execute_result"
    },
    {
     "data": {
      "image/png": "[encoded data removed]",
      "text/plain": [
       "<Figure size 432x288 with 1 Axes>"
      ]
     },
     "metadata": {
      "needs_background": "light"
     },
     "output_type": "display_data"
    }
   ],
   "source": [
    "plt.plot(averaged.mean(0))"
   ]
  },
  {
   "cell_type": "code",
   "execution_count": 31,
   "id": "801f6deb",
   "metadata": {},
   "outputs": [
    {
     "name": "stdout",
     "output_type": "stream",
     "text": [
      "tensor([6.])\n"
     ]
    },
    {
     "data": {
      "image/png": "[encoded data removed]",
      "text/plain": [
       "<Figure size 432x288 with 1 Axes>"
      ]
     },
     "metadata": {
      "needs_background": "light"
     },
     "output_type": "display_data"
    }
   ],
   "source": [
    "i = 0\n",
    "plt.plot(averaged[i])\n",
    "print(np.floor((targs[i]-volume.get_passive_z_range()[0]-(2*volume.passive_size))/volume.passive_size))"
   ]
  },
  {
   "cell_type": "code",
   "execution_count": 32,
   "id": "0ae5784e",
   "metadata": {},
   "outputs": [
    {
     "name": "stdout",
     "output_type": "stream",
     "text": [
      "tensor([7.])\n"
     ]
    },
    {
     "data": {
      "image/png": "[encoded data removed]",
      "text/plain": [
       "<Figure size 432x288 with 1 Axes>"
      ]
     },
     "metadata": {
      "needs_background": "light"
     },
     "output_type": "display_data"
    }
   ],
   "source": [
    "i = 1\n",
    "plt.plot(averaged[i])\n",
    "print(np.floor((targs[i]-volume.get_passive_z_range()[0]-(2*volume.passive_size))/volume.passive_size))"
   ]
  },
  {
   "cell_type": "code",
   "execution_count": 33,
   "id": "1a20a950",
   "metadata": {},
   "outputs": [
    {
     "name": "stdout",
     "output_type": "stream",
     "text": [
      "tensor([1.])\n"
     ]
    },
    {
     "data": {
      "image/png": "[encoded data removed]",
      "text/plain": [
       "<Figure size 432x288 with 1 Axes>"
      ]
     },
     "metadata": {
      "needs_background": "light"
     },
     "output_type": "display_data"
    }
   ],
   "source": [
    "i = 3\n",
    "plt.plot(averaged[i])\n",
    "print(np.floor((targs[i]-volume.get_passive_z_range()[0]-(2*volume.passive_size))/volume.passive_size))"
   ]
  },
  {
   "cell_type": "code",
   "execution_count": 34,
   "id": "baf4e7bd",
   "metadata": {},
   "outputs": [
    {
     "data": {
      "text/plain": [
       "torch.Size([200, 9])"
      ]
     },
     "execution_count": 34,
     "metadata": {},
     "output_type": "execute_result"
    }
   ],
   "source": [
    "averaged.shape"
   ]
  },
  {
   "cell_type": "code",
   "execution_count": 37,
   "id": "f2b963df",
   "metadata": {},
   "outputs": [
    {
     "data": {
      "text/plain": [
       "tensor(1.5081)"
      ]
     },
     "execution_count": 37,
     "metadata": {},
     "output_type": "execute_result"
    }
   ],
   "source": [
    "mcorr = pgen.x0_furnace/preds[:,0].mean(); mcorr"
   ]
  },
  {
   "cell_type": "code",
   "execution_count": 38,
   "id": "b764f372",
   "metadata": {},
   "outputs": [
    {
     "data": {
      "text/plain": [
       "(0.01757, tensor(0.0117))"
      ]
     },
     "execution_count": 38,
     "metadata": {},
     "output_type": "execute_result"
    }
   ],
   "source": [
    "pgen.x0_furnace,preds[:,0].mean()"
   ]
  },
  {
   "cell_type": "code",
   "execution_count": 39,
   "id": "558cd75a",
   "metadata": {},
   "outputs": [
    {
     "data": {
      "text/plain": [
       "tensor([0.0098, 0.0091, 0.0098, 0.0114, 0.0133, 0.0156, 0.0182, 0.0211, 0.0246])"
      ]
     },
     "execution_count": 39,
     "metadata": {},
     "output_type": "execute_result"
    }
   ],
   "source": [
    "ladel_removed.mean((0,2,3))"
   ]
  },
  {
   "cell_type": "code",
   "execution_count": 40,
   "id": "e8986da2",
   "metadata": {},
   "outputs": [
    {
     "data": {
      "text/plain": [
       "tensor([0.0147, 0.0138, 0.0148, 0.0172, 0.0201, 0.0235, 0.0274, 0.0318, 0.0372])"
      ]
     },
     "execution_count": 40,
     "metadata": {},
     "output_type": "execute_result"
    }
   ],
   "source": [
    "ladel_removed.mean((0,2,3))*mcorr"
   ]
  },
  {
   "cell_type": "code",
   "execution_count": 41,
   "id": "693d444b",
   "metadata": {},
   "outputs": [
    {
     "data": {
      "text/plain": [
       "tensor(0.0059)"
      ]
     },
     "execution_count": 41,
     "metadata": {},
     "output_type": "execute_result"
    }
   ],
   "source": [
    "acorr = pgen.x0_furnace-preds[:,0].mean(); acorr"
   ]
  },
  {
   "cell_type": "code",
   "execution_count": 42,
   "id": "745cb0c8",
   "metadata": {},
   "outputs": [
    {
     "data": {
      "text/plain": [
       "(0.01757, tensor(0.0117))"
      ]
     },
     "execution_count": 42,
     "metadata": {},
     "output_type": "execute_result"
    }
   ],
   "source": [
    "pgen.x0_furnace,preds[:,0].mean()"
   ]
  },
  {
   "cell_type": "code",
   "execution_count": 43,
   "id": "c4e87fec",
   "metadata": {},
   "outputs": [
    {
     "data": {
      "text/plain": [
       "tensor([0.0098, 0.0091, 0.0098, 0.0114, 0.0133, 0.0156, 0.0182, 0.0211, 0.0246])"
      ]
     },
     "execution_count": 43,
     "metadata": {},
     "output_type": "execute_result"
    }
   ],
   "source": [
    "ladel_removed.mean((0,2,3))"
   ]
  },
  {
   "cell_type": "code",
   "execution_count": 44,
   "id": "7b2cf3e0",
   "metadata": {},
   "outputs": [
    {
     "data": {
      "text/plain": [
       "tensor([0.0157, 0.0150, 0.0157, 0.0173, 0.0192, 0.0215, 0.0241, 0.0270, 0.0306])"
      ]
     },
     "execution_count": 44,
     "metadata": {},
     "output_type": "execute_result"
    }
   ],
   "source": [
    "ladel_removed.mean((0,2,3))+acorr"
   ]
  },
  {
   "cell_type": "code",
   "execution_count": 45,
   "id": "47c24344",
   "metadata": {},
   "outputs": [
    {
     "name": "stdout",
     "output_type": "stream",
     "text": [
      "tensor([7.])\n"
     ]
    },
    {
     "data": {
      "image/png": "[encoded data removed]",
      "text/plain": [
       "<Figure size 432x288 with 1 Axes>"
      ]
     },
     "metadata": {
      "needs_background": "light"
     },
     "output_type": "display_data"
    }
   ],
   "source": [
    "i = 1\n",
    "plt.plot(averaged[i]+acorr)\n",
    "print(np.floor((targs[i]-volume.get_passive_z_range()[0]-(2*volume.passive_size))/volume.passive_size))"
   ]
  },
  {
   "cell_type": "markdown",
   "id": "e1ec5fc8",
   "metadata": {},
   "source": [
    "## Classification"
   ]
  },
  {
   "cell_type": "code",
   "execution_count": 46,
   "id": "84616d9d",
   "metadata": {},
   "outputs": [
    {
     "data": {
      "text/plain": [
       "torch.Size([200, 9])"
      ]
     },
     "execution_count": 46,
     "metadata": {},
     "output_type": "execute_result"
    }
   ],
   "source": [
    "averaged.shape"
   ]
  },
  {
   "cell_type": "code",
   "execution_count": 47,
   "id": "a39a8ec0",
   "metadata": {},
   "outputs": [
    {
     "data": {
      "text/plain": [
       "(0.3000000178813934, 1.2000000476837158)"
      ]
     },
     "execution_count": 47,
     "metadata": {},
     "output_type": "execute_result"
    }
   ],
   "source": [
    "pgen.fill_z_range"
   ]
  },
  {
   "cell_type": "code",
   "execution_count": 48,
   "id": "93d1b50d",
   "metadata": {},
   "outputs": [],
   "source": [
    "n = len(volume.get_passives())"
   ]
  },
  {
   "cell_type": "code",
   "execution_count": 49,
   "id": "57be0a7c",
   "metadata": {},
   "outputs": [],
   "source": [
    "hypotheses = torch.stack([(X0['air']*(n-i))/(pgen.fill_x0s.mean()*i) for i in range(2,n-1)], dim=0)"
   ]
  },
  {
   "cell_type": "code",
   "execution_count": 50,
   "id": "80aedfa5",
   "metadata": {},
   "outputs": [
    {
     "data": {
      "text/plain": [
       "tensor([14037.0918,  8188.3037,  5263.9092,  3509.2725,  2339.5151,  1503.9740,\n",
       "          877.3182])"
      ]
     },
     "execution_count": 50,
     "metadata": {},
     "output_type": "execute_result"
    }
   ],
   "source": [
    "hypotheses"
   ]
  },
  {
   "cell_type": "code",
   "execution_count": 51,
   "id": "72aa66b5",
   "metadata": {},
   "outputs": [
    {
     "data": {
      "text/plain": [
       "torch.Size([7])"
      ]
     },
     "execution_count": 51,
     "metadata": {},
     "output_type": "execute_result"
    }
   ],
   "source": [
    "hypotheses.shape"
   ]
  },
  {
   "cell_type": "code",
   "execution_count": 52,
   "id": "7e91db4a",
   "metadata": {},
   "outputs": [
    {
     "data": {
      "text/plain": [
       "torch.Size([200, 9])"
      ]
     },
     "execution_count": 52,
     "metadata": {},
     "output_type": "execute_result"
    }
   ],
   "source": [
    "averaged.shape"
   ]
  },
  {
   "cell_type": "code",
   "execution_count": 53,
   "id": "f61b6f9a",
   "metadata": {},
   "outputs": [
    {
     "data": {
      "text/plain": [
       "tensor([0.0252, 0.0190, 0.0202, 0.0153, 0.0257, 0.0263, 0.0203, 0.0199, 0.0209,\n",
       "        0.0251, 0.0334, 0.0259, 0.0308, 0.0295, 0.0276, 0.0210, 0.0172, 0.0250,\n",
       "        0.0301, 0.0181, 0.0197, 0.0241, 0.0301, 0.0314, 0.0216, 0.0241, 0.0236,\n",
       "        0.0301, 0.0185, 0.0348, 0.0269, 0.0225, 0.0245, 0.0274, 0.0277, 0.0236,\n",
       "        0.0208, 0.0242, 0.0262, 0.0204, 0.0224, 0.0201, 0.0313, 0.0235, 0.0279,\n",
       "        0.0264, 0.0210, 0.0199, 0.0207, 0.0317, 0.0302, 0.0276, 0.0266, 0.0272,\n",
       "        0.0199, 0.0246, 0.0323, 0.0205, 0.0189, 0.0380, 0.0226, 0.0213, 0.0230,\n",
       "        0.0229, 0.0254, 0.0192, 0.0287, 0.0270, 0.0192, 0.0223, 0.0319, 0.0255,\n",
       "        0.0222, 0.0167, 0.0260, 0.0241, 0.0260, 0.0230, 0.0325, 0.0234, 0.0336,\n",
       "        0.0266, 0.0264, 0.0334, 0.0240, 0.0191, 0.0369, 0.0246, 0.0243, 0.0196,\n",
       "        0.0238, 0.0261, 0.0291, 0.0168, 0.0174, 0.0209, 0.0240, 0.0147, 0.0291,\n",
       "        0.0195, 0.0270, 0.0221, 0.0236, 0.0221, 0.0279, 0.0211, 0.0225, 0.0204,\n",
       "        0.0362, 0.0191, 0.0181, 0.0277, 0.0278, 0.0180, 0.0212, 0.0379, 0.0268,\n",
       "        0.0251, 0.0235, 0.0208, 0.0225, 0.0336, 0.0211, 0.0289, 0.0289, 0.0183,\n",
       "        0.0184, 0.0241, 0.0259, 0.0252, 0.0293, 0.0207, 0.0211, 0.0286, 0.0229,\n",
       "        0.0218, 0.0251, 0.0283, 0.0264, 0.0264, 0.0158, 0.0282, 0.0330, 0.0246,\n",
       "        0.0218, 0.0225, 0.0323, 0.0273, 0.0283, 0.0304, 0.0292, 0.0306, 0.0252,\n",
       "        0.0143, 0.0212, 0.0263, 0.0234, 0.0276, 0.0188, 0.0197, 0.0322, 0.0201,\n",
       "        0.0336, 0.0183, 0.0138, 0.0306, 0.0246, 0.0158, 0.0178, 0.0244, 0.0206,\n",
       "        0.0192, 0.0227, 0.0212, 0.0289, 0.0301, 0.0303, 0.0202, 0.0331, 0.0228,\n",
       "        0.0219, 0.0258, 0.0291, 0.0287, 0.0250, 0.0249, 0.0316, 0.0172, 0.0285,\n",
       "        0.0183, 0.0235, 0.0248, 0.0172, 0.0229, 0.0213, 0.0351, 0.0247, 0.0315,\n",
       "        0.0268, 0.0195])"
      ]
     },
     "execution_count": 53,
     "metadata": {},
     "output_type": "execute_result"
    }
   ],
   "source": [
    "averaged[:,8:].sum(-1)"
   ]
  },
  {
   "cell_type": "markdown",
   "id": "b38c2326",
   "metadata": {},
   "source": [
    "## No bias correction"
   ]
  },
  {
   "cell_type": "code",
   "execution_count": 54,
   "id": "58f9d4a1",
   "metadata": {},
   "outputs": [],
   "source": [
    "pred_ratio = torch.stack([averaged[:,i:].sum(-1)/averaged[:,:i].sum(-1) for i in range(2,n-1)], dim=1)"
   ]
  },
  {
   "cell_type": "code",
   "execution_count": 55,
   "id": "66e837ee",
   "metadata": {},
   "outputs": [
    {
     "data": {
      "text/plain": [
       "tensor([[5.3359, 3.3319, 2.2568,  ..., 1.1271, 0.6978, 0.3158],\n",
       "        [4.1721, 2.6622, 1.7828,  ..., 0.8890, 0.5182, 0.2255],\n",
       "        [6.4058, 3.8941, 2.6036,  ..., 1.1248, 0.5906, 0.2442],\n",
       "        ...,\n",
       "        [6.0298, 3.6432, 2.3316,  ..., 1.0110, 0.6364, 0.2997],\n",
       "        [4.2869, 2.7809, 2.0097,  ..., 1.0303, 0.6469, 0.3044],\n",
       "        [7.3673, 3.8220, 2.3229,  ..., 0.7724, 0.3846, 0.1656]])"
      ]
     },
     "execution_count": 55,
     "metadata": {},
     "output_type": "execute_result"
    }
   ],
   "source": [
    "pred_ratio"
   ]
  },
  {
   "cell_type": "code",
   "execution_count": 56,
   "id": "2a81da7e",
   "metadata": {},
   "outputs": [
    {
     "data": {
      "text/plain": [
       "torch.Size([200, 7])"
      ]
     },
     "execution_count": 56,
     "metadata": {},
     "output_type": "execute_result"
    }
   ],
   "source": [
    "pred_ratio.shape"
   ]
  },
  {
   "cell_type": "code",
   "execution_count": 79,
   "id": "7a8ab0f8",
   "metadata": {},
   "outputs": [],
   "source": [
    "logits = 1/torch.abs((hypotheses/pred_ratio)-1)"
   ]
  },
  {
   "cell_type": "code",
   "execution_count": 80,
   "id": "5ca39ed8",
   "metadata": {},
   "outputs": [
    {
     "data": {
      "text/plain": [
       "tensor([[0.0004, 0.0004, 0.0004,  ..., 0.0005, 0.0005, 0.0004],\n",
       "        [0.0003, 0.0003, 0.0003,  ..., 0.0004, 0.0003, 0.0003],\n",
       "        [0.0005, 0.0005, 0.0005,  ..., 0.0005, 0.0004, 0.0003],\n",
       "        ...,\n",
       "        [0.0004, 0.0004, 0.0004,  ..., 0.0004, 0.0004, 0.0003],\n",
       "        [0.0003, 0.0003, 0.0004,  ..., 0.0004, 0.0004, 0.0003],\n",
       "        [0.0005, 0.0005, 0.0004,  ..., 0.0003, 0.0003, 0.0002]])"
      ]
     },
     "execution_count": 80,
     "metadata": {},
     "output_type": "execute_result"
    }
   ],
   "source": [
    "logits"
   ]
  },
  {
   "cell_type": "code",
   "execution_count": 81,
   "id": "5e3fc7bd",
   "metadata": {},
   "outputs": [
    {
     "data": {
      "text/plain": [
       "tensor([14037.0918,  8188.3037,  5263.9092,  3509.2725,  2339.5151,  1503.9740,\n",
       "          877.3182])"
      ]
     },
     "execution_count": 81,
     "metadata": {},
     "output_type": "execute_result"
    }
   ],
   "source": [
    "hypotheses"
   ]
  },
  {
   "cell_type": "code",
   "execution_count": 82,
   "id": "785d2a76",
   "metadata": {},
   "outputs": [],
   "source": [
    "probs = F.softmax(logits, dim=-1)"
   ]
  },
  {
   "cell_type": "code",
   "execution_count": 83,
   "id": "c6ccafdd",
   "metadata": {},
   "outputs": [],
   "source": [
    "p = ((probs.argmax(-1)+2)*volume.passive_size)+volume.get_passive_z_range()[0]"
   ]
  },
  {
   "cell_type": "code",
   "execution_count": 84,
   "id": "1c8353c5",
   "metadata": {},
   "outputs": [
    {
     "data": {
      "text/plain": [
       "tensor([0.8000, 0.8000, 0.7000, 0.5000, 0.8000, 0.5000, 0.5000, 0.5000, 0.8000,\n",
       "        0.5000, 0.6000, 0.5000, 0.6000, 0.4000, 0.4000, 0.5000, 0.7000, 0.6000,\n",
       "        0.5000, 0.6000, 0.6000, 0.4000, 0.4000, 0.5000, 0.8000, 0.8000, 0.4000,\n",
       "        0.8000, 0.4000, 0.8000, 0.6000, 0.6000, 0.7000, 0.5000, 0.8000, 0.5000,\n",
       "        0.8000, 0.7000, 0.7000, 0.8000, 0.6000, 0.7000, 0.5000, 0.7000, 0.5000,\n",
       "        0.7000, 0.5000, 0.4000, 0.4000, 0.8000, 0.5000, 0.4000, 0.4000, 0.5000,\n",
       "        0.5000, 0.7000, 0.6000, 0.5000, 0.4000, 0.7000, 0.8000, 0.8000, 0.8000,\n",
       "        0.7000, 0.6000, 0.4000, 0.4000, 0.6000, 0.5000, 0.4000, 0.7000, 0.5000,\n",
       "        0.7000, 0.7000, 0.6000, 0.6000, 0.4000, 0.4000, 0.8000, 0.4000, 0.7000,\n",
       "        0.8000, 0.6000, 0.5000, 0.7000, 0.6000, 0.8000, 0.5000, 0.5000, 0.6000,\n",
       "        0.6000, 0.5000, 0.4000, 0.4000, 0.8000, 0.4000, 0.5000, 0.4000, 0.4000,\n",
       "        0.5000, 0.7000, 0.6000, 0.5000, 0.8000, 0.8000, 0.4000, 0.4000, 0.6000,\n",
       "        0.6000, 0.7000, 0.6000, 0.7000, 0.4000, 0.6000, 0.6000, 0.8000, 0.4000,\n",
       "        0.5000, 0.6000, 0.6000, 0.5000, 0.6000, 0.4000, 0.5000, 0.4000, 0.4000,\n",
       "        0.6000, 0.6000, 0.7000, 0.4000, 0.7000, 0.8000, 0.4000, 0.4000, 0.5000,\n",
       "        0.6000, 0.7000, 0.8000, 0.6000, 0.5000, 0.4000, 0.5000, 0.4000, 0.8000,\n",
       "        0.5000, 0.5000, 0.8000, 0.5000, 0.6000, 0.7000, 0.5000, 0.4000, 0.7000,\n",
       "        0.4000, 0.6000, 0.5000, 0.4000, 0.5000, 0.5000, 0.4000, 0.7000, 0.7000,\n",
       "        0.4000, 0.4000, 0.4000, 0.5000, 0.5000, 0.5000, 0.4000, 0.7000, 0.8000,\n",
       "        0.8000, 0.5000, 0.4000, 0.7000, 0.8000, 0.7000, 0.6000, 0.5000, 0.5000,\n",
       "        0.6000, 0.4000, 0.7000, 0.6000, 0.6000, 0.4000, 0.4000, 0.4000, 0.7000,\n",
       "        0.4000, 0.4000, 0.5000, 0.7000, 0.8000, 0.5000, 0.4000, 0.8000, 0.5000,\n",
       "        0.8000, 0.4000])"
      ]
     },
     "execution_count": 84,
     "metadata": {},
     "output_type": "execute_result"
    }
   ],
   "source": [
    "p"
   ]
  },
  {
   "cell_type": "code",
   "execution_count": 85,
   "id": "8cd03a8c",
   "metadata": {},
   "outputs": [
    {
     "data": {
      "text/plain": [
       "tensor([4, 4, 3, 1, 4, 1, 1, 1, 4, 1, 2, 1, 2, 0, 0, 1, 3, 2, 1, 2, 2, 0, 0, 1,\n",
       "        4, 4, 0, 4, 0, 4, 2, 2, 3, 1, 4, 1, 4, 3, 3, 4, 2, 3, 1, 3, 1, 3, 1, 0,\n",
       "        0, 4, 1, 0, 0, 1, 1, 3, 2, 1, 0, 3, 4, 4, 4, 3, 2, 0, 0, 2, 1, 0, 3, 1,\n",
       "        3, 3, 2, 2, 0, 0, 4, 0, 3, 4, 2, 1, 3, 2, 4, 1, 1, 2, 2, 1, 0, 0, 4, 0,\n",
       "        1, 0, 0, 1, 3, 2, 1, 4, 4, 0, 0, 2, 2, 3, 2, 3, 0, 2, 2, 4, 0, 1, 2, 2,\n",
       "        1, 2, 0, 1, 0, 0, 2, 2, 3, 0, 3, 4, 0, 0, 1, 2, 3, 4, 2, 1, 0, 1, 0, 4,\n",
       "        1, 1, 4, 1, 2, 3, 1, 0, 3, 0, 2, 1, 0, 1, 1, 0, 3, 3, 0, 0, 0, 1, 1, 1,\n",
       "        0, 3, 4, 4, 1, 0, 3, 4, 3, 2, 1, 1, 2, 0, 3, 2, 2, 0, 0, 0, 3, 0, 0, 1,\n",
       "        3, 4, 1, 0, 4, 1, 4, 0])"
      ]
     },
     "execution_count": 85,
     "metadata": {},
     "output_type": "execute_result"
    }
   ],
   "source": [
    "probs.argmax(-1)"
   ]
  },
  {
   "cell_type": "code",
   "execution_count": 86,
   "id": "19444605",
   "metadata": {},
   "outputs": [
    {
     "data": {
      "text/plain": [
       "(tensor([0.2000]), tensor([1.2000]))"
      ]
     },
     "execution_count": 86,
     "metadata": {},
     "output_type": "execute_result"
    }
   ],
   "source": [
    "volume.get_passive_z_range()"
   ]
  },
  {
   "cell_type": "code",
   "execution_count": 87,
   "id": "95de9df5",
   "metadata": {},
   "outputs": [
    {
     "data": {
      "text/plain": [
       "tensor(0.1199)"
      ]
     },
     "execution_count": 87,
     "metadata": {},
     "output_type": "execute_result"
    }
   ],
   "source": [
    "get_mse(p, targs)"
   ]
  },
  {
   "cell_type": "markdown",
   "id": "5ff1cce0",
   "metadata": {},
   "source": [
    "## Multiplicative bias correction\n",
    "Assume layer 1 is filled\n",
    "Assume layer -1 is air"
   ]
  },
  {
   "cell_type": "code",
   "execution_count": 88,
   "id": "b6aa56fd",
   "metadata": {},
   "outputs": [],
   "source": [
    "fill_bias = averaged[:,0]/pgen.fill_x0s.mean()"
   ]
  },
  {
   "cell_type": "code",
   "execution_count": 89,
   "id": "64852753",
   "metadata": {},
   "outputs": [],
   "source": [
    "air_bias = averaged[:,-1]/X0['air']"
   ]
  },
  {
   "cell_type": "code",
   "execution_count": 90,
   "id": "34b8bb86",
   "metadata": {},
   "outputs": [
    {
     "data": {
      "text/plain": [
       "(tensor(0.0890), tensor(0.0098), tensor(0.0890))"
      ]
     },
     "execution_count": 90,
     "metadata": {},
     "output_type": "execute_result"
    }
   ],
   "source": [
    "pgen.fill_x0s.mean(), averaged[:,0].mean(), (averaged[:,0]/fill_bias).mean()"
   ]
  },
  {
   "cell_type": "code",
   "execution_count": 91,
   "id": "65a0a9f2",
   "metadata": {},
   "outputs": [],
   "source": [
    "pred_ratio = torch.stack([(averaged[:,i:].sum(-1)/air_bias)/(averaged[:,:i].sum(-1)/fill_bias) for i in range(2,n-1)], dim=1)"
   ]
  },
  {
   "cell_type": "code",
   "execution_count": 92,
   "id": "ed18a3c7",
   "metadata": {},
   "outputs": [
    {
     "data": {
      "text/plain": [
       "torch.Size([200, 7])"
      ]
     },
     "execution_count": 92,
     "metadata": {},
     "output_type": "execute_result"
    }
   ],
   "source": [
    "pred_ratio.shape"
   ]
  },
  {
   "cell_type": "code",
   "execution_count": 93,
   "id": "4573d387",
   "metadata": {},
   "outputs": [],
   "source": [
    "logits =  1/torch.abs((hypotheses/pred_ratio)-1)"
   ]
  },
  {
   "cell_type": "code",
   "execution_count": 94,
   "id": "00be228e",
   "metadata": {},
   "outputs": [],
   "source": [
    "probs = F.softmax(logits, dim=-1)"
   ]
  },
  {
   "cell_type": "code",
   "execution_count": 95,
   "id": "47421d0b",
   "metadata": {},
   "outputs": [],
   "source": [
    "p = ((probs.argmax(-1)+2)*volume.passive_size)+volume.get_passive_z_range()[0]"
   ]
  },
  {
   "cell_type": "code",
   "execution_count": 96,
   "id": "fe73d580",
   "metadata": {},
   "outputs": [
    {
     "data": {
      "text/plain": [
       "tensor([0.8000, 0.8000, 0.7000, 0.5000, 0.8000, 0.5000, 0.5000, 0.5000, 0.8000,\n",
       "        0.5000, 0.6000, 0.5000, 0.6000, 0.4000, 0.4000, 0.5000, 0.7000, 0.6000,\n",
       "        0.5000, 0.6000, 0.6000, 0.4000, 0.4000, 0.5000, 0.8000, 0.8000, 0.4000,\n",
       "        0.8000, 0.4000, 0.8000, 0.6000, 0.6000, 0.7000, 0.5000, 0.8000, 0.5000,\n",
       "        0.8000, 0.7000, 0.7000, 0.8000, 0.6000, 0.7000, 0.5000, 0.7000, 0.5000,\n",
       "        0.7000, 0.5000, 0.4000, 0.4000, 0.8000, 0.5000, 0.4000, 0.4000, 0.5000,\n",
       "        0.5000, 0.7000, 0.6000, 0.5000, 0.4000, 0.7000, 0.8000, 0.8000, 0.8000,\n",
       "        0.7000, 0.6000, 0.4000, 0.4000, 0.6000, 0.5000, 0.4000, 0.7000, 0.5000,\n",
       "        0.7000, 0.7000, 0.6000, 0.6000, 0.4000, 0.4000, 0.8000, 0.4000, 0.7000,\n",
       "        0.8000, 0.6000, 0.5000, 0.7000, 0.6000, 0.8000, 0.5000, 0.5000, 0.6000,\n",
       "        0.6000, 0.5000, 0.4000, 0.4000, 0.8000, 0.4000, 0.5000, 0.4000, 0.4000,\n",
       "        0.5000, 0.7000, 0.6000, 0.5000, 0.8000, 0.8000, 0.4000, 0.4000, 0.6000,\n",
       "        0.6000, 0.7000, 0.6000, 0.7000, 0.4000, 0.6000, 0.6000, 0.8000, 0.4000,\n",
       "        0.5000, 0.6000, 0.6000, 0.5000, 0.6000, 0.4000, 0.5000, 0.4000, 0.4000,\n",
       "        0.6000, 0.6000, 0.7000, 0.4000, 0.7000, 0.8000, 0.4000, 0.4000, 0.5000,\n",
       "        0.6000, 0.7000, 0.8000, 0.6000, 0.5000, 0.4000, 0.5000, 0.4000, 0.8000,\n",
       "        0.5000, 0.5000, 0.8000, 0.5000, 0.6000, 0.7000, 0.5000, 0.4000, 0.7000,\n",
       "        0.5000, 0.6000, 0.5000, 0.4000, 0.5000, 0.5000, 0.4000, 0.7000, 0.7000,\n",
       "        0.4000, 0.4000, 0.4000, 0.5000, 0.5000, 0.5000, 0.4000, 0.7000, 0.8000,\n",
       "        0.8000, 0.5000, 0.4000, 0.7000, 0.8000, 0.7000, 0.6000, 0.5000, 0.5000,\n",
       "        0.6000, 0.4000, 0.7000, 0.6000, 0.6000, 0.4000, 0.4000, 0.4000, 0.7000,\n",
       "        0.4000, 0.4000, 0.5000, 0.7000, 0.8000, 0.5000, 0.4000, 0.8000, 0.5000,\n",
       "        0.8000, 0.4000])"
      ]
     },
     "execution_count": 96,
     "metadata": {},
     "output_type": "execute_result"
    }
   ],
   "source": [
    "p"
   ]
  },
  {
   "cell_type": "code",
   "execution_count": 97,
   "id": "a2f433b7",
   "metadata": {},
   "outputs": [
    {
     "data": {
      "text/plain": [
       "tensor([4, 4, 3, 1, 4, 1, 1, 1, 4, 1, 2, 1, 2, 0, 0, 1, 3, 2, 1, 2, 2, 0, 0, 1,\n",
       "        4, 4, 0, 4, 0, 4, 2, 2, 3, 1, 4, 1, 4, 3, 3, 4, 2, 3, 1, 3, 1, 3, 1, 0,\n",
       "        0, 4, 1, 0, 0, 1, 1, 3, 2, 1, 0, 3, 4, 4, 4, 3, 2, 0, 0, 2, 1, 0, 3, 1,\n",
       "        3, 3, 2, 2, 0, 0, 4, 0, 3, 4, 2, 1, 3, 2, 4, 1, 1, 2, 2, 1, 0, 0, 4, 0,\n",
       "        1, 0, 0, 1, 3, 2, 1, 4, 4, 0, 0, 2, 2, 3, 2, 3, 0, 2, 2, 4, 0, 1, 2, 2,\n",
       "        1, 2, 0, 1, 0, 0, 2, 2, 3, 0, 3, 4, 0, 0, 1, 2, 3, 4, 2, 1, 0, 1, 0, 4,\n",
       "        1, 1, 4, 1, 2, 3, 1, 0, 3, 1, 2, 1, 0, 1, 1, 0, 3, 3, 0, 0, 0, 1, 1, 1,\n",
       "        0, 3, 4, 4, 1, 0, 3, 4, 3, 2, 1, 1, 2, 0, 3, 2, 2, 0, 0, 0, 3, 0, 0, 1,\n",
       "        3, 4, 1, 0, 4, 1, 4, 0])"
      ]
     },
     "execution_count": 97,
     "metadata": {},
     "output_type": "execute_result"
    }
   ],
   "source": [
    "probs.argmax(-1)"
   ]
  },
  {
   "cell_type": "code",
   "execution_count": 99,
   "id": "0fc99569",
   "metadata": {},
   "outputs": [
    {
     "data": {
      "text/plain": [
       "tensor(0.1196)"
      ]
     },
     "execution_count": 99,
     "metadata": {},
     "output_type": "execute_result"
    }
   ],
   "source": [
    "get_mse(p, targs)"
   ]
  },
  {
   "cell_type": "markdown",
   "id": "7e4f96dd",
   "metadata": {},
   "source": [
    "# Edge finding"
   ]
  },
  {
   "cell_type": "code",
   "execution_count": 160,
   "id": "c02cd3ef",
   "metadata": {},
   "outputs": [
    {
     "name": "stdout",
     "output_type": "stream",
     "text": [
      "Zero-ordered target layer ID (including ladel bottom layer): tensor([7.])\n"
     ]
    },
    {
     "data": {
      "image/png": "[encoded data removed]",
      "text/plain": [
       "<Figure size 1024x576 with 10 Axes>"
      ]
     },
     "metadata": {},
     "output_type": "display_data"
    }
   ],
   "source": [
    "plot_pred(preds[0], targs[0])"
   ]
  },
  {
   "cell_type": "code",
   "execution_count": 161,
   "id": "6b9a0bd6",
   "metadata": {},
   "outputs": [
    {
     "data": {
      "text/plain": [
       "torch.Size([10, 10, 10])"
      ]
     },
     "execution_count": 161,
     "metadata": {},
     "output_type": "execute_result"
    }
   ],
   "source": [
    "preds[0].shape"
   ]
  },
  {
   "cell_type": "code",
   "execution_count": 162,
   "id": "b7cd3a33",
   "metadata": {},
   "outputs": [
    {
     "data": {
      "text/plain": [
       "torch.Size([9, 1, 1])"
      ]
     },
     "execution_count": 162,
     "metadata": {},
     "output_type": "execute_result"
    }
   ],
   "source": [
    "averaged[0,:,None,None].shape"
   ]
  },
  {
   "cell_type": "code",
   "execution_count": 163,
   "id": "b6ada0af",
   "metadata": {},
   "outputs": [
    {
     "name": "stdout",
     "output_type": "stream",
     "text": [
      "Zero-ordered target layer ID (including ladel bottom layer): tensor([7.])\n"
     ]
    },
    {
     "data": {
      "image/png": "[encoded data removed]",
      "text/plain": [
       "<Figure size 1024x576 with 9 Axes>"
      ]
     },
     "metadata": {},
     "output_type": "display_data"
    }
   ],
   "source": [
    "plot_pred(averaged[0,:,None,None], targs[0])"
   ]
  },
  {
   "cell_type": "markdown",
   "id": "8aba511e",
   "metadata": {},
   "source": [
    "## Difference"
   ]
  },
  {
   "cell_type": "code",
   "execution_count": 164,
   "id": "12146c1a",
   "metadata": {},
   "outputs": [
    {
     "data": {
      "text/plain": [
       "tensor([0.0092, 0.0073, 0.0077, 0.0080, 0.0088, 0.0083, 0.0125, 0.0180, 0.0252])"
      ]
     },
     "execution_count": 164,
     "metadata": {},
     "output_type": "execute_result"
    }
   ],
   "source": [
    "averaged[0]"
   ]
  },
  {
   "cell_type": "code",
   "execution_count": 165,
   "id": "15cd4331",
   "metadata": {},
   "outputs": [],
   "source": [
    "maxes = F.max_pool1d(averaged, kernel_size=3, padding=1, stride=1)"
   ]
  },
  {
   "cell_type": "code",
   "execution_count": 166,
   "id": "4473ad84",
   "metadata": {},
   "outputs": [
    {
     "data": {
      "text/plain": [
       "torch.Size([200, 9])"
      ]
     },
     "execution_count": 166,
     "metadata": {},
     "output_type": "execute_result"
    }
   ],
   "source": [
    "maxes.shape"
   ]
  },
  {
   "cell_type": "code",
   "execution_count": 167,
   "id": "39f18af1",
   "metadata": {},
   "outputs": [
    {
     "data": {
      "text/plain": [
       "tensor([[0.0092, 0.0092, 0.0080,  ..., 0.0180, 0.0252, 0.0252],\n",
       "        [0.0112, 0.0112, 0.0089,  ..., 0.0162, 0.0190, 0.0190],\n",
       "        [0.0077, 0.0077, 0.0075,  ..., 0.0180, 0.0202, 0.0202],\n",
       "        ...,\n",
       "        [0.0103, 0.0103, 0.0116,  ..., 0.0216, 0.0315, 0.0315],\n",
       "        [0.0123, 0.0123, 0.0094,  ..., 0.0183, 0.0268, 0.0268],\n",
       "        [0.0089, 0.0121, 0.0129,  ..., 0.0217, 0.0217, 0.0195]])"
      ]
     },
     "execution_count": 167,
     "metadata": {},
     "output_type": "execute_result"
    }
   ],
   "source": [
    "maxes"
   ]
  },
  {
   "cell_type": "code",
   "execution_count": 168,
   "id": "63496292",
   "metadata": {},
   "outputs": [
    {
     "name": "stdout",
     "output_type": "stream",
     "text": [
      "Zero-ordered target layer ID (including ladel bottom layer): tensor([7.])\n"
     ]
    },
    {
     "data": {
      "image/png": "[encoded data removed]",
      "text/plain": [
       "<Figure size 1024x576 with 9 Axes>"
      ]
     },
     "metadata": {},
     "output_type": "display_data"
    }
   ],
   "source": [
    "plot_pred(maxes[0,:,None,None], targs[0])"
   ]
  },
  {
   "cell_type": "code",
   "execution_count": 145,
   "id": "c3d0102c",
   "metadata": {},
   "outputs": [],
   "source": [
    "mins = -F.max_pool1d(-averaged, kernel_size=3, padding=1, stride=1)"
   ]
  },
  {
   "cell_type": "code",
   "execution_count": 146,
   "id": "8f63577a",
   "metadata": {},
   "outputs": [
    {
     "data": {
      "text/plain": [
       "tensor([[0.0073, 0.0073, 0.0073,  ..., 0.0083, 0.0125, 0.0180],\n",
       "        [0.0087, 0.0082, 0.0082,  ..., 0.0089, 0.0133, 0.0162],\n",
       "        [0.0062, 0.0062, 0.0062,  ..., 0.0116, 0.0162, 0.0180],\n",
       "        ...,\n",
       "        [0.0091, 0.0091, 0.0091,  ..., 0.0129, 0.0156, 0.0216],\n",
       "        [0.0094, 0.0086, 0.0078,  ..., 0.0110, 0.0131, 0.0183],\n",
       "        [0.0075, 0.0075, 0.0089,  ..., 0.0187, 0.0187, 0.0187]])"
      ]
     },
     "execution_count": 146,
     "metadata": {},
     "output_type": "execute_result"
    }
   ],
   "source": [
    "mins"
   ]
  },
  {
   "cell_type": "code",
   "execution_count": 169,
   "id": "05c00c73",
   "metadata": {},
   "outputs": [
    {
     "name": "stdout",
     "output_type": "stream",
     "text": [
      "Zero-ordered target layer ID (including ladel bottom layer): tensor([7.])\n"
     ]
    },
    {
     "data": {
      "image/png": "[encoded data removed]",
      "text/plain": [
       "<Figure size 1024x576 with 9 Axes>"
      ]
     },
     "metadata": {},
     "output_type": "display_data"
    }
   ],
   "source": [
    "plot_pred(mins[0,:,None,None], targs[0])"
   ]
  },
  {
   "cell_type": "code",
   "execution_count": 186,
   "id": "1e3142c9",
   "metadata": {},
   "outputs": [],
   "source": [
    "diffs = maxes-mins"
   ]
  },
  {
   "cell_type": "code",
   "execution_count": 187,
   "id": "a258004d",
   "metadata": {},
   "outputs": [
    {
     "data": {
      "text/plain": [
       "tensor([[0.0019, 0.0019, 0.0007,  ..., 0.0096, 0.0127, 0.0073],\n",
       "        [0.0025, 0.0030, 0.0007,  ..., 0.0073, 0.0056, 0.0028],\n",
       "        [0.0015, 0.0015, 0.0013,  ..., 0.0064, 0.0039, 0.0022],\n",
       "        ...,\n",
       "        [0.0012, 0.0012, 0.0025,  ..., 0.0087, 0.0160, 0.0099],\n",
       "        [0.0028, 0.0036, 0.0017,  ..., 0.0073, 0.0136, 0.0085],\n",
       "        [0.0014, 0.0045, 0.0040,  ..., 0.0031, 0.0031, 0.0009]])"
      ]
     },
     "execution_count": 187,
     "metadata": {},
     "output_type": "execute_result"
    }
   ],
   "source": [
    "diffs"
   ]
  },
  {
   "cell_type": "code",
   "execution_count": 188,
   "id": "0ca879be",
   "metadata": {},
   "outputs": [
    {
     "name": "stdout",
     "output_type": "stream",
     "text": [
      "Zero-ordered target layer ID (including ladel bottom layer): tensor([7.])\n"
     ]
    },
    {
     "data": {
      "image/png": "[encoded data removed]",
      "text/plain": [
       "<Figure size 1024x576 with 9 Axes>"
      ]
     },
     "metadata": {},
     "output_type": "display_data"
    }
   ],
   "source": [
    "plot_pred(diffs[0,:,None,None], targs[0])"
   ]
  },
  {
   "cell_type": "code",
   "execution_count": 189,
   "id": "9e128825",
   "metadata": {},
   "outputs": [],
   "source": [
    "probs = F.softmax(diffs, dim=-1)"
   ]
  },
  {
   "cell_type": "code",
   "execution_count": 190,
   "id": "08cd1215",
   "metadata": {},
   "outputs": [],
   "source": [
    "p = ((probs.argmax(-1)+2)*volume.passive_size)+volume.get_passive_z_range()[0]"
   ]
  },
  {
   "cell_type": "code",
   "execution_count": 191,
   "id": "4e554320",
   "metadata": {},
   "outputs": [
    {
     "data": {
      "text/plain": [
       "tensor([7, 6, 5, 4, 6, 6, 4, 5, 6, 6, 5, 4, 4, 7, 5, 5, 7, 6, 7, 7, 3, 4, 7, 3,\n",
       "        6, 7, 7, 6, 4, 6, 5, 4, 5, 7, 7, 7, 6, 6, 5, 7, 7, 6, 7, 7, 5, 6, 4, 5,\n",
       "        5, 6, 5, 5, 7, 5, 3, 7, 5, 7, 2, 6, 6, 7, 7, 5, 5, 4, 1, 7, 7, 2, 7, 3,\n",
       "        7, 5, 7, 7, 6, 2, 7, 7, 5, 7, 7, 7, 5, 5, 7, 7, 3, 6, 7, 7, 7, 3, 6, 4,\n",
       "        4, 2, 3, 3, 5, 4, 7, 6, 7, 2, 7, 7, 5, 5, 6, 7, 3, 5, 4, 6, 7, 5, 5, 6,\n",
       "        5, 7, 1, 4, 7, 2, 4, 7, 7, 6, 6, 6, 5, 6, 6, 7, 7, 7, 7, 4, 4, 4, 7, 7,\n",
       "        6, 6, 6, 6, 4, 6, 6, 3, 7, 3, 4, 4, 7, 3, 5, 5, 5, 5, 7, 7, 5, 3, 7, 2,\n",
       "        7, 7, 7, 6, 7, 7, 7, 7, 6, 6, 7, 3, 5, 4, 5, 7, 6, 3, 3, 5, 6, 4, 2, 7,\n",
       "        7, 7, 7, 4, 7, 7, 7, 4])"
      ]
     },
     "execution_count": 191,
     "metadata": {},
     "output_type": "execute_result"
    }
   ],
   "source": [
    "probs.argmax(-1)"
   ]
  },
  {
   "cell_type": "code",
   "execution_count": 192,
   "id": "87a2dd67",
   "metadata": {},
   "outputs": [
    {
     "data": {
      "text/plain": [
       "tensor(0.1305)"
      ]
     },
     "execution_count": 192,
     "metadata": {},
     "output_type": "execute_result"
    }
   ],
   "source": [
    "get_mse(p, targs)"
   ]
  },
  {
   "cell_type": "code",
   "execution_count": 173,
   "id": "505feea6",
   "metadata": {},
   "outputs": [],
   "source": [
    "diffs = maxes/mins"
   ]
  },
  {
   "cell_type": "code",
   "execution_count": 174,
   "id": "a8cd217c",
   "metadata": {},
   "outputs": [
    {
     "data": {
      "text/plain": [
       "tensor([[1.2571, 1.2571, 1.0897,  ..., 2.1533, 2.0190, 1.4039],\n",
       "        [1.2921, 1.3673, 1.0825,  ..., 1.8130, 1.4232, 1.1697],\n",
       "        [1.2345, 1.2345, 1.2109,  ..., 1.5535, 1.2417, 1.1215],\n",
       "        ...,\n",
       "        [1.1318, 1.1318, 1.2707,  ..., 1.6710, 2.0255, 1.4567],\n",
       "        [1.3016, 1.4197, 1.2125,  ..., 1.6618, 2.0352, 1.4631],\n",
       "        [1.1805, 1.6032, 1.4461,  ..., 1.1645, 1.1645, 1.0469]])"
      ]
     },
     "execution_count": 174,
     "metadata": {},
     "output_type": "execute_result"
    }
   ],
   "source": [
    "diffs"
   ]
  },
  {
   "cell_type": "code",
   "execution_count": 180,
   "id": "e8bb0aec",
   "metadata": {},
   "outputs": [
    {
     "name": "stdout",
     "output_type": "stream",
     "text": [
      "Zero-ordered target layer ID (including ladel bottom layer): tensor([2.])\n"
     ]
    },
    {
     "data": {
      "image/png": "[encoded data removed]",
      "text/plain": [
       "<Figure size 1024x576 with 9 Axes>"
      ]
     },
     "metadata": {},
     "output_type": "display_data"
    }
   ],
   "source": [
    "plot_pred(diffs[3,:,None,None], targs[3])"
   ]
  },
  {
   "cell_type": "code",
   "execution_count": 181,
   "id": "d11ae95e",
   "metadata": {},
   "outputs": [],
   "source": [
    "probs = F.softmax(diffs, dim=-1)"
   ]
  },
  {
   "cell_type": "code",
   "execution_count": 182,
   "id": "51105ca7",
   "metadata": {},
   "outputs": [],
   "source": [
    "p = ((probs.argmax(-1)+2)*volume.passive_size)+volume.get_passive_z_range()[0]"
   ]
  },
  {
   "cell_type": "code",
   "execution_count": 184,
   "id": "ccc5cf20",
   "metadata": {},
   "outputs": [
    {
     "data": {
      "text/plain": [
       "tensor([6, 6, 5, 3, 6, 3, 4, 5, 6, 6, 5, 3, 3, 6, 5, 4, 1, 4, 4, 7, 3, 4, 2, 3,\n",
       "        6, 5, 1, 6, 4, 6, 4, 4, 5, 2, 6, 3, 5, 4, 4, 7, 4, 5, 3, 5, 5, 5, 4, 5,\n",
       "        2, 5, 3, 5, 7, 5, 3, 7, 5, 3, 2, 5, 6, 6, 7, 5, 4, 4, 1, 4, 3, 2, 5, 2,\n",
       "        7, 5, 7, 3, 6, 2, 6, 1, 5, 7, 4, 6, 5, 5, 6, 3, 3, 5, 3, 3, 2, 3, 1, 4,\n",
       "        4, 2, 3, 3, 5, 4, 7, 6, 7, 2, 7, 4, 4, 5, 6, 7, 2, 5, 4, 6, 7, 5, 4, 1,\n",
       "        5, 4, 1, 3, 2, 2, 4, 4, 4, 6, 6, 6, 2, 5, 2, 7, 7, 7, 6, 3, 4, 4, 6, 6,\n",
       "        6, 5, 6, 3, 4, 6, 3, 2, 5, 3, 4, 3, 2, 3, 2, 4, 5, 4, 2, 7, 5, 3, 6, 2,\n",
       "        3, 7, 6, 5, 3, 2, 5, 6, 5, 6, 7, 3, 5, 4, 5, 4, 6, 2, 3, 5, 5, 1, 2, 7,\n",
       "        1, 6, 7, 4, 7, 7, 7, 1])"
      ]
     },
     "execution_count": 184,
     "metadata": {},
     "output_type": "execute_result"
    }
   ],
   "source": [
    "probs.argmax(-1)"
   ]
  },
  {
   "cell_type": "code",
   "execution_count": 185,
   "id": "8cae7ee3",
   "metadata": {},
   "outputs": [
    {
     "data": {
      "text/plain": [
       "tensor(0.1043)"
      ]
     },
     "execution_count": 185,
     "metadata": {},
     "output_type": "execute_result"
    }
   ],
   "source": [
    "get_mse(p, targs)"
   ]
  },
  {
   "cell_type": "markdown",
   "id": "0dd570f5",
   "metadata": {},
   "source": [
    "## Pre-Blurring"
   ]
  },
  {
   "cell_type": "code",
   "execution_count": 164,
   "id": "808a81d6",
   "metadata": {},
   "outputs": [
    {
     "data": {
      "text/plain": [
       "tensor([0.0092, 0.0073, 0.0077, 0.0080, 0.0088, 0.0083, 0.0125, 0.0180, 0.0252])"
      ]
     },
     "execution_count": 164,
     "metadata": {},
     "output_type": "execute_result"
    }
   ],
   "source": [
    "averaged[0]"
   ]
  },
  {
   "cell_type": "code",
   "execution_count": 200,
   "id": "eefcf23f",
   "metadata": {},
   "outputs": [],
   "source": [
    "blurred = F.avg_pool1d(averaged, kernel_size=3, padding=1, stride=1, count_include_pad=False)"
   ]
  },
  {
   "cell_type": "code",
   "execution_count": 201,
   "id": "56910a44",
   "metadata": {},
   "outputs": [
    {
     "name": "stdout",
     "output_type": "stream",
     "text": [
      "Zero-ordered target layer ID (including ladel bottom layer): tensor([7.])\n"
     ]
    },
    {
     "data": {
      "image/png": "[encoded data removed]",
      "text/plain": [
       "<Figure size 1024x576 with 9 Axes>"
      ]
     },
     "metadata": {},
     "output_type": "display_data"
    }
   ],
   "source": [
    "plot_pred(blurred[0,:,None,None], targs[0])"
   ]
  },
  {
   "cell_type": "code",
   "execution_count": 219,
   "id": "3466a19e",
   "metadata": {},
   "outputs": [],
   "source": [
    "maxes = F.max_pool1d(blurred, kernel_size=3, padding=1, stride=1)"
   ]
  },
  {
   "cell_type": "code",
   "execution_count": 220,
   "id": "a84a1a7b",
   "metadata": {},
   "outputs": [
    {
     "data": {
      "text/plain": [
       "torch.Size([200, 9])"
      ]
     },
     "execution_count": 220,
     "metadata": {},
     "output_type": "execute_result"
    }
   ],
   "source": [
    "maxes.shape"
   ]
  },
  {
   "cell_type": "code",
   "execution_count": 221,
   "id": "c33db38d",
   "metadata": {},
   "outputs": [
    {
     "data": {
      "text/plain": [
       "tensor([[0.0083, 0.0083, 0.0082,  ..., 0.0186, 0.0216, 0.0216],\n",
       "        [0.0100, 0.0100, 0.0094,  ..., 0.0162, 0.0176, 0.0176],\n",
       "        [0.0070, 0.0070, 0.0076,  ..., 0.0181, 0.0191, 0.0191],\n",
       "        ...,\n",
       "        [0.0098, 0.0102, 0.0119,  ..., 0.0229, 0.0266, 0.0266],\n",
       "        [0.0108, 0.0108, 0.0101,  ..., 0.0194, 0.0225, 0.0225],\n",
       "        [0.0095, 0.0113, 0.0135,  ..., 0.0203, 0.0203, 0.0200]])"
      ]
     },
     "execution_count": 221,
     "metadata": {},
     "output_type": "execute_result"
    }
   ],
   "source": [
    "maxes"
   ]
  },
  {
   "cell_type": "code",
   "execution_count": 222,
   "id": "e477a999",
   "metadata": {},
   "outputs": [
    {
     "name": "stdout",
     "output_type": "stream",
     "text": [
      "Zero-ordered target layer ID (including ladel bottom layer): tensor([7.])\n"
     ]
    },
    {
     "data": {
      "image/png": "[encoded data removed]",
      "text/plain": [
       "<Figure size 1024x576 with 9 Axes>"
      ]
     },
     "metadata": {},
     "output_type": "display_data"
    }
   ],
   "source": [
    "plot_pred(maxes[0,:,None,None], targs[0])"
   ]
  },
  {
   "cell_type": "code",
   "execution_count": 223,
   "id": "d3540f51",
   "metadata": {},
   "outputs": [],
   "source": [
    "mins = -F.max_pool1d(-blurred, kernel_size=3, padding=1, stride=1)"
   ]
  },
  {
   "cell_type": "code",
   "execution_count": 224,
   "id": "3c6765e3",
   "metadata": {},
   "outputs": [
    {
     "data": {
      "text/plain": [
       "tensor([[0.0081, 0.0077, 0.0077,  ..., 0.0099, 0.0129, 0.0186],\n",
       "        [0.0094, 0.0086, 0.0086,  ..., 0.0103, 0.0128, 0.0162],\n",
       "        [0.0069, 0.0069, 0.0069,  ..., 0.0120, 0.0153, 0.0181],\n",
       "        ...,\n",
       "        [0.0097, 0.0097, 0.0098,  ..., 0.0142, 0.0167, 0.0229],\n",
       "        [0.0101, 0.0086, 0.0079,  ..., 0.0105, 0.0141, 0.0194],\n",
       "        [0.0082, 0.0082, 0.0095,  ..., 0.0193, 0.0191, 0.0191]])"
      ]
     },
     "execution_count": 224,
     "metadata": {},
     "output_type": "execute_result"
    }
   ],
   "source": [
    "mins"
   ]
  },
  {
   "cell_type": "code",
   "execution_count": 225,
   "id": "d55eb378",
   "metadata": {},
   "outputs": [
    {
     "name": "stdout",
     "output_type": "stream",
     "text": [
      "Zero-ordered target layer ID (including ladel bottom layer): tensor([7.])\n"
     ]
    },
    {
     "data": {
      "image/png": "[encoded data removed]",
      "text/plain": [
       "<Figure size 1024x576 with 9 Axes>"
      ]
     },
     "metadata": {},
     "output_type": "display_data"
    }
   ],
   "source": [
    "plot_pred(mins[0,:,None,None], targs[0])"
   ]
  },
  {
   "cell_type": "code",
   "execution_count": 226,
   "id": "596e7e53",
   "metadata": {},
   "outputs": [],
   "source": [
    "diffs = maxes-mins"
   ]
  },
  {
   "cell_type": "code",
   "execution_count": 227,
   "id": "12df1b49",
   "metadata": {},
   "outputs": [
    {
     "data": {
      "text/plain": [
       "tensor([[2.0655e-04, 6.1656e-04, 4.8142e-04,  ..., 8.6841e-03, 8.6601e-03,\n",
       "         3.0339e-03],\n",
       "        [5.8286e-04, 1.3632e-03, 8.1836e-04,  ..., 5.8888e-03, 4.7646e-03,\n",
       "         1.4221e-03],\n",
       "        [6.0972e-05, 6.0972e-05, 6.8628e-04,  ..., 6.0976e-03, 3.8057e-03,\n",
       "         9.4350e-04],\n",
       "        ...,\n",
       "        [9.0623e-05, 5.1289e-04, 2.0454e-03,  ..., 8.7360e-03, 9.8595e-03,\n",
       "         3.6711e-03],\n",
       "        [7.3508e-04, 2.2334e-03, 2.1815e-03,  ..., 8.8895e-03, 8.3767e-03,\n",
       "         3.1254e-03],\n",
       "        [1.2894e-03, 3.0666e-03, 4.0347e-03,  ..., 9.9882e-04, 1.2107e-03,\n",
       "         8.7801e-04]])"
      ]
     },
     "execution_count": 227,
     "metadata": {},
     "output_type": "execute_result"
    }
   ],
   "source": [
    "diffs"
   ]
  },
  {
   "cell_type": "code",
   "execution_count": 228,
   "id": "3ffa2146",
   "metadata": {},
   "outputs": [
    {
     "name": "stdout",
     "output_type": "stream",
     "text": [
      "Zero-ordered target layer ID (including ladel bottom layer): tensor([7.])\n"
     ]
    },
    {
     "data": {
      "image/png": "[encoded data removed]",
      "text/plain": [
       "<Figure size 1024x576 with 9 Axes>"
      ]
     },
     "metadata": {},
     "output_type": "display_data"
    }
   ],
   "source": [
    "plot_pred(diffs[0,:,None,None], targs[0])"
   ]
  },
  {
   "cell_type": "code",
   "execution_count": 229,
   "id": "a286fb75",
   "metadata": {},
   "outputs": [],
   "source": [
    "probs = F.softmax(diffs, dim=-1)"
   ]
  },
  {
   "cell_type": "code",
   "execution_count": 230,
   "id": "906556a0",
   "metadata": {},
   "outputs": [],
   "source": [
    "p = ((probs.argmax(-1)+2)*volume.passive_size)+volume.get_passive_z_range()[0]"
   ]
  },
  {
   "cell_type": "code",
   "execution_count": 231,
   "id": "ef232079",
   "metadata": {},
   "outputs": [
    {
     "data": {
      "text/plain": [
       "tensor([6, 6, 5, 4, 6, 5, 4, 5, 6, 6, 5, 3, 3, 6, 5, 4, 6, 5, 6, 7, 3, 3, 7, 3,\n",
       "        6, 6, 7, 6, 4, 6, 5, 5, 6, 6, 6, 4, 6, 6, 5, 6, 6, 6, 4, 6, 5, 6, 4, 5,\n",
       "        4, 6, 4, 5, 6, 4, 3, 6, 5, 4, 3, 6, 6, 6, 7, 6, 5, 3, 5, 6, 4, 2, 6, 3,\n",
       "        6, 4, 6, 6, 6, 2, 6, 2, 6, 6, 6, 6, 5, 5, 6, 6, 3, 6, 4, 3, 2, 3, 6, 3,\n",
       "        3, 2, 3, 2, 6, 4, 7, 6, 7, 3, 7, 6, 6, 6, 5, 6, 3, 5, 4, 6, 6, 5, 6, 6,\n",
       "        5, 6, 2, 4, 7, 2, 4, 6, 6, 6, 6, 6, 4, 6, 6, 7, 7, 6, 6, 4, 4, 4, 6, 6,\n",
       "        6, 6, 6, 6, 4, 6, 5, 3, 6, 2, 4, 4, 6, 3, 4, 5, 5, 5, 6, 6, 4, 3, 7, 2,\n",
       "        3, 6, 6, 6, 6, 6, 6, 6, 6, 6, 6, 3, 4, 4, 6, 6, 6, 3, 3, 5, 6, 5, 2, 7,\n",
       "        6, 6, 7, 4, 6, 7, 6, 4])"
      ]
     },
     "execution_count": 231,
     "metadata": {},
     "output_type": "execute_result"
    }
   ],
   "source": [
    "probs.argmax(-1)"
   ]
  },
  {
   "cell_type": "code",
   "execution_count": 232,
   "id": "4bc88495",
   "metadata": {},
   "outputs": [
    {
     "data": {
      "text/plain": [
       "tensor(0.1102)"
      ]
     },
     "execution_count": 232,
     "metadata": {},
     "output_type": "execute_result"
    }
   ],
   "source": [
    "get_mse(p, targs)"
   ]
  },
  {
   "cell_type": "code",
   "execution_count": 233,
   "id": "5d544b60",
   "metadata": {},
   "outputs": [],
   "source": [
    "diffs = maxes/mins"
   ]
  },
  {
   "cell_type": "code",
   "execution_count": 234,
   "id": "9ccba618",
   "metadata": {},
   "outputs": [
    {
     "data": {
      "text/plain": [
       "tensor([[1.0255, 1.0803, 1.0627,  ..., 1.8793, 1.6696, 1.1635],\n",
       "        [1.0621, 1.1584, 1.0955,  ..., 1.5724, 1.3712, 1.0879],\n",
       "        [1.0088, 1.0088, 1.0988,  ..., 1.5073, 1.2495, 1.0521],\n",
       "        ...,\n",
       "        [1.0093, 1.0528, 1.2085,  ..., 1.6168, 1.5900, 1.1603],\n",
       "        [1.0727, 1.2593, 1.2751,  ..., 1.8458, 1.5921, 1.1611],\n",
       "        [1.1568, 1.3730, 1.4242,  ..., 1.0517, 1.0634, 1.0459]])"
      ]
     },
     "execution_count": 234,
     "metadata": {},
     "output_type": "execute_result"
    }
   ],
   "source": [
    "diffs"
   ]
  },
  {
   "cell_type": "code",
   "execution_count": 240,
   "id": "50981e03",
   "metadata": {},
   "outputs": [
    {
     "name": "stdout",
     "output_type": "stream",
     "text": [
      "Zero-ordered target layer ID (including ladel bottom layer): tensor([7.])\n"
     ]
    },
    {
     "data": {
      "image/png": "[encoded data removed]",
      "text/plain": [
       "<Figure size 1024x576 with 9 Axes>"
      ]
     },
     "metadata": {},
     "output_type": "display_data"
    }
   ],
   "source": [
    "plot_pred(diffs[0,:,None,None], targs[0])"
   ]
  },
  {
   "cell_type": "code",
   "execution_count": 236,
   "id": "da5993eb",
   "metadata": {},
   "outputs": [],
   "source": [
    "probs = F.softmax(diffs, dim=-1)"
   ]
  },
  {
   "cell_type": "code",
   "execution_count": 237,
   "id": "9dec9f12",
   "metadata": {},
   "outputs": [],
   "source": [
    "p = ((probs.argmax(-1)+2)*volume.passive_size)+volume.get_passive_z_range()[0]"
   ]
  },
  {
   "cell_type": "code",
   "execution_count": 238,
   "id": "edba6fa9",
   "metadata": {},
   "outputs": [
    {
     "data": {
      "text/plain": [
       "tensor([6, 6, 5, 3, 6, 3, 3, 5, 6, 5, 5, 3, 3, 6, 4, 4, 6, 4, 3, 7, 3, 3, 2, 3,\n",
       "        6, 6, 6, 5, 4, 6, 4, 4, 4, 6, 6, 3, 6, 5, 4, 6, 4, 5, 3, 6, 4, 5, 4, 5,\n",
       "        4, 5, 4, 5, 3, 4, 3, 6, 5, 3, 3, 5, 6, 6, 6, 5, 4, 3, 1, 5, 4, 1, 6, 3,\n",
       "        6, 4, 6, 3, 6, 2, 6, 2, 4, 6, 4, 6, 5, 5, 6, 6, 3, 4, 3, 3, 2, 3, 6, 3,\n",
       "        3, 2, 2, 2, 5, 4, 7, 6, 6, 2, 7, 4, 4, 6, 5, 6, 2, 5, 4, 5, 6, 4, 4, 6,\n",
       "        4, 4, 2, 4, 2, 2, 4, 4, 6, 6, 5, 6, 4, 5, 3, 3, 6, 6, 6, 3, 3, 3, 6, 6,\n",
       "        6, 5, 5, 3, 4, 6, 3, 2, 5, 2, 4, 3, 2, 3, 3, 4, 5, 4, 6, 6, 4, 2, 6, 2,\n",
       "        3, 6, 6, 5, 3, 2, 6, 6, 5, 5, 3, 3, 4, 3, 5, 5, 5, 2, 2, 5, 5, 2, 2, 3,\n",
       "        6, 6, 6, 3, 6, 6, 6, 3])"
      ]
     },
     "execution_count": 238,
     "metadata": {},
     "output_type": "execute_result"
    }
   ],
   "source": [
    "probs.argmax(-1)"
   ]
  },
  {
   "cell_type": "code",
   "execution_count": 239,
   "id": "4dc5d48a",
   "metadata": {},
   "outputs": [
    {
     "data": {
      "text/plain": [
       "tensor(0.0958)"
      ]
     },
     "execution_count": 239,
     "metadata": {},
     "output_type": "execute_result"
    }
   ],
   "source": [
    "get_mse(p, targs)"
   ]
  },
  {
   "cell_type": "markdown",
   "id": "74a49a7d",
   "metadata": {},
   "source": [
    "## Ridge kernel"
   ]
  },
  {
   "cell_type": "code",
   "execution_count": 432,
   "id": "01400008",
   "metadata": {},
   "outputs": [],
   "source": [
    "ridge = nn.Conv1d(1, 1, kernel_size=3, stride=1, padding=1, padding_mode='replicate', bias=False)"
   ]
  },
  {
   "cell_type": "code",
   "execution_count": 433,
   "id": "94f3e56f",
   "metadata": {},
   "outputs": [
    {
     "data": {
      "text/plain": [
       "Parameter containing:\n",
       "tensor([[[-0.0329, -0.4223, -0.3990]]], requires_grad=True)"
      ]
     },
     "execution_count": 433,
     "metadata": {},
     "output_type": "execute_result"
    }
   ],
   "source": [
    "ridge.weight"
   ]
  },
  {
   "cell_type": "code",
   "execution_count": 434,
   "id": "4240e3b4",
   "metadata": {},
   "outputs": [],
   "source": [
    "ridge.weight.data = Tensor([[[-1,1,-1]]])"
   ]
  },
  {
   "cell_type": "code",
   "execution_count": 435,
   "id": "473b322a",
   "metadata": {},
   "outputs": [
    {
     "data": {
      "text/plain": [
       "Conv1d(1, 1, kernel_size=(3,), stride=(1,), padding=(1,), bias=False, padding_mode=replicate)"
      ]
     },
     "execution_count": 435,
     "metadata": {},
     "output_type": "execute_result"
    }
   ],
   "source": [
    "ridge.requires_grad_(False)"
   ]
  },
  {
   "cell_type": "code",
   "execution_count": 436,
   "id": "7e6e014c",
   "metadata": {},
   "outputs": [],
   "source": [
    "ridged = ridge(averaged[:,None]).squeeze()"
   ]
  },
  {
   "cell_type": "code",
   "execution_count": 437,
   "id": "868a1683",
   "metadata": {},
   "outputs": [
    {
     "data": {
      "text/plain": [
       "torch.Size([200, 9])"
      ]
     },
     "execution_count": 437,
     "metadata": {},
     "output_type": "execute_result"
    }
   ],
   "source": [
    "ridged.shape"
   ]
  },
  {
   "cell_type": "code",
   "execution_count": 438,
   "id": "c3f4e097",
   "metadata": {},
   "outputs": [
    {
     "name": "stdout",
     "output_type": "stream",
     "text": [
      "Zero-ordered target layer ID (including ladel bottom layer): tensor([0.])\n"
     ]
    },
    {
     "data": {
      "image/png": "[encoded data removed]",
      "text/plain": [
       "<Figure size 1024x576 with 9 Axes>"
      ]
     },
     "metadata": {},
     "output_type": "display_data"
    },
    {
     "name": "stdout",
     "output_type": "stream",
     "text": [
      "Zero-ordered target layer ID (including ladel bottom layer): tensor([0.])\n"
     ]
    },
    {
     "data": {
      "image/png": "[encoded data removed]",
      "text/plain": [
       "<Figure size 1024x576 with 9 Axes>"
      ]
     },
     "metadata": {},
     "output_type": "display_data"
    }
   ],
   "source": [
    "i=6\n",
    "plot_pred(averaged[i,:,None,None], targs[i])\n",
    "plot_pred(ridged[i,:,None,None], targs[i])"
   ]
  },
  {
   "cell_type": "code",
   "execution_count": 439,
   "id": "9f7f93a5",
   "metadata": {},
   "outputs": [],
   "source": [
    "probs = F.softmax(ridged, dim=-1)"
   ]
  },
  {
   "cell_type": "code",
   "execution_count": 440,
   "id": "21972057",
   "metadata": {},
   "outputs": [],
   "source": [
    "p = ((probs.argmax(-1)+2)*volume.passive_size)+volume.get_passive_z_range()[0]"
   ]
  },
  {
   "cell_type": "code",
   "execution_count": 441,
   "id": "842007e2",
   "metadata": {},
   "outputs": [
    {
     "data": {
      "text/plain": [
       "tensor([0, 3, 0, 1, 3, 0, 0, 0, 3, 0, 2, 0, 1, 2, 0, 0, 3, 0, 0, 1, 0, 0, 0, 0,\n",
       "        3, 3, 2, 2, 0, 0, 0, 0, 0, 0, 0, 1, 2, 2, 0, 3, 2, 2, 1, 2, 1, 0, 0, 2,\n",
       "        0, 2, 0, 2, 0, 0, 0, 2, 1, 0, 0, 1, 1, 2, 1, 1, 0, 2, 2, 1, 0, 0, 0, 0,\n",
       "        0, 0, 2, 0, 0, 0, 0, 2, 0, 3, 0, 3, 0, 0, 0, 0, 0, 0, 0, 1, 0, 0, 3, 0,\n",
       "        0, 0, 0, 1, 0, 2, 0, 3, 3, 0, 0, 4, 2, 2, 0, 3, 0, 0, 1, 1, 0, 0, 0, 0,\n",
       "        0, 1, 0, 0, 0, 0, 0, 1, 0, 3, 0, 0, 0, 0, 0, 0, 0, 0, 0, 0, 0, 0, 3, 0,\n",
       "        0, 0, 2, 0, 1, 2, 0, 0, 3, 0, 2, 0, 1, 1, 0, 2, 0, 1, 0, 1, 2, 0, 1, 1,\n",
       "        1, 2, 3, 1, 0, 0, 0, 2, 0, 0, 0, 1, 1, 0, 3, 1, 0, 0, 1, 1, 2, 2, 1, 0,\n",
       "        2, 0, 0, 0, 0, 0, 3, 0])"
      ]
     },
     "execution_count": 441,
     "metadata": {},
     "output_type": "execute_result"
    }
   ],
   "source": [
    "probs.argmax(-1)"
   ]
  },
  {
   "cell_type": "code",
   "execution_count": 442,
   "id": "7257cf8c",
   "metadata": {},
   "outputs": [
    {
     "data": {
      "text/plain": [
       "tensor(0.1539)"
      ]
     },
     "execution_count": 442,
     "metadata": {},
     "output_type": "execute_result"
    }
   ],
   "source": [
    "get_mse(p, targs)"
   ]
  },
  {
   "cell_type": "markdown",
   "id": "9233f515",
   "metadata": {},
   "source": [
    "### Minmax"
   ]
  },
  {
   "cell_type": "code",
   "execution_count": 443,
   "id": "e80745f6",
   "metadata": {},
   "outputs": [],
   "source": [
    "maxes = F.max_pool1d(ridged, kernel_size=3, padding=1, stride=1)"
   ]
  },
  {
   "cell_type": "code",
   "execution_count": 444,
   "id": "1648aa69",
   "metadata": {},
   "outputs": [
    {
     "data": {
      "text/plain": [
       "torch.Size([200, 9])"
      ]
     },
     "execution_count": 444,
     "metadata": {},
     "output_type": "execute_result"
    }
   ],
   "source": [
    "maxes.shape"
   ]
  },
  {
   "cell_type": "code",
   "execution_count": 445,
   "id": "61647b1e",
   "metadata": {},
   "outputs": [
    {
     "data": {
      "text/plain": [
       "tensor([[-0.0073, -0.0073, -0.0077,  ..., -0.0129, -0.0138, -0.0180],\n",
       "        [-0.0087, -0.0087, -0.0079,  ..., -0.0118, -0.0118, -0.0161],\n",
       "        [-0.0062, -0.0062, -0.0066,  ..., -0.0129, -0.0133, -0.0180],\n",
       "        ...,\n",
       "        [-0.0091, -0.0091, -0.0107,  ..., -0.0166, -0.0190, -0.0216],\n",
       "        [-0.0094, -0.0086, -0.0082,  ..., -0.0095, -0.0161, -0.0183],\n",
       "        [-0.0089, -0.0089, -0.0097,  ..., -0.0169, -0.0175, -0.0187]])"
      ]
     },
     "execution_count": 445,
     "metadata": {},
     "output_type": "execute_result"
    }
   ],
   "source": [
    "maxes"
   ]
  },
  {
   "cell_type": "code",
   "execution_count": 446,
   "id": "1234303e",
   "metadata": {},
   "outputs": [
    {
     "name": "stdout",
     "output_type": "stream",
     "text": [
      "Zero-ordered target layer ID (including ladel bottom layer): tensor([7.])\n"
     ]
    },
    {
     "data": {
      "image/png": "[encoded data removed]",
      "text/plain": [
       "<Figure size 1024x576 with 9 Axes>"
      ]
     },
     "metadata": {},
     "output_type": "display_data"
    }
   ],
   "source": [
    "plot_pred(maxes[0,:,None,None], targs[0])"
   ]
  },
  {
   "cell_type": "code",
   "execution_count": 447,
   "id": "b5153150",
   "metadata": {},
   "outputs": [],
   "source": [
    "mins = -F.max_pool1d(-ridged, kernel_size=3, padding=1, stride=1)"
   ]
  },
  {
   "cell_type": "code",
   "execution_count": 448,
   "id": "c391a304",
   "metadata": {},
   "outputs": [
    {
     "data": {
      "text/plain": [
       "tensor([[-0.0096, -0.0096, -0.0096,  ..., -0.0197, -0.0197, -0.0197],\n",
       "        [-0.0108, -0.0108, -0.0108,  ..., -0.0161, -0.0162, -0.0162],\n",
       "        [-0.0086, -0.0086, -0.0086,  ..., -0.0184, -0.0184, -0.0184],\n",
       "        ...,\n",
       "        [-0.0112, -0.0112, -0.0124,  ..., -0.0254, -0.0254, -0.0254],\n",
       "        [-0.0115, -0.0115, -0.0115,  ..., -0.0216, -0.0216, -0.0216],\n",
       "        [-0.0107, -0.0107, -0.0149,  ..., -0.0226, -0.0226, -0.0226]])"
      ]
     },
     "execution_count": 448,
     "metadata": {},
     "output_type": "execute_result"
    }
   ],
   "source": [
    "mins"
   ]
  },
  {
   "cell_type": "code",
   "execution_count": 449,
   "id": "dfc3f9e0",
   "metadata": {},
   "outputs": [
    {
     "name": "stdout",
     "output_type": "stream",
     "text": [
      "Zero-ordered target layer ID (including ladel bottom layer): tensor([7.])\n"
     ]
    },
    {
     "data": {
      "image/png": "[encoded data removed]",
      "text/plain": [
       "<Figure size 1024x576 with 9 Axes>"
      ]
     },
     "metadata": {},
     "output_type": "display_data"
    }
   ],
   "source": [
    "plot_pred(mins[0,:,None,None], targs[0])"
   ]
  },
  {
   "cell_type": "code",
   "execution_count": 450,
   "id": "8d2ce171",
   "metadata": {},
   "outputs": [],
   "source": [
    "diffs = maxes-mins"
   ]
  },
  {
   "cell_type": "code",
   "execution_count": 451,
   "id": "880aabd1",
   "metadata": {},
   "outputs": [
    {
     "data": {
      "text/plain": [
       "tensor([[0.0022, 0.0022, 0.0019,  ..., 0.0068, 0.0059, 0.0018],\n",
       "        [0.0021, 0.0021, 0.0029,  ..., 0.0042, 0.0044, 0.0001],\n",
       "        [0.0024, 0.0024, 0.0020,  ..., 0.0055, 0.0051, 0.0004],\n",
       "        ...,\n",
       "        [0.0021, 0.0021, 0.0017,  ..., 0.0088, 0.0064, 0.0038],\n",
       "        [0.0021, 0.0029, 0.0032,  ..., 0.0121, 0.0055, 0.0033],\n",
       "        [0.0018, 0.0018, 0.0052,  ..., 0.0057, 0.0051, 0.0039]])"
      ]
     },
     "execution_count": 451,
     "metadata": {},
     "output_type": "execute_result"
    }
   ],
   "source": [
    "diffs"
   ]
  },
  {
   "cell_type": "code",
   "execution_count": 452,
   "id": "541e49de",
   "metadata": {},
   "outputs": [
    {
     "name": "stdout",
     "output_type": "stream",
     "text": [
      "Zero-ordered target layer ID (including ladel bottom layer): tensor([7.])\n"
     ]
    },
    {
     "data": {
      "image/png": "[encoded data removed]",
      "text/plain": [
       "<Figure size 1024x576 with 9 Axes>"
      ]
     },
     "metadata": {},
     "output_type": "display_data"
    }
   ],
   "source": [
    "plot_pred(diffs[0,:,None,None], targs[0])"
   ]
  },
  {
   "cell_type": "code",
   "execution_count": 453,
   "id": "2ae2db07",
   "metadata": {},
   "outputs": [],
   "source": [
    "probs = F.softmax(diffs, dim=-1)"
   ]
  },
  {
   "cell_type": "code",
   "execution_count": 454,
   "id": "ee5e983e",
   "metadata": {},
   "outputs": [],
   "source": [
    "p = ((probs.argmax(-1)+2)*volume.passive_size)+volume.get_passive_z_range()[0]"
   ]
  },
  {
   "cell_type": "code",
   "execution_count": 455,
   "id": "64fbe548",
   "metadata": {},
   "outputs": [
    {
     "data": {
      "text/plain": [
       "tensor([6, 4, 6, 2, 4, 4, 3, 4, 4, 5, 6, 5, 6, 6, 6, 6, 6, 5, 6, 5, 3, 5, 5, 5,\n",
       "        4, 6, 6, 5, 3, 4, 6, 6, 6, 4, 5, 6, 6, 5, 6, 6, 6, 5, 5, 6, 6, 6, 6, 6,\n",
       "        6, 7, 6, 3, 6, 3, 5, 6, 4, 5, 3, 4, 4, 5, 5, 6, 6, 6, 3, 5, 6, 3, 6, 4,\n",
       "        6, 6, 5, 5, 5, 1, 6, 2, 6, 6, 6, 4, 4, 6, 5, 5, 4, 4, 6, 5, 5, 2, 4, 6,\n",
       "        6, 1, 5, 4, 6, 2, 5, 4, 6, 6, 5, 5, 6, 6, 4, 6, 4, 6, 6, 5, 6, 4, 6, 5,\n",
       "        6, 5, 3, 6, 4, 7, 6, 6, 6, 4, 4, 5, 4, 4, 4, 6, 6, 6, 5, 6, 3, 6, 6, 6,\n",
       "        4, 4, 5, 5, 5, 5, 5, 5, 6, 1, 6, 6, 5, 5, 4, 6, 6, 6, 4, 6, 3, 4, 5, 1,\n",
       "        6, 6, 6, 4, 6, 4, 6, 5, 6, 5, 6, 2, 6, 5, 3, 5, 5, 4, 2, 1, 6, 2, 4, 6,\n",
       "        6, 6, 6, 5, 5, 6, 6, 3])"
      ]
     },
     "execution_count": 455,
     "metadata": {},
     "output_type": "execute_result"
    }
   ],
   "source": [
    "probs.argmax(-1)"
   ]
  },
  {
   "cell_type": "code",
   "execution_count": 456,
   "id": "ff06056c",
   "metadata": {},
   "outputs": [
    {
     "data": {
      "text/plain": [
       "tensor(0.1045)"
      ]
     },
     "execution_count": 456,
     "metadata": {},
     "output_type": "execute_result"
    }
   ],
   "source": [
    "get_mse(p, targs)"
   ]
  },
  {
   "cell_type": "code",
   "execution_count": 457,
   "id": "8bedf25b",
   "metadata": {},
   "outputs": [],
   "source": [
    "diffs = maxes/mins"
   ]
  },
  {
   "cell_type": "code",
   "execution_count": 458,
   "id": "0d857fa8",
   "metadata": {},
   "outputs": [
    {
     "data": {
      "text/plain": [
       "tensor([[0.7685, 0.7685, 0.8034,  ..., 0.6553, 0.6997, 0.9097],\n",
       "        [0.8083, 0.8083, 0.7347,  ..., 0.7359, 0.7297, 0.9915],\n",
       "        [0.7240, 0.7240, 0.7704,  ..., 0.7020, 0.7225, 0.9758],\n",
       "        ...,\n",
       "        [0.8147, 0.8147, 0.8646,  ..., 0.6526, 0.7477, 0.8504],\n",
       "        [0.8207, 0.7451, 0.7178,  ..., 0.4402, 0.7469, 0.8460],\n",
       "        [0.8297, 0.8297, 0.6504,  ..., 0.7460, 0.7725, 0.8255]])"
      ]
     },
     "execution_count": 458,
     "metadata": {},
     "output_type": "execute_result"
    }
   ],
   "source": [
    "diffs"
   ]
  },
  {
   "cell_type": "code",
   "execution_count": 459,
   "id": "15c958da",
   "metadata": {},
   "outputs": [
    {
     "name": "stdout",
     "output_type": "stream",
     "text": [
      "Zero-ordered target layer ID (including ladel bottom layer): tensor([7.])\n"
     ]
    },
    {
     "data": {
      "image/png": "[encoded data removed]",
      "text/plain": [
       "<Figure size 1024x576 with 9 Axes>"
      ]
     },
     "metadata": {},
     "output_type": "display_data"
    }
   ],
   "source": [
    "plot_pred(diffs[0,:,None,None], targs[0])"
   ]
  },
  {
   "cell_type": "code",
   "execution_count": 460,
   "id": "b722636c",
   "metadata": {},
   "outputs": [],
   "source": [
    "probs = F.softmax(diffs, dim=-1)"
   ]
  },
  {
   "cell_type": "code",
   "execution_count": 461,
   "id": "806e1ee0",
   "metadata": {},
   "outputs": [],
   "source": [
    "p = ((probs.argmax(-1)+2)*volume.passive_size)+volume.get_passive_z_range()[0]"
   ]
  },
  {
   "cell_type": "code",
   "execution_count": 462,
   "id": "3e58b818",
   "metadata": {},
   "outputs": [
    {
     "data": {
      "text/plain": [
       "tensor([8, 8, 8, 5, 0, 2, 8, 8, 8, 2, 8, 0, 4, 8, 8, 0, 0, 0, 0, 0, 0, 8, 7, 8,\n",
       "        8, 8, 8, 0, 8, 2, 8, 8, 0, 8, 8, 0, 8, 8, 8, 0, 8, 0, 0, 8, 0, 8, 0, 8,\n",
       "        0, 8, 0, 8, 4, 2, 8, 4, 0, 0, 7, 0, 3, 8, 8, 0, 8, 0, 8, 0, 0, 8, 8, 8,\n",
       "        0, 0, 7, 8, 8, 3, 8, 8, 0, 0, 0, 0, 8, 8, 0, 8, 8, 8, 8, 0, 7, 4, 6, 0,\n",
       "        7, 8, 8, 8, 2, 8, 8, 8, 0, 4, 2, 0, 0, 8, 2, 5, 8, 8, 0, 3, 8, 8, 0, 3,\n",
       "        8, 8, 4, 8, 6, 4, 2, 8, 8, 6, 8, 2, 8, 8, 6, 8, 2, 8, 2, 8, 5, 8, 0, 8,\n",
       "        2, 2, 8, 2, 8, 0, 0, 7, 8, 8, 0, 8, 0, 8, 8, 0, 8, 8, 8, 3, 8, 8, 8, 0,\n",
       "        0, 8, 8, 8, 0, 8, 2, 8, 8, 0, 2, 0, 0, 8, 8, 0, 8, 8, 8, 6, 8, 4, 0, 2,\n",
       "        8, 8, 2, 8, 8, 2, 8, 5])"
      ]
     },
     "execution_count": 462,
     "metadata": {},
     "output_type": "execute_result"
    }
   ],
   "source": [
    "probs.argmax(-1)"
   ]
  },
  {
   "cell_type": "code",
   "execution_count": 463,
   "id": "0647137d",
   "metadata": {},
   "outputs": [
    {
     "data": {
      "text/plain": [
       "tensor(0.2093)"
      ]
     },
     "execution_count": 463,
     "metadata": {},
     "output_type": "execute_result"
    }
   ],
   "source": [
    "get_mse(p, targs)"
   ]
  },
  {
   "cell_type": "markdown",
   "id": "7e99a4f8",
   "metadata": {},
   "source": [
    "## Ridged blur"
   ]
  },
  {
   "cell_type": "code",
   "execution_count": 464,
   "id": "7ff7ffec",
   "metadata": {},
   "outputs": [],
   "source": [
    "blurred = F.avg_pool1d(averaged, kernel_size=3, padding=1, stride=1, count_include_pad=False)"
   ]
  },
  {
   "cell_type": "code",
   "execution_count": 465,
   "id": "360307d5",
   "metadata": {},
   "outputs": [],
   "source": [
    "ridge = nn.Conv1d(1, 1, kernel_size=3, stride=1, padding=1, padding_mode='replicate', bias=False)"
   ]
  },
  {
   "cell_type": "code",
   "execution_count": 466,
   "id": "b835f1c1",
   "metadata": {},
   "outputs": [
    {
     "data": {
      "text/plain": [
       "Parameter containing:\n",
       "tensor([[[-0.3759,  0.3233, -0.4466]]], requires_grad=True)"
      ]
     },
     "execution_count": 466,
     "metadata": {},
     "output_type": "execute_result"
    }
   ],
   "source": [
    "ridge.weight"
   ]
  },
  {
   "cell_type": "code",
   "execution_count": 467,
   "id": "ed472fe7",
   "metadata": {},
   "outputs": [],
   "source": [
    "ridge.weight.data = Tensor([[[-1,1,-1]]])"
   ]
  },
  {
   "cell_type": "code",
   "execution_count": 468,
   "id": "81b72fc3",
   "metadata": {},
   "outputs": [
    {
     "data": {
      "text/plain": [
       "Conv1d(1, 1, kernel_size=(3,), stride=(1,), padding=(1,), bias=False, padding_mode=replicate)"
      ]
     },
     "execution_count": 468,
     "metadata": {},
     "output_type": "execute_result"
    }
   ],
   "source": [
    "ridge.requires_grad_(False)"
   ]
  },
  {
   "cell_type": "code",
   "execution_count": 469,
   "id": "79fecaa2",
   "metadata": {},
   "outputs": [],
   "source": [
    "ridged = ridge(blurred[:,None]).squeeze()"
   ]
  },
  {
   "cell_type": "code",
   "execution_count": 470,
   "id": "b3ae5d62",
   "metadata": {},
   "outputs": [
    {
     "data": {
      "text/plain": [
       "torch.Size([200, 9])"
      ]
     },
     "execution_count": 470,
     "metadata": {},
     "output_type": "execute_result"
    }
   ],
   "source": [
    "ridged.shape"
   ]
  },
  {
   "cell_type": "code",
   "execution_count": 471,
   "id": "2abadf80",
   "metadata": {},
   "outputs": [
    {
     "name": "stdout",
     "output_type": "stream",
     "text": [
      "Zero-ordered target layer ID (including ladel bottom layer): tensor([0.])\n"
     ]
    },
    {
     "data": {
      "image/png": "[encoded data removed]",
      "text/plain": [
       "<Figure size 1024x576 with 9 Axes>"
      ]
     },
     "metadata": {},
     "output_type": "display_data"
    },
    {
     "name": "stdout",
     "output_type": "stream",
     "text": [
      "Zero-ordered target layer ID (including ladel bottom layer): tensor([0.])\n"
     ]
    },
    {
     "data": {
      "image/png": "[encoded data removed]",
      "text/plain": [
       "<Figure size 1024x576 with 9 Axes>"
      ]
     },
     "metadata": {},
     "output_type": "display_data"
    }
   ],
   "source": [
    "i=6\n",
    "plot_pred(averaged[i,:,None,None], targs[i])\n",
    "plot_pred(ridged[i,:,None,None], targs[i])"
   ]
  },
  {
   "cell_type": "code",
   "execution_count": 472,
   "id": "e0f44ce3",
   "metadata": {},
   "outputs": [],
   "source": [
    "probs = F.softmax(ridged, dim=-1)"
   ]
  },
  {
   "cell_type": "code",
   "execution_count": 473,
   "id": "c72e3770",
   "metadata": {},
   "outputs": [],
   "source": [
    "p = ((probs.argmax(-1)+2)*volume.passive_size)+volume.get_passive_z_range()[0]"
   ]
  },
  {
   "cell_type": "code",
   "execution_count": 474,
   "id": "7b22a91b",
   "metadata": {},
   "outputs": [
    {
     "data": {
      "text/plain": [
       "tensor([1, 3, 1, 0, 2, 0, 0, 0, 0, 0, 1, 0, 0, 2, 0, 0, 1, 0, 0, 0, 0, 0, 0, 0,\n",
       "        0, 1, 0, 1, 0, 0, 0, 1, 1, 0, 0, 0, 1, 1, 0, 3, 1, 1, 0, 1, 0, 0, 0, 1,\n",
       "        0, 1, 0, 0, 0, 0, 0, 1, 0, 0, 0, 0, 0, 1, 1, 0, 1, 0, 0, 1, 0, 0, 1, 0,\n",
       "        0, 0, 1, 0, 1, 0, 0, 0, 0, 0, 0, 0, 0, 0, 0, 0, 0, 0, 0, 0, 0, 0, 0, 0,\n",
       "        0, 0, 0, 0, 1, 1, 0, 3, 0, 0, 0, 1, 1, 1, 0, 0, 0, 1, 1, 0, 0, 0, 1, 0,\n",
       "        0, 0, 0, 0, 0, 0, 0, 0, 1, 2, 0, 1, 0, 0, 0, 1, 0, 1, 0, 0, 0, 0, 0, 1,\n",
       "        0, 0, 1, 0, 0, 1, 0, 0, 0, 0, 1, 0, 0, 0, 0, 1, 1, 1, 0, 2, 1, 0, 0, 0,\n",
       "        0, 1, 2, 2, 0, 0, 0, 1, 1, 0, 0, 0, 0, 0, 0, 0, 0, 0, 0, 0, 1, 0, 0, 0,\n",
       "        1, 0, 0, 0, 1, 0, 1, 0])"
      ]
     },
     "execution_count": 474,
     "metadata": {},
     "output_type": "execute_result"
    }
   ],
   "source": [
    "probs.argmax(-1)"
   ]
  },
  {
   "cell_type": "code",
   "execution_count": 475,
   "id": "4071e5dc",
   "metadata": {},
   "outputs": [
    {
     "data": {
      "text/plain": [
       "tensor(0.1717)"
      ]
     },
     "execution_count": 475,
     "metadata": {},
     "output_type": "execute_result"
    }
   ],
   "source": [
    "get_mse(p, targs)"
   ]
  },
  {
   "cell_type": "markdown",
   "id": "40648dff",
   "metadata": {},
   "source": [
    "### Minmax"
   ]
  },
  {
   "cell_type": "code",
   "execution_count": 476,
   "id": "1af07e32",
   "metadata": {},
   "outputs": [],
   "source": [
    "maxes = F.max_pool1d(ridged, kernel_size=3, padding=1, stride=1)"
   ]
  },
  {
   "cell_type": "code",
   "execution_count": 477,
   "id": "ba0709c0",
   "metadata": {},
   "outputs": [
    {
     "data": {
      "text/plain": [
       "torch.Size([200, 9])"
      ]
     },
     "execution_count": 477,
     "metadata": {},
     "output_type": "execute_result"
    }
   ],
   "source": [
    "maxes.shape"
   ]
  },
  {
   "cell_type": "code",
   "execution_count": 478,
   "id": "0aefda04",
   "metadata": {},
   "outputs": [
    {
     "data": {
      "text/plain": [
       "tensor([[-0.0079, -0.0079, -0.0079,  ..., -0.0114, -0.0155, -0.0160],\n",
       "        [-0.0092, -0.0092, -0.0088,  ..., -0.0114, -0.0136, -0.0143],\n",
       "        [-0.0069, -0.0069, -0.0069,  ..., -0.0124, -0.0149, -0.0162],\n",
       "        ...,\n",
       "        [-0.0098, -0.0098, -0.0101,  ..., -0.0154, -0.0204, -0.0204],\n",
       "        [-0.0093, -0.0093, -0.0093,  ..., -0.0124, -0.0158, -0.0173],\n",
       "        [-0.0095, -0.0095, -0.0100,  ..., -0.0174, -0.0190, -0.0194]])"
      ]
     },
     "execution_count": 478,
     "metadata": {},
     "output_type": "execute_result"
    }
   ],
   "source": [
    "maxes"
   ]
  },
  {
   "cell_type": "code",
   "execution_count": 479,
   "id": "f1359374",
   "metadata": {},
   "outputs": [
    {
     "name": "stdout",
     "output_type": "stream",
     "text": [
      "Zero-ordered target layer ID (including ladel bottom layer): tensor([7.])\n"
     ]
    },
    {
     "data": {
      "image/png": "[encoded data removed]",
      "text/plain": [
       "<Figure size 1024x576 with 9 Axes>"
      ]
     },
     "metadata": {},
     "output_type": "display_data"
    }
   ],
   "source": [
    "plot_pred(maxes[0,:,None,None], targs[0])"
   ]
  },
  {
   "cell_type": "code",
   "execution_count": 480,
   "id": "fd45f64a",
   "metadata": {},
   "outputs": [],
   "source": [
    "mins = -F.max_pool1d(-ridged, kernel_size=3, padding=1, stride=1)"
   ]
  },
  {
   "cell_type": "code",
   "execution_count": 481,
   "id": "de4aa6cc",
   "metadata": {},
   "outputs": [
    {
     "data": {
      "text/plain": [
       "tensor([[-0.0081, -0.0086, -0.0086,  ..., -0.0160, -0.0186, -0.0186],\n",
       "        [-0.0094, -0.0094, -0.0093,  ..., -0.0143, -0.0162, -0.0162],\n",
       "        [-0.0070, -0.0077, -0.0084,  ..., -0.0162, -0.0181, -0.0181],\n",
       "        ...,\n",
       "        [-0.0101, -0.0114, -0.0114,  ..., -0.0204, -0.0229, -0.0229],\n",
       "        [-0.0101, -0.0101, -0.0094,  ..., -0.0173, -0.0194, -0.0194],\n",
       "        [-0.0100, -0.0118, -0.0141,  ..., -0.0194, -0.0200, -0.0200]])"
      ]
     },
     "execution_count": 481,
     "metadata": {},
     "output_type": "execute_result"
    }
   ],
   "source": [
    "mins"
   ]
  },
  {
   "cell_type": "code",
   "execution_count": 482,
   "id": "41b2976a",
   "metadata": {},
   "outputs": [
    {
     "name": "stdout",
     "output_type": "stream",
     "text": [
      "Zero-ordered target layer ID (including ladel bottom layer): tensor([7.])\n"
     ]
    },
    {
     "data": {
      "image/png": "[encoded data removed]",
      "text/plain": [
       "<Figure size 1024x576 with 9 Axes>"
      ]
     },
     "metadata": {},
     "output_type": "display_data"
    }
   ],
   "source": [
    "plot_pred(mins[0,:,None,None], targs[0])"
   ]
  },
  {
   "cell_type": "code",
   "execution_count": 483,
   "id": "fb935f09",
   "metadata": {},
   "outputs": [],
   "source": [
    "diffs = maxes-mins"
   ]
  },
  {
   "cell_type": "code",
   "execution_count": 484,
   "id": "590a807f",
   "metadata": {},
   "outputs": [
    {
     "data": {
      "text/plain": [
       "tensor([[2.0346e-04, 6.8488e-04, 6.8488e-04,  ..., 4.5290e-03, 3.0579e-03,\n",
       "         2.5923e-03],\n",
       "        [1.9747e-04, 1.9747e-04, 4.9971e-04,  ..., 2.9004e-03, 2.5462e-03,\n",
       "         1.9205e-03],\n",
       "        [1.0976e-04, 7.9604e-04, 1.5449e-03,  ..., 3.8494e-03, 3.2354e-03,\n",
       "         1.9187e-03],\n",
       "        ...,\n",
       "        [3.3165e-04, 1.6232e-03, 1.2915e-03,  ..., 4.9945e-03, 2.5476e-03,\n",
       "         2.5173e-03],\n",
       "        [7.6320e-04, 7.6320e-04, 8.0001e-05,  ..., 4.9174e-03, 3.6382e-03,\n",
       "         2.1258e-03],\n",
       "        [4.8784e-04, 2.2575e-03, 4.1075e-03,  ..., 2.0786e-03, 9.9882e-04,\n",
       "         5.4532e-04]])"
      ]
     },
     "execution_count": 484,
     "metadata": {},
     "output_type": "execute_result"
    }
   ],
   "source": [
    "diffs"
   ]
  },
  {
   "cell_type": "code",
   "execution_count": 485,
   "id": "ac7c951d",
   "metadata": {},
   "outputs": [
    {
     "name": "stdout",
     "output_type": "stream",
     "text": [
      "Zero-ordered target layer ID (including ladel bottom layer): tensor([7.])\n"
     ]
    },
    {
     "data": {
      "image/png": "[encoded data removed]",
      "text/plain": [
       "<Figure size 1024x576 with 9 Axes>"
      ]
     },
     "metadata": {},
     "output_type": "display_data"
    }
   ],
   "source": [
    "plot_pred(diffs[0,:,None,None], targs[0])"
   ]
  },
  {
   "cell_type": "code",
   "execution_count": 486,
   "id": "08a5cf3b",
   "metadata": {},
   "outputs": [],
   "source": [
    "probs = F.softmax(diffs, dim=-1)"
   ]
  },
  {
   "cell_type": "code",
   "execution_count": 487,
   "id": "3026e816",
   "metadata": {},
   "outputs": [],
   "source": [
    "p = ((probs.argmax(-1)+2)*volume.passive_size)+volume.get_passive_z_range()[0]"
   ]
  },
  {
   "cell_type": "code",
   "execution_count": 488,
   "id": "d960f266",
   "metadata": {},
   "outputs": [
    {
     "data": {
      "text/plain": [
       "tensor([5, 5, 5, 3, 5, 4, 4, 5, 5, 5, 5, 5, 5, 5, 5, 3, 5, 5, 5, 5, 1, 5, 5, 5,\n",
       "        5, 5, 5, 5, 3, 5, 5, 5, 5, 5, 5, 5, 5, 5, 5, 5, 5, 5, 5, 5, 5, 5, 5, 5,\n",
       "        5, 5, 5, 3, 5, 3, 5, 5, 5, 5, 4, 5, 5, 5, 5, 5, 5, 2, 3, 5, 5, 4, 5, 5,\n",
       "        5, 5, 5, 5, 5, 1, 5, 5, 5, 5, 5, 5, 4, 3, 5, 5, 5, 5, 5, 5, 5, 2, 5, 2,\n",
       "        2, 6, 4, 1, 5, 4, 5, 5, 5, 2, 5, 5, 5, 5, 4, 5, 3, 5, 5, 5, 5, 5, 5, 5,\n",
       "        5, 5, 2, 5, 5, 1, 5, 5, 5, 5, 5, 5, 3, 4, 4, 5, 5, 5, 5, 5, 3, 5, 5, 5,\n",
       "        5, 4, 5, 5, 5, 5, 4, 4, 5, 1, 5, 5, 4, 5, 4, 3, 5, 5, 5, 5, 3, 4, 5, 3,\n",
       "        5, 5, 5, 5, 5, 5, 5, 5, 5, 5, 5, 2, 5, 5, 5, 5, 5, 4, 3, 6, 5, 4, 1, 5,\n",
       "        5, 5, 5, 5, 5, 5, 5, 3])"
      ]
     },
     "execution_count": 488,
     "metadata": {},
     "output_type": "execute_result"
    }
   ],
   "source": [
    "probs.argmax(-1)"
   ]
  },
  {
   "cell_type": "code",
   "execution_count": 489,
   "id": "2c069b64",
   "metadata": {},
   "outputs": [
    {
     "data": {
      "text/plain": [
       "tensor(0.0885)"
      ]
     },
     "execution_count": 489,
     "metadata": {},
     "output_type": "execute_result"
    }
   ],
   "source": [
    "get_mse(p, targs)"
   ]
  },
  {
   "cell_type": "code",
   "execution_count": 490,
   "id": "2725b9aa",
   "metadata": {},
   "outputs": [],
   "source": [
    "diffs = maxes/mins"
   ]
  },
  {
   "cell_type": "code",
   "execution_count": 491,
   "id": "b8a358d7",
   "metadata": {},
   "outputs": [
    {
     "data": {
      "text/plain": [
       "tensor([[0.9748, 0.9201, 0.9201,  ..., 0.7164, 0.8352, 0.8603],\n",
       "        [0.9790, 0.9790, 0.9465,  ..., 0.7966, 0.8426, 0.8813],\n",
       "        [0.9843, 0.8963, 0.8167,  ..., 0.7624, 0.8214, 0.8941],\n",
       "        ...,\n",
       "        [0.9673, 0.8580, 0.8870,  ..., 0.7549, 0.8887, 0.8901],\n",
       "        [0.9245, 0.9245, 0.9915,  ..., 0.7153, 0.8125, 0.8904],\n",
       "        [0.9512, 0.8082, 0.7088,  ..., 0.8931, 0.9500, 0.9727]])"
      ]
     },
     "execution_count": 491,
     "metadata": {},
     "output_type": "execute_result"
    }
   ],
   "source": [
    "diffs"
   ]
  },
  {
   "cell_type": "code",
   "execution_count": 492,
   "id": "06b5a369",
   "metadata": {},
   "outputs": [
    {
     "name": "stdout",
     "output_type": "stream",
     "text": [
      "Zero-ordered target layer ID (including ladel bottom layer): tensor([7.])\n"
     ]
    },
    {
     "data": {
      "image/png": "[encoded data removed]",
      "text/plain": [
       "<Figure size 1024x576 with 9 Axes>"
      ]
     },
     "metadata": {},
     "output_type": "display_data"
    }
   ],
   "source": [
    "plot_pred(diffs[0,:,None,None], targs[0])"
   ]
  },
  {
   "cell_type": "code",
   "execution_count": 493,
   "id": "50cfc945",
   "metadata": {},
   "outputs": [],
   "source": [
    "probs = F.softmax(diffs, dim=-1)"
   ]
  },
  {
   "cell_type": "code",
   "execution_count": 494,
   "id": "24aca19e",
   "metadata": {},
   "outputs": [],
   "source": [
    "p = ((probs.argmax(-1)+2)*volume.passive_size)+volume.get_passive_z_range()[0]"
   ]
  },
  {
   "cell_type": "code",
   "execution_count": 495,
   "id": "e8fe7be2",
   "metadata": {},
   "outputs": [
    {
     "data": {
      "text/plain": [
       "tensor([0, 0, 0, 8, 0, 8, 0, 0, 0, 0, 0, 8, 8, 0, 0, 8, 0, 0, 8, 0, 0, 8, 8, 8,\n",
       "        0, 0, 0, 0, 8, 0, 0, 0, 0, 8, 0, 8, 2, 0, 0, 2, 0, 0, 8, 0, 0, 0, 0, 0,\n",
       "        8, 0, 0, 0, 0, 8, 7, 0, 0, 0, 8, 0, 0, 0, 0, 0, 0, 8, 0, 0, 0, 0, 0, 8,\n",
       "        0, 0, 0, 0, 0, 8, 0, 0, 0, 0, 0, 8, 0, 0, 0, 8, 8, 0, 0, 8, 8, 8, 0, 0,\n",
       "        8, 8, 8, 2, 0, 0, 0, 0, 0, 8, 8, 8, 0, 0, 0, 0, 8, 0, 0, 0, 0, 0, 0, 0,\n",
       "        0, 0, 6, 0, 6, 3, 0, 0, 0, 0, 0, 0, 8, 0, 8, 0, 0, 0, 0, 8, 0, 8, 0, 0,\n",
       "        0, 0, 0, 8, 8, 0, 8, 8, 0, 4, 0, 8, 8, 7, 8, 0, 0, 0, 8, 0, 8, 8, 0, 8,\n",
       "        8, 0, 0, 2, 8, 8, 0, 0, 0, 0, 0, 7, 0, 0, 0, 0, 0, 8, 8, 8, 0, 0, 8, 7,\n",
       "        2, 0, 0, 0, 0, 0, 2, 8])"
      ]
     },
     "execution_count": 495,
     "metadata": {},
     "output_type": "execute_result"
    }
   ],
   "source": [
    "probs.argmax(-1)"
   ]
  },
  {
   "cell_type": "code",
   "execution_count": 496,
   "id": "04bb7b16",
   "metadata": {},
   "outputs": [
    {
     "data": {
      "text/plain": [
       "tensor(0.2080)"
      ]
     },
     "execution_count": 496,
     "metadata": {},
     "output_type": "execute_result"
    }
   ],
   "source": [
    "get_mse(p, targs)"
   ]
  },
  {
   "cell_type": "markdown",
   "id": "ddc28dc7",
   "metadata": {},
   "source": [
    "## Blurred ridge"
   ]
  },
  {
   "cell_type": "code",
   "execution_count": 502,
   "id": "9461f613",
   "metadata": {},
   "outputs": [],
   "source": [
    "ridge = nn.Conv1d(1, 1, kernel_size=3, stride=1, padding=1, padding_mode='replicate', bias=False)"
   ]
  },
  {
   "cell_type": "code",
   "execution_count": 503,
   "id": "aa4a5e08",
   "metadata": {},
   "outputs": [
    {
     "data": {
      "text/plain": [
       "Parameter containing:\n",
       "tensor([[[-0.5621,  0.3365, -0.3584]]], requires_grad=True)"
      ]
     },
     "execution_count": 503,
     "metadata": {},
     "output_type": "execute_result"
    }
   ],
   "source": [
    "ridge.weight"
   ]
  },
  {
   "cell_type": "code",
   "execution_count": 504,
   "id": "33155e27",
   "metadata": {},
   "outputs": [],
   "source": [
    "ridge.weight.data = Tensor([[[-1,1,-1]]])"
   ]
  },
  {
   "cell_type": "code",
   "execution_count": 505,
   "id": "2e19c147",
   "metadata": {},
   "outputs": [
    {
     "data": {
      "text/plain": [
       "Conv1d(1, 1, kernel_size=(3,), stride=(1,), padding=(1,), bias=False, padding_mode=replicate)"
      ]
     },
     "execution_count": 505,
     "metadata": {},
     "output_type": "execute_result"
    }
   ],
   "source": [
    "ridge.requires_grad_(False)"
   ]
  },
  {
   "cell_type": "code",
   "execution_count": 506,
   "id": "1435f3c5",
   "metadata": {},
   "outputs": [],
   "source": [
    "ridged = ridge(averaged[:,None]).squeeze()"
   ]
  },
  {
   "cell_type": "code",
   "execution_count": 507,
   "id": "dd669b3c",
   "metadata": {},
   "outputs": [],
   "source": [
    "blurred = F.avg_pool1d(ridged, kernel_size=3, padding=1, stride=1, count_include_pad=False)"
   ]
  },
  {
   "cell_type": "code",
   "execution_count": 508,
   "id": "7cfa8973",
   "metadata": {},
   "outputs": [
    {
     "data": {
      "text/plain": [
       "torch.Size([200, 9])"
      ]
     },
     "execution_count": 508,
     "metadata": {},
     "output_type": "execute_result"
    }
   ],
   "source": [
    "ridged.shape"
   ]
  },
  {
   "cell_type": "code",
   "execution_count": 509,
   "id": "e4fb832d",
   "metadata": {},
   "outputs": [
    {
     "name": "stdout",
     "output_type": "stream",
     "text": [
      "Zero-ordered target layer ID (including ladel bottom layer): tensor([0.])\n"
     ]
    },
    {
     "data": {
      "image/png": "[encoded data removed]",
      "text/plain": [
       "<Figure size 1024x576 with 9 Axes>"
      ]
     },
     "metadata": {},
     "output_type": "display_data"
    },
    {
     "name": "stdout",
     "output_type": "stream",
     "text": [
      "Zero-ordered target layer ID (including ladel bottom layer): tensor([0.])\n"
     ]
    },
    {
     "data": {
      "image/png": "[encoded data removed]",
      "text/plain": [
       "<Figure size 1024x576 with 9 Axes>"
      ]
     },
     "metadata": {},
     "output_type": "display_data"
    }
   ],
   "source": [
    "i=6\n",
    "plot_pred(averaged[i,:,None,None], targs[i])\n",
    "plot_pred(ridged[i,:,None,None], targs[i])"
   ]
  },
  {
   "cell_type": "code",
   "execution_count": 510,
   "id": "2b25c268",
   "metadata": {},
   "outputs": [],
   "source": [
    "probs = F.softmax(ridged, dim=-1)"
   ]
  },
  {
   "cell_type": "code",
   "execution_count": 511,
   "id": "046e996b",
   "metadata": {},
   "outputs": [],
   "source": [
    "p = ((probs.argmax(-1)+2)*volume.passive_size)+volume.get_passive_z_range()[0]"
   ]
  },
  {
   "cell_type": "code",
   "execution_count": 512,
   "id": "bbe68c76",
   "metadata": {},
   "outputs": [
    {
     "data": {
      "text/plain": [
       "tensor([0, 3, 0, 1, 3, 0, 0, 0, 3, 0, 2, 0, 1, 2, 0, 0, 3, 0, 0, 1, 0, 0, 0, 0,\n",
       "        3, 3, 2, 2, 0, 0, 0, 0, 0, 0, 0, 1, 2, 2, 0, 3, 2, 2, 1, 2, 1, 0, 0, 2,\n",
       "        0, 2, 0, 2, 0, 0, 0, 2, 1, 0, 0, 1, 1, 2, 1, 1, 0, 2, 2, 1, 0, 0, 0, 0,\n",
       "        0, 0, 2, 0, 0, 0, 0, 2, 0, 3, 0, 3, 0, 0, 0, 0, 0, 0, 0, 1, 0, 0, 3, 0,\n",
       "        0, 0, 0, 1, 0, 2, 0, 3, 3, 0, 0, 4, 2, 2, 0, 3, 0, 0, 1, 1, 0, 0, 0, 0,\n",
       "        0, 1, 0, 0, 0, 0, 0, 1, 0, 3, 0, 0, 0, 0, 0, 0, 0, 0, 0, 0, 0, 0, 3, 0,\n",
       "        0, 0, 2, 0, 1, 2, 0, 0, 3, 0, 2, 0, 1, 1, 0, 2, 0, 1, 0, 1, 2, 0, 1, 1,\n",
       "        1, 2, 3, 1, 0, 0, 0, 2, 0, 0, 0, 1, 1, 0, 3, 1, 0, 0, 1, 1, 2, 2, 1, 0,\n",
       "        2, 0, 0, 0, 0, 0, 3, 0])"
      ]
     },
     "execution_count": 512,
     "metadata": {},
     "output_type": "execute_result"
    }
   ],
   "source": [
    "probs.argmax(-1)"
   ]
  },
  {
   "cell_type": "code",
   "execution_count": 513,
   "id": "6f60b462",
   "metadata": {},
   "outputs": [
    {
     "data": {
      "text/plain": [
       "tensor(0.1539)"
      ]
     },
     "execution_count": 513,
     "metadata": {},
     "output_type": "execute_result"
    }
   ],
   "source": [
    "get_mse(p, targs)"
   ]
  },
  {
   "cell_type": "markdown",
   "id": "f0d33036",
   "metadata": {},
   "source": [
    "### Minmax"
   ]
  },
  {
   "cell_type": "code",
   "execution_count": 514,
   "id": "0882c582",
   "metadata": {},
   "outputs": [],
   "source": [
    "maxes = F.max_pool1d(ridged, kernel_size=3, padding=1, stride=1)"
   ]
  },
  {
   "cell_type": "code",
   "execution_count": 515,
   "id": "85d8d7ee",
   "metadata": {},
   "outputs": [
    {
     "data": {
      "text/plain": [
       "torch.Size([200, 9])"
      ]
     },
     "execution_count": 515,
     "metadata": {},
     "output_type": "execute_result"
    }
   ],
   "source": [
    "maxes.shape"
   ]
  },
  {
   "cell_type": "code",
   "execution_count": 516,
   "id": "af9573d6",
   "metadata": {},
   "outputs": [
    {
     "data": {
      "text/plain": [
       "tensor([[-0.0073, -0.0073, -0.0077,  ..., -0.0129, -0.0138, -0.0180],\n",
       "        [-0.0087, -0.0087, -0.0079,  ..., -0.0118, -0.0118, -0.0161],\n",
       "        [-0.0062, -0.0062, -0.0066,  ..., -0.0129, -0.0133, -0.0180],\n",
       "        ...,\n",
       "        [-0.0091, -0.0091, -0.0107,  ..., -0.0166, -0.0190, -0.0216],\n",
       "        [-0.0094, -0.0086, -0.0082,  ..., -0.0095, -0.0161, -0.0183],\n",
       "        [-0.0089, -0.0089, -0.0097,  ..., -0.0169, -0.0175, -0.0187]])"
      ]
     },
     "execution_count": 516,
     "metadata": {},
     "output_type": "execute_result"
    }
   ],
   "source": [
    "maxes"
   ]
  },
  {
   "cell_type": "code",
   "execution_count": 517,
   "id": "c2136801",
   "metadata": {},
   "outputs": [
    {
     "name": "stdout",
     "output_type": "stream",
     "text": [
      "Zero-ordered target layer ID (including ladel bottom layer): tensor([7.])\n"
     ]
    },
    {
     "data": {
      "image/png": "[encoded data removed]",
      "text/plain": [
       "<Figure size 1024x576 with 9 Axes>"
      ]
     },
     "metadata": {},
     "output_type": "display_data"
    }
   ],
   "source": [
    "plot_pred(maxes[0,:,None,None], targs[0])"
   ]
  },
  {
   "cell_type": "code",
   "execution_count": 518,
   "id": "1712bcd7",
   "metadata": {},
   "outputs": [],
   "source": [
    "mins = -F.max_pool1d(-ridged, kernel_size=3, padding=1, stride=1)"
   ]
  },
  {
   "cell_type": "code",
   "execution_count": 519,
   "id": "7baf429f",
   "metadata": {},
   "outputs": [
    {
     "data": {
      "text/plain": [
       "tensor([[-0.0096, -0.0096, -0.0096,  ..., -0.0197, -0.0197, -0.0197],\n",
       "        [-0.0108, -0.0108, -0.0108,  ..., -0.0161, -0.0162, -0.0162],\n",
       "        [-0.0086, -0.0086, -0.0086,  ..., -0.0184, -0.0184, -0.0184],\n",
       "        ...,\n",
       "        [-0.0112, -0.0112, -0.0124,  ..., -0.0254, -0.0254, -0.0254],\n",
       "        [-0.0115, -0.0115, -0.0115,  ..., -0.0216, -0.0216, -0.0216],\n",
       "        [-0.0107, -0.0107, -0.0149,  ..., -0.0226, -0.0226, -0.0226]])"
      ]
     },
     "execution_count": 519,
     "metadata": {},
     "output_type": "execute_result"
    }
   ],
   "source": [
    "mins"
   ]
  },
  {
   "cell_type": "code",
   "execution_count": 520,
   "id": "7ce466be",
   "metadata": {},
   "outputs": [
    {
     "name": "stdout",
     "output_type": "stream",
     "text": [
      "Zero-ordered target layer ID (including ladel bottom layer): tensor([7.])\n"
     ]
    },
    {
     "data": {
      "image/png": "[encoded data removed]",
      "text/plain": [
       "<Figure size 1024x576 with 9 Axes>"
      ]
     },
     "metadata": {},
     "output_type": "display_data"
    }
   ],
   "source": [
    "plot_pred(mins[0,:,None,None], targs[0])"
   ]
  },
  {
   "cell_type": "code",
   "execution_count": 521,
   "id": "21cad043",
   "metadata": {},
   "outputs": [],
   "source": [
    "diffs = maxes-mins"
   ]
  },
  {
   "cell_type": "code",
   "execution_count": 522,
   "id": "288d7ea7",
   "metadata": {},
   "outputs": [
    {
     "data": {
      "text/plain": [
       "tensor([[0.0022, 0.0022, 0.0019,  ..., 0.0068, 0.0059, 0.0018],\n",
       "        [0.0021, 0.0021, 0.0029,  ..., 0.0042, 0.0044, 0.0001],\n",
       "        [0.0024, 0.0024, 0.0020,  ..., 0.0055, 0.0051, 0.0004],\n",
       "        ...,\n",
       "        [0.0021, 0.0021, 0.0017,  ..., 0.0088, 0.0064, 0.0038],\n",
       "        [0.0021, 0.0029, 0.0032,  ..., 0.0121, 0.0055, 0.0033],\n",
       "        [0.0018, 0.0018, 0.0052,  ..., 0.0057, 0.0051, 0.0039]])"
      ]
     },
     "execution_count": 522,
     "metadata": {},
     "output_type": "execute_result"
    }
   ],
   "source": [
    "diffs"
   ]
  },
  {
   "cell_type": "code",
   "execution_count": 523,
   "id": "2a45b47e",
   "metadata": {},
   "outputs": [
    {
     "name": "stdout",
     "output_type": "stream",
     "text": [
      "Zero-ordered target layer ID (including ladel bottom layer): tensor([7.])\n"
     ]
    },
    {
     "data": {
      "image/png": "[encoded data removed]",
      "text/plain": [
       "<Figure size 1024x576 with 9 Axes>"
      ]
     },
     "metadata": {},
     "output_type": "display_data"
    }
   ],
   "source": [
    "plot_pred(diffs[0,:,None,None], targs[0])"
   ]
  },
  {
   "cell_type": "code",
   "execution_count": 524,
   "id": "ca7777bb",
   "metadata": {},
   "outputs": [],
   "source": [
    "probs = F.softmax(diffs, dim=-1)"
   ]
  },
  {
   "cell_type": "code",
   "execution_count": 525,
   "id": "6a2af806",
   "metadata": {},
   "outputs": [],
   "source": [
    "p = ((probs.argmax(-1)+2)*volume.passive_size)+volume.get_passive_z_range()[0]"
   ]
  },
  {
   "cell_type": "code",
   "execution_count": 526,
   "id": "2568fc9e",
   "metadata": {},
   "outputs": [
    {
     "data": {
      "text/plain": [
       "tensor([6, 4, 6, 2, 4, 4, 3, 4, 4, 5, 6, 5, 6, 6, 6, 6, 6, 5, 6, 5, 3, 5, 5, 5,\n",
       "        4, 6, 6, 5, 3, 4, 6, 6, 6, 4, 5, 6, 6, 5, 6, 6, 6, 5, 5, 6, 6, 6, 6, 6,\n",
       "        6, 7, 6, 3, 6, 3, 5, 6, 4, 5, 3, 4, 4, 5, 5, 6, 6, 6, 3, 5, 6, 3, 6, 4,\n",
       "        6, 6, 5, 5, 5, 1, 6, 2, 6, 6, 6, 4, 4, 6, 5, 5, 4, 4, 6, 5, 5, 2, 4, 6,\n",
       "        6, 1, 5, 4, 6, 2, 5, 4, 6, 6, 5, 5, 6, 6, 4, 6, 4, 6, 6, 5, 6, 4, 6, 5,\n",
       "        6, 5, 3, 6, 4, 7, 6, 6, 6, 4, 4, 5, 4, 4, 4, 6, 6, 6, 5, 6, 3, 6, 6, 6,\n",
       "        4, 4, 5, 5, 5, 5, 5, 5, 6, 1, 6, 6, 5, 5, 4, 6, 6, 6, 4, 6, 3, 4, 5, 1,\n",
       "        6, 6, 6, 4, 6, 4, 6, 5, 6, 5, 6, 2, 6, 5, 3, 5, 5, 4, 2, 1, 6, 2, 4, 6,\n",
       "        6, 6, 6, 5, 5, 6, 6, 3])"
      ]
     },
     "execution_count": 526,
     "metadata": {},
     "output_type": "execute_result"
    }
   ],
   "source": [
    "probs.argmax(-1)"
   ]
  },
  {
   "cell_type": "code",
   "execution_count": 527,
   "id": "e978dd5e",
   "metadata": {},
   "outputs": [
    {
     "data": {
      "text/plain": [
       "tensor(0.1045)"
      ]
     },
     "execution_count": 527,
     "metadata": {},
     "output_type": "execute_result"
    }
   ],
   "source": [
    "get_mse(p, targs)"
   ]
  },
  {
   "cell_type": "code",
   "execution_count": 528,
   "id": "61ed8ba4",
   "metadata": {},
   "outputs": [],
   "source": [
    "diffs = maxes/mins"
   ]
  },
  {
   "cell_type": "code",
   "execution_count": 529,
   "id": "53d05414",
   "metadata": {},
   "outputs": [
    {
     "data": {
      "text/plain": [
       "tensor([[0.7685, 0.7685, 0.8034,  ..., 0.6553, 0.6997, 0.9097],\n",
       "        [0.8083, 0.8083, 0.7347,  ..., 0.7359, 0.7297, 0.9915],\n",
       "        [0.7240, 0.7240, 0.7704,  ..., 0.7020, 0.7225, 0.9758],\n",
       "        ...,\n",
       "        [0.8147, 0.8147, 0.8646,  ..., 0.6526, 0.7477, 0.8504],\n",
       "        [0.8207, 0.7451, 0.7178,  ..., 0.4402, 0.7469, 0.8460],\n",
       "        [0.8297, 0.8297, 0.6504,  ..., 0.7460, 0.7725, 0.8255]])"
      ]
     },
     "execution_count": 529,
     "metadata": {},
     "output_type": "execute_result"
    }
   ],
   "source": [
    "diffs"
   ]
  },
  {
   "cell_type": "code",
   "execution_count": 530,
   "id": "b59c997a",
   "metadata": {},
   "outputs": [
    {
     "name": "stdout",
     "output_type": "stream",
     "text": [
      "Zero-ordered target layer ID (including ladel bottom layer): tensor([7.])\n"
     ]
    },
    {
     "data": {
      "image/png": "[encoded data removed]",
      "text/plain": [
       "<Figure size 1024x576 with 9 Axes>"
      ]
     },
     "metadata": {},
     "output_type": "display_data"
    }
   ],
   "source": [
    "plot_pred(diffs[0,:,None,None], targs[0])"
   ]
  },
  {
   "cell_type": "code",
   "execution_count": 531,
   "id": "c7da6b0d",
   "metadata": {},
   "outputs": [],
   "source": [
    "probs = F.softmax(diffs, dim=-1)"
   ]
  },
  {
   "cell_type": "code",
   "execution_count": 532,
   "id": "ca19c274",
   "metadata": {},
   "outputs": [],
   "source": [
    "p = ((probs.argmax(-1)+2)*volume.passive_size)+volume.get_passive_z_range()[0]"
   ]
  },
  {
   "cell_type": "code",
   "execution_count": 533,
   "id": "977ddc2e",
   "metadata": {},
   "outputs": [
    {
     "data": {
      "text/plain": [
       "tensor([8, 8, 8, 5, 0, 2, 8, 8, 8, 2, 8, 0, 4, 8, 8, 0, 0, 0, 0, 0, 0, 8, 7, 8,\n",
       "        8, 8, 8, 0, 8, 2, 8, 8, 0, 8, 8, 0, 8, 8, 8, 0, 8, 0, 0, 8, 0, 8, 0, 8,\n",
       "        0, 8, 0, 8, 4, 2, 8, 4, 0, 0, 7, 0, 3, 8, 8, 0, 8, 0, 8, 0, 0, 8, 8, 8,\n",
       "        0, 0, 7, 8, 8, 3, 8, 8, 0, 0, 0, 0, 8, 8, 0, 8, 8, 8, 8, 0, 7, 4, 6, 0,\n",
       "        7, 8, 8, 8, 2, 8, 8, 8, 0, 4, 2, 0, 0, 8, 2, 5, 8, 8, 0, 3, 8, 8, 0, 3,\n",
       "        8, 8, 4, 8, 6, 4, 2, 8, 8, 6, 8, 2, 8, 8, 6, 8, 2, 8, 2, 8, 5, 8, 0, 8,\n",
       "        2, 2, 8, 2, 8, 0, 0, 7, 8, 8, 0, 8, 0, 8, 8, 0, 8, 8, 8, 3, 8, 8, 8, 0,\n",
       "        0, 8, 8, 8, 0, 8, 2, 8, 8, 0, 2, 0, 0, 8, 8, 0, 8, 8, 8, 6, 8, 4, 0, 2,\n",
       "        8, 8, 2, 8, 8, 2, 8, 5])"
      ]
     },
     "execution_count": 533,
     "metadata": {},
     "output_type": "execute_result"
    }
   ],
   "source": [
    "probs.argmax(-1)"
   ]
  },
  {
   "cell_type": "code",
   "execution_count": 534,
   "id": "bbbaa648",
   "metadata": {},
   "outputs": [
    {
     "data": {
      "text/plain": [
       "tensor(0.2093)"
      ]
     },
     "execution_count": 534,
     "metadata": {},
     "output_type": "execute_result"
    }
   ],
   "source": [
    "get_mse(p, targs)"
   ]
  },
  {
   "cell_type": "code",
   "execution_count": null,
   "id": "3b0d033c",
   "metadata": {},
   "outputs": [],
   "source": []
  }
 ],
 "metadata": {
  "kernelspec": {
   "display_name": "Python [conda env:tomopt]",
   "language": "python",
   "name": "conda-env-tomopt-py"
  },
  "language_info": {
   "codemirror_mode": {
    "name": "ipython",
    "version": 3
   },
   "file_extension": ".py",
   "mimetype": "text/x-python",
   "name": "python",
   "nbconvert_exporter": "python",
   "pygments_lexer": "ipython3",
   "version": "3.8.0"
  },
  "toc": {
   "base_numbering": 1,
   "nav_menu": {},
   "number_sections": true,
   "sideBar": true,
   "skip_h1_title": false,
   "title_cell": "Table of Contents",
   "title_sidebar": "Contents",
   "toc_cell": false,
   "toc_position": {},
   "toc_section_display": true,
   "toc_window_display": false
  }
 },
 "nbformat": 4,
 "nbformat_minor": 5
}
