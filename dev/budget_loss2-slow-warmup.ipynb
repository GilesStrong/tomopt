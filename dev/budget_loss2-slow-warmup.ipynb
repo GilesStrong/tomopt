{
 "cells": [
  {
   "cell_type": "code",
   "execution_count": 1,
   "metadata": {},
   "outputs": [],
   "source": [
    "%matplotlib inline\n",
    "%reload_ext autoreload\n",
    "%autoreload 2"
   ]
  },
  {
   "cell_type": "code",
   "execution_count": 2,
   "metadata": {},
   "outputs": [],
   "source": [
    "import numpy as np\n",
    "from functools import partial\n",
    "import matplotlib.pyplot as plt\n",
    "import seaborn as sns\n",
    "\n",
    "import torch\n",
    "from torch import Tensor, nn\n",
    "from torch.nn import functional as F\n",
    "\n",
    "from tomopt.core import *\n",
    "from tomopt.volume import *\n",
    "from tomopt.inference import *\n",
    "from tomopt.muon import *\n",
    "from tomopt.optimisation import *"
   ]
  },
  {
   "cell_type": "code",
   "execution_count": 3,
   "metadata": {},
   "outputs": [],
   "source": [
    "DEVICE = torch.device('cpu')"
   ]
  },
  {
   "cell_type": "code",
   "execution_count": 4,
   "metadata": {},
   "outputs": [
    {
     "name": "stderr",
     "output_type": "stream",
     "text": [
      "<ipython-input-4-5787166f89b9>:4: UserWarning: Not providing a value for linspace's steps is deprecated and will throw a runtime error in a future release. This warning will appear only once per process. (Triggered internally at  ../aten/src/ATen/native/RangeFactories.cpp:23.)\n",
      "  x = torch.linspace(-1, 1)\n"
     ]
    },
    {
     "data": {
      "text/plain": [
       "[<matplotlib.lines.Line2D at 0x7f9f57e86e50>]"
      ]
     },
     "execution_count": 4,
     "metadata": {},
     "output_type": "execute_result"
    },
    {
     "data": {
      "image/png": "[encoded data removed]",
      "text/plain": [
       "<Figure size 432x288 with 1 Axes>"
      ]
     },
     "metadata": {
      "needs_background": "light"
     },
     "output_type": "display_data"
    }
   ],
   "source": [
    "def area_cost(x:Tensor) -> Tensor:\n",
    "    return F.relu(x)\n",
    "\n",
    "x = torch.linspace(-1, 1)\n",
    "plt.plot(x, area_cost(x))"
   ]
  },
  {
   "cell_type": "code",
   "execution_count": 5,
   "metadata": {},
   "outputs": [
    {
     "data": {
      "text/plain": [
       "[<matplotlib.lines.Line2D at 0x7f9f58870460>]"
      ]
     },
     "execution_count": 5,
     "metadata": {},
     "output_type": "execute_result"
    },
    {
     "data": {
      "image/png": "[encoded data removed]",
      "text/plain": [
       "<Figure size 432x288 with 1 Axes>"
      ]
     },
     "metadata": {
      "needs_background": "light"
     },
     "output_type": "display_data"
    }
   ],
   "source": [
    "def area_coef(x:Tensor, targ:float) -> Tensor:\n",
    "    return (2*torch.sigmoid(10*(x-targ)/targ)) + F.relu(x-targ)/targ\n",
    "\n",
    "x = torch.linspace(-1, 2)\n",
    "plt.plot(x, area_coef(x, 0.8))"
   ]
  },
  {
   "cell_type": "code",
   "execution_count": null,
   "metadata": {},
   "outputs": [],
   "source": [
    "from typing import *\n",
    "\n",
    "class DetectorLoss(nn.Module):\n",
    "    def __init__(\n",
    "        self,\n",
    "        *,\n",
    "        target_budget: float,\n",
    "        budget_smoothing: float = 10,\n",
    "        cost_coef: Optional[Union[Tensor, float]] = None,\n",
    "        debug: bool = False,\n",
    "    ):\n",
    "        super().__init__()\n",
    "        self.target_budget, self.budget_smoothing, self.cost_coef, self.debug = target_budget, budget_smoothing, cost_coef, debug\n",
    "        self.sub_losses: Dict[str, Tensor] = {}  # Store subcomponents in dict for telemetry\n",
    "        \n",
    "    def _get_budget_coef(self, cost: Tensor) -> Union[float, Tensor]:\n",
    "        r\"\"\"Switch-on near target budget, plus linear increase above budget\"\"\"\n",
    "        if self.target_budget == 0:\n",
    "            return 0\n",
    "        d = cost - self.target_budget\n",
    "        return (2 * torch.sigmoid(self.budget_smoothing * d / self.target_budget)) + (F.relu(d) / self.target_budget)\n",
    "\n",
    "    def _compute_cost_coef(self, cost: Tensor, inference: Tensor) -> None:\n",
    "        self.cost_coef = inference.detach().clone() / cost.detach().clone()\n",
    "        print(f\"Automatically setting cost coefficient to {self.cost_coef}\")\n",
    "\n",
    "    def forward(self, pred_x0: Tensor, pred_weight: Tensor, volume: Volume) -> Tensor:\n",
    "        self.sub_losses = {}\n",
    "        true_x0 = volume.get_rad_cube()\n",
    "        inference = torch.mean((pred_x0 - true_x0).pow(2) / pred_weight)\n",
    "        self.sub_losses[\"error\"] = inference\n",
    "        cost = volume.get_cost()\n",
    "        if self.cost_coef is None:\n",
    "            self._compute_cost_coef(cost, inference)\n",
    "        self.sub_losses[\"cost\"] = self._get_budget_coef(cost) * self.cost_coef * cost\n",
    "        if self.debug:\n",
    "            print(\n",
    "                f'cost {cost}, cost coef {self.cost_coef}, budget coef {self._get_budget_coef(cost)}. error loss {self.sub_losses[\"error\"]}, cost loss {self.sub_losses[\"cost\"]}'\n",
    "            )\n",
    "        return self.sub_losses[\"error\"] + self.sub_losses[\"cost\"]"
   ]
  },
  {
   "cell_type": "code",
   "execution_count": null,
   "metadata": {},
   "outputs": [],
   "source": [
    "def get_layers():\n",
    "    layers = []\n",
    "    lwh = Tensor([1,1,1])\n",
    "    size = 0.1\n",
    "    init_eff = 0.5\n",
    "    init_res = 1000\n",
    "    n_panels = 4\n",
    "    layers.append(PanelDetectorLayer(pos='above', lw=lwh[:2], z=1, size=2*size,\n",
    "                                     panels=[DetectorPanel(res=init_res, eff=init_eff,\n",
    "                                                      init_xyz=[0.5,0.5,1-(i*(2*size)/n_panels)], init_xy_span=[1.0,1.0],\n",
    "                                                      area_cost_func=area_cost, device=DEVICE) for i in range(n_panels)]))\n",
    "    for z in [0.8,0.7,0.6,0.5,0.4,0.3]:\n",
    "        layers.append(PassiveLayer(lw=lwh[:2], z=z, size=size, device=DEVICE))\n",
    "    layers.append(PanelDetectorLayer(pos='below', lw=lwh[:2], z=0.2, size=2*size,\n",
    "                                     panels=[DetectorPanel(res=init_res, eff=init_eff,\n",
    "                                                      init_xyz=[0.5,0.5,0.2-(i*(2*size)/n_panels)], init_xy_span=[1.0,1.0],\n",
    "                                                      area_cost_func=area_cost, device=DEVICE) for i in range(n_panels)]))\n",
    "\n",
    "    return nn.ModuleList(layers) "
   ]
  },
  {
   "cell_type": "code",
   "execution_count": null,
   "metadata": {},
   "outputs": [],
   "source": [
    "volume = Volume(get_layers())\n",
    "volume"
   ]
  },
  {
   "cell_type": "code",
   "execution_count": null,
   "metadata": {},
   "outputs": [],
   "source": [
    "volume.get_cost()"
   ]
  },
  {
   "cell_type": "code",
   "execution_count": null,
   "metadata": {},
   "outputs": [],
   "source": [
    "wrapper = PanelVolumeWrapper(volume,\n",
    "                             xy_pos_opt=partial(torch.optim.SGD, lr=5e4),\n",
    "                             z_pos_opt=partial(torch.optim.SGD, lr=5e3),\n",
    "                             xy_span_opt=partial(torch.optim.SGD, lr=5e3),\n",
    "                             loss_func=DetectorLoss(target_budget=0.8, cost_coef=None, debug=True))  # Loss is precision + budget_coef*cost_coef*detector cost, balance coef as required or leave as None to automatically balance on first batch"
   ]
  },
  {
   "cell_type": "code",
   "execution_count": null,
   "metadata": {},
   "outputs": [],
   "source": [
    "def arb_rad_length(*,z:float, lw:Tensor, size:float) -> float:\n",
    "    rad_length = torch.ones(list((lw/size).long()))*X0['beryllium']\n",
    "    if z >= 0.4 and z <= 0.5: rad_length[5:,5:] = X0['lead']\n",
    "    return rad_length"
   ]
  },
  {
   "cell_type": "code",
   "execution_count": null,
   "metadata": {},
   "outputs": [],
   "source": [
    "passives = PassiveYielder([arb_rad_length])"
   ]
  },
  {
   "cell_type": "code",
   "execution_count": null,
   "metadata": {},
   "outputs": [],
   "source": [
    "from tomopt.optimisation.callbacks.callback import Callback\n",
    "\n",
    "class CostCoefAdapter(Callback):\n",
    "    def __init__(self, mom:Union[float,Tensor]):\n",
    "        self.mom = mom\n",
    "        \n",
    "    def on_epoch_begin(self) -> None:\n",
    "        self.sum: Optional[Tensor] = None\n",
    "        self.volume_cnt = 0\n",
    "            \n",
    "    def on_volume_end(self) -> None:\n",
    "        if self.wrapper.fit_params.state == 'train' and self.wrapper.fit_params.pred is not None:\n",
    "            v = self.wrapper.loss_func.sub_losses['error'].detach().clone()/self.wrapper.volume.get_cost().detach().clone()\n",
    "            if self.sum is None:\n",
    "                self.sum = v\n",
    "            else:\n",
    "                self.sum += v\n",
    "            self.volume_cnt += 1\n",
    "            \n",
    "    def on_epoch_end(self) -> None:\n",
    "        if self.wrapper.fit_params.state == 'train':\n",
    "            avg = self.sum/self.volume_cnt\n",
    "            if self.wrapper.loss_func.cost_coef is None: self.wrapper.loss_func.cost_coef = avg\n",
    "            else:\n",
    "                print('start coef', self.wrapper.loss_func.cost_coef, 'avg', avg)\n",
    "                self.wrapper.loss_func.cost_coef.lerp_(avg, self.mom)\n",
    "                print('end coef', self.wrapper.loss_func.cost_coef)\n",
    "                "
   ]
  },
  {
   "cell_type": "code",
   "execution_count": null,
   "metadata": {
    "scrolled": false
   },
   "outputs": [],
   "source": [
    "_ = wrapper.fit(n_epochs=10,\n",
    "                passive_bs=1,\n",
    "                n_mu_per_volume=1000,\n",
    "                mu_bs=100,\n",
    "                trn_passives=passives,\n",
    "                val_passives=passives,\n",
    "                cbs=[CostCoefAdapter(0.05),PanelMetricLogger()])"
   ]
  },
  {
   "cell_type": "code",
   "execution_count": null,
   "metadata": {},
   "outputs": [],
   "source": [
    "for p in volume.parameters(): print(p)"
   ]
  },
  {
   "cell_type": "code",
   "execution_count": null,
   "metadata": {},
   "outputs": [],
   "source": []
  }
 ],
 "metadata": {
  "kernelspec": {
   "display_name": "Python [conda env:tomopt]",
   "language": "python",
   "name": "conda-env-tomopt-py"
  },
  "language_info": {
   "codemirror_mode": {
    "name": "ipython",
    "version": 3
   },
   "file_extension": ".py",
   "mimetype": "text/x-python",
   "name": "python",
   "nbconvert_exporter": "python",
   "pygments_lexer": "ipython3",
   "version": "3.8.0"
  },
  "toc": {
   "base_numbering": 1,
   "nav_menu": {},
   "number_sections": true,
   "sideBar": true,
   "skip_h1_title": false,
   "title_cell": "Table of Contents",
   "title_sidebar": "Contents",
   "toc_cell": false,
   "toc_position": {},
   "toc_section_display": true,
   "toc_window_display": false
  }
 },
 "nbformat": 4,
 "nbformat_minor": 4
}
