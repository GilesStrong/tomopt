{
 "cells": [
  {
   "cell_type": "code",
   "execution_count": 1,
   "metadata": {},
   "outputs": [],
   "source": [
    "%matplotlib inline\n",
    "%reload_ext autoreload\n",
    "%autoreload 2"
   ]
  },
  {
   "cell_type": "code",
   "execution_count": 2,
   "metadata": {},
   "outputs": [],
   "source": [
    "from tomopt.muon import *\n",
    "from tomopt.inference import *\n",
    "from tomopt.volume import *\n",
    "from tomopt.core import *\n",
    "from tomopt.optimisation import *\n",
    "\n",
    "import matplotlib.pyplot as plt\n",
    "import seaborn as sns\n",
    "from typing import *\n",
    "import numpy as np\n",
    "\n",
    "import torch\n",
    "from torch import Tensor, nn\n",
    "import torch.nn.functional as F"
   ]
  },
  {
   "cell_type": "markdown",
   "metadata": {},
   "source": [
    "# Basics"
   ]
  },
  {
   "cell_type": "code",
   "execution_count": 3,
   "metadata": {},
   "outputs": [],
   "source": [
    "def arb_rad_length(*,z:float, lw:Tensor, size:float) -> float:\n",
    "    rad_length = torch.ones(list((lw/size).long()))*X0['beryllium']\n",
    "    if z >= 0.4 and z <= 0.5: rad_length[5:,5:] = X0['lead']\n",
    "    return rad_length"
   ]
  },
  {
   "cell_type": "code",
   "execution_count": 4,
   "metadata": {},
   "outputs": [],
   "source": [
    "def eff_cost(x:Tensor) -> Tensor:\n",
    "    return torch.expm1(3*F.relu(x))"
   ]
  },
  {
   "cell_type": "code",
   "execution_count": 5,
   "metadata": {},
   "outputs": [],
   "source": [
    "def res_cost(x:Tensor) -> Tensor:\n",
    "    return F.relu(x/100)**2"
   ]
  },
  {
   "cell_type": "code",
   "execution_count": 6,
   "metadata": {},
   "outputs": [],
   "source": [
    "def get_layers():\n",
    "    layers = []\n",
    "    lwh = Tensor([1,1,1])\n",
    "    size = 0.1\n",
    "    init_eff = 0.5\n",
    "    init_res = 1000\n",
    "    pos = 'above'\n",
    "    for z,d in zip(np.arange(lwh[2],0,-size), [1,1,0,0,0,0,0,0,1,1]):\n",
    "        if d:\n",
    "            layers.append(DetectorLayer(pos=pos, init_eff=init_eff, init_res=init_res,\n",
    "                                        lw=lwh[:2], z=z, size=size, eff_cost_func=eff_cost, res_cost_func=res_cost))\n",
    "        else:\n",
    "            pos = 'below'\n",
    "            layers.append(PassiveLayer(rad_length_func=arb_rad_length, lw=lwh[:2], z=z, size=size))\n",
    "\n",
    "    return nn.ModuleList(layers) "
   ]
  },
  {
   "cell_type": "code",
   "execution_count": 7,
   "metadata": {},
   "outputs": [],
   "source": [
    "volume = Volume(get_layers())"
   ]
  },
  {
   "cell_type": "markdown",
   "metadata": {},
   "source": [
    "# VolumeWrapper"
   ]
  },
  {
   "cell_type": "code",
   "execution_count": 8,
   "metadata": {},
   "outputs": [],
   "source": [
    "from functools import partial"
   ]
  },
  {
   "cell_type": "code",
   "execution_count": 9,
   "metadata": {},
   "outputs": [],
   "source": [
    "volume = Volume(get_layers())"
   ]
  },
  {
   "cell_type": "code",
   "execution_count": 11,
   "metadata": {},
   "outputs": [],
   "source": [
    "class VarianceDetectorLoss(DetectorLoss):\n",
    "    def forward(self, pred_x0: Tensor, pred_weight: Tensor, volume: Volume) -> Tensor:\n",
    "        self.sub_losses[\"variance\"] = torch.mean(1/pred_weight)  # SE/variance\n",
    "        cost = volume.get_cost()\n",
    "        if self.cost_coef is None:\n",
    "            self._compute_cost_coef(cost, self.sub_losses[\"variance\"])\n",
    "        self.sub_losses[\"cost\"] = self.cost_coef * cost\n",
    "        return self.sub_losses[\"variance\"] + self.sub_losses[\"cost\"]"
   ]
  },
  {
   "cell_type": "code",
   "execution_count": 12,
   "metadata": {},
   "outputs": [],
   "source": [
    "wrapper = VolumeWrapper(volume=volume, res_opt=partial(torch.optim.SGD, lr=2e9), eff_opt=partial(torch.optim.SGD, lr=2e2),\n",
    "                        loss_func=VarianceDetectorLoss())"
   ]
  },
  {
   "cell_type": "code",
   "execution_count": 13,
   "metadata": {},
   "outputs": [],
   "source": [
    "from tomopt.optimisation import MetricLogger"
   ]
  },
  {
   "cell_type": "code",
   "execution_count": 19,
   "metadata": {},
   "outputs": [],
   "source": [
    "ml = MetricLogger(show_plots=True)"
   ]
  },
  {
   "cell_type": "code",
   "execution_count": 20,
   "metadata": {},
   "outputs": [],
   "source": [
    "trn_passives = PassiveYielder([arb_rad_length])"
   ]
  },
  {
   "cell_type": "code",
   "execution_count": 21,
   "metadata": {},
   "outputs": [],
   "source": [
    "from tomopt.optimisation.callbacks.callback import Callback"
   ]
  },
  {
   "cell_type": "code",
   "execution_count": 22,
   "metadata": {},
   "outputs": [],
   "source": [
    "class ParamCap(Callback):\n",
    "    def on_volume_batch_begin(self) -> None:\n",
    "        with torch.no_grad():\n",
    "            for d in self.wrapper.volume.get_detectors():\n",
    "                torch.clamp_(d.resolution, min=1, max=1e7)\n",
    "                torch.clamp_(d.efficiency, min=1e-7, max=1)"
   ]
  },
  {
   "cell_type": "code",
   "execution_count": 23,
   "metadata": {
    "scrolled": false
   },
   "outputs": [
    {
     "name": "stderr",
     "output_type": "stream",
     "text": [
      "ERROR:root:Internal Python error in the inspect module.\n",
      "Below is the traceback from this internal error.\n",
      "\n",
      "\n",
      "KeyboardInterrupt\n",
      "\n"
     ]
    },
    {
     "name": "stdout",
     "output_type": "stream",
     "text": [
      "Traceback (most recent call last):\n",
      "  File \"/Users/giles/anaconda3/envs/tomopt/lib/python3.8/site-packages/IPython/core/magics/execution.py\", line 1321, in time\n",
      "    exec(code, glob, local_ns)\n",
      "  File \"<timed exec>\", line 1, in <module>\n",
      "  File \"/Users/giles/cernbox/mode_muon_tomography/tomopt/optimisation/wrapper/volume_wrapper.py\", line 289, in fit\n",
      "    c.on_train_begin()\n",
      "  File \"/Users/giles/cernbox/mode_muon_tomography/tomopt/optimisation/callbacks/monitors.py\", line 115, in on_train_begin\n",
      "    self._reset()\n",
      "  File \"/Users/giles/cernbox/mode_muon_tomography/tomopt/optimisation/callbacks/monitors.py\", line 76, in _reset\n",
      "    self._prep_plots()\n",
      "  File \"/Users/giles/cernbox/mode_muon_tomography/tomopt/optimisation/callbacks/monitors.py\", line 107, in _prep_plots\n",
      "    self.display = display(self.fig, display_id=True)\n",
      "  File \"/Users/giles/anaconda3/envs/tomopt/lib/python3.8/site-packages/IPython/core/display.py\", line 313, in display\n",
      "    format_dict, md_dict = format(obj, include=include, exclude=exclude)\n",
      "  File \"/Users/giles/anaconda3/envs/tomopt/lib/python3.8/site-packages/IPython/core/formatters.py\", line 180, in format\n",
      "    data = formatter(obj)\n",
      "  File \"/Users/giles/anaconda3/envs/tomopt/lib/python3.8/site-packages/decorator.py\", line 232, in fun\n",
      "    return caller(func, *(extras + args), **kw)\n",
      "  File \"/Users/giles/anaconda3/envs/tomopt/lib/python3.8/site-packages/IPython/core/formatters.py\", line 224, in catch_format_error\n",
      "    r = method(self, *args, **kwargs)\n",
      "  File \"/Users/giles/anaconda3/envs/tomopt/lib/python3.8/site-packages/IPython/core/formatters.py\", line 341, in __call__\n",
      "    return printer(obj)\n",
      "  File \"/Users/giles/anaconda3/envs/tomopt/lib/python3.8/site-packages/IPython/core/pylabtools.py\", line 248, in <lambda>\n",
      "    png_formatter.for_type(Figure, lambda fig: print_figure(fig, 'png', **kwargs))\n",
      "  File \"/Users/giles/anaconda3/envs/tomopt/lib/python3.8/site-packages/IPython/core/pylabtools.py\", line 132, in print_figure\n",
      "    fig.canvas.print_figure(bytes_io, **kw)\n",
      "  File \"/Users/giles/anaconda3/envs/tomopt/lib/python3.8/site-packages/matplotlib/backend_bases.py\", line 2234, in print_figure\n",
      "    bbox_inches = self.figure.get_tightbbox(\n",
      "  File \"/Users/giles/anaconda3/envs/tomopt/lib/python3.8/site-packages/matplotlib/figure.py\", line 1636, in get_tightbbox\n",
      "    bbox = a.get_tightbbox(renderer)\n",
      "  File \"/Users/giles/anaconda3/envs/tomopt/lib/python3.8/site-packages/matplotlib/axes/_base.py\", line 4488, in get_tightbbox\n",
      "    bbox = a.get_tightbbox(renderer)\n",
      "  File \"/Users/giles/anaconda3/envs/tomopt/lib/python3.8/site-packages/matplotlib/artist.py\", line 306, in get_tightbbox\n",
      "    bbox = self.get_window_extent(renderer)\n",
      "  File \"/Users/giles/anaconda3/envs/tomopt/lib/python3.8/site-packages/matplotlib/spines.py\", line 195, in get_window_extent\n",
      "    return mtransforms.Bbox.union(bboxes)\n",
      "  File \"/Users/giles/anaconda3/envs/tomopt/lib/python3.8/site-packages/matplotlib/transforms.py\", line 683, in union\n",
      "    y1 = np.max([bbox.ymax for bbox in bboxes])\n",
      "  File \"/Users/giles/anaconda3/envs/tomopt/lib/python3.8/site-packages/matplotlib/transforms.py\", line 683, in <listcomp>\n",
      "    y1 = np.max([bbox.ymax for bbox in bboxes])\n",
      "  File \"/Users/giles/anaconda3/envs/tomopt/lib/python3.8/site-packages/matplotlib/transforms.py\", line 344, in ymax\n",
      "    return np.max(self.get_points()[:, 1])\n",
      "  File \"<__array_function__ internals>\", line 5, in amax\n",
      "  File \"/Users/giles/anaconda3/envs/tomopt/lib/python3.8/site-packages/numpy/core/fromnumeric.py\", line 2733, in amax\n",
      "    return _wrapreduction(a, np.maximum, 'max', axis, None, out,\n",
      "  File \"/Users/giles/anaconda3/envs/tomopt/lib/python3.8/site-packages/numpy/core/fromnumeric.py\", line 87, in _wrapreduction\n",
      "    return ufunc.reduce(obj, axis, dtype, out, **passkwargs)\n",
      "KeyboardInterrupt\n",
      "\n",
      "During handling of the above exception, another exception occurred:\n",
      "\n",
      "Traceback (most recent call last):\n",
      "  File \"/Users/giles/anaconda3/envs/tomopt/lib/python3.8/site-packages/IPython/core/interactiveshell.py\", line 2061, in showtraceback\n",
      "    stb = value._render_traceback_()\n",
      "AttributeError: 'KeyboardInterrupt' object has no attribute '_render_traceback_'\n",
      "\n",
      "During handling of the above exception, another exception occurred:\n",
      "\n",
      "Traceback (most recent call last):\n",
      "  File \"/Users/giles/anaconda3/envs/tomopt/lib/python3.8/site-packages/IPython/core/ultratb.py\", line 1101, in get_records\n",
      "    return _fixed_getinnerframes(etb, number_of_lines_of_context, tb_offset)\n",
      "  File \"/Users/giles/anaconda3/envs/tomopt/lib/python3.8/site-packages/IPython/core/ultratb.py\", line 248, in wrapped\n",
      "    return f(*args, **kwargs)\n",
      "  File \"/Users/giles/anaconda3/envs/tomopt/lib/python3.8/site-packages/IPython/core/ultratb.py\", line 281, in _fixed_getinnerframes\n",
      "    records = fix_frame_records_filenames(inspect.getinnerframes(etb, context))\n",
      "  File \"/Users/giles/anaconda3/envs/tomopt/lib/python3.8/inspect.py\", line 1503, in getinnerframes\n",
      "    frameinfo = (tb.tb_frame,) + getframeinfo(tb, context)\n",
      "  File \"/Users/giles/anaconda3/envs/tomopt/lib/python3.8/inspect.py\", line 1465, in getframeinfo\n",
      "    lines, lnum = findsource(frame)\n",
      "  File \"/Users/giles/anaconda3/envs/tomopt/lib/python3.8/site-packages/IPython/core/ultratb.py\", line 182, in findsource\n",
      "    lines = linecache.getlines(file, globals_dict)\n",
      "  File \"/Users/giles/anaconda3/envs/tomopt/lib/python3.8/linecache.py\", line 47, in getlines\n",
      "    return updatecache(filename, module_globals)\n",
      "  File \"/Users/giles/anaconda3/envs/tomopt/lib/python3.8/linecache.py\", line 137, in updatecache\n",
      "    lines = fp.readlines()\n",
      "  File \"/Users/giles/anaconda3/envs/tomopt/lib/python3.8/codecs.py\", line 324, in decode\n",
      "    self.buffer = data[consumed:]\n",
      "KeyboardInterrupt\n"
     ]
    },
    {
     "data": {
      "image/png": "[encoded data removed]",
      "text/plain": [
       "<Figure size 1024x1024 with 12 Axes>"
      ]
     },
     "metadata": {},
     "output_type": "display_data"
    }
   ],
   "source": [
    "%%time\n",
    "_ = wrapper.fit(25, n_mu_per_volume=1000, mu_bs=100, passive_bs=1, trn_passives=trn_passives, val_passives=trn_passives, cbs=[NoMoreNaNs(),ParamCap(),ml])"
   ]
  },
  {
   "cell_type": "code",
   "execution_count": 18,
   "metadata": {
    "scrolled": false
   },
   "outputs": [
    {
     "name": "stdout",
     "output_type": "stream",
     "text": [
      "1 Parameter containing:\n",
      "tensor([[ 944.7238,  879.3392,  942.0074,  839.4045,  926.0201,  770.4169,\n",
      "          876.3475,  887.1107,  940.6292,  900.8568],\n",
      "        [ 824.4638,  869.1426,  884.6584,  783.0872,  903.0166,  922.0774,\n",
      "          911.3770,  894.8262,  924.1179, 1971.4182],\n",
      "        [ 914.6912,  885.4609,  922.8918,  940.1758,  885.3452,  911.1371,\n",
      "          935.6091,  874.1616,  874.5265, 1061.8381],\n",
      "        [ 893.5571,  913.2275,  951.3462,  942.1079,  944.5255,  933.7513,\n",
      "          925.4319,  935.7755,  891.9627,  872.7415],\n",
      "        [ 872.5511,  914.8224,  937.0390,  926.0547,  937.7984,  927.1053,\n",
      "          919.9775,  953.5624,  930.6780,  886.4045],\n",
      "        [ 894.3889,  940.6751,  950.0142,  932.5651,  916.1715,  953.6664,\n",
      "          960.7090,  958.1313,  924.0609,  906.8161],\n",
      "        [ 910.0916,  918.1438,  930.4972,  934.1456,  944.2277,  966.1574,\n",
      "          959.1130,  961.3692,  907.6937,  921.1329],\n",
      "        [ 882.7684,  926.7073,  928.1646,  935.5862,  941.2750,  957.0908,\n",
      "          959.5046,  964.1843,  951.7508,  945.6616],\n",
      "        [ 795.8512,  885.2135,  900.0015,  858.8070,  933.0247,  920.2363,\n",
      "          963.3762,  960.9188,  957.4657,  904.9592],\n",
      "        [ 707.9225,  831.3760,  909.3441,  854.3696,  897.6401,  909.4703,\n",
      "          920.3694,  939.8199,  838.0374,  883.0482]], requires_grad=True) Parameter containing:\n",
      "tensor([[0.5163, 0.5087, 0.5043, 0.5147, 0.5054, 0.5164, 0.5103, 0.5306, 0.5081,\n",
      "         0.5058],\n",
      "        [0.5154, 0.5138, 0.5080, 0.5139, 0.5074, 0.5056, 0.5058, 0.5082, 0.5078,\n",
      "         0.5748],\n",
      "        [0.5066, 0.5093, 0.5064, 0.5043, 0.5081, 0.5058, 0.5047, 0.5072, 0.5095,\n",
      "         0.5122],\n",
      "        [0.5144, 0.5059, 0.5047, 0.5032, 0.5052, 0.5056, 0.5050, 0.5054, 0.5103,\n",
      "         0.5088],\n",
      "        [0.5088, 0.5058, 0.5053, 0.5052, 0.5043, 0.5062, 0.5056, 0.5026, 0.5068,\n",
      "         0.5082],\n",
      "        [0.5081, 0.5063, 0.5045, 0.5053, 0.5062, 0.5028, 0.5019, 0.5036, 0.5059,\n",
      "         0.5060],\n",
      "        [0.5075, 0.5089, 0.5057, 0.5049, 0.5032, 0.5045, 0.5024, 0.5022, 0.5059,\n",
      "         0.5100],\n",
      "        [0.5085, 0.5058, 0.5052, 0.5045, 0.5042, 0.5025, 0.5023, 0.5017, 0.5059,\n",
      "         0.5049],\n",
      "        [0.5135, 0.5097, 0.5076, 0.5091, 0.5053, 0.5064, 0.5040, 0.5049, 0.5083,\n",
      "         0.5113],\n",
      "        [0.5168, 0.5096, 0.5100, 0.5095, 0.5122, 0.5066, 0.5061, 0.5058, 0.5099,\n",
      "         0.5115]], requires_grad=True)\n",
      "1 Parameter containing:\n",
      "tensor([[671.5205, 928.6019, 933.9308, 881.2508, 931.0977, 878.9915, 895.5081,\n",
      "         685.9012, 860.7687, 896.4238],\n",
      "        [870.6220, 892.0850, 900.4457, 887.2236, 910.5698, 917.3289, 914.8981,\n",
      "         912.4460, 889.9529, 504.6119],\n",
      "        [885.3970, 898.0244, 912.4400, 936.2202, 867.2582, 919.2366, 926.9567,\n",
      "         928.0615, 890.2569, 870.1707],\n",
      "        [904.3383, 935.1807, 918.1871, 945.0361, 926.9709, 935.8964, 936.0394,\n",
      "         918.2913, 892.6259, 915.3016],\n",
      "        [886.9733, 926.9420, 935.9360, 923.7595, 931.8710, 934.3032, 925.1502,\n",
      "         949.2172, 925.6663, 916.1868],\n",
      "        [922.2164, 892.4426, 923.0242, 921.8246, 896.9423, 958.4177, 962.4748,\n",
      "         958.3508, 959.4668, 943.3273],\n",
      "        [897.1174, 856.7202, 932.7695, 932.7579, 947.5911, 966.9376, 959.1680,\n",
      "         961.9243, 911.9550, 908.2239],\n",
      "        [907.3640, 926.0134, 915.8528, 927.9938, 947.2133, 953.1880, 964.5336,\n",
      "         961.4744, 950.3613, 941.0068],\n",
      "        [858.0302, 913.7741, 879.5226, 899.7078, 922.3352, 920.8390, 962.4899,\n",
      "         923.2923, 953.3339, 857.6600],\n",
      "        [859.8026, 901.8747, 856.4421, 911.3287, 773.1661, 931.4880, 924.2749,\n",
      "         949.6682, 946.7607, 902.0507]], requires_grad=True) Parameter containing:\n",
      "tensor([[0.5161, 0.5081, 0.5048, 0.5138, 0.5050, 0.5127, 0.5113, 0.5300, 0.5082,\n",
      "         0.5073],\n",
      "        [0.5145, 0.5150, 0.5084, 0.5141, 0.5080, 0.5068, 0.5068, 0.5085, 0.5078,\n",
      "         0.5733],\n",
      "        [0.5069, 0.5090, 0.5058, 0.5050, 0.5090, 0.5064, 0.5051, 0.5064, 0.5105,\n",
      "         0.5126],\n",
      "        [0.5139, 0.5062, 0.5061, 0.5036, 0.5044, 0.5053, 0.5045, 0.5061, 0.5091,\n",
      "         0.5091],\n",
      "        [0.5076, 0.5069, 0.5043, 0.5051, 0.5046, 0.5061, 0.5053, 0.5026, 0.5087,\n",
      "         0.5073],\n",
      "        [0.5057, 0.5084, 0.5046, 0.5049, 0.5056, 0.5028, 0.5020, 0.5033, 0.5050,\n",
      "         0.5063],\n",
      "        [0.5070, 0.5091, 0.5057, 0.5051, 0.5035, 0.5021, 0.5024, 0.5028, 0.5061,\n",
      "         0.5102],\n",
      "        [0.5080, 0.5056, 0.5054, 0.5052, 0.5035, 0.5047, 0.5022, 0.5019, 0.5057,\n",
      "         0.5040],\n",
      "        [0.5138, 0.5083, 0.5097, 0.5098, 0.5062, 0.5061, 0.5044, 0.5049, 0.5076,\n",
      "         0.5139],\n",
      "        [0.5137, 0.5127, 0.5101, 0.5080, 0.5146, 0.5046, 0.5052, 0.5057, 0.5074,\n",
      "         0.5121]], requires_grad=True)\n",
      "1 Parameter containing:\n",
      "tensor([[936.9828, 788.5256, 878.1313, 889.0181, 850.0934, 853.1966, 803.7180,\n",
      "         896.3901, 722.5111, 860.1687],\n",
      "        [791.6447, 895.4807, 930.1988, 925.2501, 878.2729, 924.3839, 934.1976,\n",
      "         929.1981, 694.4576, 255.2249],\n",
      "        [848.4535, 920.1409, 927.5338, 928.7714, 946.9930, 947.2944, 908.1919,\n",
      "         921.2842, 956.3359, 795.5989],\n",
      "        [869.3497, 928.7987, 900.4075, 925.3237, 918.8615, 937.9233, 919.2062,\n",
      "         922.5933, 918.7990, 863.0259],\n",
      "        [929.2801, 910.1641, 945.6299, 930.7560, 938.8349, 938.4846, 922.9648,\n",
      "         947.0886, 898.0820, 881.9026],\n",
      "        [878.4614, 929.2341, 933.2026, 927.3176, 943.2091, 957.1179, 960.5469,\n",
      "         958.3191, 917.5906, 917.9256],\n",
      "        [895.1851, 920.0317, 918.7737, 930.6930, 938.9796, 959.0734, 970.1881,\n",
      "         961.9017, 961.9470, 931.5601],\n",
      "        [906.7908, 918.7504, 923.2311, 931.5410, 947.2263, 962.7987, 954.1335,\n",
      "         964.9816, 949.2345, 930.2512],\n",
      "        [778.8273, 923.3104, 879.8048, 885.7122, 890.3516, 931.2212, 952.9885,\n",
      "         967.3137, 981.4412, 970.1172],\n",
      "        [920.9760, 826.7407, 788.2656, 917.0811, 821.4747, 960.2136, 946.3951,\n",
      "         908.4993, 935.7358, 851.0690]], requires_grad=True) Parameter containing:\n",
      "tensor([[0.5120, 0.5179, 0.5108, 0.5086, 0.5177, 0.5083, 0.5126, 0.5058, 0.5273,\n",
      "         0.5108],\n",
      "        [0.5153, 0.5123, 0.5058, 0.5048, 0.5102, 0.5067, 0.5095, 0.5064, 0.5200,\n",
      "         0.5631],\n",
      "        [0.5085, 0.5057, 0.5066, 0.5062, 0.5035, 0.5053, 0.5073, 0.5079, 0.5066,\n",
      "         0.5102],\n",
      "        [0.5082, 0.5053, 0.5080, 0.5052, 0.5066, 0.5047, 0.5071, 0.5059, 0.5106,\n",
      "         0.5078],\n",
      "        [0.5053, 0.5076, 0.5047, 0.5048, 0.5042, 0.5034, 0.5041, 0.5043, 0.5072,\n",
      "         0.5110],\n",
      "        [0.5087, 0.5059, 0.5057, 0.5045, 0.5060, 0.5034, 0.5022, 0.5040, 0.5094,\n",
      "         0.5065],\n",
      "        [0.5072, 0.5055, 0.5062, 0.5042, 0.5044, 0.5038, 0.5016, 0.5021, 0.5030,\n",
      "         0.5064],\n",
      "        [0.5073, 0.5088, 0.5054, 0.5046, 0.5039, 0.5025, 0.5029, 0.5017, 0.5054,\n",
      "         0.5121],\n",
      "        [0.5185, 0.5083, 0.5100, 0.5091, 0.5080, 0.5067, 0.5036, 0.5032, 0.5110,\n",
      "         0.5096],\n",
      "        [0.5056, 0.5148, 0.5133, 0.5069, 0.5146, 0.5048, 0.5050, 0.5075, 0.5048,\n",
      "         0.5123]], requires_grad=True)\n",
      "1 Parameter containing:\n",
      "tensor([[ 738.5792,  777.0729,  829.2050,  896.2080,  726.5179,  921.0471,\n",
      "          877.9323,  918.3120,  765.8077,  872.9981],\n",
      "        [ 814.6342,  884.9921,  921.0236,  939.2190,  886.7473,  869.2684,\n",
      "          917.1769,  947.8634,  952.0129, 1259.3705],\n",
      "        [ 928.4090,  925.1431,  911.6136,  919.7379,  896.1498,  934.2231,\n",
      "          891.9337,  899.6516,  930.7292,  955.9716],\n",
      "        [ 893.6438,  926.8416,  886.6892,  927.3589,  937.1496,  923.1780,\n",
      "          932.7179,  932.7338,  931.7678,  860.0098],\n",
      "        [ 944.4453,  919.0700,  927.4993,  915.1289,  918.4915,  954.0522,\n",
      "          949.1480,  945.6104,  936.3849,  897.2700],\n",
      "        [ 899.6260,  920.0081,  916.7233,  934.1188,  941.0212,  943.4035,\n",
      "          954.3572,  962.4140,  941.1384,  864.6192],\n",
      "        [ 915.0186,  911.8990,  920.7784,  935.2187,  930.2913,  958.0990,\n",
      "          962.5810,  959.4559,  953.5470,  928.0745],\n",
      "        [ 880.5969,  917.5685,  914.3293,  934.1766,  940.2695,  946.5969,\n",
      "          961.7529,  956.5886,  978.4739,  871.2232],\n",
      "        [ 836.9662,  899.6964,  905.4514,  894.3806,  914.9087,  945.1102,\n",
      "          941.6818,  970.5080,  943.2708,  957.8520],\n",
      "        [ 926.9221,  820.1809,  916.3495,  847.9355,  887.5265,  935.6514,\n",
      "          947.1497,  955.6395,  928.6644,  851.6703]], requires_grad=True) Parameter containing:\n",
      "tensor([[0.5151, 0.5163, 0.5118, 0.5082, 0.5193, 0.5069, 0.5108, 0.5092, 0.5267,\n",
      "         0.5115],\n",
      "        [0.5141, 0.5120, 0.5056, 0.5053, 0.5088, 0.5080, 0.5078, 0.5053, 0.5193,\n",
      "         0.5633],\n",
      "        [0.5090, 0.5055, 0.5057, 0.5064, 0.5056, 0.5043, 0.5076, 0.5081, 0.5076,\n",
      "         0.5090],\n",
      "        [0.5077, 0.5049, 0.5079, 0.5055, 0.5046, 0.5057, 0.5070, 0.5075, 0.5083,\n",
      "         0.5098],\n",
      "        [0.5057, 0.5067, 0.5047, 0.5054, 0.5050, 0.5032, 0.5038, 0.5039, 0.5075,\n",
      "         0.5083],\n",
      "        [0.5083, 0.5063, 0.5056, 0.5044, 0.5046, 0.5032, 0.5034, 0.5034, 0.5083,\n",
      "         0.5092],\n",
      "        [0.5054, 0.5054, 0.5069, 0.5039, 0.5056, 0.5041, 0.5016, 0.5020, 0.5032,\n",
      "         0.5067],\n",
      "        [0.5101, 0.5083, 0.5051, 0.5048, 0.5038, 0.5030, 0.5022, 0.5020, 0.5056,\n",
      "         0.5112],\n",
      "        [0.5168, 0.5096, 0.5094, 0.5092, 0.5087, 0.5041, 0.5041, 0.5033, 0.5103,\n",
      "         0.5095],\n",
      "        [0.5060, 0.5151, 0.5128, 0.5101, 0.5122, 0.5059, 0.5043, 0.5081, 0.5060,\n",
      "         0.5119]], requires_grad=True)\n"
     ]
    }
   ],
   "source": [
    "for d in volume.get_detectors():\n",
    "    print(1, d.resolution, d.efficiency)"
   ]
  },
  {
   "cell_type": "code",
   "execution_count": null,
   "metadata": {},
   "outputs": [],
   "source": []
  }
 ],
 "metadata": {
  "kernelspec": {
   "display_name": "Python [conda env:tomopt]",
   "language": "python",
   "name": "conda-env-tomopt-py"
  },
  "language_info": {
   "codemirror_mode": {
    "name": "ipython",
    "version": 3
   },
   "file_extension": ".py",
   "mimetype": "text/x-python",
   "name": "python",
   "nbconvert_exporter": "python",
   "pygments_lexer": "ipython3",
   "version": "3.8.0"
  },
  "toc": {
   "base_numbering": 1,
   "nav_menu": {},
   "number_sections": true,
   "sideBar": true,
   "skip_h1_title": false,
   "title_cell": "Table of Contents",
   "title_sidebar": "Contents",
   "toc_cell": false,
   "toc_position": {},
   "toc_section_display": true,
   "toc_window_display": false
  }
 },
 "nbformat": 4,
 "nbformat_minor": 2
}
