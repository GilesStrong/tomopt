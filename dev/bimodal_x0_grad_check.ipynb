{
 "cells": [
  {
   "cell_type": "code",
   "execution_count": 1,
   "id": "4a1d8d9e",
   "metadata": {},
   "outputs": [],
   "source": [
    "%matplotlib inline\n",
    "%reload_ext autoreload\n",
    "%autoreload 2"
   ]
  },
  {
   "cell_type": "code",
   "execution_count": 2,
   "id": "f702d7ea",
   "metadata": {},
   "outputs": [],
   "source": [
    "from typing import *\n",
    "import numpy as np\n",
    "from functools import partial\n",
    "from fastprogress import progress_bar\n",
    "import pandas as pd\n",
    "import h5py\n",
    "\n",
    "from lumin.plotting.results import plot_roc\n",
    "\n",
    "import torch\n",
    "from torch import Tensor, nn\n",
    "import torch.nn.functional as F\n",
    "from torch._vmap_internals import _vmap as vmap\n",
    "\n",
    "from tomopt.volume import *\n",
    "from tomopt.muon import *\n",
    "from tomopt.inference import *\n",
    "from tomopt.optimisation import *\n",
    "from tomopt.core import *\n",
    "from tomopt.utils import *\n",
    "from tomopt.plotting import *\n",
    "\n",
    "import seaborn as sns\n",
    "import matplotlib.pyplot as plt"
   ]
  },
  {
   "cell_type": "code",
   "execution_count": 3,
   "id": "8d0b1437",
   "metadata": {},
   "outputs": [],
   "source": [
    "DEVICE = torch.device(\"cpu\")"
   ]
  },
  {
   "cell_type": "code",
   "execution_count": 4,
   "id": "d62d2675",
   "metadata": {},
   "outputs": [],
   "source": [
    "def area_cost(x:Tensor) -> Tensor:\n",
    "    return F.relu(x)"
   ]
  },
  {
   "cell_type": "code",
   "execution_count": 5,
   "id": "74928f8a",
   "metadata": {},
   "outputs": [],
   "source": [
    "def get_layers():\n",
    "    layers = []\n",
    "    lwh = Tensor([1,1,1])\n",
    "    size = 0.1\n",
    "    init_eff = 1.0\n",
    "    init_res = 1e4\n",
    "    n_panels = 4\n",
    "    layers.append(PanelDetectorLayer(pos='above', lw=lwh[:2], z=1, size=2*size,\n",
    "                                     panels=[DetectorPanel(res=init_res, eff=init_eff,\n",
    "                                                      init_xyz=[0.0,0.0,1-(i*(2*size)/n_panels)], init_xy_span=[0.5,0.5] if i in [0,3] else [0.25,0.25],\n",
    "                                                      area_cost_func=area_cost, device=DEVICE) for i in range(n_panels)]))\n",
    "    for z in [0.8,0.7,0.6,0.5,0.4,0.3]:\n",
    "        layers.append(PassiveLayer(lw=lwh[:2], z=z, size=size, device=DEVICE))\n",
    "    layers.append(PanelDetectorLayer(pos='below', lw=lwh[:2], z=0.2, size=2*size,\n",
    "                                     panels=[DetectorPanel(res=init_res, eff=init_eff,\n",
    "                                                      init_xyz=[0.0,0.0,0.2-(i*(2*size)/n_panels)], init_xy_span=[0.5,0.5] if i in [0,3] else [0.25,0.25],\n",
    "                                                      area_cost_func=area_cost, device=DEVICE) for i in range(n_panels)]))\n",
    "\n",
    "    return nn.ModuleList(layers) "
   ]
  },
  {
   "cell_type": "code",
   "execution_count": 6,
   "id": "3df42f7b",
   "metadata": {},
   "outputs": [],
   "source": [
    "volume = Volume(get_layers())"
   ]
  },
  {
   "cell_type": "code",
   "execution_count": 7,
   "id": "b799c21a",
   "metadata": {},
   "outputs": [
    {
     "data": {
      "text/plain": [
       "Volume(\n",
       "  (layers): ModuleList(\n",
       "    (0): PanelDetectorLayer(\n",
       "      (panels): ModuleList(\n",
       "        (0): <class 'tomopt.volume.panel.DetectorPanel'> located at xy=tensor([0., 0.]), z=tensor([1.]), and xy span tensor([0.5000, 0.5000])\n",
       "        (1): <class 'tomopt.volume.panel.DetectorPanel'> located at xy=tensor([0., 0.]), z=tensor([0.9500]), and xy span tensor([0.2500, 0.2500])\n",
       "        (2): <class 'tomopt.volume.panel.DetectorPanel'> located at xy=tensor([0., 0.]), z=tensor([0.9000]), and xy span tensor([0.2500, 0.2500])\n",
       "        (3): <class 'tomopt.volume.panel.DetectorPanel'> located at xy=tensor([0., 0.]), z=tensor([0.8500]), and xy span tensor([0.5000, 0.5000])\n",
       "      )\n",
       "    )\n",
       "    (1): PassiveLayer()\n",
       "    (2): PassiveLayer()\n",
       "    (3): PassiveLayer()\n",
       "    (4): PassiveLayer()\n",
       "    (5): PassiveLayer()\n",
       "    (6): PassiveLayer()\n",
       "    (7): PanelDetectorLayer(\n",
       "      (panels): ModuleList(\n",
       "        (0): <class 'tomopt.volume.panel.DetectorPanel'> located at xy=tensor([0., 0.]), z=tensor([0.2000]), and xy span tensor([0.5000, 0.5000])\n",
       "        (1): <class 'tomopt.volume.panel.DetectorPanel'> located at xy=tensor([0., 0.]), z=tensor([0.1500]), and xy span tensor([0.2500, 0.2500])\n",
       "        (2): <class 'tomopt.volume.panel.DetectorPanel'> located at xy=tensor([0., 0.]), z=tensor([0.1000]), and xy span tensor([0.2500, 0.2500])\n",
       "        (3): <class 'tomopt.volume.panel.DetectorPanel'> located at xy=tensor([0., 0.]), z=tensor([0.0500]), and xy span tensor([0.5000, 0.5000])\n",
       "      )\n",
       "    )\n",
       "  )\n",
       ")"
      ]
     },
     "execution_count": 7,
     "metadata": {},
     "output_type": "execute_result"
    }
   ],
   "source": [
    "volume"
   ]
  },
  {
   "cell_type": "code",
   "execution_count": 8,
   "id": "ed1c8e8a",
   "metadata": {},
   "outputs": [],
   "source": [
    "def sig_rad_length(*,z:float, lw:Tensor, size:float) -> Tensor:\n",
    "    rad_length = torch.ones(list((lw/size).long()))*X0['beryllium']\n",
    "    if z > 0.4 and z <= 0.5: rad_length[7:,6:] = X0['uranium']\n",
    "    return rad_length"
   ]
  },
  {
   "cell_type": "code",
   "execution_count": 9,
   "id": "3a3a582d",
   "metadata": {},
   "outputs": [],
   "source": [
    "def bkg_rad_length(*,z:float, lw:Tensor, size:float) -> Tensor:\n",
    "    rad_length = torch.ones(list((lw/size).long()))*X0['beryllium']\n",
    "    return rad_length"
   ]
  },
  {
   "cell_type": "code",
   "execution_count": 10,
   "id": "63ba79fa",
   "metadata": {},
   "outputs": [],
   "source": [
    "volume.load_rad_length(sig_rad_length)"
   ]
  },
  {
   "cell_type": "code",
   "execution_count": 11,
   "id": "cf3be9e0",
   "metadata": {},
   "outputs": [],
   "source": [
    "volume._target = Tensor([X0['uranium']])"
   ]
  },
  {
   "cell_type": "markdown",
   "id": "75ebb056",
   "metadata": {},
   "source": [
    "# Volume classifier"
   ]
  },
  {
   "cell_type": "code",
   "execution_count": 12,
   "id": "c2f17950",
   "metadata": {},
   "outputs": [],
   "source": [
    "from tomopt.inference.volume import AbsVolumeInferer, AbsX0Inferer\n",
    "from tomopt.inference.scattering import AbsScatterBatch\n",
    "\n",
    "\n",
    "class BlockClassifierFromX0s(AbsVolumeInferer):\n",
    "    def __init__(self, n_block_voxels:int, partial_x0_inferer: Type[AbsX0Inferer], volume:Volume, use_avgpool:bool=True, cut_coef=1e4, ratio_offset=-1, ratio_coef=5):\n",
    "        super().__init__(volume=volume)\n",
    "        self.use_avgpool, self.cut_coef,self.ratio_offset,self.ratio_coef = use_avgpool,cut_coef,ratio_offset,ratio_coef\n",
    "        self.x0_inferer = partial_x0_inferer(self.volume)\n",
    "        self.frac = n_block_voxels/self.volume.centres.numel()\n",
    "        \n",
    "        self.efficiencies: List[Tensor] = []\n",
    "        self.efficiency: Optional[Tensor] = None\n",
    "        self.scatter_batches = self.x0_inferer.scatter_batches\n",
    "            \n",
    "\n",
    "    def compute_efficiency(self, scatters: AbsScatterBatch) -> Tensor:\n",
    "        return self.x0_inferer.compute_efficiency(scatters=scatters)\n",
    "    \n",
    "\n",
    "    def add_scatters(self, scatters: AbsScatterBatch) -> None:\n",
    "        self.x0_inferer.add_scatters(scatters)\n",
    "        self.efficiencies.append(self.compute_efficiency(scatters=scatters))\n",
    "\n",
    "    def _get_weight(self) -> Tensor:\n",
    "        \"\"\"Maybe alter this to include resolution/pred uncertainties\"\"\"\n",
    "        return self.efficiency.sum()\n",
    "\n",
    "    def get_prediction(self) -> Tuple[Optional[Tensor], Optional[Tensor]]:\n",
    "        self.efficiency = torch.cat(self.efficiencies, dim=0)\n",
    "        vox_preds, vox_weights = self.x0_inferer.get_prediction()\n",
    "        if self.use_avgpool:\n",
    "            vox_preds = F.avg_pool3d(vox_preds[None], kernel_size=3, stride=1, padding=1, count_include_pad=False)[0]\n",
    "        \n",
    "        flat_preds = vox_preds.flatten()\n",
    "        cut = flat_preds.kthvalue(1+round(self.frac*(flat_preds.numel()-1))).values\n",
    "        \n",
    "        w_bkg =  torch.sigmoid(self.cut_coef*(flat_preds-cut))\n",
    "        w_blk = 1-w_bkg\n",
    "        \n",
    "        mean_bkg = (w_bkg*flat_preds).sum()/w_bkg.sum()\n",
    "        mean_blk = (w_blk*flat_preds).sum()/w_blk.sum()\n",
    "        \n",
    "        r = 2*(mean_bkg-mean_blk)/(mean_bkg+mean_blk)\n",
    "#         r = (r+self.ratio_offset)*self.ratio_coef\n",
    "        pred = torch.sigmoid(r)\n",
    "        weight = self._get_weight()\n",
    "        return pred[None,None], weight"
   ]
  },
  {
   "cell_type": "code",
   "execution_count": 13,
   "id": "f1af7746",
   "metadata": {},
   "outputs": [],
   "source": [
    "def get_sb(volume:Volume) -> Tensor:\n",
    "    gen = MuonGenerator2016.from_volume(volume)\n",
    "    mus = MuonResampler.resample(gen(250), volume=volume, gen=gen)\n",
    "    mu = MuonBatch(mus, init_z=volume.h)\n",
    "    volume(mu)\n",
    "    \n",
    "    sb = PanelScatterBatch(mu, volume)\n",
    "    return sb"
   ]
  },
  {
   "cell_type": "code",
   "execution_count": 15,
   "id": "04b3a205",
   "metadata": {},
   "outputs": [],
   "source": [
    "sb = get_sb(volume)"
   ]
  },
  {
   "cell_type": "code",
   "execution_count": 52,
   "id": "72923b5f",
   "metadata": {},
   "outputs": [],
   "source": [
    "inf = BlockClassifierFromX0s(12, PanelX0Inferer, volume=volume, ratio_offset=-1, ratio_coef=5)"
   ]
  },
  {
   "cell_type": "code",
   "execution_count": 53,
   "id": "1a2cd927",
   "metadata": {},
   "outputs": [],
   "source": [
    "inf.add_scatters(sb)"
   ]
  },
  {
   "cell_type": "code",
   "execution_count": 54,
   "id": "1fda0438",
   "metadata": {},
   "outputs": [
    {
     "data": {
      "text/plain": [
       "tensor([[0.7878]], grad_fn=<UnsqueezeBackward0>)"
      ]
     },
     "execution_count": 54,
     "metadata": {},
     "output_type": "execute_result"
    }
   ],
   "source": [
    "pred, eff = inf.get_prediction(); pred"
   ]
  },
  {
   "cell_type": "code",
   "execution_count": 104,
   "id": "816d2a79",
   "metadata": {},
   "outputs": [],
   "source": [
    "loss_func = VolumeClassLoss(x02id={X0['beryllium']:0, X0['uranium']:1}, target_budget=None)"
   ]
  },
  {
   "cell_type": "code",
   "execution_count": 56,
   "id": "c1fa9327",
   "metadata": {},
   "outputs": [
    {
     "data": {
      "text/plain": [
       "torch.Size([1, 1])"
      ]
     },
     "execution_count": 56,
     "metadata": {},
     "output_type": "execute_result"
    }
   ],
   "source": [
    "pred.shape"
   ]
  },
  {
   "cell_type": "code",
   "execution_count": 57,
   "id": "01375924",
   "metadata": {},
   "outputs": [
    {
     "name": "stdout",
     "output_type": "stream",
     "text": [
      "Automatically setting cost coefficient to 0.0037498034071177244\n"
     ]
    },
    {
     "data": {
      "text/plain": [
       "tensor([0.0037], grad_fn=<AddBackward0>)"
      ]
     },
     "execution_count": 57,
     "metadata": {},
     "output_type": "execute_result"
    }
   ],
   "source": [
    "l = loss_func(pred, eff, volume); l"
   ]
  },
  {
   "cell_type": "code",
   "execution_count": 58,
   "id": "c3fdb379",
   "metadata": {},
   "outputs": [
    {
     "data": {
      "text/plain": [
       "tensor([[0.0035, 0.0005]])"
      ]
     },
     "execution_count": 58,
     "metadata": {},
     "output_type": "execute_result"
    }
   ],
   "source": [
    "jacobian(l, volume.get_detectors()[0].panels[0].xy_span)"
   ]
  },
  {
   "cell_type": "markdown",
   "id": "2f521b9e",
   "metadata": {},
   "source": [
    "# Grad check"
   ]
  },
  {
   "cell_type": "code",
   "execution_count": 133,
   "id": "7c27d180",
   "metadata": {},
   "outputs": [],
   "source": [
    "from fastprogress import master_bar, progress_bar\n",
    "from lumin.utils.statistics import uncert_round"
   ]
  },
  {
   "cell_type": "code",
   "execution_count": 134,
   "id": "335063ef",
   "metadata": {},
   "outputs": [],
   "source": [
    "def set_span(volume, span):\n",
    "    with torch.no_grad():\n",
    "        for i,det in enumerate(volume.get_detectors()):\n",
    "            for j,p in enumerate(det.panels):\n",
    "                    p.xy_span.data = span"
   ]
  },
  {
   "cell_type": "code",
   "execution_count": 135,
   "id": "8fb2fa30",
   "metadata": {},
   "outputs": [],
   "source": [
    "def set_xy_pos(volume, pos):\n",
    "    with torch.no_grad():\n",
    "        for i,det in enumerate(volume.get_detectors()):\n",
    "            for j,p in enumerate(det.panels):\n",
    "                    p.xy.data = pos"
   ]
  },
  {
   "cell_type": "code",
   "execution_count": 91,
   "id": "21eb2cb5",
   "metadata": {},
   "outputs": [],
   "source": [
    "def set_res(volume, res):\n",
    "    with torch.no_grad():\n",
    "        for i,det in enumerate(volume.get_detectors()):\n",
    "            for j,p in enumerate(det.panels):\n",
    "                    p.resolution.data = res"
   ]
  },
  {
   "cell_type": "code",
   "execution_count": 92,
   "id": "578213d1",
   "metadata": {},
   "outputs": [],
   "source": [
    "def set_eff(volume, eff):\n",
    "    with torch.no_grad():\n",
    "        for i,det in enumerate(volume.get_detectors()):\n",
    "            for j,p in enumerate(det.panels):\n",
    "                    p.efficiency.data = eff"
   ]
  },
  {
   "cell_type": "code",
   "execution_count": 93,
   "id": "45866571",
   "metadata": {},
   "outputs": [],
   "source": [
    "set_res(volume, Tensor([1e4]))"
   ]
  },
  {
   "cell_type": "code",
   "execution_count": 94,
   "id": "715967c0",
   "metadata": {},
   "outputs": [],
   "source": [
    "set_span(volume, Tensor([1.0,1.0]))"
   ]
  },
  {
   "cell_type": "code",
   "execution_count": 95,
   "id": "343fa4e8",
   "metadata": {},
   "outputs": [],
   "source": [
    "set_eff(volume, Tensor([0.90]))"
   ]
  },
  {
   "cell_type": "code",
   "execution_count": 96,
   "id": "7017da02",
   "metadata": {},
   "outputs": [],
   "source": [
    "set_xy_pos(volume, Tensor([0.5,0.5]))"
   ]
  },
  {
   "cell_type": "code",
   "execution_count": 97,
   "id": "fb4b7b6a",
   "metadata": {},
   "outputs": [],
   "source": [
    "def arb_rad_length(*, z: float, lw: Tensor, size: float) -> float:\n",
    "    rad_length = torch.ones(list((lw / size).long())) * X0[\"beryllium\"]\n",
    "    if z > 0.4 and z <= 0.5:\n",
    "        rad_length[1:4, 1:4] = X0[\"uranium\"]\n",
    "    return rad_length"
   ]
  },
  {
   "cell_type": "code",
   "execution_count": 128,
   "id": "d5227818",
   "metadata": {},
   "outputs": [],
   "source": [
    "def get_scatters(volume):\n",
    "    gen = MuonGenerator2016.from_volume(volume)\n",
    "    muons = MuonBatch(MuonResampler.resample(gen(250), volume=volume, gen=gen), volume.h, device=DEVICE)\n",
    "    volume.load_rad_length(arb_rad_length, Tensor([X0[\"uranium\"]]))\n",
    "    volume(muons)\n",
    "    return PanelScatterBatch(muons, volume)"
   ]
  },
  {
   "cell_type": "code",
   "execution_count": 99,
   "id": "3fed8eb8",
   "metadata": {},
   "outputs": [],
   "source": [
    "def eval_model(sb, loss_func):\n",
    "    inf = BlockClassifierFromX0s(12, PanelX0Inferer, volume=volume, ratio_offset=-1, ratio_coef=5)\n",
    "    inf.add_scatters(sb)\n",
    "    pred,weight = inf.get_prediction()\n",
    "    loss_val = loss_func(pred, weight, volume)    \n",
    "    return loss_val"
   ]
  },
  {
   "cell_type": "code",
   "execution_count": 113,
   "id": "844601b2",
   "metadata": {},
   "outputs": [],
   "source": [
    "def get_grad(loss, volume):\n",
    "    grad_mean = []\n",
    "    ok = True\n",
    "    for i,det in enumerate(volume.get_detectors()):\n",
    "        for j,p in enumerate(det.panels):\n",
    "            grad = jacobian(loss, p.xy_span)\n",
    "            ok *= ~grad.isnan().any()\n",
    "            grad_mean.append(grad.detach().mean().cpu().numpy())\n",
    "    return np.array(grad_mean), ok"
   ]
  },
  {
   "cell_type": "code",
   "execution_count": 131,
   "id": "e1b2618a",
   "metadata": {},
   "outputs": [],
   "source": [
    "def run_epoch(volume, loss_func, bs, mb=None):\n",
    "    ok = False\n",
    "    while not ok:\n",
    "        loss = None\n",
    "        for i in progress_bar(range(bs), parent=mb):\n",
    "            l = Tensor([torch.nan])\n",
    "            while torch.isnan(l):\n",
    "                sb = get_scatters(volume)\n",
    "                l = eval_model(sb, loss_func)\n",
    "            if loss is None:\n",
    "                loss = l\n",
    "            else:\n",
    "                loss = loss + l\n",
    "        grad, ok = get_grad(loss/bs, volume)\n",
    "        if not ok: print(\"NaN grads, rerunning\")\n",
    "#     print(uw_loss, w_loss)\n",
    "#     print(f\"Unweighted mean grad {uw_grad}, overall mean = {uw_grad.mean()}\")\n",
    "#     print(f\"Weighted mean grad {w_grad}, overall mean = {w_grad.mean()}\")\n",
    "    return grad"
   ]
  },
  {
   "cell_type": "code",
   "execution_count": 117,
   "id": "0715acfe",
   "metadata": {},
   "outputs": [],
   "source": [
    "def run_tests(volume, loss_func, bs, n_epochs):\n",
    "    grads = []\n",
    "    mb = master_bar(range(n_epochs), total_time=True)\n",
    "    for i in mb:\n",
    "        g = run_epoch(volume, loss_func, bs, mb)\n",
    "        grads.append(g)\n",
    "    \n",
    "    grad = (np.mean(grads, axis=0), np.std(grads, axis=0, ddof=1)/np.sqrt(n_epochs))\n",
    "    for i,(v,u) in enumerate(zip(*grad)):\n",
    "        v,u = uncert_round(v,u)\n",
    "        print(f'Panel {i} mean grad {v}±{u}')\n",
    "    \n",
    "    grad = (np.mean(grads), np.std(grads, ddof=1)/np.sqrt(n_epochs))\n",
    "    v,u = uncert_round(*grad)\n",
    "    print(f'Overall mean grad {v}±{u}')\n",
    "    return grads"
   ]
  },
  {
   "cell_type": "code",
   "execution_count": 118,
   "id": "705c2c41",
   "metadata": {
    "scrolled": false
   },
   "outputs": [
    {
     "data": {
      "text/html": [
       "Total time: 00:38 <p>"
      ],
      "text/plain": [
       "<IPython.core.display.HTML object>"
      ]
     },
     "metadata": {},
     "output_type": "display_data"
    },
    {
     "name": "stdout",
     "output_type": "stream",
     "text": [
      "Panel 0 mean grad -1.5e-05±7e-06\n",
      "Panel 1 mean grad -1.3e-05±3e-06\n",
      "Panel 2 mean grad -1.2e-05±2e-06\n",
      "Panel 3 mean grad -2.1e-05±1e-05\n",
      "Panel 4 mean grad -3e-05±3e-05\n",
      "Panel 5 mean grad -6e-05±2e-05\n",
      "Panel 6 mean grad -5e-05±5e-06\n",
      "Panel 7 mean grad -6.4e-05±9e-06\n",
      "Overall mean grad -3e-05±1e-05\n"
     ]
    }
   ],
   "source": [
    "gm = run_tests(volume, loss_func, bs=1, n_epochs=10)"
   ]
  },
  {
   "cell_type": "code",
   "execution_count": 119,
   "id": "99a843cd",
   "metadata": {
    "scrolled": false
   },
   "outputs": [
    {
     "data": {
      "text/html": [
       "Total time: 06:19 <p>"
      ],
      "text/plain": [
       "<IPython.core.display.HTML object>"
      ]
     },
     "metadata": {},
     "output_type": "display_data"
    },
    {
     "name": "stdout",
     "output_type": "stream",
     "text": [
      "Panel 0 mean grad -2e-06±5e-06\n",
      "Panel 1 mean grad -1.07e-05±9e-07\n",
      "Panel 2 mean grad -1e-05±2e-06\n",
      "Panel 3 mean grad -3e-06±5e-06\n",
      "Panel 4 mean grad -3.6e-05±5e-06\n",
      "Panel 5 mean grad -3.1e-05±2e-06\n",
      "Panel 6 mean grad -3.7e-05±3e-06\n",
      "Panel 7 mean grad -3e-05±1e-05\n",
      "Overall mean grad -2.1e-05±5e-06\n"
     ]
    }
   ],
   "source": [
    "gm = run_tests(volume, loss_func, bs=1, n_epochs=100)"
   ]
  },
  {
   "cell_type": "markdown",
   "id": "84bd6d15",
   "metadata": {},
   "source": [
    "## Fixed asym volume with eff weight in loss"
   ]
  },
  {
   "cell_type": "code",
   "execution_count": 120,
   "id": "8f98bbb2",
   "metadata": {},
   "outputs": [],
   "source": [
    "set_res(volume, Tensor([1e4]))"
   ]
  },
  {
   "cell_type": "code",
   "execution_count": 121,
   "id": "36f2fdce",
   "metadata": {},
   "outputs": [],
   "source": [
    "set_span(volume, Tensor([0.5,0.5]))"
   ]
  },
  {
   "cell_type": "code",
   "execution_count": 122,
   "id": "fa3dfd49",
   "metadata": {},
   "outputs": [],
   "source": [
    "set_xy_pos(volume, Tensor([0.1,0.1]))"
   ]
  },
  {
   "cell_type": "code",
   "execution_count": 123,
   "id": "125f3c30",
   "metadata": {},
   "outputs": [],
   "source": [
    "set_eff(volume, Tensor([0.90]))"
   ]
  },
  {
   "cell_type": "code",
   "execution_count": 125,
   "id": "f9f5edbe",
   "metadata": {},
   "outputs": [],
   "source": [
    "def arb_rad_length(*, z: float, lw: Tensor, size: float) -> float:\n",
    "    rad_length = torch.ones(list((lw / size).long())) * X0[\"beryllium\"]\n",
    "    if z > 0.4 and z <= 0.5: rad_length[7:,6:] = X0['uranium']\n",
    "    return rad_length"
   ]
  },
  {
   "cell_type": "code",
   "execution_count": 129,
   "id": "b678d34f",
   "metadata": {},
   "outputs": [
    {
     "data": {
      "text/html": [
       "Total time: 00:38 <p>"
      ],
      "text/plain": [
       "<IPython.core.display.HTML object>"
      ]
     },
     "metadata": {},
     "output_type": "display_data"
    },
    {
     "name": "stdout",
     "output_type": "stream",
     "text": [
      "Panel 0 mean grad -0.0007±0.0002\n",
      "Panel 1 mean grad -0.00061±9e-05\n",
      "Panel 2 mean grad -0.00052±4e-05\n",
      "Panel 3 mean grad -0.00057±9e-05\n",
      "Panel 4 mean grad -0.0003±0.0002\n",
      "Panel 5 mean grad -0.0006±4e-05\n",
      "Panel 6 mean grad -0.00054±8e-05\n",
      "Panel 7 mean grad -0.0005±0.0002\n",
      "Overall mean grad -0.0005±0.0001\n"
     ]
    }
   ],
   "source": [
    "gm = run_tests(volume, loss_func, bs=1, n_epochs=10)"
   ]
  },
  {
   "cell_type": "code",
   "execution_count": 132,
   "id": "b29c3cb8",
   "metadata": {
    "scrolled": true
   },
   "outputs": [
    {
     "data": {
      "text/html": [
       "Total time: 06:36 <p>"
      ],
      "text/plain": [
       "<IPython.core.display.HTML object>"
      ]
     },
     "metadata": {},
     "output_type": "display_data"
    },
    {
     "name": "stdout",
     "output_type": "stream",
     "text": [
      "Panel 0 mean grad -0.00085±0.0001\n",
      "Panel 1 mean grad -0.00072±5e-05\n",
      "Panel 2 mean grad -0.00058±2e-05\n",
      "Panel 3 mean grad -0.00069±6e-05\n",
      "Panel 4 mean grad -0.00057±7e-05\n",
      "Panel 5 mean grad -0.00065±2e-05\n",
      "Panel 6 mean grad -0.00075±5e-05\n",
      "Panel 7 mean grad -0.0008±0.0001\n",
      "Overall mean grad -0.00069±7e-05\n"
     ]
    }
   ],
   "source": [
    "gm = run_tests(volume, loss_func, bs=1, n_epochs=100)"
   ]
  },
  {
   "cell_type": "code",
   "execution_count": 145,
   "id": "4e62ae78",
   "metadata": {},
   "outputs": [],
   "source": [
    "def get_scatters(volume):\n",
    "    gen = MuonGenerator2016.from_volume(volume)\n",
    "    muons = MuonBatch(MuonResampler.resample(gen(250), volume=volume, gen=gen), volume.h, device=DEVICE)\n",
    "    volume.load_rad_length(arb_rad_length, Tensor([X0[\"beryllium\"]]))\n",
    "    volume(muons)\n",
    "    return PanelScatterBatch(muons, volume)"
   ]
  },
  {
   "cell_type": "code",
   "execution_count": 146,
   "id": "e5e28fb5",
   "metadata": {},
   "outputs": [],
   "source": [
    "def arb_rad_length(*, z: float, lw: Tensor, size: float) -> float:\n",
    "    rad_length = torch.ones(list((lw / size).long())) * X0[\"beryllium\"]\n",
    "    return rad_length"
   ]
  },
  {
   "cell_type": "code",
   "execution_count": 147,
   "id": "61ba6c14",
   "metadata": {},
   "outputs": [
    {
     "data": {
      "text/html": [
       "Total time: 00:37 <p>"
      ],
      "text/plain": [
       "<IPython.core.display.HTML object>"
      ]
     },
     "metadata": {},
     "output_type": "display_data"
    },
    {
     "name": "stdout",
     "output_type": "stream",
     "text": [
      "tensor([0.])\n",
      "tensor([0.])\n",
      "tensor([0.])\n",
      "tensor([0.])\n",
      "tensor([0.])\n",
      "tensor([0.])\n",
      "tensor([0.])\n",
      "tensor([0.])\n",
      "tensor([0.])\n",
      "tensor([0.])\n",
      "Panel 0 mean grad -0.0±0.003\n",
      "Panel 1 mean grad -0.002±0.001\n",
      "Panel 2 mean grad -0.0031±0.0007\n",
      "Panel 3 mean grad -0.003±0.003\n",
      "Panel 4 mean grad -0.0±0.004\n",
      "Panel 5 mean grad -0.0052±0.0009\n",
      "Panel 6 mean grad -0.005±0.001\n",
      "Panel 7 mean grad -0.0±0.004\n",
      "Overall mean grad -0.002±0.003\n"
     ]
    }
   ],
   "source": [
    "gm = run_tests(volume, loss_func, bs=1, n_epochs=10)"
   ]
  },
  {
   "cell_type": "code",
   "execution_count": 148,
   "id": "4c92e7aa",
   "metadata": {
    "scrolled": true
   },
   "outputs": [
    {
     "data": {
      "text/html": [
       "Total time: 08:12 <p>"
      ],
      "text/plain": [
       "<IPython.core.display.HTML object>"
      ]
     },
     "metadata": {},
     "output_type": "display_data"
    },
    {
     "name": "stdout",
     "output_type": "stream",
     "text": [
      "NaN grads, rerunning\n",
      "NaN grads, rerunning\n",
      "Panel 0 mean grad -0.0054±0.0009\n",
      "Panel 1 mean grad -0.0045±0.0005\n",
      "Panel 2 mean grad -0.0045±0.0003\n",
      "Panel 3 mean grad -0.0043±0.0007\n",
      "Panel 4 mean grad -0.004±0.0007\n",
      "Panel 5 mean grad -0.0047±0.0002\n",
      "Panel 6 mean grad -0.0042±0.0006\n",
      "Panel 7 mean grad -0.0042±0.001\n",
      "Overall mean grad -0.0045±0.0006\n"
     ]
    }
   ],
   "source": [
    "gm = run_tests(volume, loss_func, bs=1, n_epochs=100)"
   ]
  },
  {
   "cell_type": "markdown",
   "id": "15bd5b18",
   "metadata": {},
   "source": [
    "# Optimisation"
   ]
  },
  {
   "cell_type": "code",
   "execution_count": 158,
   "id": "871b0b8a",
   "metadata": {},
   "outputs": [],
   "source": [
    "volume = Volume(get_layers())"
   ]
  },
  {
   "cell_type": "code",
   "execution_count": 159,
   "id": "8debedf9",
   "metadata": {},
   "outputs": [
    {
     "data": {
      "text/plain": [
       "tensor(1.2500, grad_fn=<AddBackward0>)"
      ]
     },
     "execution_count": 159,
     "metadata": {},
     "output_type": "execute_result"
    }
   ],
   "source": [
    "volume.get_cost()"
   ]
  },
  {
   "cell_type": "code",
   "execution_count": 74,
   "id": "168dbab7",
   "metadata": {},
   "outputs": [],
   "source": [
    "from tomopt.optimisation.data.passives import AbsPassiveGenerator\n",
    "\n",
    "class SameBlockPassive(AbsPassiveGenerator):\n",
    "    def _generate(self) -> Tuple[Callable[..., Tensor], Optional[Tensor]]:\n",
    "        if torch.rand(1) > 0.5:\n",
    "            return sig_rad_length, Tensor([X0['uranium']])\n",
    "        else:\n",
    "            return bkg_rad_length, Tensor([X0['beryllium']])\n"
   ]
  },
  {
   "cell_type": "code",
   "execution_count": 75,
   "id": "764ed99e",
   "metadata": {},
   "outputs": [],
   "source": [
    "passives = PassiveYielder(SameBlockPassive(volume), n_passives=4)"
   ]
  },
  {
   "cell_type": "code",
   "execution_count": 76,
   "id": "ec114e9c",
   "metadata": {},
   "outputs": [],
   "source": [
    "from tomopt.optimisation import NoMoreNaNs, PanelMetricLogger, CostCoefWarmup, PanelOptConfig, MuonResampler"
   ]
  },
  {
   "cell_type": "code",
   "execution_count": 77,
   "id": "70c2a751",
   "metadata": {},
   "outputs": [],
   "source": [
    "wrapper = PanelVolumeWrapper(volume,\n",
    "                             xy_pos_opt=partial(torch.optim.SGD, lr=5e4),\n",
    "                             z_pos_opt=partial(torch.optim.SGD, lr=5e3),\n",
    "                             xy_span_opt=partial(torch.optim.SGD, lr=1e4),\n",
    "                             loss_func=VolumeClassLoss(x02id={X0['beryllium']:0, X0['uranium']:1}, target_budget=None),\n",
    "                             partial_volume_inferer=partial(BlockClassifierFromX0s, n_block_voxels=12, partial_x0_inferer=PanelX0Inferer, volume=volume, ratio_offset=-1, ratio_coef=5))"
   ]
  },
  {
   "cell_type": "code",
   "execution_count": 78,
   "id": "585e93ad",
   "metadata": {
    "scrolled": false
   },
   "outputs": [
    {
     "name": "stdout",
     "output_type": "stream",
     "text": [
      "CostCoefWarmup: Freezing optimisation for 5 epochs\n",
      "PanelOptConfig: Freezing optimisation for 5 epochs\n"
     ]
    },
    {
     "data": {
      "image/png": "[encoded data removed]",
      "text/plain": [
       "<Figure size 1024x1024 with 8 Axes>"
      ]
     },
     "metadata": {},
     "output_type": "display_data"
    },
    {
     "data": {
      "text/html": [
       "\n",
       "    <div>\n",
       "        <style>\n",
       "            /* Turns off some styling */\n",
       "            progress {\n",
       "                /* gets rid of default border in Firefox and Opera. */\n",
       "                border: none;\n",
       "                /* Needs to be in here for Safari polyfill so background images work as expected. */\n",
       "                background-size: auto;\n",
       "            }\n",
       "            .progress-bar-interrupted, .progress-bar-interrupted::-webkit-progress-bar {\n",
       "                background: #F44336;\n",
       "            }\n",
       "        </style>\n",
       "      <progress value='15' class='' max='15' style='width:300px; height:20px; vertical-align: middle;'></progress>\n",
       "      100.00% [15/15 05:06<00:00]\n",
       "    </div>\n",
       "    "
      ],
      "text/plain": [
       "<IPython.core.display.HTML object>"
      ]
     },
     "metadata": {},
     "output_type": "display_data"
    },
    {
     "name": "stderr",
     "output_type": "stream",
     "text": [
      "/Users/giles/anaconda3/envs/tomopt/lib/python3.8/site-packages/torch/nn/functional.py:1806: UserWarning: nn.functional.sigmoid is deprecated. Use torch.sigmoid instead.\n",
      "  warnings.warn(\"nn.functional.sigmoid is deprecated. Use torch.sigmoid instead.\")\n"
     ]
    },
    {
     "name": "stdout",
     "output_type": "stream",
     "text": [
      "Automatically setting cost coefficient to 0.008695357479155064\n"
     ]
    },
    {
     "name": "stderr",
     "output_type": "stream",
     "text": [
      "/Users/giles/anaconda3/envs/tomopt/lib/python3.8/site-packages/torch/nn/functional.py:1806: UserWarning: nn.functional.sigmoid is deprecated. Use torch.sigmoid instead.\n",
      "  warnings.warn(\"nn.functional.sigmoid is deprecated. Use torch.sigmoid instead.\")\n",
      "/Users/giles/anaconda3/envs/tomopt/lib/python3.8/site-packages/torch/nn/functional.py:1806: UserWarning: nn.functional.sigmoid is deprecated. Use torch.sigmoid instead.\n",
      "  warnings.warn(\"nn.functional.sigmoid is deprecated. Use torch.sigmoid instead.\")\n",
      "/Users/giles/anaconda3/envs/tomopt/lib/python3.8/site-packages/torch/nn/functional.py:1806: UserWarning: nn.functional.sigmoid is deprecated. Use torch.sigmoid instead.\n",
      "  warnings.warn(\"nn.functional.sigmoid is deprecated. Use torch.sigmoid instead.\")\n",
      "/Users/giles/anaconda3/envs/tomopt/lib/python3.8/site-packages/torch/nn/functional.py:1806: UserWarning: nn.functional.sigmoid is deprecated. Use torch.sigmoid instead.\n",
      "  warnings.warn(\"nn.functional.sigmoid is deprecated. Use torch.sigmoid instead.\")\n"
     ]
    },
    {
     "name": "stdout",
     "output_type": "stream",
     "text": [
      "CostCoefWarmup: Warmed up, average error = tensor([0.0138])\n",
      "PanelOptConfig: Optimiser warm-up completed\n",
      "+-------------+-------------+----------------------+\n",
      "|    Param    | Median Grad |          LR          |\n",
      "+-------------+-------------+----------------------+\n",
      "|  xy_pos_opt | 0.007650843 |  1.3070455299615462  |\n",
      "|  z_pos_opt  |  0.4796619  | 0.010424008823231726 |\n",
      "| xy_span_opt | 0.013447502 |  0.7436325516503921  |\n",
      "+-------------+-------------+----------------------+\n"
     ]
    },
    {
     "name": "stderr",
     "output_type": "stream",
     "text": [
      "/Users/giles/anaconda3/envs/tomopt/lib/python3.8/site-packages/torch/nn/functional.py:1806: UserWarning: nn.functional.sigmoid is deprecated. Use torch.sigmoid instead.\n",
      "  warnings.warn(\"nn.functional.sigmoid is deprecated. Use torch.sigmoid instead.\")\n",
      "/Users/giles/anaconda3/envs/tomopt/lib/python3.8/site-packages/torch/nn/functional.py:1806: UserWarning: nn.functional.sigmoid is deprecated. Use torch.sigmoid instead.\n",
      "  warnings.warn(\"nn.functional.sigmoid is deprecated. Use torch.sigmoid instead.\")\n",
      "/Users/giles/anaconda3/envs/tomopt/lib/python3.8/site-packages/torch/nn/functional.py:1806: UserWarning: nn.functional.sigmoid is deprecated. Use torch.sigmoid instead.\n",
      "  warnings.warn(\"nn.functional.sigmoid is deprecated. Use torch.sigmoid instead.\")\n",
      "/Users/giles/anaconda3/envs/tomopt/lib/python3.8/site-packages/torch/nn/functional.py:1806: UserWarning: nn.functional.sigmoid is deprecated. Use torch.sigmoid instead.\n",
      "  warnings.warn(\"nn.functional.sigmoid is deprecated. Use torch.sigmoid instead.\")\n",
      "/Users/giles/anaconda3/envs/tomopt/lib/python3.8/site-packages/torch/nn/functional.py:1806: UserWarning: nn.functional.sigmoid is deprecated. Use torch.sigmoid instead.\n",
      "  warnings.warn(\"nn.functional.sigmoid is deprecated. Use torch.sigmoid instead.\")\n",
      "/Users/giles/anaconda3/envs/tomopt/lib/python3.8/site-packages/torch/nn/functional.py:1806: UserWarning: nn.functional.sigmoid is deprecated. Use torch.sigmoid instead.\n",
      "  warnings.warn(\"nn.functional.sigmoid is deprecated. Use torch.sigmoid instead.\")\n",
      "/Users/giles/anaconda3/envs/tomopt/lib/python3.8/site-packages/torch/nn/functional.py:1806: UserWarning: nn.functional.sigmoid is deprecated. Use torch.sigmoid instead.\n",
      "  warnings.warn(\"nn.functional.sigmoid is deprecated. Use torch.sigmoid instead.\")\n",
      "/Users/giles/anaconda3/envs/tomopt/lib/python3.8/site-packages/torch/nn/functional.py:1806: UserWarning: nn.functional.sigmoid is deprecated. Use torch.sigmoid instead.\n",
      "  warnings.warn(\"nn.functional.sigmoid is deprecated. Use torch.sigmoid instead.\")\n",
      "/Users/giles/anaconda3/envs/tomopt/lib/python3.8/site-packages/torch/nn/functional.py:1806: UserWarning: nn.functional.sigmoid is deprecated. Use torch.sigmoid instead.\n",
      "  warnings.warn(\"nn.functional.sigmoid is deprecated. Use torch.sigmoid instead.\")\n",
      "/Users/giles/anaconda3/envs/tomopt/lib/python3.8/site-packages/torch/nn/functional.py:1806: UserWarning: nn.functional.sigmoid is deprecated. Use torch.sigmoid instead.\n",
      "  warnings.warn(\"nn.functional.sigmoid is deprecated. Use torch.sigmoid instead.\")\n"
     ]
    },
    {
     "data": {
      "text/plain": [
       "<Figure size 1024x1024 with 0 Axes>"
      ]
     },
     "metadata": {},
     "output_type": "display_data"
    }
   ],
   "source": [
    "_ = wrapper.fit(n_epochs=15,\n",
    "                passive_bs=1,\n",
    "                n_mu_per_volume=250,\n",
    "                mu_bs=50,\n",
    "                trn_passives=passives,\n",
    "                val_passives=passives,\n",
    "                cbs=[CostCoefWarmup(n_warmup=5), PanelOptConfig(n_warmup=5, xy_pos_rate=0.01, z_pos_rate=0.005, xy_span_rate=0.01), MuonResampler(), NoMoreNaNs(),PanelMetricLogger()])"
   ]
  },
  {
   "cell_type": "code",
   "execution_count": null,
   "id": "d49f750f",
   "metadata": {},
   "outputs": [],
   "source": []
  },
  {
   "cell_type": "code",
   "execution_count": null,
   "id": "f0da6718",
   "metadata": {},
   "outputs": [],
   "source": []
  }
 ],
 "metadata": {
  "kernelspec": {
   "display_name": "Python [conda env:tomopt]",
   "language": "python",
   "name": "conda-env-tomopt-py"
  },
  "language_info": {
   "codemirror_mode": {
    "name": "ipython",
    "version": 3
   },
   "file_extension": ".py",
   "mimetype": "text/x-python",
   "name": "python",
   "nbconvert_exporter": "python",
   "pygments_lexer": "ipython3",
   "version": "3.8.0"
  },
  "toc": {
   "base_numbering": 1,
   "nav_menu": {},
   "number_sections": true,
   "sideBar": true,
   "skip_h1_title": false,
   "title_cell": "Table of Contents",
   "title_sidebar": "Contents",
   "toc_cell": false,
   "toc_position": {},
   "toc_section_display": true,
   "toc_window_display": false
  }
 },
 "nbformat": 4,
 "nbformat_minor": 5
}
