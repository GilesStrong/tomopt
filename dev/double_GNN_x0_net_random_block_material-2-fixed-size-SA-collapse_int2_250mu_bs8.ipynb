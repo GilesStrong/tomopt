{
 "cells": [
  {
   "cell_type": "code",
   "execution_count": 1,
   "metadata": {},
   "outputs": [],
   "source": [
    "%matplotlib inline\n",
    "%reload_ext autoreload\n",
    "%autoreload 2"
   ]
  },
  {
   "cell_type": "code",
   "execution_count": 2,
   "metadata": {},
   "outputs": [],
   "source": [
    "import numpy as np\n",
    "from functools import partial\n",
    "import matplotlib.pyplot as plt\n",
    "import seaborn as sns\n",
    "\n",
    "import torch\n",
    "from torch import Tensor, nn\n",
    "from torch.nn import functional as F\n",
    "\n",
    "from tomopt.core import *\n",
    "from tomopt.volume import *\n",
    "from tomopt.inference import *\n",
    "from tomopt.muon import *\n",
    "from tomopt.optimisation import *\n",
    "from tomopt.plotting import *"
   ]
  },
  {
   "cell_type": "code",
   "execution_count": 3,
   "metadata": {},
   "outputs": [],
   "source": [
    "DEVICE = torch.device('cpu')"
   ]
  },
  {
   "cell_type": "code",
   "execution_count": 4,
   "metadata": {},
   "outputs": [
    {
     "name": "stderr",
     "output_type": "stream",
     "text": [
      "<ipython-input-4-5787166f89b9>:4: UserWarning: Not providing a value for linspace's steps is deprecated and will throw a runtime error in a future release. This warning will appear only once per process. (Triggered internally at  /pytorch/aten/src/ATen/native/RangeFactories.cpp:23.)\n",
      "  x = torch.linspace(-1, 1)\n"
     ]
    },
    {
     "data": {
      "text/plain": [
       "[<matplotlib.lines.Line2D at 0x7f03e22b4b50>]"
      ]
     },
     "execution_count": 4,
     "metadata": {},
     "output_type": "execute_result"
    },
    {
     "data": {
      "image/png": "[encoded data removed]",
      "text/plain": [
       "<Figure size 432x288 with 1 Axes>"
      ]
     },
     "metadata": {
      "needs_background": "light"
     },
     "output_type": "display_data"
    }
   ],
   "source": [
    "def area_cost(x:Tensor) -> Tensor:\n",
    "    return F.relu(x)\n",
    "\n",
    "x = torch.linspace(-1, 1)\n",
    "plt.plot(x, area_cost(x))"
   ]
  },
  {
   "cell_type": "code",
   "execution_count": 5,
   "metadata": {},
   "outputs": [],
   "source": [
    "def get_layers():\n",
    "    layers = []\n",
    "    lwh = Tensor([1,1,1])\n",
    "    size = 0.2\n",
    "    init_eff = 0.5\n",
    "    init_res = 1000\n",
    "    n_panels = 4\n",
    "    layers.append(PanelDetectorLayer(pos='above', lw=lwh[:2], z=1, size=size,\n",
    "                                     panels=[DetectorPanel(res=init_res, eff=init_eff,\n",
    "                                                      init_xyz=[0.5,0.5,1-(i*(size)/n_panels)], init_xy_span=[1.0,1.0],\n",
    "                                                      area_cost_func=area_cost, device=DEVICE) for i in range(n_panels)]))\n",
    "    for z in [0.8,0.6,0.4]:\n",
    "        layers.append(PassiveLayer(lw=lwh[:2], z=z, size=size, device=DEVICE))\n",
    "    layers.append(PanelDetectorLayer(pos='below', lw=lwh[:2], z=0.2, size=size,\n",
    "                                     panels=[DetectorPanel(res=init_res, eff=init_eff,\n",
    "                                                      init_xyz=[0.5,0.5,0.2-(i*(size)/n_panels)], init_xy_span=[1.0,1.0],\n",
    "                                                      area_cost_func=area_cost, device=DEVICE) for i in range(n_panels)]))\n",
    "\n",
    "    return nn.ModuleList(layers) "
   ]
  },
  {
   "cell_type": "code",
   "execution_count": 6,
   "metadata": {},
   "outputs": [
    {
     "data": {
      "text/plain": [
       "Volume(\n",
       "  (layers): ModuleList(\n",
       "    (0): PanelDetectorLayer(\n",
       "      (panels): ModuleList(\n",
       "        (0): <class 'tomopt.volume.panel.DetectorPanel'> located at xy=tensor([0.5000, 0.5000]), z=tensor([1.]), and xy span tensor([1., 1.])\n",
       "        (1): <class 'tomopt.volume.panel.DetectorPanel'> located at xy=tensor([0.5000, 0.5000]), z=tensor([0.9500]), and xy span tensor([1., 1.])\n",
       "        (2): <class 'tomopt.volume.panel.DetectorPanel'> located at xy=tensor([0.5000, 0.5000]), z=tensor([0.9000]), and xy span tensor([1., 1.])\n",
       "        (3): <class 'tomopt.volume.panel.DetectorPanel'> located at xy=tensor([0.5000, 0.5000]), z=tensor([0.8500]), and xy span tensor([1., 1.])\n",
       "      )\n",
       "    )\n",
       "    (1): PassiveLayer()\n",
       "    (2): PassiveLayer()\n",
       "    (3): PassiveLayer()\n",
       "    (4): PanelDetectorLayer(\n",
       "      (panels): ModuleList(\n",
       "        (0): <class 'tomopt.volume.panel.DetectorPanel'> located at xy=tensor([0.5000, 0.5000]), z=tensor([0.2000]), and xy span tensor([1., 1.])\n",
       "        (1): <class 'tomopt.volume.panel.DetectorPanel'> located at xy=tensor([0.5000, 0.5000]), z=tensor([0.1500]), and xy span tensor([1., 1.])\n",
       "        (2): <class 'tomopt.volume.panel.DetectorPanel'> located at xy=tensor([0.5000, 0.5000]), z=tensor([0.1000]), and xy span tensor([1., 1.])\n",
       "        (3): <class 'tomopt.volume.panel.DetectorPanel'> located at xy=tensor([0.5000, 0.5000]), z=tensor([0.0500]), and xy span tensor([1., 1.])\n",
       "      )\n",
       "    )\n",
       "  )\n",
       ")"
      ]
     },
     "execution_count": 6,
     "metadata": {},
     "output_type": "execute_result"
    }
   ],
   "source": [
    "volume = Volume(get_layers())\n",
    "volume"
   ]
  },
  {
   "cell_type": "markdown",
   "metadata": {},
   "source": [
    "# Data"
   ]
  },
  {
   "cell_type": "code",
   "execution_count": 7,
   "metadata": {},
   "outputs": [],
   "source": [
    "from tomopt.optimisation.data.passives import AbsPassiveGenerator\n",
    "from typing import *\n",
    "from random import shuffle\n",
    "\n",
    "class RandomSpecBlockPassiveGenerator(BlockPassiveGenerator):\n",
    "    def generate(self) -> Callable[..., Tensor]:\n",
    "        block_mat = np.random.randint(0,len(self.materials))\n",
    "            \n",
    "        base_x0 = X0[self.materials[0]]\n",
    "        block_x0 = X0[self.materials[block_mat]]\n",
    "\n",
    "        block_size = np.random.choice(self.block_size, 3, replace=False)\n",
    "        block_low = np.hstack((np.random.uniform(high=self.lw[0]-block_size[0]), np.random.uniform(high=self.lw[1]-block_size[1]), np.random.uniform(self.z_range[0], self.z_range[1]-block_size[2])))\n",
    "        block_high = block_low+block_size\n",
    "\n",
    "        def generator(*, z: float, lw: Tensor, size: float) -> Tensor:\n",
    "            shp = (lw / size).long()\n",
    "            low_xy = np.round(block_low[:2] / size).astype(int)\n",
    "            high_xy = np.round(block_high[:2] / size).astype(int)\n",
    "            rad_length = torch.ones(list(shp)) * base_x0\n",
    "            if z >= block_low[2] and z <= block_high[2]:\n",
    "                rad_length[low_xy[0] : high_xy[0], low_xy[1] : high_xy[1]] = block_x0\n",
    "            return rad_length\n",
    "\n",
    "        return generator, block_x0"
   ]
  },
  {
   "cell_type": "code",
   "execution_count": 26,
   "metadata": {},
   "outputs": [
    {
     "name": "stdout",
     "output_type": "stream",
     "text": [
      "tensor([[0.3528, 0.3528, 0.3528, 0.3528, 0.3528],\n",
      "        [0.3528, 0.3528, 0.3528, 0.3528, 0.3528],\n",
      "        [0.3528, 0.3528, 0.3528, 0.3528, 0.3528],\n",
      "        [0.3528, 0.3528, 0.3528, 0.3528, 0.3528],\n",
      "        [0.3528, 0.3528, 0.3528, 0.3528, 0.3528]]) 0.005612\n",
      "tensor([[0.3528, 0.3528, 0.3528, 0.3528, 0.3528],\n",
      "        [0.3528, 0.3528, 0.3528, 0.3528, 0.3528],\n",
      "        [0.3528, 0.0056, 0.0056, 0.3528, 0.3528],\n",
      "        [0.3528, 0.0056, 0.0056, 0.3528, 0.3528],\n",
      "        [0.3528, 0.3528, 0.3528, 0.3528, 0.3528]]) 0.005612\n",
      "tensor([[0.3528, 0.3528, 0.3528, 0.3528, 0.3528],\n",
      "        [0.3528, 0.3528, 0.3528, 0.3528, 0.3528],\n",
      "        [0.3528, 0.0056, 0.0056, 0.3528, 0.3528],\n",
      "        [0.3528, 0.0056, 0.0056, 0.3528, 0.3528],\n",
      "        [0.3528, 0.3528, 0.3528, 0.3528, 0.3528]]) 0.005612\n"
     ]
    }
   ],
   "source": [
    "g,i = RandomSpecBlockPassiveGenerator(lw=(1,1), materials=[\"beryllium\",\"lead\"], block_size=(0.4,0.4,0.4), z_range=(0.2,0.8), sort_x0=False).generate()\n",
    "for z in [0.8,0.6,0.4]:\n",
    "    print(g(z=z, lw=volume.lw, size=volume.passive_size),i)"
   ]
  },
  {
   "cell_type": "code",
   "execution_count": 27,
   "metadata": {},
   "outputs": [],
   "source": [
    "from lumin.nn.data.fold_yielder import FoldYielder\n",
    "\n",
    "class ScatterYielder(FoldYielder):\n",
    "    def __init__(self, volume:Volume, passive_generator:AbsPassiveGenerator, mu_bs:int, n_volumes_per_fold:int, targ_as_class:bool):\n",
    "        self.cont_feats,self.cat_feats,self.input_pipe,self.output_pipe = [],[],None,None\n",
    "        self.yield_matrix,self.matrix_pipe = True,None\n",
    "        self.augmented,self.aug_mult,self.train_time_aug,self.test_time_aug = False,0,False,False\n",
    "        self.input_feats = self.cont_feats + self.cat_feats\n",
    "        self.orig_cont_feats,self.orig_cat_feat,self._ignore_feats = self.cont_feats,self.cat_feats,[]\n",
    "        \n",
    "        self.volume,self.passive_generator,self.mu_bs = volume,passive_generator,mu_bs\n",
    "        self.voxel_centres = self._build_centres()\n",
    "        self.targ_as_class = targ_as_class\n",
    "        if self.targ_as_class:\n",
    "            self.class2id = {m:i for i,m in enumerate(self.passive_generator.materials)}\n",
    "            self.id2class = {i:m for i,m in enumerate(self.passive_generator.materials)}\n",
    "            self.x02id = {X0[m]:i for i,m in enumerate(self.passive_generator.materials)}\n",
    "            self.id2x0 = {i:X0[m] for i,m in enumerate(self.passive_generator.materials)}\n",
    "                \n",
    "        self.n_volumes_per_fold = n_volumes_per_fold\n",
    "        self.n_voxels = int(len(self.volume.get_passives())*(self.volume.lw/self.volume.passive_size).prod().item())\n",
    "        self.n_folds = 10\n",
    "        self.has_matrix = True\n",
    "        self.fld_szs = {i:self.n_volumes_per_fold for i in range(self.n_folds)}\n",
    "        \n",
    "        self.targ_feats = [\"X0\"]\n",
    "        self.matrix_feats = {'present_feats': [\"dtheta_x\", \"dtheta_y\", \"dx\", \"dy\", \"pred_x0\", \"dpoca_x\", \"dpoca_y\", \"dpoca_z\", \"dpoca_r\"],\n",
    "                             'vecs': [f'mu_{i}' for i in range(self.mu_bs)], 'missing': [], 'row_wise': True}\n",
    "        self.matrix_feats['feats_per_vec'] = len(self.matrix_feats['present_feats']), \n",
    "        self.matrix_feats['shape'] = (self.mu_bs, self.matrix_feats['feats_per_vec'])\n",
    "        self.matrix_is_sparse = False\n",
    "        self.matrix_shape = self.matrix_feats['shape']\n",
    "        \n",
    "    def _build_centres(self) -> Tensor:\n",
    "        bounds = (\n",
    "            self.volume.passive_size\n",
    "            * np.mgrid[\n",
    "                round(self.volume.get_passive_z_range()[0].detach().cpu().numpy()[0] / self.volume.passive_size) : round(\n",
    "                      self.volume.get_passive_z_range()[1].detach().cpu().numpy()[0] / self.volume.passive_size\n",
    "                ) : 1,\n",
    "                0 : round(self.volume.lw.detach().cpu().numpy()[0] / self.volume.passive_size) : 1,\n",
    "                0 : round(self.volume.lw.detach().cpu().numpy()[1] / self.volume.passive_size) : 1,\n",
    "            ]\n",
    "        )\n",
    "#         bounds[0] = np.flip(bounds[0])  # z is reversed\n",
    "        return torch.tensor(bounds.reshape(3, -1).transpose(-1, -2), dtype=torch.float32) + (self.volume.passive_size/2)\n",
    "        \n",
    "    def generate_data(self) -> Dict[str, np.ndarray]:\n",
    "        inputs,targets = [],[]\n",
    "        for _ in range(self.n_volumes_per_fold):\n",
    "            #Scatter generation\n",
    "            muons = MuonBatch(generate_batch(self.mu_bs), self.volume.h, device=self.volume.device)\n",
    "            block, targ = self.passive_generator.generate()\n",
    "            self.volume.load_rad_length(block)\n",
    "            self.volume(muons)\n",
    "            sb = GenScatterBatch(muons, self.volume)\n",
    "            \n",
    "            # x0 prediction\n",
    "            mom = muons.reco_mom\n",
    "            dtheta = sb.dtheta\n",
    "            theta_xy_in = sb.theta_in\n",
    "            theta_xy_out = sb.theta_out\n",
    "            theta2 = dtheta.pow(2).sum(1)\n",
    "            n_x0 = 0.5 * theta2 * ((mom / SCATTER_COEF_A) ** 2)\n",
    "            theta_in = theta_xy_in.pow(2).sum(1).sqrt()\n",
    "            theta_out = theta_xy_out.pow(2).sum(1).sqrt()\n",
    "            cos_theta_in = torch.cos(theta_in)\n",
    "            cos_theta_out = torch.cos(theta_out)\n",
    "            cos_mean = (cos_theta_in + cos_theta_out) / 2\n",
    "            pred = self.volume.passive_size / (n_x0 * cos_mean)\n",
    "            \n",
    "            #Data creation\n",
    "            data = torch.cat((sb.dtheta, sb.dxy, pred[:,None], sb.location), dim=-1).detach()\n",
    "            data = data[None,:].repeat_interleave(len(self.voxel_centres), dim=0)\n",
    "            data[:,:,-3:] -= self.voxel_centres[:,None].repeat_interleave(self.mu_bs, dim=1)\n",
    "            data = torch.cat((data,torch.norm(data[:,:,-3:], dim=-1, keepdim=True)), dim=-1)  # dR\n",
    "            \n",
    "            # Sort by dR\n",
    "            idxs = data[:,:,-1].argsort()\n",
    "            i = np.arange(data.shape[0])[:,None]\n",
    "            data = data[i,idxs]\n",
    "            \n",
    "            inputs.append(data[None,:])\n",
    "            targets.append(targ)\n",
    "        \n",
    "        inputs = torch.cat(inputs, dim=0).detach().cpu().numpy()\n",
    "        targets = np.array(targets)[:,None]\n",
    "        \n",
    "        if self.targ_as_class:\n",
    "            for m in self.passive_generator.materials:\n",
    "                targets[targets == X0[m]] = self.class2id[m]\n",
    "            targets = targets.astype(int)\n",
    "        return {'inputs':(np.zeros((len(inputs),0)),inputs),'targets':targets}\n",
    "        \n",
    "    def get_fold(self, idx:int) -> Dict[str,np.ndarray]:\n",
    "        return self.generate_data()"
   ]
  },
  {
   "cell_type": "code",
   "execution_count": 30,
   "metadata": {},
   "outputs": [],
   "source": [
    "sy = ScatterYielder(volume=volume, passive_generator=RandomSpecBlockPassiveGenerator(lw=(1,1), materials=[\"beryllium\",\"lead\"], block_size=(0.4,0.4,0.4), z_range=(0.2,0.8), sort_x0=False),\n",
    "                    mu_bs=250, n_volumes_per_fold=160, targ_as_class=True)"
   ]
  },
  {
   "cell_type": "code",
   "execution_count": 31,
   "metadata": {},
   "outputs": [
    {
     "data": {
      "text/plain": [
       "75"
      ]
     },
     "execution_count": 31,
     "metadata": {},
     "output_type": "execute_result"
    }
   ],
   "source": [
    "sy.n_voxels"
   ]
  },
  {
   "cell_type": "code",
   "execution_count": 32,
   "metadata": {},
   "outputs": [
    {
     "data": {
      "text/plain": [
       "((160, 75, 250, 9), (160, 1))"
      ]
     },
     "execution_count": 32,
     "metadata": {},
     "output_type": "execute_result"
    }
   ],
   "source": [
    "fold = sy[0]\n",
    "fold['inputs'][1].shape,fold['targets'].shape"
   ]
  },
  {
   "cell_type": "code",
   "execution_count": 33,
   "metadata": {},
   "outputs": [
    {
     "data": {
      "text/plain": [
       "array([0.17656386, 0.2091626 , 0.21514912, 0.28479657, 0.32654083,\n",
       "       0.33248127, 0.3338401 , 0.33507627, 0.3478052 , 0.36887088,\n",
       "       0.37798876, 0.3833005 , 0.38469896, 0.39171603, 0.3923186 ,\n",
       "       0.40228742, 0.40641296, 0.40655923, 0.40866876, 0.40873224,\n",
       "       0.41171363, 0.4275183 , 0.4319526 , 0.43578544, 0.4370566 ,\n",
       "       0.43866393, 0.43968135, 0.44301403, 0.44592157, 0.44669533,\n",
       "       0.4467824 , 0.44722885, 0.45191845, 0.4680191 , 0.47999203,\n",
       "       0.49366426, 0.49433428, 0.5026237 , 0.50330824, 0.505522  ,\n",
       "       0.5083503 , 0.50974756, 0.51943135, 0.5198985 , 0.52074456,\n",
       "       0.5304258 , 0.5307695 , 0.53149354, 0.5316757 , 0.53423077,\n",
       "       0.53480005, 0.5466112 , 0.5471042 , 0.54720664, 0.55192363,\n",
       "       0.55230397, 0.5528228 , 0.55478686, 0.55600685, 0.56173927,\n",
       "       0.5628774 , 0.56534785, 0.5668466 , 0.58130574, 0.5826863 ,\n",
       "       0.58311456, 0.58399576, 0.5889426 , 0.59191644, 0.5945164 ,\n",
       "       0.5977416 , 0.5981181 , 0.6008321 , 0.60360783, 0.60777277,\n",
       "       0.6088054 , 0.61171645, 0.6129036 , 0.6149119 , 0.616039  ,\n",
       "       0.61645097, 0.6165237 , 0.62303555, 0.6457126 , 0.64851874,\n",
       "       0.65069556, 0.65140533, 0.6539351 , 0.65570253, 0.65764594,\n",
       "       0.65930504, 0.6633727 , 0.6640294 , 0.67443854, 0.6755474 ,\n",
       "       0.6783703 , 0.6789229 , 0.67903775, 0.6797791 , 0.6831694 ,\n",
       "       0.6843447 , 0.68704414, 0.6880933 , 0.6885976 , 0.6936754 ,\n",
       "       0.69657695, 0.6985928 , 0.701646  , 0.705483  , 0.71159405,\n",
       "       0.7119383 , 0.7140472 , 0.71664226, 0.71927834, 0.7216294 ,\n",
       "       0.72273433, 0.7227452 , 0.7264939 , 0.7273727 , 0.72759515,\n",
       "       0.7344858 , 0.73556954, 0.73598397, 0.74000293, 0.7414474 ,\n",
       "       0.7483764 , 0.748607  , 0.75171506, 0.7521758 , 0.7523387 ,\n",
       "       0.7554506 , 0.76115197, 0.7649241 , 0.7738813 , 0.7754029 ,\n",
       "       0.7760247 , 0.7826696 , 0.7846146 , 0.784861  , 0.7888378 ,\n",
       "       0.7899455 , 0.79472184, 0.7953439 , 0.7969122 , 0.8003864 ,\n",
       "       0.8006603 , 0.80373025, 0.8058025 , 0.8104428 , 0.8108062 ,\n",
       "       0.81202847, 0.8142289 , 0.8209121 , 0.82423645, 0.8333126 ,\n",
       "       0.8353198 , 0.8359623 , 0.838136  , 0.83893967, 0.84089583,\n",
       "       0.8415984 , 0.8428373 , 0.84306055, 0.8434607 , 0.8435462 ,\n",
       "       0.84567904, 0.8474953 , 0.848311  , 0.84876573, 0.8488406 ,\n",
       "       0.85167956, 0.8523465 , 0.8549209 , 0.854931  , 0.8550261 ,\n",
       "       0.85790414, 0.86894894, 0.8701405 , 0.8730198 , 0.8850506 ,\n",
       "       0.88588685, 0.88927174, 0.8895338 , 0.8895455 , 0.8909764 ,\n",
       "       0.894389  , 0.89452815, 0.89661074, 0.8976272 , 0.90137136,\n",
       "       0.9085268 , 0.9103403 , 0.9184255 , 0.92038035, 0.9204375 ,\n",
       "       0.9217143 , 0.92316633, 0.9243665 , 0.9257588 , 0.92943037,\n",
       "       0.9296891 , 0.93717617, 0.943678  , 0.94480187, 0.94935495,\n",
       "       0.95020145, 0.9514601 , 0.95601714, 0.96880335, 0.97227985,\n",
       "       0.9736276 , 0.98034984, 0.9898503 , 0.9915755 , 0.99753684,\n",
       "       0.9981343 , 1.0046835 , 1.006467  , 1.0069323 , 1.0071242 ,\n",
       "       1.007743  , 1.0079267 , 1.0161066 , 1.0178508 , 1.0191274 ,\n",
       "       1.0293424 , 1.0377303 , 1.0556773 , 1.0620745 , 1.0641829 ,\n",
       "       1.0654088 , 1.0674574 , 1.0763615 , 1.0784022 , 1.0786471 ,\n",
       "       1.0791268 , 1.0926902 , 1.0972412 , 1.1272715 , 1.1402068 ,\n",
       "       1.1412704 , 1.1442584 , 1.1526351 , 1.2247828 , 1.2456799 ,\n",
       "       1.3073491 , 1.324411  , 1.3496784 , 1.3782175 , 1.4365675 ],\n",
       "      dtype=float32)"
      ]
     },
     "execution_count": 33,
     "metadata": {},
     "output_type": "execute_result"
    }
   ],
   "source": [
    "fold['inputs'][1][0,0,:,-1]"
   ]
  },
  {
   "cell_type": "code",
   "execution_count": 34,
   "metadata": {},
   "outputs": [
    {
     "data": {
      "text/plain": [
       "array([[0],\n",
       "       [1],\n",
       "       [0],\n",
       "       [1],\n",
       "       [0],\n",
       "       [1],\n",
       "       [0],\n",
       "       [0],\n",
       "       [1],\n",
       "       [0],\n",
       "       [0],\n",
       "       [1],\n",
       "       [0],\n",
       "       [1],\n",
       "       [1],\n",
       "       [1],\n",
       "       [0],\n",
       "       [0],\n",
       "       [0],\n",
       "       [1],\n",
       "       [0],\n",
       "       [0],\n",
       "       [0],\n",
       "       [1],\n",
       "       [1],\n",
       "       [0],\n",
       "       [0],\n",
       "       [0],\n",
       "       [0],\n",
       "       [1],\n",
       "       [1],\n",
       "       [1],\n",
       "       [0],\n",
       "       [1],\n",
       "       [1],\n",
       "       [1],\n",
       "       [1],\n",
       "       [0],\n",
       "       [0],\n",
       "       [1],\n",
       "       [1],\n",
       "       [1],\n",
       "       [0],\n",
       "       [1],\n",
       "       [1],\n",
       "       [1],\n",
       "       [1],\n",
       "       [0],\n",
       "       [0],\n",
       "       [1],\n",
       "       [1],\n",
       "       [1],\n",
       "       [0],\n",
       "       [1],\n",
       "       [0],\n",
       "       [1],\n",
       "       [0],\n",
       "       [0],\n",
       "       [1],\n",
       "       [0],\n",
       "       [1],\n",
       "       [0],\n",
       "       [0],\n",
       "       [0],\n",
       "       [0],\n",
       "       [1],\n",
       "       [1],\n",
       "       [1],\n",
       "       [1],\n",
       "       [0],\n",
       "       [0],\n",
       "       [0],\n",
       "       [0],\n",
       "       [1],\n",
       "       [0],\n",
       "       [1],\n",
       "       [1],\n",
       "       [1],\n",
       "       [0],\n",
       "       [1],\n",
       "       [1],\n",
       "       [0],\n",
       "       [0],\n",
       "       [0],\n",
       "       [1],\n",
       "       [1],\n",
       "       [0],\n",
       "       [1],\n",
       "       [0],\n",
       "       [1],\n",
       "       [1],\n",
       "       [0],\n",
       "       [1],\n",
       "       [0],\n",
       "       [0],\n",
       "       [1],\n",
       "       [1],\n",
       "       [1],\n",
       "       [0],\n",
       "       [1],\n",
       "       [1],\n",
       "       [1],\n",
       "       [0],\n",
       "       [0],\n",
       "       [1],\n",
       "       [1],\n",
       "       [1],\n",
       "       [1],\n",
       "       [1],\n",
       "       [1],\n",
       "       [1],\n",
       "       [1],\n",
       "       [1],\n",
       "       [0],\n",
       "       [1],\n",
       "       [0],\n",
       "       [1],\n",
       "       [0],\n",
       "       [1],\n",
       "       [1],\n",
       "       [1],\n",
       "       [0],\n",
       "       [1],\n",
       "       [0],\n",
       "       [0],\n",
       "       [0],\n",
       "       [1],\n",
       "       [0],\n",
       "       [1],\n",
       "       [0],\n",
       "       [1],\n",
       "       [0],\n",
       "       [1],\n",
       "       [0],\n",
       "       [1],\n",
       "       [1],\n",
       "       [0],\n",
       "       [0],\n",
       "       [1],\n",
       "       [0],\n",
       "       [0],\n",
       "       [0],\n",
       "       [0],\n",
       "       [0],\n",
       "       [1],\n",
       "       [1],\n",
       "       [0],\n",
       "       [0],\n",
       "       [1],\n",
       "       [1],\n",
       "       [0],\n",
       "       [1],\n",
       "       [1],\n",
       "       [0],\n",
       "       [0],\n",
       "       [1],\n",
       "       [1],\n",
       "       [1],\n",
       "       [1],\n",
       "       [1]])"
      ]
     },
     "execution_count": 34,
     "metadata": {},
     "output_type": "execute_result"
    }
   ],
   "source": [
    "fold['targets']"
   ]
  },
  {
   "cell_type": "markdown",
   "metadata": {},
   "source": [
    "# Classifier"
   ]
  },
  {
   "cell_type": "code",
   "execution_count": 35,
   "metadata": {},
   "outputs": [],
   "source": [
    "from lumin.nn.models.blocks.head import *\n",
    "from lumin.nn.models.blocks.head import AbsGraphFeatExtractor\n",
    "from lumin.nn.models.blocks.gnn_blocks import *\n",
    "from lumin.nn.models.initialisations import lookup_normal_init\n",
    "from lumin.nn.models.layers.activations import lookup_act\n",
    "from lumin.nn.models.layers.batchnorms import RunningBatchNorm1d, LCBatchNorm1d, RunningBatchNorm2d\n",
    "\n",
    "from torch._vmap_internals import _vmap as vmap\n",
    "\n",
    "class X0Net(AbsGraphFeatExtractor):\n",
    "    row_wise:Optional[bool] = True\n",
    "        \n",
    "    def __init__(self, n_v:int, n_fpv:int, vox_centres:Tensor,\n",
    "                 do:float=0, rep_bn:bool=False, act:str='relu',\n",
    "                 lookup_init:Callable[[str,Optional[int],Optional[int]],Callable[[Tensor],None]]=lookup_normal_init,\n",
    "                 lookup_act:Callable[[str],Any]=lookup_act, bn_class:Callable[[int],nn.Module]=nn.BatchNorm1d, rep_bn_class:Callable[[int],nn.Module]=nn.BatchNorm2d):\n",
    "        super().__init__(n_v=n_v, n_fpv=n_fpv, do=do, bn=False, act=act, lookup_init=lookup_init, lookup_act=lookup_act, bn_class=bn_class)\n",
    "        \n",
    "        self.n_voxels,self.rep_bn,self.rep_bn_class = len(vox_centres),rep_bn,rep_bn_class\n",
    "                \n",
    "        # GNNs\n",
    "        if self.rep_bn: self.init_bn = self.rep_bn_class(self.n_fpv)\n",
    "        \n",
    "        self.n_muon_rep, self.n_vox_rep = 40, 40\n",
    "        self.muon_rep_gnn = GravNet(n_v=self.n_v, n_fpv=self.n_fpv,\n",
    "                                    cat_means=True,\n",
    "                                    f_slr_depth=3,\n",
    "                                    n_s=4,\n",
    "                                    n_lr=22,\n",
    "                                    k=25,\n",
    "                                    f_out_depth=1,\n",
    "                                    n_out=[48],\n",
    "                                    act=self.act,\n",
    "                                    use_sa=False,\n",
    "                                    bn=False,\n",
    "                                   )\n",
    "        self.muon_rep_collapser = GraphCollapser(n_v=self.n_v, n_fpv=self.muon_rep_gnn.get_out_size()[1],\n",
    "                                                 flatten=False,\n",
    "                                                 f_final_outs=[self.n_muon_rep],\n",
    "                                                 n_sa_layers=1,\n",
    "                                                 sa_width=12,\n",
    "                                                 global_feat_vec=False,\n",
    "                                                 act=self.act,\n",
    "                                                 bn=False,\n",
    "                                                )\n",
    "        \n",
    "        if self.rep_bn: self.muon_rep_bn = self.rep_bn_class(self.muon_rep_collapser.get_out_size()+4)\n",
    "        \n",
    "        self.vox_rep_gnn = GravNet(n_v=self.n_voxels, n_fpv=self.muon_rep_collapser.get_out_size()+4,\n",
    "                                   cat_means=True,\n",
    "                                   f_slr_depth=3,\n",
    "                                   n_s=4,\n",
    "                                   n_lr=22,\n",
    "                                   k=12,\n",
    "                                   f_out_depth=1,\n",
    "                                   n_out=[48],\n",
    "                                   act=self.act,\n",
    "                                   use_sa=False,\n",
    "                                   bn=False,\n",
    "                                  )\n",
    "        self.vox_rep_collapser = GraphCollapser(n_v=self.n_voxels, n_fpv=self.vox_rep_gnn.get_out_size()[1],\n",
    "                                                flatten=False,\n",
    "                                                f_final_outs=[self.n_vox_rep],\n",
    "                                                n_sa_layers=1,\n",
    "                                                sa_width=12,\n",
    "                                                global_feat_vec=False,\n",
    "                                                act=self.act,\n",
    "                                                bn=False,\n",
    "                                               )\n",
    "        \n",
    "        # Relative voxel positions\n",
    "        self.vox_centres = vox_centres  # (voxel,coords)\n",
    "        vox_dists = self.vox_centres[None]-self.vox_centres[:,None]  # (voxel,voxel,coords)\n",
    "        self.register_buffer('vox_dists', torch.cat((vox_dists,vox_dists.norm(dim=-1, keepdim=True)), dim=-1))\n",
    "        \n",
    "    def forward(self, x:Tensor) -> Tensor:\n",
    "        r'''x=(volume,voxel,muon,feature)'''\n",
    "        if self.rep_bn: x = self.init_bn(x.transpose(1,-1)).transpose(1,-1)\n",
    "        \n",
    "        def get_muon_rep(x:Tensor) -> Tensor:\n",
    "            r'''(voxel,muon,feature)'''\n",
    "            return self.muon_rep_collapser(self.muon_rep_gnn(x))\n",
    "        \n",
    "#         muon_rep = vmap(get_muon_rep)(x)  # (volume,voxel,muon_rep)\n",
    "        muon_rep = torch.stack([get_muon_rep(v) for v in x.unbind()], dim=0)  # (volume,voxel,muon_rep)\n",
    "        muon_rep = muon_rep[:,None].expand(-1,self.n_voxels, -1,-1)  # (volume,voxel,voxel,muon_rep)\n",
    "        muon_rep = torch.cat((muon_rep, self.vox_dists[None].expand(len(muon_rep), -1, -1, -1)), dim=-1)\n",
    "        if self.rep_bn: muon_rep = self.muon_rep_bn(muon_rep.transpose(1,-1)).transpose(1,-1)\n",
    "        \n",
    "        def get_vox_rep(x:Tensor) -> Tensor:\n",
    "            r'''(voxel,voxel,muon_rep)'''\n",
    "            return self.vox_rep_collapser(self.vox_rep_gnn(x))\n",
    "        \n",
    "#         vox_rep = vmap(get_vox_rep)(muon_rep)  # (volume,voxel,class)\n",
    "        vox_rep = torch.stack([get_vox_rep(v) for v in muon_rep.unbind()], dim=0)  # (volume,voxel,class)\n",
    "        return vox_rep\n",
    "    \n",
    "    def get_out_size(self) -> Tuple[int,int]: return self.n_voxels, self.n_vox_rep*2"
   ]
  },
  {
   "cell_type": "code",
   "execution_count": 36,
   "metadata": {
    "scrolled": false
   },
   "outputs": [
    {
     "name": "stdout",
     "output_type": "stream",
     "text": [
      "Inputs:\n",
      "9 Continuous: ['dtheta_x', 'dtheta_y', 'dx', 'dy', 'pred_x0', 'dpoca_x', 'dpoca_y', 'dpoca_z', 'dpoca_r']\n",
      "                   \n",
      "0  Categorical: []\n",
      "                   \n",
      "0  Matrix elements: []\n",
      "                   \n",
      "\n",
      "Model:\n",
      "<bound method Module.parameters of Sequential(\n",
      "  (0): GNNHead(\n",
      "    (extractor): X0Net(\n",
      "      (init_bn): RunningBatchNorm2d()\n",
      "      (muon_rep_gnn): GravNet(\n",
      "        (grav_layers): ModuleList(\n",
      "          (0): GravNetLayer(\n",
      "            (f_slr): Sequential(\n",
      "              (0): Sequential(\n",
      "                (0): Linear(in_features=18, out_features=52, bias=True)\n",
      "                (1): Swish()\n",
      "              )\n",
      "              (1): Sequential(\n",
      "                (0): Linear(in_features=52, out_features=52, bias=True)\n",
      "                (1): Swish()\n",
      "              )\n",
      "              (2): Sequential(\n",
      "                (0): Linear(in_features=52, out_features=26, bias=True)\n",
      "                (1): Swish()\n",
      "              )\n",
      "            )\n",
      "            (f_out): Sequential(\n",
      "              (0): Sequential(\n",
      "                (0): Linear(in_features=62, out_features=48, bias=True)\n",
      "                (1): Swish()\n",
      "              )\n",
      "            )\n",
      "          )\n",
      "        )\n",
      "      )\n",
      "      (muon_rep_collapser): GraphCollapser(\n",
      "        (sa_layers): ModuleList(\n",
      "          (0): SelfAttention(\n",
      "            (q): Linear(in_features=48, out_features=12, bias=True)\n",
      "            (k): Linear(in_features=48, out_features=12, bias=True)\n",
      "            (v): Linear(in_features=48, out_features=48, bias=True)\n",
      "            (out): Sequential(\n",
      "              (0): Linear(in_features=48, out_features=48, bias=True)\n",
      "              (1): Swish()\n",
      "            )\n",
      "          )\n",
      "        )\n",
      "        (f_final): Sequential(\n",
      "          (0): Sequential(\n",
      "            (0): Linear(in_features=48, out_features=40, bias=True)\n",
      "            (1): Swish()\n",
      "          )\n",
      "        )\n",
      "      )\n",
      "      (muon_rep_bn): RunningBatchNorm2d()\n",
      "      (vox_rep_gnn): GravNet(\n",
      "        (grav_layers): ModuleList(\n",
      "          (0): GravNetLayer(\n",
      "            (f_slr): Sequential(\n",
      "              (0): Sequential(\n",
      "                (0): Linear(in_features=168, out_features=52, bias=True)\n",
      "                (1): Swish()\n",
      "              )\n",
      "              (1): Sequential(\n",
      "                (0): Linear(in_features=52, out_features=52, bias=True)\n",
      "                (1): Swish()\n",
      "              )\n",
      "              (2): Sequential(\n",
      "                (0): Linear(in_features=52, out_features=26, bias=True)\n",
      "                (1): Swish()\n",
      "              )\n",
      "            )\n",
      "            (f_out): Sequential(\n",
      "              (0): Sequential(\n",
      "                (0): Linear(in_features=212, out_features=48, bias=True)\n",
      "                (1): Swish()\n",
      "              )\n",
      "            )\n",
      "          )\n",
      "        )\n",
      "      )\n",
      "      (vox_rep_collapser): GraphCollapser(\n",
      "        (sa_layers): ModuleList(\n",
      "          (0): SelfAttention(\n",
      "            (q): Linear(in_features=48, out_features=12, bias=True)\n",
      "            (k): Linear(in_features=48, out_features=12, bias=True)\n",
      "            (v): Linear(in_features=48, out_features=48, bias=True)\n",
      "            (out): Sequential(\n",
      "              (0): Linear(in_features=48, out_features=48, bias=True)\n",
      "              (1): Swish()\n",
      "            )\n",
      "          )\n",
      "        )\n",
      "        (f_final): Sequential(\n",
      "          (0): Sequential(\n",
      "            (0): Linear(in_features=48, out_features=40, bias=True)\n",
      "            (1): Swish()\n",
      "          )\n",
      "        )\n",
      "      )\n",
      "    )\n",
      "    (collapser): GraphCollapser(\n",
      "      (f_final): Sequential(\n",
      "        (0): Sequential(\n",
      "          (0): Linear(in_features=80, out_features=10, bias=True)\n",
      "          (1): Swish()\n",
      "        )\n",
      "      )\n",
      "    )\n",
      "  )\n",
      "  (1): FullyConnected(\n",
      "    (layers): Sequential(\n",
      "      (0): Sequential(\n",
      "        (0): Linear(in_features=750, out_features=50, bias=True)\n",
      "        (1): Swish()\n",
      "      )\n",
      "      (1): Sequential(\n",
      "        (0): Linear(in_features=50, out_features=50, bias=True)\n",
      "        (1): Swish()\n",
      "      )\n",
      "      (2): Sequential(\n",
      "        (0): Linear(in_features=50, out_features=50, bias=True)\n",
      "        (1): Swish()\n",
      "      )\n",
      "    )\n",
      "  )\n",
      "  (2): ClassRegMulti(\n",
      "    (dense): Linear(in_features=50, out_features=1, bias=True)\n",
      "    (act): Sigmoid()\n",
      "  )\n",
      ")>\n",
      "                   \n",
      "\n",
      "Number of trainable parameters: 90669\n",
      "                   \n",
      "\n",
      "Optimiser:\n",
      "Adam (\n",
      "Parameter Group 0\n",
      "    amsgrad: False\n",
      "    betas: (0.9, 0.999)\n",
      "    eps: 1e-08\n",
      "    lr: 0.002\n",
      "    weight_decay: 0\n",
      ")\n",
      "                   \n",
      "\n",
      "Loss:\n",
      "<class 'torch.nn.modules.loss.BCELoss'>\n"
     ]
    }
   ],
   "source": [
    "from lumin.nn.models.blocks.body import FullyConnected\n",
    "from lumin.nn.models.blocks.tail import ClassRegMulti\n",
    "\n",
    "from lumin.nn.models.model_builder import ModelBuilder\n",
    "from lumin.nn.models.model import Model\n",
    "from lumin.optimisation.hyper_param import lr_find\n",
    "\n",
    "mu_bs = 250\n",
    "sy = ScatterYielder(volume=volume, passive_generator=RandomSpecBlockPassiveGenerator(lw=(1,1), materials=[\"beryllium\",\"lead\"], block_size=(0.4,0.4,0.4), z_range=(0.2,0.8), sort_x0=False),\n",
    "                    mu_bs=mu_bs, n_volumes_per_fold=160, targ_as_class=True)\n",
    "\n",
    "head = partial(GNNHead, vecs=sy.matrix_feats['vecs'], feats_per_vec=sy.matrix_feats['present_feats'],\n",
    "               extractor=partial(X0Net, vox_centres=sy.voxel_centres, rep_bn=True, rep_bn_class=RunningBatchNorm2d, act='swish'),\n",
    "               collapser=partial(GraphCollapser,\n",
    "                                 flatten=True,\n",
    "                                 f_final_outs=[10],\n",
    "                                 bn=False,\n",
    "                                 act='swish',\n",
    "                                 bn_class=RunningBatchNorm1d\n",
    "                                ))\n",
    "\n",
    "body = partial(FullyConnected, depth=3, width=50, act='swish')\n",
    "opt_args = {'opt':'adam', 'eps':1e-08}\n",
    "model_builder = ModelBuilder('class', cont_feats=sy.matrix_feats['present_feats'], n_out=1, \n",
    "                             opt_args=opt_args, body=body, head=head)\n",
    "bs = 8\n",
    "print(Model(model_builder))"
   ]
  },
  {
   "cell_type": "code",
   "execution_count": 37,
   "metadata": {},
   "outputs": [
    {
     "data": {
      "text/plain": [
       "160"
      ]
     },
     "execution_count": 37,
     "metadata": {},
     "output_type": "execute_result"
    }
   ],
   "source": [
    "sy.get_data_count(0)"
   ]
  },
  {
   "cell_type": "code",
   "execution_count": 38,
   "metadata": {},
   "outputs": [
    {
     "data": {
      "text/html": [],
      "text/plain": [
       "<IPython.core.display.HTML object>"
      ]
     },
     "metadata": {},
     "output_type": "display_data"
    },
    {
     "name": "stdout",
     "output_type": "stream",
     "text": [
      "LR finder took 265.879s \n"
     ]
    },
    {
     "data": {
      "image/png": "[encoded data removed]",
      "text/plain": [
       "<Figure size 1024x576 with 1 Axes>"
      ]
     },
     "metadata": {},
     "output_type": "display_data"
    }
   ],
   "source": [
    "lr_finder = lr_find(sy, model_builder, bs=bs, lr_bounds=[1e-5,1e0], n_repeats=3, bulk_move=False)"
   ]
  },
  {
   "cell_type": "code",
   "execution_count": 39,
   "metadata": {},
   "outputs": [],
   "source": [
    "from lumin.nn.callbacks.cyclic_callbacks import OneCycle\n",
    "from functools import partial\n",
    "from lumin.nn.metrics.class_eval import RocAucScore\n",
    "\n",
    "cb_partials = [partial(OneCycle, lengths=[10, 20],lr_range=[1e-5, 1e-3], mom_range=[0.85, 0.95], interp='cosine')]\n",
    "metric_partials = (RocAucScore)"
   ]
  },
  {
   "cell_type": "code",
   "execution_count": null,
   "metadata": {
    "scrolled": false
   },
   "outputs": [
    {
     "data": {
      "text/html": [
       "\n",
       "    <div>\n",
       "        <style>\n",
       "            /* Turns off some styling */\n",
       "            progress {\n",
       "                /* gets rid of default border in Firefox and Opera. */\n",
       "                border: none;\n",
       "                /* Needs to be in here for Safari polyfill so background images work as expected. */\n",
       "                background-size: auto;\n",
       "            }\n",
       "            .progress-bar-interrupted, .progress-bar-interrupted::-webkit-progress-bar {\n",
       "                background: #F44336;\n",
       "            }\n",
       "        </style>\n",
       "      <progress value='0' class='' max='1' style='width:300px; height:20px; vertical-align: middle;'></progress>\n",
       "      0.00% [0/1 00:00<00:00]\n",
       "    </div>\n",
       "    \n"
      ],
      "text/plain": [
       "<IPython.core.display.HTML object>"
      ]
     },
     "metadata": {},
     "output_type": "display_data"
    },
    {
     "name": "stdout",
     "output_type": "stream",
     "text": [
      "Training model 1 / 1, Valid Index = 0, Train indices= [1, 2, 3, 4, 5, 6, 7, 8, 9]\n"
     ]
    },
    {
     "data": {
      "image/png": "[encoded data removed]",
      "text/plain": [
       "<Figure size 1024x576 with 4 Axes>"
      ]
     },
     "metadata": {},
     "output_type": "display_data"
    },
    {
     "data": {
      "text/html": [
       "\n",
       "    <div>\n",
       "        <style>\n",
       "            /* Turns off some styling */\n",
       "            progress {\n",
       "                /* gets rid of default border in Firefox and Opera. */\n",
       "                border: none;\n",
       "                /* Needs to be in here for Safari polyfill so background images work as expected. */\n",
       "                background-size: auto;\n",
       "            }\n",
       "            .progress-bar-interrupted, .progress-bar-interrupted::-webkit-progress-bar {\n",
       "                background: #F44336;\n",
       "            }\n",
       "        </style>\n",
       "      <progress value='1' class='' max='30' style='width:300px; height:20px; vertical-align: middle;'></progress>\n",
       "      3.33% [1/30 01:35<45:56]\n",
       "    </div>\n",
       "    "
      ],
      "text/plain": [
       "<IPython.core.display.HTML object>"
      ]
     },
     "metadata": {},
     "output_type": "display_data"
    }
   ],
   "source": [
    "from lumin.nn.training.train import train_models\n",
    "_ = train_models(sy, n_models=1,\n",
    "                 model_builder=model_builder,\n",
    "                 bs=bs,\n",
    "                 cb_partials=cb_partials,\n",
    "                 metric_partials=metric_partials,\n",
    "                 n_epochs=30,\n",
    "                 bulk_move=False)"
   ]
  },
  {
   "cell_type": "code",
   "execution_count": null,
   "metadata": {},
   "outputs": [],
   "source": [
    "model = Model.from_save('train_weights/model_id_0/best.h5', model_builder)"
   ]
  },
  {
   "cell_type": "code",
   "execution_count": null,
   "metadata": {},
   "outputs": [],
   "source": [
    "sy = ScatterYielder(volume=volume, passive_generator=RandomSpecBlockPassiveGenerator(lw=(1,1), materials=[\"beryllium\",\"lead\"], block_size=(0.4,0.4,0.4), z_range=(0.2,0.8), sort_x0=False),\n",
    "                    mu_bs=mu_bs, n_volumes_per_fold=512, targ_as_class=True)"
   ]
  },
  {
   "cell_type": "code",
   "execution_count": null,
   "metadata": {},
   "outputs": [],
   "source": [
    "data = sy[0]"
   ]
  },
  {
   "cell_type": "code",
   "execution_count": null,
   "metadata": {},
   "outputs": [],
   "source": [
    "pred = model.predict(data['inputs'])"
   ]
  },
  {
   "cell_type": "code",
   "execution_count": null,
   "metadata": {},
   "outputs": [],
   "source": [
    "pred.shape"
   ]
  },
  {
   "cell_type": "markdown",
   "metadata": {},
   "source": [
    "## All voxels"
   ]
  },
  {
   "cell_type": "code",
   "execution_count": null,
   "metadata": {},
   "outputs": [],
   "source": [
    "pred_class = pred > 0.5"
   ]
  },
  {
   "cell_type": "code",
   "execution_count": null,
   "metadata": {},
   "outputs": [],
   "source": [
    "pred_class"
   ]
  },
  {
   "cell_type": "code",
   "execution_count": null,
   "metadata": {},
   "outputs": [],
   "source": [
    "targs = data['targets']"
   ]
  },
  {
   "cell_type": "code",
   "execution_count": null,
   "metadata": {},
   "outputs": [],
   "source": [
    "targs"
   ]
  },
  {
   "cell_type": "code",
   "execution_count": null,
   "metadata": {},
   "outputs": [],
   "source": [
    "targs.mean()"
   ]
  },
  {
   "cell_type": "code",
   "execution_count": null,
   "metadata": {},
   "outputs": [],
   "source": [
    "from lumin.plotting.results import plot_roc, plot_binary_class_pred\n",
    "from lumin.plotting.plot_settings import PlotSettings"
   ]
  },
  {
   "cell_type": "code",
   "execution_count": null,
   "metadata": {},
   "outputs": [],
   "source": [
    "import pandas as pd"
   ]
  },
  {
   "cell_type": "code",
   "execution_count": null,
   "metadata": {},
   "outputs": [],
   "source": [
    "df = pd.DataFrame({'pred':pred.squeeze(), 'gen_target':targs.squeeze()})"
   ]
  },
  {
   "cell_type": "code",
   "execution_count": null,
   "metadata": {},
   "outputs": [],
   "source": [
    "plot_settings = PlotSettings(targ2class={0:sy.passive_generator.materials[0], 1:sy.passive_generator.materials[1]})"
   ]
  },
  {
   "cell_type": "code",
   "execution_count": null,
   "metadata": {},
   "outputs": [],
   "source": [
    "plot_binary_class_pred(df, settings=plot_settings)"
   ]
  },
  {
   "cell_type": "code",
   "execution_count": null,
   "metadata": {},
   "outputs": [],
   "source": [
    "plot_roc(df)"
   ]
  },
  {
   "cell_type": "code",
   "execution_count": null,
   "metadata": {},
   "outputs": [],
   "source": [
    "from sklearn.metrics import confusion_matrix, roc_auc_score\n",
    "import pandas as pd\n",
    "\n",
    "df = pd.DataFrame(confusion_matrix(targs, pred_class, normalize='true'), sy.passive_generator.materials, sy.passive_generator.materials)\n",
    "plt.figure(figsize=(10,7))\n",
    "sns.set(font_scale=1.4) # for label size\n",
    "sns.heatmap(df, annot=True, annot_kws={\"size\": 16}) # font size\n",
    "plt.ylabel('Target')\n",
    "plt.xlabel('Predicted')"
   ]
  },
  {
   "cell_type": "code",
   "execution_count": null,
   "metadata": {},
   "outputs": [],
   "source": [
    "roc_auc_score(y_true=targs, y_score=pred)"
   ]
  },
  {
   "cell_type": "code",
   "execution_count": null,
   "metadata": {},
   "outputs": [],
   "source": []
  }
 ],
 "metadata": {
  "kernelspec": {
   "display_name": "Python [conda env:tomopt]",
   "language": "python",
   "name": "conda-env-tomopt-py"
  },
  "language_info": {
   "codemirror_mode": {
    "name": "ipython",
    "version": 3
   },
   "file_extension": ".py",
   "mimetype": "text/x-python",
   "name": "python",
   "nbconvert_exporter": "python",
   "pygments_lexer": "ipython3",
   "version": "3.8.11"
  },
  "toc": {
   "base_numbering": 1,
   "nav_menu": {},
   "number_sections": true,
   "sideBar": true,
   "skip_h1_title": false,
   "title_cell": "Table of Contents",
   "title_sidebar": "Contents",
   "toc_cell": false,
   "toc_position": {},
   "toc_section_display": true,
   "toc_window_display": false
  }
 },
 "nbformat": 4,
 "nbformat_minor": 2
}
