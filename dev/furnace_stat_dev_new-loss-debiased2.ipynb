{
 "cells": [
  {
   "cell_type": "code",
   "execution_count": 1,
   "id": "0410d432",
   "metadata": {},
   "outputs": [],
   "source": [
    "%matplotlib inline\n",
    "%reload_ext autoreload\n",
    "%autoreload 2"
   ]
  },
  {
   "cell_type": "code",
   "execution_count": 2,
   "id": "dbb16dc4",
   "metadata": {},
   "outputs": [],
   "source": [
    "from typing import *\n",
    "import numpy as np\n",
    "from functools import partial\n",
    "from fastprogress import progress_bar\n",
    "import pandas as pd\n",
    "import h5py\n",
    "\n",
    "from lumin.plotting.results import plot_roc\n",
    "\n",
    "import torch\n",
    "from torch import Tensor, nn\n",
    "import torch.nn.functional as F\n",
    "from torch._vmap_internals import _vmap as vmap\n",
    "\n",
    "from tomopt.volume import *\n",
    "from tomopt.muon import *\n",
    "from tomopt.inference import *\n",
    "from tomopt.optimisation import *\n",
    "from tomopt.core import *\n",
    "from tomopt.utils import *\n",
    "from tomopt.plotting import *\n",
    "\n",
    "import seaborn as sns\n",
    "import matplotlib.pyplot as plt"
   ]
  },
  {
   "cell_type": "code",
   "execution_count": 3,
   "id": "0a37b443",
   "metadata": {},
   "outputs": [],
   "source": [
    "with h5py.File('furnace_data_1kmu_1e4_nozero.hdf5', \"r\") as infile:\n",
    "    preds = Tensor(infile['preds'][()])\n",
    "    targs = Tensor(infile['targs'][()])"
   ]
  },
  {
   "cell_type": "code",
   "execution_count": 4,
   "id": "f31a105a",
   "metadata": {},
   "outputs": [],
   "source": [
    "def get_volume(size: float = 0.1, lwh: Tensor = Tensor([1.0, 1.0, 1.4]), device: torch.device = torch.device(\"cpu\")) -> Volume:\n",
    "    def area_cost(x: Tensor) -> Tensor:\n",
    "        return F.relu(x)\n",
    "\n",
    "    layers: List[Layer] = []\n",
    "    n_panels = 4\n",
    "    layers.append(\n",
    "        PanelDetectorLayer(\n",
    "            pos=\"above\",\n",
    "            lw=lwh[:2],\n",
    "            z=lwh[2].item(),\n",
    "            size=0.2,\n",
    "            panels=[\n",
    "                DetectorPanel(\n",
    "                    res=1e4,\n",
    "                    eff=1,\n",
    "                    init_xyz=(lwh[0].item() / 2, lwh[1].item() / 2, lwh[2].item() - (i * (0.2) / n_panels)),\n",
    "                    init_xy_span=(4., 4.),\n",
    "                    area_cost_func=area_cost,\n",
    "                    device=device,\n",
    "                )\n",
    "                for i in range(n_panels)\n",
    "            ],\n",
    "        )\n",
    "    )\n",
    "    for z in np.round(np.arange(lwh[2] - 0.2, 0.2, -size), decimals=2):\n",
    "        layers.append(PassiveLayer(lw=lwh[:2], z=z, size=size, device=device))\n",
    "    layers.append(\n",
    "        PanelDetectorLayer(\n",
    "            pos=\"below\",\n",
    "            lw=lwh[:2],\n",
    "            z=size,\n",
    "            size=0.2,\n",
    "            panels=[\n",
    "                DetectorPanel(\n",
    "                    res=1e4,\n",
    "                    eff=1,\n",
    "                    init_xyz=(lwh[0].item() / 2, lwh[1].item() / 2, 0.2 - (i * (0.2) / n_panels)),\n",
    "                    init_xy_span=(4., 4.),\n",
    "                    area_cost_func=area_cost,\n",
    "                    device=device,\n",
    "                )\n",
    "                for i in range(n_panels)\n",
    "            ],\n",
    "        )\n",
    "    )\n",
    "\n",
    "    return Volume(nn.ModuleList(layers))"
   ]
  },
  {
   "cell_type": "code",
   "execution_count": 5,
   "id": "b87986be",
   "metadata": {},
   "outputs": [
    {
     "data": {
      "text/plain": [
       "torch.Size([200, 1])"
      ]
     },
     "execution_count": 5,
     "metadata": {},
     "output_type": "execute_result"
    }
   ],
   "source": [
    "targs.shape"
   ]
  },
  {
   "cell_type": "code",
   "execution_count": 6,
   "id": "54e9cf70",
   "metadata": {},
   "outputs": [],
   "source": [
    "volume = get_volume()"
   ]
  },
  {
   "cell_type": "code",
   "execution_count": 7,
   "id": "d4b4e8df",
   "metadata": {
    "scrolled": false
   },
   "outputs": [
    {
     "data": {
      "text/plain": [
       "Volume(\n",
       "  (layers): ModuleList(\n",
       "    (0): PanelDetectorLayer(\n",
       "      (panels): ModuleList(\n",
       "        (0): <class 'tomopt.volume.panel.DetectorPanel'> located at xy=tensor([0.5000, 0.5000]), z=tensor([1.4000]), and xy span tensor([4., 4.])\n",
       "        (1): <class 'tomopt.volume.panel.DetectorPanel'> located at xy=tensor([0.5000, 0.5000]), z=tensor([1.3500]), and xy span tensor([4., 4.])\n",
       "        (2): <class 'tomopt.volume.panel.DetectorPanel'> located at xy=tensor([0.5000, 0.5000]), z=tensor([1.3000]), and xy span tensor([4., 4.])\n",
       "        (3): <class 'tomopt.volume.panel.DetectorPanel'> located at xy=tensor([0.5000, 0.5000]), z=tensor([1.2500]), and xy span tensor([4., 4.])\n",
       "      )\n",
       "    )\n",
       "    (1): PassiveLayer located at z=tensor([1.2000])\n",
       "    (2): PassiveLayer located at z=tensor([1.1000])\n",
       "    (3): PassiveLayer located at z=tensor([1.])\n",
       "    (4): PassiveLayer located at z=tensor([0.9000])\n",
       "    (5): PassiveLayer located at z=tensor([0.8000])\n",
       "    (6): PassiveLayer located at z=tensor([0.7000])\n",
       "    (7): PassiveLayer located at z=tensor([0.6000])\n",
       "    (8): PassiveLayer located at z=tensor([0.5000])\n",
       "    (9): PassiveLayer located at z=tensor([0.4000])\n",
       "    (10): PassiveLayer located at z=tensor([0.3000])\n",
       "    (11): PanelDetectorLayer(\n",
       "      (panels): ModuleList(\n",
       "        (0): <class 'tomopt.volume.panel.DetectorPanel'> located at xy=tensor([0.5000, 0.5000]), z=tensor([0.2000]), and xy span tensor([4., 4.])\n",
       "        (1): <class 'tomopt.volume.panel.DetectorPanel'> located at xy=tensor([0.5000, 0.5000]), z=tensor([0.1500]), and xy span tensor([4., 4.])\n",
       "        (2): <class 'tomopt.volume.panel.DetectorPanel'> located at xy=tensor([0.5000, 0.5000]), z=tensor([0.1000]), and xy span tensor([4., 4.])\n",
       "        (3): <class 'tomopt.volume.panel.DetectorPanel'> located at xy=tensor([0.5000, 0.5000]), z=tensor([0.0500]), and xy span tensor([4., 4.])\n",
       "      )\n",
       "    )\n",
       "  )\n",
       ")"
      ]
     },
     "execution_count": 7,
     "metadata": {},
     "output_type": "execute_result"
    }
   ],
   "source": [
    "volume"
   ]
  },
  {
   "cell_type": "markdown",
   "id": "564d4ead",
   "metadata": {},
   "source": [
    "# Vars"
   ]
  },
  {
   "cell_type": "code",
   "execution_count": 8,
   "id": "b4963a3b",
   "metadata": {},
   "outputs": [],
   "source": [
    "df = pd.DataFrame(targs.numpy(), columns=['gen_target'])"
   ]
  },
  {
   "cell_type": "code",
   "execution_count": 9,
   "id": "026e0346",
   "metadata": {},
   "outputs": [],
   "source": [
    "from tomopt.plotting.appearance import *\n",
    "\n",
    "def plot_pred(pred, targ):\n",
    "    with sns.axes_style(style=\"whitegrid\", rc={\"patch.edgecolor\": \"none\"}):\n",
    "        fig, axs = plt.subplots(1, len(pred), figsize=(W_MID, H_MID))\n",
    "\n",
    "        for i in range(len(pred)):\n",
    "            sns.heatmap(\n",
    "                pred[i],\n",
    "                ax=axs[i],\n",
    "                cmap=\"viridis\",\n",
    "                square=True,\n",
    "                cbar=False,\n",
    "                vmin=np.nanmin(pred),\n",
    "                vmax=np.nanmax(pred),\n",
    "            )\n",
    "        print(\"Zero-ordered target layer ID (including ladel bottom layer):\", np.floor((targ-volume.get_passive_z_range()[0]-volume.passive_size)/volume.passive_size))\n",
    "        plt.show()"
   ]
  },
  {
   "cell_type": "code",
   "execution_count": 10,
   "id": "dbcafd74",
   "metadata": {},
   "outputs": [],
   "source": [
    "ladel_removed = preds[:,1:,1:-1,1:-1]"
   ]
  },
  {
   "cell_type": "code",
   "execution_count": 11,
   "id": "2c7fb408",
   "metadata": {},
   "outputs": [],
   "source": [
    "def get_3d_avg(data):\n",
    "    return F.avg_pool3d(data, kernel_size=3, padding=1, stride=1, count_include_pad=False)"
   ]
  },
  {
   "cell_type": "code",
   "execution_count": 12,
   "id": "003c0a84",
   "metadata": {},
   "outputs": [],
   "source": [
    "def get_3d_gauss(data):\n",
    "    gauss = nn.Conv3d(1, 1, kernel_size=3, stride=1, padding=1, padding_mode='replicate', bias=False)\n",
    "    gauss.weight.data =Tensor([[[[[1,2,1],[2,4,2],[1,2,1]],[[2,4,2],[4,8,4],[2,4,2]], [[1,2,1],[2,4,2],[1,2,1]]]]])\n",
    "    gauss.requires_grad_(False)\n",
    "    return gauss(data[:,None]).squeeze()/gauss.weight.sum()"
   ]
  },
  {
   "cell_type": "code",
   "execution_count": 13,
   "id": "dbfc956f",
   "metadata": {},
   "outputs": [],
   "source": [
    "def get_layer_avgs(data):\n",
    "    return data.mean((-1,-2))"
   ]
  },
  {
   "cell_type": "code",
   "execution_count": 14,
   "id": "cec49801",
   "metadata": {},
   "outputs": [],
   "source": [
    "def get_max_sub_mean(data):\n",
    "    maxes = F.max_pool1d(data, kernel_size=3, padding=1, stride=1)\n",
    "    mins = -F.max_pool1d(-data, kernel_size=3, padding=1, stride=1)\n",
    "    return maxes-mins"
   ]
  },
  {
   "cell_type": "code",
   "execution_count": 15,
   "id": "ae97918e",
   "metadata": {},
   "outputs": [],
   "source": [
    "def get_max_div_mean(data):\n",
    "    maxes = F.max_pool1d(data, kernel_size=3, padding=1, stride=1)\n",
    "    mins = -F.max_pool1d(-data, kernel_size=3, padding=1, stride=1)\n",
    "    return maxes/mins"
   ]
  },
  {
   "cell_type": "code",
   "execution_count": 16,
   "id": "664f09f1",
   "metadata": {},
   "outputs": [],
   "source": [
    "def get_edge_det(data, kernel):\n",
    "    edge = nn.Conv1d(1, 1, kernel_size=3, stride=1, padding=1, padding_mode='replicate', bias=False)\n",
    "    edge.weight.data = Tensor([[kernel]])\n",
    "    edge.requires_grad_(False)\n",
    "    return edge(data[:,None]).squeeze()"
   ]
  },
  {
   "cell_type": "code",
   "execution_count": 17,
   "id": "27568905",
   "metadata": {},
   "outputs": [],
   "source": [
    "def get_1d_gauss(data):\n",
    "    gauss = nn.Conv1d(1, 1, kernel_size=3, stride=1, padding=1, padding_mode='replicate', bias=False)\n",
    "    gauss.weight.data = Tensor([[[2,4,2]]])\n",
    "    gauss.requires_grad_(False)\n",
    "    return gauss(data[:,None]).squeeze()/8"
   ]
  },
  {
   "cell_type": "code",
   "execution_count": 18,
   "id": "3e215623",
   "metadata": {},
   "outputs": [],
   "source": [
    "def get_1d_avg(data):\n",
    "    return F.avg_pool1d(data, kernel_size=3, padding=1, stride=1, count_include_pad=False)"
   ]
  },
  {
   "cell_type": "code",
   "execution_count": 19,
   "id": "2c44302f",
   "metadata": {},
   "outputs": [],
   "source": [
    "def get_probs(data):\n",
    "    return F.softmax(data, dim=-1)"
   ]
  },
  {
   "cell_type": "code",
   "execution_count": 20,
   "id": "70303052",
   "metadata": {},
   "outputs": [],
   "source": [
    "def targ2class(targs, volume):\n",
    "    return torch.div((targs-volume.get_passive_z_range()[0]), volume.passive_size, rounding_mode='floor')-1  # -1 due to conversion to layer ID, instead of fill height"
   ]
  },
  {
   "cell_type": "code",
   "execution_count": 21,
   "id": "293a669f",
   "metadata": {},
   "outputs": [],
   "source": [
    "def get_losses(probs, class_targs, pred_start, test_id=None):\n",
    "    ints = torch.arange(pred_start, pred_start+probs.size(1))\n",
    "    mses = (class_targs-ints).abs()\n",
    "    mses = 100*mses/mses.sum(-1, keepdim=True)\n",
    "    losses = mses*probs\n",
    "    if test_id is not None:\n",
    "        print('targ ID', class_targs[test_id])\n",
    "        print('probs', probs[test_id])\n",
    "        print('ints', ints)\n",
    "        print('mses', mses[test_id])\n",
    "        print('int losses', losses[test_id])\n",
    "    return losses.sum(-1)"
   ]
  },
  {
   "cell_type": "code",
   "execution_count": 77,
   "id": "97193408",
   "metadata": {},
   "outputs": [],
   "source": [
    "ctargs = targ2class(targs, volume)"
   ]
  },
  {
   "cell_type": "code",
   "execution_count": 88,
   "id": "809a8674",
   "metadata": {},
   "outputs": [
    {
     "data": {
      "text/plain": [
       "(tensor(1.), tensor(8.))"
      ]
     },
     "execution_count": 88,
     "metadata": {},
     "output_type": "execute_result"
    }
   ],
   "source": [
    "ctargs.min(), ctargs.max()"
   ]
  },
  {
   "cell_type": "code",
   "execution_count": null,
   "id": "7a677b56",
   "metadata": {},
   "outputs": [],
   "source": []
  },
  {
   "cell_type": "code",
   "execution_count": 106,
   "id": "165abbe0",
   "metadata": {},
   "outputs": [
    {
     "data": {
      "text/plain": [
       "(tensor([1, 2, 3, 4, 5, 6, 7, 8, 9]),\n",
       " tensor([24.1379, 20.6897, 17.2414, 13.7931, 10.3448,  6.8966,  3.4483,  0.0000,\n",
       "          3.4483]))"
      ]
     },
     "execution_count": 106,
     "metadata": {},
     "output_type": "execute_result"
    }
   ],
   "source": [
    "pred_start = 1\n",
    "ints = torch.arange(pred_start, pred_start+9)\n",
    "mses = (8-ints).abs()\n",
    "mses = 100*mses/mses.sum(-1, keepdim=True)\n",
    "ints, mses"
   ]
  },
  {
   "cell_type": "code",
   "execution_count": 107,
   "id": "db345021",
   "metadata": {},
   "outputs": [
    {
     "data": {
      "text/plain": [
       "(tensor([1, 2, 3, 4, 5, 6, 7, 8, 9]),\n",
       " tensor([ 0.0000,  2.7778,  5.5556,  8.3333, 11.1111, 13.8889, 16.6667, 19.4444,\n",
       "         22.2222]))"
      ]
     },
     "execution_count": 107,
     "metadata": {},
     "output_type": "execute_result"
    }
   ],
   "source": [
    "ints = torch.arange(pred_start, pred_start+9)\n",
    "mses = (1-ints).abs()\n",
    "mses = 100*mses/mses.sum(-1, keepdim=True)\n",
    "ints, mses"
   ]
  },
  {
   "cell_type": "code",
   "execution_count": 22,
   "id": "252e750b",
   "metadata": {},
   "outputs": [],
   "source": [
    "def get_loss(probs, class_targs, pred_start, test_id=None):\n",
    "    return get_losses(probs, class_targs, pred_start, test_id).mean()"
   ]
  },
  {
   "cell_type": "code",
   "execution_count": 23,
   "id": "6514d392",
   "metadata": {},
   "outputs": [],
   "source": [
    "from sklearn.metrics import accuracy_score\n",
    "from prettytable import PrettyTable"
   ]
  },
  {
   "cell_type": "code",
   "execution_count": 24,
   "id": "e64ca5eb",
   "metadata": {},
   "outputs": [],
   "source": [
    "def score_data(logits, targs, pred_starts=(-1,0,1), volume=volume, test_id=None):\n",
    "    probs = get_probs(logits)\n",
    "    ctargs = targ2class(targs, volume=volume)\n",
    "    pt = PrettyTable(field_names=['Start', 'Int class loss', ' Acc', 'Fill MSE'])\n",
    "    for start in pred_starts:\n",
    "        preds = probs.argmax(-1, keepdim=True)+start\n",
    "        pred_fill = ((preds+1)*volume.passive_size)+volume.get_passive_z_range()[0]\n",
    "        true_fill = ((ctargs+1)*volume.passive_size)+volume.get_passive_z_range()[0]\n",
    "        pt.add_row([start,\n",
    "                    get_loss(probs, ctargs, start, test_id=test_id).item(),\n",
    "                    accuracy_score(ctargs, preds).item(),\n",
    "                    ((true_fill-pred_fill)**2).mean().item()])\n",
    "    print(pt)"
   ]
  },
  {
   "cell_type": "markdown",
   "id": "278d685d",
   "metadata": {},
   "source": [
    "# Tests"
   ]
  },
  {
   "cell_type": "code",
   "execution_count": 26,
   "id": "d8c8fde6",
   "metadata": {},
   "outputs": [],
   "source": [
    "test_id=0"
   ]
  },
  {
   "cell_type": "code",
   "execution_count": 26,
   "id": "e5a21d6c",
   "metadata": {
    "scrolled": false
   },
   "outputs": [
    {
     "name": "stdout",
     "output_type": "stream",
     "text": [
      "Zero-ordered target layer ID (including ladel bottom layer): tensor([7.])\n"
     ]
    },
    {
     "data": {
      "image/png": "[encoded data removed]",
      "text/plain": [
       "<Figure size 1024x576 with 9 Axes>"
      ]
     },
     "metadata": {},
     "output_type": "display_data"
    },
    {
     "name": "stdout",
     "output_type": "stream",
     "text": [
      "Zero-ordered target layer ID (including ladel bottom layer): tensor([7.])\n"
     ]
    },
    {
     "data": {
      "image/png": "[encoded data removed]",
      "text/plain": [
       "<Figure size 1024x576 with 9 Axes>"
      ]
     },
     "metadata": {},
     "output_type": "display_data"
    },
    {
     "name": "stdout",
     "output_type": "stream",
     "text": [
      "+-------+--------------------+-------+----------------------+\n",
      "| Start |   Int class loss   |   Acc |       Fill MSE       |\n",
      "+-------+--------------------+-------+----------------------+\n",
      "|   -1  | 11.101795196533203 | 0.155 | 0.04729999601840973  |\n",
      "|   0   | 11.103896141052246 |  0.15 | 0.061900001019239426 |\n",
      "|   1   | 11.107233047485352 | 0.165 |  0.0964999869465828  |\n",
      "+-------+--------------------+-------+----------------------+\n"
     ]
    }
   ],
   "source": [
    "# max-min\n",
    "x = get_layer_avgs(ladel_removed)\n",
    "plot_pred(x[test_id,:,None,None], targs[test_id])\n",
    "x = get_max_sub_mean(x)\n",
    "plot_pred(x[test_id,:,None,None], targs[test_id])\n",
    "score_data(x, targs)"
   ]
  },
  {
   "cell_type": "code",
   "execution_count": 27,
   "id": "30edf5b5",
   "metadata": {},
   "outputs": [
    {
     "name": "stdout",
     "output_type": "stream",
     "text": [
      "Zero-ordered target layer ID (including ladel bottom layer): tensor([7.])\n"
     ]
    },
    {
     "data": {
      "image/png": "[encoded data removed]",
      "text/plain": [
       "<Figure size 1024x576 with 9 Axes>"
      ]
     },
     "metadata": {},
     "output_type": "display_data"
    },
    {
     "name": "stdout",
     "output_type": "stream",
     "text": [
      "+-------+--------------------+-------+----------------------+\n",
      "| Start |   Int class loss   |   Acc |       Fill MSE       |\n",
      "+-------+--------------------+-------+----------------------+\n",
      "|   -1  | 10.454754829406738 | 0.125 | 0.05795000120997429  |\n",
      "|   0   | 10.44267463684082  |  0.16 | 0.052449993789196014 |\n",
      "|   1   | 10.528153419494629 |  0.15 |  0.0669499933719635  |\n",
      "+-------+--------------------+-------+----------------------+\n"
     ]
    }
   ],
   "source": [
    "# max/min\n",
    "x = get_layer_avgs(ladel_removed)\n",
    "x = get_max_div_mean(x)\n",
    "plot_pred(x[test_id,:,None,None], targs[test_id])\n",
    "score_data(x, targs)"
   ]
  },
  {
   "cell_type": "code",
   "execution_count": 28,
   "id": "51ed3776",
   "metadata": {},
   "outputs": [
    {
     "name": "stdout",
     "output_type": "stream",
     "text": [
      "Zero-ordered target layer ID (including ladel bottom layer): tensor([7.])\n"
     ]
    },
    {
     "data": {
      "image/png": "[encoded data removed]",
      "text/plain": [
       "<Figure size 1024x576 with 9 Axes>"
      ]
     },
     "metadata": {},
     "output_type": "display_data"
    },
    {
     "name": "stdout",
     "output_type": "stream",
     "text": [
      "Zero-ordered target layer ID (including ladel bottom layer): tensor([7.])\n"
     ]
    },
    {
     "data": {
      "image/png": "[encoded data removed]",
      "text/plain": [
       "<Figure size 1024x576 with 9 Axes>"
      ]
     },
     "metadata": {},
     "output_type": "display_data"
    },
    {
     "name": "stdout",
     "output_type": "stream",
     "text": [
      "+-------+--------------------+-------+---------------------+\n",
      "| Start |   Int class loss   |   Acc |       Fill MSE      |\n",
      "+-------+--------------------+-------+---------------------+\n",
      "|   -1  | 11.101436614990234 | 0.145 | 0.04534999281167984 |\n",
      "|   0   | 11.102633476257324 |  0.16 | 0.05144999921321869 |\n",
      "|   1   | 11.104903221130371 | 0.195 |  0.0775499939918518 |\n",
      "+-------+--------------------+-------+---------------------+\n"
     ]
    }
   ],
   "source": [
    "# pre-avg 3d max-min\n",
    "x = get_3d_avg(ladel_removed)\n",
    "plot_pred(x[test_id], targs[test_id])\n",
    "x = get_layer_avgs(x)\n",
    "x = get_max_sub_mean(x)\n",
    "plot_pred(x[test_id,:,None,None], targs[test_id])\n",
    "score_data(x, targs)"
   ]
  },
  {
   "cell_type": "code",
   "execution_count": 29,
   "id": "a93424f3",
   "metadata": {},
   "outputs": [
    {
     "name": "stdout",
     "output_type": "stream",
     "text": [
      "Zero-ordered target layer ID (including ladel bottom layer): tensor([7.])\n"
     ]
    },
    {
     "data": {
      "image/png": "[encoded data removed]",
      "text/plain": [
       "<Figure size 1024x576 with 9 Axes>"
      ]
     },
     "metadata": {},
     "output_type": "display_data"
    },
    {
     "name": "stdout",
     "output_type": "stream",
     "text": [
      "Zero-ordered target layer ID (including ladel bottom layer): tensor([7.])\n"
     ]
    },
    {
     "data": {
      "image/png": "[encoded data removed]",
      "text/plain": [
       "<Figure size 1024x576 with 9 Axes>"
      ]
     },
     "metadata": {},
     "output_type": "display_data"
    },
    {
     "name": "stdout",
     "output_type": "stream",
     "text": [
      "+-------+--------------------+-------+----------------------+\n",
      "| Start |   Int class loss   |   Acc |       Fill MSE       |\n",
      "+-------+--------------------+-------+----------------------+\n",
      "|   -1  | 10.411490440368652 |  0.19 | 0.05354999378323555  |\n",
      "|   0   | 10.36600112915039  | 0.145 | 0.043449997901916504 |\n",
      "|   1   | 10.404990196228027 |  0.14 | 0.053349994122982025 |\n",
      "+-------+--------------------+-------+----------------------+\n"
     ]
    }
   ],
   "source": [
    "# pre-avg 3d max/min\n",
    "x = get_3d_avg(ladel_removed)\n",
    "plot_pred(x[test_id], targs[test_id])\n",
    "x = get_layer_avgs(x)\n",
    "x = get_max_div_mean(x)\n",
    "plot_pred(x[test_id,:,None,None], targs[test_id])\n",
    "score_data(x, targs)"
   ]
  },
  {
   "cell_type": "code",
   "execution_count": 30,
   "id": "eb59509b",
   "metadata": {},
   "outputs": [
    {
     "name": "stdout",
     "output_type": "stream",
     "text": [
      "Zero-ordered target layer ID (including ladel bottom layer): tensor([7.])\n"
     ]
    },
    {
     "data": {
      "image/png": "[encoded data removed]",
      "text/plain": [
       "<Figure size 1024x576 with 9 Axes>"
      ]
     },
     "metadata": {},
     "output_type": "display_data"
    },
    {
     "name": "stdout",
     "output_type": "stream",
     "text": [
      "Zero-ordered target layer ID (including ladel bottom layer): tensor([7.])\n"
     ]
    },
    {
     "data": {
      "image/png": "[encoded data removed]",
      "text/plain": [
       "<Figure size 1024x576 with 9 Axes>"
      ]
     },
     "metadata": {},
     "output_type": "display_data"
    },
    {
     "name": "stdout",
     "output_type": "stream",
     "text": [
      "+-------+--------------------+-------+---------------------+\n",
      "| Start |   Int class loss   |   Acc |       Fill MSE      |\n",
      "+-------+--------------------+-------+---------------------+\n",
      "|   -1  | 11.101888656616211 | 0.135 | 0.04784999415278435 |\n",
      "|   0   | 11.103514671325684 | 0.145 | 0.06094999238848686 |\n",
      "|   1   | 11.10624885559082  |  0.2  | 0.09404999017715454 |\n",
      "+-------+--------------------+-------+---------------------+\n"
     ]
    }
   ],
   "source": [
    "# pre-gaiss 3d max-min\n",
    "x = get_3d_gauss(ladel_removed)\n",
    "plot_pred(x[test_id], targs[test_id])\n",
    "x = get_layer_avgs(x)\n",
    "x = get_max_sub_mean(x)\n",
    "plot_pred(x[test_id,:,None,None], targs[test_id])\n",
    "score_data(x, targs)"
   ]
  },
  {
   "cell_type": "code",
   "execution_count": 31,
   "id": "7dabe4d9",
   "metadata": {},
   "outputs": [
    {
     "name": "stdout",
     "output_type": "stream",
     "text": [
      "Zero-ordered target layer ID (including ladel bottom layer): tensor([7.])\n"
     ]
    },
    {
     "data": {
      "image/png": "[encoded data removed]",
      "text/plain": [
       "<Figure size 1024x576 with 9 Axes>"
      ]
     },
     "metadata": {},
     "output_type": "display_data"
    },
    {
     "name": "stdout",
     "output_type": "stream",
     "text": [
      "Zero-ordered target layer ID (including ladel bottom layer): tensor([7.])\n"
     ]
    },
    {
     "data": {
      "image/png": "[encoded data removed]",
      "text/plain": [
       "<Figure size 1024x576 with 9 Axes>"
      ]
     },
     "metadata": {},
     "output_type": "display_data"
    },
    {
     "name": "stdout",
     "output_type": "stream",
     "text": [
      "+-------+--------------------+------+---------------------+\n",
      "| Start |   Int class loss   |  Acc |       Fill MSE      |\n",
      "+-------+--------------------+------+---------------------+\n",
      "|   -1  | 10.446338653564453 | 0.13 | 0.05899999290704727 |\n",
      "|   0   | 10.425281524658203 | 0.16 | 0.05259999260306358 |\n",
      "|   1   | 10.490924835205078 | 0.15 | 0.06619999557733536 |\n",
      "+-------+--------------------+------+---------------------+\n"
     ]
    }
   ],
   "source": [
    "# pre-gauss 3d max/min\n",
    "x = get_3d_gauss(ladel_removed)\n",
    "plot_pred(x[test_id], targs[test_id])\n",
    "x = get_layer_avgs(x)\n",
    "x = get_max_div_mean(x)\n",
    "plot_pred(x[test_id,:,None,None], targs[test_id])\n",
    "score_data(x, targs)"
   ]
  },
  {
   "cell_type": "code",
   "execution_count": 32,
   "id": "f64fdbb0",
   "metadata": {},
   "outputs": [
    {
     "name": "stdout",
     "output_type": "stream",
     "text": [
      "Zero-ordered target layer ID (including ladel bottom layer): tensor([7.])\n"
     ]
    },
    {
     "data": {
      "image/png": "[encoded data removed]",
      "text/plain": [
       "<Figure size 1024x576 with 9 Axes>"
      ]
     },
     "metadata": {},
     "output_type": "display_data"
    },
    {
     "name": "stdout",
     "output_type": "stream",
     "text": [
      "+-------+--------------------+-------+----------------------+\n",
      "| Start |   Int class loss   |   Acc |       Fill MSE       |\n",
      "+-------+--------------------+-------+----------------------+\n",
      "|   -1  | 11.101860046386719 |  0.14 | 0.046699997037649155 |\n",
      "|   0   | 11.103052139282227 | 0.155 | 0.05310000106692314  |\n",
      "|   1   | 11.105259895324707 | 0.195 |  0.0794999897480011  |\n",
      "+-------+--------------------+-------+----------------------+\n"
     ]
    }
   ],
   "source": [
    "# avg 1d max-min\n",
    "x = get_layer_avgs(ladel_removed)\n",
    "x = get_1d_avg(x)\n",
    "x = get_max_sub_mean(x)\n",
    "plot_pred(x[test_id,:,None,None], targs[test_id])\n",
    "score_data(x, targs)"
   ]
  },
  {
   "cell_type": "code",
   "execution_count": 33,
   "id": "d39e13dc",
   "metadata": {},
   "outputs": [
    {
     "name": "stdout",
     "output_type": "stream",
     "text": [
      "Zero-ordered target layer ID (including ladel bottom layer): tensor([7.])\n"
     ]
    },
    {
     "data": {
      "image/png": "[encoded data removed]",
      "text/plain": [
       "<Figure size 1024x576 with 9 Axes>"
      ]
     },
     "metadata": {},
     "output_type": "display_data"
    },
    {
     "name": "stdout",
     "output_type": "stream",
     "text": [
      "+-------+--------------------+-------+----------------------+\n",
      "| Start |   Int class loss   |   Acc |       Fill MSE       |\n",
      "+-------+--------------------+-------+----------------------+\n",
      "|   -1  | 10.42704963684082  | 0.175 | 0.053099993616342545 |\n",
      "|   0   | 10.388885498046875 |  0.17 | 0.043299995362758636 |\n",
      "|   1   |  10.4319429397583  |  0.13 | 0.053499992936849594 |\n",
      "+-------+--------------------+-------+----------------------+\n"
     ]
    }
   ],
   "source": [
    "# avg 1d max/min\n",
    "x = get_layer_avgs(ladel_removed)\n",
    "x = get_1d_avg(x)\n",
    "x = get_max_div_mean(x)\n",
    "plot_pred(x[test_id,:,None,None], targs[test_id])\n",
    "score_data(x, targs)"
   ]
  },
  {
   "cell_type": "code",
   "execution_count": 94,
   "id": "6f216b6d",
   "metadata": {},
   "outputs": [
    {
     "name": "stdout",
     "output_type": "stream",
     "text": [
      "Zero-ordered target layer ID (including ladel bottom layer): tensor([5.])\n"
     ]
    },
    {
     "data": {
      "image/png": "[encoded data removed]",
      "text/plain": [
       "<Figure size 1024x576 with 9 Axes>"
      ]
     },
     "metadata": {},
     "output_type": "display_data"
    },
    {
     "name": "stdout",
     "output_type": "stream",
     "text": [
      "+-------+-------------------+-------+----------------------+\n",
      "| Start |   Int class loss  |   Acc |       Fill MSE       |\n",
      "+-------+-------------------+-------+----------------------+\n",
      "|   -1  | 6.697572231292725 | 0.175 | 0.053099993616342545 |\n",
      "|   0   | 6.459840297698975 |  0.17 | 0.043299995362758636 |\n",
      "|   1   | 6.805875778198242 |  0.13 | 0.053499992936849594 |\n",
      "+-------+-------------------+-------+----------------------+\n"
     ]
    }
   ],
   "source": [
    "# avg 1d max/min\n",
    "x = get_layer_avgs(ladel_removed)\n",
    "x = get_1d_avg(x)\n",
    "x = get_max_div_mean(x)*1e4\n",
    "plot_pred(x[test_id,:,None,None], targs[test_id])\n",
    "score_data(x, targs)"
   ]
  },
  {
   "cell_type": "code",
   "execution_count": 34,
   "id": "3d60b8a6",
   "metadata": {},
   "outputs": [
    {
     "name": "stdout",
     "output_type": "stream",
     "text": [
      "Zero-ordered target layer ID (including ladel bottom layer): tensor([7.])\n"
     ]
    },
    {
     "data": {
      "image/png": "[encoded data removed]",
      "text/plain": [
       "<Figure size 1024x576 with 9 Axes>"
      ]
     },
     "metadata": {},
     "output_type": "display_data"
    },
    {
     "name": "stdout",
     "output_type": "stream",
     "text": [
      "+-------+--------------------+-------+---------------------+\n",
      "| Start |   Int class loss   |   Acc |       Fill MSE      |\n",
      "+-------+--------------------+-------+---------------------+\n",
      "|   -1  | 11.101888656616211 | 0.135 | 0.04784999415278435 |\n",
      "|   0   | 11.103514671325684 | 0.145 | 0.06094999238848686 |\n",
      "|   1   | 11.10624885559082  |  0.2  | 0.09404999017715454 |\n",
      "+-------+--------------------+-------+---------------------+\n"
     ]
    }
   ],
   "source": [
    "# gaussg 1d max-min\n",
    "x = get_layer_avgs(ladel_removed)\n",
    "x = get_1d_gauss(x)\n",
    "x = get_max_sub_mean(x)\n",
    "plot_pred(x[test_id,:,None,None], targs[test_id])\n",
    "score_data(x, targs)"
   ]
  },
  {
   "cell_type": "code",
   "execution_count": 35,
   "id": "d52b253f",
   "metadata": {},
   "outputs": [
    {
     "name": "stdout",
     "output_type": "stream",
     "text": [
      "Zero-ordered target layer ID (including ladel bottom layer): tensor([7.])\n"
     ]
    },
    {
     "data": {
      "image/png": "[encoded data removed]",
      "text/plain": [
       "<Figure size 1024x576 with 9 Axes>"
      ]
     },
     "metadata": {},
     "output_type": "display_data"
    },
    {
     "name": "stdout",
     "output_type": "stream",
     "text": [
      "+-------+--------------------+------+---------------------+\n",
      "| Start |   Int class loss   |  Acc |       Fill MSE      |\n",
      "+-------+--------------------+------+---------------------+\n",
      "|   -1  | 10.446338653564453 | 0.13 | 0.05899999290704727 |\n",
      "|   0   | 10.425281524658203 | 0.16 | 0.05259999260306358 |\n",
      "|   1   | 10.490924835205078 | 0.15 | 0.06619999557733536 |\n",
      "+-------+--------------------+------+---------------------+\n"
     ]
    }
   ],
   "source": [
    "# gauss 1d max/min\n",
    "x = get_layer_avgs(ladel_removed)\n",
    "x = get_1d_gauss(x)\n",
    "x = get_max_div_mean(x)\n",
    "plot_pred(x[test_id,:,None,None], targs[test_id])\n",
    "score_data(x, targs)"
   ]
  },
  {
   "cell_type": "code",
   "execution_count": 36,
   "id": "f5d727ba",
   "metadata": {},
   "outputs": [
    {
     "name": "stdout",
     "output_type": "stream",
     "text": [
      "Zero-ordered target layer ID (including ladel bottom layer): tensor([7.])\n"
     ]
    },
    {
     "data": {
      "image/png": "[encoded data removed]",
      "text/plain": [
       "<Figure size 1024x576 with 9 Axes>"
      ]
     },
     "metadata": {},
     "output_type": "display_data"
    },
    {
     "name": "stdout",
     "output_type": "stream",
     "text": [
      "Zero-ordered target layer ID (including ladel bottom layer): tensor([7.])\n"
     ]
    },
    {
     "data": {
      "image/png": "[encoded data removed]",
      "text/plain": [
       "<Figure size 1024x576 with 9 Axes>"
      ]
     },
     "metadata": {},
     "output_type": "display_data"
    },
    {
     "name": "stdout",
     "output_type": "stream",
     "text": [
      "+-------+--------------------+-------+---------------------+\n",
      "| Start |   Int class loss   |   Acc |       Fill MSE      |\n",
      "+-------+--------------------+-------+---------------------+\n",
      "|   -1  | 11.102094650268555 | 0.155 | 0.04404999688267708 |\n",
      "|   0   | 11.102987289428711 | 0.155 | 0.04715000092983246 |\n",
      "|   1   | 11.104837417602539 |  0.18 | 0.07024998962879181 |\n",
      "+-------+--------------------+-------+---------------------+\n"
     ]
    }
   ],
   "source": [
    "# pre-avg 3d avg 1d max-min\n",
    "x = get_3d_avg(ladel_removed)\n",
    "plot_pred(x[test_id], targs[test_id])\n",
    "x = get_layer_avgs(x)\n",
    "x = get_1d_avg(x)\n",
    "x = get_max_sub_mean(x)\n",
    "plot_pred(x[test_id,:,None,None], targs[test_id])\n",
    "score_data(x, targs)"
   ]
  },
  {
   "cell_type": "code",
   "execution_count": 37,
   "id": "eb183c88",
   "metadata": {},
   "outputs": [
    {
     "name": "stdout",
     "output_type": "stream",
     "text": [
      "Zero-ordered target layer ID (including ladel bottom layer): tensor([5.])\n"
     ]
    },
    {
     "data": {
      "image/png": "[encoded data removed]",
      "text/plain": [
       "<Figure size 1024x576 with 9 Axes>"
      ]
     },
     "metadata": {},
     "output_type": "display_data"
    },
    {
     "name": "stdout",
     "output_type": "stream",
     "text": [
      "Zero-ordered target layer ID (including ladel bottom layer): tensor([7.])\n"
     ]
    },
    {
     "data": {
      "image/png": "[encoded data removed]",
      "text/plain": [
       "<Figure size 1024x576 with 9 Axes>"
      ]
     },
     "metadata": {},
     "output_type": "display_data"
    },
    {
     "name": "stdout",
     "output_type": "stream",
     "text": [
      "Zero-ordered target layer ID (including ladel bottom layer): tensor([7.])\n"
     ]
    },
    {
     "data": {
      "image/png": "[encoded data removed]",
      "text/plain": [
       "<Figure size 1024x576 with 9 Axes>"
      ]
     },
     "metadata": {},
     "output_type": "display_data"
    },
    {
     "name": "stdout",
     "output_type": "stream",
     "text": [
      "Zero-ordered target layer ID (including ladel bottom layer): tensor([7.])\n"
     ]
    },
    {
     "data": {
      "image/png": "[encoded data removed]",
      "text/plain": [
       "<Figure size 1024x576 with 9 Axes>"
      ]
     },
     "metadata": {},
     "output_type": "display_data"
    },
    {
     "name": "stdout",
     "output_type": "stream",
     "text": [
      "Zero-ordered target layer ID (including ladel bottom layer): tensor([7.])\n"
     ]
    },
    {
     "data": {
      "image/png": "[encoded data removed]",
      "text/plain": [
       "<Figure size 1024x576 with 9 Axes>"
      ]
     },
     "metadata": {},
     "output_type": "display_data"
    },
    {
     "name": "stdout",
     "output_type": "stream",
     "text": [
      "+-------+--------------------+-------+----------------------+\n",
      "| Start |   Int class loss   |   Acc |       Fill MSE       |\n",
      "+-------+--------------------+-------+----------------------+\n",
      "|   -1  | 10.468337059020996 |  0.13 | 0.056249991059303284 |\n",
      "|   0   | 10.419475555419922 | 0.165 | 0.04454999417066574  |\n",
      "|   1   | 10.441932678222656 | 0.155 | 0.05284999683499336  |\n",
      "+-------+--------------------+-------+----------------------+\n"
     ]
    }
   ],
   "source": [
    "# pre-avg 3d avg 1d max/min\n",
    "plot_pred(ladel_removed[0], targs[0])\n",
    "x = get_3d_avg(ladel_removed)\n",
    "plot_pred(x[test_id], targs[test_id])\n",
    "x = get_layer_avgs(x)\n",
    "plot_pred(x[test_id,:,None,None], targs[test_id])\n",
    "x = get_1d_avg(x)\n",
    "plot_pred(x[test_id,:,None,None], targs[test_id])\n",
    "x = get_max_div_mean(x)\n",
    "plot_pred(x[test_id,:,None,None], targs[test_id])\n",
    "score_data(x, targs)"
   ]
  },
  {
   "cell_type": "markdown",
   "id": "5ba9d8cc",
   "metadata": {},
   "source": [
    "## Ridge -1,x,-1"
   ]
  },
  {
   "cell_type": "code",
   "execution_count": 47,
   "id": "fd7a79b5",
   "metadata": {},
   "outputs": [
    {
     "name": "stdout",
     "output_type": "stream",
     "text": [
      "Zero-ordered target layer ID (including ladel bottom layer): tensor([5.])\n"
     ]
    },
    {
     "data": {
      "image/png": "[encoded data removed]",
      "text/plain": [
       "<Figure size 1024x576 with 9 Axes>"
      ]
     },
     "metadata": {},
     "output_type": "display_data"
    },
    {
     "name": "stdout",
     "output_type": "stream",
     "text": [
      "Zero-ordered target layer ID (including ladel bottom layer): tensor([5.])\n"
     ]
    },
    {
     "data": {
      "image/png": "[encoded data removed]",
      "text/plain": [
       "<Figure size 1024x576 with 9 Axes>"
      ]
     },
     "metadata": {},
     "output_type": "display_data"
    },
    {
     "name": "stdout",
     "output_type": "stream",
     "text": [
      "+-------+--------------------+------+---------------------+\n",
      "| Start |   Int class loss   |  Acc |       Fill MSE      |\n",
      "+-------+--------------------+------+---------------------+\n",
      "|   -1  | 11.110860824584961 | 0.1  | 0.09219998121261597 |\n",
      "|   0   | 11.108904838562012 | 0.15 |  0.0851999968290329 |\n",
      "|   1   | 11.10706901550293  | 0.12 |  0.0981999859213829 |\n",
      "+-------+--------------------+------+---------------------+\n"
     ]
    }
   ],
   "source": [
    "# Ridge\n",
    "x = get_layer_avgs(ladel_removed)\n",
    "plot_pred(x[test_id,:,None,None], targs[test_id])\n",
    "x = -get_edge_det(x, [-1,2,-1])\n",
    "plot_pred(x[test_id,:,None,None], targs[test_id])\n",
    "score_data(x, targs)"
   ]
  },
  {
   "cell_type": "code",
   "execution_count": 58,
   "id": "3ea6b453",
   "metadata": {},
   "outputs": [
    {
     "name": "stdout",
     "output_type": "stream",
     "text": [
      "Zero-ordered target layer ID (including ladel bottom layer): tensor([5.])\n"
     ]
    },
    {
     "data": {
      "image/png": "[encoded data removed]",
      "text/plain": [
       "<Figure size 1024x576 with 9 Axes>"
      ]
     },
     "metadata": {},
     "output_type": "display_data"
    },
    {
     "name": "stdout",
     "output_type": "stream",
     "text": [
      "Zero-ordered target layer ID (including ladel bottom layer): tensor([5.])\n"
     ]
    },
    {
     "data": {
      "image/png": "[encoded data removed]",
      "text/plain": [
       "<Figure size 1024x576 with 9 Axes>"
      ]
     },
     "metadata": {},
     "output_type": "display_data"
    },
    {
     "name": "stdout",
     "output_type": "stream",
     "text": [
      "Zero-ordered target layer ID (including ladel bottom layer): tensor([5.])\n"
     ]
    },
    {
     "data": {
      "image/png": "[encoded data removed]",
      "text/plain": [
       "<Figure size 1024x576 with 9 Axes>"
      ]
     },
     "metadata": {},
     "output_type": "display_data"
    },
    {
     "name": "stdout",
     "output_type": "stream",
     "text": [
      "+-------+--------------------+-------+---------------------+\n",
      "| Start |   Int class loss   |   Acc |       Fill MSE      |\n",
      "+-------+--------------------+-------+---------------------+\n",
      "|   -1  | 11.111414909362793 | 0.075 | 0.10984999686479568 |\n",
      "|   0   | 11.109933853149414 |  0.13 |  0.0807499960064888 |\n",
      "|   1   | 11.10836410522461  | 0.145 | 0.07164999842643738 |\n",
      "+-------+--------------------+-------+---------------------+\n"
     ]
    }
   ],
   "source": [
    "# 1d avg Ridge\n",
    "x = get_layer_avgs(ladel_removed)\n",
    "plot_pred(x[test_id,:,None,None], targs[test_id])\n",
    "x = get_1d_avg(x)\n",
    "plot_pred(x[test_id,:,None,None], targs[test_id])\n",
    "x = -get_edge_det(x, [-1,2,-1])\n",
    "plot_pred(x[test_id,:,None,None], targs[test_id])\n",
    "score_data(x, targs)"
   ]
  },
  {
   "cell_type": "code",
   "execution_count": 40,
   "id": "7edf648e",
   "metadata": {},
   "outputs": [
    {
     "name": "stdout",
     "output_type": "stream",
     "text": [
      "Zero-ordered target layer ID (including ladel bottom layer): tensor([7.])\n"
     ]
    },
    {
     "data": {
      "image/png": "[encoded data removed]",
      "text/plain": [
       "<Figure size 1024x576 with 9 Axes>"
      ]
     },
     "metadata": {},
     "output_type": "display_data"
    },
    {
     "name": "stdout",
     "output_type": "stream",
     "text": [
      "Zero-ordered target layer ID (including ladel bottom layer): tensor([7.])\n"
     ]
    },
    {
     "data": {
      "image/png": "[encoded data removed]",
      "text/plain": [
       "<Figure size 1024x576 with 9 Axes>"
      ]
     },
     "metadata": {},
     "output_type": "display_data"
    },
    {
     "name": "stdout",
     "output_type": "stream",
     "text": [
      "Zero-ordered target layer ID (including ladel bottom layer): tensor([7.])\n"
     ]
    },
    {
     "data": {
      "image/png": "[encoded data removed]",
      "text/plain": [
       "<Figure size 1024x576 with 9 Axes>"
      ]
     },
     "metadata": {},
     "output_type": "display_data"
    },
    {
     "name": "stdout",
     "output_type": "stream",
     "text": [
      "+-------+--------------------+------+---------------------+\n",
      "| Start |   Int class loss   |  Acc |       Fill MSE      |\n",
      "+-------+--------------------+------+---------------------+\n",
      "|   -1  | 11.111469268798828 | 0.08 | 0.10539998859167099 |\n",
      "|   0   | 11.109918594360352 | 0.13 | 0.07719999551773071 |\n",
      "|   1   | 11.10827350616455  | 0.13 |  0.0689999908208847 |\n",
      "+-------+--------------------+------+---------------------+\n"
     ]
    }
   ],
   "source": [
    "# 3d avg Ridge\n",
    "x = get_3d_avg(ladel_removed)\n",
    "plot_pred(x[test_id], targs[test_id])\n",
    "x = get_layer_avgs(x)\n",
    "plot_pred(x[test_id,:,None,None], targs[test_id])\n",
    "x = -get_edge_det(x, [-1,2,-1])\n",
    "plot_pred(x[test_id,:,None,None], targs[test_id])\n",
    "score_data(x, targs)"
   ]
  },
  {
   "cell_type": "code",
   "execution_count": 41,
   "id": "74b1abc7",
   "metadata": {},
   "outputs": [
    {
     "name": "stdout",
     "output_type": "stream",
     "text": [
      "Zero-ordered target layer ID (including ladel bottom layer): tensor([7.])\n"
     ]
    },
    {
     "data": {
      "image/png": "[encoded data removed]",
      "text/plain": [
       "<Figure size 1024x576 with 9 Axes>"
      ]
     },
     "metadata": {},
     "output_type": "display_data"
    },
    {
     "name": "stdout",
     "output_type": "stream",
     "text": [
      "Zero-ordered target layer ID (including ladel bottom layer): tensor([7.])\n"
     ]
    },
    {
     "data": {
      "image/png": "[encoded data removed]",
      "text/plain": [
       "<Figure size 1024x576 with 9 Axes>"
      ]
     },
     "metadata": {},
     "output_type": "display_data"
    },
    {
     "name": "stdout",
     "output_type": "stream",
     "text": [
      "Zero-ordered target layer ID (including ladel bottom layer): tensor([7.])\n"
     ]
    },
    {
     "data": {
      "image/png": "[encoded data removed]",
      "text/plain": [
       "<Figure size 1024x576 with 9 Axes>"
      ]
     },
     "metadata": {},
     "output_type": "display_data"
    },
    {
     "name": "stdout",
     "output_type": "stream",
     "text": [
      "Zero-ordered target layer ID (including ladel bottom layer): tensor([7.])\n"
     ]
    },
    {
     "data": {
      "image/png": "[encoded data removed]",
      "text/plain": [
       "<Figure size 1024x576 with 9 Axes>"
      ]
     },
     "metadata": {},
     "output_type": "display_data"
    },
    {
     "name": "stdout",
     "output_type": "stream",
     "text": [
      "+-------+--------------------+-------+----------------------+\n",
      "| Start |   Int class loss   |   Acc |       Fill MSE       |\n",
      "+-------+--------------------+-------+----------------------+\n",
      "|   -1  | 11.111483573913574 | 0.075 |  0.1148500069975853  |\n",
      "|   0   | 11.110079765319824 |  0.13 | 0.07794999331235886  |\n",
      "|   1   | 11.108616828918457 |  0.13 | 0.061049994081258774 |\n",
      "+-------+--------------------+-------+----------------------+\n"
     ]
    }
   ],
   "source": [
    "# 3d avg 1d avg Ridge\n",
    "x = get_3d_gauss(ladel_removed)\n",
    "plot_pred(x[test_id], targs[test_id])\n",
    "x = get_layer_avgs(x)\n",
    "plot_pred(x[test_id,:,None,None], targs[test_id])\n",
    "x = get_1d_avg(x)\n",
    "plot_pred(x[test_id,:,None,None], targs[test_id])\n",
    "x = -get_edge_det(x, [-1,2,-1])\n",
    "plot_pred(x[test_id,:,None,None], targs[test_id])\n",
    "score_data(x, targs)"
   ]
  },
  {
   "cell_type": "code",
   "execution_count": 48,
   "id": "189557b6",
   "metadata": {},
   "outputs": [
    {
     "name": "stdout",
     "output_type": "stream",
     "text": [
      "Zero-ordered target layer ID (including ladel bottom layer): tensor([5.])\n"
     ]
    },
    {
     "data": {
      "image/png": "[encoded data removed]",
      "text/plain": [
       "<Figure size 1024x576 with 9 Axes>"
      ]
     },
     "metadata": {},
     "output_type": "display_data"
    },
    {
     "name": "stdout",
     "output_type": "stream",
     "text": [
      "Zero-ordered target layer ID (including ladel bottom layer): tensor([5.])\n"
     ]
    },
    {
     "data": {
      "image/png": "[encoded data removed]",
      "text/plain": [
       "<Figure size 1024x576 with 9 Axes>"
      ]
     },
     "metadata": {},
     "output_type": "display_data"
    },
    {
     "name": "stdout",
     "output_type": "stream",
     "text": [
      "Zero-ordered target layer ID (including ladel bottom layer): tensor([5.])\n"
     ]
    },
    {
     "data": {
      "image/png": "[encoded data removed]",
      "text/plain": [
       "<Figure size 1024x576 with 9 Axes>"
      ]
     },
     "metadata": {},
     "output_type": "display_data"
    },
    {
     "name": "stdout",
     "output_type": "stream",
     "text": [
      "+-------+--------------------+-------+---------------------+\n",
      "| Start |   Int class loss   |   Acc |       Fill MSE      |\n",
      "+-------+--------------------+-------+---------------------+\n",
      "|   -1  | 11.090719223022461 |  0.16 | 0.04704999551177025 |\n",
      "|   0   | 11.097352027893066 | 0.155 | 0.06214999780058861 |\n",
      "|   1   | 11.10669231414795  | 0.165 | 0.09724999219179153 |\n",
      "+-------+--------------------+-------+---------------------+\n"
     ]
    }
   ],
   "source": [
    "# Ridge max-min\n",
    "x = get_layer_avgs(ladel_removed)\n",
    "plot_pred(x[test_id,:,None,None], targs[test_id])\n",
    "x = get_edge_det(x, [-1,4,-1])\n",
    "plot_pred(x[test_id,:,None,None], targs[test_id])\n",
    "x = get_max_sub_mean(x)\n",
    "plot_pred(x[test_id,:,None,None], targs[test_id])\n",
    "score_data(x, targs)"
   ]
  },
  {
   "cell_type": "code",
   "execution_count": 49,
   "id": "7d144fd0",
   "metadata": {},
   "outputs": [
    {
     "name": "stdout",
     "output_type": "stream",
     "text": [
      "Zero-ordered target layer ID (including ladel bottom layer): tensor([5.])\n"
     ]
    },
    {
     "data": {
      "image/png": "[encoded data removed]",
      "text/plain": [
       "<Figure size 1024x576 with 9 Axes>"
      ]
     },
     "metadata": {},
     "output_type": "display_data"
    },
    {
     "name": "stdout",
     "output_type": "stream",
     "text": [
      "Zero-ordered target layer ID (including ladel bottom layer): tensor([5.])\n"
     ]
    },
    {
     "data": {
      "image/png": "[encoded data removed]",
      "text/plain": [
       "<Figure size 1024x576 with 9 Axes>"
      ]
     },
     "metadata": {},
     "output_type": "display_data"
    },
    {
     "name": "stdout",
     "output_type": "stream",
     "text": [
      "Zero-ordered target layer ID (including ladel bottom layer): tensor([5.])\n"
     ]
    },
    {
     "data": {
      "image/png": "[encoded data removed]",
      "text/plain": [
       "<Figure size 1024x576 with 9 Axes>"
      ]
     },
     "metadata": {},
     "output_type": "display_data"
    },
    {
     "name": "stdout",
     "output_type": "stream",
     "text": [
      "Zero-ordered target layer ID (including ladel bottom layer): tensor([5.])\n"
     ]
    },
    {
     "data": {
      "image/png": "[encoded data removed]",
      "text/plain": [
       "<Figure size 1024x576 with 9 Axes>"
      ]
     },
     "metadata": {},
     "output_type": "display_data"
    },
    {
     "name": "stdout",
     "output_type": "stream",
     "text": [
      "+-------+--------------------+-------+----------------------+\n",
      "| Start |   Int class loss   |   Acc |       Fill MSE       |\n",
      "+-------+--------------------+-------+----------------------+\n",
      "|   -1  |   11.09130859375   | 0.165 | 0.048899997025728226 |\n",
      "|   0   | 11.094278335571289 |  0.13 | 0.05849999934434891  |\n",
      "|   1   | 11.09939193725586  |  0.21 | 0.08809999376535416  |\n",
      "+-------+--------------------+-------+----------------------+\n"
     ]
    }
   ],
   "source": [
    "# 1d avg Ridge max-min\n",
    "x = get_layer_avgs(ladel_removed)\n",
    "plot_pred(x[test_id,:,None,None], targs[test_id])\n",
    "x = get_1d_avg(x)\n",
    "plot_pred(x[test_id,:,None,None], targs[test_id])\n",
    "x = -get_edge_det(x, [-1,4,-1])\n",
    "plot_pred(x[test_id,:,None,None], targs[test_id])\n",
    "x = get_max_sub_mean(x)\n",
    "plot_pred(x[test_id,:,None,None], targs[test_id])\n",
    "score_data(x, targs)"
   ]
  },
  {
   "cell_type": "code",
   "execution_count": 50,
   "id": "fdf502a4",
   "metadata": {},
   "outputs": [
    {
     "name": "stdout",
     "output_type": "stream",
     "text": [
      "Zero-ordered target layer ID (including ladel bottom layer): tensor([5.])\n"
     ]
    },
    {
     "data": {
      "image/png": "[encoded data removed]",
      "text/plain": [
       "<Figure size 1024x576 with 9 Axes>"
      ]
     },
     "metadata": {},
     "output_type": "display_data"
    },
    {
     "name": "stdout",
     "output_type": "stream",
     "text": [
      "Zero-ordered target layer ID (including ladel bottom layer): tensor([5.])\n"
     ]
    },
    {
     "data": {
      "image/png": "[encoded data removed]",
      "text/plain": [
       "<Figure size 1024x576 with 9 Axes>"
      ]
     },
     "metadata": {},
     "output_type": "display_data"
    },
    {
     "name": "stdout",
     "output_type": "stream",
     "text": [
      "Zero-ordered target layer ID (including ladel bottom layer): tensor([5.])\n"
     ]
    },
    {
     "data": {
      "image/png": "[encoded data removed]",
      "text/plain": [
       "<Figure size 1024x576 with 9 Axes>"
      ]
     },
     "metadata": {},
     "output_type": "display_data"
    },
    {
     "name": "stdout",
     "output_type": "stream",
     "text": [
      "Zero-ordered target layer ID (including ladel bottom layer): tensor([5.])\n"
     ]
    },
    {
     "data": {
      "image/png": "[encoded data removed]",
      "text/plain": [
       "<Figure size 1024x576 with 9 Axes>"
      ]
     },
     "metadata": {},
     "output_type": "display_data"
    },
    {
     "name": "stdout",
     "output_type": "stream",
     "text": [
      "+-------+--------------------+-------+---------------------+\n",
      "| Start |   Int class loss   |   Acc |       Fill MSE      |\n",
      "+-------+--------------------+-------+---------------------+\n",
      "|   -1  | 11.090367317199707 |  0.16 |  0.0478999949991703 |\n",
      "|   0   | 11.093358993530273 | 0.125 | 0.05629999563097954 |\n",
      "|   1   |   11.0986328125    |  0.21 | 0.08469999581575394 |\n",
      "+-------+--------------------+-------+---------------------+\n"
     ]
    }
   ],
   "source": [
    "# 3d avg Ridge max-min\n",
    "x = get_3d_avg(ladel_removed)\n",
    "plot_pred(x[test_id], targs[test_id])\n",
    "x = get_layer_avgs(x)\n",
    "plot_pred(x[test_id,:,None,None], targs[test_id])\n",
    "x = -get_edge_det(x, [-1,4,-1])\n",
    "plot_pred(x[test_id,:,None,None], targs[test_id])\n",
    "x = get_max_sub_mean(x)\n",
    "plot_pred(x[test_id,:,None,None], targs[test_id])\n",
    "score_data(x, targs)"
   ]
  },
  {
   "cell_type": "code",
   "execution_count": 51,
   "id": "55b1f650",
   "metadata": {},
   "outputs": [
    {
     "name": "stdout",
     "output_type": "stream",
     "text": [
      "Zero-ordered target layer ID (including ladel bottom layer): tensor([5.])\n"
     ]
    },
    {
     "data": {
      "image/png": "[encoded data removed]",
      "text/plain": [
       "<Figure size 1024x576 with 9 Axes>"
      ]
     },
     "metadata": {},
     "output_type": "display_data"
    },
    {
     "name": "stdout",
     "output_type": "stream",
     "text": [
      "Zero-ordered target layer ID (including ladel bottom layer): tensor([5.])\n"
     ]
    },
    {
     "data": {
      "image/png": "[encoded data removed]",
      "text/plain": [
       "<Figure size 1024x576 with 9 Axes>"
      ]
     },
     "metadata": {},
     "output_type": "display_data"
    },
    {
     "name": "stdout",
     "output_type": "stream",
     "text": [
      "Zero-ordered target layer ID (including ladel bottom layer): tensor([5.])\n"
     ]
    },
    {
     "data": {
      "image/png": "[encoded data removed]",
      "text/plain": [
       "<Figure size 1024x576 with 9 Axes>"
      ]
     },
     "metadata": {},
     "output_type": "display_data"
    },
    {
     "name": "stdout",
     "output_type": "stream",
     "text": [
      "Zero-ordered target layer ID (including ladel bottom layer): tensor([5.])\n"
     ]
    },
    {
     "data": {
      "image/png": "[encoded data removed]",
      "text/plain": [
       "<Figure size 1024x576 with 9 Axes>"
      ]
     },
     "metadata": {},
     "output_type": "display_data"
    },
    {
     "name": "stdout",
     "output_type": "stream",
     "text": [
      "Zero-ordered target layer ID (including ladel bottom layer): tensor([5.])\n"
     ]
    },
    {
     "data": {
      "image/png": "[encoded data removed]",
      "text/plain": [
       "<Figure size 1024x576 with 9 Axes>"
      ]
     },
     "metadata": {},
     "output_type": "display_data"
    },
    {
     "name": "stdout",
     "output_type": "stream",
     "text": [
      "+-------+--------------------+-------+---------------------+\n",
      "| Start |   Int class loss   |   Acc |       Fill MSE      |\n",
      "+-------+--------------------+-------+---------------------+\n",
      "|   -1  | 11.091629981994629 | 0.155 | 0.04674999415874481 |\n",
      "|   0   | 11.09424114227295  |  0.15 | 0.05365000292658806 |\n",
      "|   1   | 11.098980903625488 | 0.165 | 0.08054998517036438 |\n",
      "+-------+--------------------+-------+---------------------+\n"
     ]
    }
   ],
   "source": [
    "# 3d avg 1d avg Ridge max-min\n",
    "x = get_3d_gauss(ladel_removed)\n",
    "plot_pred(x[test_id], targs[test_id])\n",
    "x = get_layer_avgs(x)\n",
    "plot_pred(x[test_id,:,None,None], targs[test_id])\n",
    "x = get_1d_avg(x)\n",
    "plot_pred(x[test_id,:,None,None], targs[test_id])\n",
    "x = -get_edge_det(x, [-1,4,-1])\n",
    "plot_pred(x[test_id,:,None,None], targs[test_id])\n",
    "x = get_max_sub_mean(x)\n",
    "plot_pred(x[test_id,:,None,None], targs[test_id])\n",
    "score_data(x, targs)"
   ]
  },
  {
   "cell_type": "code",
   "execution_count": 54,
   "id": "55d0745c",
   "metadata": {},
   "outputs": [
    {
     "name": "stdout",
     "output_type": "stream",
     "text": [
      "Zero-ordered target layer ID (including ladel bottom layer): tensor([5.])\n"
     ]
    },
    {
     "data": {
      "image/png": "[encoded data removed]",
      "text/plain": [
       "<Figure size 1024x576 with 9 Axes>"
      ]
     },
     "metadata": {},
     "output_type": "display_data"
    },
    {
     "name": "stdout",
     "output_type": "stream",
     "text": [
      "Zero-ordered target layer ID (including ladel bottom layer): tensor([5.])\n"
     ]
    },
    {
     "data": {
      "image/png": "[encoded data removed]",
      "text/plain": [
       "<Figure size 1024x576 with 9 Axes>"
      ]
     },
     "metadata": {},
     "output_type": "display_data"
    },
    {
     "name": "stdout",
     "output_type": "stream",
     "text": [
      "Zero-ordered target layer ID (including ladel bottom layer): tensor([5.])\n"
     ]
    },
    {
     "data": {
      "image/png": "[encoded data removed]",
      "text/plain": [
       "<Figure size 1024x576 with 9 Axes>"
      ]
     },
     "metadata": {},
     "output_type": "display_data"
    },
    {
     "name": "stdout",
     "output_type": "stream",
     "text": [
      "+-------+--------------------+------+---------------------+\n",
      "| Start |   Int class loss   |  Acc |       Fill MSE      |\n",
      "+-------+--------------------+------+---------------------+\n",
      "|   -1  | 10.45883560180664  | 0.14 | 0.05334999039769173 |\n",
      "|   0   | 10.416094779968262 | 0.13 | 0.04384999722242355 |\n",
      "|   1   | 10.444474220275879 | 0.2  | 0.05434999614953995 |\n",
      "+-------+--------------------+------+---------------------+\n"
     ]
    }
   ],
   "source": [
    "# Ridge max/min\n",
    "x = get_layer_avgs(ladel_removed)\n",
    "plot_pred(x[test_id,:,None,None], targs[test_id])\n",
    "x = -get_edge_det(x, [-1,0,-1])\n",
    "plot_pred(x[test_id,:,None,None], targs[test_id])\n",
    "x = get_max_div_mean(x)\n",
    "plot_pred(x[test_id,:,None,None], targs[test_id])\n",
    "score_data(x, targs)"
   ]
  },
  {
   "cell_type": "code",
   "execution_count": 55,
   "id": "96d70f2e",
   "metadata": {},
   "outputs": [
    {
     "name": "stdout",
     "output_type": "stream",
     "text": [
      "Zero-ordered target layer ID (including ladel bottom layer): tensor([5.])\n"
     ]
    },
    {
     "data": {
      "image/png": "[encoded data removed]",
      "text/plain": [
       "<Figure size 1024x576 with 9 Axes>"
      ]
     },
     "metadata": {},
     "output_type": "display_data"
    },
    {
     "name": "stdout",
     "output_type": "stream",
     "text": [
      "Zero-ordered target layer ID (including ladel bottom layer): tensor([5.])\n"
     ]
    },
    {
     "data": {
      "image/png": "[encoded data removed]",
      "text/plain": [
       "<Figure size 1024x576 with 9 Axes>"
      ]
     },
     "metadata": {},
     "output_type": "display_data"
    },
    {
     "name": "stdout",
     "output_type": "stream",
     "text": [
      "Zero-ordered target layer ID (including ladel bottom layer): tensor([5.])\n"
     ]
    },
    {
     "data": {
      "image/png": "[encoded data removed]",
      "text/plain": [
       "<Figure size 1024x576 with 9 Axes>"
      ]
     },
     "metadata": {},
     "output_type": "display_data"
    },
    {
     "name": "stdout",
     "output_type": "stream",
     "text": [
      "Zero-ordered target layer ID (including ladel bottom layer): tensor([5.])\n"
     ]
    },
    {
     "data": {
      "image/png": "[encoded data removed]",
      "text/plain": [
       "<Figure size 1024x576 with 9 Axes>"
      ]
     },
     "metadata": {},
     "output_type": "display_data"
    },
    {
     "name": "stdout",
     "output_type": "stream",
     "text": [
      "+-------+--------------------+-------+----------------------+\n",
      "| Start |   Int class loss   |   Acc |       Fill MSE       |\n",
      "+-------+--------------------+-------+----------------------+\n",
      "|   -1  | 10.522360801696777 | 0.105 | 0.056749992072582245 |\n",
      "|   0   | 10.477612495422363 | 0.175 | 0.043449994176626205 |\n",
      "|   1   | 10.497415542602539 |  0.16 | 0.05014999210834503  |\n",
      "+-------+--------------------+-------+----------------------+\n"
     ]
    }
   ],
   "source": [
    "# 1d avg Ridge max/min\n",
    "x = get_layer_avgs(ladel_removed)\n",
    "plot_pred(x[test_id,:,None,None], targs[test_id])\n",
    "x = get_1d_avg(x)\n",
    "plot_pred(x[test_id,:,None,None], targs[test_id])\n",
    "x = -get_edge_det(x, [-1,0,-1])\n",
    "plot_pred(x[test_id,:,None,None], targs[test_id])\n",
    "x = get_max_div_mean(x)\n",
    "plot_pred(x[test_id,:,None,None], targs[test_id])\n",
    "score_data(x, targs)"
   ]
  },
  {
   "cell_type": "code",
   "execution_count": 56,
   "id": "fe357820",
   "metadata": {
    "scrolled": false
   },
   "outputs": [
    {
     "name": "stdout",
     "output_type": "stream",
     "text": [
      "Zero-ordered target layer ID (including ladel bottom layer): tensor([5.])\n"
     ]
    },
    {
     "data": {
      "image/png": "[encoded data removed]",
      "text/plain": [
       "<Figure size 1024x576 with 9 Axes>"
      ]
     },
     "metadata": {},
     "output_type": "display_data"
    },
    {
     "name": "stdout",
     "output_type": "stream",
     "text": [
      "Zero-ordered target layer ID (including ladel bottom layer): tensor([5.])\n"
     ]
    },
    {
     "data": {
      "image/png": "[encoded data removed]",
      "text/plain": [
       "<Figure size 1024x576 with 9 Axes>"
      ]
     },
     "metadata": {},
     "output_type": "display_data"
    },
    {
     "name": "stdout",
     "output_type": "stream",
     "text": [
      "Zero-ordered target layer ID (including ladel bottom layer): tensor([5.])\n"
     ]
    },
    {
     "data": {
      "image/png": "[encoded data removed]",
      "text/plain": [
       "<Figure size 1024x576 with 9 Axes>"
      ]
     },
     "metadata": {},
     "output_type": "display_data"
    },
    {
     "name": "stdout",
     "output_type": "stream",
     "text": [
      "Zero-ordered target layer ID (including ladel bottom layer): tensor([5.])\n"
     ]
    },
    {
     "data": {
      "image/png": "[encoded data removed]",
      "text/plain": [
       "<Figure size 1024x576 with 9 Axes>"
      ]
     },
     "metadata": {},
     "output_type": "display_data"
    },
    {
     "name": "stdout",
     "output_type": "stream",
     "text": [
      "+-------+--------------------+-------+---------------------+\n",
      "| Start |   Int class loss   |   Acc |       Fill MSE      |\n",
      "+-------+--------------------+-------+---------------------+\n",
      "|   -1  | 10.485401153564453 | 0.145 | 0.05249999463558197 |\n",
      "|   0   | 10.447210311889648 |  0.13 | 0.04209999740123749 |\n",
      "|   1   | 10.478014945983887 | 0.185 | 0.05169999599456787 |\n",
      "+-------+--------------------+-------+---------------------+\n"
     ]
    }
   ],
   "source": [
    "# 3d avg Ridge max/min\n",
    "x = get_3d_gauss(ladel_removed)\n",
    "plot_pred(x[test_id], targs[test_id])\n",
    "x = get_layer_avgs(x)\n",
    "plot_pred(x[test_id,:,None,None], targs[test_id])\n",
    "x = -get_edge_det(x, [-1,0,-1])\n",
    "plot_pred(x[test_id,:,None,None], targs[test_id])\n",
    "x = get_max_div_mean(x)\n",
    "plot_pred(x[test_id,:,None,None], targs[test_id])\n",
    "score_data(x, targs)"
   ]
  },
  {
   "cell_type": "code",
   "execution_count": 57,
   "id": "3a82a2ac",
   "metadata": {},
   "outputs": [
    {
     "name": "stdout",
     "output_type": "stream",
     "text": [
      "Zero-ordered target layer ID (including ladel bottom layer): tensor([5.])\n"
     ]
    },
    {
     "data": {
      "image/png": "[encoded data removed]",
      "text/plain": [
       "<Figure size 1024x576 with 9 Axes>"
      ]
     },
     "metadata": {},
     "output_type": "display_data"
    },
    {
     "name": "stdout",
     "output_type": "stream",
     "text": [
      "Zero-ordered target layer ID (including ladel bottom layer): tensor([5.])\n"
     ]
    },
    {
     "data": {
      "image/png": "[encoded data removed]",
      "text/plain": [
       "<Figure size 1024x576 with 9 Axes>"
      ]
     },
     "metadata": {},
     "output_type": "display_data"
    },
    {
     "name": "stdout",
     "output_type": "stream",
     "text": [
      "Zero-ordered target layer ID (including ladel bottom layer): tensor([5.])\n"
     ]
    },
    {
     "data": {
      "image/png": "[encoded data removed]",
      "text/plain": [
       "<Figure size 1024x576 with 9 Axes>"
      ]
     },
     "metadata": {},
     "output_type": "display_data"
    },
    {
     "name": "stdout",
     "output_type": "stream",
     "text": [
      "Zero-ordered target layer ID (including ladel bottom layer): tensor([5.])\n"
     ]
    },
    {
     "data": {
      "image/png": "[encoded data removed]",
      "text/plain": [
       "<Figure size 1024x576 with 9 Axes>"
      ]
     },
     "metadata": {},
     "output_type": "display_data"
    },
    {
     "name": "stdout",
     "output_type": "stream",
     "text": [
      "Zero-ordered target layer ID (including ladel bottom layer): tensor([5.])\n"
     ]
    },
    {
     "data": {
      "image/png": "[encoded data removed]",
      "text/plain": [
       "<Figure size 1024x576 with 9 Axes>"
      ]
     },
     "metadata": {},
     "output_type": "display_data"
    },
    {
     "name": "stdout",
     "output_type": "stream",
     "text": [
      "+-------+--------------------+-------+----------------------+\n",
      "| Start |   Int class loss   |   Acc |       Fill MSE       |\n",
      "+-------+--------------------+-------+----------------------+\n",
      "|   -1  | 10.553853988647461 |  0.1  | 0.05570000037550926  |\n",
      "|   0   | 10.509552955627441 | 0.185 | 0.04229999706149101  |\n",
      "|   1   | 10.523693084716797 |  0.16 | 0.048899997025728226 |\n",
      "+-------+--------------------+-------+----------------------+\n"
     ]
    }
   ],
   "source": [
    "# 3d avg 1d avg Ridge max/min\n",
    "x = get_3d_gauss(ladel_removed)\n",
    "plot_pred(x[test_id], targs[test_id])\n",
    "x = get_layer_avgs(x)\n",
    "plot_pred(x[test_id,:,None,None], targs[test_id])\n",
    "x = get_1d_avg(x)\n",
    "plot_pred(x[test_id,:,None,None], targs[test_id])\n",
    "x = -get_edge_det(x, [-1,0,-1])\n",
    "plot_pred(x[test_id,:,None,None], targs[test_id])\n",
    "x = get_max_div_mean(x)\n",
    "plot_pred(x[test_id,:,None,None], targs[test_id])\n",
    "score_data(x, targs)"
   ]
  },
  {
   "cell_type": "code",
   "execution_count": 63,
   "id": "7639db4f",
   "metadata": {},
   "outputs": [
    {
     "name": "stdout",
     "output_type": "stream",
     "text": [
      "Zero-ordered target layer ID (including ladel bottom layer): tensor([5.])\n"
     ]
    },
    {
     "data": {
      "image/png": "[encoded data removed]",
      "text/plain": [
       "<Figure size 1024x576 with 9 Axes>"
      ]
     },
     "metadata": {},
     "output_type": "display_data"
    },
    {
     "name": "stdout",
     "output_type": "stream",
     "text": [
      "Zero-ordered target layer ID (including ladel bottom layer): tensor([5.])\n"
     ]
    },
    {
     "data": {
      "image/png": "[encoded data removed]",
      "text/plain": [
       "<Figure size 1024x576 with 9 Axes>"
      ]
     },
     "metadata": {},
     "output_type": "display_data"
    },
    {
     "name": "stdout",
     "output_type": "stream",
     "text": [
      "Zero-ordered target layer ID (including ladel bottom layer): tensor([5.])\n"
     ]
    },
    {
     "data": {
      "image/png": "[encoded data removed]",
      "text/plain": [
       "<Figure size 1024x576 with 9 Axes>"
      ]
     },
     "metadata": {},
     "output_type": "display_data"
    },
    {
     "name": "stdout",
     "output_type": "stream",
     "text": [
      "+-------+--------------------+-------+---------------------+\n",
      "| Start |   Int class loss   |   Acc |       Fill MSE      |\n",
      "+-------+--------------------+-------+---------------------+\n",
      "|   -1  | 11.052324295043945 |  0.17 | 0.04714999347925186 |\n",
      "|   0   | 11.065007209777832 | 0.145 | 0.06224999576807022 |\n",
      "|   1   | 11.085807800292969 | 0.165 | 0.09734998643398285 |\n",
      "+-------+--------------------+-------+---------------------+\n"
     ]
    }
   ],
   "source": [
    "# max-min Ridge\n",
    "x = get_layer_avgs(ladel_removed)\n",
    "plot_pred(x[test_id,:,None,None], targs[test_id])\n",
    "x = get_max_sub_mean(x)\n",
    "plot_pred(x[test_id,:,None,None], targs[test_id])\n",
    "x = get_edge_det(x, [-1,8,-1])\n",
    "plot_pred(x[test_id,:,None,None], targs[test_id])\n",
    "score_data(x, targs)"
   ]
  },
  {
   "cell_type": "code",
   "execution_count": 59,
   "id": "83fc0b14",
   "metadata": {},
   "outputs": [
    {
     "name": "stdout",
     "output_type": "stream",
     "text": [
      "Zero-ordered target layer ID (including ladel bottom layer): tensor([5.])\n"
     ]
    },
    {
     "data": {
      "image/png": "[encoded data removed]",
      "text/plain": [
       "<Figure size 1024x576 with 9 Axes>"
      ]
     },
     "metadata": {},
     "output_type": "display_data"
    },
    {
     "name": "stdout",
     "output_type": "stream",
     "text": [
      "Zero-ordered target layer ID (including ladel bottom layer): tensor([5.])\n"
     ]
    },
    {
     "data": {
      "image/png": "[encoded data removed]",
      "text/plain": [
       "<Figure size 1024x576 with 9 Axes>"
      ]
     },
     "metadata": {},
     "output_type": "display_data"
    },
    {
     "name": "stdout",
     "output_type": "stream",
     "text": [
      "Zero-ordered target layer ID (including ladel bottom layer): tensor([5.])\n"
     ]
    },
    {
     "data": {
      "image/png": "[encoded data removed]",
      "text/plain": [
       "<Figure size 1024x576 with 9 Axes>"
      ]
     },
     "metadata": {},
     "output_type": "display_data"
    },
    {
     "name": "stdout",
     "output_type": "stream",
     "text": [
      "Zero-ordered target layer ID (including ladel bottom layer): tensor([5.])\n"
     ]
    },
    {
     "data": {
      "image/png": "[encoded data removed]",
      "text/plain": [
       "<Figure size 1024x576 with 9 Axes>"
      ]
     },
     "metadata": {},
     "output_type": "display_data"
    },
    {
     "name": "stdout",
     "output_type": "stream",
     "text": [
      "+-------+--------------------+-------+----------------------+\n",
      "| Start |   Int class loss   |   Acc |       Fill MSE       |\n",
      "+-------+--------------------+-------+----------------------+\n",
      "|   -1  | 11.052617073059082 | 0.155 | 0.047099992632865906 |\n",
      "|   0   |  11.0596342086792  | 0.135 | 0.05469999462366104  |\n",
      "|   1   | 11.073073387145996 |  0.21 | 0.08229999244213104  |\n",
      "+-------+--------------------+-------+----------------------+\n"
     ]
    }
   ],
   "source": [
    "# 1d avg max-min Ridge \n",
    "x = get_layer_avgs(ladel_removed)\n",
    "plot_pred(x[test_id,:,None,None], targs[test_id])\n",
    "x = get_1d_avg(x)\n",
    "plot_pred(x[test_id,:,None,None], targs[test_id])\n",
    "x = get_max_sub_mean(x)\n",
    "plot_pred(x[test_id,:,None,None], targs[test_id])\n",
    "x = get_edge_det(x, [-1,8,-1])\n",
    "plot_pred(x[test_id,:,None,None], targs[test_id])\n",
    "score_data(x, targs)"
   ]
  },
  {
   "cell_type": "code",
   "execution_count": 64,
   "id": "861f65a3",
   "metadata": {},
   "outputs": [
    {
     "name": "stdout",
     "output_type": "stream",
     "text": [
      "Zero-ordered target layer ID (including ladel bottom layer): tensor([5.])\n"
     ]
    },
    {
     "data": {
      "image/png": "[encoded data removed]",
      "text/plain": [
       "<Figure size 1024x576 with 9 Axes>"
      ]
     },
     "metadata": {},
     "output_type": "display_data"
    },
    {
     "name": "stdout",
     "output_type": "stream",
     "text": [
      "Zero-ordered target layer ID (including ladel bottom layer): tensor([5.])\n"
     ]
    },
    {
     "data": {
      "image/png": "[encoded data removed]",
      "text/plain": [
       "<Figure size 1024x576 with 9 Axes>"
      ]
     },
     "metadata": {},
     "output_type": "display_data"
    },
    {
     "name": "stdout",
     "output_type": "stream",
     "text": [
      "Zero-ordered target layer ID (including ladel bottom layer): tensor([5.])\n"
     ]
    },
    {
     "data": {
      "image/png": "[encoded data removed]",
      "text/plain": [
       "<Figure size 1024x576 with 9 Axes>"
      ]
     },
     "metadata": {},
     "output_type": "display_data"
    },
    {
     "name": "stdout",
     "output_type": "stream",
     "text": [
      "Zero-ordered target layer ID (including ladel bottom layer): tensor([5.])\n"
     ]
    },
    {
     "data": {
      "image/png": "[encoded data removed]",
      "text/plain": [
       "<Figure size 1024x576 with 9 Axes>"
      ]
     },
     "metadata": {},
     "output_type": "display_data"
    },
    {
     "name": "stdout",
     "output_type": "stream",
     "text": [
      "+-------+--------------------+-------+---------------------+\n",
      "| Start |   Int class loss   |   Acc |       Fill MSE      |\n",
      "+-------+--------------------+-------+---------------------+\n",
      "|   -1  | 11.052950859069824 |  0.15 |  0.0471000000834465 |\n",
      "|   0   | 11.062651634216309 | 0.155 | 0.06189998611807823 |\n",
      "|   1   | 11.079450607299805 |  0.19 | 0.09669999033212662 |\n",
      "+-------+--------------------+-------+---------------------+\n"
     ]
    }
   ],
   "source": [
    "# 3d avg max-min Ridge \n",
    "x = get_3d_gauss(ladel_removed)\n",
    "plot_pred(x[test_id], targs[test_id])\n",
    "x = get_layer_avgs(x)\n",
    "plot_pred(x[test_id,:,None,None], targs[test_id])\n",
    "x = get_max_sub_mean(x)\n",
    "plot_pred(x[test_id,:,None,None], targs[test_id])\n",
    "x = get_edge_det(x, [-1,8,-1])\n",
    "plot_pred(x[test_id,:,None,None], targs[test_id])\n",
    "score_data(x, targs)"
   ]
  },
  {
   "cell_type": "code",
   "execution_count": 65,
   "id": "62ac2c4b",
   "metadata": {},
   "outputs": [
    {
     "name": "stdout",
     "output_type": "stream",
     "text": [
      "Zero-ordered target layer ID (including ladel bottom layer): tensor([5.])\n"
     ]
    },
    {
     "data": {
      "image/png": "[encoded data removed]",
      "text/plain": [
       "<Figure size 1024x576 with 9 Axes>"
      ]
     },
     "metadata": {},
     "output_type": "display_data"
    },
    {
     "name": "stdout",
     "output_type": "stream",
     "text": [
      "Zero-ordered target layer ID (including ladel bottom layer): tensor([5.])\n"
     ]
    },
    {
     "data": {
      "image/png": "[encoded data removed]",
      "text/plain": [
       "<Figure size 1024x576 with 9 Axes>"
      ]
     },
     "metadata": {},
     "output_type": "display_data"
    },
    {
     "name": "stdout",
     "output_type": "stream",
     "text": [
      "Zero-ordered target layer ID (including ladel bottom layer): tensor([5.])\n"
     ]
    },
    {
     "data": {
      "image/png": "[encoded data removed]",
      "text/plain": [
       "<Figure size 1024x576 with 9 Axes>"
      ]
     },
     "metadata": {},
     "output_type": "display_data"
    },
    {
     "name": "stdout",
     "output_type": "stream",
     "text": [
      "Zero-ordered target layer ID (including ladel bottom layer): tensor([5.])\n"
     ]
    },
    {
     "data": {
      "image/png": "[encoded data removed]",
      "text/plain": [
       "<Figure size 1024x576 with 9 Axes>"
      ]
     },
     "metadata": {},
     "output_type": "display_data"
    },
    {
     "name": "stdout",
     "output_type": "stream",
     "text": [
      "Zero-ordered target layer ID (including ladel bottom layer): tensor([5.])\n"
     ]
    },
    {
     "data": {
      "image/png": "[encoded data removed]",
      "text/plain": [
       "<Figure size 1024x576 with 9 Axes>"
      ]
     },
     "metadata": {},
     "output_type": "display_data"
    },
    {
     "name": "stdout",
     "output_type": "stream",
     "text": [
      "+-------+--------------------+-------+----------------------+\n",
      "| Start |   Int class loss   |   Acc |       Fill MSE       |\n",
      "+-------+--------------------+-------+----------------------+\n",
      "|   -1  | 11.05469036102295  |  0.15 | 0.046149998903274536 |\n",
      "|   0   | 11.060882568359375 |  0.15 | 0.051649998873472214 |\n",
      "|   1   | 11.073095321655273 | 0.175 | 0.07714999467134476  |\n",
      "+-------+--------------------+-------+----------------------+\n"
     ]
    }
   ],
   "source": [
    "# 3d avg 1d avg max-min Ridge \n",
    "x = get_3d_gauss(ladel_removed)\n",
    "plot_pred(x[test_id], targs[test_id])\n",
    "x = get_layer_avgs(x)\n",
    "plot_pred(x[test_id,:,None,None], targs[test_id])\n",
    "x = get_1d_avg(x)\n",
    "plot_pred(x[test_id,:,None,None], targs[test_id])\n",
    "x = get_max_sub_mean(x)\n",
    "plot_pred(x[test_id,:,None,None], targs[test_id])\n",
    "x = get_edge_det(x, [-1,8,-1])\n",
    "plot_pred(x[test_id,:,None,None], targs[test_id])\n",
    "score_data(x, targs)"
   ]
  },
  {
   "cell_type": "code",
   "execution_count": 72,
   "id": "a6335895",
   "metadata": {},
   "outputs": [
    {
     "name": "stdout",
     "output_type": "stream",
     "text": [
      "Zero-ordered target layer ID (including ladel bottom layer): tensor([5.])\n"
     ]
    },
    {
     "data": {
      "image/png": "[encoded data removed]",
      "text/plain": [
       "<Figure size 1024x576 with 9 Axes>"
      ]
     },
     "metadata": {},
     "output_type": "display_data"
    },
    {
     "name": "stdout",
     "output_type": "stream",
     "text": [
      "Zero-ordered target layer ID (including ladel bottom layer): tensor([5.])\n"
     ]
    },
    {
     "data": {
      "image/png": "[encoded data removed]",
      "text/plain": [
       "<Figure size 1024x576 with 9 Axes>"
      ]
     },
     "metadata": {},
     "output_type": "display_data"
    },
    {
     "name": "stdout",
     "output_type": "stream",
     "text": [
      "Zero-ordered target layer ID (including ladel bottom layer): tensor([5.])\n"
     ]
    },
    {
     "data": {
      "image/png": "[encoded data removed]",
      "text/plain": [
       "<Figure size 1024x576 with 9 Axes>"
      ]
     },
     "metadata": {},
     "output_type": "display_data"
    },
    {
     "name": "stdout",
     "output_type": "stream",
     "text": [
      "+-------+-------------------+------+----------------------+\n",
      "| Start |   Int class loss  |  Acc |       Fill MSE       |\n",
      "+-------+-------------------+------+----------------------+\n",
      "|   -1  | 8.044812202453613 | 0.12 | 0.05925000086426735  |\n",
      "|   0   | 7.975054740905762 | 0.16 | 0.053749993443489075 |\n",
      "|   1   | 8.280533790588379 | 0.17 | 0.06824998557567596  |\n",
      "+-------+-------------------+------+----------------------+\n"
     ]
    }
   ],
   "source": [
    "# max/min Ridge\n",
    "x = get_layer_avgs(ladel_removed)\n",
    "plot_pred(x[test_id,:,None,None], targs[test_id])\n",
    "x = get_max_div_mean(x)\n",
    "plot_pred(x[test_id,:,None,None], targs[test_id])\n",
    "x = get_edge_det(x, [-1,8,-1])\n",
    "plot_pred(x[test_id,:,None,None], targs[test_id])\n",
    "score_data(x, targs)"
   ]
  },
  {
   "cell_type": "code",
   "execution_count": 73,
   "id": "fbf0914b",
   "metadata": {},
   "outputs": [
    {
     "name": "stdout",
     "output_type": "stream",
     "text": [
      "Zero-ordered target layer ID (including ladel bottom layer): tensor([5.])\n"
     ]
    },
    {
     "data": {
      "image/png": "[encoded data removed]",
      "text/plain": [
       "<Figure size 1024x576 with 9 Axes>"
      ]
     },
     "metadata": {},
     "output_type": "display_data"
    },
    {
     "name": "stdout",
     "output_type": "stream",
     "text": [
      "Zero-ordered target layer ID (including ladel bottom layer): tensor([5.])\n"
     ]
    },
    {
     "data": {
      "image/png": "[encoded data removed]",
      "text/plain": [
       "<Figure size 1024x576 with 9 Axes>"
      ]
     },
     "metadata": {},
     "output_type": "display_data"
    },
    {
     "name": "stdout",
     "output_type": "stream",
     "text": [
      "Zero-ordered target layer ID (including ladel bottom layer): tensor([5.])\n"
     ]
    },
    {
     "data": {
      "image/png": "[encoded data removed]",
      "text/plain": [
       "<Figure size 1024x576 with 9 Axes>"
      ]
     },
     "metadata": {},
     "output_type": "display_data"
    },
    {
     "name": "stdout",
     "output_type": "stream",
     "text": [
      "Zero-ordered target layer ID (including ladel bottom layer): tensor([5.])\n"
     ]
    },
    {
     "data": {
      "image/png": "[encoded data removed]",
      "text/plain": [
       "<Figure size 1024x576 with 9 Axes>"
      ]
     },
     "metadata": {},
     "output_type": "display_data"
    },
    {
     "name": "stdout",
     "output_type": "stream",
     "text": [
      "+-------+--------------------+------+----------------------+\n",
      "| Start |   Int class loss   |  Acc |       Fill MSE       |\n",
      "+-------+--------------------+------+----------------------+\n",
      "|   -1  | 7.9685187339782715 | 0.19 | 0.054799988865852356 |\n",
      "|   0   | 7.7652764320373535 | 0.14 | 0.04479999095201492  |\n",
      "|   1   | 7.914648056030273  | 0.15 | 0.05479999631643295  |\n",
      "+-------+--------------------+------+----------------------+\n"
     ]
    }
   ],
   "source": [
    "# 1d avg max/min Ridge \n",
    "x = get_layer_avgs(ladel_removed)\n",
    "plot_pred(x[test_id,:,None,None], targs[test_id])\n",
    "x = get_1d_avg(x)\n",
    "plot_pred(x[test_id,:,None,None], targs[test_id])\n",
    "x = get_max_div_mean(x)\n",
    "plot_pred(x[test_id,:,None,None], targs[test_id])\n",
    "x = get_edge_det(x, [-1,8,-1])\n",
    "plot_pred(x[test_id,:,None,None], targs[test_id])\n",
    "score_data(x, targs)"
   ]
  },
  {
   "cell_type": "code",
   "execution_count": 74,
   "id": "5f45dd55",
   "metadata": {},
   "outputs": [
    {
     "name": "stdout",
     "output_type": "stream",
     "text": [
      "Zero-ordered target layer ID (including ladel bottom layer): tensor([5.])\n"
     ]
    },
    {
     "data": {
      "image/png": "[encoded data removed]",
      "text/plain": [
       "<Figure size 1024x576 with 9 Axes>"
      ]
     },
     "metadata": {},
     "output_type": "display_data"
    },
    {
     "name": "stdout",
     "output_type": "stream",
     "text": [
      "Zero-ordered target layer ID (including ladel bottom layer): tensor([5.])\n"
     ]
    },
    {
     "data": {
      "image/png": "[encoded data removed]",
      "text/plain": [
       "<Figure size 1024x576 with 9 Axes>"
      ]
     },
     "metadata": {},
     "output_type": "display_data"
    },
    {
     "name": "stdout",
     "output_type": "stream",
     "text": [
      "Zero-ordered target layer ID (including ladel bottom layer): tensor([5.])\n"
     ]
    },
    {
     "data": {
      "image/png": "[encoded data removed]",
      "text/plain": [
       "<Figure size 1024x576 with 9 Axes>"
      ]
     },
     "metadata": {},
     "output_type": "display_data"
    },
    {
     "name": "stdout",
     "output_type": "stream",
     "text": [
      "Zero-ordered target layer ID (including ladel bottom layer): tensor([5.])\n"
     ]
    },
    {
     "data": {
      "image/png": "[encoded data removed]",
      "text/plain": [
       "<Figure size 1024x576 with 9 Axes>"
      ]
     },
     "metadata": {},
     "output_type": "display_data"
    },
    {
     "name": "stdout",
     "output_type": "stream",
     "text": [
      "+-------+-------------------+-------+----------------------+\n",
      "| Start |   Int class loss  |   Acc |       Fill MSE       |\n",
      "+-------+-------------------+-------+----------------------+\n",
      "|   -1  | 8.026510238647461 | 0.115 | 0.059199996292591095 |\n",
      "|   0   | 7.920738697052002 | 0.165 | 0.05279999598860741  |\n",
      "|   1   | 8.173473358154297 |  0.16 | 0.06639998406171799  |\n",
      "+-------+-------------------+-------+----------------------+\n"
     ]
    }
   ],
   "source": [
    "# 3d avg max/min Ridge \n",
    "x = get_3d_gauss(ladel_removed)\n",
    "plot_pred(x[test_id], targs[test_id])\n",
    "x = get_layer_avgs(x)\n",
    "plot_pred(x[test_id,:,None,None], targs[test_id])\n",
    "x = get_max_div_mean(x)\n",
    "plot_pred(x[test_id,:,None,None], targs[test_id])\n",
    "x = get_edge_det(x, [-1,8,-1])\n",
    "plot_pred(x[test_id,:,None,None], targs[test_id])\n",
    "score_data(x, targs)"
   ]
  },
  {
   "cell_type": "code",
   "execution_count": 75,
   "id": "7fa3ca48",
   "metadata": {},
   "outputs": [
    {
     "name": "stdout",
     "output_type": "stream",
     "text": [
      "Zero-ordered target layer ID (including ladel bottom layer): tensor([5.])\n"
     ]
    },
    {
     "data": {
      "image/png": "[encoded data removed]",
      "text/plain": [
       "<Figure size 1024x576 with 9 Axes>"
      ]
     },
     "metadata": {},
     "output_type": "display_data"
    },
    {
     "name": "stdout",
     "output_type": "stream",
     "text": [
      "Zero-ordered target layer ID (including ladel bottom layer): tensor([5.])\n"
     ]
    },
    {
     "data": {
      "image/png": "[encoded data removed]",
      "text/plain": [
       "<Figure size 1024x576 with 9 Axes>"
      ]
     },
     "metadata": {},
     "output_type": "display_data"
    },
    {
     "name": "stdout",
     "output_type": "stream",
     "text": [
      "Zero-ordered target layer ID (including ladel bottom layer): tensor([5.])\n"
     ]
    },
    {
     "data": {
      "image/png": "[encoded data removed]",
      "text/plain": [
       "<Figure size 1024x576 with 9 Axes>"
      ]
     },
     "metadata": {},
     "output_type": "display_data"
    },
    {
     "name": "stdout",
     "output_type": "stream",
     "text": [
      "Zero-ordered target layer ID (including ladel bottom layer): tensor([5.])\n"
     ]
    },
    {
     "data": {
      "image/png": "[encoded data removed]",
      "text/plain": [
       "<Figure size 1024x576 with 9 Axes>"
      ]
     },
     "metadata": {},
     "output_type": "display_data"
    },
    {
     "name": "stdout",
     "output_type": "stream",
     "text": [
      "Zero-ordered target layer ID (including ladel bottom layer): tensor([5.])\n"
     ]
    },
    {
     "data": {
      "image/png": "[encoded data removed]",
      "text/plain": [
       "<Figure size 1024x576 with 9 Axes>"
      ]
     },
     "metadata": {},
     "output_type": "display_data"
    },
    {
     "name": "stdout",
     "output_type": "stream",
     "text": [
      "+-------+-------------------+-------+----------------------+\n",
      "| Start |   Int class loss  |   Acc |       Fill MSE       |\n",
      "+-------+-------------------+-------+----------------------+\n",
      "|   -1  |  8.06784439086914 | 0.165 | 0.05329999327659607  |\n",
      "|   0   | 7.838751316070557 |  0.15 | 0.04349999874830246  |\n",
      "|   1   | 7.961644172668457 | 0.145 | 0.053700000047683716 |\n",
      "+-------+-------------------+-------+----------------------+\n"
     ]
    }
   ],
   "source": [
    "# 3d avg 1d avg max/min Ridge \n",
    "x = get_3d_gauss(ladel_removed)\n",
    "plot_pred(x[test_id], targs[test_id])\n",
    "x = get_layer_avgs(x)\n",
    "plot_pred(x[test_id,:,None,None], targs[test_id])\n",
    "x = get_1d_avg(x)\n",
    "plot_pred(x[test_id,:,None,None], targs[test_id])\n",
    "x = get_max_div_mean(x)\n",
    "plot_pred(x[test_id,:,None,None], targs[test_id])\n",
    "x = get_edge_det(x, [-1,8,-1])\n",
    "plot_pred(x[test_id,:,None,None], targs[test_id])\n",
    "score_data(x, targs)"
   ]
  },
  {
   "cell_type": "markdown",
   "id": "888077fa",
   "metadata": {},
   "source": [
    "## Directed edge"
   ]
  },
  {
   "cell_type": "code",
   "execution_count": 63,
   "id": "4638c3fb",
   "metadata": {},
   "outputs": [
    {
     "name": "stdout",
     "output_type": "stream",
     "text": [
      "Zero-ordered target layer ID (including ladel bottom layer): tensor([5.])\n"
     ]
    },
    {
     "data": {
      "image/png": "[encoded data removed]",
      "text/plain": [
       "<Figure size 1024x576 with 9 Axes>"
      ]
     },
     "metadata": {},
     "output_type": "display_data"
    },
    {
     "name": "stdout",
     "output_type": "stream",
     "text": [
      "Zero-ordered target layer ID (including ladel bottom layer): tensor([5.])\n"
     ]
    },
    {
     "data": {
      "image/png": "[encoded data removed]",
      "text/plain": [
       "<Figure size 1024x576 with 9 Axes>"
      ]
     },
     "metadata": {},
     "output_type": "display_data"
    },
    {
     "name": "stdout",
     "output_type": "stream",
     "text": [
      "+-------+--------------------+-------+----------------------+\n",
      "| Start |   Int class loss   |   Acc |       Fill MSE       |\n",
      "+-------+--------------------+-------+----------------------+\n",
      "|   -1  | 11.097683906555176 | 0.155 | 0.04729999601840973  |\n",
      "|   0   | 11.099565505981445 |  0.15 | 0.061900001019239426 |\n",
      "|   1   | 11.103375434875488 | 0.165 |  0.0964999869465828  |\n",
      "+-------+--------------------+-------+----------------------+\n"
     ]
    }
   ],
   "source": [
    "# Edge\n",
    "x = get_layer_avgs(ladel_removed)\n",
    "plot_pred(x[test_id,:,None,None], targs[test_id])\n",
    "x = get_edge_det(x, [-1,0,1])\n",
    "plot_pred(x[test_id,:,None,None], targs[test_id])\n",
    "score_data(x, targs)"
   ]
  },
  {
   "cell_type": "code",
   "execution_count": 64,
   "id": "cd340127",
   "metadata": {},
   "outputs": [
    {
     "name": "stdout",
     "output_type": "stream",
     "text": [
      "Zero-ordered target layer ID (including ladel bottom layer): tensor([5.])\n"
     ]
    },
    {
     "data": {
      "image/png": "[encoded data removed]",
      "text/plain": [
       "<Figure size 1024x576 with 9 Axes>"
      ]
     },
     "metadata": {},
     "output_type": "display_data"
    },
    {
     "name": "stdout",
     "output_type": "stream",
     "text": [
      "Zero-ordered target layer ID (including ladel bottom layer): tensor([5.])\n"
     ]
    },
    {
     "data": {
      "image/png": "[encoded data removed]",
      "text/plain": [
       "<Figure size 1024x576 with 9 Axes>"
      ]
     },
     "metadata": {},
     "output_type": "display_data"
    },
    {
     "name": "stdout",
     "output_type": "stream",
     "text": [
      "Zero-ordered target layer ID (including ladel bottom layer): tensor([5.])\n"
     ]
    },
    {
     "data": {
      "image/png": "[encoded data removed]",
      "text/plain": [
       "<Figure size 1024x576 with 9 Axes>"
      ]
     },
     "metadata": {},
     "output_type": "display_data"
    },
    {
     "name": "stdout",
     "output_type": "stream",
     "text": [
      "+-------+--------------------+-------+----------------------+\n",
      "| Start |   Int class loss   |   Acc |       Fill MSE       |\n",
      "+-------+--------------------+-------+----------------------+\n",
      "|   -1  |  11.100341796875   |  0.14 | 0.046699997037649155 |\n",
      "|   0   | 11.10129165649414  | 0.155 | 0.05310000106692314  |\n",
      "|   1   | 11.103540420532227 | 0.195 |  0.0794999897480011  |\n",
      "+-------+--------------------+-------+----------------------+\n"
     ]
    }
   ],
   "source": [
    "# 1d avg Edge\n",
    "x = get_layer_avgs(ladel_removed)\n",
    "plot_pred(x[test_id,:,None,None], targs[test_id])\n",
    "x = get_1d_avg(x)\n",
    "plot_pred(x[test_id,:,None,None], targs[test_id])\n",
    "x = get_edge_det(x, [-1,0,1])\n",
    "plot_pred(x[test_id,:,None,None], targs[test_id])\n",
    "score_data(x, targs)"
   ]
  },
  {
   "cell_type": "code",
   "execution_count": 65,
   "id": "c909a4e6",
   "metadata": {},
   "outputs": [
    {
     "name": "stdout",
     "output_type": "stream",
     "text": [
      "Zero-ordered target layer ID (including ladel bottom layer): tensor([5.])\n"
     ]
    },
    {
     "data": {
      "image/png": "[encoded data removed]",
      "text/plain": [
       "<Figure size 1024x576 with 9 Axes>"
      ]
     },
     "metadata": {},
     "output_type": "display_data"
    },
    {
     "name": "stdout",
     "output_type": "stream",
     "text": [
      "Zero-ordered target layer ID (including ladel bottom layer): tensor([5.])\n"
     ]
    },
    {
     "data": {
      "image/png": "[encoded data removed]",
      "text/plain": [
       "<Figure size 1024x576 with 9 Axes>"
      ]
     },
     "metadata": {},
     "output_type": "display_data"
    },
    {
     "name": "stdout",
     "output_type": "stream",
     "text": [
      "Zero-ordered target layer ID (including ladel bottom layer): tensor([5.])\n"
     ]
    },
    {
     "data": {
      "image/png": "[encoded data removed]",
      "text/plain": [
       "<Figure size 1024x576 with 9 Axes>"
      ]
     },
     "metadata": {},
     "output_type": "display_data"
    },
    {
     "name": "stdout",
     "output_type": "stream",
     "text": [
      "+-------+--------------------+-------+---------------------+\n",
      "| Start |   Int class loss   |   Acc |       Fill MSE      |\n",
      "+-------+--------------------+-------+---------------------+\n",
      "|   -1  | 11.09986686706543  | 0.145 | 0.04534999281167984 |\n",
      "|   0   | 11.100805282592773 |  0.16 | 0.05144999921321869 |\n",
      "|   1   | 11.103114128112793 | 0.195 |  0.0775499939918518 |\n",
      "+-------+--------------------+-------+---------------------+\n"
     ]
    }
   ],
   "source": [
    "# 3d avg Edge\n",
    "x = get_3d_avg(ladel_removed)\n",
    "plot_pred(x[test_id], targs[test_id])\n",
    "x = get_layer_avgs(x)\n",
    "plot_pred(x[test_id,:,None,None], targs[test_id])\n",
    "x = get_edge_det(x, [-1,0,1])\n",
    "plot_pred(x[test_id,:,None,None], targs[test_id])\n",
    "score_data(x, targs)"
   ]
  },
  {
   "cell_type": "code",
   "execution_count": 66,
   "id": "ea63bfa3",
   "metadata": {},
   "outputs": [
    {
     "name": "stdout",
     "output_type": "stream",
     "text": [
      "Zero-ordered target layer ID (including ladel bottom layer): tensor([5.])\n"
     ]
    },
    {
     "data": {
      "image/png": "[encoded data removed]",
      "text/plain": [
       "<Figure size 1024x576 with 9 Axes>"
      ]
     },
     "metadata": {},
     "output_type": "display_data"
    },
    {
     "name": "stdout",
     "output_type": "stream",
     "text": [
      "Zero-ordered target layer ID (including ladel bottom layer): tensor([5.])\n"
     ]
    },
    {
     "data": {
      "image/png": "[encoded data removed]",
      "text/plain": [
       "<Figure size 1024x576 with 9 Axes>"
      ]
     },
     "metadata": {},
     "output_type": "display_data"
    },
    {
     "name": "stdout",
     "output_type": "stream",
     "text": [
      "Zero-ordered target layer ID (including ladel bottom layer): tensor([5.])\n"
     ]
    },
    {
     "data": {
      "image/png": "[encoded data removed]",
      "text/plain": [
       "<Figure size 1024x576 with 9 Axes>"
      ]
     },
     "metadata": {},
     "output_type": "display_data"
    },
    {
     "name": "stdout",
     "output_type": "stream",
     "text": [
      "Zero-ordered target layer ID (including ladel bottom layer): tensor([5.])\n"
     ]
    },
    {
     "data": {
      "image/png": "[encoded data removed]",
      "text/plain": [
       "<Figure size 1024x576 with 9 Axes>"
      ]
     },
     "metadata": {},
     "output_type": "display_data"
    },
    {
     "name": "stdout",
     "output_type": "stream",
     "text": [
      "+-------+--------------------+-------+----------------------+\n",
      "| Start |   Int class loss   |   Acc |       Fill MSE       |\n",
      "+-------+--------------------+-------+----------------------+\n",
      "|   -1  | 11.10110092163086  |  0.14 | 0.046349991112947464 |\n",
      "|   0   | 11.101946830749512 | 0.155 | 0.05145000293850899  |\n",
      "|   1   | 11.103952407836914 | 0.175 | 0.07654999196529388  |\n",
      "+-------+--------------------+-------+----------------------+\n"
     ]
    }
   ],
   "source": [
    "# 3d avg 1d avg Edge\n",
    "x = get_3d_gauss(ladel_removed)\n",
    "plot_pred(x[test_id], targs[test_id])\n",
    "x = get_layer_avgs(x)\n",
    "plot_pred(x[test_id,:,None,None], targs[test_id])\n",
    "x = get_1d_avg(x)\n",
    "plot_pred(x[test_id,:,None,None], targs[test_id])\n",
    "x = get_edge_det(x, [-1,0,1])\n",
    "plot_pred(x[test_id,:,None,None], targs[test_id])\n",
    "score_data(x, targs)"
   ]
  },
  {
   "cell_type": "code",
   "execution_count": 67,
   "id": "c2b41852",
   "metadata": {},
   "outputs": [
    {
     "name": "stdout",
     "output_type": "stream",
     "text": [
      "Zero-ordered target layer ID (including ladel bottom layer): tensor([5.])\n"
     ]
    },
    {
     "data": {
      "image/png": "[encoded data removed]",
      "text/plain": [
       "<Figure size 1024x576 with 9 Axes>"
      ]
     },
     "metadata": {},
     "output_type": "display_data"
    },
    {
     "name": "stdout",
     "output_type": "stream",
     "text": [
      "Zero-ordered target layer ID (including ladel bottom layer): tensor([5.])\n"
     ]
    },
    {
     "data": {
      "image/png": "[encoded data removed]",
      "text/plain": [
       "<Figure size 1024x576 with 9 Axes>"
      ]
     },
     "metadata": {},
     "output_type": "display_data"
    },
    {
     "name": "stdout",
     "output_type": "stream",
     "text": [
      "Zero-ordered target layer ID (including ladel bottom layer): tensor([5.])\n"
     ]
    },
    {
     "data": {
      "image/png": "[encoded data removed]",
      "text/plain": [
       "<Figure size 1024x576 with 9 Axes>"
      ]
     },
     "metadata": {},
     "output_type": "display_data"
    },
    {
     "name": "stdout",
     "output_type": "stream",
     "text": [
      "+-------+--------------------+------+---------------------+\n",
      "| Start |   Int class loss   |  Acc |       Fill MSE      |\n",
      "+-------+--------------------+------+---------------------+\n",
      "|   -1  | 11.105299949645996 | 0.12 | 0.09544999897480011 |\n",
      "|   0   | 11.106695175170898 | 0.11 | 0.08574999868869781 |\n",
      "|   1   | 11.108484268188477 | 0.06 | 0.09604999423027039 |\n",
      "+-------+--------------------+------+---------------------+\n"
     ]
    }
   ],
   "source": [
    "# Ridge max-min\n",
    "x = get_layer_avgs(ladel_removed)\n",
    "plot_pred(x[test_id,:,None,None], targs[test_id])\n",
    "x = get_edge_det(x, [-1,0,1])\n",
    "plot_pred(x[test_id,:,None,None], targs[test_id])\n",
    "x = get_max_sub_mean(x)\n",
    "plot_pred(x[test_id,:,None,None], targs[test_id])\n",
    "score_data(x, targs)"
   ]
  },
  {
   "cell_type": "code",
   "execution_count": 33,
   "id": "2f7ec09c",
   "metadata": {},
   "outputs": [
    {
     "name": "stdout",
     "output_type": "stream",
     "text": [
      "Zero-ordered target layer ID (including ladel bottom layer): tensor([5.])\n"
     ]
    },
    {
     "data": {
      "image/png": "[encoded data removed]",
      "text/plain": [
       "<Figure size 1024x576 with 9 Axes>"
      ]
     },
     "metadata": {},
     "output_type": "display_data"
    },
    {
     "name": "stdout",
     "output_type": "stream",
     "text": [
      "Zero-ordered target layer ID (including ladel bottom layer): tensor([5.])\n"
     ]
    },
    {
     "data": {
      "image/png": "[encoded data removed]",
      "text/plain": [
       "<Figure size 1024x576 with 9 Axes>"
      ]
     },
     "metadata": {},
     "output_type": "display_data"
    },
    {
     "name": "stdout",
     "output_type": "stream",
     "text": [
      "Zero-ordered target layer ID (including ladel bottom layer): tensor([5.])\n"
     ]
    },
    {
     "data": {
      "image/png": "[encoded data removed]",
      "text/plain": [
       "<Figure size 1024x576 with 9 Axes>"
      ]
     },
     "metadata": {},
     "output_type": "display_data"
    },
    {
     "name": "stdout",
     "output_type": "stream",
     "text": [
      "+-------+-------------------+-------+---------------------+\n",
      "| Start |   Int class loss  |   Acc |       Fill MSE      |\n",
      "+-------+-------------------+-------+---------------------+\n",
      "|   -1  | 9.177804946899414 | 0.075 |  0.0880499929189682 |\n",
      "|   0   |  9.00914478302002 | 0.185 | 0.07294999063014984 |\n",
      "|   1   |  9.2787504196167  |  0.11 | 0.07784999907016754 |\n",
      "+-------+-------------------+-------+---------------------+\n"
     ]
    }
   ],
   "source": [
    "# Ridge max/min\n",
    "x = get_layer_avgs(ladel_removed)\n",
    "plot_pred(x[test_id,:,None,None], targs[test_id])\n",
    "x = get_edge_det(x, [-1,0,1])\n",
    "plot_pred(x[test_id,:,None,None], targs[test_id])\n",
    "x = get_max_div_mean(x)\n",
    "plot_pred(x[test_id,:,None,None], targs[test_id])\n",
    "score_data(x, targs)"
   ]
  },
  {
   "cell_type": "code",
   "execution_count": 32,
   "id": "e973ceb3",
   "metadata": {},
   "outputs": [
    {
     "name": "stdout",
     "output_type": "stream",
     "text": [
      "Zero-ordered target layer ID (including ladel bottom layer): tensor([5.])\n"
     ]
    },
    {
     "data": {
      "image/png": "[encoded data removed]",
      "text/plain": [
       "<Figure size 1024x576 with 9 Axes>"
      ]
     },
     "metadata": {},
     "output_type": "display_data"
    },
    {
     "name": "stdout",
     "output_type": "stream",
     "text": [
      "Zero-ordered target layer ID (including ladel bottom layer): tensor([5.])\n"
     ]
    },
    {
     "data": {
      "image/png": "[encoded data removed]",
      "text/plain": [
       "<Figure size 1024x576 with 9 Axes>"
      ]
     },
     "metadata": {},
     "output_type": "display_data"
    },
    {
     "name": "stdout",
     "output_type": "stream",
     "text": [
      "Zero-ordered target layer ID (including ladel bottom layer): tensor([5.])\n"
     ]
    },
    {
     "data": {
      "image/png": "[encoded data removed]",
      "text/plain": [
       "<Figure size 1024x576 with 9 Axes>"
      ]
     },
     "metadata": {},
     "output_type": "display_data"
    },
    {
     "name": "stdout",
     "output_type": "stream",
     "text": [
      "Zero-ordered target layer ID (including ladel bottom layer): tensor([5.])\n"
     ]
    },
    {
     "data": {
      "image/png": "[encoded data removed]",
      "text/plain": [
       "<Figure size 1024x576 with 9 Axes>"
      ]
     },
     "metadata": {},
     "output_type": "display_data"
    },
    {
     "name": "stdout",
     "output_type": "stream",
     "text": [
      "+-------+--------------------+-------+---------------------+\n",
      "| Start |   Int class loss   |   Acc |       Fill MSE      |\n",
      "+-------+--------------------+-------+---------------------+\n",
      "|   -1  |  11.1578950881958  | 0.085 |  0.1335499882698059 |\n",
      "|   0   | 10.674757957458496 | 0.115 | 0.10684998333454132 |\n",
      "|   1   | 10.230779647827148 | 0.115 | 0.10014999657869339 |\n",
      "+-------+--------------------+-------+---------------------+\n"
     ]
    }
   ],
   "source": [
    "# 1d avg Ridge max/min\n",
    "x = get_layer_avgs(ladel_removed)\n",
    "plot_pred(x[test_id,:,None,None], targs[test_id])\n",
    "x = get_1d_avg(x)\n",
    "plot_pred(x[test_id,:,None,None], targs[test_id])\n",
    "x = get_edge_det(x, [-1,0,1])\n",
    "plot_pred(x[test_id,:,None,None], targs[test_id])\n",
    "x = get_max_div_mean(x)\n",
    "plot_pred(x[test_id,:,None,None], targs[test_id])\n",
    "score_data(x, targs)"
   ]
  },
  {
   "cell_type": "code",
   "execution_count": 70,
   "id": "93228f91",
   "metadata": {},
   "outputs": [
    {
     "name": "stdout",
     "output_type": "stream",
     "text": [
      "Zero-ordered target layer ID (including ladel bottom layer): tensor([5.])\n"
     ]
    },
    {
     "data": {
      "image/png": "[encoded data removed]",
      "text/plain": [
       "<Figure size 1024x576 with 9 Axes>"
      ]
     },
     "metadata": {},
     "output_type": "display_data"
    },
    {
     "name": "stdout",
     "output_type": "stream",
     "text": [
      "Zero-ordered target layer ID (including ladel bottom layer): tensor([5.])\n"
     ]
    },
    {
     "data": {
      "image/png": "[encoded data removed]",
      "text/plain": [
       "<Figure size 1024x576 with 9 Axes>"
      ]
     },
     "metadata": {},
     "output_type": "display_data"
    },
    {
     "name": "stdout",
     "output_type": "stream",
     "text": [
      "Zero-ordered target layer ID (including ladel bottom layer): tensor([5.])\n"
     ]
    },
    {
     "data": {
      "image/png": "[encoded data removed]",
      "text/plain": [
       "<Figure size 1024x576 with 9 Axes>"
      ]
     },
     "metadata": {},
     "output_type": "display_data"
    },
    {
     "name": "stdout",
     "output_type": "stream",
     "text": [
      "Zero-ordered target layer ID (including ladel bottom layer): tensor([5.])\n"
     ]
    },
    {
     "data": {
      "image/png": "[encoded data removed]",
      "text/plain": [
       "<Figure size 1024x576 with 9 Axes>"
      ]
     },
     "metadata": {},
     "output_type": "display_data"
    },
    {
     "name": "stdout",
     "output_type": "stream",
     "text": [
      "+-------+--------------------+-------+---------------------+\n",
      "| Start |   Int class loss   |   Acc |       Fill MSE      |\n",
      "+-------+--------------------+-------+---------------------+\n",
      "|   -1  | 11.195673942565918 | 0.085 | 0.13580000400543213 |\n",
      "|   0   | 10.664180755615234 |  0.11 | 0.10779998451471329 |\n",
      "|   1   | 10.167025566101074 | 0.135 |  0.0998000055551529 |\n",
      "+-------+--------------------+-------+---------------------+\n"
     ]
    }
   ],
   "source": [
    "# 3d avg Ridge max/min\n",
    "x = get_3d_avg(ladel_removed)\n",
    "plot_pred(x[test_id], targs[test_id])\n",
    "x = get_layer_avgs(x)\n",
    "plot_pred(x[test_id,:,None,None], targs[test_id])\n",
    "x = get_edge_det(x, [-1,0,1])\n",
    "plot_pred(x[test_id,:,None,None], targs[test_id])\n",
    "x = get_max_div_mean(x)\n",
    "plot_pred(x[test_id,:,None,None], targs[test_id])\n",
    "score_data(x, targs)"
   ]
  },
  {
   "cell_type": "code",
   "execution_count": 71,
   "id": "eec984f1",
   "metadata": {},
   "outputs": [
    {
     "name": "stdout",
     "output_type": "stream",
     "text": [
      "Zero-ordered target layer ID (including ladel bottom layer): tensor([5.])\n"
     ]
    },
    {
     "data": {
      "image/png": "[encoded data removed]",
      "text/plain": [
       "<Figure size 1024x576 with 9 Axes>"
      ]
     },
     "metadata": {},
     "output_type": "display_data"
    },
    {
     "name": "stdout",
     "output_type": "stream",
     "text": [
      "Zero-ordered target layer ID (including ladel bottom layer): tensor([5.])\n"
     ]
    },
    {
     "data": {
      "image/png": "[encoded data removed]",
      "text/plain": [
       "<Figure size 1024x576 with 9 Axes>"
      ]
     },
     "metadata": {},
     "output_type": "display_data"
    },
    {
     "name": "stdout",
     "output_type": "stream",
     "text": [
      "Zero-ordered target layer ID (including ladel bottom layer): tensor([5.])\n"
     ]
    },
    {
     "data": {
      "image/png": "[encoded data removed]",
      "text/plain": [
       "<Figure size 1024x576 with 9 Axes>"
      ]
     },
     "metadata": {},
     "output_type": "display_data"
    },
    {
     "name": "stdout",
     "output_type": "stream",
     "text": [
      "Zero-ordered target layer ID (including ladel bottom layer): tensor([5.])\n"
     ]
    },
    {
     "data": {
      "image/png": "[encoded data removed]",
      "text/plain": [
       "<Figure size 1024x576 with 9 Axes>"
      ]
     },
     "metadata": {},
     "output_type": "display_data"
    },
    {
     "name": "stdout",
     "output_type": "stream",
     "text": [
      "Zero-ordered target layer ID (including ladel bottom layer): tensor([5.])\n"
     ]
    },
    {
     "data": {
      "image/png": "[encoded data removed]",
      "text/plain": [
       "<Figure size 1024x576 with 9 Axes>"
      ]
     },
     "metadata": {},
     "output_type": "display_data"
    },
    {
     "name": "stdout",
     "output_type": "stream",
     "text": [
      "+-------+--------------------+------+---------------------+\n",
      "| Start |   Int class loss   |  Acc |       Fill MSE      |\n",
      "+-------+--------------------+------+---------------------+\n",
      "|   -1  | 12.265951156616211 | 0.05 | 0.15139999985694885 |\n",
      "|   0   | 11.206265449523926 | 0.1  | 0.11159998923540115 |\n",
      "|   1   | 10.109508514404297 | 0.13 | 0.09179999679327011 |\n",
      "+-------+--------------------+------+---------------------+\n"
     ]
    }
   ],
   "source": [
    "# 3d avg 1d avg Ridge max/min\n",
    "x = get_3d_gauss(ladel_removed)\n",
    "plot_pred(x[test_id], targs[test_id])\n",
    "x = get_layer_avgs(x)\n",
    "plot_pred(x[test_id,:,None,None], targs[test_id])\n",
    "x = get_1d_avg(x)\n",
    "plot_pred(x[test_id,:,None,None], targs[test_id])\n",
    "x = get_edge_det(x, [-1,0,1])\n",
    "plot_pred(x[test_id,:,None,None], targs[test_id])\n",
    "x = get_max_div_mean(x)\n",
    "plot_pred(x[test_id,:,None,None], targs[test_id])\n",
    "score_data(x, targs)"
   ]
  },
  {
   "cell_type": "code",
   "execution_count": 72,
   "id": "b28702fe",
   "metadata": {},
   "outputs": [
    {
     "name": "stdout",
     "output_type": "stream",
     "text": [
      "Zero-ordered target layer ID (including ladel bottom layer): tensor([5.])\n"
     ]
    },
    {
     "data": {
      "image/png": "[encoded data removed]",
      "text/plain": [
       "<Figure size 1024x576 with 9 Axes>"
      ]
     },
     "metadata": {},
     "output_type": "display_data"
    },
    {
     "name": "stdout",
     "output_type": "stream",
     "text": [
      "Zero-ordered target layer ID (including ladel bottom layer): tensor([5.])\n"
     ]
    },
    {
     "data": {
      "image/png": "[encoded data removed]",
      "text/plain": [
       "<Figure size 1024x576 with 9 Axes>"
      ]
     },
     "metadata": {},
     "output_type": "display_data"
    },
    {
     "name": "stdout",
     "output_type": "stream",
     "text": [
      "Zero-ordered target layer ID (including ladel bottom layer): tensor([5.])\n"
     ]
    },
    {
     "data": {
      "image/png": "[encoded data removed]",
      "text/plain": [
       "<Figure size 1024x576 with 9 Axes>"
      ]
     },
     "metadata": {},
     "output_type": "display_data"
    },
    {
     "name": "stdout",
     "output_type": "stream",
     "text": [
      "+-------+--------------------+------+---------------------+\n",
      "| Start |   Int class loss   |  Acc |       Fill MSE      |\n",
      "+-------+--------------------+------+---------------------+\n",
      "|   -1  | 11.109618186950684 | 0.12 | 0.07829999178647995 |\n",
      "|   0   | 11.10567855834961  | 0.13 | 0.05849999934434891 |\n",
      "|   1   | 11.102248191833496 | 0.14 | 0.05869999900460243 |\n",
      "+-------+--------------------+------+---------------------+\n"
     ]
    }
   ],
   "source": [
    "# max-min Ridge\n",
    "x = get_layer_avgs(ladel_removed)\n",
    "plot_pred(x[test_id,:,None,None], targs[test_id])\n",
    "x = get_max_sub_mean(x)\n",
    "plot_pred(x[test_id,:,None,None], targs[test_id])\n",
    "x = get_edge_det(x, [-1,0,1])\n",
    "plot_pred(x[test_id,:,None,None], targs[test_id])\n",
    "score_data(x, targs)"
   ]
  },
  {
   "cell_type": "code",
   "execution_count": 73,
   "id": "b2f93428",
   "metadata": {},
   "outputs": [
    {
     "name": "stdout",
     "output_type": "stream",
     "text": [
      "Zero-ordered target layer ID (including ladel bottom layer): tensor([5.])\n"
     ]
    },
    {
     "data": {
      "image/png": "[encoded data removed]",
      "text/plain": [
       "<Figure size 1024x576 with 9 Axes>"
      ]
     },
     "metadata": {},
     "output_type": "display_data"
    },
    {
     "name": "stdout",
     "output_type": "stream",
     "text": [
      "Zero-ordered target layer ID (including ladel bottom layer): tensor([5.])\n"
     ]
    },
    {
     "data": {
      "image/png": "[encoded data removed]",
      "text/plain": [
       "<Figure size 1024x576 with 9 Axes>"
      ]
     },
     "metadata": {},
     "output_type": "display_data"
    },
    {
     "name": "stdout",
     "output_type": "stream",
     "text": [
      "Zero-ordered target layer ID (including ladel bottom layer): tensor([5.])\n"
     ]
    },
    {
     "data": {
      "image/png": "[encoded data removed]",
      "text/plain": [
       "<Figure size 1024x576 with 9 Axes>"
      ]
     },
     "metadata": {},
     "output_type": "display_data"
    },
    {
     "name": "stdout",
     "output_type": "stream",
     "text": [
      "+-------+--------------------+-------+----------------------+\n",
      "| Start |   Int class loss   |   Acc |       Fill MSE       |\n",
      "+-------+--------------------+-------+----------------------+\n",
      "|   -1  | 11.259055137634277 |  0.07 | 0.10925000160932541  |\n",
      "|   0   | 10.916006088256836 | 0.115 | 0.07575000077486038  |\n",
      "|   1   | 10.57562255859375  | 0.165 | 0.062249988317489624 |\n",
      "+-------+--------------------+-------+----------------------+\n"
     ]
    }
   ],
   "source": [
    "# max/min Ridge\n",
    "x = get_layer_avgs(ladel_removed)\n",
    "plot_pred(x[test_id,:,None,None], targs[test_id])\n",
    "x = get_max_div_mean(x)\n",
    "plot_pred(x[test_id,:,None,None], targs[test_id])\n",
    "x = get_edge_det(x, [-1,0,1])\n",
    "plot_pred(x[test_id,:,None,None], targs[test_id])\n",
    "score_data(x, targs)"
   ]
  },
  {
   "cell_type": "code",
   "execution_count": 74,
   "id": "6fdf297d",
   "metadata": {},
   "outputs": [
    {
     "name": "stdout",
     "output_type": "stream",
     "text": [
      "Zero-ordered target layer ID (including ladel bottom layer): tensor([5.])\n"
     ]
    },
    {
     "data": {
      "image/png": "[encoded data removed]",
      "text/plain": [
       "<Figure size 1024x576 with 9 Axes>"
      ]
     },
     "metadata": {},
     "output_type": "display_data"
    },
    {
     "name": "stdout",
     "output_type": "stream",
     "text": [
      "Zero-ordered target layer ID (including ladel bottom layer): tensor([5.])\n"
     ]
    },
    {
     "data": {
      "image/png": "[encoded data removed]",
      "text/plain": [
       "<Figure size 1024x576 with 9 Axes>"
      ]
     },
     "metadata": {},
     "output_type": "display_data"
    },
    {
     "name": "stdout",
     "output_type": "stream",
     "text": [
      "Zero-ordered target layer ID (including ladel bottom layer): tensor([5.])\n"
     ]
    },
    {
     "data": {
      "image/png": "[encoded data removed]",
      "text/plain": [
       "<Figure size 1024x576 with 9 Axes>"
      ]
     },
     "metadata": {},
     "output_type": "display_data"
    },
    {
     "name": "stdout",
     "output_type": "stream",
     "text": [
      "Zero-ordered target layer ID (including ladel bottom layer): tensor([5.])\n"
     ]
    },
    {
     "data": {
      "image/png": "[encoded data removed]",
      "text/plain": [
       "<Figure size 1024x576 with 9 Axes>"
      ]
     },
     "metadata": {},
     "output_type": "display_data"
    },
    {
     "name": "stdout",
     "output_type": "stream",
     "text": [
      "Zero-ordered target layer ID (including ladel bottom layer): tensor([5.])\n"
     ]
    },
    {
     "data": {
      "image/png": "[encoded data removed]",
      "text/plain": [
       "<Figure size 1024x576 with 9 Axes>"
      ]
     },
     "metadata": {},
     "output_type": "display_data"
    },
    {
     "name": "stdout",
     "output_type": "stream",
     "text": [
      "+-------+--------------------+-------+----------------------+\n",
      "| Start |   Int class loss   |   Acc |       Fill MSE       |\n",
      "+-------+--------------------+-------+----------------------+\n",
      "|   -1  | 11.112364768981934 | 0.075 | 0.10349999368190765  |\n",
      "|   0   | 11.108366966247559 | 0.145 | 0.06789998710155487  |\n",
      "|   1   | 11.104300498962402 |  0.16 | 0.052299994975328445 |\n",
      "+-------+--------------------+-------+----------------------+\n"
     ]
    }
   ],
   "source": [
    "# 3d avg 1d avg max-min Ridge \n",
    "x = get_3d_gauss(ladel_removed)\n",
    "plot_pred(x[test_id], targs[test_id])\n",
    "x = get_layer_avgs(x)\n",
    "plot_pred(x[test_id,:,None,None], targs[test_id])\n",
    "x = get_1d_avg(x)\n",
    "plot_pred(x[test_id,:,None,None], targs[test_id])\n",
    "x = get_max_sub_mean(x)\n",
    "plot_pred(x[test_id,:,None,None], targs[test_id])\n",
    "x = get_edge_det(x, [-1,0,1])\n",
    "plot_pred(x[test_id,:,None,None], targs[test_id])\n",
    "score_data(x, targs)"
   ]
  },
  {
   "cell_type": "code",
   "execution_count": 75,
   "id": "289f67cb",
   "metadata": {},
   "outputs": [
    {
     "name": "stdout",
     "output_type": "stream",
     "text": [
      "Zero-ordered target layer ID (including ladel bottom layer): tensor([5.])\n"
     ]
    },
    {
     "data": {
      "image/png": "[encoded data removed]",
      "text/plain": [
       "<Figure size 1024x576 with 9 Axes>"
      ]
     },
     "metadata": {},
     "output_type": "display_data"
    },
    {
     "name": "stdout",
     "output_type": "stream",
     "text": [
      "Zero-ordered target layer ID (including ladel bottom layer): tensor([5.])\n"
     ]
    },
    {
     "data": {
      "image/png": "[encoded data removed]",
      "text/plain": [
       "<Figure size 1024x576 with 9 Axes>"
      ]
     },
     "metadata": {},
     "output_type": "display_data"
    },
    {
     "name": "stdout",
     "output_type": "stream",
     "text": [
      "Zero-ordered target layer ID (including ladel bottom layer): tensor([5.])\n"
     ]
    },
    {
     "data": {
      "image/png": "[encoded data removed]",
      "text/plain": [
       "<Figure size 1024x576 with 9 Axes>"
      ]
     },
     "metadata": {},
     "output_type": "display_data"
    },
    {
     "name": "stdout",
     "output_type": "stream",
     "text": [
      "Zero-ordered target layer ID (including ladel bottom layer): tensor([5.])\n"
     ]
    },
    {
     "data": {
      "image/png": "[encoded data removed]",
      "text/plain": [
       "<Figure size 1024x576 with 9 Axes>"
      ]
     },
     "metadata": {},
     "output_type": "display_data"
    },
    {
     "name": "stdout",
     "output_type": "stream",
     "text": [
      "Zero-ordered target layer ID (including ladel bottom layer): tensor([5.])\n"
     ]
    },
    {
     "data": {
      "image/png": "[encoded data removed]",
      "text/plain": [
       "<Figure size 1024x576 with 9 Axes>"
      ]
     },
     "metadata": {},
     "output_type": "display_data"
    },
    {
     "name": "stdout",
     "output_type": "stream",
     "text": [
      "+-------+--------------------+-------+----------------------+\n",
      "| Start |   Int class loss   |   Acc |       Fill MSE       |\n",
      "+-------+--------------------+-------+----------------------+\n",
      "|   -1  | 11.446755409240723 | 0.065 | 0.12574999034404755  |\n",
      "|   0   | 11.135570526123047 | 0.145 | 0.07804999500513077  |\n",
      "|   1   | 10.782822608947754 | 0.135 | 0.050349995493888855 |\n",
      "+-------+--------------------+-------+----------------------+\n"
     ]
    }
   ],
   "source": [
    "# 3d avg 1d avg max/min Ridge \n",
    "x = get_3d_gauss(ladel_removed)\n",
    "plot_pred(x[test_id], targs[test_id])\n",
    "x = get_layer_avgs(x)\n",
    "plot_pred(x[test_id,:,None,None], targs[test_id])\n",
    "x = get_1d_avg(x)\n",
    "plot_pred(x[test_id,:,None,None], targs[test_id])\n",
    "x = get_max_div_mean(x)\n",
    "plot_pred(x[test_id,:,None,None], targs[test_id])\n",
    "x = get_edge_det(x, [-1,0,1])\n",
    "plot_pred(x[test_id,:,None,None], targs[test_id])\n",
    "score_data(x, targs)"
   ]
  },
  {
   "cell_type": "code",
   "execution_count": 76,
   "id": "c370f23d",
   "metadata": {},
   "outputs": [
    {
     "name": "stdout",
     "output_type": "stream",
     "text": [
      "Zero-ordered target layer ID (including ladel bottom layer): tensor([5.])\n"
     ]
    },
    {
     "data": {
      "image/png": "[encoded data removed]",
      "text/plain": [
       "<Figure size 1024x576 with 9 Axes>"
      ]
     },
     "metadata": {},
     "output_type": "display_data"
    },
    {
     "name": "stdout",
     "output_type": "stream",
     "text": [
      "Zero-ordered target layer ID (including ladel bottom layer): tensor([5.])\n"
     ]
    },
    {
     "data": {
      "image/png": "[encoded data removed]",
      "text/plain": [
       "<Figure size 1024x576 with 9 Axes>"
      ]
     },
     "metadata": {},
     "output_type": "display_data"
    },
    {
     "name": "stdout",
     "output_type": "stream",
     "text": [
      "Zero-ordered target layer ID (including ladel bottom layer): tensor([5.])\n"
     ]
    },
    {
     "data": {
      "image/png": "[encoded data removed]",
      "text/plain": [
       "<Figure size 1024x576 with 9 Axes>"
      ]
     },
     "metadata": {},
     "output_type": "display_data"
    },
    {
     "name": "stdout",
     "output_type": "stream",
     "text": [
      "Zero-ordered target layer ID (including ladel bottom layer): tensor([5.])\n"
     ]
    },
    {
     "data": {
      "image/png": "[encoded data removed]",
      "text/plain": [
       "<Figure size 1024x576 with 9 Axes>"
      ]
     },
     "metadata": {},
     "output_type": "display_data"
    },
    {
     "name": "stdout",
     "output_type": "stream",
     "text": [
      "+-------+--------------------+-------+----------------------+\n",
      "| Start |   Int class loss   |   Acc |       Fill MSE       |\n",
      "+-------+--------------------+-------+----------------------+\n",
      "|   -1  | 11.446518898010254 | 0.065 | 0.12114999443292618  |\n",
      "|   0   | 11.119503021240234 | 0.135 | 0.07724999636411667  |\n",
      "|   1   | 10.747950553894043 | 0.115 | 0.053349994122982025 |\n",
      "+-------+--------------------+-------+----------------------+\n"
     ]
    }
   ],
   "source": [
    "# 1d avg max/min Ridge \n",
    "x = get_layer_avgs(ladel_removed)\n",
    "plot_pred(x[test_id,:,None,None], targs[test_id])\n",
    "x = get_1d_avg(x)\n",
    "plot_pred(x[test_id,:,None,None], targs[test_id])\n",
    "x = get_max_div_mean(x)\n",
    "plot_pred(x[test_id,:,None,None], targs[test_id])\n",
    "x = get_edge_det(x, [-1,0,1])\n",
    "plot_pred(x[test_id,:,None,None], targs[test_id])\n",
    "score_data(x, targs)"
   ]
  },
  {
   "cell_type": "code",
   "execution_count": 77,
   "id": "49727ef6",
   "metadata": {},
   "outputs": [
    {
     "name": "stdout",
     "output_type": "stream",
     "text": [
      "Zero-ordered target layer ID (including ladel bottom layer): tensor([5.])\n"
     ]
    },
    {
     "data": {
      "image/png": "[encoded data removed]",
      "text/plain": [
       "<Figure size 1024x576 with 9 Axes>"
      ]
     },
     "metadata": {},
     "output_type": "display_data"
    },
    {
     "name": "stdout",
     "output_type": "stream",
     "text": [
      "Zero-ordered target layer ID (including ladel bottom layer): tensor([5.])\n"
     ]
    },
    {
     "data": {
      "image/png": "[encoded data removed]",
      "text/plain": [
       "<Figure size 1024x576 with 9 Axes>"
      ]
     },
     "metadata": {},
     "output_type": "display_data"
    },
    {
     "name": "stdout",
     "output_type": "stream",
     "text": [
      "Zero-ordered target layer ID (including ladel bottom layer): tensor([5.])\n"
     ]
    },
    {
     "data": {
      "image/png": "[encoded data removed]",
      "text/plain": [
       "<Figure size 1024x576 with 9 Axes>"
      ]
     },
     "metadata": {},
     "output_type": "display_data"
    },
    {
     "name": "stdout",
     "output_type": "stream",
     "text": [
      "Zero-ordered target layer ID (including ladel bottom layer): tensor([5.])\n"
     ]
    },
    {
     "data": {
      "image/png": "[encoded data removed]",
      "text/plain": [
       "<Figure size 1024x576 with 9 Axes>"
      ]
     },
     "metadata": {},
     "output_type": "display_data"
    },
    {
     "name": "stdout",
     "output_type": "stream",
     "text": [
      "+-------+--------------------+-------+---------------------+\n",
      "| Start |   Int class loss   |   Acc |       Fill MSE      |\n",
      "+-------+--------------------+-------+---------------------+\n",
      "|   -1  |   11.37158203125   |  0.07 | 0.11455000936985016 |\n",
      "|   0   | 11.04983139038086  | 0.125 | 0.07484999299049377 |\n",
      "|   1   | 10.696674346923828 |  0.13 | 0.05514999479055405 |\n",
      "+-------+--------------------+-------+---------------------+\n"
     ]
    }
   ],
   "source": [
    "# 3d avg max/min Ridge \n",
    "x = get_3d_gauss(ladel_removed)\n",
    "plot_pred(x[test_id], targs[test_id])\n",
    "x = get_layer_avgs(x)\n",
    "plot_pred(x[test_id,:,None,None], targs[test_id])\n",
    "x = get_max_div_mean(x)\n",
    "plot_pred(x[test_id,:,None,None], targs[test_id])\n",
    "x = get_edge_det(x, [-1,0,1])\n",
    "plot_pred(x[test_id,:,None,None], targs[test_id])\n",
    "score_data(x, targs)"
   ]
  },
  {
   "cell_type": "markdown",
   "id": "3a75d817",
   "metadata": {},
   "source": [
    "## Laplacian edge"
   ]
  },
  {
   "cell_type": "code",
   "execution_count": 78,
   "id": "c4fa6dd9",
   "metadata": {},
   "outputs": [
    {
     "name": "stdout",
     "output_type": "stream",
     "text": [
      "Zero-ordered target layer ID (including ladel bottom layer): tensor([5.])\n"
     ]
    },
    {
     "data": {
      "image/png": "[encoded data removed]",
      "text/plain": [
       "<Figure size 1024x576 with 9 Axes>"
      ]
     },
     "metadata": {},
     "output_type": "display_data"
    },
    {
     "name": "stdout",
     "output_type": "stream",
     "text": [
      "Zero-ordered target layer ID (including ladel bottom layer): tensor([5.])\n"
     ]
    },
    {
     "data": {
      "image/png": "[encoded data removed]",
      "text/plain": [
       "<Figure size 1024x576 with 9 Axes>"
      ]
     },
     "metadata": {},
     "output_type": "display_data"
    },
    {
     "name": "stdout",
     "output_type": "stream",
     "text": [
      "Zero-ordered target layer ID (including ladel bottom layer): tensor([5.])\n"
     ]
    },
    {
     "data": {
      "image/png": "[encoded data removed]",
      "text/plain": [
       "<Figure size 1024x576 with 9 Axes>"
      ]
     },
     "metadata": {},
     "output_type": "display_data"
    },
    {
     "name": "stdout",
     "output_type": "stream",
     "text": [
      "+-------+--------------------+-------+---------------------+\n",
      "| Start |   Int class loss   |   Acc |       Fill MSE      |\n",
      "+-------+--------------------+-------+---------------------+\n",
      "|   -1  | 11.090719223022461 |  0.16 | 0.04704999551177025 |\n",
      "|   0   | 11.097352027893066 | 0.155 | 0.06214999780058861 |\n",
      "|   1   | 11.10669231414795  | 0.165 | 0.09724999219179153 |\n",
      "+-------+--------------------+-------+---------------------+\n"
     ]
    }
   ],
   "source": [
    "# Laplacian max-min\n",
    "x = get_layer_avgs(ladel_removed)\n",
    "plot_pred(x[test_id,:,None,None], targs[test_id])\n",
    "x = get_edge_det(x, [1,-4,1])\n",
    "plot_pred(x[test_id,:,None,None], targs[test_id])\n",
    "x = get_max_sub_mean(x)\n",
    "plot_pred(x[test_id,:,None,None], targs[test_id])\n",
    "score_data(x, targs)"
   ]
  },
  {
   "cell_type": "code",
   "execution_count": 79,
   "id": "2fd2ca9d",
   "metadata": {},
   "outputs": [
    {
     "name": "stdout",
     "output_type": "stream",
     "text": [
      "Zero-ordered target layer ID (including ladel bottom layer): tensor([5.])\n"
     ]
    },
    {
     "data": {
      "image/png": "[encoded data removed]",
      "text/plain": [
       "<Figure size 1024x576 with 9 Axes>"
      ]
     },
     "metadata": {},
     "output_type": "display_data"
    },
    {
     "name": "stdout",
     "output_type": "stream",
     "text": [
      "Zero-ordered target layer ID (including ladel bottom layer): tensor([5.])\n"
     ]
    },
    {
     "data": {
      "image/png": "[encoded data removed]",
      "text/plain": [
       "<Figure size 1024x576 with 9 Axes>"
      ]
     },
     "metadata": {},
     "output_type": "display_data"
    },
    {
     "name": "stdout",
     "output_type": "stream",
     "text": [
      "Zero-ordered target layer ID (including ladel bottom layer): tensor([5.])\n"
     ]
    },
    {
     "data": {
      "image/png": "[encoded data removed]",
      "text/plain": [
       "<Figure size 1024x576 with 9 Axes>"
      ]
     },
     "metadata": {},
     "output_type": "display_data"
    },
    {
     "name": "stdout",
     "output_type": "stream",
     "text": [
      "Zero-ordered target layer ID (including ladel bottom layer): tensor([5.])\n"
     ]
    },
    {
     "data": {
      "image/png": "[encoded data removed]",
      "text/plain": [
       "<Figure size 1024x576 with 9 Axes>"
      ]
     },
     "metadata": {},
     "output_type": "display_data"
    },
    {
     "name": "stdout",
     "output_type": "stream",
     "text": [
      "+-------+--------------------+-------+----------------------+\n",
      "| Start |   Int class loss   |   Acc |       Fill MSE       |\n",
      "+-------+--------------------+-------+----------------------+\n",
      "|   -1  |   11.09130859375   | 0.165 | 0.048899997025728226 |\n",
      "|   0   | 11.094278335571289 |  0.13 | 0.05849999934434891  |\n",
      "|   1   | 11.09939193725586  |  0.21 | 0.08809999376535416  |\n",
      "+-------+--------------------+-------+----------------------+\n"
     ]
    }
   ],
   "source": [
    "# 1d avg Laplacian max-min\n",
    "x = get_layer_avgs(ladel_removed)\n",
    "plot_pred(x[test_id,:,None,None], targs[test_id])\n",
    "x = get_1d_avg(x)\n",
    "plot_pred(x[test_id,:,None,None], targs[test_id])\n",
    "x = get_edge_det(x, [1,-4,1])\n",
    "plot_pred(x[test_id,:,None,None], targs[test_id])\n",
    "x = get_max_sub_mean(x)\n",
    "plot_pred(x[test_id,:,None,None], targs[test_id])\n",
    "score_data(x, targs)"
   ]
  },
  {
   "cell_type": "code",
   "execution_count": 80,
   "id": "f3363b9a",
   "metadata": {},
   "outputs": [
    {
     "name": "stdout",
     "output_type": "stream",
     "text": [
      "Zero-ordered target layer ID (including ladel bottom layer): tensor([5.])\n"
     ]
    },
    {
     "data": {
      "image/png": "[encoded data removed]",
      "text/plain": [
       "<Figure size 1024x576 with 9 Axes>"
      ]
     },
     "metadata": {},
     "output_type": "display_data"
    },
    {
     "name": "stdout",
     "output_type": "stream",
     "text": [
      "Zero-ordered target layer ID (including ladel bottom layer): tensor([5.])\n"
     ]
    },
    {
     "data": {
      "image/png": "[encoded data removed]",
      "text/plain": [
       "<Figure size 1024x576 with 9 Axes>"
      ]
     },
     "metadata": {},
     "output_type": "display_data"
    },
    {
     "name": "stdout",
     "output_type": "stream",
     "text": [
      "Zero-ordered target layer ID (including ladel bottom layer): tensor([5.])\n"
     ]
    },
    {
     "data": {
      "image/png": "[encoded data removed]",
      "text/plain": [
       "<Figure size 1024x576 with 9 Axes>"
      ]
     },
     "metadata": {},
     "output_type": "display_data"
    },
    {
     "name": "stdout",
     "output_type": "stream",
     "text": [
      "+-------+--------------------+-------+---------------------+\n",
      "| Start |   Int class loss   |   Acc |       Fill MSE      |\n",
      "+-------+--------------------+-------+---------------------+\n",
      "|   -1  | 10.435650825500488 | 0.105 | 0.08689999580383301 |\n",
      "|   0   | 10.421499252319336 |  0.16 |  0.0754999965429306 |\n",
      "|   1   | 10.509197235107422 |  0.15 | 0.08410000056028366 |\n",
      "+-------+--------------------+-------+---------------------+\n"
     ]
    }
   ],
   "source": [
    "# Laplacian max/min\n",
    "x = get_layer_avgs(ladel_removed)\n",
    "plot_pred(x[test_id,:,None,None], targs[test_id])\n",
    "x = -get_edge_det(x, [1,-4,1])\n",
    "plot_pred(x[test_id,:,None,None], targs[test_id])\n",
    "x = get_max_div_mean(x)\n",
    "plot_pred(x[test_id,:,None,None], targs[test_id])\n",
    "score_data(x, targs)"
   ]
  },
  {
   "cell_type": "code",
   "execution_count": 81,
   "id": "42f2e9f9",
   "metadata": {},
   "outputs": [
    {
     "name": "stdout",
     "output_type": "stream",
     "text": [
      "Zero-ordered target layer ID (including ladel bottom layer): tensor([5.])\n"
     ]
    },
    {
     "data": {
      "image/png": "[encoded data removed]",
      "text/plain": [
       "<Figure size 1024x576 with 9 Axes>"
      ]
     },
     "metadata": {},
     "output_type": "display_data"
    },
    {
     "name": "stdout",
     "output_type": "stream",
     "text": [
      "Zero-ordered target layer ID (including ladel bottom layer): tensor([5.])\n"
     ]
    },
    {
     "data": {
      "image/png": "[encoded data removed]",
      "text/plain": [
       "<Figure size 1024x576 with 9 Axes>"
      ]
     },
     "metadata": {},
     "output_type": "display_data"
    },
    {
     "name": "stdout",
     "output_type": "stream",
     "text": [
      "Zero-ordered target layer ID (including ladel bottom layer): tensor([5.])\n"
     ]
    },
    {
     "data": {
      "image/png": "[encoded data removed]",
      "text/plain": [
       "<Figure size 1024x576 with 9 Axes>"
      ]
     },
     "metadata": {},
     "output_type": "display_data"
    },
    {
     "name": "stdout",
     "output_type": "stream",
     "text": [
      "Zero-ordered target layer ID (including ladel bottom layer): tensor([5.])\n"
     ]
    },
    {
     "data": {
      "image/png": "[encoded data removed]",
      "text/plain": [
       "<Figure size 1024x576 with 9 Axes>"
      ]
     },
     "metadata": {},
     "output_type": "display_data"
    },
    {
     "name": "stdout",
     "output_type": "stream",
     "text": [
      "+-------+--------------------+-------+----------------------+\n",
      "| Start |   Int class loss   |   Acc |       Fill MSE       |\n",
      "+-------+--------------------+-------+----------------------+\n",
      "|   -1  | 10.356925010681152 | 0.165 | 0.05524999648332596  |\n",
      "|   0   | 10.315106391906738 |  0.15 | 0.04694999381899834  |\n",
      "|   1   |  10.3670015335083  |  0.16 | 0.058649998158216476 |\n",
      "+-------+--------------------+-------+----------------------+\n"
     ]
    }
   ],
   "source": [
    "# 1d avg Laplacian max/min\n",
    "x = get_layer_avgs(ladel_removed)\n",
    "plot_pred(x[test_id,:,None,None], targs[test_id])\n",
    "x = get_1d_avg(x)\n",
    "plot_pred(x[test_id,:,None,None], targs[test_id])\n",
    "x = -get_edge_det(x, [1,-4,1])\n",
    "plot_pred(x[test_id,:,None,None], targs[test_id])\n",
    "x = get_max_div_mean(x)\n",
    "plot_pred(x[test_id,:,None,None], targs[test_id])\n",
    "score_data(x, targs)"
   ]
  },
  {
   "cell_type": "code",
   "execution_count": 82,
   "id": "2e0de3b5",
   "metadata": {},
   "outputs": [
    {
     "name": "stdout",
     "output_type": "stream",
     "text": [
      "Zero-ordered target layer ID (including ladel bottom layer): tensor([5.])\n"
     ]
    },
    {
     "data": {
      "image/png": "[encoded data removed]",
      "text/plain": [
       "<Figure size 1024x576 with 9 Axes>"
      ]
     },
     "metadata": {},
     "output_type": "display_data"
    },
    {
     "name": "stdout",
     "output_type": "stream",
     "text": [
      "Zero-ordered target layer ID (including ladel bottom layer): tensor([5.])\n"
     ]
    },
    {
     "data": {
      "image/png": "[encoded data removed]",
      "text/plain": [
       "<Figure size 1024x576 with 9 Axes>"
      ]
     },
     "metadata": {},
     "output_type": "display_data"
    },
    {
     "name": "stdout",
     "output_type": "stream",
     "text": [
      "Zero-ordered target layer ID (including ladel bottom layer): tensor([5.])\n"
     ]
    },
    {
     "data": {
      "image/png": "[encoded data removed]",
      "text/plain": [
       "<Figure size 1024x576 with 9 Axes>"
      ]
     },
     "metadata": {},
     "output_type": "display_data"
    },
    {
     "name": "stdout",
     "output_type": "stream",
     "text": [
      "Zero-ordered target layer ID (including ladel bottom layer): tensor([5.])\n"
     ]
    },
    {
     "data": {
      "image/png": "[encoded data removed]",
      "text/plain": [
       "<Figure size 1024x576 with 9 Axes>"
      ]
     },
     "metadata": {},
     "output_type": "display_data"
    },
    {
     "name": "stdout",
     "output_type": "stream",
     "text": [
      "+-------+--------------------+-------+----------------------+\n",
      "| Start |   Int class loss   |   Acc |       Fill MSE       |\n",
      "+-------+--------------------+-------+----------------------+\n",
      "|   -1  | 10.33626937866211  |  0.18 | 0.054099999368190765 |\n",
      "|   0   | 10.285017967224121 |  0.13 | 0.04569999873638153  |\n",
      "|   1   | 10.332829475402832 | 0.175 | 0.05729999393224716  |\n",
      "+-------+--------------------+-------+----------------------+\n"
     ]
    }
   ],
   "source": [
    "# 3d avg Laplacian max/min\n",
    "x = get_3d_avg(ladel_removed)\n",
    "plot_pred(x[test_id], targs[test_id])\n",
    "x = get_layer_avgs(x)\n",
    "plot_pred(x[test_id,:,None,None], targs[test_id])\n",
    "x = -get_edge_det(x, [1,-4,1])\n",
    "plot_pred(x[test_id,:,None,None], targs[test_id])\n",
    "x = get_max_div_mean(x)\n",
    "plot_pred(x[test_id,:,None,None], targs[test_id])\n",
    "score_data(x, targs)"
   ]
  },
  {
   "cell_type": "code",
   "execution_count": 83,
   "id": "ec7122ae",
   "metadata": {},
   "outputs": [
    {
     "name": "stdout",
     "output_type": "stream",
     "text": [
      "Zero-ordered target layer ID (including ladel bottom layer): tensor([5.])\n"
     ]
    },
    {
     "data": {
      "image/png": "[encoded data removed]",
      "text/plain": [
       "<Figure size 1024x576 with 9 Axes>"
      ]
     },
     "metadata": {},
     "output_type": "display_data"
    },
    {
     "name": "stdout",
     "output_type": "stream",
     "text": [
      "Zero-ordered target layer ID (including ladel bottom layer): tensor([5.])\n"
     ]
    },
    {
     "data": {
      "image/png": "[encoded data removed]",
      "text/plain": [
       "<Figure size 1024x576 with 9 Axes>"
      ]
     },
     "metadata": {},
     "output_type": "display_data"
    },
    {
     "name": "stdout",
     "output_type": "stream",
     "text": [
      "Zero-ordered target layer ID (including ladel bottom layer): tensor([5.])\n"
     ]
    },
    {
     "data": {
      "image/png": "[encoded data removed]",
      "text/plain": [
       "<Figure size 1024x576 with 9 Axes>"
      ]
     },
     "metadata": {},
     "output_type": "display_data"
    },
    {
     "name": "stdout",
     "output_type": "stream",
     "text": [
      "Zero-ordered target layer ID (including ladel bottom layer): tensor([5.])\n"
     ]
    },
    {
     "data": {
      "image/png": "[encoded data removed]",
      "text/plain": [
       "<Figure size 1024x576 with 9 Axes>"
      ]
     },
     "metadata": {},
     "output_type": "display_data"
    },
    {
     "name": "stdout",
     "output_type": "stream",
     "text": [
      "Zero-ordered target layer ID (including ladel bottom layer): tensor([5.])\n"
     ]
    },
    {
     "data": {
      "image/png": "[encoded data removed]",
      "text/plain": [
       "<Figure size 1024x576 with 9 Axes>"
      ]
     },
     "metadata": {},
     "output_type": "display_data"
    },
    {
     "name": "stdout",
     "output_type": "stream",
     "text": [
      "+-------+--------------------+-------+---------------------+\n",
      "| Start |   Int class loss   |   Acc |       Fill MSE      |\n",
      "+-------+--------------------+-------+---------------------+\n",
      "|   -1  | 10.379302024841309 | 0.155 | 0.05339999496936798 |\n",
      "|   0   | 10.329204559326172 | 0.155 | 0.04359999671578407 |\n",
      "|   1   | 10.364903450012207 | 0.135 | 0.05380000174045563 |\n",
      "+-------+--------------------+-------+---------------------+\n"
     ]
    }
   ],
   "source": [
    "# 3d avg 1d avg Laplacian max/min\n",
    "x = get_3d_avg(ladel_removed)\n",
    "plot_pred(x[test_id], targs[test_id])\n",
    "x = get_layer_avgs(x)\n",
    "plot_pred(x[test_id,:,None,None], targs[test_id])\n",
    "x = get_1d_avg(x)\n",
    "plot_pred(x[test_id,:,None,None], targs[test_id])\n",
    "x = -get_edge_det(x, [1,-4,1])\n",
    "plot_pred(x[test_id,:,None,None], targs[test_id])\n",
    "x = get_max_div_mean(x)\n",
    "plot_pred(x[test_id,:,None,None], targs[test_id])\n",
    "score_data(x, targs)"
   ]
  },
  {
   "cell_type": "code",
   "execution_count": 84,
   "id": "12e660cd",
   "metadata": {},
   "outputs": [
    {
     "name": "stdout",
     "output_type": "stream",
     "text": [
      "Zero-ordered target layer ID (including ladel bottom layer): tensor([5.])\n"
     ]
    },
    {
     "data": {
      "image/png": "[encoded data removed]",
      "text/plain": [
       "<Figure size 1024x576 with 9 Axes>"
      ]
     },
     "metadata": {},
     "output_type": "display_data"
    },
    {
     "name": "stdout",
     "output_type": "stream",
     "text": [
      "Zero-ordered target layer ID (including ladel bottom layer): tensor([5.])\n"
     ]
    },
    {
     "data": {
      "image/png": "[encoded data removed]",
      "text/plain": [
       "<Figure size 1024x576 with 9 Axes>"
      ]
     },
     "metadata": {},
     "output_type": "display_data"
    },
    {
     "name": "stdout",
     "output_type": "stream",
     "text": [
      "Zero-ordered target layer ID (including ladel bottom layer): tensor([5.])\n"
     ]
    },
    {
     "data": {
      "image/png": "[encoded data removed]",
      "text/plain": [
       "<Figure size 1024x576 with 9 Axes>"
      ]
     },
     "metadata": {},
     "output_type": "display_data"
    },
    {
     "name": "stdout",
     "output_type": "stream",
     "text": [
      "Zero-ordered target layer ID (including ladel bottom layer): tensor([5.])\n"
     ]
    },
    {
     "data": {
      "image/png": "[encoded data removed]",
      "text/plain": [
       "<Figure size 1024x576 with 9 Axes>"
      ]
     },
     "metadata": {},
     "output_type": "display_data"
    },
    {
     "name": "stdout",
     "output_type": "stream",
     "text": [
      "Zero-ordered target layer ID (including ladel bottom layer): tensor([5.])\n"
     ]
    },
    {
     "data": {
      "image/png": "[encoded data removed]",
      "text/plain": [
       "<Figure size 1024x576 with 9 Axes>"
      ]
     },
     "metadata": {},
     "output_type": "display_data"
    },
    {
     "name": "stdout",
     "output_type": "stream",
     "text": [
      "Zero-ordered target layer ID (including ladel bottom layer): tensor([5.])\n"
     ]
    },
    {
     "data": {
      "image/png": "[encoded data removed]",
      "text/plain": [
       "<Figure size 1024x576 with 9 Axes>"
      ]
     },
     "metadata": {},
     "output_type": "display_data"
    },
    {
     "name": "stdout",
     "output_type": "stream",
     "text": [
      "+-------+--------------------+------+---------------------+\n",
      "| Start |   Int class loss   |  Acc |       Fill MSE      |\n",
      "+-------+--------------------+------+---------------------+\n",
      "|   -1  | 11.10827350616455  | 0.15 | 0.06004999205470085 |\n",
      "|   0   | 11.117469787597656 | 0.16 | 0.09074998646974564 |\n",
      "|   1   |  11.1267728805542  | 0.14 | 0.14144998788833618 |\n",
      "+-------+--------------------+------+---------------------+\n"
     ]
    }
   ],
   "source": [
    "# 3d avg 1d avg Laplacian max-min edge\n",
    "x = get_3d_avg(ladel_removed)\n",
    "plot_pred(x[test_id], targs[test_id])\n",
    "x = get_layer_avgs(x)\n",
    "plot_pred(x[test_id,:,None,None], targs[test_id])\n",
    "x = get_1d_avg(x)\n",
    "plot_pred(x[test_id,:,None,None], targs[test_id])\n",
    "x = get_edge_det(x, [1,-4,1])\n",
    "plot_pred(x[test_id,:,None,None], targs[test_id])\n",
    "x = get_max_sub_mean(x)\n",
    "plot_pred(x[test_id,:,None,None], targs[test_id])\n",
    "x = get_edge_det(x, [1,0,-1])\n",
    "plot_pred(x[test_id,:,None,None], targs[test_id])\n",
    "score_data(x, targs)"
   ]
  },
  {
   "cell_type": "code",
   "execution_count": 85,
   "id": "4d334c5d",
   "metadata": {},
   "outputs": [
    {
     "name": "stdout",
     "output_type": "stream",
     "text": [
      "Zero-ordered target layer ID (including ladel bottom layer): tensor([5.])\n"
     ]
    },
    {
     "data": {
      "image/png": "[encoded data removed]",
      "text/plain": [
       "<Figure size 1024x576 with 9 Axes>"
      ]
     },
     "metadata": {},
     "output_type": "display_data"
    },
    {
     "name": "stdout",
     "output_type": "stream",
     "text": [
      "Zero-ordered target layer ID (including ladel bottom layer): tensor([5.])\n"
     ]
    },
    {
     "data": {
      "image/png": "[encoded data removed]",
      "text/plain": [
       "<Figure size 1024x576 with 9 Axes>"
      ]
     },
     "metadata": {},
     "output_type": "display_data"
    },
    {
     "name": "stdout",
     "output_type": "stream",
     "text": [
      "Zero-ordered target layer ID (including ladel bottom layer): tensor([5.])\n"
     ]
    },
    {
     "data": {
      "image/png": "[encoded data removed]",
      "text/plain": [
       "<Figure size 1024x576 with 9 Axes>"
      ]
     },
     "metadata": {},
     "output_type": "display_data"
    },
    {
     "name": "stdout",
     "output_type": "stream",
     "text": [
      "Zero-ordered target layer ID (including ladel bottom layer): tensor([5.])\n"
     ]
    },
    {
     "data": {
      "image/png": "[encoded data removed]",
      "text/plain": [
       "<Figure size 1024x576 with 9 Axes>"
      ]
     },
     "metadata": {},
     "output_type": "display_data"
    },
    {
     "name": "stdout",
     "output_type": "stream",
     "text": [
      "Zero-ordered target layer ID (including ladel bottom layer): tensor([5.])\n"
     ]
    },
    {
     "data": {
      "image/png": "[encoded data removed]",
      "text/plain": [
       "<Figure size 1024x576 with 9 Axes>"
      ]
     },
     "metadata": {},
     "output_type": "display_data"
    },
    {
     "name": "stdout",
     "output_type": "stream",
     "text": [
      "Zero-ordered target layer ID (including ladel bottom layer): tensor([5.])\n"
     ]
    },
    {
     "data": {
      "image/png": "[encoded data removed]",
      "text/plain": [
       "<Figure size 1024x576 with 9 Axes>"
      ]
     },
     "metadata": {},
     "output_type": "display_data"
    },
    {
     "name": "stdout",
     "output_type": "stream",
     "text": [
      "+-------+--------------------+-------+---------------------+\n",
      "| Start |   Int class loss   |   Acc |       Fill MSE      |\n",
      "+-------+--------------------+-------+---------------------+\n",
      "|   -1  | 11.364811897277832 | 0.055 | 0.13490000367164612 |\n",
      "|   0   | 11.13734245300293  |  0.13 | 0.08370000123977661 |\n",
      "|   1   | 10.884526252746582 | 0.145 | 0.05249999091029167 |\n",
      "+-------+--------------------+-------+---------------------+\n"
     ]
    }
   ],
   "source": [
    "# 3d avg 1d avg Laplacian max/min edge\n",
    "x = get_3d_avg(ladel_removed)\n",
    "plot_pred(x[test_id], targs[test_id])\n",
    "x = get_layer_avgs(x)\n",
    "plot_pred(x[test_id,:,None,None], targs[test_id])\n",
    "x = get_1d_avg(x)\n",
    "plot_pred(x[test_id,:,None,None], targs[test_id])\n",
    "x = get_edge_det(x, [1,-4,1])\n",
    "plot_pred(x[test_id,:,None,None], targs[test_id])\n",
    "x = get_max_div_mean(x)\n",
    "plot_pred(x[test_id,:,None,None], targs[test_id])\n",
    "x = get_edge_det(x, [1,0,-1])\n",
    "plot_pred(x[test_id,:,None,None], targs[test_id])\n",
    "score_data(x, targs)"
   ]
  },
  {
   "cell_type": "code",
   "execution_count": 86,
   "id": "cafd6ad9",
   "metadata": {},
   "outputs": [
    {
     "name": "stdout",
     "output_type": "stream",
     "text": [
      "Zero-ordered target layer ID (including ladel bottom layer): tensor([5.])\n"
     ]
    },
    {
     "data": {
      "image/png": "[encoded data removed]",
      "text/plain": [
       "<Figure size 1024x576 with 9 Axes>"
      ]
     },
     "metadata": {},
     "output_type": "display_data"
    },
    {
     "name": "stdout",
     "output_type": "stream",
     "text": [
      "Zero-ordered target layer ID (including ladel bottom layer): tensor([5.])\n"
     ]
    },
    {
     "data": {
      "image/png": "[encoded data removed]",
      "text/plain": [
       "<Figure size 1024x576 with 9 Axes>"
      ]
     },
     "metadata": {},
     "output_type": "display_data"
    },
    {
     "name": "stdout",
     "output_type": "stream",
     "text": [
      "Zero-ordered target layer ID (including ladel bottom layer): tensor([5.])\n"
     ]
    },
    {
     "data": {
      "image/png": "[encoded data removed]",
      "text/plain": [
       "<Figure size 1024x576 with 9 Axes>"
      ]
     },
     "metadata": {},
     "output_type": "display_data"
    },
    {
     "name": "stdout",
     "output_type": "stream",
     "text": [
      "+-------+-------------------+------+---------------------+\n",
      "| Start |   Int class loss  |  Acc |       Fill MSE      |\n",
      "+-------+-------------------+------+---------------------+\n",
      "|   -1  | 9.380541801452637 | 0.11 | 0.06149999797344208 |\n",
      "|   0   | 9.347485542297363 | 0.17 | 0.05629999563097954 |\n",
      "|   1   | 9.556241035461426 | 0.16 | 0.07109998911619186 |\n",
      "+-------+-------------------+------+---------------------+\n"
     ]
    }
   ],
   "source": [
    "# max/min Laplacian \n",
    "x = get_layer_avgs(ladel_removed)\n",
    "plot_pred(x[test_id,:,None,None], targs[test_id])\n",
    "x = get_max_div_mean(x)\n",
    "plot_pred(x[test_id,:,None,None], targs[test_id])\n",
    "x = -get_edge_det(x, [1,-4,1])\n",
    "plot_pred(x[test_id,:,None,None], targs[test_id])\n",
    "score_data(x, targs)"
   ]
  },
  {
   "cell_type": "code",
   "execution_count": 87,
   "id": "1b1ce464",
   "metadata": {},
   "outputs": [
    {
     "name": "stdout",
     "output_type": "stream",
     "text": [
      "Zero-ordered target layer ID (including ladel bottom layer): tensor([5.])\n"
     ]
    },
    {
     "data": {
      "image/png": "[encoded data removed]",
      "text/plain": [
       "<Figure size 1024x576 with 9 Axes>"
      ]
     },
     "metadata": {},
     "output_type": "display_data"
    },
    {
     "name": "stdout",
     "output_type": "stream",
     "text": [
      "Zero-ordered target layer ID (including ladel bottom layer): tensor([5.])\n"
     ]
    },
    {
     "data": {
      "image/png": "[encoded data removed]",
      "text/plain": [
       "<Figure size 1024x576 with 9 Axes>"
      ]
     },
     "metadata": {},
     "output_type": "display_data"
    },
    {
     "name": "stdout",
     "output_type": "stream",
     "text": [
      "Zero-ordered target layer ID (including ladel bottom layer): tensor([5.])\n"
     ]
    },
    {
     "data": {
      "image/png": "[encoded data removed]",
      "text/plain": [
       "<Figure size 1024x576 with 9 Axes>"
      ]
     },
     "metadata": {},
     "output_type": "display_data"
    },
    {
     "name": "stdout",
     "output_type": "stream",
     "text": [
      "Zero-ordered target layer ID (including ladel bottom layer): tensor([5.])\n"
     ]
    },
    {
     "data": {
      "image/png": "[encoded data removed]",
      "text/plain": [
       "<Figure size 1024x576 with 9 Axes>"
      ]
     },
     "metadata": {},
     "output_type": "display_data"
    },
    {
     "name": "stdout",
     "output_type": "stream",
     "text": [
      "+-------+-------------------+-------+---------------------+\n",
      "| Start |   Int class loss  |   Acc |       Fill MSE      |\n",
      "+-------+-------------------+-------+---------------------+\n",
      "|   -1  | 9.518067359924316 | 0.165 | 0.05644999071955681 |\n",
      "|   0   | 9.402939796447754 |  0.14 | 0.04714999720454216 |\n",
      "|   1   | 9.485395431518555 | 0.155 | 0.05784999206662178 |\n",
      "+-------+-------------------+-------+---------------------+\n"
     ]
    }
   ],
   "source": [
    "# 1d avg max/min Laplacian edge\n",
    "x = get_layer_avgs(ladel_removed)\n",
    "plot_pred(x[test_id,:,None,None], targs[test_id])\n",
    "x = get_1d_avg(x)\n",
    "plot_pred(x[test_id,:,None,None], targs[test_id])\n",
    "x = get_max_div_mean(x)\n",
    "plot_pred(x[test_id,:,None,None], targs[test_id])\n",
    "x = -get_edge_det(x, [1,-4,1])\n",
    "plot_pred(x[test_id,:,None,None], targs[test_id])\n",
    "score_data(x, targs)"
   ]
  },
  {
   "cell_type": "code",
   "execution_count": 88,
   "id": "9a217aae",
   "metadata": {},
   "outputs": [
    {
     "name": "stdout",
     "output_type": "stream",
     "text": [
      "Zero-ordered target layer ID (including ladel bottom layer): tensor([5.])\n"
     ]
    },
    {
     "data": {
      "image/png": "[encoded data removed]",
      "text/plain": [
       "<Figure size 1024x576 with 9 Axes>"
      ]
     },
     "metadata": {},
     "output_type": "display_data"
    },
    {
     "name": "stdout",
     "output_type": "stream",
     "text": [
      "Zero-ordered target layer ID (including ladel bottom layer): tensor([5.])\n"
     ]
    },
    {
     "data": {
      "image/png": "[encoded data removed]",
      "text/plain": [
       "<Figure size 1024x576 with 9 Axes>"
      ]
     },
     "metadata": {},
     "output_type": "display_data"
    },
    {
     "name": "stdout",
     "output_type": "stream",
     "text": [
      "Zero-ordered target layer ID (including ladel bottom layer): tensor([5.])\n"
     ]
    },
    {
     "data": {
      "image/png": "[encoded data removed]",
      "text/plain": [
       "<Figure size 1024x576 with 9 Axes>"
      ]
     },
     "metadata": {},
     "output_type": "display_data"
    },
    {
     "name": "stdout",
     "output_type": "stream",
     "text": [
      "Zero-ordered target layer ID (including ladel bottom layer): tensor([5.])\n"
     ]
    },
    {
     "data": {
      "image/png": "[encoded data removed]",
      "text/plain": [
       "<Figure size 1024x576 with 9 Axes>"
      ]
     },
     "metadata": {},
     "output_type": "display_data"
    },
    {
     "name": "stdout",
     "output_type": "stream",
     "text": [
      "+-------+-------------------+-------+---------------------+\n",
      "| Start |   Int class loss  |   Acc |       Fill MSE      |\n",
      "+-------+-------------------+-------+---------------------+\n",
      "|   -1  | 9.483320236206055 | 0.185 | 0.05639999359846115 |\n",
      "|   0   | 9.348572731018066 |  0.12 | 0.04599999263882637 |\n",
      "|   1   | 9.420491218566895 |  0.15 | 0.05559999495744705 |\n",
      "+-------+-------------------+-------+---------------------+\n"
     ]
    }
   ],
   "source": [
    "# 3d avg max/min Laplacian edge\n",
    "x = get_3d_avg(ladel_removed)\n",
    "plot_pred(x[test_id], targs[test_id])\n",
    "x = get_layer_avgs(x)\n",
    "plot_pred(x[test_id,:,None,None], targs[test_id])\n",
    "x = get_max_div_mean(x)\n",
    "plot_pred(x[test_id,:,None,None], targs[test_id])\n",
    "x = -get_edge_det(x, [1,-4,1])\n",
    "plot_pred(x[test_id,:,None,None], targs[test_id])\n",
    "score_data(x, targs)"
   ]
  },
  {
   "cell_type": "code",
   "execution_count": 89,
   "id": "4e3650a6",
   "metadata": {},
   "outputs": [
    {
     "name": "stdout",
     "output_type": "stream",
     "text": [
      "Zero-ordered target layer ID (including ladel bottom layer): tensor([5.])\n"
     ]
    },
    {
     "data": {
      "image/png": "[encoded data removed]",
      "text/plain": [
       "<Figure size 1024x576 with 9 Axes>"
      ]
     },
     "metadata": {},
     "output_type": "display_data"
    },
    {
     "name": "stdout",
     "output_type": "stream",
     "text": [
      "Zero-ordered target layer ID (including ladel bottom layer): tensor([5.])\n"
     ]
    },
    {
     "data": {
      "image/png": "[encoded data removed]",
      "text/plain": [
       "<Figure size 1024x576 with 9 Axes>"
      ]
     },
     "metadata": {},
     "output_type": "display_data"
    },
    {
     "name": "stdout",
     "output_type": "stream",
     "text": [
      "Zero-ordered target layer ID (including ladel bottom layer): tensor([5.])\n"
     ]
    },
    {
     "data": {
      "image/png": "[encoded data removed]",
      "text/plain": [
       "<Figure size 1024x576 with 9 Axes>"
      ]
     },
     "metadata": {},
     "output_type": "display_data"
    },
    {
     "name": "stdout",
     "output_type": "stream",
     "text": [
      "Zero-ordered target layer ID (including ladel bottom layer): tensor([5.])\n"
     ]
    },
    {
     "data": {
      "image/png": "[encoded data removed]",
      "text/plain": [
       "<Figure size 1024x576 with 9 Axes>"
      ]
     },
     "metadata": {},
     "output_type": "display_data"
    },
    {
     "name": "stdout",
     "output_type": "stream",
     "text": [
      "Zero-ordered target layer ID (including ladel bottom layer): tensor([5.])\n"
     ]
    },
    {
     "data": {
      "image/png": "[encoded data removed]",
      "text/plain": [
       "<Figure size 1024x576 with 9 Axes>"
      ]
     },
     "metadata": {},
     "output_type": "display_data"
    },
    {
     "name": "stdout",
     "output_type": "stream",
     "text": [
      "+-------+-------------------+------+----------------------+\n",
      "| Start |   Int class loss  |  Acc |       Fill MSE       |\n",
      "+-------+-------------------+------+----------------------+\n",
      "|   -1  | 9.641368865966797 | 0.16 | 0.055949997156858444 |\n",
      "|   0   | 9.499887466430664 | 0.16 | 0.044249992817640305 |\n",
      "|   1   | 9.526627540588379 | 0.13 | 0.05254999175667763  |\n",
      "+-------+-------------------+------+----------------------+\n"
     ]
    }
   ],
   "source": [
    "# 3d avg 1d avg max/min Laplacian edge\n",
    "x = get_3d_avg(ladel_removed)\n",
    "plot_pred(x[test_id], targs[test_id])\n",
    "x = get_layer_avgs(x)\n",
    "plot_pred(x[test_id,:,None,None], targs[test_id])\n",
    "x = get_1d_avg(x)\n",
    "plot_pred(x[test_id,:,None,None], targs[test_id])\n",
    "x = get_max_div_mean(x)\n",
    "plot_pred(x[test_id,:,None,None], targs[test_id])\n",
    "x = -get_edge_det(x, [1,-4,1])\n",
    "plot_pred(x[test_id,:,None,None], targs[test_id])\n",
    "score_data(x, targs)"
   ]
  },
  {
   "cell_type": "code",
   "execution_count": 90,
   "id": "282d5269",
   "metadata": {},
   "outputs": [
    {
     "name": "stdout",
     "output_type": "stream",
     "text": [
      "Zero-ordered target layer ID (including ladel bottom layer): tensor([5.])\n"
     ]
    },
    {
     "data": {
      "image/png": "[encoded data removed]",
      "text/plain": [
       "<Figure size 1024x576 with 9 Axes>"
      ]
     },
     "metadata": {},
     "output_type": "display_data"
    },
    {
     "name": "stdout",
     "output_type": "stream",
     "text": [
      "Zero-ordered target layer ID (including ladel bottom layer): tensor([5.])\n"
     ]
    },
    {
     "data": {
      "image/png": "[encoded data removed]",
      "text/plain": [
       "<Figure size 1024x576 with 9 Axes>"
      ]
     },
     "metadata": {},
     "output_type": "display_data"
    },
    {
     "name": "stdout",
     "output_type": "stream",
     "text": [
      "Zero-ordered target layer ID (including ladel bottom layer): tensor([5.])\n"
     ]
    },
    {
     "data": {
      "image/png": "[encoded data removed]",
      "text/plain": [
       "<Figure size 1024x576 with 9 Axes>"
      ]
     },
     "metadata": {},
     "output_type": "display_data"
    },
    {
     "name": "stdout",
     "output_type": "stream",
     "text": [
      "Zero-ordered target layer ID (including ladel bottom layer): tensor([5.])\n"
     ]
    },
    {
     "data": {
      "image/png": "[encoded data removed]",
      "text/plain": [
       "<Figure size 1024x576 with 9 Axes>"
      ]
     },
     "metadata": {},
     "output_type": "display_data"
    },
    {
     "name": "stdout",
     "output_type": "stream",
     "text": [
      "Zero-ordered target layer ID (including ladel bottom layer): tensor([5.])\n"
     ]
    },
    {
     "data": {
      "image/png": "[encoded data removed]",
      "text/plain": [
       "<Figure size 1024x576 with 9 Axes>"
      ]
     },
     "metadata": {},
     "output_type": "display_data"
    },
    {
     "name": "stdout",
     "output_type": "stream",
     "text": [
      "+-------+--------------------+-------+----------------------+\n",
      "| Start |   Int class loss   |   Acc |       Fill MSE       |\n",
      "+-------+--------------------+-------+----------------------+\n",
      "|   -1  | 11.090174674987793 | 0.155 | 0.044099997729063034 |\n",
      "|   0   | 11.091815948486328 |  0.16 |  0.0478999987244606  |\n",
      "|   1   | 11.095672607421875 | 0.175 | 0.07169999182224274  |\n",
      "+-------+--------------------+-------+----------------------+\n"
     ]
    }
   ],
   "source": [
    "# 3d avg 1d avg max-min Laplacian edge\n",
    "x = get_3d_avg(ladel_removed)\n",
    "plot_pred(x[test_id], targs[test_id])\n",
    "x = get_layer_avgs(x)\n",
    "plot_pred(x[test_id,:,None,None], targs[test_id])\n",
    "x = get_1d_avg(x)\n",
    "plot_pred(x[test_id,:,None,None], targs[test_id])\n",
    "x = get_max_sub_mean(x)\n",
    "plot_pred(x[test_id,:,None,None], targs[test_id])\n",
    "x = -get_edge_det(x, [1,-4,1])\n",
    "plot_pred(x[test_id,:,None,None], targs[test_id])\n",
    "score_data(x, targs)"
   ]
  },
  {
   "cell_type": "code",
   "execution_count": null,
   "id": "687436f7",
   "metadata": {},
   "outputs": [],
   "source": []
  }
 ],
 "metadata": {
  "kernelspec": {
   "display_name": "Python [conda env:tomopt]",
   "language": "python",
   "name": "conda-env-tomopt-py"
  },
  "language_info": {
   "codemirror_mode": {
    "name": "ipython",
    "version": 3
   },
   "file_extension": ".py",
   "mimetype": "text/x-python",
   "name": "python",
   "nbconvert_exporter": "python",
   "pygments_lexer": "ipython3",
   "version": "3.8.0"
  },
  "toc": {
   "base_numbering": 1,
   "nav_menu": {},
   "number_sections": true,
   "sideBar": true,
   "skip_h1_title": false,
   "title_cell": "Table of Contents",
   "title_sidebar": "Contents",
   "toc_cell": false,
   "toc_position": {},
   "toc_section_display": true,
   "toc_window_display": false
  }
 },
 "nbformat": 4,
 "nbformat_minor": 5
}
