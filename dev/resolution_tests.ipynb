{
 "cells": [
  {
   "cell_type": "code",
   "execution_count": 1,
   "metadata": {},
   "outputs": [],
   "source": [
    "%matplotlib inline\n",
    "%reload_ext autoreload\n",
    "%autoreload 2"
   ]
  },
  {
   "cell_type": "markdown",
   "metadata": {},
   "source": [
    "# Muons"
   ]
  },
  {
   "cell_type": "markdown",
   "metadata": {},
   "source": [
    "## Muon generation"
   ]
  },
  {
   "cell_type": "code",
   "execution_count": 2,
   "metadata": {},
   "outputs": [],
   "source": [
    "from tomopt.muon import generate_batch"
   ]
  },
  {
   "cell_type": "code",
   "execution_count": 3,
   "metadata": {},
   "outputs": [],
   "source": [
    "import matplotlib.pyplot as plt\n",
    "import seaborn as sns"
   ]
  },
  {
   "cell_type": "code",
   "execution_count": 4,
   "metadata": {},
   "outputs": [],
   "source": [
    "from tomopt.muon import MuonBatch"
   ]
  },
  {
   "cell_type": "code",
   "execution_count": 5,
   "metadata": {},
   "outputs": [],
   "source": [
    "import torch\n",
    "from torch import Tensor"
   ]
  },
  {
   "cell_type": "code",
   "execution_count": 11,
   "metadata": {},
   "outputs": [
    {
     "data": {
      "text/plain": [
       "tensor(1.0002)"
      ]
     },
     "execution_count": 11,
     "metadata": {},
     "output_type": "execute_result"
    }
   ],
   "source": [
    "torch.randn(int(1e8)).pow(2).mean()"
   ]
  },
  {
   "cell_type": "code",
   "execution_count": 6,
   "metadata": {},
   "outputs": [],
   "source": [
    "from tomopt.core import X0"
   ]
  },
  {
   "cell_type": "code",
   "execution_count": 7,
   "metadata": {},
   "outputs": [],
   "source": [
    "def arb_rad_length(*,z:float, lw:Tensor, size:float) -> float:\n",
    "    rad_length = torch.ones(list((lw/size).long()))*1e5\n",
    "    if z >= 0.5 and z <= 0.5: rad_length[...] = X0['lead']#X0['beryllium']\n",
    "#     if z == 0.6 : rad_length[...] = X0['beryllium']\n",
    "        \n",
    "    return rad_length"
   ]
  },
  {
   "cell_type": "code",
   "execution_count": 8,
   "metadata": {},
   "outputs": [],
   "source": [
    "from tomopt.volume import PassiveLayer, DetectorLayer"
   ]
  },
  {
   "cell_type": "markdown",
   "metadata": {},
   "source": [
    "### Cost functions"
   ]
  },
  {
   "cell_type": "code",
   "execution_count": 9,
   "metadata": {},
   "outputs": [],
   "source": [
    "import torch.nn.functional as F"
   ]
  },
  {
   "cell_type": "code",
   "execution_count": 10,
   "metadata": {},
   "outputs": [],
   "source": [
    "def eff_cost(x:Tensor) -> Tensor:\n",
    "    return torch.expm1(3*F.relu(x))"
   ]
  },
  {
   "cell_type": "code",
   "execution_count": 11,
   "metadata": {},
   "outputs": [],
   "source": [
    "def res_cost(x:Tensor) -> Tensor:\n",
    "    return F.relu(x/100)**2"
   ]
  },
  {
   "cell_type": "code",
   "execution_count": 94,
   "metadata": {},
   "outputs": [],
   "source": [
    "def get_layers():\n",
    "    layers = []\n",
    "    lwh = Tensor([1,1,1])\n",
    "    size = 0.1\n",
    "    init_eff = 0.5\n",
    "    init_res = 10000000\n",
    "    pos = 'above'\n",
    "    for z,d in zip(np.arange(lwh[2],0,-size), [1,1,0,0,0,0,0,0,1,1]):\n",
    "        if d:\n",
    "            layers.append(DetectorLayer(pos=pos, init_eff=init_eff, init_res=init_res,\n",
    "                                        lw=lwh[:2], z=z, size=size, eff_cost_func=eff_cost, res_cost_func=res_cost))\n",
    "        else:\n",
    "            pos = 'below'\n",
    "            layers.append(PassiveLayer(rad_length_func=arb_rad_length, lw=lwh[:2], z=z, size=size))\n",
    "\n",
    "    return nn.ModuleList(layers) "
   ]
  },
  {
   "cell_type": "code",
   "execution_count": 95,
   "metadata": {},
   "outputs": [],
   "source": [
    "import numpy as np\n",
    "from torch import nn"
   ]
  },
  {
   "cell_type": "code",
   "execution_count": 96,
   "metadata": {},
   "outputs": [],
   "source": [
    "from tomopt.volume import Volume"
   ]
  },
  {
   "cell_type": "code",
   "execution_count": 97,
   "metadata": {},
   "outputs": [],
   "source": [
    "batch = MuonBatch(generate_batch(1000), init_z=1)"
   ]
  },
  {
   "cell_type": "code",
   "execution_count": 98,
   "metadata": {},
   "outputs": [],
   "source": [
    "start = batch.copy()"
   ]
  },
  {
   "cell_type": "code",
   "execution_count": 99,
   "metadata": {},
   "outputs": [],
   "source": [
    "volume = Volume(get_layers())"
   ]
  },
  {
   "cell_type": "code",
   "execution_count": 100,
   "metadata": {},
   "outputs": [],
   "source": [
    "volume(batch)"
   ]
  },
  {
   "cell_type": "markdown",
   "metadata": {},
   "source": [
    "# Atomic number reco"
   ]
  },
  {
   "cell_type": "markdown",
   "metadata": {},
   "source": [
    "## Compute deviations and scatter locations"
   ]
  },
  {
   "cell_type": "code",
   "execution_count": 101,
   "metadata": {},
   "outputs": [],
   "source": [
    "from tomopt.inference import ScatterBatch"
   ]
  },
  {
   "cell_type": "code",
   "execution_count": 102,
   "metadata": {},
   "outputs": [],
   "source": [
    "scatters = ScatterBatch(batch, volume)"
   ]
  },
  {
   "cell_type": "code",
   "execution_count": 103,
   "metadata": {},
   "outputs": [],
   "source": [
    "mask = scatters.get_scatter_mask()"
   ]
  },
  {
   "cell_type": "markdown",
   "metadata": {},
   "source": [
    "scatters.theta_in[mask].pow(2).sum(1).sqrt()"
   ]
  },
  {
   "cell_type": "markdown",
   "metadata": {},
   "source": [
    "scatters.theta_out[mask].pow(2).sum(1).sqrt()"
   ]
  },
  {
   "cell_type": "code",
   "execution_count": 104,
   "metadata": {},
   "outputs": [
    {
     "data": {
      "text/plain": [
       "tensor([1.3421e-05, 1.5458e-05, 1.2072e-05, 5.8341e-06, 1.6099e-05, 1.3791e-05,\n",
       "        8.6666e-06, 4.2089e-06, 1.1135e-05, 1.0962e-05, 2.9132e-06, 2.7043e-06,\n",
       "        7.5048e-06, 5.1853e-06, 1.1681e-05, 2.6247e-06, 7.5374e-06, 7.3478e-06,\n",
       "        4.0212e-06, 1.5183e-05, 9.9945e-06, 1.3261e-06, 1.4578e-05, 2.3238e-06,\n",
       "        1.0559e-05, 1.3444e-05, 7.1589e-06, 4.5850e-06, 1.0489e-05, 1.0119e-05,\n",
       "        5.9932e-06, 3.0335e-06, 1.4262e-05, 1.5838e-05, 1.0856e-05, 6.7215e-06,\n",
       "        2.4576e-06, 4.6748e-06, 9.3863e-06, 8.5099e-06, 7.6628e-06, 1.8447e-05,\n",
       "        1.1970e-05, 1.2582e-05, 3.1538e-06, 4.9426e-06, 9.0763e-06, 2.5809e-05,\n",
       "        7.9417e-06, 1.0671e-05, 5.8156e-06, 8.7415e-06, 6.8834e-06, 7.9836e-06,\n",
       "        1.5076e-05, 3.3283e-06, 8.5538e-06, 4.1050e-06, 6.3052e-06, 1.4875e-05,\n",
       "        1.1479e-05, 1.1020e-05, 7.0594e-06, 8.7297e-06, 6.0610e-06, 1.3823e-05,\n",
       "        1.2848e-05, 4.7944e-06, 8.5905e-06, 6.6389e-06, 1.0691e-05, 9.0655e-06,\n",
       "        4.6872e-06, 1.4987e-05, 8.7310e-06, 3.2324e-06, 1.1481e-05, 5.6217e-06,\n",
       "        9.5554e-06, 1.2709e-05, 6.4994e-06, 1.4511e-05, 1.2128e-05, 6.9064e-06,\n",
       "        5.0472e-06, 1.0599e-05, 9.5665e-06, 5.2974e-06, 1.4106e-05, 1.0150e-05,\n",
       "        7.7864e-06, 6.9244e-06, 4.5913e-06, 5.1173e-06, 9.2007e-06, 1.3982e-05,\n",
       "        9.5983e-06, 1.3706e-05, 9.6940e-06, 4.1163e-06, 8.8462e-06, 1.7374e-05,\n",
       "        8.7436e-06, 4.7535e-06, 1.2729e-05, 4.7223e-06, 1.5860e-05, 6.7993e-06,\n",
       "        4.9653e-06, 9.9061e-06, 5.4015e-06, 2.1279e-05, 6.0610e-06, 9.5306e-06,\n",
       "        1.1359e-05, 2.1346e-06, 6.9989e-06, 4.9007e-06, 1.7545e-05, 1.5648e-05,\n",
       "        9.3481e-06, 1.3564e-05, 1.0707e-05, 1.1068e-05, 1.0166e-05, 8.4999e-06,\n",
       "        9.1627e-06, 7.1839e-06, 1.3765e-05, 8.1982e-06, 7.5261e-06, 9.2561e-06,\n",
       "        1.1671e-05, 1.4311e-05, 1.6814e-05, 1.3029e-05, 8.7887e-06, 1.2240e-05,\n",
       "        4.8632e-06, 1.6062e-05, 3.4402e-06, 1.5973e-05, 7.9952e-06, 4.0053e-06,\n",
       "        1.2559e-05, 1.4316e-05, 4.3089e-06, 1.5597e-06, 9.0536e-06, 1.2523e-05,\n",
       "        1.4079e-05, 9.3123e-06, 1.3928e-05, 2.1738e-05, 1.1829e-05, 1.5183e-05,\n",
       "        1.0461e-05, 9.7623e-06, 9.2512e-06, 1.3774e-05, 1.0735e-05, 9.6038e-06,\n",
       "        1.2741e-05, 1.9683e-05, 6.4429e-06, 8.3303e-06, 1.0569e-05, 1.1306e-05,\n",
       "        9.2961e-06, 4.1686e-06, 7.9259e-06, 9.0810e-06, 1.8265e-05, 9.9151e-06,\n",
       "        1.1192e-05, 1.8506e-05, 8.1148e-06, 2.4558e-06, 1.2584e-05, 8.1348e-06,\n",
       "        1.2728e-05, 8.2596e-06, 6.7433e-06, 8.6696e-06, 1.3022e-05, 1.4306e-05,\n",
       "        3.0376e-06, 1.4047e-05, 1.6827e-05, 5.1192e-06, 7.3870e-06, 7.4858e-06,\n",
       "        8.9124e-06, 8.7583e-06, 7.9036e-06, 8.1514e-06, 4.6606e-06, 5.4844e-06,\n",
       "        1.0874e-05, 6.1304e-06, 1.0579e-05, 7.7011e-06, 7.7541e-06, 1.1384e-05,\n",
       "        9.8211e-06, 4.7609e-06, 1.0708e-05, 1.1802e-05, 8.6729e-06, 7.7354e-06,\n",
       "        1.3841e-05, 1.1369e-05, 1.2139e-05, 5.9450e-06, 1.3229e-05, 2.1305e-06,\n",
       "        9.5728e-06, 9.5448e-06, 1.0873e-05, 8.8278e-06, 7.5180e-06, 5.6915e-06,\n",
       "        4.8858e-06, 7.5159e-06, 1.1073e-05, 2.9303e-06, 1.7746e-05, 1.1854e-05,\n",
       "        6.6330e-06, 1.2296e-05, 1.4364e-05, 1.3873e-05, 1.4508e-05, 1.0276e-05,\n",
       "        3.9784e-06, 1.8593e-05, 1.0289e-05, 1.8387e-05, 5.8514e-06, 6.4908e-06,\n",
       "        1.0212e-05, 2.0174e-05, 7.6184e-06, 1.1098e-05, 1.0103e-05, 9.0724e-06,\n",
       "        6.1049e-06, 1.1026e-05, 7.1895e-06, 9.4409e-06, 6.5684e-06, 6.0597e-06,\n",
       "        9.5506e-06, 8.8031e-06, 8.9197e-06, 1.0221e-05, 1.0524e-05, 1.2179e-05,\n",
       "        3.0595e-06, 6.6629e-06, 1.8340e-05, 1.0926e-05, 7.3601e-06, 1.1378e-05,\n",
       "        1.0176e-05, 1.4727e-05, 5.9006e-06, 1.7663e-06, 1.5812e-06, 1.2951e-05,\n",
       "        1.2205e-05, 1.0771e-05, 4.2121e-06, 1.2064e-05, 1.1679e-05, 1.0089e-05,\n",
       "        7.0875e-06, 1.7332e-05, 4.7207e-06, 7.9377e-06, 2.9877e-06, 2.3421e-06,\n",
       "        9.4771e-06, 8.2247e-06, 7.0890e-06, 2.0331e-05, 1.0502e-05, 1.0178e-05,\n",
       "        1.5484e-05, 1.2136e-05, 7.6741e-06, 4.4337e-06, 3.3091e-06, 8.8521e-06,\n",
       "        8.2180e-06, 4.6050e-06, 1.2495e-05, 2.0868e-05, 2.3228e-05, 5.8136e-06,\n",
       "        9.0612e-06, 6.2087e-06, 5.6231e-06, 6.5194e-06, 6.5780e-06, 8.5075e-06,\n",
       "        6.2816e-06, 8.9191e-06, 4.4992e-06, 3.2037e-06, 1.0860e-05, 9.2204e-06,\n",
       "        1.3876e-05, 8.2860e-06, 1.3006e-05, 6.0567e-06, 1.0441e-05, 8.9813e-06,\n",
       "        1.7788e-05, 1.2644e-05, 8.6172e-06, 1.0091e-05, 1.8306e-05, 1.4999e-05,\n",
       "        2.0870e-05, 1.3125e-05, 6.3936e-06, 1.6034e-05, 1.3775e-05, 6.7783e-06,\n",
       "        1.3582e-05, 3.9651e-06, 4.7990e-06, 7.2066e-06, 6.4233e-06, 3.0027e-06,\n",
       "        4.1453e-06, 1.1406e-05, 7.8954e-06, 7.1998e-06, 1.3496e-05, 1.6519e-05,\n",
       "        9.1815e-06, 6.2160e-06, 1.7036e-05, 4.3474e-06, 1.0017e-05, 3.5920e-06,\n",
       "        7.9951e-06, 1.0656e-05, 8.3139e-06, 6.6852e-06, 1.3755e-05, 1.5497e-05,\n",
       "        1.0983e-05, 1.4534e-05, 7.4336e-06, 7.6314e-06, 1.1692e-05, 1.2472e-05,\n",
       "        1.8666e-05, 1.0938e-05, 5.1140e-06, 1.1791e-05, 1.2252e-05, 8.4241e-06,\n",
       "        1.4707e-05, 3.2164e-06, 1.5731e-05, 8.5012e-06, 9.2986e-06, 1.6650e-05,\n",
       "        9.0573e-06, 1.0902e-05, 5.9921e-06, 8.9507e-06, 5.0813e-06, 1.0985e-05,\n",
       "        6.7211e-06, 8.4920e-06, 9.1821e-06, 1.6121e-05, 3.3897e-06, 1.0531e-05,\n",
       "        2.6024e-06, 7.4427e-06, 8.3830e-06, 6.0792e-06, 8.5898e-06, 7.6345e-06,\n",
       "        1.0382e-05, 2.6656e-06, 6.4297e-06, 5.4783e-06, 5.1945e-06, 1.0088e-05,\n",
       "        1.0626e-05, 1.3553e-05, 6.2694e-06, 7.5278e-06, 6.1434e-06, 2.8980e-05,\n",
       "        1.0724e-05, 4.2007e-06, 1.1921e-05, 1.6951e-05, 5.4915e-06, 1.4194e-05,\n",
       "        1.2036e-05, 1.5041e-05, 1.4684e-05, 8.8093e-06, 2.4230e-05, 1.0720e-05,\n",
       "        5.3464e-06, 1.5055e-05, 1.3796e-05, 8.1571e-06, 3.9967e-06, 1.8298e-05,\n",
       "        1.6301e-05, 4.3950e-06, 1.5480e-05, 1.1244e-05, 8.2374e-06, 1.4217e-05,\n",
       "        1.2526e-05, 1.2515e-05, 9.2565e-06, 6.2137e-06, 1.4845e-05, 4.5791e-06,\n",
       "        8.4274e-06, 1.0611e-05, 7.1365e-06, 3.2473e-06, 1.4197e-05, 1.9392e-06,\n",
       "        9.3088e-06, 7.0883e-06, 8.9303e-06, 2.6673e-06, 7.4558e-06, 1.3274e-05,\n",
       "        1.6042e-05, 1.0727e-05, 7.2065e-06, 1.0987e-05, 2.3051e-05, 1.3386e-05,\n",
       "        1.1699e-05, 3.3320e-06, 1.2532e-05, 8.5013e-06, 4.3370e-06, 1.0175e-05,\n",
       "        8.2706e-06, 1.1741e-05, 1.0576e-05, 5.0814e-06, 1.2389e-05, 8.4215e-06,\n",
       "        8.4731e-06, 7.3971e-06, 1.3672e-05, 9.5040e-06, 1.1163e-05, 1.1162e-05,\n",
       "        9.9600e-06, 1.0909e-05, 1.1117e-05, 1.6612e-05, 5.0392e-06, 9.3605e-06,\n",
       "        7.9065e-06, 2.0405e-05, 5.0825e-06, 1.4440e-05, 5.4952e-06, 7.4471e-06,\n",
       "        4.2126e-06, 9.5583e-06, 1.3627e-05, 1.6711e-05, 9.7091e-06, 1.1227e-05,\n",
       "        7.8490e-06, 1.3187e-05, 5.3943e-06, 5.3863e-06, 1.2240e-05, 1.5688e-05,\n",
       "        1.7485e-05, 1.2277e-05, 1.1280e-05, 5.0495e-06, 1.2617e-05, 1.2127e-05,\n",
       "        1.7050e-05, 9.1640e-06, 1.3640e-05, 5.4771e-06, 3.8082e-06, 9.4364e-06,\n",
       "        4.8046e-06, 4.4059e-06, 1.0519e-05, 1.1663e-05, 1.3818e-05, 1.4651e-05,\n",
       "        1.0279e-05, 1.4931e-05, 7.5870e-06, 4.0536e-06, 1.6917e-05, 6.5532e-06,\n",
       "        1.1303e-05, 1.8787e-05, 6.8081e-06, 1.3942e-05, 1.6208e-05, 1.5499e-05,\n",
       "        1.0359e-05, 1.7644e-05, 6.5976e-07, 7.7053e-06, 7.0456e-06, 8.3460e-06,\n",
       "        5.1918e-06, 1.8188e-05, 3.6036e-06, 1.6036e-05, 1.1420e-05, 1.1389e-05,\n",
       "        7.0123e-06, 9.0715e-06, 7.3568e-06, 8.6234e-06, 2.0057e-05, 1.7913e-05,\n",
       "        6.6299e-06, 1.1553e-05, 1.9616e-05, 6.6621e-06, 3.0393e-06, 2.0839e-05,\n",
       "        4.5025e-06, 1.1333e-05, 8.9612e-06, 1.0553e-05, 6.7809e-06, 7.2414e-06,\n",
       "        7.0734e-06, 1.4858e-05, 5.0543e-06, 1.0647e-05, 1.0765e-05, 8.0228e-06,\n",
       "        1.1144e-05, 1.2021e-05, 3.7586e-06, 1.5513e-05, 1.0955e-05, 1.4757e-05,\n",
       "        5.9891e-06, 1.0285e-05, 1.2560e-05, 1.2829e-05, 8.9663e-06, 1.1068e-05,\n",
       "        1.1196e-05, 9.7250e-06, 2.1704e-05, 3.5539e-06, 1.1271e-05, 3.9934e-06,\n",
       "        9.3401e-06, 1.8168e-05, 1.1958e-05, 1.5675e-05, 1.1990e-05, 1.4047e-05,\n",
       "        8.9263e-06, 5.8712e-06, 1.5000e-05, 8.9609e-06, 1.2652e-05, 1.7022e-06,\n",
       "        1.1259e-05, 6.2208e-06, 9.2714e-06, 1.1759e-05, 9.7046e-06, 2.0799e-05,\n",
       "        1.3003e-05, 6.5576e-06, 3.7851e-06, 1.0379e-05, 7.9210e-06, 1.3036e-05,\n",
       "        3.8922e-06, 1.3870e-05, 1.4010e-05, 8.8705e-06, 1.5288e-05, 1.5088e-05,\n",
       "        7.3973e-06, 1.3318e-05, 1.1331e-05, 7.8194e-06, 6.9529e-06, 6.1297e-06,\n",
       "        1.0160e-05, 1.4863e-05, 1.4930e-05, 1.4646e-05, 1.7649e-05, 7.1631e-06,\n",
       "        2.2127e-06, 7.3959e-06, 9.5758e-06, 4.5912e-06, 1.7256e-05, 3.5877e-06,\n",
       "        1.1062e-05, 1.7491e-05, 1.2670e-05, 1.5886e-05, 1.4456e-05, 1.7277e-05,\n",
       "        1.2595e-05, 1.3477e-05, 1.1090e-05, 1.0321e-05, 1.2464e-05, 2.9135e-06,\n",
       "        1.7872e-05, 1.6071e-05, 8.0557e-06, 3.9951e-06, 9.0933e-06, 9.9466e-06,\n",
       "        1.1306e-05, 8.0893e-06, 1.3663e-05, 6.7744e-06, 9.5435e-06, 4.8325e-06,\n",
       "        1.3741e-05, 1.5216e-05, 1.5323e-05, 1.4645e-05, 5.3421e-06, 7.9028e-06,\n",
       "        1.5196e-05, 9.9193e-06, 2.3693e-06, 1.6313e-05, 1.0534e-05, 1.3624e-05,\n",
       "        3.6368e-06, 4.5115e-06, 1.8901e-05, 7.1663e-06, 1.5984e-05, 1.0849e-05,\n",
       "        7.1409e-06, 1.0407e-05, 1.1688e-05, 1.0190e-05, 6.6301e-06, 1.3088e-05,\n",
       "        1.9884e-05, 2.7442e-06, 1.4612e-05, 7.9379e-06, 2.6841e-06, 5.1382e-06,\n",
       "        6.0749e-06, 2.0762e-05, 1.3416e-05, 1.2834e-05, 1.0794e-05, 6.2377e-06,\n",
       "        1.0988e-05, 8.2208e-06, 1.1765e-05, 1.2513e-05, 5.5968e-06, 7.3259e-06,\n",
       "        6.1220e-06, 1.6245e-05, 8.3685e-06, 1.3839e-05, 7.1809e-06, 1.1861e-05,\n",
       "        9.8058e-06, 1.0858e-05, 1.5780e-05, 4.6229e-06, 9.1201e-06, 5.9869e-06,\n",
       "        2.0490e-05], grad_fn=<SqrtBackward>)"
      ]
     },
     "execution_count": 104,
     "metadata": {},
     "output_type": "execute_result"
    }
   ],
   "source": [
    "scatters.dtheta[mask].pow(2).sum(1).sqrt()"
   ]
  },
  {
   "cell_type": "code",
   "execution_count": 105,
   "metadata": {},
   "outputs": [],
   "source": [
    "mask2 = (batch.get_xy_mask(volume.lw))"
   ]
  },
  {
   "cell_type": "code",
   "execution_count": 106,
   "metadata": {},
   "outputs": [
    {
     "data": {
      "text/plain": [
       "tensor([[1.9635e-07, 1.7524e-06],\n",
       "        [8.2794e-07, 7.5740e-07],\n",
       "        [1.6915e-06, 1.2112e-06],\n",
       "        ...,\n",
       "        [1.3843e-06, 2.9444e-07],\n",
       "        [2.0327e-06, 5.9696e-07],\n",
       "        [1.3433e-06, 6.3192e-07]], grad_fn=<SqrtBackward>)"
      ]
     },
     "execution_count": 106,
     "metadata": {},
     "output_type": "execute_result"
    }
   ],
   "source": [
    "scatters.theta_in_unc"
   ]
  },
  {
   "cell_type": "markdown",
   "metadata": {},
   "source": [
    "## Infer rad length"
   ]
  },
  {
   "cell_type": "code",
   "execution_count": 107,
   "metadata": {},
   "outputs": [],
   "source": [
    "from tomopt.inference import X0Inferer"
   ]
  },
  {
   "cell_type": "code",
   "execution_count": 108,
   "metadata": {},
   "outputs": [],
   "source": [
    "x0_inferer = X0Inferer(scatters)"
   ]
  },
  {
   "cell_type": "markdown",
   "metadata": {},
   "source": [
    "pred_debias, weight = x0_inferer.x0_from_dtheta()"
   ]
  },
  {
   "cell_type": "code",
   "execution_count": 127,
   "metadata": {},
   "outputs": [],
   "source": [
    "pred_bias, unc = x0_inferer.x0_from_dtheta()"
   ]
  },
  {
   "cell_type": "code",
   "execution_count": 134,
   "metadata": {},
   "outputs": [
    {
     "data": {
      "text/plain": [
       "tensor(10.7495, grad_fn=<MaxBackward1>)"
      ]
     },
     "execution_count": 134,
     "metadata": {},
     "output_type": "execute_result"
    }
   ],
   "source": [
    "(pred_bias/unc).max()"
   ]
  },
  {
   "cell_type": "code",
   "execution_count": 128,
   "metadata": {},
   "outputs": [
    {
     "data": {
      "text/plain": [
       "tensor([2.4765e+03, 1.4225e+03, 4.0950e+03, 1.7887e+04, 1.1353e+03, 1.7498e+03,\n",
       "        7.8279e+03, 1.0386e+05, 2.8364e+03, 2.7813e+03, 1.8627e+05, 1.5194e+05,\n",
       "        9.8018e+03, 4.6825e+04, 3.4415e+03, 2.9811e+05, 1.0277e+04, 2.1643e+04,\n",
       "        7.7985e+04, 1.0321e+03, 3.3791e+03, 1.9260e+06, 1.1208e+03, 4.4674e+05,\n",
       "        3.3558e+03, 2.1268e+03, 1.4203e+04, 3.5983e+04, 5.1113e+03, 3.8899e+03,\n",
       "        3.4650e+04, 2.1483e+05, 1.6336e+03, 1.5646e+03, 4.7147e+03, 2.5540e+04,\n",
       "        2.0938e+05, 5.4857e+04, 6.8923e+03, 6.9193e+03, 1.1933e+04, 1.0776e+03,\n",
       "        2.1182e+03, 2.3113e+03, 1.6140e+05, 3.5561e+04, 5.2288e+03, 2.3235e+02,\n",
       "        6.1941e+03, 4.0155e+03, 2.2903e+04, 9.5209e+03, 1.3863e+04, 1.4916e+04,\n",
       "        1.7194e+03, 9.6436e+04, 1.2360e+04, 7.4290e+04, 1.7256e+04, 2.2505e+03,\n",
       "        1.2582e+03, 3.7204e+03, 2.6225e+04, 5.5376e+03, 5.0385e+04, 2.2591e+03,\n",
       "        1.7101e+03, 5.5938e+04, 7.1629e+03, 2.0330e+04, 5.6893e+03, 9.2197e+03,\n",
       "        2.6721e+04, 2.2961e+03, 9.1115e+03, 1.2387e+05, 3.3022e+03, 1.4976e+04,\n",
       "        3.0079e+03, 3.8972e+03, 2.4002e+04, 1.6516e+03, 2.3537e+03, 2.0001e+04,\n",
       "        5.6066e+04, 3.1911e+03, 4.6542e+03, 3.8277e+04, 1.8940e+03, 7.3390e+03,\n",
       "        7.3156e+03, 1.0047e+04, 9.2881e+04, 3.7694e+04, 6.4789e+03, 2.9700e+03,\n",
       "        7.6205e+03, 1.7413e+03, 4.6784e+03, 8.0155e+04, 6.3337e+03, 8.7994e+02,\n",
       "        1.0551e+04, 6.2962e+04, 4.3472e+03, 5.4413e+04, 1.2464e+03, 1.1675e+04,\n",
       "        6.1063e+04, 9.0134e+03, 4.1324e+04, 7.9718e+02, 3.7785e+04, 9.0297e+03,\n",
       "        5.2068e+03, 3.8046e+05, 1.9034e+04, 4.6882e+04, 1.0071e+03, 2.0119e+03,\n",
       "        5.6443e+03, 2.0018e+03, 4.9160e+03, 5.1594e+03, 5.7152e+03, 8.8915e+03,\n",
       "        7.2213e+03, 1.9168e+04, 1.7872e+03, 8.7738e+03, 1.1954e+04, 6.8338e+03,\n",
       "        4.0520e+03, 1.8031e+03, 1.1530e+03, 2.6778e+03, 8.8725e+03, 2.9522e+03,\n",
       "        4.9646e+04, 7.0382e+02, 1.8528e+05, 1.4342e+03, 1.1806e+04, 9.5969e+04,\n",
       "        2.2614e+03, 1.3187e+03, 5.2283e+04, 1.2952e+06, 1.0661e+04, 1.6284e+03,\n",
       "        2.8161e+03, 5.5024e+03, 2.6280e+03, 5.2606e+02, 3.2852e+03, 2.2933e+03,\n",
       "        4.9612e+03, 8.0328e+03, 5.2642e+03, 1.8937e+03, 6.0212e+03, 6.1328e+03,\n",
       "        2.0922e+03, 4.2943e+02, 3.9058e+04, 7.8907e+03, 6.7551e+03, 2.9092e+03,\n",
       "        3.8428e+03, 2.2912e+04, 1.1529e+04, 6.3771e+03, 1.0249e+03, 7.5761e+03,\n",
       "        2.9767e+03, 7.0847e+02, 9.5766e+03, 3.8759e+05, 3.5368e+03, 1.4064e+04,\n",
       "        2.2870e+03, 1.6377e+04, 1.9749e+04, 1.1649e+04, 3.5208e+03, 2.0705e+03,\n",
       "        1.7496e+05, 7.0348e+02, 1.3731e+03, 3.0443e+04, 1.2419e+04, 1.5857e+04,\n",
       "        5.5715e+03, 8.5610e+03, 1.2370e+04, 9.0358e+03, 5.9642e+04, 3.9965e+04,\n",
       "        5.7206e+03, 1.8084e+04, 4.1475e+03, 1.3486e+04, 1.0885e+04, 3.2937e+03,\n",
       "        6.0984e+03, 2.0391e+04, 4.2565e+03, 3.4156e+03, 1.1009e+04, 5.7965e+03,\n",
       "        1.2761e+03, 2.7910e+03, 2.6987e+03, 4.5836e+04, 2.9234e+03, 6.5156e+05,\n",
       "        3.4679e+03, 7.1556e+03, 6.6793e+03, 9.0198e+03, 1.3033e+04, 2.5141e+04,\n",
       "        2.8270e+04, 1.4536e+04, 4.9810e+03, 3.3496e+05, 1.0251e+03, 2.1820e+03,\n",
       "        1.5705e+04, 4.2414e+03, 2.4841e+03, 1.9034e+03, 1.8995e+03, 8.4744e+03,\n",
       "        4.2721e+04, 1.0324e+03, 6.4737e+03, 7.6816e+02, 2.7399e+04, 1.6330e+04,\n",
       "        4.5822e+03, 7.6259e+02, 1.7517e+04, 2.4689e+03, 6.0592e+03, 6.8575e+03,\n",
       "        4.3761e+04, 3.4738e+03, 1.2969e+04, 6.7847e+03, 2.7184e+04, 2.4472e+04,\n",
       "        6.1625e+03, 5.0249e+03, 6.6063e+03, 5.2834e+03, 4.7635e+03, 2.6469e+03,\n",
       "        1.5870e+05, 1.6219e+04, 1.3058e+03, 4.3815e+03, 7.7994e+03, 5.3930e+03,\n",
       "        5.7967e+03, 2.2332e+03, 5.3198e+04, 1.2838e+06, 8.4746e+05, 2.5919e+03,\n",
       "        1.7019e+03, 4.6439e+03, 9.0121e+04, 2.3615e+03, 1.2036e+03, 8.7972e+03,\n",
       "        8.3863e+03, 1.5232e+03, 7.2948e+04, 1.5062e+04, 1.8885e+05, 4.5476e+05,\n",
       "        7.4781e+03, 8.6801e+03, 1.5249e+04, 4.9571e+02, 6.5110e+03, 3.6817e+03,\n",
       "        1.3130e+03, 2.0830e+03, 6.6418e+03, 3.6317e+04, 2.1404e+05, 6.5067e+03,\n",
       "        1.0975e+04, 3.4104e+04, 5.0668e+03, 5.8810e+02, 4.4993e+02, 3.4388e+04,\n",
       "        8.9176e+03, 2.6469e+04, 3.4689e+04, 1.1676e+04, 2.3254e+04, 8.6604e+03,\n",
       "        2.5834e+04, 3.8419e+03, 8.1608e+04, 2.1486e+05, 7.5204e+03, 7.6008e+03,\n",
       "        2.1905e+03, 5.9903e+03, 1.9501e+03, 1.7163e+04, 3.2346e+03, 7.1865e+03,\n",
       "        1.0740e+03, 3.8850e+03, 1.2861e+04, 5.2760e+03, 1.2407e+03, 2.6858e+03,\n",
       "        3.5243e+02, 3.8210e+03, 2.2409e+04, 1.1452e+03, 2.1972e+03, 2.3452e+04,\n",
       "        2.4874e+03, 1.0334e+05, 6.5557e+04, 1.7048e+04, 1.1551e+04, 2.9797e+05,\n",
       "        6.8750e+04, 6.9477e+03, 9.7225e+03, 1.5073e+04, 2.2133e+03, 1.8703e+03,\n",
       "        7.1902e+03, 1.3269e+04, 9.9320e+02, 6.3885e+04, 2.7088e+03, 7.7844e+04,\n",
       "        1.0242e+04, 2.7576e+03, 1.6890e+04, 2.1865e+04, 2.7517e+03, 2.0318e+03,\n",
       "        4.4300e+03, 2.5690e+03, 1.6189e+04, 1.7279e+04, 2.7079e+03, 2.5389e+03,\n",
       "        6.8435e+02, 5.8327e+03, 3.4478e+04, 2.8366e+03, 9.4881e+02, 7.9921e+03,\n",
       "        1.5251e+03, 1.2193e+05, 1.1658e+03, 7.1893e+03, 4.9441e+03, 1.3865e+03,\n",
       "        7.9228e+03, 3.7631e+03, 1.9961e+04, 6.1074e+03, 5.9552e+04, 4.5198e+03,\n",
       "        1.4060e+04, 1.0527e+04, 9.6671e+03, 1.9276e+03, 1.4983e+05, 5.9382e+03,\n",
       "        3.9293e+05, 1.5331e+04, 1.4545e+04, 2.1565e+04, 8.0507e+03, 6.2847e+03,\n",
       "        3.2091e+03, 2.0490e+05, 8.4381e+03, 3.4158e+04, 2.6424e+04, 5.8081e+03,\n",
       "        3.0055e+03, 2.7831e+03, 2.0640e+04, 1.6543e+04, 3.5655e+04, 2.4415e+02,\n",
       "        1.7924e+03, 9.1489e+04, 4.0542e+03, 6.2886e+02, 2.5463e+04, 1.5848e+03,\n",
       "        4.4818e+03, 1.9418e+03, 1.2787e+03, 5.6502e+03, 3.0464e+02, 3.0584e+03,\n",
       "        5.0918e+04, 2.1186e+03, 1.7575e+03, 1.2158e+04, 9.6639e+04, 9.9723e+02,\n",
       "        1.9066e+03, 5.0703e+04, 1.1407e+03, 4.1500e+03, 6.2158e+03, 1.5481e+03,\n",
       "        2.4720e+03, 2.7083e+03, 8.0756e+03, 2.1152e+04, 2.2441e+03, 5.8231e+04,\n",
       "        7.5383e+03, 7.0908e+03, 1.5434e+04, 1.4149e+05, 1.6686e+03, 1.0652e+06,\n",
       "        9.7437e+03, 1.9924e+04, 1.1216e+04, 3.7429e+05, 6.5965e+03, 2.7104e+03,\n",
       "        1.3530e+03, 4.9864e+03, 1.7321e+04, 2.8765e+03, 5.4398e+02, 3.4591e+03,\n",
       "        3.5427e+03, 9.8331e+04, 2.8232e+03, 1.0419e+04, 8.5657e+04, 3.5277e+03,\n",
       "        1.1813e+04, 6.5140e+03, 3.9541e+03, 5.1884e+04, 1.6757e+03, 1.2591e+04,\n",
       "        5.7864e+03, 1.3795e+04, 2.5397e+03, 5.6360e+03, 2.7395e+03, 4.4731e+03,\n",
       "        5.3956e+03, 4.2263e+03, 4.4703e+03, 1.6113e+03, 4.2172e+04, 4.4684e+03,\n",
       "        1.1545e+04, 5.3343e+02, 3.9972e+04, 1.6908e+03, 3.4705e+04, 1.0331e+04,\n",
       "        5.3731e+04, 4.9993e+03, 3.0900e+03, 5.8511e+02, 6.5669e+03, 4.1022e+03,\n",
       "        1.0092e+04, 2.3729e+03, 2.7956e+04, 3.3597e+04, 3.0754e+03, 1.1771e+03,\n",
       "        8.2650e+02, 3.6881e+03, 6.9755e+03, 3.2047e+04, 4.0392e+03, 4.0267e+03,\n",
       "        7.6616e+02, 7.1153e+03, 1.5444e+03, 2.1999e+04, 8.9309e+04, 6.7063e+03,\n",
       "        4.0551e+04, 6.9164e+04, 7.5610e+03, 3.4567e+03, 3.4355e+03, 1.6387e+03,\n",
       "        4.9586e+03, 2.1469e+03, 1.0196e+04, 8.6878e+04, 1.3774e+03, 8.7386e+03,\n",
       "        3.2988e+03, 1.2322e+03, 1.4323e+04, 1.9392e+03, 1.3948e+03, 1.7418e+03,\n",
       "        8.8629e+03, 5.9471e+02, 1.6287e+07, 2.0063e+04, 1.2488e+04, 3.7404e+03,\n",
       "        5.0479e+04, 1.7188e+03, 6.4506e+04, 2.2166e+03, 4.3918e+03, 2.6672e+03,\n",
       "        1.3190e+04, 5.7373e+03, 1.1422e+04, 8.1009e+03, 7.3617e+02, 1.2412e+03,\n",
       "        2.1859e+04, 3.1278e+03, 8.9684e+02, 1.8381e+04, 1.8377e+05, 1.1756e+03,\n",
       "        4.3767e+04, 5.1290e+03, 7.1314e+03, 2.8947e+03, 2.2774e+04, 4.7211e+03,\n",
       "        2.3439e+04, 2.7068e+03, 5.1156e+04, 9.8678e+03, 4.3998e+03, 1.8910e+04,\n",
       "        8.7935e+03, 3.8562e+03, 7.3206e+04, 1.0572e+03, 4.1544e+03, 1.4367e+03,\n",
       "        3.1497e+04, 5.9835e+03, 3.4234e+03, 1.6117e+03, 7.9973e+03, 5.0026e+03,\n",
       "        4.3882e+03, 6.8059e+03, 4.1380e+02, 1.3560e+05, 4.5863e+03, 4.3621e+04,\n",
       "        8.1891e+03, 1.0655e+03, 2.7160e+03, 7.9567e+02, 3.4468e+03, 2.1596e+03,\n",
       "        8.0483e+03, 1.0991e+04, 1.6253e+03, 8.4802e+03, 2.6333e+03, 1.3858e+06,\n",
       "        4.6463e+03, 3.5570e+04, 8.2889e+03, 3.0833e+03, 5.2897e+03, 6.9240e+02,\n",
       "        2.6511e+03, 2.1218e+04, 1.2440e+05, 5.6984e+03, 1.4110e+04, 1.6018e+03,\n",
       "        1.2950e+05, 1.5212e+03, 1.3433e+03, 1.0044e+04, 1.5375e+03, 1.2028e+03,\n",
       "        9.2590e+03, 2.2595e+03, 3.9570e+03, 1.2741e+04, 1.9478e+04, 2.3139e+04,\n",
       "        4.0604e+03, 1.6744e+03, 1.1442e+03, 1.2216e+03, 1.6913e+03, 1.6261e+04,\n",
       "        5.5875e+05, 9.2849e+03, 9.1688e+03, 7.3154e+04, 1.7023e+03, 7.2260e+04,\n",
       "        2.4968e+03, 9.9995e+02, 2.2243e+03, 1.4208e+03, 2.1323e+03, 1.3012e+03,\n",
       "        3.6203e+03, 2.1877e+03, 3.9837e+03, 6.0547e+03, 4.4719e+03, 1.7860e+05,\n",
       "        7.2607e+02, 7.8083e+02, 1.2034e+04, 8.1095e+04, 7.1403e+03, 3.6028e+03,\n",
       "        3.0719e+03, 1.5419e+04, 2.9470e+03, 2.5689e+04, 5.9270e+03, 5.4027e+04,\n",
       "        3.1065e+03, 2.9921e+03, 2.7653e+03, 2.2354e+03, 3.0900e+04, 1.0494e+04,\n",
       "        9.5484e+02, 7.8486e+03, 3.8524e+05, 1.0279e+03, 4.7621e+03, 1.3643e+03,\n",
       "        8.2119e+04, 3.8523e+04, 1.1359e+03, 1.7704e+04, 1.4667e+03, 2.1283e+03,\n",
       "        1.2321e+04, 7.4813e+03, 4.3259e+03, 6.5563e+03, 1.9584e+04, 2.3845e+03,\n",
       "        4.9867e+02, 2.1665e+05, 1.3997e+03, 2.0495e+04, 3.8427e+05, 5.9595e+04,\n",
       "        2.8672e+04, 9.6887e+02, 2.9521e+03, 1.8805e+03, 5.1066e+03, 8.4882e+03,\n",
       "        3.4292e+03, 9.9631e+03, 2.5001e+03, 1.8043e+03, 1.9852e+04, 1.7220e+04,\n",
       "        2.3246e+04, 1.1411e+03, 1.0318e+04, 2.6292e+03, 2.3619e+04, 3.7311e+03,\n",
       "        2.4636e+03, 3.4449e+03, 1.7471e+03, 6.2823e+04, 8.9102e+03, 1.9374e+04,\n",
       "        5.2621e+02], grad_fn=<MulBackward0>)"
      ]
     },
     "execution_count": 128,
     "metadata": {},
     "output_type": "execute_result"
    }
   ],
   "source": [
    "unc"
   ]
  },
  {
   "cell_type": "code",
   "execution_count": 124,
   "metadata": {},
   "outputs": [],
   "source": [
    "pred,w = x0_inferer.pred_x0()"
   ]
  },
  {
   "cell_type": "markdown",
   "metadata": {},
   "source": [
    "pred_debias.mean()"
   ]
  },
  {
   "cell_type": "code",
   "execution_count": 110,
   "metadata": {},
   "outputs": [],
   "source": [
    "dtheta, dtheta_unc = scatters.dtheta.detach().numpy(), scatters.dtheta_unc.detach().numpy()"
   ]
  },
  {
   "cell_type": "code",
   "execution_count": 111,
   "metadata": {},
   "outputs": [
    {
     "data": {
      "text/plain": [
       "tensor(10000000., grad_fn=<MeanBackward0>)"
      ]
     },
     "execution_count": 111,
     "metadata": {},
     "output_type": "execute_result"
    }
   ],
   "source": [
    "volume.get_detectors()[-1].resolution.mean()"
   ]
  },
  {
   "cell_type": "code",
   "execution_count": 112,
   "metadata": {},
   "outputs": [
    {
     "name": "stderr",
     "output_type": "stream",
     "text": [
      "/Users/giles/anaconda3/envs/tomopt/lib/python3.8/site-packages/seaborn/distributions.py:2557: FutureWarning: `distplot` is a deprecated function and will be removed in a future version. Please adapt your code to use either `displot` (a figure-level function with similar flexibility) or `histplot` (an axes-level function for histograms).\n",
      "  warnings.warn(msg, FutureWarning)\n"
     ]
    },
    {
     "data": {
      "text/plain": [
       "<AxesSubplot:ylabel='Density'>"
      ]
     },
     "execution_count": 112,
     "metadata": {},
     "output_type": "execute_result"
    },
    {
     "data": {
      "image/png": "[encoded data removed]",
      "text/plain": [
       "<Figure size 432x288 with 1 Axes>"
      ]
     },
     "metadata": {
      "needs_background": "light"
     },
     "output_type": "display_data"
    }
   ],
   "source": [
    "sns.distplot(dtheta)"
   ]
  },
  {
   "cell_type": "code",
   "execution_count": 113,
   "metadata": {},
   "outputs": [
    {
     "name": "stderr",
     "output_type": "stream",
     "text": [
      "/Users/giles/anaconda3/envs/tomopt/lib/python3.8/site-packages/seaborn/distributions.py:2557: FutureWarning: `distplot` is a deprecated function and will be removed in a future version. Please adapt your code to use either `displot` (a figure-level function with similar flexibility) or `histplot` (an axes-level function for histograms).\n",
      "  warnings.warn(msg, FutureWarning)\n"
     ]
    },
    {
     "data": {
      "text/plain": [
       "<AxesSubplot:ylabel='Density'>"
      ]
     },
     "execution_count": 113,
     "metadata": {},
     "output_type": "execute_result"
    },
    {
     "data": {
      "image/png": "[encoded data removed]",
      "text/plain": [
       "<Figure size 432x288 with 1 Axes>"
      ]
     },
     "metadata": {
      "needs_background": "light"
     },
     "output_type": "display_data"
    }
   ],
   "source": [
    "sns.distplot(dtheta_unc)"
   ]
  },
  {
   "cell_type": "code",
   "execution_count": 114,
   "metadata": {},
   "outputs": [
    {
     "name": "stderr",
     "output_type": "stream",
     "text": [
      "<ipython-input-114-114150e114fc>:1: RuntimeWarning: invalid value encountered in true_divide\n",
      "  sns.distplot(dtheta_unc/dtheta, bins=1000); plt.xlim([0,10])\n",
      "/Users/giles/anaconda3/envs/tomopt/lib/python3.8/site-packages/seaborn/distributions.py:2557: FutureWarning: `distplot` is a deprecated function and will be removed in a future version. Please adapt your code to use either `displot` (a figure-level function with similar flexibility) or `histplot` (an axes-level function for histograms).\n",
      "  warnings.warn(msg, FutureWarning)\n"
     ]
    },
    {
     "data": {
      "text/plain": [
       "(0.0, 10.0)"
      ]
     },
     "execution_count": 114,
     "metadata": {},
     "output_type": "execute_result"
    },
    {
     "data": {
      "image/png": "[encoded data removed]",
      "text/plain": [
       "<Figure size 432x288 with 1 Axes>"
      ]
     },
     "metadata": {
      "needs_background": "light"
     },
     "output_type": "display_data"
    }
   ],
   "source": [
    "sns.distplot(dtheta_unc/dtheta, bins=1000); plt.xlim([0,10])"
   ]
  },
  {
   "cell_type": "code",
   "execution_count": 64,
   "metadata": {},
   "outputs": [
    {
     "name": "stderr",
     "output_type": "stream",
     "text": [
      "/Users/giles/anaconda3/envs/tomopt/lib/python3.8/site-packages/seaborn/distributions.py:2557: FutureWarning: `distplot` is a deprecated function and will be removed in a future version. Please adapt your code to use either `displot` (a figure-level function with similar flexibility) or `histplot` (an axes-level function for histograms).\n",
      "  warnings.warn(msg, FutureWarning)\n"
     ]
    },
    {
     "data": {
      "text/plain": [
       "<AxesSubplot:ylabel='Density'>"
      ]
     },
     "execution_count": 64,
     "metadata": {},
     "output_type": "execute_result"
    },
    {
     "data": {
      "image/png": "[encoded data removed]",
      "text/plain": [
       "<Figure size 432x288 with 1 Axes>"
      ]
     },
     "metadata": {
      "needs_background": "light"
     },
     "output_type": "display_data"
    }
   ],
   "source": [
    "sns.distplot(dtheta)"
   ]
  },
  {
   "cell_type": "code",
   "execution_count": 65,
   "metadata": {},
   "outputs": [
    {
     "name": "stderr",
     "output_type": "stream",
     "text": [
      "/Users/giles/anaconda3/envs/tomopt/lib/python3.8/site-packages/seaborn/distributions.py:2557: FutureWarning: `distplot` is a deprecated function and will be removed in a future version. Please adapt your code to use either `displot` (a figure-level function with similar flexibility) or `histplot` (an axes-level function for histograms).\n",
      "  warnings.warn(msg, FutureWarning)\n"
     ]
    },
    {
     "data": {
      "text/plain": [
       "<AxesSubplot:ylabel='Density'>"
      ]
     },
     "execution_count": 65,
     "metadata": {},
     "output_type": "execute_result"
    },
    {
     "data": {
      "image/png": "[encoded data removed]",
      "text/plain": [
       "<Figure size 432x288 with 1 Axes>"
      ]
     },
     "metadata": {
      "needs_background": "light"
     },
     "output_type": "display_data"
    }
   ],
   "source": [
    "sns.distplot(dtheta_unc)"
   ]
  },
  {
   "cell_type": "code",
   "execution_count": 72,
   "metadata": {},
   "outputs": [
    {
     "name": "stderr",
     "output_type": "stream",
     "text": [
      "/Users/giles/anaconda3/envs/tomopt/lib/python3.8/site-packages/seaborn/distributions.py:2557: FutureWarning: `distplot` is a deprecated function and will be removed in a future version. Please adapt your code to use either `displot` (a figure-level function with similar flexibility) or `histplot` (an axes-level function for histograms).\n",
      "  warnings.warn(msg, FutureWarning)\n"
     ]
    },
    {
     "data": {
      "text/plain": [
       "(0.0, 10.0)"
      ]
     },
     "execution_count": 72,
     "metadata": {},
     "output_type": "execute_result"
    },
    {
     "data": {
      "image/png": "[encoded data removed]",
      "text/plain": [
       "<Figure size 432x288 with 1 Axes>"
      ]
     },
     "metadata": {
      "needs_background": "light"
     },
     "output_type": "display_data"
    }
   ],
   "source": [
    "sns.distplot(dtheta_unc/dtheta, bins=1000); plt.xlim([0,10])"
   ]
  },
  {
   "cell_type": "code",
   "execution_count": 62,
   "metadata": {},
   "outputs": [
    {
     "data": {
      "text/plain": [
       "tensor(0.4264, grad_fn=<MeanBackward0>)"
      ]
     },
     "execution_count": 62,
     "metadata": {},
     "output_type": "execute_result"
    }
   ],
   "source": [
    "pred_bias.mean()"
   ]
  },
  {
   "cell_type": "code",
   "execution_count": 45,
   "metadata": {},
   "outputs": [
    {
     "data": {
      "text/plain": [
       "tensor(0.0089, grad_fn=<MeanBackward0>)"
      ]
     },
     "execution_count": 45,
     "metadata": {},
     "output_type": "execute_result"
    }
   ],
   "source": [
    "pred_bias.mean()"
   ]
  },
  {
   "cell_type": "code",
   "execution_count": 28,
   "metadata": {},
   "outputs": [
    {
     "data": {
      "text/plain": [
       "tensor(4215.3760, grad_fn=<MeanBackward0>)"
      ]
     },
     "execution_count": 28,
     "metadata": {},
     "output_type": "execute_result"
    }
   ],
   "source": [
    "pred_bias.mean()"
   ]
  },
  {
   "cell_type": "code",
   "execution_count": 131,
   "metadata": {},
   "outputs": [
    {
     "name": "stderr",
     "output_type": "stream",
     "text": [
      "/Users/giles/anaconda3/envs/tomopt/lib/python3.8/site-packages/seaborn/distributions.py:2557: FutureWarning: `distplot` is a deprecated function and will be removed in a future version. Please adapt your code to use either `displot` (a figure-level function with similar flexibility) or `histplot` (an axes-level function for histograms).\n",
      "  warnings.warn(msg, FutureWarning)\n",
      "/Users/giles/anaconda3/envs/tomopt/lib/python3.8/site-packages/seaborn/distributions.py:2557: FutureWarning: `distplot` is a deprecated function and will be removed in a future version. Please adapt your code to use either `displot` (a figure-level function with similar flexibility) or `histplot` (an axes-level function for histograms).\n",
      "  warnings.warn(msg, FutureWarning)\n"
     ]
    },
    {
     "data": {
      "text/plain": [
       "(0.0, 0.2)"
      ]
     },
     "execution_count": 131,
     "metadata": {},
     "output_type": "execute_result"
    },
    {
     "data": {
      "image/png": "[encoded data removed]",
      "text/plain": [
       "<Figure size 432x288 with 1 Axes>"
      ]
     },
     "metadata": {
      "needs_background": "light"
     },
     "output_type": "display_data"
    }
   ],
   "source": [
    "p = pred_debias.detach().numpy()\n",
    "pb = pred_bias.detach().numpy()\n",
    "\n",
    "sns.distplot(p, label=f'debiased mean {p.mean():.2f} max {p.max():.2f}', bins=1000)\n",
    "sns.distplot(pb, label=f'biased mean {pb.mean():.2f} max {pb.max():.2f}', bins=1000)\n",
    "plt.legend()\n",
    "plt.xlim([0,0.2])"
   ]
  },
  {
   "cell_type": "code",
   "execution_count": 69,
   "metadata": {},
   "outputs": [
    {
     "data": {
      "text/plain": [
       "tensor(0.1037, grad_fn=<MeanBackward0>)"
      ]
     },
     "execution_count": 69,
     "metadata": {},
     "output_type": "execute_result"
    }
   ],
   "source": [
    "pred.mean()"
   ]
  },
  {
   "cell_type": "code",
   "execution_count": 75,
   "metadata": {},
   "outputs": [
    {
     "data": {
      "text/plain": [
       "(0.0, 0.2)"
      ]
     },
     "execution_count": 75,
     "metadata": {},
     "output_type": "execute_result"
    },
    {
     "data": {
      "image/png": "[encoded data removed]",
      "text/plain": [
       "<Figure size 360x360 with 1 Axes>"
      ]
     },
     "metadata": {
      "needs_background": "light"
     },
     "output_type": "display_data"
    }
   ],
   "source": [
    "p = pred.detach().numpy()\n",
    "sns.displot(p)\n",
    "plt.xlim([0,0.2])"
   ]
  },
  {
   "cell_type": "code",
   "execution_count": 32,
   "metadata": {},
   "outputs": [
    {
     "data": {
      "text/plain": [
       "(0.005612, 0.3528)"
      ]
     },
     "execution_count": 32,
     "metadata": {},
     "output_type": "execute_result"
    }
   ],
   "source": [
    "X0['lead'],X0['beryllium']"
   ]
  },
  {
   "cell_type": "code",
   "execution_count": 119,
   "metadata": {},
   "outputs": [],
   "source": [
    "pred,weight = x0_inferer.pred_x0()"
   ]
  },
  {
   "cell_type": "markdown",
   "metadata": {},
   "source": [
    "# Inversion test"
   ]
  },
  {
   "cell_type": "code",
   "execution_count": 211,
   "metadata": {},
   "outputs": [],
   "source": [
    "from tomopt.core import X0, SCATTER_COEF_A"
   ]
  },
  {
   "cell_type": "code",
   "execution_count": 213,
   "metadata": {},
   "outputs": [],
   "source": [
    "import math"
   ]
  },
  {
   "cell_type": "code",
   "execution_count": 270,
   "metadata": {},
   "outputs": [
    {
     "data": {
      "text/plain": [
       "0.3528"
      ]
     },
     "execution_count": 270,
     "metadata": {},
     "output_type": "execute_result"
    }
   ],
   "source": [
    "X0['beryllium']"
   ]
  },
  {
   "cell_type": "code",
   "execution_count": 267,
   "metadata": {},
   "outputs": [
    {
     "name": "stdout",
     "output_type": "stream",
     "text": [
      "tensor([0.4009])\n",
      "tensor([8.6106e-05])\n",
      "tensor([0.0001])\n"
     ]
    }
   ],
   "source": [
    "deltaz = 0.1\n",
    "theta_in = Tensor([math.pi/4])\n",
    "x0 = deltaz / (X0['beryllium']*torch.cos(theta_in))\n",
    "z1 = 1#torch.randn(n, device=self.device)\n",
    "z2 = 1#torch.randn(n, device=self.device)\n",
    "\n",
    "print(x0)\n",
    "theta0 = (SCATTER_COEF_A / 100) * torch.sqrt(x0)  # Ignore due to inversion problems * (1+(SCATTER_COEF_B*torch.log(x0)))\n",
    "print(theta0)\n",
    "theta_msc = math.sqrt(2) * z2 * theta0\n",
    "print(theta_msc)\n",
    "phi_msc = Tensor([2 * math.pi])\n",
    "\n",
    "dtheta_x = theta_msc * torch.cos(phi_msc)\n",
    "dtheta_y = theta_msc * torch.sin(phi_msc)\n",
    "dtheta = torch.sqrt(dtheta_x.pow(2)+dtheta_y.pow(2))\n",
    "theta_out = theta_in+dtheta"
   ]
  },
  {
   "cell_type": "code",
   "execution_count": 268,
   "metadata": {},
   "outputs": [
    {
     "data": {
      "text/plain": [
       "tensor([0.0001])"
      ]
     },
     "execution_count": 268,
     "metadata": {},
     "output_type": "execute_result"
    }
   ],
   "source": [
    "dtheta"
   ]
  },
  {
   "cell_type": "code",
   "execution_count": 269,
   "metadata": {},
   "outputs": [
    {
     "name": "stdout",
     "output_type": "stream",
     "text": [
      "tensor([8.6106e-05])\n",
      "tensor([0.4009])\n"
     ]
    },
    {
     "data": {
      "text/plain": [
       "tensor([0.3528])"
      ]
     },
     "execution_count": 269,
     "metadata": {},
     "output_type": "execute_result"
    }
   ],
   "source": [
    "theta2 = dtheta.pow(2)\n",
    "theta02 = theta2/2\n",
    "print(theta02.sqrt())\n",
    "n_x0 = theta02 * ((100 / SCATTER_COEF_A) ** 2)\n",
    "print(n_x0)\n",
    "cos_theta_in = torch.cos(theta_in)\n",
    "deltaz/(n_x0 * cos_theta_in)"
   ]
  },
  {
   "cell_type": "code",
   "execution_count": null,
   "metadata": {},
   "outputs": [],
   "source": []
  }
 ],
 "metadata": {
  "kernelspec": {
   "display_name": "Python [conda env:tomopt]",
   "language": "python",
   "name": "conda-env-tomopt-py"
  },
  "language_info": {
   "codemirror_mode": {
    "name": "ipython",
    "version": 3
   },
   "file_extension": ".py",
   "mimetype": "text/x-python",
   "name": "python",
   "nbconvert_exporter": "python",
   "pygments_lexer": "ipython3",
   "version": "3.8.0"
  },
  "toc": {
   "base_numbering": 1,
   "nav_menu": {},
   "number_sections": true,
   "sideBar": true,
   "skip_h1_title": false,
   "title_cell": "Table of Contents",
   "title_sidebar": "Contents",
   "toc_cell": false,
   "toc_position": {},
   "toc_section_display": true,
   "toc_window_display": false
  }
 },
 "nbformat": 4,
 "nbformat_minor": 2
}
