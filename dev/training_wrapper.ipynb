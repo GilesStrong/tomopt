{
 "cells": [
  {
   "cell_type": "code",
   "execution_count": 1,
   "metadata": {},
   "outputs": [],
   "source": [
    "%matplotlib inline\n",
    "%reload_ext autoreload\n",
    "%autoreload 2"
   ]
  },
  {
   "cell_type": "code",
   "execution_count": 2,
   "metadata": {},
   "outputs": [],
   "source": [
    "from tomopt.muon import *\n",
    "from tomopt.inference import *\n",
    "from tomopt.loss import *\n",
    "from tomopt.volume import *\n",
    "from tomopt.core import *\n",
    "from tomopt.optimisation import *\n",
    "\n",
    "import matplotlib.pyplot as plt\n",
    "import seaborn as sns\n",
    "from typing import *\n",
    "import numpy as np\n",
    "\n",
    "import torch\n",
    "from torch import Tensor, nn\n",
    "import torch.nn.functional as F"
   ]
  },
  {
   "cell_type": "markdown",
   "metadata": {},
   "source": [
    "# Basics"
   ]
  },
  {
   "cell_type": "code",
   "execution_count": 3,
   "metadata": {},
   "outputs": [],
   "source": [
    "def arb_rad_length(*,z:float, lw:Tensor, size:float) -> float:\n",
    "    rad_length = torch.ones(list((lw/size).long()))*X0['beryllium']\n",
    "    if z >= 0.4 and z <= 0.5: rad_length[5:,5:] = X0['lead']\n",
    "    return rad_length"
   ]
  },
  {
   "cell_type": "code",
   "execution_count": 4,
   "metadata": {},
   "outputs": [],
   "source": [
    "def eff_cost(x:Tensor) -> Tensor:\n",
    "    return torch.expm1(3*F.relu(x))"
   ]
  },
  {
   "cell_type": "code",
   "execution_count": 5,
   "metadata": {},
   "outputs": [],
   "source": [
    "def res_cost(x:Tensor) -> Tensor:\n",
    "    return F.relu(x/100)**2"
   ]
  },
  {
   "cell_type": "code",
   "execution_count": 6,
   "metadata": {},
   "outputs": [],
   "source": [
    "def get_layers():\n",
    "    layers = []\n",
    "    lwh = Tensor([1,1,1])\n",
    "    size = 0.1\n",
    "    init_eff = 0.5\n",
    "    init_res = 1000\n",
    "    pos = 'above'\n",
    "    for z,d in zip(np.arange(lwh[2],0,-size), [1,1,0,0,0,0,0,0,1,1]):\n",
    "        if d:\n",
    "            layers.append(DetectorLayer(pos=pos, init_eff=init_eff, init_res=init_res,\n",
    "                                        lw=lwh[:2], z=z, size=size, eff_cost_func=eff_cost, res_cost_func=res_cost))\n",
    "        else:\n",
    "            pos = 'below'\n",
    "            layers.append(PassiveLayer(rad_length_func=arb_rad_length, lw=lwh[:2], z=z, size=size))\n",
    "\n",
    "    return nn.ModuleList(layers) "
   ]
  },
  {
   "cell_type": "code",
   "execution_count": 7,
   "metadata": {},
   "outputs": [],
   "source": [
    "volume = Volume(get_layers())"
   ]
  },
  {
   "cell_type": "markdown",
   "metadata": {},
   "source": [
    "# VolumeWrapper"
   ]
  },
  {
   "cell_type": "code",
   "execution_count": 8,
   "metadata": {},
   "outputs": [],
   "source": [
    "from functools import partial"
   ]
  },
  {
   "cell_type": "code",
   "execution_count": 9,
   "metadata": {},
   "outputs": [],
   "source": [
    "volume = Volume(get_layers())"
   ]
  },
  {
   "cell_type": "code",
   "execution_count": 10,
   "metadata": {},
   "outputs": [],
   "source": [
    "wrapper = VolumeWrapper(volume=volume, res_opt=partial(torch.optim.SGD, lr=2e1), eff_opt=partial(torch.optim.SGD, lr=2e-5), loss_func=DetectorLoss(0.15))"
   ]
  },
  {
   "cell_type": "code",
   "execution_count": 11,
   "metadata": {},
   "outputs": [],
   "source": [
    "trn_passives = PassiveYielder([arb_rad_length])"
   ]
  },
  {
   "cell_type": "code",
   "execution_count": 12,
   "metadata": {},
   "outputs": [
    {
     "name": "stdout",
     "output_type": "stream",
     "text": [
      "<function arb_rad_length at 0x7fca49f22280>\n"
     ]
    }
   ],
   "source": [
    "for p in trn_passives: print(p)"
   ]
  },
  {
   "cell_type": "markdown",
   "metadata": {},
   "source": [
    "wrapper.fit(10, n_mu_per_volume=1000, passive_bs=1, mu_bs=1000, trn_passives=trn_passives, val_passives=None, cbs=[NoMoreNaNs()])"
   ]
  },
  {
   "cell_type": "code",
   "execution_count": 21,
   "metadata": {},
   "outputs": [
    {
     "data": {
      "text/plain": [
       "OrderedDict([('layers.0.resolution',\n",
       "              tensor([[1000., 1000., 1000., 1000., 1000., 1000., 1000., 1000., 1000., 1000.],\n",
       "                      [1000., 1000., 1000., 1000., 1000., 1000., 1000., 1000., 1000., 1000.],\n",
       "                      [1000., 1000., 1000., 1000., 1000., 1000., 1000., 1000., 1000., 1000.],\n",
       "                      [1000., 1000., 1000., 1000., 1000., 1000., 1000., 1000., 1000., 1000.],\n",
       "                      [1000., 1000., 1000., 1000., 1000., 1000., 1000., 1000., 1000., 1000.],\n",
       "                      [1000., 1000., 1000., 1000., 1000., 1000., 1000., 1000., 1000., 1000.],\n",
       "                      [1000., 1000., 1000., 1000., 1000., 1000., 1000., 1000., 1000., 1000.],\n",
       "                      [1000., 1000., 1000., 1000., 1000., 1000., 1000., 1000., 1000., 1000.],\n",
       "                      [1000., 1000., 1000., 1000., 1000., 1000., 1000., 1000., 1000., 1000.],\n",
       "                      [1000., 1000., 1000., 1000., 1000., 1000., 1000., 1000., 1000., 1000.]])),\n",
       "             ('layers.0.efficiency',\n",
       "              tensor([[0.5000, 0.5000, 0.5000, 0.5000, 0.5000, 0.5000, 0.5000, 0.5000, 0.5000,\n",
       "                       0.5000],\n",
       "                      [0.5000, 0.5000, 0.5000, 0.5000, 0.5000, 0.5000, 0.5000, 0.5000, 0.5000,\n",
       "                       0.5000],\n",
       "                      [0.5000, 0.5000, 0.5000, 0.5000, 0.5000, 0.5000, 0.5000, 0.5000, 0.5000,\n",
       "                       0.5000],\n",
       "                      [0.5000, 0.5000, 0.5000, 0.5000, 0.5000, 0.5000, 0.5000, 0.5000, 0.5000,\n",
       "                       0.5000],\n",
       "                      [0.5000, 0.5000, 0.5000, 0.5000, 0.5000, 0.5000, 0.5000, 0.5000, 0.5000,\n",
       "                       0.5000],\n",
       "                      [0.5000, 0.5000, 0.5000, 0.5000, 0.5000, 0.5000, 0.5000, 0.5000, 0.5000,\n",
       "                       0.5000],\n",
       "                      [0.5000, 0.5000, 0.5000, 0.5000, 0.5000, 0.5000, 0.5000, 0.5000, 0.5000,\n",
       "                       0.5000],\n",
       "                      [0.5000, 0.5000, 0.5000, 0.5000, 0.5000, 0.5000, 0.5000, 0.5000, 0.5000,\n",
       "                       0.5000],\n",
       "                      [0.5000, 0.5000, 0.5000, 0.5000, 0.5000, 0.5000, 0.5000, 0.5000, 0.5000,\n",
       "                       0.5000],\n",
       "                      [0.5000, 0.5000, 0.5000, 0.5000, 0.5000, 0.5000, 0.5000, 0.5000, 0.5000,\n",
       "                       0.5000]])),\n",
       "             ('layers.1.resolution',\n",
       "              tensor([[1000., 1000., 1000., 1000., 1000., 1000., 1000., 1000., 1000., 1000.],\n",
       "                      [1000., 1000., 1000., 1000., 1000., 1000., 1000., 1000., 1000., 1000.],\n",
       "                      [1000., 1000., 1000., 1000., 1000., 1000., 1000., 1000., 1000., 1000.],\n",
       "                      [1000., 1000., 1000., 1000., 1000., 1000., 1000., 1000., 1000., 1000.],\n",
       "                      [1000., 1000., 1000., 1000., 1000., 1000., 1000., 1000., 1000., 1000.],\n",
       "                      [1000., 1000., 1000., 1000., 1000., 1000., 1000., 1000., 1000., 1000.],\n",
       "                      [1000., 1000., 1000., 1000., 1000., 1000., 1000., 1000., 1000., 1000.],\n",
       "                      [1000., 1000., 1000., 1000., 1000., 1000., 1000., 1000., 1000., 1000.],\n",
       "                      [1000., 1000., 1000., 1000., 1000., 1000., 1000., 1000., 1000., 1000.],\n",
       "                      [1000., 1000., 1000., 1000., 1000., 1000., 1000., 1000., 1000., 1000.]])),\n",
       "             ('layers.1.efficiency',\n",
       "              tensor([[0.5000, 0.5000, 0.5000, 0.5000, 0.5000, 0.5000, 0.5000, 0.5000, 0.5000,\n",
       "                       0.5000],\n",
       "                      [0.5000, 0.5000, 0.5000, 0.5000, 0.5000, 0.5000, 0.5000, 0.5000, 0.5000,\n",
       "                       0.5000],\n",
       "                      [0.5000, 0.5000, 0.5000, 0.5000, 0.5000, 0.5000, 0.5000, 0.5000, 0.5000,\n",
       "                       0.5000],\n",
       "                      [0.5000, 0.5000, 0.5000, 0.5000, 0.5000, 0.5000, 0.5000, 0.5000, 0.5000,\n",
       "                       0.5000],\n",
       "                      [0.5000, 0.5000, 0.5000, 0.5000, 0.5000, 0.5000, 0.5000, 0.5000, 0.5000,\n",
       "                       0.5000],\n",
       "                      [0.5000, 0.5000, 0.5000, 0.5000, 0.5000, 0.5000, 0.5000, 0.5000, 0.5000,\n",
       "                       0.5000],\n",
       "                      [0.5000, 0.5000, 0.5000, 0.5000, 0.5000, 0.5000, 0.5000, 0.5000, 0.5000,\n",
       "                       0.5000],\n",
       "                      [0.5000, 0.5000, 0.5000, 0.5000, 0.5000, 0.5000, 0.5000, 0.5000, 0.5000,\n",
       "                       0.5000],\n",
       "                      [0.5000, 0.5000, 0.5000, 0.5000, 0.5000, 0.5000, 0.5000, 0.5000, 0.5000,\n",
       "                       0.5000],\n",
       "                      [0.5000, 0.5000, 0.5000, 0.5000, 0.5000, 0.5000, 0.5000, 0.5000, 0.5000,\n",
       "                       0.5000]])),\n",
       "             ('layers.8.resolution',\n",
       "              tensor([[1000., 1000., 1000., 1000., 1000., 1000., 1000., 1000., 1000., 1000.],\n",
       "                      [1000., 1000., 1000., 1000., 1000., 1000., 1000., 1000., 1000., 1000.],\n",
       "                      [1000., 1000., 1000., 1000., 1000., 1000., 1000., 1000., 1000., 1000.],\n",
       "                      [1000., 1000., 1000., 1000., 1000., 1000., 1000., 1000., 1000., 1000.],\n",
       "                      [1000., 1000., 1000., 1000., 1000., 1000., 1000., 1000., 1000., 1000.],\n",
       "                      [1000., 1000., 1000., 1000., 1000., 1000., 1000., 1000., 1000., 1000.],\n",
       "                      [1000., 1000., 1000., 1000., 1000., 1000., 1000., 1000., 1000., 1000.],\n",
       "                      [1000., 1000., 1000., 1000., 1000., 1000., 1000., 1000., 1000., 1000.],\n",
       "                      [1000., 1000., 1000., 1000., 1000., 1000., 1000., 1000., 1000., 1000.],\n",
       "                      [1000., 1000., 1000., 1000., 1000., 1000., 1000., 1000., 1000., 1000.]])),\n",
       "             ('layers.8.efficiency',\n",
       "              tensor([[0.5000, 0.5000, 0.5000, 0.5000, 0.5000, 0.5000, 0.5000, 0.5000, 0.5000,\n",
       "                       0.5000],\n",
       "                      [0.5000, 0.5000, 0.5000, 0.5000, 0.5000, 0.5000, 0.5000, 0.5000, 0.5000,\n",
       "                       0.5000],\n",
       "                      [0.5000, 0.5000, 0.5000, 0.5000, 0.5000, 0.5000, 0.5000, 0.5000, 0.5000,\n",
       "                       0.5000],\n",
       "                      [0.5000, 0.5000, 0.5000, 0.5000, 0.5000, 0.5000, 0.5000, 0.5000, 0.5000,\n",
       "                       0.5000],\n",
       "                      [0.5000, 0.5000, 0.5000, 0.5000, 0.5000, 0.5000, 0.5000, 0.5000, 0.5000,\n",
       "                       0.5000],\n",
       "                      [0.5000, 0.5000, 0.5000, 0.5000, 0.5000, 0.5000, 0.5000, 0.5000, 0.5000,\n",
       "                       0.5000],\n",
       "                      [0.5000, 0.5000, 0.5000, 0.5000, 0.5000, 0.5000, 0.5000, 0.5000, 0.5000,\n",
       "                       0.5000],\n",
       "                      [0.5000, 0.5000, 0.5000, 0.5000, 0.5000, 0.5000, 0.5000, 0.5000, 0.5000,\n",
       "                       0.5000],\n",
       "                      [0.5000, 0.5000, 0.5000, 0.5000, 0.5000, 0.5000, 0.5000, 0.5000, 0.5000,\n",
       "                       0.5000],\n",
       "                      [0.5000, 0.5000, 0.5000, 0.5000, 0.5000, 0.5000, 0.5000, 0.5000, 0.5000,\n",
       "                       0.5000]])),\n",
       "             ('layers.9.resolution',\n",
       "              tensor([[1000., 1000., 1000., 1000., 1000., 1000., 1000., 1000., 1000., 1000.],\n",
       "                      [1000., 1000., 1000., 1000., 1000., 1000., 1000., 1000., 1000., 1000.],\n",
       "                      [1000., 1000., 1000., 1000., 1000., 1000., 1000., 1000., 1000., 1000.],\n",
       "                      [1000., 1000., 1000., 1000., 1000., 1000., 1000., 1000., 1000., 1000.],\n",
       "                      [1000., 1000., 1000., 1000., 1000., 1000., 1000., 1000., 1000., 1000.],\n",
       "                      [1000., 1000., 1000., 1000., 1000., 1000., 1000., 1000., 1000., 1000.],\n",
       "                      [1000., 1000., 1000., 1000., 1000., 1000., 1000., 1000., 1000., 1000.],\n",
       "                      [1000., 1000., 1000., 1000., 1000., 1000., 1000., 1000., 1000., 1000.],\n",
       "                      [1000., 1000., 1000., 1000., 1000., 1000., 1000., 1000., 1000., 1000.],\n",
       "                      [1000., 1000., 1000., 1000., 1000., 1000., 1000., 1000., 1000., 1000.]])),\n",
       "             ('layers.9.efficiency',\n",
       "              tensor([[0.5000, 0.5000, 0.5000, 0.5000, 0.5000, 0.5000, 0.5000, 0.5000, 0.5000,\n",
       "                       0.5000],\n",
       "                      [0.5000, 0.5000, 0.5000, 0.5000, 0.5000, 0.5000, 0.5000, 0.5000, 0.5000,\n",
       "                       0.5000],\n",
       "                      [0.5000, 0.5000, 0.5000, 0.5000, 0.5000, 0.5000, 0.5000, 0.5000, 0.5000,\n",
       "                       0.5000],\n",
       "                      [0.5000, 0.5000, 0.5000, 0.5000, 0.5000, 0.5000, 0.5000, 0.5000, 0.5000,\n",
       "                       0.5000],\n",
       "                      [0.5000, 0.5000, 0.5000, 0.5000, 0.5000, 0.5000, 0.5000, 0.5000, 0.5000,\n",
       "                       0.5000],\n",
       "                      [0.5000, 0.5000, 0.5000, 0.5000, 0.5000, 0.5000, 0.5000, 0.5000, 0.5000,\n",
       "                       0.5000],\n",
       "                      [0.5000, 0.5000, 0.5000, 0.5000, 0.5000, 0.5000, 0.5000, 0.5000, 0.5000,\n",
       "                       0.5000],\n",
       "                      [0.5000, 0.5000, 0.5000, 0.5000, 0.5000, 0.5000, 0.5000, 0.5000, 0.5000,\n",
       "                       0.5000],\n",
       "                      [0.5000, 0.5000, 0.5000, 0.5000, 0.5000, 0.5000, 0.5000, 0.5000, 0.5000,\n",
       "                       0.5000],\n",
       "                      [0.5000, 0.5000, 0.5000, 0.5000, 0.5000, 0.5000, 0.5000, 0.5000, 0.5000,\n",
       "                       0.5000]]))])"
      ]
     },
     "execution_count": 21,
     "metadata": {},
     "output_type": "execute_result"
    }
   ],
   "source": [
    "volume.state_dict()"
   ]
  },
  {
   "cell_type": "code",
   "execution_count": 13,
   "metadata": {},
   "outputs": [
    {
     "name": "stdout",
     "output_type": "stream",
     "text": [
      "CPU times: user 26 ms, sys: 1.78 ms, total: 27.8 ms\n",
      "Wall time: 27.5 ms\n"
     ]
    }
   ],
   "source": [
    "%time p = wrapper.predict(n_mu_per_volume=1, mu_bs=1, passives=trn_passives)"
   ]
  },
  {
   "cell_type": "code",
   "execution_count": 14,
   "metadata": {},
   "outputs": [
    {
     "name": "stdout",
     "output_type": "stream",
     "text": [
      "CPU times: user 50.1 ms, sys: 5.12 ms, total: 55.2 ms\n",
      "Wall time: 53.9 ms\n"
     ]
    }
   ],
   "source": [
    "%time p = wrapper.predict(n_mu_per_volume=10, mu_bs=10, passives=trn_passives)"
   ]
  },
  {
   "cell_type": "code",
   "execution_count": 15,
   "metadata": {},
   "outputs": [
    {
     "name": "stdout",
     "output_type": "stream",
     "text": [
      "CPU times: user 386 ms, sys: 71.3 ms, total: 457 ms\n",
      "Wall time: 410 ms\n"
     ]
    }
   ],
   "source": [
    "%time p = wrapper.predict(n_mu_per_volume=100, mu_bs=100, passives=trn_passives)"
   ]
  },
  {
   "cell_type": "code",
   "execution_count": 16,
   "metadata": {},
   "outputs": [
    {
     "name": "stdout",
     "output_type": "stream",
     "text": [
      "CPU times: user 16.7 s, sys: 2.32 s, total: 19.1 s\n",
      "Wall time: 13.3 s\n"
     ]
    }
   ],
   "source": [
    "%time p = wrapper.predict(n_mu_per_volume=1000, mu_bs=1000, passives=trn_passives)"
   ]
  },
  {
   "cell_type": "code",
   "execution_count": 18,
   "metadata": {},
   "outputs": [
    {
     "data": {
      "text/plain": [
       "[<matplotlib.lines.Line2D at 0x7fca240feaf0>]"
      ]
     },
     "execution_count": 18,
     "metadata": {},
     "output_type": "execute_result"
    },
    {
     "data": {
      "image/png": "[encoded data removed]",
      "text/plain": [
       "<Figure size 432x288 with 1 Axes>"
      ]
     },
     "metadata": {
      "needs_background": "light"
     },
     "output_type": "display_data"
    }
   ],
   "source": [
    "x = [1,10,100,1000]\n",
    "y = [27.5e-3, 53.9e-3, 410e-3, 13.3]\n",
    "plt.plot(x,y)"
   ]
  },
  {
   "cell_type": "code",
   "execution_count": 17,
   "metadata": {},
   "outputs": [
    {
     "data": {
      "text/plain": [
       "(6, 10, 10)"
      ]
     },
     "execution_count": 17,
     "metadata": {},
     "output_type": "execute_result"
    }
   ],
   "source": [
    "p[0].shape"
   ]
  },
  {
   "cell_type": "code",
   "execution_count": null,
   "metadata": {},
   "outputs": [],
   "source": []
  }
 ],
 "metadata": {
  "kernelspec": {
   "display_name": "Python [conda env:tomopt]",
   "language": "python",
   "name": "conda-env-tomopt-py"
  },
  "language_info": {
   "codemirror_mode": {
    "name": "ipython",
    "version": 3
   },
   "file_extension": ".py",
   "mimetype": "text/x-python",
   "name": "python",
   "nbconvert_exporter": "python",
   "pygments_lexer": "ipython3",
   "version": "3.8.0"
  },
  "toc": {
   "base_numbering": 1,
   "nav_menu": {},
   "number_sections": true,
   "sideBar": true,
   "skip_h1_title": false,
   "title_cell": "Table of Contents",
   "title_sidebar": "Contents",
   "toc_cell": false,
   "toc_position": {},
   "toc_section_display": true,
   "toc_window_display": false
  }
 },
 "nbformat": 4,
 "nbformat_minor": 2
}
