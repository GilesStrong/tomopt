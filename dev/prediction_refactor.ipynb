{
 "cells": [
  {
   "cell_type": "code",
   "execution_count": 1,
   "metadata": {},
   "outputs": [],
   "source": [
    "%matplotlib inline\n",
    "%reload_ext autoreload\n",
    "%autoreload 2"
   ]
  },
  {
   "cell_type": "markdown",
   "metadata": {},
   "source": [
    "# Muons"
   ]
  },
  {
   "cell_type": "markdown",
   "metadata": {},
   "source": [
    "## Muon generation"
   ]
  },
  {
   "cell_type": "code",
   "execution_count": 2,
   "metadata": {},
   "outputs": [],
   "source": [
    "from tomopt.muon import generate_batch"
   ]
  },
  {
   "cell_type": "code",
   "execution_count": 3,
   "metadata": {},
   "outputs": [],
   "source": [
    "import matplotlib.pyplot as plt\n",
    "import seaborn as sns"
   ]
  },
  {
   "cell_type": "code",
   "execution_count": 4,
   "metadata": {},
   "outputs": [],
   "source": [
    "from tomopt.muon import MuonBatch"
   ]
  },
  {
   "cell_type": "code",
   "execution_count": 5,
   "metadata": {},
   "outputs": [],
   "source": [
    "import torch\n",
    "from torch import Tensor"
   ]
  },
  {
   "cell_type": "code",
   "execution_count": 6,
   "metadata": {},
   "outputs": [
    {
     "data": {
      "text/plain": [
       "tensor(1.0002)"
      ]
     },
     "execution_count": 6,
     "metadata": {},
     "output_type": "execute_result"
    }
   ],
   "source": [
    "torch.randn(int(1e8)).pow(2).mean()"
   ]
  },
  {
   "cell_type": "code",
   "execution_count": 7,
   "metadata": {},
   "outputs": [],
   "source": [
    "from tomopt.core import X0"
   ]
  },
  {
   "cell_type": "code",
   "execution_count": 8,
   "metadata": {},
   "outputs": [],
   "source": [
    "def arb_rad_length(*,z:float, lw:Tensor, size:float) -> float:\n",
    "    rad_length = torch.ones(list((lw/size).long()))*1e5\n",
    "    if z >= 0.5 and z <= 0.5: rad_length[...] = X0['lead']#X0['beryllium']\n",
    "#     if z == 0.6 : rad_length[...] = X0['beryllium']\n",
    "        \n",
    "    return rad_length"
   ]
  },
  {
   "cell_type": "code",
   "execution_count": 9,
   "metadata": {},
   "outputs": [],
   "source": [
    "from tomopt.volume import PassiveLayer, DetectorLayer"
   ]
  },
  {
   "cell_type": "markdown",
   "metadata": {},
   "source": [
    "### Cost functions"
   ]
  },
  {
   "cell_type": "code",
   "execution_count": 10,
   "metadata": {},
   "outputs": [],
   "source": [
    "import torch.nn.functional as F"
   ]
  },
  {
   "cell_type": "code",
   "execution_count": 11,
   "metadata": {},
   "outputs": [],
   "source": [
    "def eff_cost(x:Tensor) -> Tensor:\n",
    "    return torch.expm1(3*F.relu(x))"
   ]
  },
  {
   "cell_type": "code",
   "execution_count": 12,
   "metadata": {},
   "outputs": [],
   "source": [
    "def res_cost(x:Tensor) -> Tensor:\n",
    "    return F.relu(x/100)**2"
   ]
  },
  {
   "cell_type": "code",
   "execution_count": 21,
   "metadata": {},
   "outputs": [],
   "source": [
    "def get_layers():\n",
    "    layers = []\n",
    "    lwh = Tensor([1,1,1])\n",
    "    size = 0.1\n",
    "    init_eff = 0.5\n",
    "    init_res = 100000\n",
    "    pos = 'above'\n",
    "    for z,d in zip(np.arange(lwh[2],0,-size), [1,1,0,0,0,0,0,0,1,1]):\n",
    "        if d:\n",
    "            layers.append(DetectorLayer(pos=pos, init_eff=init_eff, init_res=init_res,\n",
    "                                        lw=lwh[:2], z=z, size=size, eff_cost_func=eff_cost, res_cost_func=res_cost))\n",
    "        else:\n",
    "            pos = 'below'\n",
    "            layers.append(PassiveLayer(rad_length_func=arb_rad_length, lw=lwh[:2], z=z, size=size))\n",
    "\n",
    "    return nn.ModuleList(layers) "
   ]
  },
  {
   "cell_type": "code",
   "execution_count": 22,
   "metadata": {},
   "outputs": [],
   "source": [
    "import numpy as np\n",
    "from torch import nn"
   ]
  },
  {
   "cell_type": "code",
   "execution_count": 23,
   "metadata": {},
   "outputs": [],
   "source": [
    "from tomopt.volume import Volume"
   ]
  },
  {
   "cell_type": "code",
   "execution_count": 24,
   "metadata": {},
   "outputs": [],
   "source": [
    "batch = MuonBatch(generate_batch(1000), init_z=1)"
   ]
  },
  {
   "cell_type": "code",
   "execution_count": 25,
   "metadata": {},
   "outputs": [],
   "source": [
    "volume = Volume(get_layers())"
   ]
  },
  {
   "cell_type": "code",
   "execution_count": 26,
   "metadata": {},
   "outputs": [],
   "source": [
    "volume(batch)"
   ]
  },
  {
   "cell_type": "markdown",
   "metadata": {},
   "source": [
    "# Atomic number reco"
   ]
  },
  {
   "cell_type": "markdown",
   "metadata": {},
   "source": [
    "## Compute deviations and scatter locations"
   ]
  },
  {
   "cell_type": "code",
   "execution_count": 51,
   "metadata": {},
   "outputs": [],
   "source": [
    "from tomopt.inference import ScatterBatch"
   ]
  },
  {
   "cell_type": "code",
   "execution_count": 52,
   "metadata": {},
   "outputs": [],
   "source": [
    "scatters = ScatterBatch(batch, volume)"
   ]
  },
  {
   "cell_type": "markdown",
   "metadata": {},
   "source": [
    "## Infer rad length"
   ]
  },
  {
   "cell_type": "code",
   "execution_count": 53,
   "metadata": {},
   "outputs": [],
   "source": [
    "from tomopt.inference import X0Inferer\n",
    "from tomopt.core import *"
   ]
  },
  {
   "cell_type": "code",
   "execution_count": 54,
   "metadata": {},
   "outputs": [],
   "source": [
    "from typing import *"
   ]
  },
  {
   "cell_type": "code",
   "execution_count": 311,
   "metadata": {},
   "outputs": [],
   "source": [
    "class X0Inferer:\n",
    "    def __init__(self, scatters: ScatterBatch, default_pred: Optional[float] = X0[\"beryllium\"]):\n",
    "        self.scatters, self.default_pred = scatters, default_pred\n",
    "        self.mu, self.volume, self.hits = self.scatters.mu, self.scatters.volume, self.scatters.hits\n",
    "        self.size, self.lw = self.volume.size, self.volume.lw\n",
    "        self.mask = self.scatters.get_scatter_mask()\n",
    "\n",
    "    def x0_from_dtheta(self) -> Tuple[Tensor, Tensor]:\n",
    "        r\"\"\"\n",
    "        TODO: Debias by considering each voxel on muon paths\n",
    "        Maybe like:\n",
    "        Debias dtheta\n",
    "        dtheta_unc2 = dtheta_unc.pow(2)\n",
    "        dtheta_dbias = dtheta.pow(2)-dtheta_unc2\n",
    "        m = [dtheta_dbias < dtheta_unc2]\n",
    "        dtheta_dbias[m] = dtheta_unc2[m]\n",
    "        dtheta_dbias = dtheta_dbias.sqrt()\n",
    "        dtheta = dtheta_dbias\n",
    "        \"\"\"\n",
    "\n",
    "        mom = self.mu.reco_mom[self.mu.get_xy_mask(self.lw)][self.mask]\n",
    "        dtheta = self.scatters.dtheta[self.mask]\n",
    "        dtheta_unc = self.scatters.dtheta_unc[self.mask]\n",
    "        theta_xy_in = self.scatters.theta_in[self.mask]\n",
    "        theta_xy_out = self.scatters.theta_out[self.mask]\n",
    "        theta_xy_in_unc = self.scatters.theta_in_unc[self.mask]\n",
    "        theta_xy_out_unc = self.scatters.theta_out_unc[self.mask]\n",
    "\n",
    "        # Prediction\n",
    "        theta2 = dtheta.pow(2).sum(1)\n",
    "        n_x0 = 0.5 * theta2 * ((mom / SCATTER_COEF_A) ** 2)\n",
    "        theta_in = theta_xy_in.pow(2).sum(1).sqrt()\n",
    "        theta_out = theta_xy_out.pow(2).sum(1).sqrt()\n",
    "        cos_theta_in = torch.cos(theta_in)\n",
    "        cos_theta_out = torch.cos(theta_out)\n",
    "        cos_mean = (cos_theta_in + cos_theta_out) / 2\n",
    "        pred = self.size / (n_x0 * cos_mean)\n",
    "\n",
    "        # Uncertainty TODO probably best check this\n",
    "        theta2_unc = (2 * dtheta * dtheta_unc).pow(2).sum(1).sqrt()\n",
    "        n_x0_unc = 0.5 * theta2_unc * ((mom / SCATTER_COEF_A) ** 2)\n",
    "        theta_in2_unc = (2 * theta_xy_in * theta_xy_in_unc).pow(2).sum(1).sqrt()\n",
    "        theta_in_unc = 0.5 * theta_in2_unc / theta_in\n",
    "        theta_out2_unc = (2 * theta_xy_out * theta_xy_out_unc).pow(2).sum(1).sqrt()\n",
    "        theta_out_unc = 0.5 * theta_out2_unc / theta_out\n",
    "        cos_theta_in_unc = torch.sin(theta_in) * theta_in_unc\n",
    "        cos_theta_out_unc = torch.sin(theta_out) * theta_out_unc\n",
    "        cos_mean_unc = torch.sqrt(cos_theta_in_unc.pow(2) + cos_theta_out_unc.pow(2)) / 2\n",
    "        inv_cos_mean_unc = cos_mean_unc / cos_mean.pow(2)\n",
    "        inv_n_x0_unc = n_x0_unc / n_x0.pow(2)\n",
    "        pred_unc = pred * torch.sqrt((inv_n_x0_unc * n_x0).pow(2) + (inv_cos_mean_unc * cos_mean).pow(2))\n",
    "\n",
    "        return pred, pred_unc\n",
    "\n",
    "    def x0_from_dxy(self) -> Tuple[Optional[Tensor], Optional[Tensor]]:\n",
    "        # TODO: FIX this\n",
    "        # dxy = torch.sqrt(scatters['dxy'][mask].pow(2).sum(1))\n",
    "        # dh = dxy/((math.sqrt(2)*torch.cos(scatters['theta_in'][mask].pow(2).sum(1)))+1e-17)\n",
    "        # theta0 = torch.arcsin(dh/self.size)\n",
    "        # x0_pred_dxy = (theta0*p/b)**2\n",
    "        return None, None\n",
    "\n",
    "    def compute_efficiency(self) -> Tensor:\n",
    "        eff = None\n",
    "        for p, l, i in zip((\"above\", \"above\", \"below\", \"below\"), self.volume.get_detectors(), (0, 1, 0, 1)):\n",
    "            x = l.abs2idx(self.hits[p][\"xy\"][:, i][self.mask])\n",
    "            e = l.efficiency[x[:, 0], x[:, 1]]\n",
    "            if eff is None:\n",
    "                eff = e\n",
    "            else:\n",
    "                eff = eff * e\n",
    "        if eff is None:\n",
    "            eff = torch.zeros(0)\n",
    "        return eff\n",
    "\n",
    "    def average_preds(\n",
    "        self, x0_dtheta: Optional[Tensor], x0_dtheta_unc: Optional[Tensor], x0_dxy: Optional[Tensor], x0_dxy_unc: Optional[Tensor], efficiency: Tensor\n",
    "    ) -> Tuple[Tensor, Tensor]:\n",
    "        r\"\"\"\n",
    "        TODO: Use location uncertainty to spread muon inferrence over neighbouring voxels around central location\n",
    "        \"\"\"\n",
    "\n",
    "        loc, loc_unc = self.scatters.location[self.mask], self.scatters.location_unc[self.mask]  # noqa F841 will use loc_unc to infer around central voxel\n",
    "        loc_idx = self.volume.lookup_xyz_coords(loc, passive_only=True)\n",
    "        idxs = torch.stack((torch.arange(len(loc)).long(), loc_idx[:, 2], loc_idx[:, 0], loc_idx[:, 1]), dim=1)\n",
    "        shp = (len(loc), len(self.volume.get_passives()), *(self.volume.lw / self.volume.size).long())\n",
    "        \n",
    "        preds, weights = [], []\n",
    "        for x0, unc in ((x0_dtheta, x0_dtheta_unc), (x0_dxy, x0_dxy_unc)):\n",
    "            if x0 is None or unc is None:\n",
    "                continue\n",
    "            coef = efficiency * x0 / ((1e-17) + (unc ** 2))\n",
    "            preds.append(torch.sparse_coo_tensor(idxs.T, x0*coef, size=shp).to_dense())\n",
    "            weights.append(torch.sparse_coo_tensor(idxs.T, coef, size=shp).to_dense())\n",
    "\n",
    "        pred, weight = torch.cat(preds, dim=0), torch.cat(weights, dim=0)\n",
    "        pred, weight = pred.sum(0), weight.sum(0)\n",
    "        pred = pred / weight\n",
    "        return pred, weight\n",
    "\n",
    "    def add_default_pred(self, pred: Tensor, weight: Tensor) -> None:\n",
    "        if self.default_pred is None:\n",
    "            return\n",
    "        m = pred != pred  # mask NaNs\n",
    "        pred[m] = self.default_pred\n",
    "        weight[m] = 1 / (self.default_pred ** 2)\n",
    "\n",
    "    def pred_x0(self) -> Tuple[Tensor, Tensor]:\n",
    "        x0_dtheta, x0_dtheta_unc = self.x0_from_dtheta()\n",
    "        x0_dxy, x0_dxy_unc = self.x0_from_dxy()\n",
    "        eff = self.compute_efficiency()\n",
    "\n",
    "        pred, weight = self.average_preds(x0_dtheta=x0_dtheta, x0_dtheta_unc=x0_dtheta_unc, x0_dxy=x0_dxy, x0_dxy_unc=x0_dxy_unc, efficiency=eff)\n",
    "        self.add_default_pred(pred, weight)\n",
    "        return pred, weight\n"
   ]
  },
  {
   "cell_type": "code",
   "execution_count": 312,
   "metadata": {},
   "outputs": [],
   "source": [
    "i = Tensor([[0, 2], [1, 0], [1, 2]]).long()\n",
    "v =  Tensor([3,      4,      5    ])\n",
    "s = torch.sparse_coo_tensor(i.T, v, [2,3])"
   ]
  },
  {
   "cell_type": "code",
   "execution_count": 313,
   "metadata": {},
   "outputs": [
    {
     "data": {
      "text/plain": [
       "(torch.Size([2, 3]), torch.Size([3]))"
      ]
     },
     "execution_count": 313,
     "metadata": {},
     "output_type": "execute_result"
    }
   ],
   "source": [
    "i.T.shape, v.shape"
   ]
  },
  {
   "cell_type": "code",
   "execution_count": 314,
   "metadata": {},
   "outputs": [
    {
     "data": {
      "text/plain": [
       "[(tensor(0), tensor(1), tensor(1)), (tensor(2), tensor(0), tensor(2))]"
      ]
     },
     "execution_count": 314,
     "metadata": {},
     "output_type": "execute_result"
    }
   ],
   "source": [
    "list(zip(*i))"
   ]
  },
  {
   "cell_type": "code",
   "execution_count": 315,
   "metadata": {},
   "outputs": [
    {
     "data": {
      "text/plain": [
       "torch.Size([3, 2])"
      ]
     },
     "execution_count": 315,
     "metadata": {},
     "output_type": "execute_result"
    }
   ],
   "source": [
    "i.shape"
   ]
  },
  {
   "cell_type": "code",
   "execution_count": 316,
   "metadata": {},
   "outputs": [
    {
     "data": {
      "text/plain": [
       "[(6,), (1,), (10,)]"
      ]
     },
     "execution_count": 316,
     "metadata": {},
     "output_type": "execute_result"
    }
   ],
   "source": [
    "list(zip(*[[6,1,10]]))"
   ]
  },
  {
   "cell_type": "code",
   "execution_count": 317,
   "metadata": {},
   "outputs": [
    {
     "data": {
      "text/plain": [
       "torch.Size([6, 10, 10])"
      ]
     },
     "execution_count": 317,
     "metadata": {},
     "output_type": "execute_result"
    }
   ],
   "source": [
    "torch.sparse_coo_tensor(list(zip(*[[5,1,9]])), Tensor([2]), size=(6,10,10)).to_dense().shape"
   ]
  },
  {
   "cell_type": "code",
   "execution_count": 318,
   "metadata": {},
   "outputs": [],
   "source": [
    "x0_inferer = X0Inferer(scatters)"
   ]
  },
  {
   "cell_type": "code",
   "execution_count": 319,
   "metadata": {},
   "outputs": [],
   "source": [
    "pred_bias, unc = x0_inferer.x0_from_dtheta()"
   ]
  },
  {
   "cell_type": "code",
   "execution_count": 320,
   "metadata": {},
   "outputs": [
    {
     "data": {
      "text/plain": [
       "tensor(1.2472, grad_fn=<MaxBackward1>)"
      ]
     },
     "execution_count": 320,
     "metadata": {},
     "output_type": "execute_result"
    }
   ],
   "source": [
    "(pred_bias/unc).max()"
   ]
  },
  {
   "cell_type": "code",
   "execution_count": 321,
   "metadata": {},
   "outputs": [],
   "source": [
    "pred,w = x0_inferer.pred_x0()"
   ]
  },
  {
   "cell_type": "code",
   "execution_count": 324,
   "metadata": {},
   "outputs": [
    {
     "data": {
      "text/plain": [
       "tensor([[[8.3595e+00, 3.5280e-01, 3.5280e-01, 3.5280e-01, 1.8168e+01,\n",
       "          5.7232e+01, 6.8062e+01, 3.5280e-01, 3.5280e-01, 3.5280e-01],\n",
       "         [3.5280e-01, 3.5280e-01, 1.5636e+01, 1.2335e+01, 2.3507e+01,\n",
       "          3.5280e-01, 1.0596e+01, 3.5280e-01, 1.5747e+01, 3.5280e-01],\n",
       "         [3.5280e-01, 2.6895e+02, 2.6946e+02, 8.6303e+00, 3.5280e-01,\n",
       "          1.7416e+01, 1.1203e+01, 1.8570e+01, 1.2051e+01, 2.5010e+01],\n",
       "         [3.5280e-01, 3.5280e-01, 1.6565e+01, 3.5280e-01, 2.2678e+01,\n",
       "          7.0060e+00, 3.5280e-01, 3.5280e-01, 3.5280e-01, 3.5280e-01],\n",
       "         [3.5280e-01, 1.0737e+02, 1.0328e+01, 3.5280e-01, 3.5280e-01,\n",
       "          3.5280e-01, 3.5280e-01, 4.7909e+01, 1.2788e+01, 3.5280e-01],\n",
       "         [3.5280e-01, 9.6732e+00, 3.5280e-01, 3.5280e-01, 3.5280e-01,\n",
       "          9.4080e+00, 3.5280e-01, 2.0922e+01, 3.5280e-01, 2.0812e+01],\n",
       "         [3.5280e-01, 3.0962e+01, 1.2863e+01, 1.1575e+01, 1.4312e+01,\n",
       "          1.7881e+01, 3.5280e-01, 3.5280e-01, 3.5280e-01, 3.5280e-01],\n",
       "         [1.8103e+01, 1.4403e+01, 3.5280e-01, 2.7105e+01, 3.5280e-01,\n",
       "          4.5839e+01, 3.5280e-01, 3.5280e-01, 3.5280e-01, 3.5280e-01],\n",
       "         [3.5280e-01, 3.5280e-01, 3.5280e-01, 6.3530e+01, 9.4897e+00,\n",
       "          7.6106e+00, 3.5280e-01, 3.5280e-01, 3.5280e-01, 3.5280e-01],\n",
       "         [3.5280e-01, 3.5280e-01, 3.5280e-01, 8.1488e+00, 3.5280e-01,\n",
       "          3.5280e-01, 3.5280e-01, 3.5280e-01, 3.5280e-01, 3.5280e-01]],\n",
       "\n",
       "        [[3.7416e+01, 3.5280e-01, 3.5280e-01, 3.5280e-01, 3.5280e-01,\n",
       "          2.7441e+01, 3.5280e-01, 3.5280e-01, 1.6345e+01, 3.5280e-01],\n",
       "         [3.5280e-01, 2.6827e+01, 3.5280e-01, 3.5280e-01, 2.4202e+01,\n",
       "          3.5280e-01, 3.5280e-01, 3.5280e-01, 3.5280e-01, 3.5280e-01],\n",
       "         [3.5280e-01, 1.8973e+01, 7.9171e+00, 3.5280e-01, 1.8215e+01,\n",
       "          1.9249e+01, 1.1831e+01, 1.9974e+01, 3.5280e-01, 6.3242e+00],\n",
       "         [4.2170e+01, 3.5280e-01, 9.3538e+01, 1.0935e+01, 2.3184e+01,\n",
       "          2.3230e+01, 1.5362e+01, 5.3772e+01, 2.2337e+01, 2.2014e+01],\n",
       "         [3.5280e-01, 1.8392e+01, 3.5280e-01, 3.5280e-01, 1.8500e+01,\n",
       "          1.0527e+01, 3.5280e-01, 1.8960e+01, 3.5280e-01, 3.5280e-01],\n",
       "         [3.5280e-01, 3.5280e-01, 1.7126e+02, 3.5280e-01, 2.4458e+01,\n",
       "          2.4342e+02, 1.5710e+02, 2.6950e+02, 3.5280e-01, 2.7570e+01],\n",
       "         [5.2857e+00, 3.5280e-01, 3.5280e-01, 3.5280e-01, 1.4505e+01,\n",
       "          3.5280e-01, 3.5280e-01, 1.0052e+01, 1.2854e+01, 3.5280e-01],\n",
       "         [3.5280e-01, 9.0254e+00, 3.5280e-01, 3.5280e-01, 3.5280e-01,\n",
       "          1.9447e+01, 3.5280e-01, 1.4868e+01, 2.5195e+01, 3.5280e-01],\n",
       "         [5.6455e+01, 3.5280e-01, 3.5280e-01, 2.7188e+01, 3.5280e-01,\n",
       "          6.6691e+00, 7.6228e+00, 3.5280e-01, 9.9736e+00, 3.5280e-01],\n",
       "         [3.5280e-01, 3.5280e-01, 3.5280e-01, 7.6018e+00, 1.7731e+01,\n",
       "          3.5280e-01, 3.5280e-01, 3.5280e-01, 3.5280e-01, 3.5280e-01]],\n",
       "\n",
       "        [[3.5280e-01, 1.5518e+02, 2.7705e+01, 3.5280e-01, 1.5435e+01,\n",
       "          3.5280e-01, 3.5280e-01, 3.7685e+01, 3.5280e-01, 1.8191e+01],\n",
       "         [2.0596e+01, 3.5280e-01, 2.1473e+01, 2.0323e+01, 7.3265e+00,\n",
       "          2.1299e+01, 5.6920e+00, 3.5280e-01, 1.6598e+01, 3.5280e-01],\n",
       "         [1.3041e+01, 2.5069e+01, 1.2585e+01, 6.6653e+00, 3.5280e-01,\n",
       "          2.2515e+01, 1.4194e+01, 3.5280e-01, 3.5280e-01, 2.8397e+01],\n",
       "         [3.5280e-01, 3.5280e-01, 7.2351e+00, 1.3470e+01, 3.5280e-01,\n",
       "          1.4094e+02, 5.8256e+01, 1.9965e+01, 2.9258e+00, 7.5915e+00],\n",
       "         [2.0082e+01, 1.0398e+01, 3.5280e-01, 3.5280e-01, 1.4646e+01,\n",
       "          1.2727e+01, 3.5280e-01, 3.5280e-01, 3.2680e+01, 3.5280e-01],\n",
       "         [2.0474e+01, 3.1848e+01, 9.7838e+00, 9.9214e+00, 1.1338e+01,\n",
       "          1.1356e+01, 1.2674e+01, 1.0814e+01, 7.7240e+01, 5.7169e+00],\n",
       "         [4.2444e+00, 1.9352e+01, 8.8807e+00, 4.1086e+01, 1.4679e+01,\n",
       "          3.5280e-01, 3.8284e+01, 8.1981e+01, 6.5688e+00, 1.1622e+01],\n",
       "         [3.5280e-01, 2.5984e+01, 9.7667e+00, 3.5280e-01, 1.8814e+01,\n",
       "          3.5280e-01, 4.6990e+01, 3.5280e-01, 8.2583e+00, 2.4422e+01],\n",
       "         [4.8733e+00, 5.7778e+01, 3.5280e-01, 2.8840e+01, 9.9399e+00,\n",
       "          3.5280e-01, 1.1761e+01, 1.0730e+01, 3.5280e-01, 1.0935e+01],\n",
       "         [3.5280e-01, 2.5820e+01, 3.5280e-01, 3.5280e-01, 1.6048e+01,\n",
       "          3.5280e-01, 3.5280e-01, 1.2429e+01, 3.5280e-01, 3.5280e-01]],\n",
       "\n",
       "        [[1.2742e+02, 7.7460e+00, 3.5280e-01, 9.5581e+00, 2.0423e+01,\n",
       "          9.7425e+00, 3.5280e-01, 3.5280e-01, 7.3904e+00, 3.5280e-01],\n",
       "         [3.5280e-01, 6.9652e+00, 8.3908e+00, 3.5280e-01, 3.5280e-01,\n",
       "          5.8780e+00, 3.5280e-01, 6.7416e+00, 3.5280e-01, 3.5280e-01],\n",
       "         [5.4566e+01, 1.0679e+02, 2.0404e+01, 8.9803e+00, 1.2943e+01,\n",
       "          1.6879e+02, 4.6409e+01, 4.2601e+01, 3.5280e-01, 3.5280e-01],\n",
       "         [3.5280e-01, 1.7417e+02, 2.5461e+01, 5.3303e+01, 8.0383e+00,\n",
       "          7.0751e+00, 1.7436e+01, 1.2027e+01, 3.5280e-01, 3.5280e-01],\n",
       "         [2.9136e+01, 3.5280e-01, 3.5672e+01, 9.2178e+01, 1.0753e+01,\n",
       "          3.5280e-01, 4.9145e+00, 2.0001e+01, 1.2258e+03, 3.5280e-01],\n",
       "         [1.0527e+02, 1.1397e+01, 1.2424e+01, 2.3524e+01, 9.2516e+00,\n",
       "          1.2264e+01, 3.5280e-01, 2.7201e+01, 3.5280e-01, 2.3204e+00],\n",
       "         [8.1170e+00, 3.5280e-01, 3.4488e+00, 7.5029e+00, 4.8552e+00,\n",
       "          3.5280e-01, 2.7201e+01, 3.5280e-01, 4.9854e+01, 3.5183e+01],\n",
       "         [3.5280e-01, 2.0269e+01, 6.7430e+01, 1.2835e+01, 5.3533e+01,\n",
       "          3.5280e-01, 1.4667e+01, 5.9029e+00, 1.2579e+02, 1.3634e+01],\n",
       "         [8.3424e+00, 3.5280e-01, 2.3517e+01, 3.3020e+01, 3.5280e-01,\n",
       "          2.6925e+01, 3.5280e-01, 1.0578e+01, 3.5280e-01, 3.5280e-01],\n",
       "         [3.5280e-01, 3.5280e-01, 3.4348e+01, 3.5280e-01, 3.5280e-01,\n",
       "          3.5280e-01, 3.3016e+01, 5.7700e+00, 3.5280e-01, 5.1555e+01]],\n",
       "\n",
       "        [[3.5280e-01, 9.4434e+00, 1.0289e+01, 3.5280e-01, 6.1224e+00,\n",
       "          3.5280e-01, 1.0393e+01, 3.5280e-01, 3.5280e-01, 3.5280e-01],\n",
       "         [1.1948e+01, 6.6021e+01, 3.5280e-01, 1.2355e+01, 3.0844e+01,\n",
       "          3.5280e-01, 1.5918e+01, 9.8320e+00, 3.5280e-01, 1.5833e+01],\n",
       "         [3.5280e-01, 1.8675e+01, 3.5280e-01, 3.5280e-01, 3.5280e-01,\n",
       "          1.8064e+02, 3.5280e-01, 5.9480e+00, 3.5280e-01, 2.0744e+01],\n",
       "         [3.5280e-01, 6.6404e+00, 3.5280e-01, 3.5280e-01, 1.4614e+02,\n",
       "          3.5280e-01, 3.5280e-01, 3.5280e-01, 9.8259e+00, 1.2194e+01],\n",
       "         [3.5280e-01, 3.5280e-01, 3.5280e-01, 2.0596e+01, 6.5274e+00,\n",
       "          3.2488e+01, 1.3093e+01, 3.3298e+01, 5.7428e+01, 1.2038e+01],\n",
       "         [3.5280e-01, 3.0351e+01, 3.5280e-01, 4.8089e+01, 7.4004e+00,\n",
       "          3.5280e-01, 1.1493e+01, 1.1051e+01, 4.1902e+01, 1.6693e+01],\n",
       "         [3.5280e-01, 1.4645e+01, 1.0095e+01, 1.0401e+01, 3.5280e-01,\n",
       "          8.0523e+01, 3.5280e-01, 3.5280e-01, 3.5280e-01, 1.8471e+01],\n",
       "         [8.4519e+00, 9.6139e+00, 1.3881e+01, 3.9647e+01, 7.5236e+00,\n",
       "          3.5280e-01, 6.5777e+00, 1.4080e+01, 1.4422e+01, 1.1189e+01],\n",
       "         [3.5280e-01, 1.6997e+02, 1.6757e+01, 1.7471e+02, 2.8652e+01,\n",
       "          1.1167e+01, 2.1420e+01, 1.0579e+01, 3.5280e-01, 3.5280e-01],\n",
       "         [3.5280e-01, 3.5280e-01, 4.6693e+01, 3.5280e-01, 3.5280e-01,\n",
       "          1.1716e+01, 3.5280e-01, 3.5280e-01, 3.5280e-01, 2.8623e+01]],\n",
       "\n",
       "        [[1.0322e+01, 3.5280e-01, 3.5280e-01, 3.5893e+01, 3.6426e+01,\n",
       "          1.3912e+01, 3.5280e-01, 1.5721e+01, 3.5280e-01, 3.5280e-01],\n",
       "         [3.5280e-01, 3.4423e+01, 3.5280e-01, 3.5280e-01, 1.0999e+01,\n",
       "          5.7555e+01, 7.1618e+00, 2.5235e+01, 4.9300e+01, 3.5280e-01],\n",
       "         [3.5280e-01, 3.5280e-01, 3.5280e-01, 1.2163e+01, 1.5986e+01,\n",
       "          3.2716e+01, 3.5280e-01, 2.0667e+01, 2.2498e+02, 1.6419e+01],\n",
       "         [3.5280e-01, 7.3976e+00, 6.6827e+00, 3.5280e-01, 8.0124e+00,\n",
       "          5.3198e+00, 3.5280e-01, 1.6917e+01, 1.5532e+01, 3.5280e-01],\n",
       "         [3.5280e-01, 3.5280e-01, 1.7081e+01, 1.5708e+01, 1.3805e+01,\n",
       "          4.6080e+01, 3.5280e-01, 4.2741e+01, 2.1146e+01, 9.6730e+00],\n",
       "         [3.5280e-01, 3.5280e-01, 2.5986e+01, 3.5280e-01, 3.5280e-01,\n",
       "          8.6440e+00, 3.5280e-01, 1.2882e+01, 3.5280e-01, 2.8325e+01],\n",
       "         [3.5280e-01, 5.3150e+00, 3.5280e-01, 3.5280e-01, 1.2001e+01,\n",
       "          2.6133e+01, 2.5210e+01, 2.0297e+01, 9.3988e+00, 1.8277e+01],\n",
       "         [3.5280e-01, 3.5280e-01, 3.5280e-01, 1.4488e+01, 3.5280e-01,\n",
       "          3.5280e-01, 3.5280e-01, 6.0967e+01, 2.2433e+01, 3.5280e-01],\n",
       "         [3.5280e-01, 6.0359e+01, 8.2150e+00, 3.3656e+01, 3.5280e-01,\n",
       "          3.5280e-01, 3.5280e-01, 1.1042e+01, 3.5280e-01, 9.7594e+00],\n",
       "         [3.5280e-01, 1.1407e+01, 3.5280e-01, 3.5280e-01, 3.5280e-01,\n",
       "          4.9933e+01, 3.5280e-01, 3.5280e-01, 3.5280e-01, 1.2215e+01]]],\n",
       "       grad_fn=<IndexPutBackward>)"
      ]
     },
     "execution_count": 324,
     "metadata": {},
     "output_type": "execute_result"
    }
   ],
   "source": [
    "pred"
   ]
  },
  {
   "cell_type": "markdown",
   "metadata": {},
   "source": [
    "pred_debias.mean()"
   ]
  },
  {
   "cell_type": "code",
   "execution_count": 266,
   "metadata": {},
   "outputs": [],
   "source": [
    "dtheta, dtheta_unc = scatters.dtheta.detach().numpy(), scatters.dtheta_unc.detach().numpy()"
   ]
  },
  {
   "cell_type": "code",
   "execution_count": null,
   "metadata": {},
   "outputs": [],
   "source": [
    "volume.get_detectors()[-1].resolution.mean()"
   ]
  },
  {
   "cell_type": "code",
   "execution_count": null,
   "metadata": {},
   "outputs": [],
   "source": [
    "sns.distplot(dtheta)"
   ]
  },
  {
   "cell_type": "code",
   "execution_count": null,
   "metadata": {},
   "outputs": [],
   "source": [
    "sns.distplot(dtheta_unc)"
   ]
  },
  {
   "cell_type": "code",
   "execution_count": null,
   "metadata": {},
   "outputs": [],
   "source": [
    "sns.distplot(dtheta_unc/dtheta, bins=1000); plt.xlim([0,10])"
   ]
  },
  {
   "cell_type": "code",
   "execution_count": null,
   "metadata": {},
   "outputs": [],
   "source": [
    "sns.distplot(dtheta)"
   ]
  },
  {
   "cell_type": "code",
   "execution_count": null,
   "metadata": {},
   "outputs": [],
   "source": [
    "sns.distplot(dtheta_unc)"
   ]
  },
  {
   "cell_type": "code",
   "execution_count": null,
   "metadata": {},
   "outputs": [],
   "source": [
    "sns.distplot(dtheta_unc/dtheta, bins=1000); plt.xlim([0,10])"
   ]
  },
  {
   "cell_type": "code",
   "execution_count": null,
   "metadata": {},
   "outputs": [],
   "source": [
    "pred_bias.mean()"
   ]
  },
  {
   "cell_type": "code",
   "execution_count": null,
   "metadata": {},
   "outputs": [],
   "source": [
    "pred_bias.mean()"
   ]
  },
  {
   "cell_type": "code",
   "execution_count": null,
   "metadata": {},
   "outputs": [],
   "source": [
    "pred_bias.mean()"
   ]
  },
  {
   "cell_type": "code",
   "execution_count": null,
   "metadata": {},
   "outputs": [],
   "source": [
    "p = pred_debias.detach().numpy()\n",
    "pb = pred_bias.detach().numpy()\n",
    "\n",
    "sns.distplot(p, label=f'debiased mean {p.mean():.2f} max {p.max():.2f}', bins=1000)\n",
    "sns.distplot(pb, label=f'biased mean {pb.mean():.2f} max {pb.max():.2f}', bins=1000)\n",
    "plt.legend()\n",
    "plt.xlim([0,0.2])"
   ]
  },
  {
   "cell_type": "code",
   "execution_count": null,
   "metadata": {},
   "outputs": [],
   "source": [
    "pred.mean()"
   ]
  },
  {
   "cell_type": "code",
   "execution_count": null,
   "metadata": {},
   "outputs": [],
   "source": [
    "p = pred.detach().numpy()\n",
    "sns.displot(p)\n",
    "plt.xlim([0,0.2])"
   ]
  },
  {
   "cell_type": "code",
   "execution_count": null,
   "metadata": {},
   "outputs": [],
   "source": [
    "X0['lead'],X0['beryllium']"
   ]
  },
  {
   "cell_type": "code",
   "execution_count": null,
   "metadata": {},
   "outputs": [],
   "source": [
    "pred,weight = x0_inferer.pred_x0()"
   ]
  },
  {
   "cell_type": "markdown",
   "metadata": {},
   "source": [
    "# Inversion test"
   ]
  },
  {
   "cell_type": "code",
   "execution_count": null,
   "metadata": {},
   "outputs": [],
   "source": [
    "from tomopt.core import X0, SCATTER_COEF_A"
   ]
  },
  {
   "cell_type": "code",
   "execution_count": null,
   "metadata": {},
   "outputs": [],
   "source": [
    "import math"
   ]
  },
  {
   "cell_type": "code",
   "execution_count": null,
   "metadata": {},
   "outputs": [],
   "source": [
    "X0['beryllium']"
   ]
  },
  {
   "cell_type": "code",
   "execution_count": null,
   "metadata": {},
   "outputs": [],
   "source": [
    "deltaz = 0.1\n",
    "theta_in = Tensor([math.pi/4])\n",
    "x0 = deltaz / (X0['beryllium']*torch.cos(theta_in))\n",
    "z1 = 1#torch.randn(n, device=self.device)\n",
    "z2 = 1#torch.randn(n, device=self.device)\n",
    "\n",
    "print(x0)\n",
    "theta0 = (SCATTER_COEF_A / 100) * torch.sqrt(x0)  # Ignore due to inversion problems * (1+(SCATTER_COEF_B*torch.log(x0)))\n",
    "print(theta0)\n",
    "theta_msc = math.sqrt(2) * z2 * theta0\n",
    "print(theta_msc)\n",
    "phi_msc = Tensor([2 * math.pi])\n",
    "\n",
    "dtheta_x = theta_msc * torch.cos(phi_msc)\n",
    "dtheta_y = theta_msc * torch.sin(phi_msc)\n",
    "dtheta = torch.sqrt(dtheta_x.pow(2)+dtheta_y.pow(2))\n",
    "theta_out = theta_in+dtheta"
   ]
  },
  {
   "cell_type": "code",
   "execution_count": null,
   "metadata": {},
   "outputs": [],
   "source": [
    "dtheta"
   ]
  },
  {
   "cell_type": "code",
   "execution_count": null,
   "metadata": {},
   "outputs": [],
   "source": [
    "theta2 = dtheta.pow(2)\n",
    "theta02 = theta2/2\n",
    "print(theta02.sqrt())\n",
    "n_x0 = theta02 * ((100 / SCATTER_COEF_A) ** 2)\n",
    "print(n_x0)\n",
    "cos_theta_in = torch.cos(theta_in)\n",
    "deltaz/(n_x0 * cos_theta_in)"
   ]
  },
  {
   "cell_type": "code",
   "execution_count": null,
   "metadata": {},
   "outputs": [],
   "source": []
  }
 ],
 "metadata": {
  "kernelspec": {
   "display_name": "Python [conda env:tomopt]",
   "language": "python",
   "name": "conda-env-tomopt-py"
  },
  "language_info": {
   "codemirror_mode": {
    "name": "ipython",
    "version": 3
   },
   "file_extension": ".py",
   "mimetype": "text/x-python",
   "name": "python",
   "nbconvert_exporter": "python",
   "pygments_lexer": "ipython3",
   "version": "3.8.0"
  },
  "toc": {
   "base_numbering": 1,
   "nav_menu": {},
   "number_sections": true,
   "sideBar": true,
   "skip_h1_title": false,
   "title_cell": "Table of Contents",
   "title_sidebar": "Contents",
   "toc_cell": false,
   "toc_position": {},
   "toc_section_display": true,
   "toc_window_display": false
  }
 },
 "nbformat": 4,
 "nbformat_minor": 2
}
