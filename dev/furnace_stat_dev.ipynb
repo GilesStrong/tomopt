{
 "cells": [
  {
   "cell_type": "code",
   "execution_count": 1,
   "id": "0410d432",
   "metadata": {},
   "outputs": [],
   "source": [
    "%matplotlib inline\n",
    "%reload_ext autoreload\n",
    "%autoreload 2"
   ]
  },
  {
   "cell_type": "code",
   "execution_count": 2,
   "id": "dbb16dc4",
   "metadata": {},
   "outputs": [],
   "source": [
    "from typing import *\n",
    "import numpy as np\n",
    "from functools import partial\n",
    "from fastprogress import progress_bar\n",
    "import pandas as pd\n",
    "import h5py\n",
    "\n",
    "from lumin.plotting.results import plot_roc\n",
    "\n",
    "import torch\n",
    "from torch import Tensor, nn\n",
    "import torch.nn.functional as F\n",
    "from torch._vmap_internals import _vmap as vmap\n",
    "\n",
    "from tomopt.volume import *\n",
    "from tomopt.muon import *\n",
    "from tomopt.inference import *\n",
    "from tomopt.optimisation import *\n",
    "from tomopt.core import *\n",
    "from tomopt.utils import *\n",
    "from tomopt.plotting import *\n",
    "\n",
    "import seaborn as sns\n",
    "import matplotlib.pyplot as plt"
   ]
  },
  {
   "cell_type": "code",
   "execution_count": 3,
   "id": "0a37b443",
   "metadata": {},
   "outputs": [],
   "source": [
    "with h5py.File('furnace_data_1kmu_1e4.hdf5', \"r\") as infile:\n",
    "    preds = Tensor(infile['preds'][()])\n",
    "    targs = Tensor(infile['targs'][()])"
   ]
  },
  {
   "cell_type": "code",
   "execution_count": 4,
   "id": "f31a105a",
   "metadata": {},
   "outputs": [],
   "source": [
    "def get_volume(size: float = 0.1, lwh: Tensor = Tensor([1.0, 1.0, 1.4]), device: torch.device = torch.device(\"cpu\")) -> Volume:\n",
    "    def area_cost(x: Tensor) -> Tensor:\n",
    "        return F.relu(x)\n",
    "\n",
    "    layers: List[Layer] = []\n",
    "    n_panels = 4\n",
    "    layers.append(\n",
    "        PanelDetectorLayer(\n",
    "            pos=\"above\",\n",
    "            lw=lwh[:2],\n",
    "            z=lwh[2].item(),\n",
    "            size=0.2,\n",
    "            panels=[\n",
    "                DetectorPanel(\n",
    "                    res=1e4,\n",
    "                    eff=1,\n",
    "                    init_xyz=(lwh[0].item() / 2, lwh[1].item() / 2, lwh[2].item() - (i * (0.2) / n_panels)),\n",
    "                    init_xy_span=(4., 4.),\n",
    "                    area_cost_func=area_cost,\n",
    "                    device=device,\n",
    "                )\n",
    "                for i in range(n_panels)\n",
    "            ],\n",
    "        )\n",
    "    )\n",
    "    for z in np.round(np.arange(lwh[2] - 0.2, 0.2, -size), decimals=2):\n",
    "        layers.append(PassiveLayer(lw=lwh[:2], z=z, size=size, device=device))\n",
    "    layers.append(\n",
    "        PanelDetectorLayer(\n",
    "            pos=\"below\",\n",
    "            lw=lwh[:2],\n",
    "            z=size,\n",
    "            size=0.2,\n",
    "            panels=[\n",
    "                DetectorPanel(\n",
    "                    res=1e4,\n",
    "                    eff=1,\n",
    "                    init_xyz=(lwh[0].item() / 2, lwh[1].item() / 2, 0.2 - (i * (0.2) / n_panels)),\n",
    "                    init_xy_span=(4., 4.),\n",
    "                    area_cost_func=area_cost,\n",
    "                    device=device,\n",
    "                )\n",
    "                for i in range(n_panels)\n",
    "            ],\n",
    "        )\n",
    "    )\n",
    "\n",
    "    return Volume(nn.ModuleList(layers))"
   ]
  },
  {
   "cell_type": "code",
   "execution_count": 5,
   "id": "54e9cf70",
   "metadata": {},
   "outputs": [],
   "source": [
    "volume = get_volume()"
   ]
  },
  {
   "cell_type": "code",
   "execution_count": 6,
   "id": "d4b4e8df",
   "metadata": {
    "scrolled": false
   },
   "outputs": [
    {
     "data": {
      "text/plain": [
       "Volume(\n",
       "  (layers): ModuleList(\n",
       "    (0): PanelDetectorLayer(\n",
       "      (panels): ModuleList(\n",
       "        (0): <class 'tomopt.volume.panel.DetectorPanel'> located at xy=tensor([0.5000, 0.5000]), z=tensor([1.4000]), and xy span tensor([4., 4.])\n",
       "        (1): <class 'tomopt.volume.panel.DetectorPanel'> located at xy=tensor([0.5000, 0.5000]), z=tensor([1.3500]), and xy span tensor([4., 4.])\n",
       "        (2): <class 'tomopt.volume.panel.DetectorPanel'> located at xy=tensor([0.5000, 0.5000]), z=tensor([1.3000]), and xy span tensor([4., 4.])\n",
       "        (3): <class 'tomopt.volume.panel.DetectorPanel'> located at xy=tensor([0.5000, 0.5000]), z=tensor([1.2500]), and xy span tensor([4., 4.])\n",
       "      )\n",
       "    )\n",
       "    (1): PassiveLayer located at z=tensor([1.2000])\n",
       "    (2): PassiveLayer located at z=tensor([1.1000])\n",
       "    (3): PassiveLayer located at z=tensor([1.])\n",
       "    (4): PassiveLayer located at z=tensor([0.9000])\n",
       "    (5): PassiveLayer located at z=tensor([0.8000])\n",
       "    (6): PassiveLayer located at z=tensor([0.7000])\n",
       "    (7): PassiveLayer located at z=tensor([0.6000])\n",
       "    (8): PassiveLayer located at z=tensor([0.5000])\n",
       "    (9): PassiveLayer located at z=tensor([0.4000])\n",
       "    (10): PassiveLayer located at z=tensor([0.3000])\n",
       "    (11): PanelDetectorLayer(\n",
       "      (panels): ModuleList(\n",
       "        (0): <class 'tomopt.volume.panel.DetectorPanel'> located at xy=tensor([0.5000, 0.5000]), z=tensor([0.2000]), and xy span tensor([4., 4.])\n",
       "        (1): <class 'tomopt.volume.panel.DetectorPanel'> located at xy=tensor([0.5000, 0.5000]), z=tensor([0.1500]), and xy span tensor([4., 4.])\n",
       "        (2): <class 'tomopt.volume.panel.DetectorPanel'> located at xy=tensor([0.5000, 0.5000]), z=tensor([0.1000]), and xy span tensor([4., 4.])\n",
       "        (3): <class 'tomopt.volume.panel.DetectorPanel'> located at xy=tensor([0.5000, 0.5000]), z=tensor([0.0500]), and xy span tensor([4., 4.])\n",
       "      )\n",
       "    )\n",
       "  )\n",
       ")"
      ]
     },
     "execution_count": 6,
     "metadata": {},
     "output_type": "execute_result"
    }
   ],
   "source": [
    "volume"
   ]
  },
  {
   "cell_type": "markdown",
   "id": "564d4ead",
   "metadata": {},
   "source": [
    "# Vars"
   ]
  },
  {
   "cell_type": "code",
   "execution_count": 7,
   "id": "b4963a3b",
   "metadata": {},
   "outputs": [],
   "source": [
    "df = pd.DataFrame(targs.numpy(), columns=['gen_target'])"
   ]
  },
  {
   "cell_type": "code",
   "execution_count": 8,
   "id": "026e0346",
   "metadata": {},
   "outputs": [],
   "source": [
    "from tomopt.plotting.appearance import *\n",
    "\n",
    "def plot_pred(pred, targ):\n",
    "    with sns.axes_style(style=\"whitegrid\", rc={\"patch.edgecolor\": \"none\"}):\n",
    "        fig, axs = plt.subplots(1, len(pred), figsize=(W_MID, H_MID))\n",
    "\n",
    "        for i in range(len(pred)):\n",
    "            sns.heatmap(\n",
    "                pred[i],\n",
    "                ax=axs[i],\n",
    "                cmap=\"viridis\",\n",
    "                square=True,\n",
    "                cbar=False,\n",
    "                vmin=np.nanmin(pred),\n",
    "                vmax=np.nanmax(pred),\n",
    "            )\n",
    "        print(\"Zero-ordered target layer ID (including ladel bottom layer):\", np.floor((targ-volume.get_passive_z_range()[0]-volume.passive_size)/volume.passive_size))\n",
    "        plt.show()"
   ]
  },
  {
   "cell_type": "code",
   "execution_count": 9,
   "id": "dbcafd74",
   "metadata": {},
   "outputs": [],
   "source": [
    "ladel_removed = preds[:,1:,1:-1,1:-1]"
   ]
  },
  {
   "cell_type": "code",
   "execution_count": 10,
   "id": "2c7fb408",
   "metadata": {},
   "outputs": [],
   "source": [
    "def get_3d_avg(data):\n",
    "    return F.avg_pool3d(data, kernel_size=3, padding=1, stride=1, count_include_pad=False)"
   ]
  },
  {
   "cell_type": "code",
   "execution_count": 11,
   "id": "003c0a84",
   "metadata": {},
   "outputs": [],
   "source": [
    "def get_3d_gauss(data):\n",
    "    gauss = nn.Conv3d(1, 1, kernel_size=3, stride=1, padding=1, padding_mode='replicate', bias=False)\n",
    "    gauss.weight.data =Tensor([[[[[1,2,1],[2,4,2],[1,2,1]],[[2,4,2],[4,8,4],[2,4,2]], [[1,2,1],[2,4,2],[1,2,1]]]]])\n",
    "    gauss.requires_grad_(False)\n",
    "    return gauss(data[:,None]).squeeze()/gauss.weight.sum()"
   ]
  },
  {
   "cell_type": "code",
   "execution_count": 12,
   "id": "dbfc956f",
   "metadata": {},
   "outputs": [],
   "source": [
    "def get_layer_avgs(data):\n",
    "    return data.mean((-1,-2))"
   ]
  },
  {
   "cell_type": "code",
   "execution_count": 13,
   "id": "cec49801",
   "metadata": {},
   "outputs": [],
   "source": [
    "def get_max_sub_mean(data):\n",
    "    maxes = F.max_pool1d(data, kernel_size=3, padding=1, stride=1)\n",
    "    mins = -F.max_pool1d(-data, kernel_size=3, padding=1, stride=1)\n",
    "    return maxes-mins"
   ]
  },
  {
   "cell_type": "code",
   "execution_count": 14,
   "id": "ae97918e",
   "metadata": {},
   "outputs": [],
   "source": [
    "def get_max_div_mean(data):\n",
    "    maxes = F.max_pool1d(data, kernel_size=3, padding=1, stride=1)\n",
    "    mins = -F.max_pool1d(-data, kernel_size=3, padding=1, stride=1)\n",
    "    return maxes/mins"
   ]
  },
  {
   "cell_type": "code",
   "execution_count": 15,
   "id": "664f09f1",
   "metadata": {},
   "outputs": [],
   "source": [
    "def get_edge_det(data, kernel):\n",
    "    edge = nn.Conv1d(1, 1, kernel_size=3, stride=1, padding=1, padding_mode='replicate', bias=False)\n",
    "    edge.weight.data = Tensor([[kernel]])\n",
    "    edge.requires_grad_(False)\n",
    "    return edge(data[:,None]).squeeze()"
   ]
  },
  {
   "cell_type": "code",
   "execution_count": 16,
   "id": "27568905",
   "metadata": {},
   "outputs": [],
   "source": [
    "def get_1d_gauss(data):\n",
    "    gauss = nn.Conv1d(1, 1, kernel_size=3, stride=1, padding=1, padding_mode='replicate', bias=False)\n",
    "    gauss.weight.data = Tensor([[[2,4,2]]])\n",
    "    gauss.requires_grad_(False)\n",
    "    return gauss(data[:,None]).squeeze()/8"
   ]
  },
  {
   "cell_type": "code",
   "execution_count": 17,
   "id": "3e215623",
   "metadata": {},
   "outputs": [],
   "source": [
    "def get_1d_avg(data):\n",
    "    return F.avg_pool1d(data, kernel_size=3, padding=1, stride=1, count_include_pad=False)"
   ]
  },
  {
   "cell_type": "code",
   "execution_count": 18,
   "id": "2c44302f",
   "metadata": {},
   "outputs": [],
   "source": [
    "def get_probs(data):\n",
    "    return F.softmax(data, dim=-1)"
   ]
  },
  {
   "cell_type": "code",
   "execution_count": 19,
   "id": "c3e6a7bc",
   "metadata": {},
   "outputs": [],
   "source": [
    "def get_fill_pred(probs, offset=1):\n",
    "    return ((probs.argmax(-1)+offset)*volume.passive_size)+volume.get_passive_z_range()[0]"
   ]
  },
  {
   "cell_type": "code",
   "execution_count": 20,
   "id": "eaee357f",
   "metadata": {},
   "outputs": [],
   "source": [
    "def get_mse(fill_pred, targs):\n",
    "    return ((fill_pred-targs)**2).mean()"
   ]
  },
  {
   "cell_type": "code",
   "execution_count": 21,
   "id": "e64ca5eb",
   "metadata": {},
   "outputs": [],
   "source": [
    "def score_data(data, targs, offset=1):\n",
    "    probs = get_probs(data)\n",
    "    pred = get_fill_pred(data, offset)\n",
    "    print(get_mse(pred, targs))"
   ]
  },
  {
   "cell_type": "markdown",
   "id": "278d685d",
   "metadata": {},
   "source": [
    "# Tests"
   ]
  },
  {
   "cell_type": "code",
   "execution_count": 22,
   "id": "281c56a7",
   "metadata": {},
   "outputs": [
    {
     "data": {
      "text/plain": [
       "tensor(0.0680)"
      ]
     },
     "execution_count": 22,
     "metadata": {},
     "output_type": "execute_result"
    }
   ],
   "source": [
    "# mean\n",
    "get_mse(targs.mean(), targs)"
   ]
  },
  {
   "cell_type": "code",
   "execution_count": 23,
   "id": "dc26a101",
   "metadata": {},
   "outputs": [
    {
     "data": {
      "text/plain": [
       "tensor(0.0951)"
      ]
     },
     "execution_count": 23,
     "metadata": {},
     "output_type": "execute_result"
    }
   ],
   "source": [
    "# median layer index\n",
    "d = get_layer_avgs(ladel_removed)\n",
    "p = ((d.median(1).indices+2)*volume.passive_size)+volume.get_passive_z_range()[0]\n",
    "get_mse(p, targs)"
   ]
  },
  {
   "cell_type": "code",
   "execution_count": 195,
   "id": "e7930544",
   "metadata": {},
   "outputs": [
    {
     "name": "stdout",
     "output_type": "stream",
     "text": [
      "Zero-ordered target layer ID (including ladel bottom layer): tensor([7.])\n"
     ]
    },
    {
     "data": {
      "image/png": "[encoded data removed]",
      "text/plain": [
       "<Figure size 1024x576 with 9 Axes>"
      ]
     },
     "metadata": {},
     "output_type": "display_data"
    },
    {
     "name": "stdout",
     "output_type": "stream",
     "text": [
      "Zero-ordered target layer ID (including ladel bottom layer): tensor([7.])\n"
     ]
    },
    {
     "data": {
      "image/png": "[encoded data removed]",
      "text/plain": [
       "<Figure size 1024x576 with 9 Axes>"
      ]
     },
     "metadata": {},
     "output_type": "display_data"
    },
    {
     "name": "stdout",
     "output_type": "stream",
     "text": [
      "tensor(0.0919)\n"
     ]
    }
   ],
   "source": [
    "# max-min\n",
    "x = get_layer_avgs(ladel_removed)\n",
    "plot_pred(x[0,:,None,None], targs[0])\n",
    "x = get_max_sub_mean(x)\n",
    "plot_pred(x[0,:,None,None], targs[0])\n",
    "score_data(x, targs, offset=0)"
   ]
  },
  {
   "cell_type": "code",
   "execution_count": 25,
   "id": "2f81dea0",
   "metadata": {},
   "outputs": [
    {
     "name": "stdout",
     "output_type": "stream",
     "text": [
      "Zero-ordered target layer ID (including ladel bottom layer): tensor([7.])\n"
     ]
    },
    {
     "data": {
      "image/png": "[encoded data removed]",
      "text/plain": [
       "<Figure size 1024x576 with 9 Axes>"
      ]
     },
     "metadata": {},
     "output_type": "display_data"
    },
    {
     "name": "stdout",
     "output_type": "stream",
     "text": [
      "tensor(0.0973)\n"
     ]
    }
   ],
   "source": [
    "# max/min\n",
    "x = get_layer_avgs(ladel_removed)\n",
    "x = get_max_div_mean(x)\n",
    "plot_pred(x[0,:,None,None], targs[0])\n",
    "score_data(x, targs)"
   ]
  },
  {
   "cell_type": "code",
   "execution_count": 26,
   "id": "51ed3776",
   "metadata": {},
   "outputs": [
    {
     "name": "stdout",
     "output_type": "stream",
     "text": [
      "Zero-ordered target layer ID (including ladel bottom layer): tensor([7.])\n"
     ]
    },
    {
     "data": {
      "image/png": "[encoded data removed]",
      "text/plain": [
       "<Figure size 1024x576 with 9 Axes>"
      ]
     },
     "metadata": {},
     "output_type": "display_data"
    },
    {
     "name": "stdout",
     "output_type": "stream",
     "text": [
      "Zero-ordered target layer ID (including ladel bottom layer): tensor([7.])\n"
     ]
    },
    {
     "data": {
      "image/png": "[encoded data removed]",
      "text/plain": [
       "<Figure size 1024x576 with 9 Axes>"
      ]
     },
     "metadata": {},
     "output_type": "display_data"
    },
    {
     "name": "stdout",
     "output_type": "stream",
     "text": [
      "tensor(0.0890)\n"
     ]
    }
   ],
   "source": [
    "# pre-avg 3d max-min\n",
    "x = get_3d_avg(ladel_removed)\n",
    "plot_pred(x[0], targs[0])\n",
    "x = get_layer_avgs(x)\n",
    "x = get_max_sub_mean(x)\n",
    "plot_pred(x[0,:,None,None], targs[0])\n",
    "score_data(x, targs, offset=0)"
   ]
  },
  {
   "cell_type": "code",
   "execution_count": 27,
   "id": "e537da0c",
   "metadata": {},
   "outputs": [
    {
     "name": "stdout",
     "output_type": "stream",
     "text": [
      "Zero-ordered target layer ID (including ladel bottom layer): tensor([7.])\n"
     ]
    },
    {
     "data": {
      "image/png": "[encoded data removed]",
      "text/plain": [
       "<Figure size 1024x576 with 9 Axes>"
      ]
     },
     "metadata": {},
     "output_type": "display_data"
    },
    {
     "name": "stdout",
     "output_type": "stream",
     "text": [
      "Zero-ordered target layer ID (including ladel bottom layer): tensor([7.])\n"
     ]
    },
    {
     "data": {
      "image/png": "[encoded data removed]",
      "text/plain": [
       "<Figure size 1024x576 with 9 Axes>"
      ]
     },
     "metadata": {},
     "output_type": "display_data"
    },
    {
     "name": "stdout",
     "output_type": "stream",
     "text": [
      "tensor(0.0890)\n"
     ]
    }
   ],
   "source": [
    "# pre-avg 3d max/min\n",
    "x = get_3d_avg(ladel_removed)\n",
    "plot_pred(x[0], targs[0])\n",
    "x = get_layer_avgs(x)\n",
    "x = get_max_div_mean(x)\n",
    "plot_pred(x[0,:,None,None], targs[0])\n",
    "score_data(x, targs)"
   ]
  },
  {
   "cell_type": "code",
   "execution_count": 28,
   "id": "3efc3448",
   "metadata": {},
   "outputs": [
    {
     "name": "stdout",
     "output_type": "stream",
     "text": [
      "Zero-ordered target layer ID (including ladel bottom layer): tensor([7.])\n"
     ]
    },
    {
     "data": {
      "image/png": "[encoded data removed]",
      "text/plain": [
       "<Figure size 1024x576 with 9 Axes>"
      ]
     },
     "metadata": {},
     "output_type": "display_data"
    },
    {
     "name": "stdout",
     "output_type": "stream",
     "text": [
      "Zero-ordered target layer ID (including ladel bottom layer): tensor([7.])\n"
     ]
    },
    {
     "data": {
      "image/png": "[encoded data removed]",
      "text/plain": [
       "<Figure size 1024x576 with 9 Axes>"
      ]
     },
     "metadata": {},
     "output_type": "display_data"
    },
    {
     "name": "stdout",
     "output_type": "stream",
     "text": [
      "tensor(0.0923)\n"
     ]
    }
   ],
   "source": [
    "# pre-gaiss 3d max-min\n",
    "x = get_3d_gauss(ladel_removed)\n",
    "plot_pred(x[0], targs[0])\n",
    "x = get_layer_avgs(x)\n",
    "x = get_max_sub_mean(x)\n",
    "plot_pred(x[0,:,None,None], targs[0])\n",
    "score_data(x, targs, offset=0)"
   ]
  },
  {
   "cell_type": "code",
   "execution_count": 29,
   "id": "7dabe4d9",
   "metadata": {},
   "outputs": [
    {
     "name": "stdout",
     "output_type": "stream",
     "text": [
      "Zero-ordered target layer ID (including ladel bottom layer): tensor([7.])\n"
     ]
    },
    {
     "data": {
      "image/png": "[encoded data removed]",
      "text/plain": [
       "<Figure size 1024x576 with 9 Axes>"
      ]
     },
     "metadata": {},
     "output_type": "display_data"
    },
    {
     "name": "stdout",
     "output_type": "stream",
     "text": [
      "Zero-ordered target layer ID (including ladel bottom layer): tensor([7.])\n"
     ]
    },
    {
     "data": {
      "image/png": "[encoded data removed]",
      "text/plain": [
       "<Figure size 1024x576 with 9 Axes>"
      ]
     },
     "metadata": {},
     "output_type": "display_data"
    },
    {
     "name": "stdout",
     "output_type": "stream",
     "text": [
      "tensor(0.0934)\n"
     ]
    }
   ],
   "source": [
    "# pre-gauss 3d max/min\n",
    "x = get_3d_gauss(ladel_removed)\n",
    "plot_pred(x[0], targs[0])\n",
    "x = get_layer_avgs(x)\n",
    "x = get_max_div_mean(x)\n",
    "plot_pred(x[0,:,None,None], targs[0])\n",
    "score_data(x, targs)"
   ]
  },
  {
   "cell_type": "code",
   "execution_count": 31,
   "id": "f64fdbb0",
   "metadata": {},
   "outputs": [
    {
     "name": "stdout",
     "output_type": "stream",
     "text": [
      "Zero-ordered target layer ID (including ladel bottom layer): tensor([7.])\n"
     ]
    },
    {
     "data": {
      "image/png": "[encoded data removed]",
      "text/plain": [
       "<Figure size 1024x576 with 9 Axes>"
      ]
     },
     "metadata": {},
     "output_type": "display_data"
    },
    {
     "name": "stdout",
     "output_type": "stream",
     "text": [
      "tensor(0.0890)\n"
     ]
    }
   ],
   "source": [
    "# avg 1d max-min\n",
    "x = get_layer_avgs(ladel_removed)\n",
    "x = get_1d_avg(x)\n",
    "x = get_max_sub_mean(x)\n",
    "plot_pred(x[0,:,None,None], targs[0])\n",
    "score_data(x, targs, offset=0)"
   ]
  },
  {
   "cell_type": "code",
   "execution_count": 32,
   "id": "d39e13dc",
   "metadata": {},
   "outputs": [
    {
     "name": "stdout",
     "output_type": "stream",
     "text": [
      "Zero-ordered target layer ID (including ladel bottom layer): tensor([7.])\n"
     ]
    },
    {
     "data": {
      "image/png": "[encoded data removed]",
      "text/plain": [
       "<Figure size 1024x576 with 9 Axes>"
      ]
     },
     "metadata": {},
     "output_type": "display_data"
    },
    {
     "name": "stdout",
     "output_type": "stream",
     "text": [
      "tensor(0.0893)\n"
     ]
    }
   ],
   "source": [
    "# avg 1d max/min\n",
    "x = get_layer_avgs(ladel_removed)\n",
    "x = get_1d_avg(x)\n",
    "x = get_max_div_mean(x)\n",
    "plot_pred(x[0,:,None,None], targs[0])\n",
    "score_data(x, targs)"
   ]
  },
  {
   "cell_type": "code",
   "execution_count": 34,
   "id": "3d60b8a6",
   "metadata": {},
   "outputs": [
    {
     "name": "stdout",
     "output_type": "stream",
     "text": [
      "Zero-ordered target layer ID (including ladel bottom layer): tensor([7.])\n"
     ]
    },
    {
     "data": {
      "image/png": "[encoded data removed]",
      "text/plain": [
       "<Figure size 1024x576 with 9 Axes>"
      ]
     },
     "metadata": {},
     "output_type": "display_data"
    },
    {
     "name": "stdout",
     "output_type": "stream",
     "text": [
      "tensor(0.0923)\n"
     ]
    }
   ],
   "source": [
    "# gaussg 1d max-min\n",
    "x = get_layer_avgs(ladel_removed)\n",
    "x = get_1d_gauss(x)\n",
    "x = get_max_sub_mean(x)\n",
    "plot_pred(x[0,:,None,None], targs[0])\n",
    "score_data(x, targs, offset=0)"
   ]
  },
  {
   "cell_type": "code",
   "execution_count": 35,
   "id": "d52b253f",
   "metadata": {},
   "outputs": [
    {
     "name": "stdout",
     "output_type": "stream",
     "text": [
      "Zero-ordered target layer ID (including ladel bottom layer): tensor([7.])\n"
     ]
    },
    {
     "data": {
      "image/png": "[encoded data removed]",
      "text/plain": [
       "<Figure size 1024x576 with 9 Axes>"
      ]
     },
     "metadata": {},
     "output_type": "display_data"
    },
    {
     "name": "stdout",
     "output_type": "stream",
     "text": [
      "tensor(0.0934)\n"
     ]
    }
   ],
   "source": [
    "# gauss 1d max/min\n",
    "x = get_layer_avgs(ladel_removed)\n",
    "x = get_1d_gauss(x)\n",
    "x = get_max_div_mean(x)\n",
    "plot_pred(x[0,:,None,None], targs[0])\n",
    "score_data(x, targs)"
   ]
  },
  {
   "cell_type": "code",
   "execution_count": 37,
   "id": "f5d727ba",
   "metadata": {},
   "outputs": [
    {
     "name": "stdout",
     "output_type": "stream",
     "text": [
      "Zero-ordered target layer ID (including ladel bottom layer): tensor([7.])\n"
     ]
    },
    {
     "data": {
      "image/png": "[encoded data removed]",
      "text/plain": [
       "<Figure size 1024x576 with 9 Axes>"
      ]
     },
     "metadata": {},
     "output_type": "display_data"
    },
    {
     "name": "stdout",
     "output_type": "stream",
     "text": [
      "Zero-ordered target layer ID (including ladel bottom layer): tensor([7.])\n"
     ]
    },
    {
     "data": {
      "image/png": "[encoded data removed]",
      "text/plain": [
       "<Figure size 1024x576 with 9 Axes>"
      ]
     },
     "metadata": {},
     "output_type": "display_data"
    },
    {
     "name": "stdout",
     "output_type": "stream",
     "text": [
      "tensor(0.0870)\n"
     ]
    }
   ],
   "source": [
    "# pre-avg 3d avg 1d max-min\n",
    "x = get_3d_avg(ladel_removed)\n",
    "plot_pred(x[0], targs[0])\n",
    "x = get_layer_avgs(x)\n",
    "x = get_1d_avg(x)\n",
    "x = get_max_sub_mean(x)\n",
    "plot_pred(x[0,:,None,None], targs[0])\n",
    "score_data(x, targs)"
   ]
  },
  {
   "cell_type": "code",
   "execution_count": 194,
   "id": "eb183c88",
   "metadata": {},
   "outputs": [
    {
     "name": "stdout",
     "output_type": "stream",
     "text": [
      "Zero-ordered target layer ID (including ladel bottom layer): tensor([7.])\n"
     ]
    },
    {
     "data": {
      "image/png": "[encoded data removed]",
      "text/plain": [
       "<Figure size 1024x576 with 9 Axes>"
      ]
     },
     "metadata": {},
     "output_type": "display_data"
    },
    {
     "name": "stdout",
     "output_type": "stream",
     "text": [
      "Zero-ordered target layer ID (including ladel bottom layer): tensor([7.])\n"
     ]
    },
    {
     "data": {
      "image/png": "[encoded data removed]",
      "text/plain": [
       "<Figure size 1024x576 with 9 Axes>"
      ]
     },
     "metadata": {},
     "output_type": "display_data"
    },
    {
     "name": "stdout",
     "output_type": "stream",
     "text": [
      "Zero-ordered target layer ID (including ladel bottom layer): tensor([7.])\n"
     ]
    },
    {
     "data": {
      "image/png": "[encoded data removed]",
      "text/plain": [
       "<Figure size 1024x576 with 9 Axes>"
      ]
     },
     "metadata": {},
     "output_type": "display_data"
    },
    {
     "name": "stdout",
     "output_type": "stream",
     "text": [
      "Zero-ordered target layer ID (including ladel bottom layer): tensor([7.])\n"
     ]
    },
    {
     "data": {
      "image/png": "[encoded data removed]",
      "text/plain": [
       "<Figure size 1024x576 with 9 Axes>"
      ]
     },
     "metadata": {},
     "output_type": "display_data"
    },
    {
     "name": "stdout",
     "output_type": "stream",
     "text": [
      "Zero-ordered target layer ID (including ladel bottom layer): tensor([7.])\n"
     ]
    },
    {
     "data": {
      "image/png": "[encoded data removed]",
      "text/plain": [
       "<Figure size 1024x576 with 9 Axes>"
      ]
     },
     "metadata": {},
     "output_type": "display_data"
    },
    {
     "name": "stdout",
     "output_type": "stream",
     "text": [
      "tensor(0.0863)\n"
     ]
    }
   ],
   "source": [
    "# pre-avg 3d avg 1d max/min\n",
    "plot_pred(ladel_removed[0], targs[0])\n",
    "x = get_3d_avg(ladel_removed)\n",
    "plot_pred(x[0], targs[0])\n",
    "x = get_layer_avgs(x)\n",
    "plot_pred(x[0,:,None,None], targs[0])\n",
    "x = get_1d_avg(x)\n",
    "plot_pred(x[0,:,None,None], targs[0])\n",
    "x = get_max_div_mean(x)\n",
    "plot_pred(x[0,:,None,None], targs[0])\n",
    "score_data(x, targs)"
   ]
  },
  {
   "cell_type": "markdown",
   "id": "5ba9d8cc",
   "metadata": {},
   "source": [
    "## Ridge -1,x,-1"
   ]
  },
  {
   "cell_type": "code",
   "execution_count": 45,
   "id": "4b3aeb8c",
   "metadata": {},
   "outputs": [
    {
     "name": "stdout",
     "output_type": "stream",
     "text": [
      "Zero-ordered target layer ID (including ladel bottom layer): tensor([7.])\n"
     ]
    },
    {
     "data": {
      "image/png": "[encoded data removed]",
      "text/plain": [
       "<Figure size 1024x576 with 9 Axes>"
      ]
     },
     "metadata": {},
     "output_type": "display_data"
    },
    {
     "name": "stdout",
     "output_type": "stream",
     "text": [
      "Zero-ordered target layer ID (including ladel bottom layer): tensor([7.])\n"
     ]
    },
    {
     "data": {
      "image/png": "[encoded data removed]",
      "text/plain": [
       "<Figure size 1024x576 with 9 Axes>"
      ]
     },
     "metadata": {},
     "output_type": "display_data"
    },
    {
     "name": "stdout",
     "output_type": "stream",
     "text": [
      "tensor(0.1083)\n"
     ]
    }
   ],
   "source": [
    "# Ridge\n",
    "x = get_layer_avgs(ladel_removed)\n",
    "plot_pred(x[0,:,None,None], targs[0])\n",
    "x = get_edge_det(x, [-1,2,-1])\n",
    "plot_pred(x[0,:,None,None], targs[0])\n",
    "score_data(x, targs, offset=-1)"
   ]
  },
  {
   "cell_type": "code",
   "execution_count": 49,
   "id": "1a434b79",
   "metadata": {},
   "outputs": [
    {
     "name": "stdout",
     "output_type": "stream",
     "text": [
      "Zero-ordered target layer ID (including ladel bottom layer): tensor([7.])\n"
     ]
    },
    {
     "data": {
      "image/png": "[encoded data removed]",
      "text/plain": [
       "<Figure size 1024x576 with 9 Axes>"
      ]
     },
     "metadata": {},
     "output_type": "display_data"
    },
    {
     "name": "stdout",
     "output_type": "stream",
     "text": [
      "Zero-ordered target layer ID (including ladel bottom layer): tensor([7.])\n"
     ]
    },
    {
     "data": {
      "image/png": "[encoded data removed]",
      "text/plain": [
       "<Figure size 1024x576 with 9 Axes>"
      ]
     },
     "metadata": {},
     "output_type": "display_data"
    },
    {
     "name": "stdout",
     "output_type": "stream",
     "text": [
      "Zero-ordered target layer ID (including ladel bottom layer): tensor([7.])\n"
     ]
    },
    {
     "data": {
      "image/png": "[encoded data removed]",
      "text/plain": [
       "<Figure size 1024x576 with 9 Axes>"
      ]
     },
     "metadata": {},
     "output_type": "display_data"
    },
    {
     "name": "stdout",
     "output_type": "stream",
     "text": [
      "tensor(0.0885)\n"
     ]
    }
   ],
   "source": [
    "# 1d avg Ridge\n",
    "x = get_layer_avgs(ladel_removed)\n",
    "plot_pred(x[0,:,None,None], targs[0])\n",
    "x = get_1d_avg(x)\n",
    "plot_pred(x[0,:,None,None], targs[0])\n",
    "x = get_edge_det(x, [-1,2,-1])\n",
    "plot_pred(x[0,:,None,None], targs[0])\n",
    "score_data(x, targs, offset=-1)"
   ]
  },
  {
   "cell_type": "code",
   "execution_count": 52,
   "id": "fc68b525",
   "metadata": {},
   "outputs": [
    {
     "name": "stdout",
     "output_type": "stream",
     "text": [
      "Zero-ordered target layer ID (including ladel bottom layer): tensor([7.])\n"
     ]
    },
    {
     "data": {
      "image/png": "[encoded data removed]",
      "text/plain": [
       "<Figure size 1024x576 with 9 Axes>"
      ]
     },
     "metadata": {},
     "output_type": "display_data"
    },
    {
     "name": "stdout",
     "output_type": "stream",
     "text": [
      "Zero-ordered target layer ID (including ladel bottom layer): tensor([7.])\n"
     ]
    },
    {
     "data": {
      "image/png": "[encoded data removed]",
      "text/plain": [
       "<Figure size 1024x576 with 9 Axes>"
      ]
     },
     "metadata": {},
     "output_type": "display_data"
    },
    {
     "name": "stdout",
     "output_type": "stream",
     "text": [
      "Zero-ordered target layer ID (including ladel bottom layer): tensor([7.])\n"
     ]
    },
    {
     "data": {
      "image/png": "[encoded data removed]",
      "text/plain": [
       "<Figure size 1024x576 with 9 Axes>"
      ]
     },
     "metadata": {},
     "output_type": "display_data"
    },
    {
     "name": "stdout",
     "output_type": "stream",
     "text": [
      "tensor(0.0898)\n"
     ]
    }
   ],
   "source": [
    "# 3d avg Ridge\n",
    "x = get_3d_avg(ladel_removed)\n",
    "plot_pred(x[0], targs[0])\n",
    "x = get_layer_avgs(x)\n",
    "plot_pred(x[0,:,None,None], targs[0])\n",
    "x = get_edge_det(x, [-1,2,-1])\n",
    "plot_pred(x[0,:,None,None], targs[0])\n",
    "score_data(x, targs, offset=-1)"
   ]
  },
  {
   "cell_type": "code",
   "execution_count": 55,
   "id": "9116d57f",
   "metadata": {},
   "outputs": [
    {
     "name": "stdout",
     "output_type": "stream",
     "text": [
      "Zero-ordered target layer ID (including ladel bottom layer): tensor([7.])\n"
     ]
    },
    {
     "data": {
      "image/png": "[encoded data removed]",
      "text/plain": [
       "<Figure size 1024x576 with 9 Axes>"
      ]
     },
     "metadata": {},
     "output_type": "display_data"
    },
    {
     "name": "stdout",
     "output_type": "stream",
     "text": [
      "Zero-ordered target layer ID (including ladel bottom layer): tensor([7.])\n"
     ]
    },
    {
     "data": {
      "image/png": "[encoded data removed]",
      "text/plain": [
       "<Figure size 1024x576 with 9 Axes>"
      ]
     },
     "metadata": {},
     "output_type": "display_data"
    },
    {
     "name": "stdout",
     "output_type": "stream",
     "text": [
      "Zero-ordered target layer ID (including ladel bottom layer): tensor([7.])\n"
     ]
    },
    {
     "data": {
      "image/png": "[encoded data removed]",
      "text/plain": [
       "<Figure size 1024x576 with 9 Axes>"
      ]
     },
     "metadata": {},
     "output_type": "display_data"
    },
    {
     "name": "stdout",
     "output_type": "stream",
     "text": [
      "Zero-ordered target layer ID (including ladel bottom layer): tensor([7.])\n"
     ]
    },
    {
     "data": {
      "image/png": "[encoded data removed]",
      "text/plain": [
       "<Figure size 1024x576 with 9 Axes>"
      ]
     },
     "metadata": {},
     "output_type": "display_data"
    },
    {
     "name": "stdout",
     "output_type": "stream",
     "text": [
      "tensor(0.0878)\n"
     ]
    }
   ],
   "source": [
    "# 3d avg 1d avg Ridge\n",
    "x = get_3d_gauss(ladel_removed)\n",
    "plot_pred(x[0], targs[0])\n",
    "x = get_layer_avgs(x)\n",
    "plot_pred(x[0,:,None,None], targs[0])\n",
    "x = get_1d_avg(x)\n",
    "plot_pred(x[0,:,None,None], targs[0])\n",
    "x = get_edge_det(x, [-1,2,-1])\n",
    "plot_pred(x[0,:,None,None], targs[0])\n",
    "score_data(x, targs, offset=-1)"
   ]
  },
  {
   "cell_type": "code",
   "execution_count": 57,
   "id": "189557b6",
   "metadata": {},
   "outputs": [
    {
     "name": "stdout",
     "output_type": "stream",
     "text": [
      "Zero-ordered target layer ID (including ladel bottom layer): tensor([7.])\n"
     ]
    },
    {
     "data": {
      "image/png": "[encoded data removed]",
      "text/plain": [
       "<Figure size 1024x576 with 9 Axes>"
      ]
     },
     "metadata": {},
     "output_type": "display_data"
    },
    {
     "name": "stdout",
     "output_type": "stream",
     "text": [
      "Zero-ordered target layer ID (including ladel bottom layer): tensor([7.])\n"
     ]
    },
    {
     "data": {
      "image/png": "[encoded data removed]",
      "text/plain": [
       "<Figure size 1024x576 with 9 Axes>"
      ]
     },
     "metadata": {},
     "output_type": "display_data"
    },
    {
     "name": "stdout",
     "output_type": "stream",
     "text": [
      "Zero-ordered target layer ID (including ladel bottom layer): tensor([7.])\n"
     ]
    },
    {
     "data": {
      "image/png": "[encoded data removed]",
      "text/plain": [
       "<Figure size 1024x576 with 9 Axes>"
      ]
     },
     "metadata": {},
     "output_type": "display_data"
    },
    {
     "name": "stdout",
     "output_type": "stream",
     "text": [
      "tensor(0.1101)\n"
     ]
    }
   ],
   "source": [
    "# Ridge max-min\n",
    "x = get_layer_avgs(ladel_removed)\n",
    "plot_pred(x[0,:,None,None], targs[0])\n",
    "x = get_edge_det(x, [-1,2,-1])\n",
    "plot_pred(x[0,:,None,None], targs[0])\n",
    "x = get_max_sub_mean(x)\n",
    "plot_pred(x[0,:,None,None], targs[0])\n",
    "score_data(x, targs, offset=0)"
   ]
  },
  {
   "cell_type": "code",
   "execution_count": 59,
   "id": "42208d7f",
   "metadata": {},
   "outputs": [
    {
     "name": "stdout",
     "output_type": "stream",
     "text": [
      "Zero-ordered target layer ID (including ladel bottom layer): tensor([7.])\n"
     ]
    },
    {
     "data": {
      "image/png": "[encoded data removed]",
      "text/plain": [
       "<Figure size 1024x576 with 9 Axes>"
      ]
     },
     "metadata": {},
     "output_type": "display_data"
    },
    {
     "name": "stdout",
     "output_type": "stream",
     "text": [
      "Zero-ordered target layer ID (including ladel bottom layer): tensor([7.])\n"
     ]
    },
    {
     "data": {
      "image/png": "[encoded data removed]",
      "text/plain": [
       "<Figure size 1024x576 with 9 Axes>"
      ]
     },
     "metadata": {},
     "output_type": "display_data"
    },
    {
     "name": "stdout",
     "output_type": "stream",
     "text": [
      "Zero-ordered target layer ID (including ladel bottom layer): tensor([7.])\n"
     ]
    },
    {
     "data": {
      "image/png": "[encoded data removed]",
      "text/plain": [
       "<Figure size 1024x576 with 9 Axes>"
      ]
     },
     "metadata": {},
     "output_type": "display_data"
    },
    {
     "name": "stdout",
     "output_type": "stream",
     "text": [
      "tensor(0.1562)\n"
     ]
    }
   ],
   "source": [
    "# Ridge max/min\n",
    "x = get_layer_avgs(ladel_removed)\n",
    "plot_pred(x[0,:,None,None], targs[0])\n",
    "x = get_edge_det(x, [-1,2,-1])\n",
    "plot_pred(x[0,:,None,None], targs[0])\n",
    "x = get_max_div_mean(x)\n",
    "plot_pred(x[0,:,None,None], targs[0])\n",
    "score_data(x, targs)"
   ]
  },
  {
   "cell_type": "code",
   "execution_count": 63,
   "id": "7d144fd0",
   "metadata": {},
   "outputs": [
    {
     "name": "stdout",
     "output_type": "stream",
     "text": [
      "Zero-ordered target layer ID (including ladel bottom layer): tensor([7.])\n"
     ]
    },
    {
     "data": {
      "image/png": "[encoded data removed]",
      "text/plain": [
       "<Figure size 1024x576 with 9 Axes>"
      ]
     },
     "metadata": {},
     "output_type": "display_data"
    },
    {
     "name": "stdout",
     "output_type": "stream",
     "text": [
      "Zero-ordered target layer ID (including ladel bottom layer): tensor([7.])\n"
     ]
    },
    {
     "data": {
      "image/png": "[encoded data removed]",
      "text/plain": [
       "<Figure size 1024x576 with 9 Axes>"
      ]
     },
     "metadata": {},
     "output_type": "display_data"
    },
    {
     "name": "stdout",
     "output_type": "stream",
     "text": [
      "Zero-ordered target layer ID (including ladel bottom layer): tensor([7.])\n"
     ]
    },
    {
     "data": {
      "image/png": "[encoded data removed]",
      "text/plain": [
       "<Figure size 1024x576 with 9 Axes>"
      ]
     },
     "metadata": {},
     "output_type": "display_data"
    },
    {
     "name": "stdout",
     "output_type": "stream",
     "text": [
      "Zero-ordered target layer ID (including ladel bottom layer): tensor([7.])\n"
     ]
    },
    {
     "data": {
      "image/png": "[encoded data removed]",
      "text/plain": [
       "<Figure size 1024x576 with 9 Axes>"
      ]
     },
     "metadata": {},
     "output_type": "display_data"
    },
    {
     "name": "stdout",
     "output_type": "stream",
     "text": [
      "tensor(0.1035)\n"
     ]
    }
   ],
   "source": [
    "# 1d avg Ridge max-min\n",
    "x = get_layer_avgs(ladel_removed)\n",
    "plot_pred(x[0,:,None,None], targs[0])\n",
    "x = get_1d_avg(x)\n",
    "plot_pred(x[0,:,None,None], targs[0])\n",
    "x = get_edge_det(x, [-1,2,-1])\n",
    "plot_pred(x[0,:,None,None], targs[0])\n",
    "x = get_max_sub_mean(x)\n",
    "plot_pred(x[0,:,None,None], targs[0])\n",
    "score_data(x, targs, offset=0)"
   ]
  },
  {
   "cell_type": "code",
   "execution_count": 66,
   "id": "fdf502a4",
   "metadata": {},
   "outputs": [
    {
     "name": "stdout",
     "output_type": "stream",
     "text": [
      "Zero-ordered target layer ID (including ladel bottom layer): tensor([7.])\n"
     ]
    },
    {
     "data": {
      "image/png": "[encoded data removed]",
      "text/plain": [
       "<Figure size 1024x576 with 9 Axes>"
      ]
     },
     "metadata": {},
     "output_type": "display_data"
    },
    {
     "name": "stdout",
     "output_type": "stream",
     "text": [
      "Zero-ordered target layer ID (including ladel bottom layer): tensor([7.])\n"
     ]
    },
    {
     "data": {
      "image/png": "[encoded data removed]",
      "text/plain": [
       "<Figure size 1024x576 with 9 Axes>"
      ]
     },
     "metadata": {},
     "output_type": "display_data"
    },
    {
     "name": "stdout",
     "output_type": "stream",
     "text": [
      "Zero-ordered target layer ID (including ladel bottom layer): tensor([7.])\n"
     ]
    },
    {
     "data": {
      "image/png": "[encoded data removed]",
      "text/plain": [
       "<Figure size 1024x576 with 9 Axes>"
      ]
     },
     "metadata": {},
     "output_type": "display_data"
    },
    {
     "name": "stdout",
     "output_type": "stream",
     "text": [
      "Zero-ordered target layer ID (including ladel bottom layer): tensor([7.])\n"
     ]
    },
    {
     "data": {
      "image/png": "[encoded data removed]",
      "text/plain": [
       "<Figure size 1024x576 with 9 Axes>"
      ]
     },
     "metadata": {},
     "output_type": "display_data"
    },
    {
     "name": "stdout",
     "output_type": "stream",
     "text": [
      "tensor(0.1051)\n"
     ]
    }
   ],
   "source": [
    "# 3d avg Ridge max-min\n",
    "x = get_3d_avg(ladel_removed)\n",
    "plot_pred(x[0], targs[0])\n",
    "x = get_layer_avgs(x)\n",
    "plot_pred(x[0,:,None,None], targs[0])\n",
    "x = get_edge_det(x, [-1,2,-1])\n",
    "plot_pred(x[0,:,None,None], targs[0])\n",
    "x = get_max_sub_mean(x)\n",
    "plot_pred(x[0,:,None,None], targs[0])\n",
    "score_data(x, targs, offset=0)"
   ]
  },
  {
   "cell_type": "code",
   "execution_count": 68,
   "id": "55b1f650",
   "metadata": {},
   "outputs": [
    {
     "name": "stdout",
     "output_type": "stream",
     "text": [
      "Zero-ordered target layer ID (including ladel bottom layer): tensor([7.])\n"
     ]
    },
    {
     "data": {
      "image/png": "[encoded data removed]",
      "text/plain": [
       "<Figure size 1024x576 with 9 Axes>"
      ]
     },
     "metadata": {},
     "output_type": "display_data"
    },
    {
     "name": "stdout",
     "output_type": "stream",
     "text": [
      "Zero-ordered target layer ID (including ladel bottom layer): tensor([7.])\n"
     ]
    },
    {
     "data": {
      "image/png": "[encoded data removed]",
      "text/plain": [
       "<Figure size 1024x576 with 9 Axes>"
      ]
     },
     "metadata": {},
     "output_type": "display_data"
    },
    {
     "name": "stdout",
     "output_type": "stream",
     "text": [
      "Zero-ordered target layer ID (including ladel bottom layer): tensor([7.])\n"
     ]
    },
    {
     "data": {
      "image/png": "[encoded data removed]",
      "text/plain": [
       "<Figure size 1024x576 with 9 Axes>"
      ]
     },
     "metadata": {},
     "output_type": "display_data"
    },
    {
     "name": "stdout",
     "output_type": "stream",
     "text": [
      "Zero-ordered target layer ID (including ladel bottom layer): tensor([7.])\n"
     ]
    },
    {
     "data": {
      "image/png": "[encoded data removed]",
      "text/plain": [
       "<Figure size 1024x576 with 9 Axes>"
      ]
     },
     "metadata": {},
     "output_type": "display_data"
    },
    {
     "name": "stdout",
     "output_type": "stream",
     "text": [
      "Zero-ordered target layer ID (including ladel bottom layer): tensor([7.])\n"
     ]
    },
    {
     "data": {
      "image/png": "[encoded data removed]",
      "text/plain": [
       "<Figure size 1024x576 with 9 Axes>"
      ]
     },
     "metadata": {},
     "output_type": "display_data"
    },
    {
     "name": "stdout",
     "output_type": "stream",
     "text": [
      "tensor(0.1013)\n"
     ]
    }
   ],
   "source": [
    "# 3d avg 1d avg Ridge max-min\n",
    "x = get_3d_gauss(ladel_removed)\n",
    "plot_pred(x[0], targs[0])\n",
    "x = get_layer_avgs(x)\n",
    "plot_pred(x[0,:,None,None], targs[0])\n",
    "x = get_1d_avg(x)\n",
    "plot_pred(x[0,:,None,None], targs[0])\n",
    "x = get_edge_det(x, [-1,2,-1])\n",
    "plot_pred(x[0,:,None,None], targs[0])\n",
    "x = get_max_sub_mean(x)\n",
    "plot_pred(x[0,:,None,None], targs[0])\n",
    "score_data(x, targs, offset=0)"
   ]
  },
  {
   "cell_type": "code",
   "execution_count": 70,
   "id": "55d0745c",
   "metadata": {},
   "outputs": [
    {
     "name": "stdout",
     "output_type": "stream",
     "text": [
      "Zero-ordered target layer ID (including ladel bottom layer): tensor([7.])\n"
     ]
    },
    {
     "data": {
      "image/png": "[encoded data removed]",
      "text/plain": [
       "<Figure size 1024x576 with 9 Axes>"
      ]
     },
     "metadata": {},
     "output_type": "display_data"
    },
    {
     "name": "stdout",
     "output_type": "stream",
     "text": [
      "Zero-ordered target layer ID (including ladel bottom layer): tensor([7.])\n"
     ]
    },
    {
     "data": {
      "image/png": "[encoded data removed]",
      "text/plain": [
       "<Figure size 1024x576 with 9 Axes>"
      ]
     },
     "metadata": {},
     "output_type": "display_data"
    },
    {
     "name": "stdout",
     "output_type": "stream",
     "text": [
      "Zero-ordered target layer ID (including ladel bottom layer): tensor([7.])\n"
     ]
    },
    {
     "data": {
      "image/png": "[encoded data removed]",
      "text/plain": [
       "<Figure size 1024x576 with 9 Axes>"
      ]
     },
     "metadata": {},
     "output_type": "display_data"
    },
    {
     "name": "stdout",
     "output_type": "stream",
     "text": [
      "Zero-ordered target layer ID (including ladel bottom layer): tensor([7.])\n"
     ]
    },
    {
     "data": {
      "image/png": "[encoded data removed]",
      "text/plain": [
       "<Figure size 1024x576 with 9 Axes>"
      ]
     },
     "metadata": {},
     "output_type": "display_data"
    },
    {
     "name": "stdout",
     "output_type": "stream",
     "text": [
      "Zero-ordered target layer ID (including ladel bottom layer): tensor([7.])\n"
     ]
    },
    {
     "data": {
      "image/png": "[encoded data removed]",
      "text/plain": [
       "<Figure size 1024x576 with 9 Axes>"
      ]
     },
     "metadata": {},
     "output_type": "display_data"
    },
    {
     "name": "stdout",
     "output_type": "stream",
     "text": [
      "tensor(0.1365)\n"
     ]
    }
   ],
   "source": [
    "# 3d avg 1d avg Ridge max/min\n",
    "x = get_3d_gauss(ladel_removed)\n",
    "plot_pred(x[0], targs[0])\n",
    "x = get_layer_avgs(x)\n",
    "plot_pred(x[0,:,None,None], targs[0])\n",
    "x = get_1d_avg(x)\n",
    "plot_pred(x[0,:,None,None], targs[0])\n",
    "x = get_edge_det(x, [-1,2,-1])\n",
    "plot_pred(x[0,:,None,None], targs[0])\n",
    "x = get_max_div_mean(x)\n",
    "plot_pred(x[0,:,None,None], targs[0])\n",
    "score_data(x, targs, offset=0)"
   ]
  },
  {
   "cell_type": "code",
   "execution_count": 80,
   "id": "43633f02",
   "metadata": {},
   "outputs": [
    {
     "name": "stdout",
     "output_type": "stream",
     "text": [
      "Zero-ordered target layer ID (including ladel bottom layer): tensor([7.])\n"
     ]
    },
    {
     "data": {
      "image/png": "[encoded data removed]",
      "text/plain": [
       "<Figure size 1024x576 with 9 Axes>"
      ]
     },
     "metadata": {},
     "output_type": "display_data"
    },
    {
     "name": "stdout",
     "output_type": "stream",
     "text": [
      "Zero-ordered target layer ID (including ladel bottom layer): tensor([7.])\n"
     ]
    },
    {
     "data": {
      "image/png": "[encoded data removed]",
      "text/plain": [
       "<Figure size 1024x576 with 9 Axes>"
      ]
     },
     "metadata": {},
     "output_type": "display_data"
    },
    {
     "name": "stdout",
     "output_type": "stream",
     "text": [
      "Zero-ordered target layer ID (including ladel bottom layer): tensor([7.])\n"
     ]
    },
    {
     "data": {
      "image/png": "[encoded data removed]",
      "text/plain": [
       "<Figure size 1024x576 with 9 Axes>"
      ]
     },
     "metadata": {},
     "output_type": "display_data"
    },
    {
     "name": "stdout",
     "output_type": "stream",
     "text": [
      "tensor(0.0914)\n"
     ]
    }
   ],
   "source": [
    "# max-min Ridge\n",
    "x = get_layer_avgs(ladel_removed)\n",
    "plot_pred(x[0,:,None,None], targs[0])\n",
    "x = get_max_sub_mean(x)\n",
    "plot_pred(x[0,:,None,None], targs[0])\n",
    "x = get_edge_det(x, [-1,32,-1])\n",
    "plot_pred(x[0,:,None,None], targs[0])\n",
    "score_data(x, targs, offset=0)"
   ]
  },
  {
   "cell_type": "code",
   "execution_count": 85,
   "id": "2f1db267",
   "metadata": {},
   "outputs": [
    {
     "name": "stdout",
     "output_type": "stream",
     "text": [
      "Zero-ordered target layer ID (including ladel bottom layer): tensor([7.])\n"
     ]
    },
    {
     "data": {
      "image/png": "[encoded data removed]",
      "text/plain": [
       "<Figure size 1024x576 with 9 Axes>"
      ]
     },
     "metadata": {},
     "output_type": "display_data"
    },
    {
     "name": "stdout",
     "output_type": "stream",
     "text": [
      "Zero-ordered target layer ID (including ladel bottom layer): tensor([7.])\n"
     ]
    },
    {
     "data": {
      "image/png": "[encoded data removed]",
      "text/plain": [
       "<Figure size 1024x576 with 9 Axes>"
      ]
     },
     "metadata": {},
     "output_type": "display_data"
    },
    {
     "name": "stdout",
     "output_type": "stream",
     "text": [
      "Zero-ordered target layer ID (including ladel bottom layer): tensor([7.])\n"
     ]
    },
    {
     "data": {
      "image/png": "[encoded data removed]",
      "text/plain": [
       "<Figure size 1024x576 with 9 Axes>"
      ]
     },
     "metadata": {},
     "output_type": "display_data"
    },
    {
     "name": "stdout",
     "output_type": "stream",
     "text": [
      "tensor(0.0971)\n"
     ]
    }
   ],
   "source": [
    "# max/min Ridge\n",
    "x = get_layer_avgs(ladel_removed)\n",
    "plot_pred(x[0,:,None,None], targs[0])\n",
    "x = get_max_div_mean(x)\n",
    "plot_pred(x[0,:,None,None], targs[0])\n",
    "x = get_edge_det(x, [-1,32,-1])\n",
    "plot_pred(x[0,:,None,None], targs[0])\n",
    "score_data(x, targs)"
   ]
  },
  {
   "cell_type": "code",
   "execution_count": 88,
   "id": "9f2f8755",
   "metadata": {},
   "outputs": [
    {
     "name": "stdout",
     "output_type": "stream",
     "text": [
      "Zero-ordered target layer ID (including ladel bottom layer): tensor([7.])\n"
     ]
    },
    {
     "data": {
      "image/png": "[encoded data removed]",
      "text/plain": [
       "<Figure size 1024x576 with 9 Axes>"
      ]
     },
     "metadata": {},
     "output_type": "display_data"
    },
    {
     "name": "stdout",
     "output_type": "stream",
     "text": [
      "Zero-ordered target layer ID (including ladel bottom layer): tensor([7.])\n"
     ]
    },
    {
     "data": {
      "image/png": "[encoded data removed]",
      "text/plain": [
       "<Figure size 1024x576 with 9 Axes>"
      ]
     },
     "metadata": {},
     "output_type": "display_data"
    },
    {
     "name": "stdout",
     "output_type": "stream",
     "text": [
      "Zero-ordered target layer ID (including ladel bottom layer): tensor([7.])\n"
     ]
    },
    {
     "data": {
      "image/png": "[encoded data removed]",
      "text/plain": [
       "<Figure size 1024x576 with 9 Axes>"
      ]
     },
     "metadata": {},
     "output_type": "display_data"
    },
    {
     "name": "stdout",
     "output_type": "stream",
     "text": [
      "Zero-ordered target layer ID (including ladel bottom layer): tensor([7.])\n"
     ]
    },
    {
     "data": {
      "image/png": "[encoded data removed]",
      "text/plain": [
       "<Figure size 1024x576 with 9 Axes>"
      ]
     },
     "metadata": {},
     "output_type": "display_data"
    },
    {
     "name": "stdout",
     "output_type": "stream",
     "text": [
      "Zero-ordered target layer ID (including ladel bottom layer): tensor([7.])\n"
     ]
    },
    {
     "data": {
      "image/png": "[encoded data removed]",
      "text/plain": [
       "<Figure size 1024x576 with 9 Axes>"
      ]
     },
     "metadata": {},
     "output_type": "display_data"
    },
    {
     "name": "stdout",
     "output_type": "stream",
     "text": [
      "tensor(0.0889)\n"
     ]
    }
   ],
   "source": [
    "# 3d avg 1d avg max-min Ridge \n",
    "x = get_3d_gauss(ladel_removed)\n",
    "plot_pred(x[0], targs[0])\n",
    "x = get_layer_avgs(x)\n",
    "plot_pred(x[0,:,None,None], targs[0])\n",
    "x = get_1d_avg(x)\n",
    "plot_pred(x[0,:,None,None], targs[0])\n",
    "x = get_max_sub_mean(x)\n",
    "plot_pred(x[0,:,None,None], targs[0])\n",
    "x = get_edge_det(x, [-1,8,-1])\n",
    "plot_pred(x[0,:,None,None], targs[0])\n",
    "score_data(x, targs, offset=0)"
   ]
  },
  {
   "cell_type": "code",
   "execution_count": 94,
   "id": "fbf0914b",
   "metadata": {},
   "outputs": [
    {
     "name": "stdout",
     "output_type": "stream",
     "text": [
      "Zero-ordered target layer ID (including ladel bottom layer): tensor([7.])\n"
     ]
    },
    {
     "data": {
      "image/png": "[encoded data removed]",
      "text/plain": [
       "<Figure size 1024x576 with 9 Axes>"
      ]
     },
     "metadata": {},
     "output_type": "display_data"
    },
    {
     "name": "stdout",
     "output_type": "stream",
     "text": [
      "Zero-ordered target layer ID (including ladel bottom layer): tensor([7.])\n"
     ]
    },
    {
     "data": {
      "image/png": "[encoded data removed]",
      "text/plain": [
       "<Figure size 1024x576 with 9 Axes>"
      ]
     },
     "metadata": {},
     "output_type": "display_data"
    },
    {
     "name": "stdout",
     "output_type": "stream",
     "text": [
      "Zero-ordered target layer ID (including ladel bottom layer): tensor([7.])\n"
     ]
    },
    {
     "data": {
      "image/png": "[encoded data removed]",
      "text/plain": [
       "<Figure size 1024x576 with 9 Axes>"
      ]
     },
     "metadata": {},
     "output_type": "display_data"
    },
    {
     "name": "stdout",
     "output_type": "stream",
     "text": [
      "Zero-ordered target layer ID (including ladel bottom layer): tensor([7.])\n"
     ]
    },
    {
     "data": {
      "image/png": "[encoded data removed]",
      "text/plain": [
       "<Figure size 1024x576 with 9 Axes>"
      ]
     },
     "metadata": {},
     "output_type": "display_data"
    },
    {
     "name": "stdout",
     "output_type": "stream",
     "text": [
      "Zero-ordered target layer ID (including ladel bottom layer): tensor([7.])\n"
     ]
    },
    {
     "data": {
      "image/png": "[encoded data removed]",
      "text/plain": [
       "<Figure size 1024x576 with 9 Axes>"
      ]
     },
     "metadata": {},
     "output_type": "display_data"
    },
    {
     "name": "stdout",
     "output_type": "stream",
     "text": [
      "tensor(0.0878)\n"
     ]
    }
   ],
   "source": [
    "# 3d avg 1d avg max/min Ridge \n",
    "x = get_3d_gauss(ladel_removed)\n",
    "plot_pred(x[0], targs[0])\n",
    "x = get_layer_avgs(x)\n",
    "plot_pred(x[0,:,None,None], targs[0])\n",
    "x = get_1d_avg(x)\n",
    "plot_pred(x[0,:,None,None], targs[0])\n",
    "x = get_max_div_mean(x)\n",
    "plot_pred(x[0,:,None,None], targs[0])\n",
    "x = get_edge_det(x, [-1,32,-1])\n",
    "plot_pred(x[0,:,None,None], targs[0])\n",
    "score_data(x, targs)"
   ]
  },
  {
   "cell_type": "code",
   "execution_count": null,
   "id": "888b59ea",
   "metadata": {},
   "outputs": [],
   "source": [
    "-1,0,1\n",
    "-2,0,2\n",
    "1,-4,1 (zero-cross)"
   ]
  },
  {
   "cell_type": "markdown",
   "id": "888077fa",
   "metadata": {},
   "source": [
    "## Directed edge"
   ]
  },
  {
   "cell_type": "code",
   "execution_count": 97,
   "id": "4638c3fb",
   "metadata": {},
   "outputs": [
    {
     "name": "stdout",
     "output_type": "stream",
     "text": [
      "Zero-ordered target layer ID (including ladel bottom layer): tensor([7.])\n"
     ]
    },
    {
     "data": {
      "image/png": "[encoded data removed]",
      "text/plain": [
       "<Figure size 1024x576 with 9 Axes>"
      ]
     },
     "metadata": {},
     "output_type": "display_data"
    },
    {
     "name": "stdout",
     "output_type": "stream",
     "text": [
      "Zero-ordered target layer ID (including ladel bottom layer): tensor([7.])\n"
     ]
    },
    {
     "data": {
      "image/png": "[encoded data removed]",
      "text/plain": [
       "<Figure size 1024x576 with 9 Axes>"
      ]
     },
     "metadata": {},
     "output_type": "display_data"
    },
    {
     "name": "stdout",
     "output_type": "stream",
     "text": [
      "tensor(0.0924)\n"
     ]
    }
   ],
   "source": [
    "# Edge\n",
    "x = get_layer_avgs(ladel_removed)\n",
    "plot_pred(x[0,:,None,None], targs[0])\n",
    "x = get_edge_det(x, [-1,0,1])\n",
    "plot_pred(x[0,:,None,None], targs[0])\n",
    "score_data(x, targs, offset=0)"
   ]
  },
  {
   "cell_type": "code",
   "execution_count": 102,
   "id": "cd340127",
   "metadata": {},
   "outputs": [
    {
     "name": "stdout",
     "output_type": "stream",
     "text": [
      "Zero-ordered target layer ID (including ladel bottom layer): tensor([7.])\n"
     ]
    },
    {
     "data": {
      "image/png": "[encoded data removed]",
      "text/plain": [
       "<Figure size 1024x576 with 9 Axes>"
      ]
     },
     "metadata": {},
     "output_type": "display_data"
    },
    {
     "name": "stdout",
     "output_type": "stream",
     "text": [
      "Zero-ordered target layer ID (including ladel bottom layer): tensor([7.])\n"
     ]
    },
    {
     "data": {
      "image/png": "[encoded data removed]",
      "text/plain": [
       "<Figure size 1024x576 with 9 Axes>"
      ]
     },
     "metadata": {},
     "output_type": "display_data"
    },
    {
     "name": "stdout",
     "output_type": "stream",
     "text": [
      "Zero-ordered target layer ID (including ladel bottom layer): tensor([7.])\n"
     ]
    },
    {
     "data": {
      "image/png": "[encoded data removed]",
      "text/plain": [
       "<Figure size 1024x576 with 9 Axes>"
      ]
     },
     "metadata": {},
     "output_type": "display_data"
    },
    {
     "name": "stdout",
     "output_type": "stream",
     "text": [
      "tensor(0.0896)\n"
     ]
    }
   ],
   "source": [
    "# 1d avg Edge\n",
    "x = get_layer_avgs(ladel_removed)\n",
    "plot_pred(x[0,:,None,None], targs[0])\n",
    "x = get_1d_avg(x)\n",
    "plot_pred(x[0,:,None,None], targs[0])\n",
    "x = get_edge_det(x, [-1,0,1])\n",
    "plot_pred(x[0,:,None,None], targs[0])\n",
    "score_data(x, targs, offset=0)"
   ]
  },
  {
   "cell_type": "code",
   "execution_count": 105,
   "id": "c909a4e6",
   "metadata": {},
   "outputs": [
    {
     "name": "stdout",
     "output_type": "stream",
     "text": [
      "Zero-ordered target layer ID (including ladel bottom layer): tensor([7.])\n"
     ]
    },
    {
     "data": {
      "image/png": "[encoded data removed]",
      "text/plain": [
       "<Figure size 1024x576 with 9 Axes>"
      ]
     },
     "metadata": {},
     "output_type": "display_data"
    },
    {
     "name": "stdout",
     "output_type": "stream",
     "text": [
      "Zero-ordered target layer ID (including ladel bottom layer): tensor([7.])\n"
     ]
    },
    {
     "data": {
      "image/png": "[encoded data removed]",
      "text/plain": [
       "<Figure size 1024x576 with 9 Axes>"
      ]
     },
     "metadata": {},
     "output_type": "display_data"
    },
    {
     "name": "stdout",
     "output_type": "stream",
     "text": [
      "Zero-ordered target layer ID (including ladel bottom layer): tensor([7.])\n"
     ]
    },
    {
     "data": {
      "image/png": "[encoded data removed]",
      "text/plain": [
       "<Figure size 1024x576 with 9 Axes>"
      ]
     },
     "metadata": {},
     "output_type": "display_data"
    },
    {
     "name": "stdout",
     "output_type": "stream",
     "text": [
      "tensor(0.0896)\n"
     ]
    }
   ],
   "source": [
    "# 3d avg Edge\n",
    "x = get_3d_avg(ladel_removed)\n",
    "plot_pred(x[0], targs[0])\n",
    "x = get_layer_avgs(x)\n",
    "plot_pred(x[0,:,None,None], targs[0])\n",
    "x = get_edge_det(x, [-1,0,1])\n",
    "plot_pred(x[0,:,None,None], targs[0])\n",
    "score_data(x, targs, offset=0)"
   ]
  },
  {
   "cell_type": "code",
   "execution_count": 106,
   "id": "ea63bfa3",
   "metadata": {},
   "outputs": [
    {
     "name": "stdout",
     "output_type": "stream",
     "text": [
      "Zero-ordered target layer ID (including ladel bottom layer): tensor([7.])\n"
     ]
    },
    {
     "data": {
      "image/png": "[encoded data removed]",
      "text/plain": [
       "<Figure size 1024x576 with 9 Axes>"
      ]
     },
     "metadata": {},
     "output_type": "display_data"
    },
    {
     "name": "stdout",
     "output_type": "stream",
     "text": [
      "Zero-ordered target layer ID (including ladel bottom layer): tensor([7.])\n"
     ]
    },
    {
     "data": {
      "image/png": "[encoded data removed]",
      "text/plain": [
       "<Figure size 1024x576 with 9 Axes>"
      ]
     },
     "metadata": {},
     "output_type": "display_data"
    },
    {
     "name": "stdout",
     "output_type": "stream",
     "text": [
      "Zero-ordered target layer ID (including ladel bottom layer): tensor([7.])\n"
     ]
    },
    {
     "data": {
      "image/png": "[encoded data removed]",
      "text/plain": [
       "<Figure size 1024x576 with 9 Axes>"
      ]
     },
     "metadata": {},
     "output_type": "display_data"
    },
    {
     "name": "stdout",
     "output_type": "stream",
     "text": [
      "Zero-ordered target layer ID (including ladel bottom layer): tensor([7.])\n"
     ]
    },
    {
     "data": {
      "image/png": "[encoded data removed]",
      "text/plain": [
       "<Figure size 1024x576 with 9 Axes>"
      ]
     },
     "metadata": {},
     "output_type": "display_data"
    },
    {
     "name": "stdout",
     "output_type": "stream",
     "text": [
      "tensor(0.0890)\n"
     ]
    }
   ],
   "source": [
    "# 3d avg 1d avg Edge\n",
    "x = get_3d_gauss(ladel_removed)\n",
    "plot_pred(x[0], targs[0])\n",
    "x = get_layer_avgs(x)\n",
    "plot_pred(x[0,:,None,None], targs[0])\n",
    "x = get_1d_avg(x)\n",
    "plot_pred(x[0,:,None,None], targs[0])\n",
    "x = get_edge_det(x, [-1,0,1])\n",
    "plot_pred(x[0,:,None,None], targs[0])\n",
    "score_data(x, targs, offset=0)"
   ]
  },
  {
   "cell_type": "code",
   "execution_count": 111,
   "id": "c2b41852",
   "metadata": {},
   "outputs": [
    {
     "name": "stdout",
     "output_type": "stream",
     "text": [
      "Zero-ordered target layer ID (including ladel bottom layer): tensor([7.])\n"
     ]
    },
    {
     "data": {
      "image/png": "[encoded data removed]",
      "text/plain": [
       "<Figure size 1024x576 with 9 Axes>"
      ]
     },
     "metadata": {},
     "output_type": "display_data"
    },
    {
     "name": "stdout",
     "output_type": "stream",
     "text": [
      "Zero-ordered target layer ID (including ladel bottom layer): tensor([7.])\n"
     ]
    },
    {
     "data": {
      "image/png": "[encoded data removed]",
      "text/plain": [
       "<Figure size 1024x576 with 9 Axes>"
      ]
     },
     "metadata": {},
     "output_type": "display_data"
    },
    {
     "name": "stdout",
     "output_type": "stream",
     "text": [
      "Zero-ordered target layer ID (including ladel bottom layer): tensor([7.])\n"
     ]
    },
    {
     "data": {
      "image/png": "[encoded data removed]",
      "text/plain": [
       "<Figure size 1024x576 with 9 Axes>"
      ]
     },
     "metadata": {},
     "output_type": "display_data"
    },
    {
     "name": "stdout",
     "output_type": "stream",
     "text": [
      "tensor(0.0994)\n"
     ]
    }
   ],
   "source": [
    "# Ridge max-min\n",
    "x = get_layer_avgs(ladel_removed)\n",
    "plot_pred(x[0,:,None,None], targs[0])\n",
    "x = get_edge_det(x, [-1,0,1])\n",
    "plot_pred(x[0,:,None,None], targs[0])\n",
    "x = get_max_sub_mean(x)\n",
    "plot_pred(x[0,:,None,None], targs[0])\n",
    "score_data(x, targs, offset=1)"
   ]
  },
  {
   "cell_type": "code",
   "execution_count": 113,
   "id": "adb40f1e",
   "metadata": {},
   "outputs": [
    {
     "name": "stdout",
     "output_type": "stream",
     "text": [
      "Zero-ordered target layer ID (including ladel bottom layer): tensor([7.])\n"
     ]
    },
    {
     "data": {
      "image/png": "[encoded data removed]",
      "text/plain": [
       "<Figure size 1024x576 with 9 Axes>"
      ]
     },
     "metadata": {},
     "output_type": "display_data"
    },
    {
     "name": "stdout",
     "output_type": "stream",
     "text": [
      "Zero-ordered target layer ID (including ladel bottom layer): tensor([7.])\n"
     ]
    },
    {
     "data": {
      "image/png": "[encoded data removed]",
      "text/plain": [
       "<Figure size 1024x576 with 9 Axes>"
      ]
     },
     "metadata": {},
     "output_type": "display_data"
    },
    {
     "name": "stdout",
     "output_type": "stream",
     "text": [
      "Zero-ordered target layer ID (including ladel bottom layer): tensor([7.])\n"
     ]
    },
    {
     "data": {
      "image/png": "[encoded data removed]",
      "text/plain": [
       "<Figure size 1024x576 with 9 Axes>"
      ]
     },
     "metadata": {},
     "output_type": "display_data"
    },
    {
     "name": "stdout",
     "output_type": "stream",
     "text": [
      "tensor(0.1067)\n"
     ]
    }
   ],
   "source": [
    "# Ridge max/min\n",
    "x = get_layer_avgs(ladel_removed)\n",
    "plot_pred(x[0,:,None,None], targs[0])\n",
    "x = get_edge_det(x, [-1,0,1])\n",
    "plot_pred(x[0,:,None,None], targs[0])\n",
    "x = get_max_div_mean(x)\n",
    "plot_pred(x[0,:,None,None], targs[0])\n",
    "score_data(x, targs)"
   ]
  },
  {
   "cell_type": "code",
   "execution_count": 120,
   "id": "e973ceb3",
   "metadata": {},
   "outputs": [
    {
     "name": "stdout",
     "output_type": "stream",
     "text": [
      "Zero-ordered target layer ID (including ladel bottom layer): tensor([7.])\n"
     ]
    },
    {
     "data": {
      "image/png": "[encoded data removed]",
      "text/plain": [
       "<Figure size 1024x576 with 9 Axes>"
      ]
     },
     "metadata": {},
     "output_type": "display_data"
    },
    {
     "name": "stdout",
     "output_type": "stream",
     "text": [
      "Zero-ordered target layer ID (including ladel bottom layer): tensor([7.])\n"
     ]
    },
    {
     "data": {
      "image/png": "[encoded data removed]",
      "text/plain": [
       "<Figure size 1024x576 with 9 Axes>"
      ]
     },
     "metadata": {},
     "output_type": "display_data"
    },
    {
     "name": "stdout",
     "output_type": "stream",
     "text": [
      "Zero-ordered target layer ID (including ladel bottom layer): tensor([7.])\n"
     ]
    },
    {
     "data": {
      "image/png": "[encoded data removed]",
      "text/plain": [
       "<Figure size 1024x576 with 9 Axes>"
      ]
     },
     "metadata": {},
     "output_type": "display_data"
    },
    {
     "name": "stdout",
     "output_type": "stream",
     "text": [
      "Zero-ordered target layer ID (including ladel bottom layer): tensor([7.])\n"
     ]
    },
    {
     "data": {
      "image/png": "[encoded data removed]",
      "text/plain": [
       "<Figure size 1024x576 with 9 Axes>"
      ]
     },
     "metadata": {},
     "output_type": "display_data"
    },
    {
     "name": "stdout",
     "output_type": "stream",
     "text": [
      "tensor(0.1161)\n"
     ]
    }
   ],
   "source": [
    "# 1d avg Ridge max-min\n",
    "x = get_layer_avgs(ladel_removed)\n",
    "plot_pred(x[0,:,None,None], targs[0])\n",
    "x = get_1d_avg(x)\n",
    "plot_pred(x[0,:,None,None], targs[0])\n",
    "x = get_edge_det(x, [-1,0,1])\n",
    "plot_pred(x[0,:,None,None], targs[0])\n",
    "x = get_max_sub_mean(x)\n",
    "plot_pred(x[0,:,None,None], targs[0])\n",
    "score_data(x, targs, offset=1)"
   ]
  },
  {
   "cell_type": "code",
   "execution_count": 124,
   "id": "93228f91",
   "metadata": {},
   "outputs": [
    {
     "name": "stdout",
     "output_type": "stream",
     "text": [
      "Zero-ordered target layer ID (including ladel bottom layer): tensor([7.])\n"
     ]
    },
    {
     "data": {
      "image/png": "[encoded data removed]",
      "text/plain": [
       "<Figure size 1024x576 with 9 Axes>"
      ]
     },
     "metadata": {},
     "output_type": "display_data"
    },
    {
     "name": "stdout",
     "output_type": "stream",
     "text": [
      "Zero-ordered target layer ID (including ladel bottom layer): tensor([7.])\n"
     ]
    },
    {
     "data": {
      "image/png": "[encoded data removed]",
      "text/plain": [
       "<Figure size 1024x576 with 9 Axes>"
      ]
     },
     "metadata": {},
     "output_type": "display_data"
    },
    {
     "name": "stdout",
     "output_type": "stream",
     "text": [
      "Zero-ordered target layer ID (including ladel bottom layer): tensor([7.])\n"
     ]
    },
    {
     "data": {
      "image/png": "[encoded data removed]",
      "text/plain": [
       "<Figure size 1024x576 with 9 Axes>"
      ]
     },
     "metadata": {},
     "output_type": "display_data"
    },
    {
     "name": "stdout",
     "output_type": "stream",
     "text": [
      "Zero-ordered target layer ID (including ladel bottom layer): tensor([7.])\n"
     ]
    },
    {
     "data": {
      "image/png": "[encoded data removed]",
      "text/plain": [
       "<Figure size 1024x576 with 9 Axes>"
      ]
     },
     "metadata": {},
     "output_type": "display_data"
    },
    {
     "name": "stdout",
     "output_type": "stream",
     "text": [
      "tensor(0.1150)\n"
     ]
    }
   ],
   "source": [
    "# 3d avg Ridge max-min\n",
    "x = get_3d_avg(ladel_removed)\n",
    "plot_pred(x[0], targs[0])\n",
    "x = get_layer_avgs(x)\n",
    "plot_pred(x[0,:,None,None], targs[0])\n",
    "x = get_edge_det(x, [-1,0,1])\n",
    "plot_pred(x[0,:,None,None], targs[0])\n",
    "x = get_max_sub_mean(x)\n",
    "plot_pred(x[0,:,None,None], targs[0])\n",
    "score_data(x, targs, offset=0)"
   ]
  },
  {
   "cell_type": "code",
   "execution_count": 126,
   "id": "eec984f1",
   "metadata": {},
   "outputs": [
    {
     "name": "stdout",
     "output_type": "stream",
     "text": [
      "Zero-ordered target layer ID (including ladel bottom layer): tensor([7.])\n"
     ]
    },
    {
     "data": {
      "image/png": "[encoded data removed]",
      "text/plain": [
       "<Figure size 1024x576 with 9 Axes>"
      ]
     },
     "metadata": {},
     "output_type": "display_data"
    },
    {
     "name": "stdout",
     "output_type": "stream",
     "text": [
      "Zero-ordered target layer ID (including ladel bottom layer): tensor([7.])\n"
     ]
    },
    {
     "data": {
      "image/png": "[encoded data removed]",
      "text/plain": [
       "<Figure size 1024x576 with 9 Axes>"
      ]
     },
     "metadata": {},
     "output_type": "display_data"
    },
    {
     "name": "stdout",
     "output_type": "stream",
     "text": [
      "Zero-ordered target layer ID (including ladel bottom layer): tensor([7.])\n"
     ]
    },
    {
     "data": {
      "image/png": "[encoded data removed]",
      "text/plain": [
       "<Figure size 1024x576 with 9 Axes>"
      ]
     },
     "metadata": {},
     "output_type": "display_data"
    },
    {
     "name": "stdout",
     "output_type": "stream",
     "text": [
      "Zero-ordered target layer ID (including ladel bottom layer): tensor([7.])\n"
     ]
    },
    {
     "data": {
      "image/png": "[encoded data removed]",
      "text/plain": [
       "<Figure size 1024x576 with 9 Axes>"
      ]
     },
     "metadata": {},
     "output_type": "display_data"
    },
    {
     "name": "stdout",
     "output_type": "stream",
     "text": [
      "Zero-ordered target layer ID (including ladel bottom layer): tensor([7.])\n"
     ]
    },
    {
     "data": {
      "image/png": "[encoded data removed]",
      "text/plain": [
       "<Figure size 1024x576 with 9 Axes>"
      ]
     },
     "metadata": {},
     "output_type": "display_data"
    },
    {
     "name": "stdout",
     "output_type": "stream",
     "text": [
      "tensor(0.1138)\n"
     ]
    }
   ],
   "source": [
    "# 3d avg 1d avg Ridge max-min\n",
    "x = get_3d_gauss(ladel_removed)\n",
    "plot_pred(x[0], targs[0])\n",
    "x = get_layer_avgs(x)\n",
    "plot_pred(x[0,:,None,None], targs[0])\n",
    "x = get_1d_avg(x)\n",
    "plot_pred(x[0,:,None,None], targs[0])\n",
    "x = get_edge_det(x, [-1,0,1])\n",
    "plot_pred(x[0,:,None,None], targs[0])\n",
    "x = get_max_sub_mean(x)\n",
    "plot_pred(x[0,:,None,None], targs[0])\n",
    "score_data(x, targs, offset=0)"
   ]
  },
  {
   "cell_type": "code",
   "execution_count": 137,
   "id": "b28702fe",
   "metadata": {},
   "outputs": [
    {
     "name": "stdout",
     "output_type": "stream",
     "text": [
      "Zero-ordered target layer ID (including ladel bottom layer): tensor([7.])\n"
     ]
    },
    {
     "data": {
      "image/png": "[encoded data removed]",
      "text/plain": [
       "<Figure size 1024x576 with 9 Axes>"
      ]
     },
     "metadata": {},
     "output_type": "display_data"
    },
    {
     "name": "stdout",
     "output_type": "stream",
     "text": [
      "Zero-ordered target layer ID (including ladel bottom layer): tensor([7.])\n"
     ]
    },
    {
     "data": {
      "image/png": "[encoded data removed]",
      "text/plain": [
       "<Figure size 1024x576 with 9 Axes>"
      ]
     },
     "metadata": {},
     "output_type": "display_data"
    },
    {
     "name": "stdout",
     "output_type": "stream",
     "text": [
      "Zero-ordered target layer ID (including ladel bottom layer): tensor([7.])\n"
     ]
    },
    {
     "data": {
      "image/png": "[encoded data removed]",
      "text/plain": [
       "<Figure size 1024x576 with 9 Axes>"
      ]
     },
     "metadata": {},
     "output_type": "display_data"
    },
    {
     "name": "stdout",
     "output_type": "stream",
     "text": [
      "tensor(0.0975)\n"
     ]
    }
   ],
   "source": [
    "# max-min Ridge\n",
    "x = get_layer_avgs(ladel_removed)\n",
    "plot_pred(x[0,:,None,None], targs[0])\n",
    "x = get_max_sub_mean(x)\n",
    "plot_pred(x[0,:,None,None], targs[0])\n",
    "x = get_edge_det(x, [-1,0,1])\n",
    "plot_pred(x[0,:,None,None], targs[0])\n",
    "score_data(x, targs, offset=2)"
   ]
  },
  {
   "cell_type": "code",
   "execution_count": 142,
   "id": "b2f93428",
   "metadata": {},
   "outputs": [
    {
     "name": "stdout",
     "output_type": "stream",
     "text": [
      "Zero-ordered target layer ID (including ladel bottom layer): tensor([7.])\n"
     ]
    },
    {
     "data": {
      "image/png": "[encoded data removed]",
      "text/plain": [
       "<Figure size 1024x576 with 9 Axes>"
      ]
     },
     "metadata": {},
     "output_type": "display_data"
    },
    {
     "name": "stdout",
     "output_type": "stream",
     "text": [
      "Zero-ordered target layer ID (including ladel bottom layer): tensor([7.])\n"
     ]
    },
    {
     "data": {
      "image/png": "[encoded data removed]",
      "text/plain": [
       "<Figure size 1024x576 with 9 Axes>"
      ]
     },
     "metadata": {},
     "output_type": "display_data"
    },
    {
     "name": "stdout",
     "output_type": "stream",
     "text": [
      "Zero-ordered target layer ID (including ladel bottom layer): tensor([7.])\n"
     ]
    },
    {
     "data": {
      "image/png": "[encoded data removed]",
      "text/plain": [
       "<Figure size 1024x576 with 9 Axes>"
      ]
     },
     "metadata": {},
     "output_type": "display_data"
    },
    {
     "name": "stdout",
     "output_type": "stream",
     "text": [
      "tensor(0.0975)\n"
     ]
    }
   ],
   "source": [
    "# max/min Ridge\n",
    "x = get_layer_avgs(ladel_removed)\n",
    "plot_pred(x[0,:,None,None], targs[0])\n",
    "x = get_max_div_mean(x)\n",
    "plot_pred(x[0,:,None,None], targs[0])\n",
    "x = get_edge_det(x, [-1,0,1])\n",
    "plot_pred(x[0,:,None,None], targs[0])\n",
    "score_data(x, targs, offset=2)"
   ]
  },
  {
   "cell_type": "code",
   "execution_count": 147,
   "id": "6fdf297d",
   "metadata": {},
   "outputs": [
    {
     "name": "stdout",
     "output_type": "stream",
     "text": [
      "Zero-ordered target layer ID (including ladel bottom layer): tensor([7.])\n"
     ]
    },
    {
     "data": {
      "image/png": "[encoded data removed]",
      "text/plain": [
       "<Figure size 1024x576 with 9 Axes>"
      ]
     },
     "metadata": {},
     "output_type": "display_data"
    },
    {
     "name": "stdout",
     "output_type": "stream",
     "text": [
      "Zero-ordered target layer ID (including ladel bottom layer): tensor([7.])\n"
     ]
    },
    {
     "data": {
      "image/png": "[encoded data removed]",
      "text/plain": [
       "<Figure size 1024x576 with 9 Axes>"
      ]
     },
     "metadata": {},
     "output_type": "display_data"
    },
    {
     "name": "stdout",
     "output_type": "stream",
     "text": [
      "Zero-ordered target layer ID (including ladel bottom layer): tensor([7.])\n"
     ]
    },
    {
     "data": {
      "image/png": "[encoded data removed]",
      "text/plain": [
       "<Figure size 1024x576 with 9 Axes>"
      ]
     },
     "metadata": {},
     "output_type": "display_data"
    },
    {
     "name": "stdout",
     "output_type": "stream",
     "text": [
      "Zero-ordered target layer ID (including ladel bottom layer): tensor([7.])\n"
     ]
    },
    {
     "data": {
      "image/png": "[encoded data removed]",
      "text/plain": [
       "<Figure size 1024x576 with 9 Axes>"
      ]
     },
     "metadata": {},
     "output_type": "display_data"
    },
    {
     "name": "stdout",
     "output_type": "stream",
     "text": [
      "Zero-ordered target layer ID (including ladel bottom layer): tensor([7.])\n"
     ]
    },
    {
     "data": {
      "image/png": "[encoded data removed]",
      "text/plain": [
       "<Figure size 1024x576 with 9 Axes>"
      ]
     },
     "metadata": {},
     "output_type": "display_data"
    },
    {
     "name": "stdout",
     "output_type": "stream",
     "text": [
      "tensor(0.0899)\n"
     ]
    }
   ],
   "source": [
    "# 3d avg 1d avg max-min Ridge \n",
    "x = get_3d_gauss(ladel_removed)\n",
    "plot_pred(x[0], targs[0])\n",
    "x = get_layer_avgs(x)\n",
    "plot_pred(x[0,:,None,None], targs[0])\n",
    "x = get_1d_avg(x)\n",
    "plot_pred(x[0,:,None,None], targs[0])\n",
    "x = get_max_sub_mean(x)\n",
    "plot_pred(x[0,:,None,None], targs[0])\n",
    "x = get_edge_det(x, [-1,0,1])\n",
    "plot_pred(x[0,:,None,None], targs[0])\n",
    "score_data(x, targs, offset=3)"
   ]
  },
  {
   "cell_type": "code",
   "execution_count": 151,
   "id": "289f67cb",
   "metadata": {},
   "outputs": [
    {
     "name": "stdout",
     "output_type": "stream",
     "text": [
      "Zero-ordered target layer ID (including ladel bottom layer): tensor([7.])\n"
     ]
    },
    {
     "data": {
      "image/png": "[encoded data removed]",
      "text/plain": [
       "<Figure size 1024x576 with 9 Axes>"
      ]
     },
     "metadata": {},
     "output_type": "display_data"
    },
    {
     "name": "stdout",
     "output_type": "stream",
     "text": [
      "Zero-ordered target layer ID (including ladel bottom layer): tensor([7.])\n"
     ]
    },
    {
     "data": {
      "image/png": "[encoded data removed]",
      "text/plain": [
       "<Figure size 1024x576 with 9 Axes>"
      ]
     },
     "metadata": {},
     "output_type": "display_data"
    },
    {
     "name": "stdout",
     "output_type": "stream",
     "text": [
      "Zero-ordered target layer ID (including ladel bottom layer): tensor([7.])\n"
     ]
    },
    {
     "data": {
      "image/png": "[encoded data removed]",
      "text/plain": [
       "<Figure size 1024x576 with 9 Axes>"
      ]
     },
     "metadata": {},
     "output_type": "display_data"
    },
    {
     "name": "stdout",
     "output_type": "stream",
     "text": [
      "Zero-ordered target layer ID (including ladel bottom layer): tensor([7.])\n"
     ]
    },
    {
     "data": {
      "image/png": "[encoded data removed]",
      "text/plain": [
       "<Figure size 1024x576 with 9 Axes>"
      ]
     },
     "metadata": {},
     "output_type": "display_data"
    },
    {
     "name": "stdout",
     "output_type": "stream",
     "text": [
      "Zero-ordered target layer ID (including ladel bottom layer): tensor([7.])\n"
     ]
    },
    {
     "data": {
      "image/png": "[encoded data removed]",
      "text/plain": [
       "<Figure size 1024x576 with 9 Axes>"
      ]
     },
     "metadata": {},
     "output_type": "display_data"
    },
    {
     "name": "stdout",
     "output_type": "stream",
     "text": [
      "tensor(0.0849)\n"
     ]
    }
   ],
   "source": [
    "# 3d avg 1d avg max/min Ridge \n",
    "x = get_3d_gauss(ladel_removed)\n",
    "plot_pred(x[0], targs[0])\n",
    "x = get_layer_avgs(x)\n",
    "plot_pred(x[0,:,None,None], targs[0])\n",
    "x = get_1d_avg(x)\n",
    "plot_pred(x[0,:,None,None], targs[0])\n",
    "x = get_max_div_mean(x)\n",
    "plot_pred(x[0,:,None,None], targs[0])\n",
    "x = get_edge_det(x, [-1,0,1])\n",
    "plot_pred(x[0,:,None,None], targs[0])\n",
    "score_data(x, targs, offset=3)"
   ]
  },
  {
   "cell_type": "markdown",
   "id": "3a75d817",
   "metadata": {},
   "source": [
    "## Laplacian edge"
   ]
  },
  {
   "cell_type": "code",
   "execution_count": 158,
   "id": "c4fa6dd9",
   "metadata": {},
   "outputs": [
    {
     "name": "stdout",
     "output_type": "stream",
     "text": [
      "Zero-ordered target layer ID (including ladel bottom layer): tensor([7.])\n"
     ]
    },
    {
     "data": {
      "image/png": "[encoded data removed]",
      "text/plain": [
       "<Figure size 1024x576 with 9 Axes>"
      ]
     },
     "metadata": {},
     "output_type": "display_data"
    },
    {
     "name": "stdout",
     "output_type": "stream",
     "text": [
      "Zero-ordered target layer ID (including ladel bottom layer): tensor([7.])\n"
     ]
    },
    {
     "data": {
      "image/png": "[encoded data removed]",
      "text/plain": [
       "<Figure size 1024x576 with 9 Axes>"
      ]
     },
     "metadata": {},
     "output_type": "display_data"
    },
    {
     "name": "stdout",
     "output_type": "stream",
     "text": [
      "Zero-ordered target layer ID (including ladel bottom layer): tensor([7.])\n"
     ]
    },
    {
     "data": {
      "image/png": "[encoded data removed]",
      "text/plain": [
       "<Figure size 1024x576 with 9 Axes>"
      ]
     },
     "metadata": {},
     "output_type": "display_data"
    },
    {
     "name": "stdout",
     "output_type": "stream",
     "text": [
      "tensor(0.0941)\n"
     ]
    }
   ],
   "source": [
    "# Laplacian max-min\n",
    "x = get_layer_avgs(ladel_removed)\n",
    "plot_pred(x[0,:,None,None], targs[0])\n",
    "x = get_edge_det(x, [1,-4,1])\n",
    "plot_pred(x[0,:,None,None], targs[0])\n",
    "x = get_max_sub_mean(x)\n",
    "plot_pred(x[0,:,None,None], targs[0])\n",
    "score_data(x, targs, offset=0)"
   ]
  },
  {
   "cell_type": "code",
   "execution_count": 160,
   "id": "2fd2ca9d",
   "metadata": {},
   "outputs": [
    {
     "name": "stdout",
     "output_type": "stream",
     "text": [
      "Zero-ordered target layer ID (including ladel bottom layer): tensor([7.])\n"
     ]
    },
    {
     "data": {
      "image/png": "[encoded data removed]",
      "text/plain": [
       "<Figure size 1024x576 with 9 Axes>"
      ]
     },
     "metadata": {},
     "output_type": "display_data"
    },
    {
     "name": "stdout",
     "output_type": "stream",
     "text": [
      "Zero-ordered target layer ID (including ladel bottom layer): tensor([7.])\n"
     ]
    },
    {
     "data": {
      "image/png": "[encoded data removed]",
      "text/plain": [
       "<Figure size 1024x576 with 9 Axes>"
      ]
     },
     "metadata": {},
     "output_type": "display_data"
    },
    {
     "name": "stdout",
     "output_type": "stream",
     "text": [
      "Zero-ordered target layer ID (including ladel bottom layer): tensor([7.])\n"
     ]
    },
    {
     "data": {
      "image/png": "[encoded data removed]",
      "text/plain": [
       "<Figure size 1024x576 with 9 Axes>"
      ]
     },
     "metadata": {},
     "output_type": "display_data"
    },
    {
     "name": "stdout",
     "output_type": "stream",
     "text": [
      "Zero-ordered target layer ID (including ladel bottom layer): tensor([7.])\n"
     ]
    },
    {
     "data": {
      "image/png": "[encoded data removed]",
      "text/plain": [
       "<Figure size 1024x576 with 9 Axes>"
      ]
     },
     "metadata": {},
     "output_type": "display_data"
    },
    {
     "name": "stdout",
     "output_type": "stream",
     "text": [
      "tensor(0.0904)\n"
     ]
    }
   ],
   "source": [
    "# 1d avg Laplacian max-min\n",
    "x = get_layer_avgs(ladel_removed)\n",
    "plot_pred(x[0,:,None,None], targs[0])\n",
    "x = get_1d_avg(x)\n",
    "plot_pred(x[0,:,None,None], targs[0])\n",
    "x = get_edge_det(x, [1,-4,1])\n",
    "plot_pred(x[0,:,None,None], targs[0])\n",
    "x = get_max_sub_mean(x)\n",
    "plot_pred(x[0,:,None,None], targs[0])\n",
    "score_data(x, targs, offset=0)"
   ]
  },
  {
   "cell_type": "code",
   "execution_count": 163,
   "id": "a45681c6",
   "metadata": {},
   "outputs": [
    {
     "name": "stdout",
     "output_type": "stream",
     "text": [
      "Zero-ordered target layer ID (including ladel bottom layer): tensor([7.])\n"
     ]
    },
    {
     "data": {
      "image/png": "[encoded data removed]",
      "text/plain": [
       "<Figure size 1024x576 with 9 Axes>"
      ]
     },
     "metadata": {},
     "output_type": "display_data"
    },
    {
     "name": "stdout",
     "output_type": "stream",
     "text": [
      "Zero-ordered target layer ID (including ladel bottom layer): tensor([7.])\n"
     ]
    },
    {
     "data": {
      "image/png": "[encoded data removed]",
      "text/plain": [
       "<Figure size 1024x576 with 9 Axes>"
      ]
     },
     "metadata": {},
     "output_type": "display_data"
    },
    {
     "name": "stdout",
     "output_type": "stream",
     "text": [
      "Zero-ordered target layer ID (including ladel bottom layer): tensor([7.])\n"
     ]
    },
    {
     "data": {
      "image/png": "[encoded data removed]",
      "text/plain": [
       "<Figure size 1024x576 with 9 Axes>"
      ]
     },
     "metadata": {},
     "output_type": "display_data"
    },
    {
     "name": "stdout",
     "output_type": "stream",
     "text": [
      "Zero-ordered target layer ID (including ladel bottom layer): tensor([7.])\n"
     ]
    },
    {
     "data": {
      "image/png": "[encoded data removed]",
      "text/plain": [
       "<Figure size 1024x576 with 9 Axes>"
      ]
     },
     "metadata": {},
     "output_type": "display_data"
    },
    {
     "name": "stdout",
     "output_type": "stream",
     "text": [
      "tensor(0.0907)\n"
     ]
    }
   ],
   "source": [
    "# 3d avg Laplacian max-min\n",
    "x = get_3d_avg(ladel_removed)\n",
    "plot_pred(x[0], targs[0])\n",
    "x = get_layer_avgs(x)\n",
    "plot_pred(x[0,:,None,None], targs[0])\n",
    "x = get_edge_det(x, [1,-4,1])\n",
    "plot_pred(x[0,:,None,None], targs[0])\n",
    "x = get_max_sub_mean(x)\n",
    "plot_pred(x[0,:,None,None], targs[0])\n",
    "score_data(x, targs, offset=0)"
   ]
  },
  {
   "cell_type": "code",
   "execution_count": 168,
   "id": "220218c1",
   "metadata": {},
   "outputs": [
    {
     "name": "stdout",
     "output_type": "stream",
     "text": [
      "Zero-ordered target layer ID (including ladel bottom layer): tensor([7.])\n"
     ]
    },
    {
     "data": {
      "image/png": "[encoded data removed]",
      "text/plain": [
       "<Figure size 1024x576 with 9 Axes>"
      ]
     },
     "metadata": {},
     "output_type": "display_data"
    },
    {
     "name": "stdout",
     "output_type": "stream",
     "text": [
      "Zero-ordered target layer ID (including ladel bottom layer): tensor([7.])\n"
     ]
    },
    {
     "data": {
      "image/png": "[encoded data removed]",
      "text/plain": [
       "<Figure size 1024x576 with 9 Axes>"
      ]
     },
     "metadata": {},
     "output_type": "display_data"
    },
    {
     "name": "stdout",
     "output_type": "stream",
     "text": [
      "Zero-ordered target layer ID (including ladel bottom layer): tensor([7.])\n"
     ]
    },
    {
     "data": {
      "image/png": "[encoded data removed]",
      "text/plain": [
       "<Figure size 1024x576 with 9 Axes>"
      ]
     },
     "metadata": {},
     "output_type": "display_data"
    },
    {
     "name": "stdout",
     "output_type": "stream",
     "text": [
      "Zero-ordered target layer ID (including ladel bottom layer): tensor([7.])\n"
     ]
    },
    {
     "data": {
      "image/png": "[encoded data removed]",
      "text/plain": [
       "<Figure size 1024x576 with 9 Axes>"
      ]
     },
     "metadata": {},
     "output_type": "display_data"
    },
    {
     "name": "stdout",
     "output_type": "stream",
     "text": [
      "Zero-ordered target layer ID (including ladel bottom layer): tensor([7.])\n"
     ]
    },
    {
     "data": {
      "image/png": "[encoded data removed]",
      "text/plain": [
       "<Figure size 1024x576 with 9 Axes>"
      ]
     },
     "metadata": {},
     "output_type": "display_data"
    },
    {
     "name": "stdout",
     "output_type": "stream",
     "text": [
      "tensor(0.0882)\n"
     ]
    }
   ],
   "source": [
    "# 3d avg 1d avg Laplacian edge\n",
    "x = get_3d_avg(ladel_removed)\n",
    "plot_pred(x[0], targs[0])\n",
    "x = get_layer_avgs(x)\n",
    "plot_pred(x[0,:,None,None], targs[0])\n",
    "x = get_1d_avg(x)\n",
    "plot_pred(x[0,:,None,None], targs[0])\n",
    "x = get_edge_det(x, [1,-4,1])\n",
    "plot_pred(x[0,:,None,None], targs[0])\n",
    "x = get_edge_det(x, [1,0,-1])\n",
    "plot_pred(x[0,:,None,None], targs[0])\n",
    "score_data(x, targs, offset=1)"
   ]
  },
  {
   "cell_type": "code",
   "execution_count": 181,
   "id": "12e660cd",
   "metadata": {},
   "outputs": [
    {
     "name": "stdout",
     "output_type": "stream",
     "text": [
      "Zero-ordered target layer ID (including ladel bottom layer): tensor([7.])\n"
     ]
    },
    {
     "data": {
      "image/png": "[encoded data removed]",
      "text/plain": [
       "<Figure size 1024x576 with 9 Axes>"
      ]
     },
     "metadata": {},
     "output_type": "display_data"
    },
    {
     "name": "stdout",
     "output_type": "stream",
     "text": [
      "Zero-ordered target layer ID (including ladel bottom layer): tensor([7.])\n"
     ]
    },
    {
     "data": {
      "image/png": "[encoded data removed]",
      "text/plain": [
       "<Figure size 1024x576 with 9 Axes>"
      ]
     },
     "metadata": {},
     "output_type": "display_data"
    },
    {
     "name": "stdout",
     "output_type": "stream",
     "text": [
      "Zero-ordered target layer ID (including ladel bottom layer): tensor([7.])\n"
     ]
    },
    {
     "data": {
      "image/png": "[encoded data removed]",
      "text/plain": [
       "<Figure size 1024x576 with 9 Axes>"
      ]
     },
     "metadata": {},
     "output_type": "display_data"
    },
    {
     "name": "stdout",
     "output_type": "stream",
     "text": [
      "Zero-ordered target layer ID (including ladel bottom layer): tensor([7.])\n"
     ]
    },
    {
     "data": {
      "image/png": "[encoded data removed]",
      "text/plain": [
       "<Figure size 1024x576 with 9 Axes>"
      ]
     },
     "metadata": {},
     "output_type": "display_data"
    },
    {
     "name": "stdout",
     "output_type": "stream",
     "text": [
      "Zero-ordered target layer ID (including ladel bottom layer): tensor([7.])\n"
     ]
    },
    {
     "data": {
      "image/png": "[encoded data removed]",
      "text/plain": [
       "<Figure size 1024x576 with 9 Axes>"
      ]
     },
     "metadata": {},
     "output_type": "display_data"
    },
    {
     "name": "stdout",
     "output_type": "stream",
     "text": [
      "Zero-ordered target layer ID (including ladel bottom layer): tensor([7.])\n"
     ]
    },
    {
     "data": {
      "image/png": "[encoded data removed]",
      "text/plain": [
       "<Figure size 1024x576 with 9 Axes>"
      ]
     },
     "metadata": {},
     "output_type": "display_data"
    },
    {
     "name": "stdout",
     "output_type": "stream",
     "text": [
      "tensor(0.0889)\n"
     ]
    }
   ],
   "source": [
    "# 3d avg 1d avg Laplacian max-min edge\n",
    "x = get_3d_avg(ladel_removed)\n",
    "plot_pred(x[0], targs[0])\n",
    "x = get_layer_avgs(x)\n",
    "plot_pred(x[0,:,None,None], targs[0])\n",
    "x = get_1d_avg(x)\n",
    "plot_pred(x[0,:,None,None], targs[0])\n",
    "x = get_edge_det(x, [1,-4,1])\n",
    "plot_pred(x[0,:,None,None], targs[0])\n",
    "x = get_max_sub_mean(x)\n",
    "plot_pred(x[0,:,None,None], targs[0])\n",
    "x = get_edge_det(x, [1,0,-1])\n",
    "plot_pred(x[0,:,None,None], targs[0])\n",
    "score_data(x, targs, offset=0)"
   ]
  },
  {
   "cell_type": "code",
   "execution_count": 179,
   "id": "4d334c5d",
   "metadata": {},
   "outputs": [
    {
     "name": "stdout",
     "output_type": "stream",
     "text": [
      "Zero-ordered target layer ID (including ladel bottom layer): tensor([7.])\n"
     ]
    },
    {
     "data": {
      "image/png": "[encoded data removed]",
      "text/plain": [
       "<Figure size 1024x576 with 9 Axes>"
      ]
     },
     "metadata": {},
     "output_type": "display_data"
    },
    {
     "name": "stdout",
     "output_type": "stream",
     "text": [
      "Zero-ordered target layer ID (including ladel bottom layer): tensor([7.])\n"
     ]
    },
    {
     "data": {
      "image/png": "[encoded data removed]",
      "text/plain": [
       "<Figure size 1024x576 with 9 Axes>"
      ]
     },
     "metadata": {},
     "output_type": "display_data"
    },
    {
     "name": "stdout",
     "output_type": "stream",
     "text": [
      "Zero-ordered target layer ID (including ladel bottom layer): tensor([7.])\n"
     ]
    },
    {
     "data": {
      "image/png": "[encoded data removed]",
      "text/plain": [
       "<Figure size 1024x576 with 9 Axes>"
      ]
     },
     "metadata": {},
     "output_type": "display_data"
    },
    {
     "name": "stdout",
     "output_type": "stream",
     "text": [
      "Zero-ordered target layer ID (including ladel bottom layer): tensor([7.])\n"
     ]
    },
    {
     "data": {
      "image/png": "[encoded data removed]",
      "text/plain": [
       "<Figure size 1024x576 with 9 Axes>"
      ]
     },
     "metadata": {},
     "output_type": "display_data"
    },
    {
     "name": "stdout",
     "output_type": "stream",
     "text": [
      "Zero-ordered target layer ID (including ladel bottom layer): tensor([7.])\n"
     ]
    },
    {
     "data": {
      "image/png": "[encoded data removed]",
      "text/plain": [
       "<Figure size 1024x576 with 9 Axes>"
      ]
     },
     "metadata": {},
     "output_type": "display_data"
    },
    {
     "name": "stdout",
     "output_type": "stream",
     "text": [
      "Zero-ordered target layer ID (including ladel bottom layer): tensor([7.])\n"
     ]
    },
    {
     "data": {
      "image/png": "[encoded data removed]",
      "text/plain": [
       "<Figure size 1024x576 with 9 Axes>"
      ]
     },
     "metadata": {},
     "output_type": "display_data"
    },
    {
     "name": "stdout",
     "output_type": "stream",
     "text": [
      "tensor(0.0972)\n"
     ]
    }
   ],
   "source": [
    "# 3d avg 1d avg Laplacian max/min edge\n",
    "x = get_3d_avg(ladel_removed)\n",
    "plot_pred(x[0], targs[0])\n",
    "x = get_layer_avgs(x)\n",
    "plot_pred(x[0,:,None,None], targs[0])\n",
    "x = get_1d_avg(x)\n",
    "plot_pred(x[0,:,None,None], targs[0])\n",
    "x = get_edge_det(x, [1,-4,1])\n",
    "plot_pred(x[0,:,None,None], targs[0])\n",
    "x = get_max_div_mean(x)\n",
    "plot_pred(x[0,:,None,None], targs[0])\n",
    "x = get_edge_det(x, [1,0,-1])\n",
    "plot_pred(x[0,:,None,None], targs[0])\n",
    "score_data(x, targs, offset=2)"
   ]
  },
  {
   "cell_type": "code",
   "execution_count": 192,
   "id": "4a058790",
   "metadata": {},
   "outputs": [
    {
     "name": "stdout",
     "output_type": "stream",
     "text": [
      "Zero-ordered target layer ID (including ladel bottom layer): tensor([7.])\n"
     ]
    },
    {
     "data": {
      "image/png": "[encoded data removed]",
      "text/plain": [
       "<Figure size 1024x576 with 9 Axes>"
      ]
     },
     "metadata": {},
     "output_type": "display_data"
    },
    {
     "name": "stdout",
     "output_type": "stream",
     "text": [
      "Zero-ordered target layer ID (including ladel bottom layer): tensor([7.])\n"
     ]
    },
    {
     "data": {
      "image/png": "[encoded data removed]",
      "text/plain": [
       "<Figure size 1024x576 with 9 Axes>"
      ]
     },
     "metadata": {},
     "output_type": "display_data"
    },
    {
     "name": "stdout",
     "output_type": "stream",
     "text": [
      "Zero-ordered target layer ID (including ladel bottom layer): tensor([7.])\n"
     ]
    },
    {
     "data": {
      "image/png": "[encoded data removed]",
      "text/plain": [
       "<Figure size 1024x576 with 9 Axes>"
      ]
     },
     "metadata": {},
     "output_type": "display_data"
    },
    {
     "name": "stdout",
     "output_type": "stream",
     "text": [
      "Zero-ordered target layer ID (including ladel bottom layer): tensor([7.])\n"
     ]
    },
    {
     "data": {
      "image/png": "[encoded data removed]",
      "text/plain": [
       "<Figure size 1024x576 with 9 Axes>"
      ]
     },
     "metadata": {},
     "output_type": "display_data"
    },
    {
     "name": "stdout",
     "output_type": "stream",
     "text": [
      "Zero-ordered target layer ID (including ladel bottom layer): tensor([7.])\n"
     ]
    },
    {
     "data": {
      "image/png": "[encoded data removed]",
      "text/plain": [
       "<Figure size 1024x576 with 9 Axes>"
      ]
     },
     "metadata": {},
     "output_type": "display_data"
    },
    {
     "name": "stdout",
     "output_type": "stream",
     "text": [
      "Zero-ordered target layer ID (including ladel bottom layer): tensor([7.])\n"
     ]
    },
    {
     "data": {
      "image/png": "[encoded data removed]",
      "text/plain": [
       "<Figure size 1024x576 with 9 Axes>"
      ]
     },
     "metadata": {},
     "output_type": "display_data"
    },
    {
     "name": "stdout",
     "output_type": "stream",
     "text": [
      "tensor(0.0880)\n"
     ]
    }
   ],
   "source": [
    "# 3d avg 1d avg max/min Laplacian edge\n",
    "x = get_3d_avg(ladel_removed)\n",
    "plot_pred(x[0], targs[0])\n",
    "x = get_layer_avgs(x)\n",
    "plot_pred(x[0,:,None,None], targs[0])\n",
    "x = get_1d_avg(x)\n",
    "plot_pred(x[0,:,None,None], targs[0])\n",
    "x = get_max_div_mean(x)\n",
    "plot_pred(x[0,:,None,None], targs[0])\n",
    "x = get_edge_det(x, [1,-4,1])\n",
    "plot_pred(x[0,:,None,None], targs[0])\n",
    "plot_pred(-x[0,:,None,None], targs[0])\n",
    "score_data(-x, targs, offset=1)"
   ]
  },
  {
   "cell_type": "code",
   "execution_count": 191,
   "id": "282d5269",
   "metadata": {},
   "outputs": [
    {
     "name": "stdout",
     "output_type": "stream",
     "text": [
      "Zero-ordered target layer ID (including ladel bottom layer): tensor([7.])\n"
     ]
    },
    {
     "data": {
      "image/png": "[encoded data removed]",
      "text/plain": [
       "<Figure size 1024x576 with 9 Axes>"
      ]
     },
     "metadata": {},
     "output_type": "display_data"
    },
    {
     "name": "stdout",
     "output_type": "stream",
     "text": [
      "Zero-ordered target layer ID (including ladel bottom layer): tensor([7.])\n"
     ]
    },
    {
     "data": {
      "image/png": "[encoded data removed]",
      "text/plain": [
       "<Figure size 1024x576 with 9 Axes>"
      ]
     },
     "metadata": {},
     "output_type": "display_data"
    },
    {
     "name": "stdout",
     "output_type": "stream",
     "text": [
      "Zero-ordered target layer ID (including ladel bottom layer): tensor([7.])\n"
     ]
    },
    {
     "data": {
      "image/png": "[encoded data removed]",
      "text/plain": [
       "<Figure size 1024x576 with 9 Axes>"
      ]
     },
     "metadata": {},
     "output_type": "display_data"
    },
    {
     "name": "stdout",
     "output_type": "stream",
     "text": [
      "Zero-ordered target layer ID (including ladel bottom layer): tensor([7.])\n"
     ]
    },
    {
     "data": {
      "image/png": "[encoded data removed]",
      "text/plain": [
       "<Figure size 1024x576 with 9 Axes>"
      ]
     },
     "metadata": {},
     "output_type": "display_data"
    },
    {
     "name": "stdout",
     "output_type": "stream",
     "text": [
      "Zero-ordered target layer ID (including ladel bottom layer): tensor([7.])\n"
     ]
    },
    {
     "data": {
      "image/png": "[encoded data removed]",
      "text/plain": [
       "<Figure size 1024x576 with 9 Axes>"
      ]
     },
     "metadata": {},
     "output_type": "display_data"
    },
    {
     "name": "stdout",
     "output_type": "stream",
     "text": [
      "Zero-ordered target layer ID (including ladel bottom layer): tensor([7.])\n"
     ]
    },
    {
     "data": {
      "image/png": "[encoded data removed]",
      "text/plain": [
       "<Figure size 1024x576 with 9 Axes>"
      ]
     },
     "metadata": {},
     "output_type": "display_data"
    },
    {
     "name": "stdout",
     "output_type": "stream",
     "text": [
      "tensor(0.0882)\n"
     ]
    }
   ],
   "source": [
    "# 3d avg 1d avg max/min Laplacian edge\n",
    "x = get_3d_avg(ladel_removed)\n",
    "plot_pred(x[0], targs[0])\n",
    "x = get_layer_avgs(x)\n",
    "plot_pred(x[0,:,None,None], targs[0])\n",
    "x = get_1d_avg(x)\n",
    "plot_pred(x[0,:,None,None], targs[0])\n",
    "x = get_max_sub_mean(x)\n",
    "plot_pred(x[0,:,None,None], targs[0])\n",
    "x = get_edge_det(x, [1,-4,1])\n",
    "plot_pred(x[0,:,None,None], targs[0])\n",
    "plot_pred(-x[0,:,None,None], targs[0])\n",
    "score_data(-x, targs, offset=1)"
   ]
  },
  {
   "cell_type": "code",
   "execution_count": null,
   "id": "687436f7",
   "metadata": {},
   "outputs": [],
   "source": []
  }
 ],
 "metadata": {
  "kernelspec": {
   "display_name": "Python [conda env:tomopt]",
   "language": "python",
   "name": "conda-env-tomopt-py"
  },
  "language_info": {
   "codemirror_mode": {
    "name": "ipython",
    "version": 3
   },
   "file_extension": ".py",
   "mimetype": "text/x-python",
   "name": "python",
   "nbconvert_exporter": "python",
   "pygments_lexer": "ipython3",
   "version": "3.8.0"
  },
  "toc": {
   "base_numbering": 1,
   "nav_menu": {},
   "number_sections": true,
   "sideBar": true,
   "skip_h1_title": false,
   "title_cell": "Table of Contents",
   "title_sidebar": "Contents",
   "toc_cell": false,
   "toc_position": {},
   "toc_section_display": true,
   "toc_window_display": false
  }
 },
 "nbformat": 4,
 "nbformat_minor": 5
}
