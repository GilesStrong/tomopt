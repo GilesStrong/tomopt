{
 "cells": [
  {
   "cell_type": "code",
   "execution_count": 1,
   "id": "c5342eba",
   "metadata": {},
   "outputs": [],
   "source": [
    "%matplotlib inline\n",
    "%reload_ext autoreload\n",
    "%autoreload 2"
   ]
  },
  {
   "cell_type": "code",
   "execution_count": 2,
   "id": "47cf08d2",
   "metadata": {},
   "outputs": [],
   "source": [
    "import torch\n",
    "from torch import nn, Tensor\n",
    "from torch.nn import functional as F"
   ]
  },
  {
   "cell_type": "code",
   "execution_count": 6,
   "id": "3f5a3a7a",
   "metadata": {},
   "outputs": [
    {
     "data": {
      "text/plain": [
       "tensor(0.6246)"
      ]
     },
     "execution_count": 6,
     "metadata": {},
     "output_type": "execute_result"
    }
   ],
   "source": [
    "(torch.max(torch.rand(30, 2), torch.tensor(0.2))).mean()"
   ]
  },
  {
   "cell_type": "code",
   "execution_count": 3,
   "id": "621de9de",
   "metadata": {},
   "outputs": [],
   "source": [
    "y = Tensor([3]).long()"
   ]
  },
  {
   "cell_type": "code",
   "execution_count": 4,
   "id": "54edaba1",
   "metadata": {},
   "outputs": [],
   "source": [
    "y_pred_far = F.log_softmax(Tensor([[5,3,1,0,1,3,5]]), -1)"
   ]
  },
  {
   "cell_type": "code",
   "execution_count": 5,
   "id": "f1652cd8",
   "metadata": {},
   "outputs": [],
   "source": [
    "y_pred_good = F.log_softmax(Tensor([[0,0,0,10,0,0,0]]), -1)"
   ]
  },
  {
   "cell_type": "code",
   "execution_count": 6,
   "id": "717b42db",
   "metadata": {},
   "outputs": [],
   "source": [
    "y_pred_close = F.log_softmax(Tensor([[1,3,5,10,5,3,1]]), -1)"
   ]
  },
  {
   "cell_type": "code",
   "execution_count": 7,
   "id": "e39f4acb",
   "metadata": {},
   "outputs": [],
   "source": [
    "y_pred_offset = F.log_softmax(Tensor([[1,3,10,5,5,3,1]]), -1)"
   ]
  },
  {
   "cell_type": "code",
   "execution_count": 8,
   "id": "df0b44c1",
   "metadata": {},
   "outputs": [],
   "source": [
    "y_pred_offset2 = F.log_softmax(Tensor([[10,3,1,5,5,3,1]]), -1)"
   ]
  },
  {
   "cell_type": "code",
   "execution_count": 9,
   "id": "d56a72ed",
   "metadata": {},
   "outputs": [
    {
     "data": {
      "text/plain": [
       "tensor([[-1.0000e+01, -1.0000e+01, -1.0000e+01, -2.7248e-04, -1.0000e+01,\n",
       "         -1.0000e+01, -1.0000e+01]])"
      ]
     },
     "execution_count": 9,
     "metadata": {},
     "output_type": "execute_result"
    }
   ],
   "source": [
    "y_pred_good"
   ]
  },
  {
   "cell_type": "code",
   "execution_count": 10,
   "id": "ab7d5366",
   "metadata": {},
   "outputs": [
    {
     "data": {
      "text/plain": [
       "tensor([[-0.8390, -2.8390, -4.8390, -5.8390, -4.8390, -2.8390, -0.8390]])"
      ]
     },
     "execution_count": 10,
     "metadata": {},
     "output_type": "execute_result"
    }
   ],
   "source": [
    "y_pred_far"
   ]
  },
  {
   "cell_type": "code",
   "execution_count": 11,
   "id": "1b927a26",
   "metadata": {},
   "outputs": [
    {
     "data": {
      "text/plain": [
       "tensor([[-9.0154, -7.0154, -5.0154, -0.0154, -5.0154, -7.0154, -9.0154]])"
      ]
     },
     "execution_count": 11,
     "metadata": {},
     "output_type": "execute_result"
    }
   ],
   "source": [
    "y_pred_close"
   ]
  },
  {
   "cell_type": "code",
   "execution_count": 12,
   "id": "1fd6ff93",
   "metadata": {},
   "outputs": [
    {
     "data": {
      "text/plain": [
       "tensor(0.0003)"
      ]
     },
     "execution_count": 12,
     "metadata": {},
     "output_type": "execute_result"
    }
   ],
   "source": [
    "F.nll_loss(y_pred_good, y)"
   ]
  },
  {
   "cell_type": "code",
   "execution_count": 13,
   "id": "847bba24",
   "metadata": {},
   "outputs": [
    {
     "data": {
      "text/plain": [
       "tensor(0.0154)"
      ]
     },
     "execution_count": 13,
     "metadata": {},
     "output_type": "execute_result"
    }
   ],
   "source": [
    "F.nll_loss(y_pred_close, y)"
   ]
  },
  {
   "cell_type": "code",
   "execution_count": 14,
   "id": "2ef9fd87",
   "metadata": {},
   "outputs": [
    {
     "data": {
      "text/plain": [
       "tensor(5.8390)"
      ]
     },
     "execution_count": 14,
     "metadata": {},
     "output_type": "execute_result"
    }
   ],
   "source": [
    "F.nll_loss(y_pred_far, y)"
   ]
  },
  {
   "cell_type": "code",
   "execution_count": 15,
   "id": "4c26ee6d",
   "metadata": {},
   "outputs": [
    {
     "data": {
      "text/plain": [
       "tensor(5.0154)"
      ]
     },
     "execution_count": 15,
     "metadata": {},
     "output_type": "execute_result"
    }
   ],
   "source": [
    "F.nll_loss(y_pred_offset, y)"
   ]
  },
  {
   "cell_type": "code",
   "execution_count": 16,
   "id": "0c401bf5",
   "metadata": {},
   "outputs": [
    {
     "data": {
      "text/plain": [
       "tensor(5.0154)"
      ]
     },
     "execution_count": 16,
     "metadata": {},
     "output_type": "execute_result"
    }
   ],
   "source": [
    "F.nll_loss(y_pred_offset2, y)"
   ]
  },
  {
   "cell_type": "markdown",
   "id": "24411eff",
   "metadata": {},
   "source": [
    "## Gauss target"
   ]
  },
  {
   "cell_type": "markdown",
   "id": "4afeb955",
   "metadata": {},
   "source": [
    "# Frac MSE"
   ]
  },
  {
   "cell_type": "code",
   "execution_count": 17,
   "id": "f0a93ca8",
   "metadata": {},
   "outputs": [
    {
     "data": {
      "text/plain": [
       "tensor([0, 1, 2, 3, 4, 5, 6])"
      ]
     },
     "execution_count": 17,
     "metadata": {},
     "output_type": "execute_result"
    }
   ],
   "source": [
    "ints = torch.arange(y_pred_offset2.size(1)); ints"
   ]
  },
  {
   "cell_type": "code",
   "execution_count": 18,
   "id": "7c9fb14f",
   "metadata": {},
   "outputs": [
    {
     "data": {
      "text/plain": [
       "tensor([9, 4, 1, 0, 1, 4, 9])"
      ]
     },
     "execution_count": 18,
     "metadata": {},
     "output_type": "execute_result"
    }
   ],
   "source": [
    "mses = (y-ints)**2; mses"
   ]
  },
  {
   "cell_type": "code",
   "execution_count": 19,
   "id": "090c2588",
   "metadata": {},
   "outputs": [
    {
     "data": {
      "text/plain": [
       "tensor([[8.8622e+00, 3.5917e-03, 1.2152e-04, 0.0000e+00, 6.6348e-03, 3.5917e-03,\n",
       "         1.0937e-03]])"
      ]
     },
     "execution_count": 19,
     "metadata": {},
     "output_type": "execute_result"
    }
   ],
   "source": [
    "losses = mses*torch.exp(y_pred_offset2); losses"
   ]
  },
  {
   "cell_type": "code",
   "execution_count": 20,
   "id": "87182755",
   "metadata": {},
   "outputs": [
    {
     "data": {
      "text/plain": [
       "tensor([8.8773])"
      ]
     },
     "execution_count": 20,
     "metadata": {},
     "output_type": "execute_result"
    }
   ],
   "source": [
    "losses.sum(-1)"
   ]
  },
  {
   "cell_type": "code",
   "execution_count": 42,
   "id": "2ac92024",
   "metadata": {},
   "outputs": [],
   "source": [
    "def frac_mse(probs, targs):\n",
    "    ints = torch.arange(probs.size(1))\n",
    "    mses = (targs-ints)**2\n",
    "    print(mses)\n",
    "    losses = mses*torch.exp(probs)\n",
    "    return losses.sum(-1)"
   ]
  },
  {
   "cell_type": "code",
   "execution_count": 43,
   "id": "2cfafd90",
   "metadata": {},
   "outputs": [
    {
     "name": "stdout",
     "output_type": "stream",
     "text": [
      "tensor([3, 2, 1, 0, 1, 2, 3])\n"
     ]
    },
    {
     "data": {
      "text/plain": [
       "tensor([0.0005])"
      ]
     },
     "execution_count": 43,
     "metadata": {},
     "output_type": "execute_result"
    }
   ],
   "source": [
    "frac_mse(y_pred_good, y)"
   ]
  },
  {
   "cell_type": "code",
   "execution_count": 44,
   "id": "9cac6ddb",
   "metadata": {
    "scrolled": true
   },
   "outputs": [
    {
     "name": "stdout",
     "output_type": "stream",
     "text": [
      "tensor([3, 2, 1, 0, 1, 2, 3])\n"
     ]
    },
    {
     "data": {
      "text/plain": [
       "tensor([2.8426])"
      ]
     },
     "execution_count": 44,
     "metadata": {},
     "output_type": "execute_result"
    }
   ],
   "source": [
    "frac_mse(y_pred_far, y)"
   ]
  },
  {
   "cell_type": "code",
   "execution_count": 45,
   "id": "83f4a94f",
   "metadata": {
    "scrolled": true
   },
   "outputs": [
    {
     "name": "stdout",
     "output_type": "stream",
     "text": [
      "tensor([3, 2, 1, 0, 1, 2, 3])\n"
     ]
    },
    {
     "data": {
      "text/plain": [
       "tensor([0.0176])"
      ]
     },
     "execution_count": 45,
     "metadata": {},
     "output_type": "execute_result"
    }
   ],
   "source": [
    "frac_mse(y_pred_close, y)"
   ]
  },
  {
   "cell_type": "code",
   "execution_count": 46,
   "id": "58e7de2c",
   "metadata": {
    "scrolled": true
   },
   "outputs": [
    {
     "name": "stdout",
     "output_type": "stream",
     "text": [
      "tensor([3, 2, 1, 0, 1, 2, 3])\n"
     ]
    },
    {
     "data": {
      "text/plain": [
       "tensor([0.9956])"
      ]
     },
     "execution_count": 46,
     "metadata": {},
     "output_type": "execute_result"
    }
   ],
   "source": [
    "frac_mse(y_pred_offset, y)"
   ]
  },
  {
   "cell_type": "code",
   "execution_count": 47,
   "id": "36cf3a6b",
   "metadata": {
    "scrolled": true
   },
   "outputs": [
    {
     "name": "stdout",
     "output_type": "stream",
     "text": [
      "tensor([3, 2, 1, 0, 1, 2, 3])\n"
     ]
    },
    {
     "data": {
      "text/plain": [
       "tensor([2.9648])"
      ]
     },
     "execution_count": 47,
     "metadata": {},
     "output_type": "execute_result"
    }
   ],
   "source": [
    "frac_mse(y_pred_offset2, y)"
   ]
  },
  {
   "cell_type": "code",
   "execution_count": 48,
   "id": "140798ed",
   "metadata": {},
   "outputs": [
    {
     "name": "stdout",
     "output_type": "stream",
     "text": [
      "tensor([4, 3, 2, 1, 0, 1, 2])\n"
     ]
    },
    {
     "data": {
      "text/plain": [
       "tensor([0.0006])"
      ]
     },
     "execution_count": 48,
     "metadata": {},
     "output_type": "execute_result"
    }
   ],
   "source": [
    "frac_mse(F.log_softmax(Tensor([[0,0,0,0,10,0,0]]), -1), Tensor([4]).long())"
   ]
  },
  {
   "cell_type": "code",
   "execution_count": 49,
   "id": "1f9edc25",
   "metadata": {},
   "outputs": [
    {
     "name": "stdout",
     "output_type": "stream",
     "text": [
      "tensor([0, 1, 2, 3, 4, 5, 6])\n"
     ]
    },
    {
     "data": {
      "text/plain": [
       "tensor([0.0010])"
      ]
     },
     "execution_count": 49,
     "metadata": {},
     "output_type": "execute_result"
    }
   ],
   "source": [
    "frac_mse(F.log_softmax(Tensor([[10,0,0,0,0,0,0]]), -1), Tensor([0]).long())"
   ]
  },
  {
   "cell_type": "code",
   "execution_count": 50,
   "id": "02c1cef8",
   "metadata": {},
   "outputs": [
    {
     "name": "stdout",
     "output_type": "stream",
     "text": [
      "tensor([1, 0, 1, 2, 3, 4, 5])\n"
     ]
    },
    {
     "data": {
      "text/plain": [
       "tensor([0.0007])"
      ]
     },
     "execution_count": 50,
     "metadata": {},
     "output_type": "execute_result"
    }
   ],
   "source": [
    "frac_mse(F.log_softmax(Tensor([[0,10,0,0,0,0,0]]), -1), Tensor([1]).long())"
   ]
  },
  {
   "cell_type": "code",
   "execution_count": 51,
   "id": "89f63bfc",
   "metadata": {},
   "outputs": [
    {
     "name": "stdout",
     "output_type": "stream",
     "text": [
      "tensor([3, 2, 1, 0, 1, 2, 3])\n"
     ]
    },
    {
     "data": {
      "text/plain": [
       "tensor([0.0005])"
      ]
     },
     "execution_count": 51,
     "metadata": {},
     "output_type": "execute_result"
    }
   ],
   "source": [
    "frac_mse(F.log_softmax(Tensor([[0,0,0,10,0,0,0]]), -1), Tensor([3]).long())"
   ]
  },
  {
   "cell_type": "code",
   "execution_count": 52,
   "id": "42418b49",
   "metadata": {},
   "outputs": [
    {
     "name": "stdout",
     "output_type": "stream",
     "text": [
      "tensor([6, 5, 4, 3, 2, 1, 0])\n"
     ]
    },
    {
     "data": {
      "text/plain": [
       "tensor([0.0010])"
      ]
     },
     "execution_count": 52,
     "metadata": {},
     "output_type": "execute_result"
    }
   ],
   "source": [
    "frac_mse(F.log_softmax(Tensor([[0,0,0,0,0,0,10]]), -1), Tensor([6]).long())"
   ]
  },
  {
   "cell_type": "code",
   "execution_count": null,
   "id": "0f14af8f",
   "metadata": {},
   "outputs": [],
   "source": []
  }
 ],
 "metadata": {
  "kernelspec": {
   "display_name": "Python [conda env:tomopt]",
   "language": "python",
   "name": "conda-env-tomopt-py"
  },
  "language_info": {
   "codemirror_mode": {
    "name": "ipython",
    "version": 3
   },
   "file_extension": ".py",
   "mimetype": "text/x-python",
   "name": "python",
   "nbconvert_exporter": "python",
   "pygments_lexer": "ipython3",
   "version": "3.8.0"
  },
  "toc": {
   "base_numbering": 1,
   "nav_menu": {},
   "number_sections": true,
   "sideBar": true,
   "skip_h1_title": false,
   "title_cell": "Table of Contents",
   "title_sidebar": "Contents",
   "toc_cell": false,
   "toc_position": {},
   "toc_section_display": true,
   "toc_window_display": false
  }
 },
 "nbformat": 4,
 "nbformat_minor": 5
}
