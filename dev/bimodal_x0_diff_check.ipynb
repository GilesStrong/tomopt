{
 "cells": [
  {
   "cell_type": "code",
   "execution_count": 1,
   "id": "d27fb347",
   "metadata": {},
   "outputs": [],
   "source": [
    "%matplotlib inline\n",
    "%reload_ext autoreload\n",
    "%autoreload 2"
   ]
  },
  {
   "cell_type": "code",
   "execution_count": 2,
   "id": "59aaf2e5",
   "metadata": {},
   "outputs": [],
   "source": [
    "from typing import *\n",
    "import numpy as np\n",
    "from functools import partial\n",
    "from fastprogress import progress_bar\n",
    "import pandas as pd\n",
    "import h5py\n",
    "\n",
    "from lumin.plotting.results import plot_roc\n",
    "\n",
    "import torch\n",
    "from torch import Tensor, nn\n",
    "import torch.nn.functional as F\n",
    "from torch._vmap_internals import _vmap as vmap\n",
    "\n",
    "from tomopt.volume import *\n",
    "from tomopt.muon import *\n",
    "from tomopt.inference import *\n",
    "from tomopt.optimisation import *\n",
    "from tomopt.core import *\n",
    "from tomopt.utils import *\n",
    "from tomopt.plotting import *\n",
    "\n",
    "import seaborn as sns\n",
    "import matplotlib.pyplot as plt"
   ]
  },
  {
   "cell_type": "code",
   "execution_count": 3,
   "id": "f34c0e0c",
   "metadata": {},
   "outputs": [],
   "source": [
    "DEVICE = torch.device(\"cpu\")"
   ]
  },
  {
   "cell_type": "code",
   "execution_count": 4,
   "id": "6f17686d",
   "metadata": {},
   "outputs": [],
   "source": [
    "def area_cost(x:Tensor) -> Tensor:\n",
    "    return F.relu(x)"
   ]
  },
  {
   "cell_type": "code",
   "execution_count": 5,
   "id": "0aa9fb7a",
   "metadata": {},
   "outputs": [],
   "source": [
    "def get_layers():\n",
    "    layers = []\n",
    "    lwh = Tensor([1,1,1])\n",
    "    size = 0.1\n",
    "    init_eff = 1.0\n",
    "    init_res = 1e4\n",
    "    n_panels = 4\n",
    "    layers.append(PanelDetectorLayer(pos='above', lw=lwh[:2], z=1, size=2*size,\n",
    "                                     panels=[DetectorPanel(res=init_res, eff=init_eff,\n",
    "                                                      init_xyz=[0.5,0.5,1-(i*(2*size)/n_panels)], init_xy_span=[1.0,1.0] if i in [0,3] else [0.5,0.5],\n",
    "                                                      area_cost_func=area_cost, device=DEVICE) for i in range(n_panels)]))\n",
    "    for z in [0.8,0.7,0.6,0.5,0.4,0.3]:\n",
    "        layers.append(PassiveLayer(lw=lwh[:2], z=z, size=size, device=DEVICE))\n",
    "    layers.append(PanelDetectorLayer(pos='below', lw=lwh[:2], z=0.2, size=2*size,\n",
    "                                     panels=[DetectorPanel(res=init_res, eff=init_eff,\n",
    "                                                      init_xyz=[0.5,0.5,0.2-(i*(2*size)/n_panels)], init_xy_span=[1.0,1.0] if i in [0,3] else [0.5,0.5],\n",
    "                                                      area_cost_func=area_cost, device=DEVICE) for i in range(n_panels)]))\n",
    "\n",
    "    return nn.ModuleList(layers) "
   ]
  },
  {
   "cell_type": "code",
   "execution_count": 6,
   "id": "074037b0",
   "metadata": {},
   "outputs": [],
   "source": [
    "volume = Volume(get_layers())"
   ]
  },
  {
   "cell_type": "code",
   "execution_count": 7,
   "id": "00916e27",
   "metadata": {},
   "outputs": [
    {
     "data": {
      "text/plain": [
       "Volume(\n",
       "  (layers): ModuleList(\n",
       "    (0): PanelDetectorLayer(\n",
       "      (panels): ModuleList(\n",
       "        (0): <class 'tomopt.volume.panel.DetectorPanel'> located at xy=tensor([0.5000, 0.5000]), z=tensor([1.]), and xy span tensor([1., 1.])\n",
       "        (1): <class 'tomopt.volume.panel.DetectorPanel'> located at xy=tensor([0.5000, 0.5000]), z=tensor([0.9500]), and xy span tensor([0.5000, 0.5000])\n",
       "        (2): <class 'tomopt.volume.panel.DetectorPanel'> located at xy=tensor([0.5000, 0.5000]), z=tensor([0.9000]), and xy span tensor([0.5000, 0.5000])\n",
       "        (3): <class 'tomopt.volume.panel.DetectorPanel'> located at xy=tensor([0.5000, 0.5000]), z=tensor([0.8500]), and xy span tensor([1., 1.])\n",
       "      )\n",
       "    )\n",
       "    (1): PassiveLayer()\n",
       "    (2): PassiveLayer()\n",
       "    (3): PassiveLayer()\n",
       "    (4): PassiveLayer()\n",
       "    (5): PassiveLayer()\n",
       "    (6): PassiveLayer()\n",
       "    (7): PanelDetectorLayer(\n",
       "      (panels): ModuleList(\n",
       "        (0): <class 'tomopt.volume.panel.DetectorPanel'> located at xy=tensor([0.5000, 0.5000]), z=tensor([0.2000]), and xy span tensor([1., 1.])\n",
       "        (1): <class 'tomopt.volume.panel.DetectorPanel'> located at xy=tensor([0.5000, 0.5000]), z=tensor([0.1500]), and xy span tensor([0.5000, 0.5000])\n",
       "        (2): <class 'tomopt.volume.panel.DetectorPanel'> located at xy=tensor([0.5000, 0.5000]), z=tensor([0.1000]), and xy span tensor([0.5000, 0.5000])\n",
       "        (3): <class 'tomopt.volume.panel.DetectorPanel'> located at xy=tensor([0.5000, 0.5000]), z=tensor([0.0500]), and xy span tensor([1., 1.])\n",
       "      )\n",
       "    )\n",
       "  )\n",
       ")"
      ]
     },
     "execution_count": 7,
     "metadata": {},
     "output_type": "execute_result"
    }
   ],
   "source": [
    "volume"
   ]
  },
  {
   "cell_type": "code",
   "execution_count": 8,
   "id": "86509b96",
   "metadata": {},
   "outputs": [],
   "source": [
    "def sig_rad_length(*,z:float, lw:Tensor, size:float) -> Tensor:\n",
    "    rad_length = torch.ones(list((lw/size).long()))*X0['beryllium']\n",
    "    if z > 0.4 and z <= 0.5: rad_length[7:,6:] = X0['uranium']\n",
    "    return rad_length"
   ]
  },
  {
   "cell_type": "code",
   "execution_count": 9,
   "id": "bab5011b",
   "metadata": {},
   "outputs": [],
   "source": [
    "def bkg_rad_length(*,z:float, lw:Tensor, size:float) -> Tensor:\n",
    "    rad_length = torch.ones(list((lw/size).long()))*X0['beryllium']\n",
    "    return rad_length"
   ]
  },
  {
   "cell_type": "code",
   "execution_count": 12,
   "id": "2b6305c0",
   "metadata": {},
   "outputs": [],
   "source": [
    "volume.load_rad_length(sig_rad_length)"
   ]
  },
  {
   "cell_type": "markdown",
   "id": "997f1f5e",
   "metadata": {},
   "source": [
    "# Build dataset"
   ]
  },
  {
   "cell_type": "code",
   "execution_count": 13,
   "id": "51b083c7",
   "metadata": {},
   "outputs": [],
   "source": [
    "def get_preds(volume:Volume) -> Tensor:\n",
    "    gen = MuonGenerator2016.from_volume(volume)\n",
    "    mus = MuonResampler.resample(gen(250), volume=volume, gen=gen)\n",
    "    mu = MuonBatch(mus, init_z=volume.h)\n",
    "    volume(mu)\n",
    "    \n",
    "    sb = ScatterBatch(mu, volume)\n",
    "    inf = PanelX0Inferer(volume)\n",
    "    inf.add_scatters(sb)\n",
    "    vox_preds, weights = inf.get_prediction()\n",
    "    return vox_preds"
   ]
  },
  {
   "cell_type": "code",
   "execution_count": 18,
   "id": "317c3948",
   "metadata": {},
   "outputs": [],
   "source": [
    "vox_preds = get_preds(volume)"
   ]
  },
  {
   "cell_type": "code",
   "execution_count": 19,
   "id": "226f0286",
   "metadata": {},
   "outputs": [
    {
     "data": {
      "text/plain": [
       "tensor([[[0.1358, 0.0285, 0.0455, 0.0678, 0.0901, 0.3307, 0.0875, 0.0363,\n",
       "          0.0397, 0.0416],\n",
       "         [0.0737, 0.1492, 0.1195, 0.1199, 0.1271, 0.0644, 0.0560, 0.0438,\n",
       "          0.0418, 0.0902],\n",
       "         [0.0652, 0.0367, 0.0316, 0.0317, 0.0663, 0.0670, 0.0664, 0.0552,\n",
       "          0.0964, 0.1163],\n",
       "         [0.0775, 0.0410, 0.0846, 0.0996, 0.0245, 0.1346, 0.0847, 0.0460,\n",
       "          0.0524, 0.2014],\n",
       "         [0.0533, 0.0379, 0.0887, 0.0972, 0.0614, 0.0490, 0.1702, 0.0387,\n",
       "          0.0390, 0.1819],\n",
       "         [0.0439, 0.0709, 0.0922, 0.1151, 0.1793, 0.1246, 0.3383, 0.2195,\n",
       "          0.2274, 0.1890],\n",
       "         [0.1266, 0.1441, 0.0272, 0.1267, 0.4857, 0.3739, 0.2523, 0.0602,\n",
       "          0.0964, 0.0671],\n",
       "         [0.1306, 0.0763, 0.0648, 0.1117, 0.1208, 0.3717, 0.2556, 0.0035,\n",
       "          0.0538, 0.0447],\n",
       "         [0.1944, 0.0571, 0.0568, 0.1016, 0.1084, 0.0133, 0.0133, 0.0588,\n",
       "          0.0605, 0.0482],\n",
       "         [0.1731, 0.2372, 0.2719, 0.1647, 0.1170, 0.0892, 0.0203, 0.1336,\n",
       "          0.0291, 0.0300]],\n",
       "\n",
       "        [[0.0991, 0.0195, 0.0220, 0.0657, 0.0769, 0.3046, 0.0914, 0.0370,\n",
       "          0.0454, 0.0357],\n",
       "         [0.0729, 0.1593, 0.0678, 0.0796, 0.1009, 0.0479, 0.0548, 0.0480,\n",
       "          0.0424, 0.0777],\n",
       "         [0.0632, 0.0375, 0.0315, 0.0315, 0.0535, 0.0586, 0.0649, 0.0541,\n",
       "          0.0872, 0.1127],\n",
       "         [0.0709, 0.0418, 0.0541, 0.0317, 0.0245, 0.0685, 0.0838, 0.0524,\n",
       "          0.0519, 0.1224],\n",
       "         [0.0418, 0.0379, 0.0706, 0.1083, 0.0563, 0.0479, 0.1199, 0.0392,\n",
       "          0.0393, 0.0471],\n",
       "         [0.0405, 0.0556, 0.0248, 0.1162, 0.1227, 0.0796, 0.1621, 0.1549,\n",
       "          0.1919, 0.1205],\n",
       "         [0.1033, 0.0250, 0.0237, 0.0903, 0.1667, 0.1033, 0.2259, 0.0525,\n",
       "          0.0309, 0.0615],\n",
       "         [0.0925, 0.0462, 0.0831, 0.0814, 0.0838, 0.1397, 0.2398, 0.0026,\n",
       "          0.0206, 0.0030],\n",
       "         [0.1050, 0.0576, 0.0582, 0.0818, 0.0880, 0.0133, 0.0056, 0.0471,\n",
       "          0.0044, 0.0705],\n",
       "         [0.0349, 0.1986, 0.2722, 0.1075, 0.1167, 0.0336, 0.0198, 0.0080,\n",
       "          0.0285, 0.0371]],\n",
       "\n",
       "        [[0.1073, 0.0192, 0.0211, 0.0592, 0.0833, 0.2536, 0.0997, 0.0418,\n",
       "          0.0613, 0.0338],\n",
       "         [0.0744, 0.1808, 0.1133, 0.0588, 0.1071, 0.0427, 0.0553, 0.0523,\n",
       "          0.0538, 0.0725],\n",
       "         [0.0632, 0.0410, 0.0315, 0.0303, 0.0313, 0.0319, 0.0426, 0.0639,\n",
       "          0.0972, 0.1280],\n",
       "         [0.0739, 0.0472, 0.0523, 0.0295, 0.0281, 0.0318, 0.0771, 0.0967,\n",
       "          0.1016, 0.0343],\n",
       "         [0.0410, 0.0387, 0.1048, 0.1408, 0.0629, 0.0448, 0.1190, 0.0504,\n",
       "          0.0631, 0.0330],\n",
       "         [0.0420, 0.0554, 0.0242, 0.1608, 0.1189, 0.0632, 0.1243, 0.0798,\n",
       "          0.0799, 0.0442],\n",
       "         [0.0861, 0.0246, 0.0237, 0.0651, 0.0614, 0.0411, 0.1564, 0.0657,\n",
       "          0.0194, 0.0592],\n",
       "         [0.0871, 0.0213, 0.0972, 0.0794, 0.0653, 0.0418, 0.0041, 0.0006,\n",
       "          0.0171, 0.0030],\n",
       "         [0.0903, 0.0687, 0.0740, 0.0809, 0.0834, 0.0143, 0.0016, 0.0098,\n",
       "          0.0040, 0.0859],\n",
       "         [0.0329, 0.1567, 0.1665, 0.1009, 0.1161, 0.0168, 0.0128, 0.0073,\n",
       "          0.0046, 0.0443]],\n",
       "\n",
       "        [[0.1489, 0.0390, 0.0371, 0.0613, 0.1276, 0.2248, 0.1016, 0.1377,\n",
       "          0.0661, 0.0366],\n",
       "         [0.0824, 0.1976, 0.2041, 0.0609, 0.1943, 0.0420, 0.0664, 0.1132,\n",
       "          0.1094, 0.0715],\n",
       "         [0.0606, 0.0534, 0.0564, 0.0295, 0.0296, 0.0317, 0.0496, 0.1374,\n",
       "          0.1461, 0.1899],\n",
       "         [0.0872, 0.0591, 0.1838, 0.0294, 0.0402, 0.0320, 0.0783, 0.1253,\n",
       "          0.1583, 0.0319],\n",
       "         [0.0452, 0.0514, 0.1904, 0.1836, 0.0678, 0.0430, 0.1315, 0.1084,\n",
       "          0.1014, 0.0339],\n",
       "         [0.0445, 0.0645, 0.0974, 0.1333, 0.1185, 0.0633, 0.1207, 0.0639,\n",
       "          0.0653, 0.0414],\n",
       "         [0.1103, 0.0283, 0.0409, 0.0651, 0.0618, 0.0411, 0.1590, 0.0632,\n",
       "          0.0328, 0.0590],\n",
       "         [0.0863, 0.0213, 0.1296, 0.0806, 0.0461, 0.0415, 0.0041, 0.0043,\n",
       "          0.0170, 0.0873],\n",
       "         [0.0893, 0.1186, 0.1378, 0.0848, 0.0849, 0.1494, 0.0160, 0.0606,\n",
       "          0.0047, 0.0641],\n",
       "         [0.0344, 0.1529, 0.1148, 0.1007, 0.1131, 0.0197, 0.0157, 0.0097,\n",
       "          0.0046, 0.0602]],\n",
       "\n",
       "        [[0.1964, 0.1667, 0.1928, 0.0721, 0.2113, 0.2178, 0.1048, 0.2057,\n",
       "          0.0764, 0.0447],\n",
       "         [0.1431, 0.2052, 0.2268, 0.2045, 0.2461, 0.1189, 0.0764, 0.2152,\n",
       "          0.1864, 0.0729],\n",
       "         [0.0526, 0.1025, 0.2319, 0.0319, 0.0315, 0.1138, 0.1330, 0.1797,\n",
       "          0.2075, 0.2317],\n",
       "         [0.1092, 0.0733, 0.3400, 0.0302, 0.0493, 0.1127, 0.0991, 0.1326,\n",
       "          0.1716, 0.0322],\n",
       "         [0.1201, 0.1655, 0.1525, 0.1724, 0.0732, 0.0437, 0.1525, 0.1039,\n",
       "          0.1024, 0.0334],\n",
       "         [0.0461, 0.0875, 0.0990, 0.1180, 0.1302, 0.0747, 0.1220, 0.0638,\n",
       "          0.0611, 0.0417],\n",
       "         [0.1101, 0.0826, 0.1005, 0.0683, 0.0737, 0.0638, 0.1709, 0.0620,\n",
       "          0.0684, 0.0599],\n",
       "         [0.0908, 0.0260, 0.1417, 0.0956, 0.0641, 0.0603, 0.3032, 0.0507,\n",
       "          0.0173, 0.1695],\n",
       "         [0.0947, 0.1529, 0.1935, 0.1187, 0.1045, 0.1588, 0.1972, 0.1068,\n",
       "          0.0481, 0.0452],\n",
       "         [0.0511, 0.1525, 0.1084, 0.1059, 0.1080, 0.1822, 0.0632, 0.1216,\n",
       "          0.0645, 0.0613]],\n",
       "\n",
       "        [[0.2047, 0.1958, 0.2242, 0.0908, 0.2572, 0.2169, 0.1104, 0.2889,\n",
       "          0.1133, 0.0548],\n",
       "         [0.1948, 0.2084, 0.2394, 0.2544, 0.2504, 0.1452, 0.0856, 0.2304,\n",
       "          0.2749, 0.0835],\n",
       "         [0.0492, 0.1977, 0.2460, 0.2693, 0.2182, 0.1163, 0.1198, 0.1999,\n",
       "          0.2339, 0.2313],\n",
       "         [0.1223, 0.1896, 0.2957, 0.2066, 0.0519, 0.1110, 0.1101, 0.1650,\n",
       "          0.2266, 0.0553],\n",
       "         [0.2938, 0.2490, 0.1222, 0.1593, 0.1279, 0.0649, 0.1923, 0.1206,\n",
       "          0.1316, 0.0347],\n",
       "         [0.0497, 0.0859, 0.1091, 0.1274, 0.1691, 0.0770, 0.1249, 0.0760,\n",
       "          0.0642, 0.0625],\n",
       "         [0.2171, 0.1715, 0.1098, 0.0897, 0.1015, 0.1720, 0.1743, 0.0691,\n",
       "          0.0884, 0.0713],\n",
       "         [0.1179, 0.0314, 0.1196, 0.1263, 0.2332, 0.1608, 0.3366, 0.2254,\n",
       "          0.2687, 0.2254],\n",
       "         [0.1284, 0.1755, 0.2025, 0.1788, 0.2256, 0.1603, 0.3666, 0.1101,\n",
       "          0.0919, 0.0383],\n",
       "         [0.0727, 0.1550, 0.1301, 0.1243, 0.1087, 0.2130, 0.0635, 0.1319,\n",
       "          0.0686, 0.0617]]], grad_fn=<DivBackward0>)"
      ]
     },
     "execution_count": 19,
     "metadata": {},
     "output_type": "execute_result"
    }
   ],
   "source": [
    "vox_preds"
   ]
  },
  {
   "cell_type": "code",
   "execution_count": 24,
   "id": "a122ad8d",
   "metadata": {},
   "outputs": [],
   "source": [
    "panel = volume.get_detectors()[0].panels[0]"
   ]
  },
  {
   "cell_type": "code",
   "execution_count": 25,
   "id": "36127c5d",
   "metadata": {},
   "outputs": [
    {
     "data": {
      "text/plain": [
       "tensor([[[[ 1.6354e-02,  1.4231e-02],\n",
       "          [ 1.2091e-03, -1.7837e-03],\n",
       "          [ 5.1992e-03, -1.2129e-03],\n",
       "          ...,\n",
       "          [-2.7318e-03,  1.6537e-03],\n",
       "          [-5.3292e-03,  9.9953e-04],\n",
       "          [ 6.1992e-04,  2.2586e-04]],\n",
       "\n",
       "         [[ 1.7347e-03,  3.0458e-03],\n",
       "          [ 8.2802e-03, -1.1799e-03],\n",
       "          [ 1.1169e-03, -2.4926e-03],\n",
       "          ...,\n",
       "          [-7.6037e-04,  5.9831e-05],\n",
       "          [ 1.3754e-03,  3.3602e-03],\n",
       "          [ 8.6078e-03,  7.4375e-03]],\n",
       "\n",
       "         [[ 9.1028e-04,  4.6942e-04],\n",
       "          [-6.7401e-04,  5.1133e-04],\n",
       "          [-9.0630e-05, -4.3919e-05],\n",
       "          ...,\n",
       "          [ 1.8743e-06,  2.0485e-04],\n",
       "          [ 1.2565e-02,  8.7245e-03],\n",
       "          [-1.2593e-03, -2.3352e-04]],\n",
       "\n",
       "         ...,\n",
       "\n",
       "         [[-3.5453e-03,  2.1603e-02],\n",
       "          [ 5.6408e-05, -6.6869e-04],\n",
       "          [-1.0252e-03, -1.4837e-03],\n",
       "          ...,\n",
       "          [ 3.5047e-04,  3.7442e-04],\n",
       "          [ 8.8953e-04, -1.3427e-04],\n",
       "          [-1.1633e-05, -2.3482e-03]],\n",
       "\n",
       "         [[-5.8336e-03,  2.7334e-02],\n",
       "          [ 9.5161e-04,  9.9807e-04],\n",
       "          [ 1.3914e-03,  9.4443e-04],\n",
       "          ...,\n",
       "          [-3.3250e-03, -1.8010e-03],\n",
       "          [ 2.3238e-03, -8.2630e-04],\n",
       "          [ 1.4420e-04, -6.9322e-05]],\n",
       "\n",
       "         [[ 2.5328e-02, -2.2363e-04],\n",
       "          [-1.4016e-02,  6.5893e-03],\n",
       "          [ 2.8329e-03,  5.3795e-03],\n",
       "          ...,\n",
       "          [ 2.2897e-02, -2.5975e-03],\n",
       "          [ 7.6341e-05, -1.3941e-04],\n",
       "          [-1.1879e-03, -2.7258e-05]]],\n",
       "\n",
       "\n",
       "        [[[ 4.0708e-03,  2.3336e-02],\n",
       "          [-2.2605e-05, -2.8620e-05],\n",
       "          [ 1.7597e-04,  3.3178e-04],\n",
       "          ...,\n",
       "          [-3.3744e-03,  1.1230e-03],\n",
       "          [-1.1264e-02,  1.9857e-03],\n",
       "          [ 3.5144e-04,  1.3185e-04]],\n",
       "\n",
       "         [[ 7.2311e-04,  2.9664e-03],\n",
       "          [ 8.4081e-03,  3.4780e-03],\n",
       "          [ 2.9111e-03,  7.5904e-04],\n",
       "          ...,\n",
       "          [-1.4951e-03,  2.2827e-03],\n",
       "          [-1.5344e-03,  3.6215e-03],\n",
       "          [ 2.7345e-03,  1.7966e-03]],\n",
       "\n",
       "         [[ 2.5884e-04,  3.2069e-04],\n",
       "          [-7.9680e-04,  4.7984e-04],\n",
       "          [-1.0549e-04, -3.3364e-05],\n",
       "          ...,\n",
       "          [-6.2469e-04, -2.8121e-04],\n",
       "          [ 1.2401e-02,  1.9904e-02],\n",
       "          [ 1.3791e-03,  4.9212e-03]],\n",
       "\n",
       "         ...,\n",
       "\n",
       "         [[-3.4080e-03,  3.7521e-03],\n",
       "          [ 1.8598e-03,  4.8960e-03],\n",
       "          [ 3.1384e-04,  4.0672e-03],\n",
       "          ...,\n",
       "          [ 5.3827e-07,  1.3377e-05],\n",
       "          [-1.2604e-04,  2.4075e-04],\n",
       "          [ 3.6508e-05,  2.4728e-07]],\n",
       "\n",
       "         [[-4.5763e-03,  4.0529e-03],\n",
       "          [ 1.1737e-03,  1.7805e-03],\n",
       "          [ 9.6856e-04,  1.8622e-03],\n",
       "          ...,\n",
       "          [ 7.3980e-04,  8.7606e-03],\n",
       "          [-4.5419e-05,  9.3151e-05],\n",
       "          [ 1.0461e-03,  1.6430e-03]],\n",
       "\n",
       "         [[ 5.2655e-04,  1.2713e-04],\n",
       "          [-1.2744e-02, -9.5956e-03],\n",
       "          [ 1.4049e-02,  1.1603e-02],\n",
       "          ...,\n",
       "          [ 3.9731e-04,  4.6941e-04],\n",
       "          [ 1.2039e-04,  1.0473e-03],\n",
       "          [-2.8528e-03, -3.4950e-04]]],\n",
       "\n",
       "\n",
       "        [[[ 4.4533e-03,  2.2273e-02],\n",
       "          [ 1.0461e-04,  2.1458e-05],\n",
       "          [ 4.0011e-04,  3.6349e-04],\n",
       "          ...,\n",
       "          [-5.5735e-03,  3.6757e-03],\n",
       "          [-6.9393e-03,  7.2852e-03],\n",
       "          [ 5.5354e-04,  7.6075e-04]],\n",
       "\n",
       "         [[ 4.1247e-04,  3.0103e-03],\n",
       "          [ 9.5667e-03,  2.3417e-03],\n",
       "          [ 1.5369e-02,  1.6618e-03],\n",
       "          ...,\n",
       "          [-9.1241e-04,  2.9982e-03],\n",
       "          [-5.1256e-04,  1.3178e-02],\n",
       "          [-1.3281e-03, -1.3018e-03]],\n",
       "\n",
       "         [[ 1.7439e-04,  2.8123e-04],\n",
       "          [-1.0527e-03,  1.0753e-03],\n",
       "          [-1.1077e-04, -3.5212e-05],\n",
       "          ...,\n",
       "          [-2.6439e-03, -3.4450e-04],\n",
       "          [ 4.2725e-03,  2.2945e-02],\n",
       "          [ 4.1513e-03,  2.4860e-02]],\n",
       "\n",
       "         ...,\n",
       "\n",
       "         [[-3.0125e-03,  6.1696e-03],\n",
       "          [ 5.4980e-05,  1.0663e-04],\n",
       "          [-3.5104e-03,  1.1251e-02],\n",
       "          ...,\n",
       "          [ 1.0877e-07,  5.1647e-07],\n",
       "          [ 2.2878e-04,  7.9703e-05],\n",
       "          [ 4.1350e-05,  1.6061e-07]],\n",
       "\n",
       "         [[-3.4552e-03,  5.7600e-03],\n",
       "          [ 2.3898e-03,  1.1298e-02],\n",
       "          [ 9.3118e-04,  1.2300e-02],\n",
       "          ...,\n",
       "          [ 4.0645e-05,  3.9112e-03],\n",
       "          [ 8.8102e-05,  1.1690e-05],\n",
       "          [ 3.1149e-03,  7.1200e-04]],\n",
       "\n",
       "         [[-2.4120e-04,  7.8775e-04],\n",
       "          [-4.4386e-04,  2.7847e-03],\n",
       "          [ 2.5471e-02,  3.3603e-03],\n",
       "          ...,\n",
       "          [ 3.2647e-06, -3.0486e-05],\n",
       "          [ 4.2622e-07, -3.1078e-05],\n",
       "          [-2.7674e-03,  2.4085e-04]]],\n",
       "\n",
       "\n",
       "        [[[ 1.6194e-02,  1.0058e-02],\n",
       "          [ 1.0231e-02,  3.0137e-03],\n",
       "          [ 8.0081e-03, -4.1023e-04],\n",
       "          ...,\n",
       "          [ 1.4647e-02,  9.9980e-02],\n",
       "          [ 4.8774e-04,  2.2163e-03],\n",
       "          [ 5.1041e-04,  1.1778e-03]],\n",
       "\n",
       "         [[ 1.6428e-03,  3.6251e-03],\n",
       "          [ 5.0611e-03,  3.8539e-05],\n",
       "          [ 1.0984e-02,  7.8847e-04],\n",
       "          ...,\n",
       "          [-7.2071e-03,  8.3598e-02],\n",
       "          [ 9.4174e-03,  3.8655e-02],\n",
       "          [-1.8053e-03, -1.4820e-03]],\n",
       "\n",
       "         [[ 6.1759e-04, -5.1491e-04],\n",
       "          [-2.1468e-04,  3.9988e-03],\n",
       "          [ 7.0184e-03,  1.1953e-03],\n",
       "          ...,\n",
       "          [-6.2401e-03,  3.8231e-02],\n",
       "          [ 4.1069e-03,  3.0749e-02],\n",
       "          [ 2.2770e-02,  6.9790e-02]],\n",
       "\n",
       "         ...,\n",
       "\n",
       "         [[-3.2406e-03,  6.8732e-03],\n",
       "          [ 3.5010e-05,  4.9706e-05],\n",
       "          [-1.1319e-02,  2.3242e-02],\n",
       "          ...,\n",
       "          [-8.5431e-08, -1.5123e-04],\n",
       "          [ 3.0160e-04, -8.3604e-05],\n",
       "          [ 1.5471e-04,  2.5236e-03]],\n",
       "\n",
       "         [[-3.5588e-03,  6.6059e-03],\n",
       "          [ 4.3153e-03,  2.6831e-02],\n",
       "          [ 1.1660e-04,  4.0558e-02],\n",
       "          ...,\n",
       "          [ 2.3332e-03,  2.2688e-02],\n",
       "          [ 1.0012e-04,  8.8624e-06],\n",
       "          [ 1.3072e-03, -6.9332e-04]],\n",
       "\n",
       "         [[-3.8229e-04,  1.4073e-03],\n",
       "          [-5.0951e-04,  4.6963e-03],\n",
       "          [ 6.5914e-03,  1.1713e-03],\n",
       "          ...,\n",
       "          [ 3.1815e-04,  3.7075e-04],\n",
       "          [ 4.9704e-07, -3.6624e-05],\n",
       "          [-2.6777e-04, -4.8773e-04]]],\n",
       "\n",
       "\n",
       "        [[[-8.6438e-03, -1.9384e-03],\n",
       "          [ 1.3231e-02, -9.4128e-03],\n",
       "          [ 1.4910e-02, -2.5794e-03],\n",
       "          ...,\n",
       "          [ 2.5196e-03,  1.2857e-02],\n",
       "          [ 1.2232e-03,  4.1570e-03],\n",
       "          [ 4.8382e-04,  2.6798e-03]],\n",
       "\n",
       "         [[ 1.7281e-02,  5.0606e-03],\n",
       "          [-1.1245e-02, -1.0403e-03],\n",
       "          [-1.0706e-03,  9.9450e-05],\n",
       "          ...,\n",
       "          [ 1.3581e-03,  1.6546e-02],\n",
       "          [ 1.8605e-02,  3.3371e-02],\n",
       "          [-1.9008e-03, -1.0322e-03]],\n",
       "\n",
       "         [[ 1.9782e-03, -4.4050e-04],\n",
       "          [ 1.0390e-02,  3.6357e-03],\n",
       "          [ 3.1091e-04,  1.3865e-03],\n",
       "          ...,\n",
       "          [-2.6970e-03,  1.7047e-02],\n",
       "          [ 1.3587e-02,  2.5614e-02],\n",
       "          [ 1.1339e-02,  2.7692e-02]],\n",
       "\n",
       "         ...,\n",
       "\n",
       "         [[-3.7270e-03,  6.3225e-03],\n",
       "          [ 1.0155e-04,  3.2134e-04],\n",
       "          [-2.1704e-03,  9.7404e-03],\n",
       "          ...,\n",
       "          [ 3.7298e-04,  3.4508e-03],\n",
       "          [ 3.9999e-04, -7.6354e-05],\n",
       "          [ 1.4001e-03,  2.4110e-02]],\n",
       "\n",
       "         [[-4.2672e-03,  1.0282e-02],\n",
       "          [-8.6585e-03,  2.8009e-02],\n",
       "          [-1.3717e-02,  2.7225e-02],\n",
       "          ...,\n",
       "          [-8.3388e-03, -2.7145e-03],\n",
       "          [ 6.6989e-02, -2.8310e-04],\n",
       "          [ 7.0640e-04,  1.0177e-03]],\n",
       "\n",
       "         [[-4.0005e-04,  6.1189e-03],\n",
       "          [-1.0343e-03,  3.9843e-03],\n",
       "          [ 2.8162e-03,  9.5704e-04],\n",
       "          ...,\n",
       "          [-9.7893e-04, -3.3118e-03],\n",
       "          [ 2.8716e-04, -9.8572e-04],\n",
       "          [ 6.1123e-05, -5.7609e-04]]],\n",
       "\n",
       "\n",
       "        [[[-1.8288e-02, -1.8654e-03],\n",
       "          [ 6.4955e-03, -4.0542e-03],\n",
       "          [ 5.5705e-03, -1.5861e-03],\n",
       "          ...,\n",
       "          [ 7.3846e-03,  3.3975e-02],\n",
       "          [ 6.7011e-03,  2.1611e-02],\n",
       "          [ 2.5087e-03,  2.7684e-03]],\n",
       "\n",
       "         [[-3.4185e-03,  2.5469e-03],\n",
       "          [-1.7469e-02, -8.7754e-04],\n",
       "          [ 1.3315e-03,  1.4108e-03],\n",
       "          ...,\n",
       "          [ 1.9272e-03,  1.1190e-02],\n",
       "          [ 1.3701e-02,  2.0102e-02],\n",
       "          [-8.7639e-04,  1.5974e-03]],\n",
       "\n",
       "         [[ 1.2606e-03,  2.5804e-04],\n",
       "          [-5.4758e-03,  8.8756e-04],\n",
       "          [ 5.0530e-04,  2.5645e-03],\n",
       "          ...,\n",
       "          [-3.0303e-04,  7.3462e-03],\n",
       "          [ 4.9636e-03,  9.5019e-03],\n",
       "          [ 6.6309e-03,  1.2256e-02]],\n",
       "\n",
       "         ...,\n",
       "\n",
       "         [[-7.0699e-03,  2.9846e-02],\n",
       "          [ 5.0043e-05,  2.1628e-04],\n",
       "          [-3.8027e-04,  2.1444e-04],\n",
       "          ...,\n",
       "          [ 1.0582e-02,  4.6388e-02],\n",
       "          [ 9.0152e-03,  7.1743e-04],\n",
       "          [ 2.4069e-03,  2.3997e-02]],\n",
       "\n",
       "         [[-8.2531e-03,  5.4070e-02],\n",
       "          [-1.5546e-02,  4.2454e-02],\n",
       "          [-1.8716e-02,  2.1190e-02],\n",
       "          ...,\n",
       "          [-7.1829e-03, -2.8928e-03],\n",
       "          [ 3.5433e-04, -1.2328e-03],\n",
       "          [ 8.0847e-04,  2.9219e-03]],\n",
       "\n",
       "         [[ 6.5694e-04,  5.1150e-03],\n",
       "          [-6.3397e-04,  3.9508e-03],\n",
       "          [ 5.1746e-03,  1.9391e-03],\n",
       "          ...,\n",
       "          [ 7.8974e-04, -3.9466e-03],\n",
       "          [ 4.6123e-04, -1.3098e-03],\n",
       "          [ 1.5150e-04, -4.8573e-04]]]])"
      ]
     },
     "execution_count": 25,
     "metadata": {},
     "output_type": "execute_result"
    }
   ],
   "source": [
    "jacobian(vox_preds, panel.xy_span)"
   ]
  },
  {
   "cell_type": "code",
   "execution_count": 20,
   "id": "28ddcb30",
   "metadata": {},
   "outputs": [],
   "source": [
    "frac = 12/600"
   ]
  },
  {
   "cell_type": "code",
   "execution_count": 94,
   "id": "ed340338",
   "metadata": {},
   "outputs": [],
   "source": [
    "flat_preds = vox_preds.view(-1)"
   ]
  },
  {
   "cell_type": "code",
   "execution_count": 95,
   "id": "5db32909",
   "metadata": {},
   "outputs": [],
   "source": [
    "cut = flat_preds.kthvalue(1+round(frac*(flat_preds.numel()-1))).values"
   ]
  },
  {
   "cell_type": "code",
   "execution_count": 96,
   "id": "cf44646e",
   "metadata": {},
   "outputs": [
    {
     "data": {
      "text/plain": [
       "tensor(0.0046, grad_fn=<KthvalueBackward0>)"
      ]
     },
     "execution_count": 96,
     "metadata": {},
     "output_type": "execute_result"
    }
   ],
   "source": [
    "cut"
   ]
  },
  {
   "cell_type": "code",
   "execution_count": 97,
   "id": "21b06463",
   "metadata": {},
   "outputs": [
    {
     "data": {
      "text/plain": [
       "tensor([ 4.9704e-07, -3.6624e-05])"
      ]
     },
     "execution_count": 97,
     "metadata": {},
     "output_type": "execute_result"
    }
   ],
   "source": [
    "jacobian(cut, panel.xy_span)"
   ]
  },
  {
   "cell_type": "code",
   "execution_count": 98,
   "id": "e8c8165e",
   "metadata": {},
   "outputs": [],
   "source": [
    "a = flat_preds[flat_preds>=cut].mean()"
   ]
  },
  {
   "cell_type": "code",
   "execution_count": 99,
   "id": "272b7fbe",
   "metadata": {},
   "outputs": [
    {
     "ename": "AttributeError",
     "evalue": "'NoneType' object has no attribute 'reshape'",
     "output_type": "error",
     "traceback": [
      "\u001b[0;31m---------------------------------------------------------------------------\u001b[0m",
      "\u001b[0;31mAttributeError\u001b[0m                            Traceback (most recent call last)",
      "\u001b[0;32m<ipython-input-99-db77e6baae92>\u001b[0m in \u001b[0;36m<module>\u001b[0;34m\u001b[0m\n\u001b[0;32m----> 1\u001b[0;31m \u001b[0mjacobian\u001b[0m\u001b[0;34m(\u001b[0m\u001b[0ma\u001b[0m\u001b[0;34m,\u001b[0m \u001b[0mcut\u001b[0m\u001b[0;34m)\u001b[0m\u001b[0;34m\u001b[0m\u001b[0;34m\u001b[0m\u001b[0m\n\u001b[0m",
      "\u001b[0;32m~/cernbox/mode_muon_tomography/tomopt/utils.py\u001b[0m in \u001b[0;36mjacobian\u001b[0;34m(y, x, create_graph, allow_unused)\u001b[0m\n\u001b[1;32m     25\u001b[0m         \u001b[0;32mreturn\u001b[0m \u001b[0mtorch\u001b[0m\u001b[0;34m.\u001b[0m\u001b[0mautograd\u001b[0m\u001b[0;34m.\u001b[0m\u001b[0mgrad\u001b[0m\u001b[0;34m(\u001b[0m\u001b[0mflat_y\u001b[0m\u001b[0;34m,\u001b[0m \u001b[0mx\u001b[0m\u001b[0;34m,\u001b[0m \u001b[0mv\u001b[0m\u001b[0;34m,\u001b[0m \u001b[0mretain_graph\u001b[0m\u001b[0;34m=\u001b[0m\u001b[0;32mTrue\u001b[0m\u001b[0;34m,\u001b[0m \u001b[0mcreate_graph\u001b[0m\u001b[0;34m=\u001b[0m\u001b[0mcreate_graph\u001b[0m\u001b[0;34m,\u001b[0m \u001b[0mallow_unused\u001b[0m\u001b[0;34m=\u001b[0m\u001b[0mallow_unused\u001b[0m\u001b[0;34m)\u001b[0m\u001b[0;34m[\u001b[0m\u001b[0;36m0\u001b[0m\u001b[0;34m]\u001b[0m\u001b[0;34m.\u001b[0m\u001b[0mreshape\u001b[0m\u001b[0;34m(\u001b[0m\u001b[0mx\u001b[0m\u001b[0;34m.\u001b[0m\u001b[0mshape\u001b[0m\u001b[0;34m)\u001b[0m\u001b[0;34m\u001b[0m\u001b[0;34m\u001b[0m\u001b[0m\n\u001b[1;32m     26\u001b[0m \u001b[0;34m\u001b[0m\u001b[0m\n\u001b[0;32m---> 27\u001b[0;31m     \u001b[0;32mreturn\u001b[0m \u001b[0mvmap\u001b[0m\u001b[0;34m(\u001b[0m\u001b[0mget_vjp\u001b[0m\u001b[0;34m)\u001b[0m\u001b[0;34m(\u001b[0m\u001b[0mtorch\u001b[0m\u001b[0;34m.\u001b[0m\u001b[0meye\u001b[0m\u001b[0;34m(\u001b[0m\u001b[0mlen\u001b[0m\u001b[0;34m(\u001b[0m\u001b[0mflat_y\u001b[0m\u001b[0;34m)\u001b[0m\u001b[0;34m,\u001b[0m \u001b[0mdevice\u001b[0m\u001b[0;34m=\u001b[0m\u001b[0my\u001b[0m\u001b[0;34m.\u001b[0m\u001b[0mdevice\u001b[0m\u001b[0;34m)\u001b[0m\u001b[0;34m)\u001b[0m\u001b[0;34m.\u001b[0m\u001b[0mreshape\u001b[0m\u001b[0;34m(\u001b[0m\u001b[0my\u001b[0m\u001b[0;34m.\u001b[0m\u001b[0mshape\u001b[0m \u001b[0;34m+\u001b[0m \u001b[0mx\u001b[0m\u001b[0;34m.\u001b[0m\u001b[0mshape\u001b[0m\u001b[0;34m)\u001b[0m\u001b[0;34m\u001b[0m\u001b[0;34m\u001b[0m\u001b[0m\n\u001b[0m\u001b[1;32m     28\u001b[0m \u001b[0;34m\u001b[0m\u001b[0m\n\u001b[1;32m     29\u001b[0m \u001b[0;34m\u001b[0m\u001b[0m\n",
      "\u001b[0;32m~/anaconda3/envs/tomopt/lib/python3.8/site-packages/torch/_vmap_internals.py\u001b[0m in \u001b[0;36mwrapped\u001b[0;34m(*args)\u001b[0m\n\u001b[1;32m    261\u001b[0m         \u001b[0;32mtry\u001b[0m\u001b[0;34m:\u001b[0m\u001b[0;34m\u001b[0m\u001b[0;34m\u001b[0m\u001b[0m\n\u001b[1;32m    262\u001b[0m             \u001b[0mbatched_inputs\u001b[0m\u001b[0;34m,\u001b[0m \u001b[0mbatch_size\u001b[0m \u001b[0;34m=\u001b[0m \u001b[0m_create_batched_inputs\u001b[0m\u001b[0;34m(\u001b[0m\u001b[0min_dims\u001b[0m\u001b[0;34m,\u001b[0m \u001b[0margs\u001b[0m\u001b[0;34m,\u001b[0m \u001b[0mvmap_level\u001b[0m\u001b[0;34m,\u001b[0m \u001b[0mfunc\u001b[0m\u001b[0;34m)\u001b[0m\u001b[0;34m\u001b[0m\u001b[0;34m\u001b[0m\u001b[0m\n\u001b[0;32m--> 263\u001b[0;31m             \u001b[0mbatched_outputs\u001b[0m \u001b[0;34m=\u001b[0m \u001b[0mfunc\u001b[0m\u001b[0;34m(\u001b[0m\u001b[0;34m*\u001b[0m\u001b[0mbatched_inputs\u001b[0m\u001b[0;34m)\u001b[0m\u001b[0;34m\u001b[0m\u001b[0;34m\u001b[0m\u001b[0m\n\u001b[0m\u001b[1;32m    264\u001b[0m             \u001b[0m_validate_outputs\u001b[0m\u001b[0;34m(\u001b[0m\u001b[0mbatched_outputs\u001b[0m\u001b[0;34m,\u001b[0m \u001b[0mfunc\u001b[0m\u001b[0;34m)\u001b[0m\u001b[0;34m\u001b[0m\u001b[0;34m\u001b[0m\u001b[0m\n\u001b[1;32m    265\u001b[0m             \u001b[0;32mreturn\u001b[0m \u001b[0m_unwrap_batched\u001b[0m\u001b[0;34m(\u001b[0m\u001b[0mbatched_outputs\u001b[0m\u001b[0;34m,\u001b[0m \u001b[0mout_dims\u001b[0m\u001b[0;34m,\u001b[0m \u001b[0mvmap_level\u001b[0m\u001b[0;34m,\u001b[0m \u001b[0mbatch_size\u001b[0m\u001b[0;34m,\u001b[0m \u001b[0mfunc\u001b[0m\u001b[0;34m)\u001b[0m\u001b[0;34m\u001b[0m\u001b[0;34m\u001b[0m\u001b[0m\n",
      "\u001b[0;32m~/cernbox/mode_muon_tomography/tomopt/utils.py\u001b[0m in \u001b[0;36mget_vjp\u001b[0;34m(v)\u001b[0m\n\u001b[1;32m     23\u001b[0m \u001b[0;34m\u001b[0m\u001b[0m\n\u001b[1;32m     24\u001b[0m     \u001b[0;32mdef\u001b[0m \u001b[0mget_vjp\u001b[0m\u001b[0;34m(\u001b[0m\u001b[0mv\u001b[0m\u001b[0;34m:\u001b[0m \u001b[0mTensor\u001b[0m\u001b[0;34m)\u001b[0m \u001b[0;34m->\u001b[0m \u001b[0mTensor\u001b[0m\u001b[0;34m:\u001b[0m\u001b[0;34m\u001b[0m\u001b[0;34m\u001b[0m\u001b[0m\n\u001b[0;32m---> 25\u001b[0;31m         \u001b[0;32mreturn\u001b[0m \u001b[0mtorch\u001b[0m\u001b[0;34m.\u001b[0m\u001b[0mautograd\u001b[0m\u001b[0;34m.\u001b[0m\u001b[0mgrad\u001b[0m\u001b[0;34m(\u001b[0m\u001b[0mflat_y\u001b[0m\u001b[0;34m,\u001b[0m \u001b[0mx\u001b[0m\u001b[0;34m,\u001b[0m \u001b[0mv\u001b[0m\u001b[0;34m,\u001b[0m \u001b[0mretain_graph\u001b[0m\u001b[0;34m=\u001b[0m\u001b[0;32mTrue\u001b[0m\u001b[0;34m,\u001b[0m \u001b[0mcreate_graph\u001b[0m\u001b[0;34m=\u001b[0m\u001b[0mcreate_graph\u001b[0m\u001b[0;34m,\u001b[0m \u001b[0mallow_unused\u001b[0m\u001b[0;34m=\u001b[0m\u001b[0mallow_unused\u001b[0m\u001b[0;34m)\u001b[0m\u001b[0;34m[\u001b[0m\u001b[0;36m0\u001b[0m\u001b[0;34m]\u001b[0m\u001b[0;34m.\u001b[0m\u001b[0mreshape\u001b[0m\u001b[0;34m(\u001b[0m\u001b[0mx\u001b[0m\u001b[0;34m.\u001b[0m\u001b[0mshape\u001b[0m\u001b[0;34m)\u001b[0m\u001b[0;34m\u001b[0m\u001b[0;34m\u001b[0m\u001b[0m\n\u001b[0m\u001b[1;32m     26\u001b[0m \u001b[0;34m\u001b[0m\u001b[0m\n\u001b[1;32m     27\u001b[0m     \u001b[0;32mreturn\u001b[0m \u001b[0mvmap\u001b[0m\u001b[0;34m(\u001b[0m\u001b[0mget_vjp\u001b[0m\u001b[0;34m)\u001b[0m\u001b[0;34m(\u001b[0m\u001b[0mtorch\u001b[0m\u001b[0;34m.\u001b[0m\u001b[0meye\u001b[0m\u001b[0;34m(\u001b[0m\u001b[0mlen\u001b[0m\u001b[0;34m(\u001b[0m\u001b[0mflat_y\u001b[0m\u001b[0;34m)\u001b[0m\u001b[0;34m,\u001b[0m \u001b[0mdevice\u001b[0m\u001b[0;34m=\u001b[0m\u001b[0my\u001b[0m\u001b[0;34m.\u001b[0m\u001b[0mdevice\u001b[0m\u001b[0;34m)\u001b[0m\u001b[0;34m)\u001b[0m\u001b[0;34m.\u001b[0m\u001b[0mreshape\u001b[0m\u001b[0;34m(\u001b[0m\u001b[0my\u001b[0m\u001b[0;34m.\u001b[0m\u001b[0mshape\u001b[0m \u001b[0;34m+\u001b[0m \u001b[0mx\u001b[0m\u001b[0;34m.\u001b[0m\u001b[0mshape\u001b[0m\u001b[0;34m)\u001b[0m\u001b[0;34m\u001b[0m\u001b[0;34m\u001b[0m\u001b[0m\n",
      "\u001b[0;31mAttributeError\u001b[0m: 'NoneType' object has no attribute 'reshape'"
     ]
    }
   ],
   "source": [
    "jacobian(a, cut)"
   ]
  },
  {
   "cell_type": "code",
   "execution_count": 100,
   "id": "81e584b3",
   "metadata": {},
   "outputs": [
    {
     "data": {
      "text/plain": [
       "(tensor(0.0006, grad_fn=<MinBackward1>),\n",
       " tensor(0.4857, grad_fn=<MaxBackward1>))"
      ]
     },
     "execution_count": 100,
     "metadata": {},
     "output_type": "execute_result"
    }
   ],
   "source": [
    "vox_preds.min(), vox_preds.max()"
   ]
  },
  {
   "cell_type": "code",
   "execution_count": 101,
   "id": "2b9545c4",
   "metadata": {},
   "outputs": [
    {
     "data": {
      "text/plain": [
       "tensor([0.0023, 0.0041])"
      ]
     },
     "execution_count": 101,
     "metadata": {},
     "output_type": "execute_result"
    }
   ],
   "source": [
    "jacobian(a, panel.xy_span)"
   ]
  },
  {
   "cell_type": "code",
   "execution_count": 102,
   "id": "cd75d935",
   "metadata": {},
   "outputs": [
    {
     "data": {
      "text/plain": [
       "tensor(0.0046, grad_fn=<KthvalueBackward0>)"
      ]
     },
     "execution_count": 102,
     "metadata": {},
     "output_type": "execute_result"
    }
   ],
   "source": [
    "cut"
   ]
  },
  {
   "cell_type": "code",
   "execution_count": 137,
   "id": "5a89d266",
   "metadata": {},
   "outputs": [],
   "source": [
    "c = cut.detach()"
   ]
  },
  {
   "cell_type": "code",
   "execution_count": 138,
   "id": "67f20d54",
   "metadata": {},
   "outputs": [
    {
     "name": "stderr",
     "output_type": "stream",
     "text": [
      "/Users/giles/anaconda3/envs/tomopt/lib/python3.8/site-packages/torch/nn/functional.py:1806: UserWarning: nn.functional.sigmoid is deprecated. Use torch.sigmoid instead.\n",
      "  warnings.warn(\"nn.functional.sigmoid is deprecated. Use torch.sigmoid instead.\")\n",
      "/Users/giles/anaconda3/envs/tomopt/lib/python3.8/site-packages/torch/nn/functional.py:1806: UserWarning: nn.functional.sigmoid is deprecated. Use torch.sigmoid instead.\n",
      "  warnings.warn(\"nn.functional.sigmoid is deprecated. Use torch.sigmoid instead.\")\n"
     ]
    },
    {
     "data": {
      "text/plain": [
       "[<matplotlib.lines.Line2D at 0x7f839a4e19d0>]"
      ]
     },
     "execution_count": 138,
     "metadata": {},
     "output_type": "execute_result"
    },
    {
     "data": {
      "image/png": "[encoded data removed]",
      "text/plain": [
       "<Figure size 432x288 with 1 Axes>"
      ]
     },
     "metadata": {
      "needs_background": "light"
     },
     "output_type": "display_data"
    }
   ],
   "source": [
    "x = torch.linspace(0,0.5, 1000)\n",
    "plt.plot(x, F.sigmoid(1000*(x-c)))\n",
    "plt.plot(x, 1-F.sigmoid(1000*(x-c)))"
   ]
  },
  {
   "cell_type": "code",
   "execution_count": 139,
   "id": "6e351e15",
   "metadata": {},
   "outputs": [
    {
     "name": "stderr",
     "output_type": "stream",
     "text": [
      "/Users/giles/anaconda3/envs/tomopt/lib/python3.8/site-packages/torch/nn/functional.py:1806: UserWarning: nn.functional.sigmoid is deprecated. Use torch.sigmoid instead.\n",
      "  warnings.warn(\"nn.functional.sigmoid is deprecated. Use torch.sigmoid instead.\")\n"
     ]
    }
   ],
   "source": [
    "wb =  F.sigmoid(10000*(flat_preds-cut))\n",
    "ws =  1-wb"
   ]
  },
  {
   "cell_type": "code",
   "execution_count": 140,
   "id": "f6cac1e0",
   "metadata": {},
   "outputs": [],
   "source": [
    "bm = flat_preds>=cut"
   ]
  },
  {
   "cell_type": "code",
   "execution_count": 141,
   "id": "53a0515f",
   "metadata": {},
   "outputs": [
    {
     "data": {
      "text/plain": [
       "(tensor(0.0014, grad_fn=<MeanBackward0>),\n",
       " tensor(0.9986, grad_fn=<MeanBackward0>))"
      ]
     },
     "execution_count": 141,
     "metadata": {},
     "output_type": "execute_result"
    }
   ],
   "source": [
    "ws[bm].mean(), wb[bm].mean()"
   ]
  },
  {
   "cell_type": "code",
   "execution_count": 142,
   "id": "86f37121",
   "metadata": {},
   "outputs": [
    {
     "data": {
      "text/plain": [
       "(tensor(0.9413, grad_fn=<MeanBackward0>),\n",
       " tensor(0.0587, grad_fn=<MeanBackward0>))"
      ]
     },
     "execution_count": 142,
     "metadata": {},
     "output_type": "execute_result"
    }
   ],
   "source": [
    "ws[~bm].mean(), wb[~bm].mean()"
   ]
  },
  {
   "cell_type": "code",
   "execution_count": 143,
   "id": "c7d037dd",
   "metadata": {},
   "outputs": [],
   "source": [
    "a = (wb*flat_preds).sum()/wb.sum()"
   ]
  },
  {
   "cell_type": "code",
   "execution_count": 144,
   "id": "351ffd05",
   "metadata": {},
   "outputs": [
    {
     "data": {
      "text/plain": [
       "(tensor(0.1018, grad_fn=<DivBackward0>),\n",
       " tensor(0.1018, grad_fn=<MeanBackward0>))"
      ]
     },
     "execution_count": 144,
     "metadata": {},
     "output_type": "execute_result"
    }
   ],
   "source": [
    "a, flat_preds[flat_preds>=cut].mean()"
   ]
  },
  {
   "cell_type": "code",
   "execution_count": 145,
   "id": "c634fa4c",
   "metadata": {
    "scrolled": true
   },
   "outputs": [
    {
     "data": {
      "text/plain": [
       "tensor(1.5066)"
      ]
     },
     "execution_count": 145,
     "metadata": {},
     "output_type": "execute_result"
    }
   ],
   "source": [
    "jacobian(a, cut)"
   ]
  },
  {
   "cell_type": "code",
   "execution_count": 146,
   "id": "13c54779",
   "metadata": {},
   "outputs": [],
   "source": [
    "b = (ws*flat_preds).sum()/ws.sum()"
   ]
  },
  {
   "cell_type": "code",
   "execution_count": 147,
   "id": "ae9f9116",
   "metadata": {},
   "outputs": [
    {
     "data": {
      "text/plain": [
       "(tensor(0.0034, grad_fn=<DivBackward0>),\n",
       " tensor(0.0033, grad_fn=<MeanBackward0>))"
      ]
     },
     "execution_count": 147,
     "metadata": {},
     "output_type": "execute_result"
    }
   ],
   "source": [
    "b, flat_preds[flat_preds<cut].mean()"
   ]
  },
  {
   "cell_type": "code",
   "execution_count": 148,
   "id": "2298777b",
   "metadata": {
    "scrolled": true
   },
   "outputs": [
    {
     "data": {
      "text/plain": [
       "tensor(0.9105)"
      ]
     },
     "execution_count": 148,
     "metadata": {},
     "output_type": "execute_result"
    }
   ],
   "source": [
    "jacobian(b, cut)"
   ]
  },
  {
   "cell_type": "code",
   "execution_count": 149,
   "id": "758c4664",
   "metadata": {},
   "outputs": [],
   "source": [
    "r = 2*(a-b)/(a+b)"
   ]
  },
  {
   "cell_type": "code",
   "execution_count": 150,
   "id": "d6252b5e",
   "metadata": {},
   "outputs": [
    {
     "data": {
      "text/plain": [
       "tensor(-31.6978)"
      ]
     },
     "execution_count": 150,
     "metadata": {},
     "output_type": "execute_result"
    }
   ],
   "source": [
    "jacobian(r, cut)"
   ]
  },
  {
   "cell_type": "code",
   "execution_count": 151,
   "id": "2312f460",
   "metadata": {},
   "outputs": [
    {
     "data": {
      "text/plain": [
       "tensor([0.0019, 0.0049])"
      ]
     },
     "execution_count": 151,
     "metadata": {},
     "output_type": "execute_result"
    }
   ],
   "source": [
    "jacobian(r, panel.xy_span)"
   ]
  },
  {
   "cell_type": "code",
   "execution_count": 152,
   "id": "a75e017b",
   "metadata": {},
   "outputs": [
    {
     "data": {
      "text/plain": [
       "tensor(0.9874, grad_fn=<SigmoidBackward0>)"
      ]
     },
     "execution_count": 152,
     "metadata": {},
     "output_type": "execute_result"
    }
   ],
   "source": [
    "pred = F.sigmoid((r-1)*5);pred"
   ]
  },
  {
   "cell_type": "code",
   "execution_count": 153,
   "id": "4f3eec94",
   "metadata": {},
   "outputs": [
    {
     "data": {
      "text/plain": [
       "tensor(-1.9697)"
      ]
     },
     "execution_count": 153,
     "metadata": {},
     "output_type": "execute_result"
    }
   ],
   "source": [
    "jacobian(pred, cut)"
   ]
  },
  {
   "cell_type": "code",
   "execution_count": 154,
   "id": "e9ff3c70",
   "metadata": {},
   "outputs": [
    {
     "data": {
      "text/plain": [
       "tensor([0.0001, 0.0003])"
      ]
     },
     "execution_count": 154,
     "metadata": {},
     "output_type": "execute_result"
    }
   ],
   "source": [
    "jacobian(pred, panel.xy_span)"
   ]
  },
  {
   "cell_type": "code",
   "execution_count": 155,
   "id": "634ea884",
   "metadata": {},
   "outputs": [
    {
     "data": {
      "text/plain": [
       "tensor(0.0127, grad_fn=<BinaryCrossEntropyBackward0>)"
      ]
     },
     "execution_count": 155,
     "metadata": {},
     "output_type": "execute_result"
    }
   ],
   "source": [
    "loss = F.binary_cross_entropy(pred, torch.ones_like(pred)); loss"
   ]
  },
  {
   "cell_type": "code",
   "execution_count": 156,
   "id": "0d845b83",
   "metadata": {},
   "outputs": [
    {
     "data": {
      "text/plain": [
       "tensor(1.9948)"
      ]
     },
     "execution_count": 156,
     "metadata": {},
     "output_type": "execute_result"
    }
   ],
   "source": [
    "jacobian(loss, cut)"
   ]
  },
  {
   "cell_type": "code",
   "execution_count": 157,
   "id": "dea96fa9",
   "metadata": {},
   "outputs": [
    {
     "data": {
      "text/plain": [
       "tensor([-0.0001, -0.0003])"
      ]
     },
     "execution_count": 157,
     "metadata": {},
     "output_type": "execute_result"
    }
   ],
   "source": [
    "jacobian(loss, panel.xy_span)"
   ]
  },
  {
   "cell_type": "code",
   "execution_count": null,
   "id": "5560e5d8",
   "metadata": {},
   "outputs": [],
   "source": []
  }
 ],
 "metadata": {
  "kernelspec": {
   "display_name": "Python [conda env:tomopt]",
   "language": "python",
   "name": "conda-env-tomopt-py"
  },
  "language_info": {
   "codemirror_mode": {
    "name": "ipython",
    "version": 3
   },
   "file_extension": ".py",
   "mimetype": "text/x-python",
   "name": "python",
   "nbconvert_exporter": "python",
   "pygments_lexer": "ipython3",
   "version": "3.8.0"
  },
  "toc": {
   "base_numbering": 1,
   "nav_menu": {},
   "number_sections": true,
   "sideBar": true,
   "skip_h1_title": false,
   "title_cell": "Table of Contents",
   "title_sidebar": "Contents",
   "toc_cell": false,
   "toc_position": {},
   "toc_section_display": true,
   "toc_window_display": false
  }
 },
 "nbformat": 4,
 "nbformat_minor": 5
}
