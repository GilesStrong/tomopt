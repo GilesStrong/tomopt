{
 "cells": [
  {
   "cell_type": "code",
   "execution_count": 16,
   "metadata": {},
   "outputs": [],
   "source": [
    "%matplotlib inline\n",
    "%reload_ext autoreload\n",
    "%autoreload 2"
   ]
  },
  {
   "cell_type": "code",
   "execution_count": 17,
   "metadata": {},
   "outputs": [],
   "source": [
    "from tomopt.muon import *\n",
    "from tomopt.inference import *\n",
    "from tomopt.volume import *\n",
    "from tomopt.core import *\n",
    "\n",
    "import matplotlib.pyplot as plt\n",
    "import seaborn as sns\n",
    "from typing import *\n",
    "import numpy as np\n",
    "\n",
    "import torch\n",
    "from torch import Tensor, nn\n",
    "import torch.nn.functional as F"
   ]
  },
  {
   "cell_type": "markdown",
   "metadata": {},
   "source": [
    "# Basics"
   ]
  },
  {
   "cell_type": "code",
   "execution_count": 18,
   "metadata": {},
   "outputs": [],
   "source": [
    "def arb_rad_length(*,z:float, lw:Tensor, size:float) -> float:\n",
    "    rad_length = torch.ones(list((lw/size).long()))*9999999\n",
    "    if z >= 0.4 and z <= 0.5:\n",
    "        rad_length[:5,:5] = X0['beryllium']\n",
    "        rad_length[5:,5:] = X0['lead']\n",
    "    return rad_length"
   ]
  },
  {
   "cell_type": "code",
   "execution_count": 19,
   "metadata": {},
   "outputs": [],
   "source": [
    "def eff_cost(x:Tensor) -> Tensor:\n",
    "    return torch.expm1(3*F.relu(x))"
   ]
  },
  {
   "cell_type": "code",
   "execution_count": 20,
   "metadata": {},
   "outputs": [],
   "source": [
    "def res_cost(x:Tensor) -> Tensor:\n",
    "    return F.relu(x/100)**2"
   ]
  },
  {
   "cell_type": "code",
   "execution_count": 21,
   "metadata": {},
   "outputs": [],
   "source": [
    "def get_layers():\n",
    "    layers = []\n",
    "    lwh = Tensor([1,1,1])\n",
    "    size = 0.1\n",
    "    init_eff = 0.5\n",
    "    init_res = 10000\n",
    "    pos = 'above'\n",
    "    for z,d in zip(np.arange(lwh[2],0,-size), [1,1,0,0,0,0,0,0,1,1]):\n",
    "        if d:\n",
    "            layers.append(DetectorLayer(pos=pos, init_eff=init_eff, init_res=init_res,\n",
    "                                        lw=lwh[:2], z=z, size=size, eff_cost_func=eff_cost, res_cost_func=res_cost))\n",
    "        else:\n",
    "            pos = 'below'\n",
    "            layers.append(PassiveLayer(rad_length_func=arb_rad_length, lw=lwh[:2], z=z, size=size))\n",
    "\n",
    "    return nn.ModuleList(layers) "
   ]
  },
  {
   "cell_type": "code",
   "execution_count": 22,
   "metadata": {},
   "outputs": [],
   "source": [
    "from tomopt.optimisation import *\n",
    "from functools import partial"
   ]
  },
  {
   "cell_type": "code",
   "execution_count": 23,
   "metadata": {},
   "outputs": [],
   "source": [
    "volume = Volume(get_layers())"
   ]
  },
  {
   "cell_type": "code",
   "execution_count": 9,
   "metadata": {},
   "outputs": [],
   "source": [
    "wrapper = VolumeWrapper(volume=volume, res_opt=partial(torch.optim.SGD, lr=2e1), eff_opt=partial(torch.optim.SGD, lr=2e-5), loss_func=DetectorLoss(0.15))"
   ]
  },
  {
   "cell_type": "code",
   "execution_count": 10,
   "metadata": {},
   "outputs": [],
   "source": [
    "trn_passives = PassiveYielder([arb_rad_length])"
   ]
  },
  {
   "cell_type": "code",
   "execution_count": 11,
   "metadata": {},
   "outputs": [
    {
     "data": {
      "text/html": [],
      "text/plain": [
       "<IPython.core.display.HTML object>"
      ]
     },
     "metadata": {},
     "output_type": "display_data"
    }
   ],
   "source": [
    "preds = wrapper.predict(trn_passives, n_mu_per_volume=10000, mu_bs=100)"
   ]
  },
  {
   "cell_type": "code",
   "execution_count": 12,
   "metadata": {},
   "outputs": [
    {
     "data": {
      "text/plain": [
       "(0.005612, 0.3528)"
      ]
     },
     "execution_count": 12,
     "metadata": {},
     "output_type": "execute_result"
    }
   ],
   "source": [
    "X0['lead'],X0['beryllium']"
   ]
  },
  {
   "cell_type": "code",
   "execution_count": 13,
   "metadata": {},
   "outputs": [
    {
     "name": "stderr",
     "output_type": "stream",
     "text": [
      "/Users/giles/anaconda3/envs/tomopt/lib/python3.8/site-packages/seaborn/distributions.py:2557: FutureWarning: `distplot` is a deprecated function and will be removed in a future version. Please adapt your code to use either `displot` (a figure-level function with similar flexibility) or `histplot` (an axes-level function for histograms).\n",
      "  warnings.warn(msg, FutureWarning)\n"
     ]
    },
    {
     "data": {
      "text/plain": [
       "(0.0, 0.5)"
      ]
     },
     "execution_count": 13,
     "metadata": {},
     "output_type": "execute_result"
    },
    {
     "data": {
      "image/png": "[encoded data removed]",
      "text/plain": [
       "<Figure size 432x288 with 1 Axes>"
      ]
     },
     "metadata": {
      "needs_background": "light"
     },
     "output_type": "display_data"
    }
   ],
   "source": [
    "p = preds[0][0][2].flatten()\n",
    "sns.distplot(p)\n",
    "plt.xlim(0,0.5)"
   ]
  },
  {
   "cell_type": "code",
   "execution_count": 14,
   "metadata": {},
   "outputs": [
    {
     "name": "stderr",
     "output_type": "stream",
     "text": [
      "/Users/giles/anaconda3/envs/tomopt/lib/python3.8/site-packages/seaborn/distributions.py:2557: FutureWarning: `distplot` is a deprecated function and will be removed in a future version. Please adapt your code to use either `displot` (a figure-level function with similar flexibility) or `histplot` (an axes-level function for histograms).\n",
      "  warnings.warn(msg, FutureWarning)\n"
     ]
    },
    {
     "data": {
      "text/plain": [
       "<AxesSubplot:ylabel='Density'>"
      ]
     },
     "execution_count": 14,
     "metadata": {},
     "output_type": "execute_result"
    },
    {
     "data": {
      "image/png": "[encoded data removed]",
      "text/plain": [
       "<Figure size 432x288 with 1 Axes>"
      ]
     },
     "metadata": {
      "needs_background": "light"
     },
     "output_type": "display_data"
    }
   ],
   "source": [
    "p = preds[0][0].flatten()\n",
    "sns.distplot(p)"
   ]
  },
  {
   "cell_type": "code",
   "execution_count": 24,
   "metadata": {},
   "outputs": [],
   "source": [
    "mu = MuonBatch(generate_batch(100), init_z=1)\n",
    "volume(mu)\n",
    "scatters = ScatterBatch(mu, volume)\n",
    "inferer = X0Inferer(scatters)"
   ]
  },
  {
   "cell_type": "code",
   "execution_count": 25,
   "metadata": {},
   "outputs": [],
   "source": [
    "preds, uncs = inferer.x0_from_dtheta()"
   ]
  },
  {
   "cell_type": "code",
   "execution_count": 26,
   "metadata": {},
   "outputs": [
    {
     "data": {
      "text/plain": [
       "tensor([8.0648e-02, 3.0640e-01, 2.5946e-02, 7.6874e-03, 9.4116e-02, 1.9404e-01,\n",
       "        4.7551e-03, 8.5744e-03, 1.1656e-01, 4.6164e-01, 3.5729e-02, 1.3613e-01,\n",
       "        1.0008e-01, 9.6505e-02, 3.3923e-01, 4.8100e-03, 1.2280e-01, 2.0822e-01,\n",
       "        2.7203e-02, 1.0167e-03, 9.3950e-02, 1.1965e-01, 2.8940e-02, 9.5273e-02,\n",
       "        7.5022e-02, 9.9886e-02, 6.0961e-02, 4.4116e-03, 2.8613e-02, 9.9866e-02,\n",
       "        3.9627e-03, 9.0307e-02, 8.8200e-02, 2.1891e-01, 3.9920e-01, 3.3139e-01,\n",
       "        8.7287e-02, 1.7295e-01, 1.2549e+00, 6.0269e-02, 2.4675e-01, 3.4449e-01,\n",
       "        4.2960e-02, 2.3803e-01, 9.5203e-01, 2.6386e-01, 2.0827e-01, 9.9112e-03,\n",
       "        7.4811e-02, 6.6982e-03, 6.2599e-03, 1.5280e-01, 3.3688e-01, 2.0962e-01],\n",
       "       grad_fn=<MulBackward0>)"
      ]
     },
     "execution_count": 26,
     "metadata": {},
     "output_type": "execute_result"
    }
   ],
   "source": [
    "preds"
   ]
  },
  {
   "cell_type": "code",
   "execution_count": 27,
   "metadata": {},
   "outputs": [
    {
     "name": "stderr",
     "output_type": "stream",
     "text": [
      "/Users/giles/anaconda3/envs/tomopt/lib/python3.8/site-packages/seaborn/distributions.py:2557: FutureWarning: `distplot` is a deprecated function and will be removed in a future version. Please adapt your code to use either `displot` (a figure-level function with similar flexibility) or `histplot` (an axes-level function for histograms).\n",
      "  warnings.warn(msg, FutureWarning)\n"
     ]
    },
    {
     "data": {
      "text/plain": [
       "<AxesSubplot:ylabel='Density'>"
      ]
     },
     "execution_count": 27,
     "metadata": {},
     "output_type": "execute_result"
    },
    {
     "data": {
      "image/png": "[encoded data removed]",
      "text/plain": [
       "<Figure size 432x288 with 1 Axes>"
      ]
     },
     "metadata": {
      "needs_background": "light"
     },
     "output_type": "display_data"
    }
   ],
   "source": [
    "sns.distplot(preds.detach().numpy())"
   ]
  },
  {
   "cell_type": "code",
   "execution_count": 28,
   "metadata": {},
   "outputs": [],
   "source": [
    "import pandas as pd"
   ]
  },
  {
   "cell_type": "code",
   "execution_count": 31,
   "metadata": {},
   "outputs": [],
   "source": [
    "df = pd.DataFrame({'X0':preds.detach().numpy(), 'Unc':uncs.detach().numpy()})\n",
    "df['frac_unc'] = df.Unc/df.X0"
   ]
  },
  {
   "cell_type": "code",
   "execution_count": 32,
   "metadata": {},
   "outputs": [
    {
     "data": {
      "text/html": [
       "<div>\n",
       "<style scoped>\n",
       "    .dataframe tbody tr th:only-of-type {\n",
       "        vertical-align: middle;\n",
       "    }\n",
       "\n",
       "    .dataframe tbody tr th {\n",
       "        vertical-align: top;\n",
       "    }\n",
       "\n",
       "    .dataframe thead th {\n",
       "        text-align: right;\n",
       "    }\n",
       "</style>\n",
       "<table border=\"1\" class=\"dataframe\">\n",
       "  <thead>\n",
       "    <tr style=\"text-align: right;\">\n",
       "      <th></th>\n",
       "      <th>X0</th>\n",
       "      <th>Unc</th>\n",
       "      <th>frac_unc</th>\n",
       "    </tr>\n",
       "  </thead>\n",
       "  <tbody>\n",
       "    <tr>\n",
       "      <th>0</th>\n",
       "      <td>0.080648</td>\n",
       "      <td>0.102752</td>\n",
       "      <td>1.274078</td>\n",
       "    </tr>\n",
       "    <tr>\n",
       "      <th>1</th>\n",
       "      <td>0.306399</td>\n",
       "      <td>0.581078</td>\n",
       "      <td>1.896472</td>\n",
       "    </tr>\n",
       "    <tr>\n",
       "      <th>2</th>\n",
       "      <td>0.025946</td>\n",
       "      <td>0.010503</td>\n",
       "      <td>0.404816</td>\n",
       "    </tr>\n",
       "    <tr>\n",
       "      <th>3</th>\n",
       "      <td>0.007687</td>\n",
       "      <td>0.001106</td>\n",
       "      <td>0.143857</td>\n",
       "    </tr>\n",
       "    <tr>\n",
       "      <th>4</th>\n",
       "      <td>0.094116</td>\n",
       "      <td>0.088432</td>\n",
       "      <td>0.939602</td>\n",
       "    </tr>\n",
       "    <tr>\n",
       "      <th>5</th>\n",
       "      <td>0.194038</td>\n",
       "      <td>0.336001</td>\n",
       "      <td>1.731626</td>\n",
       "    </tr>\n",
       "    <tr>\n",
       "      <th>6</th>\n",
       "      <td>0.004755</td>\n",
       "      <td>0.001020</td>\n",
       "      <td>0.214569</td>\n",
       "    </tr>\n",
       "    <tr>\n",
       "      <th>7</th>\n",
       "      <td>0.008574</td>\n",
       "      <td>0.002126</td>\n",
       "      <td>0.247934</td>\n",
       "    </tr>\n",
       "    <tr>\n",
       "      <th>8</th>\n",
       "      <td>0.116561</td>\n",
       "      <td>0.152743</td>\n",
       "      <td>1.310411</td>\n",
       "    </tr>\n",
       "    <tr>\n",
       "      <th>9</th>\n",
       "      <td>0.461640</td>\n",
       "      <td>0.684353</td>\n",
       "      <td>1.482439</td>\n",
       "    </tr>\n",
       "    <tr>\n",
       "      <th>10</th>\n",
       "      <td>0.035729</td>\n",
       "      <td>0.033342</td>\n",
       "      <td>0.933197</td>\n",
       "    </tr>\n",
       "    <tr>\n",
       "      <th>11</th>\n",
       "      <td>0.136130</td>\n",
       "      <td>0.159063</td>\n",
       "      <td>1.168469</td>\n",
       "    </tr>\n",
       "    <tr>\n",
       "      <th>12</th>\n",
       "      <td>0.100083</td>\n",
       "      <td>0.063025</td>\n",
       "      <td>0.629729</td>\n",
       "    </tr>\n",
       "    <tr>\n",
       "      <th>13</th>\n",
       "      <td>0.096505</td>\n",
       "      <td>0.098147</td>\n",
       "      <td>1.017015</td>\n",
       "    </tr>\n",
       "    <tr>\n",
       "      <th>14</th>\n",
       "      <td>0.339234</td>\n",
       "      <td>0.384954</td>\n",
       "      <td>1.134777</td>\n",
       "    </tr>\n",
       "    <tr>\n",
       "      <th>15</th>\n",
       "      <td>0.004810</td>\n",
       "      <td>0.001344</td>\n",
       "      <td>0.279367</td>\n",
       "    </tr>\n",
       "    <tr>\n",
       "      <th>16</th>\n",
       "      <td>0.122803</td>\n",
       "      <td>0.161894</td>\n",
       "      <td>1.318325</td>\n",
       "    </tr>\n",
       "    <tr>\n",
       "      <th>17</th>\n",
       "      <td>0.208217</td>\n",
       "      <td>0.296837</td>\n",
       "      <td>1.425610</td>\n",
       "    </tr>\n",
       "    <tr>\n",
       "      <th>18</th>\n",
       "      <td>0.027203</td>\n",
       "      <td>0.011002</td>\n",
       "      <td>0.404440</td>\n",
       "    </tr>\n",
       "    <tr>\n",
       "      <th>19</th>\n",
       "      <td>0.001017</td>\n",
       "      <td>0.000157</td>\n",
       "      <td>0.154715</td>\n",
       "    </tr>\n",
       "    <tr>\n",
       "      <th>20</th>\n",
       "      <td>0.093950</td>\n",
       "      <td>0.101055</td>\n",
       "      <td>1.075631</td>\n",
       "    </tr>\n",
       "    <tr>\n",
       "      <th>21</th>\n",
       "      <td>0.119654</td>\n",
       "      <td>0.124065</td>\n",
       "      <td>1.036867</td>\n",
       "    </tr>\n",
       "    <tr>\n",
       "      <th>22</th>\n",
       "      <td>0.028940</td>\n",
       "      <td>0.021128</td>\n",
       "      <td>0.730055</td>\n",
       "    </tr>\n",
       "    <tr>\n",
       "      <th>23</th>\n",
       "      <td>0.095273</td>\n",
       "      <td>0.079402</td>\n",
       "      <td>0.833416</td>\n",
       "    </tr>\n",
       "    <tr>\n",
       "      <th>24</th>\n",
       "      <td>0.075022</td>\n",
       "      <td>0.072888</td>\n",
       "      <td>0.971553</td>\n",
       "    </tr>\n",
       "    <tr>\n",
       "      <th>25</th>\n",
       "      <td>0.099886</td>\n",
       "      <td>0.134151</td>\n",
       "      <td>1.343039</td>\n",
       "    </tr>\n",
       "    <tr>\n",
       "      <th>26</th>\n",
       "      <td>0.060961</td>\n",
       "      <td>0.081167</td>\n",
       "      <td>1.331443</td>\n",
       "    </tr>\n",
       "    <tr>\n",
       "      <th>27</th>\n",
       "      <td>0.004412</td>\n",
       "      <td>0.000905</td>\n",
       "      <td>0.205058</td>\n",
       "    </tr>\n",
       "    <tr>\n",
       "      <th>28</th>\n",
       "      <td>0.028613</td>\n",
       "      <td>0.018100</td>\n",
       "      <td>0.632604</td>\n",
       "    </tr>\n",
       "    <tr>\n",
       "      <th>29</th>\n",
       "      <td>0.099866</td>\n",
       "      <td>0.098259</td>\n",
       "      <td>0.983908</td>\n",
       "    </tr>\n",
       "    <tr>\n",
       "      <th>30</th>\n",
       "      <td>0.003963</td>\n",
       "      <td>0.000711</td>\n",
       "      <td>0.179397</td>\n",
       "    </tr>\n",
       "    <tr>\n",
       "      <th>31</th>\n",
       "      <td>0.090307</td>\n",
       "      <td>0.061642</td>\n",
       "      <td>0.682586</td>\n",
       "    </tr>\n",
       "    <tr>\n",
       "      <th>32</th>\n",
       "      <td>0.088200</td>\n",
       "      <td>0.076834</td>\n",
       "      <td>0.871135</td>\n",
       "    </tr>\n",
       "    <tr>\n",
       "      <th>33</th>\n",
       "      <td>0.218906</td>\n",
       "      <td>0.325733</td>\n",
       "      <td>1.487999</td>\n",
       "    </tr>\n",
       "    <tr>\n",
       "      <th>34</th>\n",
       "      <td>0.399202</td>\n",
       "      <td>0.442863</td>\n",
       "      <td>1.109370</td>\n",
       "    </tr>\n",
       "    <tr>\n",
       "      <th>35</th>\n",
       "      <td>0.331388</td>\n",
       "      <td>0.713093</td>\n",
       "      <td>2.151837</td>\n",
       "    </tr>\n",
       "    <tr>\n",
       "      <th>36</th>\n",
       "      <td>0.087287</td>\n",
       "      <td>0.088400</td>\n",
       "      <td>1.012745</td>\n",
       "    </tr>\n",
       "    <tr>\n",
       "      <th>37</th>\n",
       "      <td>0.172949</td>\n",
       "      <td>0.226173</td>\n",
       "      <td>1.307744</td>\n",
       "    </tr>\n",
       "    <tr>\n",
       "      <th>38</th>\n",
       "      <td>1.254853</td>\n",
       "      <td>3.893712</td>\n",
       "      <td>3.102921</td>\n",
       "    </tr>\n",
       "    <tr>\n",
       "      <th>39</th>\n",
       "      <td>0.060269</td>\n",
       "      <td>0.065029</td>\n",
       "      <td>1.078984</td>\n",
       "    </tr>\n",
       "    <tr>\n",
       "      <th>40</th>\n",
       "      <td>0.246753</td>\n",
       "      <td>0.334108</td>\n",
       "      <td>1.354019</td>\n",
       "    </tr>\n",
       "    <tr>\n",
       "      <th>41</th>\n",
       "      <td>0.344495</td>\n",
       "      <td>1.238357</td>\n",
       "      <td>3.594708</td>\n",
       "    </tr>\n",
       "    <tr>\n",
       "      <th>42</th>\n",
       "      <td>0.042960</td>\n",
       "      <td>0.019625</td>\n",
       "      <td>0.456809</td>\n",
       "    </tr>\n",
       "    <tr>\n",
       "      <th>43</th>\n",
       "      <td>0.238032</td>\n",
       "      <td>0.441875</td>\n",
       "      <td>1.856370</td>\n",
       "    </tr>\n",
       "    <tr>\n",
       "      <th>44</th>\n",
       "      <td>0.952028</td>\n",
       "      <td>1.917578</td>\n",
       "      <td>2.014204</td>\n",
       "    </tr>\n",
       "    <tr>\n",
       "      <th>45</th>\n",
       "      <td>0.263862</td>\n",
       "      <td>0.621333</td>\n",
       "      <td>2.354765</td>\n",
       "    </tr>\n",
       "    <tr>\n",
       "      <th>46</th>\n",
       "      <td>0.208268</td>\n",
       "      <td>0.218692</td>\n",
       "      <td>1.050049</td>\n",
       "    </tr>\n",
       "    <tr>\n",
       "      <th>47</th>\n",
       "      <td>0.009911</td>\n",
       "      <td>0.002821</td>\n",
       "      <td>0.284586</td>\n",
       "    </tr>\n",
       "    <tr>\n",
       "      <th>48</th>\n",
       "      <td>0.074811</td>\n",
       "      <td>0.080523</td>\n",
       "      <td>1.076360</td>\n",
       "    </tr>\n",
       "    <tr>\n",
       "      <th>49</th>\n",
       "      <td>0.006698</td>\n",
       "      <td>0.002254</td>\n",
       "      <td>0.336524</td>\n",
       "    </tr>\n",
       "    <tr>\n",
       "      <th>50</th>\n",
       "      <td>0.006260</td>\n",
       "      <td>0.002395</td>\n",
       "      <td>0.382662</td>\n",
       "    </tr>\n",
       "    <tr>\n",
       "      <th>51</th>\n",
       "      <td>0.152805</td>\n",
       "      <td>0.210727</td>\n",
       "      <td>1.379063</td>\n",
       "    </tr>\n",
       "    <tr>\n",
       "      <th>52</th>\n",
       "      <td>0.336884</td>\n",
       "      <td>0.567916</td>\n",
       "      <td>1.685792</td>\n",
       "    </tr>\n",
       "    <tr>\n",
       "      <th>53</th>\n",
       "      <td>0.209621</td>\n",
       "      <td>0.356921</td>\n",
       "      <td>1.702697</td>\n",
       "    </tr>\n",
       "  </tbody>\n",
       "</table>\n",
       "</div>"
      ],
      "text/plain": [
       "          X0       Unc  frac_unc\n",
       "0   0.080648  0.102752  1.274078\n",
       "1   0.306399  0.581078  1.896472\n",
       "2   0.025946  0.010503  0.404816\n",
       "3   0.007687  0.001106  0.143857\n",
       "4   0.094116  0.088432  0.939602\n",
       "5   0.194038  0.336001  1.731626\n",
       "6   0.004755  0.001020  0.214569\n",
       "7   0.008574  0.002126  0.247934\n",
       "8   0.116561  0.152743  1.310411\n",
       "9   0.461640  0.684353  1.482439\n",
       "10  0.035729  0.033342  0.933197\n",
       "11  0.136130  0.159063  1.168469\n",
       "12  0.100083  0.063025  0.629729\n",
       "13  0.096505  0.098147  1.017015\n",
       "14  0.339234  0.384954  1.134777\n",
       "15  0.004810  0.001344  0.279367\n",
       "16  0.122803  0.161894  1.318325\n",
       "17  0.208217  0.296837  1.425610\n",
       "18  0.027203  0.011002  0.404440\n",
       "19  0.001017  0.000157  0.154715\n",
       "20  0.093950  0.101055  1.075631\n",
       "21  0.119654  0.124065  1.036867\n",
       "22  0.028940  0.021128  0.730055\n",
       "23  0.095273  0.079402  0.833416\n",
       "24  0.075022  0.072888  0.971553\n",
       "25  0.099886  0.134151  1.343039\n",
       "26  0.060961  0.081167  1.331443\n",
       "27  0.004412  0.000905  0.205058\n",
       "28  0.028613  0.018100  0.632604\n",
       "29  0.099866  0.098259  0.983908\n",
       "30  0.003963  0.000711  0.179397\n",
       "31  0.090307  0.061642  0.682586\n",
       "32  0.088200  0.076834  0.871135\n",
       "33  0.218906  0.325733  1.487999\n",
       "34  0.399202  0.442863  1.109370\n",
       "35  0.331388  0.713093  2.151837\n",
       "36  0.087287  0.088400  1.012745\n",
       "37  0.172949  0.226173  1.307744\n",
       "38  1.254853  3.893712  3.102921\n",
       "39  0.060269  0.065029  1.078984\n",
       "40  0.246753  0.334108  1.354019\n",
       "41  0.344495  1.238357  3.594708\n",
       "42  0.042960  0.019625  0.456809\n",
       "43  0.238032  0.441875  1.856370\n",
       "44  0.952028  1.917578  2.014204\n",
       "45  0.263862  0.621333  2.354765\n",
       "46  0.208268  0.218692  1.050049\n",
       "47  0.009911  0.002821  0.284586\n",
       "48  0.074811  0.080523  1.076360\n",
       "49  0.006698  0.002254  0.336524\n",
       "50  0.006260  0.002395  0.382662\n",
       "51  0.152805  0.210727  1.379063\n",
       "52  0.336884  0.567916  1.685792\n",
       "53  0.209621  0.356921  1.702697"
      ]
     },
     "execution_count": 32,
     "metadata": {},
     "output_type": "execute_result"
    }
   ],
   "source": [
    "df"
   ]
  },
  {
   "cell_type": "code",
   "execution_count": null,
   "metadata": {},
   "outputs": [],
   "source": []
  }
 ],
 "metadata": {
  "kernelspec": {
   "display_name": "Python [conda env:tomopt]",
   "language": "python",
   "name": "conda-env-tomopt-py"
  },
  "language_info": {
   "codemirror_mode": {
    "name": "ipython",
    "version": 3
   },
   "file_extension": ".py",
   "mimetype": "text/x-python",
   "name": "python",
   "nbconvert_exporter": "python",
   "pygments_lexer": "ipython3",
   "version": "3.8.0"
  },
  "toc": {
   "base_numbering": 1,
   "nav_menu": {},
   "number_sections": true,
   "sideBar": true,
   "skip_h1_title": false,
   "title_cell": "Table of Contents",
   "title_sidebar": "Contents",
   "toc_cell": false,
   "toc_position": {},
   "toc_section_display": true,
   "toc_window_display": false
  }
 },
 "nbformat": 4,
 "nbformat_minor": 2
}
