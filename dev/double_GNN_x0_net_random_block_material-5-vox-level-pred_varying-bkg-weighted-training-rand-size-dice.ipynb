{
 "cells": [
  {
   "cell_type": "code",
   "execution_count": 1,
   "metadata": {},
   "outputs": [],
   "source": [
    "%matplotlib inline\n",
    "%reload_ext autoreload\n",
    "%autoreload 2"
   ]
  },
  {
   "cell_type": "code",
   "execution_count": 2,
   "metadata": {},
   "outputs": [],
   "source": [
    "import numpy as np\n",
    "from functools import partial\n",
    "import matplotlib.pyplot as plt\n",
    "import seaborn as sns\n",
    "\n",
    "import torch\n",
    "from torch import Tensor, nn\n",
    "from torch.nn import functional as F\n",
    "\n",
    "from tomopt.core import *\n",
    "from tomopt.volume import *\n",
    "from tomopt.inference import *\n",
    "from tomopt.muon import *\n",
    "from tomopt.optimisation import *\n",
    "from tomopt.plotting import *"
   ]
  },
  {
   "cell_type": "code",
   "execution_count": 3,
   "metadata": {},
   "outputs": [],
   "source": [
    "DEVICE = torch.device('cpu')"
   ]
  },
  {
   "cell_type": "code",
   "execution_count": 4,
   "metadata": {},
   "outputs": [
    {
     "name": "stderr",
     "output_type": "stream",
     "text": [
      "<ipython-input-4-5787166f89b9>:4: UserWarning: Not providing a value for linspace's steps is deprecated and will throw a runtime error in a future release. This warning will appear only once per process. (Triggered internally at  /pytorch/aten/src/ATen/native/RangeFactories.cpp:23.)\n",
      "  x = torch.linspace(-1, 1)\n"
     ]
    },
    {
     "data": {
      "text/plain": [
       "[<matplotlib.lines.Line2D at 0x7fb6899c7be0>]"
      ]
     },
     "execution_count": 4,
     "metadata": {},
     "output_type": "execute_result"
    },
    {
     "data": {
      "image/png": "[encoded data removed]",
      "text/plain": [
       "<Figure size 432x288 with 1 Axes>"
      ]
     },
     "metadata": {
      "needs_background": "light"
     },
     "output_type": "display_data"
    }
   ],
   "source": [
    "def area_cost(x:Tensor) -> Tensor:\n",
    "    return F.relu(x)\n",
    "\n",
    "x = torch.linspace(-1, 1)\n",
    "plt.plot(x, area_cost(x))"
   ]
  },
  {
   "cell_type": "code",
   "execution_count": 5,
   "metadata": {},
   "outputs": [],
   "source": [
    "def get_layers():\n",
    "    layers = []\n",
    "    lwh = Tensor([1,1,1])\n",
    "    size = 0.2\n",
    "    init_eff = 0.5\n",
    "    init_res = 1000\n",
    "    n_panels = 4\n",
    "    layers.append(PanelDetectorLayer(pos='above', lw=lwh[:2], z=1, size=size,\n",
    "                                     panels=[DetectorPanel(res=init_res, eff=init_eff,\n",
    "                                                      init_xyz=[0.5,0.5,1-(i*(size)/n_panels)], init_xy_span=[1.0,1.0],\n",
    "                                                      area_cost_func=area_cost, device=DEVICE) for i in range(n_panels)]))\n",
    "    for z in [0.8,0.6,0.4]:\n",
    "        layers.append(PassiveLayer(lw=lwh[:2], z=z, size=size, device=DEVICE))\n",
    "    layers.append(PanelDetectorLayer(pos='below', lw=lwh[:2], z=0.2, size=size,\n",
    "                                     panels=[DetectorPanel(res=init_res, eff=init_eff,\n",
    "                                                      init_xyz=[0.5,0.5,0.2-(i*(size)/n_panels)], init_xy_span=[1.0,1.0],\n",
    "                                                      area_cost_func=area_cost, device=DEVICE) for i in range(n_panels)]))\n",
    "\n",
    "    return nn.ModuleList(layers) "
   ]
  },
  {
   "cell_type": "code",
   "execution_count": 6,
   "metadata": {},
   "outputs": [
    {
     "data": {
      "text/plain": [
       "Volume(\n",
       "  (layers): ModuleList(\n",
       "    (0): PanelDetectorLayer(\n",
       "      (panels): ModuleList(\n",
       "        (0): <class 'tomopt.volume.panel.DetectorPanel'> located at xy=tensor([0.5000, 0.5000]), z=tensor([1.]), and xy span tensor([1., 1.])\n",
       "        (1): <class 'tomopt.volume.panel.DetectorPanel'> located at xy=tensor([0.5000, 0.5000]), z=tensor([0.9500]), and xy span tensor([1., 1.])\n",
       "        (2): <class 'tomopt.volume.panel.DetectorPanel'> located at xy=tensor([0.5000, 0.5000]), z=tensor([0.9000]), and xy span tensor([1., 1.])\n",
       "        (3): <class 'tomopt.volume.panel.DetectorPanel'> located at xy=tensor([0.5000, 0.5000]), z=tensor([0.8500]), and xy span tensor([1., 1.])\n",
       "      )\n",
       "    )\n",
       "    (1): PassiveLayer()\n",
       "    (2): PassiveLayer()\n",
       "    (3): PassiveLayer()\n",
       "    (4): PanelDetectorLayer(\n",
       "      (panels): ModuleList(\n",
       "        (0): <class 'tomopt.volume.panel.DetectorPanel'> located at xy=tensor([0.5000, 0.5000]), z=tensor([0.2000]), and xy span tensor([1., 1.])\n",
       "        (1): <class 'tomopt.volume.panel.DetectorPanel'> located at xy=tensor([0.5000, 0.5000]), z=tensor([0.1500]), and xy span tensor([1., 1.])\n",
       "        (2): <class 'tomopt.volume.panel.DetectorPanel'> located at xy=tensor([0.5000, 0.5000]), z=tensor([0.1000]), and xy span tensor([1., 1.])\n",
       "        (3): <class 'tomopt.volume.panel.DetectorPanel'> located at xy=tensor([0.5000, 0.5000]), z=tensor([0.0500]), and xy span tensor([1., 1.])\n",
       "      )\n",
       "    )\n",
       "  )\n",
       ")"
      ]
     },
     "execution_count": 6,
     "metadata": {},
     "output_type": "execute_result"
    }
   ],
   "source": [
    "volume = Volume(get_layers())\n",
    "volume"
   ]
  },
  {
   "cell_type": "markdown",
   "metadata": {},
   "source": [
    "# Data"
   ]
  },
  {
   "cell_type": "code",
   "execution_count": 7,
   "metadata": {},
   "outputs": [],
   "source": [
    "from tomopt.optimisation.data.passives import AbsPassiveGenerator\n",
    "from typing import *\n",
    "from random import shuffle\n",
    "\n",
    "class RandomBlockPassiveGenerator(AbsPassiveGenerator):\n",
    "    def __init__(\n",
    "        self,\n",
    "        lw: Tuple[float, float],\n",
    "        z_range: Tuple[float, float],\n",
    "        sort_x0: bool,\n",
    "        materials: Optional[List[str]] = None,\n",
    "    ) -> None:\n",
    "        super().__init__(materials=materials)\n",
    "        self.lw, self.z_range, self.sort_x0 = lw, z_range, sort_x0\n",
    "        \n",
    "    def generate(self) -> Callable[..., Tensor]:\n",
    "        bkg_mat = np.random.randint(0,len(self.materials))\n",
    "        block_mat = np.random.randint(0,len(self.materials))\n",
    "            \n",
    "        base_x0 = X0[self.materials[bkg_mat]]\n",
    "        block_x0 = X0[self.materials[block_mat]]\n",
    "\n",
    "        block_size = (np.random.uniform(0,self.lw[0]), np.random.uniform(0,self.lw[1]), np.random.uniform(self.z_range[0], self.z_range[1]))\n",
    "        block_low = np.hstack((np.random.uniform(high=self.lw[0]-block_size[0]), np.random.uniform(high=self.lw[1]-block_size[1]), np.random.uniform(self.z_range[0], self.z_range[1]-block_size[2])))\n",
    "        block_high = block_low+block_size\n",
    "\n",
    "        def generator(*, z: float, lw: Tensor, size: float) -> Tensor:\n",
    "            shp = (lw / size).long()\n",
    "            low_xy = np.round(block_low[:2] / size).astype(int)\n",
    "            high_xy = np.round(block_high[:2] / size).astype(int)\n",
    "            rad_length = torch.ones(list(shp)) * base_x0\n",
    "            if z >= block_low[2] and z <= block_high[2]:\n",
    "                rad_length[low_xy[0] : high_xy[0], low_xy[1] : high_xy[1]] = block_x0\n",
    "            return rad_length\n",
    "\n",
    "        return generator, block_x0"
   ]
  },
  {
   "cell_type": "code",
   "execution_count": 8,
   "metadata": {},
   "outputs": [
    {
     "name": "stdout",
     "output_type": "stream",
     "text": [
      "tensor([[0.0890, 0.0890, 0.0890, 0.0890, 0.0890],\n",
      "        [0.0890, 0.0890, 0.0890, 0.0890, 0.0890],\n",
      "        [0.0890, 0.0890, 0.0890, 0.0890, 0.0890],\n",
      "        [0.0890, 0.0890, 0.0890, 0.0890, 0.0890],\n",
      "        [0.0890, 0.0890, 0.0890, 0.0890, 0.0890]]) 0.003141\n",
      "tensor([[0.0890, 0.0890, 0.0031, 0.0031, 0.0031],\n",
      "        [0.0890, 0.0890, 0.0031, 0.0031, 0.0031],\n",
      "        [0.0890, 0.0890, 0.0031, 0.0031, 0.0031],\n",
      "        [0.0890, 0.0890, 0.0031, 0.0031, 0.0031],\n",
      "        [0.0890, 0.0890, 0.0890, 0.0890, 0.0890]]) 0.003141\n",
      "tensor([[0.0890, 0.0890, 0.0031, 0.0031, 0.0031],\n",
      "        [0.0890, 0.0890, 0.0031, 0.0031, 0.0031],\n",
      "        [0.0890, 0.0890, 0.0031, 0.0031, 0.0031],\n",
      "        [0.0890, 0.0890, 0.0031, 0.0031, 0.0031],\n",
      "        [0.0890, 0.0890, 0.0890, 0.0890, 0.0890]]) 0.003141\n"
     ]
    }
   ],
   "source": [
    "g,i = RandomBlockPassiveGenerator(lw=(1,1), z_range=(0.2,0.8), sort_x0=False).generate()\n",
    "for z in [0.8,0.6,0.4]:\n",
    "    print(g(z=z, lw=volume.lw, size=volume.passive_size),i)"
   ]
  },
  {
   "cell_type": "code",
   "execution_count": 9,
   "metadata": {},
   "outputs": [],
   "source": [
    "from lumin.nn.data.fold_yielder import FoldYielder\n",
    "\n",
    "class ScatterYielder(FoldYielder):\n",
    "    def __init__(self, volume:Volume, passive_generator:AbsPassiveGenerator, mu_bs:int, n_volumes_per_fold:int, targ_as_class:bool):\n",
    "        self.cont_feats,self.cat_feats,self.input_pipe,self.output_pipe = [],[],None,None\n",
    "        self.yield_matrix,self.matrix_pipe = True,None\n",
    "        self.augmented,self.aug_mult,self.train_time_aug,self.test_time_aug = False,0,False,False\n",
    "        self.input_feats = self.cont_feats + self.cat_feats\n",
    "        self.orig_cont_feats,self.orig_cat_feat,self._ignore_feats = self.cont_feats,self.cat_feats,[]\n",
    "        \n",
    "        self.volume,self.passive_generator,self.mu_bs = volume,passive_generator,mu_bs\n",
    "        self.voxel_centres = self._build_centres()\n",
    "        self.targ_as_class = targ_as_class\n",
    "        if self.targ_as_class:\n",
    "            self.class2id = {m:i for i,m in enumerate(self.passive_generator.materials)}\n",
    "            self.id2class = {i:m for i,m in enumerate(self.passive_generator.materials)}\n",
    "            self.x02id = {X0[m]:i for i,m in enumerate(self.passive_generator.materials)}\n",
    "            self.id2x0 = {i:X0[m] for i,m in enumerate(self.passive_generator.materials)}\n",
    "                \n",
    "        self.n_volumes_per_fold = n_volumes_per_fold\n",
    "        self.n_voxels = int(len(self.volume.get_passives())*(self.volume.lw/self.volume.passive_size).prod().item())\n",
    "        self.n_folds = 10\n",
    "        self.has_matrix = True\n",
    "        self.fld_szs = {i:self.n_volumes_per_fold for i in range(self.n_folds)}\n",
    "        \n",
    "        self.targ_feats = [\"X0\"]\n",
    "        self.matrix_feats = {'present_feats': [\"dtheta_x\", \"dtheta_y\", \"dx\", \"dy\", \"pred_x0\", \"dpoca_x\", \"dpoca_y\", \"dpoca_z\", \"dpoca_r\"],\n",
    "                             'vecs': [f'mu_{i}' for i in range(self.mu_bs)], 'missing': [], 'row_wise': True}\n",
    "        self.matrix_feats['feats_per_vec'] = len(self.matrix_feats['present_feats']), \n",
    "        self.matrix_feats['shape'] = (self.mu_bs, self.matrix_feats['feats_per_vec'])\n",
    "        self.matrix_is_sparse = False\n",
    "        self.matrix_shape = self.matrix_feats['shape']\n",
    "        \n",
    "    def _build_centres(self) -> Tensor:\n",
    "        bounds = (\n",
    "            self.volume.passive_size\n",
    "            * np.mgrid[\n",
    "                round(self.volume.get_passive_z_range()[0].detach().cpu().numpy()[0] / self.volume.passive_size) : round(\n",
    "                      self.volume.get_passive_z_range()[1].detach().cpu().numpy()[0] / self.volume.passive_size\n",
    "                ) : 1,\n",
    "                0 : round(self.volume.lw.detach().cpu().numpy()[0] / self.volume.passive_size) : 1,\n",
    "                0 : round(self.volume.lw.detach().cpu().numpy()[1] / self.volume.passive_size) : 1,\n",
    "            ]\n",
    "        )\n",
    "#         bounds[0] = np.flip(bounds[0])  # z is reversed\n",
    "        return torch.tensor(bounds.reshape(3, -1).transpose(-1, -2), dtype=torch.float32) + (self.volume.passive_size/2)\n",
    "        \n",
    "    def generate_data(self) -> Dict[str, np.ndarray]:\n",
    "        inputs,targets,masks = [],[],[]\n",
    "        for _ in range(self.n_volumes_per_fold):\n",
    "            #Scatter generation\n",
    "            muons = MuonBatch(generate_batch(self.mu_bs), self.volume.h, device=self.volume.device)\n",
    "            block, targ = self.passive_generator.generate()\n",
    "            self.volume.load_rad_length(block)\n",
    "            self.volume(muons)\n",
    "            sb = GenScatterBatch(muons, self.volume)\n",
    "            \n",
    "            # x0 prediction\n",
    "            mom = muons.reco_mom\n",
    "            dtheta = sb.dtheta\n",
    "            theta_xy_in = sb.theta_in\n",
    "            theta_xy_out = sb.theta_out\n",
    "            theta2 = dtheta.pow(2).sum(1)\n",
    "            n_x0 = 0.5 * theta2 * ((mom / SCATTER_COEF_A) ** 2)\n",
    "            theta_in = theta_xy_in.pow(2).sum(1).sqrt()\n",
    "            theta_out = theta_xy_out.pow(2).sum(1).sqrt()\n",
    "            cos_theta_in = torch.cos(theta_in)\n",
    "            cos_theta_out = torch.cos(theta_out)\n",
    "            cos_mean = (cos_theta_in + cos_theta_out) / 2\n",
    "            pred = self.volume.passive_size / (n_x0 * cos_mean)\n",
    "            \n",
    "            #Data creation\n",
    "            data = torch.cat((sb.dtheta, sb.dxy, pred[:,None], sb.location), dim=-1).detach()\n",
    "            data = data[None,:].repeat_interleave(len(self.voxel_centres), dim=0)\n",
    "            data[:,:,-3:] -= self.voxel_centres[:,None].repeat_interleave(self.mu_bs, dim=1)\n",
    "            data = torch.cat((data,torch.norm(data[:,:,-3:], dim=-1, keepdim=True)), dim=-1)  # dR\n",
    "            \n",
    "            # Sort by dR\n",
    "            idxs = data[:,:,-1].argsort()\n",
    "            i = np.arange(data.shape[0])[:,None]\n",
    "            data = data[i,idxs]\n",
    "            \n",
    "            inputs.append(data[None,:])\n",
    "            targets.append(self.volume.get_rad_cube().flatten())\n",
    "            masks.append(targets[-1] == targ)\n",
    "        \n",
    "        inputs = torch.cat(inputs, dim=0).detach().cpu().numpy()\n",
    "        targets = torch.stack(targets, dim=0).detach().cpu().numpy()\n",
    "        masks = torch.stack(masks, dim=0).detach().cpu().numpy()\n",
    "        if self.targ_as_class:\n",
    "            for m in self.passive_generator.materials:\n",
    "                targets[targets == X0[m]] = self.class2id[m]\n",
    "            targets = targets.astype(int)\n",
    "        return {'inputs':(np.zeros((len(inputs),0)),inputs),'targets':targets,'weights':masks}\n",
    "        \n",
    "    def get_fold(self, idx:int) -> Dict[str,np.ndarray]:\n",
    "        return self.generate_data()"
   ]
  },
  {
   "cell_type": "code",
   "execution_count": 10,
   "metadata": {},
   "outputs": [],
   "source": [
    "sy = ScatterYielder(volume=volume, passive_generator=RandomBlockPassiveGenerator(materials=[\"beryllium\",\"carbon\",\"silicon\",\"iron\",\"lead\"], lw=(1,1), z_range=(0.2,0.8), sort_x0=False),\n",
    "                    mu_bs=100, n_volumes_per_fold=160, targ_as_class=True)"
   ]
  },
  {
   "cell_type": "code",
   "execution_count": 11,
   "metadata": {},
   "outputs": [
    {
     "data": {
      "text/plain": [
       "75"
      ]
     },
     "execution_count": 11,
     "metadata": {},
     "output_type": "execute_result"
    }
   ],
   "source": [
    "sy.n_voxels"
   ]
  },
  {
   "cell_type": "code",
   "execution_count": 12,
   "metadata": {},
   "outputs": [
    {
     "data": {
      "text/plain": [
       "((160, 75, 100, 9), (160, 75))"
      ]
     },
     "execution_count": 12,
     "metadata": {},
     "output_type": "execute_result"
    }
   ],
   "source": [
    "fold = sy[0]\n",
    "fold['inputs'][1].shape,fold['targets'].shape"
   ]
  },
  {
   "cell_type": "code",
   "execution_count": 13,
   "metadata": {},
   "outputs": [
    {
     "data": {
      "text/plain": [
       "array([0.16197842, 0.26988629, 0.32626274, 0.3456159 , 0.35836074,\n",
       "       0.360684  , 0.37735257, 0.37863544, 0.3827155 , 0.3835531 ,\n",
       "       0.4056067 , 0.42211875, 0.43593833, 0.4592641 , 0.5037177 ,\n",
       "       0.5145445 , 0.51740605, 0.5214219 , 0.52712256, 0.528032  ,\n",
       "       0.53274745, 0.5383085 , 0.53940773, 0.55810195, 0.5778462 ,\n",
       "       0.57995623, 0.58294624, 0.59114164, 0.6018119 , 0.6129123 ,\n",
       "       0.62395185, 0.6329306 , 0.63451076, 0.63493913, 0.6506877 ,\n",
       "       0.6540594 , 0.6601648 , 0.6649618 , 0.66703606, 0.68997437,\n",
       "       0.6906714 , 0.69092506, 0.7040832 , 0.70874405, 0.7096412 ,\n",
       "       0.713768  , 0.7227645 , 0.7559023 , 0.76394206, 0.7659869 ,\n",
       "       0.77561545, 0.77575696, 0.7814978 , 0.7905302 , 0.79779625,\n",
       "       0.80254203, 0.8120623 , 0.81437606, 0.8213905 , 0.8294034 ,\n",
       "       0.8420381 , 0.84743613, 0.8500025 , 0.85186434, 0.8604095 ,\n",
       "       0.86690867, 0.87504375, 0.87819105, 0.8879691 , 0.8959682 ,\n",
       "       0.9040438 , 0.90422803, 0.9059023 , 0.9151106 , 0.91518116,\n",
       "       0.9174331 , 0.92036164, 0.9410224 , 0.9421615 , 0.94481766,\n",
       "       0.9621007 , 0.97645766, 1.0005822 , 1.0048331 , 1.008718  ,\n",
       "       1.0111241 , 1.0790505 , 1.0818079 , 1.089168  , 1.0978222 ,\n",
       "       1.119132  , 1.1191736 , 1.1549737 , 1.1717954 , 1.1760027 ,\n",
       "       1.2157999 , 1.2336626 , 1.2438254 , 1.2763587 , 2.5044887 ],\n",
       "      dtype=float32)"
      ]
     },
     "execution_count": 13,
     "metadata": {},
     "output_type": "execute_result"
    }
   ],
   "source": [
    "fold['inputs'][1][0,0,:,-1]"
   ]
  },
  {
   "cell_type": "code",
   "execution_count": 14,
   "metadata": {},
   "outputs": [
    {
     "data": {
      "text/plain": [
       "array([[4, 4, 4, ..., 4, 4, 4],\n",
       "       [1, 1, 1, ..., 1, 1, 1],\n",
       "       [1, 1, 3, ..., 1, 1, 1],\n",
       "       ...,\n",
       "       [1, 1, 1, ..., 1, 1, 1],\n",
       "       [0, 0, 0, ..., 0, 0, 0],\n",
       "       [1, 1, 2, ..., 1, 1, 1]])"
      ]
     },
     "execution_count": 14,
     "metadata": {},
     "output_type": "execute_result"
    }
   ],
   "source": [
    "fold['targets']"
   ]
  },
  {
   "cell_type": "code",
   "execution_count": 15,
   "metadata": {},
   "outputs": [
    {
     "data": {
      "text/plain": [
       "array([[ True,  True,  True, ...,  True,  True,  True],\n",
       "       [False, False, False, ..., False, False, False],\n",
       "       [False, False,  True, ..., False, False, False],\n",
       "       ...,\n",
       "       [False, False, False, ..., False, False, False],\n",
       "       [False, False, False, ..., False, False, False],\n",
       "       [False, False,  True, ..., False, False, False]])"
      ]
     },
     "execution_count": 15,
     "metadata": {},
     "output_type": "execute_result"
    }
   ],
   "source": [
    "fold['weights']"
   ]
  },
  {
   "cell_type": "code",
   "execution_count": null,
   "metadata": {},
   "outputs": [],
   "source": []
  },
  {
   "cell_type": "markdown",
   "metadata": {},
   "source": [
    "# Classifier"
   ]
  },
  {
   "cell_type": "code",
   "execution_count": null,
   "metadata": {},
   "outputs": [],
   "source": [
    "from lumin.nn.models.blocks.head import *\n",
    "from lumin.nn.models.blocks.head import AbsGraphFeatExtractor\n",
    "from lumin.nn.models.blocks.gnn_blocks import *\n",
    "from lumin.nn.models.initialisations import lookup_normal_init\n",
    "from lumin.nn.models.layers.activations import lookup_act\n",
    "from lumin.nn.models.layers.batchnorms import RunningBatchNorm1d, LCBatchNorm1d, RunningBatchNorm2d\n",
    "\n",
    "from torch._vmap_internals import _vmap as vmap\n",
    "\n",
    "class X0Net(AbsGraphFeatExtractor):\n",
    "    row_wise:Optional[bool] = True\n",
    "        \n",
    "    def __init__(self, n_v:int, n_fpv:int, vox_centres:Tensor,\n",
    "                 do:float=0, rep_bn:bool=False, act:str='relu',\n",
    "                 lookup_init:Callable[[str,Optional[int],Optional[int]],Callable[[Tensor],None]]=lookup_normal_init,\n",
    "                 lookup_act:Callable[[str],Any]=lookup_act, bn_class:Callable[[int],nn.Module]=nn.BatchNorm1d, rep_bn_class:Callable[[int],nn.Module]=nn.BatchNorm2d):\n",
    "        super().__init__(n_v=n_v, n_fpv=n_fpv, do=do, bn=False, act=act, lookup_init=lookup_init, lookup_act=lookup_act, bn_class=bn_class)\n",
    "        \n",
    "        self.n_voxels,self.rep_bn,self.rep_bn_class = len(vox_centres),rep_bn,rep_bn_class\n",
    "                \n",
    "        # GNNs\n",
    "        if self.rep_bn: self.init_bn = self.rep_bn_class(self.n_fpv)\n",
    "        \n",
    "        self.n_muon_rep, self.n_vox_rep = 40, 40\n",
    "        self.muon_rep_gnn = GravNet(n_v=self.n_v, n_fpv=self.n_fpv,\n",
    "                                    cat_means=True,\n",
    "                                    f_slr_depth=3,\n",
    "                                    n_s=4,\n",
    "                                    n_lr=22,\n",
    "                                    k=25,\n",
    "                                    f_out_depth=1,\n",
    "                                    n_out=[48],\n",
    "                                    act=self.act,\n",
    "                                    use_sa=False,\n",
    "                                    bn=False,\n",
    "                                   )\n",
    "        self.muon_rep_collapser = GraphCollapser(n_v=self.n_v, n_fpv=self.muon_rep_gnn.get_out_size()[1],\n",
    "                                                 flatten=False,\n",
    "                                                 f_final_outs=[self.n_muon_rep],\n",
    "                                                 n_sa_layers=0,\n",
    "                                                 global_feat_vec=False,\n",
    "                                                 act=self.act,\n",
    "                                                 bn=False,\n",
    "                                                )\n",
    "        \n",
    "        if self.rep_bn: self.muon_rep_bn = self.rep_bn_class(self.muon_rep_collapser.get_out_size()+4)\n",
    "        \n",
    "        self.vox_rep_gnn = GravNet(n_v=self.n_voxels, n_fpv=self.muon_rep_collapser.get_out_size()+4,\n",
    "                                   cat_means=True,\n",
    "                                   f_slr_depth=3,\n",
    "                                   n_s=4,\n",
    "                                   n_lr=22,\n",
    "                                   k=12,\n",
    "                                   f_out_depth=1,\n",
    "                                   n_out=[48],\n",
    "                                   act=self.act,\n",
    "                                   use_sa=False,\n",
    "                                   bn=False,\n",
    "                                  )\n",
    "        self.vox_rep_collapser = GraphCollapser(n_v=self.n_voxels, n_fpv=self.vox_rep_gnn.get_out_size()[1],\n",
    "                                                flatten=False,\n",
    "                                                f_final_outs=[self.n_vox_rep],\n",
    "                                                n_sa_layers=0,\n",
    "                                                global_feat_vec=False,\n",
    "                                                act=self.act,\n",
    "                                                bn=False,\n",
    "                                               )\n",
    "        \n",
    "        # Relative voxel positions\n",
    "        self.vox_centres = vox_centres  # (voxel,coords)\n",
    "        vox_dists = self.vox_centres[None]-self.vox_centres[:,None]  # (voxel,voxel,coords)\n",
    "        self.register_buffer('vox_dists', torch.cat((vox_dists,vox_dists.norm(dim=-1, keepdim=True)), dim=-1))\n",
    "        \n",
    "    def forward(self, x:Tensor) -> Tensor:\n",
    "        r'''x=(volume,voxel,muon,feature)'''\n",
    "        if self.rep_bn: x = self.init_bn(x.transpose(1,-1)).transpose(1,-1)\n",
    "        \n",
    "        def get_muon_rep(x:Tensor) -> Tensor:\n",
    "            r'''(voxel,muon,feature)'''\n",
    "            return self.muon_rep_collapser(self.muon_rep_gnn(x))\n",
    "        \n",
    "#         muon_rep = vmap(get_muon_rep)(x)  # (volume,voxel,muon_rep)\n",
    "        muon_rep = torch.stack([get_muon_rep(v) for v in x.unbind()], dim=0)  # (volume,voxel,muon_rep)\n",
    "        muon_rep = muon_rep[:,None].expand(-1,self.n_voxels, -1,-1)  # (volume,voxel,voxel,muon_rep)\n",
    "        muon_rep = torch.cat((muon_rep, self.vox_dists[None].expand(len(muon_rep), -1, -1, -1)), dim=-1)\n",
    "        if self.rep_bn: muon_rep = self.muon_rep_bn(muon_rep.transpose(1,-1)).transpose(1,-1)\n",
    "        \n",
    "        def get_vox_rep(x:Tensor) -> Tensor:\n",
    "            r'''(voxel,voxel,muon_rep)'''\n",
    "            return self.vox_rep_collapser(self.vox_rep_gnn(x))\n",
    "        \n",
    "#         vox_rep = vmap(get_vox_rep)(muon_rep)  # (volume,voxel,class)\n",
    "        vox_rep = torch.stack([get_vox_rep(v) for v in muon_rep.unbind()], dim=0)  # (volume,voxel,class)\n",
    "        return vox_rep\n",
    "    \n",
    "    def get_out_size(self) -> Tuple[int,int]: return self.n_voxels, self.n_vox_rep*2"
   ]
  },
  {
   "cell_type": "code",
   "execution_count": null,
   "metadata": {},
   "outputs": [],
   "source": [
    "from lumin.nn.models.layers.self_attention import *\n",
    "\n",
    "class NodePredictor(GraphCollapser):\n",
    "    def __init__(self, n_v:int, n_fpv:int, out_act:str,\n",
    "                 f_initial_outs:Optional[List[int]]=None,\n",
    "                 n_sa_layers:int=0, sa_width:Optional[int]=None,\n",
    "                 f_final_outs:Optional[List[int]]=None,\n",
    "                 global_feat_vec:bool=False, agg_methods:Union[List[str],str]=['mean','max'],\n",
    "                 do:float=0, bn:bool=False, act:str='relu',\n",
    "                 lookup_init:Callable[[str,Optional[int],Optional[int]],Callable[[Tensor],None]]=lookup_normal_init,\n",
    "                 lookup_act:Callable[[str],Any]=lookup_act, bn_class:Callable[[int],nn.Module]=nn.BatchNorm1d,\n",
    "                 sa_class:Callable[[int],nn.Module]=SelfAttention):\n",
    "        super().__init__(n_v=n_v, n_fpv=n_fpv, flatten=True, f_initial_outs=f_initial_outs, n_sa_layers=n_sa_layers, sa_width=sa_width, f_final_outs=f_final_outs, global_feat_vec=global_feat_vec,\n",
    "                         agg_methods=agg_methods, sa_class=sa_class,\n",
    "                         do=do, bn=bn, act=act, lookup_init=lookup_init, lookup_act=lookup_act, bn_class=bn_class)\n",
    "        if self.f_final_outs is not None:\n",
    "            self.lookup_init(out_act, self.f_final[-1][0].weight.shape[1], self.f_final[-1][0].weight[0])(self.f_final[-1][0].weight)\n",
    "        self.f_final[-1] = self.f_final[-1][0]\n",
    "        self.out_act = self.lookup_act(out_act)\n",
    "    \n",
    "    def _agg(self, x:Tensor) -> Tensor:\n",
    "        return self.out_act(x.transpose(1,-1))  # batch, class, node"
   ]
  },
  {
   "cell_type": "code",
   "execution_count": null,
   "metadata": {},
   "outputs": [],
   "source": [
    "from lumin.nn.models.blocks.body import AbsBody\n",
    "from lumin.nn.models.blocks.tail import AbsTail\n",
    "\n",
    "class NullBody(AbsBody):\n",
    "    def forward(self, x:Tensor) -> Tensor:\n",
    "        return x\n",
    "    \n",
    "    def get_out_size(self) -> int: self.n_in\n",
    "    \n",
    "    \n",
    "class NullTail(AbsTail):\n",
    "    def forward(self, x:Tensor) -> Tensor:\n",
    "        return x\n",
    "    \n",
    "    def get_out_size(self) -> int: self.n_in"
   ]
  },
  {
   "cell_type": "code",
   "execution_count": null,
   "metadata": {},
   "outputs": [],
   "source": [
    "class VoxelImageLoss(nn.NLLLoss):\n",
    "    def __init__(self, weight:Optional[Tensor]=None):\n",
    "        super().__init__(reduction='none')\n",
    "        self.weights = weight\n",
    "        \n",
    "    def forward(self, input:Tensor, target:Tensor) -> Tensor:\n",
    "        if self.weights is not None:\n",
    "            nb = self.weights.sum(1, keepdim=True)\n",
    "            n = target.shape[1]\n",
    "            neach = n/2\n",
    "            vox_weights = ((self.weights==1)*torch.nan_to_num(neach/nb))+((self.weights!=1)*torch.nan_to_num(neach/(n-nb)))\n",
    "            return torch.mean(vox_weights*super().forward(input, target))\n",
    "        else:\n",
    "            return super().forward(input, target).mean()"
   ]
  },
  {
   "cell_type": "code",
   "execution_count": null,
   "metadata": {
    "scrolled": false
   },
   "outputs": [],
   "source": [
    "from lumin.nn.models.blocks.body import FullyConnected\n",
    "from lumin.nn.models.blocks.tail import ClassRegMulti\n",
    "\n",
    "from lumin.nn.models.model_builder import ModelBuilder\n",
    "from lumin.nn.models.model import Model\n",
    "from lumin.optimisation.hyper_param import lr_find\n",
    "\n",
    "head = partial(GNNHead, vecs=sy.matrix_feats['vecs'], feats_per_vec=sy.matrix_feats['present_feats'],\n",
    "               extractor=partial(X0Net, vox_centres=sy.voxel_centres, rep_bn=True, rep_bn_class=RunningBatchNorm2d, act='swish'),\n",
    "               collapser=partial(NodePredictor,\n",
    "                                 out_act='logsoftmax',\n",
    "                                 f_final_outs=[len(sy.passive_generator.materials)],\n",
    "                                 bn=False,\n",
    "                                 act='swish',\n",
    "                                 bn_class=RunningBatchNorm1d\n",
    "                                ))\n",
    "\n",
    "body = partial(NullBody)\n",
    "tail = partial(NullTail)\n",
    "\n",
    "opt_args = {'opt':'adam', 'eps':1e-08}\n",
    "model_builder = ModelBuilder('multiclass', cont_feats=sy.matrix_feats['present_feats'], n_out=len(sy.passive_generator.materials), \n",
    "                             opt_args=opt_args, body=body, head=head, tail=tail, loss=VoxelImageLoss)\n",
    "print(Model(model_builder))"
   ]
  },
  {
   "cell_type": "code",
   "execution_count": null,
   "metadata": {},
   "outputs": [],
   "source": [
    "sy.get_data_count(0)"
   ]
  },
  {
   "cell_type": "code",
   "execution_count": null,
   "metadata": {},
   "outputs": [],
   "source": [
    "lr_finder = lr_find(sy, model_builder, bs=16, lr_bounds=[1e-5,1e0], n_repeats=3, bulk_move=False)"
   ]
  },
  {
   "cell_type": "code",
   "execution_count": null,
   "metadata": {},
   "outputs": [],
   "source": [
    "from lumin.nn.metrics.class_eval import RocAucScore\n",
    "from sklearn.metrics import roc_auc_score\n",
    "\n",
    "class BlockROC(RocAucScore):\n",
    "    def evaluate(self) -> float:\n",
    "        diff_mask = self.weights.sum(1) != self.weights.shape[1]\n",
    "        weights = self.weights[diff_mask]\n",
    "        block_targs = self.targets[diff_mask][weights]\n",
    "        block_preds = self.preds[diff_mask].transpose(0,-1,1)[weights]\n",
    "        return roc_auc_score(y_true=block_targs[:,None], y_score=block_preds, multi_class=self.multi_class, average=self.average)"
   ]
  },
  {
   "cell_type": "code",
   "execution_count": null,
   "metadata": {},
   "outputs": [],
   "source": [
    "from lumin.nn.callbacks.cyclic_callbacks import OneCycle\n",
    "from functools import partial\n",
    "\n",
    "cb_partials = [partial(OneCycle, lengths=[10, 20],lr_range=[1e-5, 1e-3], mom_range=[0.85, 0.95], interp='cosine')]\n",
    "metric_partials = (partial(BlockROC, name='Block Diff ROC AUC', average='weighted', multi_class='ovr'))"
   ]
  },
  {
   "cell_type": "code",
   "execution_count": null,
   "metadata": {
    "scrolled": false
   },
   "outputs": [],
   "source": [
    "from lumin.nn.training.train import train_models\n",
    "_ = train_models(sy, n_models=1,\n",
    "                 model_builder=model_builder,\n",
    "                 bs=16,\n",
    "                 cb_partials=cb_partials,\n",
    "                 metric_partials=metric_partials,\n",
    "                 n_epochs=30,\n",
    "                 bulk_move=False)"
   ]
  },
  {
   "cell_type": "code",
   "execution_count": null,
   "metadata": {},
   "outputs": [],
   "source": [
    "model = Model.from_save('train_weights/model_id_0/best.h5', model_builder)"
   ]
  },
  {
   "cell_type": "code",
   "execution_count": null,
   "metadata": {},
   "outputs": [],
   "source": [
    "data = sy[0]"
   ]
  },
  {
   "cell_type": "code",
   "execution_count": null,
   "metadata": {},
   "outputs": [],
   "source": [
    "pred = model.predict(data['inputs'])"
   ]
  },
  {
   "cell_type": "code",
   "execution_count": null,
   "metadata": {},
   "outputs": [],
   "source": [
    "pred.shape"
   ]
  },
  {
   "cell_type": "code",
   "execution_count": null,
   "metadata": {},
   "outputs": [],
   "source": [
    "weights = data['weights']; weights.shape"
   ]
  },
  {
   "cell_type": "markdown",
   "metadata": {},
   "source": [
    "## All voxels"
   ]
  },
  {
   "cell_type": "code",
   "execution_count": null,
   "metadata": {},
   "outputs": [],
   "source": [
    "pred_class = pred.argmax(1).flatten()\n",
    "# pred_class = pred > 0.5"
   ]
  },
  {
   "cell_type": "code",
   "execution_count": null,
   "metadata": {},
   "outputs": [],
   "source": [
    "pred_class"
   ]
  },
  {
   "cell_type": "code",
   "execution_count": null,
   "metadata": {},
   "outputs": [],
   "source": [
    "targs = data['targets'].flatten()"
   ]
  },
  {
   "cell_type": "code",
   "execution_count": null,
   "metadata": {},
   "outputs": [],
   "source": [
    "targs"
   ]
  },
  {
   "cell_type": "code",
   "execution_count": null,
   "metadata": {},
   "outputs": [],
   "source": [
    "from sklearn.metrics import confusion_matrix, roc_auc_score\n",
    "import pandas as pd\n",
    "\n",
    "df = pd.DataFrame(confusion_matrix(targs, pred_class), sy.passive_generator.materials, sy.passive_generator.materials)\n",
    "plt.figure(figsize=(10,7))\n",
    "sns.set(font_scale=1.4) # for label size\n",
    "sns.heatmap(df, annot=True, annot_kws={\"size\": 16}) # font size\n",
    "plt.ylabel('Target')\n",
    "plt.xlabel('Predicted')"
   ]
  },
  {
   "cell_type": "code",
   "execution_count": null,
   "metadata": {},
   "outputs": [],
   "source": [
    "roc_auc_score(y_true=targs[:,None], y_score=pred.transpose(0,-1,1).reshape(-1,5), multi_class='ovr', average='weighted')"
   ]
  },
  {
   "cell_type": "code",
   "execution_count": null,
   "metadata": {},
   "outputs": [],
   "source": [
    "roc_auc_score(y_true=targs[:,None], y_score=pred.transpose(0,-1,1).reshape(-1,5), multi_class='ovr', average='macro')"
   ]
  },
  {
   "cell_type": "markdown",
   "metadata": {},
   "source": [
    "## Block-only voxels - different material"
   ]
  },
  {
   "cell_type": "code",
   "execution_count": null,
   "metadata": {},
   "outputs": [],
   "source": [
    "diff_mask = weights.sum(1) != 75"
   ]
  },
  {
   "cell_type": "code",
   "execution_count": null,
   "metadata": {},
   "outputs": [],
   "source": [
    "block_targs = data['targets'][diff_mask][weights[diff_mask]]\n",
    "block_preds = pred[diff_mask].transpose(0,-1,1)[weights[diff_mask]]\n",
    "block_pred_class = block_preds.argmax(1)\n",
    "block_targs.shape, block_preds.shape, block_pred_class.shape"
   ]
  },
  {
   "cell_type": "code",
   "execution_count": null,
   "metadata": {},
   "outputs": [],
   "source": [
    "df = pd.DataFrame(confusion_matrix(block_targs, block_pred_class), sy.passive_generator.materials, sy.passive_generator.materials)\n",
    "plt.figure(figsize=(10,7))\n",
    "sns.set(font_scale=1.4) # for label size\n",
    "sns.heatmap(df, annot=True, annot_kws={\"size\": 16}) # font size\n",
    "plt.ylabel('Target')\n",
    "plt.xlabel('Predicted')"
   ]
  },
  {
   "cell_type": "code",
   "execution_count": null,
   "metadata": {},
   "outputs": [],
   "source": [
    "roc_auc_score(y_true=block_targs[:,None], y_score=block_preds, multi_class='ovr', average='weighted')"
   ]
  },
  {
   "cell_type": "code",
   "execution_count": null,
   "metadata": {},
   "outputs": [],
   "source": [
    "roc_auc_score(y_true=block_targs[:,None], y_score=block_preds, multi_class='ovr', average='macro')"
   ]
  },
  {
   "cell_type": "markdown",
   "metadata": {},
   "source": [
    "## Block-only voxels - same material"
   ]
  },
  {
   "cell_type": "code",
   "execution_count": null,
   "metadata": {},
   "outputs": [],
   "source": [
    "same_mask = weights.sum(1) == 75"
   ]
  },
  {
   "cell_type": "code",
   "execution_count": null,
   "metadata": {},
   "outputs": [],
   "source": [
    "block_targs = data['targets'][same_mask][weights[same_mask]]\n",
    "block_preds = pred[same_mask].transpose(0,-1,1)[weights[same_mask]]\n",
    "block_pred_class = block_preds.argmax(1)\n",
    "block_targs.shape, block_preds.shape, block_pred_class.shape"
   ]
  },
  {
   "cell_type": "code",
   "execution_count": null,
   "metadata": {},
   "outputs": [],
   "source": [
    "df = pd.DataFrame(confusion_matrix(block_targs, block_pred_class), sy.passive_generator.materials, sy.passive_generator.materials)\n",
    "plt.figure(figsize=(10,7))\n",
    "sns.set(font_scale=1.4) # for label size\n",
    "sns.heatmap(df, annot=True, annot_kws={\"size\": 16}) # font size\n",
    "plt.ylabel('Target')\n",
    "plt.xlabel('Predicted')"
   ]
  },
  {
   "cell_type": "code",
   "execution_count": null,
   "metadata": {},
   "outputs": [],
   "source": [
    "roc_auc_score(y_true=block_targs[:,None], y_score=block_preds, multi_class='ovr', average='weighted')"
   ]
  },
  {
   "cell_type": "code",
   "execution_count": null,
   "metadata": {},
   "outputs": [],
   "source": [
    "roc_auc_score(y_true=block_targs[:,None], y_score=block_preds, multi_class='ovr', average='macro')"
   ]
  },
  {
   "cell_type": "markdown",
   "metadata": {},
   "source": [
    "# Block size"
   ]
  },
  {
   "cell_type": "code",
   "execution_count": null,
   "metadata": {},
   "outputs": [],
   "source": [
    "class RandomSpecBlockPassiveGenerator(BlockPassiveGenerator):\n",
    "    def generate(self) -> Callable[..., Tensor]:\n",
    "        bkg_mat = np.random.randint(0,len(self.materials))\n",
    "        block_mat = np.random.randint(0,len(self.materials))\n",
    "            \n",
    "        base_x0 = X0[self.materials[bkg_mat]]\n",
    "        block_x0 = X0[self.materials[block_mat]]\n",
    "\n",
    "        block_size = np.random.choice(self.block_size, 3, replace=False)\n",
    "        block_low = np.hstack((np.random.uniform(high=self.lw[0]-block_size[0]), np.random.uniform(high=self.lw[1]-block_size[1]), np.random.uniform(self.z_range[0], self.z_range[1]-block_size[2])))\n",
    "        block_high = block_low+block_size\n",
    "\n",
    "        def generator(*, z: float, lw: Tensor, size: float) -> Tensor:\n",
    "            shp = (lw / size).long()\n",
    "            low_xy = np.round(block_low[:2] / size).astype(int)\n",
    "            high_xy = np.round(block_high[:2] / size).astype(int)\n",
    "            rad_length = torch.ones(list(shp)) * base_x0\n",
    "            if z >= block_low[2] and z <= block_high[2]:\n",
    "                rad_length[low_xy[0] : high_xy[0], low_xy[1] : high_xy[1]] = block_x0\n",
    "            return rad_length\n",
    "\n",
    "        return generator, block_x0"
   ]
  },
  {
   "cell_type": "code",
   "execution_count": null,
   "metadata": {},
   "outputs": [],
   "source": [
    "roc = BlockROC(average='weighted', multi_class='ovr')"
   ]
  },
  {
   "cell_type": "code",
   "execution_count": null,
   "metadata": {},
   "outputs": [],
   "source": [
    "from fastprogress import progress_bar"
   ]
  },
  {
   "cell_type": "code",
   "execution_count": null,
   "metadata": {},
   "outputs": [],
   "source": [
    "rocs = []\n",
    "szs = [0.1,0.2,0.3,0.4,0.5,0.6,0.7,0.8]\n",
    "for sz in progress_bar(szs):\n",
    "    test_sy = ScatterYielder(volume=volume, passive_generator=RandomSpecBlockPassiveGenerator(materials=[\"beryllium\",\"carbon\",\"silicon\",\"iron\",\"lead\"], block_size=(sz,sz,sz), lw=(1,1), z_range=(0.2,0.8), sort_x0=False),\n",
    "                             mu_bs=100, n_volumes_per_fold=512, targ_as_class=True)\n",
    "    data = test_sy[0]\n",
    "    pred = model.predict(data['inputs'])\n",
    "    rocs.append(roc.evaluate_preds(fy=None, fold_idx=None, preds=pred, targets=data['targets'], weights=data['weights']))"
   ]
  },
  {
   "cell_type": "code",
   "execution_count": null,
   "metadata": {},
   "outputs": [],
   "source": [
    "plt.plot(szs[:-1],rocs)"
   ]
  },
  {
   "cell_type": "code",
   "execution_count": null,
   "metadata": {},
   "outputs": [],
   "source": [
    "weights = data['weights']\n",
    "diff_mask = weights.sum(1) != 75"
   ]
  },
  {
   "cell_type": "code",
   "execution_count": null,
   "metadata": {},
   "outputs": [],
   "source": [
    "block_targs = data['targets'][diff_mask][weights[diff_mask]]\n",
    "block_preds = pred[diff_mask].transpose(0,-1,1)[weights[diff_mask]]\n",
    "block_pred_class = block_preds.argmax(1)\n",
    "block_targs.shape, block_preds.shape, block_pred_class.shape"
   ]
  },
  {
   "cell_type": "code",
   "execution_count": null,
   "metadata": {},
   "outputs": [],
   "source": [
    "df = pd.DataFrame(confusion_matrix(block_targs, block_pred_class), sy.passive_generator.materials, sy.passive_generator.materials)\n",
    "plt.figure(figsize=(10,7))\n",
    "sns.set(font_scale=1.4) # for label size\n",
    "sns.heatmap(df, annot=True, annot_kws={\"size\": 16}) # font size\n",
    "plt.ylabel('Target')\n",
    "plt.xlabel('Predicted')"
   ]
  },
  {
   "cell_type": "code",
   "execution_count": null,
   "metadata": {},
   "outputs": [],
   "source": []
  }
 ],
 "metadata": {
  "kernelspec": {
   "display_name": "Python [conda env:tomopt]",
   "language": "python",
   "name": "conda-env-tomopt-py"
  },
  "language_info": {
   "codemirror_mode": {
    "name": "ipython",
    "version": 3
   },
   "file_extension": ".py",
   "mimetype": "text/x-python",
   "name": "python",
   "nbconvert_exporter": "python",
   "pygments_lexer": "ipython3",
   "version": "3.8.11"
  },
  "toc": {
   "base_numbering": 1,
   "nav_menu": {},
   "number_sections": true,
   "sideBar": true,
   "skip_h1_title": false,
   "title_cell": "Table of Contents",
   "title_sidebar": "Contents",
   "toc_cell": false,
   "toc_position": {},
   "toc_section_display": true,
   "toc_window_display": false
  }
 },
 "nbformat": 4,
 "nbformat_minor": 2
}
