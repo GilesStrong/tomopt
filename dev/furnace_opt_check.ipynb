{
 "cells": [
  {
   "cell_type": "code",
   "execution_count": 1,
   "id": "d4df06d1",
   "metadata": {},
   "outputs": [],
   "source": [
    "%matplotlib inline\n",
    "%reload_ext autoreload\n",
    "%autoreload 2"
   ]
  },
  {
   "cell_type": "code",
   "execution_count": 2,
   "id": "c0589863",
   "metadata": {},
   "outputs": [],
   "source": [
    "from typing import *\n",
    "import numpy as np\n",
    "from functools import partial\n",
    "from fastprogress import progress_bar\n",
    "import pandas as pd\n",
    "import h5py\n",
    "\n",
    "from lumin.plotting.results import plot_roc\n",
    "\n",
    "import torch\n",
    "from torch import Tensor, nn\n",
    "import torch.nn.functional as F\n",
    "from torch._vmap_internals import _vmap as vmap\n",
    "\n",
    "from tomopt.volume import *\n",
    "from tomopt.muon import *\n",
    "from tomopt.inference import *\n",
    "from tomopt.optimisation import *\n",
    "from tomopt.core import *\n",
    "from tomopt.utils import *\n",
    "from tomopt.plotting import *\n",
    "\n",
    "import seaborn as sns\n",
    "import matplotlib.pyplot as plt"
   ]
  },
  {
   "cell_type": "code",
   "execution_count": 3,
   "id": "2a887994",
   "metadata": {},
   "outputs": [],
   "source": [
    "DEVICE = torch.device(\"cpu\")"
   ]
  },
  {
   "cell_type": "code",
   "execution_count": 4,
   "id": "f31a105a",
   "metadata": {},
   "outputs": [],
   "source": [
    "def get_volume(size: float = 0.1, lwh: Tensor = Tensor([1.0, 1.0, 1.4]), span=2., device: torch.device = torch.device(\"cpu\")) -> Volume:\n",
    "    def area_cost(x: Tensor) -> Tensor:\n",
    "        return F.relu(x)\n",
    "\n",
    "    layers: List[Layer] = []\n",
    "    n_panels = 4\n",
    "    layers.append(\n",
    "        PanelDetectorLayer(\n",
    "            pos=\"above\",\n",
    "            lw=lwh[:2],\n",
    "            z=lwh[2].item(),\n",
    "            size=0.2,\n",
    "            panels=[\n",
    "                DetectorPanel(\n",
    "                    res=1e4,\n",
    "                    eff=1,\n",
    "                    init_xyz=(0., 0., lwh[2].item() - (i * (0.2) / n_panels)),\n",
    "                    init_xy_span=(span, span),\n",
    "                    area_cost_func=area_cost,\n",
    "                    device=device,\n",
    "                )\n",
    "                for i in range(n_panels)\n",
    "            ],\n",
    "        )\n",
    "    )\n",
    "    for z in np.round(np.arange(lwh[2] - 0.2, 0.2, -size), decimals=2):\n",
    "        layers.append(PassiveLayer(lw=lwh[:2], z=z, size=size, device=device))\n",
    "    layers.append(\n",
    "        PanelDetectorLayer(\n",
    "            pos=\"below\",\n",
    "            lw=lwh[:2],\n",
    "            z=0.2,\n",
    "            size=0.2,\n",
    "            panels=[\n",
    "                DetectorPanel(\n",
    "                    res=1e4,\n",
    "                    eff=1,\n",
    "                    init_xyz=(0., 0., 0.2 - (i * (0.2) / n_panels)),\n",
    "                    init_xy_span=(span, span),\n",
    "                    area_cost_func=area_cost,\n",
    "                    device=device,\n",
    "                )\n",
    "                for i in range(n_panels)\n",
    "            ],\n",
    "        )\n",
    "    )\n",
    "\n",
    "    return Volume(nn.ModuleList(layers))"
   ]
  },
  {
   "cell_type": "code",
   "execution_count": 5,
   "id": "54e9cf70",
   "metadata": {},
   "outputs": [],
   "source": [
    "volume = get_volume()"
   ]
  },
  {
   "cell_type": "code",
   "execution_count": 6,
   "id": "d4b4e8df",
   "metadata": {
    "scrolled": false
   },
   "outputs": [
    {
     "data": {
      "text/plain": [
       "Volume(\n",
       "  (layers): ModuleList(\n",
       "    (0): PanelDetectorLayer(\n",
       "      (panels): ModuleList(\n",
       "        (0): <class 'tomopt.volume.panel.DetectorPanel'> located at xy=tensor([0., 0.]), z=tensor([1.4000]), and xy span tensor([2., 2.])\n",
       "        (1): <class 'tomopt.volume.panel.DetectorPanel'> located at xy=tensor([0., 0.]), z=tensor([1.3500]), and xy span tensor([2., 2.])\n",
       "        (2): <class 'tomopt.volume.panel.DetectorPanel'> located at xy=tensor([0., 0.]), z=tensor([1.3000]), and xy span tensor([2., 2.])\n",
       "        (3): <class 'tomopt.volume.panel.DetectorPanel'> located at xy=tensor([0., 0.]), z=tensor([1.2500]), and xy span tensor([2., 2.])\n",
       "      )\n",
       "    )\n",
       "    (1): PassiveLayer located at z=tensor([1.2000])\n",
       "    (2): PassiveLayer located at z=tensor([1.1000])\n",
       "    (3): PassiveLayer located at z=tensor([1.])\n",
       "    (4): PassiveLayer located at z=tensor([0.9000])\n",
       "    (5): PassiveLayer located at z=tensor([0.8000])\n",
       "    (6): PassiveLayer located at z=tensor([0.7000])\n",
       "    (7): PassiveLayer located at z=tensor([0.6000])\n",
       "    (8): PassiveLayer located at z=tensor([0.5000])\n",
       "    (9): PassiveLayer located at z=tensor([0.4000])\n",
       "    (10): PassiveLayer located at z=tensor([0.3000])\n",
       "    (11): PanelDetectorLayer(\n",
       "      (panels): ModuleList(\n",
       "        (0): <class 'tomopt.volume.panel.DetectorPanel'> located at xy=tensor([0., 0.]), z=tensor([0.2000]), and xy span tensor([2., 2.])\n",
       "        (1): <class 'tomopt.volume.panel.DetectorPanel'> located at xy=tensor([0., 0.]), z=tensor([0.1500]), and xy span tensor([2., 2.])\n",
       "        (2): <class 'tomopt.volume.panel.DetectorPanel'> located at xy=tensor([0., 0.]), z=tensor([0.1000]), and xy span tensor([2., 2.])\n",
       "        (3): <class 'tomopt.volume.panel.DetectorPanel'> located at xy=tensor([0., 0.]), z=tensor([0.0500]), and xy span tensor([2., 2.])\n",
       "      )\n",
       "    )\n",
       "  )\n",
       ")"
      ]
     },
     "execution_count": 6,
     "metadata": {},
     "output_type": "execute_result"
    }
   ],
   "source": [
    "volume"
   ]
  },
  {
   "cell_type": "markdown",
   "id": "9cf11027",
   "metadata": {},
   "source": [
    "# Volume classifier"
   ]
  },
  {
   "cell_type": "code",
   "execution_count": 7,
   "id": "e65d094c",
   "metadata": {},
   "outputs": [],
   "source": [
    "from tomopt.benchmarks.ladle_furnace import *"
   ]
  },
  {
   "cell_type": "markdown",
   "id": "6899a067",
   "metadata": {},
   "source": [
    "# Optimisation"
   ]
  },
  {
   "cell_type": "code",
   "execution_count": 8,
   "id": "1b7638c8",
   "metadata": {},
   "outputs": [
    {
     "data": {
      "text/plain": [
       "tensor(32., grad_fn=<AddBackward0>)"
      ]
     },
     "execution_count": 8,
     "metadata": {},
     "output_type": "execute_result"
    }
   ],
   "source": [
    "volume.get_cost()"
   ]
  },
  {
   "cell_type": "code",
   "execution_count": 9,
   "id": "95dbc4da",
   "metadata": {},
   "outputs": [],
   "source": [
    "passives = PassiveYielder(LadleFurnacePassiveGenerator(volume), n_passives=4)"
   ]
  },
  {
   "cell_type": "code",
   "execution_count": 10,
   "id": "d64862bd",
   "metadata": {},
   "outputs": [],
   "source": [
    "from tomopt.optimisation import NoMoreNaNs, PanelMetricLogger, CostCoefWarmup, PanelOptConfig, MuonResampler"
   ]
  },
  {
   "cell_type": "code",
   "execution_count": 11,
   "id": "97443f36",
   "metadata": {},
   "outputs": [],
   "source": [
    "wrapper = PanelVolumeWrapper(volume,\n",
    "                             xy_pos_opt=partial(torch.optim.SGD, lr=5e4),\n",
    "                             z_pos_opt=partial(torch.optim.SGD, lr=5e3),\n",
    "                             xy_span_opt=partial(torch.optim.SGD, lr=1e4),\n",
    "                             loss_func=LadleFurnaceIntClassLoss(use_mse=True, target_budget=None),\n",
    "                             partial_volume_inferer=partial(LadleFurnaceFillLevelInferrer, partial_x0_inferer=PanelX0Inferer, output_probs=False))"
   ]
  },
  {
   "cell_type": "markdown",
   "id": "c5062556",
   "metadata": {},
   "source": [
    "## Initial performance"
   ]
  },
  {
   "cell_type": "code",
   "execution_count": 12,
   "id": "b8024593",
   "metadata": {},
   "outputs": [],
   "source": [
    "test_passives = PassiveYielder(LadleFurnacePassiveGenerator(volume), n_passives=200)"
   ]
  },
  {
   "cell_type": "code",
   "execution_count": 13,
   "id": "a67cef05",
   "metadata": {},
   "outputs": [
    {
     "data": {
      "text/html": [],
      "text/plain": [
       "<IPython.core.display.HTML object>"
      ]
     },
     "metadata": {},
     "output_type": "display_data"
    },
    {
     "name": "stderr",
     "output_type": "stream",
     "text": [
      "/Users/giles/cernbox/mode_muon_tomography/tomopt/inference/scattering.py:329: UserWarning: torch.meshgrid: in an upcoming release, it will be required to pass the indexing argument. (Triggered internally at  ../aten/src/ATen/native/TensorShape.cpp:2157.)\n",
      "  idxs = torch.combinations(torch.arange(0, unc.shape[-1]), with_replacement=True)\n"
     ]
    }
   ],
   "source": [
    "preds = wrapper.predict(test_passives,\n",
    "                n_mu_per_volume=250,\n",
    "                mu_bs=250,\n",
    "                cbs=[MuonResampler()],\n",
    "                pred_cb=VolumeTargetPredHandler())"
   ]
  },
  {
   "cell_type": "code",
   "execution_count": 14,
   "id": "2b0dc528",
   "metadata": {},
   "outputs": [],
   "source": [
    "df_start = pd.DataFrame(np.array(preds).flatten().reshape(-1,2), columns=['pred', 'gen_target'])"
   ]
  },
  {
   "cell_type": "code",
   "execution_count": 15,
   "id": "268f016a",
   "metadata": {},
   "outputs": [
    {
     "data": {
      "text/plain": [
       "0      1.002456\n",
       "1      0.743948\n",
       "2      1.054893\n",
       "3      1.014637\n",
       "4      0.563929\n",
       "         ...   \n",
       "195    0.564391\n",
       "196    0.403803\n",
       "197    0.500848\n",
       "198    0.709646\n",
       "199    0.828734\n",
       "Name: gen_target, Length: 200, dtype: float32"
      ]
     },
     "execution_count": 15,
     "metadata": {},
     "output_type": "execute_result"
    }
   ],
   "source": [
    "df_start.gen_target"
   ]
  },
  {
   "cell_type": "code",
   "execution_count": 16,
   "id": "2c25fcfe",
   "metadata": {},
   "outputs": [
    {
     "data": {
      "text/plain": [
       "0      1.0\n",
       "1      0.7\n",
       "2      1.0\n",
       "3      1.0\n",
       "4      0.5\n",
       "      ... \n",
       "195    0.5\n",
       "196    0.4\n",
       "197    0.5\n",
       "198    0.7\n",
       "199    0.8\n",
       "Name: gen_target, Length: 200, dtype: float32"
      ]
     },
     "execution_count": 16,
     "metadata": {},
     "output_type": "execute_result"
    }
   ],
   "source": [
    "volume.passive_size*((df_start.gen_target/volume.passive_size)//1)"
   ]
  },
  {
   "cell_type": "code",
   "execution_count": 17,
   "id": "e291b4dd",
   "metadata": {},
   "outputs": [],
   "source": [
    "df_start['gen_target'] = volume.passive_size*((df_start.gen_target/volume.passive_size)//1)"
   ]
  },
  {
   "cell_type": "code",
   "execution_count": 18,
   "id": "c5ef91ad",
   "metadata": {},
   "outputs": [
    {
     "data": {
      "text/html": [
       "<div>\n",
       "<style scoped>\n",
       "    .dataframe tbody tr th:only-of-type {\n",
       "        vertical-align: middle;\n",
       "    }\n",
       "\n",
       "    .dataframe tbody tr th {\n",
       "        vertical-align: top;\n",
       "    }\n",
       "\n",
       "    .dataframe thead th {\n",
       "        text-align: right;\n",
       "    }\n",
       "</style>\n",
       "<table border=\"1\" class=\"dataframe\">\n",
       "  <thead>\n",
       "    <tr style=\"text-align: right;\">\n",
       "      <th></th>\n",
       "      <th>pred</th>\n",
       "      <th>gen_target</th>\n",
       "    </tr>\n",
       "  </thead>\n",
       "  <tbody>\n",
       "    <tr>\n",
       "      <th>0</th>\n",
       "      <td>0.8</td>\n",
       "      <td>1.0</td>\n",
       "    </tr>\n",
       "    <tr>\n",
       "      <th>1</th>\n",
       "      <td>0.5</td>\n",
       "      <td>0.7</td>\n",
       "    </tr>\n",
       "    <tr>\n",
       "      <th>2</th>\n",
       "      <td>0.9</td>\n",
       "      <td>1.0</td>\n",
       "    </tr>\n",
       "    <tr>\n",
       "      <th>3</th>\n",
       "      <td>0.9</td>\n",
       "      <td>1.0</td>\n",
       "    </tr>\n",
       "    <tr>\n",
       "      <th>4</th>\n",
       "      <td>0.9</td>\n",
       "      <td>0.5</td>\n",
       "    </tr>\n",
       "    <tr>\n",
       "      <th>...</th>\n",
       "      <td>...</td>\n",
       "      <td>...</td>\n",
       "    </tr>\n",
       "    <tr>\n",
       "      <th>195</th>\n",
       "      <td>0.6</td>\n",
       "      <td>0.5</td>\n",
       "    </tr>\n",
       "    <tr>\n",
       "      <th>196</th>\n",
       "      <td>0.5</td>\n",
       "      <td>0.4</td>\n",
       "    </tr>\n",
       "    <tr>\n",
       "      <th>197</th>\n",
       "      <td>0.9</td>\n",
       "      <td>0.5</td>\n",
       "    </tr>\n",
       "    <tr>\n",
       "      <th>198</th>\n",
       "      <td>0.9</td>\n",
       "      <td>0.7</td>\n",
       "    </tr>\n",
       "    <tr>\n",
       "      <th>199</th>\n",
       "      <td>0.9</td>\n",
       "      <td>0.8</td>\n",
       "    </tr>\n",
       "  </tbody>\n",
       "</table>\n",
       "<p>200 rows × 2 columns</p>\n",
       "</div>"
      ],
      "text/plain": [
       "     pred  gen_target\n",
       "0     0.8         1.0\n",
       "1     0.5         0.7\n",
       "2     0.9         1.0\n",
       "3     0.9         1.0\n",
       "4     0.9         0.5\n",
       "..    ...         ...\n",
       "195   0.6         0.5\n",
       "196   0.5         0.4\n",
       "197   0.9         0.5\n",
       "198   0.9         0.7\n",
       "199   0.9         0.8\n",
       "\n",
       "[200 rows x 2 columns]"
      ]
     },
     "execution_count": 18,
     "metadata": {},
     "output_type": "execute_result"
    }
   ],
   "source": [
    "df_start"
   ]
  },
  {
   "cell_type": "code",
   "execution_count": 19,
   "id": "7b56d07a",
   "metadata": {},
   "outputs": [],
   "source": [
    "df_start['mse'] = (df_start.gen_target-df_start.pred)**2"
   ]
  },
  {
   "cell_type": "code",
   "execution_count": 20,
   "id": "5bb9acde",
   "metadata": {},
   "outputs": [
    {
     "data": {
      "text/plain": [
       "0.0627"
      ]
     },
     "execution_count": 20,
     "metadata": {},
     "output_type": "execute_result"
    }
   ],
   "source": [
    "df_start.mse.mean()"
   ]
  },
  {
   "cell_type": "markdown",
   "id": "e533932f",
   "metadata": {},
   "source": [
    "## Optimise"
   ]
  },
  {
   "cell_type": "code",
   "execution_count": 21,
   "id": "c32ea861",
   "metadata": {},
   "outputs": [],
   "source": [
    "wrapper.partial_volume_inferer = partial(LadleFurnaceFillLevelInferrer, partial_x0_inferer=PanelX0Inferer, output_probs=True)"
   ]
  },
  {
   "cell_type": "code",
   "execution_count": 22,
   "id": "9ee7210e",
   "metadata": {
    "scrolled": false
   },
   "outputs": [
    {
     "name": "stdout",
     "output_type": "stream",
     "text": [
      "CostCoefWarmup: Freezing optimisation for 5 epochs\n",
      "PanelOptConfig: Freezing optimisation for 5 epochs\n"
     ]
    },
    {
     "data": {
      "image/png": "[encoded data removed]",
      "text/plain": [
       "<Figure size 1024x1024 with 8 Axes>"
      ]
     },
     "metadata": {},
     "output_type": "display_data"
    },
    {
     "data": {
      "text/html": [
       "\n",
       "    <div>\n",
       "        <style>\n",
       "            /* Turns off some styling */\n",
       "            progress {\n",
       "                /* gets rid of default border in Firefox and Opera. */\n",
       "                border: none;\n",
       "                /* Needs to be in here for Safari polyfill so background images work as expected. */\n",
       "                background-size: auto;\n",
       "            }\n",
       "            .progress-bar-interrupted, .progress-bar-interrupted::-webkit-progress-bar {\n",
       "                background: #F44336;\n",
       "            }\n",
       "        </style>\n",
       "      <progress value='15' class='' max='15' style='width:300px; height:20px; vertical-align: middle;'></progress>\n",
       "      100.00% [15/15 06:21<00:00]\n",
       "    </div>\n",
       "    "
      ],
      "text/plain": [
       "<IPython.core.display.HTML object>"
      ]
     },
     "metadata": {},
     "output_type": "display_data"
    },
    {
     "name": "stdout",
     "output_type": "stream",
     "text": [
      "Automatically setting cost coefficient to 0.0024571362882852554\n"
     ]
    },
    {
     "name": "stderr",
     "output_type": "stream",
     "text": [
      "/Users/giles/cernbox/mode_muon_tomography/tomopt/optimisation/callbacks/monitors.py:220: UserWarning: Attempting to set identical left == right == 1.0 results in singular transformations; automatically expanding.\n",
      "  ax.set_xlim(1 / self.n_trn_batches, x[-1])\n"
     ]
    },
    {
     "name": "stdout",
     "output_type": "stream",
     "text": [
      "CostCoefWarmup: Warmed up, average error = tensor([0.0024])\n",
      "PanelOptConfig: Optimiser warm-up completed\n",
      "+-------------+---------------+--------------------+\n",
      "|    Param    |  Median Grad  |         LR         |\n",
      "+-------------+---------------+--------------------+\n",
      "|  xy_pos_opt |  0.0005153215 | 19.405361414618696 |\n",
      "|  z_pos_opt  |  0.001686649  | 2.964457844156678  |\n",
      "| xy_span_opt | 0.00016579966 | 60.31375391906345  |\n",
      "+-------------+---------------+--------------------+\n"
     ]
    },
    {
     "data": {
      "text/plain": [
       "<Figure size 1024x1024 with 0 Axes>"
      ]
     },
     "metadata": {},
     "output_type": "display_data"
    }
   ],
   "source": [
    "_ = wrapper.fit(n_epochs=15,\n",
    "                passive_bs=4,\n",
    "                n_mu_per_volume=250,\n",
    "                mu_bs=250,\n",
    "                trn_passives=passives,\n",
    "                val_passives=passives,\n",
    "                cbs=[CostCoefWarmup(n_warmup=5), PanelOptConfig(n_warmup=5, xy_pos_rate=0.01, z_pos_rate=0.005, xy_span_rate=0.01), MuonResampler(), NoMoreNaNs(),PanelMetricLogger()])"
   ]
  },
  {
   "cell_type": "code",
   "execution_count": 23,
   "id": "e0219269",
   "metadata": {},
   "outputs": [
    {
     "data": {
      "text/plain": [
       "tensor(34.5855, grad_fn=<AddBackward0>)"
      ]
     },
     "execution_count": 23,
     "metadata": {},
     "output_type": "execute_result"
    }
   ],
   "source": [
    "volume.get_cost()"
   ]
  },
  {
   "cell_type": "markdown",
   "id": "740db2b4",
   "metadata": {},
   "source": [
    "## Optimised performance"
   ]
  },
  {
   "cell_type": "code",
   "execution_count": 34,
   "id": "65c05827",
   "metadata": {},
   "outputs": [],
   "source": [
    "wrapper.partial_volume_inferer = partial(LadleFurnaceFillLevelInferrer, partial_x0_inferer=PanelX0Inferer, output_probs=False)"
   ]
  },
  {
   "cell_type": "code",
   "execution_count": 35,
   "id": "d1af91f7",
   "metadata": {},
   "outputs": [
    {
     "data": {
      "text/html": [],
      "text/plain": [
       "<IPython.core.display.HTML object>"
      ]
     },
     "metadata": {},
     "output_type": "display_data"
    }
   ],
   "source": [
    "preds = wrapper.predict(test_passives,\n",
    "                n_mu_per_volume=250,\n",
    "                mu_bs=250,\n",
    "                cbs=[MuonResampler()],\n",
    "                pred_cb=VolumeTargetPredHandler())"
   ]
  },
  {
   "cell_type": "code",
   "execution_count": 36,
   "id": "ef770e4f",
   "metadata": {},
   "outputs": [],
   "source": [
    "df_end = pd.DataFrame(np.array(preds).flatten().reshape(-1,2), columns=['pred', 'gen_target'])"
   ]
  },
  {
   "cell_type": "code",
   "execution_count": 37,
   "id": "107fa7f6",
   "metadata": {},
   "outputs": [],
   "source": [
    "df_end['gen_target'] = volume.passive_size*((df_end.gen_target/volume.passive_size)//1)"
   ]
  },
  {
   "cell_type": "code",
   "execution_count": 38,
   "id": "3e92fce8",
   "metadata": {},
   "outputs": [],
   "source": [
    "df_end['mse'] = (df_end.gen_target-df_end.pred)**2"
   ]
  },
  {
   "cell_type": "code",
   "execution_count": 39,
   "id": "0d6d96ec",
   "metadata": {},
   "outputs": [
    {
     "data": {
      "text/plain": [
       "0.06385"
      ]
     },
     "execution_count": 39,
     "metadata": {},
     "output_type": "execute_result"
    }
   ],
   "source": [
    "df_end.mse.mean()"
   ]
  },
  {
   "cell_type": "code",
   "execution_count": null,
   "id": "8e7892eb",
   "metadata": {},
   "outputs": [],
   "source": []
  }
 ],
 "metadata": {
  "kernelspec": {
   "display_name": "Python [conda env:tomopt]",
   "language": "python",
   "name": "conda-env-tomopt-py"
  },
  "language_info": {
   "codemirror_mode": {
    "name": "ipython",
    "version": 3
   },
   "file_extension": ".py",
   "mimetype": "text/x-python",
   "name": "python",
   "nbconvert_exporter": "python",
   "pygments_lexer": "ipython3",
   "version": "3.8.0"
  },
  "toc": {
   "base_numbering": 1,
   "nav_menu": {},
   "number_sections": true,
   "sideBar": true,
   "skip_h1_title": false,
   "title_cell": "Table of Contents",
   "title_sidebar": "Contents",
   "toc_cell": false,
   "toc_position": {},
   "toc_section_display": true,
   "toc_window_display": false
  }
 },
 "nbformat": 4,
 "nbformat_minor": 5
}
