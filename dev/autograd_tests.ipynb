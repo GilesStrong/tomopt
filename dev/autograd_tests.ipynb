{
 "cells": [
  {
   "cell_type": "code",
   "execution_count": 1,
   "metadata": {},
   "outputs": [],
   "source": [
    "%matplotlib inline\n",
    "%reload_ext autoreload\n",
    "%autoreload 2"
   ]
  },
  {
   "cell_type": "code",
   "execution_count": 2,
   "metadata": {},
   "outputs": [],
   "source": [
    "from tomopt.muon import *\n",
    "from tomopt.inference import *\n",
    "from tomopt.volume import *\n",
    "from tomopt.core import *\n",
    "from tomopt.optimisation import *\n",
    "\n",
    "import matplotlib.pyplot as plt\n",
    "import seaborn as sns\n",
    "from typing import *\n",
    "import numpy as np\n",
    "\n",
    "import torch\n",
    "from torch import Tensor, nn\n",
    "import torch.nn.functional as F"
   ]
  },
  {
   "cell_type": "code",
   "execution_count": 3,
   "metadata": {},
   "outputs": [],
   "source": [
    "import torch\n",
    "from torch import nn, Tensor\n",
    "from torch.autograd import grad"
   ]
  },
  {
   "cell_type": "code",
   "execution_count": 4,
   "metadata": {},
   "outputs": [],
   "source": [
    "x = nn.Parameter(Tensor([1]))"
   ]
  },
  {
   "cell_type": "code",
   "execution_count": 5,
   "metadata": {},
   "outputs": [],
   "source": [
    "y = 3*(x**2)"
   ]
  },
  {
   "cell_type": "code",
   "execution_count": 6,
   "metadata": {},
   "outputs": [
    {
     "data": {
      "text/plain": [
       "(tensor([6.]),)"
      ]
     },
     "execution_count": 6,
     "metadata": {},
     "output_type": "execute_result"
    }
   ],
   "source": [
    "grad(y, x, retain_graph=True)"
   ]
  },
  {
   "cell_type": "code",
   "execution_count": 7,
   "metadata": {},
   "outputs": [],
   "source": [
    "z = 2*(y**3)"
   ]
  },
  {
   "cell_type": "code",
   "execution_count": 8,
   "metadata": {},
   "outputs": [
    {
     "data": {
      "text/plain": [
       "(tensor([54.]),)"
      ]
     },
     "execution_count": 8,
     "metadata": {},
     "output_type": "execute_result"
    }
   ],
   "source": [
    "grad(z, y, retain_graph=True)"
   ]
  },
  {
   "cell_type": "code",
   "execution_count": 9,
   "metadata": {},
   "outputs": [
    {
     "data": {
      "text/plain": [
       "tensor([54.], grad_fn=<MulBackward0>)"
      ]
     },
     "execution_count": 9,
     "metadata": {},
     "output_type": "execute_result"
    }
   ],
   "source": [
    "6*(y**2)"
   ]
  },
  {
   "cell_type": "code",
   "execution_count": 10,
   "metadata": {},
   "outputs": [],
   "source": [
    "def arb_rad_length(*,z:float, lw:Tensor, size:float) -> float:\n",
    "    rad_length = torch.ones(list((lw/size).long()))*X0['beryllium']\n",
    "    if z >= 0.4 and z <= 0.5: rad_length[5:,5:] = X0['lead']\n",
    "    return rad_length"
   ]
  },
  {
   "cell_type": "code",
   "execution_count": 11,
   "metadata": {},
   "outputs": [],
   "source": [
    "def eff_cost(x:Tensor) -> Tensor:\n",
    "    return torch.expm1(3*F.relu(x))"
   ]
  },
  {
   "cell_type": "code",
   "execution_count": 12,
   "metadata": {},
   "outputs": [],
   "source": [
    "def res_cost(x:Tensor) -> Tensor:\n",
    "    return F.relu(x/100)**2"
   ]
  },
  {
   "cell_type": "code",
   "execution_count": 13,
   "metadata": {},
   "outputs": [],
   "source": [
    "def get_layers():\n",
    "    layers = []\n",
    "    lwh = Tensor([1,1,1])\n",
    "    size = 0.1\n",
    "    init_eff = 0.5\n",
    "    init_res = 1000\n",
    "    pos = 'above'\n",
    "    for z,d in zip(np.arange(lwh[2],0,-size), [1,1,0,0,0,0,0,0,1,1]):\n",
    "        if d:\n",
    "            layers.append(DetectorLayer(pos=pos, init_eff=init_eff, init_res=init_res,\n",
    "                                        lw=lwh[:2], z=z, size=size, eff_cost_func=eff_cost, res_cost_func=res_cost))\n",
    "        else:\n",
    "            pos = 'below'\n",
    "            layers.append(PassiveLayer(rad_length_func=arb_rad_length, lw=lwh[:2], z=z, size=size))\n",
    "\n",
    "    return nn.ModuleList(layers) "
   ]
  },
  {
   "cell_type": "code",
   "execution_count": 14,
   "metadata": {},
   "outputs": [],
   "source": [
    "volume = Volume(get_layers())"
   ]
  },
  {
   "cell_type": "code",
   "execution_count": 15,
   "metadata": {},
   "outputs": [],
   "source": [
    "muons = MuonBatch(generate_batch(100), 1)"
   ]
  },
  {
   "cell_type": "code",
   "execution_count": 16,
   "metadata": {},
   "outputs": [],
   "source": [
    "volume(muons)"
   ]
  },
  {
   "cell_type": "code",
   "execution_count": 17,
   "metadata": {},
   "outputs": [],
   "source": [
    "hits = muons.get_hits(volume.lw)"
   ]
  },
  {
   "cell_type": "code",
   "execution_count": 18,
   "metadata": {},
   "outputs": [],
   "source": [
    "xa0 = torch.cat([hits[\"above\"][\"xy\"][:, 0], hits[\"above\"][\"z\"][:, 0]], dim=-1)  # reco x, reco y, gen z\n",
    "xa1 = torch.cat([hits[\"above\"][\"xy\"][:, 1], hits[\"above\"][\"z\"][:, 1]], dim=-1)\n",
    "xb0 = torch.cat([hits[\"below\"][\"xy\"][:, 1], hits[\"below\"][\"z\"][:, 1]], dim=-1)\n",
    "xb1 = torch.cat([hits[\"below\"][\"xy\"][:, 0], hits[\"below\"][\"z\"][:, 0]], dim=-1)\n",
    "\n",
    "dets = volume.get_detectors()\n",
    "res = []\n",
    "for p, l, i in zip((\"above\", \"above\", \"below\", \"below\"), dets, (0, 1, 1, 0)):\n",
    "    x = l.abs2idx(hits[p][\"xy\"][:, i])\n",
    "    r = 1/l.resolution[x[:, 0], x[:, 1]]\n",
    "    res.append(torch.stack([r,r,torch.zeros_like(r)], dim=-1))\n",
    "hit_unc = torch.stack(res, dim=1)\n",
    "\n",
    "# Extrapolate muon-path vectors from hits\n",
    "v1 = xa1 - xa0\n",
    "v2 = xb1 - xb0\n",
    "\n",
    "# scatter locations\n",
    "v3 = torch.cross(v1, v2, dim=1)  # connecting vector perpendicular to both lines\n",
    "rhs = xb0 - xa0\n",
    "lhs = torch.stack([v1, -v2, v3], dim=1).transpose(2, 1)\n",
    "coefs = torch.linalg.solve(lhs, rhs)  # solve p1+t1*v1 + t3*v3 = p2+t2*v2 => p2-p1 = t1*v1 - t2*v2 + t3*v3\n",
    "\n",
    "q1 = xa0 + (coefs[:, 0:1] * v1)  # closest point on v1\n",
    "loc = q1 + (coefs[:, 2:3] * v3 / 2)  # Move halfway along v3 from q1\n",
    "\n",
    "# Theta deviations\n",
    "_theta_in = torch.arctan(v1[:, :2] / v1[:, 2:3])\n",
    "_theta_out = torch.arctan(v2[:, :2] / v2[:, 2:3])\n",
    "_dtheta = torch.abs(_theta_in - _theta_out)\n",
    "\n",
    "# xy deviations\n",
    "_dxy = coefs[:, 2:3] * v3[:, :2]"
   ]
  },
  {
   "cell_type": "code",
   "execution_count": 19,
   "metadata": {},
   "outputs": [
    {
     "data": {
      "text/plain": [
       "torch.Size([80, 4, 3])"
      ]
     },
     "execution_count": 19,
     "metadata": {},
     "output_type": "execute_result"
    }
   ],
   "source": [
    "hit_unc.shape"
   ]
  },
  {
   "cell_type": "code",
   "execution_count": 20,
   "metadata": {},
   "outputs": [
    {
     "data": {
      "text/plain": [
       "tensor(-4.5297e-07)"
      ]
     },
     "execution_count": 20,
     "metadata": {},
     "output_type": "execute_result"
    }
   ],
   "source": [
    "grad(xa0[0,0], volume.get_detectors()[0].resolution, retain_graph=True)[0].sum()"
   ]
  },
  {
   "cell_type": "code",
   "execution_count": 21,
   "metadata": {},
   "outputs": [
    {
     "data": {
      "text/plain": [
       "tensor(-2.6262e-06)"
      ]
     },
     "execution_count": 21,
     "metadata": {},
     "output_type": "execute_result"
    }
   ],
   "source": [
    "grad(loc[0,0], volume.get_detectors()[0].resolution, retain_graph=True)[0].sum()"
   ]
  },
  {
   "cell_type": "code",
   "execution_count": 22,
   "metadata": {},
   "outputs": [
    {
     "data": {
      "text/plain": [
       "tensor([-1.1140,  4.1284,  0.5887])"
      ]
     },
     "execution_count": 22,
     "metadata": {},
     "output_type": "execute_result"
    }
   ],
   "source": [
    "grad(loc[0,0], xa0, retain_graph=True, allow_unused=True)[0].sum(0)"
   ]
  },
  {
   "cell_type": "code",
   "execution_count": 23,
   "metadata": {},
   "outputs": [],
   "source": [
    "from tomopt.utils import jacobian"
   ]
  },
  {
   "cell_type": "code",
   "execution_count": 24,
   "metadata": {},
   "outputs": [
    {
     "data": {
      "text/plain": [
       "tensor([[ -1.1140,   4.1284,   0.5887],\n",
       "        [ -2.8012, -20.4058,  -2.7180],\n",
       "        [ 18.4357, 122.8164,  16.3223]])"
      ]
     },
     "execution_count": 24,
     "metadata": {},
     "output_type": "execute_result"
    }
   ],
   "source": [
    "jacobian(loc[0], xa0).sum(1)"
   ]
  },
  {
   "cell_type": "code",
   "execution_count": 25,
   "metadata": {},
   "outputs": [
    {
     "data": {
      "text/plain": [
       "torch.Size([80, 4, 3])"
      ]
     },
     "execution_count": 25,
     "metadata": {},
     "output_type": "execute_result"
    }
   ],
   "source": [
    "hit_unc.shape"
   ]
  },
  {
   "cell_type": "markdown",
   "metadata": {},
   "source": [
    "## Loc Unc"
   ]
  },
  {
   "cell_type": "code",
   "execution_count": 143,
   "metadata": {},
   "outputs": [],
   "source": [
    "def compute_unc(var:Tensor, hits:List[Tensor], hit_uncs:List[Tensor]) -> Tensor:\n",
    "    unc2_sum = None\n",
    "    for i, (xi, unci) in enumerate(zip(hits, hit_uncs)):\n",
    "        for j, (xj, uncj)in enumerate(zip(hits, hit_uncs)):\n",
    "            if j < i: continue\n",
    "            dv_dx_2 = jacobian(var, xi).sum((2))*jacobian(var, xj).sum((2)) if i != j else jacobian(var, xi).sum((2))**2  # Muons, var_xyz, hit_xyz\n",
    "            unc_2 = (dv_dx_2*unci[:,None]*uncj[:,None]).sum(2)  # Muons, (x,y,z)\n",
    "            if unc2_sum is None:\n",
    "                unc2_sum = unc_2\n",
    "            else:\n",
    "                unc2_sum = unc2_sum + unc_2\n",
    "    return torch.sqrt(unc2_sum)"
   ]
  },
  {
   "cell_type": "code",
   "execution_count": 148,
   "metadata": {},
   "outputs": [],
   "source": [
    "loc_unc = compute_unc(loc, [xa0, xa1, xb0, xb1], [hit_unc[:,0], hit_unc[:,1], hit_unc[:,2], hit_unc[:,3]])"
   ]
  },
  {
   "cell_type": "code",
   "execution_count": 149,
   "metadata": {},
   "outputs": [
    {
     "data": {
      "text/plain": [
       "tensor([[0.0056, 0.0303, 0.1924],\n",
       "        [0.0583, 0.0431, 2.2424],\n",
       "        [0.0243, 0.0101, 0.1479],\n",
       "        [0.0083, 0.0215, 0.1487],\n",
       "        [0.0705, 0.0170, 0.4718],\n",
       "        [0.0957, 0.1632, 1.1465],\n",
       "        [0.0149, 0.0085, 0.2138],\n",
       "        [0.0120, 0.0163, 0.2313],\n",
       "        [0.0153, 0.0231, 0.2059],\n",
       "        [0.0213, 0.0252, 0.6726]], grad_fn=<SliceBackward>)"
      ]
     },
     "execution_count": 149,
     "metadata": {},
     "output_type": "execute_result"
    }
   ],
   "source": [
    "loc_unc[:10]"
   ]
  },
  {
   "cell_type": "code",
   "execution_count": 150,
   "metadata": {},
   "outputs": [
    {
     "data": {
      "text/plain": [
       "tensor([[-1.5340e-06, -6.6594e-06, -4.0085e-05],\n",
       "        [-4.7773e-06, -6.1904e-06, -2.5527e-04],\n",
       "        [-6.7754e-06, -2.8755e-06, -4.4612e-05],\n",
       "        [-5.6997e-08, -5.5747e-09, -4.3923e-07],\n",
       "        [-2.2656e-05, -5.4023e-06, -1.5331e-04],\n",
       "        [-3.8480e-05, -6.5496e-05, -4.6314e-04],\n",
       "        [-1.3767e-06, -4.1200e-07, -1.3547e-05],\n",
       "        [-3.7930e-06, -4.5509e-06, -6.5607e-05],\n",
       "        [-1.8023e-06, -2.9229e-06, -3.1267e-05],\n",
       "        [-6.0952e-06, -7.5207e-06, -1.9299e-04]])"
      ]
     },
     "execution_count": 150,
     "metadata": {},
     "output_type": "execute_result"
    }
   ],
   "source": [
    "jacobian(loc_unc, dets[0].resolution).sum((-1, -2))[:10]"
   ]
  },
  {
   "cell_type": "markdown",
   "metadata": {},
   "source": [
    "# $\\Delta\\theta$ unc"
   ]
  },
  {
   "cell_type": "code",
   "execution_count": 151,
   "metadata": {},
   "outputs": [
    {
     "data": {
      "text/plain": [
       "torch.Size([80, 3])"
      ]
     },
     "execution_count": 151,
     "metadata": {},
     "output_type": "execute_result"
    }
   ],
   "source": [
    "xa0.shape"
   ]
  },
  {
   "cell_type": "code",
   "execution_count": 152,
   "metadata": {},
   "outputs": [],
   "source": [
    "dtheta_unc = compute_unc(_dtheta, [xa0, xa1, xb0, xb1], [hit_unc[:,0], hit_unc[:,1], hit_unc[:,2], hit_unc[:,3]])"
   ]
  },
  {
   "cell_type": "code",
   "execution_count": 153,
   "metadata": {},
   "outputs": [
    {
     "data": {
      "text/plain": [
       "tensor([[0.0141, 0.0138],\n",
       "        [0.0141, 0.0141],\n",
       "        [0.0137, 0.0141],\n",
       "        [0.0141, 0.0139],\n",
       "        [0.0138, 0.0141],\n",
       "        [0.0140, 0.0139],\n",
       "        [0.0141, 0.0141],\n",
       "        [0.0141, 0.0141],\n",
       "        [0.0141, 0.0140],\n",
       "        [0.0141, 0.0141]], grad_fn=<SliceBackward>)"
      ]
     },
     "execution_count": 153,
     "metadata": {},
     "output_type": "execute_result"
    }
   ],
   "source": [
    "dtheta_unc[:10]"
   ]
  },
  {
   "cell_type": "code",
   "execution_count": 154,
   "metadata": {},
   "outputs": [
    {
     "data": {
      "text/plain": [
       "tensor([[-3.5361e-06, -3.4871e-06],\n",
       "        [-3.5330e-06, -3.5349e-06],\n",
       "        [-3.3855e-06, -3.5283e-06],\n",
       "        [-3.5259e-06, -3.4416e-06],\n",
       "        [-3.4357e-06, -3.5327e-06],\n",
       "        [-3.5033e-06, -3.4599e-06],\n",
       "        [-3.5290e-06, -3.5298e-06],\n",
       "        [-3.5359e-06, -3.5176e-06],\n",
       "        [-3.5079e-06, -3.4778e-06],\n",
       "        [-3.5342e-06, -3.5339e-06]])"
      ]
     },
     "execution_count": 154,
     "metadata": {},
     "output_type": "execute_result"
    }
   ],
   "source": [
    "jacobian(dtheta_unc, dets[0].resolution).sum((-1, -2))[:10]"
   ]
  },
  {
   "cell_type": "markdown",
   "metadata": {},
   "source": [
    "# $\\theta_1$ unc"
   ]
  },
  {
   "cell_type": "code",
   "execution_count": 155,
   "metadata": {},
   "outputs": [],
   "source": [
    "theta_unc = compute_unc(_theta_in, [xa0, xa1], [hit_unc[:,0], hit_unc[:,1]])"
   ]
  },
  {
   "cell_type": "code",
   "execution_count": 156,
   "metadata": {},
   "outputs": [
    {
     "data": {
      "text/plain": [
       "tensor([[0.0100, 0.0098],\n",
       "        [0.0100, 0.0100],\n",
       "        [0.0096, 0.0100],\n",
       "        [0.0100, 0.0098],\n",
       "        [0.0097, 0.0100],\n",
       "        [0.0099, 0.0098],\n",
       "        [0.0100, 0.0100],\n",
       "        [0.0100, 0.0099],\n",
       "        [0.0099, 0.0099],\n",
       "        [0.0100, 0.0100]], grad_fn=<SliceBackward>)"
      ]
     },
     "execution_count": 156,
     "metadata": {},
     "output_type": "execute_result"
    }
   ],
   "source": [
    "theta_unc[:10]"
   ]
  },
  {
   "cell_type": "code",
   "execution_count": 157,
   "metadata": {},
   "outputs": [
    {
     "data": {
      "text/plain": [
       "tensor([[-4.9973e-06, -4.9087e-06],\n",
       "        [-4.9967e-06, -4.9985e-06],\n",
       "        [-4.8220e-06, -4.9870e-06],\n",
       "        [-4.9878e-06, -4.8979e-06],\n",
       "        [-4.8721e-06, -4.9956e-06],\n",
       "        [-4.9585e-06, -4.8955e-06],\n",
       "        [-4.9802e-06, -4.9927e-06],\n",
       "        [-4.9948e-06, -4.9749e-06],\n",
       "        [-4.9674e-06, -4.9295e-06],\n",
       "        [-4.9971e-06, -4.9953e-06]])"
      ]
     },
     "execution_count": 157,
     "metadata": {},
     "output_type": "execute_result"
    }
   ],
   "source": [
    "jacobian(theta_unc, dets[0].resolution).sum((-1, -2))[:10]"
   ]
  },
  {
   "cell_type": "markdown",
   "metadata": {},
   "source": [
    "# $\\Delta xy$ unc"
   ]
  },
  {
   "cell_type": "code",
   "execution_count": 158,
   "metadata": {},
   "outputs": [],
   "source": [
    "dxy_unc = compute_unc(_dxy, [xa0, xa1, xb0, xb1], [hit_unc[:,0], hit_unc[:,1], hit_unc[:,2], hit_unc[:,3]])"
   ]
  },
  {
   "cell_type": "code",
   "execution_count": 159,
   "metadata": {},
   "outputs": [
    {
     "data": {
      "text/plain": [
       "tensor([[0.0053, 0.0049],\n",
       "        [0.0094, 0.0116],\n",
       "        [0.0031, 0.0056],\n",
       "        [0.0080, 0.0007],\n",
       "        [0.0061, 0.0060],\n",
       "        [0.0073, 0.0089],\n",
       "        [0.0009, 0.0059],\n",
       "        [0.0006, 0.0058],\n",
       "        [0.0043, 0.0037],\n",
       "        [0.0053, 0.0085]], grad_fn=<SliceBackward>)"
      ]
     },
     "execution_count": 159,
     "metadata": {},
     "output_type": "execute_result"
    }
   ],
   "source": [
    "dxy_unc[:10]"
   ]
  },
  {
   "cell_type": "code",
   "execution_count": 160,
   "metadata": {},
   "outputs": [
    {
     "data": {
      "text/plain": [
       "tensor([[-2.0146e-06, -4.3391e-08],\n",
       "        [-2.6889e-07, -1.9700e-06],\n",
       "        [-1.2431e-06, -1.4905e-06],\n",
       "        [-2.0203e-08, -4.0787e-08],\n",
       "        [-1.8718e-06, -2.0502e-06],\n",
       "        [-2.6135e-06, -3.8774e-06],\n",
       "        [-9.7845e-08, -3.6993e-07],\n",
       "        [-2.4772e-07, -1.6365e-06],\n",
       "        [-6.0109e-07, -6.3328e-07],\n",
       "        [-2.6101e-07, -3.2245e-06]])"
      ]
     },
     "execution_count": 160,
     "metadata": {},
     "output_type": "execute_result"
    }
   ],
   "source": [
    "jacobian(dxy_unc, dets[0].resolution).sum((-1, -2))[:10]"
   ]
  },
  {
   "cell_type": "code",
   "execution_count": null,
   "metadata": {},
   "outputs": [],
   "source": []
  }
 ],
 "metadata": {
  "kernelspec": {
   "display_name": "Python [conda env:tomopt]",
   "language": "python",
   "name": "conda-env-tomopt-py"
  },
  "language_info": {
   "codemirror_mode": {
    "name": "ipython",
    "version": 3
   },
   "file_extension": ".py",
   "mimetype": "text/x-python",
   "name": "python",
   "nbconvert_exporter": "python",
   "pygments_lexer": "ipython3",
   "version": "3.8.0"
  },
  "toc": {
   "base_numbering": 1,
   "nav_menu": {},
   "number_sections": true,
   "sideBar": true,
   "skip_h1_title": false,
   "title_cell": "Table of Contents",
   "title_sidebar": "Contents",
   "toc_cell": false,
   "toc_position": {},
   "toc_section_display": true,
   "toc_window_display": false
  }
 },
 "nbformat": 4,
 "nbformat_minor": 2
}
