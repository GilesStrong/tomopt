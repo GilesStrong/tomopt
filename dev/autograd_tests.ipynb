{
 "cells": [
  {
   "cell_type": "code",
   "execution_count": 1,
   "metadata": {},
   "outputs": [],
   "source": [
    "%matplotlib inline\n",
    "%reload_ext autoreload\n",
    "%autoreload 2"
   ]
  },
  {
   "cell_type": "code",
   "execution_count": 2,
   "metadata": {},
   "outputs": [],
   "source": [
    "from tomopt.muon import *\n",
    "from tomopt.inference import *\n",
    "from tomopt.volume import *\n",
    "from tomopt.core import *\n",
    "from tomopt.optimisation import *\n",
    "\n",
    "import matplotlib.pyplot as plt\n",
    "import seaborn as sns\n",
    "from typing import *\n",
    "import numpy as np\n",
    "\n",
    "import torch\n",
    "from torch import Tensor, nn\n",
    "import torch.nn.functional as F"
   ]
  },
  {
   "cell_type": "code",
   "execution_count": 3,
   "metadata": {},
   "outputs": [],
   "source": [
    "import torch\n",
    "from torch import nn, Tensor\n",
    "from torch.autograd import grad"
   ]
  },
  {
   "cell_type": "code",
   "execution_count": 4,
   "metadata": {},
   "outputs": [],
   "source": [
    "x = nn.Parameter(Tensor([1]))"
   ]
  },
  {
   "cell_type": "code",
   "execution_count": 5,
   "metadata": {},
   "outputs": [],
   "source": [
    "y = 3*(x**2)"
   ]
  },
  {
   "cell_type": "code",
   "execution_count": 6,
   "metadata": {},
   "outputs": [
    {
     "data": {
      "text/plain": [
       "(tensor([6.]),)"
      ]
     },
     "execution_count": 6,
     "metadata": {},
     "output_type": "execute_result"
    }
   ],
   "source": [
    "grad(y, x, retain_graph=True)"
   ]
  },
  {
   "cell_type": "code",
   "execution_count": 7,
   "metadata": {},
   "outputs": [],
   "source": [
    "z = 2*(y**3)"
   ]
  },
  {
   "cell_type": "code",
   "execution_count": 8,
   "metadata": {},
   "outputs": [
    {
     "data": {
      "text/plain": [
       "(tensor([54.]),)"
      ]
     },
     "execution_count": 8,
     "metadata": {},
     "output_type": "execute_result"
    }
   ],
   "source": [
    "grad(z, y, retain_graph=True)"
   ]
  },
  {
   "cell_type": "code",
   "execution_count": 9,
   "metadata": {},
   "outputs": [
    {
     "data": {
      "text/plain": [
       "tensor([54.], grad_fn=<MulBackward0>)"
      ]
     },
     "execution_count": 9,
     "metadata": {},
     "output_type": "execute_result"
    }
   ],
   "source": [
    "6*(y**2)"
   ]
  },
  {
   "cell_type": "code",
   "execution_count": 10,
   "metadata": {},
   "outputs": [],
   "source": [
    "def arb_rad_length(*,z:float, lw:Tensor, size:float) -> float:\n",
    "    rad_length = torch.ones(list((lw/size).long()))*X0['beryllium']\n",
    "    if z >= 0.4 and z <= 0.5: rad_length[5:,5:] = X0['lead']\n",
    "    return rad_length"
   ]
  },
  {
   "cell_type": "code",
   "execution_count": 11,
   "metadata": {},
   "outputs": [],
   "source": [
    "def eff_cost(x:Tensor) -> Tensor:\n",
    "    return torch.expm1(3*F.relu(x))"
   ]
  },
  {
   "cell_type": "code",
   "execution_count": 12,
   "metadata": {},
   "outputs": [],
   "source": [
    "def res_cost(x:Tensor) -> Tensor:\n",
    "    return F.relu(x/100)**2"
   ]
  },
  {
   "cell_type": "code",
   "execution_count": 13,
   "metadata": {},
   "outputs": [],
   "source": [
    "def get_layers():\n",
    "    layers = []\n",
    "    lwh = Tensor([1,1,1])\n",
    "    size = 0.1\n",
    "    init_eff = 0.5\n",
    "    init_res = 1000\n",
    "    pos = 'above'\n",
    "    for z,d in zip(np.arange(lwh[2],0,-size), [1,1,0,0,0,0,0,0,1,1]):\n",
    "        if d:\n",
    "            layers.append(DetectorLayer(pos=pos, init_eff=init_eff, init_res=init_res,\n",
    "                                        lw=lwh[:2], z=z, size=size, eff_cost_func=eff_cost, res_cost_func=res_cost))\n",
    "        else:\n",
    "            pos = 'below'\n",
    "            layers.append(PassiveLayer(rad_length_func=arb_rad_length, lw=lwh[:2], z=z, size=size))\n",
    "\n",
    "    return nn.ModuleList(layers) "
   ]
  },
  {
   "cell_type": "code",
   "execution_count": 14,
   "metadata": {},
   "outputs": [],
   "source": [
    "volume = Volume(get_layers())"
   ]
  },
  {
   "cell_type": "code",
   "execution_count": 15,
   "metadata": {},
   "outputs": [],
   "source": [
    "muons = MuonBatch(generate_batch(100), 1)"
   ]
  },
  {
   "cell_type": "code",
   "execution_count": 16,
   "metadata": {},
   "outputs": [],
   "source": [
    "volume(muons)"
   ]
  },
  {
   "cell_type": "code",
   "execution_count": 17,
   "metadata": {},
   "outputs": [],
   "source": [
    "hits = muons.get_hits(volume.lw)"
   ]
  },
  {
   "cell_type": "code",
   "execution_count": 53,
   "metadata": {},
   "outputs": [],
   "source": [
    "xa0 = torch.cat([hits[\"above\"][\"xy\"][:, 0], hits[\"above\"][\"z\"][:, 0]], dim=-1)  # reco x, reco y, gen z\n",
    "xa1 = torch.cat([hits[\"above\"][\"xy\"][:, 1], hits[\"above\"][\"z\"][:, 1]], dim=-1)\n",
    "xb0 = torch.cat([hits[\"below\"][\"xy\"][:, 1], hits[\"below\"][\"z\"][:, 1]], dim=-1)\n",
    "xb1 = torch.cat([hits[\"below\"][\"xy\"][:, 0], hits[\"below\"][\"z\"][:, 0]], dim=-1)\n",
    "\n",
    "dets = volume.get_detectors()\n",
    "res = []\n",
    "for p, l, i in zip((\"above\", \"above\", \"below\", \"below\"), dets, (0, 1, 1, 0)):\n",
    "    x = l.abs2idx(hits[p][\"xy\"][:, i])\n",
    "    r = 1/l.resolution[x[:, 0], x[:, 1]]\n",
    "    res.append(torch.stack([r,r,torch.zeros_like(r)], dim=-1))\n",
    "hit_unc = torch.stack(res, dim=1)\n",
    "\n",
    "# Extrapolate muon-path vectors from hits\n",
    "v1 = xa1 - xa0\n",
    "v2 = xb1 - xb0\n",
    "\n",
    "# scatter locations\n",
    "v3 = torch.cross(v1, v2, dim=1)  # connecting vector perpendicular to both lines\n",
    "rhs = xb0 - xa0\n",
    "lhs = torch.stack([v1, -v2, v3], dim=1).transpose(2, 1)\n",
    "coefs = torch.linalg.solve(lhs, rhs)  # solve p1+t1*v1 + t3*v3 = p2+t2*v2 => p2-p1 = t1*v1 - t2*v2 + t3*v3\n",
    "\n",
    "q1 = xa0 + (coefs[:, 0:1] * v1)  # closest point on v1\n",
    "loc = q1 + (coefs[:, 2:3] * v3 / 2)  # Move halfway along v3 from q1"
   ]
  },
  {
   "cell_type": "code",
   "execution_count": 54,
   "metadata": {},
   "outputs": [
    {
     "data": {
      "text/plain": [
       "torch.Size([83, 4, 3])"
      ]
     },
     "execution_count": 54,
     "metadata": {},
     "output_type": "execute_result"
    }
   ],
   "source": [
    "hit_unc.shape"
   ]
  },
  {
   "cell_type": "code",
   "execution_count": 55,
   "metadata": {},
   "outputs": [
    {
     "data": {
      "text/plain": [
       "tensor(-2.9437e-07)"
      ]
     },
     "execution_count": 55,
     "metadata": {},
     "output_type": "execute_result"
    }
   ],
   "source": [
    "grad(xa0[0,0], volume.get_detectors()[0].resolution, retain_graph=True)[0].sum()"
   ]
  },
  {
   "cell_type": "code",
   "execution_count": 56,
   "metadata": {},
   "outputs": [
    {
     "data": {
      "text/plain": [
       "tensor(-1.7415e-06)"
      ]
     },
     "execution_count": 56,
     "metadata": {},
     "output_type": "execute_result"
    }
   ],
   "source": [
    "grad(loc[0,0], volume.get_detectors()[0].resolution, retain_graph=True)[0].sum()"
   ]
  },
  {
   "cell_type": "code",
   "execution_count": 57,
   "metadata": {},
   "outputs": [
    {
     "data": {
      "text/plain": [
       "tensor([ 7.0401, -0.6467, -0.1099])"
      ]
     },
     "execution_count": 57,
     "metadata": {},
     "output_type": "execute_result"
    }
   ],
   "source": [
    "grad(loc[0,0], xa0, retain_graph=True, allow_unused=True)[0].sum(0)"
   ]
  },
  {
   "cell_type": "code",
   "execution_count": 58,
   "metadata": {},
   "outputs": [],
   "source": [
    "from tomopt.utils import jacobian"
   ]
  },
  {
   "cell_type": "code",
   "execution_count": 59,
   "metadata": {},
   "outputs": [
    {
     "data": {
      "text/plain": [
       "tensor([[ 7.0401e+00, -6.4668e-01, -1.0990e-01],\n",
       "        [-9.0150e+00,  3.1523e+00,  2.0071e-01],\n",
       "        [ 2.5401e+02, -3.2541e+01, -4.2027e+00]])"
      ]
     },
     "execution_count": 59,
     "metadata": {},
     "output_type": "execute_result"
    }
   ],
   "source": [
    "jacobian(loc[0], xa0).sum(1)"
   ]
  },
  {
   "cell_type": "code",
   "execution_count": 61,
   "metadata": {},
   "outputs": [
    {
     "data": {
      "text/plain": [
       "(torch.Size([83, 3, 3]),\n",
       " tensor([[[ 7.0401e+00, -6.4668e-01, -1.0990e-01],\n",
       "          [-9.0150e+00,  3.1523e+00,  2.0071e-01],\n",
       "          [ 2.5401e+02, -3.2541e+01, -4.2027e+00]],\n",
       " \n",
       "         [[-1.2281e+01,  5.5989e+00, -1.1548e+00],\n",
       "          [ 3.0379e+01, -1.7975e+01,  3.3918e+00],\n",
       "          [ 2.3945e+02, -1.2764e+02,  2.4913e+01]],\n",
       " \n",
       "         [[-7.1015e+00,  3.6663e+00, -3.9459e-01],\n",
       "          [-5.5972e+00,  2.2908e+00, -4.2108e-01],\n",
       "          [ 3.3749e+01, -2.1001e+01,  1.2176e+00]],\n",
       " \n",
       "         [[ 2.2093e+01,  5.2995e+00, -2.4290e+00],\n",
       "          [-8.2092e+00, -4.5888e+00,  7.9899e-01],\n",
       "          [ 2.3451e+02,  4.9855e+01, -2.6037e+01]],\n",
       " \n",
       "         [[-1.5411e+01,  3.5093e+01, -3.4874e+00],\n",
       "          [ 1.3775e+00, -4.4802e+00,  3.3421e-01],\n",
       "          [ 7.2342e+01, -1.7745e+02,  1.6584e+01]],\n",
       " \n",
       "         [[ 6.2211e+00,  1.5844e+01,  9.5286e-01],\n",
       "          [ 8.9713e+00,  1.3800e+01,  1.0005e+00],\n",
       "          [-2.2369e+02, -4.0642e+02, -2.7520e+01]],\n",
       " \n",
       "         [[-9.5713e+00, -1.1150e-01, -6.7761e-01],\n",
       "          [-1.1486e+01, -1.7249e+00, -1.0133e+00],\n",
       "          [ 9.2731e+01,  1.2559e+00,  6.5871e+00]],\n",
       " \n",
       "         [[-1.4831e+01,  1.3734e+01, -2.9126e+00],\n",
       "          [-2.2684e-01, -1.7054e+00, -7.4153e-02],\n",
       "          [ 5.4982e+01, -5.8687e+01,  1.0677e+01]],\n",
       " \n",
       "         [[ 1.3374e+01,  1.4924e-01, -2.6667e+00],\n",
       "          [ 1.8942e+01, -2.6532e+00, -3.2104e+00],\n",
       "          [ 9.6328e+01,  7.9892e-01, -1.9153e+01]],\n",
       " \n",
       "         [[-7.9076e-01, -1.6790e+00, -4.4018e-02],\n",
       "          [ 1.3958e-01,  5.5385e-01,  9.7427e-03],\n",
       "          [ 2.5240e+01,  3.7225e+01,  1.2796e+00]],\n",
       " \n",
       "         [[-1.5686e-01,  4.4012e-01,  6.6169e-02],\n",
       "          [ 1.6669e+00, -4.0229e+00, -6.0472e-01],\n",
       "          [-1.1653e+01,  2.8293e+01,  4.2530e+00]],\n",
       " \n",
       "         [[-1.9292e+00, -6.4944e-01, -4.7390e-02],\n",
       "          [ 2.5567e-01, -5.1947e-01,  2.1627e-02],\n",
       "          [ 2.4716e+01,  1.2551e+01,  4.9990e-01]],\n",
       " \n",
       "         [[-2.4542e+01, -2.3197e+00,  7.9227e-01],\n",
       "          [-7.4444e+01, -1.3578e+01,  3.0880e+00],\n",
       "          [-6.8132e+02, -8.0056e+01,  2.3634e+01]],\n",
       " \n",
       "         [[-2.4875e+00,  6.1318e+00,  7.2643e-01],\n",
       "          [ 2.0931e+00, -1.1571e+01, -1.2080e+00],\n",
       "          [-1.9780e+01,  9.7613e+01,  1.0324e+01]],\n",
       " \n",
       "         [[ 3.5577e+00,  4.9009e+02,  2.3715e+01],\n",
       "          [ 3.0223e+00,  2.1338e+02,  1.0487e+01],\n",
       "          [-6.4390e+01, -4.6163e+03, -2.2677e+02]],\n",
       " \n",
       "         [[-1.7544e-02, -6.3187e+00, -1.3167e+00],\n",
       "          [-3.2580e+00,  1.4756e+01,  3.3888e+00],\n",
       "          [ 1.6590e+01, -8.1766e+01, -1.8639e+01]],\n",
       " \n",
       "         [[ 2.0920e+01,  1.3750e+01, -1.4715e+00],\n",
       "          [-1.5688e+01, -1.1053e+01,  1.0387e+00],\n",
       "          [ 1.8949e+02,  1.1687e+02, -1.4000e+01]],\n",
       " \n",
       "         [[ 2.0811e+01, -1.4119e+01, -3.7283e+00],\n",
       "          [-1.4026e+01,  1.1307e+01,  2.6781e+00],\n",
       "          [ 1.5574e+02, -1.1216e+02, -2.8501e+01]],\n",
       " \n",
       "         [[ 5.1588e+00, -1.8950e+00,  2.5318e-01],\n",
       "          [ 3.5276e+00, -3.7640e+00,  1.4086e-01],\n",
       "          [-2.0086e+02,  4.7040e+01, -1.0207e+01]],\n",
       " \n",
       "         [[-5.9503e-01,  1.1320e+00,  1.0622e-01],\n",
       "          [ 8.8038e-01, -1.4423e+01, -1.2307e+00],\n",
       "          [-9.9784e+00,  1.5754e+02,  1.3449e+01]],\n",
       " \n",
       "         [[ 4.2287e-01,  1.8716e+00,  1.3579e-01],\n",
       "          [-1.5158e+00, -6.9456e+00, -5.0467e-01],\n",
       "          [ 1.9684e+01,  9.0393e+01,  6.5686e+00]],\n",
       " \n",
       "         [[-3.8491e+02,  1.4694e+03, -6.6799e+01],\n",
       "          [-2.9597e+02,  1.0975e+03, -4.9052e+01],\n",
       "          [-4.0811e+03,  1.4885e+04, -6.5867e+02]],\n",
       " \n",
       "         [[ 3.8736e-01,  9.0340e+00, -9.0320e-01],\n",
       "          [ 2.7682e+00,  7.1479e+00, -8.8803e-01],\n",
       "          [ 3.5790e+01,  1.2183e+02, -1.4333e+01]],\n",
       " \n",
       "         [[-1.8748e+01,  1.1820e+01,  2.3624e+00],\n",
       "          [-2.5259e+00,  9.2275e-02,  3.5977e-01],\n",
       "          [-1.1011e+02,  7.6160e+01,  1.3688e+01]],\n",
       " \n",
       "         [[-9.5604e+00,  4.4323e+00, -1.1155e-01],\n",
       "          [-1.1800e+01,  5.0287e+00, -1.0084e-01],\n",
       "          [-1.6183e+02,  1.1259e+02, -5.0205e+00]],\n",
       " \n",
       "         [[ 1.5278e+02, -9.2876e+01, -1.7556e+01],\n",
       "          [-9.1477e+01,  5.0835e+01,  1.0285e+01],\n",
       "          [ 1.8746e+03, -1.1139e+03, -2.1418e+02]],\n",
       " \n",
       "         [[ 7.2308e-01,  3.4237e-01,  1.4333e-02],\n",
       "          [-9.0079e-01, -1.8411e+00, -9.0683e-02],\n",
       "          [ 2.1579e+01,  5.8389e+01,  2.9077e+00]],\n",
       " \n",
       "         [[ 1.1908e+00, -9.6241e-02,  1.6711e-02],\n",
       "          [ 5.6219e+00,  6.9654e+00, -4.2649e-01],\n",
       "          [ 7.1288e+01,  7.1991e+01, -4.2956e+00]],\n",
       " \n",
       "         [[ 4.6114e+00,  1.7259e+00, -1.0241e-01],\n",
       "          [-6.7633e+01, -1.9184e+01,  9.2925e-01],\n",
       "          [-7.2485e+02, -1.8086e+02,  7.6470e+00]],\n",
       " \n",
       "         [[-2.9317e+00, -5.5304e-01, -4.8913e-02],\n",
       "          [-2.3082e+00,  1.7195e+01,  1.8235e+00],\n",
       "          [ 2.5080e+01, -2.1935e+02, -2.3248e+01]],\n",
       " \n",
       "         [[ 6.5141e+00,  6.3948e-01,  6.3841e-01],\n",
       "          [ 2.3938e+00, -5.2046e-01,  2.2933e-01],\n",
       "          [-8.3592e+01, -7.3743e+00, -8.1865e+00]],\n",
       " \n",
       "         [[-7.4119e+00,  1.4879e+01, -5.7754e-01],\n",
       "          [-3.2410e+00,  7.9050e+00, -3.5848e-01],\n",
       "          [-5.2303e+01,  1.7520e+02, -9.3928e+00]],\n",
       " \n",
       "         [[-4.4917e+00, -6.4117e+00,  7.1979e-02],\n",
       "          [ 4.2283e+00,  5.9307e+00, -5.2643e-02],\n",
       "          [ 3.0128e+01,  3.8426e+01,  1.7590e-01]],\n",
       " \n",
       "         [[-7.9800e+00,  1.1496e+01, -8.7272e-02],\n",
       "          [-3.8125e-01, -3.0233e+00, -5.8359e-02],\n",
       "          [ 1.1749e+02, -3.5557e+02, -1.5411e+00]],\n",
       " \n",
       "         [[-1.1993e+01, -2.3544e-01,  2.4325e-01],\n",
       "          [-5.0119e+00, -3.6775e+00,  1.8396e-01],\n",
       "          [-2.4691e+02, -6.8523e+00,  5.0543e+00]],\n",
       " \n",
       "         [[-9.9261e+01,  2.1439e+01, -1.7135e+01],\n",
       "          [ 2.7004e+01, -8.9272e+00,  4.7793e+00],\n",
       "          [ 5.7518e+02, -1.2799e+02,  9.9435e+01]],\n",
       " \n",
       "         [[-2.3649e+00,  5.6481e+00, -4.3258e-01],\n",
       "          [ 1.5813e+00, -1.1355e+01,  7.9394e-01],\n",
       "          [ 2.1186e+01, -1.3261e+02,  9.3365e+00]],\n",
       " \n",
       "         [[-5.2725e+00, -3.3965e+00, -3.1673e-01],\n",
       "          [-1.3429e+00, -2.6186e+00, -7.4175e-02],\n",
       "          [ 6.0777e+01,  5.3741e+01,  3.5969e+00]],\n",
       " \n",
       "         [[-1.3932e+01, -1.4459e-01,  4.3275e-01],\n",
       "          [ 1.0748e+01, -2.1596e+00, -4.0589e-01],\n",
       "          [-2.9717e+02, -3.7108e+00,  9.2111e+00]],\n",
       " \n",
       "         [[-7.4761e+00,  6.4321e+00, -5.0060e-01],\n",
       "          [ 5.8342e+01, -1.1070e+02,  8.6247e+00],\n",
       "          [ 7.4572e+02, -1.3643e+03,  1.0629e+02]],\n",
       " \n",
       "         [[ 2.7185e+00,  1.6697e+01, -6.3890e-01],\n",
       "          [ 7.7438e-01,  3.8845e+00, -1.5917e-01],\n",
       "          [ 3.5124e+01,  1.9168e+02, -7.6251e+00]],\n",
       " \n",
       "         [[-5.8918e+00, -5.6536e+00,  8.7150e-01],\n",
       "          [-1.3988e+00, -2.5997e+00,  2.4037e-01],\n",
       "          [-3.6110e+01, -4.1643e+01,  5.5274e+00]],\n",
       " \n",
       "         [[-6.0693e+00,  4.1966e+00, -2.6551e-01],\n",
       "          [-6.4686e+00,  4.7628e+00, -3.2628e-01],\n",
       "          [-5.0647e+01,  5.3678e+01, -4.9997e+00]],\n",
       " \n",
       "         [[-3.2110e+00,  6.8011e-01,  9.8432e-02],\n",
       "          [ 1.3503e+01, -9.1142e+00, -1.2903e+00],\n",
       "          [-8.6355e+01,  4.5863e+01,  6.5109e+00]],\n",
       " \n",
       "         [[-2.7331e+01,  9.0115e+01, -2.0566e+01],\n",
       "          [ 4.7041e+01, -2.1104e+02,  4.6615e+01],\n",
       "          [ 2.2701e+02, -9.8664e+02,  2.1858e+02]],\n",
       " \n",
       "         [[-4.7271e+00,  2.6512e+00,  7.9345e-02],\n",
       "          [ 2.3275e+00, -1.0441e+01, -2.5980e-01],\n",
       "          [-5.2258e+01,  1.4919e+02,  3.7739e+00]],\n",
       " \n",
       "         [[-5.5877e+00, -6.3277e+00,  1.3724e+00],\n",
       "          [-1.4887e+01, -2.8840e+01,  5.8061e+00],\n",
       "          [-7.7309e+01, -1.3901e+02,  2.8221e+01]],\n",
       " \n",
       "         [[-4.1966e-01,  3.6684e+00, -1.1756e-01],\n",
       "          [-4.1094e-01,  2.9313e+00, -8.8991e-02],\n",
       "          [-1.0536e+01,  7.2182e+01, -2.1641e+00]],\n",
       " \n",
       "         [[-1.8791e+00, -2.2542e+00,  8.0820e-02],\n",
       "          [ 1.6322e+00,  3.9239e+00, -1.7537e-01],\n",
       "          [ 3.7923e+01,  1.1797e+02, -5.5084e+00]],\n",
       " \n",
       "         [[-1.2620e+01,  5.7258e+01, -3.1477e+00],\n",
       "          [-1.4369e+01,  7.5034e+01, -4.2156e+00],\n",
       "          [-2.2584e+02,  1.2096e+03, -6.8203e+01]],\n",
       " \n",
       "         [[-4.6555e+00, -1.3933e+02, -4.2793e+00],\n",
       "          [-7.3097e-02, -2.9017e+01, -7.3960e-01],\n",
       "          [ 2.2924e+00,  8.1769e+02,  2.0881e+01]],\n",
       " \n",
       "         [[-7.7472e+01,  6.4381e+01,  1.7273e+01],\n",
       "          [ 1.8661e+02, -1.6519e+02, -4.3417e+01],\n",
       "          [-1.0145e+03,  8.8022e+02,  2.3284e+02]],\n",
       " \n",
       "         [[-6.5051e+02, -4.6922e+02,  2.1178e+01],\n",
       "          [ 3.5714e+02,  2.6919e+02, -1.1336e+01],\n",
       "          [-1.3240e+04, -9.2817e+03,  4.3780e+02]],\n",
       " \n",
       "         [[ 1.0952e+01,  9.2884e-01, -1.1032e+00],\n",
       "          [-2.8785e+00, -1.5264e-01,  2.9372e-01],\n",
       "          [ 1.0446e+02,  8.9352e+00, -1.0519e+01]],\n",
       " \n",
       "         [[ 3.0690e-01, -9.2574e+00, -1.3762e+00],\n",
       "          [-1.8191e+00,  2.7054e+01,  4.0766e+00],\n",
       "          [ 1.2484e+01, -1.8778e+02, -2.8287e+01]],\n",
       " \n",
       "         [[ 2.3035e+01,  1.2802e+00,  1.8066e+00],\n",
       "          [-4.4193e+01, -4.1723e+00, -3.2096e+00],\n",
       "          [-3.1080e+02, -1.5976e+01, -2.4570e+01]],\n",
       " \n",
       "         [[-3.8656e+01, -1.7094e+01, -1.2619e+01],\n",
       "          [-3.0609e+00, -3.7107e+00, -1.0328e+00],\n",
       "          [ 1.0874e+02,  5.1104e+01,  3.5540e+01]],\n",
       " \n",
       "         [[-1.1388e+01, -2.7337e+01, -1.9749e+00],\n",
       "          [-2.7661e+00, -1.3437e+01, -6.6122e-01],\n",
       "          [ 6.7865e+01,  2.4023e+02,  1.3834e+01]],\n",
       " \n",
       "         [[ 1.0825e+00,  4.4182e-01,  9.9746e-02],\n",
       "          [-1.1050e+00, -6.8445e-01, -8.6514e-02],\n",
       "          [-1.4405e+01, -4.4807e+00, -1.4190e+00]],\n",
       " \n",
       "         [[-3.2331e-01,  3.3681e-01,  3.5388e-02],\n",
       "          [-2.8149e-01,  4.5434e+00,  4.2246e-01],\n",
       "          [ 3.2069e+00, -5.5211e+01, -5.1308e+00]],\n",
       " \n",
       "         [[-2.3505e+00, -3.0571e+00,  9.0800e-02],\n",
       "          [-3.5837e-01, -1.8786e+00,  2.0283e-02],\n",
       "          [-2.5440e+01, -5.9490e+01,  1.1031e+00]],\n",
       " \n",
       "         [[-9.7801e+00,  2.1137e+00,  7.0304e-01],\n",
       "          [ 9.6789e+00, -2.9588e+00, -7.6204e-01],\n",
       "          [-1.4520e+02,  3.3817e+01,  1.0624e+01]],\n",
       " \n",
       "         [[ 3.6225e+01,  4.7265e+00,  2.1773e+00],\n",
       "          [ 3.9576e+01,  8.9013e+00,  2.6362e+00],\n",
       "          [-5.8094e+02, -8.3207e+01, -3.5428e+01]],\n",
       " \n",
       "         [[ 9.1254e+00,  2.4582e+00,  5.0583e-01],\n",
       "          [ 2.1670e+00, -2.2715e+00,  9.4519e-02],\n",
       "          [-2.7366e+02, -5.6785e+01, -1.5017e+01]],\n",
       " \n",
       "         [[-9.6641e+00, -2.4627e+00, -4.9584e-01],\n",
       "          [ 1.1764e+01,  2.0379e+00,  7.7691e-01],\n",
       "          [ 7.0864e+01,  2.1520e+01,  3.0105e+00]],\n",
       " \n",
       "         [[-1.3387e+01, -1.1838e+01,  1.0351e+00],\n",
       "          [-9.3455e+00, -7.0093e+00,  6.7463e-01],\n",
       "          [-3.0191e+02, -2.5204e+02,  2.2774e+01]],\n",
       " \n",
       "         [[-2.2111e+00,  1.0794e+01,  9.7759e-01],\n",
       "          [-2.3684e-01,  8.2177e+00,  8.6283e-01],\n",
       "          [ 2.6613e+00, -1.1255e+02, -1.1865e+01]],\n",
       " \n",
       "         [[-2.3699e+01, -8.2719e+01,  7.3270e+00],\n",
       "          [-8.3703e+01, -3.3898e+02,  2.9714e+01],\n",
       "          [-1.0041e+03, -4.0294e+03,  3.5342e+02]],\n",
       " \n",
       "         [[-7.3239e+00, -5.1503e+00,  1.0324e+00],\n",
       "          [-5.5554e+00, -2.2835e+00,  6.8545e-01],\n",
       "          [-9.5532e+01, -5.8341e+01,  1.2935e+01]],\n",
       " \n",
       "         [[-3.3481e+00,  1.1877e+01, -7.4122e-01],\n",
       "          [-1.4082e+00,  7.1691e+00, -5.2222e-01],\n",
       "          [-1.7179e+01,  1.0427e+02, -7.9988e+00]],\n",
       " \n",
       "         [[-2.0715e+00, -1.3107e+01,  1.5565e+00],\n",
       "          [-5.4646e-01, -1.3110e+01,  1.3609e+00],\n",
       "          [-4.8296e+00, -1.0342e+02,  1.0802e+01]],\n",
       " \n",
       "         [[ 4.0528e+00,  1.4233e+00,  1.4718e-01],\n",
       "          [ 3.8843e+00,  3.1738e+00,  2.0748e-01],\n",
       "          [-8.5079e+01, -4.2755e+01, -3.5623e+00]],\n",
       " \n",
       "         [[-1.9588e+01, -2.4220e+00,  2.1014e+00],\n",
       "          [-5.4571e+00, -2.2738e+00,  6.2154e-01],\n",
       "          [-1.6034e+02, -2.1514e+01,  1.7239e+01]],\n",
       " \n",
       "         [[-7.1506e+01,  3.4713e+01, -6.5791e-01],\n",
       "          [-1.9039e+01,  4.6070e-02, -2.1465e-01],\n",
       "          [ 4.4076e+03, -2.5224e+03,  3.8910e+01]],\n",
       " \n",
       "         [[-7.3206e+00,  2.9868e+00, -1.2577e+00],\n",
       "          [ 1.0031e+01, -5.6913e+00,  2.0240e+00],\n",
       "          [ 5.4972e+01, -2.5854e+01,  1.0089e+01]],\n",
       " \n",
       "         [[ 1.2045e+02, -2.4684e+01, -1.2696e+01],\n",
       "          [-2.7445e+01,  2.4357e+00,  2.8111e+00],\n",
       "          [ 1.2541e+03, -2.5067e+02, -1.3203e+02]],\n",
       " \n",
       "         [[-5.1371e+00, -1.2500e+00,  3.2053e-01],\n",
       "          [-1.5383e+00,  8.5628e-01,  8.4484e-02],\n",
       "          [-1.2530e+02, -2.4865e+01,  7.7655e+00]],\n",
       " \n",
       "         [[-1.0433e+01, -3.3853e+00,  4.2439e-01],\n",
       "          [ 3.3848e+01,  1.2545e+01, -1.7029e+00],\n",
       "          [ 1.6337e+02,  7.5338e+01, -1.1306e+01]],\n",
       " \n",
       "         [[-1.7849e+01,  1.3875e+01, -3.3627e+00],\n",
       "          [ 2.6200e+01, -1.9224e+01,  4.7843e+00],\n",
       "          [ 2.0879e+02, -1.5752e+02,  3.8700e+01]],\n",
       " \n",
       "         [[-6.8951e-01,  8.3473e-02,  1.9628e-03],\n",
       "          [ 3.8280e-01, -4.4014e-01, -1.0225e-02],\n",
       "          [-1.5611e+01,  3.7989e+00,  8.8724e-02]],\n",
       " \n",
       "         [[ 3.2824e+01, -2.5095e+01,  4.4264e+00],\n",
       "          [-1.0653e+01,  2.8682e+00, -1.2666e+00],\n",
       "          [-3.6880e+02,  2.4913e+02, -4.8675e+01]],\n",
       " \n",
       "         [[-1.3335e+01,  2.5306e+00, -1.0992e+00],\n",
       "          [-8.6142e+00,  1.5542e-01, -8.3199e-01],\n",
       "          [ 9.9982e+01, -2.1823e+01,  8.0072e+00]],\n",
       " \n",
       "         [[-3.4287e-01,  1.4449e+01, -5.1101e-01],\n",
       "          [ 2.7046e-01,  2.0429e-01, -3.8617e-02],\n",
       "          [ 1.3731e+01,  1.1637e+02, -5.9963e+00]]]))"
      ]
     },
     "execution_count": 61,
     "metadata": {},
     "output_type": "execute_result"
    }
   ],
   "source": [
    "dloc_dx.shape, dloc_dx"
   ]
  },
  {
   "cell_type": "code",
   "execution_count": 62,
   "metadata": {},
   "outputs": [
    {
     "data": {
      "text/plain": [
       "torch.Size([83, 4, 3])"
      ]
     },
     "execution_count": 62,
     "metadata": {},
     "output_type": "execute_result"
    }
   ],
   "source": [
    "hit_unc.shape"
   ]
  },
  {
   "cell_type": "code",
   "execution_count": 63,
   "metadata": {},
   "outputs": [],
   "source": [
    "loc_unc = dloc_dx"
   ]
  },
  {
   "cell_type": "code",
   "execution_count": 64,
   "metadata": {},
   "outputs": [
    {
     "data": {
      "text/plain": [
       "(torch.Size([83, 3, 3]), torch.Size([83, 3, 1]))"
      ]
     },
     "execution_count": 64,
     "metadata": {},
     "output_type": "execute_result"
    }
   ],
   "source": [
    "dloc_dx.shape, hit_unc[:,0][:,:,None].shape"
   ]
  },
  {
   "cell_type": "code",
   "execution_count": 65,
   "metadata": {},
   "outputs": [],
   "source": [
    "loc_unc = ((dloc_dx*hit_unc[:,0][:,:,None])**2).sum(1)"
   ]
  },
  {
   "cell_type": "code",
   "execution_count": 66,
   "metadata": {},
   "outputs": [],
   "source": [
    "loc_unc = torch.sqrt(loc_unc)"
   ]
  },
  {
   "cell_type": "code",
   "execution_count": 67,
   "metadata": {},
   "outputs": [
    {
     "data": {
      "text/plain": [
       "tensor([[-1.1438e-05, -3.2179e-06, -2.2882e-07],\n",
       "        [-3.2768e-05, -1.8826e-05, -3.5830e-06],\n",
       "        [-9.0421e-06, -4.3231e-06, -5.7707e-07],\n",
       "        [-2.3569e-05, -7.0102e-06, -2.5570e-06],\n",
       "        [-1.5472e-05, -3.5377e-05, -3.5034e-06],\n",
       "        [-1.0917e-05, -2.1011e-05, -1.3816e-06],\n",
       "        [-1.4951e-05, -1.7285e-06, -1.2190e-06],\n",
       "        [-1.4833e-05, -1.3840e-05, -2.9136e-06],\n",
       "        [-2.3187e-05, -2.6574e-06, -4.1735e-06],\n",
       "        [-8.0298e-07, -1.7680e-06, -4.5084e-08]])"
      ]
     },
     "execution_count": 67,
     "metadata": {},
     "output_type": "execute_result"
    }
   ],
   "source": [
    "jacobian(loc_unc, dets[0].resolution).sum((-1, -2))[:10]"
   ]
  },
  {
   "cell_type": "markdown",
   "metadata": {},
   "source": [
    "## Check cross-terms"
   ]
  },
  {
   "cell_type": "code",
   "execution_count": 89,
   "metadata": {},
   "outputs": [],
   "source": [
    "unc2_sum = None\n",
    "for i, xi in enumerate([xa0, xa1, xb0, xb1]):\n",
    "    for j, xj in enumerate([xa0, xa1, xb0, xb1]):\n",
    "        if j < i: continue\n",
    "        dloc_dx_2 = jacobian(loc, xi).sum((2))*jacobian(loc, xj).sum((2)) if i != j else jacobian(loc, xi).sum((2))**2\n",
    "        unc_2 = (dloc_dx_2*hit_unc[:,i][:,:,None]*hit_unc[:,j][:,:,None]).sum(1)  # Muons, (x,y,z)\n",
    "        if unc2_sum is None:\n",
    "            unc2_sum = unc_2\n",
    "        else:\n",
    "            unc2_sum = unc2_sum + unc_2\n",
    "loc_unc = torch.sqrt(unc2_sum)"
   ]
  },
  {
   "cell_type": "code",
   "execution_count": 91,
   "metadata": {},
   "outputs": [
    {
     "data": {
      "text/plain": [
       "tensor([[0.0191, 0.0080, 0.0007],\n",
       "        [0.0408, 0.0398, 0.0050],\n",
       "        [0.0179, 0.0158, 0.0009],\n",
       "        [0.0256, 0.0172, 0.0029],\n",
       "        [0.0603, 0.0407, 0.0122],\n",
       "        [0.0168, 0.0283, 0.0015],\n",
       "        [0.0250, 0.0064, 0.0018],\n",
       "        [0.0232, 0.0152, 0.0052],\n",
       "        [0.0270, 0.0031, 0.0048],\n",
       "        [0.0018, 0.0128, 0.0002]], grad_fn=<SliceBackward>)"
      ]
     },
     "execution_count": 91,
     "metadata": {},
     "output_type": "execute_result"
    }
   ],
   "source": [
    "loc_unc[:10]"
   ]
  },
  {
   "cell_type": "code",
   "execution_count": 92,
   "metadata": {},
   "outputs": [
    {
     "data": {
      "text/plain": [
       "tensor([[-3.6153e-06, -8.4130e-07, -3.5390e-08],\n",
       "        [-1.3012e-05, -4.2293e-06, -1.2901e-06],\n",
       "        [-2.0833e-06, -6.6369e-07, -1.8301e-07],\n",
       "        [-1.1279e-05, -1.2953e-06, -1.1254e-06],\n",
       "        [-1.8583e-06, -1.5323e-05, -5.0206e-07],\n",
       "        [-3.7271e-06, -8.0469e-06, -6.3470e-07],\n",
       "        [-4.2748e-06, -9.8556e-08, -4.1889e-07],\n",
       "        [-4.4316e-06, -6.2592e-06, -8.0927e-07],\n",
       "        [-1.0209e-05, -7.0036e-07, -1.8227e-06],\n",
       "        [ 4.0789e-08, -1.4331e-07, -4.6976e-09]])"
      ]
     },
     "execution_count": 92,
     "metadata": {},
     "output_type": "execute_result"
    }
   ],
   "source": [
    "jacobian(loc_unc, dets[0].resolution).sum((-1, -2))[:10]"
   ]
  },
  {
   "cell_type": "code",
   "execution_count": null,
   "metadata": {},
   "outputs": [],
   "source": []
  }
 ],
 "metadata": {
  "kernelspec": {
   "display_name": "Python [conda env:tomopt]",
   "language": "python",
   "name": "conda-env-tomopt-py"
  },
  "language_info": {
   "codemirror_mode": {
    "name": "ipython",
    "version": 3
   },
   "file_extension": ".py",
   "mimetype": "text/x-python",
   "name": "python",
   "nbconvert_exporter": "python",
   "pygments_lexer": "ipython3",
   "version": "3.8.0"
  },
  "toc": {
   "base_numbering": 1,
   "nav_menu": {},
   "number_sections": true,
   "sideBar": true,
   "skip_h1_title": false,
   "title_cell": "Table of Contents",
   "title_sidebar": "Contents",
   "toc_cell": false,
   "toc_position": {},
   "toc_section_display": true,
   "toc_window_display": false
  }
 },
 "nbformat": 4,
 "nbformat_minor": 2
}
