{
 "cells": [
  {
   "cell_type": "code",
   "execution_count": 1,
   "id": "0410d432",
   "metadata": {},
   "outputs": [],
   "source": [
    "%matplotlib inline\n",
    "%reload_ext autoreload\n",
    "%autoreload 2"
   ]
  },
  {
   "cell_type": "code",
   "execution_count": 2,
   "id": "dbb16dc4",
   "metadata": {},
   "outputs": [],
   "source": [
    "from typing import *\n",
    "import numpy as np\n",
    "from functools import partial\n",
    "from fastprogress import progress_bar\n",
    "import pandas as pd\n",
    "import h5py\n",
    "\n",
    "from lumin.plotting.results import plot_roc\n",
    "\n",
    "import torch\n",
    "from torch import Tensor, nn\n",
    "import torch.nn.functional as F\n",
    "from torch._vmap_internals import _vmap as vmap\n",
    "\n",
    "from tomopt.volume import *\n",
    "from tomopt.muon import *\n",
    "from tomopt.inference import *\n",
    "from tomopt.optimisation import *\n",
    "from tomopt.core import *\n",
    "from tomopt.utils import *\n",
    "from tomopt.plotting import *\n",
    "\n",
    "import seaborn as sns\n",
    "import matplotlib.pyplot as plt"
   ]
  },
  {
   "cell_type": "code",
   "execution_count": 3,
   "id": "0a37b443",
   "metadata": {},
   "outputs": [],
   "source": [
    "with h5py.File('furnace_data_1kmu_1e4_nozero.hdf5', \"r\") as infile:\n",
    "    preds = Tensor(infile['preds'][()])\n",
    "    targs = Tensor(infile['targs'][()])"
   ]
  },
  {
   "cell_type": "code",
   "execution_count": 4,
   "id": "f31a105a",
   "metadata": {},
   "outputs": [],
   "source": [
    "def get_volume(size: float = 0.1, lwh: Tensor = Tensor([1.0, 1.0, 1.4]), device: torch.device = torch.device(\"cpu\")) -> Volume:\n",
    "    def area_cost(x: Tensor) -> Tensor:\n",
    "        return F.relu(x)\n",
    "\n",
    "    layers: List[Layer] = []\n",
    "    n_panels = 4\n",
    "    layers.append(\n",
    "        PanelDetectorLayer(\n",
    "            pos=\"above\",\n",
    "            lw=lwh[:2],\n",
    "            z=lwh[2].item(),\n",
    "            size=0.2,\n",
    "            panels=[\n",
    "                DetectorPanel(\n",
    "                    res=1e4,\n",
    "                    eff=1,\n",
    "                    init_xyz=(lwh[0].item() / 2, lwh[1].item() / 2, lwh[2].item() - (i * (0.2) / n_panels)),\n",
    "                    init_xy_span=(4., 4.),\n",
    "                    area_cost_func=area_cost,\n",
    "                    device=device,\n",
    "                )\n",
    "                for i in range(n_panels)\n",
    "            ],\n",
    "        )\n",
    "    )\n",
    "    for z in np.round(np.arange(lwh[2] - 0.2, 0.2, -size), decimals=2):\n",
    "        layers.append(PassiveLayer(lw=lwh[:2], z=z, size=size, device=device))\n",
    "    layers.append(\n",
    "        PanelDetectorLayer(\n",
    "            pos=\"below\",\n",
    "            lw=lwh[:2],\n",
    "            z=size,\n",
    "            size=0.2,\n",
    "            panels=[\n",
    "                DetectorPanel(\n",
    "                    res=1e4,\n",
    "                    eff=1,\n",
    "                    init_xyz=(lwh[0].item() / 2, lwh[1].item() / 2, 0.2 - (i * (0.2) / n_panels)),\n",
    "                    init_xy_span=(4., 4.),\n",
    "                    area_cost_func=area_cost,\n",
    "                    device=device,\n",
    "                )\n",
    "                for i in range(n_panels)\n",
    "            ],\n",
    "        )\n",
    "    )\n",
    "\n",
    "    return Volume(nn.ModuleList(layers))"
   ]
  },
  {
   "cell_type": "code",
   "execution_count": 5,
   "id": "b87986be",
   "metadata": {},
   "outputs": [
    {
     "data": {
      "text/plain": [
       "torch.Size([200, 1])"
      ]
     },
     "execution_count": 5,
     "metadata": {},
     "output_type": "execute_result"
    }
   ],
   "source": [
    "targs.shape"
   ]
  },
  {
   "cell_type": "code",
   "execution_count": 6,
   "id": "54e9cf70",
   "metadata": {},
   "outputs": [],
   "source": [
    "volume = get_volume()"
   ]
  },
  {
   "cell_type": "code",
   "execution_count": 7,
   "id": "d4b4e8df",
   "metadata": {
    "scrolled": false
   },
   "outputs": [
    {
     "data": {
      "text/plain": [
       "Volume(\n",
       "  (layers): ModuleList(\n",
       "    (0): PanelDetectorLayer(\n",
       "      (panels): ModuleList(\n",
       "        (0): <class 'tomopt.volume.panel.DetectorPanel'> located at xy=tensor([0.5000, 0.5000]), z=tensor([1.4000]), and xy span tensor([4., 4.])\n",
       "        (1): <class 'tomopt.volume.panel.DetectorPanel'> located at xy=tensor([0.5000, 0.5000]), z=tensor([1.3500]), and xy span tensor([4., 4.])\n",
       "        (2): <class 'tomopt.volume.panel.DetectorPanel'> located at xy=tensor([0.5000, 0.5000]), z=tensor([1.3000]), and xy span tensor([4., 4.])\n",
       "        (3): <class 'tomopt.volume.panel.DetectorPanel'> located at xy=tensor([0.5000, 0.5000]), z=tensor([1.2500]), and xy span tensor([4., 4.])\n",
       "      )\n",
       "    )\n",
       "    (1): PassiveLayer located at z=tensor([1.2000])\n",
       "    (2): PassiveLayer located at z=tensor([1.1000])\n",
       "    (3): PassiveLayer located at z=tensor([1.])\n",
       "    (4): PassiveLayer located at z=tensor([0.9000])\n",
       "    (5): PassiveLayer located at z=tensor([0.8000])\n",
       "    (6): PassiveLayer located at z=tensor([0.7000])\n",
       "    (7): PassiveLayer located at z=tensor([0.6000])\n",
       "    (8): PassiveLayer located at z=tensor([0.5000])\n",
       "    (9): PassiveLayer located at z=tensor([0.4000])\n",
       "    (10): PassiveLayer located at z=tensor([0.3000])\n",
       "    (11): PanelDetectorLayer(\n",
       "      (panels): ModuleList(\n",
       "        (0): <class 'tomopt.volume.panel.DetectorPanel'> located at xy=tensor([0.5000, 0.5000]), z=tensor([0.2000]), and xy span tensor([4., 4.])\n",
       "        (1): <class 'tomopt.volume.panel.DetectorPanel'> located at xy=tensor([0.5000, 0.5000]), z=tensor([0.1500]), and xy span tensor([4., 4.])\n",
       "        (2): <class 'tomopt.volume.panel.DetectorPanel'> located at xy=tensor([0.5000, 0.5000]), z=tensor([0.1000]), and xy span tensor([4., 4.])\n",
       "        (3): <class 'tomopt.volume.panel.DetectorPanel'> located at xy=tensor([0.5000, 0.5000]), z=tensor([0.0500]), and xy span tensor([4., 4.])\n",
       "      )\n",
       "    )\n",
       "  )\n",
       ")"
      ]
     },
     "execution_count": 7,
     "metadata": {},
     "output_type": "execute_result"
    }
   ],
   "source": [
    "volume"
   ]
  },
  {
   "cell_type": "markdown",
   "id": "564d4ead",
   "metadata": {},
   "source": [
    "# Vars"
   ]
  },
  {
   "cell_type": "code",
   "execution_count": 8,
   "id": "b4963a3b",
   "metadata": {},
   "outputs": [],
   "source": [
    "df = pd.DataFrame(targs.numpy(), columns=['gen_target'])"
   ]
  },
  {
   "cell_type": "code",
   "execution_count": 9,
   "id": "026e0346",
   "metadata": {},
   "outputs": [],
   "source": [
    "from tomopt.plotting.appearance import *\n",
    "\n",
    "def plot_pred(pred, targ):\n",
    "    with sns.axes_style(style=\"whitegrid\", rc={\"patch.edgecolor\": \"none\"}):\n",
    "        fig, axs = plt.subplots(1, len(pred), figsize=(W_MID, H_MID))\n",
    "\n",
    "        for i in range(len(pred)):\n",
    "            sns.heatmap(\n",
    "                pred[i],\n",
    "                ax=axs[i],\n",
    "                cmap=\"viridis\",\n",
    "                square=True,\n",
    "                cbar=False,\n",
    "                vmin=np.nanmin(pred),\n",
    "                vmax=np.nanmax(pred),\n",
    "            )\n",
    "        print(\"Zero-ordered target layer ID (including ladel bottom layer):\", np.floor((targ-volume.get_passive_z_range()[0]-volume.passive_size)/volume.passive_size))\n",
    "        plt.show()"
   ]
  },
  {
   "cell_type": "code",
   "execution_count": 10,
   "id": "dbcafd74",
   "metadata": {},
   "outputs": [],
   "source": [
    "ladel_removed = preds[:,1:,1:-1,1:-1]"
   ]
  },
  {
   "cell_type": "code",
   "execution_count": 11,
   "id": "2c7fb408",
   "metadata": {},
   "outputs": [],
   "source": [
    "def get_3d_avg(data):\n",
    "    return F.avg_pool3d(data, kernel_size=3, padding=1, stride=1, count_include_pad=False)"
   ]
  },
  {
   "cell_type": "code",
   "execution_count": 12,
   "id": "003c0a84",
   "metadata": {},
   "outputs": [],
   "source": [
    "def get_3d_gauss(data):\n",
    "    gauss = nn.Conv3d(1, 1, kernel_size=3, stride=1, padding=1, padding_mode='replicate', bias=False)\n",
    "    gauss.weight.data =Tensor([[[[[1,2,1],[2,4,2],[1,2,1]],[[2,4,2],[4,8,4],[2,4,2]], [[1,2,1],[2,4,2],[1,2,1]]]]])\n",
    "    gauss.requires_grad_(False)\n",
    "    return gauss(data[:,None]).squeeze()/gauss.weight.sum()"
   ]
  },
  {
   "cell_type": "code",
   "execution_count": 13,
   "id": "dbfc956f",
   "metadata": {},
   "outputs": [],
   "source": [
    "def get_layer_avgs(data):\n",
    "    return data.mean((-1,-2))"
   ]
  },
  {
   "cell_type": "code",
   "execution_count": 14,
   "id": "cec49801",
   "metadata": {},
   "outputs": [],
   "source": [
    "def get_max_sub_mean(data):\n",
    "    maxes = F.max_pool1d(data, kernel_size=3, padding=1, stride=1)\n",
    "    mins = -F.max_pool1d(-data, kernel_size=3, padding=1, stride=1)\n",
    "    return maxes-mins"
   ]
  },
  {
   "cell_type": "code",
   "execution_count": 15,
   "id": "ae97918e",
   "metadata": {},
   "outputs": [],
   "source": [
    "def get_max_div_mean(data):\n",
    "    maxes = F.max_pool1d(data, kernel_size=3, padding=1, stride=1)\n",
    "    mins = -F.max_pool1d(-data, kernel_size=3, padding=1, stride=1)\n",
    "    return maxes/mins"
   ]
  },
  {
   "cell_type": "code",
   "execution_count": 16,
   "id": "664f09f1",
   "metadata": {},
   "outputs": [],
   "source": [
    "def get_edge_det(data, kernel):\n",
    "    edge = nn.Conv1d(1, 1, kernel_size=3, stride=1, padding=1, padding_mode='replicate', bias=False)\n",
    "    edge.weight.data = Tensor([[kernel]])\n",
    "    edge.requires_grad_(False)\n",
    "    return edge(data[:,None]).squeeze()"
   ]
  },
  {
   "cell_type": "code",
   "execution_count": 17,
   "id": "27568905",
   "metadata": {},
   "outputs": [],
   "source": [
    "def get_1d_gauss(data):\n",
    "    gauss = nn.Conv1d(1, 1, kernel_size=3, stride=1, padding=1, padding_mode='replicate', bias=False)\n",
    "    gauss.weight.data = Tensor([[[2,4,2]]])\n",
    "    gauss.requires_grad_(False)\n",
    "    return gauss(data[:,None]).squeeze()/8"
   ]
  },
  {
   "cell_type": "code",
   "execution_count": 18,
   "id": "3e215623",
   "metadata": {},
   "outputs": [],
   "source": [
    "def get_1d_avg(data):\n",
    "    return F.avg_pool1d(data, kernel_size=3, padding=1, stride=1, count_include_pad=False)"
   ]
  },
  {
   "cell_type": "code",
   "execution_count": 19,
   "id": "2c44302f",
   "metadata": {},
   "outputs": [],
   "source": [
    "def get_probs(data):\n",
    "    return F.softmax(data, dim=-1)"
   ]
  },
  {
   "cell_type": "code",
   "execution_count": 20,
   "id": "70303052",
   "metadata": {},
   "outputs": [],
   "source": [
    "def targ2class(targs, volume):\n",
    "    return torch.div((targs-volume.get_passive_z_range()[0]), volume.passive_size, rounding_mode='floor')-1  # -1 due to conversion to layer ID, instead of fill height"
   ]
  },
  {
   "cell_type": "code",
   "execution_count": 21,
   "id": "293a669f",
   "metadata": {},
   "outputs": [],
   "source": [
    "def get_losses(probs, class_targs, pred_start, test_id=None):\n",
    "    ints = torch.arange(pred_start, pred_start+probs.size(1))\n",
    "    mses = (class_targs-ints).abs()\n",
    "    mses = 100*mses/mses.sum(-1, keepdim=True)\n",
    "    losses = mses*probs\n",
    "    if test_id is not None:\n",
    "        print('targ ID', class_targs[test_id])\n",
    "        print('probs', probs[test_id])\n",
    "        print('ints', ints)\n",
    "        print('mses', mses[test_id])\n",
    "        print('int losses', losses[test_id])\n",
    "    return losses.sum(-1)"
   ]
  },
  {
   "cell_type": "code",
   "execution_count": 22,
   "id": "9f7afd5e",
   "metadata": {},
   "outputs": [],
   "source": [
    "ctargs = targ2class(targs, volume)"
   ]
  },
  {
   "cell_type": "code",
   "execution_count": 23,
   "id": "5c8dce0f",
   "metadata": {},
   "outputs": [
    {
     "data": {
      "text/plain": [
       "(tensor(1.), tensor(8.))"
      ]
     },
     "execution_count": 23,
     "metadata": {},
     "output_type": "execute_result"
    }
   ],
   "source": [
    "ctargs.min(), ctargs.max()"
   ]
  },
  {
   "cell_type": "code",
   "execution_count": 29,
   "id": "82e5462c",
   "metadata": {},
   "outputs": [
    {
     "data": {
      "text/plain": [
       "(tensor([1, 2, 3, 4, 5, 6, 7, 8, 9]),\n",
       " tensor([24.1379, 20.6897, 17.2414, 13.7931, 10.3448,  6.8966,  3.4483,  0.0000,\n",
       "          3.4483]))"
      ]
     },
     "execution_count": 29,
     "metadata": {},
     "output_type": "execute_result"
    }
   ],
   "source": [
    "pred_start = 1\n",
    "ints = torch.arange(pred_start, pred_start+9)\n",
    "mses = (8-ints).abs()\n",
    "mses = 100*mses/mses.sum(-1, keepdim=True)\n",
    "ints, mses"
   ]
  },
  {
   "cell_type": "code",
   "execution_count": 30,
   "id": "1b5fd46e",
   "metadata": {},
   "outputs": [
    {
     "data": {
      "text/plain": [
       "(tensor([1, 2, 3, 4, 5, 6, 7, 8, 9]),\n",
       " tensor([ 0.0000,  2.7778,  5.5556,  8.3333, 11.1111, 13.8889, 16.6667, 19.4444,\n",
       "         22.2222]))"
      ]
     },
     "execution_count": 30,
     "metadata": {},
     "output_type": "execute_result"
    }
   ],
   "source": [
    "ints = torch.arange(pred_start, pred_start+9)\n",
    "mses = (1-ints).abs()\n",
    "mses = 100*mses/mses.sum(-1, keepdim=True)\n",
    "ints, mses"
   ]
  },
  {
   "cell_type": "markdown",
   "id": "77163840",
   "metadata": {},
   "source": [
    "start=1 => cut last pred\n",
    "\n",
    "start=0 => cut first pred"
   ]
  },
  {
   "cell_type": "code",
   "execution_count": 34,
   "id": "252e750b",
   "metadata": {},
   "outputs": [],
   "source": [
    "def get_loss(probs, class_targs, pred_start, test_id=None):\n",
    "    return get_losses(probs, class_targs, pred_start, test_id).mean()"
   ]
  },
  {
   "cell_type": "code",
   "execution_count": 35,
   "id": "6514d392",
   "metadata": {},
   "outputs": [],
   "source": [
    "from sklearn.metrics import accuracy_score\n",
    "from prettytable import PrettyTable"
   ]
  },
  {
   "cell_type": "code",
   "execution_count": 36,
   "id": "e64ca5eb",
   "metadata": {},
   "outputs": [],
   "source": [
    "def score_data(logits, targs, pred_starts=(0,1), volume=volume, test_id=None):\n",
    "    ctargs = targ2class(targs, volume=volume)\n",
    "    pt = PrettyTable(field_names=['Start', 'Int class loss', ' Acc', 'Fill MSE'])\n",
    "    for start in pred_starts:\n",
    "        if start == 0:\n",
    "            probs = get_probs(logits[:,1:])\n",
    "            preds = probs.argmax(-1, keepdim=True)+1\n",
    "        elif start == 1:\n",
    "            probs = get_probs(logits[:,:-1])\n",
    "            preds = probs.argmax(-1, keepdim=True)+1\n",
    "        pred_fill = ((preds+1)*volume.passive_size)+volume.get_passive_z_range()[0]\n",
    "        true_fill = ((ctargs+1)*volume.passive_size)+volume.get_passive_z_range()[0]\n",
    "        pt.add_row([start,\n",
    "                    get_loss(probs, ctargs, start, test_id=test_id).item(),\n",
    "                    accuracy_score(ctargs, preds).item(),\n",
    "                    ((true_fill-pred_fill)**2).mean().item()])\n",
    "    print(pt)"
   ]
  },
  {
   "cell_type": "markdown",
   "id": "278d685d",
   "metadata": {},
   "source": [
    "# Tests"
   ]
  },
  {
   "cell_type": "code",
   "execution_count": 37,
   "id": "d8c8fde6",
   "metadata": {},
   "outputs": [],
   "source": [
    "test_id=0"
   ]
  },
  {
   "cell_type": "code",
   "execution_count": 38,
   "id": "e5a21d6c",
   "metadata": {
    "scrolled": false
   },
   "outputs": [
    {
     "name": "stdout",
     "output_type": "stream",
     "text": [
      "Zero-ordered target layer ID (including ladel bottom layer): tensor([5.])\n"
     ]
    },
    {
     "data": {
      "image/png": "[encoded data removed]",
      "text/plain": [
       "<Figure size 1024x576 with 9 Axes>"
      ]
     },
     "metadata": {},
     "output_type": "display_data"
    },
    {
     "name": "stdout",
     "output_type": "stream",
     "text": [
      "Zero-ordered target layer ID (including ladel bottom layer): tensor([5.])\n"
     ]
    },
    {
     "data": {
      "image/png": "[encoded data removed]",
      "text/plain": [
       "<Figure size 1024x576 with 9 Axes>"
      ]
     },
     "metadata": {},
     "output_type": "display_data"
    },
    {
     "name": "stdout",
     "output_type": "stream",
     "text": [
      "+-------+--------------------+-------+----------------------+\n",
      "| Start |   Int class loss   |   Acc |       Fill MSE       |\n",
      "+-------+--------------------+-------+----------------------+\n",
      "|   0   | 12.490754127502441 |  0.15 | 0.061900001019239426 |\n",
      "|   1   | 12.497160911560059 | 0.165 |  0.0964999869465828  |\n",
      "+-------+--------------------+-------+----------------------+\n"
     ]
    }
   ],
   "source": [
    "# max-min\n",
    "x = get_layer_avgs(ladel_removed)\n",
    "plot_pred(x[test_id,:,None,None], targs[test_id])\n",
    "x = get_max_sub_mean(x)\n",
    "plot_pred(x[test_id,:,None,None], targs[test_id])\n",
    "score_data(x, targs)"
   ]
  },
  {
   "cell_type": "code",
   "execution_count": 39,
   "id": "30edf5b5",
   "metadata": {},
   "outputs": [
    {
     "name": "stdout",
     "output_type": "stream",
     "text": [
      "Zero-ordered target layer ID (including ladel bottom layer): tensor([5.])\n"
     ]
    },
    {
     "data": {
      "image/png": "[encoded data removed]",
      "text/plain": [
       "<Figure size 1024x576 with 9 Axes>"
      ]
     },
     "metadata": {},
     "output_type": "display_data"
    },
    {
     "name": "stdout",
     "output_type": "stream",
     "text": [
      "+-------+--------------------+------+----------------------+\n",
      "| Start |   Int class loss   |  Acc |       Fill MSE       |\n",
      "+-------+--------------------+------+----------------------+\n",
      "|   0   | 11.887236595153809 | 0.16 | 0.052449993789196014 |\n",
      "|   1   | 11.977927207946777 | 0.15 |  0.0669499933719635  |\n",
      "+-------+--------------------+------+----------------------+\n"
     ]
    }
   ],
   "source": [
    "# max/min\n",
    "x = get_layer_avgs(ladel_removed)\n",
    "x = get_max_div_mean(x)\n",
    "plot_pred(x[test_id,:,None,None], targs[test_id])\n",
    "score_data(x, targs)"
   ]
  },
  {
   "cell_type": "code",
   "execution_count": null,
   "id": "51ed3776",
   "metadata": {},
   "outputs": [],
   "source": [
    "# pre-avg 3d max-min\n",
    "x = get_3d_avg(ladel_removed)\n",
    "plot_pred(x[test_id], targs[test_id])\n",
    "x = get_layer_avgs(x)\n",
    "x = get_max_sub_mean(x)\n",
    "plot_pred(x[test_id,:,None,None], targs[test_id])\n",
    "score_data(x, targs)"
   ]
  },
  {
   "cell_type": "code",
   "execution_count": null,
   "id": "a93424f3",
   "metadata": {},
   "outputs": [],
   "source": [
    "# pre-avg 3d max/min\n",
    "x = get_3d_avg(ladel_removed)\n",
    "plot_pred(x[test_id], targs[test_id])\n",
    "x = get_layer_avgs(x)\n",
    "x = get_max_div_mean(x)\n",
    "plot_pred(x[test_id,:,None,None], targs[test_id])\n",
    "score_data(x, targs)"
   ]
  },
  {
   "cell_type": "code",
   "execution_count": null,
   "id": "eb59509b",
   "metadata": {},
   "outputs": [],
   "source": [
    "# pre-gaiss 3d max-min\n",
    "x = get_3d_gauss(ladel_removed)\n",
    "plot_pred(x[test_id], targs[test_id])\n",
    "x = get_layer_avgs(x)\n",
    "x = get_max_sub_mean(x)\n",
    "plot_pred(x[test_id,:,None,None], targs[test_id])\n",
    "score_data(x, targs)"
   ]
  },
  {
   "cell_type": "code",
   "execution_count": null,
   "id": "7dabe4d9",
   "metadata": {},
   "outputs": [],
   "source": [
    "# pre-gauss 3d max/min\n",
    "x = get_3d_gauss(ladel_removed)\n",
    "plot_pred(x[test_id], targs[test_id])\n",
    "x = get_layer_avgs(x)\n",
    "x = get_max_div_mean(x)\n",
    "plot_pred(x[test_id,:,None,None], targs[test_id])\n",
    "score_data(x, targs)"
   ]
  },
  {
   "cell_type": "code",
   "execution_count": null,
   "id": "f64fdbb0",
   "metadata": {},
   "outputs": [],
   "source": [
    "# avg 1d max-min\n",
    "x = get_layer_avgs(ladel_removed)\n",
    "x = get_1d_avg(x)\n",
    "x = get_max_sub_mean(x)\n",
    "plot_pred(x[test_id,:,None,None], targs[test_id])\n",
    "score_data(x, targs)"
   ]
  },
  {
   "cell_type": "code",
   "execution_count": null,
   "id": "d39e13dc",
   "metadata": {},
   "outputs": [],
   "source": [
    "# avg 1d max/min\n",
    "x = get_layer_avgs(ladel_removed)\n",
    "x = get_1d_avg(x)\n",
    "x = get_max_div_mean(x)\n",
    "plot_pred(x[test_id,:,None,None], targs[test_id])\n",
    "score_data(x, targs)"
   ]
  },
  {
   "cell_type": "code",
   "execution_count": null,
   "id": "6f216b6d",
   "metadata": {},
   "outputs": [],
   "source": [
    "# avg 1d max/min\n",
    "x = get_layer_avgs(ladel_removed)\n",
    "x = get_1d_avg(x)\n",
    "x = get_max_div_mean(x)*1e4\n",
    "plot_pred(x[test_id,:,None,None], targs[test_id])\n",
    "score_data(x, targs)"
   ]
  },
  {
   "cell_type": "code",
   "execution_count": null,
   "id": "3d60b8a6",
   "metadata": {},
   "outputs": [],
   "source": [
    "# gaussg 1d max-min\n",
    "x = get_layer_avgs(ladel_removed)\n",
    "x = get_1d_gauss(x)\n",
    "x = get_max_sub_mean(x)\n",
    "plot_pred(x[test_id,:,None,None], targs[test_id])\n",
    "score_data(x, targs)"
   ]
  },
  {
   "cell_type": "code",
   "execution_count": null,
   "id": "d52b253f",
   "metadata": {},
   "outputs": [],
   "source": [
    "# gauss 1d max/min\n",
    "x = get_layer_avgs(ladel_removed)\n",
    "x = get_1d_gauss(x)\n",
    "x = get_max_div_mean(x)\n",
    "plot_pred(x[test_id,:,None,None], targs[test_id])\n",
    "score_data(x, targs)"
   ]
  },
  {
   "cell_type": "code",
   "execution_count": null,
   "id": "f5d727ba",
   "metadata": {},
   "outputs": [],
   "source": [
    "# pre-avg 3d avg 1d max-min\n",
    "x = get_3d_avg(ladel_removed)\n",
    "plot_pred(x[test_id], targs[test_id])\n",
    "x = get_layer_avgs(x)\n",
    "x = get_1d_avg(x)\n",
    "x = get_max_sub_mean(x)\n",
    "plot_pred(x[test_id,:,None,None], targs[test_id])\n",
    "score_data(x, targs)"
   ]
  },
  {
   "cell_type": "code",
   "execution_count": null,
   "id": "eb183c88",
   "metadata": {},
   "outputs": [],
   "source": [
    "# pre-avg 3d avg 1d max/min\n",
    "plot_pred(ladel_removed[0], targs[0])\n",
    "x = get_3d_avg(ladel_removed)\n",
    "plot_pred(x[test_id], targs[test_id])\n",
    "x = get_layer_avgs(x)\n",
    "plot_pred(x[test_id,:,None,None], targs[test_id])\n",
    "x = get_1d_avg(x)\n",
    "plot_pred(x[test_id,:,None,None], targs[test_id])\n",
    "x = get_max_div_mean(x)\n",
    "plot_pred(x[test_id,:,None,None], targs[test_id])\n",
    "score_data(x, targs)"
   ]
  },
  {
   "cell_type": "markdown",
   "id": "5ba9d8cc",
   "metadata": {},
   "source": [
    "## Ridge -1,x,-1"
   ]
  },
  {
   "cell_type": "code",
   "execution_count": null,
   "id": "fd7a79b5",
   "metadata": {},
   "outputs": [],
   "source": [
    "# Ridge\n",
    "x = get_layer_avgs(ladel_removed)\n",
    "plot_pred(x[test_id,:,None,None], targs[test_id])\n",
    "x = -get_edge_det(x, [-1,2,-1])\n",
    "plot_pred(x[test_id,:,None,None], targs[test_id])\n",
    "score_data(x, targs)"
   ]
  },
  {
   "cell_type": "code",
   "execution_count": null,
   "id": "3ea6b453",
   "metadata": {},
   "outputs": [],
   "source": [
    "# 1d avg Ridge\n",
    "x = get_layer_avgs(ladel_removed)\n",
    "plot_pred(x[test_id,:,None,None], targs[test_id])\n",
    "x = get_1d_avg(x)\n",
    "plot_pred(x[test_id,:,None,None], targs[test_id])\n",
    "x = -get_edge_det(x, [-1,2,-1])\n",
    "plot_pred(x[test_id,:,None,None], targs[test_id])\n",
    "score_data(x, targs)"
   ]
  },
  {
   "cell_type": "code",
   "execution_count": null,
   "id": "7edf648e",
   "metadata": {},
   "outputs": [],
   "source": [
    "# 3d avg Ridge\n",
    "x = get_3d_avg(ladel_removed)\n",
    "plot_pred(x[test_id], targs[test_id])\n",
    "x = get_layer_avgs(x)\n",
    "plot_pred(x[test_id,:,None,None], targs[test_id])\n",
    "x = -get_edge_det(x, [-1,2,-1])\n",
    "plot_pred(x[test_id,:,None,None], targs[test_id])\n",
    "score_data(x, targs)"
   ]
  },
  {
   "cell_type": "code",
   "execution_count": null,
   "id": "74b1abc7",
   "metadata": {},
   "outputs": [],
   "source": [
    "# 3d avg 1d avg Ridge\n",
    "x = get_3d_gauss(ladel_removed)\n",
    "plot_pred(x[test_id], targs[test_id])\n",
    "x = get_layer_avgs(x)\n",
    "plot_pred(x[test_id,:,None,None], targs[test_id])\n",
    "x = get_1d_avg(x)\n",
    "plot_pred(x[test_id,:,None,None], targs[test_id])\n",
    "x = -get_edge_det(x, [-1,2,-1])\n",
    "plot_pred(x[test_id,:,None,None], targs[test_id])\n",
    "score_data(x, targs)"
   ]
  },
  {
   "cell_type": "code",
   "execution_count": null,
   "id": "189557b6",
   "metadata": {},
   "outputs": [],
   "source": [
    "# Ridge max-min\n",
    "x = get_layer_avgs(ladel_removed)\n",
    "plot_pred(x[test_id,:,None,None], targs[test_id])\n",
    "x = get_edge_det(x, [-1,4,-1])\n",
    "plot_pred(x[test_id,:,None,None], targs[test_id])\n",
    "x = get_max_sub_mean(x)\n",
    "plot_pred(x[test_id,:,None,None], targs[test_id])\n",
    "score_data(x, targs)"
   ]
  },
  {
   "cell_type": "code",
   "execution_count": null,
   "id": "7d144fd0",
   "metadata": {},
   "outputs": [],
   "source": [
    "# 1d avg Ridge max-min\n",
    "x = get_layer_avgs(ladel_removed)\n",
    "plot_pred(x[test_id,:,None,None], targs[test_id])\n",
    "x = get_1d_avg(x)\n",
    "plot_pred(x[test_id,:,None,None], targs[test_id])\n",
    "x = -get_edge_det(x, [-1,4,-1])\n",
    "plot_pred(x[test_id,:,None,None], targs[test_id])\n",
    "x = get_max_sub_mean(x)\n",
    "plot_pred(x[test_id,:,None,None], targs[test_id])\n",
    "score_data(x, targs)"
   ]
  },
  {
   "cell_type": "code",
   "execution_count": null,
   "id": "fdf502a4",
   "metadata": {},
   "outputs": [],
   "source": [
    "# 3d avg Ridge max-min\n",
    "x = get_3d_avg(ladel_removed)\n",
    "plot_pred(x[test_id], targs[test_id])\n",
    "x = get_layer_avgs(x)\n",
    "plot_pred(x[test_id,:,None,None], targs[test_id])\n",
    "x = -get_edge_det(x, [-1,4,-1])\n",
    "plot_pred(x[test_id,:,None,None], targs[test_id])\n",
    "x = get_max_sub_mean(x)\n",
    "plot_pred(x[test_id,:,None,None], targs[test_id])\n",
    "score_data(x, targs)"
   ]
  },
  {
   "cell_type": "code",
   "execution_count": null,
   "id": "55b1f650",
   "metadata": {},
   "outputs": [],
   "source": [
    "# 3d avg 1d avg Ridge max-min\n",
    "x = get_3d_gauss(ladel_removed)\n",
    "plot_pred(x[test_id], targs[test_id])\n",
    "x = get_layer_avgs(x)\n",
    "plot_pred(x[test_id,:,None,None], targs[test_id])\n",
    "x = get_1d_avg(x)\n",
    "plot_pred(x[test_id,:,None,None], targs[test_id])\n",
    "x = -get_edge_det(x, [-1,4,-1])\n",
    "plot_pred(x[test_id,:,None,None], targs[test_id])\n",
    "x = get_max_sub_mean(x)\n",
    "plot_pred(x[test_id,:,None,None], targs[test_id])\n",
    "score_data(x, targs)"
   ]
  },
  {
   "cell_type": "code",
   "execution_count": null,
   "id": "55d0745c",
   "metadata": {},
   "outputs": [],
   "source": [
    "# Ridge max/min\n",
    "x = get_layer_avgs(ladel_removed)\n",
    "plot_pred(x[test_id,:,None,None], targs[test_id])\n",
    "x = -get_edge_det(x, [-1,0,-1])\n",
    "plot_pred(x[test_id,:,None,None], targs[test_id])\n",
    "x = get_max_div_mean(x)\n",
    "plot_pred(x[test_id,:,None,None], targs[test_id])\n",
    "score_data(x, targs)"
   ]
  },
  {
   "cell_type": "code",
   "execution_count": null,
   "id": "96d70f2e",
   "metadata": {},
   "outputs": [],
   "source": [
    "# 1d avg Ridge max/min\n",
    "x = get_layer_avgs(ladel_removed)\n",
    "plot_pred(x[test_id,:,None,None], targs[test_id])\n",
    "x = get_1d_avg(x)\n",
    "plot_pred(x[test_id,:,None,None], targs[test_id])\n",
    "x = -get_edge_det(x, [-1,0,-1])\n",
    "plot_pred(x[test_id,:,None,None], targs[test_id])\n",
    "x = get_max_div_mean(x)\n",
    "plot_pred(x[test_id,:,None,None], targs[test_id])\n",
    "score_data(x, targs)"
   ]
  },
  {
   "cell_type": "code",
   "execution_count": null,
   "id": "fe357820",
   "metadata": {
    "scrolled": false
   },
   "outputs": [],
   "source": [
    "# 3d avg Ridge max/min\n",
    "x = get_3d_gauss(ladel_removed)\n",
    "plot_pred(x[test_id], targs[test_id])\n",
    "x = get_layer_avgs(x)\n",
    "plot_pred(x[test_id,:,None,None], targs[test_id])\n",
    "x = -get_edge_det(x, [-1,0,-1])\n",
    "plot_pred(x[test_id,:,None,None], targs[test_id])\n",
    "x = get_max_div_mean(x)\n",
    "plot_pred(x[test_id,:,None,None], targs[test_id])\n",
    "score_data(x, targs)"
   ]
  },
  {
   "cell_type": "code",
   "execution_count": null,
   "id": "3a82a2ac",
   "metadata": {},
   "outputs": [],
   "source": [
    "# 3d avg 1d avg Ridge max/min\n",
    "x = get_3d_gauss(ladel_removed)\n",
    "plot_pred(x[test_id], targs[test_id])\n",
    "x = get_layer_avgs(x)\n",
    "plot_pred(x[test_id,:,None,None], targs[test_id])\n",
    "x = get_1d_avg(x)\n",
    "plot_pred(x[test_id,:,None,None], targs[test_id])\n",
    "x = -get_edge_det(x, [-1,0,-1])\n",
    "plot_pred(x[test_id,:,None,None], targs[test_id])\n",
    "x = get_max_div_mean(x)\n",
    "plot_pred(x[test_id,:,None,None], targs[test_id])\n",
    "score_data(x, targs)"
   ]
  },
  {
   "cell_type": "code",
   "execution_count": null,
   "id": "7639db4f",
   "metadata": {},
   "outputs": [],
   "source": [
    "# max-min Ridge\n",
    "x = get_layer_avgs(ladel_removed)\n",
    "plot_pred(x[test_id,:,None,None], targs[test_id])\n",
    "x = get_max_sub_mean(x)\n",
    "plot_pred(x[test_id,:,None,None], targs[test_id])\n",
    "x = get_edge_det(x, [-1,8,-1])\n",
    "plot_pred(x[test_id,:,None,None], targs[test_id])\n",
    "score_data(x, targs)"
   ]
  },
  {
   "cell_type": "code",
   "execution_count": null,
   "id": "83fc0b14",
   "metadata": {},
   "outputs": [],
   "source": [
    "# 1d avg max-min Ridge \n",
    "x = get_layer_avgs(ladel_removed)\n",
    "plot_pred(x[test_id,:,None,None], targs[test_id])\n",
    "x = get_1d_avg(x)\n",
    "plot_pred(x[test_id,:,None,None], targs[test_id])\n",
    "x = get_max_sub_mean(x)\n",
    "plot_pred(x[test_id,:,None,None], targs[test_id])\n",
    "x = get_edge_det(x, [-1,8,-1])\n",
    "plot_pred(x[test_id,:,None,None], targs[test_id])\n",
    "score_data(x, targs)"
   ]
  },
  {
   "cell_type": "code",
   "execution_count": null,
   "id": "861f65a3",
   "metadata": {},
   "outputs": [],
   "source": [
    "# 3d avg max-min Ridge \n",
    "x = get_3d_gauss(ladel_removed)\n",
    "plot_pred(x[test_id], targs[test_id])\n",
    "x = get_layer_avgs(x)\n",
    "plot_pred(x[test_id,:,None,None], targs[test_id])\n",
    "x = get_max_sub_mean(x)\n",
    "plot_pred(x[test_id,:,None,None], targs[test_id])\n",
    "x = get_edge_det(x, [-1,8,-1])\n",
    "plot_pred(x[test_id,:,None,None], targs[test_id])\n",
    "score_data(x, targs)"
   ]
  },
  {
   "cell_type": "code",
   "execution_count": null,
   "id": "62ac2c4b",
   "metadata": {},
   "outputs": [],
   "source": [
    "# 3d avg 1d avg max-min Ridge \n",
    "x = get_3d_gauss(ladel_removed)\n",
    "plot_pred(x[test_id], targs[test_id])\n",
    "x = get_layer_avgs(x)\n",
    "plot_pred(x[test_id,:,None,None], targs[test_id])\n",
    "x = get_1d_avg(x)\n",
    "plot_pred(x[test_id,:,None,None], targs[test_id])\n",
    "x = get_max_sub_mean(x)\n",
    "plot_pred(x[test_id,:,None,None], targs[test_id])\n",
    "x = get_edge_det(x, [-1,8,-1])\n",
    "plot_pred(x[test_id,:,None,None], targs[test_id])\n",
    "score_data(x, targs)"
   ]
  },
  {
   "cell_type": "code",
   "execution_count": null,
   "id": "a6335895",
   "metadata": {},
   "outputs": [],
   "source": [
    "# max/min Ridge\n",
    "x = get_layer_avgs(ladel_removed)\n",
    "plot_pred(x[test_id,:,None,None], targs[test_id])\n",
    "x = get_max_div_mean(x)\n",
    "plot_pred(x[test_id,:,None,None], targs[test_id])\n",
    "x = get_edge_det(x, [-1,8,-1])\n",
    "plot_pred(x[test_id,:,None,None], targs[test_id])\n",
    "score_data(x, targs)"
   ]
  },
  {
   "cell_type": "code",
   "execution_count": null,
   "id": "fbf0914b",
   "metadata": {},
   "outputs": [],
   "source": [
    "# 1d avg max/min Ridge \n",
    "x = get_layer_avgs(ladel_removed)\n",
    "plot_pred(x[test_id,:,None,None], targs[test_id])\n",
    "x = get_1d_avg(x)\n",
    "plot_pred(x[test_id,:,None,None], targs[test_id])\n",
    "x = get_max_div_mean(x)\n",
    "plot_pred(x[test_id,:,None,None], targs[test_id])\n",
    "x = get_edge_det(x, [-1,8,-1])\n",
    "plot_pred(x[test_id,:,None,None], targs[test_id])\n",
    "score_data(x, targs)"
   ]
  },
  {
   "cell_type": "code",
   "execution_count": null,
   "id": "5f45dd55",
   "metadata": {},
   "outputs": [],
   "source": [
    "# 3d avg max/min Ridge \n",
    "x = get_3d_gauss(ladel_removed)\n",
    "plot_pred(x[test_id], targs[test_id])\n",
    "x = get_layer_avgs(x)\n",
    "plot_pred(x[test_id,:,None,None], targs[test_id])\n",
    "x = get_max_div_mean(x)\n",
    "plot_pred(x[test_id,:,None,None], targs[test_id])\n",
    "x = get_edge_det(x, [-1,8,-1])\n",
    "plot_pred(x[test_id,:,None,None], targs[test_id])\n",
    "score_data(x, targs)"
   ]
  },
  {
   "cell_type": "code",
   "execution_count": null,
   "id": "7fa3ca48",
   "metadata": {},
   "outputs": [],
   "source": [
    "# 3d avg 1d avg max/min Ridge \n",
    "x = get_3d_gauss(ladel_removed)\n",
    "plot_pred(x[test_id], targs[test_id])\n",
    "x = get_layer_avgs(x)\n",
    "plot_pred(x[test_id,:,None,None], targs[test_id])\n",
    "x = get_1d_avg(x)\n",
    "plot_pred(x[test_id,:,None,None], targs[test_id])\n",
    "x = get_max_div_mean(x)\n",
    "plot_pred(x[test_id,:,None,None], targs[test_id])\n",
    "x = get_edge_det(x, [-1,8,-1])\n",
    "plot_pred(x[test_id,:,None,None], targs[test_id])\n",
    "score_data(x, targs)"
   ]
  },
  {
   "cell_type": "markdown",
   "id": "888077fa",
   "metadata": {},
   "source": [
    "## Directed edge"
   ]
  },
  {
   "cell_type": "code",
   "execution_count": null,
   "id": "4638c3fb",
   "metadata": {},
   "outputs": [],
   "source": [
    "# Edge\n",
    "x = get_layer_avgs(ladel_removed)\n",
    "plot_pred(x[test_id,:,None,None], targs[test_id])\n",
    "x = get_edge_det(x, [-1,0,1])\n",
    "plot_pred(x[test_id,:,None,None], targs[test_id])\n",
    "score_data(x, targs)"
   ]
  },
  {
   "cell_type": "code",
   "execution_count": null,
   "id": "cd340127",
   "metadata": {},
   "outputs": [],
   "source": [
    "# 1d avg Edge\n",
    "x = get_layer_avgs(ladel_removed)\n",
    "plot_pred(x[test_id,:,None,None], targs[test_id])\n",
    "x = get_1d_avg(x)\n",
    "plot_pred(x[test_id,:,None,None], targs[test_id])\n",
    "x = get_edge_det(x, [-1,0,1])\n",
    "plot_pred(x[test_id,:,None,None], targs[test_id])\n",
    "score_data(x, targs)"
   ]
  },
  {
   "cell_type": "code",
   "execution_count": null,
   "id": "c909a4e6",
   "metadata": {},
   "outputs": [],
   "source": [
    "# 3d avg Edge\n",
    "x = get_3d_avg(ladel_removed)\n",
    "plot_pred(x[test_id], targs[test_id])\n",
    "x = get_layer_avgs(x)\n",
    "plot_pred(x[test_id,:,None,None], targs[test_id])\n",
    "x = get_edge_det(x, [-1,0,1])\n",
    "plot_pred(x[test_id,:,None,None], targs[test_id])\n",
    "score_data(x, targs)"
   ]
  },
  {
   "cell_type": "code",
   "execution_count": null,
   "id": "ea63bfa3",
   "metadata": {},
   "outputs": [],
   "source": [
    "# 3d avg 1d avg Edge\n",
    "x = get_3d_gauss(ladel_removed)\n",
    "plot_pred(x[test_id], targs[test_id])\n",
    "x = get_layer_avgs(x)\n",
    "plot_pred(x[test_id,:,None,None], targs[test_id])\n",
    "x = get_1d_avg(x)\n",
    "plot_pred(x[test_id,:,None,None], targs[test_id])\n",
    "x = get_edge_det(x, [-1,0,1])\n",
    "plot_pred(x[test_id,:,None,None], targs[test_id])\n",
    "score_data(x, targs)"
   ]
  },
  {
   "cell_type": "code",
   "execution_count": null,
   "id": "c2b41852",
   "metadata": {},
   "outputs": [],
   "source": [
    "# Ridge max-min\n",
    "x = get_layer_avgs(ladel_removed)\n",
    "plot_pred(x[test_id,:,None,None], targs[test_id])\n",
    "x = get_edge_det(x, [-1,0,1])\n",
    "plot_pred(x[test_id,:,None,None], targs[test_id])\n",
    "x = get_max_sub_mean(x)\n",
    "plot_pred(x[test_id,:,None,None], targs[test_id])\n",
    "score_data(x, targs)"
   ]
  },
  {
   "cell_type": "code",
   "execution_count": null,
   "id": "2f7ec09c",
   "metadata": {},
   "outputs": [],
   "source": [
    "# Ridge max/min\n",
    "x = get_layer_avgs(ladel_removed)\n",
    "plot_pred(x[test_id,:,None,None], targs[test_id])\n",
    "x = get_edge_det(x, [-1,0,1])\n",
    "plot_pred(x[test_id,:,None,None], targs[test_id])\n",
    "x = get_max_div_mean(x)\n",
    "plot_pred(x[test_id,:,None,None], targs[test_id])\n",
    "score_data(x, targs)"
   ]
  },
  {
   "cell_type": "code",
   "execution_count": null,
   "id": "e973ceb3",
   "metadata": {},
   "outputs": [],
   "source": [
    "# 1d avg Ridge max/min\n",
    "x = get_layer_avgs(ladel_removed)\n",
    "plot_pred(x[test_id,:,None,None], targs[test_id])\n",
    "x = get_1d_avg(x)\n",
    "plot_pred(x[test_id,:,None,None], targs[test_id])\n",
    "x = get_edge_det(x, [-1,0,1])\n",
    "plot_pred(x[test_id,:,None,None], targs[test_id])\n",
    "x = get_max_div_mean(x)\n",
    "plot_pred(x[test_id,:,None,None], targs[test_id])\n",
    "score_data(x, targs)"
   ]
  },
  {
   "cell_type": "code",
   "execution_count": null,
   "id": "93228f91",
   "metadata": {},
   "outputs": [],
   "source": [
    "# 3d avg Ridge max/min\n",
    "x = get_3d_avg(ladel_removed)\n",
    "plot_pred(x[test_id], targs[test_id])\n",
    "x = get_layer_avgs(x)\n",
    "plot_pred(x[test_id,:,None,None], targs[test_id])\n",
    "x = get_edge_det(x, [-1,0,1])\n",
    "plot_pred(x[test_id,:,None,None], targs[test_id])\n",
    "x = get_max_div_mean(x)\n",
    "plot_pred(x[test_id,:,None,None], targs[test_id])\n",
    "score_data(x, targs)"
   ]
  },
  {
   "cell_type": "code",
   "execution_count": null,
   "id": "eec984f1",
   "metadata": {},
   "outputs": [],
   "source": [
    "# 3d avg 1d avg Ridge max/min\n",
    "x = get_3d_gauss(ladel_removed)\n",
    "plot_pred(x[test_id], targs[test_id])\n",
    "x = get_layer_avgs(x)\n",
    "plot_pred(x[test_id,:,None,None], targs[test_id])\n",
    "x = get_1d_avg(x)\n",
    "plot_pred(x[test_id,:,None,None], targs[test_id])\n",
    "x = get_edge_det(x, [-1,0,1])\n",
    "plot_pred(x[test_id,:,None,None], targs[test_id])\n",
    "x = get_max_div_mean(x)\n",
    "plot_pred(x[test_id,:,None,None], targs[test_id])\n",
    "score_data(x, targs)"
   ]
  },
  {
   "cell_type": "code",
   "execution_count": null,
   "id": "b28702fe",
   "metadata": {},
   "outputs": [],
   "source": [
    "# max-min Ridge\n",
    "x = get_layer_avgs(ladel_removed)\n",
    "plot_pred(x[test_id,:,None,None], targs[test_id])\n",
    "x = get_max_sub_mean(x)\n",
    "plot_pred(x[test_id,:,None,None], targs[test_id])\n",
    "x = get_edge_det(x, [-1,0,1])\n",
    "plot_pred(x[test_id,:,None,None], targs[test_id])\n",
    "score_data(x, targs)"
   ]
  },
  {
   "cell_type": "code",
   "execution_count": null,
   "id": "b2f93428",
   "metadata": {},
   "outputs": [],
   "source": [
    "# max/min Ridge\n",
    "x = get_layer_avgs(ladel_removed)\n",
    "plot_pred(x[test_id,:,None,None], targs[test_id])\n",
    "x = get_max_div_mean(x)\n",
    "plot_pred(x[test_id,:,None,None], targs[test_id])\n",
    "x = get_edge_det(x, [-1,0,1])\n",
    "plot_pred(x[test_id,:,None,None], targs[test_id])\n",
    "score_data(x, targs)"
   ]
  },
  {
   "cell_type": "code",
   "execution_count": null,
   "id": "6fdf297d",
   "metadata": {},
   "outputs": [],
   "source": [
    "# 3d avg 1d avg max-min Ridge \n",
    "x = get_3d_gauss(ladel_removed)\n",
    "plot_pred(x[test_id], targs[test_id])\n",
    "x = get_layer_avgs(x)\n",
    "plot_pred(x[test_id,:,None,None], targs[test_id])\n",
    "x = get_1d_avg(x)\n",
    "plot_pred(x[test_id,:,None,None], targs[test_id])\n",
    "x = get_max_sub_mean(x)\n",
    "plot_pred(x[test_id,:,None,None], targs[test_id])\n",
    "x = get_edge_det(x, [-1,0,1])\n",
    "plot_pred(x[test_id,:,None,None], targs[test_id])\n",
    "score_data(x, targs)"
   ]
  },
  {
   "cell_type": "code",
   "execution_count": null,
   "id": "289f67cb",
   "metadata": {},
   "outputs": [],
   "source": [
    "# 3d avg 1d avg max/min Ridge \n",
    "x = get_3d_gauss(ladel_removed)\n",
    "plot_pred(x[test_id], targs[test_id])\n",
    "x = get_layer_avgs(x)\n",
    "plot_pred(x[test_id,:,None,None], targs[test_id])\n",
    "x = get_1d_avg(x)\n",
    "plot_pred(x[test_id,:,None,None], targs[test_id])\n",
    "x = get_max_div_mean(x)\n",
    "plot_pred(x[test_id,:,None,None], targs[test_id])\n",
    "x = get_edge_det(x, [-1,0,1])\n",
    "plot_pred(x[test_id,:,None,None], targs[test_id])\n",
    "score_data(x, targs)"
   ]
  },
  {
   "cell_type": "code",
   "execution_count": null,
   "id": "c370f23d",
   "metadata": {},
   "outputs": [],
   "source": [
    "# 1d avg max/min Ridge \n",
    "x = get_layer_avgs(ladel_removed)\n",
    "plot_pred(x[test_id,:,None,None], targs[test_id])\n",
    "x = get_1d_avg(x)\n",
    "plot_pred(x[test_id,:,None,None], targs[test_id])\n",
    "x = get_max_div_mean(x)\n",
    "plot_pred(x[test_id,:,None,None], targs[test_id])\n",
    "x = get_edge_det(x, [-1,0,1])\n",
    "plot_pred(x[test_id,:,None,None], targs[test_id])\n",
    "score_data(x, targs)"
   ]
  },
  {
   "cell_type": "code",
   "execution_count": null,
   "id": "49727ef6",
   "metadata": {},
   "outputs": [],
   "source": [
    "# 3d avg max/min Ridge \n",
    "x = get_3d_gauss(ladel_removed)\n",
    "plot_pred(x[test_id], targs[test_id])\n",
    "x = get_layer_avgs(x)\n",
    "plot_pred(x[test_id,:,None,None], targs[test_id])\n",
    "x = get_max_div_mean(x)\n",
    "plot_pred(x[test_id,:,None,None], targs[test_id])\n",
    "x = get_edge_det(x, [-1,0,1])\n",
    "plot_pred(x[test_id,:,None,None], targs[test_id])\n",
    "score_data(x, targs)"
   ]
  },
  {
   "cell_type": "markdown",
   "id": "3a75d817",
   "metadata": {},
   "source": [
    "## Laplacian edge"
   ]
  },
  {
   "cell_type": "code",
   "execution_count": null,
   "id": "c4fa6dd9",
   "metadata": {},
   "outputs": [],
   "source": [
    "# Laplacian max-min\n",
    "x = get_layer_avgs(ladel_removed)\n",
    "plot_pred(x[test_id,:,None,None], targs[test_id])\n",
    "x = get_edge_det(x, [1,-4,1])\n",
    "plot_pred(x[test_id,:,None,None], targs[test_id])\n",
    "x = get_max_sub_mean(x)\n",
    "plot_pred(x[test_id,:,None,None], targs[test_id])\n",
    "score_data(x, targs)"
   ]
  },
  {
   "cell_type": "code",
   "execution_count": null,
   "id": "2fd2ca9d",
   "metadata": {},
   "outputs": [],
   "source": [
    "# 1d avg Laplacian max-min\n",
    "x = get_layer_avgs(ladel_removed)\n",
    "plot_pred(x[test_id,:,None,None], targs[test_id])\n",
    "x = get_1d_avg(x)\n",
    "plot_pred(x[test_id,:,None,None], targs[test_id])\n",
    "x = get_edge_det(x, [1,-4,1])\n",
    "plot_pred(x[test_id,:,None,None], targs[test_id])\n",
    "x = get_max_sub_mean(x)\n",
    "plot_pred(x[test_id,:,None,None], targs[test_id])\n",
    "score_data(x, targs)"
   ]
  },
  {
   "cell_type": "code",
   "execution_count": null,
   "id": "f3363b9a",
   "metadata": {},
   "outputs": [],
   "source": [
    "# Laplacian max/min\n",
    "x = get_layer_avgs(ladel_removed)\n",
    "plot_pred(x[test_id,:,None,None], targs[test_id])\n",
    "x = -get_edge_det(x, [1,-4,1])\n",
    "plot_pred(x[test_id,:,None,None], targs[test_id])\n",
    "x = get_max_div_mean(x)\n",
    "plot_pred(x[test_id,:,None,None], targs[test_id])\n",
    "score_data(x, targs)"
   ]
  },
  {
   "cell_type": "code",
   "execution_count": null,
   "id": "42f2e9f9",
   "metadata": {},
   "outputs": [],
   "source": [
    "# 1d avg Laplacian max/min\n",
    "x = get_layer_avgs(ladel_removed)\n",
    "plot_pred(x[test_id,:,None,None], targs[test_id])\n",
    "x = get_1d_avg(x)\n",
    "plot_pred(x[test_id,:,None,None], targs[test_id])\n",
    "x = -get_edge_det(x, [1,-4,1])\n",
    "plot_pred(x[test_id,:,None,None], targs[test_id])\n",
    "x = get_max_div_mean(x)\n",
    "plot_pred(x[test_id,:,None,None], targs[test_id])\n",
    "score_data(x, targs)"
   ]
  },
  {
   "cell_type": "code",
   "execution_count": null,
   "id": "2e0de3b5",
   "metadata": {},
   "outputs": [],
   "source": [
    "# 3d avg Laplacian max/min\n",
    "x = get_3d_avg(ladel_removed)\n",
    "plot_pred(x[test_id], targs[test_id])\n",
    "x = get_layer_avgs(x)\n",
    "plot_pred(x[test_id,:,None,None], targs[test_id])\n",
    "x = -get_edge_det(x, [1,-4,1])\n",
    "plot_pred(x[test_id,:,None,None], targs[test_id])\n",
    "x = get_max_div_mean(x)\n",
    "plot_pred(x[test_id,:,None,None], targs[test_id])\n",
    "score_data(x, targs)"
   ]
  },
  {
   "cell_type": "code",
   "execution_count": null,
   "id": "ec7122ae",
   "metadata": {},
   "outputs": [],
   "source": [
    "# 3d avg 1d avg Laplacian max/min\n",
    "x = get_3d_avg(ladel_removed)\n",
    "plot_pred(x[test_id], targs[test_id])\n",
    "x = get_layer_avgs(x)\n",
    "plot_pred(x[test_id,:,None,None], targs[test_id])\n",
    "x = get_1d_avg(x)\n",
    "plot_pred(x[test_id,:,None,None], targs[test_id])\n",
    "x = -get_edge_det(x, [1,-4,1])\n",
    "plot_pred(x[test_id,:,None,None], targs[test_id])\n",
    "x = get_max_div_mean(x)\n",
    "plot_pred(x[test_id,:,None,None], targs[test_id])\n",
    "score_data(x, targs)"
   ]
  },
  {
   "cell_type": "code",
   "execution_count": null,
   "id": "12e660cd",
   "metadata": {},
   "outputs": [],
   "source": [
    "# 3d avg 1d avg Laplacian max-min edge\n",
    "x = get_3d_avg(ladel_removed)\n",
    "plot_pred(x[test_id], targs[test_id])\n",
    "x = get_layer_avgs(x)\n",
    "plot_pred(x[test_id,:,None,None], targs[test_id])\n",
    "x = get_1d_avg(x)\n",
    "plot_pred(x[test_id,:,None,None], targs[test_id])\n",
    "x = get_edge_det(x, [1,-4,1])\n",
    "plot_pred(x[test_id,:,None,None], targs[test_id])\n",
    "x = get_max_sub_mean(x)\n",
    "plot_pred(x[test_id,:,None,None], targs[test_id])\n",
    "x = get_edge_det(x, [1,0,-1])\n",
    "plot_pred(x[test_id,:,None,None], targs[test_id])\n",
    "score_data(x, targs)"
   ]
  },
  {
   "cell_type": "code",
   "execution_count": null,
   "id": "4d334c5d",
   "metadata": {},
   "outputs": [],
   "source": [
    "# 3d avg 1d avg Laplacian max/min edge\n",
    "x = get_3d_avg(ladel_removed)\n",
    "plot_pred(x[test_id], targs[test_id])\n",
    "x = get_layer_avgs(x)\n",
    "plot_pred(x[test_id,:,None,None], targs[test_id])\n",
    "x = get_1d_avg(x)\n",
    "plot_pred(x[test_id,:,None,None], targs[test_id])\n",
    "x = get_edge_det(x, [1,-4,1])\n",
    "plot_pred(x[test_id,:,None,None], targs[test_id])\n",
    "x = get_max_div_mean(x)\n",
    "plot_pred(x[test_id,:,None,None], targs[test_id])\n",
    "x = get_edge_det(x, [1,0,-1])\n",
    "plot_pred(x[test_id,:,None,None], targs[test_id])\n",
    "score_data(x, targs)"
   ]
  },
  {
   "cell_type": "code",
   "execution_count": null,
   "id": "cafd6ad9",
   "metadata": {},
   "outputs": [],
   "source": [
    "# max/min Laplacian \n",
    "x = get_layer_avgs(ladel_removed)\n",
    "plot_pred(x[test_id,:,None,None], targs[test_id])\n",
    "x = get_max_div_mean(x)\n",
    "plot_pred(x[test_id,:,None,None], targs[test_id])\n",
    "x = -get_edge_det(x, [1,-4,1])\n",
    "plot_pred(x[test_id,:,None,None], targs[test_id])\n",
    "score_data(x, targs)"
   ]
  },
  {
   "cell_type": "code",
   "execution_count": null,
   "id": "1b1ce464",
   "metadata": {},
   "outputs": [],
   "source": [
    "# 1d avg max/min Laplacian edge\n",
    "x = get_layer_avgs(ladel_removed)\n",
    "plot_pred(x[test_id,:,None,None], targs[test_id])\n",
    "x = get_1d_avg(x)\n",
    "plot_pred(x[test_id,:,None,None], targs[test_id])\n",
    "x = get_max_div_mean(x)\n",
    "plot_pred(x[test_id,:,None,None], targs[test_id])\n",
    "x = -get_edge_det(x, [1,-4,1])\n",
    "plot_pred(x[test_id,:,None,None], targs[test_id])\n",
    "score_data(x, targs)"
   ]
  },
  {
   "cell_type": "code",
   "execution_count": null,
   "id": "9a217aae",
   "metadata": {},
   "outputs": [],
   "source": [
    "# 3d avg max/min Laplacian edge\n",
    "x = get_3d_avg(ladel_removed)\n",
    "plot_pred(x[test_id], targs[test_id])\n",
    "x = get_layer_avgs(x)\n",
    "plot_pred(x[test_id,:,None,None], targs[test_id])\n",
    "x = get_max_div_mean(x)\n",
    "plot_pred(x[test_id,:,None,None], targs[test_id])\n",
    "x = -get_edge_det(x, [1,-4,1])\n",
    "plot_pred(x[test_id,:,None,None], targs[test_id])\n",
    "score_data(x, targs)"
   ]
  },
  {
   "cell_type": "code",
   "execution_count": null,
   "id": "4e3650a6",
   "metadata": {},
   "outputs": [],
   "source": [
    "# 3d avg 1d avg max/min Laplacian edge\n",
    "x = get_3d_avg(ladel_removed)\n",
    "plot_pred(x[test_id], targs[test_id])\n",
    "x = get_layer_avgs(x)\n",
    "plot_pred(x[test_id,:,None,None], targs[test_id])\n",
    "x = get_1d_avg(x)\n",
    "plot_pred(x[test_id,:,None,None], targs[test_id])\n",
    "x = get_max_div_mean(x)\n",
    "plot_pred(x[test_id,:,None,None], targs[test_id])\n",
    "x = -get_edge_det(x, [1,-4,1])\n",
    "plot_pred(x[test_id,:,None,None], targs[test_id])\n",
    "score_data(x, targs)"
   ]
  },
  {
   "cell_type": "code",
   "execution_count": null,
   "id": "282d5269",
   "metadata": {},
   "outputs": [],
   "source": [
    "# 3d avg 1d avg max-min Laplacian edge\n",
    "x = get_3d_avg(ladel_removed)\n",
    "plot_pred(x[test_id], targs[test_id])\n",
    "x = get_layer_avgs(x)\n",
    "plot_pred(x[test_id,:,None,None], targs[test_id])\n",
    "x = get_1d_avg(x)\n",
    "plot_pred(x[test_id,:,None,None], targs[test_id])\n",
    "x = get_max_sub_mean(x)\n",
    "plot_pred(x[test_id,:,None,None], targs[test_id])\n",
    "x = -get_edge_det(x, [1,-4,1])\n",
    "plot_pred(x[test_id,:,None,None], targs[test_id])\n",
    "score_data(x, targs)"
   ]
  },
  {
   "cell_type": "code",
   "execution_count": null,
   "id": "687436f7",
   "metadata": {},
   "outputs": [],
   "source": []
  }
 ],
 "metadata": {
  "kernelspec": {
   "display_name": "Python [conda env:tomopt]",
   "language": "python",
   "name": "conda-env-tomopt-py"
  },
  "language_info": {
   "codemirror_mode": {
    "name": "ipython",
    "version": 3
   },
   "file_extension": ".py",
   "mimetype": "text/x-python",
   "name": "python",
   "nbconvert_exporter": "python",
   "pygments_lexer": "ipython3",
   "version": "3.8.0"
  },
  "toc": {
   "base_numbering": 1,
   "nav_menu": {},
   "number_sections": true,
   "sideBar": true,
   "skip_h1_title": false,
   "title_cell": "Table of Contents",
   "title_sidebar": "Contents",
   "toc_cell": false,
   "toc_position": {},
   "toc_section_display": true,
   "toc_window_display": false
  }
 },
 "nbformat": 4,
 "nbformat_minor": 5
}
