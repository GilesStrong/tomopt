{
 "cells": [
  {
   "cell_type": "code",
   "execution_count": 1,
   "metadata": {},
   "outputs": [],
   "source": [
    "%matplotlib inline\n",
    "%reload_ext autoreload\n",
    "%autoreload 2"
   ]
  },
  {
   "cell_type": "code",
   "execution_count": 2,
   "metadata": {},
   "outputs": [],
   "source": [
    "from tomopt.muon import *\n",
    "from tomopt.inference import *\n",
    "from tomopt.volume import *\n",
    "from tomopt.core import *\n",
    "from tomopt.optimisation import *\n",
    "\n",
    "import matplotlib.pyplot as plt\n",
    "import seaborn as sns\n",
    "from typing import *\n",
    "import numpy as np\n",
    "\n",
    "import torch\n",
    "from torch import Tensor, nn\n",
    "import torch.nn.functional as F"
   ]
  },
  {
   "cell_type": "markdown",
   "metadata": {},
   "source": [
    "# Basics"
   ]
  },
  {
   "cell_type": "code",
   "execution_count": 3,
   "metadata": {},
   "outputs": [],
   "source": [
    "def arb_rad_length(*,z:float, lw:Tensor, size:float) -> float:\n",
    "    rad_length = torch.ones(list((lw/size).long()))*X0['beryllium']\n",
    "    if z >= 0.4 and z <= 0.5: rad_length[5:,5:] = X0['lead']\n",
    "    return rad_length"
   ]
  },
  {
   "cell_type": "code",
   "execution_count": 4,
   "metadata": {},
   "outputs": [],
   "source": [
    "def eff_cost(x:Tensor) -> Tensor:\n",
    "    return torch.expm1(3*F.relu(x))"
   ]
  },
  {
   "cell_type": "code",
   "execution_count": 5,
   "metadata": {},
   "outputs": [],
   "source": [
    "def res_cost(x:Tensor) -> Tensor:\n",
    "    return F.relu(x/100)**2"
   ]
  },
  {
   "cell_type": "code",
   "execution_count": 67,
   "metadata": {},
   "outputs": [],
   "source": [
    "def get_layers():\n",
    "    layers = []\n",
    "    lwh = Tensor([1,1,1])\n",
    "    size = 0.1\n",
    "    init_eff = 0.5\n",
    "    init_res = 1000\n",
    "    pos = 'above'\n",
    "    for z,d in zip(np.arange(lwh[2],0,-size), [1,1,0,0,0,0,0,0,1,1]):\n",
    "        if d:\n",
    "            layers.append(DetectorLayer(pos=pos, init_eff=init_eff, init_res=z*init_res,\n",
    "                                        lw=lwh[:2], z=z, size=size, eff_cost_func=eff_cost, res_cost_func=res_cost))\n",
    "        else:\n",
    "            pos = 'below'\n",
    "            layers.append(PassiveLayer(rad_length_func=arb_rad_length, lw=lwh[:2], z=z, size=size))\n",
    "\n",
    "    return nn.ModuleList(layers) "
   ]
  },
  {
   "cell_type": "code",
   "execution_count": 68,
   "metadata": {},
   "outputs": [],
   "source": [
    "volume = Volume(get_layers())"
   ]
  },
  {
   "cell_type": "markdown",
   "metadata": {},
   "source": [
    "# Scatter inference"
   ]
  },
  {
   "cell_type": "code",
   "execution_count": 69,
   "metadata": {},
   "outputs": [],
   "source": [
    "muons = MuonBatch(generate_batch(100), init_z=1.0)"
   ]
  },
  {
   "cell_type": "code",
   "execution_count": 70,
   "metadata": {},
   "outputs": [],
   "source": [
    "volume(muons)"
   ]
  },
  {
   "cell_type": "code",
   "execution_count": 71,
   "metadata": {},
   "outputs": [],
   "source": [
    "class GenScatterBatch(ScatterBatch):\n",
    "    @staticmethod\n",
    "    def get_muon_trajectory(hits:Tensor, uncs=Tensor) -> Tensor:\n",
    "        r'''\n",
    "        hits = (muons,detector,(x,y,z))\n",
    "        uncs = (muons,detector,(unc,unc,0))\n",
    "        \n",
    "        Assume same unceratinty for x and y\n",
    "        '''\n",
    "        \n",
    "        inv_unc2 = uncs[:,:,0:1]**-2\n",
    "        sum_inv_unc2 = inv_unc2.sum(dim=1)\n",
    "        mean_xyz = torch.sum(hits*inv_unc2, dim=1)/sum_inv_unc2\n",
    "        mean_xyz_z = torch.sum(hits*hits[:,:,2:3]*inv_unc2, dim=1)/sum_inv_unc2\n",
    "        mean_xy = mean_xyz[:,:2]\n",
    "        mean_z = mean_xyz[:,2:3]\n",
    "        mean_xy_z = mean_xyz_z[:,:2]\n",
    "        mean_z2 = mean_xyz_z[:,2:3]\n",
    "        \n",
    "        xy_star = (mean_xy-((mean_z*mean_xy_z)/mean_z2))/(1-(mean_z.square()/mean_z2))\n",
    "        angles = (mean_xy_z-(xy_star*mean_z))/mean_z2\n",
    "        \n",
    "        calc_xyz = lambda z: torch.cat([xy_star+(angles*z), z], dim=-1)\n",
    "        return calc_xyz(hits[:,1,2:3])-calc_xyz(hits[:,0,2:3])\n",
    "        \n",
    "    def compute_scatters(self) -> None:\n",
    "        r\"\"\"\n",
    "        Currently only handles 2 detectors above and below passive volume\n",
    "        \"\"\"\n",
    "\n",
    "        self.xa0 = torch.cat([self.hits[\"above\"][\"xy\"][:, 0], self.hits[\"above\"][\"z\"][:, 0]], dim=-1)  # reco x, reco y, gen z\n",
    "        self.xa1 = torch.cat([self.hits[\"above\"][\"xy\"][:, 1], self.hits[\"above\"][\"z\"][:, 1]], dim=-1)\n",
    "        self.xb0 = torch.cat([self.hits[\"below\"][\"xy\"][:, 1], self.hits[\"below\"][\"z\"][:, 1]], dim=-1)\n",
    "        self.xb1 = torch.cat([self.hits[\"below\"][\"xy\"][:, 0], self.hits[\"below\"][\"z\"][:, 0]], dim=-1)\n",
    "\n",
    "        dets = self.volume.get_detectors()\n",
    "        res = []\n",
    "        for p, l, i in zip((\"above\", \"above\", \"below\", \"below\"), dets, (0, 1, 1, 0)):\n",
    "            x = l.abs2idx(self.hits[p][\"xy\"][:, i])\n",
    "            r = 1 / l.resolution[x[:, 0], x[:, 1]]\n",
    "            res.append(torch.stack([r, r, torch.zeros_like(r)], dim=-1))\n",
    "        self._hit_unc = torch.stack(res, dim=1)\n",
    "        \n",
    "        v1 = self.get_muon_trajectory(torch.stack([self.xa0, self.xa1], dim=1), uncs=self._hit_unc[:,:2])\n",
    "        v2 = self.get_muon_trajectory(torch.stack([self.xb0, self.xb1], dim=1), uncs=self._hit_unc[:,2:])\n",
    "        \n",
    "        # scatter locations\n",
    "        v3 = torch.cross(v1, v2, dim=1)  # connecting vector perpendicular to both lines\n",
    "        rhs = self.xb0 - self.xa0\n",
    "        lhs = torch.stack([v1, -v2, v3], dim=1).transpose(2, 1)\n",
    "        coefs = torch.linalg.solve(lhs, rhs)  # solve p1+t1*v1 + t3*v3 = p2+t2*v2 => p2-p1 = t1*v1 - t2*v2 + t3*v3\n",
    "\n",
    "        q1 = self.xa0 + (coefs[:, 0:1] * v1)  # closest point on v1\n",
    "        self._loc = q1 + (coefs[:, 2:3] * v3 / 2)  # Move halfway along v3 from q1\n",
    "        self._loc_unc: Optional[Tensor] = None\n",
    "\n",
    "        # Theta deviations\n",
    "        self._theta_in = torch.arctan(v1[:, :2] / v1[:, 2:3])\n",
    "        self._theta_out = torch.arctan(v2[:, :2] / v2[:, 2:3])\n",
    "        self._dtheta = torch.abs(self._theta_in - self._theta_out)\n",
    "        self._theta_in_unc: Optional[Tensor] = None\n",
    "        self._theta_out_unc: Optional[Tensor] = None\n",
    "        self._dtheta_unc: Optional[Tensor] = None\n",
    "\n",
    "        # xy deviations\n",
    "        self._dxy = coefs[:, 2:3] * v3[:, :2]\n",
    "        self._dxy_unc: Optional[Tensor] = None"
   ]
  },
  {
   "cell_type": "code",
   "execution_count": 72,
   "metadata": {},
   "outputs": [],
   "source": [
    "gsb = GenScatterBatch(muons, volume)"
   ]
  },
  {
   "cell_type": "code",
   "execution_count": 73,
   "metadata": {},
   "outputs": [],
   "source": [
    "sb = ScatterBatch(muons, volume)"
   ]
  },
  {
   "cell_type": "code",
   "execution_count": 74,
   "metadata": {},
   "outputs": [
    {
     "data": {
      "text/plain": [
       "(tensor([[0.1952, 0.7033, 0.4431],\n",
       "         [0.7786, 0.3759, 0.3105],\n",
       "         [0.1156, 0.8766, 0.3230],\n",
       "         [0.8084, 0.2616, 0.2662],\n",
       "         [0.6475, 0.0482, 0.1029],\n",
       "         [0.9144, 0.1843, 0.2169],\n",
       "         [0.8951, 0.5828, 0.1589],\n",
       "         [0.0338, 0.7231, 0.1495],\n",
       "         [0.5464, 0.2514, 0.1051],\n",
       "         [0.3565, 0.4568, 0.1339]], grad_fn=<SliceBackward>),\n",
       " tensor([[0.1952, 0.7033, 0.4434],\n",
       "         [0.7786, 0.3759, 0.3104],\n",
       "         [0.1156, 0.8766, 0.3231],\n",
       "         [0.8084, 0.2616, 0.2661],\n",
       "         [0.6475, 0.0482, 0.1029],\n",
       "         [0.9144, 0.1843, 0.2169],\n",
       "         [0.8951, 0.5828, 0.1588],\n",
       "         [0.0338, 0.7231, 0.1492],\n",
       "         [0.5464, 0.2514, 0.1051],\n",
       "         [0.3565, 0.4568, 0.1340]], grad_fn=<SliceBackward>))"
      ]
     },
     "execution_count": 74,
     "metadata": {},
     "output_type": "execute_result"
    }
   ],
   "source": [
    "gsb.location[:10],sb.location[:10]"
   ]
  },
  {
   "cell_type": "code",
   "execution_count": 75,
   "metadata": {},
   "outputs": [
    {
     "data": {
      "text/plain": [
       "(tensor([[0.0206, 0.1018, 1.0822],\n",
       "         [0.0117, 0.0111, 0.2057],\n",
       "         [0.0134, 0.0117, 0.1649],\n",
       "         [0.0110, 0.0146, 0.1119],\n",
       "         [0.0096, 0.0062, 0.0399],\n",
       "         [0.0118, 0.0177, 0.1483],\n",
       "         [0.0136, 0.0142, 0.0998],\n",
       "         [0.0066, 0.0181, 0.2260],\n",
       "         [0.0139, 0.0093, 0.0905],\n",
       "         [0.0182, 0.0058, 0.1185]], grad_fn=<SliceBackward>),\n",
       " tensor([[0.0206, 0.1018, 1.0818],\n",
       "         [0.0117, 0.0111, 0.2057],\n",
       "         [0.0134, 0.0117, 0.1649],\n",
       "         [0.0110, 0.0146, 0.1119],\n",
       "         [0.0096, 0.0062, 0.0399],\n",
       "         [0.0118, 0.0177, 0.1483],\n",
       "         [0.0136, 0.0142, 0.0997],\n",
       "         [0.0066, 0.0182, 0.2260],\n",
       "         [0.0139, 0.0093, 0.0905],\n",
       "         [0.0181, 0.0058, 0.1185]], grad_fn=<SliceBackward>))"
      ]
     },
     "execution_count": 75,
     "metadata": {},
     "output_type": "execute_result"
    }
   ],
   "source": [
    "gsb.location_unc[:10],sb.location_unc[:10]"
   ]
  },
  {
   "cell_type": "markdown",
   "metadata": {},
   "source": [
    "# VolumeWrapper"
   ]
  },
  {
   "cell_type": "code",
   "execution_count": 8,
   "metadata": {},
   "outputs": [],
   "source": [
    "from functools import partial"
   ]
  },
  {
   "cell_type": "code",
   "execution_count": 9,
   "metadata": {},
   "outputs": [],
   "source": [
    "volume = Volume(get_layers())"
   ]
  },
  {
   "cell_type": "code",
   "execution_count": 10,
   "metadata": {},
   "outputs": [],
   "source": [
    "wrapper = VolumeWrapper(volume=volume, res_opt=partial(torch.optim.SGD, lr=2e10), eff_opt=partial(torch.optim.SGD, lr=2e5),\n",
    "                        loss_func=DetectorLoss(0))"
   ]
  },
  {
   "cell_type": "code",
   "execution_count": null,
   "metadata": {},
   "outputs": [],
   "source": [
    "from tomopt.optimisation import MetricLogger"
   ]
  },
  {
   "cell_type": "code",
   "execution_count": null,
   "metadata": {},
   "outputs": [],
   "source": [
    "ml = MetricLogger(show_plots=True)"
   ]
  },
  {
   "cell_type": "code",
   "execution_count": null,
   "metadata": {},
   "outputs": [],
   "source": [
    "trn_passives = PassiveYielder([arb_rad_length])"
   ]
  },
  {
   "cell_type": "code",
   "execution_count": null,
   "metadata": {},
   "outputs": [],
   "source": [
    "from tomopt.optimisation.callbacks.callback import Callback"
   ]
  },
  {
   "cell_type": "code",
   "execution_count": null,
   "metadata": {},
   "outputs": [],
   "source": [
    "class ParamCap(Callback):\n",
    "    def on_volume_batch_begin(self) -> None:\n",
    "        with torch.no_grad():\n",
    "            for d in self.wrapper.volume.get_detectors():\n",
    "                torch.clamp_(d.resolution, min=1, max=1e7)\n",
    "                torch.clamp_(d.efficiency, min=1e-7, max=1)"
   ]
  },
  {
   "cell_type": "code",
   "execution_count": null,
   "metadata": {
    "scrolled": false
   },
   "outputs": [],
   "source": [
    "%%time\n",
    "_ = wrapper.fit(25, n_mu_per_volume=1000, mu_bs=100, passive_bs=1, trn_passives=trn_passives, val_passives=trn_passives, cbs=[NoMoreNaNs(),ParamCap(),ml])"
   ]
  },
  {
   "cell_type": "code",
   "execution_count": null,
   "metadata": {
    "scrolled": false
   },
   "outputs": [],
   "source": [
    "for d in volume.get_detectors():\n",
    "    print(1, d.resolution, d.efficiency)"
   ]
  },
  {
   "cell_type": "code",
   "execution_count": null,
   "metadata": {},
   "outputs": [],
   "source": []
  }
 ],
 "metadata": {
  "kernelspec": {
   "display_name": "Python [conda env:tomopt]",
   "language": "python",
   "name": "conda-env-tomopt-py"
  },
  "language_info": {
   "codemirror_mode": {
    "name": "ipython",
    "version": 3
   },
   "file_extension": ".py",
   "mimetype": "text/x-python",
   "name": "python",
   "nbconvert_exporter": "python",
   "pygments_lexer": "ipython3",
   "version": "3.8.0"
  },
  "toc": {
   "base_numbering": 1,
   "nav_menu": {},
   "number_sections": true,
   "sideBar": true,
   "skip_h1_title": false,
   "title_cell": "Table of Contents",
   "title_sidebar": "Contents",
   "toc_cell": false,
   "toc_position": {},
   "toc_section_display": true,
   "toc_window_display": false
  }
 },
 "nbformat": 4,
 "nbformat_minor": 2
}
