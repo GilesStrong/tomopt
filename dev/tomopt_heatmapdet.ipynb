{
 "cells": [
  {
   "cell_type": "code",
   "execution_count": null,
   "metadata": {},
   "outputs": [],
   "source": [
    "%matplotlib inline\n",
    "%reload_ext autoreload\n",
    "%autoreload 2"
   ]
  },
  {
   "cell_type": "code",
   "execution_count": null,
   "metadata": {},
   "outputs": [],
   "source": [
    "from tomopt.core import *\n",
    "import torch\n",
    "from torch import Tensor\n",
    "from torch.nn import functional as F\n",
    "\n",
    "import matplotlib.pyplot as plt\n",
    "import seaborn as sns\n",
    "\n",
    "import numpy as np\n",
    "from torch import nn\n",
    "from tomopt.volume import PassiveLayer, PanelDetectorLayer, DetectorPanel, DetectorHeatMap\n",
    "\n",
    "from tomopt.volume import Volume\n",
    "from functools import partial\n",
    "from tomopt.optimisation import PanelVolumeWrapper, VoxelX0Loss, HeatMapVolumeWrapper\n",
    "from tomopt.core import X0\n",
    "from tomopt.optimisation import PassiveYielder\n",
    "from tomopt.optimisation import NoMoreNaNs, PanelMetricLogger, CostCoefWarmup\n",
    "\n",
    "DEVICE = torch.device('cpu')\n",
    "def area_cost(x:Tensor) -> Tensor:\n",
    "    return F.relu(x)\n",
    "\n",
    "x = torch.linspace(-1, 1, 100)\n",
    "plt.plot(x, area_cost(x))\n",
    "\n",
    "# def arb_rad_length(*, z:float, lw:Tensor, size:float) -> Tensor:\n",
    "#     rad_length = torch.ones(list((lw/size).long()))*X0['beryllium']\n",
    "#     if z >= 0.4 and z <= 0.5: rad_length[5:,5:] = X0['lead']\n",
    "#     return rad_length\n",
    "\n",
    "def arb_rad_length(*, z:float, lw:Tensor, size:float) -> Tensor:\n",
    "    rad_length = torch.ones(list((lw/size).long()))*X0['beryllium']\n",
    "    if z >= 0.4 and z <= 0.5: rad_length[5:,5:] = X0['lead']\n",
    "    if z >= 0.6 and z <= 0.7: rad_length[:4,:4] = X0['lead']\n",
    "    return rad_length"
   ]
  },
  {
   "cell_type": "code",
   "execution_count": null,
   "metadata": {},
   "outputs": [],
   "source": [
    "def get_layers():\n",
    "    layers = []\n",
    "    lwh = Tensor([1, 1, 1])\n",
    "    size = 0.1\n",
    "    init_eff = 1.0\n",
    "    init_res = 1000\n",
    "    n_panels = 4\n",
    "    \n",
    "    \n",
    "    # set detectors above volume\n",
    "    panels_up = [\n",
    "        DetectorHeatMap(\n",
    "            init_xyz=[-0.5, -0.5, 1 - (i*(2*size)/n_panels)],\n",
    "            init_xy_span=[-0.5, 0.5],\n",
    "            area_cost_func=area_cost,\n",
    "            device=DEVICE,\n",
    "            res=init_res,\n",
    "            eff=init_eff,\n",
    "        ) \n",
    "        for i in range(n_panels)\n",
    "    ]\n",
    "    # set detectors below volume\n",
    "    panels_down = [\n",
    "        DetectorHeatMap(\n",
    "            init_xyz=[-0.5, -0.5, 0.2 - (i*(2*size)/n_panels)],\n",
    "            init_xy_span=[-0.5, 0.5],\n",
    "            area_cost_func=area_cost,\n",
    "            device=DEVICE,\n",
    "            res=init_res,\n",
    "            eff=init_eff,\n",
    "        )\n",
    "        for i in range(n_panels)\n",
    "    ]\n",
    "    \n",
    "    \n",
    "    layers.append(\n",
    "        PanelDetectorLayer(\n",
    "            pos='above',\n",
    "            lw=lwh[:2],\n",
    "            z=1,\n",
    "            size=2*size,\n",
    "            panels=panels_up,\n",
    "            type_label=\"heatmap\",\n",
    "        )\n",
    "    )\n",
    "    \n",
    "    # set passive volume\n",
    "    for z in [0.8, 0.7, 0.6, 0.5, 0.4, 0.3]:\n",
    "        layers.append(\n",
    "            PassiveLayer(\n",
    "                lw=lwh[:2],\n",
    "                z=z,\n",
    "                size=size,\n",
    "                device=DEVICE,\n",
    "            )\n",
    "        )\n",
    "    \n",
    "    layers.append(\n",
    "        PanelDetectorLayer(\n",
    "            pos='below',\n",
    "            lw=lwh[:2],\n",
    "            z=0.2,\n",
    "            size=2*size,\n",
    "            panels=panels_down,\n",
    "            type_label=\"heatmap\",\n",
    "        )\n",
    "    )\n",
    "\n",
    "    return nn.ModuleList(layers) "
   ]
  },
  {
   "cell_type": "code",
   "execution_count": null,
   "metadata": {},
   "outputs": [],
   "source": [
    "volume = Volume(get_layers())\n",
    "print(volume.get_cost())\n",
    "wrapper = HeatMapVolumeWrapper(volume,\n",
    "                             mu_opt=partial(torch.optim.SGD, lr=1e5),\n",
    "                             norm_opt=partial(torch.optim.SGD, lr=1e5),\n",
    "                             sig_opt=partial(torch.optim.SGD, lr=1e4),\n",
    "                             loss_func=VoxelX0Loss(target_budget=4, cost_coef=None))  # Loss is precision + budget_coef*cost_coef, balance coef as required or leave as None to automatically balance on first batch\n",
    "passives = PassiveYielder([arb_rad_length])"
   ]
  },
  {
   "cell_type": "code",
   "execution_count": null,
   "metadata": {
    "scrolled": false
   },
   "outputs": [],
   "source": [
    "for p in volume:\n",
    "    for d in p.panels:\n",
    "        print(type(d))\n",
    "        print(d)\n",
    "        for par in d.named_parameters():\n",
    "            print(par)\n",
    "    break"
   ]
  },
  {
   "cell_type": "code",
   "execution_count": null,
   "metadata": {
    "scrolled": false
   },
   "outputs": [],
   "source": [
    "_ = wrapper.fit(\n",
    "    n_epochs=50,\n",
    "    passive_bs=1,\n",
    "    n_mu_per_volume=1000,\n",
    "    mu_bs=1000,\n",
    "    trn_passives=passives,\n",
    "    val_passives=passives,\n",
    "    cbs=[CostCoefWarmup(n_warmup=5), NoMoreNaNs(), PanelMetricLogger()],\n",
    ")"
   ]
  },
  {
   "cell_type": "code",
   "execution_count": null,
   "metadata": {
    "scrolled": false
   },
   "outputs": [],
   "source": [
    "for p in volume:\n",
    "    \n",
    "    if isinstance(p, PanelDetectorLayer):\n",
    "        for d in p.panels:\n",
    "            print(type(d))\n",
    "            print(d)\n",
    "            for par in d.named_parameters():\n",
    "                print(par)"
   ]
  },
  {
   "cell_type": "code",
   "execution_count": null,
   "metadata": {},
   "outputs": [],
   "source": [
    "preds = wrapper.predict(passives,\n",
    "                        n_mu_per_volume=10000,\n",
    "                        mu_bs=100)"
   ]
  },
  {
   "cell_type": "code",
   "execution_count": null,
   "metadata": {},
   "outputs": [],
   "source": [
    "from tomopt.plotting import plot_pred_true_x0"
   ]
  },
  {
   "cell_type": "code",
   "execution_count": null,
   "metadata": {},
   "outputs": [],
   "source": [
    "plot_pred_true_x0(*preds[0])"
   ]
  },
  {
   "cell_type": "code",
   "execution_count": null,
   "metadata": {
    "pycharm": {
     "name": "#%%\n"
    }
   },
   "outputs": [],
   "source": []
  }
 ],
 "metadata": {
  "kernelspec": {
   "display_name": "Python 3",
   "language": "python",
   "name": "python3"
  },
  "language_info": {
   "codemirror_mode": {
    "name": "ipython",
    "version": 3
   },
   "file_extension": ".py",
   "mimetype": "text/x-python",
   "name": "python",
   "nbconvert_exporter": "python",
   "pygments_lexer": "ipython3",
   "version": "3.8.10"
  },
  "toc": {
   "base_numbering": 1,
   "nav_menu": {},
   "number_sections": true,
   "sideBar": true,
   "skip_h1_title": false,
   "title_cell": "Table of Contents",
   "title_sidebar": "Contents",
   "toc_cell": false,
   "toc_position": {},
   "toc_section_display": true,
   "toc_window_display": false
  }
 },
 "nbformat": 4,
 "nbformat_minor": 2
}