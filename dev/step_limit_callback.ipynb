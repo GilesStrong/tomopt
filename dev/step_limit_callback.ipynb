{
 "cells": [
  {
   "cell_type": "code",
   "execution_count": 1,
   "metadata": {},
   "outputs": [],
   "source": [
    "%matplotlib inline\n",
    "%reload_ext autoreload\n",
    "%autoreload 2"
   ]
  },
  {
   "cell_type": "markdown",
   "metadata": {},
   "source": [
    "# Hello World\n",
    "This tutorial/example aims to give an simplistic overview of setting up a passive volume (scattering material to be imaged), detector (active material to record hits), and optimisation loop (to refine the detector to image the passive volume better or more cheaply)"
   ]
  },
  {
   "cell_type": "markdown",
   "metadata": {},
   "source": [
    "## Volume setup\n",
    "The volume consists of both passive material to be imaged, and active detectors to record muons hits. We aim to adjust the position and xy-span of the detectors to minimise the cost of the detector whilst improving the precision of the imaging of the passive volume.\n",
    "\n",
    "<img src=\"imgs/panel detector.png\" width=\"256\">\n",
    "\n",
    "The above image shows a typical layout, with multiple detection layers above and below the passive volume consisting of layers of material. Each passive layer consists of sub-cubes (voxels, these can be different materials, whose X0 will affect the scattering of muons to deferring extents.. In the detector layers, there can be multiple panels with fixed resolution and efficiency. The xyz position of the panels and their xy extent are the properties to be optimised."
   ]
  },
  {
   "cell_type": "code",
   "execution_count": 2,
   "metadata": {},
   "outputs": [
    {
     "name": "stderr",
     "output_type": "stream",
     "text": [
      "/Users/giles/anaconda3/envs/tomopt/lib/python3.8/site-packages/tqdm/auto.py:22: TqdmWarning: IProgress not found. Please update jupyter and ipywidgets. See https://ipywidgets.readthedocs.io/en/stable/user_install.html\n",
      "  from .autonotebook import tqdm as notebook_tqdm\n"
     ]
    }
   ],
   "source": [
    "from tomopt.core import *"
   ]
  },
  {
   "cell_type": "code",
   "execution_count": 3,
   "metadata": {},
   "outputs": [
    {
     "name": "stderr",
     "output_type": "stream",
     "text": [
      "/Users/giles/anaconda3/envs/tomopt/lib/python3.8/site-packages/scipy/__init__.py:138: UserWarning: A NumPy version >=1.16.5 and <1.23.0 is required for this version of SciPy (detected version 1.23.0)\n",
      "  warnings.warn(f\"A NumPy version >={np_minversion} and <{np_maxversion} is required for this version of \"\n"
     ]
    }
   ],
   "source": [
    "import torch\n",
    "from torch import Tensor\n",
    "from torch.nn import functional as F\n",
    "\n",
    "import matplotlib.pyplot as plt\n",
    "import seaborn as sns"
   ]
  },
  {
   "cell_type": "code",
   "execution_count": 4,
   "metadata": {},
   "outputs": [],
   "source": [
    "DEVICE = torch.device('cpu')"
   ]
  },
  {
   "cell_type": "markdown",
   "metadata": {},
   "source": [
    "Construct a volume by sandwiching passive layers with pairs of detector layers above and below. Detector panels are initialised with specified parameters, but the number of detector panels per layer is fixed. Passive layers will contain voxels of different materials."
   ]
  },
  {
   "cell_type": "code",
   "execution_count": 5,
   "metadata": {},
   "outputs": [],
   "source": [
    "import numpy as np\n",
    "from torch import nn\n",
    "from tomopt.volume import PassiveLayer, PanelDetectorLayer, DetectorPanel"
   ]
  },
  {
   "cell_type": "code",
   "execution_count": 6,
   "metadata": {},
   "outputs": [],
   "source": [
    "def get_layers():\n",
    "    layers = []\n",
    "    lwh = Tensor([1,1,1])\n",
    "    size = 0.1\n",
    "    init_eff = 0.9\n",
    "    init_res = 1e4\n",
    "    n_panels = 4\n",
    "    layers.append(PanelDetectorLayer(pos='above', lw=lwh[:2], z=1, size=2*size,\n",
    "                                     panels=[DetectorPanel(res=init_res, eff=init_eff,\n",
    "                                                      init_xyz=[0.25,0.25,1-(i*(2*size)/n_panels)], init_xy_span=[1.0, 1.0],\n",
    "                                                      device=DEVICE) for i in range(n_panels)]))\n",
    "    for z in [0.8,0.7,0.6,0.5,0.4,0.3]:\n",
    "        layers.append(PassiveLayer(lw=lwh[:2], z=z, size=size, device=DEVICE))\n",
    "    layers.append(PanelDetectorLayer(pos='below', lw=lwh[:2], z=0.2, size=2*size,\n",
    "                                     panels=[DetectorPanel(res=init_res, eff=init_eff,\n",
    "                                                      init_xyz=[0.25,0.25,0.2-(i*(2*size)/n_panels)], init_xy_span=[1.0, 1.0],\n",
    "                                                      device=DEVICE) for i in range(n_panels)]))\n",
    "\n",
    "    return nn.ModuleList(layers) "
   ]
  },
  {
   "cell_type": "markdown",
   "metadata": {},
   "source": [
    "We'll feed these stacked layers into a single object for convenience."
   ]
  },
  {
   "cell_type": "code",
   "execution_count": 7,
   "metadata": {},
   "outputs": [],
   "source": [
    "from tomopt.volume import Volume"
   ]
  },
  {
   "cell_type": "code",
   "execution_count": 56,
   "metadata": {},
   "outputs": [
    {
     "data": {
      "text/plain": [
       "Volume(\n",
       "  (layers): ModuleList(\n",
       "    (0): PanelDetectorLayer(\n",
       "      (panels): ModuleList(\n",
       "        (0): <class 'tomopt.volume.panel.DetectorPanel'> located at xy=tensor([0.2500, 0.2500]), z=tensor([1.]), and xy span tensor([1., 1.]) with budget scale tensor([1.])\n",
       "        (1): <class 'tomopt.volume.panel.DetectorPanel'> located at xy=tensor([0.2500, 0.2500]), z=tensor([0.9500]), and xy span tensor([1., 1.]) with budget scale tensor([1.])\n",
       "        (2): <class 'tomopt.volume.panel.DetectorPanel'> located at xy=tensor([0.2500, 0.2500]), z=tensor([0.9000]), and xy span tensor([1., 1.]) with budget scale tensor([1.])\n",
       "        (3): <class 'tomopt.volume.panel.DetectorPanel'> located at xy=tensor([0.2500, 0.2500]), z=tensor([0.8500]), and xy span tensor([1., 1.]) with budget scale tensor([1.])\n",
       "      )\n",
       "    )\n",
       "    (1): PassiveLayer located at z=tensor([0.8000])\n",
       "    (2): PassiveLayer located at z=tensor([0.7000])\n",
       "    (3): PassiveLayer located at z=tensor([0.6000])\n",
       "    (4): PassiveLayer located at z=tensor([0.5000])\n",
       "    (5): PassiveLayer located at z=tensor([0.4000])\n",
       "    (6): PassiveLayer located at z=tensor([0.3000])\n",
       "    (7): PanelDetectorLayer(\n",
       "      (panels): ModuleList(\n",
       "        (0): <class 'tomopt.volume.panel.DetectorPanel'> located at xy=tensor([0.2500, 0.2500]), z=tensor([0.2000]), and xy span tensor([1., 1.]) with budget scale tensor([1.])\n",
       "        (1): <class 'tomopt.volume.panel.DetectorPanel'> located at xy=tensor([0.2500, 0.2500]), z=tensor([0.1500]), and xy span tensor([1., 1.]) with budget scale tensor([1.])\n",
       "        (2): <class 'tomopt.volume.panel.DetectorPanel'> located at xy=tensor([0.2500, 0.2500]), z=tensor([0.1000]), and xy span tensor([1., 1.]) with budget scale tensor([1.])\n",
       "        (3): <class 'tomopt.volume.panel.DetectorPanel'> located at xy=tensor([0.2500, 0.2500]), z=tensor([0.0500]), and xy span tensor([1., 1.]) with budget scale tensor([1.])\n",
       "      )\n",
       "    )\n",
       "  )\n",
       ")"
      ]
     },
     "execution_count": 56,
     "metadata": {},
     "output_type": "execute_result"
    }
   ],
   "source": [
    "volume = Volume(get_layers())\n",
    "volume"
   ]
  },
  {
   "cell_type": "code",
   "execution_count": 57,
   "metadata": {},
   "outputs": [
    {
     "data": {
      "text/plain": [
       "tensor(8., grad_fn=<AddBackward0>)"
      ]
     },
     "execution_count": 57,
     "metadata": {},
     "output_type": "execute_result"
    }
   ],
   "source": [
    "volume.get_cost()"
   ]
  },
  {
   "cell_type": "markdown",
   "metadata": {},
   "source": [
    "## Optimisation\n",
    "\n",
    "Having built our detector and defined where the passive volumes will be, we now want to define the material composition of the passive volume(s) to be imaged, and to optimise our detector.\n",
    "As its name suggests, `PanelVolumeWrapper` wraps the `Volume` and provides methods to optimise the detector, predict passive volumes, loading and saving of detector configurations, etc.\n",
    "\n",
    "When building the wrapper, we need to supply it with optimiser definitions for both resolution and efficiency, and a loss function to optimise. Optimisers are the classes in PyTorch which implement gradient descent on specified parameters. For the optimisers, use partial definitions, since the `PanelVolumeWrapper` takes care of instantiating the optimisers to relate to the relevant detector parameters. Although we set some learning rates (`lr`) here, it is difficult to know a priori what are suitable values. When running the optimisation, though, we will use a special callback to set more suitable values."
   ]
  },
  {
   "cell_type": "code",
   "execution_count": 58,
   "metadata": {},
   "outputs": [],
   "source": [
    "from functools import partial\n",
    "from tomopt.optimisation import PanelVolumeWrapper, VoxelX0Loss"
   ]
  },
  {
   "cell_type": "code",
   "execution_count": 59,
   "metadata": {},
   "outputs": [],
   "source": [
    "wrapper = PanelVolumeWrapper(volume,\n",
    "                             xy_pos_opt=partial(torch.optim.SGD, lr=5e4),\n",
    "                             z_pos_opt=partial(torch.optim.SGD, lr=5e3),\n",
    "                             xy_span_opt=partial(torch.optim.SGD, lr=1e4),\n",
    "                             loss_func=VoxelX0Loss(target_budget=20, cost_coef=None))  # Loss is precision + budget_coef*cost_coef, balance coef as required or leave as None to automatically balance on first batch"
   ]
  },
  {
   "cell_type": "markdown",
   "metadata": {},
   "source": [
    "Now we need to define the composition of the passive volume. This is done via a function which is called per passive layer (we have six) and returns the x0 (radiation length [m]) of the material in the voxels in that layer. Below we'll define the passive material to be mostly beryllium but with a single block of lead in the corner of one of the layers."
   ]
  },
  {
   "cell_type": "code",
   "execution_count": 60,
   "metadata": {},
   "outputs": [],
   "source": [
    "from tomopt.core import X0"
   ]
  },
  {
   "cell_type": "code",
   "execution_count": 61,
   "metadata": {},
   "outputs": [],
   "source": [
    "def arb_rad_length(*,z:float, lw:Tensor, size:float) -> Tensor:\n",
    "    rad_length = torch.ones(list((lw/size).long()))*X0['beryllium']\n",
    "    if z >= 0.4 and z <= 0.5: rad_length[5:,5:] = X0['lead']\n",
    "    return rad_length"
   ]
  },
  {
   "cell_type": "markdown",
   "metadata": {},
   "source": [
    "Since we may want to optimise the detector for multiple different passive volumes (or randomly generated volumes), different functions can be passed to the `PanelVolumeWrapper` during optimisation by loading the functions into `PassiveYielder` objects, which loop through the passive volumes. In this tutorial, though, we only have one passive volume."
   ]
  },
  {
   "cell_type": "code",
   "execution_count": 62,
   "metadata": {},
   "outputs": [],
   "source": [
    "from tomopt.optimisation import PassiveYielder"
   ]
  },
  {
   "cell_type": "code",
   "execution_count": 63,
   "metadata": {},
   "outputs": [],
   "source": [
    "passives = PassiveYielder([arb_rad_length])"
   ]
  },
  {
   "cell_type": "markdown",
   "metadata": {},
   "source": [
    "Now we're in a position to optimise our detector using the `VolumeWrapper.fit` method. The general layout for the optimisation loop is as follows, where `mu_bs` is the number of muons passed through the volume simultaneously and `passive_bs` is the number of passive volumes used per detector update:\n",
    "1. for epoch in `n_epochs`:\n",
    "    1. `loss` = 0\n",
    "    1. for `p`, `passive` in enumerate(`trn_passives`):\n",
    "        1. load `passive` into passive volume\n",
    "        1. for muon_batch in range(`n_mu_per_volume`//`mu_bs`):\n",
    "            1. Irradiate volume with `mu_bs` muons\n",
    "            1. Infer passive volume\n",
    "        1. Compute loss based on precision and cost, and add to `loss`\n",
    "        1. if `p`+1 % `passive_bs` == 0:\n",
    "            1. `loss` = `loss`/`passive_bs`\n",
    "            1. Backpropagate `loss` and update detector parameters\n",
    "            1. `loss` = 0\n",
    "        1. if len(`trn_passives`)-(`p`+1) < `passive_bs`:\n",
    "            1. Break\n",
    "            \n",
    "    1. `val_loss` = 0\n",
    "    1. for `p`, `passive` in enumerate(`val_passives`):\n",
    "        1. load `passive` into passive volume\n",
    "        1. for muon_batch in range(`n_mu_per_volume`//`mu_bs`):\n",
    "            1. Irradiate volume with `mu_bs` muons\n",
    "            1. Infer passive volume\n",
    "            1. Compute loss based on precision and cost, and add to `val_loss`\n",
    "        1. if len(`val_passives`)-(`p`+1) < `passive_bs`:\n",
    "            1. Break\n",
    "    1. `val_loss` = `val_loss`/`p`\n",
    "\n",
    "I.e. the loss for a single passive can be computed over several iterations of muon irradiation (for computational speed), and the total loss can be accumulated over multiple passives before updating the detector. In our case we only have one passive. We also have the option of evaluating the detector on unseen passives via validation data. For this example, we'll use the same passive for the both training and validation.\n",
    "\n",
    "Additionally, the optimisation loop has many interjection points for callback classes, which can affect most aspects of the optimisation. A few of the recommended callbacks are listed below:\n",
    "\n",
    "- `NoMoreNaNs`: Currently in TomOpt, there is a problem which means that sometimes the gradients for some parameters are `NaN` after backpropagation. The `tomopt.optimisation.callbacks.grad_callbacks.NoMoreNaNs` will automatically go through each parameter after backpropagation and replace `NaN` gradients with zeros prior to the optimiser update step.\n",
    "- `PanelMetricLogger`: It is useful to have an indication of the progress the optimisation, and the current state of the detector. `tomopt.optimisation.callbacks.monitors.MetricLogger` provides real-time progress updates and telemetric data.\n",
    "- `CostCoefWarmup`: The loss contains a coefficient which is used to balance the error and cost components. This can be set manually or automatically. The loss contains a method to set the coefficient automatically, but it does so using the first volume tested, and so is subject to fluctuations. `tomopt.optimisation.callbacks.loss_callbacks.CostCoefWarmup` is a callback which will run a specified number of warm-up epochs during which the detectors will not be optimised, and instead a more stable cost coefficient will be computed.\n",
    "- `PanelOptConfig`: A recent addition is the `tomopt.optimisation.callbacks.opt_callbacks.PanelOptConfig` callback. Like the `CostCoefWarmup` it uses a warm-up period to track the gradients received by the detector parameters. The user can then instead specify their desired rate of change rate in physical units, and the learning rates of the optimisers will be overwritten to achieve the specified rates.\n",
    "- `MuonResampler`: When optimising the detectors, we only want to consider muons which pass through the passive volume, however not all muons are guaranteed to do so. The `tomopt.optimisation.callbacks.data_callbacks.MuonResampler` will automatically regenerate muons which will not pass through the passive volume. Since this relies on \"truth\" information in the generator, this should not be used for realistic simulations."
   ]
  },
  {
   "cell_type": "code",
   "execution_count": 64,
   "metadata": {},
   "outputs": [],
   "source": [
    "from tomopt.optimisation import NoMoreNaNs, PanelMetricLogger, CostCoefWarmup, PanelOptConfig, MuonResampler"
   ]
  },
  {
   "cell_type": "code",
   "execution_count": 65,
   "metadata": {},
   "outputs": [],
   "source": [
    "from tomopt.optimisation import Callback\n",
    "from typing import *"
   ]
  },
  {
   "cell_type": "code",
   "execution_count": 66,
   "metadata": {},
   "outputs": [],
   "source": [
    "class PanelUpdateLimiter(Callback):\n",
    "    def __init__(self, max_xy_step:Tuple[float,float], max_z_step:float, max_xy_span_step:Tuple[float,float]):\n",
    "        self.max_xy_step = Tensor(max_xy_step)\n",
    "        self.max_z_step = Tensor([max_z_step])\n",
    "        self.max_xy_span_step = Tensor(max_xy_span_step)\n",
    "        \n",
    "    def on_backwards_end(self) -> None:\n",
    "        self.panel_params:List[Dict[str,Tensor]] = []\n",
    "        for det in self.wrapper.volume.get_detectors():\n",
    "            for panel in det.panels:\n",
    "                self.panel_params.append({'xy':panel.xy.detach().clone(),\n",
    "                                          'z':panel.z.detach().clone(),\n",
    "                                          'xy_span':panel.xy_span.detach().clone()})\n",
    "                \n",
    "    def on_step_end(self) -> None:\n",
    "        with torch.no_grad():\n",
    "            panel_idx = 0\n",
    "            for det in self.wrapper.volume.get_detectors():\n",
    "                for panel in det.panels:\n",
    "                    delta = panel.xy-self.panel_params[panel_idx]['xy']\n",
    "                    panel.xy.data = torch.where(delta.abs() > self.max_xy_step,\n",
    "                                           self.panel_params[panel_idx]['xy']+(torch.sign(delta)*self.max_xy_step),\n",
    "                                           panel.xy)\n",
    "                    delta = panel.z-self.panel_params[panel_idx]['z']\n",
    "                    panel.z.data = torch.where(delta.abs() > self.max_z_step,\n",
    "                                           self.panel_params[panel_idx]['z']+(torch.sign(delta)*self.max_z_step),\n",
    "                                           panel.z)\n",
    "                    delta = panel.xy_span-self.panel_params[panel_idx]['xy_span']\n",
    "                    panel.xy_span.data = torch.where(delta.abs() > self.max_xy_span_step,\n",
    "                                           self.panel_params[panel_idx]['xy_span']+(torch.sign(delta)*self.max_xy_span_step),\n",
    "                                           panel.xy_span)\n",
    "                    panel_idx += 1"
   ]
  },
  {
   "cell_type": "code",
   "execution_count": 67,
   "metadata": {},
   "outputs": [],
   "source": [
    "cb = PanelUpdateLimiter(max_xy_step=(0.01,0.01), max_xy_span_step=(0.01,0.01), max_z_step=0.005)"
   ]
  },
  {
   "cell_type": "code",
   "execution_count": 68,
   "metadata": {},
   "outputs": [],
   "source": [
    "cb.set_wrapper(wrapper)"
   ]
  },
  {
   "cell_type": "code",
   "execution_count": 69,
   "metadata": {},
   "outputs": [],
   "source": [
    "cb.on_backwards_end()"
   ]
  },
  {
   "cell_type": "code",
   "execution_count": 70,
   "metadata": {},
   "outputs": [
    {
     "data": {
      "text/plain": [
       "[{'xy': tensor([0.2500, 0.2500]),\n",
       "  'z': tensor([1.]),\n",
       "  'xy_span': tensor([1., 1.])},\n",
       " {'xy': tensor([0.2500, 0.2500]),\n",
       "  'z': tensor([0.9500]),\n",
       "  'xy_span': tensor([1., 1.])},\n",
       " {'xy': tensor([0.2500, 0.2500]),\n",
       "  'z': tensor([0.9000]),\n",
       "  'xy_span': tensor([1., 1.])},\n",
       " {'xy': tensor([0.2500, 0.2500]),\n",
       "  'z': tensor([0.8500]),\n",
       "  'xy_span': tensor([1., 1.])},\n",
       " {'xy': tensor([0.2500, 0.2500]),\n",
       "  'z': tensor([0.2000]),\n",
       "  'xy_span': tensor([1., 1.])},\n",
       " {'xy': tensor([0.2500, 0.2500]),\n",
       "  'z': tensor([0.1500]),\n",
       "  'xy_span': tensor([1., 1.])},\n",
       " {'xy': tensor([0.2500, 0.2500]),\n",
       "  'z': tensor([0.1000]),\n",
       "  'xy_span': tensor([1., 1.])},\n",
       " {'xy': tensor([0.2500, 0.2500]),\n",
       "  'z': tensor([0.0500]),\n",
       "  'xy_span': tensor([1., 1.])}]"
      ]
     },
     "execution_count": 70,
     "metadata": {},
     "output_type": "execute_result"
    }
   ],
   "source": [
    "cb.panel_params"
   ]
  },
  {
   "cell_type": "code",
   "execution_count": 71,
   "metadata": {},
   "outputs": [],
   "source": [
    "with torch.no_grad():\n",
    "    for det in wrapper.volume.get_detectors():\n",
    "        for panel in det.panels:\n",
    "            panel.xy += 10\n",
    "            panel.xy_span += 10\n",
    "            panel.z -= 10"
   ]
  },
  {
   "cell_type": "code",
   "execution_count": 72,
   "metadata": {},
   "outputs": [
    {
     "data": {
      "text/plain": [
       "Volume(\n",
       "  (layers): ModuleList(\n",
       "    (0): PanelDetectorLayer(\n",
       "      (panels): ModuleList(\n",
       "        (0): <class 'tomopt.volume.panel.DetectorPanel'> located at xy=tensor([10.2500, 10.2500]), z=tensor([11.]), and xy span tensor([11., 11.]) with budget scale tensor([1.])\n",
       "        (1): <class 'tomopt.volume.panel.DetectorPanel'> located at xy=tensor([10.2500, 10.2500]), z=tensor([10.9500]), and xy span tensor([11., 11.]) with budget scale tensor([1.])\n",
       "        (2): <class 'tomopt.volume.panel.DetectorPanel'> located at xy=tensor([10.2500, 10.2500]), z=tensor([10.9000]), and xy span tensor([11., 11.]) with budget scale tensor([1.])\n",
       "        (3): <class 'tomopt.volume.panel.DetectorPanel'> located at xy=tensor([10.2500, 10.2500]), z=tensor([10.8500]), and xy span tensor([11., 11.]) with budget scale tensor([1.])\n",
       "      )\n",
       "    )\n",
       "    (1): PassiveLayer located at z=tensor([0.8000])\n",
       "    (2): PassiveLayer located at z=tensor([0.7000])\n",
       "    (3): PassiveLayer located at z=tensor([0.6000])\n",
       "    (4): PassiveLayer located at z=tensor([0.5000])\n",
       "    (5): PassiveLayer located at z=tensor([0.4000])\n",
       "    (6): PassiveLayer located at z=tensor([0.3000])\n",
       "    (7): PanelDetectorLayer(\n",
       "      (panels): ModuleList(\n",
       "        (0): <class 'tomopt.volume.panel.DetectorPanel'> located at xy=tensor([10.2500, 10.2500]), z=tensor([10.2000]), and xy span tensor([11., 11.]) with budget scale tensor([1.])\n",
       "        (1): <class 'tomopt.volume.panel.DetectorPanel'> located at xy=tensor([10.2500, 10.2500]), z=tensor([10.1500]), and xy span tensor([11., 11.]) with budget scale tensor([1.])\n",
       "        (2): <class 'tomopt.volume.panel.DetectorPanel'> located at xy=tensor([10.2500, 10.2500]), z=tensor([10.1000]), and xy span tensor([11., 11.]) with budget scale tensor([1.])\n",
       "        (3): <class 'tomopt.volume.panel.DetectorPanel'> located at xy=tensor([10.2500, 10.2500]), z=tensor([10.0500]), and xy span tensor([11., 11.]) with budget scale tensor([1.])\n",
       "      )\n",
       "    )\n",
       "  )\n",
       ")"
      ]
     },
     "execution_count": 72,
     "metadata": {},
     "output_type": "execute_result"
    }
   ],
   "source": [
    "volume"
   ]
  },
  {
   "cell_type": "code",
   "execution_count": 73,
   "metadata": {},
   "outputs": [],
   "source": [
    "cb.on_step_end()"
   ]
  },
  {
   "cell_type": "code",
   "execution_count": 74,
   "metadata": {},
   "outputs": [
    {
     "data": {
      "text/plain": [
       "Volume(\n",
       "  (layers): ModuleList(\n",
       "    (0): PanelDetectorLayer(\n",
       "      (panels): ModuleList(\n",
       "        (0): <class 'tomopt.volume.panel.DetectorPanel'> located at xy=tensor([0.2600, 0.2600]), z=tensor([1.0050]), and xy span tensor([1.0100, 1.0100]) with budget scale tensor([1.])\n",
       "        (1): <class 'tomopt.volume.panel.DetectorPanel'> located at xy=tensor([0.2600, 0.2600]), z=tensor([0.9550]), and xy span tensor([1.0100, 1.0100]) with budget scale tensor([1.])\n",
       "        (2): <class 'tomopt.volume.panel.DetectorPanel'> located at xy=tensor([0.2600, 0.2600]), z=tensor([0.9050]), and xy span tensor([1.0100, 1.0100]) with budget scale tensor([1.])\n",
       "        (3): <class 'tomopt.volume.panel.DetectorPanel'> located at xy=tensor([0.2600, 0.2600]), z=tensor([0.8550]), and xy span tensor([1.0100, 1.0100]) with budget scale tensor([1.])\n",
       "      )\n",
       "    )\n",
       "    (1): PassiveLayer located at z=tensor([0.8000])\n",
       "    (2): PassiveLayer located at z=tensor([0.7000])\n",
       "    (3): PassiveLayer located at z=tensor([0.6000])\n",
       "    (4): PassiveLayer located at z=tensor([0.5000])\n",
       "    (5): PassiveLayer located at z=tensor([0.4000])\n",
       "    (6): PassiveLayer located at z=tensor([0.3000])\n",
       "    (7): PanelDetectorLayer(\n",
       "      (panels): ModuleList(\n",
       "        (0): <class 'tomopt.volume.panel.DetectorPanel'> located at xy=tensor([0.2600, 0.2600]), z=tensor([0.2050]), and xy span tensor([1.0100, 1.0100]) with budget scale tensor([1.])\n",
       "        (1): <class 'tomopt.volume.panel.DetectorPanel'> located at xy=tensor([0.2600, 0.2600]), z=tensor([0.1550]), and xy span tensor([1.0100, 1.0100]) with budget scale tensor([1.])\n",
       "        (2): <class 'tomopt.volume.panel.DetectorPanel'> located at xy=tensor([0.2600, 0.2600]), z=tensor([0.1050]), and xy span tensor([1.0100, 1.0100]) with budget scale tensor([1.])\n",
       "        (3): <class 'tomopt.volume.panel.DetectorPanel'> located at xy=tensor([0.2600, 0.2600]), z=tensor([0.0550]), and xy span tensor([1.0100, 1.0100]) with budget scale tensor([1.])\n",
       "      )\n",
       "    )\n",
       "  )\n",
       ")"
      ]
     },
     "execution_count": 74,
     "metadata": {},
     "output_type": "execute_result"
    }
   ],
   "source": [
    "volume"
   ]
  },
  {
   "cell_type": "code",
   "execution_count": null,
   "metadata": {
    "scrolled": false
   },
   "outputs": [],
   "source": [
    "_ = wrapper.fit(n_epochs=20,\n",
    "                passive_bs=1,\n",
    "                n_mu_per_volume=1000,\n",
    "                mu_bs=100,\n",
    "                trn_passives=passives,\n",
    "                val_passives=passives,\n",
    "                cbs=[CostCoefWarmup(n_warmup=5),\n",
    "                     PanelOptConfig(n_warmup=5, xy_pos_rate=0.01, z_pos_rate=0.005, xy_span_rate=0.01),\n",
    "                     MuonResampler(),\n",
    "                     NoMoreNaNs(),\n",
    "                     PanelMetricLogger()])"
   ]
  },
  {
   "cell_type": "code",
   "execution_count": null,
   "metadata": {},
   "outputs": [],
   "source": [
    "volume.get_cost()"
   ]
  },
  {
   "cell_type": "markdown",
   "metadata": {},
   "source": [
    "## Predictions\n",
    "`VolumeWrapper` also has a `.predict` method to provide predictions per passive volume. For convenience it also returns the true material composition for each prediction. We'll include the `MuonResampler` under the assumption that we have a trigger/classifier that rejects muons that miss the passive volume."
   ]
  },
  {
   "cell_type": "code",
   "execution_count": null,
   "metadata": {},
   "outputs": [],
   "source": [
    "preds = wrapper.predict(passives,\n",
    "                        n_mu_per_volume=10000,\n",
    "                        mu_bs=100,\n",
    "                        cbs=[MuonResampler()])"
   ]
  },
  {
   "cell_type": "markdown",
   "metadata": {},
   "source": [
    "`preds` is a list of tuples of predicted x0 and true x0 per passive volume. We can plot these with `tomopt.plotting.predictions.plot_pred_true_x0`."
   ]
  },
  {
   "cell_type": "code",
   "execution_count": null,
   "metadata": {},
   "outputs": [],
   "source": [
    "from tomopt.plotting import plot_pred_true_x0"
   ]
  },
  {
   "cell_type": "code",
   "execution_count": null,
   "metadata": {},
   "outputs": [],
   "source": [
    "plot_pred_true_x0(*preds[0])"
   ]
  },
  {
   "cell_type": "markdown",
   "metadata": {},
   "source": [
    "Above we have the predicted and true x0 for ever voxel in the six passive layers. Currently the scale of predictions is very low, due to biases in the prediction method."
   ]
  }
 ],
 "metadata": {
  "kernelspec": {
   "display_name": "Python [conda env:tomopt]",
   "language": "python",
   "name": "conda-env-tomopt-py"
  },
  "language_info": {
   "codemirror_mode": {
    "name": "ipython",
    "version": 3
   },
   "file_extension": ".py",
   "mimetype": "text/x-python",
   "name": "python",
   "nbconvert_exporter": "python",
   "pygments_lexer": "ipython3",
   "version": "3.8.0"
  },
  "toc": {
   "base_numbering": 1,
   "nav_menu": {},
   "number_sections": true,
   "sideBar": true,
   "skip_h1_title": false,
   "title_cell": "Table of Contents",
   "title_sidebar": "Contents",
   "toc_cell": false,
   "toc_position": {},
   "toc_section_display": true,
   "toc_window_display": false
  }
 },
 "nbformat": 4,
 "nbformat_minor": 2
}
