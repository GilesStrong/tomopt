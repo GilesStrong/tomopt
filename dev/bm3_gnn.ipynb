{
 "cells": [
  {
   "cell_type": "markdown",
   "metadata": {},
   "source": [
    "# BM3 GNN Pred"
   ]
  },
  {
   "cell_type": "code",
   "execution_count": 1,
   "metadata": {},
   "outputs": [],
   "source": [
    "from typing import *\n",
    "import numpy as np\n",
    "from functools import partial\n",
    "\n",
    "import torch\n",
    "from torch import Tensor, nn\n",
    "import torch.nn.functional as F\n",
    "\n",
    "from tomopt.volume import *\n",
    "from tomopt.muon import *\n",
    "from tomopt.inference import *\n",
    "from tomopt.optimisation import *"
   ]
  },
  {
   "cell_type": "code",
   "execution_count": 2,
   "metadata": {},
   "outputs": [],
   "source": [
    "DEVICE = torch.device(\"cpu\")"
   ]
  },
  {
   "cell_type": "code",
   "execution_count": 3,
   "metadata": {},
   "outputs": [],
   "source": [
    "from tomopt.volume.layer import Layer\n",
    "\n",
    "def get_volume(size: float = 0.2, lwh: Tensor = Tensor([1.0, 1.0, 1.4]), device: torch.device = torch.device(\"cpu\")) -> Volume:\n",
    "    def area_cost(x: Tensor) -> Tensor:\n",
    "        return F.relu(x)\n",
    "\n",
    "    layers: List[Layer] = []\n",
    "    n_panels = 4\n",
    "    layers.append(\n",
    "        PanelDetectorLayer(\n",
    "            pos=\"above\",\n",
    "            lw=lwh[:2],\n",
    "            z=lwh[2].item(),\n",
    "            size=size,\n",
    "            panels=[\n",
    "                DetectorPanel(\n",
    "                    res=1e3, eff=1, init_xyz=(0.5, 0.5, 1 - (i * (size) / n_panels)), init_xy_span=(1.0, 1.0), area_cost_func=area_cost, device=device\n",
    "                )\n",
    "                for i in range(n_panels)\n",
    "            ],\n",
    "        )\n",
    "    )\n",
    "    for z in np.round(np.arange(lwh[2] - size, size, -size), decimals=1):\n",
    "        layers.append(PassiveLayer(lw=lwh[:2], z=z, size=size, device=device))\n",
    "    layers.append(\n",
    "        PanelDetectorLayer(\n",
    "            pos=\"below\",\n",
    "            lw=lwh[:2],\n",
    "            z=size,\n",
    "            size=size,\n",
    "            panels=[\n",
    "                DetectorPanel(\n",
    "                    res=1e3, eff=1, init_xyz=(0.5, 0.5, 0.2 - (i * (size) / n_panels)), init_xy_span=(1.0, 1.0), area_cost_func=area_cost, device=device\n",
    "                )\n",
    "                for i in range(n_panels)\n",
    "            ],\n",
    "        )\n",
    "    )\n",
    "\n",
    "    return Volume(nn.ModuleList(layers))"
   ]
  },
  {
   "cell_type": "code",
   "execution_count": 4,
   "metadata": {},
   "outputs": [],
   "source": [
    "volume = get_volume(device=DEVICE)"
   ]
  },
  {
   "cell_type": "code",
   "execution_count": 5,
   "metadata": {},
   "outputs": [],
   "source": [
    "muons = MuonBatch(generate_batch(250), init_z=volume.h, device=DEVICE)"
   ]
  },
  {
   "cell_type": "code",
   "execution_count": 6,
   "metadata": {},
   "outputs": [],
   "source": [
    "volume(muons)"
   ]
  },
  {
   "cell_type": "code",
   "execution_count": 7,
   "metadata": {},
   "outputs": [],
   "source": [
    "sb = PanelScatterBatch(muons, volume)"
   ]
  },
  {
   "cell_type": "markdown",
   "metadata": {},
   "source": [
    "## GNN inferer"
   ]
  },
  {
   "cell_type": "code",
   "execution_count": 8,
   "metadata": {},
   "outputs": [],
   "source": [
    "model = torch.jit.load('../../mode_muon_tomo_inference/dev/exported_models/bm3_traced.pt')"
   ]
  },
  {
   "cell_type": "code",
   "execution_count": 9,
   "metadata": {},
   "outputs": [
    {
     "data": {
      "text/plain": [
       "torch.jit._script.RecursiveScriptModule"
      ]
     },
     "execution_count": 9,
     "metadata": {},
     "output_type": "execute_result"
    }
   ],
   "source": [
    "type(model)"
   ]
  },
  {
   "cell_type": "code",
   "execution_count": 58,
   "metadata": {},
   "outputs": [],
   "source": [
    "from tomopt.inference.volume import AbsVolumeInferer, AbsX0Inferer\n",
    "from tomopt.inference.scattering import AbsScatterBatch\n",
    "\n",
    "\n",
    "class DeepVolumeInferer(AbsVolumeInferer):\n",
    "    def __init__(self, model: Union[torch.jit._script.RecursiveScriptModule, nn.Module], base_inferer:AbsX0Inferer, volume: Volume):\n",
    "        super().__init__(volume=volume)\n",
    "        self.model,self.base_inferer = model,base_inferer\n",
    "        self.voxel_centres = self._build_centres()\n",
    "        \n",
    "        self.in_vars: List[Tensor] = []\n",
    "        self.in_var_uncs: List[Tensor] = []\n",
    "        self.efficiencies: List[Tensor] = []\n",
    "        self.in_var: Optional[Tensor] = None\n",
    "        self.in_var_unc: Optional[Tensor] = None\n",
    "        self.efficiency: Optional[Tensor] = None\n",
    "        \n",
    "    def compute_efficiency(self, scatters:AbsScatterBatch) -> Tensor:\n",
    "        return self.base_inferer.compute_efficiency(scatters=scatters)\n",
    "    \n",
    "    def get_base_predictions(self, scatters:AbsScatterBatch) -> Tensor:\n",
    "        x, u = self.base_inferer.x0_from_dtheta(scatters=scatters)\n",
    "        return x[:, None], u[:, None]\n",
    "    \n",
    "    def add_scatters(self, scatters: AbsScatterBatch) -> None:\n",
    "        super().add_scatters(scatters=scatters)\n",
    "        x0, x0_unc = self.get_base_predictions(scatters)\n",
    "        self.in_vars.append(torch.cat((sb.dtheta, sb.dxy, x0, sb.location), dim=-1))\n",
    "        self.in_var_uncs.append(torch.cat((sb.dtheta_unc, sb.dxy_unc, x0_unc, sb.location_unc), dim=-1))\n",
    "        self.efficiencies.append(self.compute_efficiency(scatters=scatters))\n",
    "        \n",
    "    def _build_centres(self) -> Tensor:\n",
    "        bounds = (\n",
    "            self.volume.passive_size\n",
    "            * np.mgrid[\n",
    "                round(self.volume.get_passive_z_range()[0].detach().cpu().numpy()[0] / self.volume.passive_size) : round(\n",
    "                    self.volume.get_passive_z_range()[1].detach().cpu().numpy()[0] / self.volume.passive_size\n",
    "                ) : 1,\n",
    "                0 : round(self.volume.lw.detach().cpu().numpy()[0] / self.volume.passive_size) : 1,\n",
    "                0 : round(self.volume.lw.detach().cpu().numpy()[1] / self.volume.passive_size) : 1,\n",
    "            ]\n",
    "        )\n",
    "        #         bounds[0] = np.flip(bounds[0])  # z is reversed\n",
    "        return torch.tensor(bounds.reshape(3, -1).transpose(-1, -2), dtype=torch.float32) + (self.volume.passive_size / 2)\n",
    "        \n",
    "    def _build_inputs(self, in_var:Tensor) -> Tensor:\n",
    "        data = in_var[None, :].repeat_interleave(len(self.voxel_centres), dim=0)\n",
    "        data[:, :, -3:] -= self.voxel_centres[:, None].repeat_interleave(len(in_var), dim=1)\n",
    "        data = torch.cat((data, torch.norm(data[:, :, -3:], dim=-1, keepdim=True)), dim=-1)  # dR\n",
    "        return data\n",
    "    \n",
    "    def _get_weight(self) -> Tensor:\n",
    "        '''Maybe alter this to include resoltuon/pred uncertainties'''\n",
    "        return self.efficiency\n",
    "        \n",
    "    def get_prediction(self) -> Tuple[Optional[Tensor], Optional[Tensor]]:\n",
    "        self.in_var = torch.cat(self.in_vars, dim=0)\n",
    "        self.in_var_unc = torch.cat(self.in_var_uncs, dim=0)\n",
    "        self.efficiency = torch.cat(self.efficiencies, dim=0)\n",
    "        \n",
    "        inputs = self._build_inputs(self.in_var)\n",
    "        pred = self.model(inputs[None])\n",
    "        weight = self._get_weight()\n",
    "        return pred, weight"
   ]
  },
  {
   "cell_type": "code",
   "execution_count": 73,
   "metadata": {},
   "outputs": [],
   "source": [
    "dvi = DeepVolumeInferer(model=model, base_inferer=PanelX0Inferer(volume), volume=volume)"
   ]
  },
  {
   "cell_type": "code",
   "execution_count": 74,
   "metadata": {},
   "outputs": [
    {
     "data": {
      "text/plain": [
       "([], [])"
      ]
     },
     "execution_count": 74,
     "metadata": {},
     "output_type": "execute_result"
    }
   ],
   "source": [
    "dvi.in_vars, dvi.in_var_uncs"
   ]
  },
  {
   "cell_type": "code",
   "execution_count": 75,
   "metadata": {},
   "outputs": [],
   "source": [
    "dvi.add_scatters(sb)"
   ]
  },
  {
   "cell_type": "code",
   "execution_count": 76,
   "metadata": {},
   "outputs": [
    {
     "data": {
      "text/plain": [
       "(torch.Size([250, 8]), torch.Size([250, 8]))"
      ]
     },
     "execution_count": 76,
     "metadata": {},
     "output_type": "execute_result"
    }
   ],
   "source": [
    "dvi.in_vars[0].shape, dvi.in_var_uncs[0].shape"
   ]
  },
  {
   "cell_type": "code",
   "execution_count": 77,
   "metadata": {},
   "outputs": [
    {
     "name": "stdout",
     "output_type": "stream",
     "text": [
      "CPU times: user 53.4 s, sys: 623 ms, total: 54 s\n",
      "Wall time: 1.98 s\n"
     ]
    }
   ],
   "source": [
    "%%time\n",
    "p,w = dvi.get_prediction()"
   ]
  },
  {
   "cell_type": "code",
   "execution_count": 78,
   "metadata": {},
   "outputs": [
    {
     "data": {
      "text/plain": [
       "torch.Size([1, 5, 125])"
      ]
     },
     "execution_count": 78,
     "metadata": {},
     "output_type": "execute_result"
    }
   ],
   "source": [
    "torch.exp(p).shape"
   ]
  },
  {
   "cell_type": "code",
   "execution_count": null,
   "metadata": {},
   "outputs": [],
   "source": []
  }
 ],
 "metadata": {
  "kernelspec": {
   "display_name": "Python [conda env:tomopt]",
   "language": "python",
   "name": "conda-env-tomopt-py"
  },
  "language_info": {
   "codemirror_mode": {
    "name": "ipython",
    "version": 3
   },
   "file_extension": ".py",
   "mimetype": "text/x-python",
   "name": "python",
   "nbconvert_exporter": "python",
   "pygments_lexer": "ipython3",
   "version": "3.8.11"
  }
 },
 "nbformat": 4,
 "nbformat_minor": 4
}
