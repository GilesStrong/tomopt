{
 "cells": [
  {
   "cell_type": "markdown",
   "metadata": {},
   "source": [
    "# BM3 GNN Pred"
   ]
  },
  {
   "cell_type": "code",
   "execution_count": 1,
   "metadata": {},
   "outputs": [],
   "source": [
    "from typing import *\n",
    "import numpy as np\n",
    "from functools import partial\n",
    "\n",
    "import torch\n",
    "from torch import Tensor, nn\n",
    "import torch.nn.functional as F\n",
    "\n",
    "from tomopt.volume import *\n",
    "from tomopt.muon import *\n",
    "from tomopt.inference import *\n",
    "from tomopt.optimisation import *\n",
    "from tomopt.core import *\n",
    "from tomopt.utils import *\n",
    "from tomopt.plotting import *"
   ]
  },
  {
   "cell_type": "code",
   "execution_count": 2,
   "metadata": {},
   "outputs": [],
   "source": [
    "DEVICE = torch.device(\"cpu\")"
   ]
  },
  {
   "cell_type": "code",
   "execution_count": 3,
   "metadata": {},
   "outputs": [],
   "source": [
    "from tomopt.volume.layer import Layer\n",
    "\n",
    "def get_volume(size: float = 0.2, lwh: Tensor = Tensor([1.0, 1.0, 1.4]), device: torch.device = torch.device(\"cpu\")) -> Volume:\n",
    "    def area_cost(x: Tensor) -> Tensor:\n",
    "        return F.relu(x)\n",
    "\n",
    "    layers: List[Layer] = []\n",
    "    n_panels = 4\n",
    "    layers.append(\n",
    "        PanelDetectorLayer(\n",
    "            pos=\"above\",\n",
    "            lw=lwh[:2],\n",
    "            z=lwh[2].item(),\n",
    "            size=size,\n",
    "            panels=[\n",
    "                DetectorPanel(\n",
    "                    res=1e3, eff=1, init_xyz=(lwh[0].item()/2, lwh[1].item()/2, lwh[2].item() - (i * (size) / n_panels)), init_xy_span=(lwh[0].item(), lwh[1].item()), area_cost_func=area_cost, device=device\n",
    "                )\n",
    "                for i in range(n_panels)\n",
    "            ],\n",
    "        )\n",
    "    )\n",
    "    for z in np.round(np.arange(lwh[2] - size, size, -size), decimals=1):\n",
    "        layers.append(PassiveLayer(lw=lwh[:2], z=z, size=size, device=device))\n",
    "    layers.append(\n",
    "        PanelDetectorLayer(\n",
    "            pos=\"below\",\n",
    "            lw=lwh[:2],\n",
    "            z=size,\n",
    "            size=size,\n",
    "            panels=[\n",
    "                DetectorPanel(\n",
    "                    res=1e3, eff=1, init_xyz=(lwh[0].item()/2, lwh[1].item()/2, size - (i * (size) / n_panels)), init_xy_span=(lwh[0].item(), lwh[1].item()), area_cost_func=area_cost, device=device\n",
    "                )\n",
    "                for i in range(n_panels)\n",
    "            ],\n",
    "        )\n",
    "    )\n",
    "\n",
    "    return Volume(nn.ModuleList(layers))"
   ]
  },
  {
   "cell_type": "code",
   "execution_count": 4,
   "metadata": {},
   "outputs": [],
   "source": [
    "volume = get_volume(device=DEVICE)"
   ]
  },
  {
   "cell_type": "code",
   "execution_count": 5,
   "metadata": {},
   "outputs": [
    {
     "data": {
      "text/plain": [
       "Volume(\n",
       "  (layers): ModuleList(\n",
       "    (0): PanelDetectorLayer(\n",
       "      (panels): ModuleList(\n",
       "        (0): <class 'tomopt.volume.panel.DetectorPanel'> located at xy=tensor([0.5000, 0.5000]), z=tensor([1.4000]), and xy span tensor([1., 1.])\n",
       "        (1): <class 'tomopt.volume.panel.DetectorPanel'> located at xy=tensor([0.5000, 0.5000]), z=tensor([1.3500]), and xy span tensor([1., 1.])\n",
       "        (2): <class 'tomopt.volume.panel.DetectorPanel'> located at xy=tensor([0.5000, 0.5000]), z=tensor([1.3000]), and xy span tensor([1., 1.])\n",
       "        (3): <class 'tomopt.volume.panel.DetectorPanel'> located at xy=tensor([0.5000, 0.5000]), z=tensor([1.2500]), and xy span tensor([1., 1.])\n",
       "      )\n",
       "    )\n",
       "    (1): PassiveLayer()\n",
       "    (2): PassiveLayer()\n",
       "    (3): PassiveLayer()\n",
       "    (4): PassiveLayer()\n",
       "    (5): PassiveLayer()\n",
       "    (6): PanelDetectorLayer(\n",
       "      (panels): ModuleList(\n",
       "        (0): <class 'tomopt.volume.panel.DetectorPanel'> located at xy=tensor([0.5000, 0.5000]), z=tensor([0.2000]), and xy span tensor([1., 1.])\n",
       "        (1): <class 'tomopt.volume.panel.DetectorPanel'> located at xy=tensor([0.5000, 0.5000]), z=tensor([0.1500]), and xy span tensor([1., 1.])\n",
       "        (2): <class 'tomopt.volume.panel.DetectorPanel'> located at xy=tensor([0.5000, 0.5000]), z=tensor([0.1000]), and xy span tensor([1., 1.])\n",
       "        (3): <class 'tomopt.volume.panel.DetectorPanel'> located at xy=tensor([0.5000, 0.5000]), z=tensor([0.0500]), and xy span tensor([1., 1.])\n",
       "      )\n",
       "    )\n",
       "  )\n",
       ")"
      ]
     },
     "execution_count": 5,
     "metadata": {},
     "output_type": "execute_result"
    }
   ],
   "source": [
    "volume"
   ]
  },
  {
   "cell_type": "code",
   "execution_count": 6,
   "metadata": {},
   "outputs": [],
   "source": [
    "muons = MuonBatch(generate_batch(250), init_z=volume.h, device=DEVICE)"
   ]
  },
  {
   "cell_type": "code",
   "execution_count": 7,
   "metadata": {},
   "outputs": [],
   "source": [
    "gen = RandomBlockPassiveGenerator(\n",
    "        block_size=None, volume=volume, sort_x0=False, enforce_diff_mat=True, materials=[\"beryllium\", \"carbon\", \"silicon\", \"iron\", \"lead\"], block_size_max_half=False\n",
    "    )"
   ]
  },
  {
   "cell_type": "code",
   "execution_count": 8,
   "metadata": {},
   "outputs": [],
   "source": [
    "volume.load_rad_length(*gen.get_data())"
   ]
  },
  {
   "cell_type": "code",
   "execution_count": 9,
   "metadata": {},
   "outputs": [],
   "source": [
    "volume(muons)"
   ]
  },
  {
   "cell_type": "code",
   "execution_count": 10,
   "metadata": {},
   "outputs": [
    {
     "data": {
      "text/plain": [
       "tensor([0.1932])"
      ]
     },
     "execution_count": 10,
     "metadata": {},
     "output_type": "execute_result"
    }
   ],
   "source": [
    "volume.target"
   ]
  },
  {
   "cell_type": "code",
   "execution_count": 11,
   "metadata": {},
   "outputs": [],
   "source": [
    "sb = ScatterBatch(muons, volume)"
   ]
  },
  {
   "cell_type": "code",
   "execution_count": 12,
   "metadata": {},
   "outputs": [
    {
     "data": {
      "text/plain": [
       "tensor([[ 4.0514e-03,  6.5792e-01,  6.4280e-01],\n",
       "        [ 4.1013e-01,  7.7891e-01,  1.6821e+00],\n",
       "        [-1.5440e-01,  6.2376e-01,  2.8436e-01],\n",
       "        [ 6.3282e-01,  2.0160e-01,  1.0351e+00],\n",
       "        [ 1.0833e+00,  6.1057e-01,  2.6184e-01],\n",
       "        [ 3.7461e-01,  7.6878e-01,  5.0194e-01],\n",
       "        [ 8.6035e-01,  4.5179e-01, -1.3317e-02],\n",
       "        [ 9.4571e-01,  8.2125e-01,  1.2100e+00],\n",
       "        [ 7.6564e-01, -2.8392e-01, -3.9767e-01],\n",
       "        [ 8.1560e-01,  9.0087e-01,  7.8056e-01],\n",
       "        [ 7.2012e-01,  3.5422e-01,  5.7469e-01],\n",
       "        [ 2.4906e-01,  1.0334e-01,  1.6681e-01],\n",
       "        [ 4.3821e-01,  8.5484e-01,  6.7859e-01],\n",
       "        [ 4.8259e-01,  3.4637e-01,  7.0547e-01],\n",
       "        [ 8.5106e-01,  2.6406e-02,  1.2356e+00],\n",
       "        [ 5.3760e-01,  3.9553e-01,  9.0061e-01],\n",
       "        [ 8.9188e-01,  5.5856e-01,  1.2369e+00],\n",
       "        [ 6.1432e-01,  8.2141e-01,  6.2674e-01],\n",
       "        [ 3.1369e-01,  2.8158e-01,  8.7994e-01],\n",
       "        [ 8.8623e-01,  9.4763e-01,  6.7068e-01],\n",
       "        [ 4.1417e-01,  9.2842e-02,  1.4221e+00],\n",
       "        [ 2.8139e-01,  5.6822e-01, -1.9174e+00],\n",
       "        [ 8.1939e-01,  9.7962e-01,  1.6012e+00],\n",
       "        [ 9.8070e-02,  3.5851e-01,  1.0324e+00],\n",
       "        [ 1.5123e-01,  2.6987e-01,  4.5604e-01],\n",
       "        [ 2.2972e-01,  8.9598e-02,  4.5697e-01],\n",
       "        [ 2.0225e-01,  8.6269e-02,  6.8629e-01],\n",
       "        [ 7.4853e-01,  5.9860e-01,  5.8221e-01],\n",
       "        [ 3.2246e-01,  5.3123e-01,  1.5267e+00],\n",
       "        [ 5.1523e-01,  2.5822e-01,  2.3740e-01],\n",
       "        [ 1.9035e-01,  6.1553e-01,  7.6361e-01],\n",
       "        [ 3.7101e-01,  9.3772e-01,  6.4552e-01],\n",
       "        [ 3.0789e-01,  9.5338e-01,  7.6518e-01],\n",
       "        [ 3.2476e-01,  6.9036e-01,  8.6521e-01],\n",
       "        [ 5.0121e-01,  8.1907e-02,  8.3927e-01],\n",
       "        [ 1.1902e+00,  6.2617e-01,  2.1674e-01],\n",
       "        [ 2.9657e-01,  1.4343e-01,  4.0502e-01],\n",
       "        [ 7.1237e-01,  3.0656e-01,  5.4602e-01],\n",
       "        [-1.2293e-01,  5.0613e-01,  5.6528e-01],\n",
       "        [ 3.8515e-01,  8.4947e-01,  6.5330e-01],\n",
       "        [ 9.9285e-01,  1.8484e-01,  1.1907e+00],\n",
       "        [ 6.4005e-01,  4.2333e-01,  5.3374e-01],\n",
       "        [ 4.9176e-01, -8.2474e-02,  4.9487e-01],\n",
       "        [ 7.0673e-01,  2.7659e-01,  4.5992e-01],\n",
       "        [ 3.2473e-01,  7.2513e-01,  1.6193e+00],\n",
       "        [ 7.4238e-01,  2.0671e-01,  3.6634e-01],\n",
       "        [ 1.3623e-01,  9.4055e-01,  6.0637e-01],\n",
       "        [ 4.5863e-01,  7.0317e-01, -2.9000e-01],\n",
       "        [ 5.6163e-01,  3.6916e-01,  1.1345e+00],\n",
       "        [ 2.0667e-01,  1.4009e-01,  7.9006e-01],\n",
       "        [ 7.3395e-01,  4.1113e-01,  1.1550e+00],\n",
       "        [ 7.6035e-01,  8.2661e-01,  7.1753e-01],\n",
       "        [ 4.8565e-01,  2.7659e-01,  1.3539e+00],\n",
       "        [ 8.0042e-01,  4.4505e-01,  1.1812e+00],\n",
       "        [ 3.8437e-01,  4.1928e-01,  8.9970e-01],\n",
       "        [ 5.9595e-01,  9.7314e-02,  1.1592e+00],\n",
       "        [ 4.6088e-01,  1.6716e-01,  5.5699e-01],\n",
       "        [ 7.9914e-01,  8.7125e-01,  5.2596e-01],\n",
       "        [ 9.2719e-01,  8.2181e-01,  7.4244e-01],\n",
       "        [ 5.5106e-01,  7.7340e-01,  3.8060e-01],\n",
       "        [ 2.3387e-01,  1.3282e-01,  1.1439e+00],\n",
       "        [ 4.9707e-01,  2.2241e-01,  5.0150e-01],\n",
       "        [ 4.4189e-01,  7.3347e-01,  9.6012e-01],\n",
       "        [ 9.7526e-01,  1.9218e-01,  1.2397e+00],\n",
       "        [ 8.6711e-01,  5.5346e-01,  6.8176e-01],\n",
       "        [ 2.8744e-01,  3.1669e-01,  1.0105e+00],\n",
       "        [ 4.4398e-01,  3.0633e-01,  1.9308e+00],\n",
       "        [-5.5751e-02,  1.0401e+00, -5.6211e-01],\n",
       "        [ 4.5541e-01,  8.7770e-01,  8.2136e-02],\n",
       "        [ 2.0265e-01,  5.7138e-01, -2.2807e-01],\n",
       "        [ 7.2369e-01,  9.6016e-01,  6.7967e-01],\n",
       "        [ 9.9801e-01,  5.1624e-01,  8.3887e-01],\n",
       "        [ 1.7538e-01,  2.2922e-01,  1.1628e+00],\n",
       "        [ 8.7635e-01,  1.4254e-01,  1.0401e+00],\n",
       "        [-4.0173e-02,  3.3334e-01, -1.0862e+00],\n",
       "        [ 2.6538e-01,  9.9543e-01,  6.8134e-01],\n",
       "        [ 9.7975e-02,  1.0150e+00,  5.2762e-01],\n",
       "        [ 1.6104e-01,  2.4215e-01,  5.2920e-01],\n",
       "        [ 5.6979e-01,  1.0615e+00,  2.4425e-01],\n",
       "        [ 7.8752e-01,  8.6392e-01,  1.2037e+00],\n",
       "        [ 1.8027e-01,  8.2026e-01,  4.3695e-01],\n",
       "        [ 8.5434e-01,  1.2318e-01,  1.1515e+00],\n",
       "        [ 1.5595e-01,  7.4256e-01,  5.6069e-01],\n",
       "        [ 5.3385e-01,  5.2479e-01,  1.3737e+00],\n",
       "        [ 8.6462e-01,  1.6486e-01,  2.0402e+00],\n",
       "        [ 1.8040e-01,  4.0451e-01,  8.1501e-01],\n",
       "        [ 1.4853e-01,  1.9137e-01,  8.1115e-01],\n",
       "        [ 9.7456e-01,  8.9368e-01,  6.8734e-01],\n",
       "        [ 3.6951e-03, -1.9055e-01,  2.6234e-01],\n",
       "        [ 9.7052e-01,  6.3300e-01,  1.0687e+00],\n",
       "        [ 4.0309e-01,  8.0688e-01,  7.5482e-01],\n",
       "        [ 7.1527e-01,  5.7486e-01,  1.1370e+00],\n",
       "        [ 3.1073e-01,  5.3271e-01,  1.1331e+00],\n",
       "        [ 1.9918e-01,  7.5101e-01,  3.7256e-01],\n",
       "        [ 9.5635e-01,  5.0866e-01,  8.7106e-01],\n",
       "        [ 4.2226e-01,  4.1733e-01,  1.2130e+00],\n",
       "        [-4.4224e-02,  7.6104e-01,  7.0434e-01],\n",
       "        [ 1.9415e-01,  6.3718e-01,  9.2907e-01],\n",
       "        [ 1.5869e-01,  1.8590e-01,  1.1893e+00],\n",
       "        [-1.3992e-02,  5.2384e-01,  1.6910e+00],\n",
       "        [ 2.1524e-01,  5.9374e-01,  8.2029e-01],\n",
       "        [ 1.2164e-01,  7.3654e-01,  5.3531e-01],\n",
       "        [ 9.8727e-02,  1.6105e-01,  7.0891e-01],\n",
       "        [-9.9072e-03,  9.2674e-01,  2.3920e-01],\n",
       "        [ 9.6696e-01, -3.8689e-02,  1.0599e+00],\n",
       "        [ 4.4612e-01,  6.2457e-01,  5.4599e-01],\n",
       "        [-1.2949e-01,  3.7655e-01, -3.5017e-01],\n",
       "        [ 1.0684e-01, -1.8897e-01, -1.8724e+00],\n",
       "        [ 4.9135e-01,  7.7283e-01,  9.7442e-01],\n",
       "        [ 4.8407e-01,  7.6438e-01,  7.4299e-01],\n",
       "        [ 1.5070e-01,  3.6961e-01,  1.6190e+00],\n",
       "        [ 1.6621e-01,  9.7999e-01,  6.3793e-01],\n",
       "        [ 9.1561e-01,  3.9838e-01,  3.4660e-01],\n",
       "        [ 8.0096e-01,  9.3089e-01, -3.2142e-01],\n",
       "        [ 6.5596e-01,  5.2232e-01,  7.5655e-01],\n",
       "        [ 6.4412e-01,  3.2012e-01,  6.0801e-01],\n",
       "        [ 6.0959e-01,  4.8864e-01,  1.0326e+00],\n",
       "        [ 3.0604e-01,  3.1965e-01,  1.0427e+00],\n",
       "        [ 7.3540e-01, -2.9767e-04,  5.2780e-01],\n",
       "        [ 1.7946e-02,  6.1775e-01, -2.0126e+00],\n",
       "        [ 1.0507e-01,  7.8474e-01,  1.1278e+00],\n",
       "        [ 1.0650e+00,  7.8272e-01, -1.4737e+00],\n",
       "        [ 2.9191e-02,  3.1894e-01,  1.9937e-01],\n",
       "        [ 5.8797e-01,  8.6846e-01,  2.1612e+00],\n",
       "        [ 7.8320e-02,  6.1040e-01, -1.6447e-01],\n",
       "        [ 1.0192e+00,  4.5801e-01,  1.1319e+00],\n",
       "        [ 6.0861e-01,  8.5163e-01,  1.1332e+00],\n",
       "        [ 3.1349e-01,  6.5910e-01,  3.3480e-01],\n",
       "        [ 5.1118e-01,  5.9141e-01,  9.2204e-01],\n",
       "        [-8.9378e-02, -6.0029e-03,  6.2774e-01],\n",
       "        [ 6.3236e-01,  2.2633e-01,  1.1266e+00],\n",
       "        [ 5.0682e-01,  4.3101e-01,  6.1570e-01],\n",
       "        [ 9.7169e-02,  5.4577e-01,  1.3815e+00],\n",
       "        [ 4.4556e-01,  3.1300e-01,  1.7455e+00],\n",
       "        [-9.4060e-02,  5.9042e-01,  2.7574e-01],\n",
       "        [ 7.8907e-01,  6.6134e-01,  1.2375e+00],\n",
       "        [ 4.4378e-01,  4.7346e-01,  1.6999e+00],\n",
       "        [ 8.5413e-01,  2.7437e-01,  7.6516e-01],\n",
       "        [ 4.5214e-01,  1.2100e-01, -2.1643e-01],\n",
       "        [ 5.4328e-01,  5.8634e-01,  5.2245e-01],\n",
       "        [ 5.4249e-02,  8.1550e-01,  1.5324e+00],\n",
       "        [ 2.9817e-01,  3.8482e-01,  4.0707e-01],\n",
       "        [ 3.3685e-01,  8.4970e-01,  2.5739e-01],\n",
       "        [ 2.6235e-01,  3.6093e-01,  1.0153e+00],\n",
       "        [ 2.1217e-01,  1.8557e-01,  8.7195e-01],\n",
       "        [ 5.2339e-01,  4.4466e-01,  1.2351e+00],\n",
       "        [ 1.0271e-01,  6.0644e-01,  1.5311e+00],\n",
       "        [ 7.2151e-01,  8.6604e-01,  9.0849e-01],\n",
       "        [ 6.0237e-01,  7.2436e-01,  9.3392e-01],\n",
       "        [ 6.6984e-01,  7.0711e-01,  1.1795e+00],\n",
       "        [ 8.8015e-01,  1.6002e-01,  4.4228e-01],\n",
       "        [ 7.1539e-01,  6.2484e-01,  1.1369e+00],\n",
       "        [ 6.8837e-01,  1.0927e-01,  1.0699e+00],\n",
       "        [ 9.2082e-01,  9.3050e-02,  8.4428e-01],\n",
       "        [ 1.9806e-01,  3.9442e-01,  9.3356e-01],\n",
       "        [ 8.4399e-01,  8.8838e-01,  7.3840e-01],\n",
       "        [ 8.2164e-01,  6.2492e-01,  5.1769e-01],\n",
       "        [ 1.0387e+00,  4.8616e-01, -3.1975e-01],\n",
       "        [ 1.0121e-01,  2.9018e-01,  9.1332e-01],\n",
       "        [ 3.2633e-02,  4.2310e-01,  2.1871e+00],\n",
       "        [ 8.0085e-01,  8.8407e-01,  1.5584e+00],\n",
       "        [ 6.6063e-01,  6.6044e-01,  8.5513e-01],\n",
       "        [ 1.8750e-01,  1.1188e-01,  5.6488e-01],\n",
       "        [ 5.1155e-01,  5.8439e-01, -1.7052e+00],\n",
       "        [ 5.4596e-01,  7.7998e-02,  4.9139e-01],\n",
       "        [ 6.0400e-01,  2.1091e-01,  6.6052e-01],\n",
       "        [ 8.5252e-01,  9.9399e-01,  4.9661e-01],\n",
       "        [ 5.3148e-01,  4.1256e-01, -5.3866e-01],\n",
       "        [ 7.7330e-01,  7.6816e-01,  1.2089e+00],\n",
       "        [ 2.2386e-01,  3.8243e-01,  1.6118e+00],\n",
       "        [ 2.6339e-01,  5.5131e-01,  1.6866e+00],\n",
       "        [ 2.7937e-01,  9.4289e-01,  5.7730e-01],\n",
       "        [ 7.5015e-01,  6.6276e-01,  4.7411e-01],\n",
       "        [ 6.0961e-01,  2.1955e-01,  9.1532e-01],\n",
       "        [ 6.2107e-01,  9.2345e-01,  4.8881e-01],\n",
       "        [ 2.7894e-01,  9.2173e-01,  1.0811e+00],\n",
       "        [ 6.6103e-01,  5.7366e-01,  7.0428e-01],\n",
       "        [ 7.0823e-01,  2.6348e-01,  6.3220e+00],\n",
       "        [ 6.0655e-01,  4.1519e-01,  1.3447e+00],\n",
       "        [ 8.8668e-01,  7.5376e-01,  8.9705e-01],\n",
       "        [ 8.3970e-01,  6.5160e-01,  2.5660e-01],\n",
       "        [ 9.3591e-01,  5.8224e-01,  6.2822e-01],\n",
       "        [ 9.4292e-01,  4.5404e-01,  9.7536e-01],\n",
       "        [ 2.6707e-01,  2.2089e-01,  7.7953e-01],\n",
       "        [ 7.4575e-01,  1.4462e-02,  2.8649e+00],\n",
       "        [ 3.2184e-01,  1.1976e-02,  8.0202e-01],\n",
       "        [ 7.8220e-01,  1.3366e-01,  4.9062e-01],\n",
       "        [ 1.1325e-01,  2.1407e-01,  7.9117e-01],\n",
       "        [ 8.2655e-01,  1.1739e-01,  8.1679e-01],\n",
       "        [ 4.2030e-01,  4.4221e-02,  1.0744e+00],\n",
       "        [ 3.1718e-01,  3.9586e-01,  1.0570e+00],\n",
       "        [ 2.7930e-01,  7.3340e-01,  1.6796e+00],\n",
       "        [ 5.4292e-01,  1.7683e-01,  4.9859e-01],\n",
       "        [ 3.6767e-01,  2.1889e-01,  1.2745e+00],\n",
       "        [ 1.0876e+00,  4.8050e-01,  4.0189e-01],\n",
       "        [ 1.4919e-01,  8.5622e-01, -2.4678e+00],\n",
       "        [ 7.4077e-01,  6.8695e-02,  6.1374e-01],\n",
       "        [ 2.5230e-01,  6.6132e-01,  8.5095e-01],\n",
       "        [ 4.4577e-01,  2.0817e-01,  1.2210e+00],\n",
       "        [ 6.4071e-01,  5.9758e-02,  1.8496e+00],\n",
       "        [ 8.7361e-01,  3.4406e-01,  1.3006e+00],\n",
       "        [ 9.1704e-01,  2.2336e-01,  7.0152e-01],\n",
       "        [ 4.9325e-01,  2.4595e-02,  4.2952e+00],\n",
       "        [ 8.7210e-01,  3.1475e-01,  9.9124e-01],\n",
       "        [ 4.0876e-01,  1.1203e-01,  9.4863e-01],\n",
       "        [ 6.3351e-01,  2.6176e-02,  1.0948e+00],\n",
       "        [ 5.9882e-01,  7.1169e-01,  7.5714e-01],\n",
       "        [ 4.2958e-01,  5.8808e-01, -1.9725e-01],\n",
       "        [ 6.6117e-01,  5.4341e-01,  8.3919e-01],\n",
       "        [ 4.2237e-01,  2.2121e-02,  9.0499e-01],\n",
       "        [ 1.4395e-01,  6.1749e-01,  5.1494e-01],\n",
       "        [ 7.7867e-01,  7.6472e-01,  5.0066e-01],\n",
       "        [ 7.5267e-01,  2.6199e-02,  8.5896e-01],\n",
       "        [ 1.1727e+00, -2.8292e-01,  2.7519e-01],\n",
       "        [ 2.1220e-01,  8.5622e-01,  6.2296e-01],\n",
       "        [ 1.8452e-01,  8.3142e-01,  6.4981e-01],\n",
       "        [ 7.8239e-01,  6.4576e-01,  3.8646e-02],\n",
       "        [ 9.7880e-01,  3.3000e-01,  8.1069e-01],\n",
       "        [ 4.3164e-01,  8.7313e-01,  1.1808e+00],\n",
       "        [ 6.3304e-01,  6.3364e-01, -2.8237e+00],\n",
       "        [ 7.2760e-01,  7.9242e-02,  9.7586e-01],\n",
       "        [ 5.4875e-01,  1.5686e-01,  9.2152e-01],\n",
       "        [ 3.3980e-01,  7.1380e-02,  1.3478e+00],\n",
       "        [ 1.0400e+00,  1.7328e-01,  5.1571e-01],\n",
       "        [ 8.2811e-01,  3.3986e-01,  2.0280e-01],\n",
       "        [-2.7136e-01,  8.6639e-01,  7.3884e+00],\n",
       "        [ 7.1673e-01,  1.0766e+00,  6.6782e-01],\n",
       "        [ 2.8914e-01,  8.3882e-01,  6.3783e-01],\n",
       "        [ 3.5425e-01,  8.4994e-01,  1.0800e+00],\n",
       "        [ 5.2750e-01,  3.6817e-01,  2.2979e-01],\n",
       "        [ 9.4598e-01,  2.6198e-01,  1.1923e+00],\n",
       "        [ 5.5522e-01,  6.9343e-01,  9.8759e-01],\n",
       "        [ 1.0173e+00,  3.1051e-01,  2.0083e-01],\n",
       "        [ 8.6059e-01,  3.5091e-01,  2.8708e-01],\n",
       "        [ 7.4768e-01,  2.4338e-01,  6.0457e-01],\n",
       "        [ 6.7537e-01,  4.3616e-01,  3.7578e-01],\n",
       "        [ 9.6293e-01,  4.6221e-01,  1.3469e+00],\n",
       "        [ 1.7702e-01,  6.8320e-01,  6.4026e-01],\n",
       "        [ 1.5364e-01,  1.4305e-01,  8.9626e-01],\n",
       "        [ 7.2819e-01,  3.2634e-01,  3.4016e-01],\n",
       "        [ 7.4990e-01, -1.6963e-01,  3.9892e+00],\n",
       "        [ 1.1127e-01,  6.3847e-01,  1.0590e+00],\n",
       "        [ 1.5736e-01,  8.4291e-01,  7.6118e-01],\n",
       "        [ 3.5861e-01,  1.0272e+00, -2.6263e-01],\n",
       "        [ 2.6658e-01,  7.8141e-01,  1.3503e+00],\n",
       "        [ 7.8980e-01,  4.7586e-02,  9.2630e-01],\n",
       "        [ 4.5960e-01,  8.8179e-01,  1.3928e+00],\n",
       "        [ 8.2231e-01,  3.9674e-01,  1.5393e+00],\n",
       "        [ 2.9397e-01,  6.6908e-01,  6.7332e-01],\n",
       "        [ 5.1476e-01,  4.1326e-01, -2.6062e-01]], grad_fn=<AddBackward0>)"
      ]
     },
     "execution_count": 12,
     "metadata": {},
     "output_type": "execute_result"
    }
   ],
   "source": [
    "sb.location"
   ]
  },
  {
   "cell_type": "markdown",
   "metadata": {},
   "source": [
    "## GNN inferer"
   ]
  },
  {
   "cell_type": "code",
   "execution_count": 13,
   "metadata": {},
   "outputs": [],
   "source": [
    "model = torch.jit.load('../../mode_muon_tomo_inference/dev/exported_models/bm3_traced.pt')"
   ]
  },
  {
   "cell_type": "code",
   "execution_count": 14,
   "metadata": {},
   "outputs": [
    {
     "data": {
      "text/plain": [
       "torch.jit._script.RecursiveScriptModule"
      ]
     },
     "execution_count": 14,
     "metadata": {},
     "output_type": "execute_result"
    }
   ],
   "source": [
    "type(model)"
   ]
  },
  {
   "cell_type": "code",
   "execution_count": 15,
   "metadata": {},
   "outputs": [],
   "source": [
    "dvi = DeepVolumeInferer(model=model, base_inferer=PanelX0Inferer(volume), volume=volume)"
   ]
  },
  {
   "cell_type": "code",
   "execution_count": 16,
   "metadata": {},
   "outputs": [
    {
     "data": {
      "text/plain": [
       "([], [])"
      ]
     },
     "execution_count": 16,
     "metadata": {},
     "output_type": "execute_result"
    }
   ],
   "source": [
    "dvi.in_vars, dvi.in_var_uncs"
   ]
  },
  {
   "cell_type": "code",
   "execution_count": 17,
   "metadata": {},
   "outputs": [
    {
     "name": "stderr",
     "output_type": "stream",
     "text": [
      "/Users/giles/cernbox/mode_muon_tomography/tomopt/inference/scattering.py:247: UserWarning: torch.meshgrid: in an upcoming release, it will be required to pass the indexing argument. (Triggered internally at  ../aten/src/ATen/native/TensorShape.cpp:2157.)\n",
      "  idxs = torch.combinations(torch.arange(0, unc.shape[-1]), with_replacement=True)\n"
     ]
    }
   ],
   "source": [
    "dvi.add_scatters(sb)"
   ]
  },
  {
   "cell_type": "code",
   "execution_count": 18,
   "metadata": {},
   "outputs": [
    {
     "data": {
      "text/plain": [
       "(torch.Size([250, 8]), torch.Size([250, 8]))"
      ]
     },
     "execution_count": 18,
     "metadata": {},
     "output_type": "execute_result"
    }
   ],
   "source": [
    "dvi.in_vars[0].shape, dvi.in_var_uncs[0].shape"
   ]
  },
  {
   "cell_type": "code",
   "execution_count": 19,
   "metadata": {},
   "outputs": [
    {
     "name": "stdout",
     "output_type": "stream",
     "text": [
      "CPU times: user 3.74 s, sys: 334 ms, total: 4.07 s\n",
      "Wall time: 1.54 s\n"
     ]
    }
   ],
   "source": [
    "%%time\n",
    "p,w = dvi.get_prediction()"
   ]
  },
  {
   "cell_type": "code",
   "execution_count": 20,
   "metadata": {},
   "outputs": [
    {
     "data": {
      "text/plain": [
       "torch.Size([1, 5, 125])"
      ]
     },
     "execution_count": 20,
     "metadata": {},
     "output_type": "execute_result"
    }
   ],
   "source": [
    "torch.exp(p).shape"
   ]
  },
  {
   "cell_type": "code",
   "execution_count": 21,
   "metadata": {},
   "outputs": [
    {
     "data": {
      "text/plain": [
       "tensor([[[-4.8087, -3.6494, -3.2129, -3.5707, -4.7962, -3.6117, -2.6616,\n",
       "          -2.3701, -2.6066, -3.5137, -3.2035, -2.3817, -2.1460, -2.3469,\n",
       "          -3.1517, -3.4951, -2.5999, -2.3446, -2.5724, -3.5319, -4.5737,\n",
       "          -3.5047, -3.1636, -3.5337, -4.8512, -3.2776, -2.2781, -2.0057,\n",
       "          -2.1901, -3.0297, -2.2990, -1.7073, -1.5651, -1.6379, -2.1529,\n",
       "          -2.0545, -1.6045, -1.4973, -1.5440, -1.9378, -2.1946, -1.6800,\n",
       "          -1.5666, -1.6401, -2.1469, -2.9644, -2.1300, -1.9352, -2.1277,\n",
       "          -2.9945, -2.7044, -1.8306, -1.5844, -1.7198, -2.4249, -1.8727,\n",
       "          -1.4211, -1.3196, -1.3296, -1.6532, -1.6626, -1.3577, -1.2930,\n",
       "          -1.2935, -1.4909, -1.7715, -1.3912, -1.3168, -1.3361, -1.6367,\n",
       "          -2.3719, -1.7079, -1.5391, -1.6605, -2.3204, -3.0967, -2.0231,\n",
       "          -1.6991, -1.8647, -2.7668, -2.0683, -1.4276, -1.2787, -1.3212,\n",
       "          -1.8079, -1.7703, -1.3164, -1.2214, -1.2271, -1.5786, -1.9239,\n",
       "          -1.3706, -1.2467, -1.2792, -1.7423, -2.7434, -1.8222, -1.5792,\n",
       "          -1.7550, -2.6012, -4.7638, -3.2337, -2.7770, -3.1299, -4.5135,\n",
       "          -3.2229, -2.0787, -1.7443, -1.9703, -2.9895, -2.8591, -1.8131,\n",
       "          -1.5399, -1.7019, -2.5614, -3.1824, -2.0535, -1.7354, -1.9248,\n",
       "          -2.9285, -4.4450, -3.1233, -2.6830, -3.0017, -4.3335],\n",
       "         [-4.4296, -3.5621, -3.2847, -3.5789, -4.5209, -3.5420, -2.8264,\n",
       "          -2.6151, -2.8053, -3.5260, -3.2230, -2.6234, -2.4232, -2.5838,\n",
       "          -3.2106, -3.4135, -2.7634, -2.5752, -2.7364, -3.4416, -4.2067,\n",
       "          -3.3772, -3.1351, -3.3978, -4.3768, -3.2094, -2.4939, -2.3107,\n",
       "          -2.4688, -3.1025, -2.4891, -2.0787, -1.9567, -2.0384, -2.4344,\n",
       "          -2.3063, -1.9629, -1.8562, -1.9270, -2.2573, -2.3908, -2.0240,\n",
       "          -1.9226, -2.0027, -2.3844, -2.9393, -2.3376, -2.2051, -2.3230,\n",
       "          -2.9609, -2.7273, -2.1596, -2.0208, -2.1268, -2.6233, -2.1605,\n",
       "          -1.8687, -1.7806, -1.8267, -2.0955, -2.0191, -1.7714, -1.6935,\n",
       "          -1.7447, -1.9707, -2.0778, -1.8082, -1.7303, -1.7970, -2.0397,\n",
       "          -2.4577, -2.0389, -1.9359, -2.0130, -2.4497, -2.9807, -2.2611,\n",
       "          -2.0974, -2.2153, -2.8219, -2.2549, -1.9060, -1.8340, -1.8743,\n",
       "          -2.1667, -2.0786, -1.8311, -1.7663, -1.8132, -2.0139, -2.1658,\n",
       "          -1.8563, -1.7951, -1.8362, -2.0886, -2.7163, -2.0970, -1.9597,\n",
       "          -2.0527, -2.5988, -4.3622, -3.1628, -2.8110, -3.0759, -4.1599,\n",
       "          -3.1057, -2.2889, -2.0925, -2.2244, -2.9402, -2.8036, -2.1143,\n",
       "          -1.9637, -2.0511, -2.6188, -3.0372, -2.2567, -2.0622, -2.1643,\n",
       "          -2.8640, -4.0606, -3.0029, -2.6804, -2.9035, -3.9572],\n",
       "         [-3.7947, -3.0320, -2.7853, -3.0203, -3.7632, -3.0848, -2.4119,\n",
       "          -2.2124, -2.3964, -2.9729, -2.8211, -2.2308, -2.0383, -2.2126,\n",
       "          -2.7312, -2.9866, -2.3779, -2.1954, -2.3429, -2.9261, -3.7221,\n",
       "          -2.9599, -2.7349, -2.9456, -3.6773, -2.7751, -2.0993, -1.8990,\n",
       "          -2.0383, -2.5835, -2.1647, -1.6822, -1.5515, -1.6222, -2.0257,\n",
       "          -1.9777, -1.5633, -1.4615, -1.5282, -1.8539, -2.1056, -1.6485,\n",
       "          -1.5316, -1.6068, -2.0063, -2.6941, -2.0518, -1.8884, -2.0130,\n",
       "          -2.5799, -2.3321, -1.7397, -1.5765, -1.6791, -2.1658, -1.7931,\n",
       "          -1.4011, -1.3240, -1.3801, -1.6822, -1.6509, -1.3328, -1.2645,\n",
       "          -1.3209, -1.5703, -1.7680, -1.4083, -1.3334, -1.3805, -1.6845,\n",
       "          -2.2521, -1.7406, -1.5957, -1.6953, -2.1713, -2.4813, -1.8509,\n",
       "          -1.6793, -1.8135, -2.3576, -1.8504, -1.4454, -1.3448, -1.4289,\n",
       "          -1.7958, -1.7051, -1.3514, -1.2720, -1.3339, -1.6474, -1.8275,\n",
       "          -1.4561, -1.3470, -1.4211, -1.7765, -2.3663, -1.8384, -1.6823,\n",
       "          -1.7737, -2.2893, -3.5104, -2.5216, -2.2466, -2.4758, -3.2807,\n",
       "          -2.5577, -1.8497, -1.6960, -1.8314, -2.4191, -2.3004, -1.6969,\n",
       "          -1.5687, -1.6786, -2.1884, -2.5284, -1.8430, -1.7032, -1.8075,\n",
       "          -2.4707, -3.5114, -2.5576, -2.3263, -2.5623, -3.4714],\n",
       "         [-2.2321, -1.4932, -1.2586, -1.3693, -1.8820, -1.6334, -1.1249,\n",
       "          -1.0392, -1.0223, -1.3483, -1.5051, -1.1311, -1.0902, -1.0609,\n",
       "          -1.2489, -1.7244, -1.2310, -1.1324, -1.1242, -1.4156, -2.3690,\n",
       "          -1.6626, -1.4357, -1.5102, -2.0193, -1.4856, -1.0798, -1.0568,\n",
       "          -1.0232, -1.2281, -1.1720, -1.1935, -1.2948, -1.2205, -1.0565,\n",
       "          -1.1757, -1.3032, -1.4157, -1.3358, -1.1220, -1.2520, -1.2730,\n",
       "          -1.3517, -1.2750, -1.1180, -1.6417, -1.2478, -1.2044, -1.1828,\n",
       "          -1.3294, -1.3048, -1.1130, -1.2007, -1.1196, -1.1101, -1.1518,\n",
       "          -1.3917, -1.5447, -1.4740, -1.1580, -1.2225, -1.5298, -1.6796,\n",
       "          -1.6007, -1.2741, -1.2094, -1.4606, -1.5916, -1.5098, -1.2041,\n",
       "          -1.3816, -1.2449, -1.3064, -1.2403, -1.1961, -1.5666, -1.1178,\n",
       "          -1.1385, -1.1079, -1.2897, -1.1673, -1.3124, -1.4723, -1.3851,\n",
       "          -1.0900, -1.1849, -1.4524, -1.6210, -1.5445, -1.1692, -1.2109,\n",
       "          -1.3710, -1.5355, -1.4515, -1.1383, -1.5231, -1.2300, -1.2534,\n",
       "          -1.2098, -1.3183, -2.6091, -1.7175, -1.4552, -1.6009, -2.3134,\n",
       "          -1.7819, -1.2246, -1.1955, -1.1949, -1.5325, -1.5096, -1.1793,\n",
       "          -1.2317, -1.1868, -1.3071, -1.6575, -1.2141, -1.1891, -1.1968,\n",
       "          -1.4696, -2.4604, -1.6021, -1.3997, -1.5274, -2.2121],\n",
       "         [-0.1624, -0.3964, -0.5507, -0.4449, -0.2165, -0.3523, -0.7839,\n",
       "          -0.9938, -0.8797, -0.4621, -0.4494, -0.9040, -1.1147, -0.9854,\n",
       "          -0.5710, -0.3453, -0.7383, -0.9304, -0.8258, -0.4426, -0.1543,\n",
       "          -0.3648, -0.4921, -0.4096, -0.1965, -0.4570, -1.0421, -1.3131,\n",
       "          -1.1592, -0.6192, -0.9362, -1.5876, -1.8095, -1.6993, -1.1500,\n",
       "          -1.1233, -1.7292, -1.9285, -1.8263, -1.3127, -0.9433, -1.5646,\n",
       "          -1.7717, -1.6549, -1.1099, -0.4553, -0.9971, -1.2236, -1.0703,\n",
       "          -0.5838, -0.6944, -1.5133, -1.8662, -1.6675, -0.9294, -1.3923,\n",
       "          -2.2143, -2.4677, -2.3653, -1.6848, -1.6544, -2.3822, -2.6195,\n",
       "          -2.4969, -1.9118, -1.4453, -2.2016, -2.4352, -2.3135, -1.6618,\n",
       "          -0.7663, -1.4908, -1.7862, -1.5919, -0.9187, -0.4916, -1.2750,\n",
       "          -1.6737, -1.4163, -0.6780, -1.2029, -2.2384, -2.6334, -2.4095,\n",
       "          -1.5176, -1.5276, -2.5411, -2.8777, -2.7050, -1.8508, -1.2710,\n",
       "          -2.2750, -2.6441, -2.4458, -1.5539, -0.5840, -1.3312, -1.7066,\n",
       "          -1.4665, -0.7287, -0.1333, -0.4179, -0.6189, -0.4711, -0.1780,\n",
       "          -0.4011, -1.1321, -1.5330, -1.2395, -0.5245, -0.5783, -1.4899,\n",
       "          -1.9299, -1.6234, -0.7610, -0.4461, -1.1657, -1.5610, -1.2981,\n",
       "          -0.5535, -0.1558, -0.4662, -0.6563, -0.5088, -0.1897]]],\n",
       "       grad_fn=<LogSoftmaxBackward0>)"
      ]
     },
     "execution_count": 21,
     "metadata": {},
     "output_type": "execute_result"
    }
   ],
   "source": [
    "p"
   ]
  },
  {
   "cell_type": "code",
   "execution_count": 22,
   "metadata": {},
   "outputs": [
    {
     "name": "stdout",
     "output_type": "stream",
     "text": [
      "CPU times: user 2 µs, sys: 0 ns, total: 2 µs\n",
      "Wall time: 3.1 µs\n"
     ]
    }
   ],
   "source": [
    "%%time\n",
    "# jacobian(p, dvi.in_var)  # crashes"
   ]
  },
  {
   "cell_type": "markdown",
   "metadata": {},
   "source": [
    "## Loss"
   ]
  },
  {
   "cell_type": "code",
   "execution_count": 23,
   "metadata": {},
   "outputs": [
    {
     "data": {
      "text/plain": [
       "{0.3528: 0, 0.1932: 1, 0.0937: 2, 0.01757: 3, 0.005612: 4}"
      ]
     },
     "execution_count": 23,
     "metadata": {},
     "output_type": "execute_result"
    }
   ],
   "source": [
    "x02id = {X0[m]: i for i, m in enumerate(gen.materials)}; x02id"
   ]
  },
  {
   "cell_type": "code",
   "execution_count": 24,
   "metadata": {},
   "outputs": [],
   "source": [
    "loss = VoxelClassLoss(x02id=x02id, target_budget=None)"
   ]
  },
  {
   "cell_type": "code",
   "execution_count": 25,
   "metadata": {},
   "outputs": [
    {
     "name": "stdout",
     "output_type": "stream",
     "text": [
      "Automatically setting cost coefficient to 2.378434181213379\n"
     ]
    },
    {
     "data": {
      "text/plain": [
       "tensor([2.3784], grad_fn=<AddBackward0>)"
      ]
     },
     "execution_count": 25,
     "metadata": {},
     "output_type": "execute_result"
    }
   ],
   "source": [
    "l = loss(p, 1, volume); l"
   ]
  },
  {
   "cell_type": "code",
   "execution_count": 26,
   "metadata": {},
   "outputs": [
    {
     "data": {
      "text/plain": [
       "tensor([[-0.0067, -0.5824]])"
      ]
     },
     "execution_count": 26,
     "metadata": {},
     "output_type": "execute_result"
    }
   ],
   "source": [
    "jacobian(l, volume.get_detectors()[0].panels[0].xy)"
   ]
  },
  {
   "cell_type": "code",
   "execution_count": 27,
   "metadata": {},
   "outputs": [
    {
     "data": {
      "text/plain": [
       "tensor([[ 0.0097, -0.1994]])"
      ]
     },
     "execution_count": 27,
     "metadata": {},
     "output_type": "execute_result"
    }
   ],
   "source": [
    "jacobian(l, volume.get_detectors()[0].panels[0].xy_span)"
   ]
  },
  {
   "cell_type": "code",
   "execution_count": 28,
   "metadata": {},
   "outputs": [
    {
     "data": {
      "text/plain": [
       "tensor([[-30.1736]])"
      ]
     },
     "execution_count": 28,
     "metadata": {},
     "output_type": "execute_result"
    }
   ],
   "source": [
    "jacobian(l, volume.get_detectors()[0].panels[0].z)"
   ]
  },
  {
   "cell_type": "markdown",
   "metadata": {},
   "source": [
    "## Plotting"
   ]
  },
  {
   "cell_type": "code",
   "execution_count": 29,
   "metadata": {},
   "outputs": [],
   "source": [
    "class_preds = p.argmax(1).detach().cpu().numpy()"
   ]
  },
  {
   "cell_type": "code",
   "execution_count": 30,
   "metadata": {},
   "outputs": [],
   "source": [
    "true = volume.get_rad_cube().flatten().reshape((5,5,5))"
   ]
  },
  {
   "cell_type": "code",
   "execution_count": 31,
   "metadata": {},
   "outputs": [],
   "source": [
    "class_preds = class_preds.reshape(true.shape)"
   ]
  },
  {
   "cell_type": "code",
   "execution_count": 32,
   "metadata": {},
   "outputs": [
    {
     "data": {
      "text/plain": [
       "{0: 0.3528, 1: 0.1932, 2: 0.0937, 3: 0.01757, 4: 0.005612}"
      ]
     },
     "execution_count": 32,
     "metadata": {},
     "output_type": "execute_result"
    }
   ],
   "source": [
    "id2x0 = {v:k for k,v in x02id.items()}; id2x0"
   ]
  },
  {
   "cell_type": "code",
   "execution_count": 33,
   "metadata": {},
   "outputs": [],
   "source": [
    "x0_preds = class_to_x0preds(class_preds, id2x0)"
   ]
  },
  {
   "cell_type": "code",
   "execution_count": 34,
   "metadata": {
    "scrolled": false
   },
   "outputs": [
    {
     "data": {
      "image/png": "[encoded data removed]",
      "text/plain": [
       "<Figure size 576x1024 with 12 Axes>"
      ]
     },
     "metadata": {},
     "output_type": "display_data"
    }
   ],
   "source": [
    "plot_pred_true_x0(x0_preds, true)"
   ]
  },
  {
   "cell_type": "code",
   "execution_count": 35,
   "metadata": {},
   "outputs": [
    {
     "data": {
      "text/plain": [
       "{0.3528: 0, 0.1932: 1, 0.0937: 2, 0.01757: 3, 0.005612: 4}"
      ]
     },
     "execution_count": 35,
     "metadata": {},
     "output_type": "execute_result"
    }
   ],
   "source": [
    "x02id"
   ]
  },
  {
   "cell_type": "code",
   "execution_count": 36,
   "metadata": {},
   "outputs": [],
   "source": [
    "class_targs = x0targs_to_classtargs(true, x02id)"
   ]
  },
  {
   "cell_type": "code",
   "execution_count": 37,
   "metadata": {},
   "outputs": [
    {
     "data": {
      "text/plain": [
       "array([[[1., 1., 1., 1., 0.],\n",
       "        [1., 1., 1., 1., 0.],\n",
       "        [1., 1., 1., 1., 0.],\n",
       "        [1., 1., 1., 1., 0.],\n",
       "        [1., 1., 1., 1., 0.]],\n",
       "\n",
       "       [[1., 1., 1., 1., 0.],\n",
       "        [1., 1., 1., 1., 0.],\n",
       "        [1., 1., 1., 1., 0.],\n",
       "        [1., 1., 1., 1., 0.],\n",
       "        [1., 1., 1., 1., 0.]],\n",
       "\n",
       "       [[0., 0., 0., 0., 0.],\n",
       "        [0., 0., 0., 0., 0.],\n",
       "        [0., 0., 0., 0., 0.],\n",
       "        [0., 0., 0., 0., 0.],\n",
       "        [0., 0., 0., 0., 0.]],\n",
       "\n",
       "       [[0., 0., 0., 0., 0.],\n",
       "        [0., 0., 0., 0., 0.],\n",
       "        [0., 0., 0., 0., 0.],\n",
       "        [0., 0., 0., 0., 0.],\n",
       "        [0., 0., 0., 0., 0.]],\n",
       "\n",
       "       [[0., 0., 0., 0., 0.],\n",
       "        [0., 0., 0., 0., 0.],\n",
       "        [0., 0., 0., 0., 0.],\n",
       "        [0., 0., 0., 0., 0.],\n",
       "        [0., 0., 0., 0., 0.]]], dtype=float32)"
      ]
     },
     "execution_count": 37,
     "metadata": {},
     "output_type": "execute_result"
    }
   ],
   "source": [
    "class_targs"
   ]
  },
  {
   "cell_type": "code",
   "execution_count": 38,
   "metadata": {},
   "outputs": [
    {
     "data": {
      "image/png": "[encoded data removed]",
      "text/plain": [
       "<Figure size 576x1024 with 12 Axes>"
      ]
     },
     "metadata": {},
     "output_type": "display_data"
    }
   ],
   "source": [
    "plot_pred_true_x0(class_preds, class_targs)"
   ]
  },
  {
   "cell_type": "markdown",
   "metadata": {},
   "source": [
    "## Optimiser"
   ]
  },
  {
   "cell_type": "code",
   "execution_count": 39,
   "metadata": {},
   "outputs": [
    {
     "data": {
      "text/plain": [
       "tensor(8., grad_fn=<AddBackward0>)"
      ]
     },
     "execution_count": 39,
     "metadata": {},
     "output_type": "execute_result"
    }
   ],
   "source": [
    "volume.get_cost()"
   ]
  },
  {
   "cell_type": "code",
   "execution_count": 40,
   "metadata": {},
   "outputs": [],
   "source": [
    "wrapper = PanelVolumeWrapper(volume,\n",
    "                             xy_pos_opt=partial(torch.optim.SGD, lr=5e4),\n",
    "                             z_pos_opt=partial(torch.optim.SGD, lr=5e3),\n",
    "                             xy_span_opt=partial(torch.optim.SGD, lr=1e4),\n",
    "                             partial_volume_inferer=partial(DeepVolumeInferer, model=model, base_inferer=PanelX0Inferer(volume)),\n",
    "                             loss_func=VoxelClassLoss(x02id=x02id, target_budget=6, cost_coef=None))  # Loss is precision + budget_coef*cost_coef, balance coef as required or leave as None to automatically balance on first batch"
   ]
  },
  {
   "cell_type": "code",
   "execution_count": 41,
   "metadata": {},
   "outputs": [],
   "source": [
    "passives = PassiveYielder(gen, n_passives=1)"
   ]
  },
  {
   "cell_type": "code",
   "execution_count": 43,
   "metadata": {},
   "outputs": [],
   "source": [
    "from prettytable import PrettyTable\n",
    "\n",
    "from tomopt.optimisation.callbacks.callback import Callback\n",
    "\n",
    "class PanelOptConfig(Callback):\n",
    "    def __init__(self, n_warmup:int, xy_pos_rate:float, z_pos_rate:float, xy_span_rate:float):\n",
    "        self.n_warmup = n_warmup\n",
    "        self.rates = {'xy_pos_opt':xy_pos_rate, 'z_pos_opt':z_pos_rate,'xy_span_opt':xy_span_rate}\n",
    "    \n",
    "    def on_train_begin(self) -> None:\n",
    "        super().on_train_begin()\n",
    "        self.epoch_cnt = 0\n",
    "        self.tracking = True\n",
    "        self.stats = {'xy_pos_opt':[], 'z_pos_opt':[],'xy_span_opt':[]}\n",
    "        print(f\"{type(self).__name__}: Freezing optimisation for {self.n_warmup} epochs\")\n",
    "        for o in self.stats:  # Prevent updates during warmup\n",
    "            self.wrapper.set_opt_lr(0.0, o)\n",
    "            \n",
    "    def on_backwards_end(self) -> None:\n",
    "        for l in self.wrapper.volume.get_detectors():\n",
    "            if isinstance(l, PanelDetectorLayer):\n",
    "                for p in l.panels:\n",
    "                    self.stats['xy_pos_opt'].append(p.xy.grad.cpu().numpy())\n",
    "                    self.stats['z_pos_opt'].append(p.z.grad.cpu().numpy())\n",
    "                    self.stats['xy_span_opt'].append(p.xy_span.grad.cpu().numpy())\n",
    "\n",
    "    def on_epoch_end(self) -> None:\n",
    "        if self.tracking and self.wrapper.fit_params.state == \"train\":\n",
    "            self.epoch_cnt += 1\n",
    "            if self.epoch_cnt == self.n_warmup:\n",
    "                print(f\"{type(self).__name__}: Optimiser warm-up completed\")\n",
    "                self.tracking = False\n",
    "                pt = PrettyTable(['Param', 'Median Grad', 'LR'])\n",
    "                for k,v in self.stats.items():  # Allow optimisation\n",
    "                    avg = np.abs(np.median(v))\n",
    "                    lr = self.rates[k]/avg\n",
    "                    pt.add_row([k, avg, lr])\n",
    "                    self.wrapper.set_opt_lr(lr, k)\n",
    "                print(pt)"
   ]
  },
  {
   "cell_type": "code",
   "execution_count": 44,
   "metadata": {
    "scrolled": false
   },
   "outputs": [
    {
     "name": "stdout",
     "output_type": "stream",
     "text": [
      "CostCoefWarmup: Freezing optimisation for 5 epochs\n",
      "PanelOptConfig: Freezing optimisation for 5 epochs\n"
     ]
    },
    {
     "data": {
      "image/png": "[encoded data removed]",
      "text/plain": [
       "<Figure size 1024x1024 with 8 Axes>"
      ]
     },
     "metadata": {},
     "output_type": "display_data"
    },
    {
     "data": {
      "text/html": [
       "\n",
       "    <div>\n",
       "        <style>\n",
       "            /* Turns off some styling */\n",
       "            progress {\n",
       "                /* gets rid of default border in Firefox and Opera. */\n",
       "                border: none;\n",
       "                /* Needs to be in here for Safari polyfill so background images work as expected. */\n",
       "                background-size: auto;\n",
       "            }\n",
       "            .progress-bar-interrupted, .progress-bar-interrupted::-webkit-progress-bar {\n",
       "                background: #F44336;\n",
       "            }\n",
       "        </style>\n",
       "      <progress value='15' class='' max='15' style='width:300px; height:20px; vertical-align: middle;'></progress>\n",
       "      100.00% [15/15 02:22<00:00]\n",
       "    </div>\n",
       "    "
      ],
      "text/plain": [
       "<IPython.core.display.HTML object>"
      ]
     },
     "metadata": {},
     "output_type": "display_data"
    },
    {
     "name": "stdout",
     "output_type": "stream",
     "text": [
      "Automatically setting cost coefficient to 4.0827435441315174e-05\n"
     ]
    },
    {
     "name": "stderr",
     "output_type": "stream",
     "text": [
      "/Users/giles/cernbox/mode_muon_tomography/tomopt/optimisation/callbacks/monitors.py:211: UserWarning: Attempting to set identical left == right == 1.0 results in singular transformations; automatically expanding.\n",
      "  ax.set_xlim(1 / self.n_trn_batches, x[-1])\n"
     ]
    },
    {
     "name": "stdout",
     "output_type": "stream",
     "text": [
      "CostCoefWarmup: Warmed up, average error = tensor([7.9147e-05])\n",
      "PanelOptConfig: Optimiser warm-up completed\n",
      "+-------------+----------------+--------------------+\n",
      "|    Param    |  Median Grad   |         LR         |\n",
      "+-------------+----------------+--------------------+\n",
      "|  xy_pos_opt |  0.001060002   | 94.33944306137448  |\n",
      "|  z_pos_opt  |   0.06313047   | 0.7920106009185638 |\n",
      "| xy_span_opt | 0.000114580616 | 872.7479671624808  |\n",
      "+-------------+----------------+--------------------+\n"
     ]
    },
    {
     "data": {
      "text/plain": [
       "<Figure size 1024x1024 with 0 Axes>"
      ]
     },
     "metadata": {},
     "output_type": "display_data"
    }
   ],
   "source": [
    "_ = wrapper.fit(n_epochs=15,\n",
    "                passive_bs=1,\n",
    "                n_mu_per_volume=250,\n",
    "                mu_bs=250,\n",
    "                trn_passives=passives,\n",
    "                val_passives=passives,\n",
    "                cbs=[NoMoreNaNs(), CostCoefWarmup(n_warmup=5), PanelOptConfig(n_warmup=5, xy_pos_rate=0.1, z_pos_rate=0.05, xy_span_rate=0.1), PanelMetricLogger()])"
   ]
  },
  {
   "cell_type": "code",
   "execution_count": 45,
   "metadata": {},
   "outputs": [
    {
     "data": {
      "text/plain": [
       "Volume(\n",
       "  (layers): ModuleList(\n",
       "    (0): PanelDetectorLayer(\n",
       "      (panels): ModuleList(\n",
       "        (0): <class 'tomopt.volume.panel.DetectorPanel'> located at xy=tensor([0.5006, 0.5003]), z=tensor([1.3628]), and xy span tensor([0.6503, 0.6974])\n",
       "        (1): <class 'tomopt.volume.panel.DetectorPanel'> located at xy=tensor([0.5027, 0.4981]), z=tensor([1.3409]), and xy span tensor([0.7884, 0.7530])\n",
       "        (2): <class 'tomopt.volume.panel.DetectorPanel'> located at xy=tensor([0.4959, 0.4988]), z=tensor([1.3128]), and xy span tensor([0.7174, 0.7356])\n",
       "        (3): <class 'tomopt.volume.panel.DetectorPanel'> located at xy=tensor([0.5061, 0.4898]), z=tensor([1.2831]), and xy span tensor([0.8249, 0.7394])\n",
       "      )\n",
       "    )\n",
       "    (1): PassiveLayer()\n",
       "    (2): PassiveLayer()\n",
       "    (3): PassiveLayer()\n",
       "    (4): PassiveLayer()\n",
       "    (5): PassiveLayer()\n",
       "    (6): PanelDetectorLayer(\n",
       "      (panels): ModuleList(\n",
       "        (0): <class 'tomopt.volume.panel.DetectorPanel'> located at xy=tensor([0.4936, 0.5046]), z=tensor([0.1995]), and xy span tensor([0.7861, 0.7712])\n",
       "        (1): <class 'tomopt.volume.panel.DetectorPanel'> located at xy=tensor([0.4996, 0.5000]), z=tensor([0.1589]), and xy span tensor([0.7644, 0.7386])\n",
       "        (2): <class 'tomopt.volume.panel.DetectorPanel'> located at xy=tensor([0.4991, 0.4987]), z=tensor([0.0877]), and xy span tensor([0.7619, 0.7442])\n",
       "        (3): <class 'tomopt.volume.panel.DetectorPanel'> located at xy=tensor([0.5030, 0.5092]), z=tensor([0.0209]), and xy span tensor([0.7195, 0.7957])\n",
       "      )\n",
       "    )\n",
       "  )\n",
       ")"
      ]
     },
     "execution_count": 45,
     "metadata": {},
     "output_type": "execute_result"
    }
   ],
   "source": [
    "volume"
   ]
  },
  {
   "cell_type": "code",
   "execution_count": 46,
   "metadata": {},
   "outputs": [
    {
     "data": {
      "text/plain": [
       "tensor(4.4952, grad_fn=<AddBackward0>)"
      ]
     },
     "execution_count": 46,
     "metadata": {},
     "output_type": "execute_result"
    }
   ],
   "source": [
    "volume.get_cost()"
   ]
  },
  {
   "cell_type": "code",
   "execution_count": 47,
   "metadata": {},
   "outputs": [],
   "source": [
    "muons = MuonBatch(generate_batch(250), init_z=volume.h, device=DEVICE)"
   ]
  },
  {
   "cell_type": "code",
   "execution_count": 48,
   "metadata": {},
   "outputs": [],
   "source": [
    "volume(muons)"
   ]
  },
  {
   "cell_type": "code",
   "execution_count": 49,
   "metadata": {},
   "outputs": [
    {
     "data": {
      "text/plain": [
       "tensor([0.0176])"
      ]
     },
     "execution_count": 49,
     "metadata": {},
     "output_type": "execute_result"
    }
   ],
   "source": [
    "volume.target"
   ]
  },
  {
   "cell_type": "code",
   "execution_count": 50,
   "metadata": {},
   "outputs": [],
   "source": [
    "sb = ScatterBatch(muons, volume)"
   ]
  },
  {
   "cell_type": "code",
   "execution_count": 51,
   "metadata": {},
   "outputs": [
    {
     "data": {
      "text/plain": [
       "tensor([[0.8321, 0.6844, 0.8176],\n",
       "        [0.3103, 0.9342, 1.3062],\n",
       "        [0.0862, 0.5581, 1.0160],\n",
       "        [0.5284, 0.7939, 0.7873],\n",
       "        [0.9366, 0.8227, 1.5029]], grad_fn=<SliceBackward0>)"
      ]
     },
     "execution_count": 51,
     "metadata": {},
     "output_type": "execute_result"
    }
   ],
   "source": [
    "sb.location[:5]"
   ]
  },
  {
   "cell_type": "code",
   "execution_count": 52,
   "metadata": {},
   "outputs": [
    {
     "data": {
      "text/plain": [
       "tensor([[[0.8341, 0.6924, 1.3628],\n",
       "         [0.8338, 0.6929, 1.3409],\n",
       "         [0.8353, 0.6918, 1.3128],\n",
       "         [0.8330, 0.6921, 1.2831]],\n",
       "\n",
       "        [[0.3122, 0.9299, 1.3628],\n",
       "         [0.3117, 0.9311, 1.3409],\n",
       "         [0.3107, 0.9346, 1.3128],\n",
       "         [0.3091, 0.9383, 1.2831]],\n",
       "\n",
       "        [[0.0773, 0.5625, 1.3628],\n",
       "         [0.0776, 0.5610, 1.3409],\n",
       "         [0.0785, 0.5603, 1.3128],\n",
       "         [0.0806, 0.5599, 1.2831]],\n",
       "\n",
       "        [[0.4602, 0.7163, 1.3628],\n",
       "         [0.4648, 0.7189, 1.3409],\n",
       "         [0.4685, 0.7241, 1.3128],\n",
       "         [0.4711, 0.7279, 1.2831]],\n",
       "\n",
       "        [[0.9432, 0.8310, 1.3628],\n",
       "         [0.9450, 0.8344, 1.3409],\n",
       "         [0.9464, 0.8346, 1.3128],\n",
       "         [0.9495, 0.8348, 1.2831]]], grad_fn=<SliceBackward0>)"
      ]
     },
     "execution_count": 52,
     "metadata": {},
     "output_type": "execute_result"
    }
   ],
   "source": [
    "sb.above_hits[:5]"
   ]
  },
  {
   "cell_type": "code",
   "execution_count": 53,
   "metadata": {},
   "outputs": [
    {
     "data": {
      "text/plain": [
       "tensor([[[0.0013, 0.0011, 0.0000],\n",
       "         [0.0012, 0.0011, 0.0000],\n",
       "         [0.0012, 0.0011, 0.0000],\n",
       "         [0.0012, 0.0011, 0.0000]],\n",
       "\n",
       "        [[0.0011, 0.0015, 0.0000],\n",
       "         [0.0011, 0.0014, 0.0000],\n",
       "         [0.0011, 0.0014, 0.0000],\n",
       "         [0.0011, 0.0014, 0.0000]],\n",
       "\n",
       "        [[0.0015, 0.0010, 0.0000],\n",
       "         [0.0013, 0.0010, 0.0000],\n",
       "         [0.0014, 0.0010, 0.0000],\n",
       "         [0.0013, 0.0010, 0.0000]],\n",
       "\n",
       "        [[0.0010, 0.0011, 0.0000],\n",
       "         [0.0010, 0.0011, 0.0000],\n",
       "         [0.0010, 0.0011, 0.0000],\n",
       "         [0.0010, 0.0011, 0.0000]],\n",
       "\n",
       "        [[0.0016, 0.0013, 0.0000],\n",
       "         [0.0014, 0.0012, 0.0000],\n",
       "         [0.0015, 0.0012, 0.0000],\n",
       "         [0.0013, 0.0012, 0.0000]]], grad_fn=<SliceBackward0>)"
      ]
     },
     "execution_count": 53,
     "metadata": {},
     "output_type": "execute_result"
    }
   ],
   "source": [
    "sb.above_hit_uncs[:5]"
   ]
  },
  {
   "cell_type": "code",
   "execution_count": 54,
   "metadata": {},
   "outputs": [
    {
     "data": {
      "text/plain": [
       "tensor([[[0.0013, 0.0011, 0.0000],\n",
       "         [0.0012, 0.0011, 0.0000],\n",
       "         [0.0012, 0.0011, 0.0000],\n",
       "         [0.0012, 0.0011, 0.0000]],\n",
       "\n",
       "        [[0.0011, 0.0015, 0.0000],\n",
       "         [0.0011, 0.0014, 0.0000],\n",
       "         [0.0011, 0.0014, 0.0000],\n",
       "         [0.0011, 0.0014, 0.0000]],\n",
       "\n",
       "        [[0.0015, 0.0010, 0.0000],\n",
       "         [0.0013, 0.0010, 0.0000],\n",
       "         [0.0014, 0.0010, 0.0000],\n",
       "         [0.0013, 0.0010, 0.0000]],\n",
       "\n",
       "        [[0.0010, 0.0011, 0.0000],\n",
       "         [0.0010, 0.0011, 0.0000],\n",
       "         [0.0010, 0.0011, 0.0000],\n",
       "         [0.0010, 0.0011, 0.0000]],\n",
       "\n",
       "        [[0.0016, 0.0013, 0.0000],\n",
       "         [0.0014, 0.0012, 0.0000],\n",
       "         [0.0015, 0.0012, 0.0000],\n",
       "         [0.0013, 0.0012, 0.0000]]], grad_fn=<SliceBackward0>)"
      ]
     },
     "execution_count": 54,
     "metadata": {},
     "output_type": "execute_result"
    }
   ],
   "source": [
    "sb.above_hit_uncs[:5]"
   ]
  },
  {
   "cell_type": "code",
   "execution_count": 55,
   "metadata": {},
   "outputs": [
    {
     "data": {
      "text/plain": [
       "tensor([[[0.8339, 0.6927, 1.3628],\n",
       "         [0.8339, 0.6923, 1.3409],\n",
       "         [0.8339, 0.6917, 1.3128],\n",
       "         [0.8339, 0.6912, 1.2831]],\n",
       "\n",
       "        [[0.3135, 0.9292, 1.3628],\n",
       "         [0.3122, 0.9310, 1.3409],\n",
       "         [0.3106, 0.9333, 1.3128],\n",
       "         [0.3089, 0.9357, 1.2831]],\n",
       "\n",
       "        [[0.0785, 0.5636, 1.3628],\n",
       "         [0.0787, 0.5626, 1.3409],\n",
       "         [0.0789, 0.5612, 1.3128],\n",
       "         [0.0792, 0.5598, 1.2831]],\n",
       "\n",
       "        [[0.4618, 0.7166, 1.3628],\n",
       "         [0.4646, 0.7194, 1.3409],\n",
       "         [0.4682, 0.7229, 1.3128],\n",
       "         [0.4720, 0.7266, 1.2831]],\n",
       "\n",
       "        [[0.9432, 0.8317, 1.3628],\n",
       "         [0.9452, 0.8328, 1.3409],\n",
       "         [0.9476, 0.8341, 1.3128],\n",
       "         [0.9503, 0.8356, 1.2831]]], grad_fn=<SliceBackward0>)"
      ]
     },
     "execution_count": 55,
     "metadata": {},
     "output_type": "execute_result"
    }
   ],
   "source": [
    "sb.above_gen_hits[:5]"
   ]
  },
  {
   "cell_type": "code",
   "execution_count": null,
   "metadata": {},
   "outputs": [],
   "source": []
  }
 ],
 "metadata": {
  "kernelspec": {
   "display_name": "Python [conda env:tomopt]",
   "language": "python",
   "name": "conda-env-tomopt-py"
  },
  "language_info": {
   "codemirror_mode": {
    "name": "ipython",
    "version": 3
   },
   "file_extension": ".py",
   "mimetype": "text/x-python",
   "name": "python",
   "nbconvert_exporter": "python",
   "pygments_lexer": "ipython3",
   "version": "3.8.0"
  },
  "toc": {
   "base_numbering": 1,
   "nav_menu": {},
   "number_sections": true,
   "sideBar": true,
   "skip_h1_title": false,
   "title_cell": "Table of Contents",
   "title_sidebar": "Contents",
   "toc_cell": false,
   "toc_position": {},
   "toc_section_display": true,
   "toc_window_display": false
  }
 },
 "nbformat": 4,
 "nbformat_minor": 4
}
