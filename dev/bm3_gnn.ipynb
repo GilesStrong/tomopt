{
 "cells": [
  {
   "cell_type": "markdown",
   "metadata": {},
   "source": [
    "# BM3 GNN Pred"
   ]
  },
  {
   "cell_type": "code",
   "execution_count": 1,
   "metadata": {},
   "outputs": [],
   "source": [
    "from typing import *\n",
    "import numpy as np\n",
    "from functools import partial\n",
    "\n",
    "import torch\n",
    "from torch import Tensor, nn\n",
    "import torch.nn.functional as F\n",
    "\n",
    "from tomopt.volume import *\n",
    "from tomopt.muon import *\n",
    "from tomopt.inference import *\n",
    "from tomopt.optimisation import *\n",
    "from tomopt.core import *\n",
    "from tomopt.utils import *\n",
    "from tomopt.plotting import *"
   ]
  },
  {
   "cell_type": "code",
   "execution_count": 2,
   "metadata": {},
   "outputs": [],
   "source": [
    "DEVICE = torch.device(\"cpu\")"
   ]
  },
  {
   "cell_type": "code",
   "execution_count": 3,
   "metadata": {},
   "outputs": [],
   "source": [
    "from tomopt.volume.layer import Layer\n",
    "\n",
    "def get_volume(size: float = 0.2, lwh: Tensor = Tensor([1.0, 1.0, 1.4]), device: torch.device = torch.device(\"cpu\")) -> Volume:\n",
    "    def area_cost(x: Tensor) -> Tensor:\n",
    "        return F.relu(x)\n",
    "\n",
    "    layers: List[Layer] = []\n",
    "    n_panels = 4\n",
    "    layers.append(\n",
    "        PanelDetectorLayer(\n",
    "            pos=\"above\",\n",
    "            lw=lwh[:2],\n",
    "            z=lwh[2].item(),\n",
    "            size=size,\n",
    "            panels=[\n",
    "                DetectorPanel(\n",
    "                    res=1e3, eff=1, init_xyz=(0.5, 0.5, 1 - (i * (size) / n_panels)), init_xy_span=(1.0, 1.0), area_cost_func=area_cost, device=device\n",
    "                )\n",
    "                for i in range(n_panels)\n",
    "            ],\n",
    "        )\n",
    "    )\n",
    "    for z in np.round(np.arange(lwh[2] - size, size, -size), decimals=1):\n",
    "        layers.append(PassiveLayer(lw=lwh[:2], z=z, size=size, device=device))\n",
    "    layers.append(\n",
    "        PanelDetectorLayer(\n",
    "            pos=\"below\",\n",
    "            lw=lwh[:2],\n",
    "            z=size,\n",
    "            size=size,\n",
    "            panels=[\n",
    "                DetectorPanel(\n",
    "                    res=1e3, eff=1, init_xyz=(0.5, 0.5, 0.2 - (i * (size) / n_panels)), init_xy_span=(1.0, 1.0), area_cost_func=area_cost, device=device\n",
    "                )\n",
    "                for i in range(n_panels)\n",
    "            ],\n",
    "        )\n",
    "    )\n",
    "\n",
    "    return Volume(nn.ModuleList(layers))"
   ]
  },
  {
   "cell_type": "code",
   "execution_count": 4,
   "metadata": {},
   "outputs": [],
   "source": [
    "volume = get_volume(device=DEVICE)"
   ]
  },
  {
   "cell_type": "code",
   "execution_count": 5,
   "metadata": {},
   "outputs": [],
   "source": [
    "muons = MuonBatch(generate_batch(250), init_z=volume.h, device=DEVICE)"
   ]
  },
  {
   "cell_type": "code",
   "execution_count": 6,
   "metadata": {},
   "outputs": [],
   "source": [
    "gen = RandomBlockPassiveGenerator(\n",
    "        block_size=None, volume=volume, sort_x0=False, enforce_diff_mat=True, materials=[\"beryllium\", \"carbon\", \"silicon\", \"iron\", \"lead\"], block_size_max_half=False\n",
    "    )"
   ]
  },
  {
   "cell_type": "code",
   "execution_count": 7,
   "metadata": {},
   "outputs": [],
   "source": [
    "volume.load_rad_length(*gen.get_data())"
   ]
  },
  {
   "cell_type": "code",
   "execution_count": 8,
   "metadata": {},
   "outputs": [],
   "source": [
    "volume(muons)"
   ]
  },
  {
   "cell_type": "code",
   "execution_count": 9,
   "metadata": {},
   "outputs": [
    {
     "data": {
      "text/plain": [
       "tensor([0.1932])"
      ]
     },
     "execution_count": 9,
     "metadata": {},
     "output_type": "execute_result"
    }
   ],
   "source": [
    "volume.target"
   ]
  },
  {
   "cell_type": "code",
   "execution_count": 10,
   "metadata": {},
   "outputs": [],
   "source": [
    "sb = PanelScatterBatch(muons, volume)"
   ]
  },
  {
   "cell_type": "markdown",
   "metadata": {},
   "source": [
    "## GNN inferer"
   ]
  },
  {
   "cell_type": "code",
   "execution_count": 11,
   "metadata": {},
   "outputs": [],
   "source": [
    "model = torch.jit.load('../../mode_muon_tomo_inference/dev/exported_models/bm3_traced.pt')"
   ]
  },
  {
   "cell_type": "code",
   "execution_count": 12,
   "metadata": {},
   "outputs": [
    {
     "data": {
      "text/plain": [
       "torch.jit._script.RecursiveScriptModule"
      ]
     },
     "execution_count": 12,
     "metadata": {},
     "output_type": "execute_result"
    }
   ],
   "source": [
    "type(model)"
   ]
  },
  {
   "cell_type": "code",
   "execution_count": 13,
   "metadata": {},
   "outputs": [],
   "source": [
    "dvi = DeepVolumeInferer(model=model, base_inferer=PanelX0Inferer(volume), volume=volume)"
   ]
  },
  {
   "cell_type": "code",
   "execution_count": 14,
   "metadata": {},
   "outputs": [
    {
     "data": {
      "text/plain": [
       "([], [])"
      ]
     },
     "execution_count": 14,
     "metadata": {},
     "output_type": "execute_result"
    }
   ],
   "source": [
    "dvi.in_vars, dvi.in_var_uncs"
   ]
  },
  {
   "cell_type": "code",
   "execution_count": 15,
   "metadata": {},
   "outputs": [
    {
     "name": "stderr",
     "output_type": "stream",
     "text": [
      "/Users/giles/cernbox/mode_muon_tomography/tomopt/inference/scattering.py:246: UserWarning: torch.meshgrid: in an upcoming release, it will be required to pass the indexing argument. (Triggered internally at  ../aten/src/ATen/native/TensorShape.cpp:2157.)\n",
      "  idxs = torch.combinations(torch.arange(0, unc.shape[-1]), with_replacement=True)\n"
     ]
    }
   ],
   "source": [
    "dvi.add_scatters(sb)"
   ]
  },
  {
   "cell_type": "code",
   "execution_count": 16,
   "metadata": {},
   "outputs": [
    {
     "data": {
      "text/plain": [
       "(torch.Size([250, 8]), torch.Size([250, 8]))"
      ]
     },
     "execution_count": 16,
     "metadata": {},
     "output_type": "execute_result"
    }
   ],
   "source": [
    "dvi.in_vars[0].shape, dvi.in_var_uncs[0].shape"
   ]
  },
  {
   "cell_type": "code",
   "execution_count": 17,
   "metadata": {},
   "outputs": [
    {
     "name": "stdout",
     "output_type": "stream",
     "text": [
      "CPU times: user 3.95 s, sys: 366 ms, total: 4.31 s\n",
      "Wall time: 1.73 s\n"
     ]
    }
   ],
   "source": [
    "%%time\n",
    "p,w = dvi.get_prediction()"
   ]
  },
  {
   "cell_type": "code",
   "execution_count": 18,
   "metadata": {},
   "outputs": [
    {
     "data": {
      "text/plain": [
       "torch.Size([1, 5, 125])"
      ]
     },
     "execution_count": 18,
     "metadata": {},
     "output_type": "execute_result"
    }
   ],
   "source": [
    "torch.exp(p).shape"
   ]
  },
  {
   "cell_type": "code",
   "execution_count": 19,
   "metadata": {},
   "outputs": [
    {
     "data": {
      "text/plain": [
       "tensor([[[-4.7008e+00, -3.7238e+00, -3.4341e+00, -3.8832e+00, -5.0183e+00,\n",
       "          -3.5154e+00, -2.6191e+00, -2.3810e+00, -2.8031e+00, -3.9662e+00,\n",
       "          -3.1240e+00, -2.2921e+00, -2.1211e+00, -2.4859e+00, -3.6614e+00,\n",
       "          -3.4141e+00, -2.5772e+00, -2.4185e+00, -2.8268e+00, -3.9782e+00,\n",
       "          -4.3520e+00, -3.6131e+00, -3.4527e+00, -3.9681e+00, -5.0220e+00,\n",
       "          -3.4761e+00, -2.5160e+00, -2.2628e+00, -2.6511e+00, -3.8748e+00,\n",
       "          -2.3249e+00, -1.6921e+00, -1.5962e+00, -1.7765e+00, -2.6850e+00,\n",
       "          -2.0035e+00, -1.5444e+00, -1.4961e+00, -1.6205e+00, -2.3203e+00,\n",
       "          -2.1872e+00, -1.6336e+00, -1.5821e+00, -1.7683e+00, -2.6699e+00,\n",
       "          -3.0968e+00, -2.2752e+00, -2.1476e+00, -2.5820e+00, -3.8421e+00,\n",
       "          -3.1706e+00, -2.1835e+00, -1.9642e+00, -2.3174e+00, -3.5741e+00,\n",
       "          -2.0144e+00, -1.5281e+00, -1.4610e+00, -1.5887e+00, -2.2818e+00,\n",
       "          -1.7023e+00, -1.4328e+00, -1.4023e+00, -1.4987e+00, -1.9437e+00,\n",
       "          -1.8224e+00, -1.4730e+00, -1.4399e+00, -1.5359e+00, -2.1368e+00,\n",
       "          -2.6169e+00, -1.8296e+00, -1.7094e+00, -2.0149e+00, -3.2987e+00,\n",
       "          -3.8343e+00, -2.6059e+00, -2.3037e+00, -2.7886e+00, -4.2003e+00,\n",
       "          -2.4432e+00, -1.6423e+00, -1.5522e+00, -1.7564e+00, -2.8692e+00,\n",
       "          -1.9592e+00, -1.4885e+00, -1.4399e+00, -1.5622e+00, -2.3678e+00,\n",
       "          -2.1423e+00, -1.5042e+00, -1.4722e+00, -1.6288e+00, -2.6466e+00,\n",
       "          -3.4759e+00, -2.0962e+00, -1.9060e+00, -2.3849e+00, -4.1273e+00,\n",
       "          -6.0765e+00, -4.4859e+00, -3.9952e+00, -4.6401e+00, -6.5368e+00,\n",
       "          -4.3068e+00, -2.7684e+00, -2.3941e+00, -3.0126e+00, -4.6701e+00,\n",
       "          -3.6858e+00, -2.2277e+00, -1.9394e+00, -2.5094e+00, -4.2539e+00,\n",
       "          -4.2887e+00, -2.5943e+00, -2.2647e+00, -3.0304e+00, -4.9945e+00,\n",
       "          -6.2027e+00, -4.4690e+00, -4.0719e+00, -4.9383e+00, -6.6809e+00],\n",
       "         [-4.9476e+00, -3.7892e+00, -3.4450e+00, -3.9508e+00, -5.2954e+00,\n",
       "          -3.5478e+00, -2.4806e+00, -2.2223e+00, -2.6837e+00, -4.0433e+00,\n",
       "          -3.1130e+00, -2.1335e+00, -1.9314e+00, -2.3122e+00, -3.6634e+00,\n",
       "          -3.4646e+00, -2.4785e+00, -2.2505e+00, -2.6971e+00, -4.0684e+00,\n",
       "          -4.5921e+00, -3.6894e+00, -3.4578e+00, -4.0264e+00, -5.3021e+00,\n",
       "          -3.6197e+00, -2.3923e+00, -2.0648e+00, -2.5269e+00, -3.9589e+00,\n",
       "          -2.1880e+00, -1.3539e+00, -1.2362e+00, -1.4823e+00, -2.5866e+00,\n",
       "          -1.8025e+00, -1.1968e+00, -1.1277e+00, -1.3028e+00, -2.1757e+00,\n",
       "          -2.0950e+00, -1.3830e+00, -1.2802e+00, -1.5052e+00, -2.5704e+00,\n",
       "          -3.1976e+00, -2.1953e+00, -1.9944e+00, -2.4673e+00, -3.9768e+00,\n",
       "          -3.3879e+00, -1.9571e+00, -1.6632e+00, -2.1208e+00, -3.6396e+00,\n",
       "          -1.8053e+00, -1.0399e+00, -9.8528e-01, -1.1522e+00, -2.1194e+00,\n",
       "          -1.3950e+00, -9.5130e-01, -9.3391e-01, -1.0353e+00, -1.7259e+00,\n",
       "          -1.6256e+00, -1.0589e+00, -1.0068e+00, -1.1702e+00, -2.0261e+00,\n",
       "          -2.7459e+00, -1.6986e+00, -1.5069e+00, -1.9043e+00, -3.4974e+00,\n",
       "          -4.3739e+00, -2.7321e+00, -2.1915e+00, -2.8056e+00, -4.4759e+00,\n",
       "          -2.5021e+00, -1.2368e+00, -1.0591e+00, -1.3651e+00, -2.8629e+00,\n",
       "          -1.8832e+00, -9.8091e-01, -9.0208e-01, -1.0800e+00, -2.2614e+00,\n",
       "          -2.2185e+00, -1.1486e+00, -1.0124e+00, -1.2586e+00, -2.7021e+00,\n",
       "          -3.9323e+00, -2.1609e+00, -1.8066e+00, -2.4865e+00, -4.6200e+00,\n",
       "          -7.1724e+00, -5.2548e+00, -4.6049e+00, -5.3013e+00, -7.4160e+00,\n",
       "          -5.1037e+00, -3.1681e+00, -2.5917e+00, -3.2828e+00, -5.3165e+00,\n",
       "          -4.3129e+00, -2.4384e+00, -1.8940e+00, -2.6060e+00, -4.8259e+00,\n",
       "          -4.9852e+00, -3.0001e+00, -2.4179e+00, -3.3204e+00, -5.6229e+00,\n",
       "          -7.1842e+00, -5.1439e+00, -4.6633e+00, -5.6255e+00, -7.6651e+00],\n",
       "         [-4.2425e+00, -3.4919e+00, -3.2268e+00, -3.5578e+00, -4.5184e+00,\n",
       "          -3.3367e+00, -2.5177e+00, -2.3094e+00, -2.6212e+00, -3.5768e+00,\n",
       "          -2.9839e+00, -2.2235e+00, -2.0346e+00, -2.2892e+00, -3.2586e+00,\n",
       "          -3.2412e+00, -2.5118e+00, -2.2907e+00, -2.6010e+00, -3.6123e+00,\n",
       "          -4.0570e+00, -3.4612e+00, -3.2656e+00, -3.6121e+00, -4.5471e+00,\n",
       "          -3.5078e+00, -2.6273e+00, -2.3619e+00, -2.6809e+00, -3.7473e+00,\n",
       "          -2.4781e+00, -1.8066e+00, -1.6592e+00, -1.8514e+00, -2.6982e+00,\n",
       "          -2.1617e+00, -1.6319e+00, -1.5137e+00, -1.6334e+00, -2.3184e+00,\n",
       "          -2.3376e+00, -1.7307e+00, -1.6026e+00, -1.7568e+00, -2.5430e+00,\n",
       "          -3.1237e+00, -2.3761e+00, -2.1988e+00, -2.5620e+00, -3.6251e+00,\n",
       "          -3.5059e+00, -2.4591e+00, -2.2165e+00, -2.5341e+00, -3.6640e+00,\n",
       "          -2.3661e+00, -1.7647e+00, -1.6609e+00, -1.7634e+00, -2.5340e+00,\n",
       "          -2.0428e+00, -1.6202e+00, -1.5358e+00, -1.6030e+00, -2.1714e+00,\n",
       "          -2.1566e+00, -1.6718e+00, -1.5746e+00, -1.6759e+00, -2.3933e+00,\n",
       "          -2.9177e+00, -2.1207e+00, -1.9534e+00, -2.2747e+00, -3.4334e+00,\n",
       "          -4.3660e+00, -3.2279e+00, -2.7960e+00, -3.2129e+00, -4.4414e+00,\n",
       "          -3.0576e+00, -2.0777e+00, -1.9320e+00, -2.1286e+00, -3.2219e+00,\n",
       "          -2.5463e+00, -1.8661e+00, -1.7630e+00, -1.8943e+00, -2.7398e+00,\n",
       "          -2.7589e+00, -1.9510e+00, -1.8234e+00, -2.0051e+00, -3.0471e+00,\n",
       "          -3.9747e+00, -2.6529e+00, -2.3979e+00, -2.8948e+00, -4.4081e+00,\n",
       "          -6.0124e+00, -4.9582e+00, -4.5719e+00, -4.9944e+00, -6.2098e+00,\n",
       "          -4.8542e+00, -3.6619e+00, -3.2218e+00, -3.7061e+00, -5.0761e+00,\n",
       "          -4.4125e+00, -3.1629e+00, -2.7289e+00, -3.2313e+00, -4.7608e+00,\n",
       "          -4.8279e+00, -3.5102e+00, -3.0933e+00, -3.7251e+00, -5.2366e+00,\n",
       "          -6.0917e+00, -4.9120e+00, -4.6085e+00, -5.1582e+00, -6.3584e+00],\n",
       "         [-9.1629e-02, -1.8412e-01, -2.3697e-01, -1.9772e-01, -9.8315e-02,\n",
       "          -2.2048e-01, -4.4511e-01, -5.5755e-01, -4.2742e-01, -2.2668e-01,\n",
       "          -3.1911e-01, -6.2803e-01, -7.6060e-01, -6.1307e-01, -3.1874e-01,\n",
       "          -2.9603e-01, -5.6176e-01, -6.8134e-01, -5.7306e-01, -3.2819e-01,\n",
       "          -1.8259e-01, -3.3140e-01, -4.1773e-01, -3.4158e-01, -1.6328e-01,\n",
       "          -1.5573e-01, -3.8886e-01, -5.1879e-01, -3.7258e-01, -1.5914e-01,\n",
       "          -4.7577e-01, -1.1008e+00, -1.3261e+00, -1.0009e+00, -4.1372e-01,\n",
       "          -7.1320e-01, -1.4434e+00, -1.6677e+00, -1.3363e+00, -6.2082e-01,\n",
       "          -6.0392e-01, -1.2131e+00, -1.4194e+00, -1.1498e+00, -5.6554e-01,\n",
       "          -2.9466e-01, -6.3065e-01, -7.8386e-01, -6.2623e-01, -2.7564e-01,\n",
       "          -1.5585e-01, -5.0057e-01, -6.8146e-01, -4.5465e-01, -1.4927e-01,\n",
       "          -5.9626e-01, -1.4966e+00, -1.7291e+00, -1.3338e+00, -5.0301e-01,\n",
       "          -9.5269e-01, -1.8839e+00, -2.0815e+00, -1.6976e+00, -7.7187e-01,\n",
       "          -7.8989e-01, -1.6253e+00, -1.8571e+00, -1.4800e+00, -6.6449e-01,\n",
       "          -3.2472e-01, -8.2195e-01, -1.0361e+00, -7.6610e-01, -2.7930e-01,\n",
       "          -6.5566e-02, -2.3491e-01, -3.7353e-01, -2.2677e-01, -6.5266e-02,\n",
       "          -2.9057e-01, -1.0326e+00, -1.3258e+00, -8.9843e-01, -2.4034e-01,\n",
       "          -5.3481e-01, -1.5266e+00, -1.8189e+00, -1.3456e+00, -4.0820e-01,\n",
       "          -4.1558e-01, -1.2622e+00, -1.5546e+00, -1.1134e+00, -3.0522e-01,\n",
       "          -1.2042e-01, -4.6659e-01, -6.5581e-01, -3.8018e-01, -8.3766e-02,\n",
       "          -8.4076e-03, -3.0564e-02, -4.9715e-02, -2.9388e-02, -6.8573e-03,\n",
       "          -3.5590e-02, -1.5973e-01, -2.5742e-01, -1.4387e-01, -2.9945e-02,\n",
       "          -6.7745e-02, -3.0416e-01, -4.9044e-01, -2.5609e-01, -4.6072e-02,\n",
       "          -4.3548e-02, -1.9777e-01, -3.1401e-01, -1.5050e-01, -2.6192e-02,\n",
       "          -1.1654e-02, -3.9703e-02, -5.4988e-02, -2.7861e-02, -6.5136e-03],\n",
       "         [-2.8648e+00, -2.3973e+00, -2.2336e+00, -2.1975e+00, -2.6437e+00,\n",
       "          -2.2654e+00, -2.1035e+00, -2.0616e+00, -1.9231e+00, -1.9778e+00,\n",
       "          -2.0087e+00, -1.9759e+00, -1.9875e+00, -1.7448e+00, -1.6974e+00,\n",
       "          -1.8778e+00, -1.6670e+00, -1.6171e+00, -1.4465e+00, -1.5280e+00,\n",
       "          -2.0669e+00, -1.6158e+00, -1.4266e+00, -1.4889e+00, -2.0520e+00,\n",
       "          -2.8730e+00, -2.5550e+00, -2.5305e+00, -2.3853e+00, -2.4805e+00,\n",
       "          -2.4679e+00, -2.7998e+00, -2.9757e+00, -2.5374e+00, -2.0558e+00,\n",
       "          -2.3534e+00, -2.9426e+00, -3.1367e+00, -2.6264e+00, -1.8820e+00,\n",
       "          -2.1080e+00, -2.5318e+00, -2.6140e+00, -2.1362e+00, -1.5724e+00,\n",
       "          -2.0781e+00, -1.8280e+00, -1.7172e+00, -1.4792e+00, -1.7483e+00,\n",
       "          -3.2561e+00, -2.9117e+00, -2.8943e+00, -2.6952e+00, -2.8348e+00,\n",
       "          -2.8567e+00, -3.3680e+00, -3.6024e+00, -3.1022e+00, -2.3672e+00,\n",
       "          -2.9090e+00, -3.6788e+00, -3.8670e+00, -3.2950e+00, -2.2765e+00,\n",
       "          -2.6315e+00, -3.2400e+00, -3.3680e+00, -2.8193e+00, -1.9362e+00,\n",
       "          -2.4535e+00, -2.3324e+00, -2.2942e+00, -1.8965e+00, -1.9365e+00,\n",
       "          -4.1018e+00, -3.4802e+00, -3.2440e+00, -3.2020e+00, -3.6876e+00,\n",
       "          -3.3141e+00, -3.3558e+00, -3.4735e+00, -3.0843e+00, -2.8148e+00,\n",
       "          -3.1517e+00, -3.6005e+00, -3.7476e+00, -3.2211e+00, -2.6216e+00,\n",
       "          -2.9853e+00, -3.3362e+00, -3.3681e+00, -2.8699e+00, -2.5564e+00,\n",
       "          -3.1205e+00, -2.7447e+00, -2.5614e+00, -2.4575e+00, -3.1654e+00,\n",
       "          -5.8569e+00, -5.0227e+00, -4.6301e+00, -4.8872e+00, -5.8876e+00,\n",
       "          -4.8771e+00, -4.0689e+00, -3.8669e+00, -3.7835e+00, -4.7132e+00,\n",
       "          -4.2060e+00, -3.6938e+00, -3.5724e+00, -3.4650e+00, -4.2517e+00,\n",
       "          -4.2651e+00, -3.6863e+00, -3.4684e+00, -3.4680e+00, -4.5908e+00,\n",
       "          -5.0295e+00, -4.2493e+00, -4.0712e+00, -4.5141e+00, -5.7970e+00]]],\n",
       "       grad_fn=<LogSoftmaxBackward0>)"
      ]
     },
     "execution_count": 19,
     "metadata": {},
     "output_type": "execute_result"
    }
   ],
   "source": [
    "p"
   ]
  },
  {
   "cell_type": "code",
   "execution_count": 20,
   "metadata": {},
   "outputs": [
    {
     "name": "stdout",
     "output_type": "stream",
     "text": [
      "CPU times: user 2 µs, sys: 0 ns, total: 2 µs\n",
      "Wall time: 4.05 µs\n"
     ]
    }
   ],
   "source": [
    "%%time\n",
    "# jacobian(p, dvi.in_var)  # crashes"
   ]
  },
  {
   "cell_type": "markdown",
   "metadata": {},
   "source": [
    "## Loss"
   ]
  },
  {
   "cell_type": "code",
   "execution_count": 21,
   "metadata": {},
   "outputs": [
    {
     "data": {
      "text/plain": [
       "{0.3528: 0, 0.1932: 1, 0.0937: 2, 0.01757: 3, 0.005612: 4}"
      ]
     },
     "execution_count": 21,
     "metadata": {},
     "output_type": "execute_result"
    }
   ],
   "source": [
    "x02id = {X0[m]: i for i, m in enumerate(gen.materials)}; x02id"
   ]
  },
  {
   "cell_type": "code",
   "execution_count": 22,
   "metadata": {},
   "outputs": [],
   "source": [
    "loss = VoxelClassLoss(x02id=x02id, target_budget=None)"
   ]
  },
  {
   "cell_type": "code",
   "execution_count": 23,
   "metadata": {},
   "outputs": [
    {
     "name": "stdout",
     "output_type": "stream",
     "text": [
      "Automatically setting cost coefficient to 2.881141424179077\n"
     ]
    },
    {
     "data": {
      "text/plain": [
       "tensor([2.8811], grad_fn=<AddBackward0>)"
      ]
     },
     "execution_count": 23,
     "metadata": {},
     "output_type": "execute_result"
    }
   ],
   "source": [
    "l = loss(p, 1, volume); l"
   ]
  },
  {
   "cell_type": "code",
   "execution_count": 24,
   "metadata": {},
   "outputs": [
    {
     "data": {
      "text/plain": [
       "tensor([[-0.4067,  0.4760]])"
      ]
     },
     "execution_count": 24,
     "metadata": {},
     "output_type": "execute_result"
    }
   ],
   "source": [
    "jacobian(l, volume.get_detectors()[0].panels[0].xy)"
   ]
  },
  {
   "cell_type": "code",
   "execution_count": 25,
   "metadata": {},
   "outputs": [
    {
     "data": {
      "text/plain": [
       "tensor([[0.2770, 0.1405]])"
      ]
     },
     "execution_count": 25,
     "metadata": {},
     "output_type": "execute_result"
    }
   ],
   "source": [
    "jacobian(l, volume.get_detectors()[0].panels[0].xy_span)"
   ]
  },
  {
   "cell_type": "code",
   "execution_count": 26,
   "metadata": {},
   "outputs": [
    {
     "data": {
      "text/plain": [
       "tensor([[-163.6602]])"
      ]
     },
     "execution_count": 26,
     "metadata": {},
     "output_type": "execute_result"
    }
   ],
   "source": [
    "jacobian(l, volume.get_detectors()[0].panels[0].z)"
   ]
  },
  {
   "cell_type": "markdown",
   "metadata": {},
   "source": [
    "## Plotting"
   ]
  },
  {
   "cell_type": "code",
   "execution_count": 27,
   "metadata": {},
   "outputs": [],
   "source": [
    "class_preds = p.argmax(1).detach().cpu().numpy()"
   ]
  },
  {
   "cell_type": "code",
   "execution_count": 28,
   "metadata": {},
   "outputs": [],
   "source": [
    "true = volume.get_rad_cube().flatten().reshape((5,5,5))"
   ]
  },
  {
   "cell_type": "code",
   "execution_count": 29,
   "metadata": {},
   "outputs": [],
   "source": [
    "class_preds = class_preds.reshape(true.shape)"
   ]
  },
  {
   "cell_type": "code",
   "execution_count": 30,
   "metadata": {},
   "outputs": [
    {
     "data": {
      "text/plain": [
       "{0: 0.3528, 1: 0.1932, 2: 0.0937, 3: 0.01757, 4: 0.005612}"
      ]
     },
     "execution_count": 30,
     "metadata": {},
     "output_type": "execute_result"
    }
   ],
   "source": [
    "id2x0 = {v:k for k,v in x02id.items()}; id2x0"
   ]
  },
  {
   "cell_type": "code",
   "execution_count": 31,
   "metadata": {},
   "outputs": [],
   "source": [
    "def class_to_x0preds(array: np.ndarray, id2x0: Dict[int, float]) -> np.ndarray:\n",
    "    x0array = np.zeros_like(array, dtype='float32')\n",
    "    for i in np.unique(array):\n",
    "        x0array[array == i] = id2x0[i]\n",
    "    return x0array"
   ]
  },
  {
   "cell_type": "code",
   "execution_count": 32,
   "metadata": {},
   "outputs": [],
   "source": [
    "x0_preds = class_to_x0preds(class_preds, id2x0)"
   ]
  },
  {
   "cell_type": "code",
   "execution_count": 33,
   "metadata": {
    "scrolled": false
   },
   "outputs": [
    {
     "data": {
      "image/png": "[encoded data removed]",
      "text/plain": [
       "<Figure size 576x1024 with 12 Axes>"
      ]
     },
     "metadata": {},
     "output_type": "display_data"
    }
   ],
   "source": [
    "plot_pred_true_x0(x0_preds, true)"
   ]
  },
  {
   "cell_type": "code",
   "execution_count": 34,
   "metadata": {},
   "outputs": [],
   "source": [
    "def x0targs_to_classtargs(array: np.ndarray, x02id: Dict[float, int]) -> np.ndarray:\n",
    "    x0array = np.zeros_like(array)\n",
    "    for i in np.unique(array):\n",
    "        x0array[array == i] = x02id[min(x02id, key=lambda x:abs(x-i))]\n",
    "    return x0array"
   ]
  },
  {
   "cell_type": "code",
   "execution_count": 35,
   "metadata": {},
   "outputs": [
    {
     "data": {
      "text/plain": [
       "{0.3528: 0, 0.1932: 1, 0.0937: 2, 0.01757: 3, 0.005612: 4}"
      ]
     },
     "execution_count": 35,
     "metadata": {},
     "output_type": "execute_result"
    }
   ],
   "source": [
    "x02id"
   ]
  },
  {
   "cell_type": "code",
   "execution_count": 36,
   "metadata": {},
   "outputs": [],
   "source": [
    "class_targs = x0targs_to_classtargs(true, x02id)"
   ]
  },
  {
   "cell_type": "code",
   "execution_count": 37,
   "metadata": {},
   "outputs": [
    {
     "data": {
      "text/plain": [
       "array([[[2., 2., 2., 2., 2.],\n",
       "        [2., 2., 2., 2., 2.],\n",
       "        [2., 2., 2., 2., 2.],\n",
       "        [2., 2., 2., 2., 2.],\n",
       "        [2., 2., 2., 2., 2.]],\n",
       "\n",
       "       [[2., 2., 2., 2., 2.],\n",
       "        [2., 2., 2., 2., 2.],\n",
       "        [2., 2., 2., 2., 2.],\n",
       "        [2., 2., 2., 2., 2.],\n",
       "        [2., 2., 2., 2., 2.]],\n",
       "\n",
       "       [[2., 2., 2., 2., 2.],\n",
       "        [2., 1., 1., 1., 2.],\n",
       "        [2., 1., 1., 1., 2.],\n",
       "        [2., 1., 1., 1., 2.],\n",
       "        [2., 1., 1., 1., 2.]],\n",
       "\n",
       "       [[2., 2., 2., 2., 2.],\n",
       "        [2., 1., 1., 1., 2.],\n",
       "        [2., 1., 1., 1., 2.],\n",
       "        [2., 1., 1., 1., 2.],\n",
       "        [2., 1., 1., 1., 2.]],\n",
       "\n",
       "       [[2., 2., 2., 2., 2.],\n",
       "        [2., 2., 2., 2., 2.],\n",
       "        [2., 2., 2., 2., 2.],\n",
       "        [2., 2., 2., 2., 2.],\n",
       "        [2., 2., 2., 2., 2.]]], dtype=float32)"
      ]
     },
     "execution_count": 37,
     "metadata": {},
     "output_type": "execute_result"
    }
   ],
   "source": [
    "class_targs"
   ]
  },
  {
   "cell_type": "code",
   "execution_count": 38,
   "metadata": {},
   "outputs": [
    {
     "data": {
      "image/png": "[encoded data removed]",
      "text/plain": [
       "<Figure size 576x1024 with 12 Axes>"
      ]
     },
     "metadata": {},
     "output_type": "display_data"
    }
   ],
   "source": [
    "plot_pred_true_x0(class_preds, class_targs)"
   ]
  },
  {
   "cell_type": "code",
   "execution_count": null,
   "metadata": {},
   "outputs": [],
   "source": []
  }
 ],
 "metadata": {
  "kernelspec": {
   "display_name": "Python [conda env:tomopt]",
   "language": "python",
   "name": "conda-env-tomopt-py"
  },
  "language_info": {
   "codemirror_mode": {
    "name": "ipython",
    "version": 3
   },
   "file_extension": ".py",
   "mimetype": "text/x-python",
   "name": "python",
   "nbconvert_exporter": "python",
   "pygments_lexer": "ipython3",
   "version": "3.8.0"
  },
  "toc": {
   "base_numbering": 1,
   "nav_menu": {},
   "number_sections": true,
   "sideBar": true,
   "skip_h1_title": false,
   "title_cell": "Table of Contents",
   "title_sidebar": "Contents",
   "toc_cell": false,
   "toc_position": {},
   "toc_section_display": true,
   "toc_window_display": false
  }
 },
 "nbformat": 4,
 "nbformat_minor": 4
}
