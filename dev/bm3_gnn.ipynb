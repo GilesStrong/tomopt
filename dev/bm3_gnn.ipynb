{
 "cells": [
  {
   "cell_type": "markdown",
   "metadata": {},
   "source": [
    "# BM3 GNN Pred"
   ]
  },
  {
   "cell_type": "code",
   "execution_count": 1,
   "metadata": {},
   "outputs": [],
   "source": [
    "from typing import *\n",
    "import numpy as np\n",
    "from functools import partial\n",
    "\n",
    "import torch\n",
    "from torch import Tensor, nn\n",
    "import torch.nn.functional as F\n",
    "\n",
    "from tomopt.volume import *\n",
    "from tomopt.muon import *\n",
    "from tomopt.inference import *\n",
    "from tomopt.optimisation import *\n",
    "from tomopt.core import *\n",
    "from tomopt.utils import *"
   ]
  },
  {
   "cell_type": "code",
   "execution_count": 2,
   "metadata": {},
   "outputs": [],
   "source": [
    "DEVICE = torch.device(\"cpu\")"
   ]
  },
  {
   "cell_type": "code",
   "execution_count": 3,
   "metadata": {},
   "outputs": [],
   "source": [
    "from tomopt.volume.layer import Layer\n",
    "\n",
    "def get_volume(size: float = 0.2, lwh: Tensor = Tensor([1.0, 1.0, 1.4]), device: torch.device = torch.device(\"cpu\")) -> Volume:\n",
    "    def area_cost(x: Tensor) -> Tensor:\n",
    "        return F.relu(x)\n",
    "\n",
    "    layers: List[Layer] = []\n",
    "    n_panels = 4\n",
    "    layers.append(\n",
    "        PanelDetectorLayer(\n",
    "            pos=\"above\",\n",
    "            lw=lwh[:2],\n",
    "            z=lwh[2].item(),\n",
    "            size=size,\n",
    "            panels=[\n",
    "                DetectorPanel(\n",
    "                    res=1e3, eff=1, init_xyz=(0.5, 0.5, 1 - (i * (size) / n_panels)), init_xy_span=(1.0, 1.0), area_cost_func=area_cost, device=device\n",
    "                )\n",
    "                for i in range(n_panels)\n",
    "            ],\n",
    "        )\n",
    "    )\n",
    "    for z in np.round(np.arange(lwh[2] - size, size, -size), decimals=1):\n",
    "        layers.append(PassiveLayer(lw=lwh[:2], z=z, size=size, device=device))\n",
    "    layers.append(\n",
    "        PanelDetectorLayer(\n",
    "            pos=\"below\",\n",
    "            lw=lwh[:2],\n",
    "            z=size,\n",
    "            size=size,\n",
    "            panels=[\n",
    "                DetectorPanel(\n",
    "                    res=1e3, eff=1, init_xyz=(0.5, 0.5, 0.2 - (i * (size) / n_panels)), init_xy_span=(1.0, 1.0), area_cost_func=area_cost, device=device\n",
    "                )\n",
    "                for i in range(n_panels)\n",
    "            ],\n",
    "        )\n",
    "    )\n",
    "\n",
    "    return Volume(nn.ModuleList(layers))"
   ]
  },
  {
   "cell_type": "code",
   "execution_count": 4,
   "metadata": {},
   "outputs": [],
   "source": [
    "volume = get_volume(device=DEVICE)"
   ]
  },
  {
   "cell_type": "code",
   "execution_count": 5,
   "metadata": {},
   "outputs": [],
   "source": [
    "muons = MuonBatch(generate_batch(250), init_z=volume.h, device=DEVICE)"
   ]
  },
  {
   "cell_type": "code",
   "execution_count": 6,
   "metadata": {},
   "outputs": [],
   "source": [
    "gen = RandomBlockPassiveGenerator(\n",
    "        block_size=None, volume=volume, sort_x0=False, enforce_diff_mat=True, materials=[\"beryllium\", \"carbon\", \"silicon\", \"iron\", \"lead\"], block_size_max_half=False\n",
    "    )"
   ]
  },
  {
   "cell_type": "code",
   "execution_count": 7,
   "metadata": {},
   "outputs": [],
   "source": [
    "volume.load_rad_length(*gen.get_data())"
   ]
  },
  {
   "cell_type": "code",
   "execution_count": 8,
   "metadata": {},
   "outputs": [],
   "source": [
    "volume(muons)"
   ]
  },
  {
   "cell_type": "code",
   "execution_count": 9,
   "metadata": {},
   "outputs": [
    {
     "data": {
      "text/plain": [
       "tensor([0.0056])"
      ]
     },
     "execution_count": 9,
     "metadata": {},
     "output_type": "execute_result"
    }
   ],
   "source": [
    "volume.target"
   ]
  },
  {
   "cell_type": "code",
   "execution_count": 10,
   "metadata": {},
   "outputs": [],
   "source": [
    "sb = PanelScatterBatch(muons, volume)"
   ]
  },
  {
   "cell_type": "markdown",
   "metadata": {},
   "source": [
    "## GNN inferer"
   ]
  },
  {
   "cell_type": "code",
   "execution_count": 11,
   "metadata": {},
   "outputs": [],
   "source": [
    "model = torch.jit.load('../../mode_muon_tomo_inference/dev/exported_models/bm3_traced.pt')"
   ]
  },
  {
   "cell_type": "code",
   "execution_count": 12,
   "metadata": {},
   "outputs": [
    {
     "data": {
      "text/plain": [
       "torch.jit._script.RecursiveScriptModule"
      ]
     },
     "execution_count": 12,
     "metadata": {},
     "output_type": "execute_result"
    }
   ],
   "source": [
    "type(model)"
   ]
  },
  {
   "cell_type": "code",
   "execution_count": 13,
   "metadata": {},
   "outputs": [],
   "source": [
    "dvi = DeepVolumeInferer(model=model, base_inferer=PanelX0Inferer(volume), volume=volume)"
   ]
  },
  {
   "cell_type": "code",
   "execution_count": 14,
   "metadata": {},
   "outputs": [
    {
     "data": {
      "text/plain": [
       "([], [])"
      ]
     },
     "execution_count": 14,
     "metadata": {},
     "output_type": "execute_result"
    }
   ],
   "source": [
    "dvi.in_vars, dvi.in_var_uncs"
   ]
  },
  {
   "cell_type": "code",
   "execution_count": 15,
   "metadata": {},
   "outputs": [
    {
     "name": "stderr",
     "output_type": "stream",
     "text": [
      "/Users/giles/cernbox/mode_muon_tomography/tomopt/inference/scattering.py:246: UserWarning: torch.meshgrid: in an upcoming release, it will be required to pass the indexing argument. (Triggered internally at  ../aten/src/ATen/native/TensorShape.cpp:2157.)\n",
      "  idxs = torch.combinations(torch.arange(0, unc.shape[-1]), with_replacement=True)\n"
     ]
    }
   ],
   "source": [
    "dvi.add_scatters(sb)"
   ]
  },
  {
   "cell_type": "code",
   "execution_count": 16,
   "metadata": {},
   "outputs": [
    {
     "data": {
      "text/plain": [
       "(torch.Size([250, 8]), torch.Size([250, 8]))"
      ]
     },
     "execution_count": 16,
     "metadata": {},
     "output_type": "execute_result"
    }
   ],
   "source": [
    "dvi.in_vars[0].shape, dvi.in_var_uncs[0].shape"
   ]
  },
  {
   "cell_type": "code",
   "execution_count": 17,
   "metadata": {},
   "outputs": [
    {
     "name": "stdout",
     "output_type": "stream",
     "text": [
      "CPU times: user 3.65 s, sys: 307 ms, total: 3.96 s\n",
      "Wall time: 1.52 s\n"
     ]
    }
   ],
   "source": [
    "%%time\n",
    "p,w = dvi.get_prediction()"
   ]
  },
  {
   "cell_type": "code",
   "execution_count": 18,
   "metadata": {},
   "outputs": [
    {
     "data": {
      "text/plain": [
       "torch.Size([1, 5, 125])"
      ]
     },
     "execution_count": 18,
     "metadata": {},
     "output_type": "execute_result"
    }
   ],
   "source": [
    "torch.exp(p).shape"
   ]
  },
  {
   "cell_type": "code",
   "execution_count": 19,
   "metadata": {},
   "outputs": [
    {
     "data": {
      "text/plain": [
       "tensor([[[-5.9334, -5.2389, -4.9669, -5.2601, -5.9614, -5.1603, -4.2639,\n",
       "          -3.9750, -4.2559, -5.1431, -4.8196, -3.9492, -3.6674, -4.0147,\n",
       "          -4.8703, -5.1372, -4.3484, -4.0858, -4.4049, -5.1515, -5.8525,\n",
       "          -5.3695, -5.0904, -5.3317, -5.7418, -4.7668, -3.8202, -3.4970,\n",
       "          -3.8370, -4.8650, -3.7280, -2.7794, -2.5027, -2.8293, -3.7898,\n",
       "          -3.4185, -2.4889, -2.2501, -2.5520, -3.4895, -3.7135, -2.8166,\n",
       "          -2.5475, -2.8892, -3.8609, -4.6608, -3.8556, -3.5590, -3.8882,\n",
       "          -4.8094, -4.1684, -3.1392, -2.8092, -3.1621, -4.2987, -3.0351,\n",
       "          -2.1529, -1.9421, -2.1903, -3.0990, -2.7062, -1.9377, -1.7589,\n",
       "          -1.9830, -2.7976, -2.9534, -2.1705, -1.9696, -2.2111, -3.1589,\n",
       "          -3.8886, -2.9935, -2.7427, -3.1113, -4.1781, -4.4804, -3.3793,\n",
       "          -2.9945, -3.3840, -4.6269, -3.2293, -2.2146, -1.9553, -2.2281,\n",
       "          -3.3129, -2.7035, -1.9336, -1.7279, -1.9526, -2.9055, -2.9598,\n",
       "          -2.0890, -1.9312, -2.1880, -3.2784, -4.1762, -3.0114, -2.7110,\n",
       "          -3.1869, -4.4887, -5.4773, -4.6925, -4.4682, -4.7783, -5.4332,\n",
       "          -4.5605, -3.4995, -3.1619, -3.6141, -4.5448, -4.1215, -2.9153,\n",
       "          -2.5735, -3.0462, -4.2154, -4.4856, -3.2348, -2.8369, -3.3772,\n",
       "          -4.5431, -5.5682, -4.5322, -4.2084, -4.6077, -5.3610],\n",
       "         [-5.3364, -4.5296, -4.2248, -4.5184, -5.3694, -4.4685, -3.5272,\n",
       "          -3.2196, -3.4968, -4.4643, -4.1188, -3.2213, -2.9360, -3.2515,\n",
       "          -4.1769, -4.5031, -3.6206, -3.3415, -3.6508, -4.5544, -5.4129,\n",
       "          -4.6770, -4.3894, -4.7040, -5.4250, -4.1317, -3.2254, -2.8791,\n",
       "          -3.1927, -4.2551, -3.1599, -2.2653, -2.0139, -2.2501, -3.1650,\n",
       "          -2.8263, -1.9956, -1.7962, -2.0168, -2.8689, -3.1084, -2.2652,\n",
       "          -2.0370, -2.3040, -3.2414, -4.1109, -3.2373, -2.9329, -3.2577,\n",
       "          -4.3009, -3.5764, -2.6388, -2.3463, -2.6519, -3.7249, -2.5493,\n",
       "          -1.8022, -1.6343, -1.8107, -2.6123, -2.2144, -1.6042, -1.4845,\n",
       "          -1.6159, -2.3306, -2.4605, -1.7333, -1.6041, -1.7670, -2.6518,\n",
       "          -3.4575, -2.4716, -2.2322, -2.5970, -3.7456, -4.0185, -2.8579,\n",
       "          -2.5305, -2.8666, -4.0828, -2.7798, -1.8916, -1.7113, -1.9163,\n",
       "          -2.8678, -2.3289, -1.6443, -1.5258, -1.6606, -2.4914, -2.6800,\n",
       "          -1.7256, -1.6085, -1.8215, -2.8800, -4.0765, -2.6547, -2.2961,\n",
       "          -2.7368, -4.2456, -5.6769, -4.4367, -4.0475, -4.3839, -5.5163,\n",
       "          -4.4582, -3.1147, -2.7125, -3.1523, -4.3211, -4.1059, -2.6861,\n",
       "          -2.2308, -2.6213, -3.9845, -4.6330, -3.1650, -2.6335, -3.0967,\n",
       "          -4.6231, -6.1246, -4.6602, -4.1874, -4.7590, -6.1781],\n",
       "         [-4.6559, -4.1191, -3.9118, -4.1326, -4.7610, -4.1628, -3.4741,\n",
       "          -3.2494, -3.4805, -4.2380, -3.9999, -3.3142, -3.1145, -3.4148,\n",
       "          -4.1326, -4.3696, -3.7585, -3.5694, -3.8277, -4.4988, -5.0732,\n",
       "          -4.6676, -4.4970, -4.7478, -5.1302, -3.7678, -3.0983, -2.8551,\n",
       "          -3.1210, -3.9500, -3.0785, -2.3678, -2.1632, -2.3978, -3.1697,\n",
       "          -2.8832, -2.1893, -2.0113, -2.2642, -3.0070, -3.2090, -2.5125,\n",
       "          -2.3273, -2.6135, -3.4213, -4.0689, -3.4599, -3.2228, -3.5341,\n",
       "          -4.3095, -3.2713, -2.5521, -2.3408, -2.6188, -3.4279, -2.5058,\n",
       "          -1.8967, -1.7918, -1.9788, -2.6616, -2.3369, -1.7517, -1.6514,\n",
       "          -1.8531, -2.5026, -2.6486, -1.9459, -1.8194, -2.0506, -2.8480,\n",
       "          -3.4897, -2.7283, -2.5455, -2.8957, -3.7869, -3.5218, -2.6970,\n",
       "          -2.4440, -2.7269, -3.6470, -2.7143, -1.9766, -1.8432, -2.0499,\n",
       "          -2.8235, -2.4513, -1.8019, -1.6882, -1.9010, -2.6177, -2.7615,\n",
       "          -1.9901, -1.8350, -2.0708, -2.9895, -3.8120, -2.8167, -2.5766,\n",
       "          -2.9320, -4.0722, -4.4971, -3.6964, -3.4739, -3.7307, -4.3974,\n",
       "          -3.8072, -2.9365, -2.7027, -3.0731, -3.8526, -3.6410, -2.6852,\n",
       "          -2.4232, -2.7610, -3.7461, -3.9894, -3.0709, -2.7446, -3.1172,\n",
       "          -4.1818, -5.0025, -4.0872, -3.8343, -4.2650, -5.1222],\n",
       "         [-0.7357, -0.9804, -1.1115, -1.1122, -0.9286, -0.9500, -1.1508,\n",
       "          -1.2730, -1.2727, -1.1395, -1.0260, -1.2656, -1.3964, -1.4284,\n",
       "          -1.1936, -1.0315, -1.3122, -1.4487, -1.4321, -1.1063, -0.8613,\n",
       "          -1.1903, -1.2963, -1.1856, -0.7933, -0.7426, -0.9474, -1.0347,\n",
       "          -1.0393, -0.9074, -0.8976, -1.1481, -1.2957, -1.3001, -1.1680,\n",
       "          -0.9906, -1.2695, -1.4143, -1.4358, -1.2965, -0.9539, -1.2515,\n",
       "          -1.4056, -1.4240, -1.2356, -0.7712, -1.0936, -1.2219, -1.2204,\n",
       "          -0.9394, -0.5598, -0.7784, -0.9203, -0.8839, -0.6972, -0.7256,\n",
       "          -1.1259, -1.3213, -1.2610, -0.9866, -0.8807, -1.3223, -1.4917,\n",
       "          -1.4232, -1.1613, -0.7645, -1.2002, -1.3829, -1.3315, -1.0830,\n",
       "          -0.5120, -0.8105, -1.0003, -0.9803, -0.7518, -0.3393, -0.4957,\n",
       "          -0.5872, -0.5077, -0.3958, -0.4779, -0.8465, -1.0511, -0.9143,\n",
       "          -0.5460, -0.5421, -1.0666, -1.2628, -1.1189, -0.6795, -0.4086,\n",
       "          -0.8834, -1.1023, -0.9825, -0.5963, -0.2529, -0.4286, -0.5928,\n",
       "          -0.5422, -0.3956, -0.2386, -0.2629, -0.2874, -0.2738, -0.2428,\n",
       "          -0.2433, -0.3069, -0.3850, -0.3402, -0.2686, -0.2155, -0.3423,\n",
       "          -0.4856, -0.3892, -0.2663, -0.1853, -0.2509, -0.3481, -0.2955,\n",
       "          -0.2069, -0.1703, -0.1766, -0.1845, -0.1829, -0.1755],\n",
       "         [-0.6854, -0.5234, -0.4631, -0.4478, -0.5292, -0.5439, -0.4957,\n",
       "          -0.4740, -0.4390, -0.4335, -0.5126, -0.4742, -0.4629, -0.3995,\n",
       "          -0.4188, -0.4879, -0.4038, -0.3787, -0.3549, -0.4435, -0.5730,\n",
       "          -0.3967, -0.3613, -0.3977, -0.6271, -0.7414, -0.6823, -0.6919,\n",
       "          -0.6170, -0.5883, -0.7341, -0.8599, -0.9263, -0.7505, -0.5410,\n",
       "          -0.7325, -0.9465, -1.0448, -0.8048, -0.5280, -0.6826, -0.7566,\n",
       "          -0.8018, -0.6340, -0.4837, -0.7040, -0.5567, -0.5382, -0.4833,\n",
       "          -0.5551, -1.0577, -1.0550, -1.0516, -0.9136, -0.8396, -1.1772,\n",
       "          -1.4086, -1.4781, -1.1941, -0.8236, -1.1620, -1.5375, -1.6908,\n",
       "          -1.3245, -0.8055, -1.1205, -1.3273, -1.4006, -1.1183, -0.7124,\n",
       "          -1.1451, -1.0343, -0.9621, -0.7973, -0.7617, -1.4747, -1.4612,\n",
       "          -1.4801, -1.4192, -1.2941, -1.5509, -1.7571, -1.7720, -1.5345,\n",
       "          -1.3164, -1.7842, -1.8768, -1.9864, -1.6502, -1.2635, -1.8850,\n",
       "          -1.9100, -1.8133, -1.4890, -1.1874, -1.7775, -1.7764, -1.5893,\n",
       "          -1.3503, -1.2584, -1.6422, -1.6852, -1.6615, -1.6364, -1.6354,\n",
       "          -1.7618, -1.9907, -1.9393, -1.7580, -1.6585, -2.0032, -2.3092,\n",
       "          -2.1863, -1.9740, -1.7327, -2.0432, -2.3651, -2.3100, -2.0230,\n",
       "          -1.8896, -1.9387, -2.0807, -2.1474, -2.0060, -1.9092]]],\n",
       "       grad_fn=<LogSoftmaxBackward0>)"
      ]
     },
     "execution_count": 19,
     "metadata": {},
     "output_type": "execute_result"
    }
   ],
   "source": [
    "p"
   ]
  },
  {
   "cell_type": "code",
   "execution_count": 20,
   "metadata": {},
   "outputs": [
    {
     "name": "stdout",
     "output_type": "stream",
     "text": [
      "CPU times: user 3 µs, sys: 1e+03 ns, total: 4 µs\n",
      "Wall time: 5.01 µs\n"
     ]
    }
   ],
   "source": [
    "%%time\n",
    "# jacobian(p, dvi.in_var)  # crashes"
   ]
  },
  {
   "cell_type": "markdown",
   "metadata": {},
   "source": [
    "## Loss"
   ]
  },
  {
   "cell_type": "code",
   "execution_count": 21,
   "metadata": {},
   "outputs": [
    {
     "data": {
      "text/plain": [
       "{0.3528: 0, 0.1932: 1, 0.0937: 2, 0.01757: 3, 0.005612: 4}"
      ]
     },
     "execution_count": 21,
     "metadata": {},
     "output_type": "execute_result"
    }
   ],
   "source": [
    "x02id = {X0[m]: i for i, m in enumerate(gen.materials)}; x02id"
   ]
  },
  {
   "cell_type": "code",
   "execution_count": 22,
   "metadata": {},
   "outputs": [],
   "source": [
    "loss = VoxelClassLoss(x02id=x02id, target_budget=None)"
   ]
  },
  {
   "cell_type": "code",
   "execution_count": 23,
   "metadata": {},
   "outputs": [
    {
     "name": "stdout",
     "output_type": "stream",
     "text": [
      "Automatically setting cost coefficient to 0.7592974305152893\n"
     ]
    },
    {
     "data": {
      "text/plain": [
       "tensor([0.7593], grad_fn=<AddBackward0>)"
      ]
     },
     "execution_count": 23,
     "metadata": {},
     "output_type": "execute_result"
    }
   ],
   "source": [
    "l = loss(p, 1, volume); l"
   ]
  },
  {
   "cell_type": "code",
   "execution_count": 24,
   "metadata": {},
   "outputs": [
    {
     "data": {
      "text/plain": [
       "tensor([[0.0550, 0.0775]])"
      ]
     },
     "execution_count": 24,
     "metadata": {},
     "output_type": "execute_result"
    }
   ],
   "source": [
    "jacobian(l, volume.get_detectors()[0].panels[0].xy)"
   ]
  },
  {
   "cell_type": "code",
   "execution_count": 25,
   "metadata": {},
   "outputs": [
    {
     "data": {
      "text/plain": [
       "tensor([[-0.0265,  0.1094]])"
      ]
     },
     "execution_count": 25,
     "metadata": {},
     "output_type": "execute_result"
    }
   ],
   "source": [
    "jacobian(l, volume.get_detectors()[0].panels[0].xy_span)"
   ]
  },
  {
   "cell_type": "code",
   "execution_count": 26,
   "metadata": {},
   "outputs": [
    {
     "data": {
      "text/plain": [
       "tensor([[-13.3966]])"
      ]
     },
     "execution_count": 26,
     "metadata": {},
     "output_type": "execute_result"
    }
   ],
   "source": [
    "jacobian(l, volume.get_detectors()[0].panels[0].z)"
   ]
  }
 ],
 "metadata": {
  "kernelspec": {
   "display_name": "Python [conda env:tomopt]",
   "language": "python",
   "name": "conda-env-tomopt-py"
  },
  "language_info": {
   "codemirror_mode": {
    "name": "ipython",
    "version": 3
   },
   "file_extension": ".py",
   "mimetype": "text/x-python",
   "name": "python",
   "nbconvert_exporter": "python",
   "pygments_lexer": "ipython3",
   "version": "3.8.0"
  },
  "toc": {
   "base_numbering": 1,
   "nav_menu": {},
   "number_sections": true,
   "sideBar": true,
   "skip_h1_title": false,
   "title_cell": "Table of Contents",
   "title_sidebar": "Contents",
   "toc_cell": false,
   "toc_position": {},
   "toc_section_display": true,
   "toc_window_display": false
  }
 },
 "nbformat": 4,
 "nbformat_minor": 4
}
