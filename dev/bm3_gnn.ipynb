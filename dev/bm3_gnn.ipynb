{
 "cells": [
  {
   "cell_type": "markdown",
   "metadata": {},
   "source": [
    "# BM3 GNN Pred"
   ]
  },
  {
   "cell_type": "code",
   "execution_count": 1,
   "metadata": {},
   "outputs": [],
   "source": [
    "from typing import *\n",
    "import numpy as np\n",
    "from functools import partial\n",
    "\n",
    "import torch\n",
    "from torch import Tensor, nn\n",
    "import torch.nn.functional as F\n",
    "\n",
    "from tomopt.volume import *\n",
    "from tomopt.muon import *\n",
    "from tomopt.inference import *\n",
    "from tomopt.optimisation import *\n",
    "from tomopt.core import *\n",
    "from tomopt.utils import *\n",
    "from tomopt.plotting import *"
   ]
  },
  {
   "cell_type": "code",
   "execution_count": 2,
   "metadata": {},
   "outputs": [],
   "source": [
    "DEVICE = torch.device(\"cpu\")"
   ]
  },
  {
   "cell_type": "code",
   "execution_count": 3,
   "metadata": {},
   "outputs": [],
   "source": [
    "from tomopt.volume.layer import Layer\n",
    "\n",
    "def get_volume(size: float = 0.2, lwh: Tensor = Tensor([1.0, 1.0, 1.4]), device: torch.device = torch.device(\"cpu\")) -> Volume:\n",
    "    def area_cost(x: Tensor) -> Tensor:\n",
    "        return F.relu(x)\n",
    "\n",
    "    layers: List[Layer] = []\n",
    "    n_panels = 4\n",
    "    layers.append(\n",
    "        PanelDetectorLayer(\n",
    "            pos=\"above\",\n",
    "            lw=lwh[:2],\n",
    "            z=lwh[2].item(),\n",
    "            size=size,\n",
    "            panels=[\n",
    "                DetectorPanel(\n",
    "                    res=1e3, eff=1, init_xyz=(0.5, 0.5, 1 - (i * (size) / n_panels)), init_xy_span=(1.0, 1.0), area_cost_func=area_cost, device=device\n",
    "                )\n",
    "                for i in range(n_panels)\n",
    "            ],\n",
    "        )\n",
    "    )\n",
    "    for z in np.round(np.arange(lwh[2] - size, size, -size), decimals=1):\n",
    "        layers.append(PassiveLayer(lw=lwh[:2], z=z, size=size, device=device))\n",
    "    layers.append(\n",
    "        PanelDetectorLayer(\n",
    "            pos=\"below\",\n",
    "            lw=lwh[:2],\n",
    "            z=size,\n",
    "            size=size,\n",
    "            panels=[\n",
    "                DetectorPanel(\n",
    "                    res=1e3, eff=1, init_xyz=(0.5, 0.5, 0.2 - (i * (size) / n_panels)), init_xy_span=(1.0, 1.0), area_cost_func=area_cost, device=device\n",
    "                )\n",
    "                for i in range(n_panels)\n",
    "            ],\n",
    "        )\n",
    "    )\n",
    "\n",
    "    return Volume(nn.ModuleList(layers))"
   ]
  },
  {
   "cell_type": "code",
   "execution_count": 4,
   "metadata": {},
   "outputs": [],
   "source": [
    "volume = get_volume(device=DEVICE)"
   ]
  },
  {
   "cell_type": "code",
   "execution_count": 5,
   "metadata": {},
   "outputs": [],
   "source": [
    "muons = MuonBatch(generate_batch(250), init_z=volume.h, device=DEVICE)"
   ]
  },
  {
   "cell_type": "code",
   "execution_count": 6,
   "metadata": {},
   "outputs": [],
   "source": [
    "gen = RandomBlockPassiveGenerator(\n",
    "        block_size=None, volume=volume, sort_x0=False, enforce_diff_mat=True, materials=[\"beryllium\", \"carbon\", \"silicon\", \"iron\", \"lead\"], block_size_max_half=False\n",
    "    )"
   ]
  },
  {
   "cell_type": "code",
   "execution_count": 7,
   "metadata": {},
   "outputs": [],
   "source": [
    "volume.load_rad_length(*gen.get_data())"
   ]
  },
  {
   "cell_type": "code",
   "execution_count": 8,
   "metadata": {},
   "outputs": [],
   "source": [
    "volume(muons)"
   ]
  },
  {
   "cell_type": "code",
   "execution_count": 9,
   "metadata": {},
   "outputs": [
    {
     "data": {
      "text/plain": [
       "tensor([0.0176])"
      ]
     },
     "execution_count": 9,
     "metadata": {},
     "output_type": "execute_result"
    }
   ],
   "source": [
    "volume.target"
   ]
  },
  {
   "cell_type": "code",
   "execution_count": 10,
   "metadata": {},
   "outputs": [],
   "source": [
    "sb = PanelScatterBatch(muons, volume)"
   ]
  },
  {
   "cell_type": "markdown",
   "metadata": {},
   "source": [
    "## GNN inferer"
   ]
  },
  {
   "cell_type": "code",
   "execution_count": 11,
   "metadata": {},
   "outputs": [],
   "source": [
    "model = torch.jit.load('../../mode_muon_tomo_inference/dev/exported_models/bm3_traced.pt')"
   ]
  },
  {
   "cell_type": "code",
   "execution_count": 12,
   "metadata": {},
   "outputs": [
    {
     "data": {
      "text/plain": [
       "torch.jit._script.RecursiveScriptModule"
      ]
     },
     "execution_count": 12,
     "metadata": {},
     "output_type": "execute_result"
    }
   ],
   "source": [
    "type(model)"
   ]
  },
  {
   "cell_type": "code",
   "execution_count": 13,
   "metadata": {},
   "outputs": [],
   "source": [
    "dvi = DeepVolumeInferer(model=model, base_inferer=PanelX0Inferer(volume), volume=volume)"
   ]
  },
  {
   "cell_type": "code",
   "execution_count": 14,
   "metadata": {},
   "outputs": [
    {
     "data": {
      "text/plain": [
       "([], [])"
      ]
     },
     "execution_count": 14,
     "metadata": {},
     "output_type": "execute_result"
    }
   ],
   "source": [
    "dvi.in_vars, dvi.in_var_uncs"
   ]
  },
  {
   "cell_type": "code",
   "execution_count": 15,
   "metadata": {},
   "outputs": [
    {
     "name": "stderr",
     "output_type": "stream",
     "text": [
      "/Users/giles/cernbox/mode_muon_tomography/tomopt/inference/scattering.py:246: UserWarning: torch.meshgrid: in an upcoming release, it will be required to pass the indexing argument. (Triggered internally at  ../aten/src/ATen/native/TensorShape.cpp:2157.)\n",
      "  idxs = torch.combinations(torch.arange(0, unc.shape[-1]), with_replacement=True)\n"
     ]
    }
   ],
   "source": [
    "dvi.add_scatters(sb)"
   ]
  },
  {
   "cell_type": "code",
   "execution_count": 16,
   "metadata": {},
   "outputs": [
    {
     "data": {
      "text/plain": [
       "(torch.Size([250, 8]), torch.Size([250, 8]))"
      ]
     },
     "execution_count": 16,
     "metadata": {},
     "output_type": "execute_result"
    }
   ],
   "source": [
    "dvi.in_vars[0].shape, dvi.in_var_uncs[0].shape"
   ]
  },
  {
   "cell_type": "code",
   "execution_count": 17,
   "metadata": {},
   "outputs": [
    {
     "name": "stdout",
     "output_type": "stream",
     "text": [
      "CPU times: user 3.65 s, sys: 323 ms, total: 3.98 s\n",
      "Wall time: 1.51 s\n"
     ]
    }
   ],
   "source": [
    "%%time\n",
    "p,w = dvi.get_prediction()"
   ]
  },
  {
   "cell_type": "code",
   "execution_count": 18,
   "metadata": {},
   "outputs": [
    {
     "data": {
      "text/plain": [
       "torch.Size([1, 5, 125])"
      ]
     },
     "execution_count": 18,
     "metadata": {},
     "output_type": "execute_result"
    }
   ],
   "source": [
    "torch.exp(p).shape"
   ]
  },
  {
   "cell_type": "code",
   "execution_count": 19,
   "metadata": {},
   "outputs": [
    {
     "data": {
      "text/plain": [
       "tensor([[[-4.9859, -4.3441, -4.0862, -4.2465, -4.7861, -4.1996, -3.5097,\n",
       "          -3.2379, -3.4431, -4.0853, -3.9152, -3.2508, -2.9698, -3.1729,\n",
       "          -3.8160, -4.0961, -3.4829, -3.2172, -3.3851, -3.9628, -4.6255,\n",
       "          -4.1078, -3.8594, -4.0149, -4.5302, -3.7786, -3.1006, -2.8829,\n",
       "          -3.1722, -3.9106, -2.8925, -2.3366, -2.1920, -2.3999, -3.0878,\n",
       "          -2.6015, -2.1567, -2.0664, -2.1992, -2.8020, -2.7500, -2.3429,\n",
       "          -2.2264, -2.3728, -2.9221, -3.3157, -2.8449, -2.7301, -2.8902,\n",
       "          -3.5387, -2.9541, -2.2819, -2.1912, -2.4708, -3.2885, -2.0381,\n",
       "          -1.7776, -1.7784, -1.8867, -2.4262, -1.7876, -1.6746, -1.6957,\n",
       "          -1.7920, -2.1780, -1.8848, -1.6763, -1.7207, -1.8170, -2.2532,\n",
       "          -2.3971, -1.9619, -1.9132, -2.1159, -2.7685, -2.8121, -2.0475,\n",
       "          -1.9053, -2.2176, -3.0846, -1.8333, -1.3955, -1.4380, -1.6157,\n",
       "          -2.1992, -1.5263, -1.2724, -1.3327, -1.4810, -1.9045, -1.6448,\n",
       "          -1.2884, -1.3242, -1.4738, -1.9883, -2.2468, -1.6374, -1.5729,\n",
       "          -1.8193, -2.6211, -3.4534, -2.5721, -2.3331, -2.6224, -3.4502,\n",
       "          -2.4203, -1.6097, -1.4301, -1.7377, -2.6116, -1.9888, -1.2966,\n",
       "          -1.2029, -1.4644, -2.3043, -2.1442, -1.3992, -1.2833, -1.5983,\n",
       "          -2.5087, -2.9827, -2.1190, -1.9081, -2.3178, -3.4123],\n",
       "         [-4.5846, -3.7807, -3.4726, -3.6844, -4.4243, -3.6534, -2.8362,\n",
       "          -2.5215, -2.7298, -3.5697, -3.3198, -2.5461, -2.2006, -2.4270,\n",
       "          -3.2490, -3.5163, -2.7834, -2.4577, -2.6606, -3.5049, -4.2193,\n",
       "          -3.5027, -3.2141, -3.4746, -4.3576, -3.3890, -2.4838, -2.1712,\n",
       "          -2.4807, -3.4303, -2.3606, -1.6324, -1.4139, -1.5962, -2.4392,\n",
       "          -2.0400, -1.4579, -1.2831, -1.4199, -2.1198, -2.2242, -1.6565,\n",
       "          -1.4648, -1.6130, -2.3668, -2.9086, -2.2471, -2.0570, -2.3410,\n",
       "          -3.2195, -2.8280, -1.8327, -1.6044, -1.8913, -2.8527, -1.7380,\n",
       "          -1.1803, -1.0631, -1.1801, -1.8427, -1.4615, -1.0720, -1.0014,\n",
       "          -1.0683, -1.5639, -1.6069, -1.1508, -1.0810, -1.1726, -1.7585,\n",
       "          -2.2599, -1.6002, -1.4407, -1.6690, -2.6208, -3.2366, -2.1319,\n",
       "          -1.7332, -1.9971, -3.0452, -2.0500, -1.2632, -1.1017, -1.2488,\n",
       "          -1.9701, -1.6653, -1.1007, -1.0011, -1.0915, -1.6684, -1.8254,\n",
       "          -1.1755, -1.0693, -1.1986, -1.8975, -2.5669, -1.7233, -1.4898,\n",
       "          -1.7669, -2.8227, -4.4112, -3.2643, -2.8994, -3.1641, -4.3229,\n",
       "          -3.1800, -2.1980, -1.8539, -2.0906, -3.1079, -2.7302, -1.8124,\n",
       "          -1.5403, -1.7497, -2.7758, -2.9233, -1.9874, -1.6985, -1.9751,\n",
       "          -3.0784, -3.9374, -2.8262, -2.5172, -2.9237, -4.3623],\n",
       "         [-3.5641, -3.1073, -2.9294, -3.0620, -3.5585, -2.9983, -2.4616,\n",
       "          -2.2570, -2.3968, -2.9649, -2.7650, -2.2576, -2.0089, -2.1640,\n",
       "          -2.7339, -2.8852, -2.4356, -2.2255, -2.3449, -2.8914, -3.2893,\n",
       "          -2.9082, -2.7455, -2.9075, -3.4799, -2.9012, -2.3227, -2.1325,\n",
       "          -2.3655, -3.0626, -2.1962, -1.6668, -1.4959, -1.6538, -2.3291,\n",
       "          -1.9389, -1.4877, -1.3548, -1.4677, -2.0469, -2.0862, -1.6443,\n",
       "          -1.5020, -1.6221, -2.1935, -2.5920, -2.1234, -1.9907, -2.1846,\n",
       "          -2.7394, -2.5863, -1.9982, -1.8331, -2.0456, -2.7871, -1.8775,\n",
       "          -1.4758, -1.3897, -1.4876, -2.0073, -1.6727, -1.3484, -1.2955,\n",
       "          -1.3723, -1.7762, -1.8121, -1.4382, -1.3615, -1.4589, -1.9149,\n",
       "          -2.3342, -1.8655, -1.7189, -1.8811, -2.5547, -2.8836, -2.2631,\n",
       "          -2.0854, -2.2784, -2.9960, -2.1389, -1.7052, -1.5989, -1.6934,\n",
       "          -2.2607, -1.9307, -1.5778, -1.5069, -1.5579, -1.9931, -2.0882,\n",
       "          -1.6848, -1.5733, -1.6624, -2.1605, -2.5811, -2.0891, -1.9435,\n",
       "          -2.1402, -2.8244, -3.2782, -2.7955, -2.6816, -2.8325, -3.3571,\n",
       "          -2.7602, -2.3598, -2.2105, -2.3924, -2.9230, -2.5878, -2.1745,\n",
       "          -2.0403, -2.2025, -2.8103, -2.7116, -2.3045, -2.1758, -2.3500,\n",
       "          -2.9450, -3.2032, -2.7307, -2.6115, -2.8129, -3.5028],\n",
       "         [-0.1383, -0.2577, -0.3314, -0.3043, -0.2037, -0.2740, -0.4779,\n",
       "          -0.6017, -0.5480, -0.3739, -0.3673, -0.6157, -0.7769, -0.7039,\n",
       "          -0.4803, -0.3415, -0.5799, -0.7329, -0.6750, -0.4377, -0.2078,\n",
       "          -0.3857, -0.4897, -0.4155, -0.2264, -0.2030, -0.4377, -0.5719,\n",
       "          -0.4671, -0.2626, -0.4707, -0.9478, -1.2094, -1.0049, -0.5483,\n",
       "          -0.6325, -1.2012, -1.5020, -1.2814, -0.7430, -0.5374, -1.0068,\n",
       "          -1.2624, -1.1170, -0.6759, -0.2879, -0.5944, -0.7608, -0.6624,\n",
       "          -0.3671, -0.2408, -0.6134, -0.8075, -0.6058, -0.2680, -0.6982,\n",
       "          -1.4390, -1.7166, -1.4143, -0.6707, -0.9912, -1.8007, -2.0530,\n",
       "          -1.7566, -0.9202, -0.8009, -1.5526, -1.7779, -1.5050, -0.7758,\n",
       "          -0.3845, -0.7933, -1.0076, -0.7993, -0.3544, -0.1771, -0.4537,\n",
       "          -0.6362, -0.4618, -0.1750, -0.5371, -1.2957, -1.5713, -1.2017,\n",
       "          -0.4887, -0.8202, -1.7717, -2.0215, -1.6029, -0.7070, -0.6638,\n",
       "          -1.5114, -1.7709, -1.3592, -0.5623, -0.3069, -0.7036, -0.8893,\n",
       "          -0.6335, -0.2316, -0.0877, -0.1965, -0.2530, -0.1945, -0.0857,\n",
       "          -0.2184, -0.5247, -0.7115, -0.5032, -0.1930, -0.3279, -0.8047,\n",
       "          -1.0433, -0.7338, -0.2569, -0.2739, -0.6652, -0.8583, -0.5800,\n",
       "          -0.2030, -0.1200, -0.2836, -0.3637, -0.2422, -0.0811],\n",
       "         [-2.4797, -1.9196, -1.7101, -1.7363, -1.9992, -1.9044, -1.5797,\n",
       "          -1.4790, -1.4537, -1.5351, -1.6694, -1.4354, -1.4107, -1.3459,\n",
       "          -1.3642, -1.6761, -1.3473, -1.2526, -1.2338, -1.3867, -2.0727,\n",
       "          -1.5190, -1.3406, -1.4423, -1.9091, -2.6286, -2.0554, -1.9175,\n",
       "          -1.8730, -2.0269, -2.1678, -2.0292, -2.0980, -1.9023, -1.6510,\n",
       "          -2.1147, -2.0809, -2.1585, -1.9713, -1.5396, -2.1245, -1.8668,\n",
       "          -1.8625, -1.6996, -1.4603, -2.4715, -1.8042, -1.5944, -1.5137,\n",
       "          -1.7508, -3.5952, -2.7996, -2.5094, -2.4117, -2.5452, -3.1376,\n",
       "          -2.8469, -2.8667, -2.6287, -2.2299, -3.1731, -3.0914, -3.0565,\n",
       "          -2.7548, -2.2101, -3.3410, -3.0467, -2.8728, -2.6118, -2.1635,\n",
       "          -3.6119, -2.9883, -2.6411, -2.4194, -2.4626, -4.9620, -4.3405,\n",
       "          -3.8673, -3.7801, -4.0609, -4.6909, -4.2632, -3.8929, -3.5134,\n",
       "          -3.4425, -4.8118, -4.5325, -4.2188, -3.6902, -3.4064, -4.9634,\n",
       "          -4.6503, -4.3271, -3.7821, -3.5759, -5.1012, -4.7758, -4.3451,\n",
       "          -3.9818, -4.1854, -5.9774, -5.9088, -5.7918, -5.8074, -6.0923,\n",
       "          -6.0064, -5.8536, -5.6438, -5.4169, -5.6256, -6.0591, -6.0368,\n",
       "          -5.7795, -5.4302, -5.4735, -6.1113, -6.1420, -5.9834, -5.5833,\n",
       "          -5.6038, -6.0730, -6.0559, -6.0091, -5.8635, -6.1939]]],\n",
       "       grad_fn=<LogSoftmaxBackward0>)"
      ]
     },
     "execution_count": 19,
     "metadata": {},
     "output_type": "execute_result"
    }
   ],
   "source": [
    "p"
   ]
  },
  {
   "cell_type": "code",
   "execution_count": 20,
   "metadata": {},
   "outputs": [
    {
     "name": "stdout",
     "output_type": "stream",
     "text": [
      "CPU times: user 1e+03 ns, sys: 1 µs, total: 2 µs\n",
      "Wall time: 4.29 µs\n"
     ]
    }
   ],
   "source": [
    "%%time\n",
    "# jacobian(p, dvi.in_var)  # crashes"
   ]
  },
  {
   "cell_type": "markdown",
   "metadata": {},
   "source": [
    "## Loss"
   ]
  },
  {
   "cell_type": "code",
   "execution_count": 21,
   "metadata": {},
   "outputs": [
    {
     "data": {
      "text/plain": [
       "{0.3528: 0, 0.1932: 1, 0.0937: 2, 0.01757: 3, 0.005612: 4}"
      ]
     },
     "execution_count": 21,
     "metadata": {},
     "output_type": "execute_result"
    }
   ],
   "source": [
    "x02id = {X0[m]: i for i, m in enumerate(gen.materials)}; x02id"
   ]
  },
  {
   "cell_type": "code",
   "execution_count": 22,
   "metadata": {},
   "outputs": [],
   "source": [
    "loss = VoxelClassLoss(x02id=x02id, target_budget=None)"
   ]
  },
  {
   "cell_type": "code",
   "execution_count": 23,
   "metadata": {},
   "outputs": [
    {
     "name": "stdout",
     "output_type": "stream",
     "text": [
      "Automatically setting cost coefficient to 2.2525079250335693\n"
     ]
    },
    {
     "data": {
      "text/plain": [
       "tensor([2.2525], grad_fn=<AddBackward0>)"
      ]
     },
     "execution_count": 23,
     "metadata": {},
     "output_type": "execute_result"
    }
   ],
   "source": [
    "l = loss(p, 1, volume); l"
   ]
  },
  {
   "cell_type": "code",
   "execution_count": 24,
   "metadata": {},
   "outputs": [
    {
     "data": {
      "text/plain": [
       "tensor([[-0.1251,  0.5511]])"
      ]
     },
     "execution_count": 24,
     "metadata": {},
     "output_type": "execute_result"
    }
   ],
   "source": [
    "jacobian(l, volume.get_detectors()[0].panels[0].xy)"
   ]
  },
  {
   "cell_type": "code",
   "execution_count": 25,
   "metadata": {},
   "outputs": [
    {
     "data": {
      "text/plain": [
       "tensor([[-0.0106,  0.2029]])"
      ]
     },
     "execution_count": 25,
     "metadata": {},
     "output_type": "execute_result"
    }
   ],
   "source": [
    "jacobian(l, volume.get_detectors()[0].panels[0].xy_span)"
   ]
  },
  {
   "cell_type": "code",
   "execution_count": 26,
   "metadata": {},
   "outputs": [
    {
     "data": {
      "text/plain": [
       "tensor([[61.0667]])"
      ]
     },
     "execution_count": 26,
     "metadata": {},
     "output_type": "execute_result"
    }
   ],
   "source": [
    "jacobian(l, volume.get_detectors()[0].panels[0].z)"
   ]
  },
  {
   "cell_type": "markdown",
   "metadata": {},
   "source": [
    "## Plotting"
   ]
  },
  {
   "cell_type": "code",
   "execution_count": 27,
   "metadata": {},
   "outputs": [],
   "source": [
    "class_preds = p.argmax(1).detach().cpu().numpy()"
   ]
  },
  {
   "cell_type": "code",
   "execution_count": 28,
   "metadata": {},
   "outputs": [],
   "source": [
    "true = volume.get_rad_cube().flatten().reshape((5,5,5))"
   ]
  },
  {
   "cell_type": "code",
   "execution_count": 29,
   "metadata": {},
   "outputs": [],
   "source": [
    "class_preds = class_preds.reshape(true.shape)"
   ]
  },
  {
   "cell_type": "code",
   "execution_count": 30,
   "metadata": {},
   "outputs": [
    {
     "data": {
      "text/plain": [
       "{0: 0.3528, 1: 0.1932, 2: 0.0937, 3: 0.01757, 4: 0.005612}"
      ]
     },
     "execution_count": 30,
     "metadata": {},
     "output_type": "execute_result"
    }
   ],
   "source": [
    "id2x0 = {v:k for k,v in x02id.items()}; id2x0"
   ]
  },
  {
   "cell_type": "code",
   "execution_count": 31,
   "metadata": {},
   "outputs": [],
   "source": [
    "def class_to_x0preds(array: np.ndarray, id2x0: Dict[int, float]) -> np.ndarray:\n",
    "    x0array = np.zeros_like(array, dtype='float32')\n",
    "    for i in np.unique(array):\n",
    "        x0array[array == i] = id2x0[i]\n",
    "    return x0array"
   ]
  },
  {
   "cell_type": "code",
   "execution_count": 32,
   "metadata": {},
   "outputs": [],
   "source": [
    "x0_preds = class_to_x0preds(class_preds, id2x0)"
   ]
  },
  {
   "cell_type": "code",
   "execution_count": 33,
   "metadata": {
    "scrolled": false
   },
   "outputs": [
    {
     "data": {
      "image/png": "[encoded data removed]",
      "text/plain": [
       "<Figure size 576x1024 with 12 Axes>"
      ]
     },
     "metadata": {},
     "output_type": "display_data"
    }
   ],
   "source": [
    "plot_pred_true_x0(x0_preds, true)"
   ]
  },
  {
   "cell_type": "code",
   "execution_count": 34,
   "metadata": {},
   "outputs": [],
   "source": [
    "def x0targs_to_classtargs(array: np.ndarray, x02id: Dict[float, int]) -> np.ndarray:\n",
    "    x0array = np.zeros_like(array)\n",
    "    for i in np.unique(array):\n",
    "        x0array[array == i] = x02id[min(x02id, key=lambda x:abs(x-i))]\n",
    "    return x0array"
   ]
  },
  {
   "cell_type": "code",
   "execution_count": 35,
   "metadata": {},
   "outputs": [
    {
     "data": {
      "text/plain": [
       "{0.3528: 0, 0.1932: 1, 0.0937: 2, 0.01757: 3, 0.005612: 4}"
      ]
     },
     "execution_count": 35,
     "metadata": {},
     "output_type": "execute_result"
    }
   ],
   "source": [
    "x02id"
   ]
  },
  {
   "cell_type": "code",
   "execution_count": 36,
   "metadata": {},
   "outputs": [],
   "source": [
    "class_targs = x0targs_to_classtargs(true, x02id)"
   ]
  },
  {
   "cell_type": "code",
   "execution_count": 37,
   "metadata": {},
   "outputs": [
    {
     "data": {
      "text/plain": [
       "array([[[1., 1., 1., 1., 1.],\n",
       "        [1., 1., 1., 1., 1.],\n",
       "        [1., 1., 1., 1., 1.],\n",
       "        [1., 1., 1., 1., 1.],\n",
       "        [1., 1., 1., 1., 1.]],\n",
       "\n",
       "       [[1., 3., 3., 3., 1.],\n",
       "        [1., 3., 3., 3., 1.],\n",
       "        [1., 3., 3., 3., 1.],\n",
       "        [1., 1., 1., 1., 1.],\n",
       "        [1., 1., 1., 1., 1.]],\n",
       "\n",
       "       [[1., 3., 3., 3., 1.],\n",
       "        [1., 3., 3., 3., 1.],\n",
       "        [1., 3., 3., 3., 1.],\n",
       "        [1., 1., 1., 1., 1.],\n",
       "        [1., 1., 1., 1., 1.]],\n",
       "\n",
       "       [[1., 3., 3., 3., 1.],\n",
       "        [1., 3., 3., 3., 1.],\n",
       "        [1., 3., 3., 3., 1.],\n",
       "        [1., 1., 1., 1., 1.],\n",
       "        [1., 1., 1., 1., 1.]],\n",
       "\n",
       "       [[1., 1., 1., 1., 1.],\n",
       "        [1., 1., 1., 1., 1.],\n",
       "        [1., 1., 1., 1., 1.],\n",
       "        [1., 1., 1., 1., 1.],\n",
       "        [1., 1., 1., 1., 1.]]], dtype=float32)"
      ]
     },
     "execution_count": 37,
     "metadata": {},
     "output_type": "execute_result"
    }
   ],
   "source": [
    "class_targs"
   ]
  },
  {
   "cell_type": "code",
   "execution_count": 38,
   "metadata": {},
   "outputs": [
    {
     "data": {
      "image/png": "[encoded data removed]",
      "text/plain": [
       "<Figure size 576x1024 with 12 Axes>"
      ]
     },
     "metadata": {},
     "output_type": "display_data"
    }
   ],
   "source": [
    "plot_pred_true_x0(class_preds, class_targs)"
   ]
  },
  {
   "cell_type": "code",
   "execution_count": null,
   "metadata": {},
   "outputs": [],
   "source": []
  }
 ],
 "metadata": {
  "kernelspec": {
   "display_name": "Python [conda env:tomopt]",
   "language": "python",
   "name": "conda-env-tomopt-py"
  },
  "language_info": {
   "codemirror_mode": {
    "name": "ipython",
    "version": 3
   },
   "file_extension": ".py",
   "mimetype": "text/x-python",
   "name": "python",
   "nbconvert_exporter": "python",
   "pygments_lexer": "ipython3",
   "version": "3.8.0"
  },
  "toc": {
   "base_numbering": 1,
   "nav_menu": {},
   "number_sections": true,
   "sideBar": true,
   "skip_h1_title": false,
   "title_cell": "Table of Contents",
   "title_sidebar": "Contents",
   "toc_cell": false,
   "toc_position": {},
   "toc_section_display": true,
   "toc_window_display": false
  }
 },
 "nbformat": 4,
 "nbformat_minor": 4
}
