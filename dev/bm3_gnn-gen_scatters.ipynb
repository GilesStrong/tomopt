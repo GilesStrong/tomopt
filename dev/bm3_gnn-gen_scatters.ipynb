{
 "cells": [
  {
   "cell_type": "markdown",
   "metadata": {},
   "source": [
    "# BM3 GNN Pred"
   ]
  },
  {
   "cell_type": "code",
   "execution_count": 1,
   "metadata": {},
   "outputs": [],
   "source": [
    "from typing import *\n",
    "import numpy as np\n",
    "from functools import partial\n",
    "\n",
    "import torch\n",
    "from torch import Tensor, nn\n",
    "import torch.nn.functional as F\n",
    "\n",
    "from tomopt.volume import *\n",
    "from tomopt.muon import *\n",
    "from tomopt.inference import *\n",
    "from tomopt.optimisation import *\n",
    "from tomopt.core import *\n",
    "from tomopt.utils import *\n",
    "from tomopt.plotting import *"
   ]
  },
  {
   "cell_type": "code",
   "execution_count": 2,
   "metadata": {},
   "outputs": [],
   "source": [
    "DEVICE = torch.device(\"cpu\")"
   ]
  },
  {
   "cell_type": "code",
   "execution_count": 3,
   "metadata": {},
   "outputs": [],
   "source": [
    "from tomopt.volume.layer import Layer\n",
    "\n",
    "def get_volume(size: float = 0.2, lwh: Tensor = Tensor([1.0, 1.0, 1.4]), device: torch.device = torch.device(\"cpu\")) -> Volume:\n",
    "    def area_cost(x: Tensor) -> Tensor:\n",
    "        return F.relu(x)\n",
    "\n",
    "    layers: List[Layer] = []\n",
    "    n_panels = 4\n",
    "    layers.append(\n",
    "        PanelDetectorLayer(\n",
    "            pos=\"above\",\n",
    "            lw=lwh[:2],\n",
    "            z=lwh[2].item(),\n",
    "            size=size,\n",
    "            panels=[\n",
    "                DetectorPanel(\n",
    "                    res=1e3, eff=1, init_xyz=(lwh[0].item()/2, lwh[1].item()/2, lwh[2].item() - (i * (size) / n_panels)), init_xy_span=(lwh[0].item(), lwh[1].item()), area_cost_func=area_cost, device=device\n",
    "                )\n",
    "                for i in range(n_panels)\n",
    "            ],\n",
    "        )\n",
    "    )\n",
    "    for z in np.round(np.arange(lwh[2] - size, size, -size), decimals=1):\n",
    "        layers.append(PassiveLayer(lw=lwh[:2], z=z, size=size, device=device))\n",
    "    layers.append(\n",
    "        PanelDetectorLayer(\n",
    "            pos=\"below\",\n",
    "            lw=lwh[:2],\n",
    "            z=size,\n",
    "            size=size,\n",
    "            panels=[\n",
    "                DetectorPanel(\n",
    "                    res=1e3, eff=1, init_xyz=(lwh[0].item()/2, lwh[1].item()/2, size - (i * (size) / n_panels)), init_xy_span=(lwh[0].item(), lwh[1].item()), area_cost_func=area_cost, device=device\n",
    "                )\n",
    "                for i in range(n_panels)\n",
    "            ],\n",
    "        )\n",
    "    )\n",
    "\n",
    "    return Volume(nn.ModuleList(layers))"
   ]
  },
  {
   "cell_type": "code",
   "execution_count": 4,
   "metadata": {},
   "outputs": [],
   "source": [
    "volume = get_volume(device=DEVICE)"
   ]
  },
  {
   "cell_type": "code",
   "execution_count": 5,
   "metadata": {},
   "outputs": [],
   "source": [
    "muons = MuonBatch(generate_batch(250), init_z=volume.h, device=DEVICE)"
   ]
  },
  {
   "cell_type": "code",
   "execution_count": 6,
   "metadata": {},
   "outputs": [],
   "source": [
    "gen = RandomBlockPassiveGenerator(\n",
    "        block_size=None, volume=volume, sort_x0=False, enforce_diff_mat=True, materials=[\"beryllium\", \"carbon\", \"silicon\", \"iron\", \"lead\"], block_size_max_half=False\n",
    "    )"
   ]
  },
  {
   "cell_type": "code",
   "execution_count": 7,
   "metadata": {},
   "outputs": [],
   "source": [
    "volume.load_rad_length(*gen.get_data())"
   ]
  },
  {
   "cell_type": "code",
   "execution_count": 8,
   "metadata": {},
   "outputs": [],
   "source": [
    "volume(muons)"
   ]
  },
  {
   "cell_type": "code",
   "execution_count": 9,
   "metadata": {},
   "outputs": [
    {
     "data": {
      "text/plain": [
       "tensor([0.0937])"
      ]
     },
     "execution_count": 9,
     "metadata": {},
     "output_type": "execute_result"
    }
   ],
   "source": [
    "volume.target"
   ]
  },
  {
   "cell_type": "markdown",
   "metadata": {},
   "source": [
    "sb = ScatterBatch(muons, volume)"
   ]
  },
  {
   "cell_type": "code",
   "execution_count": 10,
   "metadata": {},
   "outputs": [],
   "source": [
    "sb = GenScatterBatch(muons, volume)"
   ]
  },
  {
   "cell_type": "markdown",
   "metadata": {},
   "source": [
    "## GNN inferer"
   ]
  },
  {
   "cell_type": "code",
   "execution_count": 11,
   "metadata": {},
   "outputs": [],
   "source": [
    "model = torch.jit.load('../../mode_muon_tomo_inference/dev/exported_models/bm3_traced.pt')"
   ]
  },
  {
   "cell_type": "code",
   "execution_count": 12,
   "metadata": {},
   "outputs": [
    {
     "data": {
      "text/plain": [
       "torch.jit._script.RecursiveScriptModule"
      ]
     },
     "execution_count": 12,
     "metadata": {},
     "output_type": "execute_result"
    }
   ],
   "source": [
    "type(model)"
   ]
  },
  {
   "cell_type": "code",
   "execution_count": 13,
   "metadata": {},
   "outputs": [],
   "source": [
    "from tomopt.inference.scattering import ScatterBatch\n",
    "\n",
    "class GenDeepVolumeInferer(DeepVolumeInferer):\n",
    "    def get_base_predictions(self, scatters: ScatterBatch) -> Tuple[Tensor, Tensor]:\n",
    "        x = self.base_inferer._x0_from_dtheta(delta_z=self.size, mom=scatters.mu.reco_mom, dtheta=scatters.dtheta, theta_xy_in=scatters.theta_in, theta_xy_out=scatters.theta_out)[:, None]\n",
    "        return x, torch.zeros_like(x)\n",
    "    \n",
    "    def add_scatters(self, scatters: ScatterBatch) -> None:\n",
    "        self.scatter_batches.append(scatters)\n",
    "        x0, x0_unc = self.get_base_predictions(scatters)\n",
    "        self.in_vars.append(torch.cat((scatters.dtheta, scatters.dxy, x0, scatters.location), dim=-1))\n",
    "        self.efficiencies.append(self.compute_efficiency(scatters=scatters))\n",
    "        \n",
    "    def get_prediction(self) -> Tuple[Optional[Tensor], Optional[Tensor]]:\n",
    "        self.in_var = torch.cat(self.in_vars, dim=0)\n",
    "        self.efficiency = torch.cat(self.efficiencies, dim=0)\n",
    "\n",
    "        inputs = self._build_inputs(self.in_var)\n",
    "        pred = self.model(inputs[None])\n",
    "        weight = self._get_weight()\n",
    "        return pred, weight"
   ]
  },
  {
   "cell_type": "code",
   "execution_count": 14,
   "metadata": {},
   "outputs": [],
   "source": [
    "dvi = GenDeepVolumeInferer(model=model, base_inferer=PanelX0Inferer(volume), volume=volume)"
   ]
  },
  {
   "cell_type": "code",
   "execution_count": 15,
   "metadata": {},
   "outputs": [
    {
     "data": {
      "text/plain": [
       "([], [])"
      ]
     },
     "execution_count": 15,
     "metadata": {},
     "output_type": "execute_result"
    }
   ],
   "source": [
    "dvi.in_vars, dvi.in_var_uncs"
   ]
  },
  {
   "cell_type": "code",
   "execution_count": 16,
   "metadata": {
    "scrolled": false
   },
   "outputs": [
    {
     "name": "stderr",
     "output_type": "stream",
     "text": [
      "/Users/giles/cernbox/mode_muon_tomography/tomopt/inference/volume.py:295: UserWarning: torch.meshgrid: in an upcoming release, it will be required to pass the indexing argument. (Triggered internally at  ../aten/src/ATen/native/TensorShape.cpp:2157.)\n",
      "  c = torch.combinations(torch.arange(0, len(effs)), r=r)\n"
     ]
    }
   ],
   "source": [
    "dvi.add_scatters(sb)"
   ]
  },
  {
   "cell_type": "code",
   "execution_count": 17,
   "metadata": {},
   "outputs": [
    {
     "data": {
      "text/plain": [
       "torch.Size([250, 8])"
      ]
     },
     "execution_count": 17,
     "metadata": {},
     "output_type": "execute_result"
    }
   ],
   "source": [
    "dvi.in_vars[0].shape"
   ]
  },
  {
   "cell_type": "code",
   "execution_count": 18,
   "metadata": {},
   "outputs": [
    {
     "name": "stdout",
     "output_type": "stream",
     "text": [
      "CPU times: user 3.8 s, sys: 395 ms, total: 4.2 s\n",
      "Wall time: 1.6 s\n"
     ]
    }
   ],
   "source": [
    "%%time\n",
    "p,w = dvi.get_prediction()"
   ]
  },
  {
   "cell_type": "code",
   "execution_count": 19,
   "metadata": {},
   "outputs": [
    {
     "data": {
      "text/plain": [
       "torch.Size([1, 5, 125])"
      ]
     },
     "execution_count": 19,
     "metadata": {},
     "output_type": "execute_result"
    }
   ],
   "source": [
    "torch.exp(p).shape"
   ]
  },
  {
   "cell_type": "code",
   "execution_count": 20,
   "metadata": {},
   "outputs": [
    {
     "data": {
      "text/plain": [
       "tensor([[[-1.9752e-01, -4.6779e-01, -6.3622e-01, -5.1529e-01, -2.5647e-01,\n",
       "          -5.0483e-01, -1.1662e+00, -1.3485e+00, -1.0049e+00, -4.5226e-01,\n",
       "          -8.1904e-01, -1.6689e+00, -1.7476e+00, -1.2440e+00, -4.9187e-01,\n",
       "          -7.6290e-01, -1.5242e+00, -1.5432e+00, -1.0105e+00, -3.3636e-01,\n",
       "          -4.1822e-01, -8.0745e-01, -8.0789e-01, -4.6245e-01, -1.5363e-01,\n",
       "          -2.4569e-01, -6.8067e-01, -9.3820e-01, -7.0351e-01, -3.0838e-01,\n",
       "          -7.1474e-01, -1.6976e+00, -2.0126e+00, -1.4982e+00, -6.0254e-01,\n",
       "          -1.1598e+00, -2.2697e+00, -2.5043e+00, -1.8670e+00, -7.3566e-01,\n",
       "          -1.0726e+00, -2.1020e+00, -2.2453e+00, -1.5554e+00, -5.6030e-01,\n",
       "          -5.9221e-01, -1.2109e+00, -1.3136e+00, -7.5470e-01, -2.2158e-01,\n",
       "          -1.4328e-01, -3.8873e-01, -5.5423e-01, -3.7743e-01, -1.3265e-01,\n",
       "          -3.9223e-01, -1.1227e+00, -1.4550e+00, -1.0167e+00, -3.1228e-01,\n",
       "          -6.7442e-01, -1.5874e+00, -1.9324e+00, -1.3432e+00, -4.3661e-01,\n",
       "          -6.0901e-01, -1.4051e+00, -1.6179e+00, -1.0543e+00, -3.1718e-01,\n",
       "          -2.6753e-01, -6.3900e-01, -7.1921e-01, -4.4369e-01, -1.3401e-01,\n",
       "          -4.8573e-02, -9.4161e-02, -1.1690e-01, -8.4942e-02, -3.8966e-02,\n",
       "          -9.4098e-02, -2.3387e-01, -3.2453e-01, -2.0812e-01, -7.2591e-02,\n",
       "          -1.3047e-01, -3.6739e-01, -5.0495e-01, -3.1148e-01, -9.6378e-02,\n",
       "          -1.1023e-01, -2.9037e-01, -3.7502e-01, -2.2494e-01, -7.9134e-02,\n",
       "          -4.5117e-02, -1.0961e-01, -1.6081e-01, -9.5315e-02, -4.5700e-02,\n",
       "          -1.6891e-02, -2.3036e-02, -2.4751e-02, -2.0385e-02, -1.7720e-02,\n",
       "          -2.3597e-02, -3.5913e-02, -4.2855e-02, -3.3238e-02, -2.2978e-02,\n",
       "          -2.4667e-02, -4.3235e-02, -5.5366e-02, -4.3847e-02, -2.6557e-02,\n",
       "          -2.0573e-02, -3.6277e-02, -4.1475e-02, -3.3233e-02, -2.4207e-02,\n",
       "          -1.4977e-02, -2.1218e-02, -2.7059e-02, -2.5742e-02, -2.1348e-02],\n",
       "         [-2.3969e+00, -1.9809e+00, -1.7983e+00, -1.7770e+00, -2.0658e+00,\n",
       "          -1.9983e+00, -1.9164e+00, -1.8361e+00, -1.6932e+00, -1.8040e+00,\n",
       "          -1.9808e+00, -2.1965e+00, -2.0771e+00, -1.8683e+00, -1.9479e+00,\n",
       "          -2.1411e+00, -2.3323e+00, -2.1808e+00, -2.0331e+00, -2.2348e+00,\n",
       "          -2.3991e+00, -2.3037e+00, -2.2371e+00, -2.2856e+00, -2.7614e+00,\n",
       "          -2.3435e+00, -1.9588e+00, -1.9239e+00, -1.8170e+00, -2.0448e+00,\n",
       "          -1.9753e+00, -2.1291e+00, -2.2166e+00, -1.8944e+00, -1.8028e+00,\n",
       "          -2.0594e+00, -2.4515e+00, -2.5169e+00, -2.1561e+00, -1.8845e+00,\n",
       "          -2.1778e+00, -2.5259e+00, -2.5809e+00, -2.2354e+00, -2.1454e+00,\n",
       "          -2.2759e+00, -2.3895e+00, -2.4377e+00, -2.2515e+00, -2.5981e+00,\n",
       "          -2.6986e+00, -2.1522e+00, -2.0381e+00, -2.1508e+00, -2.7160e+00,\n",
       "          -2.1647e+00, -1.9771e+00, -2.0599e+00, -1.9455e+00, -2.2395e+00,\n",
       "          -2.0629e+00, -2.1550e+00, -2.2797e+00, -2.0615e+00, -2.1274e+00,\n",
       "          -2.1421e+00, -2.2321e+00, -2.2942e+00, -2.1224e+00, -2.2878e+00,\n",
       "          -2.5203e+00, -2.2299e+00, -2.2906e+00, -2.3002e+00, -2.7807e+00,\n",
       "          -3.4103e+00, -2.9267e+00, -2.7919e+00, -2.9847e+00, -3.5478e+00,\n",
       "          -2.9007e+00, -2.3558e+00, -2.2259e+00, -2.4609e+00, -3.1016e+00,\n",
       "          -2.6891e+00, -2.1210e+00, -2.0528e+00, -2.2429e+00, -2.9376e+00,\n",
       "          -2.8266e+00, -2.2654e+00, -2.1856e+00, -2.4431e+00, -3.0585e+00,\n",
       "          -3.5124e+00, -2.8589e+00, -2.6376e+00, -2.9430e+00, -3.3821e+00,\n",
       "          -4.2106e+00, -3.9441e+00, -3.8754e+00, -4.0311e+00, -4.1143e+00,\n",
       "          -3.9290e+00, -3.5632e+00, -3.4097e+00, -3.6154e+00, -3.8988e+00,\n",
       "          -3.8939e+00, -3.4028e+00, -3.1961e+00, -3.3886e+00, -3.7699e+00,\n",
       "          -4.0380e+00, -3.5385e+00, -3.4445e+00, -3.6032e+00, -3.8228e+00,\n",
       "          -4.2945e+00, -3.9932e+00, -3.7468e+00, -3.7677e+00, -3.9122e+00],\n",
       "         [-2.5776e+00, -1.6676e+00, -1.3863e+00, -1.5898e+00, -2.3748e+00,\n",
       "          -1.6402e+00, -9.7517e-01, -8.4759e-01, -1.0152e+00, -1.7392e+00,\n",
       "          -1.2817e+00, -8.6712e-01, -7.7016e-01, -8.8395e-01, -1.5901e+00,\n",
       "          -1.3871e+00, -9.9819e-01, -9.0208e-01, -1.0516e+00, -1.9254e+00,\n",
       "          -1.9047e+00, -1.3665e+00, -1.2798e+00, -1.6465e+00, -2.7091e+00,\n",
       "          -2.2929e+00, -1.3173e+00, -1.0474e+00, -1.2684e+00, -2.1013e+00,\n",
       "          -1.3292e+00, -7.9021e-01, -6.6854e-01, -7.6306e-01, -1.4340e+00,\n",
       "          -1.0713e+00, -7.8500e-01, -6.9542e-01, -7.2004e-01, -1.2556e+00,\n",
       "          -1.1951e+00, -9.0805e-01, -8.4276e-01, -8.7377e-01, -1.4692e+00,\n",
       "          -1.6195e+00, -1.1753e+00, -1.0949e+00, -1.3143e+00, -2.3274e+00,\n",
       "          -2.8501e+00, -1.8158e+00, -1.4783e+00, -1.8266e+00, -2.9514e+00,\n",
       "          -1.8609e+00, -9.8326e-01, -8.2451e-01, -1.0268e+00, -2.0309e+00,\n",
       "          -1.4303e+00, -8.6020e-01, -7.6214e-01, -9.1384e-01, -1.7111e+00,\n",
       "          -1.5744e+00, -1.0100e+00, -9.3304e-01, -1.1017e+00, -2.0215e+00,\n",
       "          -2.3197e+00, -1.5220e+00, -1.4227e+00, -1.7353e+00, -2.9408e+00,\n",
       "          -4.3001e+00, -3.4302e+00, -3.1498e+00, -3.5800e+00, -4.7131e+00,\n",
       "          -3.4890e+00, -2.4057e+00, -2.0440e+00, -2.4910e+00, -3.7940e+00,\n",
       "          -3.1087e+00, -2.0187e+00, -1.6611e+00, -2.0973e+00, -3.4014e+00,\n",
       "          -3.3093e+00, -2.2606e+00, -1.9606e+00, -2.4431e+00, -3.6756e+00,\n",
       "          -4.3958e+00, -3.3179e+00, -2.8219e+00, -3.4381e+00, -4.6010e+00,\n",
       "          -6.2681e+00, -5.7045e+00, -5.6279e+00, -6.0420e+00, -6.7097e+00,\n",
       "          -5.6320e+00, -5.0292e+00, -4.7863e+00, -5.2002e+00, -6.0272e+00,\n",
       "          -5.5531e+00, -4.7815e+00, -4.4380e+00, -4.7577e+00, -5.7801e+00,\n",
       "          -5.9294e+00, -5.0838e+00, -4.8230e+00, -5.2636e+00, -6.2022e+00,\n",
       "          -6.7167e+00, -5.9960e+00, -5.8060e+00, -6.0883e+00, -6.7953e+00],\n",
       "         [-4.5271e+00, -3.1773e+00, -3.0056e+00, -3.6086e+00, -5.1132e+00,\n",
       "          -2.8557e+00, -1.9603e+00, -2.0099e+00, -2.5325e+00, -3.8256e+00,\n",
       "          -2.1310e+00, -1.4491e+00, -1.5769e+00, -2.0342e+00, -3.2350e+00,\n",
       "          -2.0141e+00, -1.3333e+00, -1.4526e+00, -1.9536e+00, -3.4816e+00,\n",
       "          -2.5130e+00, -1.8066e+00, -1.9206e+00, -2.6845e+00, -4.4285e+00,\n",
       "          -3.9887e+00, -2.5832e+00, -2.2967e+00, -2.8696e+00, -4.3472e+00,\n",
       "          -2.3682e+00, -1.5694e+00, -1.5484e+00, -1.9357e+00, -3.0609e+00,\n",
       "          -1.7036e+00, -1.2272e+00, -1.2413e+00, -1.5158e+00, -2.5338e+00,\n",
       "          -1.6349e+00, -1.1303e+00, -1.0997e+00, -1.4216e+00, -2.5581e+00,\n",
       "          -2.1514e+00, -1.3944e+00, -1.3092e+00, -1.9538e+00, -3.6768e+00,\n",
       "          -4.8823e+00, -3.2247e+00, -2.7719e+00, -3.3452e+00, -5.1784e+00,\n",
       "          -3.0264e+00, -1.9342e+00, -1.7084e+00, -2.0557e+00, -3.5248e+00,\n",
       "          -2.2097e+00, -1.5015e+00, -1.3725e+00, -1.6340e+00, -2.9568e+00,\n",
       "          -2.1773e+00, -1.4045e+00, -1.2950e+00, -1.6820e+00, -3.3125e+00,\n",
       "          -3.0470e+00, -2.0661e+00, -1.8698e+00, -2.5750e+00, -4.5876e+00,\n",
       "          -7.1782e+00, -5.5941e+00, -5.1285e+00, -5.8331e+00, -7.7214e+00,\n",
       "          -5.5228e+00, -3.8077e+00, -3.2732e+00, -3.9562e+00, -5.9956e+00,\n",
       "          -4.7144e+00, -2.9647e+00, -2.6000e+00, -3.2851e+00, -5.2124e+00,\n",
       "          -4.8525e+00, -3.1936e+00, -2.8734e+00, -3.6262e+00, -5.5977e+00,\n",
       "          -6.3784e+00, -4.6599e+00, -4.0968e+00, -5.1425e+00, -7.3564e+00,\n",
       "          -1.1076e+01, -9.5439e+00, -9.1830e+00, -1.0001e+01, -1.1687e+01,\n",
       "          -9.5282e+00, -7.8941e+00, -7.5143e+00, -8.2364e+00, -1.0202e+01,\n",
       "          -9.0596e+00, -7.3782e+00, -6.8209e+00, -7.5077e+00, -9.6693e+00,\n",
       "          -9.6356e+00, -7.9434e+00, -7.3523e+00, -8.2304e+00, -1.0582e+01,\n",
       "          -1.1511e+01, -9.6929e+00, -9.3067e+00, -1.0176e+01, -1.1966e+01],\n",
       "         [-6.5300e+00, -5.2449e+00, -5.1807e+00, -5.9980e+00, -7.6913e+00,\n",
       "          -4.6690e+00, -3.7566e+00, -3.9908e+00, -4.8065e+00, -6.3802e+00,\n",
       "          -3.6920e+00, -3.0919e+00, -3.4750e+00, -4.3085e+00, -5.9166e+00,\n",
       "          -3.4133e+00, -2.9376e+00, -3.3911e+00, -4.2754e+00, -6.1962e+00,\n",
       "          -3.8586e+00, -3.3551e+00, -3.7797e+00, -4.8838e+00, -7.3018e+00,\n",
       "          -6.0555e+00, -4.6774e+00, -4.4908e+00, -5.3772e+00, -7.2535e+00,\n",
       "          -4.2960e+00, -3.3237e+00, -3.4315e+00, -4.1670e+00, -5.9709e+00,\n",
       "          -3.3720e+00, -2.7927e+00, -3.0020e+00, -3.7601e+00, -5.3737e+00,\n",
       "          -3.0581e+00, -2.6374e+00, -2.9021e+00, -3.7622e+00, -5.4315e+00,\n",
       "          -3.5111e+00, -2.9243e+00, -3.2402e+00, -4.2532e+00, -6.5139e+00,\n",
       "          -7.1682e+00, -5.6915e+00, -5.3743e+00, -6.3322e+00, -8.6165e+00,\n",
       "          -5.1777e+00, -4.0454e+00, -3.9360e+00, -4.6954e+00, -6.8744e+00,\n",
       "          -4.2350e+00, -3.3885e+00, -3.4186e+00, -4.1594e+00, -6.2301e+00,\n",
       "          -4.0049e+00, -3.2793e+00, -3.3932e+00, -4.3020e+00, -6.5484e+00,\n",
       "          -4.7688e+00, -3.9274e+00, -4.1083e+00, -5.1863e+00, -7.7567e+00,\n",
       "          -9.9141e+00, -8.5877e+00, -8.3708e+00, -9.5199e+00, -1.1648e+01,\n",
       "          -8.1197e+00, -6.6321e+00, -6.3360e+00, -7.4722e+00, -1.0001e+01,\n",
       "          -7.2010e+00, -5.7593e+00, -5.5522e+00, -6.6737e+00, -9.1136e+00,\n",
       "          -7.1151e+00, -5.8400e+00, -5.8002e+00, -6.8664e+00, -9.3575e+00,\n",
       "          -8.2456e+00, -7.1440e+00, -7.0275e+00, -8.3312e+00, -1.1031e+01,\n",
       "          -1.3817e+01, -1.2857e+01, -1.2827e+01, -1.3710e+01, -1.5281e+01,\n",
       "          -1.2406e+01, -1.1306e+01, -1.1318e+01, -1.2317e+01, -1.4027e+01,\n",
       "          -1.1765e+01, -1.0608e+01, -1.0425e+01, -1.1445e+01, -1.3611e+01,\n",
       "          -1.2096e+01, -1.0958e+01, -1.0709e+01, -1.1978e+01, -1.4365e+01,\n",
       "          -1.3777e+01, -1.2298e+01, -1.2561e+01, -1.3678e+01, -1.5399e+01]]],\n",
       "       grad_fn=<LogSoftmaxBackward0>)"
      ]
     },
     "execution_count": 20,
     "metadata": {},
     "output_type": "execute_result"
    }
   ],
   "source": [
    "p"
   ]
  },
  {
   "cell_type": "code",
   "execution_count": 21,
   "metadata": {},
   "outputs": [
    {
     "name": "stdout",
     "output_type": "stream",
     "text": [
      "CPU times: user 1 µs, sys: 0 ns, total: 1 µs\n",
      "Wall time: 4.77 µs\n"
     ]
    }
   ],
   "source": [
    "%%time\n",
    "# jacobian(p, dvi.in_var)  # crashes"
   ]
  },
  {
   "cell_type": "markdown",
   "metadata": {},
   "source": [
    "## Loss"
   ]
  },
  {
   "cell_type": "code",
   "execution_count": 22,
   "metadata": {},
   "outputs": [
    {
     "data": {
      "text/plain": [
       "{0.3528: 0, 0.1932: 1, 0.0937: 2, 0.01757: 3, 0.005612: 4}"
      ]
     },
     "execution_count": 22,
     "metadata": {},
     "output_type": "execute_result"
    }
   ],
   "source": [
    "x02id = {X0[m]: i for i, m in enumerate(gen.materials)}; x02id"
   ]
  },
  {
   "cell_type": "code",
   "execution_count": 23,
   "metadata": {},
   "outputs": [],
   "source": [
    "loss = VoxelClassLoss(x02id=x02id, target_budget=None)"
   ]
  },
  {
   "cell_type": "code",
   "execution_count": 24,
   "metadata": {},
   "outputs": [
    {
     "name": "stdout",
     "output_type": "stream",
     "text": [
      "Automatically setting cost coefficient to 0.6329460740089417\n"
     ]
    },
    {
     "data": {
      "text/plain": [
       "tensor([0.6329], grad_fn=<AddBackward0>)"
      ]
     },
     "execution_count": 24,
     "metadata": {},
     "output_type": "execute_result"
    }
   ],
   "source": [
    "l = loss(p, 1, volume); l"
   ]
  },
  {
   "cell_type": "markdown",
   "metadata": {},
   "source": [
    "## Plotting"
   ]
  },
  {
   "cell_type": "code",
   "execution_count": 25,
   "metadata": {},
   "outputs": [],
   "source": [
    "class_preds = p.argmax(1).detach().cpu().numpy()"
   ]
  },
  {
   "cell_type": "code",
   "execution_count": 26,
   "metadata": {},
   "outputs": [],
   "source": [
    "true = volume.get_rad_cube().flatten().reshape((5,5,5))"
   ]
  },
  {
   "cell_type": "code",
   "execution_count": 27,
   "metadata": {},
   "outputs": [],
   "source": [
    "class_preds = class_preds.reshape(true.shape)"
   ]
  },
  {
   "cell_type": "code",
   "execution_count": 28,
   "metadata": {},
   "outputs": [
    {
     "data": {
      "text/plain": [
       "{0: 0.3528, 1: 0.1932, 2: 0.0937, 3: 0.01757, 4: 0.005612}"
      ]
     },
     "execution_count": 28,
     "metadata": {},
     "output_type": "execute_result"
    }
   ],
   "source": [
    "id2x0 = {v:k for k,v in x02id.items()}; id2x0"
   ]
  },
  {
   "cell_type": "code",
   "execution_count": 29,
   "metadata": {},
   "outputs": [],
   "source": [
    "def class_to_x0preds(array: np.ndarray, id2x0: Dict[int, float]) -> np.ndarray:\n",
    "    x0array = np.zeros_like(array, dtype='float32')\n",
    "    for i in np.unique(array):\n",
    "        x0array[array == i] = id2x0[i]\n",
    "    return x0array"
   ]
  },
  {
   "cell_type": "code",
   "execution_count": 30,
   "metadata": {},
   "outputs": [],
   "source": [
    "x0_preds = class_to_x0preds(class_preds, id2x0)"
   ]
  },
  {
   "cell_type": "code",
   "execution_count": 31,
   "metadata": {
    "scrolled": false
   },
   "outputs": [
    {
     "data": {
      "image/png": "[encoded data removed]",
      "text/plain": [
       "<Figure size 576x1024 with 12 Axes>"
      ]
     },
     "metadata": {},
     "output_type": "display_data"
    }
   ],
   "source": [
    "plot_pred_true_x0(x0_preds, true)"
   ]
  },
  {
   "cell_type": "code",
   "execution_count": 32,
   "metadata": {},
   "outputs": [],
   "source": [
    "def x0targs_to_classtargs(array: np.ndarray, x02id: Dict[float, int]) -> np.ndarray:\n",
    "    x0array = np.zeros_like(array)\n",
    "    for i in np.unique(array):\n",
    "        x0array[array == i] = x02id[min(x02id, key=lambda x:abs(x-i))]\n",
    "    return x0array"
   ]
  },
  {
   "cell_type": "code",
   "execution_count": 33,
   "metadata": {},
   "outputs": [
    {
     "data": {
      "text/plain": [
       "{0.3528: 0, 0.1932: 1, 0.0937: 2, 0.01757: 3, 0.005612: 4}"
      ]
     },
     "execution_count": 33,
     "metadata": {},
     "output_type": "execute_result"
    }
   ],
   "source": [
    "x02id"
   ]
  },
  {
   "cell_type": "code",
   "execution_count": 34,
   "metadata": {},
   "outputs": [],
   "source": [
    "class_targs = x0targs_to_classtargs(true, x02id)"
   ]
  },
  {
   "cell_type": "code",
   "execution_count": 35,
   "metadata": {},
   "outputs": [
    {
     "data": {
      "text/plain": [
       "array([[[0., 0., 0., 0., 0.],\n",
       "        [0., 0., 0., 0., 0.],\n",
       "        [0., 0., 0., 0., 0.],\n",
       "        [0., 0., 0., 0., 0.],\n",
       "        [0., 0., 0., 0., 0.]],\n",
       "\n",
       "       [[2., 2., 2., 2., 0.],\n",
       "        [2., 2., 2., 2., 0.],\n",
       "        [2., 2., 2., 2., 0.],\n",
       "        [2., 2., 2., 2., 0.],\n",
       "        [2., 2., 2., 2., 0.]],\n",
       "\n",
       "       [[2., 2., 2., 2., 0.],\n",
       "        [2., 2., 2., 2., 0.],\n",
       "        [2., 2., 2., 2., 0.],\n",
       "        [2., 2., 2., 2., 0.],\n",
       "        [2., 2., 2., 2., 0.]],\n",
       "\n",
       "       [[0., 0., 0., 0., 0.],\n",
       "        [0., 0., 0., 0., 0.],\n",
       "        [0., 0., 0., 0., 0.],\n",
       "        [0., 0., 0., 0., 0.],\n",
       "        [0., 0., 0., 0., 0.]],\n",
       "\n",
       "       [[0., 0., 0., 0., 0.],\n",
       "        [0., 0., 0., 0., 0.],\n",
       "        [0., 0., 0., 0., 0.],\n",
       "        [0., 0., 0., 0., 0.],\n",
       "        [0., 0., 0., 0., 0.]]], dtype=float32)"
      ]
     },
     "execution_count": 35,
     "metadata": {},
     "output_type": "execute_result"
    }
   ],
   "source": [
    "class_targs"
   ]
  },
  {
   "cell_type": "code",
   "execution_count": 36,
   "metadata": {},
   "outputs": [
    {
     "data": {
      "image/png": "[encoded data removed]",
      "text/plain": [
       "<Figure size 576x1024 with 12 Axes>"
      ]
     },
     "metadata": {},
     "output_type": "display_data"
    }
   ],
   "source": [
    "plot_pred_true_x0(class_preds, class_targs)"
   ]
  },
  {
   "cell_type": "code",
   "execution_count": null,
   "metadata": {},
   "outputs": [],
   "source": []
  }
 ],
 "metadata": {
  "kernelspec": {
   "display_name": "Python [conda env:tomopt]",
   "language": "python",
   "name": "conda-env-tomopt-py"
  },
  "language_info": {
   "codemirror_mode": {
    "name": "ipython",
    "version": 3
   },
   "file_extension": ".py",
   "mimetype": "text/x-python",
   "name": "python",
   "nbconvert_exporter": "python",
   "pygments_lexer": "ipython3",
   "version": "3.8.0"
  },
  "toc": {
   "base_numbering": 1,
   "nav_menu": {},
   "number_sections": true,
   "sideBar": true,
   "skip_h1_title": false,
   "title_cell": "Table of Contents",
   "title_sidebar": "Contents",
   "toc_cell": false,
   "toc_position": {},
   "toc_section_display": true,
   "toc_window_display": false
  }
 },
 "nbformat": 4,
 "nbformat_minor": 4
}
