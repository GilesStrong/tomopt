{
 "cells": [
  {
   "cell_type": "code",
   "execution_count": 1,
   "id": "0410d432",
   "metadata": {},
   "outputs": [],
   "source": [
    "%matplotlib inline\n",
    "%reload_ext autoreload\n",
    "%autoreload 2"
   ]
  },
  {
   "cell_type": "code",
   "execution_count": 2,
   "id": "dbb16dc4",
   "metadata": {},
   "outputs": [],
   "source": [
    "from typing import *\n",
    "import numpy as np\n",
    "from functools import partial\n",
    "from fastprogress import progress_bar\n",
    "import pandas as pd\n",
    "import h5py\n",
    "\n",
    "from lumin.plotting.results import plot_roc\n",
    "\n",
    "import torch\n",
    "from torch import Tensor, nn\n",
    "import torch.nn.functional as F\n",
    "from torch._vmap_internals import _vmap as vmap\n",
    "\n",
    "from tomopt.volume import *\n",
    "from tomopt.muon import *\n",
    "from tomopt.inference import *\n",
    "from tomopt.optimisation import *\n",
    "from tomopt.core import *\n",
    "from tomopt.utils import *\n",
    "from tomopt.plotting import *\n",
    "\n",
    "import seaborn as sns\n",
    "import matplotlib.pyplot as plt"
   ]
  },
  {
   "cell_type": "code",
   "execution_count": 3,
   "id": "0a37b443",
   "metadata": {},
   "outputs": [],
   "source": [
    "with h5py.File('furnace_data_1kmu_1e4_nozero.hdf5', \"r\") as infile:\n",
    "    preds = Tensor(infile['preds'][()])\n",
    "    targs = Tensor(infile['targs'][()])"
   ]
  },
  {
   "cell_type": "code",
   "execution_count": 4,
   "id": "f31a105a",
   "metadata": {},
   "outputs": [],
   "source": [
    "def get_volume(size: float = 0.1, lwh: Tensor = Tensor([1.0, 1.0, 1.4]), device: torch.device = torch.device(\"cpu\")) -> Volume:\n",
    "    def area_cost(x: Tensor) -> Tensor:\n",
    "        return F.relu(x)\n",
    "\n",
    "    layers: List[Layer] = []\n",
    "    n_panels = 4\n",
    "    layers.append(\n",
    "        PanelDetectorLayer(\n",
    "            pos=\"above\",\n",
    "            lw=lwh[:2],\n",
    "            z=lwh[2].item(),\n",
    "            size=0.2,\n",
    "            panels=[\n",
    "                DetectorPanel(\n",
    "                    res=1e4,\n",
    "                    eff=1,\n",
    "                    init_xyz=(lwh[0].item() / 2, lwh[1].item() / 2, lwh[2].item() - (i * (0.2) / n_panels)),\n",
    "                    init_xy_span=(4., 4.),\n",
    "                    area_cost_func=area_cost,\n",
    "                    device=device,\n",
    "                )\n",
    "                for i in range(n_panels)\n",
    "            ],\n",
    "        )\n",
    "    )\n",
    "    for z in np.round(np.arange(lwh[2] - 0.2, 0.2, -size), decimals=2):\n",
    "        layers.append(PassiveLayer(lw=lwh[:2], z=z, size=size, device=device))\n",
    "    layers.append(\n",
    "        PanelDetectorLayer(\n",
    "            pos=\"below\",\n",
    "            lw=lwh[:2],\n",
    "            z=size,\n",
    "            size=0.2,\n",
    "            panels=[\n",
    "                DetectorPanel(\n",
    "                    res=1e4,\n",
    "                    eff=1,\n",
    "                    init_xyz=(lwh[0].item() / 2, lwh[1].item() / 2, 0.2 - (i * (0.2) / n_panels)),\n",
    "                    init_xy_span=(4., 4.),\n",
    "                    area_cost_func=area_cost,\n",
    "                    device=device,\n",
    "                )\n",
    "                for i in range(n_panels)\n",
    "            ],\n",
    "        )\n",
    "    )\n",
    "\n",
    "    return Volume(nn.ModuleList(layers))"
   ]
  },
  {
   "cell_type": "code",
   "execution_count": 5,
   "id": "54e9cf70",
   "metadata": {},
   "outputs": [],
   "source": [
    "volume = get_volume()"
   ]
  },
  {
   "cell_type": "code",
   "execution_count": 6,
   "id": "d4b4e8df",
   "metadata": {
    "scrolled": false
   },
   "outputs": [
    {
     "data": {
      "text/plain": [
       "Volume(\n",
       "  (layers): ModuleList(\n",
       "    (0): PanelDetectorLayer(\n",
       "      (panels): ModuleList(\n",
       "        (0): <class 'tomopt.volume.panel.DetectorPanel'> located at xy=tensor([0.5000, 0.5000]), z=tensor([1.4000]), and xy span tensor([4., 4.])\n",
       "        (1): <class 'tomopt.volume.panel.DetectorPanel'> located at xy=tensor([0.5000, 0.5000]), z=tensor([1.3500]), and xy span tensor([4., 4.])\n",
       "        (2): <class 'tomopt.volume.panel.DetectorPanel'> located at xy=tensor([0.5000, 0.5000]), z=tensor([1.3000]), and xy span tensor([4., 4.])\n",
       "        (3): <class 'tomopt.volume.panel.DetectorPanel'> located at xy=tensor([0.5000, 0.5000]), z=tensor([1.2500]), and xy span tensor([4., 4.])\n",
       "      )\n",
       "    )\n",
       "    (1): PassiveLayer located at z=tensor([1.2000])\n",
       "    (2): PassiveLayer located at z=tensor([1.1000])\n",
       "    (3): PassiveLayer located at z=tensor([1.])\n",
       "    (4): PassiveLayer located at z=tensor([0.9000])\n",
       "    (5): PassiveLayer located at z=tensor([0.8000])\n",
       "    (6): PassiveLayer located at z=tensor([0.7000])\n",
       "    (7): PassiveLayer located at z=tensor([0.6000])\n",
       "    (8): PassiveLayer located at z=tensor([0.5000])\n",
       "    (9): PassiveLayer located at z=tensor([0.4000])\n",
       "    (10): PassiveLayer located at z=tensor([0.3000])\n",
       "    (11): PanelDetectorLayer(\n",
       "      (panels): ModuleList(\n",
       "        (0): <class 'tomopt.volume.panel.DetectorPanel'> located at xy=tensor([0.5000, 0.5000]), z=tensor([0.2000]), and xy span tensor([4., 4.])\n",
       "        (1): <class 'tomopt.volume.panel.DetectorPanel'> located at xy=tensor([0.5000, 0.5000]), z=tensor([0.1500]), and xy span tensor([4., 4.])\n",
       "        (2): <class 'tomopt.volume.panel.DetectorPanel'> located at xy=tensor([0.5000, 0.5000]), z=tensor([0.1000]), and xy span tensor([4., 4.])\n",
       "        (3): <class 'tomopt.volume.panel.DetectorPanel'> located at xy=tensor([0.5000, 0.5000]), z=tensor([0.0500]), and xy span tensor([4., 4.])\n",
       "      )\n",
       "    )\n",
       "  )\n",
       ")"
      ]
     },
     "execution_count": 6,
     "metadata": {},
     "output_type": "execute_result"
    }
   ],
   "source": [
    "volume"
   ]
  },
  {
   "cell_type": "markdown",
   "id": "564d4ead",
   "metadata": {},
   "source": [
    "# Vars"
   ]
  },
  {
   "cell_type": "code",
   "execution_count": 7,
   "id": "b4963a3b",
   "metadata": {},
   "outputs": [],
   "source": [
    "df = pd.DataFrame(targs.numpy(), columns=['gen_target'])"
   ]
  },
  {
   "cell_type": "code",
   "execution_count": 8,
   "id": "026e0346",
   "metadata": {},
   "outputs": [],
   "source": [
    "from tomopt.plotting.appearance import *\n",
    "\n",
    "def plot_pred(pred, targ):\n",
    "    with sns.axes_style(style=\"whitegrid\", rc={\"patch.edgecolor\": \"none\"}):\n",
    "        fig, axs = plt.subplots(1, len(pred), figsize=(W_MID, H_MID))\n",
    "\n",
    "        for i in range(len(pred)):\n",
    "            sns.heatmap(\n",
    "                pred[i],\n",
    "                ax=axs[i],\n",
    "                cmap=\"viridis\",\n",
    "                square=True,\n",
    "                cbar=False,\n",
    "                vmin=np.nanmin(pred),\n",
    "                vmax=np.nanmax(pred),\n",
    "            )\n",
    "        print(\"Zero-ordered target layer ID (including ladel bottom layer):\", np.floor((targ-volume.get_passive_z_range()[0]-volume.passive_size)/volume.passive_size))\n",
    "        plt.show()"
   ]
  },
  {
   "cell_type": "code",
   "execution_count": 9,
   "id": "dbcafd74",
   "metadata": {},
   "outputs": [],
   "source": [
    "ladel_removed = preds[:,1:,1:-1,1:-1]"
   ]
  },
  {
   "cell_type": "code",
   "execution_count": 10,
   "id": "2c7fb408",
   "metadata": {},
   "outputs": [],
   "source": [
    "def get_3d_avg(data):\n",
    "    return F.avg_pool3d(data, kernel_size=3, padding=1, stride=1, count_include_pad=False)"
   ]
  },
  {
   "cell_type": "code",
   "execution_count": 11,
   "id": "003c0a84",
   "metadata": {},
   "outputs": [],
   "source": [
    "def get_3d_gauss(data):\n",
    "    gauss = nn.Conv3d(1, 1, kernel_size=3, stride=1, padding=1, padding_mode='replicate', bias=False)\n",
    "    gauss.weight.data =Tensor([[[[[1,2,1],[2,4,2],[1,2,1]],[[2,4,2],[4,8,4],[2,4,2]], [[1,2,1],[2,4,2],[1,2,1]]]]])\n",
    "    gauss.requires_grad_(False)\n",
    "    return gauss(data[:,None]).squeeze()/gauss.weight.sum()"
   ]
  },
  {
   "cell_type": "code",
   "execution_count": 12,
   "id": "dbfc956f",
   "metadata": {},
   "outputs": [],
   "source": [
    "def get_layer_avgs(data):\n",
    "    return data.mean((-1,-2))"
   ]
  },
  {
   "cell_type": "code",
   "execution_count": 13,
   "id": "cec49801",
   "metadata": {},
   "outputs": [],
   "source": [
    "def get_max_sub_mean(data):\n",
    "    maxes = F.max_pool1d(data, kernel_size=3, padding=1, stride=1)\n",
    "    mins = -F.max_pool1d(-data, kernel_size=3, padding=1, stride=1)\n",
    "    return maxes-mins"
   ]
  },
  {
   "cell_type": "code",
   "execution_count": 14,
   "id": "ae97918e",
   "metadata": {},
   "outputs": [],
   "source": [
    "def get_max_div_mean(data):\n",
    "    maxes = F.max_pool1d(data, kernel_size=3, padding=1, stride=1)\n",
    "    mins = -F.max_pool1d(-data, kernel_size=3, padding=1, stride=1)\n",
    "    return maxes/mins"
   ]
  },
  {
   "cell_type": "code",
   "execution_count": 15,
   "id": "664f09f1",
   "metadata": {},
   "outputs": [],
   "source": [
    "def get_edge_det(data, kernel):\n",
    "    edge = nn.Conv1d(1, 1, kernel_size=3, stride=1, padding=1, padding_mode='replicate', bias=False)\n",
    "    edge.weight.data = Tensor([[kernel]])\n",
    "    edge.requires_grad_(False)\n",
    "    return edge(data[:,None]).squeeze()"
   ]
  },
  {
   "cell_type": "code",
   "execution_count": 16,
   "id": "27568905",
   "metadata": {},
   "outputs": [],
   "source": [
    "def get_1d_gauss(data):\n",
    "    gauss = nn.Conv1d(1, 1, kernel_size=3, stride=1, padding=1, padding_mode='replicate', bias=False)\n",
    "    gauss.weight.data = Tensor([[[2,4,2]]])\n",
    "    gauss.requires_grad_(False)\n",
    "    return gauss(data[:,None]).squeeze()/8"
   ]
  },
  {
   "cell_type": "code",
   "execution_count": 17,
   "id": "3e215623",
   "metadata": {},
   "outputs": [],
   "source": [
    "def get_1d_avg(data):\n",
    "    return F.avg_pool1d(data, kernel_size=3, padding=1, stride=1, count_include_pad=False)"
   ]
  },
  {
   "cell_type": "code",
   "execution_count": 18,
   "id": "2c44302f",
   "metadata": {},
   "outputs": [],
   "source": [
    "def get_probs(data):\n",
    "    return F.softmax(data, dim=-1)"
   ]
  },
  {
   "cell_type": "code",
   "execution_count": 19,
   "id": "70303052",
   "metadata": {},
   "outputs": [],
   "source": [
    "def targ2class(targs, volume):\n",
    "    return torch.div((targs-volume.get_passive_z_range()[0]), volume.passive_size, rounding_mode='floor')-1  # -1 due to flooring of mat_z during voxelisation"
   ]
  },
  {
   "cell_type": "code",
   "execution_count": 76,
   "id": "293a669f",
   "metadata": {},
   "outputs": [],
   "source": [
    "def get_losses(probs, class_targs, pred_start, test_id=None):\n",
    "    ints = torch.arange(pred_start, pred_start+probs.size(1))\n",
    "    mses = 100*torch.softmax((class_targs-ints).abs(), dim=-1)\n",
    "    losses = mses*probs\n",
    "    if test_id is not None:\n",
    "        print('targ ID', class_targs[test_id])\n",
    "        print('probs', probs[test_id])\n",
    "        print('ints', ints)\n",
    "        print('mses', mses[test_id])\n",
    "        print('int losses', losses[test_id])\n",
    "    return losses.sum(-1)"
   ]
  },
  {
   "cell_type": "code",
   "execution_count": 77,
   "id": "252e750b",
   "metadata": {},
   "outputs": [],
   "source": [
    "def get_loss(probs, class_targs, pred_start, test_id=None):\n",
    "    return get_losses(probs, class_targs, pred_start, test_id).mean()"
   ]
  },
  {
   "cell_type": "code",
   "execution_count": 78,
   "id": "e64ca5eb",
   "metadata": {},
   "outputs": [],
   "source": [
    "def score_data(logits, targs, pred_start, volume=volume, test_id=None):\n",
    "    probs = get_probs(logits)\n",
    "    ctargs = targ2class(targs, volume=volume)\n",
    "    print(get_loss(probs, ctargs, pred_start, test_id=test_id))"
   ]
  },
  {
   "cell_type": "markdown",
   "id": "278d685d",
   "metadata": {},
   "source": [
    "# Tests"
   ]
  },
  {
   "cell_type": "code",
   "execution_count": 50,
   "id": "d8c8fde6",
   "metadata": {},
   "outputs": [],
   "source": [
    "test_id=0"
   ]
  },
  {
   "cell_type": "code",
   "execution_count": 51,
   "id": "e5a21d6c",
   "metadata": {},
   "outputs": [
    {
     "name": "stdout",
     "output_type": "stream",
     "text": [
      "Zero-ordered target layer ID (including ladel bottom layer): tensor([5.])\n"
     ]
    },
    {
     "data": {
      "image/png": "[encoded data removed]",
      "text/plain": [
       "<Figure size 1024x576 with 9 Axes>"
      ]
     },
     "metadata": {},
     "output_type": "display_data"
    },
    {
     "name": "stdout",
     "output_type": "stream",
     "text": [
      "Zero-ordered target layer ID (including ladel bottom layer): tensor([5.])\n"
     ]
    },
    {
     "data": {
      "image/png": "[encoded data removed]",
      "text/plain": [
       "<Figure size 1024x576 with 9 Axes>"
      ]
     },
     "metadata": {},
     "output_type": "display_data"
    },
    {
     "name": "stdout",
     "output_type": "stream",
     "text": [
      "tensor(11.0924)\n",
      "tensor(11.0961)\n",
      "targ ID tensor([5.])\n",
      "probs tensor([0.1107, 0.1108, 0.1112, 0.1113, 0.1109, 0.1116, 0.1118, 0.1110, 0.1108])\n",
      "ints tensor([1, 2, 3, 4, 5, 6, 7, 8, 9])\n",
      "mses tensor([32.0070, 11.7747,  4.3317,  1.5935,  0.5862,  1.5935,  4.3317, 11.7747,\n",
      "        32.0070])\n",
      "int losses tensor([3.5441, 1.3046, 0.4815, 0.1773, 0.0650, 0.1778, 0.4842, 1.3074, 3.5454])\n",
      "tensor(11.1001)\n"
     ]
    },
    {
     "data": {
      "text/plain": [
       "(None, None, None)"
      ]
     },
     "execution_count": 51,
     "metadata": {},
     "output_type": "execute_result"
    }
   ],
   "source": [
    "# max-min\n",
    "x = get_layer_avgs(ladel_removed)\n",
    "plot_pred(x[test_id,:,None,None], targs[test_id])\n",
    "x = get_max_sub_mean(x)\n",
    "plot_pred(x[test_id,:,None,None], targs[test_id])\n",
    "score_data(x, targs, pred_start=-1), score_data(x, targs, pred_start=0), score_data(x, targs, pred_start=1, test_id=test_id)"
   ]
  },
  {
   "cell_type": "code",
   "execution_count": 52,
   "id": "30edf5b5",
   "metadata": {},
   "outputs": [
    {
     "name": "stdout",
     "output_type": "stream",
     "text": [
      "Zero-ordered target layer ID (including ladel bottom layer): tensor([5.])\n"
     ]
    },
    {
     "data": {
      "image/png": "[encoded data removed]",
      "text/plain": [
       "<Figure size 1024x576 with 9 Axes>"
      ]
     },
     "metadata": {},
     "output_type": "display_data"
    },
    {
     "name": "stdout",
     "output_type": "stream",
     "text": [
      "tensor(9.5695)\n",
      "tensor(9.6330)\n",
      "targ ID tensor([5.])\n",
      "probs tensor([0.0862, 0.0921, 0.1339, 0.1359, 0.0956, 0.1330, 0.1492, 0.0916, 0.0826])\n",
      "ints tensor([1, 2, 3, 4, 5, 6, 7, 8, 9])\n",
      "mses tensor([32.0070, 11.7747,  4.3317,  1.5935,  0.5862,  1.5935,  4.3317, 11.7747,\n",
      "        32.0070])\n",
      "int losses tensor([2.7587, 1.0840, 0.5799, 0.2166, 0.0560, 0.2119, 0.6462, 1.0791, 2.6431])\n",
      "tensor(9.7183)\n"
     ]
    },
    {
     "data": {
      "text/plain": [
       "(None, None, None)"
      ]
     },
     "execution_count": 52,
     "metadata": {},
     "output_type": "execute_result"
    }
   ],
   "source": [
    "# max/min\n",
    "x = get_layer_avgs(ladel_removed)\n",
    "x = get_max_div_mean(x)\n",
    "plot_pred(x[test_id,:,None,None], targs[test_id])\n",
    "score_data(x, targs, pred_start=-1), score_data(x, targs, pred_start=0), score_data(x, targs, pred_start=1, test_id=test_id)"
   ]
  },
  {
   "cell_type": "code",
   "execution_count": 53,
   "id": "51ed3776",
   "metadata": {},
   "outputs": [
    {
     "name": "stdout",
     "output_type": "stream",
     "text": [
      "Zero-ordered target layer ID (including ladel bottom layer): tensor([5.])\n"
     ]
    },
    {
     "data": {
      "image/png": "[encoded data removed]",
      "text/plain": [
       "<Figure size 1024x576 with 9 Axes>"
      ]
     },
     "metadata": {},
     "output_type": "display_data"
    },
    {
     "name": "stdout",
     "output_type": "stream",
     "text": [
      "Zero-ordered target layer ID (including ladel bottom layer): tensor([5.])\n"
     ]
    },
    {
     "data": {
      "image/png": "[encoded data removed]",
      "text/plain": [
       "<Figure size 1024x576 with 9 Axes>"
      ]
     },
     "metadata": {},
     "output_type": "display_data"
    },
    {
     "name": "stdout",
     "output_type": "stream",
     "text": [
      "tensor(11.0886)\n",
      "tensor(11.0911)\n",
      "targ ID tensor([5.])\n",
      "probs tensor([0.1107, 0.1109, 0.1111, 0.1111, 0.1113, 0.1115, 0.1115, 0.1112, 0.1108])\n",
      "ints tensor([1, 2, 3, 4, 5, 6, 7, 8, 9])\n",
      "mses tensor([32.0070, 11.7747,  4.3317,  1.5935,  0.5862,  1.5935,  4.3317, 11.7747,\n",
      "        32.0070])\n",
      "int losses tensor([3.5438, 1.3055, 0.4812, 0.1771, 0.0652, 0.1776, 0.4829, 1.3090, 3.5453])\n",
      "tensor(11.0940)\n"
     ]
    },
    {
     "data": {
      "text/plain": [
       "(None, None, None)"
      ]
     },
     "execution_count": 53,
     "metadata": {},
     "output_type": "execute_result"
    }
   ],
   "source": [
    "# pre-avg 3d max-min\n",
    "x = get_3d_avg(ladel_removed)\n",
    "plot_pred(x[test_id], targs[test_id])\n",
    "x = get_layer_avgs(x)\n",
    "x = get_max_sub_mean(x)\n",
    "plot_pred(x[test_id,:,None,None], targs[test_id])\n",
    "score_data(x, targs, pred_start=-1), score_data(x, targs, pred_start=0), score_data(x, targs, pred_start=1, test_id=test_id)"
   ]
  },
  {
   "cell_type": "code",
   "execution_count": 54,
   "id": "a93424f3",
   "metadata": {},
   "outputs": [
    {
     "name": "stdout",
     "output_type": "stream",
     "text": [
      "Zero-ordered target layer ID (including ladel bottom layer): tensor([5.])\n"
     ]
    },
    {
     "data": {
      "image/png": "[encoded data removed]",
      "text/plain": [
       "<Figure size 1024x576 with 9 Axes>"
      ]
     },
     "metadata": {},
     "output_type": "display_data"
    },
    {
     "name": "stdout",
     "output_type": "stream",
     "text": [
      "Zero-ordered target layer ID (including ladel bottom layer): tensor([5.])\n"
     ]
    },
    {
     "data": {
      "image/png": "[encoded data removed]",
      "text/plain": [
       "<Figure size 1024x576 with 9 Axes>"
      ]
     },
     "metadata": {},
     "output_type": "display_data"
    },
    {
     "name": "stdout",
     "output_type": "stream",
     "text": [
      "tensor(9.2971)\n",
      "tensor(9.3466)\n",
      "targ ID tensor([5.])\n",
      "probs tensor([0.0871, 0.1012, 0.1214, 0.1216, 0.1259, 0.1329, 0.1223, 0.1017, 0.0860])\n",
      "ints tensor([1, 2, 3, 4, 5, 6, 7, 8, 9])\n",
      "mses tensor([32.0070, 11.7747,  4.3317,  1.5935,  0.5862,  1.5935,  4.3317, 11.7747,\n",
      "        32.0070])\n",
      "int losses tensor([2.7869, 1.1919, 0.5258, 0.1937, 0.0738, 0.2118, 0.5296, 1.1979, 2.7526])\n",
      "tensor(9.4284)\n"
     ]
    },
    {
     "data": {
      "text/plain": [
       "(None, None, None)"
      ]
     },
     "execution_count": 54,
     "metadata": {},
     "output_type": "execute_result"
    }
   ],
   "source": [
    "# pre-avg 3d max/min\n",
    "x = get_3d_avg(ladel_removed)\n",
    "plot_pred(x[test_id], targs[test_id])\n",
    "x = get_layer_avgs(x)\n",
    "x = get_max_div_mean(x)\n",
    "plot_pred(x[test_id,:,None,None], targs[test_id])\n",
    "score_data(x, targs, pred_start=-1), score_data(x, targs, pred_start=0), score_data(x, targs, pred_start=1, test_id=test_id)"
   ]
  },
  {
   "cell_type": "code",
   "execution_count": 55,
   "id": "eb59509b",
   "metadata": {},
   "outputs": [
    {
     "name": "stdout",
     "output_type": "stream",
     "text": [
      "Zero-ordered target layer ID (including ladel bottom layer): tensor([5.])\n"
     ]
    },
    {
     "data": {
      "image/png": "[encoded data removed]",
      "text/plain": [
       "<Figure size 1024x576 with 9 Axes>"
      ]
     },
     "metadata": {},
     "output_type": "display_data"
    },
    {
     "name": "stdout",
     "output_type": "stream",
     "text": [
      "Zero-ordered target layer ID (including ladel bottom layer): tensor([5.])\n"
     ]
    },
    {
     "data": {
      "image/png": "[encoded data removed]",
      "text/plain": [
       "<Figure size 1024x576 with 9 Axes>"
      ]
     },
     "metadata": {},
     "output_type": "display_data"
    },
    {
     "name": "stdout",
     "output_type": "stream",
     "text": [
      "tensor(11.0910)\n",
      "tensor(11.0942)\n",
      "targ ID tensor([5.])\n",
      "probs tensor([0.1107, 0.1108, 0.1111, 0.1112, 0.1112, 0.1115, 0.1116, 0.1112, 0.1108])\n",
      "ints tensor([1, 2, 3, 4, 5, 6, 7, 8, 9])\n",
      "mses tensor([32.0070, 11.7747,  4.3317,  1.5935,  0.5862,  1.5935,  4.3317, 11.7747,\n",
      "        32.0070])\n",
      "int losses tensor([3.5425, 1.3049, 0.4813, 0.1772, 0.0652, 0.1776, 0.4833, 1.3091, 3.5464])\n",
      "tensor(11.0978)\n"
     ]
    },
    {
     "data": {
      "text/plain": [
       "(None, None, None)"
      ]
     },
     "execution_count": 55,
     "metadata": {},
     "output_type": "execute_result"
    }
   ],
   "source": [
    "# pre-gaiss 3d max-min\n",
    "x = get_3d_gauss(ladel_removed)\n",
    "plot_pred(x[test_id], targs[test_id])\n",
    "x = get_layer_avgs(x)\n",
    "x = get_max_sub_mean(x)\n",
    "plot_pred(x[test_id,:,None,None], targs[test_id])\n",
    "score_data(x, targs, pred_start=-1), score_data(x, targs, pred_start=0), score_data(x, targs, pred_start=1, test_id=test_id)"
   ]
  },
  {
   "cell_type": "code",
   "execution_count": 56,
   "id": "7dabe4d9",
   "metadata": {},
   "outputs": [
    {
     "name": "stdout",
     "output_type": "stream",
     "text": [
      "Zero-ordered target layer ID (including ladel bottom layer): tensor([5.])\n"
     ]
    },
    {
     "data": {
      "image/png": "[encoded data removed]",
      "text/plain": [
       "<Figure size 1024x576 with 9 Axes>"
      ]
     },
     "metadata": {},
     "output_type": "display_data"
    },
    {
     "name": "stdout",
     "output_type": "stream",
     "text": [
      "Zero-ordered target layer ID (including ladel bottom layer): tensor([5.])\n"
     ]
    },
    {
     "data": {
      "image/png": "[encoded data removed]",
      "text/plain": [
       "<Figure size 1024x576 with 9 Axes>"
      ]
     },
     "metadata": {},
     "output_type": "display_data"
    },
    {
     "name": "stdout",
     "output_type": "stream",
     "text": [
      "tensor(9.4706)\n",
      "tensor(9.5414)\n",
      "targ ID tensor([5.])\n",
      "probs tensor([0.0833, 0.0953, 0.1250, 0.1270, 0.1182, 0.1335, 0.1296, 0.1016, 0.0867])\n",
      "ints tensor([1, 2, 3, 4, 5, 6, 7, 8, 9])\n",
      "mses tensor([32.0070, 11.7747,  4.3317,  1.5935,  0.5862,  1.5935,  4.3317, 11.7747,\n",
      "        32.0070])\n",
      "int losses tensor([2.6649, 1.1221, 0.5414, 0.2024, 0.0693, 0.2127, 0.5613, 1.1962, 2.7737])\n",
      "tensor(9.6441)\n"
     ]
    },
    {
     "data": {
      "text/plain": [
       "(None, None, None)"
      ]
     },
     "execution_count": 56,
     "metadata": {},
     "output_type": "execute_result"
    }
   ],
   "source": [
    "# pre-gauss 3d max/min\n",
    "x = get_3d_gauss(ladel_removed)\n",
    "plot_pred(x[test_id], targs[test_id])\n",
    "x = get_layer_avgs(x)\n",
    "x = get_max_div_mean(x)\n",
    "plot_pred(x[test_id,:,None,None], targs[test_id])\n",
    "score_data(x, targs, pred_start=-1), score_data(x, targs, pred_start=0), score_data(x, targs, pred_start=1, test_id=test_id)"
   ]
  },
  {
   "cell_type": "code",
   "execution_count": 57,
   "id": "f64fdbb0",
   "metadata": {},
   "outputs": [
    {
     "name": "stdout",
     "output_type": "stream",
     "text": [
      "Zero-ordered target layer ID (including ladel bottom layer): tensor([5.])\n"
     ]
    },
    {
     "data": {
      "image/png": "[encoded data removed]",
      "text/plain": [
       "<Figure size 1024x576 with 9 Axes>"
      ]
     },
     "metadata": {},
     "output_type": "display_data"
    },
    {
     "name": "stdout",
     "output_type": "stream",
     "text": [
      "tensor(11.0895)\n",
      "tensor(11.0920)\n",
      "targ ID tensor([5.])\n",
      "probs tensor([0.1107, 0.1109, 0.1111, 0.1111, 0.1113, 0.1115, 0.1115, 0.1112, 0.1108])\n",
      "ints tensor([1, 2, 3, 4, 5, 6, 7, 8, 9])\n",
      "mses tensor([32.0070, 11.7747,  4.3317,  1.5935,  0.5862,  1.5935,  4.3317, 11.7747,\n",
      "        32.0070])\n",
      "int losses tensor([3.5436, 1.3053, 0.4811, 0.1771, 0.0652, 0.1776, 0.4829, 1.3094, 3.5459])\n",
      "tensor(11.0948)\n"
     ]
    },
    {
     "data": {
      "text/plain": [
       "(None, None, None)"
      ]
     },
     "execution_count": 57,
     "metadata": {},
     "output_type": "execute_result"
    }
   ],
   "source": [
    "# avg 1d max-min\n",
    "x = get_layer_avgs(ladel_removed)\n",
    "x = get_1d_avg(x)\n",
    "x = get_max_sub_mean(x)\n",
    "plot_pred(x[test_id,:,None,None], targs[test_id])\n",
    "score_data(x, targs, pred_start=-1), score_data(x, targs, pred_start=0), score_data(x, targs, pred_start=1, test_id=test_id)"
   ]
  },
  {
   "cell_type": "code",
   "execution_count": 58,
   "id": "d39e13dc",
   "metadata": {},
   "outputs": [
    {
     "name": "stdout",
     "output_type": "stream",
     "text": [
      "Zero-ordered target layer ID (including ladel bottom layer): tensor([5.])\n"
     ]
    },
    {
     "data": {
      "image/png": "[encoded data removed]",
      "text/plain": [
       "<Figure size 1024x576 with 9 Axes>"
      ]
     },
     "metadata": {},
     "output_type": "display_data"
    },
    {
     "name": "stdout",
     "output_type": "stream",
     "text": [
      "tensor(9.3387)\n",
      "tensor(9.3930)\n",
      "targ ID tensor([5.])\n",
      "probs tensor([0.0862, 0.0992, 0.1211, 0.1230, 0.1256, 0.1320, 0.1233, 0.1032, 0.0864])\n",
      "ints tensor([1, 2, 3, 4, 5, 6, 7, 8, 9])\n",
      "mses tensor([32.0070, 11.7747,  4.3317,  1.5935,  0.5862,  1.5935,  4.3317, 11.7747,\n",
      "        32.0070])\n",
      "int losses tensor([2.7575, 1.1677, 0.5246, 0.1960, 0.0736, 0.2104, 0.5339, 1.2154, 2.7666])\n",
      "tensor(9.4795)\n"
     ]
    },
    {
     "data": {
      "text/plain": [
       "(None, None, None)"
      ]
     },
     "execution_count": 58,
     "metadata": {},
     "output_type": "execute_result"
    }
   ],
   "source": [
    "# avg 1d max/min\n",
    "x = get_layer_avgs(ladel_removed)\n",
    "x = get_1d_avg(x)\n",
    "x = get_max_div_mean(x)\n",
    "plot_pred(x[test_id,:,None,None], targs[test_id])\n",
    "score_data(x, targs, pred_start=-1), score_data(x, targs, pred_start=0), score_data(x, targs, pred_start=1, test_id=test_id)"
   ]
  },
  {
   "cell_type": "code",
   "execution_count": 59,
   "id": "3d60b8a6",
   "metadata": {},
   "outputs": [
    {
     "name": "stdout",
     "output_type": "stream",
     "text": [
      "Zero-ordered target layer ID (including ladel bottom layer): tensor([5.])\n"
     ]
    },
    {
     "data": {
      "image/png": "[encoded data removed]",
      "text/plain": [
       "<Figure size 1024x576 with 9 Axes>"
      ]
     },
     "metadata": {},
     "output_type": "display_data"
    },
    {
     "name": "stdout",
     "output_type": "stream",
     "text": [
      "tensor(11.0910)\n",
      "tensor(11.0942)\n",
      "targ ID tensor([5.])\n",
      "probs tensor([0.1107, 0.1108, 0.1111, 0.1112, 0.1112, 0.1115, 0.1116, 0.1112, 0.1108])\n",
      "ints tensor([1, 2, 3, 4, 5, 6, 7, 8, 9])\n",
      "mses tensor([32.0070, 11.7747,  4.3317,  1.5935,  0.5862,  1.5935,  4.3317, 11.7747,\n",
      "        32.0070])\n",
      "int losses tensor([3.5425, 1.3049, 0.4813, 0.1772, 0.0652, 0.1776, 0.4833, 1.3091, 3.5464])\n",
      "tensor(11.0978)\n"
     ]
    },
    {
     "data": {
      "text/plain": [
       "(None, None, None)"
      ]
     },
     "execution_count": 59,
     "metadata": {},
     "output_type": "execute_result"
    }
   ],
   "source": [
    "# gaussg 1d max-min\n",
    "x = get_layer_avgs(ladel_removed)\n",
    "x = get_1d_gauss(x)\n",
    "x = get_max_sub_mean(x)\n",
    "plot_pred(x[test_id,:,None,None], targs[test_id])\n",
    "score_data(x, targs, pred_start=-1), score_data(x, targs, pred_start=0), score_data(x, targs, pred_start=1, test_id=test_id)"
   ]
  },
  {
   "cell_type": "code",
   "execution_count": 60,
   "id": "d52b253f",
   "metadata": {},
   "outputs": [
    {
     "name": "stdout",
     "output_type": "stream",
     "text": [
      "Zero-ordered target layer ID (including ladel bottom layer): tensor([5.])\n"
     ]
    },
    {
     "data": {
      "image/png": "[encoded data removed]",
      "text/plain": [
       "<Figure size 1024x576 with 9 Axes>"
      ]
     },
     "metadata": {},
     "output_type": "display_data"
    },
    {
     "name": "stdout",
     "output_type": "stream",
     "text": [
      "tensor(9.4706)\n",
      "tensor(9.5414)\n",
      "targ ID tensor([5.])\n",
      "probs tensor([0.0833, 0.0953, 0.1250, 0.1270, 0.1182, 0.1335, 0.1296, 0.1016, 0.0867])\n",
      "ints tensor([1, 2, 3, 4, 5, 6, 7, 8, 9])\n",
      "mses tensor([32.0070, 11.7747,  4.3317,  1.5935,  0.5862,  1.5935,  4.3317, 11.7747,\n",
      "        32.0070])\n",
      "int losses tensor([2.6649, 1.1221, 0.5414, 0.2024, 0.0693, 0.2127, 0.5613, 1.1962, 2.7737])\n",
      "tensor(9.6441)\n"
     ]
    },
    {
     "data": {
      "text/plain": [
       "(None, None, None)"
      ]
     },
     "execution_count": 60,
     "metadata": {},
     "output_type": "execute_result"
    }
   ],
   "source": [
    "# gauss 1d max/min\n",
    "x = get_layer_avgs(ladel_removed)\n",
    "x = get_1d_gauss(x)\n",
    "x = get_max_div_mean(x)\n",
    "plot_pred(x[test_id,:,None,None], targs[test_id])\n",
    "score_data(x, targs, pred_start=-1), score_data(x, targs, pred_start=0), score_data(x, targs, pred_start=1, test_id=test_id)"
   ]
  },
  {
   "cell_type": "code",
   "execution_count": 61,
   "id": "f5d727ba",
   "metadata": {},
   "outputs": [
    {
     "name": "stdout",
     "output_type": "stream",
     "text": [
      "Zero-ordered target layer ID (including ladel bottom layer): tensor([5.])\n"
     ]
    },
    {
     "data": {
      "image/png": "[encoded data removed]",
      "text/plain": [
       "<Figure size 1024x576 with 9 Axes>"
      ]
     },
     "metadata": {},
     "output_type": "display_data"
    },
    {
     "name": "stdout",
     "output_type": "stream",
     "text": [
      "Zero-ordered target layer ID (including ladel bottom layer): tensor([5.])\n"
     ]
    },
    {
     "data": {
      "image/png": "[encoded data removed]",
      "text/plain": [
       "<Figure size 1024x576 with 9 Axes>"
      ]
     },
     "metadata": {},
     "output_type": "display_data"
    },
    {
     "name": "stdout",
     "output_type": "stream",
     "text": [
      "tensor(11.0898)\n",
      "tensor(11.0917)\n",
      "targ ID tensor([5.])\n",
      "probs tensor([0.1107, 0.1109, 0.1110, 0.1112, 0.1113, 0.1114, 0.1114, 0.1111, 0.1108])\n",
      "ints tensor([1, 2, 3, 4, 5, 6, 7, 8, 9])\n",
      "mses tensor([32.0070, 11.7747,  4.3317,  1.5935,  0.5862,  1.5935,  4.3317, 11.7747,\n",
      "        32.0070])\n",
      "int losses tensor([3.5447, 1.3058, 0.4810, 0.1772, 0.0653, 0.1776, 0.4825, 1.3086, 3.5477])\n",
      "tensor(11.0941)\n"
     ]
    },
    {
     "data": {
      "text/plain": [
       "(None, None, None)"
      ]
     },
     "execution_count": 61,
     "metadata": {},
     "output_type": "execute_result"
    }
   ],
   "source": [
    "# pre-avg 3d avg 1d max-min\n",
    "x = get_3d_avg(ladel_removed)\n",
    "plot_pred(x[test_id], targs[test_id])\n",
    "x = get_layer_avgs(x)\n",
    "x = get_1d_avg(x)\n",
    "x = get_max_sub_mean(x)\n",
    "plot_pred(x[test_id,:,None,None], targs[test_id])\n",
    "score_data(x, targs, pred_start=-1), score_data(x, targs, pred_start=0), score_data(x, targs, pred_start=1, test_id=test_id)"
   ]
  },
  {
   "cell_type": "code",
   "execution_count": 62,
   "id": "eb183c88",
   "metadata": {},
   "outputs": [
    {
     "name": "stdout",
     "output_type": "stream",
     "text": [
      "Zero-ordered target layer ID (including ladel bottom layer): tensor([5.])\n"
     ]
    },
    {
     "data": {
      "image/png": "[encoded data removed]",
      "text/plain": [
       "<Figure size 1024x576 with 9 Axes>"
      ]
     },
     "metadata": {},
     "output_type": "display_data"
    },
    {
     "name": "stdout",
     "output_type": "stream",
     "text": [
      "Zero-ordered target layer ID (including ladel bottom layer): tensor([5.])\n"
     ]
    },
    {
     "data": {
      "image/png": "[encoded data removed]",
      "text/plain": [
       "<Figure size 1024x576 with 9 Axes>"
      ]
     },
     "metadata": {},
     "output_type": "display_data"
    },
    {
     "name": "stdout",
     "output_type": "stream",
     "text": [
      "Zero-ordered target layer ID (including ladel bottom layer): tensor([5.])\n"
     ]
    },
    {
     "data": {
      "image/png": "[encoded data removed]",
      "text/plain": [
       "<Figure size 1024x576 with 9 Axes>"
      ]
     },
     "metadata": {},
     "output_type": "display_data"
    },
    {
     "name": "stdout",
     "output_type": "stream",
     "text": [
      "Zero-ordered target layer ID (including ladel bottom layer): tensor([5.])\n"
     ]
    },
    {
     "data": {
      "image/png": "[encoded data removed]",
      "text/plain": [
       "<Figure size 1024x576 with 9 Axes>"
      ]
     },
     "metadata": {},
     "output_type": "display_data"
    },
    {
     "name": "stdout",
     "output_type": "stream",
     "text": [
      "Zero-ordered target layer ID (including ladel bottom layer): tensor([5.])\n"
     ]
    },
    {
     "data": {
      "image/png": "[encoded data removed]",
      "text/plain": [
       "<Figure size 1024x576 with 9 Axes>"
      ]
     },
     "metadata": {},
     "output_type": "display_data"
    },
    {
     "name": "stdout",
     "output_type": "stream",
     "text": [
      "tensor(9.4200)\n",
      "tensor(9.4544)\n",
      "targ ID tensor([5.])\n",
      "probs tensor([0.0894, 0.1031, 0.1165, 0.1250, 0.1291, 0.1285, 0.1180, 0.1012, 0.0892])\n",
      "ints tensor([1, 2, 3, 4, 5, 6, 7, 8, 9])\n",
      "mses tensor([32.0070, 11.7747,  4.3317,  1.5935,  0.5862,  1.5935,  4.3317, 11.7747,\n",
      "        32.0070])\n",
      "int losses tensor([2.8625, 1.2143, 0.5046, 0.1991, 0.0757, 0.2047, 0.5109, 1.1916, 2.8557])\n",
      "tensor(9.5182)\n"
     ]
    },
    {
     "data": {
      "text/plain": [
       "(None, None, None)"
      ]
     },
     "execution_count": 62,
     "metadata": {},
     "output_type": "execute_result"
    }
   ],
   "source": [
    "# pre-avg 3d avg 1d max/min\n",
    "plot_pred(ladel_removed[0], targs[0])\n",
    "x = get_3d_avg(ladel_removed)\n",
    "plot_pred(x[test_id], targs[test_id])\n",
    "x = get_layer_avgs(x)\n",
    "plot_pred(x[test_id,:,None,None], targs[test_id])\n",
    "x = get_1d_avg(x)\n",
    "plot_pred(x[test_id,:,None,None], targs[test_id])\n",
    "x = get_max_div_mean(x)\n",
    "plot_pred(x[test_id,:,None,None], targs[test_id])\n",
    "score_data(x, targs, pred_start=-1), score_data(x, targs, pred_start=0), score_data(x, targs, pred_start=1, test_id=test_id)"
   ]
  },
  {
   "cell_type": "markdown",
   "id": "5ba9d8cc",
   "metadata": {},
   "source": [
    "## Ridge -1,x,-1"
   ]
  },
  {
   "cell_type": "code",
   "execution_count": 63,
   "id": "fd7a79b5",
   "metadata": {},
   "outputs": [
    {
     "name": "stdout",
     "output_type": "stream",
     "text": [
      "Zero-ordered target layer ID (including ladel bottom layer): tensor([5.])\n"
     ]
    },
    {
     "data": {
      "image/png": "[encoded data removed]",
      "text/plain": [
       "<Figure size 1024x576 with 9 Axes>"
      ]
     },
     "metadata": {},
     "output_type": "display_data"
    },
    {
     "name": "stdout",
     "output_type": "stream",
     "text": [
      "Zero-ordered target layer ID (including ladel bottom layer): tensor([5.])\n"
     ]
    },
    {
     "data": {
      "image/png": "[encoded data removed]",
      "text/plain": [
       "<Figure size 1024x576 with 9 Axes>"
      ]
     },
     "metadata": {},
     "output_type": "display_data"
    },
    {
     "name": "stdout",
     "output_type": "stream",
     "text": [
      "tensor(11.1023)\n",
      "tensor(11.0996)\n",
      "targ ID tensor([5.])\n",
      "probs tensor([0.1110, 0.1113, 0.1113, 0.1110, 0.1109, 0.1119, 0.1105, 0.1110, 0.1110])\n",
      "ints tensor([1, 2, 3, 4, 5, 6, 7, 8, 9])\n",
      "mses tensor([32.0070, 11.7747,  4.3317,  1.5935,  0.5862,  1.5935,  4.3317, 11.7747,\n",
      "        32.0070])\n",
      "int losses tensor([3.5536, 1.3110, 0.4822, 0.1769, 0.0650, 0.1784, 0.4787, 1.3066, 3.5523])\n",
      "tensor(11.0971)\n"
     ]
    },
    {
     "data": {
      "text/plain": [
       "(None, None, None)"
      ]
     },
     "execution_count": 63,
     "metadata": {},
     "output_type": "execute_result"
    }
   ],
   "source": [
    "# Ridge\n",
    "x = get_layer_avgs(ladel_removed)\n",
    "plot_pred(x[test_id,:,None,None], targs[test_id])\n",
    "x = -get_edge_det(x, [-1,2,-1])\n",
    "plot_pred(x[test_id,:,None,None], targs[test_id])\n",
    "score_data(x, targs, pred_start=-1), score_data(x, targs, pred_start=0), score_data(x, targs, pred_start=1, test_id=test_id)"
   ]
  },
  {
   "cell_type": "code",
   "execution_count": 64,
   "id": "fb9ad341",
   "metadata": {},
   "outputs": [
    {
     "name": "stdout",
     "output_type": "stream",
     "text": [
      "Zero-ordered target layer ID (including ladel bottom layer): tensor([5.])\n"
     ]
    },
    {
     "data": {
      "image/png": "[encoded data removed]",
      "text/plain": [
       "<Figure size 1024x576 with 9 Axes>"
      ]
     },
     "metadata": {},
     "output_type": "display_data"
    },
    {
     "name": "stdout",
     "output_type": "stream",
     "text": [
      "Zero-ordered target layer ID (including ladel bottom layer): tensor([5.])\n"
     ]
    },
    {
     "data": {
      "image/png": "[encoded data removed]",
      "text/plain": [
       "<Figure size 1024x576 with 9 Axes>"
      ]
     },
     "metadata": {},
     "output_type": "display_data"
    },
    {
     "name": "stdout",
     "output_type": "stream",
     "text": [
      "Zero-ordered target layer ID (including ladel bottom layer): tensor([5.])\n"
     ]
    },
    {
     "data": {
      "image/png": "[encoded data removed]",
      "text/plain": [
       "<Figure size 1024x576 with 9 Axes>"
      ]
     },
     "metadata": {},
     "output_type": "display_data"
    },
    {
     "name": "stdout",
     "output_type": "stream",
     "text": [
      "tensor(11.1078)\n",
      "tensor(11.1057)\n",
      "targ ID tensor([5.])\n",
      "probs tensor([0.1111, 0.1112, 0.1112, 0.1111, 0.1113, 0.1111, 0.1111, 0.1108, 0.1110])\n",
      "ints tensor([1, 2, 3, 4, 5, 6, 7, 8, 9])\n",
      "mses tensor([32.0070, 11.7747,  4.3317,  1.5935,  0.5862,  1.5935,  4.3317, 11.7747,\n",
      "        32.0070])\n",
      "int losses tensor([3.5575, 1.3096, 0.4818, 0.1770, 0.0652, 0.1771, 0.4814, 1.3047, 3.5528])\n",
      "tensor(11.1036)\n"
     ]
    },
    {
     "data": {
      "text/plain": [
       "(None, None, None)"
      ]
     },
     "execution_count": 64,
     "metadata": {},
     "output_type": "execute_result"
    }
   ],
   "source": [
    "# 1d avg Ridge\n",
    "x = get_layer_avgs(ladel_removed)\n",
    "plot_pred(x[test_id,:,None,None], targs[test_id])\n",
    "x = get_1d_avg(x)\n",
    "plot_pred(x[test_id,:,None,None], targs[test_id])\n",
    "x = -get_edge_det(x, [-1,2,-1])\n",
    "plot_pred(x[test_id,:,None,None], targs[test_id])\n",
    "score_data(x, targs, pred_start=-1), score_data(x, targs, pred_start=0), score_data(x, targs, pred_start=1, test_id=test_id)"
   ]
  },
  {
   "cell_type": "code",
   "execution_count": 65,
   "id": "7edf648e",
   "metadata": {},
   "outputs": [
    {
     "name": "stdout",
     "output_type": "stream",
     "text": [
      "Zero-ordered target layer ID (including ladel bottom layer): tensor([5.])\n"
     ]
    },
    {
     "data": {
      "image/png": "[encoded data removed]",
      "text/plain": [
       "<Figure size 1024x576 with 9 Axes>"
      ]
     },
     "metadata": {},
     "output_type": "display_data"
    },
    {
     "name": "stdout",
     "output_type": "stream",
     "text": [
      "Zero-ordered target layer ID (including ladel bottom layer): tensor([5.])\n"
     ]
    },
    {
     "data": {
      "image/png": "[encoded data removed]",
      "text/plain": [
       "<Figure size 1024x576 with 9 Axes>"
      ]
     },
     "metadata": {},
     "output_type": "display_data"
    },
    {
     "name": "stdout",
     "output_type": "stream",
     "text": [
      "Zero-ordered target layer ID (including ladel bottom layer): tensor([5.])\n"
     ]
    },
    {
     "data": {
      "image/png": "[encoded data removed]",
      "text/plain": [
       "<Figure size 1024x576 with 9 Axes>"
      ]
     },
     "metadata": {},
     "output_type": "display_data"
    },
    {
     "name": "stdout",
     "output_type": "stream",
     "text": [
      "tensor(11.1078)\n",
      "tensor(11.1056)\n",
      "targ ID tensor([5.])\n",
      "probs tensor([0.1112, 0.1112, 0.1112, 0.1111, 0.1113, 0.1111, 0.1111, 0.1108, 0.1110])\n",
      "ints tensor([1, 2, 3, 4, 5, 6, 7, 8, 9])\n",
      "mses tensor([32.0070, 11.7747,  4.3317,  1.5935,  0.5862,  1.5935,  4.3317, 11.7747,\n",
      "        32.0070])\n",
      "int losses tensor([3.5578, 1.3096, 0.4817, 0.1770, 0.0652, 0.1771, 0.4813, 1.3046, 3.5534])\n",
      "tensor(11.1034)\n"
     ]
    },
    {
     "data": {
      "text/plain": [
       "(None, None, None)"
      ]
     },
     "execution_count": 65,
     "metadata": {},
     "output_type": "execute_result"
    }
   ],
   "source": [
    "# 3d avg Ridge\n",
    "x = get_3d_avg(ladel_removed)\n",
    "plot_pred(x[test_id], targs[test_id])\n",
    "x = get_layer_avgs(x)\n",
    "plot_pred(x[test_id,:,None,None], targs[test_id])\n",
    "x = -get_edge_det(x, [-1,2,-1])\n",
    "plot_pred(x[test_id,:,None,None], targs[test_id])\n",
    "score_data(x, targs, pred_start=-1), score_data(x, targs, pred_start=0), score_data(x, targs, pred_start=1, test_id=test_id)"
   ]
  },
  {
   "cell_type": "code",
   "execution_count": 88,
   "id": "74b1abc7",
   "metadata": {},
   "outputs": [
    {
     "name": "stdout",
     "output_type": "stream",
     "text": [
      "Zero-ordered target layer ID (including ladel bottom layer): tensor([5.])\n"
     ]
    },
    {
     "data": {
      "image/png": "[encoded data removed]",
      "text/plain": [
       "<Figure size 1024x576 with 9 Axes>"
      ]
     },
     "metadata": {},
     "output_type": "display_data"
    },
    {
     "name": "stdout",
     "output_type": "stream",
     "text": [
      "Zero-ordered target layer ID (including ladel bottom layer): tensor([5.])\n"
     ]
    },
    {
     "data": {
      "image/png": "[encoded data removed]",
      "text/plain": [
       "<Figure size 1024x576 with 9 Axes>"
      ]
     },
     "metadata": {},
     "output_type": "display_data"
    },
    {
     "name": "stdout",
     "output_type": "stream",
     "text": [
      "Zero-ordered target layer ID (including ladel bottom layer): tensor([5.])\n"
     ]
    },
    {
     "data": {
      "image/png": "[encoded data removed]",
      "text/plain": [
       "<Figure size 1024x576 with 9 Axes>"
      ]
     },
     "metadata": {},
     "output_type": "display_data"
    },
    {
     "name": "stdout",
     "output_type": "stream",
     "text": [
      "Zero-ordered target layer ID (including ladel bottom layer): tensor([5.])\n"
     ]
    },
    {
     "data": {
      "image/png": "[encoded data removed]",
      "text/plain": [
       "<Figure size 1024x576 with 9 Axes>"
      ]
     },
     "metadata": {},
     "output_type": "display_data"
    },
    {
     "name": "stdout",
     "output_type": "stream",
     "text": [
      "tensor(11.1084)\n",
      "tensor(11.1064)\n",
      "targ ID tensor([5.])\n",
      "probs tensor([0.1112, 0.1112, 0.1112, 0.1112, 0.1112, 0.1112, 0.1111, 0.1109, 0.1110])\n",
      "ints tensor([1, 2, 3, 4, 5, 6, 7, 8, 9])\n",
      "mses tensor([32.0070, 11.7747,  4.3317,  1.5935,  0.5862,  1.5935,  4.3317, 11.7747,\n",
      "        32.0070])\n",
      "int losses tensor([3.5579, 1.3094, 0.4816, 0.1771, 0.0652, 0.1771, 0.4811, 1.3061, 3.5516])\n",
      "tensor(11.1044)\n"
     ]
    },
    {
     "data": {
      "text/plain": [
       "(None, None, None)"
      ]
     },
     "execution_count": 88,
     "metadata": {},
     "output_type": "execute_result"
    }
   ],
   "source": [
    "# 3d avg 1d avg Ridge\n",
    "x = get_3d_gauss(ladel_removed)\n",
    "plot_pred(x[test_id], targs[test_id])\n",
    "x = get_layer_avgs(x)\n",
    "plot_pred(x[test_id,:,None,None], targs[test_id])\n",
    "x = get_1d_avg(x)\n",
    "plot_pred(x[test_id,:,None,None], targs[test_id])\n",
    "x = -get_edge_det(x, [-1,2,-1])\n",
    "plot_pred(x[test_id,:,None,None], targs[test_id])\n",
    "score_data(x, targs, pred_start=-1), score_data(x, targs, pred_start=0), score_data(x, targs, pred_start=1, test_id=test_id)"
   ]
  },
  {
   "cell_type": "code",
   "execution_count": 67,
   "id": "189557b6",
   "metadata": {},
   "outputs": [
    {
     "name": "stdout",
     "output_type": "stream",
     "text": [
      "Zero-ordered target layer ID (including ladel bottom layer): tensor([5.])\n"
     ]
    },
    {
     "data": {
      "image/png": "[encoded data removed]",
      "text/plain": [
       "<Figure size 1024x576 with 9 Axes>"
      ]
     },
     "metadata": {},
     "output_type": "display_data"
    },
    {
     "name": "stdout",
     "output_type": "stream",
     "text": [
      "Zero-ordered target layer ID (including ladel bottom layer): tensor([5.])\n"
     ]
    },
    {
     "data": {
      "image/png": "[encoded data removed]",
      "text/plain": [
       "<Figure size 1024x576 with 9 Axes>"
      ]
     },
     "metadata": {},
     "output_type": "display_data"
    },
    {
     "name": "stdout",
     "output_type": "stream",
     "text": [
      "Zero-ordered target layer ID (including ladel bottom layer): tensor([5.])\n"
     ]
    },
    {
     "data": {
      "image/png": "[encoded data removed]",
      "text/plain": [
       "<Figure size 1024x576 with 9 Axes>"
      ]
     },
     "metadata": {},
     "output_type": "display_data"
    },
    {
     "name": "stdout",
     "output_type": "stream",
     "text": [
      "tensor(11.1014)\n",
      "tensor(11.1047)\n",
      "targ ID tensor([5.])\n",
      "probs tensor([0.1108, 0.1108, 0.1108, 0.1109, 0.1115, 0.1119, 0.1119, 0.1109, 0.1105])\n",
      "ints tensor([1, 2, 3, 4, 5, 6, 7, 8, 9])\n",
      "mses tensor([32.0070, 11.7747,  4.3317,  1.5935,  0.5862,  1.5935,  4.3317, 11.7747,\n",
      "        32.0070])\n",
      "int losses tensor([3.5459, 1.3044, 0.4800, 0.1767, 0.0654, 0.1783, 0.4847, 1.3063, 3.5362])\n",
      "tensor(11.1080)\n"
     ]
    },
    {
     "data": {
      "text/plain": [
       "(None, None, None)"
      ]
     },
     "execution_count": 67,
     "metadata": {},
     "output_type": "execute_result"
    }
   ],
   "source": [
    "# Ridge max-min\n",
    "x = get_layer_avgs(ladel_removed)\n",
    "plot_pred(x[test_id,:,None,None], targs[test_id])\n",
    "x = get_edge_det(x, [-1,2,-1])\n",
    "plot_pred(x[test_id,:,None,None], targs[test_id])\n",
    "x = get_max_sub_mean(x)\n",
    "plot_pred(x[test_id,:,None,None], targs[test_id])\n",
    "score_data(x, targs, pred_start=-1), score_data(x, targs, pred_start=0), score_data(x, targs, pred_start=1, test_id=test_id)"
   ]
  },
  {
   "cell_type": "code",
   "execution_count": 89,
   "id": "e8bdc26e",
   "metadata": {},
   "outputs": [
    {
     "name": "stdout",
     "output_type": "stream",
     "text": [
      "Zero-ordered target layer ID (including ladel bottom layer): tensor([5.])\n"
     ]
    },
    {
     "data": {
      "image/png": "[encoded data removed]",
      "text/plain": [
       "<Figure size 1024x576 with 9 Axes>"
      ]
     },
     "metadata": {},
     "output_type": "display_data"
    },
    {
     "name": "stdout",
     "output_type": "stream",
     "text": [
      "Zero-ordered target layer ID (including ladel bottom layer): tensor([5.])\n"
     ]
    },
    {
     "data": {
      "image/png": "[encoded data removed]",
      "text/plain": [
       "<Figure size 1024x576 with 9 Axes>"
      ]
     },
     "metadata": {},
     "output_type": "display_data"
    },
    {
     "name": "stdout",
     "output_type": "stream",
     "text": [
      "Zero-ordered target layer ID (including ladel bottom layer): tensor([5.])\n"
     ]
    },
    {
     "data": {
      "image/png": "[encoded data removed]",
      "text/plain": [
       "<Figure size 1024x576 with 9 Axes>"
      ]
     },
     "metadata": {},
     "output_type": "display_data"
    },
    {
     "name": "stdout",
     "output_type": "stream",
     "text": [
      "tensor(10.0458)\n",
      "tensor(10.0601)\n",
      "targ ID tensor([5.])\n",
      "probs tensor([0.0130, 0.0130, 0.0314, 0.0714, 0.0037, 0.0524, 0.0524, 0.2553, 0.5074])\n",
      "ints tensor([1, 2, 3, 4, 5, 6, 7, 8, 9])\n",
      "mses tensor([32.0070, 11.7747,  4.3317,  1.5935,  0.5862,  1.5935,  4.3317, 11.7747,\n",
      "        32.0070])\n",
      "int losses tensor([4.1653e-01, 1.5323e-01, 1.3590e-01, 1.1371e-01, 2.1598e-03, 8.3563e-02,\n",
      "        2.2715e-01, 3.0061e+00, 1.6240e+01])\n",
      "tensor(10.5052)\n"
     ]
    },
    {
     "data": {
      "text/plain": [
       "(None, None, None)"
      ]
     },
     "execution_count": 89,
     "metadata": {},
     "output_type": "execute_result"
    }
   ],
   "source": [
    "# Ridge max/min\n",
    "x = get_layer_avgs(ladel_removed)\n",
    "plot_pred(x[test_id,:,None,None], targs[test_id])\n",
    "x = -get_edge_det(x, [-1,2,-1])\n",
    "plot_pred(x[test_id,:,None,None], targs[test_id])\n",
    "x = get_max_div_mean(x)\n",
    "plot_pred(x[test_id,:,None,None], targs[test_id])\n",
    "score_data(x, targs, pred_start=-1), score_data(x, targs, pred_start=0), score_data(x, targs, pred_start=1, test_id=test_id)"
   ]
  },
  {
   "cell_type": "code",
   "execution_count": 69,
   "id": "7d144fd0",
   "metadata": {},
   "outputs": [
    {
     "name": "stdout",
     "output_type": "stream",
     "text": [
      "Zero-ordered target layer ID (including ladel bottom layer): tensor([5.])\n"
     ]
    },
    {
     "data": {
      "image/png": "[encoded data removed]",
      "text/plain": [
       "<Figure size 1024x576 with 9 Axes>"
      ]
     },
     "metadata": {},
     "output_type": "display_data"
    },
    {
     "name": "stdout",
     "output_type": "stream",
     "text": [
      "Zero-ordered target layer ID (including ladel bottom layer): tensor([5.])\n"
     ]
    },
    {
     "data": {
      "image/png": "[encoded data removed]",
      "text/plain": [
       "<Figure size 1024x576 with 9 Axes>"
      ]
     },
     "metadata": {},
     "output_type": "display_data"
    },
    {
     "name": "stdout",
     "output_type": "stream",
     "text": [
      "Zero-ordered target layer ID (including ladel bottom layer): tensor([5.])\n"
     ]
    },
    {
     "data": {
      "image/png": "[encoded data removed]",
      "text/plain": [
       "<Figure size 1024x576 with 9 Axes>"
      ]
     },
     "metadata": {},
     "output_type": "display_data"
    },
    {
     "name": "stdout",
     "output_type": "stream",
     "text": [
      "Zero-ordered target layer ID (including ladel bottom layer): tensor([5.])\n"
     ]
    },
    {
     "data": {
      "image/png": "[encoded data removed]",
      "text/plain": [
       "<Figure size 1024x576 with 9 Axes>"
      ]
     },
     "metadata": {},
     "output_type": "display_data"
    },
    {
     "name": "stdout",
     "output_type": "stream",
     "text": [
      "tensor(11.1048)\n",
      "tensor(11.1056)\n",
      "targ ID tensor([5.])\n",
      "probs tensor([0.1110, 0.1110, 0.1111, 0.1111, 0.1111, 0.1111, 0.1113, 0.1113, 0.1111])\n",
      "ints tensor([1, 2, 3, 4, 5, 6, 7, 8, 9])\n",
      "mses tensor([32.0070, 11.7747,  4.3317,  1.5935,  0.5862,  1.5935,  4.3317, 11.7747,\n",
      "        32.0070])\n",
      "int losses tensor([3.5525, 1.3069, 0.4811, 0.1771, 0.0651, 0.1770, 0.4819, 1.3100, 3.5566])\n",
      "tensor(11.1065)\n"
     ]
    },
    {
     "data": {
      "text/plain": [
       "(None, None, None)"
      ]
     },
     "execution_count": 69,
     "metadata": {},
     "output_type": "execute_result"
    }
   ],
   "source": [
    "# 1d avg Ridge max-min\n",
    "x = get_layer_avgs(ladel_removed)\n",
    "plot_pred(x[test_id,:,None,None], targs[test_id])\n",
    "x = get_1d_avg(x)\n",
    "plot_pred(x[test_id,:,None,None], targs[test_id])\n",
    "x = -get_edge_det(x, [-1,2,-1])\n",
    "plot_pred(x[test_id,:,None,None], targs[test_id])\n",
    "x = get_max_sub_mean(x)\n",
    "plot_pred(x[test_id,:,None,None], targs[test_id])\n",
    "score_data(x, targs, pred_start=-1), score_data(x, targs, pred_start=0), score_data(x, targs, pred_start=1, test_id=test_id)"
   ]
  },
  {
   "cell_type": "code",
   "execution_count": 70,
   "id": "fdf502a4",
   "metadata": {},
   "outputs": [
    {
     "name": "stdout",
     "output_type": "stream",
     "text": [
      "Zero-ordered target layer ID (including ladel bottom layer): tensor([5.])\n"
     ]
    },
    {
     "data": {
      "image/png": "[encoded data removed]",
      "text/plain": [
       "<Figure size 1024x576 with 9 Axes>"
      ]
     },
     "metadata": {},
     "output_type": "display_data"
    },
    {
     "name": "stdout",
     "output_type": "stream",
     "text": [
      "Zero-ordered target layer ID (including ladel bottom layer): tensor([5.])\n"
     ]
    },
    {
     "data": {
      "image/png": "[encoded data removed]",
      "text/plain": [
       "<Figure size 1024x576 with 9 Axes>"
      ]
     },
     "metadata": {},
     "output_type": "display_data"
    },
    {
     "name": "stdout",
     "output_type": "stream",
     "text": [
      "Zero-ordered target layer ID (including ladel bottom layer): tensor([5.])\n"
     ]
    },
    {
     "data": {
      "image/png": "[encoded data removed]",
      "text/plain": [
       "<Figure size 1024x576 with 9 Axes>"
      ]
     },
     "metadata": {},
     "output_type": "display_data"
    },
    {
     "name": "stdout",
     "output_type": "stream",
     "text": [
      "Zero-ordered target layer ID (including ladel bottom layer): tensor([5.])\n"
     ]
    },
    {
     "data": {
      "image/png": "[encoded data removed]",
      "text/plain": [
       "<Figure size 1024x576 with 9 Axes>"
      ]
     },
     "metadata": {},
     "output_type": "display_data"
    },
    {
     "name": "stdout",
     "output_type": "stream",
     "text": [
      "tensor(11.1044)\n",
      "tensor(11.1053)\n",
      "targ ID tensor([5.])\n",
      "probs tensor([0.1110, 0.1110, 0.1111, 0.1111, 0.1111, 0.1111, 0.1112, 0.1112, 0.1111])\n",
      "ints tensor([1, 2, 3, 4, 5, 6, 7, 8, 9])\n",
      "mses tensor([32.0070, 11.7747,  4.3317,  1.5935,  0.5862,  1.5935,  4.3317, 11.7747,\n",
      "        32.0070])\n",
      "int losses tensor([3.5522, 1.3068, 0.4811, 0.1771, 0.0651, 0.1770, 0.4819, 1.3098, 3.5573])\n",
      "tensor(11.1063)\n"
     ]
    },
    {
     "data": {
      "text/plain": [
       "(None, None, None)"
      ]
     },
     "execution_count": 70,
     "metadata": {},
     "output_type": "execute_result"
    }
   ],
   "source": [
    "# 3d avg Ridge max-min\n",
    "x = get_3d_avg(ladel_removed)\n",
    "plot_pred(x[test_id], targs[test_id])\n",
    "x = get_layer_avgs(x)\n",
    "plot_pred(x[test_id,:,None,None], targs[test_id])\n",
    "x = -get_edge_det(x, [-1,2,-1])\n",
    "plot_pred(x[test_id,:,None,None], targs[test_id])\n",
    "x = get_max_sub_mean(x)\n",
    "plot_pred(x[test_id,:,None,None], targs[test_id])\n",
    "score_data(x, targs, pred_start=-1), score_data(x, targs, pred_start=0), score_data(x, targs, pred_start=1, test_id=test_id)"
   ]
  },
  {
   "cell_type": "code",
   "execution_count": 79,
   "id": "55b1f650",
   "metadata": {},
   "outputs": [
    {
     "name": "stdout",
     "output_type": "stream",
     "text": [
      "Zero-ordered target layer ID (including ladel bottom layer): tensor([5.])\n"
     ]
    },
    {
     "data": {
      "image/png": "[encoded data removed]",
      "text/plain": [
       "<Figure size 1024x576 with 9 Axes>"
      ]
     },
     "metadata": {},
     "output_type": "display_data"
    },
    {
     "name": "stdout",
     "output_type": "stream",
     "text": [
      "Zero-ordered target layer ID (including ladel bottom layer): tensor([5.])\n"
     ]
    },
    {
     "data": {
      "image/png": "[encoded data removed]",
      "text/plain": [
       "<Figure size 1024x576 with 9 Axes>"
      ]
     },
     "metadata": {},
     "output_type": "display_data"
    },
    {
     "name": "stdout",
     "output_type": "stream",
     "text": [
      "Zero-ordered target layer ID (including ladel bottom layer): tensor([5.])\n"
     ]
    },
    {
     "data": {
      "image/png": "[encoded data removed]",
      "text/plain": [
       "<Figure size 1024x576 with 9 Axes>"
      ]
     },
     "metadata": {},
     "output_type": "display_data"
    },
    {
     "name": "stdout",
     "output_type": "stream",
     "text": [
      "Zero-ordered target layer ID (including ladel bottom layer): tensor([5.])\n"
     ]
    },
    {
     "data": {
      "image/png": "[encoded data removed]",
      "text/plain": [
       "<Figure size 1024x576 with 9 Axes>"
      ]
     },
     "metadata": {},
     "output_type": "display_data"
    },
    {
     "name": "stdout",
     "output_type": "stream",
     "text": [
      "Zero-ordered target layer ID (including ladel bottom layer): tensor([5.])\n"
     ]
    },
    {
     "data": {
      "image/png": "[encoded data removed]",
      "text/plain": [
       "<Figure size 1024x576 with 9 Axes>"
      ]
     },
     "metadata": {},
     "output_type": "display_data"
    },
    {
     "name": "stdout",
     "output_type": "stream",
     "text": [
      "tensor(11.1070)\n",
      "tensor(11.1075)\n",
      "targ ID tensor([5.])\n",
      "probs tensor([0.1111, 0.1111, 0.1111, 0.1111, 0.1111, 0.1112, 0.1113, 0.1112, 0.1111])\n",
      "ints tensor([1, 2, 3, 4, 5, 6, 7, 8, 9])\n",
      "mses tensor([32.0070, 11.7747,  4.3317,  1.5935,  0.5862,  1.5935,  4.3317, 11.7747,\n",
      "        32.0070])\n",
      "int losses tensor([3.5552, 1.3079, 0.4811, 0.1770, 0.0651, 0.1771, 0.4820, 1.3089, 3.5551])\n",
      "tensor(11.1080)\n"
     ]
    },
    {
     "data": {
      "text/plain": [
       "(None, None, None)"
      ]
     },
     "execution_count": 79,
     "metadata": {},
     "output_type": "execute_result"
    }
   ],
   "source": [
    "# 3d avg 1d avg Ridge max-min\n",
    "x = get_3d_gauss(ladel_removed)\n",
    "plot_pred(x[test_id], targs[test_id])\n",
    "x = get_layer_avgs(x)\n",
    "plot_pred(x[test_id,:,None,None], targs[test_id])\n",
    "x = get_1d_avg(x)\n",
    "plot_pred(x[test_id,:,None,None], targs[test_id])\n",
    "x = -get_edge_det(x, [-1,2,-1])\n",
    "plot_pred(x[test_id,:,None,None], targs[test_id])\n",
    "x = get_max_sub_mean(x)\n",
    "plot_pred(x[test_id,:,None,None], targs[test_id])\n",
    "score_data(x, targs, pred_start=-1), score_data(x, targs, pred_start=0), score_data(x, targs, pred_start=1, test_id=test_id)"
   ]
  },
  {
   "cell_type": "code",
   "execution_count": 87,
   "id": "55d0745c",
   "metadata": {},
   "outputs": [
    {
     "name": "stdout",
     "output_type": "stream",
     "text": [
      "Zero-ordered target layer ID (including ladel bottom layer): tensor([5.])\n"
     ]
    },
    {
     "data": {
      "image/png": "[encoded data removed]",
      "text/plain": [
       "<Figure size 1024x576 with 9 Axes>"
      ]
     },
     "metadata": {},
     "output_type": "display_data"
    },
    {
     "name": "stdout",
     "output_type": "stream",
     "text": [
      "Zero-ordered target layer ID (including ladel bottom layer): tensor([5.])\n"
     ]
    },
    {
     "data": {
      "image/png": "[encoded data removed]",
      "text/plain": [
       "<Figure size 1024x576 with 9 Axes>"
      ]
     },
     "metadata": {},
     "output_type": "display_data"
    },
    {
     "name": "stdout",
     "output_type": "stream",
     "text": [
      "Zero-ordered target layer ID (including ladel bottom layer): tensor([5.])\n"
     ]
    },
    {
     "data": {
      "image/png": "[encoded data removed]",
      "text/plain": [
       "<Figure size 1024x576 with 9 Axes>"
      ]
     },
     "metadata": {},
     "output_type": "display_data"
    },
    {
     "name": "stdout",
     "output_type": "stream",
     "text": [
      "tensor(10.0458)\n",
      "tensor(10.0601)\n",
      "targ ID tensor([5.])\n",
      "probs tensor([0.0130, 0.0130, 0.0314, 0.0714, 0.0037, 0.0524, 0.0524, 0.2553, 0.5074])\n",
      "ints tensor([1, 2, 3, 4, 5, 6, 7, 8, 9])\n",
      "mses tensor([32.0070, 11.7747,  4.3317,  1.5935,  0.5862,  1.5935,  4.3317, 11.7747,\n",
      "        32.0070])\n",
      "int losses tensor([4.1653e-01, 1.5323e-01, 1.3590e-01, 1.1371e-01, 2.1598e-03, 8.3563e-02,\n",
      "        2.2715e-01, 3.0061e+00, 1.6240e+01])\n",
      "tensor(10.5052)\n"
     ]
    },
    {
     "data": {
      "text/plain": [
       "(None, None, None)"
      ]
     },
     "execution_count": 87,
     "metadata": {},
     "output_type": "execute_result"
    }
   ],
   "source": [
    "# Ridge max/min\n",
    "x = get_layer_avgs(ladel_removed)\n",
    "plot_pred(x[test_id,:,None,None], targs[test_id])\n",
    "x = -get_edge_det(x, [-1,2,-1])\n",
    "plot_pred(x[test_id,:,None,None], targs[test_id])\n",
    "x = get_max_div_mean(x)\n",
    "plot_pred(x[test_id,:,None,None], targs[test_id])\n",
    "score_data(x, targs, pred_start=-1), score_data(x, targs, pred_start=0), score_data(x, targs, pred_start=1, test_id=test_id)"
   ]
  },
  {
   "cell_type": "code",
   "execution_count": 81,
   "id": "96d70f2e",
   "metadata": {},
   "outputs": [
    {
     "name": "stdout",
     "output_type": "stream",
     "text": [
      "Zero-ordered target layer ID (including ladel bottom layer): tensor([5.])\n"
     ]
    },
    {
     "data": {
      "image/png": "[encoded data removed]",
      "text/plain": [
       "<Figure size 1024x576 with 9 Axes>"
      ]
     },
     "metadata": {},
     "output_type": "display_data"
    },
    {
     "name": "stdout",
     "output_type": "stream",
     "text": [
      "Zero-ordered target layer ID (including ladel bottom layer): tensor([5.])\n"
     ]
    },
    {
     "data": {
      "image/png": "[encoded data removed]",
      "text/plain": [
       "<Figure size 1024x576 with 9 Axes>"
      ]
     },
     "metadata": {},
     "output_type": "display_data"
    },
    {
     "name": "stdout",
     "output_type": "stream",
     "text": [
      "Zero-ordered target layer ID (including ladel bottom layer): tensor([5.])\n"
     ]
    },
    {
     "data": {
      "image/png": "[encoded data removed]",
      "text/plain": [
       "<Figure size 1024x576 with 9 Axes>"
      ]
     },
     "metadata": {},
     "output_type": "display_data"
    },
    {
     "name": "stdout",
     "output_type": "stream",
     "text": [
      "Zero-ordered target layer ID (including ladel bottom layer): tensor([5.])\n"
     ]
    },
    {
     "data": {
      "image/png": "[encoded data removed]",
      "text/plain": [
       "<Figure size 1024x576 with 9 Axes>"
      ]
     },
     "metadata": {},
     "output_type": "display_data"
    },
    {
     "name": "stdout",
     "output_type": "stream",
     "text": [
      "tensor(8.1784)\n",
      "tensor(7.0196)\n",
      "targ ID tensor([5.])\n",
      "probs tensor([4.8617e-10, 4.9940e-10, 1.1528e-12, 2.4527e-13, 2.4527e-13, 1.0000e+00,\n",
      "        2.1007e-11, 2.1007e-11, 3.2773e-11])\n",
      "ints tensor([1, 2, 3, 4, 5, 6, 7, 8, 9])\n",
      "mses tensor([32.0070, 11.7747,  4.3317,  1.5935,  0.5862,  1.5935,  4.3317, 11.7747,\n",
      "        32.0070])\n",
      "int losses tensor([1.5561e-08, 5.8802e-09, 4.9934e-12, 3.9085e-13, 1.4378e-13, 1.5935e+00,\n",
      "        9.0995e-11, 2.4735e-10, 1.0490e-09])\n",
      "tensor(6.1502)\n"
     ]
    },
    {
     "data": {
      "text/plain": [
       "(None, None, None)"
      ]
     },
     "execution_count": 81,
     "metadata": {},
     "output_type": "execute_result"
    }
   ],
   "source": [
    "# 1d avg Ridge max/min\n",
    "x = get_layer_avgs(ladel_removed)\n",
    "plot_pred(x[test_id,:,None,None], targs[test_id])\n",
    "x = get_1d_avg(x)\n",
    "plot_pred(x[test_id,:,None,None], targs[test_id])\n",
    "x = -get_edge_det(x, [-1,2,-1])\n",
    "plot_pred(x[test_id,:,None,None], targs[test_id])\n",
    "x = get_max_div_mean(x)\n",
    "plot_pred(x[test_id,:,None,None], targs[test_id])\n",
    "score_data(x, targs, pred_start=-1), score_data(x, targs, pred_start=0), score_data(x, targs, pred_start=1, test_id=test_id)"
   ]
  },
  {
   "cell_type": "code",
   "execution_count": 83,
   "id": "fe357820",
   "metadata": {
    "scrolled": false
   },
   "outputs": [
    {
     "name": "stdout",
     "output_type": "stream",
     "text": [
      "Zero-ordered target layer ID (including ladel bottom layer): tensor([5.])\n"
     ]
    },
    {
     "data": {
      "image/png": "[encoded data removed]",
      "text/plain": [
       "<Figure size 1024x576 with 9 Axes>"
      ]
     },
     "metadata": {},
     "output_type": "display_data"
    },
    {
     "name": "stdout",
     "output_type": "stream",
     "text": [
      "Zero-ordered target layer ID (including ladel bottom layer): tensor([5.])\n"
     ]
    },
    {
     "data": {
      "image/png": "[encoded data removed]",
      "text/plain": [
       "<Figure size 1024x576 with 9 Axes>"
      ]
     },
     "metadata": {},
     "output_type": "display_data"
    },
    {
     "name": "stdout",
     "output_type": "stream",
     "text": [
      "Zero-ordered target layer ID (including ladel bottom layer): tensor([5.])\n"
     ]
    },
    {
     "data": {
      "image/png": "[encoded data removed]",
      "text/plain": [
       "<Figure size 1024x576 with 9 Axes>"
      ]
     },
     "metadata": {},
     "output_type": "display_data"
    },
    {
     "name": "stdout",
     "output_type": "stream",
     "text": [
      "Zero-ordered target layer ID (including ladel bottom layer): tensor([5.])\n"
     ]
    },
    {
     "data": {
      "image/png": "[encoded data removed]",
      "text/plain": [
       "<Figure size 1024x576 with 9 Axes>"
      ]
     },
     "metadata": {},
     "output_type": "display_data"
    },
    {
     "name": "stdout",
     "output_type": "stream",
     "text": [
      "tensor(6.7431)\n",
      "tensor(5.8699)\n",
      "targ ID tensor([5.])\n",
      "probs tensor([9.6757e-15, 9.6757e-15, 1.8267e-02, 2.2974e-02, 6.3490e-03, 4.6500e-02,\n",
      "        1.0358e-01, 4.0117e-01, 4.0117e-01])\n",
      "ints tensor([1, 2, 3, 4, 5, 6, 7, 8, 9])\n",
      "mses tensor([32.0070, 11.7747,  4.3317,  1.5935,  0.5862,  1.5935,  4.3317, 11.7747,\n",
      "        32.0070])\n",
      "int losses tensor([3.0969e-13, 1.1393e-13, 7.9128e-02, 3.6610e-02, 3.7219e-03, 7.4100e-02,\n",
      "        4.4866e-01, 4.7236e+00, 1.2840e+01])\n",
      "tensor(5.2757)\n"
     ]
    },
    {
     "data": {
      "text/plain": [
       "(None, None, None)"
      ]
     },
     "execution_count": 83,
     "metadata": {},
     "output_type": "execute_result"
    }
   ],
   "source": [
    "# 3d avg Ridge max/min\n",
    "x = get_3d_gauss(ladel_removed)\n",
    "plot_pred(x[test_id], targs[test_id])\n",
    "x = get_layer_avgs(x)\n",
    "plot_pred(x[test_id,:,None,None], targs[test_id])\n",
    "x = -get_edge_det(x, [-1,2,-1])\n",
    "plot_pred(x[test_id,:,None,None], targs[test_id])\n",
    "x = get_max_div_mean(x)\n",
    "plot_pred(x[test_id,:,None,None], targs[test_id])\n",
    "score_data(x, targs, pred_start=-1), score_data(x, targs, pred_start=0), score_data(x, targs, pred_start=1, test_id=test_id)"
   ]
  },
  {
   "cell_type": "code",
   "execution_count": 85,
   "id": "3a82a2ac",
   "metadata": {},
   "outputs": [
    {
     "name": "stdout",
     "output_type": "stream",
     "text": [
      "Zero-ordered target layer ID (including ladel bottom layer): tensor([5.])\n"
     ]
    },
    {
     "data": {
      "image/png": "[encoded data removed]",
      "text/plain": [
       "<Figure size 1024x576 with 9 Axes>"
      ]
     },
     "metadata": {},
     "output_type": "display_data"
    },
    {
     "name": "stdout",
     "output_type": "stream",
     "text": [
      "Zero-ordered target layer ID (including ladel bottom layer): tensor([5.])\n"
     ]
    },
    {
     "data": {
      "image/png": "[encoded data removed]",
      "text/plain": [
       "<Figure size 1024x576 with 9 Axes>"
      ]
     },
     "metadata": {},
     "output_type": "display_data"
    },
    {
     "name": "stdout",
     "output_type": "stream",
     "text": [
      "Zero-ordered target layer ID (including ladel bottom layer): tensor([5.])\n"
     ]
    },
    {
     "data": {
      "image/png": "[encoded data removed]",
      "text/plain": [
       "<Figure size 1024x576 with 9 Axes>"
      ]
     },
     "metadata": {},
     "output_type": "display_data"
    },
    {
     "name": "stdout",
     "output_type": "stream",
     "text": [
      "Zero-ordered target layer ID (including ladel bottom layer): tensor([5.])\n"
     ]
    },
    {
     "data": {
      "image/png": "[encoded data removed]",
      "text/plain": [
       "<Figure size 1024x576 with 9 Axes>"
      ]
     },
     "metadata": {},
     "output_type": "display_data"
    },
    {
     "name": "stdout",
     "output_type": "stream",
     "text": [
      "Zero-ordered target layer ID (including ladel bottom layer): tensor([5.])\n"
     ]
    },
    {
     "data": {
      "image/png": "[encoded data removed]",
      "text/plain": [
       "<Figure size 1024x576 with 9 Axes>"
      ]
     },
     "metadata": {},
     "output_type": "display_data"
    },
    {
     "name": "stdout",
     "output_type": "stream",
     "text": [
      "tensor(7.6510)\n",
      "tensor(6.5986)\n",
      "targ ID tensor([5.])\n",
      "probs tensor([0.2085, 0.2085, 0.1857, 0.1328, 0.1311, 0.0077, 0.0224, 0.0395, 0.0639])\n",
      "ints tensor([1, 2, 3, 4, 5, 6, 7, 8, 9])\n",
      "mses tensor([32.0070, 11.7747,  4.3317,  1.5935,  0.5862,  1.5935,  4.3317, 11.7747,\n",
      "        32.0070])\n",
      "int losses tensor([6.6725, 2.4547, 0.8046, 0.2116, 0.0768, 0.0122, 0.0971, 0.4650, 2.0453])\n",
      "tensor(5.7056)\n"
     ]
    },
    {
     "data": {
      "text/plain": [
       "(None, None, None)"
      ]
     },
     "execution_count": 85,
     "metadata": {},
     "output_type": "execute_result"
    }
   ],
   "source": [
    "# 3d avg 1d avg Ridge max/min\n",
    "x = get_3d_gauss(ladel_removed)\n",
    "plot_pred(x[test_id], targs[test_id])\n",
    "x = get_layer_avgs(x)\n",
    "plot_pred(x[test_id,:,None,None], targs[test_id])\n",
    "x = get_1d_avg(x)\n",
    "plot_pred(x[test_id,:,None,None], targs[test_id])\n",
    "x = -get_edge_det(x, [-1,2,-1])\n",
    "plot_pred(x[test_id,:,None,None], targs[test_id])\n",
    "x = get_max_div_mean(x)\n",
    "plot_pred(x[test_id,:,None,None], targs[test_id])\n",
    "score_data(x, targs, pred_start=-1), score_data(x, targs, pred_start=0), score_data(x, targs, pred_start=1, test_id=test_id)"
   ]
  },
  {
   "cell_type": "code",
   "execution_count": 92,
   "id": "1276b096",
   "metadata": {},
   "outputs": [],
   "source": [
    "test_id=0"
   ]
  },
  {
   "cell_type": "code",
   "execution_count": 91,
   "id": "ac73f597",
   "metadata": {},
   "outputs": [
    {
     "name": "stdout",
     "output_type": "stream",
     "text": [
      "Zero-ordered target layer ID (including ladel bottom layer): tensor([1.])\n"
     ]
    },
    {
     "data": {
      "image/png": "[encoded data removed]",
      "text/plain": [
       "<Figure size 1024x576 with 9 Axes>"
      ]
     },
     "metadata": {},
     "output_type": "display_data"
    },
    {
     "name": "stdout",
     "output_type": "stream",
     "text": [
      "Zero-ordered target layer ID (including ladel bottom layer): tensor([1.])\n"
     ]
    },
    {
     "data": {
      "image/png": "[encoded data removed]",
      "text/plain": [
       "<Figure size 1024x576 with 9 Axes>"
      ]
     },
     "metadata": {},
     "output_type": "display_data"
    },
    {
     "name": "stdout",
     "output_type": "stream",
     "text": [
      "Zero-ordered target layer ID (including ladel bottom layer): tensor([1.])\n"
     ]
    },
    {
     "data": {
      "image/png": "[encoded data removed]",
      "text/plain": [
       "<Figure size 1024x576 with 9 Axes>"
      ]
     },
     "metadata": {},
     "output_type": "display_data"
    },
    {
     "name": "stdout",
     "output_type": "stream",
     "text": [
      "Zero-ordered target layer ID (including ladel bottom layer): tensor([1.])\n"
     ]
    },
    {
     "data": {
      "image/png": "[encoded data removed]",
      "text/plain": [
       "<Figure size 1024x576 with 9 Axes>"
      ]
     },
     "metadata": {},
     "output_type": "display_data"
    },
    {
     "name": "stdout",
     "output_type": "stream",
     "text": [
      "Zero-ordered target layer ID (including ladel bottom layer): tensor([1.])\n"
     ]
    },
    {
     "data": {
      "image/png": "[encoded data removed]",
      "text/plain": [
       "<Figure size 1024x576 with 9 Axes>"
      ]
     },
     "metadata": {},
     "output_type": "display_data"
    },
    {
     "name": "stdout",
     "output_type": "stream",
     "text": [
      "tensor(5.9593)\n",
      "tensor(4.6849)\n",
      "targ ID tensor([1.])\n",
      "probs tensor([0., 1., 0., 0., 0., 0., 0., 0., 0.])\n",
      "ints tensor([1, 2, 3, 4, 5, 6, 7, 8, 9])\n",
      "mses tensor([2.1208e-02, 5.7649e-02, 1.5671e-01, 4.2597e-01, 1.1579e+00, 3.1475e+00,\n",
      "        8.5559e+00, 2.3257e+01, 6.3220e+01])\n",
      "int losses tensor([0.0000, 0.0576, 0.0000, 0.0000, 0.0000, 0.0000, 0.0000, 0.0000, 0.0000])\n",
      "tensor(3.7072)\n"
     ]
    },
    {
     "data": {
      "text/plain": [
       "(None, None, None)"
      ]
     },
     "execution_count": 91,
     "metadata": {},
     "output_type": "execute_result"
    }
   ],
   "source": [
    "# 3d avg 1d avg Ridge max/min\n",
    "x = get_3d_gauss(ladel_removed)\n",
    "plot_pred(x[test_id], targs[test_id])\n",
    "x = get_layer_avgs(x)\n",
    "plot_pred(x[test_id,:,None,None], targs[test_id])\n",
    "x = get_1d_avg(x)\n",
    "plot_pred(x[test_id,:,None,None], targs[test_id])\n",
    "x = -get_edge_det(x, [-1,2,-1])\n",
    "plot_pred(x[test_id,:,None,None], targs[test_id])\n",
    "x = get_max_div_mean(x)*1e2\n",
    "plot_pred(x[test_id,:,None,None], targs[test_id])\n",
    "score_data(x, targs, pred_start=-1), score_data(x, targs, pred_start=0), score_data(x, targs, pred_start=1, test_id=test_id)"
   ]
  },
  {
   "cell_type": "code",
   "execution_count": 93,
   "id": "7639db4f",
   "metadata": {},
   "outputs": [
    {
     "name": "stdout",
     "output_type": "stream",
     "text": [
      "Zero-ordered target layer ID (including ladel bottom layer): tensor([5.])\n"
     ]
    },
    {
     "data": {
      "image/png": "[encoded data removed]",
      "text/plain": [
       "<Figure size 1024x576 with 9 Axes>"
      ]
     },
     "metadata": {},
     "output_type": "display_data"
    },
    {
     "name": "stdout",
     "output_type": "stream",
     "text": [
      "Zero-ordered target layer ID (including ladel bottom layer): tensor([5.])\n"
     ]
    },
    {
     "data": {
      "image/png": "[encoded data removed]",
      "text/plain": [
       "<Figure size 1024x576 with 9 Axes>"
      ]
     },
     "metadata": {},
     "output_type": "display_data"
    },
    {
     "name": "stdout",
     "output_type": "stream",
     "text": [
      "Zero-ordered target layer ID (including ladel bottom layer): tensor([5.])\n"
     ]
    },
    {
     "data": {
      "image/png": "[encoded data removed]",
      "text/plain": [
       "<Figure size 1024x576 with 9 Axes>"
      ]
     },
     "metadata": {},
     "output_type": "display_data"
    },
    {
     "name": "stdout",
     "output_type": "stream",
     "text": [
      "tensor(10.5384)\n",
      "tensor(10.6484)\n",
      "targ ID tensor([5.])\n",
      "probs tensor([0.0997, 0.1012, 0.1124, 0.1155, 0.1044, 0.1249, 0.1335, 0.1079, 0.1006])\n",
      "ints tensor([1, 2, 3, 4, 5, 6, 7, 8, 9])\n",
      "mses tensor([32.0070, 11.7747,  4.3317,  1.5935,  0.5862,  1.5935,  4.3317, 11.7747,\n",
      "        32.0070])\n",
      "int losses tensor([3.1906, 1.1919, 0.4868, 0.1840, 0.0612, 0.1991, 0.5782, 1.2700, 3.2202])\n",
      "tensor(10.7698)\n"
     ]
    },
    {
     "data": {
      "text/plain": [
       "(None, None, None)"
      ]
     },
     "execution_count": 93,
     "metadata": {},
     "output_type": "execute_result"
    }
   ],
   "source": [
    "# max-min Ridge\n",
    "x = get_layer_avgs(ladel_removed)\n",
    "plot_pred(x[test_id,:,None,None], targs[test_id])\n",
    "x = get_max_sub_mean(x)\n",
    "plot_pred(x[test_id,:,None,None], targs[test_id])\n",
    "x = get_edge_det(x, [-1,32,-1])\n",
    "plot_pred(x[test_id,:,None,None], targs[test_id])\n",
    "score_data(x, targs, pred_start=-1), score_data(x, targs, pred_start=0), score_data(x, targs, pred_start=1, test_id=test_id)"
   ]
  },
  {
   "cell_type": "code",
   "execution_count": 95,
   "id": "a6335895",
   "metadata": {},
   "outputs": [
    {
     "name": "stdout",
     "output_type": "stream",
     "text": [
      "Zero-ordered target layer ID (including ladel bottom layer): tensor([5.])\n"
     ]
    },
    {
     "data": {
      "image/png": "[encoded data removed]",
      "text/plain": [
       "<Figure size 1024x576 with 9 Axes>"
      ]
     },
     "metadata": {},
     "output_type": "display_data"
    },
    {
     "name": "stdout",
     "output_type": "stream",
     "text": [
      "Zero-ordered target layer ID (including ladel bottom layer): tensor([5.])\n"
     ]
    },
    {
     "data": {
      "image/png": "[encoded data removed]",
      "text/plain": [
       "<Figure size 1024x576 with 9 Axes>"
      ]
     },
     "metadata": {},
     "output_type": "display_data"
    },
    {
     "name": "stdout",
     "output_type": "stream",
     "text": [
      "Zero-ordered target layer ID (including ladel bottom layer): tensor([5.])\n"
     ]
    },
    {
     "data": {
      "image/png": "[encoded data removed]",
      "text/plain": [
       "<Figure size 1024x576 with 9 Axes>"
      ]
     },
     "metadata": {},
     "output_type": "display_data"
    },
    {
     "name": "stdout",
     "output_type": "stream",
     "text": [
      "tensor(10.1362)\n",
      "tensor(10.1383)\n",
      "targ ID tensor([5.])\n",
      "probs tensor([0.0965, 0.0757, 0.1476, 0.1488, 0.0521, 0.1278, 0.1883, 0.0703, 0.0929])\n",
      "ints tensor([1, 2, 3, 4, 5, 6, 7, 8, 9])\n",
      "mses tensor([32.0070, 11.7747,  4.3317,  1.5935,  0.5862,  1.5935,  4.3317, 11.7747,\n",
      "        32.0070])\n",
      "int losses tensor([3.0889, 0.8915, 0.6395, 0.2371, 0.0305, 0.2037, 0.8155, 0.8275, 2.9727])\n",
      "tensor(10.1264)\n"
     ]
    },
    {
     "data": {
      "text/plain": [
       "(None, None, None)"
      ]
     },
     "execution_count": 95,
     "metadata": {},
     "output_type": "execute_result"
    }
   ],
   "source": [
    "# max/min Ridge\n",
    "x = get_layer_avgs(ladel_removed)\n",
    "plot_pred(x[test_id,:,None,None], targs[test_id])\n",
    "x = get_max_div_mean(x)\n",
    "plot_pred(x[test_id,:,None,None], targs[test_id])\n",
    "x = get_edge_det(x, [-1,2,-1])\n",
    "plot_pred(x[test_id,:,None,None], targs[test_id])\n",
    "score_data(x, targs, pred_start=-1), score_data(x, targs, pred_start=0), score_data(x, targs, pred_start=1, test_id=test_id)"
   ]
  },
  {
   "cell_type": "code",
   "execution_count": null,
   "id": "9f2f8755",
   "metadata": {},
   "outputs": [],
   "source": [
    "# 3d avg 1d avg max-min Ridge \n",
    "x = get_3d_gauss(ladel_removed)\n",
    "plot_pred(x[test_id], targs[test_id])\n",
    "x = get_layer_avgs(x)\n",
    "plot_pred(x[test_id,:,None,None], targs[test_id])\n",
    "x = get_1d_avg(x)\n",
    "plot_pred(x[test_id,:,None,None], targs[test_id])\n",
    "x = get_max_sub_mean(x)\n",
    "plot_pred(x[test_id,:,None,None], targs[test_id])\n",
    "x = get_edge_det(x, [-1,8,-1])\n",
    "plot_pred(x[test_id,:,None,None], targs[test_id])\n",
    "score_data(x, targs, pred_start=-1), score_data(x, targs, pred_start=0), score_data(x, targs, pred_start=1, test_id=test_id)"
   ]
  },
  {
   "cell_type": "code",
   "execution_count": null,
   "id": "fbf0914b",
   "metadata": {},
   "outputs": [],
   "source": [
    "# 3d avg 1d avg max/min Ridge \n",
    "x = get_3d_gauss(ladel_removed)\n",
    "plot_pred(x[test_id], targs[test_id])\n",
    "x = get_layer_avgs(x)\n",
    "plot_pred(x[test_id,:,None,None], targs[test_id])\n",
    "x = get_1d_avg(x)\n",
    "plot_pred(x[test_id,:,None,None], targs[test_id])\n",
    "x = get_max_div_mean(x)\n",
    "plot_pred(x[test_id,:,None,None], targs[test_id])\n",
    "x = get_edge_det(x, [-1,32,-1])\n",
    "plot_pred(x[test_id,:,None,None], targs[test_id])\n",
    "score_data(x, targs, pred_start=-1), score_data(x, targs, pred_start=0), score_data(x, targs, pred_start=1, test_id=test_id)"
   ]
  },
  {
   "cell_type": "code",
   "execution_count": null,
   "id": "888b59ea",
   "metadata": {},
   "outputs": [],
   "source": [
    "-1,0,1\n",
    "-2,0,2\n",
    "1,-4,1 (zero-cross)"
   ]
  },
  {
   "cell_type": "markdown",
   "id": "888077fa",
   "metadata": {},
   "source": [
    "## Directed edge"
   ]
  },
  {
   "cell_type": "code",
   "execution_count": 96,
   "id": "4638c3fb",
   "metadata": {},
   "outputs": [
    {
     "name": "stdout",
     "output_type": "stream",
     "text": [
      "Zero-ordered target layer ID (including ladel bottom layer): tensor([5.])\n"
     ]
    },
    {
     "data": {
      "image/png": "[encoded data removed]",
      "text/plain": [
       "<Figure size 1024x576 with 9 Axes>"
      ]
     },
     "metadata": {},
     "output_type": "display_data"
    },
    {
     "name": "stdout",
     "output_type": "stream",
     "text": [
      "Zero-ordered target layer ID (including ladel bottom layer): tensor([5.])\n"
     ]
    },
    {
     "data": {
      "image/png": "[encoded data removed]",
      "text/plain": [
       "<Figure size 1024x576 with 9 Axes>"
      ]
     },
     "metadata": {},
     "output_type": "display_data"
    },
    {
     "name": "stdout",
     "output_type": "stream",
     "text": [
      "tensor(11.0815)\n",
      "tensor(11.0868)\n",
      "targ ID tensor([5.])\n",
      "probs tensor([0.1106, 0.1107, 0.1112, 0.1113, 0.1110, 0.1116, 0.1118, 0.1111, 0.1108])\n",
      "ints tensor([1, 2, 3, 4, 5, 6, 7, 8, 9])\n",
      "mses tensor([32.0070, 11.7747,  4.3317,  1.5935,  0.5862,  1.5935,  4.3317, 11.7747,\n",
      "        32.0070])\n",
      "int losses tensor([3.5396, 1.3039, 0.4816, 0.1773, 0.0650, 0.1778, 0.4843, 1.3077, 3.5463])\n",
      "tensor(11.0932)\n"
     ]
    },
    {
     "data": {
      "text/plain": [
       "(None, None, None)"
      ]
     },
     "execution_count": 96,
     "metadata": {},
     "output_type": "execute_result"
    }
   ],
   "source": [
    "# Edge\n",
    "x = get_layer_avgs(ladel_removed)\n",
    "plot_pred(x[test_id,:,None,None], targs[test_id])\n",
    "x = get_edge_det(x, [-1,0,1])\n",
    "plot_pred(x[test_id,:,None,None], targs[test_id])\n",
    "score_data(x, targs, pred_start=-1), score_data(x, targs, pred_start=0), score_data(x, targs, pred_start=1, test_id=test_id)"
   ]
  },
  {
   "cell_type": "code",
   "execution_count": 97,
   "id": "cd340127",
   "metadata": {},
   "outputs": [
    {
     "name": "stdout",
     "output_type": "stream",
     "text": [
      "Zero-ordered target layer ID (including ladel bottom layer): tensor([5.])\n"
     ]
    },
    {
     "data": {
      "image/png": "[encoded data removed]",
      "text/plain": [
       "<Figure size 1024x576 with 9 Axes>"
      ]
     },
     "metadata": {},
     "output_type": "display_data"
    },
    {
     "name": "stdout",
     "output_type": "stream",
     "text": [
      "Zero-ordered target layer ID (including ladel bottom layer): tensor([5.])\n"
     ]
    },
    {
     "data": {
      "image/png": "[encoded data removed]",
      "text/plain": [
       "<Figure size 1024x576 with 9 Axes>"
      ]
     },
     "metadata": {},
     "output_type": "display_data"
    },
    {
     "name": "stdout",
     "output_type": "stream",
     "text": [
      "Zero-ordered target layer ID (including ladel bottom layer): tensor([5.])\n"
     ]
    },
    {
     "data": {
      "image/png": "[encoded data removed]",
      "text/plain": [
       "<Figure size 1024x576 with 9 Axes>"
      ]
     },
     "metadata": {},
     "output_type": "display_data"
    },
    {
     "name": "stdout",
     "output_type": "stream",
     "text": [
      "tensor(11.0866)\n",
      "tensor(11.0891)\n",
      "targ ID tensor([5.])\n",
      "probs tensor([0.1107, 0.1109, 0.1111, 0.1111, 0.1113, 0.1115, 0.1115, 0.1112, 0.1108])\n",
      "ints tensor([1, 2, 3, 4, 5, 6, 7, 8, 9])\n",
      "mses tensor([32.0070, 11.7747,  4.3317,  1.5935,  0.5862,  1.5935,  4.3317, 11.7747,\n",
      "        32.0070])\n",
      "int losses tensor([3.5436, 1.3053, 0.4811, 0.1771, 0.0652, 0.1776, 0.4829, 1.3094, 3.5459])\n",
      "tensor(11.0923)\n"
     ]
    },
    {
     "data": {
      "text/plain": [
       "(None, None, None)"
      ]
     },
     "execution_count": 97,
     "metadata": {},
     "output_type": "execute_result"
    }
   ],
   "source": [
    "# 1d avg Edge\n",
    "x = get_layer_avgs(ladel_removed)\n",
    "plot_pred(x[test_id,:,None,None], targs[test_id])\n",
    "x = get_1d_avg(x)\n",
    "plot_pred(x[test_id,:,None,None], targs[test_id])\n",
    "x = get_edge_det(x, [-1,0,1])\n",
    "plot_pred(x[test_id,:,None,None], targs[test_id])\n",
    "score_data(x, targs, pred_start=-1), score_data(x, targs, pred_start=0), score_data(x, targs, pred_start=1, test_id=test_id)"
   ]
  },
  {
   "cell_type": "code",
   "execution_count": 98,
   "id": "c909a4e6",
   "metadata": {},
   "outputs": [
    {
     "name": "stdout",
     "output_type": "stream",
     "text": [
      "Zero-ordered target layer ID (including ladel bottom layer): tensor([5.])\n"
     ]
    },
    {
     "data": {
      "image/png": "[encoded data removed]",
      "text/plain": [
       "<Figure size 1024x576 with 9 Axes>"
      ]
     },
     "metadata": {},
     "output_type": "display_data"
    },
    {
     "name": "stdout",
     "output_type": "stream",
     "text": [
      "Zero-ordered target layer ID (including ladel bottom layer): tensor([5.])\n"
     ]
    },
    {
     "data": {
      "image/png": "[encoded data removed]",
      "text/plain": [
       "<Figure size 1024x576 with 9 Axes>"
      ]
     },
     "metadata": {},
     "output_type": "display_data"
    },
    {
     "name": "stdout",
     "output_type": "stream",
     "text": [
      "Zero-ordered target layer ID (including ladel bottom layer): tensor([5.])\n"
     ]
    },
    {
     "data": {
      "image/png": "[encoded data removed]",
      "text/plain": [
       "<Figure size 1024x576 with 9 Axes>"
      ]
     },
     "metadata": {},
     "output_type": "display_data"
    },
    {
     "name": "stdout",
     "output_type": "stream",
     "text": [
      "tensor(11.0856)\n",
      "tensor(11.0881)\n",
      "targ ID tensor([5.])\n",
      "probs tensor([0.1107, 0.1109, 0.1111, 0.1111, 0.1113, 0.1115, 0.1115, 0.1112, 0.1108])\n",
      "ints tensor([1, 2, 3, 4, 5, 6, 7, 8, 9])\n",
      "mses tensor([32.0070, 11.7747,  4.3317,  1.5935,  0.5862,  1.5935,  4.3317, 11.7747,\n",
      "        32.0070])\n",
      "int losses tensor([3.5438, 1.3055, 0.4812, 0.1771, 0.0652, 0.1776, 0.4829, 1.3090, 3.5453])\n",
      "tensor(11.0913)\n"
     ]
    },
    {
     "data": {
      "text/plain": [
       "(None, None, None)"
      ]
     },
     "execution_count": 98,
     "metadata": {},
     "output_type": "execute_result"
    }
   ],
   "source": [
    "# 3d avg Edge\n",
    "x = get_3d_avg(ladel_removed)\n",
    "plot_pred(x[test_id], targs[test_id])\n",
    "x = get_layer_avgs(x)\n",
    "plot_pred(x[test_id,:,None,None], targs[test_id])\n",
    "x = get_edge_det(x, [-1,0,1])\n",
    "plot_pred(x[test_id,:,None,None], targs[test_id])\n",
    "score_data(x, targs, pred_start=-1), score_data(x, targs, pred_start=0), score_data(x, targs, pred_start=1, test_id=test_id)"
   ]
  },
  {
   "cell_type": "code",
   "execution_count": 99,
   "id": "ea63bfa3",
   "metadata": {},
   "outputs": [
    {
     "name": "stdout",
     "output_type": "stream",
     "text": [
      "Zero-ordered target layer ID (including ladel bottom layer): tensor([5.])\n"
     ]
    },
    {
     "data": {
      "image/png": "[encoded data removed]",
      "text/plain": [
       "<Figure size 1024x576 with 9 Axes>"
      ]
     },
     "metadata": {},
     "output_type": "display_data"
    },
    {
     "name": "stdout",
     "output_type": "stream",
     "text": [
      "Zero-ordered target layer ID (including ladel bottom layer): tensor([5.])\n"
     ]
    },
    {
     "data": {
      "image/png": "[encoded data removed]",
      "text/plain": [
       "<Figure size 1024x576 with 9 Axes>"
      ]
     },
     "metadata": {},
     "output_type": "display_data"
    },
    {
     "name": "stdout",
     "output_type": "stream",
     "text": [
      "Zero-ordered target layer ID (including ladel bottom layer): tensor([5.])\n"
     ]
    },
    {
     "data": {
      "image/png": "[encoded data removed]",
      "text/plain": [
       "<Figure size 1024x576 with 9 Axes>"
      ]
     },
     "metadata": {},
     "output_type": "display_data"
    },
    {
     "name": "stdout",
     "output_type": "stream",
     "text": [
      "Zero-ordered target layer ID (including ladel bottom layer): tensor([5.])\n"
     ]
    },
    {
     "data": {
      "image/png": "[encoded data removed]",
      "text/plain": [
       "<Figure size 1024x576 with 9 Axes>"
      ]
     },
     "metadata": {},
     "output_type": "display_data"
    },
    {
     "name": "stdout",
     "output_type": "stream",
     "text": [
      "tensor(11.0880)\n",
      "tensor(11.0901)\n",
      "targ ID tensor([5.])\n",
      "probs tensor([0.1107, 0.1109, 0.1110, 0.1112, 0.1113, 0.1114, 0.1114, 0.1112, 0.1108])\n",
      "ints tensor([1, 2, 3, 4, 5, 6, 7, 8, 9])\n",
      "mses tensor([32.0070, 11.7747,  4.3317,  1.5935,  0.5862,  1.5935,  4.3317, 11.7747,\n",
      "        32.0070])\n",
      "int losses tensor([3.5444, 1.3055, 0.4810, 0.1772, 0.0652, 0.1776, 0.4827, 1.3091, 3.5476])\n",
      "tensor(11.0929)\n"
     ]
    },
    {
     "data": {
      "text/plain": [
       "(None, None, None)"
      ]
     },
     "execution_count": 99,
     "metadata": {},
     "output_type": "execute_result"
    }
   ],
   "source": [
    "# 3d avg 1d avg Edge\n",
    "x = get_3d_gauss(ladel_removed)\n",
    "plot_pred(x[test_id], targs[test_id])\n",
    "x = get_layer_avgs(x)\n",
    "plot_pred(x[test_id,:,None,None], targs[test_id])\n",
    "x = get_1d_avg(x)\n",
    "plot_pred(x[test_id,:,None,None], targs[test_id])\n",
    "x = get_edge_det(x, [-1,0,1])\n",
    "plot_pred(x[test_id,:,None,None], targs[test_id])\n",
    "score_data(x, targs, pred_start=-1), score_data(x, targs, pred_start=0), score_data(x, targs, pred_start=1, test_id=test_id)"
   ]
  },
  {
   "cell_type": "code",
   "execution_count": 100,
   "id": "c2b41852",
   "metadata": {},
   "outputs": [
    {
     "name": "stdout",
     "output_type": "stream",
     "text": [
      "Zero-ordered target layer ID (including ladel bottom layer): tensor([5.])\n"
     ]
    },
    {
     "data": {
      "image/png": "[encoded data removed]",
      "text/plain": [
       "<Figure size 1024x576 with 9 Axes>"
      ]
     },
     "metadata": {},
     "output_type": "display_data"
    },
    {
     "name": "stdout",
     "output_type": "stream",
     "text": [
      "Zero-ordered target layer ID (including ladel bottom layer): tensor([5.])\n"
     ]
    },
    {
     "data": {
      "image/png": "[encoded data removed]",
      "text/plain": [
       "<Figure size 1024x576 with 9 Axes>"
      ]
     },
     "metadata": {},
     "output_type": "display_data"
    },
    {
     "name": "stdout",
     "output_type": "stream",
     "text": [
      "Zero-ordered target layer ID (including ladel bottom layer): tensor([5.])\n"
     ]
    },
    {
     "data": {
      "image/png": "[encoded data removed]",
      "text/plain": [
       "<Figure size 1024x576 with 9 Axes>"
      ]
     },
     "metadata": {},
     "output_type": "display_data"
    },
    {
     "name": "stdout",
     "output_type": "stream",
     "text": [
      "tensor(11.0925)\n",
      "tensor(11.0951)\n",
      "targ ID tensor([5.])\n",
      "probs tensor([0.1107, 0.1111, 0.1111, 0.1109, 0.1112, 0.1114, 0.1113, 0.1116, 0.1108])\n",
      "ints tensor([1, 2, 3, 4, 5, 6, 7, 8, 9])\n",
      "mses tensor([32.0070, 11.7747,  4.3317,  1.5935,  0.5862,  1.5935,  4.3317, 11.7747,\n",
      "        32.0070])\n",
      "int losses tensor([3.5430, 1.3087, 0.4812, 0.1767, 0.0652, 0.1775, 0.4820, 1.3135, 3.5466])\n",
      "tensor(11.0978)\n"
     ]
    },
    {
     "data": {
      "text/plain": [
       "(None, None, None)"
      ]
     },
     "execution_count": 100,
     "metadata": {},
     "output_type": "execute_result"
    }
   ],
   "source": [
    "# Ridge max-min\n",
    "x = get_layer_avgs(ladel_removed)\n",
    "plot_pred(x[test_id,:,None,None], targs[test_id])\n",
    "x = get_edge_det(x, [-1,0,1])\n",
    "plot_pred(x[test_id,:,None,None], targs[test_id])\n",
    "x = get_max_sub_mean(x)\n",
    "plot_pred(x[test_id,:,None,None], targs[test_id])\n",
    "score_data(x, targs, pred_start=-1), score_data(x, targs, pred_start=0), score_data(x, targs, pred_start=1, test_id=test_id)"
   ]
  },
  {
   "cell_type": "code",
   "execution_count": 101,
   "id": "adb40f1e",
   "metadata": {},
   "outputs": [
    {
     "name": "stdout",
     "output_type": "stream",
     "text": [
      "Zero-ordered target layer ID (including ladel bottom layer): tensor([5.])\n"
     ]
    },
    {
     "data": {
      "image/png": "[encoded data removed]",
      "text/plain": [
       "<Figure size 1024x576 with 9 Axes>"
      ]
     },
     "metadata": {},
     "output_type": "display_data"
    },
    {
     "name": "stdout",
     "output_type": "stream",
     "text": [
      "Zero-ordered target layer ID (including ladel bottom layer): tensor([5.])\n"
     ]
    },
    {
     "data": {
      "image/png": "[encoded data removed]",
      "text/plain": [
       "<Figure size 1024x576 with 9 Axes>"
      ]
     },
     "metadata": {},
     "output_type": "display_data"
    },
    {
     "name": "stdout",
     "output_type": "stream",
     "text": [
      "Zero-ordered target layer ID (including ladel bottom layer): tensor([5.])\n"
     ]
    },
    {
     "data": {
      "image/png": "[encoded data removed]",
      "text/plain": [
       "<Figure size 1024x576 with 9 Axes>"
      ]
     },
     "metadata": {},
     "output_type": "display_data"
    },
    {
     "name": "stdout",
     "output_type": "stream",
     "text": [
      "tensor(4.7665)\n",
      "tensor(5.1175)\n",
      "targ ID tensor([5.])\n",
      "probs tensor([2.1613e-05, 1.0075e-07, 5.9816e-01, 4.0368e-04, 1.1351e-03, 2.5142e-03,\n",
      "        8.4863e-04, 3.9586e-01, 1.0533e-03])\n",
      "ints tensor([1, 2, 3, 4, 5, 6, 7, 8, 9])\n",
      "mses tensor([32.0070, 11.7747,  4.3317,  1.5935,  0.5862,  1.5935,  4.3317, 11.7747,\n",
      "        32.0070])\n",
      "int losses tensor([6.9175e-04, 1.1863e-06, 2.5910e+00, 6.4328e-04, 6.6542e-04, 4.0064e-03,\n",
      "        3.6760e-03, 4.6612e+00, 3.3712e-02])\n",
      "tensor(5.6975)\n"
     ]
    },
    {
     "data": {
      "text/plain": [
       "(None, None, None)"
      ]
     },
     "execution_count": 101,
     "metadata": {},
     "output_type": "execute_result"
    }
   ],
   "source": [
    "# Ridge max/min\n",
    "x = get_layer_avgs(ladel_removed)\n",
    "plot_pred(x[test_id,:,None,None], targs[test_id])\n",
    "x = get_edge_det(x, [-1,0,1])\n",
    "plot_pred(x[test_id,:,None,None], targs[test_id])\n",
    "x = get_max_div_mean(x)\n",
    "plot_pred(x[test_id,:,None,None], targs[test_id])\n",
    "score_data(x, targs, pred_start=-1), score_data(x, targs, pred_start=0), score_data(x, targs, pred_start=1, test_id=test_id)"
   ]
  },
  {
   "cell_type": "code",
   "execution_count": 102,
   "id": "e973ceb3",
   "metadata": {},
   "outputs": [
    {
     "name": "stdout",
     "output_type": "stream",
     "text": [
      "Zero-ordered target layer ID (including ladel bottom layer): tensor([5.])\n"
     ]
    },
    {
     "data": {
      "image/png": "[encoded data removed]",
      "text/plain": [
       "<Figure size 1024x576 with 9 Axes>"
      ]
     },
     "metadata": {},
     "output_type": "display_data"
    },
    {
     "name": "stdout",
     "output_type": "stream",
     "text": [
      "Zero-ordered target layer ID (including ladel bottom layer): tensor([5.])\n"
     ]
    },
    {
     "data": {
      "image/png": "[encoded data removed]",
      "text/plain": [
       "<Figure size 1024x576 with 9 Axes>"
      ]
     },
     "metadata": {},
     "output_type": "display_data"
    },
    {
     "name": "stdout",
     "output_type": "stream",
     "text": [
      "Zero-ordered target layer ID (including ladel bottom layer): tensor([5.])\n"
     ]
    },
    {
     "data": {
      "image/png": "[encoded data removed]",
      "text/plain": [
       "<Figure size 1024x576 with 9 Axes>"
      ]
     },
     "metadata": {},
     "output_type": "display_data"
    },
    {
     "name": "stdout",
     "output_type": "stream",
     "text": [
      "Zero-ordered target layer ID (including ladel bottom layer): tensor([5.])\n"
     ]
    },
    {
     "data": {
      "image/png": "[encoded data removed]",
      "text/plain": [
       "<Figure size 1024x576 with 9 Axes>"
      ]
     },
     "metadata": {},
     "output_type": "display_data"
    },
    {
     "name": "stdout",
     "output_type": "stream",
     "text": [
      "tensor(7.4503)\n",
      "tensor(7.2632)\n",
      "targ ID tensor([5.])\n",
      "probs tensor([2.1275e-03, 9.7308e-01, 1.8723e-04, 6.1705e-05, 7.0511e-05, 5.2474e-05,\n",
      "        6.3168e-05, 2.2633e-02, 1.7222e-03])\n",
      "ints tensor([1, 2, 3, 4, 5, 6, 7, 8, 9])\n",
      "mses tensor([32.0070, 11.7747,  4.3317,  1.5935,  0.5862,  1.5935,  4.3317, 11.7747,\n",
      "        32.0070])\n",
      "int losses tensor([6.8096e-02, 1.1458e+01, 8.1102e-04, 9.8329e-05, 4.1335e-05, 8.3618e-05,\n",
      "        2.7363e-04, 2.6650e-01, 5.5124e-02])\n",
      "tensor(7.2107)\n"
     ]
    },
    {
     "data": {
      "text/plain": [
       "(None, None, None)"
      ]
     },
     "execution_count": 102,
     "metadata": {},
     "output_type": "execute_result"
    }
   ],
   "source": [
    "# 1d avg Ridge max/min\n",
    "x = get_layer_avgs(ladel_removed)\n",
    "plot_pred(x[test_id,:,None,None], targs[test_id])\n",
    "x = get_1d_avg(x)\n",
    "plot_pred(x[test_id,:,None,None], targs[test_id])\n",
    "x = get_edge_det(x, [-1,0,1])\n",
    "plot_pred(x[test_id,:,None,None], targs[test_id])\n",
    "x = get_max_div_mean(x)\n",
    "plot_pred(x[test_id,:,None,None], targs[test_id])\n",
    "score_data(x, targs, pred_start=-1), score_data(x, targs, pred_start=0), score_data(x, targs, pred_start=1, test_id=test_id)"
   ]
  },
  {
   "cell_type": "code",
   "execution_count": 103,
   "id": "93228f91",
   "metadata": {},
   "outputs": [
    {
     "name": "stdout",
     "output_type": "stream",
     "text": [
      "Zero-ordered target layer ID (including ladel bottom layer): tensor([5.])\n"
     ]
    },
    {
     "data": {
      "image/png": "[encoded data removed]",
      "text/plain": [
       "<Figure size 1024x576 with 9 Axes>"
      ]
     },
     "metadata": {},
     "output_type": "display_data"
    },
    {
     "name": "stdout",
     "output_type": "stream",
     "text": [
      "Zero-ordered target layer ID (including ladel bottom layer): tensor([5.])\n"
     ]
    },
    {
     "data": {
      "image/png": "[encoded data removed]",
      "text/plain": [
       "<Figure size 1024x576 with 9 Axes>"
      ]
     },
     "metadata": {},
     "output_type": "display_data"
    },
    {
     "name": "stdout",
     "output_type": "stream",
     "text": [
      "Zero-ordered target layer ID (including ladel bottom layer): tensor([5.])\n"
     ]
    },
    {
     "data": {
      "image/png": "[encoded data removed]",
      "text/plain": [
       "<Figure size 1024x576 with 9 Axes>"
      ]
     },
     "metadata": {},
     "output_type": "display_data"
    },
    {
     "name": "stdout",
     "output_type": "stream",
     "text": [
      "Zero-ordered target layer ID (including ladel bottom layer): tensor([5.])\n"
     ]
    },
    {
     "data": {
      "image/png": "[encoded data removed]",
      "text/plain": [
       "<Figure size 1024x576 with 9 Axes>"
      ]
     },
     "metadata": {},
     "output_type": "display_data"
    },
    {
     "name": "stdout",
     "output_type": "stream",
     "text": [
      "tensor(7.5974)\n",
      "tensor(7.4306)\n",
      "targ ID tensor([5.])\n",
      "probs tensor([5.8057e-03, 5.2492e-01, 7.0813e-04, 3.1480e-04, 3.8200e-04, 2.5892e-04,\n",
      "        3.4999e-04, 4.5129e-01, 1.5972e-02])\n",
      "ints tensor([1, 2, 3, 4, 5, 6, 7, 8, 9])\n",
      "mses tensor([32.0070, 11.7747,  4.3317,  1.5935,  0.5862,  1.5935,  4.3317, 11.7747,\n",
      "        32.0070])\n",
      "int losses tensor([1.8582e-01, 6.1808e+00, 3.0674e-03, 5.0164e-04, 2.2394e-04, 4.1260e-04,\n",
      "        1.5160e-03, 5.3138e+00, 5.1123e-01])\n",
      "tensor(7.2839)\n"
     ]
    },
    {
     "data": {
      "text/plain": [
       "(None, None, None)"
      ]
     },
     "execution_count": 103,
     "metadata": {},
     "output_type": "execute_result"
    }
   ],
   "source": [
    "# 3d avg Ridge max/min\n",
    "x = get_3d_avg(ladel_removed)\n",
    "plot_pred(x[test_id], targs[test_id])\n",
    "x = get_layer_avgs(x)\n",
    "plot_pred(x[test_id,:,None,None], targs[test_id])\n",
    "x = get_edge_det(x, [-1,0,1])\n",
    "plot_pred(x[test_id,:,None,None], targs[test_id])\n",
    "x = get_max_div_mean(x)\n",
    "plot_pred(x[test_id,:,None,None], targs[test_id])\n",
    "score_data(x, targs, pred_start=-1), score_data(x, targs, pred_start=0), score_data(x, targs, pred_start=1, test_id=test_id)"
   ]
  },
  {
   "cell_type": "code",
   "execution_count": 104,
   "id": "eec984f1",
   "metadata": {},
   "outputs": [
    {
     "name": "stdout",
     "output_type": "stream",
     "text": [
      "Zero-ordered target layer ID (including ladel bottom layer): tensor([5.])\n"
     ]
    },
    {
     "data": {
      "image/png": "[encoded data removed]",
      "text/plain": [
       "<Figure size 1024x576 with 9 Axes>"
      ]
     },
     "metadata": {},
     "output_type": "display_data"
    },
    {
     "name": "stdout",
     "output_type": "stream",
     "text": [
      "Zero-ordered target layer ID (including ladel bottom layer): tensor([5.])\n"
     ]
    },
    {
     "data": {
      "image/png": "[encoded data removed]",
      "text/plain": [
       "<Figure size 1024x576 with 9 Axes>"
      ]
     },
     "metadata": {},
     "output_type": "display_data"
    },
    {
     "name": "stdout",
     "output_type": "stream",
     "text": [
      "Zero-ordered target layer ID (including ladel bottom layer): tensor([5.])\n"
     ]
    },
    {
     "data": {
      "image/png": "[encoded data removed]",
      "text/plain": [
       "<Figure size 1024x576 with 9 Axes>"
      ]
     },
     "metadata": {},
     "output_type": "display_data"
    },
    {
     "name": "stdout",
     "output_type": "stream",
     "text": [
      "Zero-ordered target layer ID (including ladel bottom layer): tensor([5.])\n"
     ]
    },
    {
     "data": {
      "image/png": "[encoded data removed]",
      "text/plain": [
       "<Figure size 1024x576 with 9 Axes>"
      ]
     },
     "metadata": {},
     "output_type": "display_data"
    },
    {
     "name": "stdout",
     "output_type": "stream",
     "text": [
      "Zero-ordered target layer ID (including ladel bottom layer): tensor([5.])\n"
     ]
    },
    {
     "data": {
      "image/png": "[encoded data removed]",
      "text/plain": [
       "<Figure size 1024x576 with 9 Axes>"
      ]
     },
     "metadata": {},
     "output_type": "display_data"
    },
    {
     "name": "stdout",
     "output_type": "stream",
     "text": [
      "tensor(8.5066)\n",
      "tensor(7.9248)\n",
      "targ ID tensor([5.])\n",
      "probs tensor([0.0250, 0.8791, 0.0063, 0.0026, 0.0022, 0.0016, 0.0022, 0.0682, 0.0128])\n",
      "ints tensor([1, 2, 3, 4, 5, 6, 7, 8, 9])\n",
      "mses tensor([32.0070, 11.7747,  4.3317,  1.5935,  0.5862,  1.5935,  4.3317, 11.7747,\n",
      "        32.0070])\n",
      "int losses tensor([8.0131e-01, 1.0351e+01, 2.7135e-02, 4.2019e-03, 1.2868e-03, 2.5536e-03,\n",
      "        9.4349e-03, 8.0260e-01, 4.1101e-01])\n",
      "tensor(7.2432)\n"
     ]
    },
    {
     "data": {
      "text/plain": [
       "(None, None, None)"
      ]
     },
     "execution_count": 104,
     "metadata": {},
     "output_type": "execute_result"
    }
   ],
   "source": [
    "# 3d avg 1d avg Ridge max/min\n",
    "x = get_3d_gauss(ladel_removed)\n",
    "plot_pred(x[test_id], targs[test_id])\n",
    "x = get_layer_avgs(x)\n",
    "plot_pred(x[test_id,:,None,None], targs[test_id])\n",
    "x = get_1d_avg(x)\n",
    "plot_pred(x[test_id,:,None,None], targs[test_id])\n",
    "x = get_edge_det(x, [-1,0,1])\n",
    "plot_pred(x[test_id,:,None,None], targs[test_id])\n",
    "x = get_max_div_mean(x)\n",
    "plot_pred(x[test_id,:,None,None], targs[test_id])\n",
    "score_data(x, targs, pred_start=-1), score_data(x, targs, pred_start=0), score_data(x, targs, pred_start=1, test_id=test_id)"
   ]
  },
  {
   "cell_type": "code",
   "execution_count": 105,
   "id": "b28702fe",
   "metadata": {},
   "outputs": [
    {
     "name": "stdout",
     "output_type": "stream",
     "text": [
      "Zero-ordered target layer ID (including ladel bottom layer): tensor([5.])\n"
     ]
    },
    {
     "data": {
      "image/png": "[encoded data removed]",
      "text/plain": [
       "<Figure size 1024x576 with 9 Axes>"
      ]
     },
     "metadata": {},
     "output_type": "display_data"
    },
    {
     "name": "stdout",
     "output_type": "stream",
     "text": [
      "Zero-ordered target layer ID (including ladel bottom layer): tensor([5.])\n"
     ]
    },
    {
     "data": {
      "image/png": "[encoded data removed]",
      "text/plain": [
       "<Figure size 1024x576 with 9 Axes>"
      ]
     },
     "metadata": {},
     "output_type": "display_data"
    },
    {
     "name": "stdout",
     "output_type": "stream",
     "text": [
      "Zero-ordered target layer ID (including ladel bottom layer): tensor([5.])\n"
     ]
    },
    {
     "data": {
      "image/png": "[encoded data removed]",
      "text/plain": [
       "<Figure size 1024x576 with 9 Axes>"
      ]
     },
     "metadata": {},
     "output_type": "display_data"
    },
    {
     "name": "stdout",
     "output_type": "stream",
     "text": [
      "tensor(11.1021)\n",
      "tensor(11.0968)\n",
      "targ ID tensor([5.])\n",
      "probs tensor([0.1112, 0.1115, 0.1116, 0.1109, 0.1114, 0.1120, 0.1106, 0.1101, 0.1108])\n",
      "ints tensor([1, 2, 3, 4, 5, 6, 7, 8, 9])\n",
      "mses tensor([32.0070, 11.7747,  4.3317,  1.5935,  0.5862,  1.5935,  4.3317, 11.7747,\n",
      "        32.0070])\n",
      "int losses tensor([3.5581, 1.3133, 0.4833, 0.1767, 0.0653, 0.1784, 0.4790, 1.2964, 3.5475])\n",
      "tensor(11.0921)\n"
     ]
    },
    {
     "data": {
      "text/plain": [
       "(None, None, None)"
      ]
     },
     "execution_count": 105,
     "metadata": {},
     "output_type": "execute_result"
    }
   ],
   "source": [
    "# max-min Ridge\n",
    "x = get_layer_avgs(ladel_removed)\n",
    "plot_pred(x[test_id,:,None,None], targs[test_id])\n",
    "x = get_max_sub_mean(x)\n",
    "plot_pred(x[test_id,:,None,None], targs[test_id])\n",
    "x = get_edge_det(x, [-1,0,1])\n",
    "plot_pred(x[test_id,:,None,None], targs[test_id])\n",
    "score_data(x, targs, pred_start=-1), score_data(x, targs, pred_start=0), score_data(x, targs, pred_start=1, test_id=test_id)"
   ]
  },
  {
   "cell_type": "code",
   "execution_count": 106,
   "id": "b2f93428",
   "metadata": {},
   "outputs": [
    {
     "name": "stdout",
     "output_type": "stream",
     "text": [
      "Zero-ordered target layer ID (including ladel bottom layer): tensor([5.])\n"
     ]
    },
    {
     "data": {
      "image/png": "[encoded data removed]",
      "text/plain": [
       "<Figure size 1024x576 with 9 Axes>"
      ]
     },
     "metadata": {},
     "output_type": "display_data"
    },
    {
     "name": "stdout",
     "output_type": "stream",
     "text": [
      "Zero-ordered target layer ID (including ladel bottom layer): tensor([5.])\n"
     ]
    },
    {
     "data": {
      "image/png": "[encoded data removed]",
      "text/plain": [
       "<Figure size 1024x576 with 9 Axes>"
      ]
     },
     "metadata": {},
     "output_type": "display_data"
    },
    {
     "name": "stdout",
     "output_type": "stream",
     "text": [
      "Zero-ordered target layer ID (including ladel bottom layer): tensor([5.])\n"
     ]
    },
    {
     "data": {
      "image/png": "[encoded data removed]",
      "text/plain": [
       "<Figure size 1024x576 with 9 Axes>"
      ]
     },
     "metadata": {},
     "output_type": "display_data"
    },
    {
     "name": "stdout",
     "output_type": "stream",
     "text": [
      "tensor(10.7615)\n",
      "tensor(10.3443)\n",
      "targ ID tensor([5.])\n",
      "probs tensor([0.1125, 0.1636, 0.1555, 0.0752, 0.1030, 0.1644, 0.0726, 0.0583, 0.0949])\n",
      "ints tensor([1, 2, 3, 4, 5, 6, 7, 8, 9])\n",
      "mses tensor([32.0070, 11.7747,  4.3317,  1.5935,  0.5862,  1.5935,  4.3317, 11.7747,\n",
      "        32.0070])\n",
      "int losses tensor([3.6006, 1.9261, 0.6735, 0.1198, 0.0604, 0.2620, 0.3145, 0.6864, 3.0374])\n",
      "tensor(9.9656)\n"
     ]
    },
    {
     "data": {
      "text/plain": [
       "(None, None, None)"
      ]
     },
     "execution_count": 106,
     "metadata": {},
     "output_type": "execute_result"
    }
   ],
   "source": [
    "# max/min Ridge\n",
    "x = get_layer_avgs(ladel_removed)\n",
    "plot_pred(x[test_id,:,None,None], targs[test_id])\n",
    "x = get_max_div_mean(x)\n",
    "plot_pred(x[test_id,:,None,None], targs[test_id])\n",
    "x = get_edge_det(x, [-1,0,1])\n",
    "plot_pred(x[test_id,:,None,None], targs[test_id])\n",
    "score_data(x, targs, pred_start=-1), score_data(x, targs, pred_start=0), score_data(x, targs, pred_start=1, test_id=test_id)"
   ]
  },
  {
   "cell_type": "code",
   "execution_count": 107,
   "id": "6fdf297d",
   "metadata": {},
   "outputs": [
    {
     "name": "stdout",
     "output_type": "stream",
     "text": [
      "Zero-ordered target layer ID (including ladel bottom layer): tensor([5.])\n"
     ]
    },
    {
     "data": {
      "image/png": "[encoded data removed]",
      "text/plain": [
       "<Figure size 1024x576 with 9 Axes>"
      ]
     },
     "metadata": {},
     "output_type": "display_data"
    },
    {
     "name": "stdout",
     "output_type": "stream",
     "text": [
      "Zero-ordered target layer ID (including ladel bottom layer): tensor([5.])\n"
     ]
    },
    {
     "data": {
      "image/png": "[encoded data removed]",
      "text/plain": [
       "<Figure size 1024x576 with 9 Axes>"
      ]
     },
     "metadata": {},
     "output_type": "display_data"
    },
    {
     "name": "stdout",
     "output_type": "stream",
     "text": [
      "Zero-ordered target layer ID (including ladel bottom layer): tensor([5.])\n"
     ]
    },
    {
     "data": {
      "image/png": "[encoded data removed]",
      "text/plain": [
       "<Figure size 1024x576 with 9 Axes>"
      ]
     },
     "metadata": {},
     "output_type": "display_data"
    },
    {
     "name": "stdout",
     "output_type": "stream",
     "text": [
      "Zero-ordered target layer ID (including ladel bottom layer): tensor([5.])\n"
     ]
    },
    {
     "data": {
      "image/png": "[encoded data removed]",
      "text/plain": [
       "<Figure size 1024x576 with 9 Axes>"
      ]
     },
     "metadata": {},
     "output_type": "display_data"
    },
    {
     "name": "stdout",
     "output_type": "stream",
     "text": [
      "Zero-ordered target layer ID (including ladel bottom layer): tensor([5.])\n"
     ]
    },
    {
     "data": {
      "image/png": "[encoded data removed]",
      "text/plain": [
       "<Figure size 1024x576 with 9 Axes>"
      ]
     },
     "metadata": {},
     "output_type": "display_data"
    },
    {
     "name": "stdout",
     "output_type": "stream",
     "text": [
      "tensor(11.1063)\n",
      "tensor(11.1008)\n",
      "targ ID tensor([5.])\n",
      "probs tensor([0.1112, 0.1114, 0.1114, 0.1113, 0.1113, 0.1112, 0.1108, 0.1105, 0.1107])\n",
      "ints tensor([1, 2, 3, 4, 5, 6, 7, 8, 9])\n",
      "mses tensor([32.0070, 11.7747,  4.3317,  1.5935,  0.5862,  1.5935,  4.3317, 11.7747,\n",
      "        32.0070])\n",
      "int losses tensor([3.5601, 1.3117, 0.4825, 0.1774, 0.0653, 0.1772, 0.4801, 1.3011, 3.5448])\n",
      "tensor(11.0954)\n"
     ]
    },
    {
     "data": {
      "text/plain": [
       "(None, None, None)"
      ]
     },
     "execution_count": 107,
     "metadata": {},
     "output_type": "execute_result"
    }
   ],
   "source": [
    "# 3d avg 1d avg max-min Ridge \n",
    "x = get_3d_gauss(ladel_removed)\n",
    "plot_pred(x[test_id], targs[test_id])\n",
    "x = get_layer_avgs(x)\n",
    "plot_pred(x[test_id,:,None,None], targs[test_id])\n",
    "x = get_1d_avg(x)\n",
    "plot_pred(x[test_id,:,None,None], targs[test_id])\n",
    "x = get_max_sub_mean(x)\n",
    "plot_pred(x[test_id,:,None,None], targs[test_id])\n",
    "x = get_edge_det(x, [-1,0,1])\n",
    "plot_pred(x[test_id,:,None,None], targs[test_id])\n",
    "score_data(x, targs, pred_start=-1), score_data(x, targs, pred_start=0), score_data(x, targs, pred_start=1, test_id=test_id)"
   ]
  },
  {
   "cell_type": "code",
   "execution_count": 108,
   "id": "289f67cb",
   "metadata": {},
   "outputs": [
    {
     "name": "stdout",
     "output_type": "stream",
     "text": [
      "Zero-ordered target layer ID (including ladel bottom layer): tensor([5.])\n"
     ]
    },
    {
     "data": {
      "image/png": "[encoded data removed]",
      "text/plain": [
       "<Figure size 1024x576 with 9 Axes>"
      ]
     },
     "metadata": {},
     "output_type": "display_data"
    },
    {
     "name": "stdout",
     "output_type": "stream",
     "text": [
      "Zero-ordered target layer ID (including ladel bottom layer): tensor([5.])\n"
     ]
    },
    {
     "data": {
      "image/png": "[encoded data removed]",
      "text/plain": [
       "<Figure size 1024x576 with 9 Axes>"
      ]
     },
     "metadata": {},
     "output_type": "display_data"
    },
    {
     "name": "stdout",
     "output_type": "stream",
     "text": [
      "Zero-ordered target layer ID (including ladel bottom layer): tensor([5.])\n"
     ]
    },
    {
     "data": {
      "image/png": "[encoded data removed]",
      "text/plain": [
       "<Figure size 1024x576 with 9 Axes>"
      ]
     },
     "metadata": {},
     "output_type": "display_data"
    },
    {
     "name": "stdout",
     "output_type": "stream",
     "text": [
      "Zero-ordered target layer ID (including ladel bottom layer): tensor([5.])\n"
     ]
    },
    {
     "data": {
      "image/png": "[encoded data removed]",
      "text/plain": [
       "<Figure size 1024x576 with 9 Axes>"
      ]
     },
     "metadata": {},
     "output_type": "display_data"
    },
    {
     "name": "stdout",
     "output_type": "stream",
     "text": [
      "Zero-ordered target layer ID (including ladel bottom layer): tensor([5.])\n"
     ]
    },
    {
     "data": {
      "image/png": "[encoded data removed]",
      "text/plain": [
       "<Figure size 1024x576 with 9 Axes>"
      ]
     },
     "metadata": {},
     "output_type": "display_data"
    },
    {
     "name": "stdout",
     "output_type": "stream",
     "text": [
      "tensor(11.0822)\n",
      "tensor(10.6801)\n",
      "targ ID tensor([5.])\n",
      "probs tensor([0.1247, 0.1446, 0.1348, 0.1197, 0.1130, 0.1021, 0.0864, 0.0804, 0.0942])\n",
      "ints tensor([1, 2, 3, 4, 5, 6, 7, 8, 9])\n",
      "mses tensor([32.0070, 11.7747,  4.3317,  1.5935,  0.5862,  1.5935,  4.3317, 11.7747,\n",
      "        32.0070])\n",
      "int losses tensor([3.9923, 1.7022, 0.5841, 0.1907, 0.0663, 0.1627, 0.3743, 0.9471, 3.0156])\n",
      "tensor(10.2814)\n"
     ]
    },
    {
     "data": {
      "text/plain": [
       "(None, None, None)"
      ]
     },
     "execution_count": 108,
     "metadata": {},
     "output_type": "execute_result"
    }
   ],
   "source": [
    "# 3d avg 1d avg max/min Ridge \n",
    "x = get_3d_gauss(ladel_removed)\n",
    "plot_pred(x[test_id], targs[test_id])\n",
    "x = get_layer_avgs(x)\n",
    "plot_pred(x[test_id,:,None,None], targs[test_id])\n",
    "x = get_1d_avg(x)\n",
    "plot_pred(x[test_id,:,None,None], targs[test_id])\n",
    "x = get_max_div_mean(x)\n",
    "plot_pred(x[test_id,:,None,None], targs[test_id])\n",
    "x = get_edge_det(x, [-1,0,1])\n",
    "plot_pred(x[test_id,:,None,None], targs[test_id])\n",
    "score_data(x, targs, pred_start=-1), score_data(x, targs, pred_start=0), score_data(x, targs, pred_start=1, test_id=test_id)"
   ]
  },
  {
   "cell_type": "code",
   "execution_count": 109,
   "id": "c370f23d",
   "metadata": {},
   "outputs": [
    {
     "name": "stdout",
     "output_type": "stream",
     "text": [
      "Zero-ordered target layer ID (including ladel bottom layer): tensor([5.])\n"
     ]
    },
    {
     "data": {
      "image/png": "[encoded data removed]",
      "text/plain": [
       "<Figure size 1024x576 with 9 Axes>"
      ]
     },
     "metadata": {},
     "output_type": "display_data"
    },
    {
     "name": "stdout",
     "output_type": "stream",
     "text": [
      "Zero-ordered target layer ID (including ladel bottom layer): tensor([5.])\n"
     ]
    },
    {
     "data": {
      "image/png": "[encoded data removed]",
      "text/plain": [
       "<Figure size 1024x576 with 9 Axes>"
      ]
     },
     "metadata": {},
     "output_type": "display_data"
    },
    {
     "name": "stdout",
     "output_type": "stream",
     "text": [
      "Zero-ordered target layer ID (including ladel bottom layer): tensor([5.])\n"
     ]
    },
    {
     "data": {
      "image/png": "[encoded data removed]",
      "text/plain": [
       "<Figure size 1024x576 with 9 Axes>"
      ]
     },
     "metadata": {},
     "output_type": "display_data"
    },
    {
     "name": "stdout",
     "output_type": "stream",
     "text": [
      "Zero-ordered target layer ID (including ladel bottom layer): tensor([5.])\n"
     ]
    },
    {
     "data": {
      "image/png": "[encoded data removed]",
      "text/plain": [
       "<Figure size 1024x576 with 9 Axes>"
      ]
     },
     "metadata": {},
     "output_type": "display_data"
    },
    {
     "name": "stdout",
     "output_type": "stream",
     "text": [
      "tensor(11.0624)\n",
      "tensor(10.6363)\n",
      "targ ID tensor([5.])\n",
      "probs tensor([0.1250, 0.1526, 0.1347, 0.1126, 0.1165, 0.1065, 0.0849, 0.0761, 0.0909])\n",
      "ints tensor([1, 2, 3, 4, 5, 6, 7, 8, 9])\n",
      "mses tensor([32.0070, 11.7747,  4.3317,  1.5935,  0.5862,  1.5935,  4.3317, 11.7747,\n",
      "        32.0070])\n",
      "int losses tensor([4.0006, 1.7973, 0.5835, 0.1795, 0.0683, 0.1698, 0.3677, 0.8966, 2.9102])\n",
      "tensor(10.2124)\n"
     ]
    },
    {
     "data": {
      "text/plain": [
       "(None, None, None)"
      ]
     },
     "execution_count": 109,
     "metadata": {},
     "output_type": "execute_result"
    }
   ],
   "source": [
    "# 1d avg max/min Ridge \n",
    "x = get_layer_avgs(ladel_removed)\n",
    "plot_pred(x[test_id,:,None,None], targs[test_id])\n",
    "x = get_1d_avg(x)\n",
    "plot_pred(x[test_id,:,None,None], targs[test_id])\n",
    "x = get_max_div_mean(x)\n",
    "plot_pred(x[test_id,:,None,None], targs[test_id])\n",
    "x = get_edge_det(x, [-1,0,1])\n",
    "plot_pred(x[test_id,:,None,None], targs[test_id])\n",
    "score_data(x, targs, pred_start=-1), score_data(x, targs, pred_start=0), score_data(x, targs, pred_start=1, test_id=test_id)"
   ]
  },
  {
   "cell_type": "code",
   "execution_count": 110,
   "id": "49727ef6",
   "metadata": {},
   "outputs": [
    {
     "name": "stdout",
     "output_type": "stream",
     "text": [
      "Zero-ordered target layer ID (including ladel bottom layer): tensor([5.])\n"
     ]
    },
    {
     "data": {
      "image/png": "[encoded data removed]",
      "text/plain": [
       "<Figure size 1024x576 with 9 Axes>"
      ]
     },
     "metadata": {},
     "output_type": "display_data"
    },
    {
     "name": "stdout",
     "output_type": "stream",
     "text": [
      "Zero-ordered target layer ID (including ladel bottom layer): tensor([5.])\n"
     ]
    },
    {
     "data": {
      "image/png": "[encoded data removed]",
      "text/plain": [
       "<Figure size 1024x576 with 9 Axes>"
      ]
     },
     "metadata": {},
     "output_type": "display_data"
    },
    {
     "name": "stdout",
     "output_type": "stream",
     "text": [
      "Zero-ordered target layer ID (including ladel bottom layer): tensor([5.])\n"
     ]
    },
    {
     "data": {
      "image/png": "[encoded data removed]",
      "text/plain": [
       "<Figure size 1024x576 with 9 Axes>"
      ]
     },
     "metadata": {},
     "output_type": "display_data"
    },
    {
     "name": "stdout",
     "output_type": "stream",
     "text": [
      "Zero-ordered target layer ID (including ladel bottom layer): tensor([5.])\n"
     ]
    },
    {
     "data": {
      "image/png": "[encoded data removed]",
      "text/plain": [
       "<Figure size 1024x576 with 9 Axes>"
      ]
     },
     "metadata": {},
     "output_type": "display_data"
    },
    {
     "name": "stdout",
     "output_type": "stream",
     "text": [
      "tensor(10.9428)\n",
      "tensor(10.5317)\n",
      "targ ID tensor([5.])\n",
      "probs tensor([0.1224, 0.1605, 0.1425, 0.1011, 0.1124, 0.1172, 0.0814, 0.0715, 0.0912])\n",
      "ints tensor([1, 2, 3, 4, 5, 6, 7, 8, 9])\n",
      "mses tensor([32.0070, 11.7747,  4.3317,  1.5935,  0.5862,  1.5935,  4.3317, 11.7747,\n",
      "        32.0070])\n",
      "int losses tensor([3.9162, 1.8895, 0.6171, 0.1611, 0.0659, 0.1868, 0.3525, 0.8419, 2.9188])\n",
      "tensor(10.1324)\n"
     ]
    },
    {
     "data": {
      "text/plain": [
       "(None, None, None)"
      ]
     },
     "execution_count": 110,
     "metadata": {},
     "output_type": "execute_result"
    }
   ],
   "source": [
    "# 3d avg max/min Ridge \n",
    "x = get_3d_gauss(ladel_removed)\n",
    "plot_pred(x[test_id], targs[test_id])\n",
    "x = get_layer_avgs(x)\n",
    "plot_pred(x[test_id,:,None,None], targs[test_id])\n",
    "x = get_max_div_mean(x)\n",
    "plot_pred(x[test_id,:,None,None], targs[test_id])\n",
    "x = get_edge_det(x, [-1,0,1])\n",
    "plot_pred(x[test_id,:,None,None], targs[test_id])\n",
    "score_data(x, targs, pred_start=-1), score_data(x, targs, pred_start=0), score_data(x, targs, pred_start=1, test_id=test_id)"
   ]
  },
  {
   "cell_type": "markdown",
   "id": "3a75d817",
   "metadata": {},
   "source": [
    "## Laplacian edge"
   ]
  },
  {
   "cell_type": "code",
   "execution_count": 111,
   "id": "c4fa6dd9",
   "metadata": {},
   "outputs": [
    {
     "name": "stdout",
     "output_type": "stream",
     "text": [
      "Zero-ordered target layer ID (including ladel bottom layer): tensor([5.])\n"
     ]
    },
    {
     "data": {
      "image/png": "[encoded data removed]",
      "text/plain": [
       "<Figure size 1024x576 with 9 Axes>"
      ]
     },
     "metadata": {},
     "output_type": "display_data"
    },
    {
     "name": "stdout",
     "output_type": "stream",
     "text": [
      "Zero-ordered target layer ID (including ladel bottom layer): tensor([5.])\n"
     ]
    },
    {
     "data": {
      "image/png": "[encoded data removed]",
      "text/plain": [
       "<Figure size 1024x576 with 9 Axes>"
      ]
     },
     "metadata": {},
     "output_type": "display_data"
    },
    {
     "name": "stdout",
     "output_type": "stream",
     "text": [
      "Zero-ordered target layer ID (including ladel bottom layer): tensor([5.])\n"
     ]
    },
    {
     "data": {
      "image/png": "[encoded data removed]",
      "text/plain": [
       "<Figure size 1024x576 with 9 Axes>"
      ]
     },
     "metadata": {},
     "output_type": "display_data"
    },
    {
     "name": "stdout",
     "output_type": "stream",
     "text": [
      "tensor(11.0738)\n",
      "tensor(11.0836)\n",
      "targ ID tensor([5.])\n",
      "probs tensor([0.1103, 0.1103, 0.1112, 0.1114, 0.1107, 0.1130, 0.1130, 0.1101, 0.1100])\n",
      "ints tensor([1, 2, 3, 4, 5, 6, 7, 8, 9])\n",
      "mses tensor([32.0070, 11.7747,  4.3317,  1.5935,  0.5862,  1.5935,  4.3317, 11.7747,\n",
      "        32.0070])\n",
      "int losses tensor([3.5295, 1.2984, 0.4816, 0.1776, 0.0649, 0.1800, 0.4896, 1.2963, 3.5216])\n",
      "tensor(11.0940)\n"
     ]
    },
    {
     "data": {
      "text/plain": [
       "(None, None, None)"
      ]
     },
     "execution_count": 111,
     "metadata": {},
     "output_type": "execute_result"
    }
   ],
   "source": [
    "# Laplacian max-min\n",
    "x = get_layer_avgs(ladel_removed)\n",
    "plot_pred(x[test_id,:,None,None], targs[test_id])\n",
    "x = get_edge_det(x, [1,-4,1])\n",
    "plot_pred(x[test_id,:,None,None], targs[test_id])\n",
    "x = get_max_sub_mean(x)\n",
    "plot_pred(x[test_id,:,None,None], targs[test_id])\n",
    "score_data(x, targs, pred_start=-1), score_data(x, targs, pred_start=0), score_data(x, targs, pred_start=1, test_id=test_id)"
   ]
  },
  {
   "cell_type": "code",
   "execution_count": 112,
   "id": "2fd2ca9d",
   "metadata": {},
   "outputs": [
    {
     "name": "stdout",
     "output_type": "stream",
     "text": [
      "Zero-ordered target layer ID (including ladel bottom layer): tensor([5.])\n"
     ]
    },
    {
     "data": {
      "image/png": "[encoded data removed]",
      "text/plain": [
       "<Figure size 1024x576 with 9 Axes>"
      ]
     },
     "metadata": {},
     "output_type": "display_data"
    },
    {
     "name": "stdout",
     "output_type": "stream",
     "text": [
      "Zero-ordered target layer ID (including ladel bottom layer): tensor([5.])\n"
     ]
    },
    {
     "data": {
      "image/png": "[encoded data removed]",
      "text/plain": [
       "<Figure size 1024x576 with 9 Axes>"
      ]
     },
     "metadata": {},
     "output_type": "display_data"
    },
    {
     "name": "stdout",
     "output_type": "stream",
     "text": [
      "Zero-ordered target layer ID (including ladel bottom layer): tensor([5.])\n"
     ]
    },
    {
     "data": {
      "image/png": "[encoded data removed]",
      "text/plain": [
       "<Figure size 1024x576 with 9 Axes>"
      ]
     },
     "metadata": {},
     "output_type": "display_data"
    },
    {
     "name": "stdout",
     "output_type": "stream",
     "text": [
      "Zero-ordered target layer ID (including ladel bottom layer): tensor([5.])\n"
     ]
    },
    {
     "data": {
      "image/png": "[encoded data removed]",
      "text/plain": [
       "<Figure size 1024x576 with 9 Axes>"
      ]
     },
     "metadata": {},
     "output_type": "display_data"
    },
    {
     "name": "stdout",
     "output_type": "stream",
     "text": [
      "tensor(11.0645)\n",
      "tensor(11.0701)\n",
      "targ ID tensor([5.])\n",
      "probs tensor([0.1102, 0.1105, 0.1112, 0.1111, 0.1114, 0.1119, 0.1121, 0.1114, 0.1102])\n",
      "ints tensor([1, 2, 3, 4, 5, 6, 7, 8, 9])\n",
      "mses tensor([32.0070, 11.7747,  4.3317,  1.5935,  0.5862,  1.5935,  4.3317, 11.7747,\n",
      "        32.0070])\n",
      "int losses tensor([3.5276, 1.3011, 0.4815, 0.1770, 0.0653, 0.1783, 0.4858, 1.3117, 3.5281])\n",
      "tensor(11.0762)\n"
     ]
    },
    {
     "data": {
      "text/plain": [
       "(None, None, None)"
      ]
     },
     "execution_count": 112,
     "metadata": {},
     "output_type": "execute_result"
    }
   ],
   "source": [
    "# 1d avg Laplacian max-min\n",
    "x = get_layer_avgs(ladel_removed)\n",
    "plot_pred(x[test_id,:,None,None], targs[test_id])\n",
    "x = get_1d_avg(x)\n",
    "plot_pred(x[test_id,:,None,None], targs[test_id])\n",
    "x = get_edge_det(x, [1,-4,1])\n",
    "plot_pred(x[test_id,:,None,None], targs[test_id])\n",
    "x = get_max_sub_mean(x)\n",
    "plot_pred(x[test_id,:,None,None], targs[test_id])\n",
    "score_data(x, targs, pred_start=-1), score_data(x, targs, pred_start=0), score_data(x, targs, pred_start=1, test_id=test_id)"
   ]
  },
  {
   "cell_type": "code",
   "execution_count": 117,
   "id": "f3363b9a",
   "metadata": {},
   "outputs": [
    {
     "name": "stdout",
     "output_type": "stream",
     "text": [
      "Zero-ordered target layer ID (including ladel bottom layer): tensor([5.])\n"
     ]
    },
    {
     "data": {
      "image/png": "[encoded data removed]",
      "text/plain": [
       "<Figure size 1024x576 with 9 Axes>"
      ]
     },
     "metadata": {},
     "output_type": "display_data"
    },
    {
     "name": "stdout",
     "output_type": "stream",
     "text": [
      "Zero-ordered target layer ID (including ladel bottom layer): tensor([5.])\n"
     ]
    },
    {
     "data": {
      "image/png": "[encoded data removed]",
      "text/plain": [
       "<Figure size 1024x576 with 9 Axes>"
      ]
     },
     "metadata": {},
     "output_type": "display_data"
    },
    {
     "name": "stdout",
     "output_type": "stream",
     "text": [
      "Zero-ordered target layer ID (including ladel bottom layer): tensor([5.])\n"
     ]
    },
    {
     "data": {
      "image/png": "[encoded data removed]",
      "text/plain": [
       "<Figure size 1024x576 with 9 Axes>"
      ]
     },
     "metadata": {},
     "output_type": "display_data"
    },
    {
     "name": "stdout",
     "output_type": "stream",
     "text": [
      "tensor(9.5182)\n",
      "tensor(9.5360)\n",
      "targ ID tensor([5.])\n",
      "probs tensor([0.0776, 0.0776, 0.1309, 0.1314, 0.0831, 0.1860, 0.1907, 0.0617, 0.0610])\n",
      "ints tensor([1, 2, 3, 4, 5, 6, 7, 8, 9])\n",
      "mses tensor([32.0070, 11.7747,  4.3317,  1.5935,  0.5862,  1.5935,  4.3317, 11.7747,\n",
      "        32.0070])\n",
      "int losses tensor([2.4848, 0.9141, 0.5669, 0.2094, 0.0487, 0.2964, 0.8259, 0.7269, 1.9526])\n",
      "tensor(9.5437)\n"
     ]
    },
    {
     "data": {
      "text/plain": [
       "(None, None, None)"
      ]
     },
     "execution_count": 117,
     "metadata": {},
     "output_type": "execute_result"
    }
   ],
   "source": [
    "# Laplacian max/min\n",
    "x = get_layer_avgs(ladel_removed)\n",
    "plot_pred(x[test_id,:,None,None], targs[test_id])\n",
    "x = -get_edge_det(x, [1,-4,1])\n",
    "plot_pred(x[test_id,:,None,None], targs[test_id])\n",
    "x = get_max_div_mean(x)\n",
    "plot_pred(x[test_id,:,None,None], targs[test_id])\n",
    "score_data(x, targs, pred_start=-1), score_data(x, targs, pred_start=0), score_data(x, targs, pred_start=1, test_id=test_id)"
   ]
  },
  {
   "cell_type": "code",
   "execution_count": 113,
   "id": "42f2e9f9",
   "metadata": {},
   "outputs": [
    {
     "name": "stdout",
     "output_type": "stream",
     "text": [
      "Zero-ordered target layer ID (including ladel bottom layer): tensor([5.])\n"
     ]
    },
    {
     "data": {
      "image/png": "[encoded data removed]",
      "text/plain": [
       "<Figure size 1024x576 with 9 Axes>"
      ]
     },
     "metadata": {},
     "output_type": "display_data"
    },
    {
     "name": "stdout",
     "output_type": "stream",
     "text": [
      "Zero-ordered target layer ID (including ladel bottom layer): tensor([5.])\n"
     ]
    },
    {
     "data": {
      "image/png": "[encoded data removed]",
      "text/plain": [
       "<Figure size 1024x576 with 9 Axes>"
      ]
     },
     "metadata": {},
     "output_type": "display_data"
    },
    {
     "name": "stdout",
     "output_type": "stream",
     "text": [
      "Zero-ordered target layer ID (including ladel bottom layer): tensor([5.])\n"
     ]
    },
    {
     "data": {
      "image/png": "[encoded data removed]",
      "text/plain": [
       "<Figure size 1024x576 with 9 Axes>"
      ]
     },
     "metadata": {},
     "output_type": "display_data"
    },
    {
     "name": "stdout",
     "output_type": "stream",
     "text": [
      "Zero-ordered target layer ID (including ladel bottom layer): tensor([5.])\n"
     ]
    },
    {
     "data": {
      "image/png": "[encoded data removed]",
      "text/plain": [
       "<Figure size 1024x576 with 9 Axes>"
      ]
     },
     "metadata": {},
     "output_type": "display_data"
    },
    {
     "name": "stdout",
     "output_type": "stream",
     "text": [
      "tensor(9.1128)\n",
      "tensor(9.1674)\n",
      "targ ID tensor([5.])\n",
      "probs tensor([0.0815, 0.0939, 0.1300, 0.1197, 0.1205, 0.1382, 0.1304, 0.1041, 0.0817])\n",
      "ints tensor([1, 2, 3, 4, 5, 6, 7, 8, 9])\n",
      "mses tensor([32.0070, 11.7747,  4.3317,  1.5935,  0.5862,  1.5935,  4.3317, 11.7747,\n",
      "        32.0070])\n",
      "int losses tensor([2.6089, 1.1062, 0.5632, 0.1907, 0.0707, 0.2202, 0.5647, 1.2253, 2.6143])\n",
      "tensor(9.2546)\n"
     ]
    },
    {
     "data": {
      "text/plain": [
       "(None, None, None)"
      ]
     },
     "execution_count": 113,
     "metadata": {},
     "output_type": "execute_result"
    }
   ],
   "source": [
    "# 1d avg Laplacian max/min\n",
    "x = get_layer_avgs(ladel_removed)\n",
    "plot_pred(x[test_id,:,None,None], targs[test_id])\n",
    "x = get_1d_avg(x)\n",
    "plot_pred(x[test_id,:,None,None], targs[test_id])\n",
    "x = -get_edge_det(x, [1,-4,1])\n",
    "plot_pred(x[test_id,:,None,None], targs[test_id])\n",
    "x = get_max_div_mean(x)\n",
    "plot_pred(x[test_id,:,None,None], targs[test_id])\n",
    "score_data(x, targs, pred_start=-1), score_data(x, targs, pred_start=0), score_data(x, targs, pred_start=1, test_id=test_id)"
   ]
  },
  {
   "cell_type": "code",
   "execution_count": 115,
   "id": "2e0de3b5",
   "metadata": {},
   "outputs": [
    {
     "name": "stdout",
     "output_type": "stream",
     "text": [
      "Zero-ordered target layer ID (including ladel bottom layer): tensor([5.])\n"
     ]
    },
    {
     "data": {
      "image/png": "[encoded data removed]",
      "text/plain": [
       "<Figure size 1024x576 with 9 Axes>"
      ]
     },
     "metadata": {},
     "output_type": "display_data"
    },
    {
     "name": "stdout",
     "output_type": "stream",
     "text": [
      "Zero-ordered target layer ID (including ladel bottom layer): tensor([5.])\n"
     ]
    },
    {
     "data": {
      "image/png": "[encoded data removed]",
      "text/plain": [
       "<Figure size 1024x576 with 9 Axes>"
      ]
     },
     "metadata": {},
     "output_type": "display_data"
    },
    {
     "name": "stdout",
     "output_type": "stream",
     "text": [
      "Zero-ordered target layer ID (including ladel bottom layer): tensor([5.])\n"
     ]
    },
    {
     "data": {
      "image/png": "[encoded data removed]",
      "text/plain": [
       "<Figure size 1024x576 with 9 Axes>"
      ]
     },
     "metadata": {},
     "output_type": "display_data"
    },
    {
     "name": "stdout",
     "output_type": "stream",
     "text": [
      "Zero-ordered target layer ID (including ladel bottom layer): tensor([5.])\n"
     ]
    },
    {
     "data": {
      "image/png": "[encoded data removed]",
      "text/plain": [
       "<Figure size 1024x576 with 9 Axes>"
      ]
     },
     "metadata": {},
     "output_type": "display_data"
    },
    {
     "name": "stdout",
     "output_type": "stream",
     "text": [
      "tensor(9.0604)\n",
      "tensor(9.1091)\n",
      "targ ID tensor([5.])\n",
      "probs tensor([0.0825, 0.0969, 0.1298, 0.1163, 0.1209, 0.1405, 0.1288, 0.1023, 0.0819])\n",
      "ints tensor([1, 2, 3, 4, 5, 6, 7, 8, 9])\n",
      "mses tensor([32.0070, 11.7747,  4.3317,  1.5935,  0.5862,  1.5935,  4.3317, 11.7747,\n",
      "        32.0070])\n",
      "int losses tensor([2.6393, 1.1413, 0.5624, 0.1853, 0.0709, 0.2239, 0.5580, 1.2040, 2.6225])\n",
      "tensor(9.1907)\n"
     ]
    },
    {
     "data": {
      "text/plain": [
       "(None, None, None)"
      ]
     },
     "execution_count": 115,
     "metadata": {},
     "output_type": "execute_result"
    }
   ],
   "source": [
    "# 3d avg Laplacian max/min\n",
    "x = get_3d_avg(ladel_removed)\n",
    "plot_pred(x[test_id], targs[test_id])\n",
    "x = get_layer_avgs(x)\n",
    "plot_pred(x[test_id,:,None,None], targs[test_id])\n",
    "x = -get_edge_det(x, [1,-4,1])\n",
    "plot_pred(x[test_id,:,None,None], targs[test_id])\n",
    "x = get_max_div_mean(x)\n",
    "plot_pred(x[test_id,:,None,None], targs[test_id])\n",
    "score_data(x, targs, pred_start=-1), score_data(x, targs, pred_start=0), score_data(x, targs, pred_start=1, test_id=test_id)"
   ]
  },
  {
   "cell_type": "code",
   "execution_count": 116,
   "id": "ec7122ae",
   "metadata": {},
   "outputs": [
    {
     "name": "stdout",
     "output_type": "stream",
     "text": [
      "Zero-ordered target layer ID (including ladel bottom layer): tensor([5.])\n"
     ]
    },
    {
     "data": {
      "image/png": "[encoded data removed]",
      "text/plain": [
       "<Figure size 1024x576 with 9 Axes>"
      ]
     },
     "metadata": {},
     "output_type": "display_data"
    },
    {
     "name": "stdout",
     "output_type": "stream",
     "text": [
      "Zero-ordered target layer ID (including ladel bottom layer): tensor([5.])\n"
     ]
    },
    {
     "data": {
      "image/png": "[encoded data removed]",
      "text/plain": [
       "<Figure size 1024x576 with 9 Axes>"
      ]
     },
     "metadata": {},
     "output_type": "display_data"
    },
    {
     "name": "stdout",
     "output_type": "stream",
     "text": [
      "Zero-ordered target layer ID (including ladel bottom layer): tensor([5.])\n"
     ]
    },
    {
     "data": {
      "image/png": "[encoded data removed]",
      "text/plain": [
       "<Figure size 1024x576 with 9 Axes>"
      ]
     },
     "metadata": {},
     "output_type": "display_data"
    },
    {
     "name": "stdout",
     "output_type": "stream",
     "text": [
      "Zero-ordered target layer ID (including ladel bottom layer): tensor([5.])\n"
     ]
    },
    {
     "data": {
      "image/png": "[encoded data removed]",
      "text/plain": [
       "<Figure size 1024x576 with 9 Axes>"
      ]
     },
     "metadata": {},
     "output_type": "display_data"
    },
    {
     "name": "stdout",
     "output_type": "stream",
     "text": [
      "Zero-ordered target layer ID (including ladel bottom layer): tensor([5.])\n"
     ]
    },
    {
     "data": {
      "image/png": "[encoded data removed]",
      "text/plain": [
       "<Figure size 1024x576 with 9 Axes>"
      ]
     },
     "metadata": {},
     "output_type": "display_data"
    },
    {
     "name": "stdout",
     "output_type": "stream",
     "text": [
      "tensor(9.2339)\n",
      "tensor(9.2757)\n",
      "targ ID tensor([5.])\n",
      "probs tensor([0.0865, 0.1019, 0.1164, 0.1241, 0.1289, 0.1324, 0.1224, 0.0999, 0.0874])\n",
      "ints tensor([1, 2, 3, 4, 5, 6, 7, 8, 9])\n",
      "mses tensor([32.0070, 11.7747,  4.3317,  1.5935,  0.5862,  1.5935,  4.3317, 11.7747,\n",
      "        32.0070])\n",
      "int losses tensor([2.7698, 1.1995, 0.5044, 0.1977, 0.0756, 0.2110, 0.5302, 1.1761, 2.7989])\n",
      "tensor(9.3487)\n"
     ]
    },
    {
     "data": {
      "text/plain": [
       "(None, None, None)"
      ]
     },
     "execution_count": 116,
     "metadata": {},
     "output_type": "execute_result"
    }
   ],
   "source": [
    "# 3d avg 1d avg Laplacian max/min\n",
    "x = get_3d_avg(ladel_removed)\n",
    "plot_pred(x[test_id], targs[test_id])\n",
    "x = get_layer_avgs(x)\n",
    "plot_pred(x[test_id,:,None,None], targs[test_id])\n",
    "x = get_1d_avg(x)\n",
    "plot_pred(x[test_id,:,None,None], targs[test_id])\n",
    "x = -get_edge_det(x, [1,-4,1])\n",
    "plot_pred(x[test_id,:,None,None], targs[test_id])\n",
    "x = get_max_div_mean(x)\n",
    "plot_pred(x[test_id,:,None,None], targs[test_id])\n",
    "score_data(x, targs, pred_start=-1), score_data(x, targs, pred_start=0), score_data(x, targs, pred_start=1, test_id=test_id)"
   ]
  },
  {
   "cell_type": "code",
   "execution_count": 118,
   "id": "12e660cd",
   "metadata": {},
   "outputs": [
    {
     "name": "stdout",
     "output_type": "stream",
     "text": [
      "Zero-ordered target layer ID (including ladel bottom layer): tensor([5.])\n"
     ]
    },
    {
     "data": {
      "image/png": "[encoded data removed]",
      "text/plain": [
       "<Figure size 1024x576 with 9 Axes>"
      ]
     },
     "metadata": {},
     "output_type": "display_data"
    },
    {
     "name": "stdout",
     "output_type": "stream",
     "text": [
      "Zero-ordered target layer ID (including ladel bottom layer): tensor([5.])\n"
     ]
    },
    {
     "data": {
      "image/png": "[encoded data removed]",
      "text/plain": [
       "<Figure size 1024x576 with 9 Axes>"
      ]
     },
     "metadata": {},
     "output_type": "display_data"
    },
    {
     "name": "stdout",
     "output_type": "stream",
     "text": [
      "Zero-ordered target layer ID (including ladel bottom layer): tensor([5.])\n"
     ]
    },
    {
     "data": {
      "image/png": "[encoded data removed]",
      "text/plain": [
       "<Figure size 1024x576 with 9 Axes>"
      ]
     },
     "metadata": {},
     "output_type": "display_data"
    },
    {
     "name": "stdout",
     "output_type": "stream",
     "text": [
      "Zero-ordered target layer ID (including ladel bottom layer): tensor([5.])\n"
     ]
    },
    {
     "data": {
      "image/png": "[encoded data removed]",
      "text/plain": [
       "<Figure size 1024x576 with 9 Axes>"
      ]
     },
     "metadata": {},
     "output_type": "display_data"
    },
    {
     "name": "stdout",
     "output_type": "stream",
     "text": [
      "Zero-ordered target layer ID (including ladel bottom layer): tensor([5.])\n"
     ]
    },
    {
     "data": {
      "image/png": "[encoded data removed]",
      "text/plain": [
       "<Figure size 1024x576 with 9 Axes>"
      ]
     },
     "metadata": {},
     "output_type": "display_data"
    },
    {
     "name": "stdout",
     "output_type": "stream",
     "text": [
      "Zero-ordered target layer ID (including ladel bottom layer): tensor([5.])\n"
     ]
    },
    {
     "data": {
      "image/png": "[encoded data removed]",
      "text/plain": [
       "<Figure size 1024x576 with 9 Axes>"
      ]
     },
     "metadata": {},
     "output_type": "display_data"
    },
    {
     "name": "stdout",
     "output_type": "stream",
     "text": [
      "tensor(11.1212)\n",
      "tensor(11.1337)\n",
      "targ ID tensor([5.])\n",
      "probs tensor([0.1108, 0.1105, 0.1106, 0.1106, 0.1105, 0.1108, 0.1118, 0.1125, 0.1118])\n",
      "ints tensor([1, 2, 3, 4, 5, 6, 7, 8, 9])\n",
      "mses tensor([32.0070, 11.7747,  4.3317,  1.5935,  0.5862,  1.5935,  4.3317, 11.7747,\n",
      "        32.0070])\n",
      "int losses tensor([3.5471, 1.3013, 0.4790, 0.1763, 0.0648, 0.1766, 0.4845, 1.3244, 3.5786])\n",
      "tensor(11.1458)\n"
     ]
    },
    {
     "data": {
      "text/plain": [
       "(None, None, None)"
      ]
     },
     "execution_count": 118,
     "metadata": {},
     "output_type": "execute_result"
    }
   ],
   "source": [
    "# 3d avg 1d avg Laplacian max-min edge\n",
    "x = get_3d_avg(ladel_removed)\n",
    "plot_pred(x[test_id], targs[test_id])\n",
    "x = get_layer_avgs(x)\n",
    "plot_pred(x[test_id,:,None,None], targs[test_id])\n",
    "x = get_1d_avg(x)\n",
    "plot_pred(x[test_id,:,None,None], targs[test_id])\n",
    "x = get_edge_det(x, [1,-4,1])\n",
    "plot_pred(x[test_id,:,None,None], targs[test_id])\n",
    "x = get_max_sub_mean(x)\n",
    "plot_pred(x[test_id,:,None,None], targs[test_id])\n",
    "x = get_edge_det(x, [1,0,-1])\n",
    "plot_pred(x[test_id,:,None,None], targs[test_id])\n",
    "score_data(x, targs, pred_start=-1), score_data(x, targs, pred_start=0), score_data(x, targs, pred_start=1, test_id=test_id)"
   ]
  },
  {
   "cell_type": "code",
   "execution_count": 119,
   "id": "4d334c5d",
   "metadata": {},
   "outputs": [
    {
     "name": "stdout",
     "output_type": "stream",
     "text": [
      "Zero-ordered target layer ID (including ladel bottom layer): tensor([5.])\n"
     ]
    },
    {
     "data": {
      "image/png": "[encoded data removed]",
      "text/plain": [
       "<Figure size 1024x576 with 9 Axes>"
      ]
     },
     "metadata": {},
     "output_type": "display_data"
    },
    {
     "name": "stdout",
     "output_type": "stream",
     "text": [
      "Zero-ordered target layer ID (including ladel bottom layer): tensor([5.])\n"
     ]
    },
    {
     "data": {
      "image/png": "[encoded data removed]",
      "text/plain": [
       "<Figure size 1024x576 with 9 Axes>"
      ]
     },
     "metadata": {},
     "output_type": "display_data"
    },
    {
     "name": "stdout",
     "output_type": "stream",
     "text": [
      "Zero-ordered target layer ID (including ladel bottom layer): tensor([5.])\n"
     ]
    },
    {
     "data": {
      "image/png": "[encoded data removed]",
      "text/plain": [
       "<Figure size 1024x576 with 9 Axes>"
      ]
     },
     "metadata": {},
     "output_type": "display_data"
    },
    {
     "name": "stdout",
     "output_type": "stream",
     "text": [
      "Zero-ordered target layer ID (including ladel bottom layer): tensor([5.])\n"
     ]
    },
    {
     "data": {
      "image/png": "[encoded data removed]",
      "text/plain": [
       "<Figure size 1024x576 with 9 Axes>"
      ]
     },
     "metadata": {},
     "output_type": "display_data"
    },
    {
     "name": "stdout",
     "output_type": "stream",
     "text": [
      "Zero-ordered target layer ID (including ladel bottom layer): tensor([5.])\n"
     ]
    },
    {
     "data": {
      "image/png": "[encoded data removed]",
      "text/plain": [
       "<Figure size 1024x576 with 9 Axes>"
      ]
     },
     "metadata": {},
     "output_type": "display_data"
    },
    {
     "name": "stdout",
     "output_type": "stream",
     "text": [
      "Zero-ordered target layer ID (including ladel bottom layer): tensor([5.])\n"
     ]
    },
    {
     "data": {
      "image/png": "[encoded data removed]",
      "text/plain": [
       "<Figure size 1024x576 with 9 Axes>"
      ]
     },
     "metadata": {},
     "output_type": "display_data"
    },
    {
     "name": "stdout",
     "output_type": "stream",
     "text": [
      "tensor(11.1941)\n",
      "tensor(10.8797)\n",
      "targ ID tensor([5.])\n",
      "probs tensor([0.1251, 0.1359, 0.1234, 0.1158, 0.1134, 0.1070, 0.0934, 0.0873, 0.0988])\n",
      "ints tensor([1, 2, 3, 4, 5, 6, 7, 8, 9])\n",
      "mses tensor([32.0070, 11.7747,  4.3317,  1.5935,  0.5862,  1.5935,  4.3317, 11.7747,\n",
      "        32.0070])\n",
      "int losses tensor([4.0030, 1.5997, 0.5347, 0.1845, 0.0665, 0.1706, 0.4047, 1.0277, 3.1607])\n",
      "tensor(10.5697)\n"
     ]
    },
    {
     "data": {
      "text/plain": [
       "(None, None, None)"
      ]
     },
     "execution_count": 119,
     "metadata": {},
     "output_type": "execute_result"
    }
   ],
   "source": [
    "# 3d avg 1d avg Laplacian max/min edge\n",
    "x = get_3d_avg(ladel_removed)\n",
    "plot_pred(x[test_id], targs[test_id])\n",
    "x = get_layer_avgs(x)\n",
    "plot_pred(x[test_id,:,None,None], targs[test_id])\n",
    "x = get_1d_avg(x)\n",
    "plot_pred(x[test_id,:,None,None], targs[test_id])\n",
    "x = get_edge_det(x, [1,-4,1])\n",
    "plot_pred(x[test_id,:,None,None], targs[test_id])\n",
    "x = get_max_div_mean(x)\n",
    "plot_pred(x[test_id,:,None,None], targs[test_id])\n",
    "x = get_edge_det(x, [1,0,-1])\n",
    "plot_pred(x[test_id,:,None,None], targs[test_id])\n",
    "score_data(x, targs, pred_start=-1), score_data(x, targs, pred_start=0), score_data(x, targs, pred_start=1, test_id=test_id)"
   ]
  },
  {
   "cell_type": "code",
   "execution_count": 120,
   "id": "cafd6ad9",
   "metadata": {},
   "outputs": [
    {
     "name": "stdout",
     "output_type": "stream",
     "text": [
      "Zero-ordered target layer ID (including ladel bottom layer): tensor([5.])\n"
     ]
    },
    {
     "data": {
      "image/png": "[encoded data removed]",
      "text/plain": [
       "<Figure size 1024x576 with 9 Axes>"
      ]
     },
     "metadata": {},
     "output_type": "display_data"
    },
    {
     "name": "stdout",
     "output_type": "stream",
     "text": [
      "Zero-ordered target layer ID (including ladel bottom layer): tensor([5.])\n"
     ]
    },
    {
     "data": {
      "image/png": "[encoded data removed]",
      "text/plain": [
       "<Figure size 1024x576 with 9 Axes>"
      ]
     },
     "metadata": {},
     "output_type": "display_data"
    },
    {
     "name": "stdout",
     "output_type": "stream",
     "text": [
      "Zero-ordered target layer ID (including ladel bottom layer): tensor([5.])\n"
     ]
    },
    {
     "data": {
      "image/png": "[encoded data removed]",
      "text/plain": [
       "<Figure size 1024x576 with 9 Axes>"
      ]
     },
     "metadata": {},
     "output_type": "display_data"
    },
    {
     "name": "stdout",
     "output_type": "stream",
     "text": [
      "tensor(6.9073)\n",
      "tensor(7.0766)\n",
      "targ ID tensor([5.])\n",
      "probs tensor([0.0481, 0.0431, 0.1775, 0.1844, 0.0319, 0.1516, 0.2812, 0.0396, 0.0425])\n",
      "ints tensor([1, 2, 3, 4, 5, 6, 7, 8, 9])\n",
      "mses tensor([32.0070, 11.7747,  4.3317,  1.5935,  0.5862,  1.5935,  4.3317, 11.7747,\n",
      "        32.0070])\n",
      "int losses tensor([1.5397, 0.5070, 0.7690, 0.2939, 0.0187, 0.2416, 1.2179, 0.4664, 1.3602])\n",
      "tensor(7.2806)\n"
     ]
    },
    {
     "data": {
      "text/plain": [
       "(None, None, None)"
      ]
     },
     "execution_count": 120,
     "metadata": {},
     "output_type": "execute_result"
    }
   ],
   "source": [
    "# max/min Laplacian edge\n",
    "x = get_layer_avgs(ladel_removed)\n",
    "plot_pred(x[test_id,:,None,None], targs[test_id])\n",
    "x = get_max_div_mean(x)\n",
    "plot_pred(x[test_id,:,None,None], targs[test_id])\n",
    "x = -get_edge_det(x, [1,-4,1])\n",
    "plot_pred(x[test_id,:,None,None], targs[test_id])\n",
    "score_data(x, targs, pred_start=-1), score_data(x, targs, pred_start=0), score_data(x, targs, pred_start=1, test_id=test_id)"
   ]
  },
  {
   "cell_type": "code",
   "execution_count": 121,
   "id": "1b1ce464",
   "metadata": {},
   "outputs": [
    {
     "name": "stdout",
     "output_type": "stream",
     "text": [
      "Zero-ordered target layer ID (including ladel bottom layer): tensor([5.])\n"
     ]
    },
    {
     "data": {
      "image/png": "[encoded data removed]",
      "text/plain": [
       "<Figure size 1024x576 with 9 Axes>"
      ]
     },
     "metadata": {},
     "output_type": "display_data"
    },
    {
     "name": "stdout",
     "output_type": "stream",
     "text": [
      "Zero-ordered target layer ID (including ladel bottom layer): tensor([5.])\n"
     ]
    },
    {
     "data": {
      "image/png": "[encoded data removed]",
      "text/plain": [
       "<Figure size 1024x576 with 9 Axes>"
      ]
     },
     "metadata": {},
     "output_type": "display_data"
    },
    {
     "name": "stdout",
     "output_type": "stream",
     "text": [
      "Zero-ordered target layer ID (including ladel bottom layer): tensor([5.])\n"
     ]
    },
    {
     "data": {
      "image/png": "[encoded data removed]",
      "text/plain": [
       "<Figure size 1024x576 with 9 Axes>"
      ]
     },
     "metadata": {},
     "output_type": "display_data"
    },
    {
     "name": "stdout",
     "output_type": "stream",
     "text": [
      "Zero-ordered target layer ID (including ladel bottom layer): tensor([5.])\n"
     ]
    },
    {
     "data": {
      "image/png": "[encoded data removed]",
      "text/plain": [
       "<Figure size 1024x576 with 9 Axes>"
      ]
     },
     "metadata": {},
     "output_type": "display_data"
    },
    {
     "name": "stdout",
     "output_type": "stream",
     "text": [
      "tensor(7.0307)\n",
      "tensor(7.1160)\n",
      "targ ID tensor([5.])\n",
      "probs tensor([0.0550, 0.0791, 0.1505, 0.1285, 0.1308, 0.1674, 0.1445, 0.0909, 0.0534])\n",
      "ints tensor([1, 2, 3, 4, 5, 6, 7, 8, 9])\n",
      "mses tensor([32.0070, 11.7747,  4.3317,  1.5935,  0.5862,  1.5935,  4.3317, 11.7747,\n",
      "        32.0070])\n",
      "int losses tensor([1.7608, 0.9313, 0.6517, 0.2047, 0.0767, 0.2668, 0.6258, 1.0706, 1.7085])\n",
      "tensor(7.2538)\n"
     ]
    },
    {
     "data": {
      "text/plain": [
       "(None, None, None)"
      ]
     },
     "execution_count": 121,
     "metadata": {},
     "output_type": "execute_result"
    }
   ],
   "source": [
    "# 1d avg max/min Laplacian edge\n",
    "x = get_layer_avgs(ladel_removed)\n",
    "plot_pred(x[test_id,:,None,None], targs[test_id])\n",
    "x = get_1d_avg(x)\n",
    "plot_pred(x[test_id,:,None,None], targs[test_id])\n",
    "x = get_max_div_mean(x)\n",
    "plot_pred(x[test_id,:,None,None], targs[test_id])\n",
    "x = -get_edge_det(x, [1,-4,1])\n",
    "plot_pred(x[test_id,:,None,None], targs[test_id])\n",
    "score_data(x, targs, pred_start=-1), score_data(x, targs, pred_start=0), score_data(x, targs, pred_start=1, test_id=test_id)"
   ]
  },
  {
   "cell_type": "code",
   "execution_count": 122,
   "id": "9a217aae",
   "metadata": {},
   "outputs": [
    {
     "name": "stdout",
     "output_type": "stream",
     "text": [
      "Zero-ordered target layer ID (including ladel bottom layer): tensor([5.])\n"
     ]
    },
    {
     "data": {
      "image/png": "[encoded data removed]",
      "text/plain": [
       "<Figure size 1024x576 with 9 Axes>"
      ]
     },
     "metadata": {},
     "output_type": "display_data"
    },
    {
     "name": "stdout",
     "output_type": "stream",
     "text": [
      "Zero-ordered target layer ID (including ladel bottom layer): tensor([5.])\n"
     ]
    },
    {
     "data": {
      "image/png": "[encoded data removed]",
      "text/plain": [
       "<Figure size 1024x576 with 9 Axes>"
      ]
     },
     "metadata": {},
     "output_type": "display_data"
    },
    {
     "name": "stdout",
     "output_type": "stream",
     "text": [
      "Zero-ordered target layer ID (including ladel bottom layer): tensor([5.])\n"
     ]
    },
    {
     "data": {
      "image/png": "[encoded data removed]",
      "text/plain": [
       "<Figure size 1024x576 with 9 Axes>"
      ]
     },
     "metadata": {},
     "output_type": "display_data"
    },
    {
     "name": "stdout",
     "output_type": "stream",
     "text": [
      "Zero-ordered target layer ID (including ladel bottom layer): tensor([5.])\n"
     ]
    },
    {
     "data": {
      "image/png": "[encoded data removed]",
      "text/plain": [
       "<Figure size 1024x576 with 9 Axes>"
      ]
     },
     "metadata": {},
     "output_type": "display_data"
    },
    {
     "name": "stdout",
     "output_type": "stream",
     "text": [
      "Zero-ordered target layer ID (including ladel bottom layer): tensor([5.])\n"
     ]
    },
    {
     "data": {
      "image/png": "[encoded data removed]",
      "text/plain": [
       "<Figure size 1024x576 with 9 Axes>"
      ]
     },
     "metadata": {},
     "output_type": "display_data"
    },
    {
     "name": "stdout",
     "output_type": "stream",
     "text": [
      "tensor(6.9407)\n",
      "tensor(7.0164)\n",
      "targ ID tensor([5.])\n",
      "probs tensor([0.0557, 0.0848, 0.1505, 0.1221, 0.1326, 0.1730, 0.1411, 0.0870, 0.0534])\n",
      "ints tensor([1, 2, 3, 4, 5, 6, 7, 8, 9])\n",
      "mses tensor([32.0070, 11.7747,  4.3317,  1.5935,  0.5862,  1.5935,  4.3317, 11.7747,\n",
      "        32.0070])\n",
      "int losses tensor([1.7817, 0.9983, 0.6521, 0.1945, 0.0777, 0.2756, 0.6112, 1.0239, 1.7079])\n",
      "tensor(7.1442)\n"
     ]
    },
    {
     "data": {
      "text/plain": [
       "(None, None, None)"
      ]
     },
     "execution_count": 122,
     "metadata": {},
     "output_type": "execute_result"
    }
   ],
   "source": [
    "# 3d avg max/min Laplacian edge\n",
    "x = get_3d_avg(ladel_removed)\n",
    "plot_pred(x[test_id], targs[test_id])\n",
    "x = get_layer_avgs(x)\n",
    "plot_pred(x[test_id,:,None,None], targs[test_id])\n",
    "x = get_max_div_mean(x)\n",
    "plot_pred(x[test_id,:,None,None], targs[test_id])\n",
    "x = -get_edge_det(x, [1,-4,1])\n",
    "plot_pred(x[test_id,:,None,None], targs[test_id])\n",
    "score_data(x, targs, pred_start=-1), score_data(x, targs, pred_start=0), score_data(x, targs, pred_start=1, test_id=test_id)"
   ]
  },
  {
   "cell_type": "code",
   "execution_count": 123,
   "id": "4e3650a6",
   "metadata": {},
   "outputs": [
    {
     "name": "stdout",
     "output_type": "stream",
     "text": [
      "Zero-ordered target layer ID (including ladel bottom layer): tensor([5.])\n"
     ]
    },
    {
     "data": {
      "image/png": "[encoded data removed]",
      "text/plain": [
       "<Figure size 1024x576 with 9 Axes>"
      ]
     },
     "metadata": {},
     "output_type": "display_data"
    },
    {
     "name": "stdout",
     "output_type": "stream",
     "text": [
      "Zero-ordered target layer ID (including ladel bottom layer): tensor([5.])\n"
     ]
    },
    {
     "data": {
      "image/png": "[encoded data removed]",
      "text/plain": [
       "<Figure size 1024x576 with 9 Axes>"
      ]
     },
     "metadata": {},
     "output_type": "display_data"
    },
    {
     "name": "stdout",
     "output_type": "stream",
     "text": [
      "Zero-ordered target layer ID (including ladel bottom layer): tensor([5.])\n"
     ]
    },
    {
     "data": {
      "image/png": "[encoded data removed]",
      "text/plain": [
       "<Figure size 1024x576 with 9 Axes>"
      ]
     },
     "metadata": {},
     "output_type": "display_data"
    },
    {
     "name": "stdout",
     "output_type": "stream",
     "text": [
      "Zero-ordered target layer ID (including ladel bottom layer): tensor([5.])\n"
     ]
    },
    {
     "data": {
      "image/png": "[encoded data removed]",
      "text/plain": [
       "<Figure size 1024x576 with 9 Axes>"
      ]
     },
     "metadata": {},
     "output_type": "display_data"
    },
    {
     "name": "stdout",
     "output_type": "stream",
     "text": [
      "Zero-ordered target layer ID (including ladel bottom layer): tensor([5.])\n"
     ]
    },
    {
     "data": {
      "image/png": "[encoded data removed]",
      "text/plain": [
       "<Figure size 1024x576 with 9 Axes>"
      ]
     },
     "metadata": {},
     "output_type": "display_data"
    },
    {
     "name": "stdout",
     "output_type": "stream",
     "text": [
      "tensor(7.2889)\n",
      "tensor(7.3348)\n",
      "targ ID tensor([5.])\n",
      "probs tensor([0.0601, 0.0941, 0.1239, 0.1405, 0.1501, 0.1550, 0.1291, 0.0864, 0.0608])\n",
      "ints tensor([1, 2, 3, 4, 5, 6, 7, 8, 9])\n",
      "mses tensor([32.0070, 11.7747,  4.3317,  1.5935,  0.5862,  1.5935,  4.3317, 11.7747,\n",
      "        32.0070])\n",
      "int losses tensor([1.9243, 1.1078, 0.5367, 0.2239, 0.0880, 0.2469, 0.5591, 1.0172, 1.9469])\n",
      "tensor(7.4275)\n"
     ]
    },
    {
     "data": {
      "text/plain": [
       "(None, None, None)"
      ]
     },
     "execution_count": 123,
     "metadata": {},
     "output_type": "execute_result"
    }
   ],
   "source": [
    "# 3d avg 1d avg max/min Laplacian edge\n",
    "x = get_3d_avg(ladel_removed)\n",
    "plot_pred(x[test_id], targs[test_id])\n",
    "x = get_layer_avgs(x)\n",
    "plot_pred(x[test_id,:,None,None], targs[test_id])\n",
    "x = get_1d_avg(x)\n",
    "plot_pred(x[test_id,:,None,None], targs[test_id])\n",
    "x = get_max_div_mean(x)\n",
    "plot_pred(x[test_id,:,None,None], targs[test_id])\n",
    "x = -get_edge_det(x, [1,-4,1])\n",
    "plot_pred(x[test_id,:,None,None], targs[test_id])\n",
    "score_data(x, targs, pred_start=-1), score_data(x, targs, pred_start=0), score_data(x, targs, pred_start=1, test_id=test_id)"
   ]
  },
  {
   "cell_type": "code",
   "execution_count": 124,
   "id": "282d5269",
   "metadata": {},
   "outputs": [
    {
     "name": "stdout",
     "output_type": "stream",
     "text": [
      "Zero-ordered target layer ID (including ladel bottom layer): tensor([5.])\n"
     ]
    },
    {
     "data": {
      "image/png": "[encoded data removed]",
      "text/plain": [
       "<Figure size 1024x576 with 9 Axes>"
      ]
     },
     "metadata": {},
     "output_type": "display_data"
    },
    {
     "name": "stdout",
     "output_type": "stream",
     "text": [
      "Zero-ordered target layer ID (including ladel bottom layer): tensor([5.])\n"
     ]
    },
    {
     "data": {
      "image/png": "[encoded data removed]",
      "text/plain": [
       "<Figure size 1024x576 with 9 Axes>"
      ]
     },
     "metadata": {},
     "output_type": "display_data"
    },
    {
     "name": "stdout",
     "output_type": "stream",
     "text": [
      "Zero-ordered target layer ID (including ladel bottom layer): tensor([5.])\n"
     ]
    },
    {
     "data": {
      "image/png": "[encoded data removed]",
      "text/plain": [
       "<Figure size 1024x576 with 9 Axes>"
      ]
     },
     "metadata": {},
     "output_type": "display_data"
    },
    {
     "name": "stdout",
     "output_type": "stream",
     "text": [
      "Zero-ordered target layer ID (including ladel bottom layer): tensor([5.])\n"
     ]
    },
    {
     "data": {
      "image/png": "[encoded data removed]",
      "text/plain": [
       "<Figure size 1024x576 with 9 Axes>"
      ]
     },
     "metadata": {},
     "output_type": "display_data"
    },
    {
     "name": "stdout",
     "output_type": "stream",
     "text": [
      "Zero-ordered target layer ID (including ladel bottom layer): tensor([5.])\n"
     ]
    },
    {
     "data": {
      "image/png": "[encoded data removed]",
      "text/plain": [
       "<Figure size 1024x576 with 9 Axes>"
      ]
     },
     "metadata": {},
     "output_type": "display_data"
    },
    {
     "name": "stdout",
     "output_type": "stream",
     "text": [
      "tensor(11.0610)\n",
      "tensor(11.0641)\n",
      "targ ID tensor([5.])\n",
      "probs tensor([0.1102, 0.1107, 0.1110, 0.1113, 0.1115, 0.1119, 0.1119, 0.1112, 0.1103])\n",
      "ints tensor([1, 2, 3, 4, 5, 6, 7, 8, 9])\n",
      "mses tensor([32.0070, 11.7747,  4.3317,  1.5935,  0.5862,  1.5935,  4.3317, 11.7747,\n",
      "        32.0070])\n",
      "int losses tensor([3.5284, 1.3033, 0.4808, 0.1773, 0.0654, 0.1783, 0.4846, 1.3096, 3.5295])\n",
      "tensor(11.0679)\n"
     ]
    },
    {
     "data": {
      "text/plain": [
       "(None, None, None)"
      ]
     },
     "execution_count": 124,
     "metadata": {},
     "output_type": "execute_result"
    }
   ],
   "source": [
    "# 3d avg 1d avg max-min Laplacian edge\n",
    "x = get_3d_avg(ladel_removed)\n",
    "plot_pred(x[test_id], targs[test_id])\n",
    "x = get_layer_avgs(x)\n",
    "plot_pred(x[test_id,:,None,None], targs[test_id])\n",
    "x = get_1d_avg(x)\n",
    "plot_pred(x[test_id,:,None,None], targs[test_id])\n",
    "x = get_max_sub_mean(x)\n",
    "plot_pred(x[test_id,:,None,None], targs[test_id])\n",
    "x = -get_edge_det(x, [1,-4,1])\n",
    "plot_pred(x[test_id,:,None,None], targs[test_id])\n",
    "score_data(x, targs, pred_start=-1), score_data(x, targs, pred_start=0), score_data(x, targs, pred_start=1, test_id=test_id)"
   ]
  },
  {
   "cell_type": "code",
   "execution_count": null,
   "id": "687436f7",
   "metadata": {},
   "outputs": [],
   "source": []
  }
 ],
 "metadata": {
  "kernelspec": {
   "display_name": "Python [conda env:tomopt]",
   "language": "python",
   "name": "conda-env-tomopt-py"
  },
  "language_info": {
   "codemirror_mode": {
    "name": "ipython",
    "version": 3
   },
   "file_extension": ".py",
   "mimetype": "text/x-python",
   "name": "python",
   "nbconvert_exporter": "python",
   "pygments_lexer": "ipython3",
   "version": "3.8.0"
  },
  "toc": {
   "base_numbering": 1,
   "nav_menu": {},
   "number_sections": true,
   "sideBar": true,
   "skip_h1_title": false,
   "title_cell": "Table of Contents",
   "title_sidebar": "Contents",
   "toc_cell": false,
   "toc_position": {},
   "toc_section_display": true,
   "toc_window_display": false
  }
 },
 "nbformat": 4,
 "nbformat_minor": 5
}
