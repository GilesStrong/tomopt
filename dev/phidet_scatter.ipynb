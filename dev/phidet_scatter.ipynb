{
 "cells": [
  {
   "cell_type": "code",
   "execution_count": 1,
   "id": "d27fb347",
   "metadata": {},
   "outputs": [],
   "source": [
    "%matplotlib inline\n",
    "%reload_ext autoreload\n",
    "%autoreload 2"
   ]
  },
  {
   "cell_type": "code",
   "execution_count": 2,
   "id": "59aaf2e5",
   "metadata": {},
   "outputs": [],
   "source": [
    "from typing import *\n",
    "import numpy as np\n",
    "from functools import partial\n",
    "from fastprogress import progress_bar\n",
    "\n",
    "import torch\n",
    "from torch import Tensor, nn\n",
    "import torch.nn.functional as F\n",
    "\n",
    "from tomopt.volume import *\n",
    "from tomopt.muon import *\n",
    "from tomopt.inference import *\n",
    "from tomopt.optimisation import *\n",
    "from tomopt.core import *\n",
    "from tomopt.utils import *\n",
    "from tomopt.plotting import *\n",
    "from tomopt.benchmarks.phi_detector import *\n",
    "\n",
    "import seaborn as sns"
   ]
  },
  {
   "cell_type": "code",
   "execution_count": 3,
   "id": "f34c0e0c",
   "metadata": {},
   "outputs": [],
   "source": [
    "DEVICE = torch.device(\"cpu\")"
   ]
  },
  {
   "cell_type": "code",
   "execution_count": 4,
   "id": "0aa9fb7a",
   "metadata": {},
   "outputs": [],
   "source": [
    "def get_layers():\n",
    "    layers = []\n",
    "    lwh = Tensor([1,1,1])\n",
    "    size = 0.1\n",
    "    init_eff = 0.8\n",
    "    init_res = 1000\n",
    "    n_panels = 4\n",
    "    layers.append(PanelDetectorLayer(pos='above', lw=lwh[:2], z=1, size=2*size,\n",
    "                                     panels=[PhiDetectorPanel(init_phi=torch.rand(1)*2*torch.pi, res=init_res, eff=init_eff,\n",
    "                                                              init_z=1-(i*(2*size)/n_panels), device=DEVICE) for i in range(n_panels)]))\n",
    "    for z in [0.8,0.7,0.6,0.5,0.4,0.3]:\n",
    "        layers.append(PassiveLayer(lw=lwh[:2], z=z, size=size, device=DEVICE))\n",
    "    layers.append(PanelDetectorLayer(pos='below', lw=lwh[:2], z=0.2, size=2*size,\n",
    "                                     panels=[PhiDetectorPanel(init_phi=torch.rand(1)*2*torch.pi, res=init_res, eff=init_eff,\n",
    "                                                      init_z=0.2-(i*(2*size)/n_panels), device=DEVICE) for i in range(n_panels)]))\n",
    "\n",
    "    return nn.ModuleList(layers) "
   ]
  },
  {
   "cell_type": "code",
   "execution_count": 5,
   "id": "074037b0",
   "metadata": {},
   "outputs": [],
   "source": [
    "volume = Volume(get_layers())"
   ]
  },
  {
   "cell_type": "code",
   "execution_count": 6,
   "id": "c464de17",
   "metadata": {},
   "outputs": [],
   "source": [
    "gen = MuonGenerator2016.from_volume(volume, fixed_mom=None)"
   ]
  },
  {
   "cell_type": "code",
   "execution_count": 7,
   "id": "79aae125",
   "metadata": {},
   "outputs": [],
   "source": [
    "mu = MuonBatch(MuonResampler().resample(gen(10), volume, gen), init_z=1)"
   ]
  },
  {
   "cell_type": "code",
   "execution_count": 8,
   "id": "b7beba95",
   "metadata": {},
   "outputs": [],
   "source": [
    "h = volume.get_detectors()[0].panels[0].get_hits(mu)"
   ]
  },
  {
   "cell_type": "code",
   "execution_count": 9,
   "id": "3efd498b",
   "metadata": {},
   "outputs": [
    {
     "data": {
      "text/plain": [
       "tensor([[0.1062],\n",
       "        [0.2986],\n",
       "        [0.1105],\n",
       "        [0.1208],\n",
       "        [0.1120],\n",
       "        [0.6829],\n",
       "        [0.2825],\n",
       "        [0.0880],\n",
       "        [0.6280],\n",
       "        [0.5636]])"
      ]
     },
     "execution_count": 9,
     "metadata": {},
     "output_type": "execute_result"
    }
   ],
   "source": [
    "jacobian(h['reco_h'], volume.get_detectors()[0].panels[0].phi)"
   ]
  },
  {
   "cell_type": "code",
   "execution_count": 10,
   "id": "5af2ef01",
   "metadata": {},
   "outputs": [
    {
     "data": {
      "text/plain": [
       "defaultdict(<function tomopt.muon.muon_batch.MuonBatch.__init__.<locals>.<lambda>()>,\n",
       "            {})"
      ]
     },
     "execution_count": 10,
     "metadata": {},
     "output_type": "execute_result"
    }
   ],
   "source": [
    "mu._hits"
   ]
  },
  {
   "cell_type": "code",
   "execution_count": 11,
   "id": "777f72ab",
   "metadata": {},
   "outputs": [],
   "source": [
    "mu.append_hits(volume.get_detectors()[0].panels[0].get_hits(mu), 'above')"
   ]
  },
  {
   "cell_type": "code",
   "execution_count": 12,
   "id": "ae6c2225",
   "metadata": {},
   "outputs": [
    {
     "data": {
      "text/plain": [
       "[tensor([[1.1593],\n",
       "         [1.0333],\n",
       "         [0.9000],\n",
       "         [0.5426],\n",
       "         [0.6701],\n",
       "         [0.3646],\n",
       "         [1.1741],\n",
       "         [0.7729],\n",
       "         [0.0984],\n",
       "         [0.0287]], grad_fn=<AddBackward0>)]"
      ]
     },
     "execution_count": 12,
     "metadata": {},
     "output_type": "execute_result"
    }
   ],
   "source": [
    "h = mu._hits['above']['reco_h'];h"
   ]
  },
  {
   "cell_type": "code",
   "execution_count": 13,
   "id": "1eb5d8fd",
   "metadata": {},
   "outputs": [
    {
     "data": {
      "text/plain": [
       "tensor([[1.1593],\n",
       "        [1.0333],\n",
       "        [0.9000],\n",
       "        [0.5426],\n",
       "        [0.6701],\n",
       "        [0.3646],\n",
       "        [1.1741],\n",
       "        [0.7729],\n",
       "        [0.0984],\n",
       "        [0.0287]], grad_fn=<AddBackward0>)"
      ]
     },
     "execution_count": 13,
     "metadata": {},
     "output_type": "execute_result"
    }
   ],
   "source": [
    "h[0]"
   ]
  },
  {
   "cell_type": "code",
   "execution_count": 14,
   "id": "2abe8dc8",
   "metadata": {},
   "outputs": [
    {
     "data": {
      "text/plain": [
       "tensor([[0.1062],\n",
       "        [0.2986],\n",
       "        [0.1105],\n",
       "        [0.1208],\n",
       "        [0.1120],\n",
       "        [0.6829],\n",
       "        [0.2825],\n",
       "        [0.0880],\n",
       "        [0.6280],\n",
       "        [0.5636]])"
      ]
     },
     "execution_count": 14,
     "metadata": {},
     "output_type": "execute_result"
    }
   ],
   "source": [
    "jacobian(h[0], volume.get_detectors()[0].panels[0].phi)"
   ]
  },
  {
   "cell_type": "code",
   "execution_count": 15,
   "id": "9a520182",
   "metadata": {},
   "outputs": [],
   "source": [
    "volume.get_detectors()[0].scatter_and_propagate(mu, 0.1)"
   ]
  },
  {
   "cell_type": "code",
   "execution_count": 16,
   "id": "b08d7e3e",
   "metadata": {},
   "outputs": [
    {
     "data": {
      "text/plain": [
       "tensor([[0.1062],\n",
       "        [0.2986],\n",
       "        [0.1105],\n",
       "        [0.1208],\n",
       "        [0.1120],\n",
       "        [0.6829],\n",
       "        [0.2825],\n",
       "        [0.0880],\n",
       "        [0.6280],\n",
       "        [0.5636]])"
      ]
     },
     "execution_count": 16,
     "metadata": {},
     "output_type": "execute_result"
    }
   ],
   "source": [
    "jacobian(h[0], volume.get_detectors()[0].panels[0].phi)"
   ]
  },
  {
   "cell_type": "code",
   "execution_count": 17,
   "id": "075b78e5",
   "metadata": {},
   "outputs": [],
   "source": [
    "mu.append_hits(volume.get_detectors()[0].panels[1].get_hits(mu), 'above')"
   ]
  },
  {
   "cell_type": "code",
   "execution_count": 18,
   "id": "32f9d44e",
   "metadata": {},
   "outputs": [
    {
     "data": {
      "text/plain": [
       "[tensor([[1.1593],\n",
       "         [1.0333],\n",
       "         [0.9000],\n",
       "         [0.5426],\n",
       "         [0.6701],\n",
       "         [0.3646],\n",
       "         [1.1741],\n",
       "         [0.7729],\n",
       "         [0.0984],\n",
       "         [0.0287]], grad_fn=<AddBackward0>),\n",
       " tensor([[-1.0067],\n",
       "         [-0.8652],\n",
       "         [-0.8532],\n",
       "         [-0.5160],\n",
       "         [-0.6190],\n",
       "         [-0.1099],\n",
       "         [-0.9790],\n",
       "         [-0.6459],\n",
       "         [ 0.1015],\n",
       "         [ 0.1457]], grad_fn=<AddBackward0>)]"
      ]
     },
     "execution_count": 18,
     "metadata": {},
     "output_type": "execute_result"
    }
   ],
   "source": [
    "h = mu._hits['above']['reco_h'];h"
   ]
  },
  {
   "cell_type": "code",
   "execution_count": 19,
   "id": "1ddcf6ca",
   "metadata": {
    "scrolled": false
   },
   "outputs": [
    {
     "data": {
      "text/plain": [
       "tensor([[0.1062],\n",
       "        [0.2986],\n",
       "        [0.1105],\n",
       "        [0.1208],\n",
       "        [0.1120],\n",
       "        [0.6829],\n",
       "        [0.2825],\n",
       "        [0.0880],\n",
       "        [0.6280],\n",
       "        [0.5636]])"
      ]
     },
     "execution_count": 19,
     "metadata": {},
     "output_type": "execute_result"
    }
   ],
   "source": [
    "jacobian(h[0], volume.get_detectors()[0].panels[0].phi)"
   ]
  },
  {
   "cell_type": "code",
   "execution_count": 20,
   "id": "4ec01779",
   "metadata": {},
   "outputs": [],
   "source": [
    "mu = MuonBatch(MuonResampler().resample(gen(10), volume, gen), init_z=1)"
   ]
  },
  {
   "cell_type": "code",
   "execution_count": 21,
   "id": "2eda4f5b",
   "metadata": {},
   "outputs": [
    {
     "data": {
      "text/plain": [
       "defaultdict(<function tomopt.muon.muon_batch.MuonBatch.__init__.<locals>.<lambda>()>,\n",
       "            {})"
      ]
     },
     "execution_count": 21,
     "metadata": {},
     "output_type": "execute_result"
    }
   ],
   "source": [
    "mu._hits"
   ]
  },
  {
   "cell_type": "code",
   "execution_count": 22,
   "id": "4584eb97",
   "metadata": {},
   "outputs": [],
   "source": [
    "volume.get_detectors()[0](mu)"
   ]
  },
  {
   "cell_type": "code",
   "execution_count": 23,
   "id": "a97603eb",
   "metadata": {},
   "outputs": [
    {
     "data": {
      "text/plain": [
       "defaultdict(<function tomopt.muon.muon_batch.MuonBatch.__init__.<locals>.<lambda>()>,\n",
       "            {'above': defaultdict(list,\n",
       "                         {'reco_h': [tensor([[1.2666],\n",
       "                                   [0.4443],\n",
       "                                   [0.2907],\n",
       "                                   [0.5058],\n",
       "                                   [0.1764],\n",
       "                                   [0.9526],\n",
       "                                   [1.0527],\n",
       "                                   [0.3008],\n",
       "                                   [0.3189],\n",
       "                                   [0.1353]], grad_fn=<AddBackward0>),\n",
       "                           tensor([[-1.0128],\n",
       "                                   [-0.3406],\n",
       "                                   [-0.2410],\n",
       "                                   [-0.3913],\n",
       "                                   [-0.2448],\n",
       "                                   [-0.8258],\n",
       "                                   [-0.8183],\n",
       "                                   [-0.1490],\n",
       "                                   [-0.1546],\n",
       "                                   [ 0.0927]], grad_fn=<AddBackward0>),\n",
       "                           tensor([[ 1.0547],\n",
       "                                   [ 0.4507],\n",
       "                                   [ 0.2536],\n",
       "                                   [ 0.4446],\n",
       "                                   [-0.0328],\n",
       "                                   [ 0.7480],\n",
       "                                   [ 1.0492],\n",
       "                                   [ 0.4251],\n",
       "                                   [ 0.3907],\n",
       "                                   [ 0.6369]], grad_fn=<AddBackward0>),\n",
       "                           tensor([[ 0.9970],\n",
       "                                   [ 0.3577],\n",
       "                                   [ 0.2547],\n",
       "                                   [ 0.3875],\n",
       "                                   [ 0.2491],\n",
       "                                   [ 0.8687],\n",
       "                                   [ 0.8245],\n",
       "                                   [ 0.1329],\n",
       "                                   [ 0.1117],\n",
       "                                   [-0.0894]], grad_fn=<AddBackward0>)],\n",
       "                          'gen_h': [tensor([[1.2670],\n",
       "                                   [0.4454],\n",
       "                                   [0.2913],\n",
       "                                   [0.5064],\n",
       "                                   [0.1766],\n",
       "                                   [0.9522],\n",
       "                                   [1.0546],\n",
       "                                   [0.3008],\n",
       "                                   [0.3191],\n",
       "                                   [0.1356]], grad_fn=<AddBackward0>),\n",
       "                           tensor([[-1.0137],\n",
       "                                   [-0.3408],\n",
       "                                   [-0.2421],\n",
       "                                   [-0.3917],\n",
       "                                   [-0.2442],\n",
       "                                   [-0.8248],\n",
       "                                   [-0.8183],\n",
       "                                   [-0.1491],\n",
       "                                   [-0.1560],\n",
       "                                   [ 0.0915]], grad_fn=<AddBackward0>),\n",
       "                           tensor([[ 1.0536],\n",
       "                                   [ 0.4508],\n",
       "                                   [ 0.2526],\n",
       "                                   [ 0.4451],\n",
       "                                   [-0.0336],\n",
       "                                   [ 0.7463],\n",
       "                                   [ 1.0476],\n",
       "                                   [ 0.4252],\n",
       "                                   [ 0.3894],\n",
       "                                   [ 0.6370]], grad_fn=<AddBackward0>),\n",
       "                           tensor([[ 0.9968],\n",
       "                                   [ 0.3594],\n",
       "                                   [ 0.2547],\n",
       "                                   [ 0.3872],\n",
       "                                   [ 0.2512],\n",
       "                                   [ 0.8678],\n",
       "                                   [ 0.8252],\n",
       "                                   [ 0.1339],\n",
       "                                   [ 0.1114],\n",
       "                                   [-0.0905]], grad_fn=<AddBackward0>)],\n",
       "                          'gen_xy': [tensor([[ 1.1911,  0.6386],\n",
       "                                   [ 0.4080,  0.3024],\n",
       "                                   [ 0.2742,  0.1440],\n",
       "                                   [ 0.4703,  0.2969],\n",
       "                                   [ 0.2046, -0.1912],\n",
       "                                   [ 0.9090,  0.3795],\n",
       "                                   [ 0.9780,  0.6292],\n",
       "                                   [ 0.2492,  0.3962],\n",
       "                                   [ 0.2689,  0.3873],\n",
       "                                   [ 0.0495,  0.6355]]),\n",
       "                           tensor([[ 1.1725,  0.6371],\n",
       "                                   [ 0.4134,  0.3040],\n",
       "                                   [ 0.2789,  0.1466],\n",
       "                                   [ 0.4624,  0.2902],\n",
       "                                   [ 0.2146, -0.1646],\n",
       "                                   [ 0.9259,  0.3866],\n",
       "                                   [ 0.9793,  0.6682],\n",
       "                                   [ 0.2340,  0.3820],\n",
       "                                   [ 0.2366,  0.3612],\n",
       "                                   [ 0.0467,  0.6572]]),\n",
       "                           tensor([[ 1.1539,  0.6356],\n",
       "                                   [ 0.4188,  0.3057],\n",
       "                                   [ 0.2835,  0.1493],\n",
       "                                   [ 0.4546,  0.2834],\n",
       "                                   [ 0.2245, -0.1381],\n",
       "                                   [ 0.9428,  0.3938],\n",
       "                                   [ 0.9806,  0.7072],\n",
       "                                   [ 0.2188,  0.3678],\n",
       "                                   [ 0.2044,  0.3350],\n",
       "                                   [ 0.0439,  0.6789]]),\n",
       "                           tensor([[ 1.1353,  0.6342],\n",
       "                                   [ 0.4243,  0.3073],\n",
       "                                   [ 0.2882,  0.1519],\n",
       "                                   [ 0.4467,  0.2766],\n",
       "                                   [ 0.2345, -0.1115],\n",
       "                                   [ 0.9596,  0.4009],\n",
       "                                   [ 0.9819,  0.7462],\n",
       "                                   [ 0.2036,  0.3536],\n",
       "                                   [ 0.1721,  0.3088],\n",
       "                                   [ 0.0412,  0.7006]])],\n",
       "                          'z': [tensor([[1.],\n",
       "                                   [1.],\n",
       "                                   [1.],\n",
       "                                   [1.],\n",
       "                                   [1.],\n",
       "                                   [1.],\n",
       "                                   [1.],\n",
       "                                   [1.],\n",
       "                                   [1.],\n",
       "                                   [1.]], grad_fn=<UnsqueezeBackward0>),\n",
       "                           tensor([[0.9500],\n",
       "                                   [0.9500],\n",
       "                                   [0.9500],\n",
       "                                   [0.9500],\n",
       "                                   [0.9500],\n",
       "                                   [0.9500],\n",
       "                                   [0.9500],\n",
       "                                   [0.9500],\n",
       "                                   [0.9500],\n",
       "                                   [0.9500]], grad_fn=<UnsqueezeBackward0>),\n",
       "                           tensor([[0.9000],\n",
       "                                   [0.9000],\n",
       "                                   [0.9000],\n",
       "                                   [0.9000],\n",
       "                                   [0.9000],\n",
       "                                   [0.9000],\n",
       "                                   [0.9000],\n",
       "                                   [0.9000],\n",
       "                                   [0.9000],\n",
       "                                   [0.9000]], grad_fn=<UnsqueezeBackward0>),\n",
       "                           tensor([[0.8500],\n",
       "                                   [0.8500],\n",
       "                                   [0.8500],\n",
       "                                   [0.8500],\n",
       "                                   [0.8500],\n",
       "                                   [0.8500],\n",
       "                                   [0.8500],\n",
       "                                   [0.8500],\n",
       "                                   [0.8500],\n",
       "                                   [0.8500]], grad_fn=<UnsqueezeBackward0>)],\n",
       "                          'phi': [tensor([[0.1366],\n",
       "                                   [0.1366],\n",
       "                                   [0.1366],\n",
       "                                   [0.1366],\n",
       "                                   [0.1366],\n",
       "                                   [0.1366],\n",
       "                                   [0.1366],\n",
       "                                   [0.1366],\n",
       "                                   [0.1366],\n",
       "                                   [0.1366]], grad_fn=<UnsqueezeBackward0>),\n",
       "                           tensor([[2.9313],\n",
       "                                   [2.9313],\n",
       "                                   [2.9313],\n",
       "                                   [2.9313],\n",
       "                                   [2.9313],\n",
       "                                   [2.9313],\n",
       "                                   [2.9313],\n",
       "                                   [2.9313],\n",
       "                                   [2.9313],\n",
       "                                   [2.9313]], grad_fn=<UnsqueezeBackward0>),\n",
       "                           tensor([[1.1474],\n",
       "                                   [1.1474],\n",
       "                                   [1.1474],\n",
       "                                   [1.1474],\n",
       "                                   [1.1474],\n",
       "                                   [1.1474],\n",
       "                                   [1.1474],\n",
       "                                   [1.1474],\n",
       "                                   [1.1474],\n",
       "                                   [1.1474]], grad_fn=<UnsqueezeBackward0>),\n",
       "                           tensor([[6.0952],\n",
       "                                   [6.0952],\n",
       "                                   [6.0952],\n",
       "                                   [6.0952],\n",
       "                                   [6.0952],\n",
       "                                   [6.0952],\n",
       "                                   [6.0952],\n",
       "                                   [6.0952],\n",
       "                                   [6.0952],\n",
       "                                   [6.0952]], grad_fn=<UnsqueezeBackward0>)]})})"
      ]
     },
     "execution_count": 23,
     "metadata": {},
     "output_type": "execute_result"
    }
   ],
   "source": [
    "mu._hits"
   ]
  },
  {
   "cell_type": "code",
   "execution_count": 24,
   "id": "b1654124",
   "metadata": {
    "scrolled": true
   },
   "outputs": [
    {
     "data": {
      "text/plain": [
       "[tensor([[1.2666],\n",
       "         [0.4443],\n",
       "         [0.2907],\n",
       "         [0.5058],\n",
       "         [0.1764],\n",
       "         [0.9526],\n",
       "         [1.0527],\n",
       "         [0.3008],\n",
       "         [0.3189],\n",
       "         [0.1353]], grad_fn=<AddBackward0>),\n",
       " tensor([[-1.0128],\n",
       "         [-0.3406],\n",
       "         [-0.2410],\n",
       "         [-0.3913],\n",
       "         [-0.2448],\n",
       "         [-0.8258],\n",
       "         [-0.8183],\n",
       "         [-0.1490],\n",
       "         [-0.1546],\n",
       "         [ 0.0927]], grad_fn=<AddBackward0>),\n",
       " tensor([[ 1.0547],\n",
       "         [ 0.4507],\n",
       "         [ 0.2536],\n",
       "         [ 0.4446],\n",
       "         [-0.0328],\n",
       "         [ 0.7480],\n",
       "         [ 1.0492],\n",
       "         [ 0.4251],\n",
       "         [ 0.3907],\n",
       "         [ 0.6369]], grad_fn=<AddBackward0>),\n",
       " tensor([[ 0.9970],\n",
       "         [ 0.3577],\n",
       "         [ 0.2547],\n",
       "         [ 0.3875],\n",
       "         [ 0.2491],\n",
       "         [ 0.8687],\n",
       "         [ 0.8245],\n",
       "         [ 0.1329],\n",
       "         [ 0.1117],\n",
       "         [-0.0894]], grad_fn=<AddBackward0>)]"
      ]
     },
     "execution_count": 24,
     "metadata": {},
     "output_type": "execute_result"
    }
   ],
   "source": [
    "h = mu._hits['above']['reco_h'];h"
   ]
  },
  {
   "cell_type": "code",
   "execution_count": 25,
   "id": "03d28aff",
   "metadata": {
    "scrolled": false
   },
   "outputs": [
    {
     "data": {
      "text/plain": [
       "tensor([[ 0.4704],\n",
       "        [ 0.2440],\n",
       "        [ 0.1053],\n",
       "        [ 0.2301],\n",
       "        [-0.2173],\n",
       "        [ 0.2521],\n",
       "        [ 0.4901],\n",
       "        [ 0.3585],\n",
       "        [ 0.3471],\n",
       "        [ 0.6228]])"
      ]
     },
     "execution_count": 25,
     "metadata": {},
     "output_type": "execute_result"
    }
   ],
   "source": [
    "jacobian(h[0], volume.get_detectors()[0].panels[0].phi)"
   ]
  },
  {
   "cell_type": "code",
   "execution_count": 26,
   "id": "86509b96",
   "metadata": {},
   "outputs": [],
   "source": [
    "def arb_rad_length(*,z:float, lw:Tensor, size:float) -> Tensor:\n",
    "    rad_length = torch.ones(list((lw/size).long()))*X0['beryllium']\n",
    "    if z >= 0.4 and z <= 0.5: rad_length[5:,5:] = X0['lead']\n",
    "    return rad_length"
   ]
  },
  {
   "cell_type": "code",
   "execution_count": 27,
   "id": "af2fbe44",
   "metadata": {},
   "outputs": [],
   "source": [
    "volume.load_rad_length(arb_rad_length)"
   ]
  },
  {
   "cell_type": "code",
   "execution_count": 28,
   "id": "e0b3364c",
   "metadata": {},
   "outputs": [],
   "source": [
    "mu = MuonBatch(MuonResampler().resample(gen(100), volume, gen), init_z=1)\n",
    "volume(mu)"
   ]
  },
  {
   "cell_type": "code",
   "execution_count": 29,
   "id": "64bfe288",
   "metadata": {},
   "outputs": [],
   "source": [
    "hits = mu.get_hits()"
   ]
  },
  {
   "cell_type": "code",
   "execution_count": 30,
   "id": "7be034a5",
   "metadata": {},
   "outputs": [
    {
     "data": {
      "text/plain": [
       "torch.Size([100])"
      ]
     },
     "execution_count": 30,
     "metadata": {},
     "output_type": "execute_result"
    }
   ],
   "source": [
    "mu.x.shape"
   ]
  },
  {
   "cell_type": "code",
   "execution_count": 31,
   "id": "80fe51ff",
   "metadata": {},
   "outputs": [
    {
     "data": {
      "text/plain": [
       "torch.Size([100, 4, 1])"
      ]
     },
     "execution_count": 31,
     "metadata": {},
     "output_type": "execute_result"
    }
   ],
   "source": [
    "hits['above']['reco_h'].shape"
   ]
  },
  {
   "cell_type": "code",
   "execution_count": 32,
   "id": "82e1795e",
   "metadata": {},
   "outputs": [],
   "source": [
    "from tomopt.inference.scattering import AbsScatterBatch\n",
    "\n",
    "class PhiDetScatterBatch(AbsScatterBatch):\n",
    "    def _extract_hits(self) -> None:\n",
    "        # reco x, reco y, gen z, must be a list to allow computation of uncertainty\n",
    "        above_hits = torch.stack(\n",
    "            [\n",
    "                torch.cat([self.hits[\"above\"][\"reco_h\"][:, i], self.hits[\"above\"][\"phi\"][:, i], self.hits[\"above\"][\"z\"][:, i]], dim=-1)\n",
    "                for i in range(self.hits[\"above\"][\"reco_h\"].shape[1])\n",
    "            ],\n",
    "            dim=1,\n",
    "        )  # muons, panels, xyz\n",
    "        below_hits = torch.stack(\n",
    "            [\n",
    "                torch.cat([self.hits[\"below\"][\"reco_h\"][:, i], self.hits[\"below\"][\"phi\"][:, i], self.hits[\"below\"][\"z\"][:, i]], dim=-1)\n",
    "                for i in range(self.hits[\"below\"][\"reco_h\"].shape[1])\n",
    "            ],\n",
    "            dim=1,\n",
    "        )\n",
    "        _above_gen_hits = torch.stack(\n",
    "            [torch.cat([self.hits[\"above\"][\"gen_xy\"][:, i], self.hits[\"above\"][\"z\"][:, i]], dim=-1) for i in range(self.hits[\"above\"][\"gen_xy\"].shape[1])],\n",
    "            dim=1,\n",
    "        )  # muons, panels, xyz\n",
    "        _below_gen_hits = torch.stack(\n",
    "            [torch.cat([self.hits[\"below\"][\"gen_xy\"][:, i], self.hits[\"below\"][\"z\"][:, i]], dim=-1) for i in range(self.hits[\"below\"][\"gen_xy\"].shape[1])],\n",
    "            dim=1,\n",
    "        )\n",
    "        self._n_hits_above = above_hits.shape[1]\n",
    "        self._n_hits_below = below_hits.shape[1]\n",
    "\n",
    "        # Combine all input vars into single tensor, NB ideally would stack to new dim but can't assume same number of panels above & below\n",
    "        self._reco_hits = torch.cat((above_hits, below_hits), dim=1)  # muons, all panels, reco h,phi,z\n",
    "        self._gen_hits = torch.cat((_above_gen_hits, _below_gen_hits), dim=1)  # muons, all panels, true xyz\n",
    "\n",
    "    def plot_scatter(self, idx: int) -> None:\n",
    "        raise NotImplementedError(\"Ah, I see you've just volunteered to implement this!\")\n",
    "\n",
    "    @staticmethod\n",
    "    def _get_hit_uncs(zordered_panels: List[PhiDetectorPanel], hits: Tensor) -> Tensor:\n",
    "        uncs: List[Tensor] = []\n",
    "        for l, h in zip(zordered_panels, hits.unbind(1)):\n",
    "            r = 1 / l.resolution.expand(len(h), 1)\n",
    "            uncs.append(torch.cat([r, torch.zeros((len(h), 2), device=r.device)], dim=-1))\n",
    "        return torch.stack(uncs, dim=1)  # muons, panels, unc h,phi,z, zero unc for phi and z\n",
    "    \n",
    "\n",
    "    def _compute_tracks(self) -> None:\n",
    "        def _get_panels() -> List[PhiDetectorPanel]:\n",
    "            panels = []\n",
    "            for det in self.volume.get_detectors():\n",
    "                if not isinstance(det, PanelDetectorLayer):\n",
    "                    raise ValueError(f\"Detector {det} is not a PanelDetectorLayer\")\n",
    "                panels += [det.panels[j] for j in det.get_panel_zorder()]\n",
    "            return panels\n",
    "\n",
    "        self._hit_uncs = self._get_hit_uncs(_get_panels(), self.gen_hits)\n",
    "#         self._track_in, self._track_start_in = self.get_muon_trajectory(self.above_hits, self.above_hit_uncs, self.volume.lw)\n",
    "#         self._track_out, self._track_start_out = self.get_muon_trajectory(self.below_hits, self.below_hit_uncs, self.volume.lw)\n",
    "\n",
    "    def _compute_scatters(self) -> None:\n",
    "        r\"\"\"\n",
    "        Currently only handles detectors above and below passive volume\n",
    "\n",
    "        Scatter locations adapted from:\n",
    "        @MISC {3334866,\n",
    "            TITLE = {Closest points between two lines},\n",
    "            AUTHOR = {Brian (https://math.stackexchange.com/users/72614/brian)},\n",
    "            HOWPUBLISHED = {Mathematics Stack Exchange},\n",
    "            NOTE = {URL:https://math.stackexchange.com/q/3334866 (version: 2019-08-26)},\n",
    "            EPRINT = {https://math.stackexchange.com/q/3334866},\n",
    "            URL = {https://math.stackexchange.com/q/3334866}\n",
    "        }\n",
    "        \"\"\"\n",
    "\n",
    "        self._extract_hits()\n",
    "        self._compute_tracks()\n",
    "#         self._filter_scatters()\n",
    "\n",
    "#         # Track computations\n",
    "#         self._cross_track = torch.cross(self.track_in, self.track_out, dim=1)  # connecting vector perpendicular to both lines\n",
    "\n",
    "#         rhs = self.track_start_out - self.track_start_in\n",
    "#         lhs = torch.stack([self.track_in, -self.track_out, self._cross_track], dim=1).transpose(2, 1)\n",
    "#         # coefs = torch.linalg.solve(lhs, rhs)  # solve p1+t1*v1 + t3*v3 = p2+t2*v2 => p2-p1 = t1*v1 - t2*v2 + t3*v3\n",
    "#         self._track_coefs = (lhs.inverse() @ rhs[:, :, None]).squeeze(-1)\n",
    "\n",
    "#     @staticmethod\n",
    "#     def get_muon_trajectory(hits: Tensor, uncs: Tensor, lw: Tensor) -> Tuple[Tensor, Tensor]:\n",
    "#         r\"\"\"\n",
    "#         hits = (muons,panels,(h,phi,z))\n",
    "#         uncs = (muons,panels,(unc,0,0))\n",
    "\n",
    "#         Assumes no uncertainty for z and phi\n",
    "\n",
    "#         Uses an analytic likelihood-maximisation: L = \\prod_i G[h_i - h_{i,opt}(x0,y0,theta,phi)]\n",
    "#         where:\n",
    "#         h_{i,opt} = x_{i,opt} cos(phi_i) + y_{i,opt} sin(phi_i)\n",
    "#         x_{i,opt} = x0 + z_i tan(theta) cos(phi)\n",
    "#         y_{i,opt} = y0 + z_i tan(theta) sin(phi)\n",
    "\n",
    "#         x0, y0, z0 = track coordinates at z=0\n",
    "#         theta, phi = track angles\n",
    "\n",
    "#         x0 = sum_i[ ((cos(phi_i)/(unc_i^2))*(h_i-(z_i*tan(theta)*cos(phi)*cos(phi_i))-(sin(phi_i)*(y0+(z_i*tan(theta)*sin(phi))))) ] / sum_i[ ((cos(phi_i)^2)/(unc_i^2)) ]\n",
    "#         y0 = sum_i[ ((sin(phi_i)/(unc_i^2))*(h_i-(z_i*tan(theta)*sin(phi)*cos(phi_i))-(cos(phi_i)*(x0+(z_i*tan(theta)*sin(phi))))) ] / sun_i[ ((sin(phi_i)^2)/(unc_i^2)) ]\n",
    "#         theta = tan^-1[ sum_i[ (z_i/(unc_i^2))*((h_i*((cos(phi)*cos(phi_i))+(sin(phi)*sin(phi_i))))-(x0*((cos(phi_i)*sin(phi_i)*sin(phi))+(cos(phi)*cos(phi_i)*cos(phi_i))))-(y0((cos(phi)*cos(phi_i)*sin(phi_i))+(sin(phi)*sin(phi_i)*sin(phi_i))))) ] / sum_i[ ((z_i^2)/(unc_i^2))*((cos(phi)*cos(phi_i))+(sin(phi)*sin(sin(phi_i)))) ] ]\n",
    "#         phi = sin^-1[ ((z_i*sin(phi_i))/(unc_i^2))*(h_i-(y0*sin(phi_i))-(x0*cos(phi_i))-(z_i*tan(theta)*cos(phi)*cos(phi_i))) ] / sum_i[ (((z_i*sin(phi_i))^2)/(unc_i^2))*tan(theta) ]\n",
    "\n",
    "#         In eval mode:\n",
    "#             Muons with <2 hits within panels have NaN trajectory.\n",
    "#             Muons with >=2 hits in panels have valid trajectories\n",
    "#         \"\"\"\n",
    "\n",
    "#         hits = torch.where(torch.isinf(hits), lw.mean().type(hits.type()) / 2, hits)\n",
    "#         uncs = torch.nan_to_num(uncs)  # Set Infs to large number\n",
    "\n",
    "#         x0: Tensor\n",
    "#         y0: Tensor  # Track positions at Z0=0\n",
    "#         phi: Tensor\n",
    "#         theta: Tensor  # Track angles"
   ]
  },
  {
   "cell_type": "code",
   "execution_count": 33,
   "id": "0037771d",
   "metadata": {},
   "outputs": [],
   "source": [
    "sb = PhiDetScatterBatch(mu, volume)"
   ]
  },
  {
   "cell_type": "code",
   "execution_count": 34,
   "id": "91ee0b27",
   "metadata": {},
   "outputs": [
    {
     "data": {
      "text/plain": [
       "(torch.Size([100, 4, 3]), torch.Size([100, 4, 3]))"
      ]
     },
     "execution_count": 34,
     "metadata": {},
     "output_type": "execute_result"
    }
   ],
   "source": [
    "sb.above_hits.shape, sb.above_hit_uncs.shape"
   ]
  },
  {
   "cell_type": "code",
   "execution_count": 35,
   "id": "705d3eb3",
   "metadata": {},
   "outputs": [
    {
     "data": {
      "text/plain": [
       "Parameter containing:\n",
       "tensor(0.1366, requires_grad=True)"
      ]
     },
     "execution_count": 35,
     "metadata": {},
     "output_type": "execute_result"
    }
   ],
   "source": [
    "volume.get_detectors()[0].panels[0].phi"
   ]
  },
  {
   "cell_type": "code",
   "execution_count": 36,
   "id": "a838cc83",
   "metadata": {},
   "outputs": [
    {
     "data": {
      "text/plain": [
       "tensor([[[0.1394, 1.0000, 0.0000],\n",
       "         [0.0000, 0.0000, 0.0000],\n",
       "         [0.0000, 0.0000, 0.0000],\n",
       "         [0.0000, 0.0000, 0.0000]],\n",
       "\n",
       "        [[0.8318, 1.0000, 0.0000],\n",
       "         [0.0000, 0.0000, 0.0000],\n",
       "         [0.0000, 0.0000, 0.0000],\n",
       "         [0.0000, 0.0000, 0.0000]],\n",
       "\n",
       "        [[0.8861, 1.0000, 0.0000],\n",
       "         [0.0000, 0.0000, 0.0000],\n",
       "         [0.0000, 0.0000, 0.0000],\n",
       "         [0.0000, 0.0000, 0.0000]],\n",
       "\n",
       "        ...,\n",
       "\n",
       "        [[0.7954, 1.0000, 0.0000],\n",
       "         [0.0000, 0.0000, 0.0000],\n",
       "         [0.0000, 0.0000, 0.0000],\n",
       "         [0.0000, 0.0000, 0.0000]],\n",
       "\n",
       "        [[0.1217, 1.0000, 0.0000],\n",
       "         [0.0000, 0.0000, 0.0000],\n",
       "         [0.0000, 0.0000, 0.0000],\n",
       "         [0.0000, 0.0000, 0.0000]],\n",
       "\n",
       "        [[0.5174, 1.0000, 0.0000],\n",
       "         [0.0000, 0.0000, 0.0000],\n",
       "         [0.0000, 0.0000, 0.0000],\n",
       "         [0.0000, 0.0000, 0.0000]]])"
      ]
     },
     "execution_count": 36,
     "metadata": {},
     "output_type": "execute_result"
    }
   ],
   "source": [
    "jacobian(sb.above_hits, volume.get_detectors()[0].panels[0].phi)"
   ]
  },
  {
   "cell_type": "code",
   "execution_count": 37,
   "id": "a29476a1",
   "metadata": {},
   "outputs": [],
   "source": [
    "hits = sb.above_hits\n",
    "uncs = sb.above_hit_uncs"
   ]
  },
  {
   "cell_type": "code",
   "execution_count": 38,
   "id": "e7405ab2",
   "metadata": {},
   "outputs": [],
   "source": [
    "hits = torch.where(torch.isinf(hits), volume.lw.mean().type(hits.type()) / 2, hits)\n",
    "uncs = torch.nan_to_num(uncs)  # Set Infs to large number"
   ]
  },
  {
   "cell_type": "code",
   "execution_count": 39,
   "id": "ffc6c4e9",
   "metadata": {},
   "outputs": [],
   "source": [
    "uncs2 = uncs[:,:,0:1]**2"
   ]
  },
  {
   "cell_type": "code",
   "execution_count": 40,
   "id": "4b2c1292",
   "metadata": {},
   "outputs": [],
   "source": [
    "track = torch.ones(len(hits),1,4, device=hits.device, requires_grad=True)/2"
   ]
  },
  {
   "cell_type": "code",
   "execution_count": 41,
   "id": "6367d766",
   "metadata": {},
   "outputs": [],
   "source": [
    "def get_nll(hits:Tensor, uncs2:Tensor, track:Tensor) -> Tensor:\n",
    "    x0 = track[:,:,0:1]\n",
    "    y0 = track[:,:,1:2]\n",
    "    phi = track[:,:,2:3]\n",
    "    theta = track[:,:,3:4]\n",
    "    h_i = hits[:,:,0:1]\n",
    "    phi_i = hits[:,:,1:2]\n",
    "    z_i = hits[:,:,2:3]\n",
    "\n",
    "    x_i_opt = x0 + (z_i*theta.tan()*phi.cos())\n",
    "    y_i_opt = y0 + (z_i*theta.tan()*phi.sin())\n",
    "    h_i_opt = (x_i_opt*phi_i.cos()) + (y_i_opt*phi_i.sin())  \n",
    "\n",
    "    return (0.5*((h_i-h_i_opt).square()/uncs2).sum(1))-(1/(2*torch.pi*uncs2).sqrt().sum(1))"
   ]
  },
  {
   "cell_type": "markdown",
   "id": "8228e1d3",
   "metadata": {},
   "source": [
    "# Newton"
   ]
  },
  {
   "cell_type": "code",
   "execution_count": 79,
   "id": "53312a75",
   "metadata": {},
   "outputs": [
    {
     "data": {
      "text/plain": [
       "torch.Size([100, 1])"
      ]
     },
     "execution_count": 79,
     "metadata": {},
     "output_type": "execute_result"
    }
   ],
   "source": [
    "nll = get_nll(hits, uncs2, track)\n",
    "nll.shape"
   ]
  },
  {
   "cell_type": "code",
   "execution_count": 80,
   "id": "b8d9a1e3",
   "metadata": {},
   "outputs": [],
   "source": [
    "grad = jacobian(nll, track, create_graph=True).sum((2,3))"
   ]
  },
  {
   "cell_type": "code",
   "execution_count": 46,
   "id": "31e7ad0a",
   "metadata": {},
   "outputs": [
    {
     "data": {
      "text/plain": [
       "torch.Size([10, 1, 4])"
      ]
     },
     "execution_count": 46,
     "metadata": {},
     "output_type": "execute_result"
    }
   ],
   "source": [
    "grad.shape"
   ]
  },
  {
   "cell_type": "code",
   "execution_count": 47,
   "id": "3f055e62",
   "metadata": {},
   "outputs": [
    {
     "data": {
      "text/plain": [
       "tensor([[  45554.0938, -106952.0938,  -60050.1172,  -20507.5391]],\n",
       "       grad_fn=<SelectBackward0>)"
      ]
     },
     "execution_count": 47,
     "metadata": {},
     "output_type": "execute_result"
    }
   ],
   "source": [
    "grad[0]"
   ]
  },
  {
   "cell_type": "code",
   "execution_count": 48,
   "id": "604ec610",
   "metadata": {},
   "outputs": [],
   "source": [
    "hesse = jacobian(grad, track, create_graph=True).sum((3,4))"
   ]
  },
  {
   "cell_type": "code",
   "execution_count": 49,
   "id": "835d1f42",
   "metadata": {},
   "outputs": [
    {
     "data": {
      "text/plain": [
       "torch.Size([10, 1, 4, 4])"
      ]
     },
     "execution_count": 49,
     "metadata": {},
     "output_type": "execute_result"
    }
   ],
   "source": [
    "hesse.shape"
   ]
  },
  {
   "cell_type": "code",
   "execution_count": 50,
   "id": "237b485e",
   "metadata": {},
   "outputs": [
    {
     "data": {
      "text/plain": [
       "torch.Size([10, 10, 1, 4])"
      ]
     },
     "execution_count": 50,
     "metadata": {},
     "output_type": "execute_result"
    }
   ],
   "source": [
    "(grad@hesse.inverse()).shape"
   ]
  },
  {
   "cell_type": "code",
   "execution_count": 51,
   "id": "2f310436",
   "metadata": {},
   "outputs": [
    {
     "data": {
      "text/plain": [
       "torch.Size([10, 1, 4])"
      ]
     },
     "execution_count": 51,
     "metadata": {},
     "output_type": "execute_result"
    }
   ],
   "source": [
    "(grad.unsqueeze(1)@hesse.inverse()).squeeze(1).shape"
   ]
  },
  {
   "cell_type": "code",
   "execution_count": 52,
   "id": "a9bf8f89",
   "metadata": {},
   "outputs": [],
   "source": [
    "step = (grad.unsqueeze(1)@hesse.inverse()).squeeze(1)"
   ]
  },
  {
   "cell_type": "code",
   "execution_count": 53,
   "id": "9039aa6d",
   "metadata": {},
   "outputs": [
    {
     "data": {
      "text/plain": [
       "tensor([[4.0454e-01, 2.7361e-01, 2.1547e-04, 6.3728e-04]],\n",
       "       grad_fn=<MeanBackward1>)"
      ]
     },
     "execution_count": 53,
     "metadata": {},
     "output_type": "execute_result"
    }
   ],
   "source": [
    "step.mean(0)"
   ]
  },
  {
   "cell_type": "code",
   "execution_count": 54,
   "id": "6b70a2cd",
   "metadata": {},
   "outputs": [],
   "source": [
    "lr = Tensor([[[0.1,0.1,100,10]]])"
   ]
  },
  {
   "cell_type": "code",
   "execution_count": 55,
   "id": "8e9e75a4",
   "metadata": {},
   "outputs": [
    {
     "data": {
      "text/plain": [
       "tensor([[[0.0405, 0.0274, 0.0215, 0.0064]]], grad_fn=<MulBackward0>)"
      ]
     },
     "execution_count": 55,
     "metadata": {},
     "output_type": "execute_result"
    }
   ],
   "source": [
    "lr*step.mean(0)"
   ]
  },
  {
   "cell_type": "code",
   "execution_count": 81,
   "id": "b163ab38",
   "metadata": {},
   "outputs": [
    {
     "data": {
      "text/html": [
       "\n",
       "    <div>\n",
       "        <style>\n",
       "            /* Turns off some styling */\n",
       "            progress {\n",
       "                /* gets rid of default border in Firefox and Opera. */\n",
       "                border: none;\n",
       "                /* Needs to be in here for Safari polyfill so background images work as expected. */\n",
       "                background-size: auto;\n",
       "            }\n",
       "            .progress-bar-interrupted, .progress-bar-interrupted::-webkit-progress-bar {\n",
       "                background: #F44336;\n",
       "            }\n",
       "        </style>\n",
       "      <progress value='84' class='' max='100' style='width:300px; height:20px; vertical-align: middle;'></progress>\n",
       "      84.00% [84/100 02:21<00:26]\n",
       "    </div>\n",
       "    "
      ],
      "text/plain": [
       "<IPython.core.display.HTML object>"
      ]
     },
     "metadata": {},
     "output_type": "display_data"
    },
    {
     "name": "stdout",
     "output_type": "stream",
     "text": [
      "tensor([552313.7500]) tensor([[0.4526, 0.4739, 0.4703, 0.4935]])\n",
      "tensor([459080.0938]) tensor([[0.4125, 0.4534, 0.4413, 0.4841]])\n",
      "tensor([366024.0938]) tensor([[0.3781, 0.4370, 0.3915, 0.4724]])\n",
      "tensor([299159.9688]) tensor([[0.3505, 0.4242, 0.3703, 0.4530]])\n",
      "tensor([254436.2812]) tensor([[0.3306, 0.4144, 0.3774, 0.4344]])\n",
      "tensor([206660.5156]) tensor([[0.3156, 0.4069, 0.3972, 0.4153]])\n",
      "tensor([175511.4062]) tensor([[0.3051, 0.4011, 0.4483, 0.3922]])\n",
      "tensor([132246.6562]) tensor([[0.2990, 0.3972, 0.5605, 0.3667]])\n",
      "tensor([103370.5234]) tensor([[0.2959, 0.3939, 0.5222, 0.3501]])\n",
      "tensor([87922.6016]) tensor([[0.2956, 0.3934, 0.6164, 0.3302]])\n",
      "tensor([89197.1016]) tensor([[0.2984, 0.3923, 0.7041, 0.3203]])\n",
      "tensor([79813.7188]) tensor([[0.3012, 0.3917, 0.7114, 0.3158]])\n",
      "tensor([73537.2500]) tensor([[0.3044, 0.3911, 0.7800, 0.3090]])\n",
      "tensor([63532.7539]) tensor([[0.3075, 0.3907, 0.8599, 0.2989]])\n",
      "tensor([63752.5508]) tensor([[0.3112, 0.3904, 0.9420, 0.2865]])\n",
      "tensor([71545.9375]) tensor([[0.3162, 0.3901, 1.0256, 0.2769]])\n",
      "tensor([62380.8047]) tensor([[0.3209, 0.3900, 1.1623, 0.2657]])\n",
      "tensor([56067.8789]) tensor([[0.3255, 0.3892, 1.1791, 0.2641]])\n",
      "tensor([55712.2266]) tensor([[0.3295, 0.3887, 1.2441, 0.2579]])\n",
      "tensor([51713.8086]) tensor([[0.3338, 0.3885, 1.2485, 0.2500]])\n",
      "tensor([65410.4336]) tensor([[0.3383, 0.3893, 1.3226, 0.2429]])\n",
      "tensor([61796.7539]) tensor([[0.3405, 0.3897, 1.4674, 0.2408]])\n",
      "tensor([58677.1953]) tensor([[0.3427, 0.3901, 1.5122, 0.2384]])\n",
      "tensor([55764.8750]) tensor([[0.3448, 0.3905, 1.5647, 0.2379]])\n",
      "tensor([53513.8516]) tensor([[0.3469, 0.3908, 1.6305, 0.2378]])\n",
      "tensor([50720.5898]) tensor([[0.3489, 0.3912, 1.7462, 0.2360]])\n",
      "tensor([59640.5039]) tensor([[0.3511, 0.3916, 1.7809, 0.2355]])\n",
      "tensor([60207.2539]) tensor([[0.3533, 0.3921, 1.9352, 0.2334]])\n",
      "tensor([59732.7305]) tensor([[0.3555, 0.3928, 1.9957, 0.2319]])\n",
      "tensor([56612.2812]) tensor([[0.3576, 0.3935, 2.0582, 0.2305]])\n",
      "tensor([54676.3047]) tensor([[0.3598, 0.3943, 2.1154, 0.2294]])\n",
      "tensor([51766.2539]) tensor([[0.3609, 0.3946, 2.1724, 0.2291]])\n",
      "tensor([51322.1250]) tensor([[0.3619, 0.3949, 2.2825, 0.2290]])\n",
      "tensor([49860.1406]) tensor([[0.3629, 0.3953, 2.3127, 0.2293]])\n",
      "tensor([48794.1914]) tensor([[0.3639, 0.3956, 2.4080, 0.2287]])\n",
      "tensor([47467.5781]) tensor([[0.3649, 0.3960, 2.4696, 0.2295]])\n",
      "tensor([47818.3047]) tensor([[0.3659, 0.3964, 2.5390, 0.2293]])\n",
      "tensor([46497.9961]) tensor([[0.3669, 0.3968, 2.6673, 0.2286]])\n",
      "tensor([46099.0664]) tensor([[0.3679, 0.3971, 2.7109, 0.2289]])\n",
      "tensor([45073.8164]) tensor([[0.3690, 0.3975, 2.8039, 0.2274]])\n",
      "tensor([44063.6562]) tensor([[0.3700, 0.3980, 2.8467, 0.2367]])\n",
      "tensor([51201.2695]) tensor([[0.3705, 0.3982, 2.8829, 0.2364]])\n",
      "tensor([51226.3555]) tensor([[0.3710, 0.3984, 2.8895, 0.2362]])\n",
      "tensor([50575.3711]) tensor([[0.3714, 0.3986, 2.8917, 0.2360]])\n",
      "tensor([49963.2695]) tensor([[0.3719, 0.3988, 2.9030, 0.2358]])\n",
      "tensor([49453.0312]) tensor([[0.3724, 0.3990, 2.8988, 0.2357]])\n",
      "tensor([49179.0195]) tensor([[0.3729, 0.3992, 2.8816, 0.2355]])\n",
      "tensor([53896.6914]) tensor([[0.3734, 0.3995, 2.8783, 0.2356]])\n",
      "tensor([53342.8164]) tensor([[0.3739, 0.3997, 2.8855, 0.2357]])\n",
      "tensor([52912.2305]) tensor([[0.3744, 0.4000, 2.8792, 0.2348]])\n",
      "tensor([53013.6445]) tensor([[0.3748, 0.4003, 2.8871, 0.2346]])\n",
      "tensor([52614.1250]) tensor([[0.3751, 0.4004, 2.8925, 0.2344]])\n",
      "tensor([52437.1211]) tensor([[0.3753, 0.4006, 2.8933, 0.2342]])\n",
      "tensor([52235.2734]) tensor([[0.3756, 0.4007, 2.9071, 0.2344]])\n",
      "tensor([53551.3516]) tensor([[0.3758, 0.4008, 2.9084, 0.2343]])\n",
      "tensor([53396.4062]) tensor([[0.3760, 0.4010, 2.9056, 0.2339]])\n",
      "tensor([53218.7031]) tensor([[0.3763, 0.4011, 2.9050, 0.2336]])\n",
      "tensor([53034.4805]) tensor([[0.3765, 0.4013, 2.9057, 0.2333]])\n",
      "tensor([52862.7344]) tensor([[0.3768, 0.4014, 2.9070, 0.2335]])\n",
      "tensor([52850.4609]) tensor([[0.3770, 0.4016, 2.9153, 0.2331]])\n",
      "tensor([53458.6602]) tensor([[0.3773, 0.4017, 2.9284, 0.2362]])\n",
      "tensor([61455.3086]) tensor([[0.3774, 0.4018, 2.9289, 0.2360]])\n",
      "tensor([61308.7500]) tensor([[0.3775, 0.4018, 2.9292, 0.2358]])\n",
      "tensor([61167.1289]) tensor([[0.3777, 0.4019, 2.9283, 0.2354]])\n",
      "tensor([61031.0312]) tensor([[0.3778, 0.4020, 2.9289, 0.2350]])\n",
      "tensor([60888.8008]) tensor([[0.3779, 0.4020, 2.9399, 0.2363]])\n",
      "tensor([61346.7500]) tensor([[0.3780, 0.4021, 2.9407, 0.2361]])\n",
      "tensor([61188.9688]) tensor([[0.3782, 0.4022, 2.9571, 0.2360]])\n",
      "tensor([61499.0312]) tensor([[0.3783, 0.4022, 2.9564, 0.2357]])\n",
      "tensor([61339.3516]) tensor([[0.3784, 0.4023, 2.9591, 0.2361]])\n",
      "tensor([61237.7305]) tensor([[0.3785, 0.4024, 2.9594, 0.2355]])\n",
      "tensor([61092.5586]) tensor([[0.3786, 0.4024, 2.9599, 0.2355]])\n",
      "tensor([61010.2812]) tensor([[0.3787, 0.4024, 2.9585, 0.2356]])\n",
      "tensor([61002.9414]) tensor([[0.3787, 0.4025, 2.9586, 0.2355]])\n",
      "tensor([60920.2969]) tensor([[0.3788, 0.4025, 2.9584, 0.2354]])\n",
      "tensor([60842.9297]) tensor([[0.3788, 0.4025, 2.9579, 0.2353]])\n",
      "tensor([60762.1484]) tensor([[0.3789, 0.4026, 2.9584, 0.2353]])\n",
      "tensor([60681.8164]) tensor([[0.3790, 0.4026, 2.9616, 0.2353]])\n",
      "tensor([60638.8789]) tensor([[0.3790, 0.4026, 2.9650, 0.2352]])\n",
      "tensor([60583.4219]) tensor([[0.3791, 0.4027, 2.9645, 0.2349]])\n",
      "tensor([60516.9648]) tensor([[0.3792, 0.4027, 2.9656, 0.2349]])\n",
      "tensor([60459.1914]) tensor([[0.3792, 0.4027, 2.9654, 0.2349]])\n",
      "tensor([60415.9453]) tensor([[0.3792, 0.4027, 2.9656, 0.2349]])\n",
      "tensor([60372.9102]) tensor([[0.3792, 0.4028, 2.9727, 0.2347]])\n"
     ]
    },
    {
     "ename": "KeyboardInterrupt",
     "evalue": "",
     "output_type": "error",
     "traceback": [
      "\u001b[0;31m---------------------------------------------------------------------------\u001b[0m",
      "\u001b[0;31mKeyboardInterrupt\u001b[0m                         Traceback (most recent call last)",
      "\u001b[0;32m<ipython-input-81-3462c6f96b6a>\u001b[0m in \u001b[0;36m<module>\u001b[0;34m\u001b[0m\n\u001b[1;32m      5\u001b[0m     \u001b[0mnll\u001b[0m \u001b[0;34m=\u001b[0m \u001b[0mget_nll\u001b[0m\u001b[0;34m(\u001b[0m\u001b[0mhits\u001b[0m\u001b[0;34m,\u001b[0m \u001b[0muncs2\u001b[0m\u001b[0;34m,\u001b[0m \u001b[0mtrack\u001b[0m\u001b[0;34m)\u001b[0m\u001b[0;34m\u001b[0m\u001b[0;34m\u001b[0m\u001b[0m\n\u001b[1;32m      6\u001b[0m     \u001b[0mgrad\u001b[0m \u001b[0;34m=\u001b[0m \u001b[0mjacobian\u001b[0m\u001b[0;34m(\u001b[0m\u001b[0mnll\u001b[0m\u001b[0;34m,\u001b[0m \u001b[0mtrack\u001b[0m\u001b[0;34m,\u001b[0m \u001b[0mcreate_graph\u001b[0m\u001b[0;34m=\u001b[0m\u001b[0;32mTrue\u001b[0m\u001b[0;34m)\u001b[0m\u001b[0;34m.\u001b[0m\u001b[0msum\u001b[0m\u001b[0;34m(\u001b[0m\u001b[0;34m(\u001b[0m\u001b[0;36m2\u001b[0m\u001b[0;34m,\u001b[0m\u001b[0;36m3\u001b[0m\u001b[0;34m)\u001b[0m\u001b[0;34m)\u001b[0m\u001b[0;34m\u001b[0m\u001b[0;34m\u001b[0m\u001b[0m\n\u001b[0;32m----> 7\u001b[0;31m     \u001b[0mhesse\u001b[0m \u001b[0;34m=\u001b[0m \u001b[0mjacobian\u001b[0m\u001b[0;34m(\u001b[0m\u001b[0mgrad\u001b[0m\u001b[0;34m,\u001b[0m \u001b[0mtrack\u001b[0m\u001b[0;34m,\u001b[0m \u001b[0mcreate_graph\u001b[0m\u001b[0;34m=\u001b[0m\u001b[0;32mTrue\u001b[0m\u001b[0;34m)\u001b[0m\u001b[0;34m.\u001b[0m\u001b[0msum\u001b[0m\u001b[0;34m(\u001b[0m\u001b[0;34m(\u001b[0m\u001b[0;36m3\u001b[0m\u001b[0;34m,\u001b[0m\u001b[0;36m4\u001b[0m\u001b[0;34m)\u001b[0m\u001b[0;34m)\u001b[0m\u001b[0;34m\u001b[0m\u001b[0;34m\u001b[0m\u001b[0m\n\u001b[0m\u001b[1;32m      8\u001b[0m     \u001b[0mstep\u001b[0m \u001b[0;34m=\u001b[0m \u001b[0mlr\u001b[0m\u001b[0;34m*\u001b[0m\u001b[0;34m(\u001b[0m\u001b[0mgrad\u001b[0m\u001b[0;34m.\u001b[0m\u001b[0munsqueeze\u001b[0m\u001b[0;34m(\u001b[0m\u001b[0;36m1\u001b[0m\u001b[0;34m)\u001b[0m\u001b[0;34m@\u001b[0m\u001b[0mhesse\u001b[0m\u001b[0;34m.\u001b[0m\u001b[0minverse\u001b[0m\u001b[0;34m(\u001b[0m\u001b[0;34m)\u001b[0m\u001b[0;34m)\u001b[0m\u001b[0;34m.\u001b[0m\u001b[0msqueeze\u001b[0m\u001b[0;34m(\u001b[0m\u001b[0;36m1\u001b[0m\u001b[0;34m)\u001b[0m\u001b[0;34m\u001b[0m\u001b[0;34m\u001b[0m\u001b[0m\n\u001b[1;32m      9\u001b[0m     \u001b[0mtrack\u001b[0m \u001b[0;34m=\u001b[0m \u001b[0mtrack\u001b[0m\u001b[0;34m-\u001b[0m\u001b[0mstep\u001b[0m\u001b[0;34m\u001b[0m\u001b[0;34m\u001b[0m\u001b[0m\n",
      "\u001b[0;32m~/cernbox/mode_muon_tomography/tomopt/utils.py\u001b[0m in \u001b[0;36mjacobian\u001b[0;34m(y, x, create_graph, allow_unused)\u001b[0m\n\u001b[1;32m     25\u001b[0m         \u001b[0;32mreturn\u001b[0m \u001b[0mtorch\u001b[0m\u001b[0;34m.\u001b[0m\u001b[0mautograd\u001b[0m\u001b[0;34m.\u001b[0m\u001b[0mgrad\u001b[0m\u001b[0;34m(\u001b[0m\u001b[0mflat_y\u001b[0m\u001b[0;34m,\u001b[0m \u001b[0mx\u001b[0m\u001b[0;34m,\u001b[0m \u001b[0mv\u001b[0m\u001b[0;34m,\u001b[0m \u001b[0mretain_graph\u001b[0m\u001b[0;34m=\u001b[0m\u001b[0;32mTrue\u001b[0m\u001b[0;34m,\u001b[0m \u001b[0mcreate_graph\u001b[0m\u001b[0;34m=\u001b[0m\u001b[0mcreate_graph\u001b[0m\u001b[0;34m,\u001b[0m \u001b[0mallow_unused\u001b[0m\u001b[0;34m=\u001b[0m\u001b[0mallow_unused\u001b[0m\u001b[0;34m)\u001b[0m\u001b[0;34m[\u001b[0m\u001b[0;36m0\u001b[0m\u001b[0;34m]\u001b[0m\u001b[0;34m.\u001b[0m\u001b[0mreshape\u001b[0m\u001b[0;34m(\u001b[0m\u001b[0mx\u001b[0m\u001b[0;34m.\u001b[0m\u001b[0mshape\u001b[0m\u001b[0;34m)\u001b[0m\u001b[0;34m\u001b[0m\u001b[0;34m\u001b[0m\u001b[0m\n\u001b[1;32m     26\u001b[0m \u001b[0;34m\u001b[0m\u001b[0m\n\u001b[0;32m---> 27\u001b[0;31m     \u001b[0;32mreturn\u001b[0m \u001b[0mvmap\u001b[0m\u001b[0;34m(\u001b[0m\u001b[0mget_vjp\u001b[0m\u001b[0;34m)\u001b[0m\u001b[0;34m(\u001b[0m\u001b[0mtorch\u001b[0m\u001b[0;34m.\u001b[0m\u001b[0meye\u001b[0m\u001b[0;34m(\u001b[0m\u001b[0mlen\u001b[0m\u001b[0;34m(\u001b[0m\u001b[0mflat_y\u001b[0m\u001b[0;34m)\u001b[0m\u001b[0;34m,\u001b[0m \u001b[0mdevice\u001b[0m\u001b[0;34m=\u001b[0m\u001b[0my\u001b[0m\u001b[0;34m.\u001b[0m\u001b[0mdevice\u001b[0m\u001b[0;34m)\u001b[0m\u001b[0;34m)\u001b[0m\u001b[0;34m.\u001b[0m\u001b[0mreshape\u001b[0m\u001b[0;34m(\u001b[0m\u001b[0my\u001b[0m\u001b[0;34m.\u001b[0m\u001b[0mshape\u001b[0m \u001b[0;34m+\u001b[0m \u001b[0mx\u001b[0m\u001b[0;34m.\u001b[0m\u001b[0mshape\u001b[0m\u001b[0;34m)\u001b[0m\u001b[0;34m\u001b[0m\u001b[0;34m\u001b[0m\u001b[0m\n\u001b[0m\u001b[1;32m     28\u001b[0m \u001b[0;34m\u001b[0m\u001b[0m\n\u001b[1;32m     29\u001b[0m \u001b[0;34m\u001b[0m\u001b[0m\n",
      "\u001b[0;32m~/anaconda3/envs/tomopt/lib/python3.8/site-packages/torch/_vmap_internals.py\u001b[0m in \u001b[0;36mwrapped\u001b[0;34m(*args)\u001b[0m\n\u001b[1;32m    261\u001b[0m         \u001b[0;32mtry\u001b[0m\u001b[0;34m:\u001b[0m\u001b[0;34m\u001b[0m\u001b[0;34m\u001b[0m\u001b[0m\n\u001b[1;32m    262\u001b[0m             \u001b[0mbatched_inputs\u001b[0m\u001b[0;34m,\u001b[0m \u001b[0mbatch_size\u001b[0m \u001b[0;34m=\u001b[0m \u001b[0m_create_batched_inputs\u001b[0m\u001b[0;34m(\u001b[0m\u001b[0min_dims\u001b[0m\u001b[0;34m,\u001b[0m \u001b[0margs\u001b[0m\u001b[0;34m,\u001b[0m \u001b[0mvmap_level\u001b[0m\u001b[0;34m,\u001b[0m \u001b[0mfunc\u001b[0m\u001b[0;34m)\u001b[0m\u001b[0;34m\u001b[0m\u001b[0;34m\u001b[0m\u001b[0m\n\u001b[0;32m--> 263\u001b[0;31m             \u001b[0mbatched_outputs\u001b[0m \u001b[0;34m=\u001b[0m \u001b[0mfunc\u001b[0m\u001b[0;34m(\u001b[0m\u001b[0;34m*\u001b[0m\u001b[0mbatched_inputs\u001b[0m\u001b[0;34m)\u001b[0m\u001b[0;34m\u001b[0m\u001b[0;34m\u001b[0m\u001b[0m\n\u001b[0m\u001b[1;32m    264\u001b[0m             \u001b[0m_validate_outputs\u001b[0m\u001b[0;34m(\u001b[0m\u001b[0mbatched_outputs\u001b[0m\u001b[0;34m,\u001b[0m \u001b[0mfunc\u001b[0m\u001b[0;34m)\u001b[0m\u001b[0;34m\u001b[0m\u001b[0;34m\u001b[0m\u001b[0m\n\u001b[1;32m    265\u001b[0m             \u001b[0;32mreturn\u001b[0m \u001b[0m_unwrap_batched\u001b[0m\u001b[0;34m(\u001b[0m\u001b[0mbatched_outputs\u001b[0m\u001b[0;34m,\u001b[0m \u001b[0mout_dims\u001b[0m\u001b[0;34m,\u001b[0m \u001b[0mvmap_level\u001b[0m\u001b[0;34m,\u001b[0m \u001b[0mbatch_size\u001b[0m\u001b[0;34m,\u001b[0m \u001b[0mfunc\u001b[0m\u001b[0;34m)\u001b[0m\u001b[0;34m\u001b[0m\u001b[0;34m\u001b[0m\u001b[0m\n",
      "\u001b[0;32m~/cernbox/mode_muon_tomography/tomopt/utils.py\u001b[0m in \u001b[0;36mget_vjp\u001b[0;34m(v)\u001b[0m\n\u001b[1;32m     23\u001b[0m \u001b[0;34m\u001b[0m\u001b[0m\n\u001b[1;32m     24\u001b[0m     \u001b[0;32mdef\u001b[0m \u001b[0mget_vjp\u001b[0m\u001b[0;34m(\u001b[0m\u001b[0mv\u001b[0m\u001b[0;34m:\u001b[0m \u001b[0mTensor\u001b[0m\u001b[0;34m)\u001b[0m \u001b[0;34m->\u001b[0m \u001b[0mTensor\u001b[0m\u001b[0;34m:\u001b[0m\u001b[0;34m\u001b[0m\u001b[0;34m\u001b[0m\u001b[0m\n\u001b[0;32m---> 25\u001b[0;31m         \u001b[0;32mreturn\u001b[0m \u001b[0mtorch\u001b[0m\u001b[0;34m.\u001b[0m\u001b[0mautograd\u001b[0m\u001b[0;34m.\u001b[0m\u001b[0mgrad\u001b[0m\u001b[0;34m(\u001b[0m\u001b[0mflat_y\u001b[0m\u001b[0;34m,\u001b[0m \u001b[0mx\u001b[0m\u001b[0;34m,\u001b[0m \u001b[0mv\u001b[0m\u001b[0;34m,\u001b[0m \u001b[0mretain_graph\u001b[0m\u001b[0;34m=\u001b[0m\u001b[0;32mTrue\u001b[0m\u001b[0;34m,\u001b[0m \u001b[0mcreate_graph\u001b[0m\u001b[0;34m=\u001b[0m\u001b[0mcreate_graph\u001b[0m\u001b[0;34m,\u001b[0m \u001b[0mallow_unused\u001b[0m\u001b[0;34m=\u001b[0m\u001b[0mallow_unused\u001b[0m\u001b[0;34m)\u001b[0m\u001b[0;34m[\u001b[0m\u001b[0;36m0\u001b[0m\u001b[0;34m]\u001b[0m\u001b[0;34m.\u001b[0m\u001b[0mreshape\u001b[0m\u001b[0;34m(\u001b[0m\u001b[0mx\u001b[0m\u001b[0;34m.\u001b[0m\u001b[0mshape\u001b[0m\u001b[0;34m)\u001b[0m\u001b[0;34m\u001b[0m\u001b[0;34m\u001b[0m\u001b[0m\n\u001b[0m\u001b[1;32m     26\u001b[0m \u001b[0;34m\u001b[0m\u001b[0m\n\u001b[1;32m     27\u001b[0m     \u001b[0;32mreturn\u001b[0m \u001b[0mvmap\u001b[0m\u001b[0;34m(\u001b[0m\u001b[0mget_vjp\u001b[0m\u001b[0;34m)\u001b[0m\u001b[0;34m(\u001b[0m\u001b[0mtorch\u001b[0m\u001b[0;34m.\u001b[0m\u001b[0meye\u001b[0m\u001b[0;34m(\u001b[0m\u001b[0mlen\u001b[0m\u001b[0;34m(\u001b[0m\u001b[0mflat_y\u001b[0m\u001b[0;34m)\u001b[0m\u001b[0;34m,\u001b[0m \u001b[0mdevice\u001b[0m\u001b[0;34m=\u001b[0m\u001b[0my\u001b[0m\u001b[0;34m.\u001b[0m\u001b[0mdevice\u001b[0m\u001b[0;34m)\u001b[0m\u001b[0;34m)\u001b[0m\u001b[0;34m.\u001b[0m\u001b[0mreshape\u001b[0m\u001b[0;34m(\u001b[0m\u001b[0my\u001b[0m\u001b[0;34m.\u001b[0m\u001b[0mshape\u001b[0m \u001b[0;34m+\u001b[0m \u001b[0mx\u001b[0m\u001b[0;34m.\u001b[0m\u001b[0mshape\u001b[0m\u001b[0;34m)\u001b[0m\u001b[0;34m\u001b[0m\u001b[0;34m\u001b[0m\u001b[0m\n",
      "\u001b[0;32m~/anaconda3/envs/tomopt/lib/python3.8/site-packages/torch/autograd/__init__.py\u001b[0m in \u001b[0;36mgrad\u001b[0;34m(outputs, inputs, grad_outputs, retain_graph, create_graph, only_inputs, allow_unused)\u001b[0m\n\u001b[1;32m    232\u001b[0m         \u001b[0mretain_graph\u001b[0m \u001b[0;34m=\u001b[0m \u001b[0mcreate_graph\u001b[0m\u001b[0;34m\u001b[0m\u001b[0;34m\u001b[0m\u001b[0m\n\u001b[1;32m    233\u001b[0m \u001b[0;34m\u001b[0m\u001b[0m\n\u001b[0;32m--> 234\u001b[0;31m     return Variable._execution_engine.run_backward(\n\u001b[0m\u001b[1;32m    235\u001b[0m         \u001b[0moutputs\u001b[0m\u001b[0;34m,\u001b[0m \u001b[0mgrad_outputs_\u001b[0m\u001b[0;34m,\u001b[0m \u001b[0mretain_graph\u001b[0m\u001b[0;34m,\u001b[0m \u001b[0mcreate_graph\u001b[0m\u001b[0;34m,\u001b[0m\u001b[0;34m\u001b[0m\u001b[0;34m\u001b[0m\u001b[0m\n\u001b[1;32m    236\u001b[0m         inputs, allow_unused, accumulate_grad=False)\n",
      "\u001b[0;31mKeyboardInterrupt\u001b[0m: "
     ]
    }
   ],
   "source": [
    "lr = Tensor([[[0.1,0.1,100,10]]])\n",
    "track = torch.ones(len(hits),1,4, device=hits.device, requires_grad=True)/2\n",
    "\n",
    "for i in progress_bar(range(100)):  # Newton optimise nuisances\n",
    "    nll = get_nll(hits, uncs2, track)\n",
    "    grad = jacobian(nll, track, create_graph=True).sum((2,3))\n",
    "    hesse = jacobian(grad, track, create_graph=True).sum((3,4))\n",
    "    step = lr*(grad.unsqueeze(1)@hesse.inverse()).squeeze(1)\n",
    "    track = track-step\n",
    "    if i > 0 and i % 10 == 0:\n",
    "            lr = lr / 2\n",
    "    print(nll.mean(0).data, track.mean(0).data)"
   ]
  },
  {
   "cell_type": "code",
   "execution_count": 64,
   "id": "fc17660f",
   "metadata": {},
   "outputs": [
    {
     "name": "stdout",
     "output_type": "stream",
     "text": [
      "CPU times: user 7.71 s, sys: 931 ms, total: 8.65 s\n",
      "Wall time: 4.38 s\n"
     ]
    }
   ],
   "source": [
    "%%time\n",
    "jac = jacobian(track, volume.get_detectors()[0].panels[0].phi)"
   ]
  },
  {
   "cell_type": "code",
   "execution_count": 62,
   "id": "e4dc346c",
   "metadata": {},
   "outputs": [
    {
     "data": {
      "text/plain": [
       "torch.Size([10, 1, 4])"
      ]
     },
     "execution_count": 62,
     "metadata": {},
     "output_type": "execute_result"
    }
   ],
   "source": [
    "jac.shape"
   ]
  },
  {
   "cell_type": "markdown",
   "id": "a0492c9f",
   "metadata": {},
   "source": [
    "# GD"
   ]
  },
  {
   "cell_type": "code",
   "execution_count": 42,
   "id": "c1b5fdb8",
   "metadata": {},
   "outputs": [],
   "source": [
    "lr = Tensor([[[0.1,0.1,100,10]]])\n",
    "track = torch.ones(len(hits),1,4, device=hits.device, requires_grad=True)/2\n",
    "nll = get_nll(hits, uncs2, track)"
   ]
  },
  {
   "cell_type": "code",
   "execution_count": 55,
   "id": "d88444fe",
   "metadata": {},
   "outputs": [
    {
     "data": {
      "text/html": [
       "\n",
       "    <div>\n",
       "        <style>\n",
       "            /* Turns off some styling */\n",
       "            progress {\n",
       "                /* gets rid of default border in Firefox and Opera. */\n",
       "                border: none;\n",
       "                /* Needs to be in here for Safari polyfill so background images work as expected. */\n",
       "                background-size: auto;\n",
       "            }\n",
       "            .progress-bar-interrupted, .progress-bar-interrupted::-webkit-progress-bar {\n",
       "                background: #F44336;\n",
       "            }\n",
       "        </style>\n",
       "      <progress value='100' class='' max='100' style='width:300px; height:20px; vertical-align: middle;'></progress>\n",
       "      100.00% [100/100 00:00<00:00]\n",
       "    </div>\n",
       "    "
      ],
      "text/plain": [
       "<IPython.core.display.HTML object>"
      ]
     },
     "metadata": {},
     "output_type": "display_data"
    },
    {
     "name": "stdout",
     "output_type": "stream",
     "text": [
      "tensor([567713.7500]) tensor([[1401283.0000,  317070.5312, -204165.4531, 1678142.3750]]) tensor([[0.3599, 0.4683, 0.5204, 0.3322]])\n",
      "tensor([110723.5391]) tensor([[455298.6250, 173513.0000,  -5944.2505, 478935.1875]]) tensor([[0.3143, 0.4509, 0.5210, 0.2843]])\n",
      "tensor([53187.8008]) tensor([[184512.6406, 124359.8516,  17791.1094, 210955.7656]]) tensor([[0.2959, 0.4385, 0.5192, 0.2632]])\n",
      "tensor([35892.2422]) tensor([[ 71192.4688,  98165.2812,  21492.1582, 100994.7734]]) tensor([[0.2888, 0.4287, 0.5171, 0.2531]])\n",
      "tensor([27552.3906]) tensor([[22116.1680, 81998.2500, 20489.3652, 51755.2617]]) tensor([[0.2866, 0.4205, 0.5150, 0.2479]])\n",
      "tensor([22043.0176]) tensor([[ 1134.9061, 70754.4766, 18359.3418, 28855.1016]]) tensor([[0.2864, 0.4134, 0.5132, 0.2450]])\n",
      "tensor([17893.1621]) tensor([[-7373.6738, 62160.6992, 16103.8398, 17833.7930]]) tensor([[0.2872, 0.4072, 0.5116, 0.2433]])\n",
      "tensor([14632.6279]) tensor([[-10364.4785,  55148.2266,  14018.3174,  12284.0811]]) tensor([[0.2882, 0.4017, 0.5102, 0.2420]])\n",
      "tensor([12037.8496]) tensor([[-10961.5059,  49188.4688,  12177.2021,   9305.3008]]) tensor([[0.2893, 0.3968, 0.5090, 0.2411]])\n",
      "tensor([9964.2012]) tensor([[-10567.9863,  44002.1016,  10581.0439,   7566.3018]]) tensor([[0.2904, 0.3924, 0.5079, 0.2403]])\n",
      "tensor([8304.1602]) tensor([[-9809.0127, 39428.0938,  9206.5322,  6448.4424]]) tensor([[0.2914, 0.3884, 0.5070, 0.2397]])\n",
      "tensor([6973.9424]) tensor([[-8957.5303, 35363.7266,  8024.7080,  5659.4507]]) tensor([[0.2918, 0.3867, 0.5066, 0.2394]])\n",
      "tensor([6425.9233]) tensor([[-8541.3047, 33549.5195,  7511.4751,  5354.0337]]) tensor([[0.2922, 0.3850, 0.5062, 0.2391]])\n",
      "tensor([5933.5889]) tensor([[-8141.0171, 31831.1074,  7034.1880,  5079.3496]]) tensor([[0.2926, 0.3834, 0.5059, 0.2389]])\n",
      "tensor([5491.2217]) tensor([[-7758.3574, 30202.7871,  6590.0483,  4830.3252]]) tensor([[0.2930, 0.3819, 0.5055, 0.2386]])\n",
      "tensor([5093.7036]) tensor([[-7394.0796, 28659.3184,  6176.4648,  4603.0435]]) tensor([[0.2934, 0.3804, 0.5052, 0.2384]])\n",
      "tensor([4736.4429]) tensor([[-7048.3701, 27195.8516,  5791.0776,  4394.4067]]) tensor([[0.2937, 0.3791, 0.5049, 0.2382]])\n",
      "tensor([4415.3242]) tensor([[-6720.9941, 25807.9121,  5431.7139,  4201.9492]]) tensor([[0.2941, 0.3778, 0.5047, 0.2380]])\n",
      "tensor([4126.6572]) tensor([[-6411.4580, 24491.3379,  5096.3945,  4023.6899]]) tensor([[0.2944, 0.3766, 0.5044, 0.2378]])\n",
      "tensor([3867.1343]) tensor([[-6119.0918, 23242.2070,  4783.2949,  3858.0010]]) tensor([[0.2947, 0.3754, 0.5042, 0.2376]])\n",
      "tensor([3633.7849]) tensor([[-5843.0674, 22056.8867,  4490.7441,  3703.6123]]) tensor([[0.2950, 0.3743, 0.5039, 0.2374]])\n",
      "tensor([3423.9456]) tensor([[-5582.5894, 20931.9395,  4217.2158,  3559.3696]]) tensor([[0.2951, 0.3738, 0.5038, 0.2373]])\n",
      "tensor([3328.3350]) tensor([[-5459.6362, 20398.0059,  4088.8770,  3491.4434]]) tensor([[0.2953, 0.3733, 0.5037, 0.2372]])\n",
      "tensor([3237.5959]) tensor([[-5340.1392, 19877.6133,  3964.6594,  3425.6794]]) tensor([[0.2954, 0.3728, 0.5036, 0.2371]])\n",
      "tensor([3151.4795]) tensor([[-5223.9980, 19370.4141,  3844.4175,  3361.9929]]) tensor([[0.2955, 0.3723, 0.5035, 0.2371]])\n",
      "tensor([3069.7441]) tensor([[-5111.1021, 18876.0605,  3727.9998,  3300.3049]]) tensor([[0.2957, 0.3718, 0.5034, 0.2370]])\n",
      "tensor([2992.1672]) tensor([[-5001.4014, 18394.2168,  3615.2825,  3240.4858]]) tensor([[0.2958, 0.3714, 0.5034, 0.2369]])\n",
      "tensor([2918.5332]) tensor([[-4894.7881, 17924.5488,  3506.1226,  3182.4763]]) tensor([[0.2959, 0.3709, 0.5033, 0.2368]])\n",
      "tensor([2848.6416]) tensor([[-4791.1470, 17466.7383,  3400.3926,  3126.2185]]) tensor([[0.2960, 0.3705, 0.5032, 0.2367]])\n",
      "tensor([2782.2988]) tensor([[-4690.4067, 17020.4824,  3297.9746,  3071.6375]]) tensor([[0.2962, 0.3700, 0.5031, 0.2367]])\n",
      "tensor([2719.3232]) tensor([[-4592.4766, 16585.4746,  3198.7480,  3018.6631]]) tensor([[0.2963, 0.3696, 0.5030, 0.2366]])\n",
      "tensor([2659.5410]) tensor([[-4497.2749, 16161.4277,  3102.6008,  2967.2358]]) tensor([[0.2963, 0.3694, 0.5030, 0.2366]])\n",
      "tensor([2630.9810]) tensor([[-4450.9810, 15954.7334,  3055.9565,  2942.2153]]) tensor([[0.2964, 0.3692, 0.5029, 0.2365]])\n",
      "tensor([2603.1487]) tensor([[-4405.3149, 15750.6475,  3010.0303,  2917.5715]]) tensor([[0.2964, 0.3690, 0.5029, 0.2365]])\n",
      "tensor([2576.0264]) tensor([[-4360.3086, 15549.1133,  2964.8149,  2893.2502]]) tensor([[0.2965, 0.3688, 0.5029, 0.2364]])\n",
      "tensor([2549.5952]) tensor([[-4315.9165, 15350.1328,  2920.2976,  2869.2969]]) tensor([[0.2965, 0.3686, 0.5028, 0.2364]])\n",
      "tensor([2523.8367]) tensor([[-4272.1289, 15153.6396,  2876.4575,  2845.6895]]) tensor([[0.2966, 0.3685, 0.5028, 0.2364]])\n",
      "tensor([2498.7346]) tensor([[-4228.9375, 14959.6133,  2833.2900,  2822.4221]]) tensor([[0.2966, 0.3683, 0.5028, 0.2363]])\n",
      "tensor([2474.2715]) tensor([[-4186.3628, 14768.0352,  2790.7866,  2799.4724]]) tensor([[0.2967, 0.3681, 0.5027, 0.2363]])\n",
      "tensor([2450.4307]) tensor([[-4144.3535, 14578.8477,  2748.9260,  2776.8608]]) tensor([[0.2968, 0.3679, 0.5027, 0.2363]])\n",
      "tensor([2427.1960]) tensor([[-4102.9365, 14392.0508,  2707.7097,  2754.5571]]) tensor([[0.2968, 0.3677, 0.5027, 0.2362]])\n",
      "tensor([2404.5522]) tensor([[-4062.0684, 14207.5879,  2667.1125,  2732.5815]]) tensor([[0.2968, 0.3676, 0.5026, 0.2362]])\n",
      "tensor([2393.4834]) tensor([[-4041.9150, 14116.5146,  2647.1135,  2721.7363]]) tensor([[0.2969, 0.3675, 0.5026, 0.2362]])\n",
      "tensor([2382.5544]) tensor([[-4021.8970, 14026.0098,  2627.2642,  2710.9688]]) tensor([[0.2969, 0.3675, 0.5026, 0.2362]])\n",
      "tensor([2371.7651]) tensor([[-4002.0186, 13936.0762,  2607.5674,  2700.2725]]) tensor([[0.2969, 0.3674, 0.5026, 0.2362]])\n",
      "tensor([2361.1135]) tensor([[-3982.2810, 13846.7051,  2588.0188,  2689.6470]]) tensor([[0.2969, 0.3673, 0.5026, 0.2361]])\n",
      "tensor([2350.5977]) tensor([[-3962.6760, 13757.8887,  2568.6174,  2679.0957]]) tensor([[0.2970, 0.3672, 0.5026, 0.2361]])\n",
      "tensor([2340.2158]) tensor([[-3943.2065, 13669.6338,  2549.3628,  2668.6169]]) tensor([[0.2970, 0.3671, 0.5025, 0.2361]])\n",
      "tensor([2329.9658]) tensor([[-3923.8557, 13581.9336,  2530.2507,  2658.2295]]) tensor([[0.2970, 0.3670, 0.5025, 0.2361]])\n",
      "tensor([2319.8467]) tensor([[-3904.6492, 13494.7783,  2511.2859,  2647.8970]]) tensor([[0.2970, 0.3669, 0.5025, 0.2361]])\n",
      "tensor([2309.8560]) tensor([[-3885.5740, 13408.1699,  2492.4634,  2637.6350]]) tensor([[0.2971, 0.3669, 0.5025, 0.2361]])\n",
      "tensor([2299.9924]) tensor([[-3866.6174, 13322.1104,  2473.7834,  2627.4617]]) tensor([[0.2971, 0.3668, 0.5025, 0.2361]])\n",
      "tensor([2295.1160]) tensor([[-3857.2122, 13279.3516,  2464.5110,  2622.3960]]) tensor([[0.2971, 0.3668, 0.5025, 0.2360]])\n",
      "tensor([2290.2700]) tensor([[-3847.8250, 13236.7236,  2455.2734,  2617.3608]]) tensor([[0.2971, 0.3667, 0.5025, 0.2360]])\n",
      "tensor([2285.4551]) tensor([[-3838.4802, 13194.2236,  2446.0691,  2612.3330]]) tensor([[0.2971, 0.3667, 0.5025, 0.2360]])\n",
      "tensor([2280.6711]) tensor([[-3829.1528, 13151.8623,  2436.8999,  2607.3381]]) tensor([[0.2971, 0.3667, 0.5025, 0.2360]])\n",
      "tensor([2275.9177]) tensor([[-3819.8779, 13109.6289,  2427.7666,  2602.3374]]) tensor([[0.2971, 0.3666, 0.5025, 0.2360]])\n",
      "tensor([2271.1943]) tensor([[-3810.6250, 13067.5322,  2418.6660,  2597.3652]]) tensor([[0.2971, 0.3666, 0.5024, 0.2360]])\n",
      "tensor([2266.5015]) tensor([[-3801.4092, 13025.5762,  2409.6028,  2592.4089]]) tensor([[0.2971, 0.3665, 0.5024, 0.2360]])\n",
      "tensor([2261.8379]) tensor([[-3792.2065, 12983.7383,  2400.5684,  2587.4814]]) tensor([[0.2972, 0.3665, 0.5024, 0.2360]])\n",
      "tensor([2257.2043]) tensor([[-3783.0527, 12942.0283,  2391.5693,  2582.5532]]) tensor([[0.2972, 0.3664, 0.5024, 0.2360]])\n",
      "tensor([2252.6001]) tensor([[-3773.9277, 12900.4590,  2382.6062,  2577.6458]]) tensor([[0.2972, 0.3664, 0.5024, 0.2360]])\n",
      "tensor([2250.3110]) tensor([[-3769.3774, 12879.7354,  2378.1399,  2575.2039]]) tensor([[0.2972, 0.3664, 0.5024, 0.2360]])\n",
      "tensor([2248.0286]) tensor([[-3764.8328, 12859.0537,  2373.6838,  2572.7690]]) tensor([[0.2972, 0.3664, 0.5024, 0.2360]])\n",
      "tensor([2245.7537]) tensor([[-3760.3037, 12838.3936,  2369.2363,  2570.3269]]) tensor([[0.2972, 0.3664, 0.5024, 0.2360]])\n",
      "tensor([2243.4861]) tensor([[-3755.7656, 12817.7695,  2364.7915,  2567.9089]]) tensor([[0.2972, 0.3663, 0.5024, 0.2360]])\n",
      "tensor([2241.2261]) tensor([[-3751.2581, 12797.1797,  2360.3596,  2565.4722]]) tensor([[0.2972, 0.3663, 0.5024, 0.2360]])\n",
      "tensor([2238.9734]) tensor([[-3746.7424, 12776.6191,  2355.9346,  2563.0532]]) tensor([[0.2972, 0.3663, 0.5024, 0.2360]])\n",
      "tensor([2236.7273]) tensor([[-3742.2356, 12756.0947,  2351.5203,  2560.6404]]) tensor([[0.2972, 0.3663, 0.5024, 0.2359]])\n",
      "tensor([2234.4885]) tensor([[-3737.7334, 12735.5986,  2347.1106,  2558.2322]]) tensor([[0.2972, 0.3663, 0.5024, 0.2359]])\n",
      "tensor([2232.2568]) tensor([[-3733.2646, 12715.1299,  2342.7129,  2555.8000]]) tensor([[0.2972, 0.3662, 0.5024, 0.2359]])\n",
      "tensor([2230.0322]) tensor([[-3728.7788, 12694.7002,  2338.3208,  2553.3987]]) tensor([[0.2972, 0.3662, 0.5024, 0.2359]])\n",
      "tensor([2228.9231]) tensor([[-3726.5266, 12684.5039,  2336.1272,  2552.2148]]) tensor([[0.2972, 0.3662, 0.5024, 0.2359]])\n",
      "tensor([2227.8162]) tensor([[-3724.3047, 12674.3096,  2333.9387,  2551.0012]]) tensor([[0.2972, 0.3662, 0.5024, 0.2359]])\n",
      "tensor([2226.7104]) tensor([[-3722.0645, 12664.1279,  2331.7493,  2549.8127]]) tensor([[0.2972, 0.3662, 0.5024, 0.2359]])\n",
      "tensor([2225.6062]) tensor([[-3719.8369, 12653.9521,  2329.5652,  2548.6096]]) tensor([[0.2972, 0.3662, 0.5024, 0.2359]])\n"
     ]
    },
    {
     "name": "stdout",
     "output_type": "stream",
     "text": [
      "tensor([2224.5042]) tensor([[-3717.6082, 12643.7812,  2327.3804,  2547.4131]]) tensor([[0.2972, 0.3662, 0.5024, 0.2359]])\n",
      "tensor([2223.4038]) tensor([[-3715.3765, 12633.6240,  2325.1982,  2546.2217]]) tensor([[0.2973, 0.3662, 0.5024, 0.2359]])\n",
      "tensor([2222.3054]) tensor([[-3713.1572, 12623.4697,  2323.0203,  2545.0198]]) tensor([[0.2973, 0.3662, 0.5024, 0.2359]])\n",
      "tensor([2221.2083]) tensor([[-3710.9343, 12613.3291,  2320.8433,  2543.8274]]) tensor([[0.2973, 0.3662, 0.5024, 0.2359]])\n",
      "tensor([2220.1135]) tensor([[-3708.7078, 12603.1963,  2318.6675,  2542.6396]]) tensor([[0.2973, 0.3662, 0.5024, 0.2359]])\n",
      "tensor([2219.0203]) tensor([[-3706.4990, 12593.0586,  2316.4941,  2541.4341]]) tensor([[0.2973, 0.3661, 0.5024, 0.2359]])\n",
      "tensor([2218.4744]) tensor([[-3705.3843, 12588.0029,  2315.4087,  2540.8462]]) tensor([[0.2973, 0.3661, 0.5024, 0.2359]])\n",
      "tensor([2217.9287]) tensor([[-3704.2844, 12582.9414,  2314.3245,  2540.2427]]) tensor([[0.2973, 0.3661, 0.5024, 0.2359]])\n",
      "tensor([2217.3838]) tensor([[-3703.1821, 12577.8877,  2313.2400,  2539.6438]]) tensor([[0.2973, 0.3661, 0.5024, 0.2359]])\n",
      "tensor([2216.8391]) tensor([[-3702.0745, 12572.8301,  2312.1550,  2539.0488]]) tensor([[0.2973, 0.3661, 0.5024, 0.2359]])\n",
      "tensor([2216.2954]) tensor([[-3700.9612, 12567.7764,  2311.0706,  2538.4585]]) tensor([[0.2973, 0.3661, 0.5024, 0.2359]])\n",
      "tensor([2215.7510]) tensor([[-3699.8438, 12562.7266,  2309.9863,  2537.8748]]) tensor([[0.2973, 0.3661, 0.5024, 0.2359]])\n",
      "tensor([2215.2078]) tensor([[-3698.7393, 12557.6797,  2308.9028,  2537.2800]]) tensor([[0.2973, 0.3661, 0.5024, 0.2359]])\n",
      "tensor([2214.6650]) tensor([[-3697.6265, 12552.6309,  2307.8201,  2536.6929]]) tensor([[0.2973, 0.3661, 0.5024, 0.2359]])\n",
      "tensor([2214.1228]) tensor([[-3696.5378, 12547.5947,  2306.7422,  2536.0876]]) tensor([[0.2973, 0.3661, 0.5024, 0.2359]])\n",
      "tensor([2213.5806]) tensor([[-3695.4211, 12542.5449,  2305.6577,  2535.5042]]) tensor([[0.2973, 0.3661, 0.5024, 0.2359]])\n",
      "tensor([2213.3096]) tensor([[-3694.8735, 12540.0254,  2305.1169,  2535.2034]]) tensor([[0.2973, 0.3661, 0.5024, 0.2359]])\n",
      "tensor([2213.0391]) tensor([[-3694.3218, 12537.5078,  2304.5791,  2534.9055]]) tensor([[0.2973, 0.3661, 0.5024, 0.2359]])\n",
      "tensor([2212.7681]) tensor([[-3693.7742, 12534.9863,  2304.0378,  2534.6030]]) tensor([[0.2973, 0.3661, 0.5024, 0.2359]])\n",
      "tensor([2212.4978]) tensor([[-3693.2178, 12532.4775,  2303.5000,  2534.3171]]) tensor([[0.2973, 0.3661, 0.5024, 0.2359]])\n",
      "tensor([2212.2273]) tensor([[-3692.6611, 12529.9541,  2302.9583,  2534.0227]]) tensor([[0.2973, 0.3661, 0.5024, 0.2359]])\n",
      "tensor([2211.9570]) tensor([[-3692.1206, 12527.4385,  2302.4211,  2533.7168]]) tensor([[0.2973, 0.3661, 0.5024, 0.2359]])\n",
      "tensor([2211.6868]) tensor([[-3691.5732, 12524.9209,  2301.8833,  2533.4160]]) tensor([[0.2973, 0.3661, 0.5024, 0.2359]])\n",
      "tensor([2211.4170]) tensor([[-3691.0122, 12522.4111,  2301.3433,  2533.1318]]) tensor([[0.2973, 0.3661, 0.5024, 0.2359]])\n"
     ]
    }
   ],
   "source": [
    "lr = 1e-7\n",
    "track = torch.ones(len(hits),1,4, device=hits.device, requires_grad=True)/2\n",
    "\n",
    "for i in progress_bar(range(100)):  # Newton optimise nuisances\n",
    "    nll = get_nll(hits, uncs2, track)\n",
    "    grad = jacobian(nll, track, create_graph=True).sum((2,3))\n",
    "    step = lr*grad\n",
    "    track = track-step\n",
    "    if i > 0 and i % 10 == 0:\n",
    "            lr = lr / 2\n",
    "    print(nll.mean(0).data, grad.mean(0).data, track.mean(0).data)"
   ]
  },
  {
   "cell_type": "code",
   "execution_count": null,
   "id": "22f4b161",
   "metadata": {},
   "outputs": [],
   "source": [
    "%%time\n",
    "jac = jacobian(track, volume.get_detectors()[0].panels[0].phi)"
   ]
  },
  {
   "cell_type": "code",
   "execution_count": 62,
   "id": "1ad2fdc3",
   "metadata": {},
   "outputs": [
    {
     "data": {
      "text/plain": [
       "torch.Size([10, 1, 4])"
      ]
     },
     "execution_count": 62,
     "metadata": {},
     "output_type": "execute_result"
    }
   ],
   "source": [
    "jac.shape"
   ]
  }
 ],
 "metadata": {
  "kernelspec": {
   "display_name": "Python [conda env:tomopt]",
   "language": "python",
   "name": "conda-env-tomopt-py"
  },
  "language_info": {
   "codemirror_mode": {
    "name": "ipython",
    "version": 3
   },
   "file_extension": ".py",
   "mimetype": "text/x-python",
   "name": "python",
   "nbconvert_exporter": "python",
   "pygments_lexer": "ipython3",
   "version": "3.8.0"
  },
  "toc": {
   "base_numbering": 1,
   "nav_menu": {},
   "number_sections": true,
   "sideBar": true,
   "skip_h1_title": false,
   "title_cell": "Table of Contents",
   "title_sidebar": "Contents",
   "toc_cell": false,
   "toc_position": {},
   "toc_section_display": true,
   "toc_window_display": false
  }
 },
 "nbformat": 4,
 "nbformat_minor": 5
}
