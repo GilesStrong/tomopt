{
 "cells": [
  {
   "cell_type": "code",
   "execution_count": 1,
   "id": "d27fb347",
   "metadata": {},
   "outputs": [],
   "source": [
    "%matplotlib inline\n",
    "%reload_ext autoreload\n",
    "%autoreload 2"
   ]
  },
  {
   "cell_type": "code",
   "execution_count": 2,
   "id": "59aaf2e5",
   "metadata": {},
   "outputs": [],
   "source": [
    "from typing import *\n",
    "import numpy as np\n",
    "from functools import partial\n",
    "from fastprogress import progress_bar\n",
    "\n",
    "import torch\n",
    "from torch import Tensor, nn\n",
    "import torch.nn.functional as F\n",
    "\n",
    "from tomopt.volume import *\n",
    "from tomopt.muon import *\n",
    "from tomopt.inference import *\n",
    "from tomopt.optimisation import *\n",
    "from tomopt.core import *\n",
    "from tomopt.utils import *\n",
    "from tomopt.plotting import *\n",
    "from tomopt.benchmarks.phi_detector import *\n",
    "\n",
    "import seaborn as sns"
   ]
  },
  {
   "cell_type": "code",
   "execution_count": 3,
   "id": "f34c0e0c",
   "metadata": {},
   "outputs": [],
   "source": [
    "DEVICE = torch.device(\"cpu\")"
   ]
  },
  {
   "cell_type": "code",
   "execution_count": 4,
   "id": "0aa9fb7a",
   "metadata": {},
   "outputs": [],
   "source": [
    "def get_layers():\n",
    "    layers = []\n",
    "    lwh = Tensor([1,1,1])\n",
    "    size = 0.1\n",
    "    init_eff = 0.8\n",
    "    init_res = 1000\n",
    "    n_panels = 4\n",
    "    layers.append(PanelDetectorLayer(pos='above', lw=lwh[:2], z=1, size=2*size,\n",
    "                                     panels=[PhiDetectorPanel(init_phi=torch.rand(1)*2*torch.pi, res=init_res, eff=init_eff,\n",
    "                                                              init_z=1-(i*(2*size)/n_panels), device=DEVICE) for i in range(n_panels)]))\n",
    "    for z in [0.8,0.7,0.6,0.5,0.4,0.3]:\n",
    "        layers.append(PassiveLayer(lw=lwh[:2], z=z, size=size, device=DEVICE))\n",
    "    layers.append(PanelDetectorLayer(pos='below', lw=lwh[:2], z=0.2, size=2*size,\n",
    "                                     panels=[PhiDetectorPanel(init_phi=torch.rand(1)*2*torch.pi, res=init_res, eff=init_eff,\n",
    "                                                      init_z=0.2-(i*(2*size)/n_panels), device=DEVICE) for i in range(n_panels)]))\n",
    "\n",
    "    return nn.ModuleList(layers) "
   ]
  },
  {
   "cell_type": "code",
   "execution_count": 5,
   "id": "074037b0",
   "metadata": {},
   "outputs": [],
   "source": [
    "volume = Volume(get_layers())"
   ]
  },
  {
   "cell_type": "code",
   "execution_count": 6,
   "id": "c464de17",
   "metadata": {},
   "outputs": [],
   "source": [
    "gen = MuonGenerator2016.from_volume(volume, fixed_mom=None)"
   ]
  },
  {
   "cell_type": "code",
   "execution_count": 7,
   "id": "79aae125",
   "metadata": {},
   "outputs": [],
   "source": [
    "mu = MuonBatch(MuonResampler().resample(gen(10), volume, gen), init_z=1)"
   ]
  },
  {
   "cell_type": "code",
   "execution_count": 8,
   "id": "b7beba95",
   "metadata": {},
   "outputs": [],
   "source": [
    "h = volume.get_detectors()[0].panels[0].get_hits(mu)"
   ]
  },
  {
   "cell_type": "code",
   "execution_count": 9,
   "id": "3efd498b",
   "metadata": {},
   "outputs": [
    {
     "data": {
      "text/plain": [
       "tensor([[ 0.1744],\n",
       "        [ 0.1790],\n",
       "        [ 0.1156],\n",
       "        [ 0.0766],\n",
       "        [-0.0966],\n",
       "        [ 0.2000],\n",
       "        [ 0.7836],\n",
       "        [-0.1940],\n",
       "        [ 0.5907],\n",
       "        [ 0.5078]])"
      ]
     },
     "execution_count": 9,
     "metadata": {},
     "output_type": "execute_result"
    }
   ],
   "source": [
    "jacobian(h['reco_h'], volume.get_detectors()[0].panels[0].phi)"
   ]
  },
  {
   "cell_type": "code",
   "execution_count": 10,
   "id": "5af2ef01",
   "metadata": {},
   "outputs": [
    {
     "data": {
      "text/plain": [
       "defaultdict(<function tomopt.muon.muon_batch.MuonBatch.__init__.<locals>.<lambda>()>,\n",
       "            {})"
      ]
     },
     "execution_count": 10,
     "metadata": {},
     "output_type": "execute_result"
    }
   ],
   "source": [
    "mu._hits"
   ]
  },
  {
   "cell_type": "code",
   "execution_count": 11,
   "id": "777f72ab",
   "metadata": {},
   "outputs": [],
   "source": [
    "mu.append_hits(volume.get_detectors()[0].panels[0].get_hits(mu), 'above')"
   ]
  },
  {
   "cell_type": "code",
   "execution_count": 12,
   "id": "ae6c2225",
   "metadata": {},
   "outputs": [
    {
     "data": {
      "text/plain": [
       "[tensor([[-0.2639],\n",
       "         [-0.6542],\n",
       "         [-0.8418],\n",
       "         [-0.2200],\n",
       "         [-0.3870],\n",
       "         [-1.1488],\n",
       "         [-0.7932],\n",
       "         [-0.8816],\n",
       "         [-0.7929],\n",
       "         [-0.0874]], grad_fn=<AddBackward0>)]"
      ]
     },
     "execution_count": 12,
     "metadata": {},
     "output_type": "execute_result"
    }
   ],
   "source": [
    "h = mu._hits['above']['reco_h'];h"
   ]
  },
  {
   "cell_type": "code",
   "execution_count": 13,
   "id": "1eb5d8fd",
   "metadata": {},
   "outputs": [
    {
     "data": {
      "text/plain": [
       "tensor([[-0.2639],\n",
       "        [-0.6542],\n",
       "        [-0.8418],\n",
       "        [-0.2200],\n",
       "        [-0.3870],\n",
       "        [-1.1488],\n",
       "        [-0.7932],\n",
       "        [-0.8816],\n",
       "        [-0.7929],\n",
       "        [-0.0874]], grad_fn=<AddBackward0>)"
      ]
     },
     "execution_count": 13,
     "metadata": {},
     "output_type": "execute_result"
    }
   ],
   "source": [
    "h[0]"
   ]
  },
  {
   "cell_type": "code",
   "execution_count": 14,
   "id": "2abe8dc8",
   "metadata": {},
   "outputs": [
    {
     "data": {
      "text/plain": [
       "tensor([[ 0.1744],\n",
       "        [ 0.1790],\n",
       "        [ 0.1156],\n",
       "        [ 0.0766],\n",
       "        [-0.0966],\n",
       "        [ 0.2000],\n",
       "        [ 0.7836],\n",
       "        [-0.1940],\n",
       "        [ 0.5907],\n",
       "        [ 0.5078]])"
      ]
     },
     "execution_count": 14,
     "metadata": {},
     "output_type": "execute_result"
    }
   ],
   "source": [
    "jacobian(h[0], volume.get_detectors()[0].panels[0].phi)"
   ]
  },
  {
   "cell_type": "code",
   "execution_count": 15,
   "id": "9a520182",
   "metadata": {},
   "outputs": [],
   "source": [
    "volume.get_detectors()[0].scatter_and_propagate(mu, 0.1)"
   ]
  },
  {
   "cell_type": "code",
   "execution_count": 16,
   "id": "b08d7e3e",
   "metadata": {},
   "outputs": [
    {
     "data": {
      "text/plain": [
       "tensor([[ 0.1744],\n",
       "        [ 0.1790],\n",
       "        [ 0.1156],\n",
       "        [ 0.0766],\n",
       "        [-0.0966],\n",
       "        [ 0.2000],\n",
       "        [ 0.7836],\n",
       "        [-0.1940],\n",
       "        [ 0.5907],\n",
       "        [ 0.5078]])"
      ]
     },
     "execution_count": 16,
     "metadata": {},
     "output_type": "execute_result"
    }
   ],
   "source": [
    "jacobian(h[0], volume.get_detectors()[0].panels[0].phi)"
   ]
  },
  {
   "cell_type": "code",
   "execution_count": 17,
   "id": "075b78e5",
   "metadata": {},
   "outputs": [],
   "source": [
    "mu.append_hits(volume.get_detectors()[0].panels[1].get_hits(mu), 'above')"
   ]
  },
  {
   "cell_type": "code",
   "execution_count": 18,
   "id": "32f9d44e",
   "metadata": {},
   "outputs": [
    {
     "data": {
      "text/plain": [
       "[tensor([[-0.2639],\n",
       "         [-0.6542],\n",
       "         [-0.8418],\n",
       "         [-0.2200],\n",
       "         [-0.3870],\n",
       "         [-1.1488],\n",
       "         [-0.7932],\n",
       "         [-0.8816],\n",
       "         [-0.7929],\n",
       "         [-0.0874]], grad_fn=<AddBackward0>),\n",
       " tensor([[-0.2238],\n",
       "         [-0.1954],\n",
       "         [-0.1823],\n",
       "         [-0.0754],\n",
       "         [ 0.0678],\n",
       "         [-0.2371],\n",
       "         [-0.7031],\n",
       "         [ 0.1537],\n",
       "         [-0.5588],\n",
       "         [-0.4786]], grad_fn=<AddBackward0>)]"
      ]
     },
     "execution_count": 18,
     "metadata": {},
     "output_type": "execute_result"
    }
   ],
   "source": [
    "h = mu._hits['above']['reco_h'];h"
   ]
  },
  {
   "cell_type": "code",
   "execution_count": 19,
   "id": "1ddcf6ca",
   "metadata": {
    "scrolled": false
   },
   "outputs": [
    {
     "data": {
      "text/plain": [
       "tensor([[ 0.1744],\n",
       "        [ 0.1790],\n",
       "        [ 0.1156],\n",
       "        [ 0.0766],\n",
       "        [-0.0966],\n",
       "        [ 0.2000],\n",
       "        [ 0.7836],\n",
       "        [-0.1940],\n",
       "        [ 0.5907],\n",
       "        [ 0.5078]])"
      ]
     },
     "execution_count": 19,
     "metadata": {},
     "output_type": "execute_result"
    }
   ],
   "source": [
    "jacobian(h[0], volume.get_detectors()[0].panels[0].phi)"
   ]
  },
  {
   "cell_type": "code",
   "execution_count": 20,
   "id": "4ec01779",
   "metadata": {},
   "outputs": [],
   "source": [
    "mu = MuonBatch(MuonResampler().resample(gen(10), volume, gen), init_z=1)"
   ]
  },
  {
   "cell_type": "code",
   "execution_count": 21,
   "id": "2eda4f5b",
   "metadata": {},
   "outputs": [
    {
     "data": {
      "text/plain": [
       "defaultdict(<function tomopt.muon.muon_batch.MuonBatch.__init__.<locals>.<lambda>()>,\n",
       "            {})"
      ]
     },
     "execution_count": 21,
     "metadata": {},
     "output_type": "execute_result"
    }
   ],
   "source": [
    "mu._hits"
   ]
  },
  {
   "cell_type": "code",
   "execution_count": 22,
   "id": "4584eb97",
   "metadata": {},
   "outputs": [],
   "source": [
    "volume.get_detectors()[0](mu)"
   ]
  },
  {
   "cell_type": "code",
   "execution_count": 23,
   "id": "a97603eb",
   "metadata": {},
   "outputs": [
    {
     "data": {
      "text/plain": [
       "defaultdict(<function tomopt.muon.muon_batch.MuonBatch.__init__.<locals>.<lambda>()>,\n",
       "            {'above': defaultdict(list,\n",
       "                         {'reco_h': [tensor([[-0.3784],\n",
       "                                   [-0.8630],\n",
       "                                   [-0.1300],\n",
       "                                   [-0.4498],\n",
       "                                   [-0.1434],\n",
       "                                   [ 0.0579],\n",
       "                                   [-0.4163],\n",
       "                                   [-0.0141],\n",
       "                                   [-0.1421],\n",
       "                                   [-1.1306]], grad_fn=<AddBackward0>),\n",
       "                           tensor([[-0.7346],\n",
       "                                   [-0.9334],\n",
       "                                   [-0.4070],\n",
       "                                   [-0.8207],\n",
       "                                   [-0.6310],\n",
       "                                   [-0.2539],\n",
       "                                   [-0.0518],\n",
       "                                   [-0.9322],\n",
       "                                   [-0.4203],\n",
       "                                   [-0.5154]], grad_fn=<AddBackward0>),\n",
       "                           tensor([[-0.7719],\n",
       "                                   [-0.9949],\n",
       "                                   [-0.4090],\n",
       "                                   [-0.7875],\n",
       "                                   [-0.6817],\n",
       "                                   [-0.2599],\n",
       "                                   [-0.0902],\n",
       "                                   [-0.8872],\n",
       "                                   [-0.4068],\n",
       "                                   [-0.5904]], grad_fn=<AddBackward0>),\n",
       "                           tensor([[-0.5202],\n",
       "                                   [-0.5840],\n",
       "                                   [-0.3481],\n",
       "                                   [-0.5349],\n",
       "                                   [-0.4805],\n",
       "                                   [-0.2569],\n",
       "                                   [ 0.0742],\n",
       "                                   [-0.7514],\n",
       "                                   [-0.2839],\n",
       "                                   [-0.1480]], grad_fn=<AddBackward0>)],\n",
       "                          'gen_h': [tensor([[-0.3791],\n",
       "                                   [-0.8629],\n",
       "                                   [-0.1291],\n",
       "                                   [-0.4498],\n",
       "                                   [-0.1443],\n",
       "                                   [ 0.0585],\n",
       "                                   [-0.4158],\n",
       "                                   [-0.0145],\n",
       "                                   [-0.1417],\n",
       "                                   [-1.1294]], grad_fn=<AddBackward0>),\n",
       "                           tensor([[-0.7357],\n",
       "                                   [-0.9327],\n",
       "                                   [-0.4072],\n",
       "                                   [-0.8208],\n",
       "                                   [-0.6305],\n",
       "                                   [-0.2546],\n",
       "                                   [-0.0517],\n",
       "                                   [-0.9311],\n",
       "                                   [-0.4199],\n",
       "                                   [-0.5160]], grad_fn=<AddBackward0>),\n",
       "                           tensor([[-0.7699],\n",
       "                                   [-0.9953],\n",
       "                                   [-0.4087],\n",
       "                                   [-0.7860],\n",
       "                                   [-0.6814],\n",
       "                                   [-0.2584],\n",
       "                                   [-0.0902],\n",
       "                                   [-0.8873],\n",
       "                                   [-0.4057],\n",
       "                                   [-0.5914]], grad_fn=<AddBackward0>),\n",
       "                           tensor([[-0.5195],\n",
       "                                   [-0.5834],\n",
       "                                   [-0.3471],\n",
       "                                   [-0.5344],\n",
       "                                   [-0.4810],\n",
       "                                   [-0.2572],\n",
       "                                   [ 0.0737],\n",
       "                                   [-0.7518],\n",
       "                                   [-0.2846],\n",
       "                                   [-0.1489]], grad_fn=<AddBackward0>)],\n",
       "                          'gen_xy': [tensor([[ 0.7671,  0.3090],\n",
       "                                   [ 1.0084,  0.7724],\n",
       "                                   [ 0.4218,  0.0903],\n",
       "                                   [ 0.9202,  0.3657],\n",
       "                                   [ 0.6168,  0.0873],\n",
       "                                   [ 0.2415, -0.0813],\n",
       "                                   [ 0.0819,  0.4099],\n",
       "                                   [ 0.9756, -0.0766],\n",
       "                                   [ 0.4570,  0.0996],\n",
       "                                   [ 0.6185,  1.0765]]),\n",
       "                           tensor([[ 0.7707,  0.3607],\n",
       "                                   [ 1.0062,  0.7835],\n",
       "                                   [ 0.4156,  0.0770],\n",
       "                                   [ 0.8549,  0.3463],\n",
       "                                   [ 0.6508,  0.2002],\n",
       "                                   [ 0.2497, -0.0661],\n",
       "                                   [ 0.0883,  0.4081],\n",
       "                                   [ 0.9315, -0.0370],\n",
       "                                   [ 0.4321,  0.1185],\n",
       "                                   [ 0.6104,  1.0373]]),\n",
       "                           tensor([[ 0.7744,  0.4124],\n",
       "                                   [ 1.0040,  0.7946],\n",
       "                                   [ 0.4095,  0.0638],\n",
       "                                   [ 0.7896,  0.3270],\n",
       "                                   [ 0.6848,  0.3131],\n",
       "                                   [ 0.2578, -0.0508],\n",
       "                                   [ 0.0946,  0.4063],\n",
       "                                   [ 0.8874,  0.0027],\n",
       "                                   [ 0.4072,  0.1374],\n",
       "                                   [ 0.6023,  0.9981]]),\n",
       "                           tensor([[ 0.7781,  0.4641],\n",
       "                                   [ 1.0018,  0.8058],\n",
       "                                   [ 0.4033,  0.0506],\n",
       "                                   [ 0.7242,  0.3077],\n",
       "                                   [ 0.7189,  0.4261],\n",
       "                                   [ 0.2660, -0.0356],\n",
       "                                   [ 0.1010,  0.4045],\n",
       "                                   [ 0.8433,  0.0424],\n",
       "                                   [ 0.3823,  0.1563],\n",
       "                                   [ 0.5942,  0.9589]])],\n",
       "                          'z': [tensor([[1.],\n",
       "                                   [1.],\n",
       "                                   [1.],\n",
       "                                   [1.],\n",
       "                                   [1.],\n",
       "                                   [1.],\n",
       "                                   [1.],\n",
       "                                   [1.],\n",
       "                                   [1.],\n",
       "                                   [1.]], grad_fn=<UnsqueezeBackward0>),\n",
       "                           tensor([[0.9500],\n",
       "                                   [0.9500],\n",
       "                                   [0.9500],\n",
       "                                   [0.9500],\n",
       "                                   [0.9500],\n",
       "                                   [0.9500],\n",
       "                                   [0.9500],\n",
       "                                   [0.9500],\n",
       "                                   [0.9500],\n",
       "                                   [0.9500]], grad_fn=<UnsqueezeBackward0>),\n",
       "                           tensor([[0.9000],\n",
       "                                   [0.9000],\n",
       "                                   [0.9000],\n",
       "                                   [0.9000],\n",
       "                                   [0.9000],\n",
       "                                   [0.9000],\n",
       "                                   [0.9000],\n",
       "                                   [0.9000],\n",
       "                                   [0.9000],\n",
       "                                   [0.9000]], grad_fn=<UnsqueezeBackward0>),\n",
       "                           tensor([[0.8500],\n",
       "                                   [0.8500],\n",
       "                                   [0.8500],\n",
       "                                   [0.8500],\n",
       "                                   [0.8500],\n",
       "                                   [0.8500],\n",
       "                                   [0.8500],\n",
       "                                   [0.8500],\n",
       "                                   [0.8500],\n",
       "                                   [0.8500]], grad_fn=<UnsqueezeBackward0>)],\n",
       "                          'phi': [tensor([[4.6192],\n",
       "                                   [4.6192],\n",
       "                                   [4.6192],\n",
       "                                   [4.6192],\n",
       "                                   [4.6192],\n",
       "                                   [4.6192],\n",
       "                                   [4.6192],\n",
       "                                   [4.6192],\n",
       "                                   [4.6192],\n",
       "                                   [4.6192]], grad_fn=<UnsqueezeBackward0>),\n",
       "                           tensor([[3.0528],\n",
       "                                   [3.0528],\n",
       "                                   [3.0528],\n",
       "                                   [3.0528],\n",
       "                                   [3.0528],\n",
       "                                   [3.0528],\n",
       "                                   [3.0528],\n",
       "                                   [3.0528],\n",
       "                                   [3.0528],\n",
       "                                   [3.0528]], grad_fn=<UnsqueezeBackward0>),\n",
       "                           tensor([[3.1308],\n",
       "                                   [3.1308],\n",
       "                                   [3.1308],\n",
       "                                   [3.1308],\n",
       "                                   [3.1308],\n",
       "                                   [3.1308],\n",
       "                                   [3.1308],\n",
       "                                   [3.1308],\n",
       "                                   [3.1308],\n",
       "                                   [3.1308]], grad_fn=<UnsqueezeBackward0>),\n",
       "                           tensor([[2.7192],\n",
       "                                   [2.7192],\n",
       "                                   [2.7192],\n",
       "                                   [2.7192],\n",
       "                                   [2.7192],\n",
       "                                   [2.7192],\n",
       "                                   [2.7192],\n",
       "                                   [2.7192],\n",
       "                                   [2.7192],\n",
       "                                   [2.7192]], grad_fn=<UnsqueezeBackward0>)]})})"
      ]
     },
     "execution_count": 23,
     "metadata": {},
     "output_type": "execute_result"
    }
   ],
   "source": [
    "mu._hits"
   ]
  },
  {
   "cell_type": "code",
   "execution_count": 24,
   "id": "b1654124",
   "metadata": {
    "scrolled": true
   },
   "outputs": [
    {
     "data": {
      "text/plain": [
       "[tensor([[-0.3784],\n",
       "         [-0.8630],\n",
       "         [-0.1300],\n",
       "         [-0.4498],\n",
       "         [-0.1434],\n",
       "         [ 0.0579],\n",
       "         [-0.4163],\n",
       "         [-0.0141],\n",
       "         [-0.1421],\n",
       "         [-1.1306]], grad_fn=<AddBackward0>),\n",
       " tensor([[-0.7346],\n",
       "         [-0.9334],\n",
       "         [-0.4070],\n",
       "         [-0.8207],\n",
       "         [-0.6310],\n",
       "         [-0.2539],\n",
       "         [-0.0518],\n",
       "         [-0.9322],\n",
       "         [-0.4203],\n",
       "         [-0.5154]], grad_fn=<AddBackward0>),\n",
       " tensor([[-0.7719],\n",
       "         [-0.9949],\n",
       "         [-0.4090],\n",
       "         [-0.7875],\n",
       "         [-0.6817],\n",
       "         [-0.2599],\n",
       "         [-0.0902],\n",
       "         [-0.8872],\n",
       "         [-0.4068],\n",
       "         [-0.5904]], grad_fn=<AddBackward0>),\n",
       " tensor([[-0.5202],\n",
       "         [-0.5840],\n",
       "         [-0.3481],\n",
       "         [-0.5349],\n",
       "         [-0.4805],\n",
       "         [-0.2569],\n",
       "         [ 0.0742],\n",
       "         [-0.7514],\n",
       "         [-0.2839],\n",
       "         [-0.1480]], grad_fn=<AddBackward0>)]"
      ]
     },
     "execution_count": 24,
     "metadata": {},
     "output_type": "execute_result"
    }
   ],
   "source": [
    "h = mu._hits['above']['reco_h'];h"
   ]
  },
  {
   "cell_type": "code",
   "execution_count": 25,
   "id": "03d28aff",
   "metadata": {
    "scrolled": false
   },
   "outputs": [
    {
     "data": {
      "text/plain": [
       "tensor([[0.7350],\n",
       "        [0.9321],\n",
       "        [0.4116],\n",
       "        [0.8822],\n",
       "        [0.6060],\n",
       "        [0.2480],\n",
       "        [0.0434],\n",
       "        [0.9785],\n",
       "        [0.4458],\n",
       "        [0.5156]])"
      ]
     },
     "execution_count": 25,
     "metadata": {},
     "output_type": "execute_result"
    }
   ],
   "source": [
    "jacobian(h[0], volume.get_detectors()[0].panels[0].phi)"
   ]
  },
  {
   "cell_type": "code",
   "execution_count": 26,
   "id": "86509b96",
   "metadata": {},
   "outputs": [],
   "source": [
    "def arb_rad_length(*,z:float, lw:Tensor, size:float) -> Tensor:\n",
    "    rad_length = torch.ones(list((lw/size).long()))*X0['beryllium']\n",
    "    if z >= 0.4 and z <= 0.5: rad_length[5:,5:] = X0['lead']\n",
    "    return rad_length"
   ]
  },
  {
   "cell_type": "code",
   "execution_count": 27,
   "id": "af2fbe44",
   "metadata": {},
   "outputs": [],
   "source": [
    "volume.load_rad_length(arb_rad_length)"
   ]
  },
  {
   "cell_type": "code",
   "execution_count": 65,
   "id": "e0b3364c",
   "metadata": {},
   "outputs": [],
   "source": [
    "mu = MuonBatch(MuonResampler().resample(gen(100), volume, gen), init_z=1)\n",
    "volume(mu)"
   ]
  },
  {
   "cell_type": "code",
   "execution_count": 66,
   "id": "64bfe288",
   "metadata": {},
   "outputs": [],
   "source": [
    "hits = mu.get_hits()"
   ]
  },
  {
   "cell_type": "code",
   "execution_count": 67,
   "id": "7be034a5",
   "metadata": {},
   "outputs": [
    {
     "data": {
      "text/plain": [
       "torch.Size([100])"
      ]
     },
     "execution_count": 67,
     "metadata": {},
     "output_type": "execute_result"
    }
   ],
   "source": [
    "mu.x.shape"
   ]
  },
  {
   "cell_type": "code",
   "execution_count": 68,
   "id": "80fe51ff",
   "metadata": {},
   "outputs": [
    {
     "data": {
      "text/plain": [
       "torch.Size([100, 4, 1])"
      ]
     },
     "execution_count": 68,
     "metadata": {},
     "output_type": "execute_result"
    }
   ],
   "source": [
    "hits['above']['reco_h'].shape"
   ]
  },
  {
   "cell_type": "code",
   "execution_count": 69,
   "id": "82e1795e",
   "metadata": {},
   "outputs": [],
   "source": [
    "from tomopt.inference.scattering import AbsScatterBatch\n",
    "\n",
    "class PhiDetScatterBatch(AbsScatterBatch):\n",
    "    def _extract_hits(self) -> None:\n",
    "        # reco x, reco y, gen z, must be a list to allow computation of uncertainty\n",
    "        above_hits = torch.stack(\n",
    "            [\n",
    "                torch.cat([self.hits[\"above\"][\"reco_h\"][:, i], self.hits[\"above\"][\"phi\"][:, i], self.hits[\"above\"][\"z\"][:, i]], dim=-1)\n",
    "                for i in range(self.hits[\"above\"][\"reco_h\"].shape[1])\n",
    "            ],\n",
    "            dim=1,\n",
    "        )  # muons, panels, xyz\n",
    "        below_hits = torch.stack(\n",
    "            [\n",
    "                torch.cat([self.hits[\"below\"][\"reco_h\"][:, i], self.hits[\"below\"][\"phi\"][:, i], self.hits[\"below\"][\"z\"][:, i]], dim=-1)\n",
    "                for i in range(self.hits[\"below\"][\"reco_h\"].shape[1])\n",
    "            ],\n",
    "            dim=1,\n",
    "        )\n",
    "        _above_gen_hits = torch.stack(\n",
    "            [torch.cat([self.hits[\"above\"][\"gen_xy\"][:, i], self.hits[\"above\"][\"z\"][:, i]], dim=-1) for i in range(self.hits[\"above\"][\"gen_xy\"].shape[1])],\n",
    "            dim=1,\n",
    "        )  # muons, panels, xyz\n",
    "        _below_gen_hits = torch.stack(\n",
    "            [torch.cat([self.hits[\"below\"][\"gen_xy\"][:, i], self.hits[\"below\"][\"z\"][:, i]], dim=-1) for i in range(self.hits[\"below\"][\"gen_xy\"].shape[1])],\n",
    "            dim=1,\n",
    "        )\n",
    "        self._n_hits_above = above_hits.shape[1]\n",
    "        self._n_hits_below = below_hits.shape[1]\n",
    "\n",
    "        # Combine all input vars into single tensor, NB ideally would stack to new dim but can't assume same number of panels above & below\n",
    "        self._reco_hits = torch.cat((above_hits, below_hits), dim=1)  # muons, all panels, reco h,phi,z\n",
    "        self._gen_hits = torch.cat((_above_gen_hits, _below_gen_hits), dim=1)  # muons, all panels, true xyz\n",
    "\n",
    "    def plot_scatter(self, idx: int) -> None:\n",
    "        raise NotImplementedError(\"Ah, I see you've just volunteered to implement this!\")\n",
    "\n",
    "    @staticmethod\n",
    "    def _get_hit_uncs(zordered_panels: List[PhiDetectorPanel], hits: Tensor) -> Tensor:\n",
    "        uncs: List[Tensor] = []\n",
    "        for l, h in zip(zordered_panels, hits.unbind(1)):\n",
    "            r = 1 / l.resolution.expand(len(h), 1)\n",
    "            uncs.append(torch.cat([r, torch.zeros((len(h), 2), device=r.device)], dim=-1))\n",
    "        return torch.stack(uncs, dim=1)  # muons, panels, unc h,phi,z, zero unc for phi and z\n",
    "    \n",
    "\n",
    "    def _compute_tracks(self) -> None:\n",
    "        def _get_panels() -> List[PhiDetectorPanel]:\n",
    "            panels = []\n",
    "            for det in self.volume.get_detectors():\n",
    "                if not isinstance(det, PanelDetectorLayer):\n",
    "                    raise ValueError(f\"Detector {det} is not a PanelDetectorLayer\")\n",
    "                panels += [det.panels[j] for j in det.get_panel_zorder()]\n",
    "            return panels\n",
    "\n",
    "        self._hit_uncs = self._get_hit_uncs(_get_panels(), self.gen_hits)\n",
    "#         self._track_in, self._track_start_in = self.get_muon_trajectory(self.above_hits, self.above_hit_uncs, self.volume.lw)\n",
    "#         self._track_out, self._track_start_out = self.get_muon_trajectory(self.below_hits, self.below_hit_uncs, self.volume.lw)\n",
    "\n",
    "    def _compute_scatters(self) -> None:\n",
    "        r\"\"\"\n",
    "        Currently only handles detectors above and below passive volume\n",
    "\n",
    "        Scatter locations adapted from:\n",
    "        @MISC {3334866,\n",
    "            TITLE = {Closest points between two lines},\n",
    "            AUTHOR = {Brian (https://math.stackexchange.com/users/72614/brian)},\n",
    "            HOWPUBLISHED = {Mathematics Stack Exchange},\n",
    "            NOTE = {URL:https://math.stackexchange.com/q/3334866 (version: 2019-08-26)},\n",
    "            EPRINT = {https://math.stackexchange.com/q/3334866},\n",
    "            URL = {https://math.stackexchange.com/q/3334866}\n",
    "        }\n",
    "        \"\"\"\n",
    "\n",
    "        self._extract_hits()\n",
    "        self._compute_tracks()\n",
    "#         self._filter_scatters()\n",
    "\n",
    "#         # Track computations\n",
    "#         self._cross_track = torch.cross(self.track_in, self.track_out, dim=1)  # connecting vector perpendicular to both lines\n",
    "\n",
    "#         rhs = self.track_start_out - self.track_start_in\n",
    "#         lhs = torch.stack([self.track_in, -self.track_out, self._cross_track], dim=1).transpose(2, 1)\n",
    "#         # coefs = torch.linalg.solve(lhs, rhs)  # solve p1+t1*v1 + t3*v3 = p2+t2*v2 => p2-p1 = t1*v1 - t2*v2 + t3*v3\n",
    "#         self._track_coefs = (lhs.inverse() @ rhs[:, :, None]).squeeze(-1)\n",
    "\n",
    "#     @staticmethod\n",
    "#     def get_muon_trajectory(hits: Tensor, uncs: Tensor, lw: Tensor) -> Tuple[Tensor, Tensor]:\n",
    "#         r\"\"\"\n",
    "#         hits = (muons,panels,(h,phi,z))\n",
    "#         uncs = (muons,panels,(unc,0,0))\n",
    "\n",
    "#         Assumes no uncertainty for z and phi\n",
    "\n",
    "#         Uses an analytic likelihood-maximisation: L = \\prod_i G[h_i - h_{i,opt}(x0,y0,theta,phi)]\n",
    "#         where:\n",
    "#         h_{i,opt} = x_{i,opt} cos(phi_i) + y_{i,opt} sin(phi_i)\n",
    "#         x_{i,opt} = x0 + z_i tan(theta) cos(phi)\n",
    "#         y_{i,opt} = y0 + z_i tan(theta) sin(phi)\n",
    "\n",
    "#         x0, y0, z0 = track coordinates at z=0\n",
    "#         theta, phi = track angles\n",
    "\n",
    "#         x0 = sum_i[ ((cos(phi_i)/(unc_i^2))*(h_i-(z_i*tan(theta)*cos(phi)*cos(phi_i))-(sin(phi_i)*(y0+(z_i*tan(theta)*sin(phi))))) ] / sum_i[ ((cos(phi_i)^2)/(unc_i^2)) ]\n",
    "#         y0 = sum_i[ ((sin(phi_i)/(unc_i^2))*(h_i-(z_i*tan(theta)*sin(phi)*cos(phi_i))-(cos(phi_i)*(x0+(z_i*tan(theta)*sin(phi))))) ] / sun_i[ ((sin(phi_i)^2)/(unc_i^2)) ]\n",
    "#         theta = tan^-1[ sum_i[ (z_i/(unc_i^2))*((h_i*((cos(phi)*cos(phi_i))+(sin(phi)*sin(phi_i))))-(x0*((cos(phi_i)*sin(phi_i)*sin(phi))+(cos(phi)*cos(phi_i)*cos(phi_i))))-(y0((cos(phi)*cos(phi_i)*sin(phi_i))+(sin(phi)*sin(phi_i)*sin(phi_i))))) ] / sum_i[ ((z_i^2)/(unc_i^2))*((cos(phi)*cos(phi_i))+(sin(phi)*sin(sin(phi_i)))) ] ]\n",
    "#         phi = sin^-1[ ((z_i*sin(phi_i))/(unc_i^2))*(h_i-(y0*sin(phi_i))-(x0*cos(phi_i))-(z_i*tan(theta)*cos(phi)*cos(phi_i))) ] / sum_i[ (((z_i*sin(phi_i))^2)/(unc_i^2))*tan(theta) ]\n",
    "\n",
    "#         In eval mode:\n",
    "#             Muons with <2 hits within panels have NaN trajectory.\n",
    "#             Muons with >=2 hits in panels have valid trajectories\n",
    "#         \"\"\"\n",
    "\n",
    "#         hits = torch.where(torch.isinf(hits), lw.mean().type(hits.type()) / 2, hits)\n",
    "#         uncs = torch.nan_to_num(uncs)  # Set Infs to large number\n",
    "\n",
    "#         x0: Tensor\n",
    "#         y0: Tensor  # Track positions at Z0=0\n",
    "#         phi: Tensor\n",
    "#         theta: Tensor  # Track angles"
   ]
  },
  {
   "cell_type": "code",
   "execution_count": 70,
   "id": "0037771d",
   "metadata": {},
   "outputs": [],
   "source": [
    "sb = PhiDetScatterBatch(mu, volume)"
   ]
  },
  {
   "cell_type": "code",
   "execution_count": 71,
   "id": "91ee0b27",
   "metadata": {},
   "outputs": [
    {
     "data": {
      "text/plain": [
       "(torch.Size([100, 4, 3]), torch.Size([100, 4, 3]))"
      ]
     },
     "execution_count": 71,
     "metadata": {},
     "output_type": "execute_result"
    }
   ],
   "source": [
    "sb.above_hits.shape, sb.above_hit_uncs.shape"
   ]
  },
  {
   "cell_type": "code",
   "execution_count": 72,
   "id": "705d3eb3",
   "metadata": {},
   "outputs": [
    {
     "data": {
      "text/plain": [
       "Parameter containing:\n",
       "tensor(4.6192, requires_grad=True)"
      ]
     },
     "execution_count": 72,
     "metadata": {},
     "output_type": "execute_result"
    }
   ],
   "source": [
    "volume.get_detectors()[0].panels[0].phi"
   ]
  },
  {
   "cell_type": "code",
   "execution_count": 73,
   "id": "a838cc83",
   "metadata": {},
   "outputs": [
    {
     "data": {
      "text/plain": [
       "tensor([[[0.5373, 1.0000, 0.0000],\n",
       "         [0.0000, 0.0000, 0.0000],\n",
       "         [0.0000, 0.0000, 0.0000],\n",
       "         [0.0000, 0.0000, 0.0000]],\n",
       "\n",
       "        [[1.1489, 1.0000, 0.0000],\n",
       "         [0.0000, 0.0000, 0.0000],\n",
       "         [0.0000, 0.0000, 0.0000],\n",
       "         [0.0000, 0.0000, 0.0000]],\n",
       "\n",
       "        [[0.5100, 1.0000, 0.0000],\n",
       "         [0.0000, 0.0000, 0.0000],\n",
       "         [0.0000, 0.0000, 0.0000],\n",
       "         [0.0000, 0.0000, 0.0000]],\n",
       "\n",
       "        ...,\n",
       "\n",
       "        [[0.1922, 1.0000, 0.0000],\n",
       "         [0.0000, 0.0000, 0.0000],\n",
       "         [0.0000, 0.0000, 0.0000],\n",
       "         [0.0000, 0.0000, 0.0000]],\n",
       "\n",
       "        [[0.8471, 1.0000, 0.0000],\n",
       "         [0.0000, 0.0000, 0.0000],\n",
       "         [0.0000, 0.0000, 0.0000],\n",
       "         [0.0000, 0.0000, 0.0000]],\n",
       "\n",
       "        [[0.7548, 1.0000, 0.0000],\n",
       "         [0.0000, 0.0000, 0.0000],\n",
       "         [0.0000, 0.0000, 0.0000],\n",
       "         [0.0000, 0.0000, 0.0000]]])"
      ]
     },
     "execution_count": 73,
     "metadata": {},
     "output_type": "execute_result"
    }
   ],
   "source": [
    "jacobian(sb.above_hits, volume.get_detectors()[0].panels[0].phi)"
   ]
  },
  {
   "cell_type": "code",
   "execution_count": 74,
   "id": "a29476a1",
   "metadata": {},
   "outputs": [],
   "source": [
    "hits = sb.above_hits\n",
    "uncs = sb.above_hit_uncs"
   ]
  },
  {
   "cell_type": "code",
   "execution_count": 75,
   "id": "e7405ab2",
   "metadata": {},
   "outputs": [],
   "source": [
    "hits = torch.where(torch.isinf(hits), volume.lw.mean().type(hits.type()) / 2, hits)\n",
    "uncs = torch.nan_to_num(uncs)  # Set Infs to large number"
   ]
  },
  {
   "cell_type": "code",
   "execution_count": 76,
   "id": "ffc6c4e9",
   "metadata": {},
   "outputs": [],
   "source": [
    "uncs2 = uncs[:,:,0:1]**2"
   ]
  },
  {
   "cell_type": "code",
   "execution_count": 77,
   "id": "4b2c1292",
   "metadata": {},
   "outputs": [],
   "source": [
    "track = torch.ones(len(hits),1,4, device=hits.device, requires_grad=True)/2"
   ]
  },
  {
   "cell_type": "code",
   "execution_count": 78,
   "id": "6367d766",
   "metadata": {},
   "outputs": [],
   "source": [
    "def get_nll(hits:Tensor, uncs2:Tensor, track:Tensor) -> Tensor:\n",
    "    x0 = track[:,:,0:1]\n",
    "    y0 = track[:,:,1:2]\n",
    "    phi = track[:,:,2:3]\n",
    "    theta = track[:,:,3:4]\n",
    "    h_i = hits[:,:,0:1]\n",
    "    phi_i = hits[:,:,1:2]\n",
    "    z_i = hits[:,:,2:3]\n",
    "\n",
    "    x_i_opt = x0 + (z_i*theta.tan()*phi.cos())\n",
    "    y_i_opt = y0 + (z_i*theta.tan()*phi.sin())\n",
    "    h_i_opt = (x_i_opt*phi_i.cos()) + (y_i_opt*phi_i.sin())  \n",
    "\n",
    "    return (0.5*((h_i-h_i_opt).square()/uncs2).sum(1))-(1/(2*torch.pi*uncs2).sqrt().sum(1))"
   ]
  },
  {
   "cell_type": "code",
   "execution_count": 79,
   "id": "53312a75",
   "metadata": {},
   "outputs": [
    {
     "data": {
      "text/plain": [
       "torch.Size([100, 1])"
      ]
     },
     "execution_count": 79,
     "metadata": {},
     "output_type": "execute_result"
    }
   ],
   "source": [
    "nll = get_nll(hits, uncs2, track)\n",
    "nll.shape"
   ]
  },
  {
   "cell_type": "code",
   "execution_count": 80,
   "id": "b8d9a1e3",
   "metadata": {},
   "outputs": [],
   "source": [
    "grad = jacobian(nll, track, create_graph=True).sum((2,3))"
   ]
  },
  {
   "cell_type": "code",
   "execution_count": 46,
   "id": "31e7ad0a",
   "metadata": {},
   "outputs": [
    {
     "data": {
      "text/plain": [
       "torch.Size([10, 1, 4])"
      ]
     },
     "execution_count": 46,
     "metadata": {},
     "output_type": "execute_result"
    }
   ],
   "source": [
    "grad.shape"
   ]
  },
  {
   "cell_type": "code",
   "execution_count": 47,
   "id": "3f055e62",
   "metadata": {},
   "outputs": [
    {
     "data": {
      "text/plain": [
       "tensor([[  45554.0938, -106952.0938,  -60050.1172,  -20507.5391]],\n",
       "       grad_fn=<SelectBackward0>)"
      ]
     },
     "execution_count": 47,
     "metadata": {},
     "output_type": "execute_result"
    }
   ],
   "source": [
    "grad[0]"
   ]
  },
  {
   "cell_type": "code",
   "execution_count": 48,
   "id": "604ec610",
   "metadata": {},
   "outputs": [],
   "source": [
    "hesse = jacobian(grad, track, create_graph=True).sum((3,4))"
   ]
  },
  {
   "cell_type": "code",
   "execution_count": 49,
   "id": "835d1f42",
   "metadata": {},
   "outputs": [
    {
     "data": {
      "text/plain": [
       "torch.Size([10, 1, 4, 4])"
      ]
     },
     "execution_count": 49,
     "metadata": {},
     "output_type": "execute_result"
    }
   ],
   "source": [
    "hesse.shape"
   ]
  },
  {
   "cell_type": "code",
   "execution_count": 50,
   "id": "237b485e",
   "metadata": {},
   "outputs": [
    {
     "data": {
      "text/plain": [
       "torch.Size([10, 10, 1, 4])"
      ]
     },
     "execution_count": 50,
     "metadata": {},
     "output_type": "execute_result"
    }
   ],
   "source": [
    "(grad@hesse.inverse()).shape"
   ]
  },
  {
   "cell_type": "code",
   "execution_count": 51,
   "id": "2f310436",
   "metadata": {},
   "outputs": [
    {
     "data": {
      "text/plain": [
       "torch.Size([10, 1, 4])"
      ]
     },
     "execution_count": 51,
     "metadata": {},
     "output_type": "execute_result"
    }
   ],
   "source": [
    "(grad.unsqueeze(1)@hesse.inverse()).squeeze(1).shape"
   ]
  },
  {
   "cell_type": "code",
   "execution_count": 52,
   "id": "a9bf8f89",
   "metadata": {},
   "outputs": [],
   "source": [
    "step = (grad.unsqueeze(1)@hesse.inverse()).squeeze(1)"
   ]
  },
  {
   "cell_type": "code",
   "execution_count": 53,
   "id": "9039aa6d",
   "metadata": {},
   "outputs": [
    {
     "data": {
      "text/plain": [
       "tensor([[4.0454e-01, 2.7361e-01, 2.1547e-04, 6.3728e-04]],\n",
       "       grad_fn=<MeanBackward1>)"
      ]
     },
     "execution_count": 53,
     "metadata": {},
     "output_type": "execute_result"
    }
   ],
   "source": [
    "step.mean(0)"
   ]
  },
  {
   "cell_type": "code",
   "execution_count": 54,
   "id": "6b70a2cd",
   "metadata": {},
   "outputs": [],
   "source": [
    "lr = Tensor([[[0.1,0.1,100,10]]])"
   ]
  },
  {
   "cell_type": "code",
   "execution_count": 55,
   "id": "8e9e75a4",
   "metadata": {},
   "outputs": [
    {
     "data": {
      "text/plain": [
       "tensor([[[0.0405, 0.0274, 0.0215, 0.0064]]], grad_fn=<MulBackward0>)"
      ]
     },
     "execution_count": 55,
     "metadata": {},
     "output_type": "execute_result"
    }
   ],
   "source": [
    "lr*step.mean(0)"
   ]
  },
  {
   "cell_type": "code",
   "execution_count": 81,
   "id": "b163ab38",
   "metadata": {},
   "outputs": [
    {
     "data": {
      "text/html": [
       "\n",
       "    <div>\n",
       "        <style>\n",
       "            /* Turns off some styling */\n",
       "            progress {\n",
       "                /* gets rid of default border in Firefox and Opera. */\n",
       "                border: none;\n",
       "                /* Needs to be in here for Safari polyfill so background images work as expected. */\n",
       "                background-size: auto;\n",
       "            }\n",
       "            .progress-bar-interrupted, .progress-bar-interrupted::-webkit-progress-bar {\n",
       "                background: #F44336;\n",
       "            }\n",
       "        </style>\n",
       "      <progress value='84' class='' max='100' style='width:300px; height:20px; vertical-align: middle;'></progress>\n",
       "      84.00% [84/100 02:21<00:26]\n",
       "    </div>\n",
       "    "
      ],
      "text/plain": [
       "<IPython.core.display.HTML object>"
      ]
     },
     "metadata": {},
     "output_type": "display_data"
    },
    {
     "name": "stdout",
     "output_type": "stream",
     "text": [
      "tensor([552313.7500]) tensor([[0.4526, 0.4739, 0.4703, 0.4935]])\n",
      "tensor([459080.0938]) tensor([[0.4125, 0.4534, 0.4413, 0.4841]])\n",
      "tensor([366024.0938]) tensor([[0.3781, 0.4370, 0.3915, 0.4724]])\n",
      "tensor([299159.9688]) tensor([[0.3505, 0.4242, 0.3703, 0.4530]])\n",
      "tensor([254436.2812]) tensor([[0.3306, 0.4144, 0.3774, 0.4344]])\n",
      "tensor([206660.5156]) tensor([[0.3156, 0.4069, 0.3972, 0.4153]])\n",
      "tensor([175511.4062]) tensor([[0.3051, 0.4011, 0.4483, 0.3922]])\n",
      "tensor([132246.6562]) tensor([[0.2990, 0.3972, 0.5605, 0.3667]])\n",
      "tensor([103370.5234]) tensor([[0.2959, 0.3939, 0.5222, 0.3501]])\n",
      "tensor([87922.6016]) tensor([[0.2956, 0.3934, 0.6164, 0.3302]])\n",
      "tensor([89197.1016]) tensor([[0.2984, 0.3923, 0.7041, 0.3203]])\n",
      "tensor([79813.7188]) tensor([[0.3012, 0.3917, 0.7114, 0.3158]])\n",
      "tensor([73537.2500]) tensor([[0.3044, 0.3911, 0.7800, 0.3090]])\n",
      "tensor([63532.7539]) tensor([[0.3075, 0.3907, 0.8599, 0.2989]])\n",
      "tensor([63752.5508]) tensor([[0.3112, 0.3904, 0.9420, 0.2865]])\n",
      "tensor([71545.9375]) tensor([[0.3162, 0.3901, 1.0256, 0.2769]])\n",
      "tensor([62380.8047]) tensor([[0.3209, 0.3900, 1.1623, 0.2657]])\n",
      "tensor([56067.8789]) tensor([[0.3255, 0.3892, 1.1791, 0.2641]])\n",
      "tensor([55712.2266]) tensor([[0.3295, 0.3887, 1.2441, 0.2579]])\n",
      "tensor([51713.8086]) tensor([[0.3338, 0.3885, 1.2485, 0.2500]])\n",
      "tensor([65410.4336]) tensor([[0.3383, 0.3893, 1.3226, 0.2429]])\n",
      "tensor([61796.7539]) tensor([[0.3405, 0.3897, 1.4674, 0.2408]])\n",
      "tensor([58677.1953]) tensor([[0.3427, 0.3901, 1.5122, 0.2384]])\n",
      "tensor([55764.8750]) tensor([[0.3448, 0.3905, 1.5647, 0.2379]])\n",
      "tensor([53513.8516]) tensor([[0.3469, 0.3908, 1.6305, 0.2378]])\n",
      "tensor([50720.5898]) tensor([[0.3489, 0.3912, 1.7462, 0.2360]])\n",
      "tensor([59640.5039]) tensor([[0.3511, 0.3916, 1.7809, 0.2355]])\n",
      "tensor([60207.2539]) tensor([[0.3533, 0.3921, 1.9352, 0.2334]])\n",
      "tensor([59732.7305]) tensor([[0.3555, 0.3928, 1.9957, 0.2319]])\n",
      "tensor([56612.2812]) tensor([[0.3576, 0.3935, 2.0582, 0.2305]])\n",
      "tensor([54676.3047]) tensor([[0.3598, 0.3943, 2.1154, 0.2294]])\n",
      "tensor([51766.2539]) tensor([[0.3609, 0.3946, 2.1724, 0.2291]])\n",
      "tensor([51322.1250]) tensor([[0.3619, 0.3949, 2.2825, 0.2290]])\n",
      "tensor([49860.1406]) tensor([[0.3629, 0.3953, 2.3127, 0.2293]])\n",
      "tensor([48794.1914]) tensor([[0.3639, 0.3956, 2.4080, 0.2287]])\n",
      "tensor([47467.5781]) tensor([[0.3649, 0.3960, 2.4696, 0.2295]])\n",
      "tensor([47818.3047]) tensor([[0.3659, 0.3964, 2.5390, 0.2293]])\n",
      "tensor([46497.9961]) tensor([[0.3669, 0.3968, 2.6673, 0.2286]])\n",
      "tensor([46099.0664]) tensor([[0.3679, 0.3971, 2.7109, 0.2289]])\n",
      "tensor([45073.8164]) tensor([[0.3690, 0.3975, 2.8039, 0.2274]])\n",
      "tensor([44063.6562]) tensor([[0.3700, 0.3980, 2.8467, 0.2367]])\n",
      "tensor([51201.2695]) tensor([[0.3705, 0.3982, 2.8829, 0.2364]])\n",
      "tensor([51226.3555]) tensor([[0.3710, 0.3984, 2.8895, 0.2362]])\n",
      "tensor([50575.3711]) tensor([[0.3714, 0.3986, 2.8917, 0.2360]])\n",
      "tensor([49963.2695]) tensor([[0.3719, 0.3988, 2.9030, 0.2358]])\n",
      "tensor([49453.0312]) tensor([[0.3724, 0.3990, 2.8988, 0.2357]])\n",
      "tensor([49179.0195]) tensor([[0.3729, 0.3992, 2.8816, 0.2355]])\n",
      "tensor([53896.6914]) tensor([[0.3734, 0.3995, 2.8783, 0.2356]])\n",
      "tensor([53342.8164]) tensor([[0.3739, 0.3997, 2.8855, 0.2357]])\n",
      "tensor([52912.2305]) tensor([[0.3744, 0.4000, 2.8792, 0.2348]])\n",
      "tensor([53013.6445]) tensor([[0.3748, 0.4003, 2.8871, 0.2346]])\n",
      "tensor([52614.1250]) tensor([[0.3751, 0.4004, 2.8925, 0.2344]])\n",
      "tensor([52437.1211]) tensor([[0.3753, 0.4006, 2.8933, 0.2342]])\n",
      "tensor([52235.2734]) tensor([[0.3756, 0.4007, 2.9071, 0.2344]])\n",
      "tensor([53551.3516]) tensor([[0.3758, 0.4008, 2.9084, 0.2343]])\n",
      "tensor([53396.4062]) tensor([[0.3760, 0.4010, 2.9056, 0.2339]])\n",
      "tensor([53218.7031]) tensor([[0.3763, 0.4011, 2.9050, 0.2336]])\n",
      "tensor([53034.4805]) tensor([[0.3765, 0.4013, 2.9057, 0.2333]])\n",
      "tensor([52862.7344]) tensor([[0.3768, 0.4014, 2.9070, 0.2335]])\n",
      "tensor([52850.4609]) tensor([[0.3770, 0.4016, 2.9153, 0.2331]])\n",
      "tensor([53458.6602]) tensor([[0.3773, 0.4017, 2.9284, 0.2362]])\n",
      "tensor([61455.3086]) tensor([[0.3774, 0.4018, 2.9289, 0.2360]])\n",
      "tensor([61308.7500]) tensor([[0.3775, 0.4018, 2.9292, 0.2358]])\n",
      "tensor([61167.1289]) tensor([[0.3777, 0.4019, 2.9283, 0.2354]])\n",
      "tensor([61031.0312]) tensor([[0.3778, 0.4020, 2.9289, 0.2350]])\n",
      "tensor([60888.8008]) tensor([[0.3779, 0.4020, 2.9399, 0.2363]])\n",
      "tensor([61346.7500]) tensor([[0.3780, 0.4021, 2.9407, 0.2361]])\n",
      "tensor([61188.9688]) tensor([[0.3782, 0.4022, 2.9571, 0.2360]])\n",
      "tensor([61499.0312]) tensor([[0.3783, 0.4022, 2.9564, 0.2357]])\n",
      "tensor([61339.3516]) tensor([[0.3784, 0.4023, 2.9591, 0.2361]])\n",
      "tensor([61237.7305]) tensor([[0.3785, 0.4024, 2.9594, 0.2355]])\n",
      "tensor([61092.5586]) tensor([[0.3786, 0.4024, 2.9599, 0.2355]])\n",
      "tensor([61010.2812]) tensor([[0.3787, 0.4024, 2.9585, 0.2356]])\n",
      "tensor([61002.9414]) tensor([[0.3787, 0.4025, 2.9586, 0.2355]])\n",
      "tensor([60920.2969]) tensor([[0.3788, 0.4025, 2.9584, 0.2354]])\n",
      "tensor([60842.9297]) tensor([[0.3788, 0.4025, 2.9579, 0.2353]])\n",
      "tensor([60762.1484]) tensor([[0.3789, 0.4026, 2.9584, 0.2353]])\n",
      "tensor([60681.8164]) tensor([[0.3790, 0.4026, 2.9616, 0.2353]])\n",
      "tensor([60638.8789]) tensor([[0.3790, 0.4026, 2.9650, 0.2352]])\n",
      "tensor([60583.4219]) tensor([[0.3791, 0.4027, 2.9645, 0.2349]])\n",
      "tensor([60516.9648]) tensor([[0.3792, 0.4027, 2.9656, 0.2349]])\n",
      "tensor([60459.1914]) tensor([[0.3792, 0.4027, 2.9654, 0.2349]])\n",
      "tensor([60415.9453]) tensor([[0.3792, 0.4027, 2.9656, 0.2349]])\n",
      "tensor([60372.9102]) tensor([[0.3792, 0.4028, 2.9727, 0.2347]])\n"
     ]
    },
    {
     "ename": "KeyboardInterrupt",
     "evalue": "",
     "output_type": "error",
     "traceback": [
      "\u001b[0;31m---------------------------------------------------------------------------\u001b[0m",
      "\u001b[0;31mKeyboardInterrupt\u001b[0m                         Traceback (most recent call last)",
      "\u001b[0;32m<ipython-input-81-3462c6f96b6a>\u001b[0m in \u001b[0;36m<module>\u001b[0;34m\u001b[0m\n\u001b[1;32m      5\u001b[0m     \u001b[0mnll\u001b[0m \u001b[0;34m=\u001b[0m \u001b[0mget_nll\u001b[0m\u001b[0;34m(\u001b[0m\u001b[0mhits\u001b[0m\u001b[0;34m,\u001b[0m \u001b[0muncs2\u001b[0m\u001b[0;34m,\u001b[0m \u001b[0mtrack\u001b[0m\u001b[0;34m)\u001b[0m\u001b[0;34m\u001b[0m\u001b[0;34m\u001b[0m\u001b[0m\n\u001b[1;32m      6\u001b[0m     \u001b[0mgrad\u001b[0m \u001b[0;34m=\u001b[0m \u001b[0mjacobian\u001b[0m\u001b[0;34m(\u001b[0m\u001b[0mnll\u001b[0m\u001b[0;34m,\u001b[0m \u001b[0mtrack\u001b[0m\u001b[0;34m,\u001b[0m \u001b[0mcreate_graph\u001b[0m\u001b[0;34m=\u001b[0m\u001b[0;32mTrue\u001b[0m\u001b[0;34m)\u001b[0m\u001b[0;34m.\u001b[0m\u001b[0msum\u001b[0m\u001b[0;34m(\u001b[0m\u001b[0;34m(\u001b[0m\u001b[0;36m2\u001b[0m\u001b[0;34m,\u001b[0m\u001b[0;36m3\u001b[0m\u001b[0;34m)\u001b[0m\u001b[0;34m)\u001b[0m\u001b[0;34m\u001b[0m\u001b[0;34m\u001b[0m\u001b[0m\n\u001b[0;32m----> 7\u001b[0;31m     \u001b[0mhesse\u001b[0m \u001b[0;34m=\u001b[0m \u001b[0mjacobian\u001b[0m\u001b[0;34m(\u001b[0m\u001b[0mgrad\u001b[0m\u001b[0;34m,\u001b[0m \u001b[0mtrack\u001b[0m\u001b[0;34m,\u001b[0m \u001b[0mcreate_graph\u001b[0m\u001b[0;34m=\u001b[0m\u001b[0;32mTrue\u001b[0m\u001b[0;34m)\u001b[0m\u001b[0;34m.\u001b[0m\u001b[0msum\u001b[0m\u001b[0;34m(\u001b[0m\u001b[0;34m(\u001b[0m\u001b[0;36m3\u001b[0m\u001b[0;34m,\u001b[0m\u001b[0;36m4\u001b[0m\u001b[0;34m)\u001b[0m\u001b[0;34m)\u001b[0m\u001b[0;34m\u001b[0m\u001b[0;34m\u001b[0m\u001b[0m\n\u001b[0m\u001b[1;32m      8\u001b[0m     \u001b[0mstep\u001b[0m \u001b[0;34m=\u001b[0m \u001b[0mlr\u001b[0m\u001b[0;34m*\u001b[0m\u001b[0;34m(\u001b[0m\u001b[0mgrad\u001b[0m\u001b[0;34m.\u001b[0m\u001b[0munsqueeze\u001b[0m\u001b[0;34m(\u001b[0m\u001b[0;36m1\u001b[0m\u001b[0;34m)\u001b[0m\u001b[0;34m@\u001b[0m\u001b[0mhesse\u001b[0m\u001b[0;34m.\u001b[0m\u001b[0minverse\u001b[0m\u001b[0;34m(\u001b[0m\u001b[0;34m)\u001b[0m\u001b[0;34m)\u001b[0m\u001b[0;34m.\u001b[0m\u001b[0msqueeze\u001b[0m\u001b[0;34m(\u001b[0m\u001b[0;36m1\u001b[0m\u001b[0;34m)\u001b[0m\u001b[0;34m\u001b[0m\u001b[0;34m\u001b[0m\u001b[0m\n\u001b[1;32m      9\u001b[0m     \u001b[0mtrack\u001b[0m \u001b[0;34m=\u001b[0m \u001b[0mtrack\u001b[0m\u001b[0;34m-\u001b[0m\u001b[0mstep\u001b[0m\u001b[0;34m\u001b[0m\u001b[0;34m\u001b[0m\u001b[0m\n",
      "\u001b[0;32m~/cernbox/mode_muon_tomography/tomopt/utils.py\u001b[0m in \u001b[0;36mjacobian\u001b[0;34m(y, x, create_graph, allow_unused)\u001b[0m\n\u001b[1;32m     25\u001b[0m         \u001b[0;32mreturn\u001b[0m \u001b[0mtorch\u001b[0m\u001b[0;34m.\u001b[0m\u001b[0mautograd\u001b[0m\u001b[0;34m.\u001b[0m\u001b[0mgrad\u001b[0m\u001b[0;34m(\u001b[0m\u001b[0mflat_y\u001b[0m\u001b[0;34m,\u001b[0m \u001b[0mx\u001b[0m\u001b[0;34m,\u001b[0m \u001b[0mv\u001b[0m\u001b[0;34m,\u001b[0m \u001b[0mretain_graph\u001b[0m\u001b[0;34m=\u001b[0m\u001b[0;32mTrue\u001b[0m\u001b[0;34m,\u001b[0m \u001b[0mcreate_graph\u001b[0m\u001b[0;34m=\u001b[0m\u001b[0mcreate_graph\u001b[0m\u001b[0;34m,\u001b[0m \u001b[0mallow_unused\u001b[0m\u001b[0;34m=\u001b[0m\u001b[0mallow_unused\u001b[0m\u001b[0;34m)\u001b[0m\u001b[0;34m[\u001b[0m\u001b[0;36m0\u001b[0m\u001b[0;34m]\u001b[0m\u001b[0;34m.\u001b[0m\u001b[0mreshape\u001b[0m\u001b[0;34m(\u001b[0m\u001b[0mx\u001b[0m\u001b[0;34m.\u001b[0m\u001b[0mshape\u001b[0m\u001b[0;34m)\u001b[0m\u001b[0;34m\u001b[0m\u001b[0;34m\u001b[0m\u001b[0m\n\u001b[1;32m     26\u001b[0m \u001b[0;34m\u001b[0m\u001b[0m\n\u001b[0;32m---> 27\u001b[0;31m     \u001b[0;32mreturn\u001b[0m \u001b[0mvmap\u001b[0m\u001b[0;34m(\u001b[0m\u001b[0mget_vjp\u001b[0m\u001b[0;34m)\u001b[0m\u001b[0;34m(\u001b[0m\u001b[0mtorch\u001b[0m\u001b[0;34m.\u001b[0m\u001b[0meye\u001b[0m\u001b[0;34m(\u001b[0m\u001b[0mlen\u001b[0m\u001b[0;34m(\u001b[0m\u001b[0mflat_y\u001b[0m\u001b[0;34m)\u001b[0m\u001b[0;34m,\u001b[0m \u001b[0mdevice\u001b[0m\u001b[0;34m=\u001b[0m\u001b[0my\u001b[0m\u001b[0;34m.\u001b[0m\u001b[0mdevice\u001b[0m\u001b[0;34m)\u001b[0m\u001b[0;34m)\u001b[0m\u001b[0;34m.\u001b[0m\u001b[0mreshape\u001b[0m\u001b[0;34m(\u001b[0m\u001b[0my\u001b[0m\u001b[0;34m.\u001b[0m\u001b[0mshape\u001b[0m \u001b[0;34m+\u001b[0m \u001b[0mx\u001b[0m\u001b[0;34m.\u001b[0m\u001b[0mshape\u001b[0m\u001b[0;34m)\u001b[0m\u001b[0;34m\u001b[0m\u001b[0;34m\u001b[0m\u001b[0m\n\u001b[0m\u001b[1;32m     28\u001b[0m \u001b[0;34m\u001b[0m\u001b[0m\n\u001b[1;32m     29\u001b[0m \u001b[0;34m\u001b[0m\u001b[0m\n",
      "\u001b[0;32m~/anaconda3/envs/tomopt/lib/python3.8/site-packages/torch/_vmap_internals.py\u001b[0m in \u001b[0;36mwrapped\u001b[0;34m(*args)\u001b[0m\n\u001b[1;32m    261\u001b[0m         \u001b[0;32mtry\u001b[0m\u001b[0;34m:\u001b[0m\u001b[0;34m\u001b[0m\u001b[0;34m\u001b[0m\u001b[0m\n\u001b[1;32m    262\u001b[0m             \u001b[0mbatched_inputs\u001b[0m\u001b[0;34m,\u001b[0m \u001b[0mbatch_size\u001b[0m \u001b[0;34m=\u001b[0m \u001b[0m_create_batched_inputs\u001b[0m\u001b[0;34m(\u001b[0m\u001b[0min_dims\u001b[0m\u001b[0;34m,\u001b[0m \u001b[0margs\u001b[0m\u001b[0;34m,\u001b[0m \u001b[0mvmap_level\u001b[0m\u001b[0;34m,\u001b[0m \u001b[0mfunc\u001b[0m\u001b[0;34m)\u001b[0m\u001b[0;34m\u001b[0m\u001b[0;34m\u001b[0m\u001b[0m\n\u001b[0;32m--> 263\u001b[0;31m             \u001b[0mbatched_outputs\u001b[0m \u001b[0;34m=\u001b[0m \u001b[0mfunc\u001b[0m\u001b[0;34m(\u001b[0m\u001b[0;34m*\u001b[0m\u001b[0mbatched_inputs\u001b[0m\u001b[0;34m)\u001b[0m\u001b[0;34m\u001b[0m\u001b[0;34m\u001b[0m\u001b[0m\n\u001b[0m\u001b[1;32m    264\u001b[0m             \u001b[0m_validate_outputs\u001b[0m\u001b[0;34m(\u001b[0m\u001b[0mbatched_outputs\u001b[0m\u001b[0;34m,\u001b[0m \u001b[0mfunc\u001b[0m\u001b[0;34m)\u001b[0m\u001b[0;34m\u001b[0m\u001b[0;34m\u001b[0m\u001b[0m\n\u001b[1;32m    265\u001b[0m             \u001b[0;32mreturn\u001b[0m \u001b[0m_unwrap_batched\u001b[0m\u001b[0;34m(\u001b[0m\u001b[0mbatched_outputs\u001b[0m\u001b[0;34m,\u001b[0m \u001b[0mout_dims\u001b[0m\u001b[0;34m,\u001b[0m \u001b[0mvmap_level\u001b[0m\u001b[0;34m,\u001b[0m \u001b[0mbatch_size\u001b[0m\u001b[0;34m,\u001b[0m \u001b[0mfunc\u001b[0m\u001b[0;34m)\u001b[0m\u001b[0;34m\u001b[0m\u001b[0;34m\u001b[0m\u001b[0m\n",
      "\u001b[0;32m~/cernbox/mode_muon_tomography/tomopt/utils.py\u001b[0m in \u001b[0;36mget_vjp\u001b[0;34m(v)\u001b[0m\n\u001b[1;32m     23\u001b[0m \u001b[0;34m\u001b[0m\u001b[0m\n\u001b[1;32m     24\u001b[0m     \u001b[0;32mdef\u001b[0m \u001b[0mget_vjp\u001b[0m\u001b[0;34m(\u001b[0m\u001b[0mv\u001b[0m\u001b[0;34m:\u001b[0m \u001b[0mTensor\u001b[0m\u001b[0;34m)\u001b[0m \u001b[0;34m->\u001b[0m \u001b[0mTensor\u001b[0m\u001b[0;34m:\u001b[0m\u001b[0;34m\u001b[0m\u001b[0;34m\u001b[0m\u001b[0m\n\u001b[0;32m---> 25\u001b[0;31m         \u001b[0;32mreturn\u001b[0m \u001b[0mtorch\u001b[0m\u001b[0;34m.\u001b[0m\u001b[0mautograd\u001b[0m\u001b[0;34m.\u001b[0m\u001b[0mgrad\u001b[0m\u001b[0;34m(\u001b[0m\u001b[0mflat_y\u001b[0m\u001b[0;34m,\u001b[0m \u001b[0mx\u001b[0m\u001b[0;34m,\u001b[0m \u001b[0mv\u001b[0m\u001b[0;34m,\u001b[0m \u001b[0mretain_graph\u001b[0m\u001b[0;34m=\u001b[0m\u001b[0;32mTrue\u001b[0m\u001b[0;34m,\u001b[0m \u001b[0mcreate_graph\u001b[0m\u001b[0;34m=\u001b[0m\u001b[0mcreate_graph\u001b[0m\u001b[0;34m,\u001b[0m \u001b[0mallow_unused\u001b[0m\u001b[0;34m=\u001b[0m\u001b[0mallow_unused\u001b[0m\u001b[0;34m)\u001b[0m\u001b[0;34m[\u001b[0m\u001b[0;36m0\u001b[0m\u001b[0;34m]\u001b[0m\u001b[0;34m.\u001b[0m\u001b[0mreshape\u001b[0m\u001b[0;34m(\u001b[0m\u001b[0mx\u001b[0m\u001b[0;34m.\u001b[0m\u001b[0mshape\u001b[0m\u001b[0;34m)\u001b[0m\u001b[0;34m\u001b[0m\u001b[0;34m\u001b[0m\u001b[0m\n\u001b[0m\u001b[1;32m     26\u001b[0m \u001b[0;34m\u001b[0m\u001b[0m\n\u001b[1;32m     27\u001b[0m     \u001b[0;32mreturn\u001b[0m \u001b[0mvmap\u001b[0m\u001b[0;34m(\u001b[0m\u001b[0mget_vjp\u001b[0m\u001b[0;34m)\u001b[0m\u001b[0;34m(\u001b[0m\u001b[0mtorch\u001b[0m\u001b[0;34m.\u001b[0m\u001b[0meye\u001b[0m\u001b[0;34m(\u001b[0m\u001b[0mlen\u001b[0m\u001b[0;34m(\u001b[0m\u001b[0mflat_y\u001b[0m\u001b[0;34m)\u001b[0m\u001b[0;34m,\u001b[0m \u001b[0mdevice\u001b[0m\u001b[0;34m=\u001b[0m\u001b[0my\u001b[0m\u001b[0;34m.\u001b[0m\u001b[0mdevice\u001b[0m\u001b[0;34m)\u001b[0m\u001b[0;34m)\u001b[0m\u001b[0;34m.\u001b[0m\u001b[0mreshape\u001b[0m\u001b[0;34m(\u001b[0m\u001b[0my\u001b[0m\u001b[0;34m.\u001b[0m\u001b[0mshape\u001b[0m \u001b[0;34m+\u001b[0m \u001b[0mx\u001b[0m\u001b[0;34m.\u001b[0m\u001b[0mshape\u001b[0m\u001b[0;34m)\u001b[0m\u001b[0;34m\u001b[0m\u001b[0;34m\u001b[0m\u001b[0m\n",
      "\u001b[0;32m~/anaconda3/envs/tomopt/lib/python3.8/site-packages/torch/autograd/__init__.py\u001b[0m in \u001b[0;36mgrad\u001b[0;34m(outputs, inputs, grad_outputs, retain_graph, create_graph, only_inputs, allow_unused)\u001b[0m\n\u001b[1;32m    232\u001b[0m         \u001b[0mretain_graph\u001b[0m \u001b[0;34m=\u001b[0m \u001b[0mcreate_graph\u001b[0m\u001b[0;34m\u001b[0m\u001b[0;34m\u001b[0m\u001b[0m\n\u001b[1;32m    233\u001b[0m \u001b[0;34m\u001b[0m\u001b[0m\n\u001b[0;32m--> 234\u001b[0;31m     return Variable._execution_engine.run_backward(\n\u001b[0m\u001b[1;32m    235\u001b[0m         \u001b[0moutputs\u001b[0m\u001b[0;34m,\u001b[0m \u001b[0mgrad_outputs_\u001b[0m\u001b[0;34m,\u001b[0m \u001b[0mretain_graph\u001b[0m\u001b[0;34m,\u001b[0m \u001b[0mcreate_graph\u001b[0m\u001b[0;34m,\u001b[0m\u001b[0;34m\u001b[0m\u001b[0;34m\u001b[0m\u001b[0m\n\u001b[1;32m    236\u001b[0m         inputs, allow_unused, accumulate_grad=False)\n",
      "\u001b[0;31mKeyboardInterrupt\u001b[0m: "
     ]
    }
   ],
   "source": [
    "lr = Tensor([[[0.1,0.1,100,10]]])\n",
    "track = torch.ones(len(hits),1,4, device=hits.device, requires_grad=True)/2\n",
    "\n",
    "for i in progress_bar(range(100)):  # Newton optimise nuisances\n",
    "    nll = get_nll(hits, uncs2, track)\n",
    "    grad = jacobian(nll, track, create_graph=True).sum((2,3))\n",
    "    hesse = jacobian(grad, track, create_graph=True).sum((3,4))\n",
    "    step = lr*(grad.unsqueeze(1)@hesse.inverse()).squeeze(1)\n",
    "    track = track-step\n",
    "    if i > 0 and i % 10 == 0:\n",
    "            lr = lr / 2\n",
    "    print(nll.mean(0).data, track.mean(0).data)"
   ]
  },
  {
   "cell_type": "code",
   "execution_count": 64,
   "id": "fc17660f",
   "metadata": {},
   "outputs": [
    {
     "name": "stdout",
     "output_type": "stream",
     "text": [
      "CPU times: user 7.71 s, sys: 931 ms, total: 8.65 s\n",
      "Wall time: 4.38 s\n"
     ]
    }
   ],
   "source": [
    "%%time\n",
    "jac = jacobian(track, volume.get_detectors()[0].panels[0].phi)"
   ]
  },
  {
   "cell_type": "code",
   "execution_count": 62,
   "id": "e4dc346c",
   "metadata": {},
   "outputs": [
    {
     "data": {
      "text/plain": [
       "torch.Size([10, 1, 4])"
      ]
     },
     "execution_count": 62,
     "metadata": {},
     "output_type": "execute_result"
    }
   ],
   "source": [
    "jac.shape"
   ]
  },
  {
   "cell_type": "code",
   "execution_count": null,
   "id": "950c69fe",
   "metadata": {},
   "outputs": [],
   "source": []
  },
  {
   "cell_type": "code",
   "execution_count": null,
   "id": "c1b5fdb8",
   "metadata": {},
   "outputs": [],
   "source": []
  },
  {
   "cell_type": "code",
   "execution_count": null,
   "id": "9c6c836f",
   "metadata": {},
   "outputs": [],
   "source": []
  }
 ],
 "metadata": {
  "kernelspec": {
   "display_name": "Python [conda env:tomopt]",
   "language": "python",
   "name": "conda-env-tomopt-py"
  },
  "language_info": {
   "codemirror_mode": {
    "name": "ipython",
    "version": 3
   },
   "file_extension": ".py",
   "mimetype": "text/x-python",
   "name": "python",
   "nbconvert_exporter": "python",
   "pygments_lexer": "ipython3",
   "version": "3.8.0"
  },
  "toc": {
   "base_numbering": 1,
   "nav_menu": {},
   "number_sections": true,
   "sideBar": true,
   "skip_h1_title": false,
   "title_cell": "Table of Contents",
   "title_sidebar": "Contents",
   "toc_cell": false,
   "toc_position": {},
   "toc_section_display": true,
   "toc_window_display": false
  }
 },
 "nbformat": 4,
 "nbformat_minor": 5
}
