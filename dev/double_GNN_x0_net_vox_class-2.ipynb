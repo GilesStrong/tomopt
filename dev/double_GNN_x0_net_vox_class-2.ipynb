{
 "cells": [
  {
   "cell_type": "code",
   "execution_count": 1,
   "metadata": {},
   "outputs": [],
   "source": [
    "%matplotlib inline\n",
    "%reload_ext autoreload\n",
    "%autoreload 2"
   ]
  },
  {
   "cell_type": "code",
   "execution_count": 13,
   "metadata": {},
   "outputs": [],
   "source": [
    "import numpy as np\n",
    "from functools import partial\n",
    "import matplotlib.pyplot as plt\n",
    "import seaborn as sns\n",
    "from typing import *\n",
    "\n",
    "import torch\n",
    "from torch import Tensor, nn\n",
    "from torch.nn import functional as F\n",
    "\n",
    "from tomopt.core import *\n",
    "from tomopt.volume import *\n",
    "from tomopt.inference import *\n",
    "from tomopt.muon import *\n",
    "from tomopt.optimisation import *\n",
    "from tomopt.plotting import *"
   ]
  },
  {
   "cell_type": "code",
   "execution_count": 3,
   "metadata": {},
   "outputs": [],
   "source": [
    "DEVICE = torch.device('cpu')"
   ]
  },
  {
   "cell_type": "code",
   "execution_count": 4,
   "metadata": {},
   "outputs": [
    {
     "name": "stderr",
     "output_type": "stream",
     "text": [
      "<ipython-input-4-5787166f89b9>:4: UserWarning: Not providing a value for linspace's steps is deprecated and will throw a runtime error in a future release. This warning will appear only once per process. (Triggered internally at  /pytorch/aten/src/ATen/native/RangeFactories.cpp:23.)\n",
      "  x = torch.linspace(-1, 1)\n"
     ]
    },
    {
     "data": {
      "text/plain": [
       "[<matplotlib.lines.Line2D at 0x7fe315183ac0>]"
      ]
     },
     "execution_count": 4,
     "metadata": {},
     "output_type": "execute_result"
    },
    {
     "data": {
      "image/png": "[encoded data removed]",
      "text/plain": [
       "<Figure size 432x288 with 1 Axes>"
      ]
     },
     "metadata": {
      "needs_background": "light"
     },
     "output_type": "display_data"
    }
   ],
   "source": [
    "def area_cost(x:Tensor) -> Tensor:\n",
    "    return F.relu(x)\n",
    "\n",
    "x = torch.linspace(-1, 1)\n",
    "plt.plot(x, area_cost(x))"
   ]
  },
  {
   "cell_type": "code",
   "execution_count": 5,
   "metadata": {},
   "outputs": [],
   "source": [
    "def get_layers():\n",
    "    layers = []\n",
    "    lwh = Tensor([1,1,1])\n",
    "    size = 0.2\n",
    "    init_eff = 0.5\n",
    "    init_res = 1000\n",
    "    n_panels = 4\n",
    "    layers.append(PanelDetectorLayer(pos='above', lw=lwh[:2], z=1, size=size,\n",
    "                                     panels=[DetectorPanel(res=init_res, eff=init_eff,\n",
    "                                                      init_xyz=[0.5,0.5,1-(i*(size)/n_panels)], init_xy_span=[1.0,1.0],\n",
    "                                                      area_cost_func=area_cost, device=DEVICE) for i in range(n_panels)]))\n",
    "    for z in [0.8,0.6,0.4]:\n",
    "        layers.append(PassiveLayer(lw=lwh[:2], z=z, size=size, device=DEVICE))\n",
    "    layers.append(PanelDetectorLayer(pos='below', lw=lwh[:2], z=0.2, size=size,\n",
    "                                     panels=[DetectorPanel(res=init_res, eff=init_eff,\n",
    "                                                      init_xyz=[0.5,0.5,0.2-(i*(size)/n_panels)], init_xy_span=[1.0,1.0],\n",
    "                                                      area_cost_func=area_cost, device=DEVICE) for i in range(n_panels)]))\n",
    "\n",
    "    return nn.ModuleList(layers) "
   ]
  },
  {
   "cell_type": "code",
   "execution_count": 6,
   "metadata": {},
   "outputs": [
    {
     "data": {
      "text/plain": [
       "Volume(\n",
       "  (layers): ModuleList(\n",
       "    (0): PanelDetectorLayer(\n",
       "      (panels): ModuleList(\n",
       "        (0): <class 'tomopt.volume.panel.DetectorPanel'> located at xy=tensor([0.5000, 0.5000]), z=tensor([1.]), and xy span tensor([1., 1.])\n",
       "        (1): <class 'tomopt.volume.panel.DetectorPanel'> located at xy=tensor([0.5000, 0.5000]), z=tensor([0.9500]), and xy span tensor([1., 1.])\n",
       "        (2): <class 'tomopt.volume.panel.DetectorPanel'> located at xy=tensor([0.5000, 0.5000]), z=tensor([0.9000]), and xy span tensor([1., 1.])\n",
       "        (3): <class 'tomopt.volume.panel.DetectorPanel'> located at xy=tensor([0.5000, 0.5000]), z=tensor([0.8500]), and xy span tensor([1., 1.])\n",
       "      )\n",
       "    )\n",
       "    (1): PassiveLayer()\n",
       "    (2): PassiveLayer()\n",
       "    (3): PassiveLayer()\n",
       "    (4): PanelDetectorLayer(\n",
       "      (panels): ModuleList(\n",
       "        (0): <class 'tomopt.volume.panel.DetectorPanel'> located at xy=tensor([0.5000, 0.5000]), z=tensor([0.2000]), and xy span tensor([1., 1.])\n",
       "        (1): <class 'tomopt.volume.panel.DetectorPanel'> located at xy=tensor([0.5000, 0.5000]), z=tensor([0.1500]), and xy span tensor([1., 1.])\n",
       "        (2): <class 'tomopt.volume.panel.DetectorPanel'> located at xy=tensor([0.5000, 0.5000]), z=tensor([0.1000]), and xy span tensor([1., 1.])\n",
       "        (3): <class 'tomopt.volume.panel.DetectorPanel'> located at xy=tensor([0.5000, 0.5000]), z=tensor([0.0500]), and xy span tensor([1., 1.])\n",
       "      )\n",
       "    )\n",
       "  )\n",
       ")"
      ]
     },
     "execution_count": 6,
     "metadata": {},
     "output_type": "execute_result"
    }
   ],
   "source": [
    "volume = Volume(get_layers())\n",
    "volume"
   ]
  },
  {
   "cell_type": "markdown",
   "metadata": {},
   "source": [
    "# Data"
   ]
  },
  {
   "cell_type": "code",
   "execution_count": 37,
   "metadata": {},
   "outputs": [],
   "source": [
    "from tomopt.optimisation.data.passives import AbsPassiveGenerator\n",
    "\n",
    "from lumin.nn.data.fold_yielder import FoldYielder\n",
    "\n",
    "class ScatterYielder(FoldYielder):\n",
    "    def __init__(self, volume:Volume, passive_generator:AbsPassiveGenerator, mu_bs:int, n_volumes_per_fold:int, targ_as_class:bool):\n",
    "        self.cont_feats,self.cat_feats,self.input_pipe,self.output_pipe = [],[],None,None\n",
    "        self.yield_matrix,self.matrix_pipe = True,None\n",
    "        self.augmented,self.aug_mult,self.train_time_aug,self.test_time_aug = False,0,False,False\n",
    "        self.input_feats = self.cont_feats + self.cat_feats\n",
    "        self.orig_cont_feats,self.orig_cat_feat,self._ignore_feats = self.cont_feats,self.cat_feats,[]\n",
    "        \n",
    "        self.volume,self.passive_generator,self.mu_bs = volume,passive_generator,mu_bs\n",
    "        self.voxel_centres = self._build_centres()\n",
    "        self.targ_as_class = targ_as_class\n",
    "        if self.targ_as_class:\n",
    "            self.class2id = {m:i for i,m in enumerate(self.passive_generator.materials)}\n",
    "            self.id2class = {i:m for i,m in enumerate(self.passive_generator.materials)}\n",
    "            self.x02id = {X0[m]:i for i,m in enumerate(self.passive_generator.materials)}\n",
    "            self.id2x0 = {i:X0[m] for i,m in enumerate(self.passive_generator.materials)}\n",
    "                \n",
    "        self.n_volumes_per_fold = n_volumes_per_fold\n",
    "        self.n_voxels = int(len(self.volume.get_passives())*(self.volume.lw/self.volume.passive_size).prod().item())\n",
    "        self.n_folds = 10\n",
    "        self.has_matrix = True\n",
    "        self.fld_szs = {i:self.n_volumes_per_fold for i in range(self.n_folds)}\n",
    "        \n",
    "        self.targ_feats = [\"X0\"]\n",
    "        self.matrix_feats = {'present_feats': [\"dtheta_x\", \"dtheta_y\", \"dx\", \"dy\", \"pred_x0\", \"dpoca_x\", \"dpoca_y\", \"dpoca_z\", \"dpoca_r\"],\n",
    "                             'vecs': [f'mu_{i}' for i in range(self.mu_bs)], 'missing': [], 'row_wise': True}\n",
    "        self.matrix_feats['feats_per_vec'] = len(self.matrix_feats['present_feats']), \n",
    "        self.matrix_feats['shape'] = (self.mu_bs, self.matrix_feats['feats_per_vec'])\n",
    "        self.matrix_is_sparse = False\n",
    "        self.matrix_shape = self.matrix_feats['shape']\n",
    "        \n",
    "    def _build_centres(self) -> Tensor:\n",
    "        bounds = (\n",
    "            self.volume.passive_size\n",
    "            * np.mgrid[\n",
    "                round(self.volume.get_passive_z_range()[0].detach().cpu().numpy()[0] / self.volume.passive_size) : round(\n",
    "                      self.volume.get_passive_z_range()[1].detach().cpu().numpy()[0] / self.volume.passive_size\n",
    "                ) : 1,\n",
    "                0 : round(self.volume.lw.detach().cpu().numpy()[0] / self.volume.passive_size) : 1,\n",
    "                0 : round(self.volume.lw.detach().cpu().numpy()[1] / self.volume.passive_size) : 1,\n",
    "            ]\n",
    "        )\n",
    "#         bounds[0] = np.flip(bounds[0])  # z is reversed\n",
    "        return torch.tensor(bounds.reshape(3, -1).transpose(-1, -2), dtype=torch.float32) + (self.volume.passive_size/2)\n",
    "        \n",
    "    def generate_data(self) -> Dict[str, np.ndarray]:\n",
    "        inputs,targets = [],[]\n",
    "        for _ in range(self.n_volumes_per_fold):\n",
    "            #Scatter generation\n",
    "            muons = MuonBatch(generate_batch(self.mu_bs), self.volume.h, device=self.volume.device)\n",
    "            block = self.passive_generator.generate()\n",
    "            self.volume.load_rad_length(block)\n",
    "            self.volume(muons)\n",
    "            sb = GenScatterBatch(muons, self.volume)\n",
    "            \n",
    "            # x0 prediction\n",
    "            mom = muons.reco_mom\n",
    "            dtheta = sb.dtheta\n",
    "            theta_xy_in = sb.theta_in\n",
    "            theta_xy_out = sb.theta_out\n",
    "            theta2 = dtheta.pow(2).sum(1)\n",
    "            n_x0 = 0.5 * theta2 * ((mom / SCATTER_COEF_A) ** 2)\n",
    "            theta_in = theta_xy_in.pow(2).sum(1).sqrt()\n",
    "            theta_out = theta_xy_out.pow(2).sum(1).sqrt()\n",
    "            cos_theta_in = torch.cos(theta_in)\n",
    "            cos_theta_out = torch.cos(theta_out)\n",
    "            cos_mean = (cos_theta_in + cos_theta_out) / 2\n",
    "            pred = self.volume.passive_size / (n_x0 * cos_mean)\n",
    "            \n",
    "            #Data creation\n",
    "            data = torch.cat((sb.dtheta, sb.dxy, pred[:,None], sb.location), dim=-1).detach()\n",
    "            data = data[None,:].repeat_interleave(len(self.voxel_centres), dim=0)\n",
    "            data[:,:,-3:] -= self.voxel_centres[:,None].repeat_interleave(self.mu_bs, dim=1)\n",
    "            data = torch.cat((data,torch.norm(data[:,:,-3:], dim=-1, keepdim=True)), dim=-1)  # dR\n",
    "            \n",
    "            # Sort by dR\n",
    "            idxs = data[:,:,-1].argsort()\n",
    "            i = np.arange(data.shape[0])[:,None]\n",
    "            data = data[i,idxs]\n",
    "            \n",
    "            inputs.append(data[None,:])\n",
    "            targets.append(self.volume.get_rad_cube().flatten())\n",
    "        \n",
    "        inputs = torch.cat(inputs, dim=0).detach().cpu().numpy()\n",
    "        targets = torch.stack(targets, dim=0).detach().cpu().numpy()\n",
    "        print(targets.shape)\n",
    "        if self.targ_as_class:\n",
    "            for m in self.passive_generator.materials:\n",
    "                targets[targets == X0[m]] = self.class2id[m]\n",
    "            targets = targets.astype(int)\n",
    "        return {'inputs':(np.zeros((len(inputs),0)),inputs),'targets':targets}\n",
    "        \n",
    "    def get_fold(self, idx:int) -> Dict[str,np.ndarray]:\n",
    "        return self.generate_data()"
   ]
  },
  {
   "cell_type": "code",
   "execution_count": 38,
   "metadata": {},
   "outputs": [],
   "source": [
    "sy = ScatterYielder(volume=volume, passive_generator=VoxelPassiveGenerator(materials=[\"beryllium\",\"lead\"]), mu_bs=100, n_volumes_per_fold=160, targ_as_class=True)"
   ]
  },
  {
   "cell_type": "code",
   "execution_count": 39,
   "metadata": {},
   "outputs": [
    {
     "data": {
      "text/plain": [
       "75"
      ]
     },
     "execution_count": 39,
     "metadata": {},
     "output_type": "execute_result"
    }
   ],
   "source": [
    "sy.n_voxels"
   ]
  },
  {
   "cell_type": "code",
   "execution_count": 40,
   "metadata": {},
   "outputs": [
    {
     "name": "stdout",
     "output_type": "stream",
     "text": [
      "(160, 75)\n"
     ]
    },
    {
     "data": {
      "text/plain": [
       "((160, 75, 100, 9), (160, 75))"
      ]
     },
     "execution_count": 40,
     "metadata": {},
     "output_type": "execute_result"
    }
   ],
   "source": [
    "fold = sy[0]\n",
    "fold['inputs'][1].shape,fold['targets'].shape"
   ]
  },
  {
   "cell_type": "code",
   "execution_count": 41,
   "metadata": {},
   "outputs": [
    {
     "data": {
      "text/plain": [
       "array([0.30022803, 0.30817884, 0.35273668, 0.37139574, 0.39080364,\n",
       "       0.40336394, 0.43659258, 0.44007528, 0.44361407, 0.45162246,\n",
       "       0.4544852 , 0.4685242 , 0.4805765 , 0.4922181 , 0.4948578 ,\n",
       "       0.51994157, 0.53616446, 0.539029  , 0.53989685, 0.54660857,\n",
       "       0.54857314, 0.5566273 , 0.5792566 , 0.5869148 , 0.59182346,\n",
       "       0.59552914, 0.60428935, 0.6044844 , 0.6052807 , 0.60537314,\n",
       "       0.61932564, 0.63349247, 0.6345722 , 0.6351899 , 0.6450681 ,\n",
       "       0.6537459 , 0.6551525 , 0.65813047, 0.6591631 , 0.6621255 ,\n",
       "       0.6690187 , 0.67378956, 0.6850124 , 0.7042213 , 0.7067251 ,\n",
       "       0.7074449 , 0.71380067, 0.71438503, 0.71630144, 0.7165375 ,\n",
       "       0.7211572 , 0.7380758 , 0.73960626, 0.74826014, 0.7506312 ,\n",
       "       0.75394857, 0.756438  , 0.75702363, 0.75913334, 0.76060253,\n",
       "       0.7665566 , 0.77010226, 0.77126265, 0.7738953 , 0.7761524 ,\n",
       "       0.78891265, 0.79121834, 0.8389661 , 0.843919  , 0.84723014,\n",
       "       0.87044877, 0.88758767, 0.8880155 , 0.9016945 , 0.9071418 ,\n",
       "       0.90925467, 0.92066073, 0.9221797 , 0.92419595, 0.9260126 ,\n",
       "       0.9368668 , 0.94011563, 0.9403569 , 0.9482531 , 0.9620963 ,\n",
       "       0.9892478 , 0.98925686, 1.0010915 , 1.0220684 , 1.0394386 ,\n",
       "       1.0720179 , 1.0825291 , 1.0904889 , 1.1049814 , 1.1118436 ,\n",
       "       1.190491  , 1.3645157 , 1.4032575 , 1.4489836 , 1.6057202 ],\n",
       "      dtype=float32)"
      ]
     },
     "execution_count": 41,
     "metadata": {},
     "output_type": "execute_result"
    }
   ],
   "source": [
    "fold['inputs'][1][0,0,:,-1]"
   ]
  },
  {
   "cell_type": "code",
   "execution_count": 42,
   "metadata": {},
   "outputs": [
    {
     "data": {
      "text/plain": [
       "array([[1, 0, 1, ..., 1, 0, 1],\n",
       "       [0, 0, 0, ..., 1, 0, 0],\n",
       "       [0, 0, 1, ..., 1, 0, 1],\n",
       "       ...,\n",
       "       [0, 0, 0, ..., 1, 1, 0],\n",
       "       [0, 1, 1, ..., 1, 1, 0],\n",
       "       [0, 0, 1, ..., 1, 0, 0]])"
      ]
     },
     "execution_count": 42,
     "metadata": {},
     "output_type": "execute_result"
    }
   ],
   "source": [
    "fold['targets']"
   ]
  },
  {
   "cell_type": "markdown",
   "metadata": {},
   "source": [
    "# Classifier"
   ]
  },
  {
   "cell_type": "code",
   "execution_count": null,
   "metadata": {},
   "outputs": [],
   "source": [
    "from lumin.nn.models.blocks.head import *\n",
    "from lumin.nn.models.blocks.head import AbsGraphFeatExtractor\n",
    "from lumin.nn.models.blocks.gnn_blocks import *\n",
    "from lumin.nn.models.initialisations import lookup_normal_init\n",
    "from lumin.nn.models.layers.activations import lookup_act\n",
    "from lumin.nn.models.layers.batchnorms import RunningBatchNorm1d, LCBatchNorm1d, RunningBatchNorm2d\n",
    "\n",
    "from torch._vmap_internals import _vmap as vmap\n",
    "\n",
    "class X0Net(AbsGraphFeatExtractor):\n",
    "    row_wise:Optional[bool] = True\n",
    "        \n",
    "    def __init__(self, n_v:int, n_fpv:int, vox_centres:Tensor,\n",
    "                 do:float=0, rep_bn:bool=False, act:str='relu',\n",
    "                 lookup_init:Callable[[str,Optional[int],Optional[int]],Callable[[Tensor],None]]=lookup_normal_init,\n",
    "                 lookup_act:Callable[[str],Any]=lookup_act, bn_class:Callable[[int],nn.Module]=nn.BatchNorm1d, rep_bn_class:Callable[[int],nn.Module]=nn.BatchNorm2d):\n",
    "        super().__init__(n_v=n_v, n_fpv=n_fpv, do=do, bn=False, act=act, lookup_init=lookup_init, lookup_act=lookup_act, bn_class=bn_class)\n",
    "        \n",
    "        self.n_voxels,self.rep_bn,self.rep_bn_class = len(vox_centres),rep_bn,rep_bn_class\n",
    "                \n",
    "        # GNNs\n",
    "        if self.rep_bn: self.init_bn = self.rep_bn_class(self.n_fpv)\n",
    "        \n",
    "        self.n_muon_rep, self.n_vox_rep = 40, 40\n",
    "        self.muon_rep_gnn = GravNet(n_v=self.n_v, n_fpv=self.n_fpv,\n",
    "                                    cat_means=True,\n",
    "                                    f_slr_depth=3,\n",
    "                                    n_s=4,\n",
    "                                    n_lr=22,\n",
    "                                    k=25,\n",
    "                                    f_out_depth=1,\n",
    "                                    n_out=[48],\n",
    "                                    act=self.act,\n",
    "                                    use_sa=False,\n",
    "                                    bn=False,\n",
    "                                   )\n",
    "        self.muon_rep_collapser = GraphCollapser(n_v=self.n_v, n_fpv=self.muon_rep_gnn.get_out_size()[1],\n",
    "                                                 flatten=False,\n",
    "                                                 f_final_outs=[self.n_muon_rep],\n",
    "                                                 n_sa_layers=0,\n",
    "                                                 global_feat_vec=False,\n",
    "                                                 act=self.act,\n",
    "                                                 bn=False,\n",
    "                                                )\n",
    "        \n",
    "        if self.rep_bn: self.muon_rep_bn = self.rep_bn_class(self.muon_rep_collapser.get_out_size()+4)\n",
    "        \n",
    "        self.vox_rep_gnn = GravNet(n_v=self.n_voxels, n_fpv=self.muon_rep_collapser.get_out_size()+4,\n",
    "                                   cat_means=True,\n",
    "                                   f_slr_depth=3,\n",
    "                                   n_s=4,\n",
    "                                   n_lr=22,\n",
    "                                   k=12,\n",
    "                                   f_out_depth=1,\n",
    "                                   n_out=[48],\n",
    "                                   act=self.act,\n",
    "                                   use_sa=False,\n",
    "                                   bn=False,\n",
    "                                  )\n",
    "        self.vox_rep_collapser = GraphCollapser(n_v=self.n_voxels, n_fpv=self.vox_rep_gnn.get_out_size()[1],\n",
    "                                                flatten=False,\n",
    "                                                f_final_outs=[self.n_vox_rep],\n",
    "                                                n_sa_layers=0,\n",
    "                                                global_feat_vec=False,\n",
    "                                                act=self.act,\n",
    "                                                bn=False,\n",
    "                                               )\n",
    "        \n",
    "        # Relative voxel positions\n",
    "        self.vox_centres = vox_centres  # (voxel,coords)\n",
    "        vox_dists = self.vox_centres[None]-self.vox_centres[:,None]  # (voxel,voxel,coords)\n",
    "        self.register_buffer('vox_dists', torch.cat((vox_dists,vox_dists.norm(dim=-1, keepdim=True)), dim=-1))\n",
    "        \n",
    "    def forward(self, x:Tensor) -> Tensor:\n",
    "        r'''x=(volume,voxel,muon,feature)'''\n",
    "        if self.rep_bn: x = self.init_bn(x.transpose(1,-1)).transpose(1,-1)\n",
    "        \n",
    "        def get_muon_rep(x:Tensor) -> Tensor:\n",
    "            r'''(voxel,muon,feature)'''\n",
    "            return self.muon_rep_collapser(self.muon_rep_gnn(x))\n",
    "        \n",
    "#         muon_rep = vmap(get_muon_rep)(x)  # (volume,voxel,muon_rep)\n",
    "        muon_rep = torch.stack([get_muon_rep(v) for v in x.unbind()], dim=0)  # (volume,voxel,muon_rep)\n",
    "        muon_rep = muon_rep[:,None].expand(-1,self.n_voxels, -1,-1)  # (volume,voxel,voxel,muon_rep)\n",
    "        muon_rep = torch.cat((muon_rep, self.vox_dists[None].expand(len(muon_rep), -1, -1, -1)), dim=-1)\n",
    "        if self.rep_bn: muon_rep = self.muon_rep_bn(muon_rep.transpose(1,-1)).transpose(1,-1)\n",
    "        \n",
    "        def get_vox_rep(x:Tensor) -> Tensor:\n",
    "            r'''(voxel,voxel,muon_rep)'''\n",
    "            return self.vox_rep_collapser(self.vox_rep_gnn(x))\n",
    "        \n",
    "#         vox_rep = vmap(get_vox_rep)(muon_rep)  # (volume,voxel,class)\n",
    "        vox_rep = torch.stack([get_vox_rep(v) for v in muon_rep.unbind()], dim=0)  # (volume,voxel,class)\n",
    "        return vox_rep\n",
    "    \n",
    "    def get_out_size(self) -> Tuple[int,int]: return self.n_voxels, self.n_vox_rep*2"
   ]
  },
  {
   "cell_type": "code",
   "execution_count": null,
   "metadata": {
    "scrolled": false
   },
   "outputs": [],
   "source": [
    "from lumin.nn.models.blocks.body import FullyConnected\n",
    "from lumin.nn.models.blocks.tail import ClassRegMulti\n",
    "\n",
    "from lumin.nn.models.model_builder import ModelBuilder\n",
    "from lumin.nn.models.model import Model\n",
    "from lumin.optimisation.hyper_param import lr_find\n",
    "\n",
    "head = partial(GNNHead, vecs=sy.matrix_feats['vecs'], feats_per_vec=sy.matrix_feats['present_feats'],\n",
    "               extractor=partial(X0Net, vox_centres=sy.voxel_centres, rep_bn=True, rep_bn_class=RunningBatchNorm2d, act='swish'),\n",
    "               collapser=partial(GraphCollapser,\n",
    "                                 flatten=True,\n",
    "                                 f_final_outs=[len(sy.passive_generator.materials)],\n",
    "                                 bn=False,\n",
    "                                 act='swish',\n",
    "                                 bn_class=RunningBatchNorm1d\n",
    "                                ))\n",
    "\n",
    "body = partial(FullyConnected, depth=3, width=50, act='swish')\n",
    "opt_args = {'opt':'adam', 'eps':1e-08}\n",
    "model_builder = ModelBuilder('multiclass', cont_feats=sy.matrix_feats['present_feats'], n_out=len(sy.passive_generator.materials), \n",
    "                             opt_args=opt_args, body=body, head=head)\n",
    "print(Model(model_builder))"
   ]
  },
  {
   "cell_type": "code",
   "execution_count": null,
   "metadata": {},
   "outputs": [],
   "source": [
    "sy.get_data_count(0)"
   ]
  },
  {
   "cell_type": "code",
   "execution_count": null,
   "metadata": {},
   "outputs": [],
   "source": [
    "lr_finder = lr_find(sy, model_builder, bs=16, lr_bounds=[1e-5,1e0], n_repeats=3, bulk_move=False)"
   ]
  },
  {
   "cell_type": "code",
   "execution_count": null,
   "metadata": {},
   "outputs": [],
   "source": [
    "from lumin.nn.callbacks.cyclic_callbacks import OneCycle\n",
    "from lumin.nn.metrics.class_eval import RocAucScore\n",
    "from functools import partial\n",
    "\n",
    "cb_partials = [partial(OneCycle, lengths=[5, 10],lr_range=[1e-5, 1e-3], mom_range=[0.85, 0.95], interp='cosine')]\n",
    "metric_partials = (partial(RocAucScore, average='weighted', multi_class='ovr'))"
   ]
  },
  {
   "cell_type": "code",
   "execution_count": null,
   "metadata": {
    "scrolled": false
   },
   "outputs": [],
   "source": [
    "from lumin.nn.training.train import train_models\n",
    "_ = train_models(sy, n_models=1,\n",
    "                 model_builder=model_builder,\n",
    "                 bs=16,\n",
    "                 cb_partials=cb_partials,\n",
    "                 metric_partials=metric_partials,\n",
    "                 n_epochs=15,\n",
    "                 bulk_move=False)"
   ]
  },
  {
   "cell_type": "code",
   "execution_count": null,
   "metadata": {},
   "outputs": [],
   "source": [
    "model = Model.from_save('train_weights/model_id_0/best.h5', model_builder)"
   ]
  },
  {
   "cell_type": "code",
   "execution_count": null,
   "metadata": {},
   "outputs": [],
   "source": [
    "data = sy[0]"
   ]
  },
  {
   "cell_type": "code",
   "execution_count": null,
   "metadata": {},
   "outputs": [],
   "source": [
    "pred = model.predict(data['inputs'])"
   ]
  },
  {
   "cell_type": "code",
   "execution_count": null,
   "metadata": {},
   "outputs": [],
   "source": [
    "pred"
   ]
  },
  {
   "cell_type": "code",
   "execution_count": null,
   "metadata": {},
   "outputs": [],
   "source": [
    "data['inputs'][1][0,0]"
   ]
  },
  {
   "cell_type": "code",
   "execution_count": null,
   "metadata": {},
   "outputs": [],
   "source": [
    "pred_class = pred.argmax(-1)\n",
    "# pred_class = pred > 0.5"
   ]
  },
  {
   "cell_type": "code",
   "execution_count": null,
   "metadata": {},
   "outputs": [],
   "source": [
    "pred_class"
   ]
  },
  {
   "cell_type": "code",
   "execution_count": null,
   "metadata": {},
   "outputs": [],
   "source": [
    "targs = data['targets'].flatten()"
   ]
  },
  {
   "cell_type": "code",
   "execution_count": null,
   "metadata": {},
   "outputs": [],
   "source": [
    "targs"
   ]
  },
  {
   "cell_type": "code",
   "execution_count": null,
   "metadata": {},
   "outputs": [],
   "source": [
    "from sklearn.metrics import confusion_matrix, roc_auc_score"
   ]
  },
  {
   "cell_type": "code",
   "execution_count": null,
   "metadata": {},
   "outputs": [],
   "source": [
    "confusion_matrix(targs, pred_class)"
   ]
  },
  {
   "cell_type": "code",
   "execution_count": null,
   "metadata": {},
   "outputs": [],
   "source": [
    "import pandas as pd"
   ]
  },
  {
   "cell_type": "code",
   "execution_count": null,
   "metadata": {},
   "outputs": [],
   "source": [
    "df = pd.DataFrame(confusion_matrix(targs, pred_class), sy.passive_generator.materials, sy.passive_generator.materials)\n",
    "# plt.figure(figsize=(10,7))\n",
    "sns.set(font_scale=1.4) # for label size\n",
    "sns.heatmap(df, annot=True, annot_kws={\"size\": 16}) # font size\n",
    "plt.ylabel('Target')\n",
    "plt.xlabel('Predicted')"
   ]
  },
  {
   "cell_type": "code",
   "execution_count": null,
   "metadata": {},
   "outputs": [],
   "source": [
    "roc_auc_score(y_true=targs, y_score=pred, multi_class='ovr', average='weighted')"
   ]
  },
  {
   "cell_type": "code",
   "execution_count": null,
   "metadata": {},
   "outputs": [],
   "source": []
  }
 ],
 "metadata": {
  "kernelspec": {
   "display_name": "Python [conda env:tomopt]",
   "language": "python",
   "name": "conda-env-tomopt-py"
  },
  "language_info": {
   "codemirror_mode": {
    "name": "ipython",
    "version": 3
   },
   "file_extension": ".py",
   "mimetype": "text/x-python",
   "name": "python",
   "nbconvert_exporter": "python",
   "pygments_lexer": "ipython3",
   "version": "3.8.11"
  },
  "toc": {
   "base_numbering": 1,
   "nav_menu": {},
   "number_sections": true,
   "sideBar": true,
   "skip_h1_title": false,
   "title_cell": "Table of Contents",
   "title_sidebar": "Contents",
   "toc_cell": false,
   "toc_position": {},
   "toc_section_display": true,
   "toc_window_display": false
  }
 },
 "nbformat": 4,
 "nbformat_minor": 2
}
