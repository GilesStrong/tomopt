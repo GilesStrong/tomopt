{
 "cells": [
  {
   "cell_type": "code",
   "execution_count": 1,
   "metadata": {},
   "outputs": [],
   "source": [
    "%matplotlib inline\n",
    "%reload_ext autoreload\n",
    "%autoreload 2"
   ]
  },
  {
   "cell_type": "code",
   "execution_count": 2,
   "metadata": {},
   "outputs": [],
   "source": [
    "from functools import partial\n",
    "import numpy as np\n",
    "from torch import nn\n",
    "import matplotlib.pyplot as plt\n",
    "import seaborn as sns\n",
    "\n",
    "import torch\n",
    "from torch import Tensor\n",
    "from torch.nn import functional as F\n",
    "from torch.profiler import profile, record_function, ProfilerActivity\n",
    "\n",
    "from tomopt.muon import MuonBatch, generate_batch\n",
    "from tomopt.volume import PassiveLayer, VoxelDetectorLayer, Volume\n",
    "from tomopt.optimisation import VoxelVolumeWrapper, DetectorLoss, PassiveYielder, NoMoreNaNs, VoxelMetricLogger\n",
    "from tomopt.inference import VoxelScatterBatch, VoxelX0Inferer\n",
    "from tomopt.core import X0"
   ]
  },
  {
   "cell_type": "code",
   "execution_count": 3,
   "metadata": {},
   "outputs": [
    {
     "data": {
      "text/plain": [
       "[<matplotlib.lines.Line2D at 0x7f283540bee0>]"
      ]
     },
     "execution_count": 3,
     "metadata": {},
     "output_type": "execute_result"
    },
    {
     "data": {
      "image/png": "[encoded data removed]",
      "text/plain": [
       "<Figure size 432x288 with 1 Axes>"
      ]
     },
     "metadata": {
      "needs_background": "light"
     },
     "output_type": "display_data"
    }
   ],
   "source": [
    "def eff_cost(x:Tensor) -> Tensor:\n",
    "    return torch.expm1(3*F.relu(x))  # free for negative efficiency, sharp rise as efficiency increases\n",
    "\n",
    "x = torch.linspace(0,1,10)\n",
    "plt.plot(x, eff_cost(x))"
   ]
  },
  {
   "cell_type": "code",
   "execution_count": 4,
   "metadata": {},
   "outputs": [
    {
     "data": {
      "text/plain": [
       "[<matplotlib.lines.Line2D at 0x7f28332705e0>]"
      ]
     },
     "execution_count": 4,
     "metadata": {},
     "output_type": "execute_result"
    },
    {
     "data": {
      "image/png": "[encoded data removed]",
      "text/plain": [
       "<Figure size 432x288 with 1 Axes>"
      ]
     },
     "metadata": {
      "needs_background": "light"
     },
     "output_type": "display_data"
    }
   ],
   "source": [
    "def res_cost(x:Tensor) -> Tensor:\n",
    "    return F.relu(x/100)**2  # free for negative resoltuion, gradual rise as resoltuion increases\n",
    "\n",
    "x = torch.logspace(1,4,100)\n",
    "plt.plot(x, res_cost(x))"
   ]
  },
  {
   "cell_type": "code",
   "execution_count": 5,
   "metadata": {},
   "outputs": [],
   "source": [
    "def arb_rad_length(*,z:float, lw:Tensor, size:float) -> float:\n",
    "    rad_length = torch.ones(list((lw/size).long()))*X0['beryllium']\n",
    "    if z >= 0.4 and z <= 0.5: rad_length[5:,5:] = X0['lead']\n",
    "    return rad_length"
   ]
  },
  {
   "cell_type": "code",
   "execution_count": 6,
   "metadata": {},
   "outputs": [],
   "source": [
    "def profile_func(func, name, profs, sort):\n",
    "    with profile(activities=[ProfilerActivity.CPU, ProfilerActivity.CUDA]) as profs[name]:\n",
    "        with record_function(name):\n",
    "            val = func()\n",
    "\n",
    "    print(profs[name].key_averages(group_by_input_shape=True).table(sort_by=sort, row_limit=10))\n",
    "    return val"
   ]
  },
  {
   "cell_type": "markdown",
   "metadata": {},
   "source": [
    "# CPU"
   ]
  },
  {
   "cell_type": "code",
   "execution_count": 7,
   "metadata": {},
   "outputs": [],
   "source": [
    "DEVICE = torch.device('cpu')"
   ]
  },
  {
   "cell_type": "code",
   "execution_count": 8,
   "metadata": {},
   "outputs": [],
   "source": [
    "def get_layers():\n",
    "    layers = []\n",
    "    lwh = Tensor([1,1,1])\n",
    "    size = 0.1\n",
    "    init_eff = 0.5\n",
    "    init_res = 1000\n",
    "    pos = 'above'\n",
    "    for z,d in zip(np.arange(lwh[2],0,-size), [1,1,0,0,0,0,0,0,1,1]):\n",
    "        if d:\n",
    "            layers.append(VoxelDetectorLayer(pos=pos, init_eff=init_eff, init_res=init_res, device=DEVICE,\n",
    "                                        lw=lwh[:2], z=z, size=size, eff_cost_func=eff_cost, res_cost_func=res_cost))\n",
    "        else:\n",
    "            pos = 'below'\n",
    "            layers.append(PassiveLayer(rad_length_func=arb_rad_length, lw=lwh[:2], z=z, size=size, device=DEVICE))\n",
    "\n",
    "    return nn.ModuleList(layers) "
   ]
  },
  {
   "cell_type": "code",
   "execution_count": 9,
   "metadata": {},
   "outputs": [
    {
     "data": {
      "text/plain": [
       "Volume(\n",
       "  (layers): ModuleList(\n",
       "    (0): VoxelDetectorLayer()\n",
       "    (1): VoxelDetectorLayer()\n",
       "    (2): PassiveLayer()\n",
       "    (3): PassiveLayer()\n",
       "    (4): PassiveLayer()\n",
       "    (5): PassiveLayer()\n",
       "    (6): PassiveLayer()\n",
       "    (7): PassiveLayer()\n",
       "    (8): VoxelDetectorLayer()\n",
       "    (9): VoxelDetectorLayer()\n",
       "  )\n",
       ")"
      ]
     },
     "execution_count": 9,
     "metadata": {},
     "output_type": "execute_result"
    }
   ],
   "source": [
    "volume = Volume(get_layers())\n",
    "volume"
   ]
  },
  {
   "cell_type": "markdown",
   "metadata": {},
   "source": [
    "## Through Volume"
   ]
  },
  {
   "cell_type": "code",
   "execution_count": 34,
   "metadata": {},
   "outputs": [],
   "source": [
    "muons = MuonBatch(generate_batch(100), init_z=1, device=DEVICE)"
   ]
  },
  {
   "cell_type": "code",
   "execution_count": 35,
   "metadata": {},
   "outputs": [],
   "source": [
    "cpu_profs = {}"
   ]
  },
  {
   "cell_type": "code",
   "execution_count": 36,
   "metadata": {},
   "outputs": [
    {
     "name": "stdout",
     "output_type": "stream",
     "text": [
      "-----------------------------  ------------  ------------  ------------  ------------  ------------  ------------  \n",
      "                         Name    Self CPU %      Self CPU   CPU total %     CPU total  CPU time avg    # of Calls  \n",
      "-----------------------------  ------------  ------------  ------------  ------------  ------------  ------------  \n",
      "           volume_propagation        31.67%      11.445ms        99.91%      36.111ms      36.111ms             1  \n",
      "                  aten::index         7.49%       2.707ms        11.92%       4.309ms      33.664us           128  \n",
      "                    aten::mul         6.94%       2.510ms        11.14%       4.027ms      13.075us           308  \n",
      "                 aten::select         7.77%       2.810ms         8.79%       3.176ms       5.514us           576  \n",
      "                  aten::slice         7.31%       2.641ms         8.18%       2.957ms       6.542us           452  \n",
      "                     aten::to         4.09%       1.480ms         6.93%       2.506ms       5.012us           500  \n",
      "                     aten::ge         1.91%     691.000us         5.43%       1.964ms      30.688us            64  \n",
      "             aten::index_put_         0.94%     341.000us         4.95%       1.788ms      31.929us            56  \n",
      "       aten::_index_put_impl_         2.29%     826.000us         4.00%       1.447ms      25.839us            56  \n",
      "                  aten::copy_         3.13%       1.131ms         3.13%       1.131ms       3.534us           320  \n",
      "-----------------------------  ------------  ------------  ------------  ------------  ------------  ------------  \n",
      "Self CPU time total: 36.143ms\n",
      "\n"
     ]
    }
   ],
   "source": [
    "profile_func(partial(volume, muons), name='volume_propagation', profs=cpu_profs, sort=\"cpu_time_total\")"
   ]
  },
  {
   "cell_type": "markdown",
   "metadata": {},
   "source": [
    "## Scatter inference"
   ]
  },
  {
   "cell_type": "code",
   "execution_count": 37,
   "metadata": {},
   "outputs": [
    {
     "name": "stdout",
     "output_type": "stream",
     "text": [
      "-----------------------------  ------------  ------------  ------------  ------------  ------------  ------------  \n",
      "                         Name    Self CPU %      Self CPU   CPU total %     CPU total  CPU time avg    # of Calls  \n",
      "-----------------------------  ------------  ------------  ------------  ------------  ------------  ------------  \n",
      "            scatter_inference        24.46%       2.087ms        99.67%       8.503ms       8.503ms             1  \n",
      "                  aten::slice        11.41%     973.000us        12.50%       1.066ms       7.107us           150  \n",
      "                    aten::cat         1.79%     153.000us         9.58%     817.000us      26.355us            31  \n",
      "                    aten::mul         6.39%     545.000us         7.97%     680.000us      20.000us            34  \n",
      "                   aten::_cat         5.10%     435.000us         7.78%     664.000us      21.419us            31  \n",
      "                  aten::index         5.01%     427.000us         7.02%     599.000us      33.278us            18  \n",
      "                  aten::stack         3.33%     284.000us         6.51%     555.000us      37.000us            15  \n",
      "                    aten::div         5.11%     436.000us         6.47%     552.000us      16.727us            33  \n",
      "                 aten::matmul         0.36%      31.000us         4.70%     401.000us     401.000us             1  \n",
      "                     aten::to         2.36%     201.000us         4.47%     381.000us       4.948us            77  \n",
      "-----------------------------  ------------  ------------  ------------  ------------  ------------  ------------  \n",
      "Self CPU time total: 8.531ms\n",
      "\n"
     ]
    }
   ],
   "source": [
    "sb = profile_func(partial(VoxelScatterBatch, mu=muons, volume=volume), name='scatter_inference', profs=cpu_profs, sort=\"cpu_time_total\")"
   ]
  },
  {
   "cell_type": "code",
   "execution_count": 38,
   "metadata": {},
   "outputs": [
    {
     "name": "stdout",
     "output_type": "stream",
     "text": [
      "----------------------------------  ------------  ------------  ------------  ------------  ------------  ------------  \n",
      "                              Name    Self CPU %      Self CPU   CPU total %     CPU total  CPU time avg    # of Calls  \n",
      "----------------------------------  ------------  ------------  ------------  ------------  ------------  ------------  \n",
      "                      location_unc         1.76%      35.437ms       100.00%        2.008s        2.008s             1  \n",
      "                      aten::matmul         7.71%     154.885ms        60.06%        1.206s     150.137us          8032  \n",
      "            aten::_index_put_impl_        13.75%     276.196ms        35.62%     715.208ms      44.700us         16000  \n",
      "                   InverseBackward         0.04%     894.000us        33.42%     671.147ms      41.947ms            16  \n",
      "                     IndexBackward         0.04%     826.000us        23.67%     475.375ms       7.428ms            64  \n",
      "                         aten::mul         8.11%     162.838ms        16.18%     324.806ms     213.407us          1522  \n",
      "                      aten::select        12.94%     259.736ms        14.10%     283.056ms       4.386us         64530  \n",
      "                       aten::cross         4.53%      91.002ms        13.35%     268.149ms      33.519us          8000  \n",
      "                    SWhereBackward         0.02%     331.000us         9.42%     189.207ms      11.825ms            16  \n",
      "                     CrossBackward         0.01%     200.000us         9.00%     180.701ms      11.294ms            16  \n",
      "----------------------------------  ------------  ------------  ------------  ------------  ------------  ------------  \n",
      "Self CPU time total: 2.008s\n",
      "\n"
     ]
    }
   ],
   "source": [
    "n = 'location_unc'\n",
    "with profile(activities=[ProfilerActivity.CPU]) as cpu_profs[n]:\n",
    "    with record_function(n):\n",
    "        sb.location_unc\n",
    "\n",
    "print(cpu_profs[n].key_averages(group_by_input_shape=True).table(sort_by=\"cpu_time_total\", row_limit=10))"
   ]
  },
  {
   "cell_type": "code",
   "execution_count": 39,
   "metadata": {},
   "outputs": [
    {
     "name": "stdout",
     "output_type": "stream",
     "text": [
      "---------------------------  ------------  ------------  ------------  ------------  ------------  ------------  \n",
      "                       Name    Self CPU %      Self CPU   CPU total %     CPU total  CPU time avg    # of Calls  \n",
      "---------------------------  ------------  ------------  ------------  ------------  ------------  ------------  \n",
      "                 dtheta_unc         3.28%      33.190ms        99.99%        1.012s        1.012s             1  \n",
      "     aten::_index_put_impl_        23.51%     237.855ms        59.77%     604.676ms      56.575us         10688  \n",
      "              IndexBackward         0.08%     849.000us        40.14%     406.138ms       6.346ms            64  \n",
      "                  aten::mul        13.67%     138.287ms        27.41%     277.339ms     187.138us          1482  \n",
      "               aten::select        14.33%     144.995ms        15.97%     161.597ms       5.519us         29280  \n",
      "             SWhereBackward         0.03%     340.000us        14.57%     147.419ms       9.214ms            16  \n",
      "               MulBackward0         0.34%       3.469ms        12.96%     131.149ms     683.068us           192  \n",
      "                aten::where         2.14%      21.628ms        10.18%     102.980ms      38.540us          2672  \n",
      "           aten::zeros_like         2.43%      24.595ms         9.85%      99.665ms      37.300us          2672  \n",
      "              SliceBackward         0.24%       2.437ms         8.08%      81.705ms     134.383us           608  \n",
      "---------------------------  ------------  ------------  ------------  ------------  ------------  ------------  \n",
      "Self CPU time total: 1.012s\n",
      "\n"
     ]
    }
   ],
   "source": [
    "n = 'dtheta_unc'\n",
    "with profile(activities=[ProfilerActivity.CPU]) as cpu_profs[n]:\n",
    "    with record_function(n):\n",
    "        sb.dtheta_unc\n",
    "\n",
    "print(cpu_profs[n].key_averages(group_by_input_shape=True).table(sort_by=\"cpu_time_total\", row_limit=10))"
   ]
  },
  {
   "cell_type": "code",
   "execution_count": 40,
   "metadata": {},
   "outputs": [
    {
     "name": "stdout",
     "output_type": "stream",
     "text": [
      "---------------------------  ------------  ------------  ------------  ------------  ------------  ------------  \n",
      "                       Name    Self CPU %      Self CPU   CPU total %     CPU total  CPU time avg    # of Calls  \n",
      "---------------------------  ------------  ------------  ------------  ------------  ------------  ------------  \n",
      "               theta_in_unc         3.18%       7.669ms        99.99%     241.275ms     241.275ms             1  \n",
      "     aten::_index_put_impl_        26.49%      63.925ms        63.67%     153.640ms      57.500us          2672  \n",
      "              IndexBackward         0.09%     216.000us        42.96%     103.664ms       6.479ms            16  \n",
      "                  aten::mul        13.45%      32.447ms        26.99%      65.133ms     181.429us           359  \n",
      "               aten::select        14.40%      34.743ms        16.10%      38.858ms       5.308us          7320  \n",
      "             SWhereBackward         0.04%      85.000us        14.72%      35.514ms       8.879ms             4  \n",
      "               MulBackward0         0.36%     859.000us        12.86%      31.040ms     646.667us            48  \n",
      "                aten::where         2.15%       5.200ms        10.25%      24.736ms      37.030us           668  \n",
      "           aten::zeros_like         2.49%       6.008ms        10.10%      24.364ms      36.473us           668  \n",
      "                  aten::div         3.72%       8.982ms         7.42%      17.900ms      82.870us           216  \n",
      "---------------------------  ------------  ------------  ------------  ------------  ------------  ------------  \n",
      "Self CPU time total: 241.311ms\n",
      "\n"
     ]
    }
   ],
   "source": [
    "n = 'theta_in_unc'\n",
    "with profile(activities=[ProfilerActivity.CPU]) as cpu_profs[n]:\n",
    "    with record_function(n):\n",
    "        sb.theta_in_unc\n",
    "\n",
    "print(cpu_profs[n].key_averages(group_by_input_shape=True).table(sort_by=\"cpu_time_total\", row_limit=10))"
   ]
  },
  {
   "cell_type": "code",
   "execution_count": 41,
   "metadata": {},
   "outputs": [
    {
     "name": "stdout",
     "output_type": "stream",
     "text": [
      "---------------------------  ------------  ------------  ------------  ------------  ------------  ------------  \n",
      "                       Name    Self CPU %      Self CPU   CPU total %     CPU total  CPU time avg    # of Calls  \n",
      "---------------------------  ------------  ------------  ------------  ------------  ------------  ------------  \n",
      "              theta_out_unc         2.95%       7.321ms        99.99%     247.806ms     247.806ms             1  \n",
      "     aten::_index_put_impl_        25.43%      63.031ms        62.90%     155.892ms      58.343us          2672  \n",
      "              IndexBackward         0.09%     218.000us        42.80%     106.067ms       6.629ms            16  \n",
      "                  aten::mul        13.21%      32.741ms        26.53%      65.743ms     183.128us           359  \n",
      "               aten::select        15.34%      38.025ms        17.03%      42.213ms       5.767us          7320  \n",
      "             SWhereBackward         0.04%      87.000us        15.53%      38.477ms       9.619ms             4  \n",
      "               MulBackward0         0.34%     839.000us        12.60%      31.217ms     650.354us            48  \n",
      "                aten::where         2.38%       5.907ms        10.68%      26.468ms      39.623us           668  \n",
      "           aten::zeros_like         2.69%       6.660ms        10.67%      26.438ms      39.578us           668  \n",
      "                  aten::div         3.63%       8.992ms         7.21%      17.864ms      82.704us           216  \n",
      "---------------------------  ------------  ------------  ------------  ------------  ------------  ------------  \n",
      "Self CPU time total: 247.838ms\n",
      "\n"
     ]
    }
   ],
   "source": [
    "n = 'theta_out_unc'\n",
    "with profile(activities=[ProfilerActivity.CPU]) as cpu_profs[n]:\n",
    "    with record_function(n):\n",
    "        sb.theta_out_unc\n",
    "\n",
    "print(cpu_profs[n].key_averages(group_by_input_shape=True).table(sort_by=\"cpu_time_total\", row_limit=10))"
   ]
  },
  {
   "cell_type": "markdown",
   "metadata": {},
   "source": [
    "## X0 Inference"
   ]
  },
  {
   "cell_type": "code",
   "execution_count": 42,
   "metadata": {},
   "outputs": [],
   "source": [
    "x0_inferer = VoxelX0Inferer(scatters=sb)"
   ]
  },
  {
   "cell_type": "code",
   "execution_count": 43,
   "metadata": {},
   "outputs": [
    {
     "data": {
      "text/plain": [
       "tensor([ True, False,  True,  True, False, False,  True,  True,  True, False,\n",
       "         True,  True,  True,  True, False,  True, False, False,  True, False,\n",
       "         True,  True,  True, False, False,  True,  True,  True, False,  True,\n",
       "         True,  True,  True, False,  True, False, False, False, False,  True,\n",
       "        False,  True,  True, False,  True, False,  True,  True,  True,  True,\n",
       "         True, False,  True,  True,  True,  True, False,  True, False, False,\n",
       "        False,  True,  True, False, False,  True, False, False, False,  True,\n",
       "         True,  True, False, False,  True,  True, False, False, False,  True,\n",
       "        False,  True,  True])"
      ]
     },
     "execution_count": 43,
     "metadata": {},
     "output_type": "execute_result"
    }
   ],
   "source": [
    "x0_inferer.mask"
   ]
  },
  {
   "cell_type": "code",
   "execution_count": 44,
   "metadata": {},
   "outputs": [
    {
     "name": "stdout",
     "output_type": "stream",
     "text": [
      "-----------------------------  ------------  ------------  ------------  ------------  ------------  ------------  \n",
      "                         Name    Self CPU %      Self CPU   CPU total %     CPU total  CPU time avg    # of Calls  \n",
      "-----------------------------  ------------  ------------  ------------  ------------  ------------  ------------  \n",
      "                       x0_inf        45.68%       6.207ms        99.81%      13.562ms      13.562ms             1  \n",
      "                    aten::mul        14.68%       1.995ms        26.32%       3.576ms      24.162us           148  \n",
      "                 PowBackward0         0.96%     130.000us         8.69%       1.181ms     131.222us             9  \n",
      "                 MulBackward0         1.74%     237.000us         7.83%       1.064ms      44.333us            24  \n",
      "           ReciprocalBackward         0.75%     102.000us         5.00%     680.000us      75.556us             9  \n",
      "                    aten::eye         1.29%     175.000us         4.65%     632.000us      35.111us            18  \n",
      "                    aten::sum         3.25%     442.000us         4.19%     570.000us      30.000us            19  \n",
      "                    aten::pow         2.39%     325.000us         3.93%     534.000us      33.375us            16  \n",
      "                   aten::view         3.79%     515.000us         3.79%     515.000us       5.421us            95  \n",
      "                    aten::div         1.98%     269.000us         3.69%     501.000us      25.050us            20  \n",
      "-----------------------------  ------------  ------------  ------------  ------------  ------------  ------------  \n",
      "Self CPU time total: 13.588ms\n",
      "\n"
     ]
    },
    {
     "data": {
      "text/plain": [
       "(tensor([0.0008, 0.0022, 0.0056, 0.0008, 0.0054, 0.0075, 0.0021, 0.0019, 0.0006,\n",
       "         0.0127, 0.0010, 0.0019, 0.0006, 0.0044, 0.0010, 0.0016, 0.0037, 0.0032,\n",
       "         0.0025, 0.0035, 0.0012, 0.0045, 0.0030, 0.0011, 0.0054, 0.0033, 0.0015,\n",
       "         0.0035, 0.0020, 0.0007, 0.0099, 0.0038, 0.0048, 0.0017, 0.0007, 0.0024,\n",
       "         0.0043, 0.0046, 0.0093, 0.0071, 0.0020, 0.0011, 0.0005, 0.0028, 0.0008,\n",
       "         0.0008, 0.0007, 0.0026], dtype=torch.float64, grad_fn=<MulBackward0>),\n",
       " tensor([0.0005, 0.0023, 0.0097, 0.0005, 0.0091, 0.0143, 0.0022, 0.0019, 0.0003,\n",
       "         0.0326, 0.0007, 0.0019, 0.0003, 0.0067, 0.0007, 0.0015, 0.0052, 0.0042,\n",
       "         0.0029, 0.0047, 0.0010, 0.0070, 0.0039, 0.0009, 0.0092, 0.0044, 0.0013,\n",
       "         0.0047, 0.0021, 0.0004, 0.0229, 0.0055, 0.0076, 0.0016, 0.0005, 0.0027,\n",
       "         0.0065, 0.0071, 0.0208, 0.0139, 0.0021, 0.0009, 0.0003, 0.0035, 0.0005,\n",
       "         0.0005, 0.0004, 0.0030], dtype=torch.float64, grad_fn=<SqrtBackward>))"
      ]
     },
     "execution_count": 44,
     "metadata": {},
     "output_type": "execute_result"
    }
   ],
   "source": [
    "profile_func(x0_inferer.x0_from_dtheta, name='x0_inf', profs=cpu_profs, sort=\"cpu_time_total\")"
   ]
  },
  {
   "cell_type": "code",
   "execution_count": 45,
   "metadata": {},
   "outputs": [
    {
     "name": "stdout",
     "output_type": "stream",
     "text": [
      "-----------------------------  ------------  ------------  ------------  ------------  ------------  ------------  \n",
      "                         Name    Self CPU %      Self CPU   CPU total %     CPU total  CPU time avg    # of Calls  \n",
      "-----------------------------  ------------  ------------  ------------  ------------  ------------  ------------  \n",
      "                 pred_passive        29.34%     313.993ms       100.00%        1.070s        1.070s             1  \n",
      "                    aten::mul        12.92%     138.272ms        13.96%     149.419ms      20.321us          7353  \n",
      "                    aten::add         5.41%      57.939ms        10.03%     107.344ms      25.491us          4211  \n",
      "                     aten::eq         4.78%      51.132ms         7.72%      82.562ms      11.448us          7212  \n",
      "                    aten::sub         6.34%      67.883ms         7.06%      75.495ms      13.975us          5402  \n",
      "                    aten::all         5.31%      56.777ms         6.31%      67.524ms      18.725us          3606  \n",
      "                    aten::erf         5.19%      55.559ms         5.64%      60.303ms      16.751us          3600  \n",
      "                    aten::div         5.12%      54.781ms         5.58%      59.685ms      16.460us          3626  \n",
      "             aten::reciprocal         4.89%      52.293ms         5.34%      57.179ms      15.879us          3601  \n",
      "                     aten::to         2.58%      27.658ms         4.68%      50.094ms      13.620us          3678  \n",
      "-----------------------------  ------------  ------------  ------------  ------------  ------------  ------------  \n",
      "Self CPU time total: 1.070s\n",
      "\n"
     ]
    }
   ],
   "source": [
    "pred, weight = profile_func(x0_inferer.pred_x0, name='pred_passive', profs=cpu_profs, sort=\"cpu_time_total\")"
   ]
  },
  {
   "cell_type": "markdown",
   "metadata": {},
   "source": [
    "## Loss"
   ]
  },
  {
   "cell_type": "code",
   "execution_count": 46,
   "metadata": {},
   "outputs": [],
   "source": [
    "loss_func = DetectorLoss(cost_coef=0)"
   ]
  },
  {
   "cell_type": "code",
   "execution_count": 47,
   "metadata": {},
   "outputs": [
    {
     "name": "stdout",
     "output_type": "stream",
     "text": [
      "-----------------------  ------------  ------------  ------------  ------------  ------------  ------------  \n",
      "                   Name    Self CPU %      Self CPU   CPU total %     CPU total  CPU time avg    # of Calls  \n",
      "-----------------------  ------------  ------------  ------------  ------------  ------------  ------------  \n",
      "              loss_calc        33.75%     723.000us        98.46%       2.109ms       2.109ms             1  \n",
      "              aten::sum         8.59%     184.000us         9.99%     214.000us      23.778us             9  \n",
      "             aten::relu         6.12%     131.000us         9.94%     213.000us      26.625us             8  \n",
      "              aten::pow         7.10%     152.000us         9.76%     209.000us      41.800us             5  \n",
      "               aten::to         4.76%     102.000us         8.45%     181.000us      10.647us            17  \n",
      "              aten::div         4.62%      99.000us         7.98%     171.000us      34.200us             5  \n",
      "              aten::mul         4.58%      98.000us         7.70%     165.000us      33.000us             5  \n",
      "              aten::add         3.97%      85.000us         4.48%      96.000us      12.000us             8  \n",
      "             aten::mean         1.49%      32.000us         4.30%      92.000us      92.000us             1  \n",
      "            aten::expm1         4.11%      88.000us         4.30%      92.000us      23.000us             4  \n",
      "-----------------------  ------------  ------------  ------------  ------------  ------------  ------------  \n",
      "Self CPU time total: 2.142ms\n",
      "\n"
     ]
    }
   ],
   "source": [
    "loss_val = profile_func(partial(loss_func, pred_x0=pred, pred_weight=weight, volume=volume), name='loss_calc', profs=cpu_profs, sort=\"cpu_time_total\")"
   ]
  },
  {
   "cell_type": "code",
   "execution_count": 48,
   "metadata": {},
   "outputs": [
    {
     "name": "stdout",
     "output_type": "stream",
     "text": [
      "-----------------------------------  ------------  ------------  ------------  ------------  ------------  ------------  \n",
      "                               Name    Self CPU %      Self CPU   CPU total %     CPU total  CPU time avg    # of Calls  \n",
      "-----------------------------------  ------------  ------------  ------------  ------------  ------------  ------------  \n",
      "                      loss_backward        17.03%     265.949ms       100.00%        1.562s        1.562s             1  \n",
      "                          aten::mul        20.34%     317.596ms        26.13%     408.142ms      12.714us         32101  \n",
      "                        ErfBackward         4.48%      69.994ms        20.67%     322.820ms      89.672us          3600  \n",
      "                       SubBackward0         2.62%      40.911ms        17.96%     280.481ms      51.816us          5413  \n",
      "                          aten::neg         9.61%     150.045ms        15.35%     239.721ms       9.469us         25316  \n",
      "                      ProdBackward1         2.09%      32.639ms        14.07%     219.792ms     366.320us           600  \n",
      "                       MulBackward0         4.56%      71.164ms        11.11%     173.510ms      23.742us          7308  \n",
      "                 ReciprocalBackward         2.34%      36.614ms         9.39%     146.653ms      40.680us          3605  \n",
      "                          aten::pow         3.73%      58.243ms         5.96%      93.014ms      25.716us          3617  \n",
      "                           aten::to         2.59%      40.508ms         4.68%      73.096ms       5.982us         12219  \n",
      "-----------------------------------  ------------  ------------  ------------  ------------  ------------  ------------  \n",
      "Self CPU time total: 1.562s\n",
      "\n"
     ]
    }
   ],
   "source": [
    "loss_val = profile_func(loss_val.backward, name='loss_backward', profs=cpu_profs, sort=\"cpu_time_total\")"
   ]
  },
  {
   "cell_type": "code",
   "execution_count": 10,
   "metadata": {},
   "outputs": [
    {
     "name": "stdout",
     "output_type": "stream",
     "text": [
      "2.1 s ± 100 ms per loop (mean ± std. dev. of 7 runs, 1 loop each)\n"
     ]
    }
   ],
   "source": [
    "%%timeit\n",
    "muons = MuonBatch(generate_batch(100), init_z=1, device=DEVICE)\n",
    "volume(muons)\n",
    "sb = VoxelScatterBatch(muons, volume)\n",
    "x0_inferer = VoxelX0Inferer(scatters=sb)\n",
    "pred, weight = x0_inferer.pred_x0()\n",
    "loss_func = DetectorLoss(cost_coef=0)\n",
    "loss_val = loss_func(pred_x0=pred, pred_weight=weight, volume=volume)\n",
    "loss_val.backward()"
   ]
  },
  {
   "cell_type": "code",
   "execution_count": 11,
   "metadata": {},
   "outputs": [],
   "source": [
    "passives = PassiveYielder([arb_rad_length])"
   ]
  },
  {
   "cell_type": "code",
   "execution_count": 12,
   "metadata": {},
   "outputs": [],
   "source": [
    "wrapper = VoxelVolumeWrapper(volume,\n",
    "                             res_opt=partial(torch.optim.SGD, lr=2e9),  # Scale of resolution is large, so use high LR\n",
    "                             eff_opt=partial(torch.optim.SGD, lr=2e4),  # Scale of efficiency is [0,1] so use smaller LR\n",
    "                             loss_func=DetectorLoss(cost_coef=None))  # Loss is precision + cost_coef*detector cost, balance coef as required or leave as None to automatically balance on first batch"
   ]
  },
  {
   "cell_type": "code",
   "execution_count": 13,
   "metadata": {},
   "outputs": [
    {
     "data": {
      "text/html": [
       "\n",
       "    <div>\n",
       "        <style>\n",
       "            /* Turns off some styling */\n",
       "            progress {\n",
       "                /* gets rid of default border in Firefox and Opera. */\n",
       "                border: none;\n",
       "                /* Needs to be in here for Safari polyfill so background images work as expected. */\n",
       "                background-size: auto;\n",
       "            }\n",
       "            .progress-bar-interrupted, .progress-bar-interrupted::-webkit-progress-bar {\n",
       "                background: #F44336;\n",
       "            }\n",
       "        </style>\n",
       "      <progress value='1' class='' max='1' style='width:300px; height:20px; vertical-align: middle;'></progress>\n",
       "      100.00% [1/1 00:44<00:00]\n",
       "    </div>\n",
       "    "
      ],
      "text/plain": [
       "<IPython.core.display.HTML object>"
      ]
     },
     "metadata": {},
     "output_type": "display_data"
    }
   ],
   "source": [
    "_ = wrapper.fit(n_epochs=1,\n",
    "                passive_bs=1,\n",
    "                n_mu_per_volume=1000,\n",
    "                mu_bs=100,\n",
    "                trn_passives=passives,\n",
    "                val_passives=passives,\n",
    "                cbs=[])"
   ]
  },
  {
   "cell_type": "code",
   "execution_count": null,
   "metadata": {},
   "outputs": [],
   "source": []
  }
 ],
 "metadata": {
  "kernelspec": {
   "display_name": "Python [conda env:tomopt]",
   "language": "python",
   "name": "conda-env-tomopt-py"
  },
  "language_info": {
   "codemirror_mode": {
    "name": "ipython",
    "version": 3
   },
   "file_extension": ".py",
   "mimetype": "text/x-python",
   "name": "python",
   "nbconvert_exporter": "python",
   "pygments_lexer": "ipython3",
   "version": "3.8.11"
  }
 },
 "nbformat": 4,
 "nbformat_minor": 4
}
