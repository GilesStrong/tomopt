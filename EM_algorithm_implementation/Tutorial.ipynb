{
 "cells": [
  {
   "cell_type": "markdown",
   "metadata": {},
   "source": [
    "### Imports"
   ]
  },
  {
   "cell_type": "code",
   "execution_count": 1,
   "metadata": {},
   "outputs": [],
   "source": [
    "#libraries for plotting in an external window\n",
    "# pip install PyQt5\n",
    "# pip install PyQt6\n",
    "# pip install PySide6\n",
    "# pip install PySide2\n",
    "\n",
    "# The usual suspects\n",
    "import pandas as pd\n",
    "import random\n",
    "import math\n",
    "import torch\n",
    "# Make sure torch.__version__>1.10\n",
    "\n",
    "# Homemade librairies\n",
    "from volume_interest import *\n",
    "from tracking import *\n",
    "from plots import *"
   ]
  },
  {
   "cell_type": "markdown",
   "metadata": {},
   "source": [
    "# Classes tutorial\n",
    "\n",
    "We create several classes to make the implementation of the algorithm easier. In this tutorial we will go through 3 of them:\n",
    "\n",
    "- `volume_interest.py`\n",
    "- `plots.py`\n",
    "- `tracking.py`\n",
    "\n",
    "## 1 - volume_interest.py\n",
    "\n",
    "The **EM algorithm** implementation relies on a **voxelized volume of interest (VOI)**. As its name indicates, the `VolumeOfInterest` class is responsible for the modeling of the volume of interest and its voxelization. \n",
    "\n",
    "### Instanciation\n",
    "\n",
    "When declaring an **instance** of `VolumeOfInterest`, one must provide **3 parameters**:\n",
    "\n",
    "- `low_high_edges`: `([x_low,y_low,z_low], [x_high,y_high,z_high])` in m, representing repectivly the **bottom** and **upper** corner **of the VOI**.\n",
    "\n",
    "\n",
    "- `n_vox_xyz`: `Tuple[int] = [Nx,Ny,Nz]` respectively the **number of voxels** along the x,y and z direction.\n",
    "\n",
    "\n",
    "- `voxel_width`: `float` the **size of a voxel** in m. **Make sure that `(i_high - i_low)/voxel_width = Ni` !!**\n",
    "\n",
    "If these parameters are not provided, default parameters corresponding to standard TomOpt VOI will be used. In case one wants a custom VOI, the `VolumeOfInterest` should be instancieted as follow:"
   ]
  },
  {
   "cell_type": "code",
   "execution_count": 2,
   "metadata": {},
   "outputs": [],
   "source": [
    "# Default VOI instanciation\n",
    "voi = VolumeOfInterest()\n",
    "\n",
    "# Custom VOI instanciation\n",
    "xyz_min = [0, 0, 0.2] # in meters\n",
    "xyz_max = [1, 1, 0.8] # in meters\n",
    "n_vox_xyz = (10,10,6) \n",
    "voxel_width = 0.1 # in meters\n",
    "\n",
    "voi = VolumeOfInterest(low_high_edges = (xyz_min,xyz_max), \n",
    "                       n_vox_xyz = n_vox_xyz,\n",
    "                       voxel_width = voxel_width)"
   ]
  },
  {
   "cell_type": "markdown",
   "metadata": {},
   "source": [
    "### Features\n",
    "\n",
    "The `generate_voxels()` method will **generate a grid of voxels** based on the input parameters provided above, using the `compute_voxel_centers`. Features of the voxelized volume are:\n",
    "\n",
    " - `voxel_centers`: `torch.tensor()` with size `(Nx,Ny,Nz,3)`. It contains the $x,y,z$ position of the center of each voxel. The position of the center of the voxel with indices $ix,iy,iz$ is `voxel_centers[ix,iy,iz]`.\n",
    " \n",
    " \n",
    " \n",
    " - `voxel_edges`: `torch.tensor()` with size `(Nx,Ny,Nz,2,3)`. It contains the $x,y,z$ position of the lower left and upper righ corner of each voxel. The positions of the lower left and upper right corner of the voxel with indices $ix,iy,iz$ are respectively `voxel_centers[ix,iy,iz,0,:]` and `voxel_centers[ix,iy,iz,1,:]`. \n",
    " \n",
    " "
   ]
  },
  {
   "cell_type": "code",
   "execution_count": 3,
   "metadata": {},
   "outputs": [
    {
     "name": "stdout",
     "output_type": "stream",
     "text": [
      "Voxel with indices 0,0,0 is located at x,y,z = [0.05 0.05 0.75]\n",
      "\n",
      "Lower left corner of voxel with indices 0,0,0 \n",
      "is located at x,y,z = [0.  0.  0.7]\n",
      "\n",
      "Upper right corner of voxel with indices 0,0,0 \n",
      "is located at x,y,z = [0.1 0.1 0.8]\n"
     ]
    }
   ],
   "source": [
    "ix,iy,iz = 0,0,0\n",
    "\n",
    "# Voxel centers\n",
    "print('Voxel with indices {},{},{} is located at x,y,z = {}'.format(ix,iy,iz,voi.voxel_centers[ix,iy,iz].numpy()))\n",
    "\n",
    "# Voxel edges\n",
    "print('\\nLower left corner of voxel with indices {},{},{} \\nis located at x,y,z = {}'.format(ix,iy,iz,voi.voxel_edges[ix,iy,iz,0].numpy()))\n",
    "print('\\nUpper right corner of voxel with indices {},{},{} \\nis located at x,y,z = {}'.format(ix,iy,iz,voi.voxel_edges[ix,iy,iz,1].numpy()))"
   ]
  },
  {
   "cell_type": "markdown",
   "metadata": {},
   "source": [
    "Now that the VOI is properly defined, we can have a look at it using the `plot_muon_track()` method (in `plot.py`). This method is designed to plot both the VOI and a given track but if `track` is none it only plots the VOI."
   ]
  },
  {
   "cell_type": "code",
   "execution_count": 4,
   "metadata": {},
   "outputs": [
    {
     "data": {
      "image/png": "[encoded data removed]",
      "text/plain": [
       "<Figure size 1080x360 with 2 Axes>"
      ]
     },
     "metadata": {
      "needs_background": "light"
     },
     "output_type": "display_data"
    }
   ],
   "source": [
    "plot_muon_track(VOI=voi)"
   ]
  },
  {
   "cell_type": "markdown",
   "metadata": {},
   "source": [
    "## 2 - tracking.py \n",
    "\n",
    "The EM algorithm will require the position of a muon every time it enters and exits a voxel. The **`Tracking` class** will handle all the **computations** related to the **tracks** and the **voxel triggering**.\n",
    "\n",
    "### Instanciation\n",
    "\n",
    " - `voi`: An instance of the `VolumeOfInterest` class.\n",
    " \n",
    " - `data`: `pandas.DataFrame`\n",
    " \n",
    "The dataset we use contains the following features: "
   ]
  },
  {
   "cell_type": "code",
   "execution_count": 5,
   "metadata": {},
   "outputs": [
    {
     "name": "stdout",
     "output_type": "stream",
     "text": [
      "Features:\n",
      "Index(['Unnamed: 0', 'theta_xy_in_x', 'theta_xy_in_y', 'theta_xy_in_unc_x',\n",
      "       'theta_xy_in_unc_y', 'theta_xy_out_x', 'theta_xy_out_y',\n",
      "       'theta_xy_out_unc_x', 'theta_xy_out_unc_y', 'xyz_in_x', 'xyz_in_y',\n",
      "       'xyz_in_z', 'xyz_in_unc_x', 'xyz_in_unc_y', 'xyz_in_unc_z', 'xyz_out_x',\n",
      "       'xyz_out_y', 'xyz_out_z', 'xyz_out_unc_x', 'xyz_out_unc_y',\n",
      "       'xyz_out_unc_z', 'mom', 'location_x', 'location_y', 'location_z'],\n",
      "      dtype='object')\n",
      "\n",
      "Voxel triggering: in pogress\n"
     ]
    },
    {
     "data": {
      "text/html": [
       "\n",
       "<style>\n",
       "    /* Turns off some styling */\n",
       "    progress {\n",
       "        /* gets rid of default border in Firefox and Opera. */\n",
       "        border: none;\n",
       "        /* Needs to be in here for Safari polyfill so background images work as expected. */\n",
       "        background-size: auto;\n",
       "    }\n",
       "    progress:not([value]), progress:not([value])::-webkit-progress-bar {\n",
       "        background: repeating-linear-gradient(45deg, #7e7e7e, #7e7e7e 10px, #5c5c5c 10px, #5c5c5c 20px);\n",
       "    }\n",
       "    .progress-bar-interrupted, .progress-bar-interrupted::-webkit-progress-bar {\n",
       "        background: #F44336;\n",
       "    }\n",
       "</style>\n"
      ],
      "text/plain": [
       "<IPython.core.display.HTML object>"
      ]
     },
     "metadata": {},
     "output_type": "display_data"
    },
    {
     "data": {
      "text/html": [
       "\n",
       "    <div>\n",
       "      <progress value='9980' class='' max='9980' style='width:300px; height:20px; vertical-align: middle;'></progress>\n",
       "      100.00% [9980/9980 00:06&lt;00:00]\n",
       "    </div>\n",
       "    "
      ],
      "text/plain": [
       "<IPython.core.display.HTML object>"
      ]
     },
     "metadata": {},
     "output_type": "display_data"
    },
    {
     "name": "stdout",
     "output_type": "stream",
     "text": [
      "\n",
      "Voxel triggering: DONE\n"
     ]
    }
   ],
   "source": [
    "data = pd.read_csv('10000muons_10000resolution_z5z6lead_5_5_POCA_1.csv')\n",
    "print('Features:')\n",
    "print(data.columns)\n",
    "\n",
    "myTracks=Tracking(voi,data)"
   ]
  },
  {
   "cell_type": "markdown",
   "metadata": {},
   "source": [
    "### Features\n",
    "\n",
    "For now, only 2 features are computed:\n",
    "\n",
    "- `tracks`: `torch.tensor` with size `[3,VOI.n_vox_xyz[2]+1,Nevent]`. It contains the muon position ($x,y,z$) when entering/exiting a layer of voxel along z. Computed by the `compute_discrete_tracks()` method.\n",
    "\n",
    "\n",
    "\n",
    "- `triggered_voxels`: `list` with length `Nevent`. Each element of the list is a `torch.tensor` with size `[N,3]` where `N` is the number of triggered voxels of the given event."
   ]
  },
  {
   "cell_type": "code",
   "execution_count": 6,
   "metadata": {},
   "outputs": [
    {
     "name": "stdout",
     "output_type": "stream",
     "text": [
      "\n",
      "Muon #0 enters voxel layer 0 at x,y,z = 0.9046624981099218,0.9242213047844551,0.800000011920929\n",
      "\n",
      "Muon #0 exits voxel layer 0 at x,y,z = 0.9173465996667721,0.8921133675101842,0.699999988079071\n",
      "\n",
      "Muon #0 triggers voxels with indices:\n",
      " [[9. 7. 2.]\n",
      " [9. 7. 3.]\n",
      " [9. 7. 4.]\n",
      " [9. 7. 5.]\n",
      " [9. 8. 0.]\n",
      " [9. 8. 1.]\n",
      " [9. 8. 2.]\n",
      " [9. 8. 3.]\n",
      " [9. 8. 4.]\n",
      " [9. 9. 0.]\n",
      " [9. 9. 1.]]\n"
     ]
    }
   ],
   "source": [
    "# tracks\n",
    "layer = 0\n",
    "event = 0\n",
    "print('\\nMuon #{} enters voxel layer {} at x,y,z = {},{},{}'.format(event,\n",
    "                                                                 layer,\n",
    "                                                                 myTracks.tracks[0,layer,event].numpy(),\n",
    "                                                                 myTracks.tracks[1,layer,event].numpy(),\n",
    "                                                                 myTracks.tracks[2,layer,event].numpy()))\n",
    "print('\\nMuon #{} exits voxel layer {} at x,y,z = {},{},{}'.format(event,\n",
    "                                                                 layer,\n",
    "                                                                 myTracks.tracks[0,layer+1,event].numpy(),\n",
    "                                                                 myTracks.tracks[1,layer+1,event].numpy(),\n",
    "                                                                 myTracks.tracks[2,layer+1,event].numpy()))\n",
    "\n",
    "# triggered_voxels\n",
    "print('\\nMuon #{} triggers voxels with indices:\\n {}'.format(event, myTracks.triggered_voxels[event].numpy()))"
   ]
  },
  {
   "cell_type": "markdown",
   "metadata": {},
   "source": [
    "We can know plot above's features using the `plot_muon_track()`, `plot_discrete_track_2d()` and `plot_discrete_track_3d()` functions from plot.py.\n",
    "\n",
    "The plots.py file contains functions for visualizing the muon trajectory and triggered voxels inside the volume of interest (VOI) in 2- and 3-dimensional orientations.\n",
    "\n",
    "### Functions\n",
    "\n",
    " - `plot_muon_track`: Plots only the muon trjectory within the VOI.\n",
    " \n",
    " - `plot_discrete_track_2d`: 2D visualization of muon trajectories and triggered voxels within the VOI.\n",
    " \n",
    " - `plot_discrete_track_3d`: 3D visualization of muon trajectories and triggered voxels within the VOI.\n",
    " \n",
    "These functions have the same following input parameters:\n",
    "\n",
    "- `VOI`: instance of the VolumeOfInterest class\n",
    "\n",
    "- `tracking`: instance of the Tracking class\n",
    "\n",
    "- `event`: event number\n"
   ]
  },
  {
   "cell_type": "code",
   "execution_count": 7,
   "metadata": {},
   "outputs": [
    {
     "data": {
      "image/png": "[encoded data removed]",
      "text/plain": [
       "<Figure size 1080x360 with 2 Axes>"
      ]
     },
     "metadata": {
      "needs_background": "light"
     },
     "output_type": "display_data"
    }
   ],
   "source": [
    "plot_discrete_track_2d(VOI=voi, tracking=myTracks, event = event)"
   ]
  },
  {
   "cell_type": "code",
   "execution_count": 9,
   "metadata": {},
   "outputs": [
    {
     "name": "stderr",
     "output_type": "stream",
     "text": [
      "ERROR:tornado.application:Exception in callback functools.partial(<function Kernel.enter_eventloop.<locals>.advance_eventloop at 0x7ffa21214790>)\n",
      "Traceback (most recent call last):\n",
      "  File \"/home/geant/miniforge3/lib/python3.9/site-packages/tornado/ioloop.py\", line 741, in _run_callback\n",
      "    ret = callback()\n",
      "  File \"/home/geant/miniforge3/lib/python3.9/site-packages/ipykernel/kernelbase.py\", line 402, in advance_eventloop\n",
      "    eventloop(self)\n",
      "  File \"/home/geant/miniforge3/lib/python3.9/site-packages/ipykernel/eventloops.py\", line 128, in loop_qt5\n",
      "    return loop_qt4(kernel)\n",
      "  File \"/home/geant/miniforge3/lib/python3.9/site-packages/ipykernel/eventloops.py\", line 119, in loop_qt4\n",
      "    _notify_stream_qt(kernel, kernel.shell_stream)\n",
      "  File \"/home/geant/miniforge3/lib/python3.9/site-packages/ipykernel/eventloops.py\", line 40, in _notify_stream_qt\n",
      "    notifier = QtCore.QSocketNotifier(fd, QtCore.QSocketNotifier.Read, kernel.app)\n",
      "AttributeError: type object 'QSocketNotifier' has no attribute 'Read'\n"
     ]
    }
   ],
   "source": [
    "#viewing plot in an external window and rotating the VOI\n",
    "%matplotlib qt \n",
    "plot_discrete_track_3d(VOI=voi, tracking=myTracks)"
   ]
  }
 ],
 "metadata": {
  "colab": {
   "provenance": []
  },
  "kernelspec": {
   "display_name": "Python 3 (ipykernel)",
   "language": "python",
   "name": "python3"
  },
  "language_info": {
   "codemirror_mode": {
    "name": "ipython",
    "version": 3
   },
   "file_extension": ".py",
   "mimetype": "text/x-python",
   "name": "python",
   "nbconvert_exporter": "python",
   "pygments_lexer": "ipython3",
   "version": "3.9.7"
  }
 },
 "nbformat": 4,
 "nbformat_minor": 1
}
